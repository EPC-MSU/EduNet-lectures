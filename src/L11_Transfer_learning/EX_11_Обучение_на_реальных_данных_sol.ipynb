{
 "cells": [
  {
   "cell_type": "markdown",
   "metadata": {
    "id": "GInuTprfv0np"
   },
   "source": [
    "## 1. Augmentation\n"
   ]
  },
  {
   "cell_type": "markdown",
   "metadata": {
    "id": "fa42kdcwwBnT"
   },
   "source": [
    "Проведите эксперимент: обучите ResNet на Cifar10 без аугментации и с аугментацией. Сделайте выводы\n",
    "\n",
    "[How Data Augmentation Improves your CNN performance? — An Experiment in PyTorch and Torchvision](https://medium.com/swlh/how-data-augmentation-improves-your-cnn-performance-an-experiment-in-pytorch-and-torchvision-e5fb36d038fb)\n",
    "\n",
    "Возможные трансформации можно взять в руководстве [TORCHVISION.TRANSFORMS](https://pytorch.org/vision/stable/transforms.html?highlight=augmentation%20examples)"
   ]
  },
  {
   "cell_type": "markdown",
   "metadata": {
    "id": "89aGPg9bv4eX"
   },
   "source": [
    "## Transfer Learning"
   ]
  },
  {
   "cell_type": "markdown",
   "metadata": {
    "id": "haU_6Ivt1rTr"
   },
   "source": [
    "Вам предлагается реализовать Transfer Learning для ResNet18\n",
    "https://pytorch.org/tutorials/beginner/transfer_learning_tutorial.html\n",
    "\n",
    "- обьяснить работу шедулера `Decay LR by a factor of 0.1 every 7 epochs`\n",
    "\n",
    "exp_lr_scheduler = lr_scheduler.StepLR(optimizer_conv, step_size=7, gamma=0.1)\n",
    "\n",
    "- обучить без аугментации и с ней\n",
    "\n",
    "`Data augmentation and normalization for training`\n",
    "\n",
    "`Just normalization for validation`\n",
    "\n",
    "data_transforms = {\n",
    "    'train': transforms.Compose(["
   ]
  },
  {
   "cell_type": "markdown",
   "metadata": {
    "id": "CP4oWYuNv7gq"
   },
   "source": [
    "## One-Shot Learning\n",
    "Необходимо обучить сиамскую можель распознават подписи из [kaggle signature verification dataset](https://www.kaggle.com/robinreni/signature-verification-dataset)\n",
    "\n",
    "[Do More With Less Data! — One-shot Learning with Siamese Neural Networks](https://medium.com/sfu-cspmp/do-more-with-less-data-one-shot-learning-with-siamese-neural-networks-760357a2f5cc) - подписи\n",
    "\n",
    "[SigNet: Convolutional Siamese Network for Writer Independent Offline Signature Verification](https://arxiv.org/pdf/1707.02131.pdf)\n",
    "\n",
    "[Siamese-Network-for-Signature-Verification](https://github.com/gskdhiman/Siamese-Network-for-Signature-Verification/blob/master/siamese-network-for-signature-verification.ipynb)"
   ]
  },
  {
   "cell_type": "markdown",
   "metadata": {
    "id": "i_ph-U16SkUG"
   },
   "source": [
    "<img src =\"http://edunet.kea.su/repo/src/L11_Transfer_learning/img/EX2.png\" width=\"700\">"
   ]
  },
  {
   "cell_type": "markdown",
   "metadata": {
    "id": "jCw233eeTHF5"
   },
   "source": [
    "<img src =\"http://edunet.kea.su/repo/src/L11_Transfer_learning/img/EX1.png\" width=\"700\">"
   ]
  }
 ],
 "metadata": {
  "colab": {
   "collapsed_sections": [],
   "name": "EX_11_Обучение на реальных данных_sol.ipynb",
   "provenance": []
  },
  "kernelspec": {
   "display_name": "Python 3",
   "language": "python",
   "name": "python3"
  },
  "language_info": {
   "codemirror_mode": {
    "name": "ipython",
    "version": 3
   },
   "file_extension": ".py",
   "mimetype": "text/x-python",
   "name": "python",
   "nbconvert_exporter": "python",
   "pygments_lexer": "ipython3",
   "version": "3.6.8"
  }
 },
 "nbformat": 4,
 "nbformat_minor": 1
}
