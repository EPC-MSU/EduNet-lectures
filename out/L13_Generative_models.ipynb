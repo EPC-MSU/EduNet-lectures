{
 "cells": [
  {
   "cell_type": "markdown",
   "metadata": {},
   "source": [
    "<font size=\"6\">Генеративные модели</font>"
   ]
  },
  {
   "cell_type": "markdown",
   "metadata": {},
   "source": [
    "# Общий взгляд на генеративные алгоритмы"
   ]
  },
  {
   "cell_type": "markdown",
   "metadata": {},
   "source": [
    "## Задача генерации"
   ]
  },
  {
   "cell_type": "markdown",
   "metadata": {},
   "source": [
    "Ранее мы в основном работали с **размеченными** данными. Мы научили нейронные сети решать задачи классификации, регрессии, сегментации и т. д. На входе модели у нас были исходные данные, по которым мы учились предсказывать целевые значения (метки классов, действительные числа, маски сегментации и т. д.):\n",
    "\n",
    "$$\\large \\text{Входные данные} \\xrightarrow[\\text{}]{\\text{Модель}} \\text{Целевые значения}$$\n",
    "\n",
    "Математически это можно записать так:\n",
    "\n",
    "$$\\large X \\xrightarrow[\\text{}]{f_{θ}(x)} Y ,$$\n",
    "где $X$ — множество входных данных, $Y$ — множество целевых значений, $f_{θ}(x)$ — модель с настраиваемыми параметрами $θ$.\n",
    "\n",
    "По сути наша модель — это сложная функция, которая ставит в соответствие каждому объекту $x$ из множества входных данных $X$ целевое значение $y$ из множества выходных данных $Y$:\n",
    "$$\\large y = f_{θ}(x)$$\n"
   ]
  },
  {
   "cell_type": "markdown",
   "metadata": {},
   "source": [
    "С задачей генерации дела обстоят сложнее, ведь в задаче генерации мы хотим научить модель генерировать объекты, которых не было в исходной выборке.\n",
    "\n",
    "**Постановка задачи генерации**\n",
    "\n",
    "**Дано**: данные, часто неразмеченные.\n",
    "\n",
    "**Результат генерации**: новые данные, которые будут удовлетворять следующим условиям:\n",
    "* Новые данные **похожи** на исходные.\n",
    "* Новые данные **не повторяют** исходные.\n",
    "\n",
    "**Вход модели**: ❓\n",
    "\n",
    "**Дополнительно:**\n",
    "* Важен **элемент случайности**: результат генерации не повторяется при разных запусках."
   ]
  },
  {
   "cell_type": "markdown",
   "metadata": {},
   "source": [
    "Итого не очень понятно, **что должно подаваться на вход модели** и как обеспечить элемент случайности. В большинстве моделей генерации в качестве входных данных для модели используют **гауссовский или равномерный шум.**\n",
    "\n",
    "$$\\large \\text{Шум} \\xrightarrow[\\text{}]{\\text{Модель генерации}} \\text{Сгенерированный объект}$$"
   ]
  },
  {
   "cell_type": "markdown",
   "metadata": {},
   "source": [
    "<center><img src =\"https://edunet.kea.su/repo/EduNet-content/dev-2.1/L13/out/generator_model_pipeline.png\" width=\"500\"></center>"
   ]
  },
  {
   "cell_type": "markdown",
   "metadata": {},
   "source": [
    "Математически это можно записать так:\n",
    "\n",
    "$$\\large Z \\xrightarrow[\\text{}]{g_{θ}(z)} X, $$\n",
    "где $Z$ — хорошо изученное множество (например, нормальное гауссово распределение), из которого мы умеем семплировать объекты, $X$ — множество всех возможных объектов с неизвестным распределением или известным распределением, из которого мы не умеем семплировать.\n",
    "\n",
    "По сути модель генерации — это сложная функция, которая ставит в соответствие выборке из известного распределения $z$ объект из целевого распределения $x$:\n",
    "$$\\large x = g_{θ}(z)$$\n"
   ]
  },
  {
   "cell_type": "markdown",
   "metadata": {},
   "source": [
    "<center><img src =\"https://edunet.kea.su/repo/EduNet-content/dev-2.1/L13/out/generative_models.png\" width=\"700\"></center>"
   ]
  },
  {
   "cell_type": "markdown",
   "metadata": {},
   "source": [
    "## Простейший пример: генерация объектов из нормального распределения"
   ]
  },
  {
   "cell_type": "markdown",
   "metadata": {},
   "source": [
    "Чтобы обеспечить воспроизводимость примеров, зафиксируем начальные значения генераторов случайных чисел:"
   ]
  },
  {
   "cell_type": "code",
   "execution_count": null,
   "metadata": {},
   "outputs": [],
   "source": [
    "import torch\n",
    "import random\n",
    "import numpy as np\n",
    "\n",
    "\n",
    "def set_random_seed(seed):\n",
    "    torch.manual_seed(seed)\n",
    "    torch.cuda.manual_seed(seed)\n",
    "    np.random.seed(seed)\n",
    "    random.seed(seed)\n",
    "\n",
    "\n",
    "set_random_seed(42)"
   ]
  },
  {
   "cell_type": "markdown",
   "metadata": {},
   "source": [
    "Предположим, у нас под рукой есть генератор случайных чисел, который позволяет нам легко получить случайные числа в диапазоне $[0,1]$:"
   ]
  },
  {
   "cell_type": "code",
   "execution_count": null,
   "metadata": {},
   "outputs": [],
   "source": [
    "import pandas as pd\n",
    "import seaborn as sns\n",
    "import matplotlib.pyplot as plt\n",
    "\n",
    "u1 = np.random.uniform(size=1000)\n",
    "u2 = np.random.uniform(size=1000)\n",
    "\n",
    "data = pd.DataFrame.from_dict(dict(zip([\"U1\", \"U2\"], [u1, u2])))\n",
    "\n",
    "sns.jointplot(data=data, x=\"U1\", y=\"U2\")\n",
    "plt.show()"
   ]
  },
  {
   "cell_type": "markdown",
   "metadata": {},
   "source": [
    "Пусть $U_i$ — точка, которую даёт нам генератор равномерно распределенных случайных чисел. Если мы возьмём пару таких точек $U_1$, $U_2$ и произведём с ними так называемое [преобразование Бокса-Мюллера 📚[wiki]](https://en.wikipedia.org/wiki/Box%E2%80%93Muller_transform), то получим пару новых точек $X$ и $Y$ на вещественной прямой:"
   ]
  },
  {
   "cell_type": "markdown",
   "metadata": {},
   "source": [
    "$$\n",
    "\\begin{array}{l}\n",
    "X=\\sqrt{-2 \\log U_{1}} \\cos \\left(2 \\pi U_{2}\\right) \\\\\n",
    "Y=\\sqrt{-2 \\log U_{1}} \\sin \\left(2 \\pi U_{2}\\right)\n",
    "\\end{array}\n",
    "$$"
   ]
  },
  {
   "cell_type": "markdown",
   "metadata": {},
   "source": [
    "Повторив такую процедуру для большого числа точек $U_i$, можно заметить, что распределение для объектов $X$ и $Y$ становится похожим на стандартное нормальное:"
   ]
  },
  {
   "cell_type": "code",
   "execution_count": null,
   "metadata": {},
   "outputs": [],
   "source": [
    "r = np.sqrt(-2 * np.log(u1))\n",
    "theta = 2 * np.pi * u2\n",
    "\n",
    "x = r * np.cos(theta)\n",
    "y = r * np.sin(theta)\n",
    "\n",
    "data[\"X\"] = x\n",
    "data[\"Y\"] = y\n",
    "\n",
    "sns.jointplot(data=data, x=\"X\", y=\"Y\")\n",
    "plt.show()"
   ]
  },
  {
   "cell_type": "markdown",
   "metadata": {},
   "source": [
    "На самом деле мы можем в точности доказать, что преобразование Бокса-Мюллера преобразовало исходное равномерное распределение в стандартное нормальное.\n",
    "[Доказательство 📚[book]](https://mathworld.wolfram.com/Box-MullerTransformation.html).\n",
    "\n",
    "Можно раскрасить точки выборки и посмотреть, как именно они преобразуются:"
   ]
  },
  {
   "cell_type": "code",
   "execution_count": null,
   "metadata": {},
   "outputs": [],
   "source": [
    "color = np.sqrt(u1 * u1 + u2 * u2)  # for visualization\n",
    "color = color / color.max()\n",
    "data[\"color\"] = color\n",
    "\n",
    "f, ax = plt.subplots(1, 2, figsize=(14, 6))\n",
    "\n",
    "cmap = sns.color_palette(\"Spectral\", as_cmap=True)\n",
    "sns.scatterplot(\n",
    "    data=data,\n",
    "    x=\"U1\",\n",
    "    y=\"U2\",\n",
    "    hue=\"color\",\n",
    "    palette=cmap,\n",
    "    ax=ax[0],\n",
    "    legend=False,\n",
    ")\n",
    "sns.scatterplot(\n",
    "    data=data, x=\"X\", y=\"Y\", hue=\"color\", palette=cmap, ax=ax[1], legend=False\n",
    ")\n",
    "plt.show()"
   ]
  },
  {
   "cell_type": "markdown",
   "metadata": {},
   "source": [
    "Что делать, если нам хочется сгенерировать объекты не в стандартном нормальном распределении, а в каком-то более сложном? В общем случае нам необходимо подобрать некоторую функцию, которая будет отображать объекты из известного \"простого\" распределения в \"целевое\". Осуществляющие такое преобразование функции будем называть **генеративными моделями**."
   ]
  },
  {
   "cell_type": "markdown",
   "metadata": {},
   "source": [
    "Если целевое распределение $\\mathcal{F}[\\vec {x}]$ известно аналитически, то для подбора такой функции можно воспользоваться различными модификациями алгоритма [Markov Chain Monte Carlo 📚[wiki]](https://en.wikipedia.org/wiki/Markov_chain_Monte_Carlo)."
   ]
  },
  {
   "cell_type": "markdown",
   "metadata": {},
   "source": [
    "# Генеративные алгоритмы, основанные на глубоком обучении"
   ]
  },
  {
   "cell_type": "markdown",
   "metadata": {},
   "source": [
    "[[video] 📺 Behind the Scenes of GANs, VAEs and Flow-based Generative Models](https://youtu.be/szQHWHNVv18?si=tNUAFkFp9TdyUZdx)\n",
    "\n",
    "Существует четыре основных типа алгоритмов генерации, основанных на глубоком обучении:\n",
    "* **VAE** — был подробно рассмотрен на предыдущей лекции,\n",
    "* **GAN** и **диффузионные модели** — мы рассмотрим сегодня,\n",
    "* **flow-based** модели — с ними можно ознакомиться [самостоятельно ✏️[blog]](https://lilianweng.github.io/posts/2018-10-13-flow-models/)."
   ]
  },
  {
   "cell_type": "markdown",
   "metadata": {},
   "source": [
    "<center><img src =\"https://edunet.kea.su/repo/EduNet-content/dev-2.1/L13/out/deep_generative_models.png\" width=\"700\"></center>"
   ]
  },
  {
   "cell_type": "markdown",
   "metadata": {},
   "source": [
    "# Введение  в генеративно-состязательные нейронные сети GAN"
   ]
  },
  {
   "cell_type": "markdown",
   "metadata": {},
   "source": [
    "[[demo] 🎮 Множество примеров различных генераторов GAN](https://thisxdoesnotexist.com)\n"
   ]
  },
  {
   "cell_type": "markdown",
   "metadata": {},
   "source": [
    "## Вход модели (latent space)"
   ]
  },
  {
   "cell_type": "markdown",
   "metadata": {},
   "source": [
    "В качестве входа модели используют **вектор независимых случайных величин**.\n",
    "\n",
    "Входной вектор можно рассматривать как **признаки генерируемых объектов**. Если мы будем передавать только одно случайное число, то генерация будет однообразной. Чем больше признаков (степеней свободы) у входного вектора, тем потенциально разнообразнее может быть результат генерации."
   ]
  },
  {
   "cell_type": "markdown",
   "metadata": {},
   "source": [
    "Пространство, из которого семплируются входные векторы, называется **latent space** — так же, как и скрытое пространство в автоэнкодерах.\n",
    "\n",
    "Нужно понимать различие: в автоэнкодерах распределение векторов в скрытом пространстве формируется энкодером (хотя мы можем управлять им с помощью регуляризации), а в GAN и диффузионных моделях — задается фиксированным. Поэтому в литературе также встречается вариант \"predefined latent space\"."
   ]
  },
  {
   "cell_type": "markdown",
   "metadata": {},
   "source": [
    "### Распределение векторов в латентном пространстве"
   ]
  },
  {
   "cell_type": "markdown",
   "metadata": {},
   "source": [
    "Как мы уже знаем, инициализация весов и нормализация входных данных улучшают сходимость обучения. Поэтому для латентного пространства обычно используют **многомерное стандартное нормальное распределение**:\n",
    "\n",
    "$$Z \\sim \\mathcal{N}(\\mathbf{0}, \\mathbf{I})$$"
   ]
  },
  {
   "cell_type": "markdown",
   "metadata": {},
   "source": [
    "Можно рассчитывать, что после обучения при перемещении по латентному пространству свойства генерируемых объектов будут плавно меняться."
   ]
  },
  {
   "cell_type": "markdown",
   "metadata": {},
   "source": [
    "<center><img src =\"https://edunet.kea.su/repo/EduNet-web_dependencies/dev-2.1/L13/input_latent_space_lin_interpol.png\" width=\"400\"></center>\n",
    "\n",
    "<center><em>Линейные интерполяции между четырьмя изображениями в латентном пространстве</em></center>\n",
    "\n",
    "<center><em>Source: <a href=\"https://arxiv.org/abs/1803.09093\">Comparing Generative Adversarial Network Techniques for Image Creation and Modification (M. Pieters, M. Wiering, 2018)</a></em></center>"
   ]
  },
  {
   "cell_type": "markdown",
   "metadata": {},
   "source": [
    "## Наивный подход в решении задачи генерации"
   ]
  },
  {
   "cell_type": "markdown",
   "metadata": {},
   "source": [
    "В этой лекции мы будем использовать `lightning` для обучения и `tbparse` для визуализации логов."
   ]
  },
  {
   "cell_type": "code",
   "execution_count": null,
   "metadata": {},
   "outputs": [],
   "source": [
    "from IPython.display import clear_output\n",
    "\n",
    "!pip install -q --upgrade diffusers transformers accelerate\n",
    "!pip install -q torchmetrics[image]\n",
    "!pip install -q lightning tbparse\n",
    "\n",
    "clear_output()"
   ]
  },
  {
   "cell_type": "markdown",
   "metadata": {},
   "source": [
    "Чтобы обеспечить воспроизводимость примеров, зафиксируем начальные значения генераторов случайных чисел:"
   ]
  },
  {
   "cell_type": "code",
   "execution_count": null,
   "metadata": {},
   "outputs": [],
   "source": [
    "import torch\n",
    "import random\n",
    "import numpy as np\n",
    "\n",
    "\n",
    "def set_random_seed(seed):\n",
    "    torch.manual_seed(seed)\n",
    "    torch.cuda.manual_seed(seed)\n",
    "    np.random.seed(seed)\n",
    "    random.seed(seed)\n",
    "\n",
    "\n",
    "set_random_seed(42)"
   ]
  },
  {
   "cell_type": "markdown",
   "metadata": {},
   "source": [
    "Попробуем собрать **генератор точек неизвестной функции**. В качестве функции будем использовать **параболу**. Для начала напишем код, который будет создавать **истинные точки**:"
   ]
  },
  {
   "cell_type": "code",
   "execution_count": null,
   "metadata": {},
   "outputs": [],
   "source": [
    "import numpy as np\n",
    "import matplotlib.pyplot as plt\n",
    "\n",
    "\n",
    "def create_pair(num=100):\n",
    "    x = np.random.uniform(low=-1, high=1, size=(num,))\n",
    "    y = x * x\n",
    "    return np.hstack(\n",
    "        (x.reshape(-1, 1), y.reshape(-1, 1))\n",
    "    )  # Create num of correct dots(x,y) on parabola\n",
    "\n",
    "\n",
    "pairs = create_pair(100)\n",
    "plt.figure(figsize=(12, 3))\n",
    "plt.scatter(pairs[:, 0], pairs[:, 1])\n",
    "plt.grid()\n",
    "plt.title(\"Random dots on parabola,\\nwhich is used like a dataset.\")\n",
    "plt.show()"
   ]
  },
  {
   "cell_type": "markdown",
   "metadata": {},
   "source": [
    "Напишем датасет, который будет выдавать случайный шумовой вектор входного латентного пространства размерностью `ls = 1` и истинные объекты.\n",
    "Мы заранее создаем в функции  `__init__` точки, которые будем считать истинными."
   ]
  },
  {
   "cell_type": "code",
   "execution_count": null,
   "metadata": {},
   "outputs": [],
   "source": [
    "import torch\n",
    "from torch.utils.data import DataLoader, Dataset\n",
    "\n",
    "\n",
    "# Define input parameters\n",
    "n_batches = 30\n",
    "batch_size = 128\n",
    "ls = 1  # latent space\n",
    "\n",
    "\n",
    "class ParabolaDS(Dataset):\n",
    "    def __init__(self, n_batches, batch_size, ls):\n",
    "        # create ground true item\n",
    "        self.xy_pair = torch.tensor(\n",
    "            create_pair(num=(n_batches * batch_size)), dtype=torch.float\n",
    "        )\n",
    "        self.ls = ls\n",
    "\n",
    "    def __len__(self):\n",
    "        return self.xy_pair.shape[0]\n",
    "\n",
    "    def __getitem__(self, idx):\n",
    "        # get ground true item\n",
    "        item = self.xy_pair[idx]\n",
    "        # generate random noise\n",
    "        noise = torch.randn(self.ls, dtype=torch.float)\n",
    "        return item, noise\n",
    "\n",
    "\n",
    "trainset = ParabolaDS(n_batches, batch_size, ls)\n",
    "train_loader = DataLoader(trainset, batch_size=batch_size, shuffle=True, num_workers=2)"
   ]
  },
  {
   "cell_type": "markdown",
   "metadata": {},
   "source": [
    "Определим простую модель, которая будет ожидать шум на входе и генерировать точки на выходе. Обратите внимание, что функция активации на последнем слое отсутствует, поскольку мы не ограничиваем наш генератор каким-то диапазоном."
   ]
  },
  {
   "cell_type": "code",
   "execution_count": null,
   "metadata": {},
   "outputs": [],
   "source": [
    "import torch.nn as nn\n",
    "\n",
    "\n",
    "class Generator(nn.Module):\n",
    "    def __init__(self, latent_space, hidden_dim=50):\n",
    "        super().__init__()\n",
    "        self.model = nn.Sequential(\n",
    "            nn.Linear(latent_space, hidden_dim),\n",
    "            nn.ReLU(),\n",
    "            nn.Linear(hidden_dim, hidden_dim),\n",
    "            nn.ReLU(),\n",
    "            nn.Linear(hidden_dim, 2),\n",
    "        )  # x,y\n",
    "\n",
    "    def forward(self, x):\n",
    "        return self.model(x)"
   ]
  },
  {
   "cell_type": "markdown",
   "metadata": {},
   "source": [
    "Напишем функцию для оценки качества работы модели.\n",
    "\n",
    "Так как мы не знаем, в каком месте параболы генератор создаст новую точку, то непонятно, с каким элементом из датасета ее сравнивать."
   ]
  },
  {
   "cell_type": "markdown",
   "metadata": {},
   "source": [
    "**Вариант №1 (задача уже решена)**\n",
    "\n",
    "Для сгенерированного $x$ аналитически вычислять $y_{\\text{target}}=x*x$ и считать разницу между $y$, сгенерированным моделью, и $y_{\\text{target}}$, вычисленным аналитически:"
   ]
  },
  {
   "cell_type": "code",
   "execution_count": null,
   "metadata": {},
   "outputs": [],
   "source": [
    "def custom_loss(pair, label):\n",
    "    # All inputs are batches\n",
    "    x_fake = pair[:, 0]\n",
    "    y_fake = pair[:, 1]\n",
    "    return torch.abs(x_fake * x_fake - y_fake).mean()  # average by batch"
   ]
  },
  {
   "cell_type": "markdown",
   "metadata": {},
   "source": [
    "Это будет работать.\n",
    "\n",
    "Однако если мы **знаем способ точно предсказать выход по входу**, то **задача уже решена** и нейронная сеть не нужна."
   ]
  },
  {
   "cell_type": "markdown",
   "metadata": {},
   "source": [
    "**Вариант №2 (как не надо делать)**\n",
    "\n",
    "Найти в датасете точку  $ \\text{target} = (x_{\\text{target}},y_{\\text{target}})$, наиболее близкую к созданной генератором $ \\text{generated} = (x,y)$, и использовать расстояние между этими точками в качестве функции потерь.\n",
    "\n",
    "$$\\large \\text{Loss} = \\min(\\text{dist}(\\text{target}_{i},\\text{generated}))$$\n",
    "\n",
    "\n",
    "**В пространстве высокой размерности** такой поиск будет весьма **ресурсозатратным**, но в нашем учебном примере работать будет.\n"
   ]
  },
  {
   "cell_type": "code",
   "execution_count": null,
   "metadata": {},
   "outputs": [],
   "source": [
    "class Loss(nn.Module):\n",
    "    def __init__(self, targets):\n",
    "        super().__init__()\n",
    "        self.targets = targets  # Remember all real samples, impossible in real world\n",
    "\n",
    "    def forward(self, input, dummy_target=None):\n",
    "        dist = torch.cdist(input, self.targets)  # claculate pairwise distances (euc.)\n",
    "        min_dist, index = torch.min(dist, dim=1)  # take the best\n",
    "        return min_dist.mean()"
   ]
  },
  {
   "cell_type": "markdown",
   "metadata": {},
   "source": [
    "Основной код обучения:"
   ]
  },
  {
   "cell_type": "code",
   "execution_count": null,
   "metadata": {},
   "outputs": [],
   "source": [
    "import lightning as L\n",
    "\n",
    "# DON'T USE IT! IT'S NAIVE DECISION!\n",
    "\n",
    "\n",
    "class NaiveGeneration(L.LightningModule):\n",
    "    def __init__(self, model, criterion):\n",
    "        super().__init__()\n",
    "        self.model = model\n",
    "        self.criterion = criterion\n",
    "\n",
    "    def configure_optimizers(self):\n",
    "        self.criterion.targets = self.criterion.targets.to(\n",
    "            self.device\n",
    "        )  # for fix device diff\n",
    "        optimizer = torch.optim.Adam(self.model.parameters(), lr=1e-3)\n",
    "        return optimizer\n",
    "\n",
    "    def training_step(self, batch, batch_idx):\n",
    "        real_items, noises = batch\n",
    "        gen_items = self.model(noises)\n",
    "        loss = self.criterion(gen_items, real_items)\n",
    "        self.log(\"loss/train\", loss, on_epoch=True, on_step=False)\n",
    "        return loss"
   ]
  },
  {
   "cell_type": "markdown",
   "metadata": {},
   "source": [
    "Целевые точки из датасета запоминаются в `loss`, затем идет обычный цикл обучения:"
   ]
  },
  {
   "cell_type": "code",
   "execution_count": null,
   "metadata": {},
   "outputs": [],
   "source": [
    "!mkdir log_naive/\n",
    "!mkdir log_naive/lightning_logs"
   ]
  },
  {
   "cell_type": "code",
   "execution_count": null,
   "metadata": {},
   "outputs": [],
   "source": [
    "from warnings import simplefilter\n",
    "\n",
    "simplefilter(\"ignore\", category=RuntimeWarning)\n",
    "\n",
    "num_epochs = 10\n",
    "\n",
    "criterion = Loss(trainset.xy_pair)  # save target\n",
    "model = Generator(latent_space=ls)\n",
    "\n",
    "pl_model = NaiveGeneration(model, criterion)\n",
    "trainer = L.Trainer(\n",
    "    max_epochs=num_epochs,\n",
    "    logger=L.pytorch.loggers.TensorBoardLogger(save_dir=\"./log_naive/\"),\n",
    "    log_every_n_steps=10,\n",
    ")\n",
    "\n",
    "trainer.fit(\n",
    "    model=pl_model,\n",
    "    train_dataloaders=train_loader,\n",
    ")"
   ]
  },
  {
   "cell_type": "markdown",
   "metadata": {},
   "source": [
    "Посмотрим, куда были сохранены логи:"
   ]
  },
  {
   "cell_type": "code",
   "execution_count": null,
   "metadata": {},
   "outputs": [],
   "source": [
    "log_dir = pl_model.logger.log_dir\n",
    "log_dir"
   ]
  },
  {
   "cell_type": "markdown",
   "metadata": {},
   "source": [
    "Визуализируем кривую обучения, чтобы удостовериться, что модель учится:"
   ]
  },
  {
   "cell_type": "code",
   "execution_count": null,
   "metadata": {},
   "outputs": [],
   "source": [
    "from tbparse import SummaryReader\n",
    "\n",
    "\n",
    "def tbparse_visual(log_dir, figsize=(12, 3)):\n",
    "    # visualization without TensorBoard for TensorBoard logs\n",
    "    clear_output()\n",
    "    reader = SummaryReader(log_dir)\n",
    "    df = reader.scalars\n",
    "\n",
    "    plt.figure(figsize=figsize)\n",
    "    for tag in df.tag.unique():\n",
    "        if \"loss\" in tag:\n",
    "            tag_data = df.query(\"`tag` == @tag\").sort_values(by=\"step\")\n",
    "            plt.plot(tag_data.step, tag_data.value, label=tag)\n",
    "    plt.xlabel(\"step\")\n",
    "    plt.ylabel(\"loss\")\n",
    "    plt.legend(loc=\"lower left\")\n",
    "    plt.grid()\n",
    "    plt.show()\n",
    "\n",
    "\n",
    "tbparse_visual(log_dir)"
   ]
  },
  {
   "cell_type": "markdown",
   "metadata": {},
   "source": [
    "Посмотрим результаты генерации на шуме:"
   ]
  },
  {
   "cell_type": "code",
   "execution_count": null,
   "metadata": {},
   "outputs": [],
   "source": [
    "import pandas as pd\n",
    "import seaborn as sns\n",
    "\n",
    "\n",
    "def test_image(pair_gen, pairs, figsize=(12, 3)):\n",
    "    # equalizing lengths for better visualization\n",
    "    if len(pair_gen) > len(pairs):\n",
    "        pair_gen = pair_gen[: len(pairs)]\n",
    "    else:\n",
    "        pairs = pairs[: len(pair_gen)]\n",
    "\n",
    "    df = pd.DataFrame(data=np.concatenate([pairs, pair_gen]), columns=[\"x\", \"y\"])\n",
    "    df[\"label\"] = [\"real\"] * len(pairs) + [\"generated\"] * len(pair_gen)\n",
    "\n",
    "    plot = sns.jointplot(data=df, x=\"x\", y=\"y\", hue=\"label\")\n",
    "    sns.move_legend(plot.ax_joint, \"lower left\")\n",
    "    if figsize:\n",
    "        plot.fig.set_size_inches(figsize)\n",
    "    plt.axis([-1.1, 1.1, -0.1, 1.1])\n",
    "    plt.grid()\n",
    "    plt.show()\n",
    "\n",
    "\n",
    "model.eval().to(\"cpu\")\n",
    "noise = torch.tensor(np.random.normal(size=(1000, ls)), dtype=torch.float)\n",
    "with torch.no_grad():\n",
    "    pair_gen = model(noise).detach().numpy()\n",
    "\n",
    "test_image(pair_gen, pairs, figsize=(12, 3))"
   ]
  },
  {
   "cell_type": "markdown",
   "metadata": {},
   "source": [
    "Видно, что модель генерирует точки, лежащие на параболе, но при этом видно, что **распределение сгенерированных точек существенно отличается от распределения реальных точек**. Сгенерированные точки лежат в небольшом интервале около $0$. Это можно объяснить тем, что значения ошибок около нуля в среднем меньше, ведь $y$ около $0$ принимает небольшой диапазон значений.\n",
    "\n",
    "В функции потерь мы прописали, что сгенерированная точка должна лежать на параболе, и модель обучилась. Но информацию о том, что **генератор должен повторять распределение реальных данных**, мы в функции потерь никак не кодировали. Более того, модель может научиться хорошо генерировать одну единственную точку, и при этом функция потерь может стать нулевой."
   ]
  },
  {
   "cell_type": "markdown",
   "metadata": {},
   "source": [
    "Кроме того, для расчета функции потерь сейчас необходимо **хранить все известные точки**. Если бы мы генерировали не точки, а изображения или спектры, мы бы получили **переполнение оперативной памяти**.\n",
    "\n",
    "Итак, надо решить **две проблемы**:\n",
    "1.   Закодировать в функции потерь условие о том, что **точки должны быть различными**.\n",
    "2.   Придумать способ проверки, **не требующий хранения и перебора всего датасета**."
   ]
  },
  {
   "cell_type": "markdown",
   "metadata": {},
   "source": [
    "## Дискриминатор"
   ]
  },
  {
   "cell_type": "markdown",
   "metadata": {},
   "source": [
    "Будем наказывать нейронную сеть не с помощью функционала ошибок , а второй\n",
    "**сетью**, которая будет определять, лежит ли сгенерированная точка на параболе.\n",
    "\n",
    "Создадим сеть-классификатор точек, которую назовём **дискриминатор**."
   ]
  },
  {
   "cell_type": "markdown",
   "metadata": {},
   "source": [
    "В общем случае задача дискриминатора — определять, **принадлежит ли объект к распределению обучающей выборки**. Если предсказания генератора выродятся в одно значение, дискриминатор легко запомнит, что эти точки — сгенерированные.\n"
   ]
  },
  {
   "cell_type": "markdown",
   "metadata": {},
   "source": [
    "**Итого** мы имеем:\n",
    "- **генератор**, выдающий точки, которые могут принадлежать параболе, а могут не принадлежать ей;\n",
    "- **дискриминатор**, который будет их различать.\n",
    "\n",
    "Мы будем подавать в **дискриминатор** **реальные точки**, помечая их реальными,  и **точки, которые выдаёт генератор**, считая их подделкой. **Генератор** будет учиться **подражать** реальным данным, а дискриминатор будет учиться **отличать** реальные точки, от подделок.\n",
    "\n",
    "Мы пришли к идее **генеративно-состязательных** нейронных сетей (Generative Adversarial Network)."
   ]
  },
  {
   "cell_type": "markdown",
   "metadata": {},
   "source": [
    "<center><img src =\"https://edunet.kea.su/repo/EduNet-content/dev-2.1/L13/out/generative_adversarial_network_scheme.png\" width=\"800\"></center>\n",
    "<center><em>Схематичное представление архитектуры GAN </em></center>"
   ]
  },
  {
   "cell_type": "markdown",
   "metadata": {},
   "source": [
    "В нашем примере с генерацией точек на плоскости в качестве дискриминатора может быть использована полносвязная нейронная сеть с парой скрытых слоев, которая принимает на вход $2$ числа — координаты точки, и выдает одно число — оценку вероятности, что поданная на вход точка принадлежит распределению реальных данных."
   ]
  },
  {
   "cell_type": "code",
   "execution_count": null,
   "metadata": {},
   "outputs": [],
   "source": [
    "class Discriminator(nn.Module):\n",
    "    def __init__(self, hidden_dim):\n",
    "        super().__init__()\n",
    "        self.model = nn.Sequential(\n",
    "            nn.Linear(2, hidden_dim),\n",
    "            nn.ReLU(),\n",
    "            nn.Linear(hidden_dim, hidden_dim),\n",
    "            nn.ReLU(),\n",
    "            nn.Linear(hidden_dim, 1),  # real/fake\n",
    "            nn.Sigmoid(),\n",
    "        )\n",
    "\n",
    "    def forward(self, x):\n",
    "        return self.model(x)"
   ]
  },
  {
   "cell_type": "markdown",
   "metadata": {},
   "source": [
    "##  Generative adversarial network (GAN)"
   ]
  },
  {
   "cell_type": "markdown",
   "metadata": {},
   "source": [
    "**Генеративно-состязательные** сети были предложены Ианом Гудфеллоу в работе [Generative Adversarial Networks (Goodfellow et al., 2014) 🎓[arxiv]](https://arxiv.org/abs/1406.2661) (**Cited by 62647 (декабрь 2023)**). Принцип состязательности в сети GAN часто объясняют на примере из теории игр."
   ]
  },
  {
   "cell_type": "markdown",
   "metadata": {},
   "source": [
    "Полезное:\n",
    "* [[video] 📺 Разбор оригинальной статьи GAN](https://www.youtube.com/watch?v=eyxmSmjmNS0)\n",
    "* [[video] 📺 Лекция Иана Гудфеллоу](https://www.youtube.com/watch?v=HGYYEUSm-0Q)"
   ]
  },
  {
   "cell_type": "markdown",
   "metadata": {},
   "source": [
    "### GAN в теории игр"
   ]
  },
  {
   "cell_type": "markdown",
   "metadata": {},
   "source": [
    "Математически можно описать идею GAN как [**игру** 📚[wiki]](https://ru.wikipedia.org/wiki/%D0%A2%D0%B5%D0%BE%D1%80%D0%B8%D1%8F_%D0%B8%D0%B3%D1%80) **двух игроков**:\n",
    "\n",
    "- Первый игрок — это **фальшивомонетчик** или генератор (generator).\n",
    "- Второй — это **банкир** с машинкой для проверки денег или дискриминатор (discriminator).\n",
    "\n",
    "Задача фальшивомонетчика — обмануть банкира. Задача банкира — отличить реальные деньги от фальшивых."
   ]
  },
  {
   "cell_type": "markdown",
   "metadata": {},
   "source": [
    "<center><img src =\"https://edunet.kea.su/repo/EduNet-content/dev-2.1/L13/out/gan_idea.png\" width=\"600\"></center>\n",
    "\n",
    "\n",
    "\n"
   ]
  },
  {
   "cell_type": "markdown",
   "metadata": {},
   "source": [
    "Фальшивомонетчику необходим элемент случайности $z$.\n",
    "\n",
    "Можно привести аналогию: если все фальшивые купюры будут иметь одинаковый номер, банкиру будет очень просто определить подделку.\n",
    "\n",
    "Фальшивомонетчик берет на вход шум $z$ и генерирует фальшивую пачку денег $G(z)$.\n",
    "\n"
   ]
  },
  {
   "cell_type": "markdown",
   "metadata": {},
   "source": [
    "Банкир получает на вход пачку купюр $x$, проверяет их подлинность и сообщает вектор $D(x)$, состоящий из чисел от нуля до единицы — свою уверенность (вероятность) по каждой купюре в том, что она настоящая.\n",
    "\n",
    "**Цель банкира (дискриминатора):** отличить реальные деньги от фальшивых\n",
    "\n",
    "$$D(x) = 1,  \\text{ для }  x - \\text{real},$$\n",
    "\n",
    "$$D(G(z)) = 0, \\text{ для } G(z) - \\text{ fake},$$\n",
    "\n",
    "то есть максимизировать $\\log(D(x))+\\log(1-D(G(z)))$.\n",
    "\n",
    "**Цель фальшивомонетчика (генератора):** убедить банкира в том, что подделки настоящие\n",
    "\n",
    "$$D(G(z)) = 1, \\text{ для } G(z) - \\text{ fake},$$\n",
    "\n",
    "то есть минимизировать $\\log(1-D(G(z)))$.\n",
    "\n"
   ]
  },
  {
   "cell_type": "markdown",
   "metadata": {},
   "source": [
    "Математически это можно записать так:\n",
    "\n",
    "$$\\large \\min\\limits_{\\theta_g}  \\max\\limits_{\\theta_d} \\left(\\mathbb{E}_{x \\sim p(x)} \\left[\\log\\left(D_{\\theta_d}(x)\\right)\\right]+\\mathbb{E}_{z \\sim p(z)}\n",
    "\\left[\\log\\left(1-D_{\\theta_d}\\left(G_{\\theta_g}(z)\\right)\\right)\\right]\\right),$$\n",
    "\n",
    "где $\\theta_g$ — параметры генератора, $\\theta_d$ — параметры дискриминатора, $p(x)$ — распределение вероятностей целевых объектов, $p(z)$ — распределение вероятностей входного шума.\n"
   ]
  },
  {
   "cell_type": "markdown",
   "metadata": {},
   "source": [
    "<center><img src =\"https://edunet.kea.su/repo/EduNet-content/dev-2.1/L13/out/gan_probability_learning_process.png\" width=\"1000\"></center>\n",
    "\n",
    "<center><em>Процесс обучения GAN. (a) — начало обучения, распределение сгенерированных объектов не совпадает с распределением реальных объектов, (b)&nbsp;—&nbsp;результат шага обучения, распределение сгенерированных объектов приближается к распределению реальных объектов, (c) — идеальный результат в конце обучения: полное совпадение распределений (на практике почти недостижим). </em></center>\n",
    "<center><em>\n",
    "Замечание: в данном случае для простоты восприятия и визуализации входной шум имеет равномерное распределение (на практике чаще используется нормальное), а распределение реальных объектов имеет нормальное распределение (на практике — сложное неизвестное распределение).</em></center>\n",
    "\n",
    "<center><em>Source: <a href=\"https://arxiv.org/pdf/1406.2661.pdf\">Generative Adversarial Nets (Ian J. Goodfellow and all, 2014)</a></em></center>"
   ]
  },
  {
   "cell_type": "markdown",
   "metadata": {},
   "source": [
    "**Дискриминатор (банкир):**\n",
    "- обучается при **фиксированном генераторе** ${G}_{\\theta_{g}}$,\n",
    "- **максимизирует** функцию выше относительно $\\theta_d$ (**градиентный подъем**),\n",
    "- решает задачу **бинарной классификации**: старается присвоить $1$ точкам данных из обучающего набора $x\\sim p(x)$ и $0$ сгенерированным точкам $G(z), z\\sim p(z)$."
   ]
  },
  {
   "cell_type": "markdown",
   "metadata": {},
   "source": [
    "**Генератор (фальшивомонетчик):**\n",
    "- обучается при **фиксированном дискриминаторе** $D_{θ_d}$,\n",
    "- получает градиенты весов за счет **обратного распространения ошибки** через дискриминатор,\n",
    "- **минимизирует** функцию выше относительно $\\theta_g$ (**градиентный спуск**)."
   ]
  },
  {
   "cell_type": "markdown",
   "metadata": {},
   "source": [
    "В процессе совместного конкурентного обучения, если система достаточно сбалансирована, достигается **минимаксное состояние равновесия**, в котором обе сети эффективно учатся.\n"
   ]
  },
  {
   "cell_type": "markdown",
   "metadata": {},
   "source": [
    "### GAN Практический пример"
   ]
  },
  {
   "cell_type": "markdown",
   "metadata": {},
   "source": [
    "Определим наши **генератор** и **дискриминатор**:"
   ]
  },
  {
   "cell_type": "code",
   "execution_count": null,
   "metadata": {},
   "outputs": [],
   "source": [
    "class Generator(nn.Module):\n",
    "    def __init__(self, latent_space, hidden_dim):\n",
    "        super().__init__()\n",
    "        self.model = nn.Sequential(\n",
    "            nn.Linear(latent_space, hidden_dim),\n",
    "            nn.ReLU(),\n",
    "            nn.Linear(hidden_dim, hidden_dim),\n",
    "            nn.ReLU(),\n",
    "            nn.Linear(hidden_dim, 2),\n",
    "        )  # x,y\n",
    "\n",
    "    def forward(self, x):\n",
    "        return self.model(x)\n",
    "\n",
    "\n",
    "class Discriminator(nn.Module):\n",
    "    def __init__(self, hidden_dim):\n",
    "        super().__init__()\n",
    "        self.model = nn.Sequential(\n",
    "            nn.Linear(2, hidden_dim),\n",
    "            nn.ReLU(),\n",
    "            nn.Linear(hidden_dim, hidden_dim),\n",
    "            nn.ReLU(),\n",
    "            nn.Linear(hidden_dim, 1),  # real/fake\n",
    "            nn.Sigmoid(),\n",
    "        )\n",
    "\n",
    "    def forward(self, x):\n",
    "        return self.model(x)"
   ]
  },
  {
   "cell_type": "markdown",
   "metadata": {},
   "source": [
    "Обратите внимание, что у нас так же, как и в первом примере, есть переменная **latent space**. Это тот шум, из которого мы будем генерировать наши точки."
   ]
  },
  {
   "cell_type": "markdown",
   "metadata": {},
   "source": [
    "**Дискриминатор** решает задачу **бинарной классификации**. Для этой задачи хорошо подходит `BCELoss` [🛠️[doc]](https://pytorch.org/docs/stable/generated/torch.nn.BCELoss.html) (**Binary Cross-Entropy**)."
   ]
  },
  {
   "cell_type": "markdown",
   "metadata": {},
   "source": [
    "<font size=\"4\">**Процесс обучения GAN**</font>\n",
    "\n",
    "<font size=\"4\">**Фаза 1. Обучение дискриминатора**</font>\n",
    "\n",
    "1. Расчет градиентов дискриминатора (реальные точки):\n",
    "    * обнулим градиенты **дискриминатора**,\n",
    "    * возьмем набор **реальных точек**, которые лежат на параболе,\n",
    "    * применим к ним **дискриминатор**,\n",
    "    * посчитаем значение функции потерь дискриминатора на **реальных точках** при **метках реальных данных** `loss_disc_real`,\n",
    "    * посчитаем градиенты для **дискриминатора**.\n",
    "\n"
   ]
  },
  {
   "cell_type": "markdown",
   "metadata": {},
   "source": [
    "<center><img src =\"https://edunet.kea.su/repo/EduNet-content/dev-2.1/L13/out/gan_training_algorithm_1.png\" width=\"1000\"></center>"
   ]
  },
  {
   "cell_type": "markdown",
   "metadata": {},
   "source": [
    "По аналогии с игрой: в этот момент банкир изучает **реальные купюры**, чтобы усовершенствовать машинку для проверки денег."
   ]
  },
  {
   "cell_type": "markdown",
   "metadata": {},
   "source": [
    "2. Расчет градиентов дискриминатора (сгенерированные точки):\n",
    "    * возьмем случайный шум\n",
    "$z$,\n",
    "    * возьмем наш **генератор** (его пока не обучаем) и создадим с его помощью **сгенерированные точки** $x=G(z)$,\n",
    "    * применим к ним **дискриминатор**,\n",
    "    * посчитаем значение функции потерь дискриминатора на **сгенерированных точках** при **метках сгенерированных данных** `loss_disc_fake`,\n",
    "    * посчитаем градиенты для **дискриминатора** (они сложатся с уже посчитанными ранее)."
   ]
  },
  {
   "cell_type": "markdown",
   "metadata": {},
   "source": [
    "<center><img src =\"https://edunet.kea.su/repo/EduNet-content/dev-2.1/L13/out/gan_training_algorithm_2.png\" width=\"1000\"></center>"
   ]
  },
  {
   "cell_type": "markdown",
   "metadata": {},
   "source": [
    "По аналогии с игрой: в этот момент банкир изучает **фальшивые купюры**, чтобы усовершенствовать машинку для проверки денег."
   ]
  },
  {
   "cell_type": "markdown",
   "metadata": {},
   "source": [
    "3. Обновление весов дискриминатора\n",
    "   * сделаем шаг обучения **дискриминатора** (обновим его веса),\n",
    "   * **генератор** не обучается."
   ]
  },
  {
   "cell_type": "markdown",
   "metadata": {},
   "source": [
    "<center><img src =\"https://edunet.kea.su/repo/EduNet-content/dev-2.1/L13/out/gan_training_algorithm_3.png\" width=\"1000\"></center>"
   ]
  },
  {
   "cell_type": "markdown",
   "metadata": {},
   "source": [
    "По аналогии с игрой: в этот момент банкир **модифицирует машинку**."
   ]
  },
  {
   "cell_type": "markdown",
   "metadata": {},
   "source": [
    "<font size=\"4\">**Фаза 2. Обучение генератора**</font>\n",
    "\n",
    "   * обнулим градиенты **генератора**,\n",
    "   * сгенерируем случайный шум $z$,\n",
    "   * создадим с помощью **генератора** набор **сгенерированных точек** $x=G(z)$,\n",
    "   * посчитаем значение функции потерь дискриминатора на **сгенерированных точках** при **метках реальных данных** `loss_gen` (подмена меток),\n",
    "   * посчитаем градиенты для **генератора**,\n",
    "   * сделаем шаг обучения **генератора** (обновим его веса),\n",
    "   * **дискриминатор** не обучается.\n",
    "\n",
    "Обратите внимание, что вместо решения minmax задачи мы **подменяем метки**: дискриминатор получает сгенерированные объекты, но в функцию потерь передается метка реальных объектов. Это [часто применяемый трюк 🐾[git]](https://github.com/soumith/ganhacks/#2-a-modified-loss-function) при обучении GAN."
   ]
  },
  {
   "cell_type": "markdown",
   "metadata": {},
   "source": [
    "<center><img src =\"https://edunet.kea.su/repo/EduNet-content/dev-2.1/L13/out/gan_training_algorithm_4.png\" width=\"1000\"></center>"
   ]
  },
  {
   "cell_type": "markdown",
   "metadata": {},
   "source": [
    "По аналогии с игрой: в руки фальшивомонетчика попадается прибор для распознавания подделок, он изучает его и учится создавать подделки, которые смогут обмануть этот прибор."
   ]
  },
  {
   "cell_type": "markdown",
   "metadata": {},
   "source": [
    "Посмотрим, как это реализуется в коде обучения:"
   ]
  },
  {
   "cell_type": "code",
   "execution_count": null,
   "metadata": {},
   "outputs": [],
   "source": [
    "class GAN(L.LightningModule):\n",
    "    def __init__(\n",
    "        self,\n",
    "        generator,\n",
    "        discriminator,\n",
    "        lr=3e-4,\n",
    "        betas=(0.9, 0.999),\n",
    "        noise_in_place=False,\n",
    "        latent_dim=10,\n",
    "    ):\n",
    "        super().__init__()\n",
    "        self.automatic_optimization = False  # for hand made settings\n",
    "\n",
    "        self.generator = generator\n",
    "        self.discriminator = discriminator\n",
    "        self.criterion = nn.BCELoss()\n",
    "        self.real_label = 1.0\n",
    "        self.fake_label = 0.0\n",
    "        self.lr = lr\n",
    "        self.betas = betas\n",
    "        self.noise_in_place = noise_in_place\n",
    "        self.latent_dim = latent_dim\n",
    "\n",
    "    def configure_optimizers(self):\n",
    "        opt_gen = torch.optim.Adam(\n",
    "            self.generator.parameters(),\n",
    "            lr=self.lr,\n",
    "            betas=self.betas,\n",
    "        )\n",
    "        opt_disc = torch.optim.Adam(\n",
    "            self.discriminator.parameters(),\n",
    "            lr=self.lr,\n",
    "            betas=self.betas,\n",
    "        )\n",
    "        return opt_gen, opt_disc\n",
    "\n",
    "    def training_step(self, batch, batch_idx):\n",
    "        if self.noise_in_place:  # for standart dataset\n",
    "            self.real_items, _ = batch\n",
    "            noises = torch.randn(\n",
    "                (self.real_items.shape[0], self.latent_dim),\n",
    "                dtype=torch.float32,\n",
    "            ).to(self.device)\n",
    "        else:\n",
    "            self.real_items, noises = batch  # for handmade dataset\n",
    "        opt_gen, opt_disc = self.optimizers()\n",
    "\n",
    "        # ---------------------\n",
    "        # Train discriminator\n",
    "        # ---------------------\n",
    "        self.discriminator.zero_grad()\n",
    "        # 1. discriminator on real items\n",
    "        real_label = torch.full(\n",
    "            size=(self.real_items.shape[0], 1),\n",
    "            fill_value=self.real_label,\n",
    "            dtype=torch.float,\n",
    "        ).to(self.device)\n",
    "        disc_label = self.discriminator(self.real_items)\n",
    "        loss_disc_real = self.criterion(disc_label, real_label)\n",
    "        loss_disc_real.backward()\n",
    "\n",
    "        # 2. discriminator on fake items\n",
    "        fake_label = torch.full(\n",
    "            size=(self.real_items.shape[0], 1),\n",
    "            fill_value=self.fake_label,\n",
    "            dtype=torch.float,\n",
    "        ).to(self.device)\n",
    "        self.fake_items = self.generator(noises)\n",
    "        disc_label = self.discriminator(self.fake_items)\n",
    "        loss_disc_fake = self.criterion(disc_label, fake_label)\n",
    "        loss_disc_fake.backward()\n",
    "\n",
    "        # 3. discriminator optimizer step (on real and fake items)\n",
    "        opt_disc.step()\n",
    "        loss_disc = 0.5 * loss_disc_real + 0.5 * loss_disc_fake\n",
    "        self.log(\"loss/disc\", loss_disc, on_epoch=False, on_step=True)\n",
    "\n",
    "        # ---------------------\n",
    "        # Train generator\n",
    "        # ---------------------\n",
    "        self.generator.zero_grad()\n",
    "        self.fake_items = self.generator(noises)\n",
    "        disc_label = self.discriminator(self.fake_items)\n",
    "        loss_gen = self.criterion(disc_label, real_label)  # flip label\n",
    "        loss_gen.backward()\n",
    "\n",
    "        opt_gen.step()\n",
    "        self.log(\"loss/gen\", loss_gen, on_epoch=False, on_step=True)\n",
    "\n",
    "        if (batch_idx + 1) % 1000 == 0:\n",
    "            tbparse_visual(self.logger.log_dir)\n",
    "            test_image(\n",
    "                self.fake_items.detach().cpu().numpy(),\n",
    "                self.real_items.detach().cpu().numpy(),\n",
    "            )\n",
    "\n",
    "    def on_train_epoch_end(self):\n",
    "        tbparse_visual(self.logger.log_dir)\n",
    "        test_image(\n",
    "            self.fake_items.detach().cpu().numpy(),\n",
    "            self.real_items.detach().cpu().numpy(),\n",
    "        )"
   ]
  },
  {
   "cell_type": "markdown",
   "metadata": {},
   "source": [
    "Определим **входные параметры**. Для обучения GAN нужно много реальных объетов."
   ]
  },
  {
   "cell_type": "code",
   "execution_count": null,
   "metadata": {},
   "outputs": [],
   "source": [
    "latent_dim = 10  # latent space\n",
    "num_epochs = 1\n",
    "n_batches = 10000\n",
    "batch_size = 512"
   ]
  },
  {
   "cell_type": "markdown",
   "metadata": {},
   "source": [
    "Создадим модели:"
   ]
  },
  {
   "cell_type": "code",
   "execution_count": null,
   "metadata": {},
   "outputs": [],
   "source": [
    "set_random_seed(42)\n",
    "trainset = ParabolaDS(n_batches, batch_size, latent_dim)\n",
    "\n",
    "train_loader = DataLoader(trainset, batch_size=batch_size, shuffle=True, num_workers=2)\n",
    "\n",
    "generator = Generator(latent_space=latent_dim, hidden_dim=50)\n",
    "discriminator = Discriminator(hidden_dim=50)\n",
    "\n",
    "pl_model = GAN(generator, discriminator)"
   ]
  },
  {
   "cell_type": "markdown",
   "metadata": {},
   "source": [
    "Обучим наш GAN:"
   ]
  },
  {
   "cell_type": "code",
   "execution_count": null,
   "metadata": {},
   "outputs": [],
   "source": [
    "pl_model = GAN(generator, discriminator)\n",
    "trainer = L.Trainer(\n",
    "    max_epochs=num_epochs,\n",
    "    logger=L.pytorch.loggers.TensorBoardLogger(save_dir=\"./log_gan/\"),\n",
    ")\n",
    "\n",
    "trainer.fit(model=pl_model, train_dataloaders=train_loader)"
   ]
  },
  {
   "cell_type": "markdown",
   "metadata": {},
   "source": [
    "У нас получилось сгенерировать точки, равномерно распределенные по параболе.\n",
    "\n",
    "Посмотрим на процесс обучения GAN:"
   ]
  },
  {
   "cell_type": "markdown",
   "metadata": {},
   "source": [
    "<center><img src =\"https://edunet.kea.su/repo/EduNet-web_dependencies/dev-2.1/L13/gan_training_process.gif\" width=\"1000\"></center>\n",
    "\n",
    "[[colab] 🥨 Блокнот с созданием данной Gif-анимации](https://colab.research.google.com/drive/1nFYebZOhK4hLlG95-0PBwlfbJbi-3965)"
   ]
  },
  {
   "cell_type": "markdown",
   "metadata": {},
   "source": [
    "Видно, как графики функций потерь генератора и дискриминатора осциллируют вокруг положения равновесия, пока не встретятся в этом положении, а распределение сгенерированных данных постепенно становится все более и более похожим на распределение реальных данных."
   ]
  },
  {
   "cell_type": "markdown",
   "metadata": {},
   "source": [
    "## DCGAN — Генерация изображений"
   ]
  },
  {
   "cell_type": "markdown",
   "metadata": {},
   "source": [
    "С помощью **GAN** можно генерировать не только точки на параболе, но и, например, изображения. Но появляются закономерные вопросы."
   ]
  },
  {
   "cell_type": "markdown",
   "metadata": {},
   "source": [
    "### Как из шума на входе сети получить изображение?"
   ]
  },
  {
   "cell_type": "markdown",
   "metadata": {},
   "source": [
    "Самым простым ответом будет: взять шум, пропустить его через **полносвязные слои** и сделать **reshape** до нужного разрешения. В целом, это будет работать.\n",
    "\n",
    "\n",
    "Однако **DCGAN (Deep Convolutional GAN)** использует **сверточные** и **сверточно-транспонированные** (*convolutional* и *convolutional-transpose*) слои в дискриминаторе и генераторе соответственно. Впервые метод **DCGAN** был описан в статье [Unsupervised Representation Learning with Deep Convolutional Generative Adversarial Networks (Radford et al., 2015) 🎓[arxiv]](https://arxiv.org/abs/1511.06434)."
   ]
  },
  {
   "cell_type": "markdown",
   "metadata": {},
   "source": [
    "<center><img src =\"https://edunet.kea.su/repo/EduNet-content/dev-2.1/L13/out/deep_convolutional_gan_scheme.png\" width=\"900\"></center>\n",
    "<center><em>Схема работы DCGAN</em></center>"
   ]
  },
  {
   "cell_type": "markdown",
   "metadata": {},
   "source": [
    "Ниже видна разница в генерации при помощи исключительно **полносвязных слоёв** и при помощи **обратных свёрток**. Видно, что результат **DCGAN** лучше, чем **GAN**."
   ]
  },
  {
   "cell_type": "markdown",
   "metadata": {},
   "source": [
    "<center><img src =\"https://edunet.kea.su/repo/EduNet-web_dependencies/dev-2.1/L13/gan_dcgan_mnist_examples.png\" width=\"600\"></center>\n",
    "<center><em>Сравнение результатов на MNIST (Radford et al., 2015)</em></center>\n",
    "\n",
    "<center><em>Source: <a href=\"https://arxiv.org/pdf/1511.06434.pdf\">\tUnsupervised representation learning with deep convolutional generative adversarial networks</a></em></center>"
   ]
  },
  {
   "cell_type": "markdown",
   "metadata": {},
   "source": [
    "### Архитектура DCGAN"
   ]
  },
  {
   "cell_type": "markdown",
   "metadata": {},
   "source": [
    "На вход генератора подают шум для создания разнообразных объектов. Этот шум представляет собой вектор в многомерном пространстве. Один вектор — один сгенерированный объект. Задача генератора — преобразовать вектор в изображение.\n",
    "\n",
    "Такое преобразование возможно при помощи транспонированных сверточных (convolution-transpose, иногда называют fractionally strided convolution) слоев или upsample слоев с последующей сверткой."
   ]
  },
  {
   "cell_type": "markdown",
   "metadata": {},
   "source": [
    "<center><img src =\"https://edunet.kea.su/repo/EduNet-content/dev-2.1/L13/out/dcgan_architecture.png\" width=\"900\"></center>\n",
    "<center><em>Зеркальная архитектура DCGAN </em></center>"
   ]
  },
  {
   "cell_type": "markdown",
   "metadata": {},
   "source": [
    "### Пример обученного DCGAN"
   ]
  },
  {
   "cell_type": "markdown",
   "metadata": {},
   "source": [
    "Давайте посмотрим на пример обученного **DCGAN**."
   ]
  },
  {
   "cell_type": "code",
   "execution_count": null,
   "metadata": {},
   "outputs": [],
   "source": [
    "import torch\n",
    "\n",
    "use_gpu = True if torch.cuda.is_available() else False\n",
    "model = torch.hub.load(\n",
    "    \"facebookresearch/pytorch_GAN_zoo:hub\", \"DCGAN\", pretrained=True, useGPU=use_gpu\n",
    ")\n",
    "clear_output()"
   ]
  },
  {
   "cell_type": "markdown",
   "metadata": {},
   "source": [
    "Распечатаем архитектуру генератора:"
   ]
  },
  {
   "cell_type": "code",
   "execution_count": null,
   "metadata": {},
   "outputs": [],
   "source": [
    "print(model.getNetG())"
   ]
  },
  {
   "cell_type": "markdown",
   "metadata": {},
   "source": [
    "Распечатаем архитектуру дискриминатора:"
   ]
  },
  {
   "cell_type": "code",
   "execution_count": null,
   "metadata": {},
   "outputs": [],
   "source": [
    "print(model.getNetD())"
   ]
  },
  {
   "cell_type": "code",
   "execution_count": null,
   "metadata": {},
   "outputs": [],
   "source": [
    "import torchvision\n",
    "\n",
    "\n",
    "num_images = 16\n",
    "noise, _ = model.buildNoiseData(num_images)\n",
    "with torch.no_grad():\n",
    "    generated_images = model.test(noise)\n",
    "    generated_images = (\n",
    "        generated_images.clamp(-1, 1) + 1\n",
    "    ) / 2.0  # normalization to 0..1 range\n",
    "\n",
    "fig, ax = plt.subplots(figsize=(16 * 3, 2 * 3))\n",
    "ax.imshow(\n",
    "    torchvision.utils.make_grid(generated_images).permute(1, 2, 0).cpu().numpy(),\n",
    "    interpolation=\"nearest\",\n",
    "    aspect=\"equal\",\n",
    ")\n",
    "ax.axis(\"off\")\n",
    "plt.show()\n",
    "\n",
    "del model"
   ]
  },
  {
   "cell_type": "markdown",
   "metadata": {},
   "source": [
    "### Практический пример DCGAN"
   ]
  },
  {
   "cell_type": "markdown",
   "metadata": {},
   "source": [
    "Теперь давайте попробуем сами написать свой **DCGAN** и обучить его на датасете **FashionMNIST**"
   ]
  },
  {
   "cell_type": "code",
   "execution_count": null,
   "metadata": {},
   "outputs": [],
   "source": [
    "num_epochs = 3  # Num of epochs\n",
    "batch_size = 64  # batch size\n",
    "lr = 2e-4  # Learning rate\n",
    "b1 = 0.5  # Adam: decay of first order momentum of gradient\n",
    "b2 = 0.999  # Adam: decay of first order momentum of gradient\n",
    "latent_dim = 100  # latent space\n",
    "img_size = 32  # images size\n",
    "channels = 1  # Num of channels"
   ]
  },
  {
   "cell_type": "markdown",
   "metadata": {},
   "source": [
    "Обычно мы **инициализируем веса** случайным образом, но ничто не мешает нам инициализировать их так, как мы хотим. В [оригинальной статье 🎓[arxiv]](https://arxiv.org/pdf/1511.06434.pdf) про **DCGAN** предложено инициализировать веса нормальным распределением с центром в нуле и стандартным отклонением $0.02$:"
   ]
  },
  {
   "cell_type": "code",
   "execution_count": null,
   "metadata": {},
   "outputs": [],
   "source": [
    "def weights_init_normal(m):\n",
    "    classname = m.__class__.__name__\n",
    "    if classname.find(\"Conv\") != -1:\n",
    "        torch.nn.init.normal_(m.weight.data, 0.0, 0.02)\n",
    "    elif classname.find(\"BatchNorm2d\") != -1:\n",
    "        torch.nn.init.normal_(m.weight.data, 1.0, 0.02)\n",
    "        torch.nn.init.constant_(m.bias.data, 0.0)\n",
    "    elif classname.find(\"Linear\") != -1:\n",
    "        torch.nn.init.normal_(m.weight.data, 0.0, 0.02)"
   ]
  },
  {
   "cell_type": "markdown",
   "metadata": {},
   "source": [
    "Обратите внимание, как преобразовывается **шум** в **генераторе**:\n",
    "* сначала с помощью **полносвязного слоя** он увеличивается в размере до **необходимого количества признаков**,\n",
    "* потом с помощью функции `view` **форма тензора преобразуется** в **размер карты признаков на входе сверточного слоя**,\n",
    "* потом при прохождении через **сверточные слои** (`conv_blocks`) к нему применяются `ConvTranspose2d`."
   ]
  },
  {
   "cell_type": "code",
   "execution_count": null,
   "metadata": {},
   "outputs": [],
   "source": [
    "class GeneratorBlock(nn.Module):\n",
    "    def __init__(self, in_channel, out_channel):\n",
    "        super().__init__()\n",
    "        self.block = nn.Sequential(\n",
    "            nn.ConvTranspose2d(\n",
    "                in_channel, out_channel, kernel_size=4, stride=2, padding=1\n",
    "            ),\n",
    "            nn.BatchNorm2d(out_channel),\n",
    "            nn.LeakyReLU(0.2, inplace=True),\n",
    "        )\n",
    "\n",
    "    def forward(self, x):\n",
    "        return self.block(x)\n",
    "\n",
    "\n",
    "class Generator(nn.Module):\n",
    "    def __init__(self, latent_dim, img_size, channels):\n",
    "        super(Generator, self).__init__()\n",
    "\n",
    "        self.init_size = img_size // 2**2\n",
    "        self.l1 = nn.Sequential(nn.Linear(latent_dim, 128 * self.init_size**2))\n",
    "\n",
    "        self.conv_blocks = nn.Sequential(\n",
    "            nn.BatchNorm2d(128),\n",
    "            GeneratorBlock(in_channel=128, out_channel=128),\n",
    "            GeneratorBlock(in_channel=128, out_channel=64),\n",
    "            nn.Conv2d(64, channels, 3, stride=1, padding=1),\n",
    "            nn.Tanh(),\n",
    "        )\n",
    "\n",
    "    def forward(self, z):\n",
    "        out = self.l1(z)\n",
    "        out = out.view(out.shape[0], 128, self.init_size, self.init_size)\n",
    "        img = self.conv_blocks(out)\n",
    "        return img"
   ]
  },
  {
   "cell_type": "code",
   "execution_count": null,
   "metadata": {},
   "outputs": [],
   "source": [
    "class DiscriminatorBlock(nn.Module):\n",
    "    def __init__(self, in_channel, out_channel, bn=True):\n",
    "        super().__init__()\n",
    "        block = [\n",
    "            nn.Conv2d(in_channel, out_channel, kernel_size=3, stride=2, padding=1),\n",
    "            nn.LeakyReLU(0.2, inplace=True),\n",
    "            nn.Dropout2d(0.25),\n",
    "        ]\n",
    "        if bn:\n",
    "            block.append(nn.BatchNorm2d(out_channel, 0.8))\n",
    "\n",
    "        self.block = nn.Sequential(*block)\n",
    "\n",
    "    def forward(self, x):\n",
    "        return self.block(x)\n",
    "\n",
    "\n",
    "class Discriminator(nn.Module):\n",
    "    def __init__(self, channels):\n",
    "        super().__init__()\n",
    "\n",
    "        self.model = nn.Sequential(\n",
    "            DiscriminatorBlock(channels, 16, bn=False),\n",
    "            DiscriminatorBlock(16, 32),\n",
    "            DiscriminatorBlock(32, 64),\n",
    "            DiscriminatorBlock(64, 128),\n",
    "        )\n",
    "\n",
    "        # The height and width of downsampled image\n",
    "        ds_size = img_size // 2**4\n",
    "        self.adv_layer = nn.Sequential(nn.Linear(128 * ds_size**2, 1), nn.Sigmoid())\n",
    "\n",
    "    def forward(self, img):\n",
    "        out = self.model(img)\n",
    "        out = out.view(out.shape[0], -1)\n",
    "        validity = self.adv_layer(out)\n",
    "\n",
    "        return validity"
   ]
  },
  {
   "cell_type": "code",
   "execution_count": null,
   "metadata": {},
   "outputs": [],
   "source": [
    "set_random_seed(42)\n",
    "L.seed_everything(42)\n",
    "\n",
    "# Initialize Generator and Discriminator\n",
    "generator = Generator(latent_dim=latent_dim, img_size=img_size, channels=channels)\n",
    "discriminator = Discriminator(channels=channels)\n",
    "\n",
    "# Initialize weights\n",
    "generator.apply(weights_init_normal)\n",
    "discriminator.apply(weights_init_normal)\n",
    "\n",
    "pl_model = GAN(\n",
    "    generator, discriminator, noise_in_place=True, latent_dim=100, lr=lr, betas=(b1, b2)\n",
    ")"
   ]
  },
  {
   "cell_type": "markdown",
   "metadata": {},
   "source": [
    "Напишем функцию для отображения изображений:"
   ]
  },
  {
   "cell_type": "code",
   "execution_count": null,
   "metadata": {},
   "outputs": [],
   "source": [
    "from torchvision.utils import make_grid\n",
    "\n",
    "\n",
    "def test_image(fake_items, real_items, figsize=(12, 3)):\n",
    "    grid_fake = (\n",
    "        make_grid(torch.tensor(fake_items[:10]), nrow=10, normalize=True)\n",
    "        .permute(1, 2, 0)\n",
    "        .numpy()\n",
    "    )\n",
    "\n",
    "    grid_real = (\n",
    "        make_grid(torch.tensor(real_items[:10]), nrow=10, normalize=True)\n",
    "        .permute(1, 2, 0)\n",
    "        .numpy()\n",
    "    )\n",
    "\n",
    "    fig, ax = plt.subplots(2, 1, figsize=figsize)\n",
    "    ax[0].imshow(grid_fake)\n",
    "    ax[0].set_axis_off()\n",
    "    ax[1].imshow(grid_real)\n",
    "    ax[1].set_axis_off()\n",
    "    plt.axis(\"off\")\n",
    "    plt.show()"
   ]
  },
  {
   "cell_type": "markdown",
   "metadata": {},
   "source": [
    "Загрузим данные в `DataLoader`:"
   ]
  },
  {
   "cell_type": "code",
   "execution_count": null,
   "metadata": {},
   "outputs": [],
   "source": [
    "import os\n",
    "from torchvision import datasets\n",
    "from torchvision.transforms import v2\n",
    "\n",
    "os.makedirs(\"../../data/mnist\", exist_ok=True)\n",
    "\n",
    "data_set = datasets.FashionMNIST(\n",
    "    \"../../data/mnist\",\n",
    "    train=True,\n",
    "    download=True,\n",
    "    transform = v2.Compose(\n",
    "        [\n",
    "            v2.Resize(img_size),\n",
    "            v2.ToTensor(),\n",
    "            v2.Normalize([0.5], [0.5]),\n",
    "        ]\n",
    "    ),\n",
    ")\n",
    "\n",
    "data_loader = torch.utils.data.DataLoader(\n",
    "    data_set,\n",
    "    batch_size=batch_size,\n",
    "    shuffle=True,\n",
    ")\n",
    "clear_output()"
   ]
  },
  {
   "cell_type": "code",
   "execution_count": null,
   "metadata": {},
   "outputs": [],
   "source": [
    "trainer = L.Trainer(\n",
    "    max_epochs=num_epochs,\n",
    "    logger=L.pytorch.loggers.TensorBoardLogger(save_dir=\"./log_cgan/\"),\n",
    ")\n",
    "\n",
    "trainer.fit(model=pl_model, train_dataloaders=data_loader)"
   ]
  },
  {
   "cell_type": "markdown",
   "metadata": {},
   "source": [
    "Мы проучили модель 3 эпохи. Видно, что функции потерь генератора и дискриминатора не только не сошлись, но начали расходиться. При этом на сгенерированных изображениях присутствует характерная рябь. Если увеличить количество эпох, качество генерируемых изображений улучшится, но эффект расхождения функций потерь только усилится.\n",
    "\n",
    "Такая ситуация происходит чаще, чем нам бы хотелось. Ниже показаны кривые обучения простого GAN на датасете MNIST."
   ]
  },
  {
   "cell_type": "markdown",
   "metadata": {},
   "source": [
    "<center><img src =\"https://edunet.kea.su/repo/EduNet-web_dependencies/dev-2.1/L13/gan_loss.png\" width=\"600\"></center>\n",
    "\n",
    "<center><em>Кривые обучения простого GAN на датасете MNIST</em></center>\n",
    "\n",
    "<center><em>Source: <a href=\"https://github.com/znxlwm/pytorch-generative-model-collections\"> Pytorch implementation of various GANs</a></em></center>"
   ]
  },
  {
   "cell_type": "markdown",
   "metadata": {},
   "source": [
    "## Тонкости обучения GAN"
   ]
  },
  {
   "cell_type": "markdown",
   "metadata": {},
   "source": [
    "[[blog] ✏️ Детальный разбор тонкостей и советов](https://beckham.nz/2021/06/28/training-gans.html)"
   ]
  },
  {
   "cell_type": "markdown",
   "metadata": {},
   "source": [
    "### Проблема больших градиентов"
   ]
  },
  {
   "cell_type": "markdown",
   "metadata": {},
   "source": [
    "Одной из причин проблем со сходимостью GAN являются большие градиенты дискриминатора, которые приводят к сбою настроек генератора.\n",
    "\n",
    "В статье [Wasserstein GAN 🎓[arxiv]](https://arxiv.org/pdf/1701.07875.pdf) показано, что обеспечение плавности ([k-Липшицевости 📚[wiki]](https://en.wikipedia.org/wiki/Lipschitz_continuity)) изменения параметров дискриминатора улучшает сходимость GAN. Есть несколько подходов к обеспечению такой плавности. Ниже приведем некоторые из них."
   ]
  },
  {
   "cell_type": "markdown",
   "metadata": {},
   "source": [
    "- Регуляризация:\n",
    "    - **Weight clipping** — клиппинг (ограничение максимального и минимального значений) весов. Может давать [чрезмерно сильную регуляризацию ✏️[blog]](https://beckham.nz/2021/06/28/training-gans.html).\n",
    "    - **Gradient penalty** — штраф за слишком большой или слишком маленький градиент (оптимальным выбран градиент с единичной нормой). [Cтатья 🎓[arxiv]](https://arxiv.org/pdf/1704.00028.pdf). [Код 🐾[git]](https://github.com/EmilienDupont/wgan-gp). Вычислительно сложная операция.\n",
    "    - Спектральная нормализация. Вычислительно дешевый [аналог gradient penalty ✏️[blog]](https://beckham.nz/2021/06/28/training-gans.html). [Cтатья 🎓[arxiv]](https://arxiv.org/pdf/1802.05957.pdf). Код — ниже.\n",
    "- Изменение функции потерь:\n",
    "    - Замена Cross-Entropy Loss на [**расстояние Вассерштейна** 📚[wiki]](https://en.wikipedia.org/wiki/Wasserstein_metric) —  уход от неограниченно больших градиентов при уверенности дискриминатора, что сгенерированный объект — фейк. Применяется совместно с **weight clipping** или **gradient penalty**. [Cтатья 🎓[arxiv]](https://arxiv.org/pdf/1701.07875.pdf). [Реализация 🐾[git]](https://github.com/znxlwm/pytorch-generative-model-collections/blob/master/WGAN.py).\n",
    "    - Переход на сравнение статистик карт признаков.  [Cтатья 🎓[article]](https://proceedings.neurips.cc/paper_files/paper/2016/file/8a3363abe792db2d8761d6403605aeb7-Paper.pdf). [Реализация 🐾[git]](https://github.com/openai/improved-gan).\n",
    "\n",
    "- **Top-k Training:** отказ от обучения на плохих примерах. Градиент пропускается только через top-k наилучшим способом сгенерированных объектов. Объекты с большими градиентами отбрасываются. [Cтатья 🎓[arxiv]](https://arxiv.org/abs/2002.06224).\n"
   ]
  },
  {
   "cell_type": "markdown",
   "metadata": {},
   "source": [
    "Ни один из этих методов не является универсальным.\n",
    "Мы попробуем применить к нашей модели спектральную нормализацию:"
   ]
  },
  {
   "cell_type": "code",
   "execution_count": null,
   "metadata": {},
   "outputs": [],
   "source": [
    "from torch.nn.utils import spectral_norm\n",
    "\n",
    "\n",
    "def add_spectral_norm(m):\n",
    "    if isinstance(m, nn.Linear) or isinstance(m, torch.nn.Conv2d):\n",
    "        m = spectral_norm(m)"
   ]
  },
  {
   "cell_type": "code",
   "execution_count": null,
   "metadata": {},
   "outputs": [],
   "source": [
    "set_random_seed(42)\n",
    "L.seed_everything(42)\n",
    "\n",
    "# Initialize Generator and Discriminator\n",
    "generator = Generator(latent_dim=latent_dim, img_size=img_size, channels=channels)\n",
    "\n",
    "discriminator = Discriminator(channels=channels)\n",
    "\n",
    "# Initialize weight\n",
    "generator.apply(weights_init_normal)\n",
    "discriminator.apply(weights_init_normal)\n",
    "\n",
    "discriminator.apply(add_spectral_norm)\n",
    "\n",
    "pl_model = GAN(\n",
    "    generator, discriminator, noise_in_place=True, latent_dim=100, lr=lr, betas=(b1, b2)\n",
    ")"
   ]
  },
  {
   "cell_type": "code",
   "execution_count": null,
   "metadata": {},
   "outputs": [],
   "source": [
    "trainer = L.Trainer(\n",
    "    max_epochs=num_epochs,\n",
    "    logger=L.pytorch.loggers.TensorBoardLogger(save_dir=\"./log_cgan/\"),\n",
    ")\n",
    "\n",
    "trainer.fit(model=pl_model, train_dataloaders=data_loader)"
   ]
  },
  {
   "cell_type": "markdown",
   "metadata": {},
   "source": [
    "График функции потерь меняется более устойчиво. Нет ряби на изображениях. При увеличении количества эпох качество станет еще лучше."
   ]
  },
  {
   "cell_type": "markdown",
   "metadata": {},
   "source": [
    "### Другие особенности"
   ]
  },
  {
   "cell_type": "markdown",
   "metadata": {},
   "source": [
    "[[git] 🐾 How to Train a GAN? Tips and tricks to make GANs work](https://github.com/soumith/ganhacks/)"
   ]
  },
  {
   "cell_type": "markdown",
   "metadata": {},
   "source": [
    "**Простые ошибки**:\n",
    "- Обратите внимание, что сгенерированные объекты должны быть в том же числовом диапазоне и иметь тот же размер, что и реальные данные.\n",
    "- При использовании `BatchNorm` следите, чтобы  real и fake батчи [поступали на дискриминатор отдельно 🐾[git]](https://github.com/soumith/ganhacks/?tab=readme-ov-file#4-batchnorm). При небольшом количестве объектов в батче или странном поведении модели в тестовом режиме лучше использовать `InstanceNorm`."
   ]
  },
  {
   "cell_type": "markdown",
   "metadata": {},
   "source": [
    "**Нужно ли давать преимущество дискриминатору?**\n",
    "\n",
    "Один из самых старых и распространенных советов при обучении GAN — давать преимущество дискриминатору. Это означает, например, что параметры дискриминатора обновляются чаще, чем параметры генератора. В большинстве случаев ограничение градиентов работает не хуже, чем такая нетривиальная организация процесса обучения, а делается проще.\n"
   ]
  },
  {
   "cell_type": "markdown",
   "metadata": {},
   "source": [
    "**Оптимизатор:**\n",
    "\n",
    "В большинстве статей про **GAN** используется **ADAM**. В [статье 🎓[arxiv]](https://arxiv.org/pdf/1802.05957.pdf) проведено исследование по поиску оптимальных параметров оптимизатора: для большинства архитектур $\\beta_1 = 0.5, \\beta_2 = 0.999, \\text{lr} = 2\\cdot 10^{-4}$ — хорошая отправная точка для обучения."
   ]
  },
  {
   "cell_type": "markdown",
   "metadata": {},
   "source": [
    "Параметр `epsilon` **ADAM** по умолчанию в PyTorch равен `1e-8`, что может вызвать проблемы после длительного периода обучения, например, резкий рост значений функции потерь. Для борьбы с этим параметр `epsilon` можно увеличить, например, до `1e-3`. Подробнее об этом на [StackOverflow ✏️[blog]](https://stackoverflow.com/questions/42327543/adam-optimizer-goes-haywire-after-200k-batches-training-loss-grows) и в комментарии на [Reddit ✏️[blog]](https://www.reddit.com/r/reinforcementlearning/comments/j9rflf/intuitive_explanation_for_adams_epsilon_parameter/)."
   ]
  },
  {
   "cell_type": "markdown",
   "metadata": {},
   "source": [
    "## Метрики генерации"
   ]
  },
  {
   "cell_type": "markdown",
   "metadata": {},
   "source": [
    "Для того, чтобы улучшить генерацию, нам нужно понять, что значит лучше. Для этого нам нужно определиться с метриками. Одной из проблем генерации является **mode collapse** — ситуация, когда модель выдает одно и то же изображение или один и тот же класс и т. д., независимо от того, какие входные данные ей подаются.\n",
    "\n",
    "Ниже представлен пример с данными, представляющими собой 8 кластеров из гауссовых распределений. Верхняя строка — успешное обучение, нижняя — mode collapse."
   ]
  },
  {
   "cell_type": "markdown",
   "metadata": {},
   "source": [
    "<center><img src =\"https://edunet.kea.su/repo/EduNet-web_dependencies/dev-2.1/L13/mode_collapse_example.png\" width=\"900\"></center>\n",
    "\n",
    "<center><em>Обучение  GAN на смеси двумерных гауссиан. Верхняя строка — успешное обучение, нижняя — mode collapse.</em></center>\n",
    "\n",
    "<center><em>Source: <a href=\"https://arxiv.org/pdf/1611.02163.pdf\">Unrolled Generative Adversarial Networks</a></em></center>"
   ]
  },
  {
   "cell_type": "markdown",
   "metadata": {},
   "source": [
    "Посмотрим на это с точки зрения распределений:"
   ]
  },
  {
   "cell_type": "markdown",
   "metadata": {},
   "source": [
    "<center><img src =\"https://edunet.kea.su/repo/EduNet-web_dependencies/dev-2.1/L13/mode_collapse_in_gan.png\" width=\"850\"></center>\n",
    "\n",
    "<center><em>Mode collapse в GAN (a) — с точки зрения распределения, (b) — с точки зрения сгенерированных изображений.</em></center>\n",
    "\n",
    "<center><em>Source: <a href=\"https://www.researchgate.net/publication/354203725_Modified_generative_adversarial_networks_for_image_classification\">Modified generative adversarial networks for image classification</a></em></center>"
   ]
  },
  {
   "cell_type": "markdown",
   "metadata": {},
   "source": [
    "С точки зрения распределений mode collapse случается, когда модель повторяет только часть сложного распределения целевых данных."
   ]
  },
  {
   "cell_type": "markdown",
   "metadata": {},
   "source": [
    " ### Inception Score"
   ]
  },
  {
   "cell_type": "markdown",
   "metadata": {},
   "source": [
    "Для определения качества генерации мы бы хотели оценивать два свойства сгенерированной коллекции изображений:\n",
    "- качество изображения: похоже ли сгенерированное изображение на какой-то конкретный объект или это шум?\n",
    "- разнообразие изображений: не происходит ли mode collapse?\n"
   ]
  },
  {
   "cell_type": "markdown",
   "metadata": {},
   "source": [
    "Один из способов проверить оба свойства — использовать **Inception Score**. **Inception Score** — это способ оценки качества генерации с использованием сети Inception-v3, обученной на ImageNet (1000 классов), предложенный в статье [Improved Techniques for Training GANs 🎓[arxiv]](https://arxiv.org/pdf/1606.03498.pdf) в 2016 году.\n"
   ]
  },
  {
   "cell_type": "markdown",
   "metadata": {},
   "source": [
    "<center><img src =\"https://edunet.kea.su/repo/EduNet-web_dependencies/dev-2.1/L13/inception_v3_architecture.png\" width=\"900\"></center>\n",
    "\n",
    "<center><em>Архитектура Inception-v3</em></center>\n",
    "\n",
    "<center><em>Source: <a href=\"https://paperswithcode.com/method/inception-v3\">Rethinking the Inception Architecture for Computer Vision</a></em></center>"
   ]
  },
  {
   "cell_type": "markdown",
   "metadata": {},
   "source": [
    "Оцениваемые изображения прогоняются через сеть Inception-v3. На выходе сети — вероятности для 1000 классов $p(y|x)$, где $x$ — входное изображение, $y$ — метка класса.\n",
    "- Для оценки качества изображения: сгенерированное изображение должно с высокой вероятностью относиться к одному из классов. Это значит, что энтропия $p(y|x)$ должна быть низкой:\n",
    "\n",
    "$$H = -\\sum_{i}p_i\\log{p_i}$$\n",
    "\n",
    "- Для оценки разнообразия: мы хотим, чтобы предсказываемые метки классов были как можно более разнообразными. Это значит, что мы должны максимизировать энтропию $\\int{p(y|x=G(z))dz}$."
   ]
  },
  {
   "cell_type": "markdown",
   "metadata": {},
   "source": [
    "Эти два условия могут быть [объединены ✏️[blog]](https://machinelearningmastery.com/how-to-implement-the-inception-score-from-scratch-for-evaluating-generated-images/) через [дивергенцию Кульбака-Лейблера 📚[wiki]](https://en.wikipedia.org/wiki/Kullback%E2%80%93Leibler_divergence) в Inception Score:\n",
    "\n",
    "$$\\text{IS} = \\exp(\\mathbb{E}_x\\text{KL}(p(y|x)||p(y)))$$\n",
    "\n",
    "Минимальное значение $\\text{IS}$ — 1, максимальное (для Inception-v3, обученной на ImageNet) — 1000. Чем **выше качество генерации** и больше вариативность, тем **выше Inception Score**."
   ]
  },
  {
   "cell_type": "markdown",
   "metadata": {},
   "source": [
    "Проблемы **Inception Score**:\n",
    " - Значение **Inception Score** зависит от применяемой модели Inception-v3: они могут быть написаны на различных библиотеках, обучаться с разной точностью вычислений на различных устройствах с различной инициализацией.\n",
    " - Inception-v3 обучена на ImageNet, она адекватно работает на датасетах с похожими данными, например, на тестовой выборке датасета CIFAR-10 она дает значение порядка 11, что близко к количеству исходных данных. Но для оценки, например, медицинских данных имеет смысл использовать собственный классификатор.\n",
    " - Inception-v3 обучена на 3-хканальных изображениях с размером 299×299 и может некорректно работать с другими форматами."
   ]
  },
  {
   "cell_type": "markdown",
   "metadata": {},
   "source": [
    "### Frechet Inception Distance (FID)"
   ]
  },
  {
   "cell_type": "markdown",
   "metadata": {},
   "source": [
    "Более поздней [модификацией 🎓[arxiv]](https://arxiv.org/pdf/1706.08500.pdf)  Inception Score является Frechet Inception Distance. Эта метрика использует [расстояние Фреше 📚[wiki]](https://ru.wikipedia.org/wiki/%D0%A0%D0%B0%D1%81%D1%81%D1%82%D0%BE%D1%8F%D0%BD%D0%B8%D0%B5_%D0%A4%D1%80%D0%B5%D1%88%D0%B5) (метрика сходства кривых) для оценки разницы между распределением высокоуровневых признаков, извлекаемых Inception-v3 для реальных и сгенерированных изображений.\n",
    "Т. к. FID использует метрику расстояния, **чем меньше  FID — тем лучше**.\n",
    "\n",
    "Эта метрика меньше привязана к ImageNet, т. к. рассматривает распределение высокоуровневых признаков, а не предсказываемых классов, но также зависит от версии библиотек."
   ]
  },
  {
   "cell_type": "markdown",
   "metadata": {},
   "source": [
    "Кроме того, у нее есть особенность: если вместо того, чтобы научиться генерировать новые изображения, модель выучит все изображения из обучающей выборки, значение FID будет очень низким, а если сравнивать с train данными — нулевым, поэтому важно сравнивать с отложенной выборкой (о чем иногда забывают).\n",
    "\n",
    "[[git] 🐾 Другие метрики генерации](https://github.com/yhlleo/GAN-Metrics)"
   ]
  },
  {
   "cell_type": "markdown",
   "metadata": {},
   "source": [
    "### Пример расчета метрик"
   ]
  },
  {
   "cell_type": "markdown",
   "metadata": {},
   "source": [
    "Попробуем посчитать метрики для [предобученного на CIFAR-10 GAN 🐾[git]](https://github.com/csinva/gan-vae-pretrained-pytorch). Для этого клонируем код из репозитория."
   ]
  },
  {
   "cell_type": "code",
   "execution_count": null,
   "metadata": {},
   "outputs": [],
   "source": [
    "!git clone -q https://github.com/csinva/gan-vae-pretrained-pytorch.git"
   ]
  },
  {
   "cell_type": "markdown",
   "metadata": {},
   "source": [
    "Создадим модель (нам нужен только генератор)."
   ]
  },
  {
   "cell_type": "code",
   "execution_count": null,
   "metadata": {},
   "outputs": [],
   "source": [
    "import sys\n",
    "\n",
    "sys.path.append(\"/content/gan-vae-pretrained-pytorch\")"
   ]
  },
  {
   "cell_type": "code",
   "execution_count": null,
   "metadata": {},
   "outputs": [],
   "source": [
    "from cifar10_dcgan.dcgan import Generator\n",
    "\n",
    "generator = Generator(ngpu=1)"
   ]
  },
  {
   "cell_type": "markdown",
   "metadata": {},
   "source": [
    "Подгрузим веса модели:"
   ]
  },
  {
   "cell_type": "code",
   "execution_count": null,
   "metadata": {},
   "outputs": [],
   "source": [
    "import torch\n",
    "\n",
    "generator.load_state_dict(\n",
    "    torch.load(\n",
    "        \"/content/gan-vae-pretrained-pytorch/cifar10_dcgan/weights/netG_epoch_199.pth\",\n",
    "        weights_only=True,\n",
    "        map_location=torch.device(\"cpu\"),\n",
    "    )\n",
    ")"
   ]
  },
  {
   "cell_type": "markdown",
   "metadata": {},
   "source": [
    "Попробуем сгенерировать данные. Для этого пропишем денормализацию: автор кода использовал `mean=(0.5, 0.5, 0.5)` и `std=(0.5, 0.5, 0.5)` (не лучший выбор для CIFAR-10)."
   ]
  },
  {
   "cell_type": "code",
   "execution_count": null,
   "metadata": {},
   "outputs": [],
   "source": [
    "from torchvision.transforms import v2\n",
    "\n",
    "batch_size = 16\n",
    "nz = 100\n",
    "\n",
    "denormalization = v2.Compose(\n",
    "    [\n",
    "        v2.Normalize(mean=[0.0, 0.0, 0.0], std=[1 / 0.5, 1 / 0.5, 1 / 0.5]),\n",
    "        v2.Normalize(mean=[-0.5, -0.5, -0.5], std=[1.0, 1.0, 1.0]),\n",
    "    ]\n",
    ")\n",
    "\n",
    "noise = torch.randn(batch_size, nz, 1, 1)\n",
    "imgs = denormalization(generator(noise))\n",
    "imgs = (imgs * 255).type(torch.uint8)"
   ]
  },
  {
   "cell_type": "markdown",
   "metadata": {},
   "source": [
    "Посмотрим на результат генерации:"
   ]
  },
  {
   "cell_type": "code",
   "execution_count": null,
   "metadata": {},
   "outputs": [],
   "source": [
    "import matplotlib.pyplot as plt\n",
    "\n",
    "fig, ax = plt.subplots(figsize=(16 * 3, 2 * 3))\n",
    "ax.imshow(\n",
    "    make_grid(imgs).permute(1, 2, 0).cpu().numpy(),\n",
    "    interpolation=\"nearest\",\n",
    "    aspect=\"equal\",\n",
    ")\n",
    "ax.axis(\"off\")\n",
    "plt.show()"
   ]
  },
  {
   "cell_type": "markdown",
   "metadata": {},
   "source": [
    "Загрузим тестовый датасет от CIFAR-10:"
   ]
  },
  {
   "cell_type": "code",
   "execution_count": null,
   "metadata": {},
   "outputs": [],
   "source": [
    "from torchvision import datasets\n",
    "\n",
    "test_dataset = datasets.CIFAR10(\n",
    "    \"content\", train=False, download=True, transform=v2.ToTensor()\n",
    ")\n",
    "\n",
    "test_loader = torch.utils.data.DataLoader(\n",
    "    test_dataset, batch_size=32, shuffle=False, drop_last=False, num_workers=2\n",
    ")"
   ]
  },
  {
   "cell_type": "markdown",
   "metadata": {},
   "source": [
    "Для расчета будем использовать метрики из `torchmetrics`, для корректной работы нужно сначала установить `torchmetrics[image]`, а потом `lightning`:"
   ]
  },
  {
   "cell_type": "code",
   "execution_count": null,
   "metadata": {},
   "outputs": [],
   "source": [
    "from IPython.display import clear_output\n",
    "\n",
    "!pip install -q --upgrade diffusers transformers accelerate\n",
    "!pip install -q torchmetrics[image]\n",
    "!pip install -q lightning\n",
    "\n",
    "clear_output()"
   ]
  },
  {
   "cell_type": "markdown",
   "metadata": {},
   "source": [
    " При работе с метриками генерации из `torchmetrics` есть ряд особенностей:\n",
    "- `InceptionScore` и `FrechetInceptionDistance` работают с трехканальными изображениями `[batch, 3, 299, 299]` типа `torch.uint8`. Изменение размера метрика делает автоматически, а количество каналов и тип данных — наша забота.\n",
    "- Параметр `feature` позволяет выбирать, из какой части модели берутся признаки. Вместо чисел туда можно передавать собственный экстрактор признаков типа `nn.Module`.\n",
    "- Метрики рекомендуется использовать внутри `L.LightningModule` с включенной GPU, тогда вычисления происходят быстрее."
   ]
  },
  {
   "cell_type": "code",
   "execution_count": null,
   "metadata": {},
   "outputs": [],
   "source": [
    "import lightning as L\n",
    "\n",
    "from torchmetrics import MetricCollection\n",
    "from torchmetrics.image.inception import InceptionScore\n",
    "from torchmetrics.image.fid import FrechetInceptionDistance\n",
    "\n",
    "\n",
    "class RunMetric(L.LightningModule):\n",
    "    def __init__(self, generator, noise_gen, detransform):\n",
    "        super().__init__()\n",
    "        # model\n",
    "        self.generator = generator\n",
    "        self.noise_gen = noise_gen\n",
    "        self.detransform = detransform\n",
    "\n",
    "        # metrics\n",
    "        self.is_real = InceptionScore()\n",
    "        self.is_fake = InceptionScore()\n",
    "\n",
    "        self.fid = MetricCollection(\n",
    "            {\n",
    "                \"FID_64\": FrechetInceptionDistance(feature=64),\n",
    "                \"FID_192\": FrechetInceptionDistance(feature=192),\n",
    "                \"FID_768\": FrechetInceptionDistance(feature=768),\n",
    "                \"FID_2048\": FrechetInceptionDistance(feature=2048),\n",
    "            }\n",
    "        )\n",
    "\n",
    "    def test_step(self, batch, batch_idx):\n",
    "        real, _ = batch\n",
    "        batch_size = real.shape[0]\n",
    "        noise = self.noise_gen(batch_size).to(self.device)\n",
    "        fake = self.generator(noise)\n",
    "        fake = self.detransform(fake)\n",
    "\n",
    "        real = (real * 255).type(torch.uint8)\n",
    "        fake = (fake * 255).type(torch.uint8)\n",
    "\n",
    "        self.fake = fake\n",
    "\n",
    "        self.is_real.update(real)\n",
    "        self.is_fake.update(fake)\n",
    "\n",
    "        self.fid.update(real, real=True)\n",
    "        self.fid.update(fake, real=False)\n",
    "\n",
    "    def on_test_epoch_end(self):\n",
    "        is_real = self.is_real.compute()[0]\n",
    "        self.log(\"IS_real\", is_real.item())\n",
    "        self.is_real.reset()\n",
    "\n",
    "        is_fake = self.is_fake.compute()[0]\n",
    "        self.log(\"IS_fake\", is_fake.item())\n",
    "        self.is_fake.reset()\n",
    "\n",
    "        fid = self.fid.compute()\n",
    "        self.log_dict(fid)\n",
    "        self.fid.reset()\n",
    "\n",
    "        fig, ax = plt.subplots(figsize=(16 * 3, 2 * 3))\n",
    "        ax.imshow(\n",
    "            make_grid(self.fake).permute(1, 2, 0).cpu().numpy(),\n",
    "            interpolation=\"nearest\",\n",
    "            aspect=\"equal\",\n",
    "        )\n",
    "        ax.axis(\"off\")\n",
    "        plt.show()"
   ]
  },
  {
   "cell_type": "code",
   "execution_count": null,
   "metadata": {},
   "outputs": [],
   "source": [
    "def noise_gen(batch_size, nz=100):\n",
    "    return torch.randn(batch_size, nz, 1, 1)"
   ]
  },
  {
   "cell_type": "code",
   "execution_count": null,
   "metadata": {},
   "outputs": [],
   "source": [
    "!mkdir /content/lightning_logs"
   ]
  },
  {
   "cell_type": "code",
   "execution_count": null,
   "metadata": {},
   "outputs": [],
   "source": [
    "from warnings import simplefilter\n",
    "\n",
    "simplefilter(\"ignore\", category=RuntimeWarning)\n",
    "\n",
    "L.seed_everything(42)\n",
    "\n",
    "pl_model = RunMetric(generator, noise_gen, denormalization)\n",
    "clear_output()\n",
    "trainer = L.Trainer(max_epochs=0)\n",
    "metrics = trainer.test(model=pl_model, dataloaders=test_loader)"
   ]
  },
  {
   "cell_type": "markdown",
   "metadata": {},
   "source": [
    "Значение IS для тестовых данных CIFAR-10 около 11, для сгенерированных данных — 6.5. Это значит, что качеству генерации есть куда расти (по сгенерированным изображениям это видно), что касается FID — чтобы сравнить модели, нужно обучить несколько. Чем меньше FID, тем лучше."
   ]
  },
  {
   "cell_type": "markdown",
   "metadata": {},
   "source": [
    "## cGAN — GAN с условием"
   ]
  },
  {
   "cell_type": "markdown",
   "metadata": {},
   "source": [
    "**cGAN** расшифровывается как **Conditional Generative Adversarial Network** — это **GAN** с условием. Условие может быть любым, например, генерация конкретной цифры. В этом случае нам нужен уже размеченный датасет для того, чтобы обучить Conditional GAN."
   ]
  },
  {
   "cell_type": "markdown",
   "metadata": {},
   "source": [
    "<center><img src =\"https://edunet.kea.su/repo/EduNet-content/dev-2.1/L13/out/conditional_gan_scheme.png\" width=\"700\"></center>\n",
    "<center><em>Схема работы cGAN. Label Y добавляется к случайному шуму, тем самым мы говорим генератору генерировать случайное изображение нужного класса. Также он подаётся в дискриминатор в качестве входа, чтобы дискриминатор знал, какое изображение классифицировать как реальное, а какое — как сгенерированное.</em></center>"
   ]
  },
  {
   "cell_type": "markdown",
   "metadata": {},
   "source": [
    "Обучение в данном случае будет аналогичным обучению **GAN**: мы будем обучать сети, чередуя реальные данные и сгенерированные, добавив `label`."
   ]
  },
  {
   "cell_type": "markdown",
   "metadata": {},
   "source": [
    "<center><img src =\"https://edunet.kea.su/repo/EduNet-web_dependencies/dev-2.1/L13/cgans_results_20_and_50_epochs_mnist.png\" width=\"600\"></center>\n",
    "<center><em>Сравнение результатов cGAN и cDCGAN</em></center>\n",
    "\n",
    "<center><em>Source: <a href=\"https://github.com/znxlwm/pytorch-MNIST-CelebA-cGAN-cDCGAN\">PyTorch Implementation of cGAN and cDCGAN</a></em></center>\n",
    "\n"
   ]
  },
  {
   "cell_type": "markdown",
   "metadata": {},
   "source": [
    "### Кодирование меток классов"
   ]
  },
  {
   "cell_type": "markdown",
   "metadata": {},
   "source": [
    "Поскольку подавать в сеть числа от 0 до 9 (в случае **MNIST**) нет смысла, нужно придумать, как подавать их в нейронную сеть. На помощь приходят **Embeddings**. Мы можем представить каждую метку в виде вектора из, например, 128 компонент.\n",
    "\n",
    "[[doc] 🛠️](https://pytorch.org/docs/stable/generated/torch.nn.Embedding.html) `nn.Embedding`"
   ]
  },
  {
   "cell_type": "code",
   "execution_count": null,
   "metadata": {},
   "outputs": [],
   "source": [
    "samples, labels = next(iter(data_loader))\n",
    "\n",
    "label_emb = nn.Embedding(10, 128)\n",
    "\n",
    "e = label_emb(labels)\n",
    "\n",
    "print(f\"Label: {labels[0]}\")\n",
    "print(f\"Embedding for this label has shape: {e[0].shape}\")"
   ]
  },
  {
   "cell_type": "markdown",
   "metadata": {},
   "source": [
    "После этого **эмбеддинги** меток обычно конкатенируются с входами сетей."
   ]
  },
  {
   "cell_type": "markdown",
   "metadata": {},
   "source": [
    "**Почему нельзя подать просто число?**"
   ]
  },
  {
   "cell_type": "markdown",
   "metadata": {},
   "source": [
    "Если мы будем подавать просто число, например, $0.1$ для единицы и $0.5$ для пяти, то вход у нас будет непрерывным, что довольно нелогично: тогда при небольшом изменении входа мы будем генерировать другую цифру. А также сети будет сложнее выучить небольшие расхождения в этом небольшом интервале. В случае с векторным представлением мы избегаем этих проблем."
   ]
  },
  {
   "cell_type": "markdown",
   "metadata": {},
   "source": [
    "## Модификации GAN"
   ]
  },
  {
   "cell_type": "markdown",
   "metadata": {},
   "source": [
    "Существует множество способов модификации GAN. Например, можно подмешивать метки классов только в дискриминатор, как сделано в [**Semi-Supervised GAN** 🎓[arxiv]](https://arxiv.org/pdf/1606.01583.pdf). В нем дискриминатор делает классификацию не на $2$ класса **[real, fake]**, а на $n+1$ класс **[real 1, real 2, …, real n, fake]**, где $n$ — количество классов в исходном датасете."
   ]
  },
  {
   "cell_type": "markdown",
   "metadata": {},
   "source": [
    "Другие модификации и пример кода с ними:\n",
    "* [[git] 🐾 PyTorch Generative Model Collections](https://github.com/znxlwm/pytorch-generative-model-collections)\n",
    "* [[git] 🐾 PyTorch-GAN](https://github.com/eriklindernoren/PyTorch-GAN)."
   ]
  },
  {
   "cell_type": "markdown",
   "metadata": {},
   "source": [
    "Также стоит отметить добавление модификаций исходного латентного пространства — **Style GAN**. Именно они позволили генерировать фотореалистичные изображения с  минимальным количеством артефактов. [Примеры изображений ✏️[blog]](https://nvlabs.github.io/stylegan3/)."
   ]
  },
  {
   "cell_type": "markdown",
   "metadata": {},
   "source": [
    "Статьи про модификации GAN'ов:\n",
    "\n",
    "* [[arxiv] 🎓 A Style-Based Generator Architecture for Generative Adversarial Networks (StyleGAN) (Karras et al., 2018)](https://arxiv.org/abs/1812.04948)\n",
    "* [[arxiv] 🎓 Analyzing and Improving the Image Quality of StyleGAN (StyleGAN2) (Karras et al., 2019)](https://arxiv.org/abs/1912.04958)\n",
    "* [[arxiv] 🎓 Alias-Free Generative Adversarial Networks (Alias-Free GAN) (Karras et al., 2021)](https://arxiv.org/abs/2106.12423)"
   ]
  },
  {
   "cell_type": "markdown",
   "metadata": {},
   "source": [
    "# Диффузионные модели"
   ]
  },
  {
   "cell_type": "markdown",
   "metadata": {},
   "source": [
    "Базовая публикация по теме: [Denoising Diffusion Probabilistic Models (Ho et al., 2020) 🎓[arxiv]](https://arxiv.org/abs/2006.11239).\n",
    "\n",
    "В GAN мы преобразовывали шум в целевой объект в один шаг с использованием сложной функции — генератора, и задача обучения GAN состояла в обучении этой функции."
   ]
  },
  {
   "cell_type": "markdown",
   "metadata": {},
   "source": [
    "<center><img src =\"https://edunet.kea.su/repo/EduNet-content/dev-2.1/L13/out/gan_transform_idea.png\" width=\"350\"></center>"
   ]
  },
  {
   "cell_type": "markdown",
   "metadata": {},
   "source": [
    "Идея диффузии состоит в том, чтобы делать это не за один шаг, а за много маленьких шагов."
   ]
  },
  {
   "cell_type": "markdown",
   "metadata": {},
   "source": [
    "<center><img src =\"https://edunet.kea.su/repo/EduNet-content/dev-2.1/L13/out/diffusion_process.png\" width=\"1000\"></center>"
   ]
  },
  {
   "cell_type": "markdown",
   "metadata": {},
   "source": [
    "## Базовые понятия библиотеки Diffusers\n"
   ]
  },
  {
   "cell_type": "markdown",
   "metadata": {},
   "source": [
    "Для работы с диффузионными моделями мы будем использовать библиотеку Diffusers от Hugging Face. С вариантом кода на чистом PyTorch вы можете ознакомиться в [отдельном блокноте 🥨 [colab]](https://colab.research.google.com/drive/1vdWA0wP3eb5mJZt8sERL_js5Ji4l-j0V).\n",
    "\n",
    "Diffusers — это библиотека, целью которой является сделать диффузионные модели широко доступными для всех."
   ]
  },
  {
   "cell_type": "markdown",
   "metadata": {},
   "source": [
    "Перед началом работы необходимо установить библиотеки [Diffusers 🛠️[doc]](https://huggingface.co/docs/diffusers/index), [Accelerate 🛠️[doc]](https://huggingface.co/docs/accelerate/quicktour) и [Transformers 🛠️[doc]](https://huggingface.co/docs/transformers/index).\n",
    "\n",
    "* Accelerate — это вспомогательная библиотека, которая позволяет запускать PyTorch-код с различными конфигурациями оборудования (несколько GPU, TPU и т. д.) без дополнительной адаптации кода. Библиотека Diffusers использует библиотеку Accelerate. Это важно для диффузионных моделей, т. к. они обычно тяжелые и требуют большого количества ресурсов.\n",
    "\n",
    "* Transformers — необходима для запуска популярных text-to-image диффузионных моделей, таких как [Stable Diffusion 🛠️[doc]](https://huggingface.co/docs/diffusers/api/pipelines/stable_diffusion/overview)."
   ]
  },
  {
   "cell_type": "code",
   "execution_count": null,
   "metadata": {},
   "outputs": [],
   "source": [
    "import locale\n",
    "\n",
    "locale.getpreferredencoding = lambda: \"UTF-8\"\n",
    "\n",
    "!pip install -q accelerate\n",
    "!pip install -q diffusers\n",
    "!pip install -q transformers"
   ]
  },
  {
   "cell_type": "markdown",
   "metadata": {},
   "source": [
    "## Прямой диффузионный процесс (добавление шума)"
   ]
  },
  {
   "cell_type": "markdown",
   "metadata": {},
   "source": [
    "Пусть мы имеем некоторый объект $\\mathbf{x}_0$ из заданного имеющимся датасетом распределения $\\mathbf{x}_0 \\sim q(\\mathbf{x})$. Определим так называемый прямой диффузионный процесс, в ходе которого мы будем последовательно добавлять небольшое количество Гауссового шума последовательно $T$ раз, создавая из нашего объекта последовательность $\\mathbf{x}_1, \\dots, \\mathbf{x}_T$ постепенно всё более зашумленных версий нашего исходного объекта:\n",
    "\n",
    "$$\\large \\mathbf{x_t} = \\sqrt{1-\\beta_t}\\mathbf{x_{t-1}}+\\sqrt{\\beta_t}\\mathbf{n_{t-1}},$$\n",
    "\n",
    "где $\\mathbf{n_{t-1}} \\sim \\mathcal{N}(\\mathbf{0}, \\mathbf{I})$, а $\\beta_t$ — дисперсия добавляемого на $t$-ом шаге шума.\n",
    "\n",
    "Параметры добавляемого шума зависят от номера шага зашумления. Набор $\\{\\beta_t \\in (0, 1)\\}_{t=1}^T$ именуется планировщиком зашумления и задается заранее. В конце зашумления получаем нормальный шум: $\\mathbf{x_T} \\sim \\mathcal{N}(\\mathbf{0}, \\mathbf{I})$.\n",
    "\n",
    "Посмотрим, как это будет выглядеть на различных изображениях:"
   ]
  },
  {
   "cell_type": "markdown",
   "metadata": {},
   "source": [
    "<center><img src =\"https://edunet.kea.su/repo/EduNet-web_dependencies/dev-2.1/L13/denoising_diffusion_example.jpg\" width=\"1000\"></center>\n",
    "\n",
    "<center><em>Прямой диффузионный процесс, T=1000</em></center>\n",
    "\n",
    "<center><em>Source: <a href=\"https://learnopencv.com/denoising-diffusion-probabilistic-models/\">An In-Depth Guide to Denoising Diffusion Probabilistic Models – From Theory to Implementation</a></em></center>"
   ]
  },
  {
   "cell_type": "markdown",
   "metadata": {},
   "source": [
    "Исходное распределение данных из датасета будет последовательно преобразовано в Гауссов шум:\n",
    "\n",
    "$$ \\large\n",
    "q(\\mathbf{x}_{1:T} \\vert \\mathbf{x}_0) = \\prod^T_{t=1} q(\\mathbf{x}_t \\vert \\mathbf{x}_{t-1})$$\n",
    "\n",
    "$$\\large q(\\mathbf{x}_t \\vert \\mathbf{x}_{t-1}) = \\mathcal{N}(\\mathbf{x}_t; \\sqrt{1 - \\beta_t} \\mathbf{x}_{t-1}, \\beta_t\\mathbf{I}) \\quad$$\n",
    "\n",
    "\n"
   ]
  },
  {
   "cell_type": "markdown",
   "metadata": {},
   "source": [
    "### Причина использования Гауссова шума"
   ]
  },
  {
   "cell_type": "markdown",
   "metadata": {},
   "source": [
    "Важным свойством Гауссова распределения является то, что оно допускает аналитическое вычисление параметров шума на любом из шагов процесса в явном виде. Это связано с тем, что сумма нескольких нормально распределенных случайных величин также является случайной величиной с нормальным распределением. Это значит, что **во время обучения модели для подготовки данных нам не нужно будет делать до $T$ шагов зашумления**."
   ]
  },
  {
   "cell_type": "markdown",
   "metadata": {},
   "source": [
    "Для этого удобно ввести обозначение $\\large \\alpha_t = 1 - \\beta_t$. Тогда один шаг прямого диффузионного процесса будет выражаться так:\n",
    "\n",
    "$$ \\large \\mathbf{x}_t= \\sqrt{\\alpha_t}\\mathbf{x}_{t-1} + \\sqrt{1 - \\alpha_t}\\mathbf{n}_{t-1}$$"
   ]
  },
  {
   "cell_type": "markdown",
   "metadata": {},
   "source": [
    "Можно показать, что для $\\large t$-го шага прямого диффузионного процесса зашумленное изображение $\\large \\mathbf{x}_t$ выражается через исходное изображение $\\large \\mathbf{x}_0$ следующим образом:\n",
    "\n",
    "$$ \\large \\mathbf{x}_t = \\sqrt{\\overline{\\alpha}_t}\\mathbf{x}_0 + \\sqrt{1 - \\overline{\\alpha}_t}\\bar{\\mathbf{n}}_{0}, $$\n",
    "\n",
    "где $\\large \\bar{\\alpha}_t = \\prod_{s=1}^t \\alpha_s$, а  $\\large \\bar{\\mathbf{n}}_{0} \\sim \\mathcal{N}(\\mathbf{0}, \\mathbf{I})$."
   ]
  },
  {
   "cell_type": "markdown",
   "metadata": {},
   "source": [
    "На практике можно использовать другие методы зашумления/деградации изображения, которые больше подходят под ваши данные."
   ]
  },
  {
   "cell_type": "markdown",
   "metadata": {},
   "source": [
    "<center><img src =\"https://edunet.kea.su/repo/EduNet-web_dependencies/dev-2.1/L13/diffusion_models_results.png\" width=\"1000\"></center>\n",
    "<center><em>Результат работы диффузионных моделей, использующих различные типы деградации/зашумления изображения</em></center>\n",
    "\n",
    "<center><em>Source: <a href=\"https://arxiv.org/pdf/2208.09392.pdf\">Cold Diffusion: Inverting Arbitrary Image Transforms Without Noise</a></em></center>"
   ]
  },
  {
   "cell_type": "markdown",
   "metadata": {},
   "source": [
    "### Зашумление в библиотеке Diffusers"
   ]
  },
  {
   "cell_type": "markdown",
   "metadata": {},
   "source": [
    "Одной из ключевых частей библиотеки Diffusers является планировщик (Scheduler). Он отвечает за прямой диффузионный процесс (добавление шума) и за вычитание шума при генерации (в ходе обратного диффузионного процесса). Мы рассмотрим `DDPMScheduler`, т. к. в нем реализован алгоритм из [базовой статьи 🎓[arxiv]\n",
    "](https://arxiv.org/abs/2006.11239)."
   ]
  },
  {
   "cell_type": "code",
   "execution_count": null,
   "metadata": {},
   "outputs": [],
   "source": [
    "from diffusers import DDPMScheduler\n",
    "\n",
    "scheduler = DDPMScheduler(num_train_timesteps=1000)"
   ]
  },
  {
   "cell_type": "markdown",
   "metadata": {},
   "source": [
    "Посмотрим на параметры планировщика:"
   ]
  },
  {
   "cell_type": "code",
   "execution_count": null,
   "metadata": {},
   "outputs": [],
   "source": [
    "scheduler"
   ]
  },
  {
   "cell_type": "markdown",
   "metadata": {},
   "source": [
    "В параметры входят:\n",
    "\n",
    "- `num_train_timesteps` — количество временных шагов, необходимое для преобразования случайного гауссовского шума в изображение;\n",
    "- `beta_schedule` — тип планировщика зашумления;\n",
    "- `beta_start` и `beta_end` — начальное и конечное значения коэффициента $β_t$."
   ]
  },
  {
   "cell_type": "markdown",
   "metadata": {},
   "source": [
    "Посмотрим, как зашумляется изображение. Продолжим эксперименты с FashionMNIST."
   ]
  },
  {
   "cell_type": "code",
   "execution_count": null,
   "metadata": {},
   "outputs": [],
   "source": [
    "import os\n",
    "from torchvision import datasets\n",
    "from torchvision.transforms import v2\n",
    "\n",
    "os.makedirs(\"../../data/mnist\", exist_ok=True)\n",
    "\n",
    "data_set = datasets.FashionMNIST(\n",
    "    \"../../data/mnist\",\n",
    "    train=True,\n",
    "    download=True,\n",
    "    transform=v2.Compose(\n",
    "        [\n",
    "            v2.ToTensor(),\n",
    "            v2.Normalize([0.5], [0.5]),\n",
    "        ]\n",
    "    ),\n",
    ")"
   ]
  },
  {
   "cell_type": "code",
   "execution_count": null,
   "metadata": {},
   "outputs": [],
   "source": [
    "import torch\n",
    "import numpy as np\n",
    "import matplotlib.pyplot as plt\n",
    "\n",
    "\n",
    "sample_image = data_set[0][0].unsqueeze(0)\n",
    "\n",
    "\n",
    "def display_sample(sample, t, ax, title=\"step=\"):\n",
    "    image_processed = sample.cpu().permute(0, 2, 3, 1)\n",
    "    image_processed = (image_processed + 1.0) * 127.5\n",
    "    image_processed = image_processed.numpy().astype(np.uint8)\n",
    "    ax.imshow(image_processed[0], cmap=plt.get_cmap(\"gray\"))\n",
    "    ax.set_title(title + str(t))\n",
    "\n",
    "\n",
    "fig, axs = plt.subplots(ncols=10, nrows=1, figsize=(20, 4))\n",
    "\n",
    "for i, t in enumerate(range(0, 100, 10)):\n",
    "    noise = torch.randn(sample_image.shape)\n",
    "    timesteps = torch.LongTensor([t])\n",
    "    noisy_image = scheduler.add_noise(sample_image, noise, timesteps)\n",
    "    display_sample(noisy_image, t, axs[i])"
   ]
  },
  {
   "cell_type": "markdown",
   "metadata": {},
   "source": [
    "### Планировщик зашумления"
   ]
  },
  {
   "cell_type": "markdown",
   "metadata": {},
   "source": [
    "В [оригинальной статье 🎓[arxiv]](https://arxiv.org/pdf/2006.11239.pdf) используется линейный планировщик зашумления, который реализован внутри [планировщика 🛠️ [doc]](https://huggingface.co/docs/diffusers/main/en/api/schedulers/overview) `DDPMScheduler`."
   ]
  },
  {
   "cell_type": "code",
   "execution_count": null,
   "metadata": {},
   "outputs": [],
   "source": [
    "from diffusers import DDPMScheduler\n",
    "\n",
    "noise_scheduler = DDPMScheduler(num_train_timesteps=1000, beta_schedule=\"linear\")"
   ]
  },
  {
   "cell_type": "markdown",
   "metadata": {},
   "source": [
    "Посмотрим, как меняются $β$ и $\\overline{\\alpha}_t$:\n"
   ]
  },
  {
   "cell_type": "code",
   "execution_count": null,
   "metadata": {},
   "outputs": [],
   "source": [
    "beta_linear = noise_scheduler.betas\n",
    "alpha_linear = noise_scheduler.alphas\n",
    "alpha_hat_linear = noise_scheduler.alphas_cumprod\n",
    "\n",
    "fig, axs = plt.subplots(1, 2, figsize=(10, 3))\n",
    "axs[0].plot(beta_linear, label=\"linear\")\n",
    "axs[0].set_xlabel(\"t\")\n",
    "axs[0].set_ylabel(\"beta\")\n",
    "axs[0].legend()\n",
    "\n",
    "axs[1].plot(alpha_hat_linear, label=\"linear\")\n",
    "axs[1].set_xlabel(\"t\")\n",
    "axs[1].set_ylabel(r\"$\\bar{\\alpha}_t$\")\n",
    "axs[1].legend()\n",
    "\n",
    "plt.show()"
   ]
  },
  {
   "cell_type": "markdown",
   "metadata": {},
   "source": [
    "$\\overline{\\alpha}_t$ меняется сильно нелинейно. В [более поздней статье 🎓[arxiv]](https://arxiv.org/pdf/2102.09672.pdf) предложен косинусный планировщик зашумления:"
   ]
  },
  {
   "cell_type": "code",
   "execution_count": null,
   "metadata": {},
   "outputs": [],
   "source": [
    "noise_scheduler = DDPMScheduler(\n",
    "    num_train_timesteps=1000, beta_schedule=\"squaredcos_cap_v2\"\n",
    ")"
   ]
  },
  {
   "cell_type": "code",
   "execution_count": null,
   "metadata": {},
   "outputs": [],
   "source": [
    "beta_cosine = noise_scheduler.betas\n",
    "alpha_cosine = noise_scheduler.alphas\n",
    "alpha_hat_cosine = noise_scheduler.alphas_cumprod\n",
    "\n",
    "fig, axs = plt.subplots(1, 2, figsize=(10, 3))\n",
    "axs[0].plot(beta_linear, label=\"linear\")\n",
    "axs[0].plot(beta_cosine, label=\"cosine\")\n",
    "axs[0].set_xlabel(\"t\")\n",
    "axs[0].set_ylabel(\"beta\")\n",
    "axs[0].legend()\n",
    "\n",
    "axs[1].plot(alpha_hat_linear, label=\"linear\")\n",
    "axs[1].plot(alpha_hat_cosine, label=\"cosine\")\n",
    "axs[1].set_xlabel(\"t\")\n",
    "axs[1].set_ylabel(r\"$\\bar{\\alpha}_t$\")\n",
    "axs[1].legend()\n",
    "\n",
    "plt.show()"
   ]
  },
  {
   "cell_type": "markdown",
   "metadata": {},
   "source": [
    "Изменение $\\overline{\\alpha}_t$ для косинусного планировщика более линейно.\n",
    "В [статье 🎓[arxiv]](https://arxiv.org/pdf/2102.09672.pdf) показано, что такая форма минимизирует Negative Log-Likelihood, что приводит к улучшению качества изображения. Визуально зашумление изображения с использованием косинусного планировщика кажется более равномерным:\n",
    "\n"
   ]
  },
  {
   "cell_type": "markdown",
   "metadata": {},
   "source": [
    "<center><img src =\"https://edunet.kea.su/repo/EduNet-web_dependencies/dev-2.1/L13/linear_cosine_schedules.png\" width=\"950\"></center>\n",
    "\n",
    "<center><em>Результат работы линейного (верх) и косинусного (низ) планировщиков зашумления</em></center>\n",
    "\n",
    "<center><em>Source: <a href=\"https://arxiv.org/pdf/2102.09672.pdf\">Improved Denoising Diffusion Probabilistic Models</a></em></center>"
   ]
  },
  {
   "cell_type": "markdown",
   "metadata": {},
   "source": [
    "## Обратный диффузионный процесс (удаление шума)"
   ]
  },
  {
   "cell_type": "markdown",
   "metadata": {},
   "source": [
    "$$\\large p_\\theta(\\mathbf{x}_{0:T}) = p(\\mathbf{x}_T) \\prod^T_{t=1} p_\\theta(\\mathbf{x}_{t-1} \\vert \\mathbf{x}_t) \\quad\n",
    "p_\\theta(\\mathbf{x}_{t-1} \\vert \\mathbf{x}_t) = \\mathcal{N}(\\mathbf{x}_{t-1}; \\boldsymbol{\\mu}_\\theta(\\mathbf{x}_t, t), \\boldsymbol{\\Sigma}_\\theta(\\mathbf{x}_t, t))$$"
   ]
  },
  {
   "cell_type": "markdown",
   "metadata": {},
   "source": [
    "Целью обратного диффузионного процесса является “расшумление” изображения. Для осуществления данного процесса используется нейросеть, архитектуру которой мы рассмотрим ниже. Пока нам нужно определиться с входом и выходом сети и функцией ошибок:\n",
    "- На вход модели поступают зашумленное изображение $\\mathbf{x}_t = \\sqrt{\\overline{\\alpha}_t}\\mathbf{x}_0 + \\sqrt{1 - \\overline{\\alpha}_t}\\bar{\\mathbf{n}}_{0} $\n",
    "и текущий шаг $t$. Модель пытается предсказать **весь добавленный шум** $\\bar{\\mathbf{n}}_{0}$ (так она работает более устойчиво).\n",
    "- На выходе предсказываемый моделью шум $\\bar{\\mathbf{n}}_{0} \\sim \\mathcal{N}(\\mathbf{0}, \\mathbf{I})$. Мы не изменяем дисперсию предсказываемого шума от номера шага — он всегда в одном диапазоне.\n",
    "- В качестве функции ошибок используется MSE:\n",
    "\n",
    "$$\\large \\text{Loss} = \\text{MSE}(\\bar{\\mathbf{n}}_{0}, \\mathbf{n}_θ(x_t, t)).$$\n",
    "\n",
    "- В одном батче на обучение присутствуют разные картинки $\\mathbf{x}$ на разных стадиях зашумления $t$."
   ]
  },
  {
   "cell_type": "markdown",
   "metadata": {},
   "source": [
    "Подробное математическое обоснование:\n",
    "* [[arxiv] 🎓 Denoising Diffusion Probabilistic Models (Ho et al., 2020)](https://arxiv.org/pdf/2006.11239.pdf)\n",
    "* [[blog] ✏️ What are Diffusion Models?](https://lilianweng.github.io/posts/2021-07-11-diffusion-models)"
   ]
  },
  {
   "cell_type": "markdown",
   "metadata": {},
   "source": [
    "### Denoising U-Net"
   ]
  },
  {
   "cell_type": "markdown",
   "metadata": {},
   "source": [
    "Архитектура  Denoising U-Net представлена на картинке ниже. Это уже знакомый нам из лекции по сегментации U-Net с привычными skip connections между картами признаков энкодера и декодера (рыжие стрелки и надпись concatenate). На входе сети — зашумленное изображение, на выходе — предсказанный шум.\n",
    "\n",
    "В качестве базового блока используются ResNet блоки. Из архитектурных добавлений:\n",
    "- блоки Self-Attention,\n",
    "- примешивание эмбеддинга текущего шага генерации $t$ при каждом изменении размера."
   ]
  },
  {
   "cell_type": "markdown",
   "metadata": {},
   "source": [
    "<center><img src =\"https://edunet.kea.su/repo/EduNet-web_dependencies/dev-2.1/L13/denoising_unet_architecture.png\" width=\"800\"></center>\n",
    "\n",
    "<center><em>Архитектура Denoising U-Net</em></center>\n",
    "\n",
    "<center><em>Source: <a href=\"https://learnopencv.com/denoising-diffusion-probabilistic-models/\">\n",
    "An In-Depth Guide to Denoising Diffusion Probabilistic Models – From Theory to Implementation</a></em></center>"
   ]
  },
  {
   "cell_type": "markdown",
   "metadata": {},
   "source": [
    "Загрузить предобученную модель можно в бибилиотеке Diffusers с помощью метода `from_pretrained`. Загрузим базовую модель безусловной генерации изображений, обученную на изображениях кошек:"
   ]
  },
  {
   "cell_type": "code",
   "execution_count": null,
   "metadata": {},
   "outputs": [],
   "source": [
    "from diffusers import UNet2DModel\n",
    "from IPython.display import clear_output\n",
    "\n",
    "repo_id = \"google/ddpm-cat-256\"\n",
    "model = UNet2DModel.from_pretrained(repo_id, use_safetensors=True)\n",
    "clear_output()"
   ]
  },
  {
   "cell_type": "markdown",
   "metadata": {},
   "source": [
    "Посмотрим на параметры модели:"
   ]
  },
  {
   "cell_type": "code",
   "execution_count": null,
   "metadata": {},
   "outputs": [],
   "source": [
    "model.config"
   ]
  },
  {
   "cell_type": "markdown",
   "metadata": {},
   "source": [
    "Конфигурация модели представляет собой 🧊 `FrozenDict`. Это значит, что параметры нельзя изменить после создания модели. В параметры модели входят:\n",
    "\n",
    "- `sample_size` — высота и ширина изображения, тут 256×256;\n",
    "- `in_channels`, `out_channels` — количество каналов изображения, тут 3;\n",
    "- `down_block_types` и `up_block_types` — тип блоков понижения и повышения размерности, используемых для создания архитектуры U-Net (в данном случае у нас только по одному блоку с Attention ближе к середине U-Net);\n",
    "- `block_out_channels` — количество выходных каналов блоков понижения размерности, используется в обратном порядке для количества входных каналов блоков повышения размерности;\n",
    "- `layers_per_block` — количество блоков ResNet, присутствующих в каждом блоке U-Net.\n",
    "\n",
    "Есть модификации, которые предсказывают предыдущую выборку или [v-prediction 🎓[paper]](https://imagen.research.google/video/paper.pdf). Тип предсказания можно посмотреть в атрибуте `prediction_type` у планировщиков (`epsilon` — предсказание остаточного шума, `sample` — предсказание предыдущей выборки или `v_prediction`)."
   ]
  },
  {
   "cell_type": "markdown",
   "metadata": {},
   "source": [
    "Можно распечатать архитектуру модели:"
   ]
  },
  {
   "cell_type": "code",
   "execution_count": null,
   "metadata": {},
   "outputs": [],
   "source": [
    "print(model)"
   ]
  },
  {
   "cell_type": "markdown",
   "metadata": {},
   "source": [
    "#### Базовый блок"
   ]
  },
  {
   "cell_type": "markdown",
   "metadata": {},
   "source": [
    "В качестве базового блока используются ResNet блоки с SiLU в качестве функции активации и GroupNorm."
   ]
  },
  {
   "cell_type": "code",
   "execution_count": null,
   "metadata": {},
   "outputs": [],
   "source": [
    "print(model.down_blocks[0].resnets[0])"
   ]
  },
  {
   "cell_type": "markdown",
   "metadata": {},
   "source": [
    "#### Понижение и повышение размерности"
   ]
  },
  {
   "cell_type": "markdown",
   "metadata": {},
   "source": [
    "При повышении и понижении размерности к картам признаков примешивается информация о текущем шаге зашумления/расшумления. Это делается через “аппендикс” c линейным слоем, который изменяет размер эмбеддинга до количества каналов карты признаков $C_{out}$ и суммирует эмбеддинг с каналами."
   ]
  },
  {
   "cell_type": "markdown",
   "metadata": {},
   "source": [
    "Понижение размерности:"
   ]
  },
  {
   "cell_type": "markdown",
   "metadata": {},
   "source": [
    "<center><img src =\"https://edunet.kea.su/repo/EduNet-content/dev-2.1/L13/out/down_block.png\" width=\"700\"></center>"
   ]
  },
  {
   "cell_type": "markdown",
   "metadata": {},
   "source": [
    "Повышение размерности — не забываем про skip connection:"
   ]
  },
  {
   "cell_type": "markdown",
   "metadata": {},
   "source": [
    "<center><img src =\"https://edunet.kea.su/repo/EduNet-content/dev-2.1/L13/out/upblock.png\" width=\"900\"></center>"
   ]
  },
  {
   "cell_type": "markdown",
   "metadata": {},
   "source": [
    "В качестве позиционного эмбеддинга используется sin-cos позиционный эмбеддинг из трансформеров."
   ]
  },
  {
   "cell_type": "code",
   "execution_count": null,
   "metadata": {},
   "outputs": [],
   "source": [
    "num_noise_steps = 1000\n",
    "\n",
    "t = torch.arange(start=1, end=1000, step=1)\n",
    "positional_embeding = model.time_proj(t)\n",
    "embeding_img = positional_embeding.numpy()\n",
    "\n",
    "cax = plt.matshow(embeding_img[0:100])\n",
    "plt.gcf().colorbar(cax)\n",
    "plt.show()"
   ]
  },
  {
   "cell_type": "markdown",
   "metadata": {},
   "source": [
    "#### Self-Attention"
   ]
  },
  {
   "cell_type": "markdown",
   "metadata": {},
   "source": [
    "Стоит обратить внимание на то, что блок Self-Attention применяется к изображению попиксельно. Именно для этого карты признаков с размерами H×W вытягиваются в векторы HW. Это связано с тем, что пиксели шума, добавляемого к изображению, не коррелированны. Self-Attention — самая вычислительно тяжелая часть модели."
   ]
  },
  {
   "cell_type": "markdown",
   "metadata": {},
   "source": [
    "<center><img src =\"https://edunet.kea.su/repo/EduNet-content/dev-2.1/L13/out/se_block.png\" width=\"900\"></center>"
   ]
  },
  {
   "cell_type": "markdown",
   "metadata": {},
   "source": [
    "### Процесс генерации"
   ]
  },
  {
   "cell_type": "markdown",
   "metadata": {},
   "source": [
    "Процесс генерации происходит по следующему алгоритму:\n",
    "1. В начале семплируется $\\mathbf{x_T} \\sim \\mathcal{N}(\\mathbf{0}, \\mathbf{I})$.\n",
    "2. В цикле по $t = T, ..., 1$:\n",
    "\n",
    " 3. Если $t>1$, семплируется $\\bar{\\mathbf{n}}_{t-1} \\sim \\mathcal{N}(\\mathbf{0}, \\mathbf{I})$, иначе $\\bar{\\mathbf{n}}_{t-1}= \\mathbf{0}$\n",
    "\n",
    " 4. С помощью модели предсказывается $ \\mathbf{n}_θ(x_t, t)$.\n",
    "\n",
    " 5. Вычисляется \"расшумленная на один шаг\" версия изображения:\n",
    "$$\\large \\mathbf{x}_{t-1} = \\dfrac{1}{\\sqrt{\\alpha_t}}\\left(\\mathbf{x}_t - \\dfrac{1 - \\alpha_t}{\\sqrt{1 - \\overline{\\alpha}_t}} \\mathbf{n}_θ(x_t, t)\\right) + \\sqrt{\\beta_t}\\bar{\\mathbf{n}}_{t-1}$$\n",
    "\n",
    "    \n",
    "6. На выходе из цикла имеем полностью \"расшумленное\" изображение $\\large \\mathbf{x}_0$.\n",
    "\n"
   ]
  },
  {
   "cell_type": "markdown",
   "metadata": {},
   "source": [
    "Внутри шага 5 можно рассмотреть следующую идею: сначала из изображения на шаге $t$ вычитается весь предсказанный на этом шаге шум (выражение внутри скобок), а затем к результату добавляется следующая порция шума.\n",
    "\n",
    "Идейно это очень похоже на процесс рисования: мы грубо рисуем контуры, частично их стираем и уточняем."
   ]
  },
  {
   "cell_type": "markdown",
   "metadata": {},
   "source": [
    "<center><img src =\"https://edunet.kea.su/repo/EduNet-content/dev-2.1/L13/out/diffusion_idea.png\" width=\"1000\"></center>"
   ]
  },
  {
   "cell_type": "markdown",
   "metadata": {},
   "source": [
    " Попробуем самостоятельно сгенерировать изображение на предобученной модели для генирации котиков:"
   ]
  },
  {
   "cell_type": "code",
   "execution_count": null,
   "metadata": {},
   "outputs": [],
   "source": [
    "def display_sample(sample, i, fig=plt.figure(), title=\"step=\"):\n",
    "\n",
    "    ax = fig.add_subplot(2, 5, i // 100)\n",
    "\n",
    "    image_processed = sample.cpu().permute(0, 2, 3, 1)\n",
    "    image_processed = (image_processed + 1.0) * 127.5\n",
    "    image_processed = image_processed.numpy().astype(np.uint8)\n",
    "\n",
    "    ax.imshow(image_processed[0])\n",
    "    ax.set_title(title + str(i))\n",
    "    # No ticks\n",
    "    ax.set_xticks([])\n",
    "    ax.set_yticks([])"
   ]
  },
  {
   "cell_type": "code",
   "execution_count": null,
   "metadata": {},
   "outputs": [],
   "source": [
    "import tqdm\n",
    "\n",
    "device = \"cuda\" if torch.cuda.is_available() else \"cpu\"\n",
    "\n",
    "torch.manual_seed(42)\n",
    "model.to(device)\n",
    "noisy_sample = torch.randn(\n",
    "    1,\n",
    "    model.config.in_channels,\n",
    "    model.config.sample_size,\n",
    "    model.config.sample_size,\n",
    ")\n",
    "sample = noisy_sample.to(device)\n",
    "\n",
    "scheduler = DDPMScheduler.from_pretrained(repo_id)\n",
    "fig = plt.figure(figsize=(12, 5))\n",
    "\n",
    "for i, t in enumerate(tqdm.tqdm(scheduler.timesteps)):\n",
    "    # 1. Predict noise residual\n",
    "    with torch.no_grad():\n",
    "        residual = model(sample, t).sample\n",
    "\n",
    "    # 2. Compute less noisy image and set x_t -> x_t-1\n",
    "    sample = scheduler.step(residual, t, sample).prev_sample\n",
    "\n",
    "    # 3. Optionally look at image\n",
    "    if (i + 1) % 100 == 0:\n",
    "        display_sample(sample, i + 1, fig)\n",
    "plt.show()"
   ]
  },
  {
   "cell_type": "markdown",
   "metadata": {},
   "source": [
    "Получилось нечто котообразное."
   ]
  },
  {
   "cell_type": "markdown",
   "metadata": {},
   "source": [
    "## Обучение модели"
   ]
  },
  {
   "cell_type": "markdown",
   "metadata": {},
   "source": [
    "Для обучения модели установим дополнительный пакет `diffusers[training]`."
   ]
  },
  {
   "cell_type": "code",
   "execution_count": null,
   "metadata": {},
   "outputs": [],
   "source": [
    "!pip install -q diffusers[training]\n",
    "clear_output()"
   ]
  },
  {
   "cell_type": "markdown",
   "metadata": {},
   "source": [
    "### Конфигурация обучения"
   ]
  },
  {
   "cell_type": "markdown",
   "metadata": {},
   "source": [
    "Параметры модели можно удобно упаковать в `dataclass` [🛠️[doc]](https://docs.python.org/3/library/dataclasses.html).\n",
    "\n"
   ]
  },
  {
   "cell_type": "code",
   "execution_count": null,
   "metadata": {},
   "outputs": [],
   "source": [
    "from dataclasses import dataclass\n",
    "\n",
    "\n",
    "@dataclass\n",
    "class TrainingConfig:\n",
    "    image_size = 28  # the generated image resolution\n",
    "    train_batch_size = 128\n",
    "    eval_batch_size = 100  # how many images to sample during evaluation\n",
    "    num_epochs = 10\n",
    "    learning_rate = 1e-4\n",
    "    lr_warmup_steps = 500\n",
    "    save_image_epochs = 10\n",
    "    save_model_epochs = 10\n",
    "    mixed_precision = \"fp16\"  # \"no\" for float32, \"fp16\" for automatic mixed precision\n",
    "    output_dir = \"ddpm-fmnist-32\"  # the model name locally and on the HF Hub\n",
    "\n",
    "    push_to_hub = False  # whether to upload the saved model to the HF Hub\n",
    "    seed = 42\n",
    "\n",
    "\n",
    "config = TrainingConfig()"
   ]
  },
  {
   "cell_type": "markdown",
   "metadata": {},
   "source": [
    " Это удобно, т.к. этот тип объекта можно легко перевести в json и сохранить параметры обучения для данного эксперимента."
   ]
  },
  {
   "cell_type": "code",
   "execution_count": null,
   "metadata": {},
   "outputs": [],
   "source": [
    "import dataclasses\n",
    "import json\n",
    "\n",
    "with open(\"train.json\", \"w\") as f:\n",
    "    json.dump(dataclasses.asdict(config), f)"
   ]
  },
  {
   "cell_type": "markdown",
   "metadata": {},
   "source": [
    "### Создание модели"
   ]
  },
  {
   "cell_type": "markdown",
   "metadata": {},
   "source": [
    "Denoising-модель можно легко создать, передав классу модели необходимые параметры:\n",
    "- `sample_size` — высота и ширина изображения, тут 32×32.\n",
    "- `in_channels`, `out_channels` — количество каналов изображения, тут 1 (черно-белое изображение).\n",
    "- `down_block_types` и `up_block_types` — тип блоков понижения и повышения размерности, используемых для создания архитектуры U-Net. В данном случае у нас только по одному блоку с Attention ближе к середине U-Net:\n",
    " * `\"DownBlock2D\"` — это стандратный ResNet-блок,\n",
    " * `\"AttnDownBlock2D\"` — ResNet-блок с Attention.\n",
    "- `block_out_channels` — количество выходных каналов блоков понижения размерности. Используется в обратном порядке для количества входных каналов блоков повышения размерности.\n",
    "- `layers_per_block` — количество блоков ResNet, присутствующих в каждом блоке U-Net.\n"
   ]
  },
  {
   "cell_type": "code",
   "execution_count": null,
   "metadata": {},
   "outputs": [],
   "source": [
    "from diffusers import UNet2DModel\n",
    "\n",
    "\n",
    "model = UNet2DModel(\n",
    "    sample_size=config.image_size,  # the target image resolution\n",
    "    in_channels=1,  # the number of input channels\n",
    "    out_channels=1,  # the number of output channels\n",
    "    layers_per_block=2,  # how many ResNet layers to use per U-Net block\n",
    "    block_out_channels=(\n",
    "        32,\n",
    "        64,\n",
    "        128,\n",
    "    ),  # the number of output channels for each U-Net block\n",
    "    attention_head_dim=8,\n",
    "    down_block_types=(\n",
    "        \"DownBlock2D\",  # a regular ResNet downsampling block\n",
    "        \"DownBlock2D\",\n",
    "        \"AttnDownBlock2D\",  # a ResNet downsampling block with spatial self-attention\n",
    "    ),\n",
    "    up_block_types=(\n",
    "        \"UpBlock2D\",  # a regular ResNet upsampling block\n",
    "        \"UpBlock2D\",\n",
    "        \"AttnUpBlock2D\",  # a ResNet upsampling block with spatial self-attention\n",
    "    ),\n",
    ")"
   ]
  },
  {
   "cell_type": "markdown",
   "metadata": {},
   "source": [
    "Распечатаем архитектуру:"
   ]
  },
  {
   "cell_type": "code",
   "execution_count": null,
   "metadata": {},
   "outputs": [],
   "source": [
    "print(model)"
   ]
  },
  {
   "cell_type": "markdown",
   "metadata": {},
   "source": [
    "Проверим работоспособность модели и соответствие выхода модели входу:"
   ]
  },
  {
   "cell_type": "code",
   "execution_count": null,
   "metadata": {},
   "outputs": [],
   "source": [
    "sample_image = data_set[0][0].unsqueeze(0)\n",
    "print(\"Input shape:\", sample_image.shape)"
   ]
  },
  {
   "cell_type": "code",
   "execution_count": null,
   "metadata": {},
   "outputs": [],
   "source": [
    "print(\"Output shape:\", model(sample_image, timestep=0).sample.shape)"
   ]
  },
  {
   "cell_type": "markdown",
   "metadata": {},
   "source": [
    "### Создание планировщика"
   ]
  },
  {
   "cell_type": "code",
   "execution_count": null,
   "metadata": {},
   "outputs": [],
   "source": [
    "noise_scheduler = DDPMScheduler(\n",
    "    num_train_timesteps=1000, beta_schedule=\"squaredcos_cap_v2\"\n",
    ")"
   ]
  },
  {
   "cell_type": "markdown",
   "metadata": {},
   "source": [
    "Для $\\large t$-го шага прямого диффузионного процесса зашумленное изображение $\\large \\mathbf{x}_t$ выражается через исходное изображение $\\large \\mathbf{x}_0$ следующим образом:\n",
    "\n",
    "$$ \\large \\mathbf{x}_t = \\sqrt{\\overline{\\alpha}_t}\\mathbf{x}_0 + \\sqrt{1 - \\overline{\\alpha}_t}\\bar{\\mathbf{n}}_{0}, $$\n",
    "\n",
    "где $\\large \\bar{\\alpha}_t = \\prod_{s=1}^t \\alpha_s$, а  $\\large \\bar{\\mathbf{n}}_{0} \\sim \\mathcal{N}(\\mathbf{0}, \\mathbf{I})$.\n",
    "\n",
    "Посмотрим, какие значения выдает планировщик:"
   ]
  },
  {
   "cell_type": "code",
   "execution_count": null,
   "metadata": {},
   "outputs": [],
   "source": [
    "plt.plot(\n",
    "    noise_scheduler.alphas_cumprod.cpu() ** 0.5, label=r\"${\\sqrt{\\bar{\\alpha}_t}}$\"\n",
    ")\n",
    "plt.plot(\n",
    "    (1 - noise_scheduler.alphas_cumprod.cpu()) ** 0.5,\n",
    "    label=r\"$\\sqrt{(1 - \\bar{\\alpha}_t)}$\",\n",
    ")\n",
    "plt.legend(fontsize=\"x-large\")\n",
    "plt.plot()"
   ]
  },
  {
   "cell_type": "markdown",
   "metadata": {},
   "source": [
    "### Обучение"
   ]
  },
  {
   "cell_type": "markdown",
   "metadata": {},
   "source": [
    "Denoising-модель предсказывает семпл нормального шума, добавленного к изображению. В качестве функции потерь используется MSE."
   ]
  },
  {
   "cell_type": "code",
   "execution_count": null,
   "metadata": {},
   "outputs": [],
   "source": [
    "import torch.nn as nn\n",
    "\n",
    "criterion = nn.MSELoss()\n",
    "noise_pred = model(noisy_image, timesteps).sample\n",
    "loss = criterion(noise_pred, noise)\n",
    "print(f\"{loss=}\")"
   ]
  },
  {
   "cell_type": "markdown",
   "metadata": {},
   "source": [
    " Зададим оптимизатор и планировщик скорости обучения. Оптимизатор — Adam с weight decay. Планировщик скорости обучения — косинусный отжиг с прогревом."
   ]
  },
  {
   "cell_type": "code",
   "execution_count": null,
   "metadata": {},
   "outputs": [],
   "source": [
    "from diffusers.optimization import get_cosine_schedule_with_warmup\n",
    "\n",
    "train_dataloader = torch.utils.data.DataLoader(\n",
    "    data_set, batch_size=config.train_batch_size, shuffle=True, num_workers=2\n",
    ")\n",
    "\n",
    "optimizer = torch.optim.AdamW(model.parameters(), lr=config.learning_rate)\n",
    "lr_scheduler = get_cosine_schedule_with_warmup(\n",
    "    optimizer=optimizer,\n",
    "    num_warmup_steps=len(train_dataloader),\n",
    "    num_training_steps=2\n",
    "    * (\n",
    "        len(train_dataloader) * config.num_epochs\n",
    "    ),  # del 2 for and increase config.num_epochs to increase vlaue\n",
    ")"
   ]
  },
  {
   "cell_type": "markdown",
   "metadata": {},
   "source": [
    "Напишем код для генерации изображений для визуальной оценки во время обучения: код генерирует пачку изображений с помощью `pipeline` и сохраняет ее в `config.output_dir`:"
   ]
  },
  {
   "cell_type": "code",
   "execution_count": null,
   "metadata": {},
   "outputs": [],
   "source": [
    "import os\n",
    "from diffusers.utils import make_image_grid\n",
    "\n",
    "\n",
    "def evaluate(config, epoch, pipeline):\n",
    "    # Sample some images from random noise (this is the backward diffusion process).\n",
    "    # The default pipeline output type is `List[PIL.Image]`\n",
    "    images = pipeline(\n",
    "        batch_size=config.eval_batch_size,\n",
    "        # Use a separate torch generator to avoid rewinding the random state of the main training loop\n",
    "        generator=torch.Generator(device=device).manual_seed(config.seed),\n",
    "    ).images\n",
    "\n",
    "    # Make a grid out of the images\n",
    "    image_grid = make_image_grid(images, rows=10, cols=10)\n",
    "    fig, ax = plt.subplots(figsize=(10, 10))\n",
    "    ax.imshow(image_grid)\n",
    "\n",
    "    # Save the images\n",
    "    test_dir = os.path.join(config.output_dir, \"samples\")\n",
    "    os.makedirs(test_dir, exist_ok=True)\n",
    "    image_grid.save(f\"{test_dir}/{epoch:04d}.png\")"
   ]
  },
  {
   "cell_type": "markdown",
   "metadata": {},
   "source": [
    "Напишем код для обучения модели на стандартном torch с использованием бибилиотеки 🤗 Accelerate. В начале сценария обучения мы создаем экземпляр класса `Accelerator` [🛠️[doc]](https://huggingface.co/docs/accelerate/quicktour). Он инициализирует все необходимое для распределенного обучения и автоматически определяет среду обучения (CPU, машина с одним графическим процессором, машина с несколькими графическими процессорами, кластер и т. д.) в зависимости от того, с какими параметрами был запущен код."
   ]
  },
  {
   "cell_type": "markdown",
   "metadata": {},
   "source": [
    "При использовании `Accelerator` нам не нужно прописывать `.cuda()` или `to(device)` — это делается автоматически. В данном случае мы передаем модели:\n",
    "\n",
    "- `mixed_precision` — у нас `\"fp16\"`, ускоряет вычисления за счет выполнения операций в формате половинной точности;\n",
    "- `log_with` — логировать будем с помощью TensorBoard;\n",
    "- `project_dir` — директория для логирования и сохранения контрольных точек.\n",
    "\n"
   ]
  },
  {
   "cell_type": "markdown",
   "metadata": {},
   "source": [
    "Далее готовятся директории и репозиторий на `huggingface_hub`.\n",
    "\n",
    "После этого мы передаем модель, оптимизатор, загрузчик данных и планировщик скорости в метод `Accelerator.prepare`. Этот метод производит оптимизацию кода с учетом доступной конфигурации устройства для распределения вычислений. Более подробно об этом можно почитать [тут 🛠️[doc]](https://huggingface.co/docs/accelerate/concept_guides/internal_mechanism).\n",
    "\n",
    "Далее код мало отличается от привычного нам кода на torch."
   ]
  },
  {
   "cell_type": "code",
   "execution_count": null,
   "metadata": {},
   "outputs": [],
   "source": [
    "import os\n",
    "from pathlib import Path\n",
    "from tqdm.auto import tqdm\n",
    "from accelerate import Accelerator\n",
    "from diffusers import DDPMPipeline\n",
    "from huggingface_hub import create_repo, upload_folder\n",
    "\n",
    "\n",
    "def train_loop(\n",
    "    config, model, noise_scheduler, optimizer, train_dataloader, lr_scheduler\n",
    "):\n",
    "    # Initialize accelerator and tensorboard logging\n",
    "    accelerator = Accelerator(\n",
    "        mixed_precision=config.mixed_precision,\n",
    "        log_with=\"tensorboard\",\n",
    "        project_dir=os.path.join(config.output_dir, \"logs\"),\n",
    "    )\n",
    "    if accelerator.is_main_process:\n",
    "        if config.output_dir is not None:\n",
    "            os.makedirs(config.output_dir, exist_ok=True)\n",
    "        if config.push_to_hub:\n",
    "            repo_id = create_repo(\n",
    "                repo_id=config.hub_model_id or Path(config.output_dir).name,\n",
    "                exist_ok=True,\n",
    "            ).repo_id\n",
    "        accelerator.init_trackers(\"train_example\")\n",
    "\n",
    "    # Prepare everything\n",
    "    # There is no specific order to remember, you just need to unpack the\n",
    "    # objects in the same order you gave them to the prepare method.\n",
    "    model, optimizer, train_dataloader, lr_scheduler = accelerator.prepare(\n",
    "        model, optimizer, train_dataloader, lr_scheduler\n",
    "    )\n",
    "\n",
    "    global_step = 0\n",
    "\n",
    "    # Now you train the model\n",
    "    for epoch in range(config.num_epochs):\n",
    "        progress_bar = tqdm(\n",
    "            total=len(train_dataloader), disable=not accelerator.is_local_main_process\n",
    "        )\n",
    "        progress_bar.set_description(f\"Epoch {epoch}\")\n",
    "\n",
    "        for step, batch in enumerate(train_dataloader):\n",
    "            clean_images = batch[0]\n",
    "            # Sample noise to add to the images\n",
    "            noise = torch.randn(clean_images.shape, device=clean_images.device)\n",
    "            bs = clean_images.shape[0]\n",
    "\n",
    "            # Sample a random timestep for each image\n",
    "            timesteps = torch.randint(\n",
    "                0,\n",
    "                noise_scheduler.config.num_train_timesteps,\n",
    "                (bs,),\n",
    "                device=clean_images.device,\n",
    "                dtype=torch.int64,\n",
    "            )\n",
    "\n",
    "            # Add noise to the clean images according to the noise magnitude at each timestep\n",
    "            # (this is the forward diffusion process)\n",
    "            noisy_images = noise_scheduler.add_noise(clean_images, noise, timesteps)\n",
    "\n",
    "            with accelerator.accumulate(model):\n",
    "                # Predict the noise residual\n",
    "                noise_pred = model(noisy_images, timesteps, return_dict=False)[0]\n",
    "                loss = criterion(noise_pred, noise)\n",
    "                accelerator.backward(loss)\n",
    "\n",
    "                accelerator.clip_grad_norm_(model.parameters(), 1.0)\n",
    "                optimizer.step()\n",
    "                lr_scheduler.step()\n",
    "                optimizer.zero_grad()\n",
    "\n",
    "            progress_bar.update(1)\n",
    "            logs = {\n",
    "                \"loss\": loss.detach().item(),\n",
    "                \"lr\": lr_scheduler.get_last_lr()[0],\n",
    "                \"step\": global_step,\n",
    "            }\n",
    "            progress_bar.set_postfix(**logs)\n",
    "            accelerator.log(logs, step=global_step)\n",
    "            global_step += 1\n",
    "\n",
    "        # After each epoch you optionally sample some demo images with evaluate() and save the model\n",
    "        if accelerator.is_main_process:\n",
    "            pipeline = DDPMPipeline(\n",
    "                unet=accelerator.unwrap_model(model), scheduler=noise_scheduler\n",
    "            )\n",
    "\n",
    "            if (\n",
    "                epoch + 1\n",
    "            ) % config.save_image_epochs == 0 or epoch == config.num_epochs - 1:\n",
    "                evaluate(config, epoch, pipeline)\n",
    "\n",
    "            if (\n",
    "                epoch + 1\n",
    "            ) % config.save_model_epochs == 0 or epoch == config.num_epochs - 1:\n",
    "                if config.push_to_hub:\n",
    "                    upload_folder(\n",
    "                        repo_id=repo_id,\n",
    "                        folder_path=config.output_dir,\n",
    "                        commit_message=f\"Epoch {epoch}\",\n",
    "                        ignore_patterns=[\"step_*\", \"epoch_*\"],\n",
    "                    )\n",
    "                else:\n",
    "                    pipeline.save_pretrained(config.output_dir)"
   ]
  },
  {
   "cell_type": "markdown",
   "metadata": {},
   "source": [
    "Можно запустить TensorBoard, чтобы можно было наблюдать за обучением."
   ]
  },
  {
   "cell_type": "code",
   "execution_count": null,
   "metadata": {},
   "outputs": [],
   "source": [
    "# %load_ext tensorboard\n",
    "# %tensorboard --logdir /content/ddpm-fmnist-32 --port 6006"
   ]
  },
  {
   "cell_type": "markdown",
   "metadata": {},
   "source": [
    "Но мы в рамках лекции визуализируем логи TensorBoard с помощью [tbpars](https://tbparse.readthedocs.io/en/latest/)🛠️[doc]."
   ]
  },
  {
   "cell_type": "code",
   "execution_count": null,
   "metadata": {},
   "outputs": [],
   "source": [
    "!pip install -q tbparse"
   ]
  },
  {
   "cell_type": "code",
   "execution_count": null,
   "metadata": {},
   "outputs": [],
   "source": [
    "from tbparse import SummaryReader\n",
    "\n",
    "\n",
    "def visual_log(log_dir):\n",
    "    # Visualization without TensorBoard for TensorBoard logs\n",
    "    clear_output()\n",
    "    reader = SummaryReader(log_dir)\n",
    "    df = reader.scalars.drop_duplicates()\n",
    "\n",
    "    uniq = set(df.tag.unique())\n",
    "    uniq.remove(\"step\")\n",
    "    uniq = list(uniq)\n",
    "    uniq.sort()\n",
    "\n",
    "    i = 0\n",
    "    ax_dict = {}\n",
    "    for item in uniq:\n",
    "        metric = item.split(\"/\")[0]\n",
    "        if metric not in ax_dict:\n",
    "            ax_dict[metric] = i\n",
    "            i += 1\n",
    "\n",
    "    fig, axs = plt.subplots(len(ax_dict), 1, figsize=(12, 3.5 * len(ax_dict)))\n",
    "    for item in uniq:\n",
    "        metric = item.split(\"/\")[0]\n",
    "        ax = axs[ax_dict[metric]]\n",
    "        sub_df = df[df[\"tag\"] == item]\n",
    "        ax.plot(sub_df.step, sub_df.value, label=item)\n",
    "        ax.set_ylabel(metric)\n",
    "        ax.legend()\n",
    "        ax.set_xlabel(\"iter\")\n",
    "        if item == \"loss\":\n",
    "            ax.set_yscale(\"log\")\n",
    "    plt.show()"
   ]
  },
  {
   "cell_type": "markdown",
   "metadata": {},
   "source": [
    "Теперь мы соберем в `args` аргументы `train_loop`. Обучение будем проводить с помощью фукции `notebook_launcher` [🛠️[doc]](https://huggingface.co/docs/accelerate/v0.11.0/en/launcher) — это функция для запуска распределенного обучения в блокноте."
   ]
  },
  {
   "cell_type": "code",
   "execution_count": null,
   "metadata": {},
   "outputs": [],
   "source": [
    "from accelerate import notebook_launcher\n",
    "from warnings import simplefilter\n",
    "\n",
    "simplefilter(\"ignore\", category=RuntimeWarning)\n",
    "simplefilter(\"ignore\", category=FutureWarning)\n",
    "\n",
    "args = (config, model, noise_scheduler, optimizer, train_dataloader, lr_scheduler)\n",
    "notebook_launcher(train_loop, args, num_processes=1)"
   ]
  },
  {
   "cell_type": "markdown",
   "metadata": {},
   "source": [
    "Получилось вполне похоже (для получения лучшего качества нужно увеличить колличество эпох и слоев). Посмотрим на логи обучения, в ходе обучения использовался планировщик скорости обучения с warm up и коссинусным уменьшением скорости (только половина косинуса)."
   ]
  },
  {
   "cell_type": "code",
   "execution_count": null,
   "metadata": {},
   "outputs": [],
   "source": [
    "visual_log(config.output_dir)"
   ]
  },
  {
   "cell_type": "markdown",
   "metadata": {},
   "source": [
    "Мы обучили свою первую диффузионную модель с помощью библиотеки 🧨 Diffusers."
   ]
  },
  {
   "cell_type": "markdown",
   "metadata": {},
   "source": [
    "## Диффузия в латентном пространстве"
   ]
  },
  {
   "cell_type": "markdown",
   "metadata": {},
   "source": [
    "Как мы упомянули выше, попиксельный Self-Attention — вычислительно тяжелый слой. В 2022 году вышла [статья 🎓[arxiv]](https://arxiv.org/pdf/2112.10752.pdf), предлагающая объединение VAE и DM."
   ]
  },
  {
   "cell_type": "markdown",
   "metadata": {},
   "source": [
    "<center><img src =\"https://edunet.kea.su/repo/EduNet-web_dependencies/dev-2.1/L13/latent_diffusion_architecture.png\" width=\"800\"></center>\n",
    "\n",
    "<center><em>Архитектура модели диффузии в латентном пространстве</a></em></center>\n",
    "\n",
    "<center><em>Source: <a href=\"https://arxiv.org/pdf/2112.10752.pdf\">High-Resolution Image Synthesis with Latent Diffusion Models</a></em></center>"
   ]
  },
  {
   "cell_type": "markdown",
   "metadata": {},
   "source": [
    "Отметим некоторые особенности архитектуры:\n",
    "- в архитектуре используется заранее предобученный на большом массиве данных VAE, что позволяет генерировать картинки большого размера,\n",
    "- “зашумление” и “расшумление” происходит в латентном пространстве,\n",
    "- помимо позиционного эмбеддинга при изменении размерности могут “подмешиваться” номера классов, эмбеддинги текстов или изображений, эмбеддинги семантических масок и т. д.\n"
   ]
  },
  {
   "cell_type": "markdown",
   "metadata": {},
   "source": [
    "### Конвейеры"
   ]
  },
  {
   "cell_type": "markdown",
   "metadata": {},
   "source": [
    "В библиотеке 🧨 Diffusers есть 3 основные идеи/части :\n",
    "\n",
    " - [[doc] 🛠️ Планировщики](huggingface.co/docs/diffusers/api/schedulers/overview) — алгоритмы, контролирующие добавление и вычитание шума.\n",
    "\n",
    " Назначение: добавление шума при обучении и добавление и вычитание шума при генерации.\n",
    "\n",
    " - [[doc] 🛠️ Модели](https://huggingface.co/docs/diffusers/main/en/api/models) — предварительно обученные модели для популярных алгоритмов и модули для создания моделей диффузии.\n",
    "\n",
    " Назначение: строительные блоки для диффузионных систем.\n",
    "\n",
    " - [[doc] 🛠️ Конвейеры](https://huggingface.co/docs/diffusers/main/en/api/pipelines/overview#diffusers.DiffusionPipeline) — высокоуровневый класс для генерации объектов с помощью предварительно обученных моделей диффузии.\n",
    "\n",
    " Назначение: запуск модели с 4-х строк кода.\n",
    "\n",
    "C планировщиками и моделями мы уже познакомились. Теперь взглянем, как взаимодействовать с конвейером `DiffusionPipeline`.\n",
    "\n"
   ]
  },
  {
   "cell_type": "markdown",
   "metadata": {},
   "source": [
    "В рамках лекции попробуем запустить Pipeline диффузии в латентном пространстве."
   ]
  },
  {
   "cell_type": "code",
   "execution_count": null,
   "metadata": {},
   "outputs": [],
   "source": [
    "import torch\n",
    "\n",
    "\n",
    "device = \"cuda\" if torch.cuda.is_available() else \"cpu\""
   ]
  },
  {
   "cell_type": "markdown",
   "metadata": {},
   "source": [
    "Pipeline — это быстрый и простой способ запустить модель для вывода, требующий не более четырех строк кода для создания изображения. Загрузим `pipeline` для модели `stable-diffusion-v1-5`."
   ]
  },
  {
   "cell_type": "code",
   "execution_count": null,
   "metadata": {},
   "outputs": [],
   "source": [
    "from diffusers import DiffusionPipeline\n",
    "\n",
    "pipeline = DiffusionPipeline.from_pretrained(\n",
    "    \"runwayml/stable-diffusion-v1-5\", use_safetensors=True\n",
    ")\n",
    "\n",
    "clear_output()"
   ]
  },
  {
   "cell_type": "markdown",
   "metadata": {},
   "source": [
    "`DiffusionPipeline` загружает и кэширует все компоненты модели, токенизации и планирования. Можем посмотреть, что в `StableDiffusionPipeline` [🛠️[doc]](https://huggingface.co/docs/diffusers/api/pipelines/stable_diffusion/overview) входят:\n",
    "- [[doc] 🛠️](https://huggingface.co/docs/diffusers/v0.28.0/en/api/models/unet2d-cond#diffusers.UNet2DConditionModel) `UNet2DConditionModel` — условная 2D-модель U-Net в качестве denoising-модели.\n",
    "- [[doc] 🛠️](https://huggingface.co/docs/diffusers/api/models/autoencoderkl) `AutoencoderKL` — вариационный автоэнкодер. Stable Diffusion подразумевает диффузию в латентном пространстве.\n",
    "- [[doc] 🛠️](https://huggingface.co/docs/diffusers/main/en/api/schedulers/pndm) `PNDMScheduler` — планировщик обучения, использующий методы из вычислительной математики для сокращения числа шагов генерации. В 20 раз эффективнее базового `DDPMScheduler` [🛠️[doc]](https://huggingface.co/docs/diffusers/v0.28.0/en/api/schedulers/ddpm). Подробности в [статье 🎓[arxiv]](https://arxiv.org/pdf/2202.09778).\n",
    "- Для условной генерации используется [CLIP 🛠️[doc]](https://huggingface.co/docs/transformers/model_doc/clip) из библиотеки 🤗 Transformers."
   ]
  },
  {
   "cell_type": "code",
   "execution_count": null,
   "metadata": {},
   "outputs": [],
   "source": [
    "print(pipeline)"
   ]
  },
  {
   "cell_type": "code",
   "execution_count": null,
   "metadata": {},
   "outputs": [],
   "source": [
    "torch.manual_seed(42)\n",
    "\n",
    "pipeline.to(device)\n",
    "\n",
    "image = pipeline(\"An image of a cybernetic cat in van Gogh style\").images[0]\n",
    "image"
   ]
  },
  {
   "cell_type": "markdown",
   "metadata": {},
   "source": [
    "Более подробную полную информацию по работе с диффузией в латентном пространстве ищите в [документации 🛠️[doc]](https://huggingface.co/docs/diffusers/index)."
   ]
  },
  {
   "cell_type": "markdown",
   "metadata": {},
   "source": [
    "<font size=\"6\">Литература</font>\n",
    "\n",
    "<font size=\"5\">GAN:</font>\n",
    "\n",
    "* [[book] 📚 «Генеративное глубокое обучение. Творческий потенциал нейронных сетей»](https://habr.com/ru/company/piter/blog/504956/)\n",
    "* [[arxiv] 🎓 Generative Adversarial Networks (Goodfellow et al., 2014)](https://arxiv.org/abs/1406.2661)\n",
    "* [[video] 📺 Разбор оригинальной статьи GAN](https://www.youtube.com/watch?v=eyxmSmjmNS0)\n",
    "* [[video] 📺 Лекция Иана Гудфеллоу](https://www.youtube.com/watch?v=HGYYEUSm-0Q)\n",
    "* [[blog] ✏️ Generative adversarial networks](https://deepgenerativemodels.github.io/notes/gan/)\n",
    "* [[article] 🎓 Самые современные генеративные модели](https://paperswithcode.com/methods/category/generative-models)\n",
    "* [[blog] ✏️ Stroke of Genius: GauGAN Turns Doodles into Stunning, Photorealistic Landscapes](https://blogs.nvidia.com/blog/gaugan-photorealistic-landscapes-nvidia-research/)\n",
    "\n",
    "<font size=\"5\">DCGAN:</font>\n",
    "\n",
    "* [[arxiv] 🎓 Unsupervised Representation Learning with Deep Convolutional Generative Adversarial Networks (Radford et al., 2015)](https://arxiv.org/abs/1511.06434).\n",
    "* [[blog] ✏️ DCGAN TUTORIAL](https://pytorch.org/tutorials/beginner/dcgan_faces_tutorial.html)\n",
    "\n",
    "<font size=\"5\">Wasserstein GAN:</font>\n",
    "\n",
    "* [[arxiv] 🎓 Wasserstein GAN (Arjovsky et. al., 2017)](https://arxiv.org/abs/1701.07875)\n",
    "* [[blog] ✏️ Wasserstein GAN and the Kantorovich-Rubinstein Duality](https://vincentherrmann.github.io/blog/wasserstein/)\n",
    "* [[arxiv] 🎓 Improved Training of Wasserstein GANs (Gulrajani et al., 2017)](https://arxiv.org/abs/1704.00028)\n",
    "* [[arxiv] 🎓 Spectral Normalization for Generative Adversarial Networks (Miyato et al., 2018)](https://arxiv.org/abs/1802.05957).\n",
    "\n",
    "<font size=\"5\">ProGAN → StyleGAN → StyleGAN2 → Alias-Free GAN:</font>\n",
    "\n",
    "* [[arxiv] 🎓 Progressive Growing of GANs for Improved Quality, Stability, and Variation (ProGAN) (Karras et al., 2017)](https://arxiv.org/abs/1710.10196)\n",
    "* [[arxiv] 🎓 A Style-Based Generator Architecture for Generative Adversarial Networks (StyleGAN) (Karras et al., 2018)](https://arxiv.org/abs/1812.04948)\n",
    "* [[arxiv] 🎓 Analyzing and Improving the Image Quality of StyleGAN (StyleGAN2) (Karras et al., 2019)](https://arxiv.org/abs/1912.04958)\n",
    "* [[arxiv] 🎓 Alias-Free Generative Adversarial Networks (Alias-Free GAN) (Karras et al., 2021)](https://arxiv.org/abs/2106.12423)\n",
    "\n",
    "<font size=\"5\">Тонкости обучения GAN:</font>\n",
    "\n",
    "* [[blog] ✏️ Детальный разбор тонкостей и советов](https://beckham.nz/2021/06/28/training-gans.html)\n",
    "* [[arxiv] 🎓 Top-k Training of GANs: Improving GAN Performance by Throwing Away Bad Samples (Sinha et al., 2020)](https://arxiv.org/abs/2002.06224)\n",
    "\n",
    "<font size=\"5\">BigGAN: </font>\n",
    "\n",
    "* [[arxiv] 🎓 Large Scale GAN Training for High Fidelity Natural Image Synthesis (Brock et al., 2018)](https://arxiv.org/abs/1809.11096)\n",
    "\n",
    "<font size=\"5\">StackGAN:</font>\n",
    "\n",
    "* [[arxiv] 🎓 StackGAN: Text to Photo-realistic Image Synthesis with Stacked Generative Adversarial Networks (Zhang et al., 2016)](https://arxiv.org/abs/1612.03242), [[git] 🐾 результаты](https://github.com/hanzhanggit/StackGAN).\n",
    "* [[arxiv] 🎓 StackGAN++: Realistic Image Synthesis with Stacked Generative Adversarial Networks (Zhang et al., 2017)](https://arxiv.org/abs/1710.10916)\n",
    "* [[arxiv] 🎓 Photo-Realistic Single Image Super-Resolution Using a Generative Adversarial Network (Ledig et al., 2016)](https://arxiv.org/abs/1609.04802)\n",
    "* [[book] 📚 Deep Learning Generative Models for Image Synthesis and Image Translation](https://www.rulit.me/data/programs/resources/pdf/Generative-Adversarial-Networks-with-Python_RuLit_Me_610886.pdf)\n",
    "* [[video] 📺 StackGAN++ Realistic Image Synthesis with Stacked Generative Adversarial Networks | AISC](https://www.youtube.com/watch?v=PXWIaLE7_NU)\n",
    "* [[video] 📺 Text to Photo-realistic Image Synthesis with Stacked Generative Adversarial Networks](https://www.youtube.com/watch?v=crI5K4RCZws)\n",
    "\n",
    "<font size=\"5\">ControlGAN:</font>\n",
    "\n",
    "* [[arxiv] 🎓 Controllable Generative Adversarial Network](https://arxiv.org/pdf/1708.00598.pdf)\n",
    "* [[arxiv] 🎓 Controllable Text-to-Image Generation](https://arxiv.org/pdf/1909.07083.pdf)\n",
    "* [[arxiv] 🎓 Image Generation and Recognition (Emotions)](https://arxiv.org/pdf/1910.05774.pdf)\n",
    "* [[article] 🎓 Natural Language & Text-to-Image 2019](https://meta-guide.com/data/data-processing/text-to-image-systems/natural-language-text-to-image-2019)\n",
    "\n",
    "<font size=\"5\">AC-GAN:</font>\n",
    "\n",
    "* [[blog] ✏️ How to Develop an Auxiliary Classifier GAN (AC-GAN) From Scratch with Keras](https://machinelearningmastery.com/how-to-develop-an-auxiliary-classifier-gan-ac-gan-from-scratch-with-keras/)\n",
    "* [[arxiv] 🎓 Conditional Image Synthesis with Auxiliary Classifier GANs (Odena et al., 2017)](https://arxiv.org/pdf/1610.09585.pdf), [[git] 🐾 результаты](https://github.com/clvrai/ACGAN-PyTorch)\n",
    "* [[arxiv] 🎓 An Auxiliary Classifier Generative Adversarial Framework for Relation Extraction (Zhao, 2019)](https://arxiv.org/pdf/1909.05370.pdf)\n",
    "* [[article] 🎓 A Multi-Class Hinge Loss for Conditional GANs](https://openaccess.thecvf.com/content/WACV2021/papers/Kavalerov_A_Multi-Class_Hinge_Loss_for_Conditional_GANs_WACV_2021_paper.pdf)\n",
    "\n",
    "<font size=\"5\">Domain Transfer Network:</font>\n",
    "\n",
    "* [[arxiv] 🎓 Unsupervised Cross-Domain Image Generation (Taigma et al., 2016)](https://arxiv.org/abs/1611.02200)\n",
    "\n",
    "<font size=\"5\">Pix2Pix:</font>\n",
    "\n",
    "* [[arxiv] 🎓 Image-to-Image Translation with Conditional Adversarial Networks (Isola et al., 2016)](https://arxiv.org/abs/1611.07004)\n",
    "\n",
    "<font size=\"5\">Семантическая генерация:</font>\n",
    "\n",
    "* [[arxiv] 🎓 Learning to Generate Chairs, Tables and Cars with Convolutional Networks (Dosovitskiy et al., 2017)](https://arxiv.org/abs/1411.5928)\n",
    "\n",
    "<font size=\"5\">Text-to-Image:</font>\n",
    "\n",
    "* [[arxiv] 🎓 Text-to-Image Generation with Attention Based Recurrent Neural Networks (Zia et al., 2020)](https://arxiv.org/abs/2001.06658)\n",
    "\n",
    "<font size=\"5\">Image-to-Image:</font>\n",
    "\n",
    "* [[arxiv] 🎓 GANs N' Roses: Stable, Controllable, Diverse Image to Image Translation (Chong et al., 2021)](https://arxiv.org/abs/2106.06561)\n",
    "* [[arxiv] 🎓 Unpaired Image-to-Image Translation using Cycle-Consistent Adversarial Networks (Zhu et al., 2017)](https://arxiv.org/abs/1703.10593)\n",
    "\n",
    "<font size=\"5\">Диффузионные модели:</font>\n",
    "\n",
    "- [[arxiv] 🎓 Denoising Diffusion Probabilistic Models (Ho et al., 2020)](https://arxiv.org/abs/2006.11239)\n",
    "- [[colab] 🥨 Код на torch](https://colab.research.google.com/drive/1vdWA0wP3eb5mJZt8sERL_js5Ji4l-j0V)\n",
    "- [[doc] 🛠️ Diffusers](https://huggingface.co/docs/diffusers/index)\n",
    "- [[blog] ✏️ An In-Depth Guide to Denoising Diffusion Probabilistic Models DDPM – Theory to Implementation](https://learnopencv.com/denoising-diffusion-probabilistic-models/)\n",
    "- [[arxiv] 🎓 Cold Diffusion: Inverting Arbitrary Image Transforms Without Noise](https://arxiv.org/abs/2208.09392)\n",
    "- [[blog] ✏️ What are Diffusion Models?](https://lilianweng.github.io/posts/2021-07-11-diffusion-models)\n",
    "- [[arxiv] 🎓 High-Resolution Image Synthesis with Latent Diffusion Models](https://arxiv.org/abs/2112.10752)\n",
    "\n",
    "<font size=\"5\">Дополнительно:</font>\n",
    "\n",
    "* [[git] 🐾 MNIST CelebA cGAN cDCGAN](https://github.com/znxlwm/pytorch-MNIST-CelebA-cGAN-cDCGAN)\n",
    "* [[git] 🐾 Text-to-Photo realistic Image Synthesis with Stacked Generative Adversarial Networks](https://github.com/zeusm9/Text-to-Photo-realistic-Image-Synthesis-with-Stacked-Generative-Adversarial-Networks)\n",
    "* [[git] 🐾 ControlGAN](https://github.com/mrlibw/ControlGAN)\n",
    "* [[git] 🐾 ControlGAN-Tensorflow](https://github.com/taki0112/ControlGAN-Tensorflow)\n",
    "* [[git] 🐾 Keras-ACGan](https://github.com/lukedeo/keras-acgan)\n",
    "* [[demo] 🎮 Множество примеров различных генераторов](https://thisxdoesnotexist.com)"
   ]
  },
  {
   "cell_type": "code",
   "execution_count": null,
   "metadata": {},
   "outputs": [],
   "source": []
  }
 ],
 "metadata": {},
 "nbformat": 4,
 "nbformat_minor": 0
}
