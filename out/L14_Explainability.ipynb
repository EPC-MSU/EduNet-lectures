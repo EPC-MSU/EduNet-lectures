{
 "cells": [
  {
   "cell_type": "markdown",
   "metadata": {},
   "source": [
    "<font size=\"6\">Explainability</font>"
   ]
  },
  {
   "cell_type": "markdown",
   "metadata": {},
   "source": [
    "В современном мире машинного обучения тема объяснимости и интерпретируемости моделей становится неотъемлемой частью развития искуственного интеллекта.\n",
    "\n",
    "Когда алгоритмы машинного обучения используются для принятия решений, особенно в чувствительных областях, таких как медицина или право, а также в научных применениях, важно понимать, почему модель делает тот или иной вывод.\n",
    "\n",
    "В этой лекции мы рассмотрим концепции и методы, касающиеся способов представления и объяснения выводов, полученных от моделей машинного обучения.\n",
    "\n"
   ]
  },
  {
   "cell_type": "markdown",
   "metadata": {},
   "source": [
    "# Мотивация использования Explainability"
   ]
  },
  {
   "cell_type": "markdown",
   "metadata": {},
   "source": [
    "Модели машинного обучения представляют собой черный ящик."
   ]
  },
  {
   "cell_type": "markdown",
   "metadata": {},
   "source": [
    "<center><img src=\"https://edunet.kea.su/repo/EduNet-content/dev-2.1/L14/out/input_blackbox_output.png\" alt=\"alttext\" width=\"400\"/></center>"
   ]
  },
  {
   "cell_type": "markdown",
   "metadata": {},
   "source": [
    "Иногда это  становится препятствием для внедрения моделей.\n",
    "\n",
    "Есть как минимум три причины, по которым нас может интересовать объяснение предсказаний модели."
   ]
  },
  {
   "cell_type": "markdown",
   "metadata": {},
   "source": [
    "**1. Доверие к предсказаниям**\n",
    "\n",
    "Нельзя остановить ядерную электростанцию или назначить пациенту опасное лечение лишь на основании предсказания «черного ящика».\n",
    "Даже маловероятная ошибка в таких случаях будет иметь тяжелые последствия. Поэтому человек, принимающий решение, должен понимать, на основе каких признаков или симптомов сделано предсказание."
   ]
  },
  {
   "cell_type": "markdown",
   "metadata": {},
   "source": [
    "**2. Обнаружение некорректных зависимостей**\n",
    "\n",
    "Модель может использовать совсем не те признаки, которые соответствуют реальным объектам. То есть вместо реальных свойств объекта ориентироваться на случайно обнаруженные зависимости, не связанные с реальными данными (фон, водяной знак и т. п.).\n",
    "\n",
    "Яркий пример мы можем увидеть в статье [\"Why Should I Trust You?\" 🎓[arxiv]](https://arxiv.org/abs/1602.04938), авторы которой обучили классификатор волков и хаски на изображениях, отобранных так, чтобы на всех фотографиях волков на фоне был снег, а на фотографиях хаски — нет. На рисунке ниже мы можем увидеть, на что обращает внимание при предсказаниях полученная в результате такого обучения модель."
   ]
  },
  {
   "cell_type": "markdown",
   "metadata": {},
   "source": [
    "<center><img src=\"https://edunet.kea.su/repo/EduNet-web_dependencies/dev-2.1/L14/2_bad_models_prediction.png\" alt=\"alttext\" width=\"400\"/></center>\n",
    "\n",
    "<center><em>Source: <a href=\"https://arxiv.org/pdf/1602.04938.pdf\">Explaining the Predictions of Any Classifier</a></em></center>"
   ]
  },
  {
   "cell_type": "markdown",
   "metadata": {},
   "source": [
    "**3. Публикации в научных журналах**\n",
    "\n",
    "Вероятность публикации статьи значительно повышается, если автор смог объяснить происхождение результатов своего исследования."
   ]
  },
  {
   "cell_type": "markdown",
   "metadata": {},
   "source": [
    "<font size=\"5\"> Explainability & Interpretability </font>"
   ]
  },
  {
   "cell_type": "markdown",
   "metadata": {},
   "source": [
    "<center><img src=\"https://edunet.kea.su/repo/EduNet-content/dev-2.1/L14/out/explainability_vs_interpretability.png\" alt=\"alttext\" width=\"1000\"/></center>\n"
   ]
  },
  {
   "cell_type": "markdown",
   "metadata": {},
   "source": [
    "В англоязычной литературе можно встретить два термина, связанные с темой доверия к ML моделям: Explainability и Interpretability. Терминология в этой области еще не устоялась, и в разных источниках эти термины определяют по-разному. Можно выделить следующие характерные различия:\n",
    "\n",
    "* **Explainability** — методики, позволяющие объяснить механизм функционирования модели. Например, для линейной регрессии это анализ коэффициентов при параметрах.\n",
    "\n",
    "* **Interpretability** — анализ того, как изменение входов модели влияло на ее выходы. Например, закрашивая часть пикселей изображения, можно выяснить, какие из них повлияют на предсказания (пример с хаски и волками).\n",
    "\n",
    "Мы рассмотрим оба типа методов.\n",
    "\n",
    "[[blog] ✏️ Machine Learning Explainability vs Interpretability: Two concepts that could help restore trust in AI](https://www.kdnuggets.com/2018/12/machine-learning-explainability-interpretability-ai.html)\n"
   ]
  },
  {
   "cell_type": "markdown",
   "metadata": {},
   "source": [
    "# Объяснимость моделей классического ML"
   ]
  },
  {
   "cell_type": "markdown",
   "metadata": {},
   "source": [
    "Некоторые алгоритмы машинного обучения обладают свойством объяснимости сами по себе. Объяснить, почему модель выдала то или иное предсказание, возможно непосредственно исходя из понимания принципа работы модели.\n",
    "\n",
    "Чтобы подчеркнуть, что в отличие от \"черных ящиков\" внутреннее устройство таких моделей прозрачно и понятно, их называют \"белыми\" или \"прозрачными\" ящиками (glass box).\n",
    "\n",
    "В частности, к таким алгоритмам относятся **линейные модели** и **модели, основанные на деревьях решений**."
   ]
  },
  {
   "cell_type": "markdown",
   "metadata": {},
   "source": [
    "<center><img src=\"https://edunet.kea.su/repo/EduNet-content/dev-2.1/L14/out/glass_box.png\" alt=\"alttext\" width=\"400\"/></center>\n"
   ]
  },
  {
   "cell_type": "markdown",
   "metadata": {},
   "source": [
    "## Оценка важности признаков для линейных моделей\n"
   ]
  },
  {
   "cell_type": "markdown",
   "metadata": {},
   "source": [
    "В случае с **линейными моделями** нам было сравнительно легко определить, какие признаки модель считает важными. Если модель присваивает какому-то признаку **большой вес**, то этот признак сильнее влияет на **предсказание**.\n",
    "\n",
    "При этом стоит отметить, что **признаки должны быть сравнимы**, то есть должны находиться в сравнимых диапазонах и быть выражены в одних единицах измерения (или быть безразмерными).\n"
   ]
  },
  {
   "cell_type": "markdown",
   "metadata": {},
   "source": [
    "### Пример для табличных данных (Boston Dataset)"
   ]
  },
  {
   "cell_type": "markdown",
   "metadata": {},
   "source": [
    "Для примера скачаем **датасет жилья Бостона** ([The Boston Housing Dataset 🛠️[doc]](https://www.cs.toronto.edu/~delve/data/boston/bostonDetail.html)), в котором проанализируем зависимость цены на жилье от параметров жилья и района, в котором оно находится."
   ]
  },
  {
   "cell_type": "code",
   "execution_count": null,
   "metadata": {},
   "outputs": [],
   "source": [
    "import pandas as pd\n",
    "\n",
    "# load dataset\n",
    "boston_dataset = pd.read_csv(\n",
    "    \"https://edunet.kea.su/repo/EduNet-web_dependencies/datasets/boston_dataset.csv\",\n",
    "    index_col=0,\n",
    ")\n",
    "x_data = boston_dataset.iloc[:, :-1]\n",
    "y_data = boston_dataset[\"target\"].values\n",
    "\n",
    "boston_dataset.head()"
   ]
  },
  {
   "cell_type": "markdown",
   "metadata": {},
   "source": [
    "Посмотрим на статистики признаков:"
   ]
  },
  {
   "cell_type": "code",
   "execution_count": null,
   "metadata": {},
   "outputs": [],
   "source": [
    "boston_dataset.describe()"
   ]
  },
  {
   "cell_type": "markdown",
   "metadata": {},
   "source": [
    "Из описательных статистик по признакам видно, что признаки несравнимы. Поэтому коэффициенты линейной модели, обученной на таких данных будут нести в себе не только важность, но и масштабировать значения, чтобы перевести их в размерность целевой переменной. Этот факт будет мешать интерпретировать значения весов перед признаками как степень их влияния на предскзазание целевой переменной.\n"
   ]
  },
  {
   "cell_type": "markdown",
   "metadata": {},
   "source": [
    "Обучим модель на **стандартизованных данных**:"
   ]
  },
  {
   "cell_type": "code",
   "execution_count": null,
   "metadata": {},
   "outputs": [],
   "source": [
    "from sklearn.preprocessing import StandardScaler\n",
    "from sklearn.linear_model import LinearRegression\n",
    "\n",
    "ss = StandardScaler()\n",
    "x_data_scaled = ss.fit_transform(x_data)\n",
    "\n",
    "model = LinearRegression()\n",
    "model.fit(x_data_scaled, y_data)"
   ]
  },
  {
   "cell_type": "markdown",
   "metadata": {},
   "source": [
    "Выведем **коэффициенты** признаков, отсортированные по абсолютному значению:"
   ]
  },
  {
   "cell_type": "code",
   "execution_count": null,
   "metadata": {},
   "outputs": [],
   "source": [
    "linear_importance = pd.DataFrame(\n",
    "    {\"name\": boston_dataset.columns[:-1], \"coef\": model.coef_}\n",
    ").sort_values(\"coef\", key=abs, ascending=False)"
   ]
  },
  {
   "cell_type": "code",
   "execution_count": null,
   "metadata": {},
   "outputs": [],
   "source": [
    "import matplotlib.pyplot as plt\n",
    "import seaborn as sns\n",
    "\n",
    "linear_importance[\"sign\"] = linear_importance[\"coef\"].apply(\n",
    "    lambda x: \"neg\" if x < 0 else \"pos\"\n",
    ")\n",
    "palette = {\"neg\": \"#1e88e5\", \"pos\": \"#ff0d57\"}\n",
    "\n",
    "plt.figure(figsize=(5, 5))\n",
    "plt.title(\"Linear model coefficients\")\n",
    "ax = sns.barplot(\n",
    "    data=linear_importance,\n",
    "    y=\"name\",\n",
    "    x=\"coef\",\n",
    "    hue=\"sign\",\n",
    "    palette=palette,\n",
    "    legend=False,\n",
    "    orient=\"h\",\n",
    ")\n",
    "for i in ax.containers:\n",
    "    ax.bar_label(i, fmt=\"%.2f\", label_type=\"center\")\n",
    "plt.tight_layout()\n",
    "plt.show()"
   ]
  },
  {
   "cell_type": "markdown",
   "metadata": {},
   "source": [
    "Добавим абсолютные значения для сравнения с другими оценками важности."
   ]
  },
  {
   "cell_type": "code",
   "execution_count": null,
   "metadata": {},
   "outputs": [],
   "source": [
    "linear_importance[\"abs(coef)\"] = linear_importance[\"coef\"].abs()"
   ]
  },
  {
   "cell_type": "markdown",
   "metadata": {},
   "source": [
    "## Оценка важности признаков для деревьев решений"
   ]
  },
  {
   "cell_type": "markdown",
   "metadata": {},
   "source": [
    "В случае с **деревьями** всё далеко не так очевидно: дерево не знает такой концепции, как **\"вес признака\"**.\n",
    "\n",
    "Универсального критерия значимости для деревьев у нас нет, и, в зависимости от задачи и от того, как эти признаки устроены, ответы могут быть разными."
   ]
  },
  {
   "cell_type": "markdown",
   "metadata": {},
   "source": [
    "С одним из способов оценки качества признаков для дерева решений мы познакомились, когда строили дерево решений на третьей лекции. Мы использовали метрику $\\text{Gini}$:\n",
    "\n",
    "$$\\large \\text{Gini} = 1 - \\sum_ip_i^2,$$\n",
    "\n",
    "где $p_i$ — вероятность того, что объект, попавший в данный  лист, относится к $i$-му классу. Чем меньше $\\text{Gini}$ в листьях, тем лучше узел, от которого “растут” листья, разделяет классы.\n",
    "\n",
    "\n",
    "Для того, чтобы охарактеризовать, насколько данный узел хорошо разделяет выборку, мы строили метрику $\\text{impurity}$, в которой суммировали $\\text{Gini}$ листьев данного узла с весами, равными доле объектов, попавших в данный лист. После чего смотрели, на сколько $\\text{impurity}$ уменьшилось ($\\text{decrease}$) на данном узле (стало ближе к “идеальному” нулю).\n"
   ]
  },
  {
   "cell_type": "markdown",
   "metadata": {},
   "source": [
    "$$\\large \\text{Impurity decrease} = \\text{Gini}_0 - (\\dfrac{n_1}{n_1+n_2}\\text{Gini}_1 + \\dfrac{n_2}{n_1+n_2}\\text{Gini}_2),$$\n",
    "\n",
    "где $n_1, n_2$ — число объектов в листьях, $ \\text{Gini}_0$ — чистота исходного узла."
   ]
  },
  {
   "cell_type": "markdown",
   "metadata": {},
   "source": [
    "Именно $\\text{impurity decrease}$ используется для расчета атрибута `feature_importances_` [️️🛠️[doc]](https://scikit-learn.org/stable/auto_examples/ensemble/plot_forest_importances.html) в Sklearn. Для случайного леса (и других ансамблей) просто выдается среднее по деревьям.\n"
   ]
  },
  {
   "cell_type": "markdown",
   "metadata": {},
   "source": [
    "У данного метода есть **недостаток**: он завышает качество признаков с большим количеством возможных значений.\n",
    "\n",
    "Даже если признак не информативен, но у него много значений, на нем можно выбрать большое количество порогов, по которым можно разбить данные, что приведет к переобучению.\n",
    "\n",
    "Бинарные и категориальные признаки с небольшим числом категорий потенциально могут получать заниженное качество по сравнению с вещественными, даже если те дают худшее разбиение."
   ]
  },
  {
   "cell_type": "markdown",
   "metadata": {},
   "source": [
    "### Пример для табличных данных (Boston Dataset)"
   ]
  },
  {
   "cell_type": "markdown",
   "metadata": {},
   "source": [
    "Посмотрим на важность признаков, основанную на **impurity decrease**."
   ]
  },
  {
   "cell_type": "code",
   "execution_count": null,
   "metadata": {},
   "outputs": [],
   "source": [
    "import numpy as np\n",
    "from sklearn.ensemble import RandomForestRegressor\n",
    "\n",
    "rng = np.random.RandomState(42)\n",
    "model = RandomForestRegressor(random_state=rng)\n",
    "model.fit(x_data, y_data)"
   ]
  },
  {
   "cell_type": "code",
   "execution_count": null,
   "metadata": {},
   "outputs": [],
   "source": [
    "gini_importance = pd.DataFrame(\n",
    "    {\n",
    "        \"name\": boston_dataset.columns[:-1],\n",
    "        \"feature importances\": model.feature_importances_,\n",
    "    }\n",
    ").sort_values(\"feature importances\", ascending=False)"
   ]
  },
  {
   "cell_type": "code",
   "execution_count": null,
   "metadata": {},
   "outputs": [],
   "source": [
    "def importances_diagram(data, x, y, title, fmt=\"%.2f\"):\n",
    "    plt.title(title)\n",
    "    ax = sns.barplot(\n",
    "        data=data,\n",
    "        y=y,\n",
    "        x=x,\n",
    "        color=sns.xkcd_rgb[\"azure\"],\n",
    "        orient=\"h\",\n",
    "    )\n",
    "    for i in ax.containers:\n",
    "        ax.bar_label(i, fmt=fmt, label_type=\"edge\")"
   ]
  },
  {
   "cell_type": "code",
   "execution_count": null,
   "metadata": {},
   "outputs": [],
   "source": [
    "plt.figure(figsize=(13, 4))\n",
    "plt.subplot(1, 2, 1)\n",
    "importances_diagram(\n",
    "    data=linear_importance,\n",
    "    x=\"abs(coef)\",\n",
    "    y=\"name\",\n",
    "    title=\"Linear model importances\"\n",
    ")\n",
    "\n",
    "plt.subplot(1, 2, 2)\n",
    "importances_diagram(\n",
    "    data=gini_importance,\n",
    "    x=\"feature importances\",\n",
    "    y=\"name\",\n",
    "    title=\"Random forest importances\"\n",
    ")\n",
    "plt.show()"
   ]
  },
  {
   "cell_type": "markdown",
   "metadata": {},
   "source": [
    "Можно видеть, что важность признаков для одних и тех же данных зависит от модели. При этом признаки RM — количество комнат в доме, и LSTAT — процент людей с низким социальным статусом (без среднего образования, безработных), важны для обеих моделей, что достаточно логично."
   ]
  },
  {
   "cell_type": "code",
   "execution_count": null,
   "metadata": {},
   "outputs": [],
   "source": [
    "num_unique = x_data.agg(lambda x: len(np.unique(x)))\n",
    "num_unique.name = \"num unique\"\n",
    "num_unique = pd.DataFrame(num_unique)\n",
    "num_unique[\"name\"] = num_unique.index\n",
    "gini_importance = gini_importance.merge(num_unique, how=\"inner\", on=\"name\")\n"
   ]
  },
  {
   "cell_type": "code",
   "execution_count": null,
   "metadata": {},
   "outputs": [],
   "source": [
    "plt.figure(figsize=(13, 4))\n",
    "plt.subplot(1, 2, 1)\n",
    "importances_diagram(\n",
    "    data=gini_importance,\n",
    "    x=\"num unique\",\n",
    "    y=\"name\",\n",
    "    title=\"Number of unique values in features\",\n",
    "    fmt=\"%d\"\n",
    ")\n",
    "\n",
    "plt.subplot(1, 2, 2)\n",
    "importances_diagram(\n",
    "    data=gini_importance,\n",
    "    x=\"feature importances\",\n",
    "    y=\"name\",\n",
    "    title=\"Random forest importances\"\n",
    ")\n",
    "plt.show()"
   ]
  },
  {
   "cell_type": "markdown",
   "metadata": {},
   "source": [
    "Интересно отметить, что признаки LSTAT, RM, DIS и CRIM, оказавшиеся наиболее важными для Random Forest, имеют большое количество уникальных значений. В то же время, признаки AGE и B также имеют большое количество уникальных значений, хотя их важность для модели случайного леса не высока."
   ]
  },
  {
   "cell_type": "markdown",
   "metadata": {},
   "source": [
    "# Методы, изучающие отклик модели на изменение входных данных"
   ]
  },
  {
   "cell_type": "markdown",
   "metadata": {},
   "source": [
    "В этом разделе мы рассмотрим методы, изучающие отклик модели на изменение входных данных. Они также называются **Model-Agnostic Methods** и находятся ближе всего к концепции “черного ящика”. Эти методы изучают связь между входами и выходами модели и пытаются ее объяснить."
   ]
  },
  {
   "cell_type": "markdown",
   "metadata": {},
   "source": [
    "<center><img src=\"https://edunet.kea.su/repo/EduNet-content/dev-2.1/L14/out/black_box_interpretability.png\" alt=\"alttext\" width=\"500\"/></center>"
   ]
  },
  {
   "cell_type": "markdown",
   "metadata": {},
   "source": [
    "## ICE (Individual Conditional Expectation)"
   ]
  },
  {
   "cell_type": "markdown",
   "metadata": {},
   "source": [
    "Одним из самых простых и интуитивно понятных методов является метод ICE (Individual Conditional Expectation). Он заключается в следующем:\n",
    "1. Обучаем и **фиксируем модель**.\n",
    "2. Выбираем **один объект**.\n",
    "3. Выбираем **один признак** этого объекта, который мы будем **менять в некотором диапазоне**, все остальные признаки фиксируем.\n",
    "4. Меняем этот признак и смотрим, как меняется **предсказание модели**.\n",
    "5. Строим кривую зависимости **целевого значения** от **изменяемого признака** для модели.\n",
    "6. Повторяем для другого объекта.\n",
    "\n",
    "Посмотрим, как этот метод работает на примере модели Random Forest."
   ]
  },
  {
   "cell_type": "markdown",
   "metadata": {},
   "source": [
    "### Пример для табличных данных (Boston Dataset)"
   ]
  },
  {
   "cell_type": "markdown",
   "metadata": {},
   "source": [
    "Загрузим и предобработаем  данные:"
   ]
  },
  {
   "cell_type": "code",
   "execution_count": null,
   "metadata": {},
   "outputs": [],
   "source": [
    "import pandas as pd\n",
    "\n",
    "# load dataset\n",
    "boston_dataset = pd.read_csv(\n",
    "    \"https://edunet.kea.su/repo/EduNet-web_dependencies/datasets/boston_dataset.csv\",\n",
    "    index_col=0,\n",
    ")\n",
    "x_data = boston_dataset.iloc[:, :-1]\n",
    "y_data = boston_dataset[\"target\"].values\n",
    "\n",
    "boston_dataset.head()"
   ]
  },
  {
   "cell_type": "markdown",
   "metadata": {},
   "source": [
    "Обучим модель:"
   ]
  },
  {
   "cell_type": "code",
   "execution_count": null,
   "metadata": {},
   "outputs": [],
   "source": [
    "import numpy as np\n",
    "from sklearn.ensemble import RandomForestRegressor\n",
    "\n",
    "rng = np.random.RandomState(42)\n",
    "model = RandomForestRegressor(random_state=rng)\n",
    "model.fit(x_data, y_data)"
   ]
  },
  {
   "cell_type": "markdown",
   "metadata": {},
   "source": [
    "Нам интересно посмотреть на два признака, которые были наиболее важны для предсказания: **RM** — среднее количество комнат в жилье, **LSTAT** — процент людей с низким социальным статусом, и на один признак, который для  **Random Forest** не важен: **AGE** — возраст постройки."
   ]
  },
  {
   "cell_type": "code",
   "execution_count": null,
   "metadata": {},
   "outputs": [],
   "source": [
    "import matplotlib.pyplot as plt\n",
    "from sklearn.inspection import PartialDependenceDisplay\n",
    "\n",
    "_, ax = plt.subplots(ncols=3, figsize=(15, 5), sharey=True, constrained_layout=True)\n",
    "\n",
    "features_info = {\n",
    "    \"features\": [\"RM\", \"LSTAT\", \"AGE\"],\n",
    "    \"kind\": \"both\",\n",
    "    \"centered\": False,\n",
    "}\n",
    "\n",
    "common_params = {\n",
    "    \"subsample\": 50,\n",
    "    \"n_jobs\": 2,\n",
    "    \"grid_resolution\": 20,\n",
    "    \"random_state\": 0,\n",
    "}\n",
    "\n",
    "x_data = pd.DataFrame(x_data, columns=boston_dataset.iloc[:, :-1].columns)\n",
    "\n",
    "display = PartialDependenceDisplay.from_estimator(\n",
    "    model,\n",
    "    x_data,\n",
    "    **features_info,\n",
    "    ax=ax,\n",
    "    **common_params,\n",
    ")"
   ]
  },
  {
   "cell_type": "markdown",
   "metadata": {},
   "source": [
    "Синие линии — это отдельные объекты. По оси $x$ — изменяемые признаки для этих объектов, по оси $y$ — изменение целевого значения. Оранжевым цветом нарисовано среднее по объектам.\n",
    "\n",
    "Видно, что увеличение количества комнат в большинстве случаев положительно влияет на цену жилья, увеличение процента людей с низким социальным статусом — отрицательно, а возраст постройки не важен.\n"
   ]
  },
  {
   "cell_type": "markdown",
   "metadata": {},
   "source": [
    "## LIME (Local Interpretable Model-agnostic Explanations)"
   ]
  },
  {
   "cell_type": "markdown",
   "metadata": {},
   "source": [
    "### Принцип работы"
   ]
  },
  {
   "cell_type": "markdown",
   "metadata": {},
   "source": [
    "Нам бы хотелось оценивать все признаки одновременно для любой модели. Для этого можно попробовать **заменить \"черный ящик\"** (black-box) **\"прозрачным\"** (glass-box).\n",
    "\n",
    "Ключевая идея [__LIME__ 🎓[arxiv]](https://arxiv.org/abs/1602.04938) — **локальная аппроксимация сложно-интерпретируемой** (black-box) модели при помощи **легко-интерпретируемой** (glass-box)."
   ]
  },
  {
   "cell_type": "markdown",
   "metadata": {},
   "source": [
    "<center><img src =\"https://edunet.kea.su/repo/EduNet-content/dev-2.1/L14/out/lime_idea.png\" width=\"400\"></center>"
   ]
  },
  {
   "cell_type": "markdown",
   "metadata": {},
   "source": [
    "Давайте разбирать идею по кусочкам:\n",
    "1. **Локальная аппроксимация** — значит, что мы берем **один объект** и **модифицируем** его (изменяем признаки), чтобы получить небольшой датасет, локализованный вокруг исходного объекта.\n",
    "2. **Сложно интерпретируемая модель** — модель, для которой мы проводим оценку (наш \"черный ящик\"). Ее мы используем для того, чтобы получить **предсказания** для датасета, построенного на основе одного объекта.\n",
    "3. Таким образом, мы получаем **датасет**, включающий **признаки** и **предсказания** “черного ящика”. На этом датасете **учим** “прозрачный ящик” — **легко-интерпретируемую модель**, для которой мы умеем определять важность признаков. Например, линейную модель или дерево решений."
   ]
  },
  {
   "cell_type": "markdown",
   "metadata": {},
   "source": [
    "Идею **LIME** можно проиллюстрировать следующим образом:"
   ]
  },
  {
   "cell_type": "markdown",
   "metadata": {},
   "source": [
    "<center><img src =\"https://edunet.kea.su/repo/EduNet-content/dev-2.1/L14/out/lime_example.png\" width=\"1000\"></center>\n",
    "\n"
   ]
  },
  {
   "cell_type": "markdown",
   "metadata": {},
   "source": [
    "По **осям** отложены значения **двух непрерывных признаков**. Изначально мы имеем сложно интерпретируюмую модель, которая разделяет пространство признаков на две области со сложной границей.\n",
    "\n",
    "**Шаг 1.** Выбираем один объект, для которого мы хотим получить локальное объяснение (на иллюстрации это $\\large x^*$).\n",
    "\n",
    "**Шаг 2.** Семплируем вокруг интересущего нас объекта новые объекты (черные точки).\n",
    "\n",
    "**Шаг 3.** Используем исходную модель для разметки семплированных точек — получаем новый датасет, представляющий локальную область вокруг интересующего нас объекта.\n",
    "\n",
    "**Шаг 4.** Взвешиваем объекты из локального датасета с учетом их расстояния до интересующего нас объекта.\n",
    "\n",
    "**Шаг 5.** Обучаем на полученном локальном датасете линейную модель с учетом весов для новых объектов. В локальной области интересующего нас объекта линейная модель ведет себя схоже с исходной сложной моделью. Используем важность признаков простой линейной модели как оценку важностей признаков для сложной модели в локальной области интересующего нас объекта.\n"
   ]
  },
  {
   "cell_type": "markdown",
   "metadata": {},
   "source": [
    "### Описание алгоритма"
   ]
  },
  {
   "cell_type": "markdown",
   "metadata": {},
   "source": [
    "Итак, мы хотим найти **glass-box** модель $g(x)$, которая будет локально аппроксимировать **black-box** модель $f(x)$ в окрестности объекта интереса $x^*$. $G$ — семейство интерпретируемых моделей (например, линейные модели). Искомая аппроксимация будет выглядеть следующим образом:\n",
    "\n",
    "$$\\large\\hat{g}=\\underset{g\\in G}{\\mathrm{argmin}}L(f,g,\\pi_x)+\\Omega (g),$$\n",
    "\n",
    "где $\\pi_x$ — определяющееся по некоторой метрике **расстояние от сгенерированных объектов до объекта интереса**,\n",
    "\n",
    "$L(f,g,\\pi_x)$ — **функция ошибки**, измеряющая несоответствие между предсказаниями моделей $f(x)$ и $g(x)$,\n",
    "\n",
    "$\\Omega (g)$ — **штраф за сложность модели** $g(x)$.\n",
    "\n",
    "На практике, чтобы не заниматься оптимизацией этого штрафа, зачастую просто вводят некоторое ограничение на сложность моделей $g(x)$. Для деревьев это может быть **глубина дерева**, для линейных моделей — **число ненулевых коэффициентов**."
   ]
  },
  {
   "cell_type": "markdown",
   "metadata": {},
   "source": [
    "Часто нам придется интерпретировать модели с **огромным числом признаков**. Чтобы упростить задачу, LIME может создавать **интерпретируемые представления признаков**.\n",
    "\n",
    "Модели $f(x)$ и $g(x)$  могут **оперировать разными пространствами признаков**, $f(x)$ — пространством размерности $p$ ($R^p$), соответствующей количеству признаков в исходных данных, $g(x)$ — пространством размерности $q$ ($R^q$), при этом $q<<p$. Пространство $R^q$ называется *интерпретируемым представлением* признаков. Пусть некая функция $h(x)$ переводит пространство признаков $R^p$ в $R^q$.\n",
    "\n",
    "Саму функцию, оценивающую расхождение между предсказаниями моделей $f(x)$ и $g(x)$, можно представить следующим образом:\n",
    "\n",
    "$$\\large L(f,g,\\pi_x)=\\sum_{z,z'}\\pi_x(z)(f(z)-g(z'))^2,$$\n",
    "\n",
    "где $z$ и $z'$ — наборы искусственно сгенерированных объектов в окрестности $x^*$ в пространствах $R^p$ и $R^q$ соответственно."
   ]
  },
  {
   "cell_type": "markdown",
   "metadata": {},
   "source": [
    "Теперь мы можем собрать целиком алгоритм получения объяснения вклада переменных. Представим его в виде псевдокода:\n",
    "\n",
    "1. Дано: $x^*$ — **объект для интерпретации** вкладов признаков в модель, $N$ — размер искусственного датасета в окрестности целевого объекта, $\\text{similarity}$ — **метрика расстояния**.\n",
    "2. $x' = h(x^*)$ — переводим целевой объект в **пространство меньшей размерности**.\n",
    "\n",
    "```\n",
    "z' = []\n",
    "for i in range(N):\n",
    "    z'[i] = sample_around(x')\n",
    "    y'[i] = f(z[i])\n",
    "    pi_x'[i] = similarity(x', z'[i])\n",
    "\n",
    "return K-Lasso(z', y', pi_x')\n",
    "```\n",
    "\n",
    "Выдачей алгоритма служит линейная модель, отобравшая $К$ признаков на основе $y'$, $z'$, $\\pi_x'$."
   ]
  },
  {
   "cell_type": "markdown",
   "metadata": {},
   "source": [
    "### Как получить набор объектов вблизи искомого?"
   ]
  },
  {
   "cell_type": "markdown",
   "metadata": {},
   "source": [
    "\n",
    "*  В **текстах** можно **удалить слово**;\n",
    "*  Для **изображений** можно **делить картинку на области** (суперпиксели) и поочередно закрашивать их одним и тем же цветом (средним).\n",
    "* Для **табличных данных**: для **бинарных** переменных в низкоразмерном пространстве достаточно просто менять значение переменной на противоположное (**0 на 1** и **1 на 0**). Для **вещественных переменных** были предложены различные варианты. Например, к ним можно прибавлять **Гауссов шум** или **дискретизировать** (например, по квантилям)."
   ]
  },
  {
   "cell_type": "markdown",
   "metadata": {},
   "source": [
    "### Ограничения"
   ]
  },
  {
   "cell_type": "markdown",
   "metadata": {},
   "source": [
    "Описанный подход позволяет интерпретировать поведение модели **только в некоторой области** вблизи интересующего нас экземпляра.\n",
    "\n",
    "На практике этого может быть достаточно. **Работает быстро**, так как не требует перебора всех комбинаций признаков."
   ]
  },
  {
   "cell_type": "markdown",
   "metadata": {},
   "source": [
    "### Пример NLP (классификация статей)"
   ]
  },
  {
   "cell_type": "markdown",
   "metadata": {},
   "source": [
    "<center><img src=\"https://edunet.kea.su/repo/EduNet-web_dependencies/dev-2.1/L14/christian_or_atheist.png\" alt=\"alttext\" width=\"900\"/></center>\n",
    "\n",
    "<center><em>Source: <a href=\"https://arxiv.org/pdf/1602.04938.pdf\">Explaining the Predictions of Any Classifier</a></em></center>"
   ]
  },
  {
   "cell_type": "markdown",
   "metadata": {},
   "source": [
    "Используем датасет [fetch_20newsgroups 🛠️[doc]](https://scikit-learn.org/stable/modules/generated/sklearn.datasets.fetch_20newsgroups.html).\n",
    "\n",
    "Данные [«The 20 Newsgroups» 🛠️[doc]](http://qwone.com/~jason/20Newsgroups/) — это коллекция примерно из **20&nbsp;000 новостных документов**, разделенная (приблизительно) равномерно между **20 различными категориями**. Изначально она собиралась Кеном Ленгом (Ken Lang), возможно, для его работы [«NewsWeeder: Learning to filter Netnews» 🎓[article]](https://www.sciencedirect.com/science/article/abs/pii/B9781558603776500487).\n",
    "\n",
    "Коллекция «The 20 Newsgroups» стала популярным набором данных для экспериментов с техниками машинного обучения для текстовых приложений, таких как классификация и кластеризация.\n",
    "\n",
    "[[git] 🐾 Fetching data, training a classifier (tutorial)](https://github.com/marcotcr/lime/blob/master/doc/notebooks/Lime%20-%20multiclass.ipynb)\n",
    "\n",
    "В данном примере мы будем использовать [Multinomial Naive Bayes 🛠️[doc]](https://scikit-learn.org/stable/modules/generated/sklearn.naive_bayes.MultinomialNB.html) для классификации и TF-IDF для представления текстов."
   ]
  },
  {
   "cell_type": "code",
   "execution_count": null,
   "metadata": {},
   "outputs": [],
   "source": [
    "import sklearn\n",
    "from sklearn.datasets import fetch_20newsgroups\n",
    "\n",
    "newsgroups_train = fetch_20newsgroups(subset=\"train\")\n",
    "newsgroups_test = fetch_20newsgroups(subset=\"test\")\n",
    "# making class names shorter\n",
    "class_names = [\n",
    "    x.split(\".\")[-1] if \"misc\" not in x else \".\".join(x.split(\".\")[-2:])\n",
    "    for x in newsgroups_train.target_names\n",
    "]\n",
    "class_names[3] = \"pc.hardware\"\n",
    "class_names[4] = \"mac.hardware\"\n",
    "\n",
    "for i, class_name in enumerate(class_names):\n",
    "    print(f\"{i:<3d}{class_name}\")"
   ]
  },
  {
   "cell_type": "markdown",
   "metadata": {},
   "source": [
    "Мы берем **два класса**, которые трудно различить, потому что в них много схожих слов: **христианство и атеизм**.\n",
    "\n",
    "Обучая модель, мы получаем **точность на тестовых данных 83,5%**, что является удивительно высоким показателем. Если бы точность была нашим единственным мерилом доверия, мы бы точно доверились этому классификатору."
   ]
  },
  {
   "cell_type": "code",
   "execution_count": null,
   "metadata": {},
   "outputs": [],
   "source": [
    "import sklearn.metrics\n",
    "from sklearn.naive_bayes import MultinomialNB\n",
    "\n",
    "# Again, let's use the tfidf vectorizer, commonly used for text.\n",
    "vectorizer = sklearn.feature_extraction.text.TfidfVectorizer(lowercase=False)\n",
    "train_vectors = vectorizer.fit_transform(newsgroups_train.data)\n",
    "test_vectors = vectorizer.transform(newsgroups_test.data)\n",
    "\n",
    "# Train the model\n",
    "model_nb = MultinomialNB(alpha=0.01)\n",
    "model_nb.fit(train_vectors, newsgroups_train.target)\n",
    "\n",
    "# Calculate F1_score\n",
    "pred = model_nb.predict(test_vectors)\n",
    "\n",
    "f1_metric = sklearn.metrics.f1_score(newsgroups_test.target, pred, average=\"weighted\")\n",
    "\n",
    "print(f\"f1-score on test: {f1_metric:.3f}\")"
   ]
  },
  {
   "cell_type": "markdown",
   "metadata": {},
   "source": [
    "Мы видим, что этот классификатор имеет очень высокий F1 score. [Руководство Sklearn для 20 newsgroups 🛠️[doc]](https://scikit-learn.org/stable/modules/naive_bayes.html#multinomial-naive-bayes) указывает, что **Multinomial Naive Bayes переобучается** на этом наборе данных, изучая нерелевантные взаимосвязи, такие как заголовки."
   ]
  },
  {
   "cell_type": "markdown",
   "metadata": {},
   "source": [
    "Теперь мы используем **LIME** для объяснения отдельных предсказаний.\n",
    "\n",
    "Как видно из кода, текст подается на вход модели не в сыром виде, а после предобработки объектом `vectorizer`.\n",
    "\n",
    "Сперва нам потребуется создать обертку — пайплайн, который объединяет `vectorizer` и модель:\n",
    "\n",
    "[[doc] 🛠️](https://scikit-learn.org/stable/modules/generated/sklearn.pipeline.make_pipeline.html) `sklearn.pipeline.make_pipeline`"
   ]
  },
  {
   "cell_type": "code",
   "execution_count": null,
   "metadata": {},
   "outputs": [],
   "source": [
    "from sklearn.pipeline import make_pipeline\n",
    "\n",
    "model_with_preprocessing = make_pipeline(vectorizer, model_nb)"
   ]
  },
  {
   "cell_type": "markdown",
   "metadata": {},
   "source": [
    "\n",
    "`LimeTextExplainer` [🛠️[doc]](https://lime-ml.readthedocs.io/en/latest/lime.html#lime.lime_text.LimeTextExplainer)  ждет на вход данные и класс модели:\n",
    "\n",
    "\n",
    "```\n",
    "explain_instance(\n",
    "    text_instance,\n",
    "    classifier_fn,\n",
    "    labels=(1, ),\n",
    "    top_labels=None,\n",
    "    num_features=10,\n",
    "    num_samples=5000,\n",
    "    distance_metric='cosine',\n",
    "    model_regressor=None)\n",
    "```\n",
    "\n",
    "**`classifier_fn`** *— функция для классификации, которая получает список из `d` строк и выдает `(d, k)` numpy-массив с предсказанными вероятностями для `k` классов.*\n",
    "\n",
    "В нашем случае такой функцией будет `model_with_preprocessing.predict_proba`."
   ]
  },
  {
   "cell_type": "markdown",
   "metadata": {},
   "source": [
    "Давайте посмотрим на LIME-объяснение для произвольного экземпляра в тестовом наборе.\n",
    "\n",
    "В случае многоклассовой классификации мы должны определить, для каких меток хотим получить объяснения, с помощью параметра «labels». **Сгенерируем пояснения** для меток 0 и 15:\n",
    "\n",
    "\n"
   ]
  },
  {
   "cell_type": "code",
   "execution_count": null,
   "metadata": {},
   "outputs": [],
   "source": [
    "!pip -q install lime"
   ]
  },
  {
   "cell_type": "code",
   "execution_count": null,
   "metadata": {},
   "outputs": [],
   "source": [
    "import lime\n",
    "from lime.lime_text import LimeTextExplainer\n",
    "\n",
    "\n",
    "explainer = LimeTextExplainer(class_names=class_names, random_state=42)\n",
    "idx = 1340\n",
    "explanation = explainer.explain_instance(\n",
    "    newsgroups_test.data[idx],\n",
    "    model_with_preprocessing.predict_proba,\n",
    "    num_features=10,\n",
    "    labels=[0, 15],\n",
    ")"
   ]
  },
  {
   "cell_type": "markdown",
   "metadata": {},
   "source": [
    "Возвращается специальный объект класса `Explanation` [🛠️[doc]](https://lime-ml.readthedocs.io/en/latest/lime.html?highlight=Explanation#lime.explanation.Explanation):"
   ]
  },
  {
   "cell_type": "code",
   "execution_count": null,
   "metadata": {},
   "outputs": [],
   "source": [
    "print(explanation.as_list(label=0))\n",
    "print(explanation.as_list(label=15))"
   ]
  },
  {
   "cell_type": "markdown",
   "metadata": {},
   "source": [
    "Обратите внимание, что положительный и отрицательный знаки относятся к конкретной метке, так что слова, отрицательные по отношению к классу 0, могут быть положительными по отношению к классу 15, и наоборот."
   ]
  },
  {
   "cell_type": "markdown",
   "metadata": {},
   "source": [
    "Теперь давайте посмотрим на **визуализацию объяснений**.\n",
    "Обратите внимание на то, что для каждого класса слова в правой части строки являются «положительными», а слова в левой части — «отрицательными» для объясняемого класса.\n",
    "\n",
    "Также видно, что в классификаторе используются как **осмысленные слова** (такие как «Theism», «Genocide» и т. д.), так и **неосмысленные** (название университета «Rice», домен «owlnet»)."
   ]
  },
  {
   "cell_type": "code",
   "execution_count": null,
   "metadata": {},
   "outputs": [],
   "source": [
    "explanation.show_in_notebook(text=newsgroups_test.data[idx], labels=(0,))"
   ]
  },
  {
   "cell_type": "code",
   "execution_count": null,
   "metadata": {},
   "outputs": [],
   "source": [
    "explanation.show_in_notebook(text=newsgroups_test.data[idx], labels=(15,))"
   ]
  },
  {
   "cell_type": "markdown",
   "metadata": {},
   "source": [
    "На этом примере можно увидеть, что в заголовке или кавычках может быть и полезный сигнал, который будет помогать обобщению (например,  в строке «Тема»).\n",
    "\n",
    "А есть и **слова, которые нельзя обобщать** (например, адреса электронной почты и названия учреждений)."
   ]
  },
  {
   "cell_type": "markdown",
   "metadata": {},
   "source": [
    "### Пример для изображений (ResNet18)"
   ]
  },
  {
   "cell_type": "markdown",
   "metadata": {},
   "source": [
    "#### Идея\n"
   ]
  },
  {
   "cell_type": "markdown",
   "metadata": {},
   "source": [
    "Давайте разберемся, как работают **интерпретируемые представления признаков для картинок**.\n",
    "\n",
    "На рисунке ниже показан пример того, как **LIME** работает для **классификации изображений**.\n",
    "\n",
    "Представьте, что мы хотим объяснить классификатор, который предсказывает, насколько вероятно, что изображение содержит древесную лягушку.\n",
    "\n",
    "Мы берем изображение слева и делим его на **интерпретируемые компоненты** (смежные [суперпиксели 🎓[article]](https://www.iro.umontreal.ca/~mignotte/IFT6150/Articles/SLIC_Superpixels.pdf))."
   ]
  },
  {
   "cell_type": "markdown",
   "metadata": {},
   "source": [
    "<center><img src=\"https://edunet.kea.su/repo/EduNet-web_dependencies/dev-2.1/L14/lime_interpretable_components.jpg\" alt=\"alttext\" width=\"550\"/></center>\n",
    "\n",
    "<center><em>Source: <a href=\"https://www.oreilly.com/content/introduction-to-local-interpretable-model-agnostic-explanations-lime/\">Local Interpretable Model-Agnostic Explanations (LIME): An Introduction</a></em></center>"
   ]
  },
  {
   "cell_type": "markdown",
   "metadata": {},
   "source": [
    "Далее мы **отключаем** некоторые из **суперпикселей** (закрашиваем серым).\n",
    "\n",
    "Для каждой такой картинки мы получаем **вероятность** того, что **на изображении есть древесная лягушка**, и формируем датасет из частично закрашенных картинок и предсказаний.\n",
    "\n",
    "Затем мы **обучаем линейную модель** на этом наборе данных. Веса, соответствующие суперпикселю, будут объяснять его вклад в предсказание."
   ]
  },
  {
   "cell_type": "markdown",
   "metadata": {},
   "source": [
    "<center><img src=\"https://edunet.kea.su/repo/EduNet-web_dependencies/dev-2.1/L14/lime_explanation_pipeline.jpg\" alt=\"alttext\" width=\"750\"/></center>\n",
    "\n",
    "<center><em>Source: <a href=\"https://www.oreilly.com/content/introduction-to-local-interpretable-model-agnostic-explanations-lime/\">Local Interpretable Model-Agnostic Explanations (LIME): An Introduction</a></em></center>"
   ]
  },
  {
   "cell_type": "markdown",
   "metadata": {},
   "source": [
    "Проанализируем предсказание сверточной сети **Inception**. Посмотрим, почему ее классификатор предсказывает «древесную лягушку» как наиболее вероятный класс, за которым следуют «бильярдный стол» и «воздушный шар» с более низкими вероятностями.\n",
    "\n",
    "Мы видим, что **классификатор** в первую очередь **фокусируется на морде лягушки** как на объяснении предсказанного класса.\n",
    "\n",
    "Это также проливает свет на то, почему «бильярдный стол» имеет ненулевую вероятность: руки и глаза лягушки напоминают бильярдные шары, особенно на зеленом фоне. Точно так же сердце похоже на красный воздушный шар.\n"
   ]
  },
  {
   "cell_type": "markdown",
   "metadata": {},
   "source": [
    "<center><img src=\"https://edunet.kea.su/repo/EduNet-web_dependencies/dev-2.1/L14/lime_explaination_google_inception.jpg\" alt=\"alttext\" width=\"750\"/></center>\n",
    "\n",
    "<center><em>Source: <a href=\"https://www.oreilly.com/content/introduction-to-local-interpretable-model-agnostic-explanations-lime/\">Local Interpretable Model-Agnostic Explanations (LIME): An Introduction</a></em></center>"
   ]
  },
  {
   "cell_type": "markdown",
   "metadata": {},
   "source": [
    "#### Анализ ResNet18"
   ]
  },
  {
   "cell_type": "markdown",
   "metadata": {},
   "source": [
    "Рассмотрим на примере, как работает метод LIME для изображений.\n",
    "\n",
    "Для начала загрузим и предварительно обработаем изображение. Затем мы будем использовать обученную на ImageNet модель ResNet18 для классификации этого изображения. После этого мы построим объяснения предсказанных классов с наибольшей вероятностью, используя метод LIME."
   ]
  },
  {
   "cell_type": "code",
   "execution_count": null,
   "metadata": {},
   "outputs": [],
   "source": [
    "!wget -q \"https://edunet.kea.su/repo/EduNet-web_dependencies/dev-2.1/L14/cat_and_dog1.jpg\" -O cat_and_dog1.jpg\n",
    "!wget -q \"https://edunet.kea.su/repo/EduNet-web_dependencies/datasets/imagenet_class_index.json\" -O imagenet_class_index.json"
   ]
  },
  {
   "cell_type": "code",
   "execution_count": null,
   "metadata": {},
   "outputs": [],
   "source": [
    "import os\n",
    "from PIL import Image\n",
    "\n",
    "\n",
    "def get_image(path):\n",
    "    with open(os.path.abspath(path), \"rb\") as f:\n",
    "        with Image.open(f) as img:\n",
    "            return img.convert(\"RGB\")\n",
    "\n",
    "\n",
    "img = get_image(\"cat_and_dog1.jpg\")\n",
    "plt.imshow(img)\n",
    "plt.axis(\"off\")\n",
    "plt.show()"
   ]
  },
  {
   "cell_type": "markdown",
   "metadata": {},
   "source": [
    "Теперь нам нужно преобразовать это изображение в тензор PyTorch и нормализовать его для использования в нашей предварительно обученной модели."
   ]
  },
  {
   "cell_type": "code",
   "execution_count": null,
   "metadata": {},
   "outputs": [],
   "source": [
    "from torchvision import transforms\n",
    "\n",
    "\n",
    "# resize & normalize\n",
    "\n",
    "\n",
    "def get_input_transform():\n",
    "    transform = transforms.Compose(\n",
    "        [\n",
    "            transforms.Resize(224),\n",
    "            transforms.CenterCrop((224, 224)),\n",
    "            transforms.ToTensor(),\n",
    "            transforms.Normalize(\n",
    "                mean=(0.485, 0.456, 0.406),\n",
    "                std=(0.229, 0.224, 0.225),\n",
    "            ),\n",
    "        ]\n",
    "    )\n",
    "    return transform\n",
    "\n",
    "\n",
    "# for get croped img from input tensor\n",
    "\n",
    "\n",
    "def get_reverse_transform():\n",
    "    transform = transforms.Compose(\n",
    "        [\n",
    "            transforms.Normalize(\n",
    "                mean=(0.0, 0.0, 0.0), std=(1 / 0.229, 1 / 0.224, 1 / 0.225)\n",
    "            ),\n",
    "            transforms.Normalize(\n",
    "                mean=(-0.485, -0.456, -0.406),\n",
    "                std=(1.0, 1.0, 1.0),\n",
    "            ),\n",
    "            transforms.Lambda(lambda x: torch.permute(x, (0, 2, 3, 1))),\n",
    "            transforms.Lambda(lambda x: x.detach().numpy()),\n",
    "        ]\n",
    "    )\n",
    "    return transform\n",
    "\n",
    "\n",
    "def get_input_tensors(img):\n",
    "    transform = get_input_transform()\n",
    "    # unsqeeze converts single image to batch of 1\n",
    "    return transform(img).unsqueeze(0)\n",
    "\n",
    "\n",
    "def get_crop_img(img_tensor):\n",
    "    transform = get_reverse_transform()\n",
    "    return transform(img_tensor)[0]"
   ]
  },
  {
   "cell_type": "markdown",
   "metadata": {},
   "source": [
    "\n",
    "Загрузим предобученную модель ResNet18, доступную в PyTorch, и классы изображений из ImageNet."
   ]
  },
  {
   "cell_type": "code",
   "execution_count": null,
   "metadata": {},
   "outputs": [],
   "source": [
    "import json\n",
    "import torch\n",
    "from torchvision import models\n",
    "\n",
    "device = torch.device(\"cuda\" if torch.cuda.is_available() else \"cpu\")\n",
    "\n",
    "model = models.resnet18(weights=\"ResNet18_Weights.DEFAULT\")\n",
    "\n",
    "idx2label, cls2label, cls2idx = [], {}, {}\n",
    "with open(os.path.abspath(\"/content/imagenet_class_index.json\"), \"r\") as read_file:\n",
    "    class_idx = json.load(read_file)\n",
    "    idx2label = [class_idx[str(k)][1] for k in range(len(class_idx))]\n",
    "    lable2idx = {class_idx[str(k)][1]: k for k in range(len(class_idx))}"
   ]
  },
  {
   "cell_type": "markdown",
   "metadata": {},
   "source": [
    "Получим предсказание. А после этого полученные нами прогнозы (логиты) пропустим через softmax, чтобы получить вероятности и метки классов для 5 лучших прогнозов."
   ]
  },
  {
   "cell_type": "code",
   "execution_count": null,
   "metadata": {},
   "outputs": [],
   "source": [
    "import torch.nn.functional as F\n",
    "\n",
    "img_t = get_input_tensors(img)\n",
    "model = model.to(device)\n",
    "model.eval()\n",
    "logits = model(img_t.to(device))\n",
    "\n",
    "probs = F.softmax(logits, dim=1)\n",
    "probs5 = probs.topk(5)\n",
    "plt.imshow(get_crop_img(img_t))\n",
    "plt.axis(\"off\")\n",
    "plt.show()\n",
    "tuple(\n",
    "    (p, c, idx2label[c])\n",
    "    for p, c in zip(\n",
    "        probs5[0][0].detach().cpu().numpy(), probs5[1][0].detach().cpu().numpy()\n",
    "    )\n",
    ")"
   ]
  },
  {
   "cell_type": "markdown",
   "metadata": {},
   "source": [
    "(tabby — это тоже кошка)"
   ]
  },
  {
   "cell_type": "markdown",
   "metadata": {},
   "source": [
    "Применим LIME:"
   ]
  },
  {
   "cell_type": "code",
   "execution_count": null,
   "metadata": {},
   "outputs": [],
   "source": [
    "!pip install -q lime"
   ]
  },
  {
   "cell_type": "markdown",
   "metadata": {},
   "source": [
    "LIME генерирует массив изображений из исходного входного изображения.\n",
    "\n",
    "Таким образом, нам нужно предоставить конструктору:\n",
    "1. Исходное изображение в виде массива numpy.\n",
    "2. Функцию классификации, которая будет принимать массив искаженных изображений в качестве входных данных и генерировать вероятности для каждого класса для каждого изображения в качестве выходных данных."
   ]
  },
  {
   "cell_type": "markdown",
   "metadata": {},
   "source": [
    "Поэтому потребуется вспомогательная функция для обработки пакета изображений в соответствии с API LIME."
   ]
  },
  {
   "cell_type": "code",
   "execution_count": null,
   "metadata": {},
   "outputs": [],
   "source": [
    "def batch_predict(images):  # images are numpy arrays\n",
    "    model.eval()\n",
    "    transform = get_input_transform()\n",
    "    batch = torch.stack(tuple(transform(Image.fromarray(i)) for i in images), dim=0)\n",
    "\n",
    "    model.to(device)\n",
    "    batch = batch.to(device)\n",
    "\n",
    "    logits = model(batch)\n",
    "    probs = F.softmax(logits, dim=1)\n",
    "    return probs.detach().cpu().numpy()"
   ]
  },
  {
   "cell_type": "markdown",
   "metadata": {},
   "source": [
    "Создадим экзепляр `ImageExplainer` и сгенерируем объект `explanation`. У `LimeImageExplainer` есть особенность: он работает только с `numpy.array` и 3-хканальными изображениями."
   ]
  },
  {
   "cell_type": "code",
   "execution_count": null,
   "metadata": {},
   "outputs": [],
   "source": [
    "import lime\n",
    "from lime import lime_image\n",
    "\n",
    "img_t = get_input_tensors(img)\n",
    "\n",
    "explainer = lime_image.LimeImageExplainer(random_state=42)\n",
    "explanation = explainer.explain_instance(\n",
    "    np.array(255 * get_crop_img(img_t)).astype(\n",
    "        np.uint8\n",
    "    ),  # LIME assume that input is a numpy array :(\n",
    "    batch_predict,  # classification function\n",
    "    top_labels=5,\n",
    "    hide_color=0,\n",
    "    num_samples=1000,  # number of images that will be sent to classification function\n",
    "    random_seed=42,\n",
    ")"
   ]
  },
  {
   "cell_type": "markdown",
   "metadata": {},
   "source": [
    "Выведем top-5 предсказаний, сделанных через LIME.\n",
    "\n",
    "P.S. Они не обязаны совпадать с предсказаниями для картинки без изменений."
   ]
  },
  {
   "cell_type": "code",
   "execution_count": null,
   "metadata": {},
   "outputs": [],
   "source": [
    "for i, id in enumerate(explanation.top_labels):\n",
    "    print(i, idx2label[id])"
   ]
  },
  {
   "cell_type": "markdown",
   "metadata": {},
   "source": [
    "Воспользуемся маской на изображении и посмотрим области, которые дают лучший прогноз."
   ]
  },
  {
   "cell_type": "code",
   "execution_count": null,
   "metadata": {},
   "outputs": [],
   "source": [
    "from skimage.segmentation import mark_boundaries\n",
    "\n",
    "fig, ax = plt.subplots(nrows=1, ncols=2, figsize=(10, 10))\n",
    "\n",
    "for i, id in enumerate(explanation.top_labels[:2]):\n",
    "    temp, mask = explanation.get_image_and_mask(\n",
    "        id, positive_only=False, num_features=5, hide_rest=False\n",
    "    )\n",
    "    img_boundry = mark_boundaries(temp, mask)\n",
    "    ax[i].imshow(img_boundry)\n",
    "    ax[i].set_title(idx2label[id])\n",
    "    ax[i].axis(\"off\")\n",
    "    # number of clusters to be shown in the image: num_features=5\n",
    "    # show or not negatively impacting clusters: positive_only=False\n",
    "    # first 5 may be only positive"
   ]
  },
  {
   "cell_type": "markdown",
   "metadata": {},
   "source": [
    "Зеленым цветом обозначена область наивысшего прогноза, оранжевым — области, которые меньше всего соответствуют нашему прогнозу. При `positive_only=False` будут показаны только границы."
   ]
  },
  {
   "cell_type": "markdown",
   "metadata": {},
   "source": [
    "[[blog] ✏️ Local Interpretable Model-Agnostic Explanations (LIME): An Introduction](https://www.oreilly.com/content/introduction-to-local-interpretable-model-agnostic-explanations-lime/)\n",
    "\n",
    "[[git] 🐾 Using Lime with PyTorch (tutorial)](https://github.com/marcotcr/lime/blob/master/doc/notebooks/Tutorial%20-%20images%20-%20Pytorch.ipynb)"
   ]
  },
  {
   "cell_type": "markdown",
   "metadata": {},
   "source": [
    "## SHAP (SHapley Additive exPlanations)"
   ]
  },
  {
   "cell_type": "markdown",
   "metadata": {},
   "source": [
    "###Принцип работы"
   ]
  },
  {
   "cell_type": "markdown",
   "metadata": {},
   "source": [
    "<center><img src=\"https://edunet.kea.su/repo/EduNet-content/dev-2.1/L14/out/shap_scheme.png\" alt=\"alttext\" width=\"600\"/></center>\n"
   ]
  },
  {
   "cell_type": "markdown",
   "metadata": {},
   "source": [
    "Цель [**SHAP** 📚[book]](https://christophm.github.io/interpretable-ml-book/shap.html) — объяснить предсказание объекта $x$ путем **вычисления вклада каждого признака** в предсказание. Для этого вычисляются SHAP-значения, основанные на **значениях Шепли** из **теории игр**.\n",
    "\n",
    "**SHAP** рассматривает объясняемую **модель как игру**, а **признаки**, используемые в обучении, как **коалицию игроков**. **SHAP-значения** говорят нам, как **справедливо распределить \"выигрыш\" между игроками** — это вклад, который каждый признак вносит в предсказание модели.\n",
    "\n",
    "\n",
    "\n"
   ]
  },
  {
   "cell_type": "markdown",
   "metadata": {},
   "source": [
    "Рассмотрим на примере, как оценивается вклад игроков в общий выигрыш с помощью значений Шепли.\n",
    "\n",
    "Пусть у нас есть уличная музыкальная группа из трех участников: барабанщика, гитариста и солиста. Они выступают на улице и собирают деньги в шляпу. Музыканты хотят оценить, **какой вклад в заработок привносит каждый участник группы**.\n",
    "\n",
    "Для этого можно устроить эксперимент: несколько вечеров подряд группа будет выступать для публики **в разных комбинациях состава участников** (на иллюстрации все комбинации изображены в виде вершин графа и пронумерованы, ребра графа обозначают добавление участника в состав):\n",
    "* пустое множество участников (пустая шляпа на улице, вершина $1$),\n",
    "* все участники по одному (вершины $2$–$4$),\n",
    "* все участники по двое (вершины $5$–$7$),\n",
    "* полный состав из трех музыкантов (вершина $8$)."
   ]
  },
  {
   "cell_type": "markdown",
   "metadata": {},
   "source": [
    "<center>\n",
    "<img src=\"https://edunet.kea.su/repo/EduNet-content/dev-2.1/L14/out/shap_features_graph.png\" alt=\"alttext\" width=\"550\"/>\n",
    "</center>"
   ]
  },
  {
   "cell_type": "markdown",
   "metadata": {},
   "source": [
    "Для простоты представим, что каждый вечер тот или иной состав группы\n",
    "оценивается одной и той же публикой. Оценкой является заработок за вечер. Музыканты поиграли по такой схеме все восемь вечеров и зафиксировали заработок за каждый вечер."
   ]
  },
  {
   "cell_type": "markdown",
   "metadata": {},
   "source": [
    "<center>\n",
    "<img src=\"https://edunet.kea.su/repo/EduNet-content/dev-2.1/L14/out/shap_predictions_graph.png\" alt=\"alttext\" width=\"550\"/>\n",
    "</center>"
   ]
  },
  {
   "cell_type": "markdown",
   "metadata": {},
   "source": [
    "Теперь в каждой вершине графа находится оценка того или иного состава группы публикой.\n",
    "\n",
    "Зная оценки всех возможных комбинаций состава этой группы, мы можем посчитать вклад каждого участника в итоговый заработок.\n",
    "\n",
    "Вклад участника в заработок вычисляется на основании так называемых **маржинальных вкладов** *(marginal contribution, MC)*.\n",
    "\n",
    "**Маржинальный вклад игрока** — это **разница** между заработком состава, **включающим данного игрока**, и заработком состава **без данного игрока**.\n",
    "\n",
    "В данном случае можно рассчитать маржинальный вклад для игрока как разницу оценок вершин, соединенных ребром в графе."
   ]
  },
  {
   "cell_type": "markdown",
   "metadata": {},
   "source": [
    "Например, маржинальный вклад барабанщика по сравнению с пустой группой\n",
    "$\\{∅\\}$ рассчитывается следующим образом (см. вершины $2$ и $1$):\n",
    "\n",
    "\n",
    "$$ \\large \\text{MC}_{🥁,\\{∅\\}}= \\text{Earning}_{\\{🥁\\}}\\ - \\text{Earning}_{\\{∅\\}}=  4\\ 000 - 0 = 4\\ 000$$"
   ]
  },
  {
   "cell_type": "markdown",
   "metadata": {},
   "source": [
    "А маржинальный вклад солиста при добавлении его в пару к гитаристу будет равен (см. вершины $7$ и $3$):\n",
    "\n",
    "$$ \\large \\text{MC}_{🎤,\\{🎸\\}}= \\text{Earning}_{\\{🎸🎤\\}}\\ \\ - \\text{Earning}_{\\{🎸\\}}\\ =  9\\ 500 - 4\\ 800 = 4\\ 700$$"
   ]
  },
  {
   "cell_type": "markdown",
   "metadata": {},
   "source": [
    "Для того, чтобы **оценить итоговый вклад барабанщика** в оценку всей группы публикой, нужно учесть его **маржинальные вклады** во все комбинации, **где он участвовал** (в графе выделены соответствующие вершины):"
   ]
  },
  {
   "cell_type": "markdown",
   "metadata": {},
   "source": [
    "<center>\n",
    "<img src=\"https://edunet.kea.su/repo/EduNet-content/dev-2.1/L14/out/shap_estimation_important_features.png\" alt=\"alttext\" width=\"550\"/>\n",
    "</center>"
   ]
  },
  {
   "cell_type": "markdown",
   "metadata": {},
   "source": [
    "SHAP-значение для барабанщика в этой группе является общим вкладом игрока в заработок и вычисляется как **взвешенная сумма его маржинальных вкладов**:"
   ]
  },
  {
   "cell_type": "markdown",
   "metadata": {},
   "source": [
    "$$ \\large \\text{SHAP}_{🥁}=w_1\\cdot \\text{MC}_{🥁,\\{\\emptyset\\}}+w_2\\cdot \\text{MC}_{🥁,\\{🎸\\}}+w_3\\cdot \\text{MC}_{🥁,\\{🎤\\}}+w_4\\cdot \\text{MC}_{🥁,\\{🎸🎤\\}} $$"
   ]
  },
  {
   "cell_type": "markdown",
   "metadata": {},
   "source": [
    "Веса определяются согласно правилу: сумма весов маржинальных вкладов для каждого уровня графа должна быть равной 1.\n",
    "\n",
    "Таким образом, нетрудно рассчитать веса маржинальных вкладов барабанщика:\n",
    "* первый уровень содержит $3$ ребра, каждое из которых будет иметь вес $\\dfrac{1}{3}$\n",
    "* второй уровень содержит $6$ ребер, каждое из которых будет иметь вес $\\dfrac{1}{6}$\n",
    "* третий уровень содержит $3$ ребра, каждое из которых будет иметь вес $\\dfrac{1}{3}$\n",
    "\n",
    "Таким образом: $\\displaystyle w_1=w_4=\\frac{1}{3}, \\; w_2=w_3=\\frac{1}{6}$."
   ]
  },
  {
   "cell_type": "markdown",
   "metadata": {},
   "source": [
    "**В этой аналогии:**\n",
    "* конкретный музыкальный коллектив — это один объект выборки,\n",
    "* музыканты — это признаки,\n",
    "* публика — это модель,\n",
    "* заработок группы (оценка группы публикой) — предсказание модели (оценка объекта моделью).\n",
    "\n",
    "Однако эта аналогия в случае моделей машинного обучения требует дополнительного пояснения. В примере с музыкальной группой мы использовали одну модель (публику) для оценки разных комбинаций признаков (разных составов группы).\n",
    "\n",
    "Отсутствие какого-то игрока в группе означает отсуствие признака в признаковом описании объекта. Большинство моделей ML не могут работать с пропущенными значениями (то есть с признаковыми описаниями различной длины). Поэтому для получения оценок придется всякий раз **обучать модель заново на новом подмножестве признаков** (сохраняя гиперпараметры модели и набор обучающих объектов).\n",
    "\n",
    "Для получения предсказания модели для пустого множества признаков может быть использовано, например, среднее значение целевой переменной по обучающей выборке.\n",
    "\n",
    "\n"
   ]
  },
  {
   "cell_type": "markdown",
   "metadata": {},
   "source": [
    "### Kernel SHAP"
   ]
  },
  {
   "cell_type": "markdown",
   "metadata": {},
   "source": [
    "У описанного выше метода есть недостаток: нам нужно обучить огромное количество моделей. Для всего 10-ти признаков это $2^{10} = 1024$ модели.\n",
    "\n",
    "На помощь нам приходит статья [A Unified Approach to Interpreting Model Predictions 🎓[arxiv]](https://arxiv.org/pdf/1705.07874.pdf). В ней введено понятие **аддитивного метода атрибуции признаков** в котором в качестве “стеклянного ящика” используется функция бинарных переменных (есть признак/нет признака):\n",
    "\n",
    "$$\\large g(z') = \\phi_0 +\\sum_{i=1}^M\\phi_i z_i'$$\n",
    "\n",
    "где $z'\\in\\{0,1\\}^M$ — вектор из $0$ и $1$ длины $M$: $0$ — отсутсвие признака, $1$ — наличие признака, $M$ — количество упрощенных признаков (например, суперпикселей для изображения). $\\phi_i$ — вклад (важность) $i$-того упрощенного признака."
   ]
  },
  {
   "cell_type": "markdown",
   "metadata": {},
   "source": [
    "Для адекватного описания работы модели данный метод должен удовлетворять трем свойствам:\n",
    "1. **Local Accuracy (Локальная точность)** — результат модели объяснения $g(x’)$ должен совпадать с результатом оригинальной модели $f(x):$\n",
    "\n",
    "$$\\large f(x)=g(x')=\\phi_0 +\\sum_{i=1}^M\\phi_i x_i',$$\n",
    "\n",
    "где\n",
    "* $x' = \\{x_1', x_2', ...,x_M'\\}$ — упрощенные признаки объекта (например, суперпиксели для изображения).\n",
    "\n",
    "*  $x$ — оригинальный набор признаков объекта (например: значения RGB пикселей изображения).\n",
    "\n",
    "* упрощенный набор признаков переводится в оригинальный с помощью функции $h_x(x)$:\n",
    "\n",
    "$$\\large x=h_x(x')$$\n"
   ]
  },
  {
   "cell_type": "markdown",
   "metadata": {},
   "source": [
    "2. **Missingness (Отсутствие влияния отсутствующих признаков)** — если признак отсутствует ($x_i = \\text{None}$ означает, что упрощенный признак $x_i' = 0$), он вносит нулевой вклад:\n",
    "\n",
    "$$\\large x_i' = 0 \\Rightarrow \\phi_i = 0$$\n",
    "\n",
    "Это свойство означает, что ненужные или неинформативные признаки не должны вносить вклад в объяснение."
   ]
  },
  {
   "cell_type": "markdown",
   "metadata": {},
   "source": [
    "3. **Consistency (Согласованность)** — если для двух моделей $f'$ и $f$ устранение $i$-го признака изменяет предсказание первой модели больше, чем другой, то и SHAP-значение $\\phi_i$ для этого признака должно быть больше для первой модели. Формально это свойство выражается таким образом:\n",
    "\n",
    "\n",
    "\n",
    "> Пусть $f_x(z')=f(h_x(z'))$, и $z' \\text{\\\\} i$ обозначает установку $z_i'=0$. Для двух любых моделей $f$ и $f'$, **если**\n",
    "\n",
    "> $$\\large f'_x(z') - f'_x(z'\\text{\\\\}i) \\geq f_x(z') - f_x(z'\\text{\\\\}i)$$\n",
    "\n",
    "> для всех входов $z'\\in\\{0,1\\}^M$, **тогда** $\\large \\phi_i(f', x) \\geq \\phi_i(f, x)$.\n",
    "\n",
    "Это свойство обеспечивает интуитивную согласованность между разными моделями: если $i$-й признак важнее для первой модели, чем для второй, то и его SHAP-значение должно быть больше для первой модели, чем для второй."
   ]
  },
  {
   "cell_type": "markdown",
   "metadata": {},
   "source": [
    "В [статье 🎓[arxiv]](https://arxiv.org/pdf/1705.07874.pdf) показано, что единственным методом адитивной атрибуции, удовлетворяющим всем свойствам являются значения Шепли, которые можно записать, как:\n",
    "\n",
    "$$\\large \\phi_i(f, x) = \\sum_{z'⊆x'} \\frac{|z'|!(M-|z'|-1)!}{M!}\\left[f_x(z')-f_x(z'\\text{\\\\}i)\\right]$$"
   ]
  },
  {
   "cell_type": "markdown",
   "metadata": {},
   "source": [
    "Значения Шепли можно [получить 🎓[arxiv]](https://arxiv.org/pdf/1705.07874.pdf) (вывод есть в статье), используя **линейный LIME** 🍋:\n",
    "\n",
    "$$\\large \\hat{g}=\\underset{g\\in G}{\\mathrm{argmin}}L(f,g,\\pi_{x'})+\\Omega (g)$$\n",
    "\n",
    "со следующими параметрами:\n",
    "\n",
    "$$\\large \\Omega(g) = 0,$$\n",
    "\n",
    "$$\\large \\pi_{x'}(z')=\\frac{M-1}{C^{|z'|}_M|z'|(M-|z'|)},$$\n",
    "\n",
    "$$\\large L(f, g, \\pi_{x'}) = \\sum_{z' \\in Z}\\left[f(h_x^{-1}(z'))-g(z')\\right]^2\\pi_{x'}(z'),$$\n",
    "\n",
    "где $|z'|$ — количество ненулевых элементов $z'$, $C^k_n$ — биномиальный коэффициент."
   ]
  },
  {
   "cell_type": "markdown",
   "metadata": {},
   "source": [
    "Такой метод расчета называется Kernel SHAP. Он позволяет не обучать огромное количество моделей и реализовать вычисление значений Шепли за конечное время. Именно так считаются значения Шепли в библиотеке SHAP."
   ]
  },
  {
   "cell_type": "markdown",
   "metadata": {},
   "source": [
    "### Пример для табличных данных (Boston Dataset)"
   ]
  },
  {
   "cell_type": "markdown",
   "metadata": {},
   "source": [
    "Установим пакет SHAP:"
   ]
  },
  {
   "cell_type": "code",
   "execution_count": null,
   "metadata": {},
   "outputs": [],
   "source": [
    "!pip install -q shap"
   ]
  },
  {
   "cell_type": "markdown",
   "metadata": {},
   "source": [
    "Для примера скачаем датасет жилья Бостона (boston_dataset), в котором проанализируем зависимость цены на жилье от параметров жилья и района, в котором оно находится."
   ]
  },
  {
   "cell_type": "markdown",
   "metadata": {},
   "source": [
    "Разобьем данные на обучаюшие и тестовые и обучим Random Forest модель."
   ]
  },
  {
   "cell_type": "code",
   "execution_count": null,
   "metadata": {},
   "outputs": [],
   "source": [
    "import numpy as np\n",
    "import pandas as pd\n",
    "from sklearn.model_selection import train_test_split\n",
    "from sklearn.ensemble import RandomForestRegressor\n",
    "\n",
    "\n",
    "# load dataset\n",
    "boston_dataset = pd.read_csv(\n",
    "    \"https://edunet.kea.su/repo/EduNet-web_dependencies/datasets/boston_dataset.csv\",\n",
    "    index_col=0,\n",
    ")\n",
    "x_data = boston_dataset.iloc[:, :-1]\n",
    "y_data = boston_dataset[\"target\"]\n",
    "\n",
    "# Split the data into train and test data\n",
    "x_train, x_test, y_train, y_test = train_test_split(\n",
    "    x_data, y_data, test_size=0.2, random_state=42\n",
    ")\n",
    "\n",
    "# Build the model with the random forest regression algorithm\n",
    "rng = np.random.RandomState(42)\n",
    "model = RandomForestRegressor(n_jobs=-1, max_depth=4, random_state=rng)\n",
    "model.fit(x_train, y_train)"
   ]
  },
  {
   "cell_type": "markdown",
   "metadata": {},
   "source": [
    "Применим SHAP."
   ]
  },
  {
   "cell_type": "code",
   "execution_count": null,
   "metadata": {},
   "outputs": [],
   "source": [
    "import shap\n",
    "\n",
    "# explain the model's predictions using SHAP\n",
    "# (same syntax works for LightGBM, CatBoost, scikit-learn and spark models)\n",
    "explainer = shap.TreeExplainer(model)\n",
    "explanations = explainer(x_test)"
   ]
  },
  {
   "cell_type": "code",
   "execution_count": null,
   "metadata": {},
   "outputs": [],
   "source": [
    "print(type(explanations))\n",
    "\n",
    "print(explanations)"
   ]
  },
  {
   "cell_type": "markdown",
   "metadata": {},
   "source": [
    "**Force plot**\n",
    "\n",
    "Хороший способ визуализировать вклад каждого признака в конкретный прогноз — использовать так называемый \"график сил\" (force plot).\n",
    "\n",
    "В приведенном ниже примере показан график сил для первого объекта в тестовом наборе данных."
   ]
  },
  {
   "cell_type": "code",
   "execution_count": null,
   "metadata": {},
   "outputs": [],
   "source": [
    "# load JS visualization code to notebook\n",
    "shap.initjs()\n",
    "# visualize the first prediction’s explanation\n",
    "shap.plots.force(explanations[0])"
   ]
  },
  {
   "cell_type": "markdown",
   "metadata": {},
   "source": [
    "* $f(x)$ — это прогноз модели по анализируемому объекту недвижимости. А \"base value\" — это средний прогноз по всему набору тестовых данных. Или, другими словами, это значение, которое можно было бы спрогнозировать, если бы мы не знали никаких характеристик текущего примера.\n",
    "\n",
    "* Элементы, которые способствуют увеличению цены, показаны красным, а те, которые уменьшают — синим.\n",
    "\n",
    "* Длина вектора — “сила” влияния. Численное значение (оно не совпадает с длиной) — важность признака. Из нашего анализа мы помним, что увеличение RM положительно влияет на предсказание, но для данного объекта RM маленькое, поэтому влияет на цену отрицательно."
   ]
  },
  {
   "cell_type": "markdown",
   "metadata": {},
   "source": [
    "**Waterfall plot**\n",
    "\n",
    "Другой способ визуализации SHAP-объяснения для конкретного примера — так называемый \"график-водопад\" (waterfall plot). Фактически, это график сил, где стрелки, обозначающие сдвиг предсказания от базового значения за счет SHAP-значений, расположены одна под другой, начиная с самой длинной сверху."
   ]
  },
  {
   "cell_type": "code",
   "execution_count": null,
   "metadata": {},
   "outputs": [],
   "source": [
    "# visualize the first prediction's explanation using waterfall\n",
    "\n",
    "shap.plots.waterfall(explanations[0])"
   ]
  },
  {
   "cell_type": "markdown",
   "metadata": {},
   "source": [
    "Этот график объясняет движущие силы конкретного прогноза: влияние каждого отдельного признака (наименее значимые признаки объединяются в одну группу) представлено стрелками, которые перемещают предсказание влево и вправо, начиная с базового значения (внизу картинки).\n"
   ]
  },
  {
   "cell_type": "markdown",
   "metadata": {},
   "source": [
    "Указанный выше пример приведен только для одного объекта.\n",
    "\n",
    "Если мы возьмем много объяснений в виде графика сил, повернем их на 90 градусов, а затем сложим их по горизонтали, мы сможем увидеть объяснения для всего набора данных (в блокноте этот график является интерактивным):"
   ]
  },
  {
   "cell_type": "code",
   "execution_count": null,
   "metadata": {},
   "outputs": [],
   "source": [
    "# load JS visualization code to notebook\n",
    "shap.initjs()\n",
    "# visualize the training set predictions\n",
    "shap.force_plot(explanations)"
   ]
  },
  {
   "cell_type": "markdown",
   "metadata": {},
   "source": [
    "* По оси $x$ — объекты, по оси $y$ — вклад признаков в предсказание для каждого объекта. Важно заметить, что объекты упорядочены по схожести, которая считается по расстоянию между объектами.\n",
    "* Можно использовать выпадающее меню, чтобы посмотреть, как будет выглядеть график без упорядочивания или при упорядочивании по конкретному признаку.\n"
   ]
  },
  {
   "cell_type": "markdown",
   "metadata": {},
   "source": [
    "**Bar plot**\n",
    "\n",
    "Сводный график `shap.plots.bar` даст нам график важности признаков.\n",
    "\n",
    "Признаки с высокой предсказательной способностью показаны вверху, а с низкой предсказательной силой — внизу."
   ]
  },
  {
   "cell_type": "code",
   "execution_count": null,
   "metadata": {},
   "outputs": [],
   "source": [
    "shap.plots.bar(explanations)"
   ]
  },
  {
   "cell_type": "markdown",
   "metadata": {},
   "source": [
    "Обратите внимание, что, согласно SHAP, наименьшей предсказательной способностью обладают признаки **CHAS, ZN, RAD** и **INDUS**.\n",
    "\n",
    "Здесь мы только что рассмотрели алгоритм TreeExplainer для интерпретации модели.\n",
    "\n",
    "Вы можете изучить остальные алгоритмы: DeepExplainer, KernelExplainer, LinearExplainer и GradientExplainer."
   ]
  },
  {
   "cell_type": "markdown",
   "metadata": {},
   "source": [
    "### Пример NLP (перевод с английского на русский)"
   ]
  },
  {
   "cell_type": "markdown",
   "metadata": {},
   "source": [
    "Рассмотрим пример интерпретации модели для предварительно обученной модели машинного перевода\n",
    "[Machine Translation Explanations 🐾[git]](https://github.com/slundberg/shap/blob/master/notebooks/text_examples/translation/Machine%20Translation%20Explanations.ipynb). Для перевода будем использовать предобученную [модель-трансформер 🎓[arxiv]](https://arxiv.org/abs/1810.04805)."
   ]
  },
  {
   "cell_type": "markdown",
   "metadata": {},
   "source": [
    "Используем одну из моделей [huggingface 🐾[git]](https://github.com/huggingface/transformers).\n",
    "\n",
    "Модель: [Language Technology in Helsinki ✏️[blog]](https://blogs.helsinki.fi/language-technology/)\n",
    "\n",
    "[[doc] 🛠️ Language Technology Research Group at the University of Helsinki](https://huggingface.co/Helsinki-NLP)\n",
    "\n",
    "[[doc] 🛠️ Helsinki-NLP/opus-mt-en-ru](https://huggingface.co/Helsinki-NLP/opus-mt-en-ru)"
   ]
  },
  {
   "cell_type": "code",
   "execution_count": null,
   "metadata": {},
   "outputs": [],
   "source": [
    "!pip install -q transformers[sentencepiece]"
   ]
  },
  {
   "cell_type": "markdown",
   "metadata": {},
   "source": [
    "Загружаем модель.\n",
    "\n",
    "Для этого используется класс `AutoModelForSeq2SeqLM`, на вход которому передается имя модели, а возвращает он объект соответствующего класса."
   ]
  },
  {
   "cell_type": "code",
   "execution_count": null,
   "metadata": {},
   "outputs": [],
   "source": [
    "import torch\n",
    "import transformers\n",
    "from transformers import AutoModelForSeq2SeqLM\n",
    "from IPython.display import clear_output\n",
    "\n",
    "device = torch.device(\"cuda\" if torch.cuda.is_available() else \"cpu\")\n",
    "\n",
    "lang = \"en\"\n",
    "target_lang = \"ru\"\n",
    "model_name = f\"Helsinki-NLP/opus-mt-{lang}-{target_lang}\"\n",
    "\n",
    "# Download the model and the tokenizer\n",
    "# can also try translation with different pre-trained models\n",
    "\n",
    "# It's a Factory pattern\n",
    "model = AutoModelForSeq2SeqLM.from_pretrained(model_name)\n",
    "model.to(device)\n",
    "clear_output()\n",
    "print(type(model))"
   ]
  },
  {
   "cell_type": "markdown",
   "metadata": {},
   "source": [
    "В данном случае нам вернулся объект типа `MarianMT` [🛠️[doc]](https://huggingface.co/transformers/model_doc/marian.html).\n",
    "\n"
   ]
  },
  {
   "cell_type": "markdown",
   "metadata": {},
   "source": [
    "Теперь создадим [токенайзер 🛠️[doc]](https://huggingface.co/transformers/main_classes/tokenizer.html).\n",
    "\n",
    "Как мы уже обсуждали, токенайзер преобразовывает слова и знаки препинания из исходного текста в токены, которые можно подать на вход модели. В данном случае возвращаются id. При этом не всегда одно слово преобразовывается в один токен, иногда слово разбивается по слогам на несколько токенов.\n",
    "\n",
    "Токенайзер создается с помощью класса `AutoTokenizer` по имени модели."
   ]
  },
  {
   "cell_type": "code",
   "execution_count": null,
   "metadata": {},
   "outputs": [],
   "source": [
    "!pip install -q sacremoses"
   ]
  },
  {
   "cell_type": "code",
   "execution_count": null,
   "metadata": {},
   "outputs": [],
   "source": [
    "from transformers import AutoTokenizer\n",
    "\n",
    "tokenizer = AutoTokenizer.from_pretrained(model_name)\n",
    "\n",
    "clear_output()\n",
    "\n",
    "print(type(tokenizer))\n",
    "\n",
    "input = tokenizer(\"Hello world!\", return_tensors=\"pt\")\n",
    "print(input)\n",
    "\n",
    "translated = model.generate(\n",
    "    **tokenizer(\"Hello world!\", return_tensors=\"pt\").to(device), max_new_tokens=512\n",
    ")\n",
    "# ** -  is dictionary unpack operator\n",
    "# https://pavel-karateev.gitbook.io/intermediate-python/sintaksis/args_and_kwargs"
   ]
  },
  {
   "cell_type": "markdown",
   "metadata": {},
   "source": [
    "Теперь переведем целую фразу и проанализируем, как выход модели связан со входом.\n",
    "\n",
    "Для этого создадим объект `shap.Explainer` [🛠️[doc]](https://shap.readthedocs.io/en/latest/generated/shap.Explainer.html), который в данном случае инициализируется экземпляром модели и экземпляром токенайзера.\n",
    "\n",
    "\n",
    "\n",
    "> *В действительности вторым параметром конструктора `shap.Explainer` не обязательно должен быть токенайзер. `shap.Explainer` принимает объект, поддерживающий интерфейс `masker`:*\n",
    "\n",
    "> ```masked_args = masker(*model_args, mask=mask)```\n",
    "\n",
    "> *Он используется для исключения части аргументов, и токенайзеры поддерживают этот интерфейс (`shap.TokenMasker`). Благодаря такому подходу SHAP может работать с различными моделями как с \"черным ящиком\".*\n",
    "\n",
    "\n",
    "\n",
    "\n",
    "\n",
    "Вместо того, чтобы запускать саму модель, мы запускаем `Explainer` (неявно вызывая его метод `__call__`).\n"
   ]
  },
  {
   "cell_type": "code",
   "execution_count": null,
   "metadata": {},
   "outputs": [],
   "source": [
    "import shap\n",
    "\n",
    "# define the input sentences we want to translate\n",
    "data = [\n",
    "    \"Transformers are a type of neural network architecture that have been gaining popularity. Transformers were developed to solve the problem of sequence transduction, or neural machine translation.\"\n",
    "    \"That means any task that transforms an input sequence to an output sequence. This includes speech recognition, text-to-speech transformation, etc..\"\n",
    "]\n",
    "\n",
    "# we build an explainer by passing the model we want to explain and\n",
    "# the tokenizer we want to use to break up the input strings\n",
    "explainer = shap.Explainer(model, tokenizer, max_new_tokens=512)\n",
    "\n",
    "# explainers are callable, just like models\n",
    "explanation = explainer(data)\n",
    "clear_output()"
   ]
  },
  {
   "cell_type": "markdown",
   "metadata": {},
   "source": [
    "На выходе получаем объект класса `shap.Explanation` [🛠️[doc]](https://shap.readthedocs.io/en/latest/generated/shap.Explanation.html#shap-explanation), который содержит значения Шепли для каждого токена."
   ]
  },
  {
   "cell_type": "code",
   "execution_count": null,
   "metadata": {},
   "outputs": [],
   "source": [
    "print(\"Data\", explanation.data)\n",
    "print(\"SHAP values\", explanation.values)\n",
    "print(\"Shape\", explanation.shape)  # 1, in, out"
   ]
  },
  {
   "cell_type": "markdown",
   "metadata": {},
   "source": [
    "Теперь, используя интерактивную визуализацию `shap.plots.text` [🛠️[doc]](https://shap.readthedocs.io/en/latest/example_notebooks/api_examples/plots/text.html), можно отобразить результат объяснения."
   ]
  },
  {
   "cell_type": "code",
   "execution_count": null,
   "metadata": {},
   "outputs": [],
   "source": [
    "shap.initjs()\n",
    "shap.plots.text(explanation)"
   ]
  },
  {
   "cell_type": "markdown",
   "metadata": {},
   "source": [
    "Данная языковая модель предсказывает эмбеддинги — вектора, которые преобразуются в токены. При этом SHAP для оценки важности использует сжатые представления эмбеддингов. В данном случае наибольший интерес представляет не раскраска outputs (абсолютное значение сжатого представления эмбеддинга на выходе), а подсветка inputs, которая появляется, когда мы нажимаем на выходной токен. Она показывает, какие входные токены влияют на выходной."
   ]
  },
  {
   "cell_type": "markdown",
   "metadata": {},
   "source": [
    "### Пример NLP (абстрактное обобщение текста)"
   ]
  },
  {
   "cell_type": "markdown",
   "metadata": {},
   "source": [
    "В этом примере мы рассмотрим интерпретацию составления резюме статьи с помощью предварительно обученной модели.\n",
    "\n",
    "Используется датасет Extreme Summarization [XSum 🛠️[doc]](https://huggingface.co/sshleifer/distilbart-xsum-12-6)."
   ]
  },
  {
   "cell_type": "code",
   "execution_count": null,
   "metadata": {},
   "outputs": [],
   "source": [
    "!pip install -q datasets"
   ]
  },
  {
   "cell_type": "code",
   "execution_count": null,
   "metadata": {},
   "outputs": [],
   "source": [
    "import torch\n",
    "from datasets import load_dataset\n",
    "from transformers import AutoTokenizer, AutoModelForSeq2SeqLM\n",
    "\n",
    "device = torch.device(\"cuda\" if torch.cuda.is_available() else \"cpu\")\n",
    "\n",
    "tokenizer = AutoTokenizer.from_pretrained(\"sshleifer/distilbart-xsum-12-6\")\n",
    "model = AutoModelForSeq2SeqLM.from_pretrained(\"sshleifer/distilbart-xsum-12-6\").to(\n",
    "    device\n",
    ")\n",
    "\n",
    "\n",
    "dataset = load_dataset(\"xsum\", split=\"train\", trust_remote_code=True)  # load dataset\n",
    "s = dataset[\"document\"][0:1]  # slice inputs from dataset to run model inference on\n",
    "explainer = shap.Explainer(model, tokenizer)  # create an explainer object\n",
    "explanation = explainer(s)  # Compute shap values\n",
    "clear_output()"
   ]
  },
  {
   "cell_type": "code",
   "execution_count": null,
   "metadata": {},
   "outputs": [],
   "source": [
    "shap.initjs()\n",
    "shap.plots.text(explanation)  # Visualize shap explanations"
   ]
  },
  {
   "cell_type": "markdown",
   "metadata": {},
   "source": [
    "# Градиентные методы"
   ]
  },
  {
   "cell_type": "markdown",
   "metadata": {},
   "source": [
    "## Vanilla Gradient"
   ]
  },
  {
   "cell_type": "markdown",
   "metadata": {},
   "source": [
    "### Идея метода"
   ]
  },
  {
   "cell_type": "markdown",
   "metadata": {},
   "source": [
    "Имея информацию о структуре модели, можно использовать градиент, чтобы понять, как входы связаны с выходом.\n",
    "\n",
    "Градиент указывает направление возрастания функции. Если мы выберем  **logit, соответствующий метке наиболее вероятного класса**, и посчитаем для него **градиент по исходному изображению**, мы можем узнать, какие пиксели нужно “усилить”, чтобы модель была более уверена в ответе."
   ]
  },
  {
   "cell_type": "markdown",
   "metadata": {},
   "source": [
    "<center><img src =\"https://edunet.kea.su/repo/EduNet-content/dev-2.1/L14/out/vanilla_gradient_idea.png\" width=\"800\"></center>"
   ]
  },
  {
   "cell_type": "markdown",
   "metadata": {},
   "source": [
    "Тут важно заметить, что пример из статьи на картинке выше — это **cherry picked** (специально отобранный пример, для которого данный метод дает хороший результат). Давайте посмотрим на нашей картинке."
   ]
  },
  {
   "cell_type": "markdown",
   "metadata": {},
   "source": [
    "###Пример изображения (ResNet18)"
   ]
  },
  {
   "cell_type": "markdown",
   "metadata": {},
   "source": [
    "Загрузим изображение"
   ]
  },
  {
   "cell_type": "code",
   "execution_count": null,
   "metadata": {},
   "outputs": [],
   "source": [
    "!wget -q \"https://edunet.kea.su/repo/EduNet-web_dependencies/dev-2.1/L14/cat_and_dog1.jpg\" -O cat_and_dog1.jpg\n",
    "!wget -q \"https://edunet.kea.su/repo/EduNet-web_dependencies/datasets/imagenet_class_index.json\" -O imagenet_class_index.json"
   ]
  },
  {
   "cell_type": "code",
   "execution_count": null,
   "metadata": {},
   "outputs": [],
   "source": [
    "import os\n",
    "import matplotlib.pyplot as plt\n",
    "from PIL import Image\n",
    "\n",
    "\n",
    "def get_image(path):\n",
    "    with open(os.path.abspath(path), \"rb\") as f:\n",
    "        with Image.open(f) as img:\n",
    "            return img.convert(\"RGB\")\n",
    "\n",
    "\n",
    "img = get_image(\"cat_and_dog1.jpg\")\n",
    "plt.rcParams[\"figure.figsize\"] = (5, 5)\n",
    "plt.imshow(img)\n",
    "plt.axis(\"off\")\n",
    "plt.show()"
   ]
  },
  {
   "cell_type": "markdown",
   "metadata": {},
   "source": [
    "Теперь нам нужно преобразовать это изображение в тензор PyTorch, а также его нормализовать для использования в нашей предварительно обученной модели."
   ]
  },
  {
   "cell_type": "code",
   "execution_count": null,
   "metadata": {},
   "outputs": [],
   "source": [
    "from torchvision import transforms\n",
    "\n",
    "\n",
    "# resize & normalize\n",
    "\n",
    "\n",
    "def get_input_transform():\n",
    "    transform = transforms.Compose(\n",
    "        [\n",
    "            transforms.Resize(224),\n",
    "            transforms.CenterCrop((224, 224)),\n",
    "            transforms.ToTensor(),\n",
    "            transforms.Normalize(\n",
    "                mean=(0.485, 0.456, 0.406),\n",
    "                std=(0.229, 0.224, 0.225),\n",
    "            ),\n",
    "        ]\n",
    "    )\n",
    "    return transform\n",
    "\n",
    "\n",
    "# for get croped img from input tensor\n",
    "\n",
    "\n",
    "def get_reverse_transform():\n",
    "    transform = transforms.Compose(\n",
    "        [\n",
    "            transforms.Normalize(\n",
    "                mean=(0.0, 0.0, 0.0), std=(1 / 0.229, 1 / 0.224, 1 / 0.225)\n",
    "            ),\n",
    "            transforms.Normalize(\n",
    "                mean=(-0.485, -0.456, -0.406),\n",
    "                std=(1.0, 1.0, 1.0),\n",
    "            ),\n",
    "            transforms.Lambda(lambda x: torch.permute(x, (0, 2, 3, 1))),\n",
    "            transforms.Lambda(lambda x: x.detach().numpy()),\n",
    "        ]\n",
    "    )\n",
    "    return transform\n",
    "\n",
    "\n",
    "def get_input_tensors(img):\n",
    "    transform = get_input_transform()\n",
    "    # unsqeeze converts single image to batch of 1\n",
    "    return transform(img).unsqueeze(0)\n",
    "\n",
    "\n",
    "def get_crop_img(img_tensor):\n",
    "    transform = get_reverse_transform()\n",
    "    return transform(img_tensor)[0]"
   ]
  },
  {
   "cell_type": "markdown",
   "metadata": {},
   "source": [
    "\n",
    "Загрузим предобученную модель ResNet18, доступную в PyTorch, и классы изображений из ImageNet."
   ]
  },
  {
   "cell_type": "code",
   "execution_count": null,
   "metadata": {},
   "outputs": [],
   "source": [
    "import json\n",
    "import torch\n",
    "from torchvision import models\n",
    "\n",
    "device = torch.device(\"cuda\" if torch.cuda.is_available() else \"cpu\")\n",
    "\n",
    "model = models.resnet18(weights=\"ResNet18_Weights.DEFAULT\")\n",
    "\n",
    "idx2label, cls2label, cls2idx = [], {}, {}\n",
    "with open(os.path.abspath(\"/content/imagenet_class_index.json\"), \"r\") as read_file:\n",
    "    class_idx = json.load(read_file)\n",
    "    idx2label = [class_idx[str(k)][1] for k in range(len(class_idx))]\n",
    "    lable2idx = {class_idx[str(k)][1]: k for k in range(len(class_idx))}"
   ]
  },
  {
   "cell_type": "markdown",
   "metadata": {},
   "source": [
    "Получим предсказание. А после этого полученные нами прогнозы (logits) пропустим через softmax, чтобы получить вероятности и метки классов для 6 лучших прогнозов."
   ]
  },
  {
   "cell_type": "code",
   "execution_count": null,
   "metadata": {},
   "outputs": [],
   "source": [
    "print(type(img))\n",
    "img_t = get_input_tensors(img)\n",
    "\n",
    "model.to(device)\n",
    "model.eval()\n",
    "logits = model(img_t.to(device))"
   ]
  },
  {
   "cell_type": "code",
   "execution_count": null,
   "metadata": {},
   "outputs": [],
   "source": [
    "import torch.nn.functional as F\n",
    "\n",
    "\n",
    "def top_k_class(logits, k=6):\n",
    "    prediction = F.softmax(logits, dim=1)\n",
    "    top_props, top_inds = prediction.topk(k)\n",
    "\n",
    "    for i in range(k):\n",
    "        category_name = idx2label[top_inds[0][i].item()]\n",
    "        score = top_props[0][i].item()\n",
    "        print(f\"{category_name} {top_inds[0][i].item()}: {100 * score:.1f}%\")\n",
    "\n",
    "\n",
    "top_k_class(logits)"
   ]
  },
  {
   "cell_type": "markdown",
   "metadata": {},
   "source": [
    "Включаем расчет градиента для изображения. Делаем предсказание. Выбираем наиболее вероятный logit."
   ]
  },
  {
   "cell_type": "code",
   "execution_count": null,
   "metadata": {},
   "outputs": [],
   "source": [
    "img_t.requires_grad = True  # Tell pytorch to compute grads w.r.t. inputs too\n",
    "\n",
    "logits = model(img_t.to(device))  # [1,1000] batch of one element, 1000 class scores\n",
    "top_score, top_idx = logits[0].topk(1)  # Get id of class with best score\n",
    "id = top_idx[0].item()\n",
    "\n",
    "print(id, idx2label[id])  # Print the label this class\n",
    "\n",
    "score = logits[:, id]  # Model output for particular class"
   ]
  },
  {
   "cell_type": "markdown",
   "metadata": {},
   "source": [
    "Для выхода модели, соответствующего нашему классу, рассчитываем градиент."
   ]
  },
  {
   "cell_type": "code",
   "execution_count": null,
   "metadata": {},
   "outputs": [],
   "source": [
    "# Compute gradients\n",
    "score.backward(retain_graph=True)\n",
    "\n",
    "# retain_grad = True is not nessesary\n",
    "# But if we run this code second time, we got a torch error without it\n",
    "# because pytorch want to accumulate gradients explicitly\n",
    "\n",
    "print(img_t.grad.shape)"
   ]
  },
  {
   "cell_type": "markdown",
   "metadata": {},
   "source": [
    "У входного тензора (изображения) появился градиент, который указывает на то, как каждый элемент повлиял на выход модели. Отобразим этот градиент."
   ]
  },
  {
   "cell_type": "code",
   "execution_count": null,
   "metadata": {},
   "outputs": [],
   "source": [
    "import numpy as np\n",
    "from matplotlib import pylab as P\n",
    "\n",
    "\n",
    "# Helper method to display grad\n",
    "def grad_to_image(raw_grads, percentile=99):\n",
    "    gradients = raw_grads.detach().cpu().numpy()\n",
    "    gradients = np.transpose(gradients, (0, 2, 3, 1))[0]\n",
    "\n",
    "    image_2d = np.sum(np.abs(gradients), axis=2)\n",
    "\n",
    "    vmax = np.percentile(image_2d, percentile)\n",
    "    vmin = np.min(image_2d)\n",
    "\n",
    "    return np.clip((image_2d - vmin) / (vmax - vmin), 0, 1)\n",
    "\n",
    "\n",
    "def plot_saliency_map(img_tensor, saliency_map):\n",
    "    plt.rcParams[\"figure.figsize\"] = (10, 5)\n",
    "    plt.subplot(1, 2, 1)\n",
    "    img = get_crop_img(img_t)\n",
    "    plt.imshow(img)\n",
    "    plt.axis(\"off\")\n",
    "    plt.subplot(1, 2, 2)\n",
    "    plt.imshow(saliency_map, cmap=P.cm.gray, vmin=0, vmax=1)\n",
    "    plt.axis(\"off\")\n",
    "    plt.show()"
   ]
  },
  {
   "cell_type": "code",
   "execution_count": null,
   "metadata": {},
   "outputs": [],
   "source": [
    "saliency_map = grad_to_image(img_t.grad)\n",
    "plot_saliency_map(img_t, saliency_map)"
   ]
  },
  {
   "cell_type": "markdown",
   "metadata": {},
   "source": [
    "**Карта важности (saliency map)**, полученная таким образом, получается очень зашумленной."
   ]
  },
  {
   "cell_type": "markdown",
   "metadata": {},
   "source": [
    "### Проблема насыщения (saturation)"
   ]
  },
  {
   "cell_type": "markdown",
   "metadata": {},
   "source": [
    "Одним из недостатков **карты важности** (saliency map), полученной методом **Vanilla Gradient**, является **проблема насыщения** (saturation). Простыми словами эту проблему можно сформулировать так: если какой-то **признак “идеально” характеризует объект** как принадлежащий к определенному классу, то **градиент** этого признака по логиту этого класса **будет нулевым**. То есть **Vanilla Gradient** будет **занижать важность очень хороших признаков**."
   ]
  },
  {
   "cell_type": "markdown",
   "metadata": {},
   "source": [
    "<center><img src =\"https://edunet.kea.su/repo/EduNet-web_dependencies/dev-2.1/L14/saturation_problem.png\" width=\"800\"></center>\n",
    "\n",
    "<center><em>Source: <a href=\"https://arxiv.org/pdf/1704.02685.pdf\">Learning Important Features Through Propagating Activation Differences</a></em></center>\n"
   ]
  },
  {
   "cell_type": "markdown",
   "metadata": {},
   "source": [
    "Рассмотрим на примере. Пусть $y$ — выход нейрона с такой функцией активации:\n",
    "\n",
    "$$y=\\min(1,i_1+i_2).$$\n",
    "\n",
    "Если мы возьмем значения признаков $\\left\\{ i_1=1; i_2=1 \\right\\}$, то на выходе получим значение $y=1$. Далее по очереди будем занулять значения каждого из признаков, внося таким образом пертурбации: $\\left\\{ i_1=0; i_2=1 \\right\\}$ и $\\left\\{ i_1=1; i_2=0 \\right\\}$. В обоих случаях выход по-прежнему будет $y=1$.\n",
    "\n",
    "Может сложиться обманчивое впечатление, что ни один из признаков не влияет на результат вычисления. Таким образом, мы столкнулись с проблемой, заключающейся в том, что подход, основанный на изменении признаков, будет занижать значимость признаков, чей вклад в результат достиг насыщения. Аналогично градиентные методы также будут недооценивать важность признаков при насыщении, поскольку градиент в данном случае будет равным 0.\n",
    "\n",
    "Проблема насыщения не является редкой. В частности, с ней можно столкнуться в биологии при построении [моделей 🎓[article]](https://www.nature.com/articles/nmeth.3547), объясняющих вклад единичных мутаций на то или иное свойство организма, что связано с вырожденностью генетического кода."
   ]
  },
  {
   "cell_type": "markdown",
   "metadata": {},
   "source": [
    "### Adversarial attacks"
   ]
  },
  {
   "cell_type": "markdown",
   "metadata": {},
   "source": [
    "Принцип взятия градиента по входу используется при **состязательных атаках (adversarial attacks)**.\n",
    "\n",
    "Если не просто визуализировать градиент, а с его помощью менять изображение, усиливая определенную метку класса, то можно обмануть сеть и заставить ее неверно классифицировать картинку, незначительно поменяв ее."
   ]
  },
  {
   "cell_type": "markdown",
   "metadata": {},
   "source": [
    "<center><img src =\"https://edunet.kea.su/repo/EduNet-web_dependencies/dev-2.1/L14/adversarial_attack.jpg\" width=\"700\"></center>\n",
    "\n"
   ]
  },
  {
   "cell_type": "markdown",
   "metadata": {},
   "source": [
    "Подробнее:\n",
    "* [[wiki] 📚 Adversarial machine learning](https://en.wikipedia.org/wiki/Adversarial_machine_learning)\n",
    "* [[blog] ✏️ Interpretable Machine Learning](https://christophm.github.io/interpretable-ml-book/adversarial.html)"
   ]
  },
  {
   "cell_type": "markdown",
   "metadata": {},
   "source": [
    "## SmoothGrad\n"
   ]
  },
  {
   "cell_type": "markdown",
   "metadata": {},
   "source": [
    "### Идея метода"
   ]
  },
  {
   "cell_type": "markdown",
   "metadata": {},
   "source": [
    "Проблемой Vanilla Gradient Ascent является большая зашумленность карты важности. Было придумано несколько способов борьбы с этим, один из них был предложен в статье [SmoothGrad: removing noise by adding noise 🎓[arxiv]](https://arxiv.org/pdf/1706.03825.pdf).\n",
    "\n",
    "Как вы можете догадаться из названия статьи, идея **SmoothGrad** заключается в **добавлении** к исходному изображению $x$ **гауссовского шума**:\n",
    "\n",
    "$$\\large x+\\mathcal{N}(0, \\sigma^2).$$\n",
    "\n",
    "Для набора зашумленных изображений с помощью **Vanilla Gradient** рассчитываются **карты важности (saliency map)**:\n",
    "\n",
    "$$\\large M_c(x+\\mathcal{N}(0, \\sigma^2)).$$\n",
    "\n",
    "**Карты важности**, полученные от зашумленных изображений, **усредняются**:\n",
    "\n",
    "$$\\large \\text{SmoothGrad} = \\frac{1}{n}\\sum_{1}^{n}M_c(x+\\mathcal{N}(0, \\sigma^2)).$$\n",
    "\n",
    "\n",
    "\n",
    "\n"
   ]
  },
  {
   "cell_type": "markdown",
   "metadata": {},
   "source": [
    "<center><img src =\"https://edunet.kea.su/repo/EduNet-web_dependencies/dev-2.1/L14/smoth_grad.png\" width=\"800\">\n",
    "\n",
    "<em>Source: <a href=\"https://arxiv.org/pdf/1706.03825.pdf\">SmoothGrad: removing noise by adding noise\n",
    "</a></em></center>\n"
   ]
  },
  {
   "cell_type": "markdown",
   "metadata": {},
   "source": [
    "В статье рекомендуют выбирать $n = 50$ и $10–20\\%$ шума. Уровень шума определяют как отношение:\n",
    "\n",
    "$$\\large \\frac{\\sigma}{x_{\\max}-x_{\\min}}.$$\n"
   ]
  },
  {
   "cell_type": "markdown",
   "metadata": {},
   "source": [
    "###Пример изображения (ResNet18)"
   ]
  },
  {
   "cell_type": "markdown",
   "metadata": {},
   "source": [
    "Для визуализации работы SmoothGrad используем [код 🐾[git]](https://github.com/PAIR-code/saliency/blob/master/Examples_pytorch.ipynb) c [сайта ✏️[blog]](https://pair-code.github.io/saliency/), посвященного [статье 🎓[arxiv]](https://arxiv.org/pdf/1706.03825.pdf)."
   ]
  },
  {
   "cell_type": "code",
   "execution_count": null,
   "metadata": {},
   "outputs": [],
   "source": [
    "!pip install -q saliency"
   ]
  },
  {
   "cell_type": "markdown",
   "metadata": {},
   "source": [
    "У кода есть особенность: нужно написать функцию `call_model_function`, вызывающую модель.\n",
    "\n",
    "При этом любое изображение, поданное в метод `GetMask` класса `GradientSaliency`, будет преобразовано в `np.array`. К тому же, размеры входного изображения и карты важности на выходе должны совпадать, что осложняет использование `torchvision.transforms`."
   ]
  },
  {
   "cell_type": "code",
   "execution_count": null,
   "metadata": {},
   "outputs": [],
   "source": [
    "import numpy as np\n",
    "import saliency.core as saliency\n",
    "\n",
    "\n",
    "model = models.resnet18(weights=\"ResNet18_Weights.DEFAULT\")\n",
    "\n",
    "\n",
    "def call_model_function(img, call_model_args=None, expected_keys=None):\n",
    "    img_t = torch.tensor(np.transpose(img, (0, 3, 1, 2)))\n",
    "    transform = transforms.Normalize(\n",
    "        mean=(0.485, 0.456, 0.406),\n",
    "        std=(0.229, 0.224, 0.225),\n",
    "    )\n",
    "    img_t = transform(img_t)\n",
    "    img_t.requires_grad_(True)\n",
    "\n",
    "    model.to(device)\n",
    "    model.eval()\n",
    "    logits = model(img_t.float().to(device))\n",
    "\n",
    "    top_score, top_idx = logits[0].topk(1)  # Get id of class with best score\n",
    "    target_class_idx = top_idx[0].item()\n",
    "\n",
    "    output = logits[:, target_class_idx]\n",
    "    grads = torch.autograd.grad(\n",
    "        output, img_t, grad_outputs=torch.ones_like(output)\n",
    "    )  # output[:, target_class_idx]\n",
    "    grads = torch.movedim(grads[0], 1, 3)\n",
    "    gradients = grads.detach().numpy()\n",
    "    return {saliency.base.INPUT_OUTPUT_GRADIENTS: gradients}"
   ]
  },
  {
   "cell_type": "markdown",
   "metadata": {},
   "source": [
    "Получаем Vanilla Gradient, рассчитанный для исходного изображения с помощью установленной библиотеки, и результат  SmoothGrad."
   ]
  },
  {
   "cell_type": "code",
   "execution_count": null,
   "metadata": {},
   "outputs": [],
   "source": [
    "img = get_image(\"cat_and_dog1.jpg\")\n",
    "img_t = get_input_tensors(img)\n",
    "img_arr = get_crop_img(img_t)\n",
    "\n",
    "gradient_saliency = saliency.GradientSaliency()\n",
    "\n",
    "vanilla_mask_3d = gradient_saliency.GetMask(img_arr, call_model_function)\n",
    "smoothgrad_mask_3d = gradient_saliency.GetSmoothedMask(img_arr, call_model_function)\n",
    "\n",
    "# Call the visualization methods to convert the 3D tensors to 2D grayscale.\n",
    "vanilla_mask_grayscale = saliency.VisualizeImageGrayscale(vanilla_mask_3d)\n",
    "smoothgrad_mask_grayscale = saliency.VisualizeImageGrayscale(smoothgrad_mask_3d)"
   ]
  },
  {
   "cell_type": "markdown",
   "metadata": {},
   "source": [
    "Визуализируем результат:"
   ]
  },
  {
   "cell_type": "code",
   "execution_count": null,
   "metadata": {},
   "outputs": [],
   "source": [
    "from matplotlib import pylab as P\n",
    "\n",
    "\n",
    "def ShowGrayscaleImage(im, title=\"\", ax=None):\n",
    "    if ax is None:\n",
    "        P.figure()\n",
    "    P.axis(\"off\")\n",
    "    P.imshow(im, cmap=P.cm.gray, vmin=0, vmax=1)\n",
    "    P.title(title)\n",
    "\n",
    "\n",
    "# Set up matplot lib figures.\n",
    "plt.rcParams[\"figure.figsize\"] = (15, 5)\n",
    "\n",
    "plt.subplot(1, 3, 1)\n",
    "plt.imshow(img_arr)\n",
    "plt.axis(\"off\")\n",
    "\n",
    "ShowGrayscaleImage(\n",
    "    vanilla_mask_grayscale, title=\"Vanilla Gradient\", ax=P.subplot(1, 3, 2)\n",
    ")\n",
    "ShowGrayscaleImage(smoothgrad_mask_grayscale, title=\"SmoothGrad\", ax=P.subplot(1, 3, 3))"
   ]
  },
  {
   "cell_type": "markdown",
   "metadata": {},
   "source": [
    "##Integrated Gradients"
   ]
  },
  {
   "cell_type": "markdown",
   "metadata": {},
   "source": [
    "### Идея метода"
   ]
  },
  {
   "cell_type": "markdown",
   "metadata": {},
   "source": [
    "Следующий метод, который мы посмотрим, называется **Integrated Gradients**. Он напоминает **SmoothGrad** тем, что мы намеренно \"портим\" изображения. Давайте разберемся, как он работает.\n",
    "\n",
    "В методе **Integrated Gradients** мы выбираем **опорное изображение** $x'$. В качестве опорного изображения используется черный фон (все нули по RGB-каналам). Оцениваемое изображение $x$ примешивают к опорному изображению $x’$ с пропорцией $\\alpha$:\n",
    "\n",
    "$$\\large x'+\\alpha(x-x')$$\n",
    "\n",
    "Таким образом мы портим изображение и постепенно его восстанавливаем."
   ]
  },
  {
   "cell_type": "markdown",
   "metadata": {},
   "source": [
    "<center><img src =\"https://edunet.kea.su/repo/EduNet-web_dependencies/dev-2.1/L14/IG_fireboat_1.png\" width=\"900\">\n",
    "\n",
    "<em>Source: <a href=\"https://www.tensorflow.org/tutorials/interpretability/integrated_gradients\">Tensorflow tutorials: Integrated gradients\n",
    "</a></em></center>"
   ]
  },
  {
   "cell_type": "markdown",
   "metadata": {},
   "source": [
    "Для смеси изображений считается **Vanilla Gradient**:\n",
    "\n",
    "$$\\large M_c(x'+\\alpha(x-x'))$$\n",
    "\n",
    "Формула, лежащая в основе **Integrated Gradients**, была предложена в [статье 🎓[arxiv]](https://arxiv.org/pdf/1703.01365.pdf). Это — интегральное значение градиента при восстановлении изображения.\n",
    "\n",
    "$$\\large \\text{IntegratedGrads}(x) = (x-x')\\cdot\\int_{\\alpha=0}^1 M_c(x'+\\alpha(x-x'))dα$$\n",
    "\n",
    "Множитель $(x-x)’$ появился, т.к. изначально градиент был по $dx = (x-x’)d\\alpha$.\n",
    "\n",
    "В расчетах интеграл аппроксимируется суммой:\n",
    "\n",
    "$$\\large \\text{IntegratedGrads}(x) \\approx (x-x')\\cdot\\sum_{k=1}^m M_c(x'+\\frac{k}{m}(x-x'))\\cdot\\frac{1}{m}$$\n",
    "\n",
    "Значение $m$ выбирают в диапазоне от $20$ до $300$."
   ]
  },
  {
   "cell_type": "markdown",
   "metadata": {},
   "source": [
    "Пример результата:"
   ]
  },
  {
   "cell_type": "markdown",
   "metadata": {},
   "source": [
    "<center><img src =\"https://edunet.kea.su/repo/EduNet-web_dependencies/dev-2.1/L14/IG_fireboat.png\" width=\"500\">\n",
    "\n",
    "<em>Source: <a href=\"https://www.tensorflow.org/tutorials/interpretability/integrated_gradients\">Tensorflow tutorials: Integrated gradients\n",
    "</a></em></center>"
   ]
  },
  {
   "cell_type": "markdown",
   "metadata": {},
   "source": [
    "Integrated Gradients частично решает проблему насыщения за счет изменения изображения."
   ]
  },
  {
   "cell_type": "markdown",
   "metadata": {},
   "source": [
    "###Пример изображения (ResNet18)"
   ]
  },
  {
   "cell_type": "code",
   "execution_count": null,
   "metadata": {},
   "outputs": [],
   "source": [
    "! pip install -q captum"
   ]
  },
  {
   "cell_type": "code",
   "execution_count": null,
   "metadata": {},
   "outputs": [],
   "source": [
    "output = model(img_t.to(device))\n",
    "output = F.softmax(output, dim=1)\n",
    "prediction_score, pred_label_idx = torch.topk(output, 1)\n",
    "\n",
    "pred_label_idx.squeeze_()\n",
    "predicted_label = idx2label[pred_label_idx.item()]\n",
    "print(\"Predicted:\", predicted_label, \"(\", prediction_score.squeeze().item(), \")\")"
   ]
  },
  {
   "cell_type": "code",
   "execution_count": null,
   "metadata": {},
   "outputs": [],
   "source": [
    "from captum.attr import IntegratedGradients\n",
    "\n",
    "\n",
    "integrated_gradients = IntegratedGradients(model)\n",
    "attributions_ig = integrated_gradients.attribute(\n",
    "    img_t.to(device), target=pred_label_idx, n_steps=200\n",
    ")"
   ]
  },
  {
   "cell_type": "code",
   "execution_count": null,
   "metadata": {},
   "outputs": [],
   "source": [
    "saliency_map = grad_to_image(attributions_ig)\n",
    "\n",
    "# Set up matplot lib figures.\n",
    "plt.rcParams[\"figure.figsize\"] = (20, 5)\n",
    "\n",
    "plt.subplot(1, 4, 1)\n",
    "plt.imshow(img_arr)\n",
    "plt.axis(\"off\")\n",
    "\n",
    "ShowGrayscaleImage(\n",
    "    vanilla_mask_grayscale, title=\"Vanilla Gradient\", ax=P.subplot(1, 4, 2)\n",
    ")\n",
    "ShowGrayscaleImage(smoothgrad_mask_grayscale, title=\"SmoothGrad\", ax=P.subplot(1, 4, 3))\n",
    "ShowGrayscaleImage(saliency_map, title=\"Integrated Gradients\", ax=P.subplot(1, 4, 4))"
   ]
  },
  {
   "cell_type": "markdown",
   "metadata": {},
   "source": [
    "Пакет [captum 🛠️[doc]](https://captum.ai/docs/attribution_algorithms) можно использовать и для других модальностей данных, например, для [NLP BERT ✏️[blog]](https://captum.ai/tutorials/Bert_SQUAD_Interpret2). Там реализовано большое количество модификаций алгоритма Integrated Gradients и не только."
   ]
  },
  {
   "cell_type": "markdown",
   "metadata": {},
   "source": [
    "## Grad-CAM"
   ]
  },
  {
   "cell_type": "markdown",
   "metadata": {},
   "source": [
    "Развитием **Gradient Ascent** для сверточных нейронных сетей **CNN** является метод **Grad-CAM** (Gradient-weighted Class Activation Mapping)."
   ]
  },
  {
   "cell_type": "markdown",
   "metadata": {},
   "source": [
    "<center><img src=\"https://edunet.kea.su/repo/EduNet-web_dependencies/dev-2.1/L14/gradcam-architecture.png\" alt=\"alttext\" width=\"800\"/></center>\n",
    "\n",
    "<center><em>Source: <a href=\"https://learnopencv.com/intro-to-gradcam\">GradCAM – Enhancing Neural Network Interpretability in the Realm of Explainable AI</a></em></center>"
   ]
  },
  {
   "cell_type": "markdown",
   "metadata": {},
   "source": [
    "### Идея метода"
   ]
  },
  {
   "cell_type": "markdown",
   "metadata": {},
   "source": [
    "После каждого **сверточного слоя** нейронной сети мы получаем **карты признаков**, сохраняющие информацию о **расположении объектов** на исходном изображении. При этом все значения признаков для одного канала получаются одним и тем же преобразованием исходного изображения (получаются применением одинаковых сверток с одинаковыми весами), то есть **один канал** — это **карта одного признака**."
   ]
  },
  {
   "cell_type": "markdown",
   "metadata": {},
   "source": [
    "Посмотрим на карты признаков для **ResNet18**. Для этого загрузим модель вместе с весами.\n",
    "\n",
    "Нам интересны сложные признаки, которые выделяются на последних сверточных слоях. ResNet18 был обучен на ImageNet с размерами входного изображения $224\\times224$. Посмотрим на размеры на выходе последнего сверточного слоя."
   ]
  },
  {
   "cell_type": "code",
   "execution_count": null,
   "metadata": {},
   "outputs": [],
   "source": [
    "from torchsummary import summary\n",
    "\n",
    "model = models.resnet18(weights=\"ResNet18_Weights.DEFAULT\")\n",
    "\n",
    "summary(model.to(\"cpu\"), (3, 224, 224), device=\"cpu\")"
   ]
  },
  {
   "cell_type": "markdown",
   "metadata": {},
   "source": [
    "На последнем сверточном слое получаем $512$ карт признаков $7\\times7$. Для их сохранения напишем hook, в котором будем сохранять значения активации на выходе модели.\n"
   ]
  },
  {
   "cell_type": "code",
   "execution_count": null,
   "metadata": {},
   "outputs": [],
   "source": [
    "from collections import defaultdict\n",
    "\n",
    "\n",
    "def get_forward_hook(history_dict, key):\n",
    "    def forward_hook(self, input_, output):\n",
    "        history_dict[key] = output.detach().clone()\n",
    "\n",
    "    return forward_hook\n",
    "\n",
    "\n",
    "def register_model_hooks(model):\n",
    "    hooks_data_history = defaultdict(list)\n",
    "    forward_hook = get_forward_hook(hooks_data_history, \"feature_map\")\n",
    "    model._modules[\"layer4\"].register_forward_hook(forward_hook)\n",
    "    return hooks_data_history"
   ]
  },
  {
   "cell_type": "markdown",
   "metadata": {},
   "source": [
    "Предобработаем картинку: приведем к размеру $224\\times224$ и нормализуем изображение в соответствии со статистикой ImageNet."
   ]
  },
  {
   "cell_type": "code",
   "execution_count": null,
   "metadata": {},
   "outputs": [],
   "source": [
    "img_t = get_input_tensors(img)"
   ]
  },
  {
   "cell_type": "markdown",
   "metadata": {},
   "source": [
    "Пропустим картинку через сеть и сохраним значения активаций."
   ]
  },
  {
   "cell_type": "code",
   "execution_count": null,
   "metadata": {},
   "outputs": [],
   "source": [
    "model = model.eval()\n",
    "history = register_model_hooks(model)\n",
    "output = model(img_t)\n",
    "\n",
    "print(history[\"feature_map\"].shape)"
   ]
  },
  {
   "cell_type": "markdown",
   "metadata": {},
   "source": [
    "Нарисуем первые 6 карт признаков. Чтобы растянуть карты по размеру изображения, используем `extent` и `interpolation='bilinear'`."
   ]
  },
  {
   "cell_type": "code",
   "execution_count": null,
   "metadata": {},
   "outputs": [],
   "source": [
    "plt.figure(figsize=(15, 10))\n",
    "\n",
    "for i in range(6):\n",
    "    plt.subplot(2, 3, i + 1)\n",
    "    plt.imshow(img_arr)\n",
    "    plt.imshow(\n",
    "        history[\"feature_map\"][0][i],\n",
    "        alpha=0.6,\n",
    "        extent=(0, 224, 224, 0),\n",
    "        interpolation=\"nearest\",\n",
    "        cmap=\"jet\",\n",
    "    )\n",
    "    plt.axis(\"off\")\n",
    "\n",
    "plt.show()"
   ]
  },
  {
   "cell_type": "markdown",
   "metadata": {},
   "source": [
    "Вспомним предсказание модели."
   ]
  },
  {
   "cell_type": "code",
   "execution_count": null,
   "metadata": {},
   "outputs": [],
   "source": [
    "import torch.nn.functional as F\n",
    "\n",
    "number_of_top_classes = 6\n",
    "\n",
    "prediction = F.softmax(output, dim=1)\n",
    "top_props, top_inds = prediction.topk(number_of_top_classes)\n",
    "\n",
    "\n",
    "for i in range(number_of_top_classes):\n",
    "    category_name = idx2label[top_inds[0][i].item()]\n",
    "    score = top_props[0][i].item()\n",
    "    print(f\"{category_name} {top_inds[0][i].item()}: {100 * score:.1f}%\")"
   ]
  },
  {
   "cell_type": "markdown",
   "metadata": {},
   "source": [
    "Мы смогли понять, к какой части изображения относятся те или иные признаки. Теперь попробуем понять, как они соотносятся с классом. Мы помним, что градиент указывает направление возрастания функции. Если мы выберем логит, соответствующий метке класса, и посчитаем для него градиент, то мы сможем увидеть, какие признаки имеют положительные значения (при их увеличении модель будет больше уверена в оценке)."
   ]
  },
  {
   "cell_type": "markdown",
   "metadata": {},
   "source": [
    "Напишем хук для сохранения значения градиента. Мы смотрим значения градиента на выходе слоя перед `AdaptiveAvgPool2d`, поэтому сохраним только средние значения (значение градиента для карт признаков одного канала будет одинаковым)."
   ]
  },
  {
   "cell_type": "code",
   "execution_count": null,
   "metadata": {},
   "outputs": [],
   "source": [
    "def get_backward_hook(history_dict, key):\n",
    "    def backward_hook(self, grad_input_, grad_output):  # for tensors\n",
    "        history_dict[key] = (\n",
    "            grad_output[0].detach().clone().mean(dim=[2, 3], keepdim=True)\n",
    "        )\n",
    "\n",
    "    return backward_hook\n",
    "\n",
    "\n",
    "def register_model_hooks(model):\n",
    "    hooks_data_history = defaultdict(list)\n",
    "\n",
    "    forward_hook = get_forward_hook(hooks_data_history, \"feature_map\")\n",
    "    model._modules[\"layer4\"].register_forward_hook(forward_hook)\n",
    "\n",
    "    backward_hook = get_backward_hook(hooks_data_history, \"weight\")\n",
    "    model._modules[\"layer4\"].register_full_backward_hook(backward_hook)\n",
    "    return hooks_data_history"
   ]
  },
  {
   "cell_type": "markdown",
   "metadata": {},
   "source": [
    "Итоговая формула **Grad-CAM** (Class activation maps):\n",
    "\n",
    "$$\\large \\text{CAM} = \\text{ReLU}(\\sum_{i=1}^{Nch}w_iA_i)$$\n",
    "\n",
    "где $A_i$ — каналы карты признаков, $w_i$ — веса, полученные пропусканием градиента по логиту, соответствующему метке класса. $\\text{ReLU}$ используется потому, что нам интересны только положительно влияющие на метку класса признаки."
   ]
  },
  {
   "cell_type": "markdown",
   "metadata": {},
   "source": [
    "Функция, рассчитывающая CAM:"
   ]
  },
  {
   "cell_type": "code",
   "execution_count": null,
   "metadata": {},
   "outputs": [],
   "source": [
    "def get_cam_map(model, img, class_num):\n",
    "    history = register_model_hooks(model)\n",
    "\n",
    "    output = model.eval()(img)\n",
    "    activation = history[\"feature_map\"]\n",
    "\n",
    "    output[0, class_num].backward()\n",
    "    weight = history[\"weight\"]\n",
    "\n",
    "    cam_map = F.relu((weight[0] * activation[0]).sum(0)).detach().cpu()\n",
    "    return cam_map"
   ]
  },
  {
   "cell_type": "markdown",
   "metadata": {},
   "source": [
    "Визуализация важности признаков для top-6 классов:"
   ]
  },
  {
   "cell_type": "code",
   "execution_count": null,
   "metadata": {},
   "outputs": [],
   "source": [
    "plt.figure(figsize=(15, 10))\n",
    "\n",
    "for i in range(6):\n",
    "    cam_map = get_cam_map(model, img_t, top_inds[0][i])\n",
    "\n",
    "    plt.subplot(2, 3, i + 1)\n",
    "    plt.imshow(img_arr)\n",
    "    plt.imshow(\n",
    "        cam_map,\n",
    "        alpha=0.6,\n",
    "        extent=(0, 224, 224, 0),\n",
    "        interpolation=\"nearest\",\n",
    "        cmap=\"jet\",\n",
    "    )\n",
    "    plt.title(idx2label[top_inds[0][i].item()])\n",
    "    plt.axis(\"off\")\n",
    "\n",
    "plt.show()"
   ]
  },
  {
   "cell_type": "code",
   "execution_count": null,
   "metadata": {},
   "outputs": [],
   "source": [
    "plt.figure(figsize=(15, 10))\n",
    "\n",
    "for i in range(6):\n",
    "    cam_map = get_cam_map(model, img_t, top_inds[0][i])\n",
    "\n",
    "    plt.subplot(2, 3, i + 1)\n",
    "    plt.imshow(img_arr)\n",
    "    plt.imshow(\n",
    "        cam_map,\n",
    "        alpha=0.6,\n",
    "        extent=(0, 224, 224, 0),\n",
    "        interpolation=\"bilinear\",\n",
    "        cmap=\"jet\",\n",
    "    )\n",
    "    plt.title(idx2label[top_inds[0][i].item()])\n",
    "    plt.axis(\"off\")\n",
    "\n",
    "plt.show()"
   ]
  },
  {
   "cell_type": "markdown",
   "metadata": {},
   "source": [
    "###Пример изображения (ResNet18)"
   ]
  },
  {
   "cell_type": "markdown",
   "metadata": {},
   "source": [
    "Можно сделать все то же самое с помощью библиотеки  Grad-CAM."
   ]
  },
  {
   "cell_type": "code",
   "execution_count": null,
   "metadata": {},
   "outputs": [],
   "source": [
    "!pip install -q grad-cam"
   ]
  },
  {
   "cell_type": "code",
   "execution_count": null,
   "metadata": {},
   "outputs": [],
   "source": [
    "from pytorch_grad_cam import GradCAM\n",
    "\n",
    "target_layers = [model._modules[\"layer4\"]]\n",
    "\n",
    "cam = GradCAM(model=model, target_layers=target_layers)"
   ]
  },
  {
   "cell_type": "code",
   "execution_count": null,
   "metadata": {},
   "outputs": [],
   "source": [
    "from pytorch_grad_cam.utils.model_targets import ClassifierOutputTarget\n",
    "\n",
    "plt.figure(figsize=(15, 10))\n",
    "\n",
    "for i in range(6):\n",
    "    target = [ClassifierOutputTarget(top_inds[0][i])]\n",
    "    cam_map = cam(input_tensor=img_t, targets=target)\n",
    "\n",
    "    plt.subplot(2, 3, i + 1)\n",
    "    plt.imshow(img_arr)\n",
    "    plt.imshow(cam_map[0], alpha=0.6, interpolation=\"bilinear\", cmap=\"jet\")\n",
    "    plt.title(idx2label[top_inds[0][i].item()])\n",
    "    plt.axis(\"off\")\n",
    "\n",
    "plt.show()"
   ]
  },
  {
   "cell_type": "markdown",
   "metadata": {},
   "source": [
    "В библиотеке также реализованы другие методы визуализации, например, Grad-CAM++, использующий производные второго порядка."
   ]
  },
  {
   "cell_type": "code",
   "execution_count": null,
   "metadata": {},
   "outputs": [],
   "source": [
    "from pytorch_grad_cam import GradCAMPlusPlus\n",
    "\n",
    "target_layers = [model._modules[\"layer4\"]]\n",
    "cam_plus = GradCAMPlusPlus(model=model, target_layers=target_layers)"
   ]
  },
  {
   "cell_type": "code",
   "execution_count": null,
   "metadata": {},
   "outputs": [],
   "source": [
    "from pytorch_grad_cam.utils.model_targets import ClassifierOutputTarget\n",
    "\n",
    "plt.figure(figsize=(15, 10))\n",
    "\n",
    "for i in range(6):\n",
    "    target = [ClassifierOutputTarget(top_inds[0][i])]\n",
    "    cam_map = cam_plus(input_tensor=img_t, targets=target)\n",
    "\n",
    "    plt.subplot(2, 3, i + 1)\n",
    "    plt.imshow(img_arr)\n",
    "    plt.imshow(cam_map[0], alpha=0.6, interpolation=\"bilinear\", cmap=\"jet\")\n",
    "    plt.title(idx2label[top_inds[0][i].item()])\n",
    "    plt.axis(\"off\")\n",
    "\n",
    "plt.show()"
   ]
  },
  {
   "cell_type": "markdown",
   "metadata": {},
   "source": [
    "Grad-CAM++ для ряда изображений работает лучше Grad-CAM."
   ]
  },
  {
   "cell_type": "markdown",
   "metadata": {},
   "source": [
    "<center><img src=\"https://edunet.kea.su/repo/EduNet-web_dependencies/dev-2.1/L14/Grad_CAM_plus_plus.png\" alt=\"alttext\" width=\"600\"/></center>\n",
    "\n",
    "<center><em>Source: <a href=\"https://arxiv.org/pdf/1710.11063.pdf\">Grad-CAM++: Improved Visual Explanations for\n",
    "Deep Convolutional Networks</a></em></center>"
   ]
  },
  {
   "cell_type": "markdown",
   "metadata": {},
   "source": [
    "Подробнее о других методах: [Grad-Cam 🛠️[doc]](https://jacobgil.github.io/pytorch-gradcam-book/introduction.html)."
   ]
  },
  {
   "cell_type": "markdown",
   "metadata": {},
   "source": [
    "## Критика градиентных методов"
   ]
  },
  {
   "cell_type": "markdown",
   "metadata": {},
   "source": [
    "Градиентные методы имеют существенное преимущество перед SHAP и LIME: они вычисляются быстрее, чем методы, не зависящие от моделей. Но у них есть ряд недостатков. Недостаток в том, что в статьях, где предлагались такие методы, **качество работы оценивалось визуально**, “на глаз”."
   ]
  },
  {
   "cell_type": "markdown",
   "metadata": {},
   "source": [
    "Хорошим примером проблемы визуальной оценки является метод **Guided Backpropagation**, описанный в [статье 🎓[arxiv]](https://arxiv.org/pdf/1412.6806.pdf).\n",
    "\n",
    "[[blog] ✏️ Объяснение метода и код](https://leslietj.github.io/2020/07/22/Deep-Learning-Guided-BackPropagation/)."
   ]
  },
  {
   "cell_type": "markdown",
   "metadata": {},
   "source": [
    "<center><img src=\"https://edunet.kea.su/repo/EduNet-web_dependencies/dev-2.1/L14/Guided_Backpropagation.png\" alt=\"alttext\" width=\"600\"/></center>\n",
    "\n",
    "<center><em>Картинка получена применением модели ResNet18 и Guided Backpropagation</em></center>"
   ]
  },
  {
   "cell_type": "markdown",
   "metadata": {},
   "source": [
    "Интуитивно нам кажется, что **Guided Backpropagation** дает хорошее объяснение работы модели, потому что она выделяет границы, по которым легко узнать объект. В статье [Sanity Checks for Saliency Maps 🎓[arxiv]](https://arxiv.org/pdf/1810.03292.pdf) показано, что данный метод инвариантен к рандомизации весов верхних слоев модели, что ставит под сомнение его способности объяснения работы модели."
   ]
  },
  {
   "cell_type": "markdown",
   "metadata": {},
   "source": [
    "<center><img src=\"https://edunet.kea.su/repo/EduNet-web_dependencies/dev-2.1/L14/guided_backprop_demo.png\" alt=\"alttext\" width=\"900\"/></center>\n",
    "\n",
    "<center><em>Показан результат Guided Backpropagation  при рандомизации слоев в модели Inception-v3, начиная с последнего.\n",
    "\n",
    "Source: <a href=\"https://arxiv.org/pdf/1810.03292.pdf\">Sanity Checks for Saliency Maps.</a></em></center>\n",
    "\n"
   ]
  },
  {
   "cell_type": "markdown",
   "metadata": {},
   "source": [
    "В статье [Interpretation of Neural Networks is Fragile 🎓[arxiv]](https://arxiv.org/abs/1710.10547) было показано, что небольшое случайное возмущение, добавленное к картинке, не влияющее на результат предсказания, может существенно поменять карты важности, что является спорной критикой, потому что на результат работы нейросети такое возмущение тоже может повлиять:"
   ]
  },
  {
   "cell_type": "markdown",
   "metadata": {},
   "source": [
    "<center><img src=\"https://edunet.kea.su/repo/EduNet-web_dependencies/dev-2.1/L14/criticism_grad_1.png\" alt=\"alttext\" width=\"500\"/></center>\n",
    "\n",
    "<center><em>Source: <a href=\"https://arxiv.org/abs/1710.10547\">Interpretation of Neural Networks is Fragile</a></em></center>"
   ]
  },
  {
   "cell_type": "markdown",
   "metadata": {},
   "source": [
    "В целом [остается проблема 🎓[arxiv]](https://arxiv.org/pdf/1912.01451.pdf) оценки качества Saliency Maps. Это не значит, что градиентные методы нельзя использовать. Это значит, что нужно использовать их с осторожностью."
   ]
  },
  {
   "cell_type": "markdown",
   "metadata": {},
   "source": [
    "<font size=\"5\">Заключение</font>\n",
    "* Мы убедились в важности интерпретации работы моделей машинного обучения.\n",
    "* Рассмотрели основные методы, которые используются для оценки важности признаков:\n",
    "    - методы оценки важности, явно использующие внутреннее устройство модели (анализ коэффициентов линейной регрессии, анализ важности признаков в моделях основанных на деревьях решений),\n",
    "    - model-agnostic методы, такие как LIME и SHAP, позволяющие оценить важность признаков для произвольных моделей,\n",
    "    - градиентные методы, такие как GradCAM и Integrated Gradients, области на изображениях, важные для моделей компьютерного зрения.\n",
    "* Рассмотрели применение библиотек на примерах:\n",
    "    - табличных данных,\n",
    "    - NLP (машинный перевод текста, создание резюме статьи и классификации текстов),\n",
    "    - CV (классификация изображений).\n",
    "\n",
    "Пренебрежение объяснением того, почему модель дала тот или иной результат, ведет к недоверию по отношению не только к самой модели, но и к конкретным прогнозам, и, следовательно, является существенным препятствием для внедрения вашей модели или публикации статьи в научном журнале."
   ]
  },
  {
   "cell_type": "markdown",
   "metadata": {},
   "source": [
    "<font size=6>Литература</font>\n",
    "\n",
    "<font size=5>Объяснимость моделей классического ML:</font>\n",
    "* [[book] 📚 A Guide for Making Black Box Models Explainable. Chapter 5: Interpretable Models](https://christophm.github.io/interpretable-ml-book/simple.html)\n",
    "\n",
    "<font size=5>LIME, SHAP:</font>\n",
    "* [[arxiv] 🎓 “Why Should I Trust You?” Explaining the Predictions of Any Classifier (Ribeiro et al., 2016)](https://arxiv.org/pdf/1602.04938.pdf)\n",
    "* [[blog] ✏️ Local Interpretable Model-Agnostic Explanations (LIME): An Introduction](https://www.oreilly.com/content/introduction-to-local-interpretable-model-agnostic-explanations-lime/)\n",
    "* [[git] 🐾 Using LIME with PyTorch (tutorial)](https://github.com/marcotcr/lime/blob/master/doc/notebooks/Tutorial%20-%20images%20-%20Pytorch.ipynb)\n",
    "* [[git] 🐾 Fetching data, training a classifier (tutorial)](https://github.com/marcotcr/lime/blob/master/doc/notebooks/Lime%20-%20multiclass.ipynb)\n",
    "* [[book] 📚 SHAP (SHapley Additive exPlanations)](https://christophm.github.io/interpretable-ml-book/shap.html)\n",
    "* [[book] 📚 Элементы теории кооперативных игр](http://old.math.nsc.ru/~mathecon/Marakulin/CooGAMES.pdf)\n",
    "* [[arxiv] 🎓 A Unified Approach to Interpreting Model Predictions (Lundberg, Lee, 2017)](https://arxiv.org/pdf/1705.07874v2.pdf)\n",
    "* [[git] 🐾 Machine Translation Explanations](https://github.com/slundberg/shap/blob/master/notebooks/text_examples/translation/Machine%20Translation%20Explanations.ipynb)\n",
    "* [[arxiv] 🎓 BERT: Pre-training of Deep Bidirectional Transformers for Language Understanding (Devlin et al., 2019](https://arxiv.org/abs/1810.04805).\n",
    "\n",
    "<font size=5>Градиентные методы:</font>\n",
    "* [[arxiv] 🎓 Learning Important Features Through Propagating Activation Differences (Shrikumar et. al., 2019)](https://arxiv.org/pdf/1704.02685.pdf)\n",
    "* [[wiki] 📚 Adversarial machine learning](https://en.wikipedia.org/wiki/Adversarial_machine_learning)\n",
    "* [[blog] ✏️ Interpretable Machine Learning](https://christophm.github.io/interpretable-ml-book/adversarial.html)\n",
    "* [[arxiv] 🎓 SmoothGrad: removing noise by adding noise (Smilkov et. al., 2017)](https://arxiv.org/pdf/1706.03825.pdf)\n",
    "* [[git] 🐾 Computing saliency masks with the PAIRML saliency library (for PyTorch and other frameworks)](https://github.com/PAIR-code/saliency/blob/master/Examples_pytorch.ipynb)\n",
    "* [[blog] ✏️ PAIR Saliency Methods](https://pair-code.github.io/saliency/)\n",
    "* [[arxiv] 🎓 Axiomatic Attribution for Deep Networks (Sundararajan et al., 2017)](https://arxiv.org/pdf/1703.01365.pdf)\n",
    "* [[blog] ✏️ Interpreting BERT Models (Part 2)](https://captum.ai/tutorials/Bert_SQUAD_Interpret2)\n",
    "* [[blog] ✏️ GradCAM – Enhancing Neural Network Interpretability in the Realm of Explainable AI](https://learnopencv.com/intro-to-gradcam)\n",
    "* [[arxiv] 🎓 Striving for Simplicity: The All Convolutional Net (Springenberg et el., 2015)](https://arxiv.org/pdf/1412.6806.pdf).\n",
    "* [[blog] ✏️ Deep Learning: Guided Backpropagation](https://leslietj.github.io/2020/07/22/Deep-Learning-Guided-BackPropagation/)\n",
    "* [[arxiv] 🎓 Sanity Checks for Saliency Maps (Adebayo et al., 2020)](https://arxiv.org/pdf/1810.03292.pdf)\n",
    "* [[arxiv] 🎓 Interpretation of Neural Networks is Fragile (Ghorbani et al., 2018)](https://arxiv.org/abs/1710.10547)\n",
    "* [[arxiv] 🎓 Sanity Checks for Saliency Metrics (Tomsett et al. 2019)](https://arxiv.org/pdf/1912.01451.pdf)\n",
    "\n",
    "<font size=5>Методы, специфичные для трансформеров:</font>\n",
    "* [[arxiv] 🎓 Quantifying Attention Flow in Transformers (Abnar, Zuidema, 2020)](https://arxiv.org/pdf/2005.00928.pdf)\n",
    "* [[git] 🐾 Attention flow](https://github.com/samiraabnar/attention_flow)\n",
    "* [[arxiv] 🎓 Visualizing Attention in Transformer-Based Language Representation Models (Vig, 2019)](https://arxiv.org/pdf/1904.02679.pdf)\n",
    "* [[colab] 🥨 BertViz Interactive Tutorial](https://colab.research.google.com/drive/1hXIQ77A4TYS4y3UthWF-Ci7V7vVUoxmQ?usp=sharing)\n",
    "* [[arxiv] 🎓 Quantifying Attention Flow in Transformers (Abnar, Zuidema, 2020)](https://arxiv.org/pdf/2005.00928.pdf)\n",
    "* [[git] 🐾 Для ViT и картинок](https://huggingface.co/spaces/probing-vits/attention-rollout/tree/main)\n",
    "* [[git] 🐾 На PyTorch Rollout для BERT и некоторых других методов](https://huggingface.co/spaces/amsterdamNLP/attention-rollout/tree/main)\n",
    "* [[demo] 🎮 Attention Rollout — RoBERTa](https://huggingface.co/spaces/amsterdamNLP/attention-rollout)\n",
    "* [[article] 🎓 Transformer Interpretability Beyond Attention Visualization (Chefer et.al., 2021)](https://openaccess.thecvf.com/content/CVPR2021/papers/Chefer_Transformer_Interpretability_Beyond_Attention_Visualization_CVPR_2021_paper.pdf)\n",
    "\n",
    "<font size=5>Дополнительно:</font>\n",
    "* [[blog] ✏️ Machine Learning Explainability vs Interpretability: Two concepts that could help restore trust in AI](https://www.kdnuggets.com/2018/12/machine-learning-explainability-interpretability-ai.html)\n",
    "* [[video] 📺 How to Interpret Machine Learning Models with SHAP](https://www.youtube.com/watch?v=m60swo-th4E)\n",
    "* [[book] 📚 Machine Learning Explainability](https://www.kaggle.com/learn/machine-learning-explainability) — бесплатный курс от Kaggle\n",
    "* [[arxiv] 🎓 Explainable AI in Credit Risk Management (Misheva et al., 2021)](https://arxiv.org/pdf/2103.00949v1.pdf)\n",
    "* [[arxiv] 🎓 Predicting Driver Fatigue in Automated Driving with Explainability (Zhou et al., 2021)](https://arxiv.org/pdf/2103.02162v1.pdf)\n",
    "* [[arxiv] 🎓 Fooling LIME and SHAP: Adversarial Attacks on Post hoc Explanation Methods (Slack et al., 2020)](https://arxiv.org/pdf/1911.02508v2.pdf)\n",
    "* [[doc] 🛠️ Welcome to the SHAP documentation](https://shap.readthedocs.io/en/stable/index.html)\n",
    "* [[git] 🐾 SHAP](https://github.com/slundberg/shap)\n",
    "* [[arxiv] 🎓 What does LIME really see in images? (Garreau, Mardaoui, 2021)](https://arxiv.org/pdf/2102.06307v1.pdf)\n",
    "* [[git] 🐾 LIME](https://github.com/marcotcr/lime)"
   ]
  }
 ],
 "metadata": {},
 "nbformat": 4,
 "nbformat_minor": 0
}
