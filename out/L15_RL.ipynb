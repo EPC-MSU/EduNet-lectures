{
 "cells": [
  {
   "cell_type": "markdown",
   "metadata": {},
   "source": [
    " <font size=\"6\">Обучение с подкреплением</font>"
   ]
  },
  {
   "cell_type": "markdown",
   "metadata": {},
   "source": [
    "# Reinforcement learning (RL)"
   ]
  },
  {
   "cell_type": "markdown",
   "metadata": {},
   "source": [
    "В заключительной лекции нашего курса мы познакомится с ещё одной парадигмой машинного обучения, ***обучением с подкреплением***, которая в настоящее время крайне активно развивается и имеет свои приложения в различных предметных областях. Для удобства и непротиворечивости определения данной парадигмы, рассмотрим сперва ключевые особенности уже известных нам подходов. В предыдущих лекциях мы с вами познакомились с такими парадигмами машинного обучения как обучение с учителем (supervised learning) и обучение без учителя (unsupervised learning):\n",
    "\n",
    "**Обучение с учителем**:\n",
    "- Существует исчерпывающий набор данных (датасет), который эмпирически задает распределение признакового описания *объектов* в решаемой задаче\n",
    "- Для всех объектов в датасете известно соответствующее значение целевой переменной (может быть меткой номера класса, вещественным числом и тому подобным) \n",
    "- Нужно подобрать неизвестную функцию, которая ставит в соответствие признаковому описанию некоторого объекта число -- целевую переменную\n",
    "- Можно построить дифференцируемую функцию (так называемую функцию потерь, loss), которая характеризует качество подобранной функции, как аппроксиматора искомой зависимости между признаками и целевой переменной \n",
    "\n",
    "*Типичный пример* -- решение задачи классификации рукописных цифр в датасете MNIST при помощи CNN.\n",
    "\n",
    "**Обучение без учителя**:\n",
    "- Существует исчерпывающий набор данных (датасет), который эмпирически задает распределение признакового описания *объектов* в решаемой задаче\n",
    "- Для объектов в датасете ***неизвестно*** соответствующее значение целевой переменной\n",
    "- Нужно преобразовать имеющиеся признаковые описаний объектов в новое представление, в котором будут видны закономерности и скрытые связи между ними\n",
    "\n",
    "*Типичный пример* -- использование метод k-средних для решения задачи кластеризации."
   ]
  },
  {
   "cell_type": "markdown",
   "metadata": {},
   "source": [
    "Легко заметить, что ключевой особенностью этих ML-парадигм является работа с ***датасетом***, как с исчерпывающей и не изменяющейся сущностью. По-сути именно набор данных и определяет решаемую в этих подходах задачу."
   ]
  },
  {
   "cell_type": "markdown",
   "metadata": {},
   "source": [
    "### Обучение с подкреплением\n"
   ]
  },
  {
   "cell_type": "markdown",
   "metadata": {},
   "source": [
    "<center><img src=\"https://fls.avasiliev.xyz/repo/EduNet-content/dev-2.0/L15/out/su_rl_comp.jpg\" alt=\"Drawing\" width=\"650\">\n",
    "\n",
    "\n",
    "<center><em> Обучение с учителем vs обучение с подкреплением  <em><center>"
   ]
  },
  {
   "cell_type": "markdown",
   "metadata": {},
   "source": [
    "Легко придумать постановку задачи, в которой невозможно составить такой исчерпывающий датасет. Например, разрабатывая автопилот для автомобиля, мы вряд ли сможем составить обучающую выборку, в которой будут перечислены все возможные дорожные ситуации в условиях плотного городского трафика, для которых к тому же будет известна разметка \"ground true\" целевой переменной о предпочтительном решении автопилота в них.\n",
    "\n",
    "Невозможность собрать исчерпывающий датасет во многом может быть связана с тем, как в примере с автопилотом автомобиля, что ***результат работы алгоритма может существенно изменить состояние окружающей его*** **среды*****, которая и является источником данных***. При этом, не имея всей картины возможных действий и их последствий, мы можем предоставить нашему алгоритму возможность взаимодействовать с источником данных (***средой***) и постфактум оценить действия нашей алгоритма (***агента***) и, используя эту оценку, подстроить алгоритм так, чтобы он чаще совершала желательные действия и реже нежелательные. В литературе такую оценку называют вознаграждением (***reward***). В этом случае обучение строится таким образом, чтобы алгоритм (агент) стремился максимизировать получаемое вознаграждение."
   ]
  },
  {
   "cell_type": "markdown",
   "metadata": {},
   "source": [
    "Функция вознаграждения ***(reward) в этом случае является аналогом функции потерь*** из парадигмы обучения с учителем, но имеет ряд отличий:\n",
    "\n",
    "- ***может быть определена*** как для одного предсказания алгоритма (решения аганта), так и ***для серии предсказаний***\n",
    "  \n",
    "*Для вычисления функции потерь в парадигме обучения с учителем, нам было достаточно одного ответа модели для сравнения с целевой переменной. В свою очередь, reward может быть связан с конкретной последовательностью предсказаний алгоритма (решений). Например: получению очков за победу в шахматной партии соответствует выбор целой последовательности правильных ходов игрока; безаварийная поездка беспилотного автомобиля между двумя точками на карте раскладывается на огромное количество решений замедлении, ускорении и поворотах.*\n",
    "\n",
    "- ***не обязана быть дифференцируемой***\n",
    "\n",
    "*Весь используемый нами ранее аппарат обучения с учителем основывался на том, что при помощи градиентных методов мы подбирали такие веса модели машинного обучения, что дифференцируемая loss-функция имеет при них локальный минимум. Некоторые постановки задач, такие как рассмотренные ранее задачи построения автопилота или написание играющего в шахматы алгоритма, не допускают возможности составить дифференцируемую функцию награды. Убирая требование дифференцируемости reward-функции, мы лишаемся возможности применить известные нам алгоритмы оптимизации, такие как стохастический градиентный спуск и его улучшения.*"
   ]
  },
  {
   "cell_type": "markdown",
   "metadata": {},
   "source": [
    "Если у нас есть набор примеров с правильными ответами, то мы используем эту выборку для обучения нашей модели, а после обучения применяем её к неразмеченным данным. Именно этот подход мы использовали, когда обучали классификатор для MNIST, подавая на вход сети картинки с изображениями рукописных цифр и считая градиент для подстройки весов на основе разницы между известным лэйблом цифры и выходом нейросети."
   ]
  },
  {
   "cell_type": "markdown",
   "metadata": {},
   "source": [
    "Таким образом, мы можем резюмировать особенности парадигмы обучения с подкреплением.\n",
    "\n",
    "**Обучение с подкрплением**:\n",
    "- Существует произвольный источник данных -- среда.\n",
    "- Среда **не обязана** быть определена в виде исчерпывающего и стационарного датасета\n",
    "- Среда **может** изменяться в после каждого предсказания алгоритма (решения агента)\n",
    "- Существует некоторый алгоритм (агент), который строит свое предсказание на основе данных полученных из среды\n",
    "- Можно сформулировать количественную оценку характера взаимодействия агента со средой (reward, функцию награды)\n",
    "- Функция награды не **не обязана** быть дифференцируемой по весам модели машинного обучения (агента)\n",
    "- Функция награды **может** быть определена для последовательности решений агента\n",
    "\n",
    "*Типичный пример* -- оптимизация дискретных функционалов, задачи оптимального управления, RLHF."
   ]
  },
  {
   "cell_type": "markdown",
   "metadata": {},
   "source": [
    "Достаточную интуицию о парадигме обучения с подкреплением и об области решаемых с её помощью задач можно можно сформировать, если поставить знак **равенства между терминами \"обучение с подкреплением\" и \"обучение методом проб и ошибок\"**."
   ]
  },
  {
   "cell_type": "markdown",
   "metadata": {},
   "source": [
    "<center><img src=\"https://fls.avasiliev.xyz/repo/EduNet-content/dev-2.0/L15/out/rl_def.jpg\" alt=\"Drawing\" width=\"750\">\n",
    "\n",
    "<center><em> Обучение с подкреплением  <em><center>"
   ]
  },
  {
   "cell_type": "markdown",
   "metadata": {},
   "source": [
    "## Примеры задач, решаемых с использованием RL"
   ]
  },
  {
   "cell_type": "markdown",
   "metadata": {},
   "source": []
  },
  {
   "cell_type": "markdown",
   "metadata": {},
   "source": [
    "### Примеры работ с использованием обучения с подкреплением у выпускников курса"
   ]
  },
  {
   "cell_type": "markdown",
   "metadata": {},
   "source": [
    "В работе **Управление движением сферического робота с помощью нейронной сети** решалась задача подбора управляющего сигнала для робота , позволяющая ему ему двигаться по определенной заранее траектории на плоскости."
   ]
  },
  {
   "cell_type": "markdown",
   "metadata": {},
   "source": [
    "<center><img src =\"https://fls.avasiliev.xyz/repo/EduNet-content/dev-2.0/L15/out/nor_0.png\" width=\"500\"></center>\n",
    "\n",
    "<center>Сферический робот. <em>Source: <a href=\"https://github.com/EduNetArchive/Nor_RL_sphere_robot\">EduNet-archive: RL sphere robot</a></em></center>"
   ]
  },
  {
   "cell_type": "markdown",
   "metadata": {},
   "source": [
    "<center><img src =\"https://fls.avasiliev.xyz/repo/EduNet-content/dev-2.0/L15/out/nor_1.png\" width=\"800\"></center>\n",
    "\n",
    "<center>Сравнение целевых траекторий движения с полученными вследствие управления роботом при помощи RL-алгоритма.<br><em>Source: <a href=\"https://github.com/EduNetArchive/Nor_RL_sphere_robot\">EduNet-archive: RL sphere robot</a></em></center>"
   ]
  },
  {
   "cell_type": "markdown",
   "metadata": {},
   "source": [
    "Подробнее:\n",
    "\n",
    "[[video] 📺 Видеозапись выступления](https://www.youtube.com/watch?v=X_Wywj8lVHM)\n",
    "\n",
    "[[slides] 📊 Презентация](https://docs.google.com/presentation/d/1qBizkCjiv2UsAnfdvN7yyOXY7QD0Ni7i/edit#slide=id.p1)\n",
    "\n",
    "[[git] 🐾 Код](https://github.com/EduNetArchive/Nor_RL_sphere_robot)"
   ]
  },
  {
   "cell_type": "markdown",
   "metadata": {},
   "source": [
    "В работе **Самоюстирующиеся оптические системы на основе машинного обучения с подкреплением** был разработан управляющий алгоритм, позволяющий автоматизировать и ускорить процесс настройки сложной оптической экспериментальной установки."
   ]
  },
  {
   "cell_type": "markdown",
   "metadata": {},
   "source": [
    "<center><img src =\"https://fls.avasiliev.xyz/repo/EduNet-content/dev-2.0/L15/out/mareev_0.png\" width=\"500\"></center>\n",
    "\n",
    "<center>Схема оптической установки, генерирующая рентгеновскоие лучи <em>Source: <a href=\"https://github.com/EduNetArchive/Mareev_X_ray_AI\">EduNet-archive: NN for controlling z-axis</a></em></center>"
   ]
  },
  {
   "cell_type": "markdown",
   "metadata": {},
   "source": [
    "<center><img src =\"https://fls.avasiliev.xyz/repo/EduNet-content/dev-2.0/L15/out/mareev_1.png\" width=\"500\"></center>\n",
    "\n",
    "<center>Результаты работы алгоритма стабилицаии выходного сигнала на основе RL-алгоритма<em>Source: <a href=\"https://github.com/EduNetArchive/Mareev_X_ray_AI\">EduNet-archive: NN for controlling z-axis</a></em></center>"
   ]
  },
  {
   "cell_type": "markdown",
   "metadata": {},
   "source": [
    "Подробнее:\n",
    "\n",
    "[[video] 📺 Видеозапись выступления](https://www.youtube.com/watch?v=mYKIvb9Y2z8)\n",
    "\n",
    "[[slides] 📊 Презентация](https://docs.google.com/presentation/d/1gfFgQY_gm6eQ3yrL5p2b_CjbFE2xvzAL/edit#slide=id.p1)\n",
    "\n",
    "[[git] 🐾 Код](https://github.com/EduNetArchive/Mareev_X_ray_AI)"
   ]
  },
  {
   "cell_type": "markdown",
   "metadata": {},
   "source": [
    "## Устоявшася терминология"
   ]
  },
  {
   "cell_type": "markdown",
   "metadata": {},
   "source": [
    "<center><img src=\"https://fls.avasiliev.xyz/repo/EduNet-content/dev-2.0/L15/out/rl_msuai.png\" alt=\"Drawing\" width=\"650\">"
   ]
  },
  {
   "cell_type": "markdown",
   "metadata": {},
   "source": [
    "# Stateless environment in RL"
   ]
  },
  {
   "cell_type": "markdown",
   "metadata": {},
   "source": [
    "TODO: перенести из черновика иллюстрации и определение"
   ]
  },
  {
   "cell_type": "markdown",
   "metadata": {},
   "source": [
    "## Задача о многоруких бандитах"
   ]
  },
  {
   "cell_type": "markdown",
   "metadata": {},
   "source": [
    "<img src=\"https://www.altera-media.com/images/information/expert/multiarmed_bandit/header.jpg\" alt=\"Drawing\" width=\"500\"/>\n",
    "TODO: Заменить картинку выше на иллюстрацию с описанием задачи"
   ]
  },
  {
   "cell_type": "markdown",
   "metadata": {},
   "source": [
    "## Gymnasium framework"
   ]
  },
  {
   "cell_type": "markdown",
   "metadata": {},
   "source": [
    "\n",
    "Давайте разберемся, что такое Gymnasium, и какие возможности он предоставляет для обучения с подкреплением.\n",
    "\n",
    "**Gymnasium** — это набор инструментов для разработки и сравнения алгоритмов RL, позволяющий стандартизировать взаимодействие между разными алгоритмами RL и средами. Также он предоставляет набор стандартных сред, которые могут, в том числе, использоваться для бенчмаркинга.\n",
    "\n",
    "[Gymnasium projects](https://openai.com/projects/)\n",
    "\n",
    "[Документация](https://gymnasium.farama.org/)\n",
    "\n",
    "[Colab demonstration](https://colab.research.google.com/github/jeffheaton/t81_558_deep_learning/blob/master/t81_558_class_12_01_ai_gym.ipynb)"
   ]
  },
  {
   "cell_type": "markdown",
   "metadata": {},
   "source": [
    "Для начала рассмотрим устройство среды Gym в целом.\n",
    "__Среда__ — это некоторая модель мира, отвечающая за предоставление наблюдений и вознаграждений, в которой существует __агент__, Состояние среды будет изменяться в зависимости от действий агента.\n",
    "\n",
    "Рассмотрим для начала стандартную среду MountainCar, в которой стоит задача — довести машину до вершины горы."
   ]
  },
  {
   "cell_type": "markdown",
   "metadata": {},
   "source": [
    "<img src=\"https://edunet.kea.su/repo/EduNet-web_dependencies/dev-2.0/L15/mountain-car-v0.gif\">"
   ]
  },
  {
   "cell_type": "code",
   "execution_count": null,
   "metadata": {},
   "outputs": [],
   "source": [
    "!pip install -q gymnasium"
   ]
  },
  {
   "cell_type": "code",
   "execution_count": null,
   "metadata": {},
   "outputs": [],
   "source": [
    "import gymnasium as gym\n",
    "\n",
    "env = gym.make(\"MountainCar-v0\")"
   ]
  },
  {
   "cell_type": "markdown",
   "metadata": {},
   "source": [
    "В Gym среды представлены классом `gym.Env`, который является унифицированным интерфейсом среды со следующими атрибутами и методами:\n",
    "* `action_space`: описание действий, допустимых в данной среде;\n",
    "* `observation_space`: структура и допустимые значения наблюдений состояния среды;\n",
    "* `reset()`: сбрасывает среду и возвращает случайное исходное состояние;\n",
    "* `step(action)`: метод, продвигающий развитие окружающей среды на одно действие и возвращающий информацию о результате этого действия, а именно:\n",
    "    1. observation &mdash; следующее наблюдение;\n",
    "    2. reward &mdash; локальное вознаграждение;\n",
    "    3. done &mdash; флаг конца эпизода.\n",
    "\n",
    "Также в классе `gym.Env` есть несколько вспомогательных методов, например `render()`, позволяющий представить наблюдение в понятной человеку форме, но мы не будем их касаться в нашей лекции."
   ]
  },
  {
   "cell_type": "markdown",
   "metadata": {},
   "source": [
    "### Пространства действий и наблюдений"
   ]
  },
  {
   "cell_type": "markdown",
   "metadata": {},
   "source": [
    "Действия агента могут быть дискретными, непрерывными и комбинированными. Дискретные действия представлены фиксированным набором и взаимно исключают друг друга, например нажатие/отпускание клавиши. Непрерывным действиям соответствуют значения в некотором диапазоне, например, поворот руля от -720 до 720 градусов. В среде мы не ограничены каким-то одним действием и вполне допустимо одновременное нажатие нескольких кнопок и одновременный поворот руля. Аналогичным образом наблюдения могут быть дискретыми (лампочка включена/выключена) или непрерывными (тензоры, соответствующие цветным изображениям).\n",
    "\n",
    "Давайте посмотрим на то, как выглядят пространства действий и наблюдений в среде MountainCar:"
   ]
  },
  {
   "cell_type": "code",
   "execution_count": null,
   "metadata": {},
   "outputs": [],
   "source": [
    "from warnings import simplefilter\n",
    "simplefilter(\"ignore\", category=DeprecationWarning)\n",
    "\n",
    "\n",
    "# Action and observation space\n",
    "action_space = env.action_space\n",
    "obs_space = env.observation_space\n",
    "\n",
    "print(f\"The action space: {action_space}\")\n",
    "print(f\"The observation space: {obs_space}\")"
   ]
  },
  {
   "cell_type": "markdown",
   "metadata": {},
   "source": [
    "Мы видим, что пространство наблюдений и действий представлено некоторыми классами `Box` и `Discrete` соответственно. Что же это за классы? Для объединения нескольких пространств действий (например, непрерывных и дискретных) в одно действие, в Gym существует специальный класс контейнеров.\n",
    "\n",
    "* Класс `Discrete` представляет набор $n$ взаимоисключающих элементов. Например, `Discrete(n=4)` может быть использован для пространства действий с 4 направлениями движения ($\\leftarrow \\downarrow \\rightarrow \\uparrow$)\n",
    "* Класс `Box` представляет n-мерный тензор рациональных чисел в некотором диапазоне `[low, high]`. Например, нажатие педали газа от минимального значения 0 до максимального &mdash; 1, можно закодировать как `с`, аналогично наблюдение экрана игры, можно закодировать как `Box(low=0, high=255, shape=(100, 50, 3), dtype=np.float32)`\n",
    "\n",
    "Давайте посмотрим на диапазон допустимых значений пространства наблюдений в среде MountainCar:"
   ]
  },
  {
   "cell_type": "code",
   "execution_count": null,
   "metadata": {},
   "outputs": [],
   "source": [
    "print(\"Upper Bound for Env Observation\", env.observation_space.high)\n",
    "print(\"Lower Bound for Env Observation\", env.observation_space.low)"
   ]
  },
  {
   "cell_type": "markdown",
   "metadata": {},
   "source": [
    "Обе структуры данных происходят от класса `gym.Space`"
   ]
  },
  {
   "cell_type": "code",
   "execution_count": null,
   "metadata": {},
   "outputs": [],
   "source": [
    "print(type(env.action_space))\n",
    "print(type(env.observation_space))"
   ]
  },
  {
   "cell_type": "markdown",
   "metadata": {},
   "source": [
    "Также стоит упомянуть еще один дочерний класс  `gym.Space` &mdash; `Tuple`, позволяющий объединять несколько экземпляров класса `gym.Space` вместе. Благодаря этому классу мы можем создавать пространства действий и наблюдений любой сложности.\n",
    "\n",
    "В классе `gym.Space` реализованы методы, позволяющие взаимодействовать с пространствами действий и наблюдений:\n",
    "* `sample()`: возвращает случайный пример из пространства наблюдений\n",
    "* `contains(x)`: проверяет принадлежность аргумента к пространству наблюдений\n",
    "\n",
    "Давайте возьмем случайное действие, доступное нам в исходном состоянии среды MountainCar:"
   ]
  },
  {
   "cell_type": "code",
   "execution_count": null,
   "metadata": {},
   "outputs": [],
   "source": [
    "random_action = env.action_space.sample()  # random number from 0 to 2\n",
    "print(random_action)"
   ]
  },
  {
   "cell_type": "markdown",
   "metadata": {},
   "source": [
    "### Взаимодействие со средой"
   ]
  },
  {
   "cell_type": "markdown",
   "metadata": {},
   "source": [
    "Давайте попробуем совершить случайное действие, которое мы выбрали выше, для этого перезапустим среду, чтобы вернуться в изначальное состояние, и сделаем шаг с помощью метода `step()`:"
   ]
  },
  {
   "cell_type": "code",
   "execution_count": null,
   "metadata": {},
   "outputs": [],
   "source": [
    "# reset the environment and see the initial observation\n",
    "obs, info = env.reset()\n",
    "print(f\"The initial observation is {obs}\")\n",
    "\n",
    "# Take the action and get the new observation space\n",
    "new_obs, reward, done, truncated, info = env.step(random_action)\n",
    "print(f\"The new observation is {new_obs}\")"
   ]
  },
  {
   "cell_type": "markdown",
   "metadata": {},
   "source": [
    "### Создание своей среды"
   ]
  },
  {
   "cell_type": "markdown",
   "metadata": {},
   "source": [
    "Одна из простых задач обучения с подкреплением — задача о многоруких бандитах. В этой задаче состояние среды не меняется, а у агента есть фиксированный набор действий, которые он может выполнять.\n",
    "\n",
    "Эту задачу можно представить таким образом: вы игрок в казино с игровыми автоматами, в которых с различной вероятностью возможно выиграть приз различной величины. Ваша задача как агента — выиграть как можно больше денег, бросая монетки в автоматы на ваш выбор.\n",
    "\n",
    "Допустим, в казино находятся 4 автомата, лишь для одного из которых средний выигрыш будет > 1.\n",
    "\n",
    "Давайте напишем класс, который будет описывать эту ситуацию."
   ]
  },
  {
   "cell_type": "code",
   "execution_count": null,
   "metadata": {},
   "outputs": [],
   "source": [
    "import random\n",
    "from gym import Env, spaces\n",
    "import numpy as np\n",
    "\n",
    "np.random.seed(42)\n",
    "\n",
    "\n",
    "class MultiArmedBanditEnv(Env):\n",
    "    def __init__(self, n=4):\n",
    "        \"\"\"\n",
    "        n - number of arms in the bandit\n",
    "        \"\"\"\n",
    "        self.num_bandits = n\n",
    "        self.action_space = spaces.Discrete(self.num_bandits)\n",
    "        self.observation_space = spaces.Discrete(1)  # FIXME: just the reward of the last action\n",
    "        self.bandit_success_prob = np.array(\n",
    "            [0.5, 0.1, 0.9, 0.2]\n",
    "        )  # success probabilities\n",
    "        self.bandit_reward = np.array([2, 20, 1, 3])\n",
    "\n",
    "    def step(self, action):\n",
    "        done = True\n",
    "        result_prob = np.random.random()\n",
    "        if result_prob < self.bandit_success_prob[action]:\n",
    "            reward = self.bandit_reward[action]\n",
    "        else:\n",
    "            reward = 0\n",
    "        return reward, done"
   ]
  },
  {
   "cell_type": "markdown",
   "metadata": {},
   "source": [
    "## Поиск оптимальной стратегии решения"
   ]
  },
  {
   "cell_type": "markdown",
   "metadata": {},
   "source": [
    "### Жаданя стратегия"
   ]
  },
  {
   "cell_type": "markdown",
   "metadata": {},
   "source": [
    "В нашем казино для того, чтобы принять участие в игре, нужно заплатить 1 монету. После оплаты игрок может нажать на любой рычаг игрового автомата и получить выигрыш с соответствующей вероятностью.\n",
    "\n",
    "Как именно в таком случае мы можем определить, за какой рычаг нам стоит дергать, чтобы максимизировать выигрыш? Ведь мы как игрок не знаем вероятности выигрыша для разных рычагов.\n",
    "\n",
    "Попробуем сделать это жадным способом: на каждом шаге будем совершать действие, имеющее максимальную оценку и, в зависимости от результата, будем обновлять эту оценку.\n",
    "\n",
    "Давайте разберемся, что она представляет."
   ]
  },
  {
   "cell_type": "markdown",
   "metadata": {},
   "source": [
    "Оценить ценность того или иного действия можно по среднему выигрышу, к которому оно приведет. Пусть $R_n$ — награда, полученная за выполнение $n$-го действия. Тогда оценкой ценности действия будет $\\displaystyle Q_n=\\frac{R_1+R_2+...+R_n}{n}$. Величина $Q_n$ по сути представляет собой простое скользящее среднее (_simple moving average_), которое может вычисляться постепенно:\n",
    "\n",
    "$\\displaystyle Q_n = \\frac{1}{n}(R_n+(n-1)Q_{n-1}) = \\frac{1}{n}(R_n+nQ_{n-1}-Q_{n-1}) = Q_{n-1}+\\frac{1}{n}(R_n-Q_{n-1})$\n",
    "\n",
    "В целом, подобная схема обновления параметров в обучении с подкреплением, представимая как `новая оценка:=старая оценка + шаг[цель — старая оценка]`, встречается довольно часто и называется _incremental update rule_.\n",
    "\n",
    "Для получения оценок действий жадным способом нам понадобится функция `argmax`, которая будет выбирать действие с наибольшей оценкой, а в случае равенства максимальной оценки, будет выбирать случайное действие."
   ]
  },
  {
   "cell_type": "code",
   "execution_count": null,
   "metadata": {},
   "outputs": [],
   "source": [
    "from IPython.display import clear_output\n",
    "\n",
    "\n",
    "def argmax(x):\n",
    "    return np.random.choice(np.flatnonzero(x == x.max()))\n",
    "\n",
    "\n",
    "class GreedyAgent:\n",
    "    def __init__(self):\n",
    "        \"\"\"\n",
    "        Our agent initializes reward estimates as zeros.\n",
    "        This estimates will be updated incrementally after each\n",
    "        interaction with the environment.\n",
    "        \"\"\"\n",
    "        self.reward_estimates = np.zeros(4)\n",
    "        self.action_count = np.zeros(4)\n",
    "        self.cache = 1000  # initial amount of coins agent posesses\n",
    "\n",
    "    def get_action(self):\n",
    "        # Pay 1 coin for the action\n",
    "        self.cache -= 1\n",
    "\n",
    "        # Select greedy action\n",
    "        action = argmax(self.reward_estimates)\n",
    "\n",
    "        # Add a 1 to action selected in the action count\n",
    "        self.action_count[action] += 1\n",
    "\n",
    "        return action\n",
    "\n",
    "    def update_estimates(self, reward, action):\n",
    "        # Update amount of cache by reward from our previuos action\n",
    "        self.cache += reward\n",
    "\n",
    "        # Compute the difference between the received rewards vs the reward estimates\n",
    "        error = reward - self.reward_estimates[action]\n",
    "\n",
    "        # Update the reward estimate incementally\n",
    "        n = self.action_count[action]\n",
    "        self.reward_estimates[action] += (1 / n) * error\n",
    "\n",
    "clear_output()"
   ]
  },
  {
   "cell_type": "code",
   "execution_count": null,
   "metadata": {},
   "outputs": [],
   "source": [
    "import matplotlib.pyplot as plt\n",
    "\n",
    "env = MultiArmedBanditEnv()\n",
    "agent = GreedyAgent()\n",
    "\n",
    "mean_reward_greedy = []\n",
    "rewards = []\n",
    "\n",
    "while (agent.cache > 0) and (len(mean_reward_greedy) != 10000):\n",
    "    act = agent.get_action()\n",
    "    reward, done = env.step(act)\n",
    "    agent.update_estimates(reward, act)\n",
    "    rewards.append(reward)\n",
    "    mean_reward_greedy.append(sum(rewards) / (len(rewards)))\n",
    "\n",
    "print(f\"Action counts: {agent.action_count}\")\n",
    "print(f\"Reward estimates: {agent.reward_estimates}\")\n",
    "plt.plot(mean_reward_greedy)\n",
    "plt.show()"
   ]
  },
  {
   "cell_type": "markdown",
   "metadata": {},
   "source": [
    "### Exploration-exploitation tradeoff"
   ]
  },
  {
   "cell_type": "markdown",
   "metadata": {},
   "source": [
    "TODO: перенести из тикет-ветки"
   ]
  },
  {
   "cell_type": "markdown",
   "metadata": {},
   "source": [
    "### $\\epsilon$-жадная стратегия"
   ]
  },
  {
   "cell_type": "markdown",
   "metadata": {},
   "source": [
    "Видно, что жадная стратегия не позволяет нам добиться оптимального принятия решений, поскольку оптимальную стратегию легко пропустить, если в начале агенту не повезет.\n",
    "\n",
    "Вместо жадной стратегии будем использовать $\\varepsilon$-жадную стратегию, которую можно описать как \"оптимизм при неопределенности\". Суть $\\varepsilon$-жадной стратегии заключается в следующем: давайте с некоторой вероятностью $\\varepsilon$ совершать случайное действие, а с вероятностью $1-\\varepsilon$ вести себя жадно.\n",
    "\n",
    "$\\varepsilon$ — важный параметр алгоритма. Как правило, в начале используют большие значения $\\varepsilon$, тогда агент действует почти случайно и \"исследует мир\", а затем уменьшают, и действия агента становятся близкими к оптимальным.\n",
    "\n",
    "Выбор величины $\\varepsilon$ называется __exploration-exploitation trade-off__. Он может быть легко проиллюстрирован примером, когда вы не можете решить, пойти ли сегодня в любимый ресторан или попробовать сходить в новый?"
   ]
  },
  {
   "cell_type": "markdown",
   "metadata": {},
   "source": [
    "<img src=\"https://edunet.kea.su/repo/EduNet-content/dev-2.0/L15/out/exploration_vs_exploitation.png\" alt=\"Drawing\" width=\"500\"/>"
   ]
  },
  {
   "cell_type": "code",
   "execution_count": null,
   "metadata": {},
   "outputs": [],
   "source": [
    "class EpsilonGreedyAgent(GreedyAgent):\n",
    "    def __init__(self, epsilon):\n",
    "        GreedyAgent.__init__(self)\n",
    "        # Store the epsilon value\n",
    "        assert epsilon >= 0 and epsilon <= 1\n",
    "        self.epsilon = epsilon\n",
    "\n",
    "    def get_action(self):\n",
    "        # We need to redefine this function so that it takes an exploratory action with epsilon probability\n",
    "\n",
    "        # Pay 1 coin for the action\n",
    "        self.cache -= 1\n",
    "        # One hot encoding: 0 if exploratory, 1 otherwise\n",
    "        action_type = int(np.random.random() > self.epsilon)\n",
    "        # Generate both types of actions for every experiment\n",
    "        exploratory_action = np.random.randint(4)\n",
    "        greedy_action = argmax(self.reward_estimates)\n",
    "        # Use the one hot encoding to mask the actions for each experiment\n",
    "        action = greedy_action * action_type + exploratory_action * (1 - action_type)\n",
    "\n",
    "        self.action_count[action] += 1\n",
    "\n",
    "        return action"
   ]
  },
  {
   "cell_type": "code",
   "execution_count": null,
   "metadata": {},
   "outputs": [],
   "source": [
    "agent = EpsilonGreedyAgent(epsilon=0.25)\n",
    "\n",
    "mean_reward_e_greedy = []\n",
    "rewards = []\n",
    "\n",
    "while (agent.cache > 0) and (len(mean_reward_e_greedy) != 10000):\n",
    "    act = agent.get_action()\n",
    "    reward, done = env.step(act)\n",
    "    agent.update_estimates(reward, act)\n",
    "    rewards.append(reward)\n",
    "    mean_reward_e_greedy.append(sum(rewards) / len(rewards))\n",
    "    # Decrease epsilon with time until we reach 0.01 chanse to perform exploratory action\n",
    "    if agent.epsilon > 0.01:\n",
    "        agent.epsilon -= 0.0001\n",
    "\n",
    "print(f\"Action counts: {agent.action_count}\")\n",
    "print(f\"Reward estimates: {agent.reward_estimates}\")\n",
    "plt.plot(mean_reward_greedy)\n",
    "plt.plot(mean_reward_e_greedy)\n",
    "plt.show()"
   ]
  },
  {
   "cell_type": "markdown",
   "metadata": {},
   "source": [
    "### softmax-стратегия"
   ]
  },
  {
   "cell_type": "markdown",
   "metadata": {},
   "source": [
    "TODO: перенести из тикет-ветки"
   ]
  },
  {
   "cell_type": "markdown",
   "metadata": {},
   "source": [
    "# Cross-entropy method (CEM)"
   ]
  },
  {
   "cell_type": "markdown",
   "metadata": {},
   "source": [
    "TODO: перенести версию h1 из тикет-ветки"
   ]
  },
  {
   "cell_type": "markdown",
   "metadata": {},
   "source": [
    "<img src=\"https://www.researchgate.net/profile/Olivier-Sigaud/publication/220743370/figure/fig2/AS:667802356678667@1536227897809/Schematic-view-of-the-Cross-Entropy-method.png\" alt=\"Drawing\" width=\"500\"/>"
   ]
  },
  {
   "cell_type": "markdown",
   "metadata": {},
   "source": [
    "- Сэмплирование из случайного распределение\n",
    "- Отбор 5-10% \"лучших\" -- создание датасета для supervised обучения\n",
    "- Изменение стратегии, чтобы повысить вероятность генерации лучших (шаг обучения на созданном датасете)"
   ]
  },
  {
   "cell_type": "markdown",
   "metadata": {},
   "source": [
    "## Постановка задачи"
   ]
  },
  {
   "cell_type": "markdown",
   "metadata": {},
   "source": [
    "## Пример оптимизации недифференцируемого функционала"
   ]
  },
  {
   "cell_type": "markdown",
   "metadata": {},
   "source": [
    "# Марковский процесс принятия решений (Markov decision process, MDP)"
   ]
  },
  {
   "cell_type": "markdown",
   "metadata": {},
   "source": [
    "<center><img src=\"https://fls.avasiliev.xyz/repo/EduNet-content/dev-2.0/L15/out/mdp.png\" alt=\"Drawing\" width=\"650\">\n",
    "\n",
    "\n",
    "<center><em> Марковский процесс принятия решений  <em><center>"
   ]
  },
  {
   "cell_type": "markdown",
   "metadata": {},
   "source": [
    "## Markov property"
   ]
  },
  {
   "cell_type": "markdown",
   "metadata": {},
   "source": [
    "Итак, мы разобрались с самой простой ситуацией, многорукими бандитами, в которой среда постоянно находится в одном и том же состоянии. Однако в реальности, чаще всего состояние среды, из которой агент делает новый ход, будет изменяться, как, например, при игре в шахматы, агент должен учитывать то, что после его хода и хода оппонента позиция на доске изменится.\n",
    "\n",
    "Нам нужно определить некий процесс, в котором агент последовательно переходит из состояния в состояние в зависимости от своих действий, в некоторых состояниях получая награды"
   ]
  },
  {
   "cell_type": "markdown",
   "metadata": {},
   "source": [
    "Сделаем также важное предположение о природе нашего процесса: **он полностью описывается своим текущим состоянием**. Все, что произойдет в будущем, не зависит от информации из прошлого, кроме той, что мы уже наблюдаем в настоящем. Такой процесс называется __марковским__. Заметим, что описанный нами процесс в примере с многорукими бандитами также является марковским.\n",
    "\n",
    "Приведем другие классические примеры марковского процесса:\n",
    "\n",
    "1. Игральный кубик. Мы знаем, что на нем выпадет любая из граней с некоторой фиксированной вероятностью. На это никак не влияет то, что до этого на кубике выпало 6 шестерок подряд. Это может повлиять на нашу оценку вероятностей выпадения той или иной грани, но не на реальную вероятность.\n",
    "\n",
    "2. Шахматы. \"Текущая позиция на доске + чей ход\" однозначно описывает игру.\n",
    "\n",
    "3. А подходит ли покер?\n",
    "\n",
    "С одной стороны, да. Текущее количество денег у каждого из игроков однозначно описывает игру. Но это если мы не учитываем блеф и другие факторы, которые могут сработать / не сработать в зависимости от предыдущих ситуаций в игре. То есть, все зависит от того, как именно мы будем описывать покер и какие допущения накладываем.\n",
    "\n",
    "И получение хорошего представления S — тоже важная задача."
   ]
  },
  {
   "cell_type": "markdown",
   "metadata": {},
   "source": [
    "### Определение Markov Property"
   ]
  },
  {
   "cell_type": "markdown",
   "metadata": {},
   "source": [
    "\"*The future is independent of the past given the present*\"\n",
    "\n",
    "Состояние $S_{t}$ является Марковым тогда и только тогда, когда:\n",
    "$$ \\large\n",
    "p\\left(r_{t}, s_{t+1} \\mid s_{0}, a_{0}, r_{0}, \\ldots, s_{t}, a_{t}\\right)=p\\left(r_{t}, s_{t+1} \\mid s_{t}, a_{t}\\right)\n",
    "$$\n",
    "\n",
    "**Что происходит потом, зависит только от предыдущего состояния**\n",
    "- Вся актуальная информация берется из истории.\n",
    "- Как только состояние среды станет известно, историю можно выбросить.\n",
    "- То есть, состояние среды — достаточная статистика для будущего обучения.\n",
    "\n",
    "Вероятность перехода в новое состояние зависит только от текущего состояния и текущего действия."
   ]
  },
  {
   "cell_type": "markdown",
   "metadata": {},
   "source": [
    "Марковский процесс описывает **полностью наблюдаемые (fully observable)** среды. Можно описать их так:\n",
    "\n",
    "* Информации, которую получает агент в момент времени t, достаточно, чтобы принять оптимальное решение для момента времени t.\n",
    "* Текущее состояние среды содержит всю релевантную информацию из прошлого.\n",
    "* Текущее состояние — это достаточная статистика будущего $\\rightarrow$ не существует никакой дополнительной информации, которая могла бы улучшить наше описание будущего."
   ]
  },
  {
   "cell_type": "markdown",
   "metadata": {},
   "source": [
    "## Markov process"
   ]
  },
  {
   "cell_type": "markdown",
   "metadata": {},
   "source": [
    "Представим себе, что студент живет вот по такой схеме. Заметим, что влиять в такой схеме на свои решения он не может: все решается подкидыванием кубика."
   ]
  },
  {
   "cell_type": "markdown",
   "metadata": {},
   "source": [
    "<img src=\"https://edunet.kea.su/repo/EduNet-content/dev-2.0/L15/out/markov_process.png\" width=\"900\">"
   ]
  },
  {
   "cell_type": "markdown",
   "metadata": {},
   "source": [
    "### Определение"
   ]
  },
  {
   "cell_type": "markdown",
   "metadata": {},
   "source": [
    "Марковский процесс (цепь) — это кортеж $(S, P)$, где\n",
    "- $S$ — принимает дискретные (конечные) значения,\n",
    "- $P$ — матрица переходов (transition matrix):\n",
    "$$\\large\n",
    "P_{s s^{\\prime}}=\\operatorname{Pr}\\left(S_{t+1}=s^{\\prime} \\mid S_{t}=s\\right)\n",
    "$$\n",
    "\n",
    "Строго говоря, необходимо еще распределение начальных состояний (но мы предполагаем, что оно вырождено, т.е. мы знаем, где начинаем, с вероятностью 1).\n",
    "\n",
    "Марковский процесс — основа для RL. Мы будем постепенно усложнять эту модель, добавляя rewards и actions."
   ]
  },
  {
   "cell_type": "markdown",
   "metadata": {},
   "source": [
    "В определении нам встретилась матрица переходов, зададим ее тоже формально."
   ]
  },
  {
   "cell_type": "markdown",
   "metadata": {},
   "source": [
    "## Формальное определение"
   ]
  },
  {
   "cell_type": "markdown",
   "metadata": {},
   "source": [
    "MDP (MDRP) — это кортеж $(S, R, P, \\gamma)$, где:\n",
    "\n",
    "$S$ — дискретное состояние, принимает дискретные (конечные значения),\n",
    "\n",
    "$R$ — функция rewards, $R_s = \\mathbb{E}[R_{t+1}|S_t=s]$,\n",
    "\n",
    "$P$ — матрица переходов (transition matrix):\n",
    "\n",
    "$P_{ss^`}=Pr(S_{t+1}=s^`|S_t=s)$,\n",
    "\n",
    "$\\gamma$ — коэффициент дисконтирования (discount factor).\n",
    "\n",
    "Осталось добавить actions.\n"
   ]
  },
  {
   "cell_type": "markdown",
   "metadata": {},
   "source": [
    "### Марковский процесс принятия решений\n",
    "Markov decision process (MDP)"
   ]
  },
  {
   "cell_type": "markdown",
   "metadata": {},
   "source": [
    "До этого у нас получалось малость неадекватное представление процесса &mdash; студент не мог ни на что повлиять. На самом же деле студент может решать, куда ему надо: в аудиторию, домой спать или в бар. Однако наше действие не всегда определяет состояние, в которое мы перейдем."
   ]
  },
  {
   "cell_type": "markdown",
   "metadata": {},
   "source": [
    "Хочет наш студент пойти на лекцию, но по пути встречает товарища, и идут они в бар. Хочет он пойти спать, а по пути к выходу из университета встречает лектора с хорошей памятью и идет на лекцию.\n",
    "И т.д.\n",
    "\n",
    "Как это отразить на схеме так, чтобы это можно было прочитать? Введем промежуточные состояния, куда нас переводят действия студента. А уже из этих промежуточных состояний случайно будем переходить в состояния среды.\n",
    "\n"
   ]
  },
  {
   "cell_type": "markdown",
   "metadata": {},
   "source": [
    "<img src=\"https://edunet.kea.su/repo/EduNet-content/dev-2.0/L15/out/markov_decision_process_return_random.png\" alt=\"Drawing\" width=\"650\"/>"
   ]
  },
  {
   "cell_type": "markdown",
   "metadata": {},
   "source": [
    "### Формальное описание MDP"
   ]
  },
  {
   "cell_type": "markdown",
   "metadata": {},
   "source": [
    "MDP — это кортеж $(S, A, R, P, \\gamma)$, где:\n",
    "- $S$ — состояния (дискретное пространство),\n",
    "- $A$ — действия (дискретное пространство),\n",
    "- $R$ — функция rewards: $R_{s}^{a}=\\mathbb{E}\\left[R_{t+1} \\mid S_{t}=s, A_{t}=a\\right]$,\n",
    "- $P$ — матрица переходов (transition matrix): $P_{s s^{\\prime}}^{a}=\\operatorname{Pr}\\left(S_{t+1}=s^{\\prime} \\mid S_{t}=s, A_{t}=a\\right)$,\n",
    "- $\\gamma$ — discount factor."
   ]
  },
  {
   "cell_type": "markdown",
   "metadata": {},
   "source": [
    "### Пример"
   ]
  },
  {
   "cell_type": "markdown",
   "metadata": {},
   "source": [
    "<img src=\"https://edunet.kea.su/repo/EduNet-content/dev-2.0/L15/out/markov_decision_process_example.png\" alt=\"Drawing\" width=\"500\"/>"
   ]
  },
  {
   "cell_type": "markdown",
   "metadata": {},
   "source": [
    "- черные беззнаковые числа — вероятности переходов;\n",
    "- знаковые — это награды."
   ]
  },
  {
   "cell_type": "markdown",
   "metadata": {},
   "source": [
    "Воспользуемся [примером](https://github.com/yandexdataschool/Practical_RL):\n"
   ]
  },
  {
   "cell_type": "code",
   "execution_count": null,
   "metadata": {},
   "outputs": [],
   "source": [
    "from IPython.display import clear_output\n",
    "\n",
    "\n",
    "# After this setup we can import mdp package\n",
    "!wget -q https://raw.githubusercontent.com/yandexdataschool/Practical_RL/master/setup_colab.sh -O- | bash\n",
    "!wget -q https://raw.githubusercontent.com/yandexdataschool/Practical_RL/master/week02_value_based/mdp.py\n",
    "!touch .setup_complete\n",
    "\n",
    "clear_output()"
   ]
  },
  {
   "cell_type": "code",
   "execution_count": null,
   "metadata": {},
   "outputs": [],
   "source": [
    "from mdp import MDP\n",
    "\n",
    "transition_probs = {\n",
    "    \"s0\": {\"a0\": {\"s0\": 0.5, \"s2\": 0.5}, \"a1\": {\"s2\": 1}},\n",
    "    \"s1\": {\"a0\": {\"s0\": 0.7, \"s1\": 0.1, \"s2\": 0.2}, \"a1\": {\"s1\": 0.95, \"s2\": 0.05}},\n",
    "    \"s2\": {\"a0\": {\"s0\": 0.4, \"s2\": 0.6}, \"a1\": {\"s0\": 0.3, \"s1\": 0.3, \"s2\": 0.4}},\n",
    "}\n",
    "rewards = {\"s1\": {\"a0\": {\"s0\": +5}}, \"s2\": {\"a1\": {\"s0\": -1}}}\n",
    "\n",
    "mdp = MDP(transition_probs, rewards, initial_state=\"s0\")\n",
    "\n",
    "# We can now use MDP just as any other gym environment:\n",
    "print(\"initial state =\", mdp.reset())\n",
    "next_state, reward, done, info = mdp.step(\"a1\")\n",
    "print(\"next_state = %s, reward = %s, done = %s\" % (next_state, reward, done))"
   ]
  },
  {
   "cell_type": "code",
   "execution_count": null,
   "metadata": {},
   "outputs": [],
   "source": [
    "# MDP methods\n",
    "\n",
    "print(\"mdp.get_all_states =\", mdp.get_all_states())\n",
    "print(\"mdp.get_possible_actions('s1') = \", mdp.get_possible_actions(\"s1\"))\n",
    "print(\"mdp.get_next_states('s1', 'a0') = \", mdp.get_next_states(\"s1\", \"a0\"))\n",
    "\n",
    "# state, action, next_state\n",
    "print(\"mdp.get_reward('s1', 'a0', 's0') = \", mdp.get_reward(\"s1\", \"a0\", \"s0\"))\n",
    "\n",
    "# get_transition_prob(self, state, action, next_state)\n",
    "print(\n",
    "    \"mdp.get_transition_prob('s1', 'a0', 's0') = \",\n",
    "    mdp.get_transition_prob(\"s1\", \"a0\", \"s0\"),\n",
    ")"
   ]
  },
  {
   "cell_type": "code",
   "execution_count": null,
   "metadata": {},
   "outputs": [],
   "source": [
    "from IPython.display import display_jpeg\n",
    "import mdp as MDP\n",
    "import warnings\n",
    "\n",
    "warnings.filterwarnings(\"ignore\", category=DeprecationWarning)\n",
    "\n",
    "display_jpeg(MDP.plot_graph(mdp))"
   ]
  },
  {
   "cell_type": "markdown",
   "metadata": {},
   "source": [
    "### Среда и её состояние (state)"
   ]
  },
  {
   "cell_type": "markdown",
   "metadata": {},
   "source": [
    "### Действие (action)"
   ]
  },
  {
   "cell_type": "markdown",
   "metadata": {},
   "source": [
    "### Матрица перехода марковского процесса (transition probabilities)"
   ]
  },
  {
   "cell_type": "markdown",
   "metadata": {},
   "source": [
    "### Функция награды (reward)"
   ]
  },
  {
   "cell_type": "markdown",
   "metadata": {},
   "source": [
    "Наши состояния, очевидно, неравноценны. Давайте к каждому состоянию привяжем награду $R_s$.\n",
    "Она может быть как нулевой, так положительной либо отрицательной.\n",
    "\n",
    "Например, в марковском процессе принятия решений (MDP), описывающем игру в шахматы или GO, награда агента может быть положительной только при переходе в состояние \"партия выиграна\"\n",
    "\n",
    "На всех остальных ходах награда будет нулевой.\n",
    "\n",
    "Для перемещающегося робота награда на каждом шаге может быть отрицательной, так как на перемещение требуется энергия и т.п.\n",
    "\n",
    "Для покера наградой можно назначить изменение текущей суммы игрока после сыгранной раздачи.\n",
    "\n",
    "Схема для студента в этом случае модифицируется следующим образом. Заметьте, награды тут расставляются с точки зрения актора — студента:\n",
    "\n"
   ]
  },
  {
   "cell_type": "markdown",
   "metadata": {},
   "source": [
    "<img src=\"https://edunet.kea.su/repo/EduNet-content/dev-2.0/L15/out/markov_reward.png\" width=\"500\">"
   ]
  },
  {
   "cell_type": "markdown",
   "metadata": {},
   "source": [
    "#### Суммарная награда (Return)"
   ]
  },
  {
   "cell_type": "markdown",
   "metadata": {},
   "source": [
    "Для турнира по шахматам, где играется 10 партий, финальный reward будет складываться из reward за каждую партию в отдельности.\n",
    "\n",
    "Если у нас есть тест из 40 вопросов, то опять же, нам не важно, как именно мы получили 30 баллов, главное — мы их получили.\n",
    "\n",
    "То есть, в таких случаях мы можем считать Return следующим образом:\n",
    "\n",
    "$$Return = \\sum_i {R_i}$$\n",
    "\n",
    "\n",
    "А теперь представим себе, что мы можем работать 2 года бесплатно и получить разом 5 миллионов рублей. А можем работать 2 года и каждый год получать 70 тысяч.\n",
    "\n",
    "\n",
    "Или мы можем 6 лет учиться, получая сторонними активностями 20 тысяч в месяц, а затем сразу начать получать 150 тысяч в месяц, а затем и больше. А можем сразу пойти на работу и начать зарабатывать 50 тысяч в месяц, постепенно дойдя до 100.\n",
    "\n",
    "Что лучше: опубликовать две статьи в журнале с импакт фактором 5 в этом году или 1, но через 2 года и в журнале с импакт-фактором 20?\n",
    "\n",
    "Что выгоднее?\n",
    "\n",
    "Очевидно, в таких ситуациях лучше учитывать не только Reward, но и то, когда он получен."
   ]
  },
  {
   "cell_type": "markdown",
   "metadata": {},
   "source": [
    "### $\\gamma$-коэффициент дисконтирования"
   ]
  },
  {
   "cell_type": "markdown",
   "metadata": {},
   "source": [
    "Поэтому при оценке кумулятивной награды на шаге $t$ $(G_t)$ используется коэффициент дисконтирования $\\gamma$, который показывает, насколько ценными являются будущие награды на текущий момент (см. [Markov Decision Processes (David Silver Lectures)](https://www.davidsilver.uk/wp-content/uploads/2020/03/MDP.pdf)):\n",
    "\n",
    "$$\\large G_t = R_{t+1} + \\gamma R_{t+2} + ... =\\sum^{\\infty}_{k=0} \\gamma ^ kR_{t+k+1},\n",
    "$$\n",
    "\n",
    "где:\n",
    "- $R_{t+1}, R_{t+1}, \\dots$ — вознаграждения по рёбрам переходов,\n",
    "- дисконтирование $\\gamma \\in[0,1]$ — это текущая стоимость будущих вознаграждений,\n",
    "- $\\gamma^{k} R$ — ценность получения награды $R$ после $k+1$ шагов.\n",
    "\n",
    "При этом:\n",
    "- немедленное вознаграждение ценится выше отложенного вознаграждения,\n",
    "- $\\gamma$ близко к 0 приводит к «близорукости»,\n",
    "- $\\gamma$ близко к 1 приводит к «дальновидной» оценке."
   ]
  },
  {
   "cell_type": "markdown",
   "metadata": {},
   "source": [
    "\n",
    "Какое значение $\\gamma$ выбрать?\n",
    "\n",
    "\n",
    "**Можно ли его выбрать равным 1?**\n",
    "\n",
    "Да, мы уже это делали ранее.\n",
    "\n",
    "**Можно ли его выбрать равным 0?**\n",
    "\n",
    " Тоже да. В этом случае у нас получится \"жадный\" алгоритм: мы всегда выбираем решение, которое дает максимальную награду сейчас, нас не волнуют будущие награды.\n",
    "\n",
    "**Может $\\gamma = 0$ привести к проблемам?**\n",
    "\n",
    "Да, например:\n",
    "\n",
    "* Вариант 1: Получить сегодня 1000 рублей.\n",
    "\n",
    "* Вариант 2: Получить завтра 100000 рублей\n",
    "\n",
    "Обычно, второй вариант более предпочтителен. Но жадный алгоритм его не увидит.\n",
    "\n",
    "\n",
    "\n"
   ]
  },
  {
   "cell_type": "markdown",
   "metadata": {},
   "source": [
    "**Может $\\gamma = 1$ привести к проблемам?**\n",
    "\n",
    "Представим себе генератор шуток про медведя. Большая часть людей знает эту шутку, поэтому было бы хорошо посередине вставлять дополнительные детали &mdash; \"для ценителей\". Но заканчиваться шутка должна одинаково.\n",
    "\n",
    "Мы решили написать программу, которая генерирует шутки про медведя. Шутка должна начинаться с \"Шел медведь по лесу\" и заканчиваться \"Сел в машину и сгорел\". Как бы это описать?"
   ]
  },
  {
   "cell_type": "markdown",
   "metadata": {},
   "source": [
    "Есть состояния, а модель сама решает, куда ей переходить. Вероятностей мы тут не добавили. Что модель решила, то и будет.\n",
    "\n",
    "Сразу видим и проблему, которую мы получаем при $\\gamma = 1$, пусть и в утрированном виде. Ничто не запрещает нашей модели бесконечно добавлять детали к анекдоту, тем самым увеличивая $G_t$.\n",
    "Работать с такой моделью невозможно.\n",
    "\n",
    "Если в какой-то момент обучения наша модель стала походить на эту, то ничего осмысленного мы и далее не получим. А вот если введением дискаунта дать модели понять, что слушатели анекдота все же хотят вскоре услышать его конец, то проблема уйдет."
   ]
  },
  {
   "cell_type": "markdown",
   "metadata": {},
   "source": [
    "**Обычно $0 \\le \\gamma \\le 1$**\n",
    "\n",
    "Обычно $\\gamma$ ставят равной чему-то между двумя этими крайностями.\n",
    "\n",
    "Близость $\\gamma$ к 0 отражает нашу \"нетерпеливость\" — насколько важно получить награду именно сейчас.\n",
    "\n",
    "Наличие такого $\\gamma$ позволяет нам не делать различия между моделями с ограниченным числом шагов и неограниченным: теперь в любом случае return будет конечным числом, т.к. выражение для return ограничено сверху суммой бесконечно убывающей геометрической прогрессии.\n",
    "\n",
    "Пусть $R_{max} = max R_i$ — максимальная награда, которую мы в принципе можем получить в каком-то состоянии.\n",
    "\n",
    "$\\displaystyle G_t = R_{t+1} + \\gamma \\cdot R_{t+2} + \\gamma^2 \\cdot R_{t+3} + ... \\le R_{max} + \\gamma \\cdot R_{max} + \\gamma^2 \\cdot R_{max} + ... = R_{max} (1 + \\gamma + \\gamma^2 + ... ) \\le R_{max} \\cdot \\frac{1}{1-\\gamma} = const $"
   ]
  },
  {
   "cell_type": "markdown",
   "metadata": {},
   "source": [
    "**Discounting makes sums finite**\n",
    "\n",
    "<img src=\"https://edunet.kea.su/repo/EduNet-content/dev-2.0/L15/out/discounting_makes_sums_finite.png\" alt=\"Drawing\" width=\"800\"/>"
   ]
  },
  {
   "cell_type": "markdown",
   "metadata": {},
   "source": [
    "\\begin{equation}\n",
    "G_{0}=\\sum_{k=0}^{\\infty} \\gamma^{k}=\\frac{1}{1-\\gamma}\n",
    "\\end{equation}"
   ]
  },
  {
   "cell_type": "markdown",
   "metadata": {},
   "source": [
    "Важно понимать, что выбор $\\gamma$ меняет задачу, которую мы решаем, и, соответственно, меняет решение."
   ]
  },
  {
   "cell_type": "markdown",
   "metadata": {},
   "source": [
    "## Проблема поиска оптимальной политики"
   ]
  },
  {
   "cell_type": "markdown",
   "metadata": {},
   "source": [
    "Нужно найти последовательность переходов, которой будет соответствовать максимальная награда ($G_t$)."
   ]
  },
  {
   "cell_type": "markdown",
   "metadata": {},
   "source": [
    "#### Политика (policy)"
   ]
  },
  {
   "cell_type": "markdown",
   "metadata": {},
   "source": [
    "Политика (policy) $\\pi$ — это функция, которая для текущего состояния $s$ дает распределение вероятностей на множестве действий $A$.\n",
    "$$ \\large\n",
    "\\pi(a|s)=\\mathbb{P}\\left[A_{t}=a \\mid S_{t}=s\\right]\n",
    "$$\n",
    "- Политика полностью определяет поведение агента\n",
    "- Политики MDP зависят от текущего состояния среды (а не от прошлых состояний)\n",
    "- т. е. политики являются стационарными (не зависящими от времени),\n",
    "$$ \\large\n",
    "A_{t} \\sim \\pi\\left(\\cdot \\mid S_{t}\\right), \\forall t>0\n",
    "$$\n",
    "\n",
    "Для нашего примера со студентом:\n"
   ]
  },
  {
   "cell_type": "markdown",
   "metadata": {},
   "source": [
    "<img src=\"https://edunet.kea.su/repo/EduNet-content/dev-2.0/L15/out/markov_policy_example.png\" alt=\"Drawing\" width=\"700\"/>"
   ]
  },
  {
   "cell_type": "markdown",
   "metadata": {},
   "source": [
    "#### Action-value function $q_{\\pi}(s, a)$ (Q-функция)"
   ]
  },
  {
   "cell_type": "markdown",
   "metadata": {},
   "source": [
    "* $q_\\pi(s,\\color{red}a)$ — аналогично функции ценности состояния, но при условии, что в состоянии $s (s_0 = s)$ было выбрано действие $a$ (мы фиксируем действие). То есть в $q$ мы, в отличие от $v$, фиксируем наше первое действие (не обязательно соответствующее политике), а в $v$ мы первое действие выбираем согласно политике $\\pi$.\n",
    "\n",
    "Матожидание здесь берется по нашей политике, т.к. она стохастична."
   ]
  },
  {
   "cell_type": "markdown",
   "metadata": {},
   "source": [
    "#### State-value function $v_{\\pi}(s)$ (V-функция)"
   ]
  },
  {
   "cell_type": "markdown",
   "metadata": {},
   "source": [
    "* $v_\\pi(s)$ — измеряет ценность каждого состояния, а именно какое ожидаемое вознаграждение можно получить, если начать двигаться из состояния $s$ в течение всего оставшегося времени, придерживаясь политики $\\pi$.\n",
    "\n",
    "Так, например, агент может следовать политике, заключающейся в переходе между состояниями с высокой ценностью. Однако функция ценности состояния удалена от принятия решений агентом, поскольку агент зачастую не может сам выбрать следующее состояние, в которое перейдет, поскольку на него будет оказываться влияние случайности (например, броски кубиков) или внешних сил (ход оппонента). Поэтому при выборе оптимальной политики рассматривают ценность не состояний, а действий."
   ]
  },
  {
   "cell_type": "markdown",
   "metadata": {},
   "source": [
    "<img src=\"https://images.chesscomfiles.com/uploads/v1/images_users/tiny_mce/dockers88/phpt0yU5I.png\" alt=\"Drawing\" width=\"700\"/>\n"
   ]
  },
  {
   "cell_type": "markdown",
   "metadata": {},
   "source": [
    "#### Уравнение Беллмана"
   ]
  },
  {
   "cell_type": "markdown",
   "metadata": {},
   "source": [
    "[Беллман](https://en.wikipedia.org/wiki/Richard_E._Bellman) показал, что задача динамической оптимизации в дискретном времени может быть сформулирована в рекурсивной пошаговой форме, путем записи связи между **функцией ценности в текущий период и функцией ценности в следующем периоде**."
   ]
  },
  {
   "cell_type": "markdown",
   "metadata": {},
   "source": [
    "$$\\large\n",
    "\\begin{equation}\n",
    "\\begin{aligned}\n",
    "v_{\\pi}(s) &=\\mathbb{E}_{\\pi}\\left[G_{t} \\mid S_{t}=s\\right] \\\\\n",
    "&=\\mathbb{E}_{\\pi}\\left[R_{t+1}+\\gamma R_{t+2}+\\gamma^{2} R_{t+3}+\\ldots \\mid S_{t}=s\\right] \\\\\n",
    "&=\\mathbb{E}_{\\pi}\\left[R_{t+1}+\\gamma\\left(R_{t+2}+\\gamma R_{t+3}+\\ldots\\right) \\mid S_{t}=s\\right] \\\\\n",
    "&=\\mathbb{E}_{\\pi}\\left[R_{t+1}+\\gamma G_{t+1} \\mid S_{t}=s\\right]\\\\\n",
    "&=\\color{red}{R_{t+1}+\\gamma\\mathbb{E}_{\\pi}}\\left[\\color{red}{G_{t+1}\\mid S_{t}=s}\\right]\\\\\n",
    "\\end{aligned}\n",
    "\\end{equation}$$\n",
    "\n",
    "Обратите внимание на то, что немедленное вознаграждение выносится из под знака математического ожидания, поскольку это константа.\n",
    "\n",
    "Функцию ценности состояния можно представить в виде [резервной диаграммы](https://openreview.net/pdf/45363cfb2c1b1123fc49b52916f8f3a451e09bbd.pdf) (_backup diagram_):"
   ]
  },
  {
   "cell_type": "markdown",
   "metadata": {},
   "source": [
    "<center><img src=\"https://edunet.kea.su/repo/EduNet-web_dependencies/dev-2.0/L15/state_value_diagr.png\" alt=\"Drawing\" width=\"800\"/></center>"
   ]
  },
  {
   "cell_type": "markdown",
   "metadata": {},
   "source": [
    "$ \\mathbf {s} $ — **начальное состояние**, из него исходят стрелки, отображающие **вероятность** совершить то или иное **действие** в соответствии с **политикой** $ \\mathbf{\\pi} $, **действия** $\\mathbf{a}$ обозначаются переходом из кружка в чёрную точку, черные точки обозначают $\\mathbf{q} $.\n",
    "\n",
    "После того, как действие было принято, в _стохастической_ среде агент может оказаться в различных состояниях, определяемых **вероятностями перехода** $\\mathbf{p}$,\n",
    "\n",
    "В _детерминированной_ среде, агент оказывается в определенном состоянии, соответствующем определенному действию. Награда $\\mathbf{r}$ получается после совершения действия $\\mathbf{a}$.\n",
    "\n"
   ]
  },
  {
   "cell_type": "markdown",
   "metadata": {},
   "source": [
    "Аналогичным образом можно разложить функцию **ценности действия**:\n",
    "$$\n",
    "\\large q_{\\pi}(s, a)=R_{t+1}+\\gamma\\mathbb{E}_{\\pi}\\left[G_{t+1} \\mid S_{t}=s, A_{t}=a\\right]\\\\\n",
    "$$\n",
    "\n",
    "**Q-функция** убирает стохастичность политики на первом шаге. С помощью нее мы фиксируем наш первый шаг из этого состояния.\n",
    "\n",
    "Мы можем использовать динамику среды для того, чтобы рассчитать матожидание $E_{\\pi}$, суммируя вероятности всех следующих состояний $P_{ss'}^{a}$ и соответствующих наград $R_{ss'}^{a}$:\n",
    "\n",
    "$$\n",
    "\\large v_{\\pi}(s) = \\sum_a\\pi(a|s)\\sum_{s'}P_{ss'}^{a}(R_{ss'}^{a}+\\gamma\\mathbb{E}_{\\pi}\\left[G_{t+1}\\mid S_{t+1}=s'\\right]) = \\sum_a\\pi(a|s)\\sum_{s'}P_{ss'}^{a}(R_{ss'}^{a}+\\gamma v_{\\pi}(s'))\n",
    "$$\n",
    "\n",
    "Аналогично для функции ценности действия:\n",
    "\n",
    "$$\n",
    "\\large q_{\\pi}(s) = \\sum_{s'}P_{ss'}^{a}(R_{ss'}^{a}+\\gamma\\sum_{a'}\\pi(a'|s') q_{\\pi}(s'))\n",
    "$$\n",
    "\n",
    "Получившееся выражение и есть _уравнение Беллмана_ &mdash; это по сути математическое выражение принципа динамического программирования. Такие уравнения используются не только в RL, но и во множестве различных задач.\n",
    "\n",
    "Уравнение Беллмана также можно представить с помощью резервной диаграммы:"
   ]
  },
  {
   "cell_type": "markdown",
   "metadata": {},
   "source": [
    "**Принцип оптимальности Беллмана**\n",
    "\n",
    "Оптимальная политика обладает тем свойством, что какими бы ни были начальное состояние и начальное решение, остальные решения должны представлять собой оптимальную политику в отношении состояния, полученного в результате первого решения.\n",
    " (Bellman, 1957, Chap. III.3.)"
   ]
  },
  {
   "cell_type": "markdown",
   "metadata": {},
   "source": [
    "<img src=\"https://edunet.kea.su/repo/EduNet-web_dependencies/dev-2.0/L15/value_diagr.png\" alt=\"Drawing\" width=\"800\"/>"
   ]
  },
  {
   "cell_type": "markdown",
   "metadata": {},
   "source": [
    "1. Ценность (Value) $v$ в состоянии $s$ — это $v_{\\pi}(s)$\n",
    "\n",
    "2. Из состояния $s$ агент может сделать 3 действия: $(a_1, a_2, a_3)$\n",
    "\n",
    "3. Ценность действия (Action Value) — это $v_{\\pi}(s,a)$, где $a = \\{a_1, a_2, a_3\\}$\n",
    "\n",
    "4. Агент предпринял действие $a3$. А так он может перейти в состояния $s’_1$, $s’_2$ или $s’_3$ с вероятностью перехода p1, p2 или p3 соответственно\n",
    "\n",
    "5. Полученная награда — $r_1$, $r_2$ или $r_3$ в зависимости от текущего состояния"
   ]
  },
  {
   "cell_type": "markdown",
   "metadata": {},
   "source": [
    "Вместо того, чтобы рассчитывать **ценность состояния** $ \\mathbf{s}$ **на основе ценности всех состояний** $ \\mathbf{s'}$, в которые мы можем перейти, мы можем рассчитать ценность состояния, учитывая ценность всех действий $\\mathbf{a}$, которые мы можем совершить, находясь в состоянии $\\mathbf{s}$. Получаем таким образом выражение одной функции через другую:\n",
    "\n",
    "$$\\large v_{\\pi}(s) = \\sum_a\\pi(a|s)q_{\\pi}(s,a)$$\n",
    "\n",
    "Аналогично, **ценность действия** может быть оценена **на основе ценности состояний**, в которых можно оказаться при выполнении этого действия:\n",
    "\n",
    "$$\\large q_{\\pi}(s,a) = \\sum_{s'}P_{ss'}^{a}(R_{ss'}^{a}+\\gamma v_{\\pi}(s'))\n",
    "$$\n",
    "\n",
    "Итак, как с помощью уравнения Беллмана можно находить оптимальное значение функции ценности состояния? По сути, мы будем пересчитывать уравнение Беллмана с максимумами вместо матожиданий:\n",
    "\n",
    "$$\n",
    "\\large v_*(s) = \\max_a\\sum_{s'}P_{ss'}^{a}(R_{ss'}^{a}+\\gamma v_*(s')) = \\max_{a(s)}q_*(s,a)\n",
    "$$"
   ]
  },
  {
   "cell_type": "markdown",
   "metadata": {},
   "source": [
    "Фактически $\\mathbf{q_*(s,a)}$ будет задавать **оптимальную политику**:\n",
    "\n",
    "$$\\large \\pi^*(s) = argmax_aq_*(s,a)$$"
   ]
  },
  {
   "cell_type": "markdown",
   "metadata": {},
   "source": [
    "## Поиск оптимальной политики Беллмана для MDP (решение \"MDP\")"
   ]
  },
  {
   "cell_type": "markdown",
   "metadata": {},
   "source": [
    "### model-based и model-free алгоритмы"
   ]
  },
  {
   "cell_type": "markdown",
   "metadata": {},
   "source": [
    "### Методы динамического программирования"
   ]
  },
  {
   "cell_type": "markdown",
   "metadata": {},
   "source": [
    "#### Policy iteration"
   ]
  },
  {
   "cell_type": "markdown",
   "metadata": {},
   "source": [
    "Оказывается, весь процесс поиска можно разбить на две части\n",
    "\n",
    "**Policy evaluation**\n",
    "\n",
    "У нас есть некая политика $\\pi$. Если мы много раз посчитаем $v_\\pi$ по формуле, то в итоге мы сойдемся к хорошей оценке $v_\\pi(s)$ каждого состояния.\n",
    "\n",
    "**Policy improvement**\n",
    "\n",
    "Теперь мы знаем правило $v$ для нашей политики. Как нам его улучшить?\n",
    "Будем в каждом состоянии менять нашу политику таким образом, чтобы мы шли в состояние с лучшим $q$. Мы могли бы улучшить это, действуя жадно $\\mathrm{q}(\\mathrm{s}, \\mathrm{a}) !$\n",
    "$$\n",
    "\\large\n",
    "\\pi^{\\prime}(s) \\leftarrow \\underset{a}{\\arg \\max } \\overbrace{\\sum_{r, s^{\\prime}} P_{ss'}^a\\left[r+\\gamma v_{\\pi}\\left(s^{\\prime}\\right)\\right]}^{q_{\\pi}(s, a)}\n",
    "$$\n",
    "\n",
    "Эта процедура гарантированно приведет к улучшению политики!\n",
    "\n",
    "$$\n",
    "\\large\n",
    "\\begin{equation}\n",
    "\\begin{aligned}\n",
    "&\\text { если } \\quad q_{\\pi}\\left(s, \\pi^{\\prime}(s)\\right) \\geq v_{\\pi}(s) \\quad \\text { для всех состояний, } \\\\\n",
    "&\\text { тогда } \\quad v_{\\pi^{\\prime}}(s) \\geq v_{\\pi}(s) \\text { означает, } \\\\\n",
    "&\\text { что } \\qquad \\pi^{\\prime} \\geq \\pi\n",
    "\\end{aligned}\n",
    "\\end{equation}\n",
    "$$\n",
    "\n"
   ]
  },
  {
   "cell_type": "markdown",
   "metadata": {},
   "source": [
    "<img src=\"https://edunet.kea.su/repo/EduNet-web_dependencies/dev-2.0/L15/policy_iteration.png\" alt=\"Drawing\" width=\"500\"/>"
   ]
  },
  {
   "cell_type": "markdown",
   "metadata": {},
   "source": [
    "Метод действительно сходится:"
   ]
  },
  {
   "cell_type": "markdown",
   "metadata": {},
   "source": [
    "<img src=\"https://edunet.kea.su/repo/EduNet-content/dev-2.0/L15/out/convergence_of_method.png\" alt=\"Drawing\" width=\"400\"/>\n",
    "\n"
   ]
  },
  {
   "cell_type": "markdown",
   "metadata": {},
   "source": [
    "<img src=\"https://edunet.kea.su/repo/EduNet-content/dev-2.0/L15/out/random_and_greedy_policy.png\" alt=\"Drawing\" width=\"550\"/>"
   ]
  },
  {
   "cell_type": "markdown",
   "metadata": {},
   "source": [
    "<img src=\"https://edunet.kea.su/repo/EduNet-content/dev-2.0/L15/out/random_and_greedy_policy_find_optimal_policy.png\" alt=\"Drawing\" width=\"550\"/>"
   ]
  },
  {
   "cell_type": "markdown",
   "metadata": {},
   "source": [
    "#### Value Iteration"
   ]
  },
  {
   "cell_type": "markdown",
   "metadata": {},
   "source": [
    "Фактически, этап policy evaluation от policy iteration  может быть сокращен различными способами без потери гарантий сходимости policy iteration.\n",
    "\n",
    "Один важный особый случай &mdash; это когда **оценка политики останавливается** сразу **после одного цикла** (одно обновление каждого состояния). Этот алгоритм **называется value iteration**. Его можно записать как простую операцию обновления, которая сочетает в себе этапы улучшения политики и усеченной policy evaluation (один шаг).\n",
    "\n",
    "Это позволяет, в частности, вообще не записывать политику в явном виде, т.к. она однозначно определяется Q-функцией."
   ]
  },
  {
   "cell_type": "markdown",
   "metadata": {},
   "source": [
    "Value iteration (VI) vs. Policy iteration (PI)\n",
    "\n",
    "- VI быстрее за одну итерацию $-\\mathrm{O}\\left(|\\mathrm{A} \\| \\mathrm{S}|^{2}\\right)$\n",
    "- VI требуется много итераций\n",
    "-PI медленнее за одну итерацию $-\\mathrm{O}\\left(|\\mathrm{A} \\| \\mathrm{S}|^{2}+|\\mathrm{S}|^{3}\\right)$\n",
    "- PI требуется мало итераций\n",
    "\n",
    "Проведем эксперимент с каким-то количеством шагов для нахождения лучшей политики."
   ]
  },
  {
   "cell_type": "markdown",
   "metadata": {},
   "source": [
    "**Алгоритм**\n",
    "\n",
    "1. Инициализация\n",
    "\n",
    "- Создаем массив V с количеством элементов, равным количеству состояний.\n",
    "\n",
    "- Заполняем его нулями\n",
    "\n",
    "\n",
    "2. Оценка политики (Policy evaluation)\n",
    "\n",
    "- Для всех состояний считаем Q(s,a)\n",
    "\n",
    "- Обновляем массив V[s] $\\rightarrow$ max(Q(s,a))\n",
    "\n",
    "\n",
    "*В отличие от Policy iteration, сама политика в памяти не хранится, она генерируется при помощи Q-функции.\n",
    "\n",
    "\n",
    "3. Обновление политики (Policy improvement)\n",
    "\n",
    "- Для каждого состояния считаем Q(s,a) для всех a\n",
    "\n",
    "- Выбираем a, для которого Q(s,a) максимально\n",
    "\n",
    "- Если политика изменилась, переходим к шагу 2, иначе останавливаемся"
   ]
  },
  {
   "cell_type": "markdown",
   "metadata": {},
   "source": [
    "Теперь давайте построим что-нибудь, чтобы решить эту MDP.\n",
    "\n",
    "Запишем решения для этого MDP. Самый простой алгоритм это  __V__alue __I__teration\n",
    "\n",
    "Псевдо код для VI:\n",
    "\n",
    "---\n",
    "\n",
    "`1.` Initialize $V^{(0)}(s)=0$, for all $s$\n",
    "\n",
    "`2.` For $i=0, 1, 2, \\dots$\n",
    "\n",
    "`3.` $ \\quad V_{(i+1)}(s) = \\max_a \\sum_{s'} P_{ss'}^a \\cdot [ R_{ss'}^a + \\gamma V_{i}(s')]$, for all $s$\n",
    "\n",
    "---\n",
    "\n",
    "$R_{ss'}^a$ — награда, соответствующая выбору действия a в s,\n",
    "\n",
    "$s$ — исходное состояние,\n",
    "\n",
    "$s'$ — новое состояние."
   ]
  },
  {
   "cell_type": "markdown",
   "metadata": {},
   "source": [
    "Во-первых, давайте напишем функцию для вычисления функции значения состояния-действия. $Q^{\\pi}$, которая определяется следующим образом:\n",
    "\n",
    "$$\\large Q_i(s, a) = \\sum_{s'} P_{ss'}^a \\cdot [ R_{ss'}^a + \\gamma V_{i}(s')]$$\n",
    "\n",
    "$s'$ — зависит от вероятности перехода.\n"
   ]
  },
  {
   "cell_type": "code",
   "execution_count": null,
   "metadata": {},
   "outputs": [],
   "source": [
    "def get_action_value(mdp, state_values, state, action, gamma):\n",
    "    \"\"\"\n",
    "    Computes Q(s,a) as in formula above\n",
    "\n",
    "    mdp : MDP object\n",
    "    state_values : dictionayry of { state_i : V_i }\n",
    "    state: string id of current state\n",
    "    gamma: float discount coeff\n",
    "\n",
    "    \"\"\"\n",
    "\n",
    "    next_states = mdp.get_next_states(state, action)\n",
    "\n",
    "    Q = 0.0\n",
    "\n",
    "    for next_state in next_states.keys():\n",
    "        p = next_states[next_state]  # FIXME: alternatively p = mdp.get_transition_prob(state, action, next_state)\n",
    "        Q += p * (\n",
    "            mdp.get_reward(state, action, next_state) + gamma * state_values[next_state]\n",
    "        )\n",
    "    return Q"
   ]
  },
  {
   "cell_type": "markdown",
   "metadata": {},
   "source": [
    "Используя $Q(s,a)$, мы можем определить \"следующее\" V(s) для VI:\n",
    "$$\\large V_{(i+1)}(s) = \\max_a \\sum_{s'} P_{ss'}^a \\cdot [ R_{ss'}^a + \\gamma V_{i}(s')] = \\max_a Q_i(s,a)$$"
   ]
  },
  {
   "cell_type": "code",
   "execution_count": null,
   "metadata": {},
   "outputs": [],
   "source": [
    "def get_new_state_value(mdp, state_values, state, gamma):\n",
    "    \"\"\"Computes next V(s) as in formula above. Please do not change state_values in process.\"\"\"\n",
    "    if mdp.is_terminal(state):\n",
    "        return 0  # Game over\n",
    "\n",
    "    q_max = float(\"-inf\")\n",
    "    actions = mdp.get_possible_actions(state)\n",
    "    for a in actions:\n",
    "        q = get_action_value(mdp, state_values, state, a, gamma)\n",
    "        q_max = max(q_max, q)\n",
    "    return q_max"
   ]
  },
  {
   "cell_type": "markdown",
   "metadata": {},
   "source": [
    "Наконец, давайте объединим все, что мы написали, в алгоритм итерации рабочего значения."
   ]
  },
  {
   "cell_type": "code",
   "execution_count": null,
   "metadata": {},
   "outputs": [],
   "source": [
    "# parameters\n",
    "gamma = 0.9  # discount for MDP\n",
    "num_iter = 100  # maximum iterations, excluding initialization\n",
    "# stop VI if new values are this close to old values (or closer)\n",
    "min_difference = 0.001\n",
    "\n",
    "# initialize V(s)\n",
    "state_values = {s: 0 for s in mdp.get_all_states()}\n",
    "\n",
    "display_jpeg(MDP.plot_graph_with_state_values(mdp, state_values))"
   ]
  },
  {
   "cell_type": "markdown",
   "metadata": {},
   "source": [
    "Здесь нет никакого \"текущего состояния\"! Добавим матрицу состояний и построим новый граф:"
   ]
  },
  {
   "cell_type": "code",
   "execution_count": null,
   "metadata": {},
   "outputs": [],
   "source": [
    "for i in range(num_iter):\n",
    "    # Compute new state values using the functions you defined above.\n",
    "    # It must be a dict {state : float V_new(state)}\n",
    "\n",
    "    new_state_values = {}\n",
    "    for s in state_values.keys():\n",
    "        new_state_values[s] = get_new_state_value(mdp, state_values, s, gamma)\n",
    "\n",
    "    # Compute difference\n",
    "    diff = max(abs(new_state_values[s] - state_values[s]) for s in mdp.get_all_states())\n",
    "    print(\"iter %4i   |   diff: %6.5f   |   \" % (i, diff), end=\"\")\n",
    "    print(\"   \".join(\"V(%s) = %.3f\" % (s, v) for s, v in state_values.items()))\n",
    "    state_values = new_state_values\n",
    "\n",
    "    if diff < min_difference:\n",
    "        print(\"Terminated\")\n",
    "        break"
   ]
  },
  {
   "cell_type": "code",
   "execution_count": null,
   "metadata": {},
   "outputs": [],
   "source": [
    "display_jpeg(MDP.plot_graph_with_state_values(mdp, state_values))"
   ]
  },
  {
   "cell_type": "markdown",
   "metadata": {},
   "source": [
    "Теперь воспользуемся этим $V^{*}(s)$, чтобы найти оптимальные действия в каждом состоянии:\n",
    "\n",
    " $$\\pi^*(s) = argmax_a \\sum_{s'} P_{ss'}^a \\cdot [ R_{ss'}^a + \\gamma V_{i}(s')] = argmax_a Q_i(s,a)$$\n",
    "\n",
    "Единственное отличие от $V(s)$ в том, что здесь мы берем не max, а argmax: найти действие с максимальным $Q(s,a)$."
   ]
  },
  {
   "cell_type": "code",
   "execution_count": null,
   "metadata": {},
   "outputs": [],
   "source": [
    "def get_optimal_action(mdp, state_values, state, gamma=0.9):\n",
    "    \"\"\"Finds optimal action using formula above.\"\"\"\n",
    "    if mdp.is_terminal(state):\n",
    "        return None\n",
    "\n",
    "    best_action = None\n",
    "    q_max = float(\"-inf\")\n",
    "    actions = mdp.get_possible_actions(state)\n",
    "    for a in actions:\n",
    "        q = get_action_value(mdp, state_values, state, a, gamma)\n",
    "        if q > q_max:\n",
    "            best_action = a\n",
    "            q_max = q\n",
    "\n",
    "    return best_action"
   ]
  },
  {
   "cell_type": "code",
   "execution_count": null,
   "metadata": {},
   "outputs": [],
   "source": [
    "display_jpeg(MDP.plot_graph_optimal_strategy_and_state_values(mdp, state_values, get_action_value))"
   ]
  },
  {
   "cell_type": "code",
   "execution_count": null,
   "metadata": {},
   "outputs": [],
   "source": [
    "import numpy as np\n",
    "\n",
    "# Measure agent's average reward\n",
    "\n",
    "s = mdp.reset()\n",
    "rewards = []\n",
    "for _ in range(10000):\n",
    "    s, r, done, _ = mdp.step(get_optimal_action(mdp, state_values, s, gamma))\n",
    "    rewards.append(r)\n",
    "\n",
    "print(\"average reward: \", np.mean(rewards))\n",
    "\n",
    "assert 0.40 < np.mean(rewards) < 0.55"
   ]
  },
  {
   "cell_type": "markdown",
   "metadata": {},
   "source": [
    "### temporal difference (TD)-обучение (TD-learning)"
   ]
  },
  {
   "cell_type": "markdown",
   "metadata": {},
   "source": [
    "Итак, в тех случаях, когда известна вероятность $P_{ss'}^a$, задача обучения может быть решена с помощью методов динамического программирования, как было рассмотрено выше. В реальных же задачах динамика среды зачастую неизвестна. Два главных подхода, позволяющие обходить незнание динамики среды, включают __метод Монте Карло__ (MC) и  __temporal difference (TD)-обучение__ (TD-learning). Оба эти подхода основываются на симулировании опыта взаимодействия со средой в виде __траекторий__ (MDP trajectory)."
   ]
  },
  {
   "cell_type": "markdown",
   "metadata": {},
   "source": [
    "**MDP trajectory**\n",
    "\n",
    "<img src=\"https://edunet.kea.su/repo/EduNet-content/dev-2.0/L15/out/q_learning_scheme.png\" alt=\"Drawing\" width=\"500\"/>"
   ]
  },
  {
   "cell_type": "markdown",
   "metadata": {},
   "source": [
    "Траектория представляет из себя последовательность\n",
    "\n",
    "• states ($s$)\n",
    "• actions ($a$)\n",
    "• rewards ($r$)\n",
    "\n",
    "При этом MC оперирует полными траекториями, оканчивающимися в терминальном состоянии, а TD-learning позволяет учиться на неполных эпизодах, не дожидаясь конечного состояния."
   ]
  },
  {
   "cell_type": "markdown",
   "metadata": {},
   "source": [
    "<img src=\"https://edunet.kea.su/repo/EduNet-content/dev-2.0/L15/out/TD_MC_DP_backups_.png\" alt=\"Drawing\" width=\"900\"/>"
   ]
  },
  {
   "cell_type": "markdown",
   "metadata": {},
   "source": [
    "Рассмотрим второй подход подробнее.\n",
    "\n",
    "**TD-learning** — один из наиболее мощных подходов, используемых во многих алгоритмах RL. Смысл в том, чтобы **обновлять оценки ценности** (состояния или действия) на **основе уже обученных оценок** для последующих состояний. Эту процедуру можно представить как если бы мы \"подтягивали\" значение функции ценности того состояния, в котором мы находились на предыдущем шаге, к значению функции ценности того состояния, в котором мы находимся сейчас. Каким образом это можно сделать?"
   ]
  },
  {
   "cell_type": "markdown",
   "metadata": {},
   "source": [
    "Базовый алгоритм TD-обучения — $TD(0)$ заключается в следующем:\n",
    "\n",
    "Инициализируем функцию ценности, например, $V(s)$, и стратегию $\\pi$. Пусть, у нас есть текущее состояние $s$ из которого мы:\n",
    "- выбираем действие $a$ по стратегии $\\pi$\n",
    "- совершаем действие $a$, наблюдаем награду $r$ и следующее состояние $s'$\n",
    "- обновляем оценку $V(s)$:\n",
    "\n",
    "$$V(s) := V(s) + \\alpha(\\underbrace{\\overbrace{r+\\gamma V(s')}^{\\text{TD target}} - \\overbrace{V(s)}^{\\text{old estimate}}}_{\\text{TD error}})$$\n",
    "- переходим к следующему шагу $s:=s'$\n",
    "\n",
    "При оптимальной политике $\\pi$, $\\overbrace{r+\\gamma V(s')}^{\\text{TD target}} = \\overbrace{V(s)}^{\\text{old estimate}}$, соответственно их разницу, называемую _TD-ошибкой_ (TD-error), мы и будем пытаться минимизировать."
   ]
  },
  {
   "cell_type": "markdown",
   "metadata": {},
   "source": [
    "Почему это работает? Ведь мы обучаем случайно инициализированную оценку $V(s)$ на основе других оценок $V(s')$, которые также были инициализированы случайно. Дело в том, что состояния, которые предшествуют получению реальных наград (например, за победу) будут обучаться первыми и затем распространять свою ценность на состояния, предшествующие им.\n",
    "\n",
    "Стоит отметить также, что TD-обучение не обязательно всегда будет смотреть на один шаг вперед. Алгоритм, называемый $TD(\\lambda)$, будет обновлять оценки функции ценности сразу на несколько шагов назад.\n",
    "\n",
    "Разновидностями TD-обучения являются алгоритмы __Q-learning__ и __SARSA__."
   ]
  },
  {
   "cell_type": "markdown",
   "metadata": {},
   "source": [
    "#### Q-Learning"
   ]
  },
  {
   "cell_type": "markdown",
   "metadata": {},
   "source": [
    "Допустим, мы ходим по полю размером 12x4. Наша цель — попасть в ячейку (3,11).\n",
    "**Максимизируя сумму будущих наград**, мы также находим **самый быстрый путь** к цели, поэтому наша цель сейчас — найти способ сделать это!\n"
   ]
  },
  {
   "cell_type": "markdown",
   "metadata": {},
   "source": [
    "<img src=\"https://edunet.kea.su/repo/EduNet-web_dependencies/dev-2.0/L15/q_learning_field.png\" alt=\"Drawing\" width=\"700\"/>"
   ]
  },
  {
   "cell_type": "markdown",
   "metadata": {},
   "source": [
    "Начнем с построения таблицы, которая измеряет, насколько хорошо будет выполнить определенное действие в любом состоянии (чем больше значение, тем лучше действие).\n",
    "\n",
    "* Таблица будет иметь одну строку для каждого состояния и один столбец для каждого действия. Сетка имеет 48 (4 по Y на 12 по X) состояний и разрешены 4 действия (вверх, вниз, влево, вправо), поэтому таблица будет 48 x 4.\n",
    "\n",
    "* **Значения**, хранящиеся **в этой таблице**, называются **«Q-values»**.\n",
    "\n",
    "* Это оценки суммы будущих наград. Другими словами, они оценивают, сколько еще вознаграждения мы можем получить до конца игры, находясь в состоянии S и выполняя действие A.\n",
    "\n",
    "* Мы инициализируем таблицу случайными значениями (или некоторой константой, например, всеми нулями)."
   ]
  },
  {
   "cell_type": "markdown",
   "metadata": {},
   "source": [
    "Оптимальная «Q-table» имеет значения, которые позволяют нам предпринимать лучшие действия в каждом состоянии, давая нам в итоге лучший путь к победе.\n",
    "\n"
   ]
  },
  {
   "cell_type": "markdown",
   "metadata": {},
   "source": [
    "<img src=\"https://edunet.kea.su/repo/EduNet-web_dependencies/dev-2.0/L15/q_table.png\" alt=\"Drawing\" width=\"300\"/>"
   ]
  },
  {
   "cell_type": "markdown",
   "metadata": {},
   "source": [
    "**Q-learning** — это алгоритм, который «изучает» эти значения. На каждом шагу мы получаем больше информации о мире. Эта информация используется для обновления значений в таблице.\n"
   ]
  },
  {
   "cell_type": "markdown",
   "metadata": {},
   "source": [
    "<img src=\"https://edunet.kea.su/repo/EduNet-web_dependencies/dev-2.0/L15/q_learning.gif\" alt=\"Drawing\" width=\"800\">"
   ]
  },
  {
   "cell_type": "markdown",
   "metadata": {},
   "source": [
    "Итак, мы не знаем вероятности переходов. Мы можем только генерировать траектории и учиться на них.\n",
    "\n",
    "\n"
   ]
  },
  {
   "cell_type": "markdown",
   "metadata": {},
   "source": [
    "<img src=\"https://edunet.kea.su/repo/EduNet-content/dev-2.0/L15/out/q_learning_scheme.png\" alt=\"Drawing\" width=\"500\"/>"
   ]
  },
  {
   "cell_type": "markdown",
   "metadata": {},
   "source": [
    "Возникает вопрос, какую из функций ценности нам лучше пытаться учить: $V(s)$ или $Q(s,a)$? Поскольку $V(s)$ не позволит определять политику без знания $P_{ss'}^a$, будет выгоднее учить $Q(s,a)$."
   ]
  },
  {
   "cell_type": "markdown",
   "metadata": {},
   "source": [
    "<img src=\"https://edunet.kea.su/repo/EduNet-content/dev-2.0/L15/out/q_learning_possible_actions.png\" alt=\"Drawing\" width=\"1000\"/>"
   ]
  },
  {
   "cell_type": "markdown",
   "metadata": {},
   "source": [
    "Инициализировать таблицу $Q(s, a)$ нулями\n",
    "\n",
    "* Цикл:\n",
    "   * Семплировать $<s, a, r, s^{'}>$ из среды\n",
    "   * Вычислить $\\hat{Q}(s, a) = r(s,a) + \\gamma Q(s^{'}, a_{i})$\n",
    "   * Обновить $Q(s,a) \\longleftarrow \\alpha \\hat{Q}(s, a) + (1-\\alpha)Q(s,a)$\n",
    "\n",
    "$\\color{red}\\triangle$ Мы хотим **несмещённую оценку с меньшей дисперисей**, поэтому используем **скользящее среднее**.\n",
    "\n",
    "$\\color{red}\\triangle$ **Пересчёт** функции (поле в таблице) выполняется **после перехода**."
   ]
  },
  {
   "cell_type": "markdown",
   "metadata": {},
   "source": [
    "$\\hat{Q}$ — расчетное значение, $Q$ — то, что было в таблице, $\\alpha$ шаг обучения.\n",
    "\n",
    "Данный алгоритм называется __Q-learning__, он напрямую аппроксимирует функцию $q_*(s,a)$, которая фактически представляет оптимальную политику $\\pi_*$. В данном алгоритме оценка $Q(s, a)$ обновляется в соответствии с правилами TD-обучения:\n",
    "\n",
    "$$\\large Q(s,a) := Q(s,a) + \\alpha(R_{ss'}^a+\\gamma\\max_{a'}Q(s',a') -Q(s,a))$$\n",
    "\n",
    "Видно, что за счет максимума Q-learning будет аппроксимировать именно $q_*(s,a)$, независимо от того, какой политики мы придерживаемся (которая может быть, например $\\varepsilon$-жадной), наш вариант Q-learning не учитывает того, что мы хотим иногда \"рандомить\". К примеру, на изображении ниже Q-обучение будет сходиться не к оптимальной политике, а к безопасной. В совокупности группа методов, при которых мы можем придерживаться абсолютно любой стратегии, а обучаться все равно будут правильные оптимальные значения политики, называется __off-policy__."
   ]
  },
  {
   "cell_type": "markdown",
   "metadata": {},
   "source": [
    "#### Deep Q-Learning"
   ]
  },
  {
   "cell_type": "markdown",
   "metadata": {},
   "source": [
    "Есть задачи, где количество состояний и переходов огромно, и поддерживать таблицу значений не представляется возможным."
   ]
  },
  {
   "cell_type": "markdown",
   "metadata": {},
   "source": [
    "<center><img src=\"https://edunet.kea.su/repo/EduNet-web_dependencies/dev-2.0/L15/large_num_of_states.png\" width=\"700\"/><center>\n",
    "\n",
    "<center><em>Окно игры Space Invaders</em></center>"
   ]
  },
  {
   "cell_type": "markdown",
   "metadata": {},
   "source": [
    "Количество состояний для $8$-мибитной цветной ($3$ RGB-канала) игры Space Invaders с размером игрового поля $210 \\times 160$ пикселей:\n",
    "\n",
    "$$\\large |S| = 210\\times160\\times2^{8\\times3}$$\n",
    "\n",
    "В таких ситуациях Q-функцию не считают в явном виде, а аппроксимируют нейросетью."
   ]
  },
  {
   "cell_type": "markdown",
   "metadata": {},
   "source": [
    "<img src=\"https://edunet.kea.su/repo/EduNet-content/dev-2.0/L15/out/approximately_q_function_by_network.png\" alt=\"Drawing\" width=\"800\"/>"
   ]
  },
  {
   "cell_type": "markdown",
   "metadata": {},
   "source": [
    "Чтобы считать градиент, приходится принимать значение Q-функции фиксированным и не зависящим от параметров нашей нейросети. Что, конечно, не так.\n"
   ]
  },
  {
   "cell_type": "markdown",
   "metadata": {},
   "source": [
    "### Loss"
   ]
  },
  {
   "cell_type": "markdown",
   "metadata": {},
   "source": [
    "<img src=\"https://edunet.kea.su/repo/EduNet-content/dev-2.0/L15/out/deep_q_learning_loss.png\" alt=\"Drawing\" width=\"500\"/>"
   ]
  },
  {
   "cell_type": "markdown",
   "metadata": {},
   "source": [
    "### Approximate Q-learning"
   ]
  },
  {
   "cell_type": "markdown",
   "metadata": {},
   "source": [
    "Q-values:\n",
    "$$\n",
    "\\large \\hat{Q}\\left(s_{t}, a_{t}\\right)=r+\\gamma \\cdot \\max _{a^{\\prime}} Q\\left(s_{t+1}, a^{\\prime}\\right)\n",
    "$$\n",
    "Objective:\n",
    "$$\n",
    "\\large L=\\left(Q\\left(s_{t}, a_{t}\\right)-\\left[r+\\gamma \\cdot \\max _{a^{\\prime}} Q\\left(s_{t+1}, a^{\\prime}\\right)\\right]\\right)^{2}\n",
    "$$\n",
    "Gradient step:\n",
    "$$\n",
    "\\large w_{t+1}=w_{t}-\\alpha \\cdot \\frac{\\delta L}{\\delta w}\n",
    "$$"
   ]
  },
  {
   "cell_type": "markdown",
   "metadata": {},
   "source": [
    "### Алгоритм обучения"
   ]
  },
  {
   "cell_type": "markdown",
   "metadata": {},
   "source": [
    "**Basic deep Q-learning**\n",
    "\n",
    "<img src=\"https://edunet.kea.su/repo/EduNet-content/dev-2.0/L15/out/basic_deep_q_learning_scheme.png\" alt=\"Drawing\" width=\"800\"/>"
   ]
  },
  {
   "cell_type": "markdown",
   "metadata": {},
   "source": [
    "$\\varepsilon -greedy$ нужна для исследования среды"
   ]
  },
  {
   "cell_type": "markdown",
   "metadata": {},
   "source": [
    "### Experience replay"
   ]
  },
  {
   "cell_type": "markdown",
   "metadata": {},
   "source": [
    "**Проблема**:\n",
    "\n",
    "<center><img src=\"https://edunet.kea.su/repo/EduNet-web_dependencies/dev-2.0/L15/information_about_states_is_unevenly_distributed.png\" alt=\"Drawing\" width=\"500\"/></center>\n",
    "\n",
    "<center><em>Окна игры Space Invaders</em></center>"
   ]
  },
  {
   "cell_type": "markdown",
   "metadata": {},
   "source": [
    "В большинстве окружений информация, получаемая агентом, распределена не независимо. Т.е. последовательные наблюдения агента сильно коррелированы между собой (что понятно из интуитивных соображений, т.к. большинство окружений, в которых применяется RL, предполагают, что все изменения в них последовательны).\n",
    "\n",
    "Мы можем столкнуться с такой проблемой при обучении нейросети, если в игре есть большое количество стандартных персонажей и редко встречающиеся \"боссы\". После повторения большого количества типовых действий нейросеть будет забывать, как проходить боссов.\n",
    "\n",
    "Корреляция примеров ухудшает сходимость стохастического градиентного спуска. Таким образом, нам нужен способ, который позволяет улучшить распределение примеров для обучения (устранить или снизить корреляцию между ними)."
   ]
  },
  {
   "cell_type": "markdown",
   "metadata": {},
   "source": [
    "<img src=\"https://edunet.kea.su/repo/EduNet-content/dev-2.0/L15/out/experience_replay_scheme.png\" alt=\"Drawing\" width=\"600\"/>"
   ]
  },
  {
   "cell_type": "markdown",
   "metadata": {},
   "source": [
    "**Идея**: сохранять несколько предыдущих взаимодействий $<s,a,r,s^{'}>$.\n",
    "\n",
    "Обучать на случайных подвыборках.\n",
    "\n",
    "**Процесс обучения**:\n",
    "* Сыграть 1 шаг и записать его\n",
    "* Выбрать $N$ случайных записей для обучения\n",
    "\n",
    "**Profit**: не требуется заново возвращаться в те же пары *состояние-действие* $(s,a)$, чтобы выучить их.\n",
    "* Можно получить хорошую стратегию, сделав меньше взаимодействий со средой\n",
    "* Боремся с катастрофическим забыванием данных\n",
    "\n",
    "$\\color{red}\\triangle$ **Работает только с алгортимами без политик.**"
   ]
  },
  {
   "cell_type": "markdown",
   "metadata": {},
   "source": [
    "Обычно используется метод **проигрывания опыта (experience replay)**. Суть этого метода в том, что мы сохраняем некоторое количество примеров (состояние, действия, вознаграждение) в специальном буфере и для обучения выбираем случайные мини-батчи из этого буфера.\n",
    "\n",
    "Так же **experience replay** позволяет агенту эффективнее использовать свой прошлый опыт."
   ]
  },
  {
   "cell_type": "markdown",
   "metadata": {},
   "source": [
    "### Target network"
   ]
  },
  {
   "cell_type": "markdown",
   "metadata": {},
   "source": [
    "В DQN для эффективного обучения должно использоваться две сети: одна непосредственно обучается, другая определяет цель (TD target). Почему мы не можем пользоваться одной и той же сетью для получения оценки текущего $Q(s', a')$ и предыдущего $Q(s, a)$ состояний?\n",
    "\n",
    "Напомним, что в процессе TD-обучения мы \"подтягиваем\" значение функции ценности того состояния, в котором мы находились на предыдущем шаге, к значению функции ценности того состояния, в котором мы находимся сейчас, а в DQN мы делаем это с помощью нейронной сети, и если использовать одну и ту же сеть для оценки $Q(s', a')$ и $Q(s, a)$, то этот процесс может превратиться в нескончаемую погоню за целью, которую невозможно достичь, поскольку с каждым обновлением весов, приближающим нас к цели, одновременно сама цель будет удаляться от нас (как на рисунке ниже):"
   ]
  },
  {
   "cell_type": "markdown",
   "metadata": {},
   "source": [
    "<img src=\"https://edunet.kea.su/repo/EduNet-content/dev-2.0/L15/out/At_first_everything_look.png\" alt=\"Drawing\" width=\"600\"/>"
   ]
  },
  {
   "cell_type": "markdown",
   "metadata": {},
   "source": [
    "К счастью, эта проблема решаема: нужно сделать так, чтобы сеть обучалась некоторое время аппроксимировать оценку $\\max_{a'} Q(s', a')$, полученную без использования обновленных весов Q-сети. Для этого используют __целевую сеть__ (target network) с зафиксированными весами, обновляемыми раз в несколько эпизодов обучения (например, эпох или игровых эпизодов, если обучение происходит после каждого игрового эпизода)."
   ]
  },
  {
   "cell_type": "markdown",
   "metadata": {},
   "source": [
    "<img src=\"https://edunet.kea.su/repo/EduNet-content/dev-2.0/L15/out/Suppose_we_freeze.png\" alt=\"Drawing\" width=\"600\"/>"
   ]
  },
  {
   "cell_type": "markdown",
   "metadata": {},
   "source": [
    "Таким образом, параллельно будут существовать две сети, одна из которых будет отвечать за выбор действия, другая — за целевую функцию, одна из которых будет обучаться с отставанием."
   ]
  },
  {
   "cell_type": "markdown",
   "metadata": {},
   "source": [
    "<img src=\"https://edunet.kea.su/repo/EduNet-content/dev-2.0/L15/out/DQN-Loss_.png\" alt=\"Drawing\" width=\"800\"/>"
   ]
  },
  {
   "cell_type": "markdown",
   "metadata": {},
   "source": [
    "## Пример c CartPole DQN"
   ]
  },
  {
   "cell_type": "markdown",
   "metadata": {},
   "source": [
    "Сеть Deep Q = DQN (Deep Q-Network).\n",
    "\n",
    "Cartpole &mdash; перевернутый маятник с центром тяжести над своей точкой поворота. Он нестабилен, но его можно контролировать, перемещая точку поворота под центром массы. Цель состоит в том, чтобы сохранить равновесие, прикладывая соответствующие усилия к точке поворота.\n",
    "\n",
    "Другой env можно использовать без каких-либо изменений кода. Пространство состояний должно быть единым вектором, действия должны быть дискретными.\n",
    "\n",
    "CartPole &mdash; самый простой. На ее решение должно уйти несколько минут.\n",
    "\n",
    "Для LunarLander может потребоваться 1-2 часа, чтобы получить 200 баллов (хороший балл) в Colab, и прогресс в обучении не выглядит информативным."
   ]
  },
  {
   "cell_type": "code",
   "execution_count": null,
   "metadata": {},
   "outputs": [],
   "source": [
    "from IPython.display import clear_output\n",
    "import os\n",
    "\n",
    "################################################\n",
    "# For CartPole\n",
    "################################################\n",
    "\n",
    "!wget -q https://raw.githubusercontent.com/yandexdataschool/Practical_RL/master/setup_colab.sh -O- | bash\n",
    "\n",
    "!wget -q https://raw.githubusercontent.com/yandexdataschool/Practical_RL/master/week04_approx_rl/atari_wrappers.py\n",
    "!wget -q https://raw.githubusercontent.com/yandexdataschool/Practical_RL/master/week04_approx_rl/utils.py\n",
    "!wget -q https://raw.githubusercontent.com/yandexdataschool/Practical_RL/master/week04_approx_rl/replay_buffer.py\n",
    "!wget -q https://raw.githubusercontent.com/yandexdataschool/Practical_RL/master/week04_approx_rl/framebuffer.py\n",
    "\n",
    "!pip install swig\n",
    "!pip install gym[box2d]\n",
    "\n",
    "!touch .setup_complete\n",
    "\n",
    "\n",
    "# This code creates a virtual display to draw game images on.\n",
    "# It will have no effect if your machine has a monitor.\n",
    "if type(os.environ.get(\"DISPLAY\")) is not str or len(os.environ.get(\"DISPLAY\")) == 0:\n",
    "    !bash ../xvfb start\n",
    "    os.environ[\"DISPLAY\"] = \":1\"\n",
    "\n",
    "clear_output()"
   ]
  },
  {
   "cell_type": "code",
   "execution_count": null,
   "metadata": {},
   "outputs": [],
   "source": [
    "import gym\n",
    "\n",
    "ENV_NAME = \"CartPole-v1\"\n",
    "\n",
    "\n",
    "def make_env(seed=None):\n",
    "    # some envs are wrapped with a time limit wrapper by default\n",
    "    env = gym.make(ENV_NAME, render_mode=\"rgb_array\", new_step_api=True).unwrapped\n",
    "    if seed is not None:\n",
    "        env.seed(seed)\n",
    "    return env"
   ]
  },
  {
   "cell_type": "code",
   "execution_count": null,
   "metadata": {},
   "outputs": [],
   "source": [
    "import matplotlib.pyplot as plt\n",
    "import numpy as np\n",
    "from warnings import simplefilter\n",
    "\n",
    "simplefilter(\"ignore\", category=DeprecationWarning)\n",
    "\n",
    "env = make_env()\n",
    "env.reset()\n",
    "env_img = np.squeeze(env.render())\n",
    "clear_output()\n",
    "plt.imshow(env_img)\n",
    "state_shape, n_actions = env.observation_space.shape, env.action_space.n"
   ]
  },
  {
   "cell_type": "markdown",
   "metadata": {},
   "source": [
    "### Архитектура сети"
   ]
  },
  {
   "cell_type": "markdown",
   "metadata": {},
   "source": [
    "Теперь нам нужно построить нейронную сеть, которая может сопоставлять наблюдения с состоянием q-значений.\n",
    "\n",
    "Модель не должна быть слишком сложной: 1-2 скрытых слоя с < 200 нейронами и активацией ReLU, вероятно, будет достаточно.\n",
    "\n",
    "Batch normalization и dropout могут все испортить, поэтому их не используем."
   ]
  },
  {
   "cell_type": "code",
   "execution_count": null,
   "metadata": {},
   "outputs": [],
   "source": [
    "import torch\n",
    "\n",
    "device = torch.device(\"cuda\" if torch.cuda.is_available() else \"cpu\")\n",
    "# those who have a GPU but feel unfair to use it can uncomment:\n",
    "# device = torch.device('cpu')\n",
    "\n",
    "print(state_shape)"
   ]
  },
  {
   "cell_type": "code",
   "execution_count": null,
   "metadata": {},
   "outputs": [],
   "source": [
    "from torch import nn\n",
    "\n",
    "\n",
    "class DQNAgent(nn.Module):\n",
    "    def __init__(self, state_shape, n_actions, epsilon=0):\n",
    "        super().__init__()\n",
    "        self.epsilon = epsilon\n",
    "        self.n_actions = n_actions\n",
    "        self.state_shape = state_shape\n",
    "        # Define your network body here. Please make sure agent is fully contained here\n",
    "        assert len(state_shape) == 1\n",
    "        state_dim = state_shape[0]\n",
    "\n",
    "        # Define NN\n",
    "        ##############################################\n",
    "        hidden_size = 150\n",
    "        self._nn = nn.Sequential(\n",
    "            nn.Linear(state_dim, hidden_size),\n",
    "            nn.ReLU(),\n",
    "            nn.Linear(hidden_size, n_actions),\n",
    "            nn.ReLU(),\n",
    "        )\n",
    "        ##############################################\n",
    "\n",
    "    def forward(self, state_t):\n",
    "        \"\"\"\n",
    "        takes agent's observation (tensor), returns qvalues (tensor)\n",
    "        :param state_t: a batch states, shape = [batch_size, *state_dim=4]\n",
    "        \"\"\"\n",
    "        # Use your network to compute qvalues for given state\n",
    "\n",
    "        ##############################################\n",
    "        qvalues = self._nn(state_t)\n",
    "        ##############################################\n",
    "\n",
    "        assert qvalues.requires_grad, \"qvalues must be a torch tensor with grad\"\n",
    "        assert (\n",
    "            len(qvalues.shape) == 2\n",
    "            and qvalues.shape[0] == state_t.shape[0]\n",
    "            and qvalues.shape[1] == n_actions\n",
    "        )\n",
    "\n",
    "        return qvalues\n",
    "\n",
    "    def get_qvalues(self, states):\n",
    "        \"\"\"\n",
    "        like forward, but works on numpy arrays, not tensors\n",
    "        \"\"\"\n",
    "        model_device = next(self.parameters()).device\n",
    "        states = torch.tensor(states, device=model_device, dtype=torch.float32)\n",
    "        qvalues = self.forward(states)\n",
    "        return qvalues.data.cpu().numpy()\n",
    "\n",
    "    def sample_actions(self, qvalues):\n",
    "        \"\"\"pick actions given qvalues. Uses epsilon-greedy exploration strategy.\"\"\"\n",
    "        epsilon = self.epsilon\n",
    "        batch_size, n_actions = qvalues.shape\n",
    "\n",
    "        random_actions = np.random.choice(n_actions, size=batch_size)\n",
    "        best_actions = qvalues.argmax(axis=-1)\n",
    "\n",
    "        should_explore = np.random.choice([0, 1], batch_size, p=[1 - epsilon, epsilon])\n",
    "        return np.where(should_explore, random_actions, best_actions)"
   ]
  },
  {
   "cell_type": "code",
   "execution_count": null,
   "metadata": {},
   "outputs": [],
   "source": [
    "agent = DQNAgent(state_shape, n_actions, epsilon=0.5).to(device)"
   ]
  },
  {
   "cell_type": "code",
   "execution_count": null,
   "metadata": {},
   "outputs": [],
   "source": [
    "def evaluate(env, agent, n_games=1, greedy=False, t_max=10000):\n",
    "    \"\"\"Plays n_games full games. If greedy, picks actions as argmax(qvalues). Returns mean reward.\"\"\"\n",
    "    rewards = []\n",
    "    for _ in range(n_games):\n",
    "        s = env.reset()\n",
    "        reward = 0\n",
    "        for _ in range(t_max):\n",
    "            qvalues = agent.get_qvalues([s])\n",
    "            action = (\n",
    "                qvalues.argmax(axis=-1)[0]\n",
    "                if greedy\n",
    "                else agent.sample_actions(qvalues)[0]\n",
    "            )\n",
    "            s, r, done, _, _ = env.step(action)\n",
    "            reward += r\n",
    "            if done:\n",
    "                break\n",
    "\n",
    "        rewards.append(reward)\n",
    "    return np.mean(rewards)"
   ]
  },
  {
   "cell_type": "markdown",
   "metadata": {},
   "source": [
    "### Experience Replay Buffer and Target Networks"
   ]
  },
  {
   "cell_type": "markdown",
   "metadata": {},
   "source": [
    "**Интерфейс довольно прост:**\n",
    "\n",
    "* `exp_replay.add(obs, act, rw, next_obs, done)` — сохраняет (s,a,r,s',done) кортеж в буффер\n",
    "* `exp_replay.sample(batch_size)` — возвращает observations, actions, rewards, next_observations и is_done для `batch_size` random samples.\n",
    "* `len(exp_replay)` — возвращает количество элементов, хранящихся в replay buffer."
   ]
  },
  {
   "cell_type": "code",
   "execution_count": null,
   "metadata": {},
   "outputs": [],
   "source": [
    "from replay_buffer import ReplayBuffer\n",
    "\n",
    "exp_replay = ReplayBuffer(2000)\n",
    "\n",
    "\n",
    "target_network = DQNAgent(agent.state_shape, agent.n_actions, epsilon=0.5).to(device)\n",
    "# This is how you can load weights from agent into target network\n",
    "target_network.load_state_dict(agent.state_dict())"
   ]
  },
  {
   "cell_type": "markdown",
   "metadata": {},
   "source": [
    "### TD-Loss"
   ]
  },
  {
   "cell_type": "markdown",
   "metadata": {},
   "source": [
    "Вычислим ошибку TD Q-learning:\n",
    "\n",
    "$$ \\large L = { 1 \\over N} \\sum_i [ Q_{\\theta}(s,a) - Q_{reference}(s,a) ] ^2 $$\n",
    "\n",
    "С Q-reference определенным как\n",
    "\n",
    "$$ \\large Q_{reference}(s,a) = r(s,a) + \\gamma \\cdot max_{a'} Q_{target}(s', a') $$\n",
    "\n",
    "где\n",
    "* $Q_{target}(s',a')$ обозначает $Q$-значение следующего предсказанного состояния и следующего действия  __target_network__\n",
    "* $s, a, r, s'$ — текущее состояние, действие, вознаграждение и следующее состояние соответственно\n",
    "* $\\gamma$ является коэффициентом дисконтирования, определенным двумя ячейками выше."
   ]
  },
  {
   "cell_type": "code",
   "execution_count": null,
   "metadata": {},
   "outputs": [],
   "source": [
    "def compute_td_loss(\n",
    "    states,\n",
    "    actions,\n",
    "    rewards,\n",
    "    next_states,\n",
    "    is_done,\n",
    "    agent,\n",
    "    target_network,\n",
    "    gamma=0.99,\n",
    "    check_shapes=False,\n",
    "    device=device,\n",
    "):\n",
    "    \"\"\"Compute td loss using torch operations only. Use the formulae above.\"\"\"\n",
    "    states = torch.tensor(\n",
    "        states, device=device, dtype=torch.float32\n",
    "    )  # shape: [batch_size, *state_shape]\n",
    "    actions = torch.tensor(\n",
    "        actions, device=device, dtype=torch.int64\n",
    "    )  # shape: [batch_size]\n",
    "    rewards = torch.tensor(\n",
    "        rewards, device=device, dtype=torch.float32\n",
    "    )  # shape: [batch_size]\n",
    "    # shape: [batch_size, *state_shape]\n",
    "    next_states = torch.tensor(next_states, device=device, dtype=torch.float)\n",
    "    is_done = torch.tensor(\n",
    "        is_done.astype(\"float32\"),\n",
    "        device=device,\n",
    "        dtype=torch.float32,\n",
    "    )  # shape: [batch_size]\n",
    "    is_not_done = 1 - is_done\n",
    "\n",
    "    # get q-values for all actions in current states\n",
    "    predicted_qvalues = agent(states)  # shape: [batch_size, n_actions]\n",
    "\n",
    "    # compute q-values for all actions in next states\n",
    "    # with torch.no_grad():\n",
    "    predicted_next_qvalues = target_network(\n",
    "        next_states\n",
    "    )  # shape: [batch_size, n_actions]\n",
    "\n",
    "    # select q-values for chosen actions\n",
    "    predicted_qvalues_for_actions = predicted_qvalues[\n",
    "        range(len(actions)), actions\n",
    "    ]  # shape: [batch_size]\n",
    "\n",
    "    # compute V*(next_states) using predicted next q-values\n",
    "    ##############################################\n",
    "    next_state_values = predicted_next_qvalues.max(axis=-1)[0]\n",
    "    ##############################################\n",
    "\n",
    "    assert (\n",
    "        next_state_values.dim() == 1 and next_state_values.shape[0] == states.shape[0]\n",
    "    ), \"must predict one value per state\"\n",
    "\n",
    "    # compute \"target q-values\" for loss - it's what's inside square parentheses in the above formula.\n",
    "    # at the last state use the simplified formula: Q(s,a) = r(s,a) since s' doesn't exist\n",
    "    # you can multiply next state values by is_not_done to achieve this.\n",
    "    ###############################################\n",
    "    target_qvalues_for_actions = rewards + gamma * next_state_values * is_not_done\n",
    "    ##############################################\n",
    "\n",
    "    # mean squared error loss to minimize\n",
    "    loss = torch.mean(\n",
    "        (predicted_qvalues_for_actions - target_qvalues_for_actions.detach()) ** 2\n",
    "    )\n",
    "\n",
    "    if check_shapes:\n",
    "        assert (\n",
    "            predicted_next_qvalues.data.dim() == 2\n",
    "        ), \"make sure you predicted q-values for all actions in next state\"\n",
    "        assert (\n",
    "            next_state_values.data.dim() == 1\n",
    "        ), \"make sure you computed V(s') as maximum over just the actions axis and not all axes\"\n",
    "        assert (\n",
    "            target_qvalues_for_actions.data.dim() == 1\n",
    "        ), \"there's something wrong with target q-values, they must be a vector\"\n",
    "\n",
    "    return loss"
   ]
  },
  {
   "cell_type": "markdown",
   "metadata": {},
   "source": [
    "### Main loop"
   ]
  },
  {
   "cell_type": "code",
   "execution_count": null,
   "metadata": {},
   "outputs": [],
   "source": [
    "import random\n",
    "\n",
    "# your favourite random seed\n",
    "seed = 42\n",
    "\n",
    "random.seed(seed)\n",
    "np.random.seed(seed)\n",
    "torch.manual_seed(seed)\n",
    "\n",
    "env = make_env()\n",
    "env.reset(seed=seed)\n",
    "state_dim = env.observation_space.shape\n",
    "n_actions = env.action_space.n\n",
    "state = env.reset()\n",
    "\n",
    "agent = DQNAgent(state_dim, n_actions, epsilon=1).to(device)\n",
    "target_network = DQNAgent(state_dim, n_actions, epsilon=1).to(device)\n",
    "target_network.load_state_dict(agent.state_dict())"
   ]
  },
  {
   "cell_type": "markdown",
   "metadata": {},
   "source": [
    "Один агент для игры, второй для обучения. Периодически веса обученного агента копируются в \"игрока\"."
   ]
  },
  {
   "cell_type": "code",
   "execution_count": null,
   "metadata": {},
   "outputs": [],
   "source": [
    "def play_and_record(initial_state, agent, env, exp_replay, n_steps=1):\n",
    "    \"\"\"\n",
    "    Play the game for exactly n_steps, record every (s,a,r,s', done) to replay buffer.\n",
    "    Whenever game ends, add record with done=True and reset the game.\n",
    "    It is guaranteed that env has done=False when passed to this function.\n",
    "\n",
    "    PLEASE DO NOT RESET ENV UNLESS IT IS \"DONE\"\n",
    "\n",
    "    :returns: return sum of rewards over time and the state in which the env stays\n",
    "\n",
    "    hint: use agent.sample.actions\n",
    "    \"\"\"\n",
    "    s = initial_state\n",
    "    sum_rewards = 0\n",
    "\n",
    "    # Play the game for n_steps as per instructions above\n",
    "    for _ in range(n_steps):\n",
    "        qvalues = agent.get_qvalues([s])\n",
    "\n",
    "        action = agent.sample_actions(qvalues)[0]\n",
    "        # action = action.argmax(axis=-1)[0]\n",
    "        state, reward, done, _, _ = env.step(action)\n",
    "        sum_rewards += reward\n",
    "\n",
    "        exp_replay.add(s, action, reward, state, done)\n",
    "\n",
    "        if done:\n",
    "            state = env.reset()\n",
    "\n",
    "        s = state\n",
    "\n",
    "    return sum_rewards, s"
   ]
  },
  {
   "cell_type": "code",
   "execution_count": null,
   "metadata": {},
   "outputs": [],
   "source": [
    "import utils\n",
    "from warnings import simplefilter\n",
    "\n",
    "simplefilter(\"ignore\", category=UserWarning)\n",
    "\n",
    "REPLAY_BUFFER_SIZE = 10**4\n",
    "\n",
    "exp_replay = ReplayBuffer(REPLAY_BUFFER_SIZE)\n",
    "for i in range(100):\n",
    "    if not utils.is_enough_ram(min_available_gb=0.1):\n",
    "        print(\n",
    "            \"\"\"\n",
    "            Less than 100 Mb RAM available.\n",
    "            Make sure the buffer size in not too huge.\n",
    "            Also check, maybe other processes consume RAM heavily.\n",
    "            \"\"\"\n",
    "        )\n",
    "        break\n",
    "    play_and_record(state, agent, env, exp_replay, n_steps=10**2)\n",
    "    if len(exp_replay) == REPLAY_BUFFER_SIZE:\n",
    "        break\n",
    "print(len(exp_replay))"
   ]
  },
  {
   "cell_type": "code",
   "execution_count": null,
   "metadata": {},
   "outputs": [],
   "source": [
    "import time\n",
    "\n",
    "timesteps_per_epoch = 1\n",
    "batch_size = 32\n",
    "total_steps = 4 * 10**4\n",
    "decay_steps = 1 * 10**4\n",
    "\n",
    "optimizer = torch.optim.Adam(agent.parameters(), lr=1e-4)\n",
    "\n",
    "init_epsilon = 1\n",
    "final_epsilon = 0.1\n",
    "\n",
    "loss_freq = 20\n",
    "refresh_target_network_freq = 100\n",
    "eval_freq = 1000\n",
    "\n",
    "max_grad_norm = 5000\n",
    "\n",
    "mean_rw_history = []\n",
    "td_loss_history = []\n",
    "grad_norm_history = []\n",
    "initial_state_v_history = []\n",
    "step = 0\n",
    "\n",
    "\n",
    "def wait_for_keyboard_interrupt():\n",
    "    try:\n",
    "        while True:\n",
    "            time.sleep(1)\n",
    "    except KeyboardInterrupt:\n",
    "        pass"
   ]
  },
  {
   "cell_type": "code",
   "execution_count": null,
   "metadata": {},
   "outputs": [],
   "source": [
    "from tqdm import trange\n",
    "\n",
    "state = env.reset()\n",
    "with trange(step, total_steps + 1) as progress_bar:\n",
    "    for step in progress_bar:\n",
    "        if not utils.is_enough_ram():\n",
    "            print(\"less that 100 Mb RAM available, freezing\")\n",
    "            print(\"make sure everything is ok and use KeyboardInterrupt to continue\")\n",
    "            wait_for_keyboard_interrupt()\n",
    "\n",
    "        agent.epsilon = utils.linear_decay(\n",
    "            init_epsilon, final_epsilon, step, decay_steps\n",
    "        )\n",
    "\n",
    "        # play\n",
    "        _, state = play_and_record(state, agent, env, exp_replay, timesteps_per_epoch)\n",
    "\n",
    "        # train\n",
    "        # sample batch_size of data from experience replay\n",
    "        s, a, r, next_s, is_done = exp_replay.sample(batch_size)\n",
    "        # loss = compute TD loss\n",
    "        loss = compute_td_loss(s, a, r, next_s, is_done, agent, target_network)\n",
    "\n",
    "        loss.backward()\n",
    "        grad_norm = nn.utils.clip_grad_norm_(agent.parameters(), max_grad_norm)\n",
    "        optimizer.step()\n",
    "        optimizer.zero_grad()\n",
    "\n",
    "        if step % loss_freq == 0:\n",
    "            td_loss_history.append(loss.data.cpu().item())\n",
    "            grad_norm_history.append(grad_norm.data.cpu().item())\n",
    "\n",
    "        if step % refresh_target_network_freq == 0:\n",
    "            # Load agent weights into target_network\n",
    "            target_network.load_state_dict(agent.state_dict())\n",
    "\n",
    "        if step % eval_freq == 0:\n",
    "            mean_rw_history.append(\n",
    "                evaluate(make_env(seed=step), agent, n_games=3, greedy=True, t_max=1000)\n",
    "            )\n",
    "            initial_state_q_values = agent.get_qvalues([make_env(seed=step).reset()])\n",
    "            initial_state_v_history.append(np.max(initial_state_q_values))\n",
    "\n",
    "            clear_output(True)\n",
    "            print(\"buffer size = %i, epsilon = %.5f\" % (len(exp_replay), agent.epsilon))\n",
    "\n",
    "            plt.figure(figsize=[16, 9])\n",
    "\n",
    "            plt.subplot(2, 2, 1)\n",
    "            plt.title(\"Mean reward per episode\")\n",
    "            plt.plot(mean_rw_history)\n",
    "            plt.grid()\n",
    "\n",
    "            assert not np.isnan(td_loss_history[-1])\n",
    "            plt.subplot(2, 2, 2)\n",
    "            plt.title(\"TD loss history (smoothened)\")\n",
    "            plt.plot(utils.smoothen(td_loss_history))\n",
    "            plt.grid()\n",
    "\n",
    "            plt.subplot(2, 2, 3)\n",
    "            plt.title(\"Initial state V\")\n",
    "            plt.plot(initial_state_v_history)\n",
    "            plt.grid()\n",
    "\n",
    "            plt.subplot(2, 2, 4)\n",
    "            plt.title(\"Grad norm history (smoothened)\")\n",
    "            plt.plot(utils.smoothen(grad_norm_history))\n",
    "            plt.grid()\n",
    "\n",
    "            plt.show()"
   ]
  },
  {
   "cell_type": "code",
   "execution_count": null,
   "metadata": {},
   "outputs": [],
   "source": [
    "final_score = evaluate(make_env(), agent, n_games=30, greedy=True, t_max=1000)\n",
    "print(\"final score:\", final_score)\n",
    "if final_score > 300:\n",
    "    print(\"Well done\")\n",
    "else:\n",
    "    print(\"not good enough for DQN\")"
   ]
  },
  {
   "cell_type": "markdown",
   "metadata": {},
   "source": [
    "#### SARSA"
   ]
  },
  {
   "cell_type": "markdown",
   "metadata": {},
   "source": [
    "TODO: перенести или удалить"
   ]
  },
  {
   "cell_type": "markdown",
   "metadata": {},
   "source": [
    "# Reinforcement learning with human feedback (RLHF)"
   ]
  },
  {
   "cell_type": "markdown",
   "metadata": {},
   "source": [
    "TODO: перенести из тикет-ветки"
   ]
  },
  {
   "cell_type": "markdown",
   "metadata": {},
   "source": [
    "<center><img src=\"https://fls.avasiliev.xyz/repo/EduNet-content/dev-2.0/L15/out/RLHF.jpg\" width=\"850\"></center>"
   ]
  },
  {
   "cell_type": "markdown",
   "metadata": {},
   "source": [
    "## Генерация текста, как марковский процесс"
   ]
  },
  {
   "cell_type": "markdown",
   "metadata": {},
   "source": [
    "## Оценка качества в задаче суммаризации"
   ]
  },
  {
   "cell_type": "markdown",
   "metadata": {},
   "source": [
    "## Пайплайн RLHF"
   ]
  },
  {
   "cell_type": "markdown",
   "metadata": {},
   "source": [
    "### Предобучение языковой модели"
   ]
  },
  {
   "cell_type": "markdown",
   "metadata": {},
   "source": [
    "### Разметка данных и обучение reward-функции для ранжирования"
   ]
  },
  {
   "cell_type": "markdown",
   "metadata": {},
   "source": [
    "### Использование Rl алгоритма PPO для оценки качества генерации на каждом из токенов в отдельности"
   ]
  },
  {
   "cell_type": "markdown",
   "metadata": {},
   "source": [
    "### Обновление исходной генеративной модели при помощи сигнала от PPO модели"
   ]
  },
  {
   "cell_type": "code",
   "execution_count": null,
   "metadata": {},
   "outputs": [],
   "source": []
  }
 ],
 "metadata": {},
 "nbformat": 4,
 "nbformat_minor": 4
}
