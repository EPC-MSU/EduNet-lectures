{
 "cells": [
  {
   "cell_type": "markdown",
   "metadata": {},
   "source": [
    " <font size=\"6\">Обучение представлений</font>"
   ]
  },
  {
   "cell_type": "markdown",
   "metadata": {},
   "source": [
    "# Глубокие нейронные сети как модели обучения представлений"
   ]
  },
  {
   "cell_type": "markdown",
   "metadata": {},
   "source": [
    "\n",
    "\n",
    "> **Качество работы моделей классического машинного обучения напрямую зависит от того, как мы представим данные на входе модели.**\n",
    "\n",
    "\n",
    "\n",
    "Мы можем увидеть эффект от удачных представлений, рассмотрев иллюстрацию ниже. В этом классическом примере мы хотим обучить модель машинного обучения, скажем, логистическую регрессию, для поиска прямой линии, разделяющей голубые и оранжевые точки, описываемые признаками $x_1$ и $x_2$.\n",
    "\n",
    "Модель, которая способна строить лишь линейные разделяющие поверхности, не справится с этой задачей, потому что невозможно разделить два класса с помощью прямой, используя данные, *представленные в таком виде*.\n",
    "\n",
    "Если мы *изменим представление данных* для этой модели, и будем подавать ей на вход квадраты центрированных исходных признаков, то мы увидим, что ландшафт данных станет совершенно иным и линейная модель сможет разделить объекты по классам.\n",
    "\n",
    "**Действительно, представления имеют значение.**\n"
   ]
  },
  {
   "cell_type": "markdown",
   "metadata": {},
   "source": [
    "<center>\n",
    "<img src =\"https://edunet.kea.su/repo/EduNet-content/dev-2.1/L12/out/two_circles_representation.png\"  width=\"700\"></center>\n"
   ]
  },
  {
   "cell_type": "markdown",
   "metadata": {},
   "source": [
    "\n",
    "\n",
    "Если мы захотим классифицировать эмоциональную окраску текстов с помощью [наивного байесовского классификатора 📚[wiki]](https://ru.wikipedia.org/wiki/Наивный_байесовский_классификатор), нам нужно найти способ **представить** тексты на входе модели. Если мы воспользуемся представлением текстов в виде \"мешка слов\" ([bag-of-words 📚[wiki]](https://en.wikipedia.org/wiki/Bag-of-words_model)), мы сможем получить приемлемое качество решения этой задачи."
   ]
  },
  {
   "cell_type": "markdown",
   "metadata": {},
   "source": [
    "<center><img src =\"https://edunet.kea.su/repo/EduNet-content/dev-2.1/L12/out/bag_of_words_representation.png\"  width=\"900\"></center>\n",
    "\n",
    "<center><em>В представлении текстов в виде \"мешка слов\" сначала составляется словарь уникальных слов во всем корпусе текстов, а в представлении каждого текста содержится количество появлений того или иного слова из словаря в этом тексте.</em></center>"
   ]
  },
  {
   "cell_type": "markdown",
   "metadata": {},
   "source": [
    "Хотя представление в виде мешка слов и позволяет классифицировать тексты по тематикам или по эмоциональному окрасу, но есть недостаток — оно не учитывает порядок слов и контекстные связи между словами в тексте. Это ограничивает нас в точности решения задач, а такие задачи, как генерация ответов на вопросы или машинный перевод, не смогут решаться на таких ограниченных представлениях.\n",
    "\n",
    "Поэтому для решения более сложных задач мы можем воспользоваться более информативным представлением текста, например, получаемым из языковой модели типа BERT (Bidirectional Encoder **Representations** from Transformers).\n",
    "\n",
    "Большие языковые модели, такие как BERT, обучаются создавать контекстные представления слов, **не используя разметку** под конкретную задачу, а обрабатывая сырые неструктурированные тексты. Напомним, что одна из задач, на которую обучается BERT — предсказание маскированного слова по окружающему контексту — вовсе не требует ручной разметки."
   ]
  },
  {
   "cell_type": "markdown",
   "metadata": {},
   "source": [
    "<img src =\"https://edunet.kea.su/repo/EduNet-content/dev-2.1/L12/out/bert_masked.png\" width=\"1000\">"
   ]
  },
  {
   "cell_type": "markdown",
   "metadata": {},
   "source": [
    "В результате обучения BERT оказывается способен создавать богатые, семантически значимые представления, которые отражают разные значения слов в зависимости от контекста.\n",
    "\n",
    "Наиболее полезным применением таких моделей является то, что после обучения на большом объеме неструктурированного текста мы можем дообучать модель под различные задачи, не имея под рукой большого количества размеченных данных, и будем иметь ощутимый прирост в качестве по сравнению с обучением \"с нуля\".\n",
    "\n",
    "Это особенно важно, поскольку разметка данных — это одно из узких мест в процессе обучения глубоких нейронных сетей."
   ]
  },
  {
   "cell_type": "markdown",
   "metadata": {},
   "source": [
    "Глубокие нейронные сети обладают способностью выучивать подходящие представления для решения различных задач. Комбинируя примитивные представления для создания более сложных и выразительных структур."
   ]
  },
  {
   "cell_type": "markdown",
   "metadata": {},
   "source": [
    "<center><img src=\"https://edunet.kea.su/repo/EduNet-content/dev-2.1/L12/out/neural_network_layers_representations.png\" alt=\"alttext\" width=\"500\"></center>\n",
    "\n",
    "<center><em> Модель компьютерного зрения на разных слоях создает все более сложные представления: от примитивных на начальных слоях до более сложных на последних слоях</em></center>"
   ]
  },
  {
   "cell_type": "markdown",
   "metadata": {},
   "source": [
    "С этой точки зрения **глубокие нейронные сети являются моделями обучения представлений**.\n",
    "\n",
    "Глубокие нейронные сети типично состоят из двух частей:\n",
    "\n",
    "*  **Энкодера** — экстрактора высокоуровных признаков.  Энкодер проецирует входные данные в новое пространство представлений.\n",
    "*  **Финального блока** — который использует высокоуровневые представления, полученные от энкодера, для выполнения конкретной задачи, например классификации.\n"
   ]
  },
  {
   "cell_type": "markdown",
   "metadata": {},
   "source": [
    "Мы уже встречались с моделями обучения представлений. Одним из примеров такого обучения является Transfer learning. Мы используем **обученные представления** на выходе предобученного на большом объеме данных экстрактора признаков, рассчитывая на то, что они будут \"хорошим\" образом представлять наши данные. Используя эти представления как отправную точку, мы можем обучить достаточно простую модель в 1–2 слоя на небольшом количестве размеченных данных и получить лучшее качество, чем если бы мы обучали простую модель на исходных данных."
   ]
  },
  {
   "cell_type": "markdown",
   "metadata": {},
   "source": [
    "<center><img src =\"https://edunet.kea.su/repo/EduNet-content/dev-2.1/L12/out/transfer_learning_change_classes_scheme.png\" width=\"700\"></center>"
   ]
  },
  {
   "cell_type": "markdown",
   "metadata": {},
   "source": [
    "Однако одним из ограничений Transfer learning является то, что данные для предобучения могут сильно отличаться от данных для дообучения, и тогда надежда на удачность предобученных представлений теряется. **Хотелось бы иметь возможность обучать хорошие представления сразу под те данные, которые у нас есть**."
   ]
  },
  {
   "cell_type": "markdown",
   "metadata": {},
   "source": [
    "В отличие от классического обучения под конкретную задачу, обучение представлений в более широком понимании ставит перед собой немного иную **цель — переводить исходные представления в другие, обучаемые представления**, вместо того, чтобы переводить исходные представления в целевые переменные (как это делают модели классификации или регрессии). Обычно задаются также целью делать эти **обучаемые представления достаточно компактными** и способными обобщаться на данные из схожих доменов.\n",
    "\n",
    "Мы бы хотели, чтобы обучаемые представления могли хорошо переноситься на другие задачи и помогали в тех случаях, когда трудно или даже невозможно получить разметку данных."
   ]
  },
  {
   "cell_type": "markdown",
   "metadata": {},
   "source": [
    "## Понижение размерности и гипотеза о многообразии"
   ]
  },
  {
   "cell_type": "markdown",
   "metadata": {},
   "source": [
    "Понижение размерности — задача, близкая к Representation learning.\n",
    "\n",
    "Задача понижения размерности возникает, когда мы хотим данные из пространства высокой размерности преобразовать в пространство более низкой размерности с сохранением одного или нескольких свойств, например:\n",
    "\n",
    "* данные восстанавливаются обратно почти без ошибки,\n",
    "* расстояние между объектами сохраняется.\n",
    "\n",
    "Однако может возникнуть вопрос: почему вообще возможно переводить данные в более компактные представления (а это, по сути, и есть понижение размерности), которые все же будут качественно описывать исходные данные?"
   ]
  },
  {
   "cell_type": "markdown",
   "metadata": {},
   "source": [
    "Многое в глубоком обучении опирается на гипотезу о многообразии ([manifold hypothesis 📚[wiki]](https://en.wikipedia.org/wiki/Manifold_hypothesis)). Это предположение о том, что реальные данные не распределены равномерно по пространству признаков, а занимают лишь его малую часть — **многообразие** (manifold).\n",
    "\n",
    "Если предположение верно, то каждый объект может быть достаточно точно описан новыми признаками в пространстве значительно меньшей размерности, чем исходное пространство признаков."
   ]
  },
  {
   "cell_type": "markdown",
   "metadata": {},
   "source": [
    "<center>\n",
    "<img src=\"https://edunet.kea.su/repo/EduNet-content/dev-2.1/L12/out/manifold_assumption.png\" alt=\"alttext\" width=\"600\"></center>\n",
    "\n"
   ]
  },
  {
   "cell_type": "markdown",
   "metadata": {},
   "source": [
    "В большинстве случаев это действительно так. Например, лица людей на фотографиях 300×300, очевидно, лежат в пространстве меньшей размерности, чем 90&nbsp;000. Ведь не каждая матрица 300×300, заполненная какими-то значениями от 0 до 1, даст нам изображение человека."
   ]
  },
  {
   "cell_type": "markdown",
   "metadata": {},
   "source": [
    "<center>\n",
    "<img src =\"https://edunet.kea.su/repo/EduNet-content/dev-2.1/L12/out/faces_in_space_of_smaller_dimension.png\" width=\"600\"></center>\n"
   ]
  },
  {
   "cell_type": "markdown",
   "metadata": {},
   "source": [
    "[[blog] ✏️ A Few Words on Representation Learning](https://sthalles.github.io/a-few-words-on-representation-learning/)"
   ]
  },
  {
   "cell_type": "markdown",
   "metadata": {},
   "source": [
    "# Metric learning"
   ]
  },
  {
   "cell_type": "markdown",
   "metadata": {},
   "source": [
    "Одной из подобластей Representation learning является Metric learning.\n",
    "\n",
    "Целью Metric learning является обучение модели, которая отображает данные в пространство представлений — **эмбеддингов** (embedding). При этом вводится требование: **расстояние между векторами в пространстве эмбеддингов должно отражать схожесть исходных объектов**, то есть схожие объекты должны отображаться в близкие вектора, а различающиеся — в далекие.\n",
    "\n",
    "Metric learning может применяться в задачах, когда не представляется возможным разбить данные на классы так, чтобы в каждом классе было достаточно много объектов.\n",
    "\n",
    "Рассмотрим, например, задачу распознавания лиц."
   ]
  },
  {
   "cell_type": "markdown",
   "metadata": {},
   "source": [
    "<img src =\"https://edunet.kea.su/repo/EduNet-content/dev-2.1/L12/out/videoanalytics.png\"  width=\"800\">"
   ]
  },
  {
   "cell_type": "markdown",
   "metadata": {},
   "source": [
    "На вход системе подается фото лица человека. Требуется сопоставить его с другим изображением или изображениями, например, хранящимися в базе данных, и таким образом идентифицировать человека на фотографии.\n",
    "\n",
    "На первый взгляд кажется, что это задача классификации."
   ]
  },
  {
   "cell_type": "markdown",
   "metadata": {},
   "source": [
    "<img src =\"https://edunet.kea.su/repo/EduNet-content/dev-2.1/L12/out/classifier_scheme.png\"  width=\"700\">"
   ]
  },
  {
   "cell_type": "markdown",
   "metadata": {},
   "source": [
    "Все изображения одного человека будем считать относящимися к одному классу, и модель будет этот класс предсказывать.\n",
    "\n",
    "Для небольшой организации, в которой всего несколько десятков сотрудников такой подход может сработать.\n",
    "При этом возникнут проблемы:\n",
    "\n",
    "1. Чтобы обучить такую ​​систему, нам сначала потребуется много (десятки) разных изображений каждого сотрудника.\n",
    "\n",
    "2. Когда человек присоединяется к организации или покидает ее, приходится менять структуру модели и обучать ее заново.\n",
    "\n",
    "Это практически невозможно для крупных организаций, где набор и увольнение происходят почти каждую неделю. И в принципе невозможно для города масштаба Москвы или Лондона, в котором миллионы жителей и сотни тысяч приезжих."
   ]
  },
  {
   "cell_type": "markdown",
   "metadata": {},
   "source": [
    "## Формирование векторов признаков"
   ]
  },
  {
   "cell_type": "markdown",
   "metadata": {},
   "source": [
    "Поэтому используется другой подход.\n",
    "Вместо того, чтобы классифицировать изображения, модель учится выделять ключевые признаки и на их основе строить компактный вектор, достаточно точно описывающий лицо.\n",
    "\n",
    "Может возникнуть вопрос: не потеряем ли мы важную информацию, сжав изображение в несколько сотен чисел?\n",
    "\n",
    "Чтобы ответить на него, вспомним, как работает [фоторобот 📚[wiki]](https://en.wikipedia.org/wiki/Facial_composite)."
   ]
  },
  {
   "cell_type": "markdown",
   "metadata": {},
   "source": [
    "<img src =\"https://edunet.kea.su/repo/EduNet-content/dev-2.1/L12/out/photorobot.png\"  width=\"700\">"
   ]
  },
  {
   "cell_type": "markdown",
   "metadata": {},
   "source": [
    "Для получения фотореалистичного изображения лица достаточно нескольких ключевых признаков: глаза, волосы, рот, нос...\n",
    "Каждый из них кодируется максимум несколькими сотнями целочисленных значений.\n",
    "\n",
    "Значит, вектора-признака, скажем, из 128 вещественных чисел будет более чем достаточно.\n",
    "Правда, интерпретировать значения, которые закодирует в него нейросеть, будет не столь просто."
   ]
  },
  {
   "cell_type": "markdown",
   "metadata": {},
   "source": [
    "<img src =\"https://edunet.kea.su/repo/EduNet-content/dev-2.1/L12/out/face_as_embedding.png\"  width=\"500\">"
   ]
  },
  {
   "cell_type": "markdown",
   "metadata": {},
   "source": [
    "В англоязычной литературе такой вектор признаков называется **эмбеддинг**, и мы тоже будем использовать это обозначение.\n",
    "\n",
    "Если нам удастся обучить модель кодировать в эмбеддинг признаки, важные для сравнения, то мы сможем сравнивать векторы между собой в метрическом пространстве."
   ]
  },
  {
   "cell_type": "markdown",
   "metadata": {},
   "source": [
    "<img src =\"https://edunet.kea.su/repo/EduNet-content/dev-2.1/L12/out/face_dist.png\"  width=\"700\">\n",
    "\n",
    "\n"
   ]
  },
  {
   "cell_type": "markdown",
   "metadata": {},
   "source": [
    "Если расстояние между векторами для лиц, которые похожи друг на друга, будут маленькими, а у непохожих, наоборот, большими, то мы сможем экспериментально подобрать порог $d$ и, сравнивая с ним расстояние между двумя векторами, принимать решение: принадлежат ли они одному человеку или нет.\n",
    "\n",
    "*Можно оценивать не расстояние, а схожесть (similarity). В этом случае неравенства поменяют знак, но логика останется прежней*.\n",
    "\n",
    "Теперь, чтобы идентифицировать человека, требуется только одно изображение его лица. Эмбеддинг  этого изображения можно сравнить с эмбеддингами других лиц из БД, используя  [k-NN 📚[wiki]](https://en.wikipedia.org/wiki/K-nearest_neighbors_algorithm) или иной метод кластеризации."
   ]
  },
  {
   "cell_type": "markdown",
   "metadata": {},
   "source": [
    "<img src =\"http://edunet.kea.su/repo/EduNet-content/dev-2.1/L12/out/search_in_embedding_space.jpg\"  width=\"700\">\n"
   ]
  },
  {
   "cell_type": "markdown",
   "metadata": {},
   "source": [
    "Такая модель не учится классифицировать изображение напрямую по какому-либо из выходных классов. Она учится выделять признаки, важные при сравнении.\n",
    "\n",
    "Такой подход решает обе проблемы, о которых мы говорили выше:\n",
    "- для обучения такой сети нам не требуется много экземпляров объектов одного класса, а   достаточно лишь нескольких,\n",
    "- простота обучения в случае появления новых объектов."
   ]
  },
  {
   "cell_type": "markdown",
   "metadata": {},
   "source": [
    "## Сиамская сеть"
   ]
  },
  {
   "cell_type": "markdown",
   "metadata": {},
   "source": [
    "Какая архитектура должна быть у модели, генерирующей векторы признаков?\n",
    "\n",
    "Можно было бы использовать обычную сеть, обученную для задачи классификации, и затем удалить из нее один или несколько последних слоёв."
   ]
  },
  {
   "cell_type": "markdown",
   "metadata": {},
   "source": [
    "<img src =\"https://edunet.kea.su/repo/EduNet-content/dev-2.1/L12/out/embedding_from_classifier.png\"  width=\"800\">"
   ]
  },
  {
   "cell_type": "markdown",
   "metadata": {},
   "source": [
    "Активации последнего слоя представляют собой отклики на некие высокоуровневые признаки, потенциально важные для классификации, и их можно интерпретировать как эмбеддинг."
   ]
  },
  {
   "cell_type": "code",
   "execution_count": null,
   "metadata": {},
   "outputs": [],
   "source": [
    "import torch\n",
    "from torchvision.models import alexnet\n",
    "\n",
    "\n",
    "face1 = torch.randn((3, 224, 224))\n",
    "face2 = torch.randn((3, 224, 224))\n",
    "\n",
    "model = alexnet(weights=\"AlexNet_Weights.DEFAULT\")\n",
    "# remove classification layer\n",
    "model.fc = model.classifier[6] = torch.nn.Identity()\n",
    "\n",
    "# get embeddings\n",
    "embedding1 = model(face1.unsqueeze(0))\n",
    "embedding2 = model(face2.unsqueeze(0))\n",
    "\n",
    "diff = torch.nn.functional.pairwise_distance(embedding1, embedding2)\n",
    "print(\"L2 distance: \", diff.item())"
   ]
  },
  {
   "cell_type": "markdown",
   "metadata": {},
   "source": [
    "Такой подход будет работать.\n",
    "Однако можно заметно улучшить точность, используя функцию потерь, которая оценивает качество именно сравнения, а не классификации.\n",
    "\n",
    "Рассмотрим подход, основанный на методологии, описанной в статье [Siamese Neural Networks for One-shot Image Recognition (Koch et al., 2015) 🎓[arxiv]](https://www.cs.cmu.edu/~rsalakhu/papers/oneshot1.pdf)."
   ]
  },
  {
   "cell_type": "markdown",
   "metadata": {},
   "source": [
    "<center><img src =\"https://edunet.kea.su/repo/EduNet-content/dev-2.1/L12/out/siamese_neural_network_scheme.png\" width=\"800\"></center>"
   ]
  },
  {
   "cell_type": "markdown",
   "metadata": {},
   "source": [
    "Два входных изображения ($x_1$ и $x_2$) проходят через одну и ту же сверточную сеть, на выходе для каждого изображения генерируется вектор признаков фиксированной длины ($h_1$ и $h_2$ соответственно).\n",
    "\n",
    "Модель обучается генерировать близкие вектора для изображений одной персоны и далекие для разных.\n",
    "\n",
    "Оценивая расстояние между двумя векторами признаков,\n",
    "которое будет малым для схожих объектов и большим для различных, мы сможем оценить их сходство. Это центральная идея сиамских сетей."
   ]
  },
  {
   "cell_type": "markdown",
   "metadata": {},
   "source": [
    "Исторически одной из первых функций потерь для сиамких сетей была  Contrastive Loss, о ней подробнее в статье [Dimensionality Reduction by Learning an Invariant Mapping (Hadsell et al., 2005) 🎓[arxiv]](https://www.researchgate.net/publication/4246277_Dimensionality_Reduction_by_Learning_an_Invariant_Mapping)\n"
   ]
  },
  {
   "cell_type": "markdown",
   "metadata": {},
   "source": [
    "В PyTorch есть реализация\n",
    "[CosineEmbeddingLoss 🛠️[doc]](https://pytorch.org/docs/stable/generated/torch.nn.CosineEmbeddingLoss.html), она позволяет обучать модель на парах изображений, оптимизируя [косинусное расстояние 📚[wiki]](https://en.wikipedia.org/wiki/Cosine_similarity) между эмбеддингами."
   ]
  },
  {
   "cell_type": "markdown",
   "metadata": {},
   "source": [
    "$$\\large\n",
    "\\begin{align}\n",
    "\\text{Cosine Embedding Loss}\\ (x_1, x_2, y) = \\left\\{\n",
    "\\begin{array}{cl}\n",
    "1 - \\text{cos}(x_1, x_2), & \\text{if} \\ \\ y = 1 \\\\\n",
    "\\text{max}(0, \\text{cos}(x_1, x_2) - \\text{margin}), & \\text{if} \\ \\ y = -1\n",
    "\\end{array}\n",
    "\\right.\n",
    "\\end{align}$$\n",
    "\n",
    "Здесь $\\large x_1$ и $\\large x_2$ — эмбеддинги пары изображений, а $\\large y$ — метка данной пары, равная $\\large 1$, если в паре два изображения одного человека и $\\large -1$, если разных.\n",
    "\n",
    "\n"
   ]
  },
  {
   "cell_type": "markdown",
   "metadata": {},
   "source": [
    "### Triplet Loss"
   ]
  },
  {
   "cell_type": "markdown",
   "metadata": {},
   "source": [
    "Популярной на сегодняшний день является  Triplet loss, которой требуется три эмбеддинга вместо двух."
   ]
  },
  {
   "cell_type": "markdown",
   "metadata": {},
   "source": [
    "<img src =\"https://edunet.kea.su/repo/EduNet-content/dev-2.1/L12/out/triplet_loss_scheme.png\"  width=\"700\">"
   ]
  },
  {
   "cell_type": "markdown",
   "metadata": {},
   "source": [
    "Чтобы сгенерировать три эмбеддинга, модель должна получить на вход три изображения.\n",
    "\n",
    "Первые два должны относиться к одному и тому же объекту (человеку), а третье — к другому.\n",
    "\n",
    "Таким образом, триплет состоит из опорного (якорного, anchor), положительного (positive) и отрицательного (negative) образцов.\n",
    "\n",
    "[[arxiv] 🎓 FaceNet: A Unified Embedding for Face Recognition and Clustering](https://arxiv.org/abs/1503.03832)."
   ]
  },
  {
   "cell_type": "markdown",
   "metadata": {},
   "source": [
    "Сама функция потерь будет выглядеть следующим образом:\n",
    "\n",
    "$$\\large \\text{Triplet Loss} (a, p, n) = \\text{max}\\{0, \\ \\ d(a, p) - d(a, n) + \\text{margin}\\}$$\n",
    "\n",
    "Где:\n",
    "\n",
    "\n",
    "$\\large a$ — эмбеддинг опорного объекта,\n",
    "\n",
    "$\\large p$ — эмбеддинг положительного объекта,\n",
    "\n",
    "$\\large n$ — эмбеддинг отрицательного объекта,\n",
    "\n",
    "$\\large d(x, y) = ||x - y||_p$ — функция расстояния между эмбеддингами ($L_p$—норма),\n",
    "\n",
    "$\\large \\text{margin}$ — это константа или минимальный \"зазор\", на который расстояние до эмбеддинга отрицательного объекта обязано превосходить расстояние до эмбеддинга положительного объекта (идея такая же, как в SVM Loss).\n"
   ]
  },
  {
   "cell_type": "markdown",
   "metadata": {},
   "source": [
    "<center><img src =\"https://edunet.kea.su/repo/EduNet-content/dev-2.1/L12/out/triplet_loss_idea_scheme.png\" width=\"900\"></center>\n",
    "\n"
   ]
  },
  {
   "cell_type": "markdown",
   "metadata": {},
   "source": [
    "В ходе обучения с  Triplet Loss расстояние между эмбеддингами опорного и позитивного объектов уменьшается, а между эмбеддингами опорного и отрицательного — увеличивается.\n",
    "\n",
    "Важным дополнением является то, что эмбеддинги нормируются. В результате нормировки каждый вектор признаков будет иметь единичную длину."
   ]
  },
  {
   "cell_type": "markdown",
   "metadata": {},
   "source": [
    "<img src =\"https://edunet.kea.su/repo/EduNet-content/dev-2.1/L12/out/sphere_distance.png\"  width=\"300\">\n",
    "\n",
    "\n"
   ]
  },
  {
   "cell_type": "markdown",
   "metadata": {},
   "source": [
    "Теперь мы можем рассматривать эмбеддинги как точки на $n$-мерной сфере с радиусом $1$.\n",
    "\n",
    "Это удобно, так как все расстояния между ними будут лежать на отрезке $[0; 2]$, и нам будет проще подобрать порог для сравнения.\n",
    "\n",
    "Кроме того, можно использовать другие меры расстояния, например, [косинусное расстояние 📚[wiki]](https://en.wikipedia.org/wiki/Cosine_similarity), которое определяется углом между векторами, лежит на отрезке $[-1; 1]$ и соответствует расстоянию между точками на поверхности сферы."
   ]
  },
  {
   "cell_type": "markdown",
   "metadata": {},
   "source": [
    "В PyTorch есть две реализации Triplet Loss.\n",
    "\n",
    "[[doc] 🛠️](https://pytorch.org/docs/stable/generated/torch.nn.TripletMarginLoss.html) `TripletMarginLoss` — минимизирует $L_p$ норму."
   ]
  },
  {
   "cell_type": "code",
   "execution_count": null,
   "metadata": {},
   "outputs": [],
   "source": [
    "from torch import nn\n",
    "\n",
    "triplet_loss = nn.TripletMarginLoss(margin=1.0, p=2)\n",
    "anchor = torch.randn(100, 128, requires_grad=True)\n",
    "positive = torch.randn(100, 128, requires_grad=True)\n",
    "negative = torch.randn(100, 128, requires_grad=True)\n",
    "\n",
    "loss = triplet_loss(anchor, positive, negative)\n",
    "print(loss)"
   ]
  },
  {
   "cell_type": "markdown",
   "metadata": {},
   "source": [
    "[[doc] 🛠️](https://pytorch.org/docs/stable/generated/torch.nn.TripletMarginWithDistanceLoss.html#torch.nn.TripletMarginWithDistanceLoss) `TripletMarginWithDistanceLoss` — позволяет задать произвольную функцию расстояния через аргумент `distance_function`."
   ]
  },
  {
   "cell_type": "code",
   "execution_count": null,
   "metadata": {},
   "outputs": [],
   "source": [
    "import torch.nn.functional as F\n",
    "\n",
    "triplet_loss = nn.TripletMarginWithDistanceLoss(\n",
    "    margin=1.0, distance_function=lambda x, y: 1.0 - F.cosine_similarity(x, y)\n",
    ")\n",
    "loss = triplet_loss(anchor, positive, negative)\n",
    "print(loss)"
   ]
  },
  {
   "cell_type": "markdown",
   "metadata": {},
   "source": [
    "## Реализация сиамской сети\n"
   ]
  },
  {
   "cell_type": "markdown",
   "metadata": {},
   "source": [
    "### Загрузка данных"
   ]
  },
  {
   "cell_type": "markdown",
   "metadata": {},
   "source": [
    "Загрузим небольшой фрагмент датасета с лицами. Внутри архива фото лиц сгруппированы по папкам:\n",
    "\n",
    "```\n",
    "faces/\n",
    "├── training/\n",
    "|   ├── s1/\n",
    "|   |   ├── 1.pgm\n",
    "|   |   ├ ...\n",
    "|   |   └── 10.pgm\n",
    "|   ├ ... (excluding 5...7)\n",
    "|   └── s40/\n",
    "|       ├── 1.pgm\n",
    "|       ├ ...\n",
    "|       └── 10.pgm\n",
    "└── testing/\n",
    "    ├── s5/\n",
    "    |   ├── 1.pgm\n",
    "    |   ├ ...\n",
    "    |   └── 10.pgm\n",
    "    ├ ...\n",
    "    └── s7/\n",
    "        ├── 1.pgm\n",
    "        ├ ...\n",
    "        └── 10.pgm\n",
    "\n",
    "```\n",
    "\n",
    "\n",
    "В каждой папке по 10 фото лица одного и того же человека."
   ]
  },
  {
   "cell_type": "code",
   "execution_count": null,
   "metadata": {},
   "outputs": [],
   "source": [
    "!pip install -q lightning\n",
    "!wget -qN https://edunet.kea.su/repo/EduNet-web_dependencies/datasets/small_face_dataset.zip\n",
    "!unzip -qn small_face_dataset.zip"
   ]
  },
  {
   "cell_type": "markdown",
   "metadata": {},
   "source": [
    "Чтобы результаты воспроизводились, зафиксируем случайные состояния."
   ]
  },
  {
   "cell_type": "code",
   "execution_count": null,
   "metadata": {},
   "outputs": [],
   "source": [
    "import torch\n",
    "import random\n",
    "import numpy as np\n",
    "import lightning as L\n",
    "\n",
    "\n",
    "def set_random_seed(seed):\n",
    "    torch.manual_seed(seed)\n",
    "    torch.cuda.manual_seed(seed)\n",
    "    torch.backends.cudnn.deterministic = True\n",
    "    torch.backends.cudnn.benchmark = False\n",
    "    np.random.seed(seed)\n",
    "    random.seed(seed)\n",
    "\n",
    "\n",
    "set_random_seed(42)\n",
    "L.seed_everything(42)"
   ]
  },
  {
   "cell_type": "markdown",
   "metadata": {},
   "source": [
    "### Датасет для работы с Triplet Loss"
   ]
  },
  {
   "cell_type": "markdown",
   "metadata": {},
   "source": [
    "Для Triplet Loss потребуются три изображения: anchor, positive, negative, и метод `__getitem__` должен возвращать их нам. Первые два должны принадлежать одному человеку, а третье — другому.\n",
    "\n"
   ]
  },
  {
   "cell_type": "code",
   "execution_count": null,
   "metadata": {},
   "outputs": [],
   "source": [
    "from glob import glob\n",
    "from PIL import Image\n",
    "from torch.utils.data import Dataset\n",
    "\n",
    "\n",
    "class SiameseNetworkDataset(Dataset):\n",
    "    def __init__(self, dir, transform=None):\n",
    "        self.dir = dir\n",
    "        self.transform = transform\n",
    "        # list of paths to all images in self.dir\n",
    "        self.files = glob(f\"{self.dir}/**/*.pgm\", recursive=True)\n",
    "        self.person_index = self.build_index()\n",
    "\n",
    "    def build_index(self):\n",
    "        \"\"\"\n",
    "        Creates a dictionary \"person_index\" with such structure:\n",
    "        {'s1': ['faces/training/s1/1.pgm', ..., 'faces/training/s1/10.pgm'],\n",
    "         's2': ...}\n",
    "\n",
    "        keys   — IDs of persons ('s1', 's2', ...)\n",
    "        values — lists of paths to person's images\n",
    "        \"\"\"\n",
    "\n",
    "        person_index = {}\n",
    "        for path in self.files:\n",
    "            id = self.path2id(path)\n",
    "            if id not in person_index:\n",
    "                person_index[id] = []\n",
    "            person_index[id].append(path)\n",
    "        return person_index\n",
    "\n",
    "    def path2id(self, path):\n",
    "        \"\"\"\n",
    "        Takes full path, for example 'faces/training/s1/1.pgm'\n",
    "        and extracts ID from it, for example 's1'\n",
    "        \"\"\"\n",
    "\n",
    "        return path.replace(self.dir, \"\").split(\"/\")[0]\n",
    "\n",
    "    def __getitem__(self, index):\n",
    "        anchor_path = self.files[index]\n",
    "        # given anchor path we need to find positive and negative examples\n",
    "        positive_path = self.find_positive(anchor_path)\n",
    "        negative_path = self.find_negative(anchor_path)\n",
    "\n",
    "        # Loading the images\n",
    "        anchor = Image.open(anchor_path)\n",
    "        positive = Image.open(positive_path)\n",
    "        negative = Image.open(negative_path)\n",
    "\n",
    "        if self.transform is not None:  # Apply image transformations\n",
    "            anchor = self.transform(anchor)\n",
    "            positive = self.transform(positive)\n",
    "            negative = self.transform(negative)\n",
    "\n",
    "        return anchor, positive, negative\n",
    "\n",
    "    def find_positive(self, anchor_path):\n",
    "        \"\"\"\n",
    "        Given an anchor_path this function:\n",
    "        1) extracts person's ID from anchor_path\n",
    "        2) returns path to random image of THIS person, excepting anchor\n",
    "        \"\"\"\n",
    "\n",
    "        id = self.path2id(anchor_path)\n",
    "        all_exept_my = self.person_index[id].copy()\n",
    "        all_exept_my.remove(anchor_path)\n",
    "        positive_path = random.choice(all_exept_my)\n",
    "        return positive_path\n",
    "\n",
    "    def find_negative(self, anchor_path):\n",
    "        \"\"\"\n",
    "        Given an anchor_path this function:\n",
    "        1) extracts person's ID from anchor_path\n",
    "        2) returns path to random image of randomly selected ANOTHER person\n",
    "        \"\"\"\n",
    "\n",
    "        id = self.path2id(anchor_path)\n",
    "        all_exept_my_ids = list(self.person_index.keys())\n",
    "        all_exept_my_ids.remove(id)\n",
    "        selected_id = random.choice(all_exept_my_ids)\n",
    "        negative_path = random.choice(self.person_index[selected_id])\n",
    "        return negative_path\n",
    "\n",
    "    def __len__(self):\n",
    "        return len(self.files)"
   ]
  },
  {
   "cell_type": "markdown",
   "metadata": {},
   "source": [
    "Загрузчики данных не отличаются от загрузчиков для обычной сети.\n",
    "\n",
    "Добавим к обучающим данным аугментацию в виде случайного отражения по вертикали."
   ]
  },
  {
   "cell_type": "code",
   "execution_count": null,
   "metadata": {},
   "outputs": [],
   "source": [
    "import torchvision\n",
    "import torchvision.transforms as transforms\n",
    "from torch.utils.data import DataLoader\n",
    "\n",
    "\n",
    "# Apply augmentations on train data\n",
    "transforms_train = transforms.Compose(\n",
    "    [\n",
    "        transforms.Resize((105, 105)),\n",
    "        transforms.RandomHorizontalFlip(),\n",
    "        transforms.ToTensor(),\n",
    "    ]\n",
    ")\n",
    "\n",
    "transforms_test = transforms.Compose(\n",
    "    [transforms.Resize((105, 105)), transforms.ToTensor()]\n",
    ")\n",
    "\n",
    "train_dataset = SiameseNetworkDataset(\"faces/training/\", transform=transforms_train)\n",
    "test_dataset = SiameseNetworkDataset(\"faces/testing/\", transform=transforms_test)\n",
    "\n",
    "train_loader = DataLoader(train_dataset, batch_size=256, shuffle=True, num_workers=2)\n",
    "test_loader = DataLoader(test_dataset, batch_size=1, shuffle=False, num_workers=1)"
   ]
  },
  {
   "cell_type": "markdown",
   "metadata": {},
   "source": [
    "Выведем несколько изображений, чтобы убедиться, что класс датасета функционирует должным образом."
   ]
  },
  {
   "cell_type": "code",
   "execution_count": null,
   "metadata": {},
   "outputs": [],
   "source": [
    "import matplotlib.pyplot as plt\n",
    "from warnings import simplefilter\n",
    "\n",
    "simplefilter(\"ignore\", category=RuntimeWarning)\n",
    "\n",
    "anchor, positive, negative = next(iter(train_loader))\n",
    "\n",
    "# 8 - number of samples to visualise\n",
    "anchor, positive, negative = anchor[:8], positive[:8], negative[:8]\n",
    "\n",
    "# Show batch contents\n",
    "concatenated = torch.cat((anchor, positive, negative), 0)\n",
    "grid = torchvision.utils.make_grid(concatenated)\n",
    "\n",
    "plt.axis(\"off\")\n",
    "plt.imshow(grid.permute(1, 2, 0).numpy())\n",
    "plt.gcf().set_size_inches(20, 60)\n",
    "plt.show()"
   ]
  },
  {
   "cell_type": "markdown",
   "metadata": {},
   "source": [
    "В каждом столбце тройка изображений. Первое и второе принадлежат одному человеку, третье — другому."
   ]
  },
  {
   "cell_type": "markdown",
   "metadata": {},
   "source": [
    "### Создание модели"
   ]
  },
  {
   "cell_type": "markdown",
   "metadata": {},
   "source": [
    "Нас устроит любая модель для работы с изображениями. Например, ResNet18.\n",
    "\n",
    "Все, что от нас требуется, это:\n",
    "- заменить последний слой,\n",
    "- отправлять на анализ три изображения вместо одного. Соответственно, на выходе тоже будут три эмбеддинга.\n",
    "\n",
    "Пожалуй, единственный вопрос — это размерность последнего слоя. В промышленных системах распознавания лиц, которые тренируются на датасетах из миллионов изображений, используются эмбеддинги размерностью от 128 до 512.\n",
    "\n",
    "Для демонстрационной задачи нам должно хватить 32 значения. Количество выходов последнего линейного слоя установим равным 32."
   ]
  },
  {
   "cell_type": "code",
   "execution_count": null,
   "metadata": {},
   "outputs": [],
   "source": [
    "!pip install -q timm"
   ]
  },
  {
   "cell_type": "code",
   "execution_count": null,
   "metadata": {},
   "outputs": [],
   "source": [
    "import timm\n",
    "\n",
    "\n",
    "class SiameseNet(nn.Module):\n",
    "    def __init__(self, embedding_dim=32):\n",
    "        super().__init__()\n",
    "        # Replace ImageNet 1000 class classifier to linear layer with embedding_dim outputs\n",
    "        self.model = timm.create_model(\n",
    "            \"resnet18.a1_in1k\", num_classes=embedding_dim, pretrained=False\n",
    "        )\n",
    "\n",
    "        # Because we use grayscale images reduce input channel count to one\n",
    "        # and reduce kernel_size to process images smaller than ImageNet\n",
    "        self.model.conv1 = nn.Conv2d(\n",
    "            1, 64, kernel_size=(3, 3), stride=(2, 2), padding=(1, 1), bias=False\n",
    "        )\n",
    "\n",
    "    def forward(self, anchor, positive, negative):\n",
    "        output_a = torch.nn.functional.normalize(self.model(anchor))\n",
    "        output_p = torch.nn.functional.normalize(self.model(positive))\n",
    "        output_n = torch.nn.functional.normalize(self.model(negative))\n",
    "\n",
    "        return output_a, output_p, output_n"
   ]
  },
  {
   "cell_type": "markdown",
   "metadata": {},
   "source": [
    "### Обучение"
   ]
  },
  {
   "cell_type": "markdown",
   "metadata": {},
   "source": [
    "Отличие от  сетей для классификации в том, что у модели 3 выхода, и все их надо передать в функцию потерь. При этом нет меток в явном виде.\n",
    "Определить, какой эмбеддинг относится к позитивному образцу, а какой — к негативному, можно только порядком их следования.\n",
    "\n",
    "В качестве функции расстояния в Triplet Loss возьмем косинусное расстояние (величина, обратная к косинусной близости)."
   ]
  },
  {
   "cell_type": "code",
   "execution_count": null,
   "metadata": {},
   "outputs": [],
   "source": [
    "class LitSiamese(L.LightningModule):\n",
    "    def __init__(self, model):\n",
    "        super().__init__()\n",
    "        self.model = model\n",
    "\n",
    "        self.criterion = nn.TripletMarginWithDistanceLoss(\n",
    "            margin=1.0, distance_function=lambda x, y: 1.0 - F.cosine_similarity(x, y)\n",
    "        )\n",
    "\n",
    "    def configure_optimizers(self):\n",
    "        return torch.optim.Adam(self.parameters(), lr=1e-3)\n",
    "\n",
    "    def training_step(self, batch, batch_idx):\n",
    "        anc, pos, neg = batch\n",
    "\n",
    "        output_a, output_p, output_n = self.model(anc, pos, neg)\n",
    "        loss = self.criterion(output_a, output_p, output_n)\n",
    "\n",
    "        self.log(\"train_loss\", loss)\n",
    "\n",
    "        return loss\n",
    "\n",
    "    def forward(self, anchor, positive, negative):\n",
    "        return self.model(anchor, positive, negative)"
   ]
  },
  {
   "cell_type": "markdown",
   "metadata": {},
   "source": [
    "Обучим модель."
   ]
  },
  {
   "cell_type": "code",
   "execution_count": null,
   "metadata": {},
   "outputs": [],
   "source": [
    "!mkdir lightning_logs\n",
    "!mkdir lightning_logs/SiameseNetwork"
   ]
  },
  {
   "cell_type": "code",
   "execution_count": null,
   "metadata": {},
   "outputs": [],
   "source": [
    "from lightning.pytorch.loggers import TensorBoardLogger\n",
    "\n",
    "L.seed_everything(42)\n",
    "\n",
    "embedding_dim = 32\n",
    "model = LitSiamese(SiameseNet(embedding_dim))\n",
    "\n",
    "logger = TensorBoardLogger(save_dir=\"lightning_logs\", name=\"SiameseNetwork\")\n",
    "trainer = L.Trainer(max_epochs=20, logger=logger, log_every_n_steps=1)\n",
    "\n",
    "trainer.fit(model, train_loader)"
   ]
  },
  {
   "cell_type": "markdown",
   "metadata": {},
   "source": [
    "### Проверка"
   ]
  },
  {
   "cell_type": "markdown",
   "metadata": {},
   "source": [
    "Для начала выведем тройки изображений из проверочного датасета и посмотрим на косинусную близость (схожесть) для позитивных и негативных пар. Если модель обучилась, схожесть для позитивных пар будет больше, чем для негативных."
   ]
  },
  {
   "cell_type": "code",
   "execution_count": null,
   "metadata": {},
   "outputs": [],
   "source": [
    "# Helper method for visualization\n",
    "def show(img, text=None):\n",
    "    img_np = img.cpu().numpy()\n",
    "    plt.axis(\"off\")\n",
    "    plt.text(75, 120, text, fontweight=\"bold\")\n",
    "    plt.imshow(np.transpose(img_np, (1, 2, 0)))  # [CxHxW] -> [HxWxC] for imshow\n",
    "    plt.show()\n",
    "\n",
    "\n",
    "def plot_imgs(model, test_loader):\n",
    "    similarity_pos = []\n",
    "    similarity_neg = []\n",
    "    model.eval()\n",
    "    with torch.no_grad():\n",
    "        for i, batch in enumerate(test_loader):\n",
    "            anc, pos, neg = batch\n",
    "            output_a, output_p, output_n = model(anc, pos, neg)\n",
    "\n",
    "            # compute Cosine Similarity\n",
    "            sim_pos = F.cosine_similarity(output_a, output_p).item()\n",
    "            sim_neg = F.cosine_similarity(output_a, output_n).item()\n",
    "\n",
    "            similarity_pos.append(sim_pos)\n",
    "            similarity_neg.append(sim_neg)\n",
    "\n",
    "            if not i % 5:\n",
    "                concatenated = torch.cat((anc, pos, neg))\n",
    "                result = \"OK\" if sim_neg < sim_pos else \"BAD\"\n",
    "                show(\n",
    "                    torchvision.utils.make_grid(concatenated),\n",
    "                    f\"Positive / negative similarities: {sim_pos:.3f} / {sim_neg:.3f} - {result}\",\n",
    "                )\n",
    "\n",
    "    return similarity_pos, similarity_neg\n",
    "\n",
    "\n",
    "set_random_seed(42)\n",
    "similarity_pos, similarity_neg = plot_imgs(model, test_loader)"
   ]
  },
  {
   "cell_type": "markdown",
   "metadata": {},
   "source": [
    "Но такая оценка субъективна. Давайте посмотрим на распределение схожестей по категориям:"
   ]
  },
  {
   "cell_type": "code",
   "execution_count": null,
   "metadata": {},
   "outputs": [],
   "source": [
    "import seaborn as sns\n",
    "\n",
    "similarities = {\"The same person\": similarity_pos, \"Another person\": similarity_neg}\n",
    "\n",
    "ax = sns.histplot(similarities, bins=20)\n",
    "ax.set(xlabel=\"Pairwise similarity\")\n",
    "plt.show()"
   ]
  },
  {
   "cell_type": "markdown",
   "metadata": {},
   "source": [
    "Видно, что схожесть между двумя фотографиями одного и того же человека в среднем больше, чем схожесть между фотографиями разных людей.\n",
    "\n",
    "Если бы мы проектировали систему распознавания лиц, нужно было бы выбрать порог, чтобы сравнивать с ним схожесть и принимать решение о том, верифицировать фото как подлинное или нет.\n",
    "\n",
    "Соответственно, для нашего игрушечного датасета такой порог следует выбрать $≈0.25$. При этом мы будем иметь малое количество ошибок первого и второго рода."
   ]
  },
  {
   "cell_type": "markdown",
   "metadata": {},
   "source": [
    "<font size = \"5\">Заключение по Mertric learning</font>\n",
    "\n",
    "В случае, когда у нас не только мало данных, но еще и очень большое (возможно, неизвестное) число классов, можно воспользоваться подходом Metric learning. В этом случае нейронная сеть обучается не классифицировать объекты, а отображать их в пространство признаков — эмбеддингов. При этом абстрактная схожесть исходных объектов должна отражаться в метрической близости эмбеддингов. Для этого используются нейронные сети, относящиеся к классу сиамских нейронных сетей."
   ]
  },
  {
   "cell_type": "markdown",
   "metadata": {},
   "source": [
    "## CLIP\n",
    "\n",
    "Contrastive Language-Image Pre-training"
   ]
  },
  {
   "cell_type": "markdown",
   "metadata": {},
   "source": [
    "<center><img src =\"https://edunet.kea.su/repo/EduNet-web_dependencies/dev-2.1/L08/clip_idea.png\"  width=\"700\"></center>\n",
    "\n",
    "<center><em>Source: <a href=\"https://arxiv.org/abs/2103.00020\">Learning Transferable Visual Models From Natural Language Supervision</a></em></center>"
   ]
  },
  {
   "cell_type": "markdown",
   "metadata": {},
   "source": [
    "Для обучения модели был создан новый датасет, включающий 400M пар изображение–текст."
   ]
  },
  {
   "cell_type": "markdown",
   "metadata": {},
   "source": [
    "<center><img src =\"https://edunet.kea.su/repo/EduNet-web_dependencies/dev-2.1/L08/clip_classifier.png\"  width=\"700\"></center>\n",
    "\n",
    "<center><em>Source: <a href=\"https://arxiv.org/abs/2103.00020\">Learning Transferable Visual Models From Natural Language Supervision</a></em></center>"
   ]
  },
  {
   "cell_type": "markdown",
   "metadata": {},
   "source": [
    "Для использования в качестве классификатора достаточно создать текстовый эмбеддинг для слова, описывающего каждый класс, а затем сравнить его с эмбеддингом изображения."
   ]
  },
  {
   "cell_type": "markdown",
   "metadata": {},
   "source": [
    "<center><img src =\"https://edunet.kea.su/repo/EduNet-web_dependencies/dev-2.1/L08/clip_performance.png\" width=\"700\"></center>\n",
    "\n",
    "<center><em>Source: <a href=\"https://arxiv.org/abs/2103.00020\">Learning Transferable Visual Models From Natural Language Supervision</a></em></center>"
   ]
  },
  {
   "cell_type": "markdown",
   "metadata": {},
   "source": [
    "Точность классификации не дотягивает до SOTA supervised моделей, но зато работает без дообучения на различных датасетах."
   ]
  },
  {
   "cell_type": "markdown",
   "metadata": {},
   "source": [
    "### Как использовать"
   ]
  },
  {
   "cell_type": "markdown",
   "metadata": {},
   "source": [
    "Установка:"
   ]
  },
  {
   "cell_type": "code",
   "execution_count": null,
   "metadata": {},
   "outputs": [],
   "source": [
    "!pip install -q git+https://github.com/openai/CLIP.git"
   ]
  },
  {
   "cell_type": "code",
   "execution_count": null,
   "metadata": {},
   "outputs": [],
   "source": [
    "img, class_num = microImgNet[200]\n",
    "show(img, microImgNet.labels[200][1], 0)"
   ]
  },
  {
   "cell_type": "markdown",
   "metadata": {},
   "source": [
    "На вход CLIP надо подать список текстов, на выходе получим оценку того, какой из них больше всего подходит к изображению."
   ]
  },
  {
   "cell_type": "code",
   "execution_count": null,
   "metadata": {},
   "outputs": [],
   "source": [
    "texts = [\n",
    "    \"A man with a gasoline saw is getting firewood\",\n",
    "    \"Santa Claus sleigh\",\n",
    "    \"chain saw\",\n",
    "    \"cat\",\n",
    "    \"dog\",\n",
    "]"
   ]
  },
  {
   "cell_type": "markdown",
   "metadata": {},
   "source": [
    "Можно использовать разные backbone:"
   ]
  },
  {
   "cell_type": "code",
   "execution_count": null,
   "metadata": {},
   "outputs": [],
   "source": [
    "import clip\n",
    "\n",
    "print(clip.available_models())"
   ]
  },
  {
   "cell_type": "markdown",
   "metadata": {},
   "source": [
    "Создаем экземпляр модели:"
   ]
  },
  {
   "cell_type": "code",
   "execution_count": null,
   "metadata": {},
   "outputs": [],
   "source": [
    "model, preprocess = clip.load(\"ViT-B/32\", device=\"cpu\")"
   ]
  },
  {
   "cell_type": "markdown",
   "metadata": {},
   "source": [
    "Дополнительно получили объект `preprocess` с необходимыми трансформациями. Подготовим с их помощью изображение и токенизируем текст:\n",
    "\n"
   ]
  },
  {
   "cell_type": "code",
   "execution_count": null,
   "metadata": {},
   "outputs": [],
   "source": [
    "image = preprocess(img).unsqueeze(0)\n",
    "text = clip.tokenize(texts)"
   ]
  },
  {
   "cell_type": "markdown",
   "metadata": {},
   "source": [
    "Теперь можно запускать:"
   ]
  },
  {
   "cell_type": "code",
   "execution_count": null,
   "metadata": {},
   "outputs": [],
   "source": [
    "with torch.no_grad():\n",
    "    logits_per_image, _ = model(image, text)\n",
    "    probs = logits_per_image.softmax(dim=-1).numpy()\n",
    "\n",
    "print(probs)\n",
    "\n",
    "plt.figure(figsize=(6, 3))\n",
    "plt.bar(range(len(texts)), probs.flatten())\n",
    "plt.show()"
   ]
  },
  {
   "cell_type": "markdown",
   "metadata": {},
   "source": [
    "### Получение embedding"
   ]
  },
  {
   "cell_type": "markdown",
   "metadata": {},
   "source": [
    "Вот так можно извлечь признаки для картинки и для текста:"
   ]
  },
  {
   "cell_type": "code",
   "execution_count": null,
   "metadata": {},
   "outputs": [],
   "source": [
    "image_features = model.encode_image(image).detach().cpu()\n",
    "text_features = model.encode_text(text).detach().cpu()\n",
    "print(\"Image\", image_features.shape)\n",
    "print(\"Text\", text_features.shape)"
   ]
  },
  {
   "cell_type": "markdown",
   "metadata": {},
   "source": [
    "Чтобы сравнить вектора признаков изображений и текстов, нам нужна какая-то метрика расстояния между ними. Удобно использовать [косинусное расстояние 📚[wiki]](https://en.wikipedia.org/wiki/Cosine_similarity):\n",
    "\n",
    "$ \\large \\text{cosine_similarity} = \\cos(\\theta) = \\dfrac{a \\cdot b  }{|a||b|} $\n",
    "\n",
    "Если вектора имеют единичную длину, то косинус угла между ними равен скалярному произведению :\n",
    "\n",
    "$\\large \\text{cosine_similarity} = a \\cdot b $"
   ]
  },
  {
   "cell_type": "markdown",
   "metadata": {},
   "source": [
    "Эмбеддинги на выходе CLIP не нормализованы:"
   ]
  },
  {
   "cell_type": "code",
   "execution_count": null,
   "metadata": {},
   "outputs": [],
   "source": [
    "print(np.linalg.norm(image_features[0]))"
   ]
  },
  {
   "cell_type": "markdown",
   "metadata": {},
   "source": [
    "Нормализуем их:"
   ]
  },
  {
   "cell_type": "code",
   "execution_count": null,
   "metadata": {},
   "outputs": [],
   "source": [
    "from torch.nn.functional import normalize\n",
    "\n",
    "image_features = normalize(image_features)\n",
    "text_features = normalize(text_features)\n",
    "\n",
    "print(np.linalg.norm(image_features[0].cpu()))\n",
    "print(np.linalg.norm(text_features.cpu(), axis=1))"
   ]
  },
  {
   "cell_type": "markdown",
   "metadata": {},
   "source": [
    "Теперь мы можем посчитать скалярное произведение вектора признаков для каждого текста с картинкой и понять, насколько они похожи:"
   ]
  },
  {
   "cell_type": "code",
   "execution_count": null,
   "metadata": {},
   "outputs": [],
   "source": [
    "similarities = []\n",
    "for t in text_features:\n",
    "    sim = torch.dot(image_features[0], t)\n",
    "    similarities.append(sim.item())\n",
    "print(similarities)"
   ]
  },
  {
   "cell_type": "markdown",
   "metadata": {},
   "source": [
    "Аналогичный результат получится при матричном умножении признаков:"
   ]
  },
  {
   "cell_type": "code",
   "execution_count": null,
   "metadata": {},
   "outputs": [],
   "source": [
    "sims = torch.matmul(text_features, image_features.T)\n",
    "print(sims.detach().cpu().tolist())"
   ]
  },
  {
   "cell_type": "markdown",
   "metadata": {},
   "source": [
    "Разрыв уже не такой внушительный, как после softmax:"
   ]
  },
  {
   "cell_type": "code",
   "execution_count": null,
   "metadata": {},
   "outputs": [],
   "source": [
    "plt.figure(figsize=(6, 3))\n",
    "plt.bar(range(len(similarities)), similarities)\n",
    "plt.show()"
   ]
  },
  {
   "cell_type": "markdown",
   "metadata": {},
   "source": [
    "Но можно умножить расстояния на константу перед отправкой в softmax:"
   ]
  },
  {
   "cell_type": "code",
   "execution_count": null,
   "metadata": {},
   "outputs": [],
   "source": [
    "chilled_sims = sims.flatten() * 100"
   ]
  },
  {
   "cell_type": "markdown",
   "metadata": {},
   "source": [
    "И тогда результат совпадет с тем, что выдал CLIP:"
   ]
  },
  {
   "cell_type": "code",
   "execution_count": null,
   "metadata": {},
   "outputs": [],
   "source": [
    "s = chilled_sims.softmax(dim=0).numpy()\n",
    "print(s)\n",
    "plt.figure(figsize=(8, 6))\n",
    "plt.bar(range(len(s)), s)\n",
    "plt.show()"
   ]
  },
  {
   "cell_type": "markdown",
   "metadata": {},
   "source": [
    "### Классификация ImageNet"
   ]
  },
  {
   "cell_type": "markdown",
   "metadata": {},
   "source": [
    "Создадим из названий классов простые текстовые описания и напечатаем 10 штук для примера:"
   ]
  },
  {
   "cell_type": "code",
   "execution_count": null,
   "metadata": {},
   "outputs": [],
   "source": [
    "descriptions = []\n",
    "for val in imagenet_labels.values():\n",
    "    name = val[1].replace(\"_\", \" \")\n",
    "    descriptions.append(f\"a photo of {name}\")\n",
    "print(descriptions[0:10])"
   ]
  },
  {
   "cell_type": "code",
   "execution_count": null,
   "metadata": {},
   "outputs": [],
   "source": [
    "import clip\n",
    "\n",
    "img, label = microImgNet[0]\n",
    "\n",
    "model, preprocess = clip.load(\"ViT-B/32\", device=device)\n",
    "\n",
    "\n",
    "for i in range(6):\n",
    "    img, label = microImgNet[i * 6]\n",
    "    name = microImgNet.labels[i * 6][1]\n",
    "\n",
    "    image = preprocess(img).unsqueeze(0).to(device)\n",
    "    text = clip.tokenize(descriptions).to(device)\n",
    "\n",
    "    with torch.no_grad():\n",
    "        image_features = model.encode_image(image)\n",
    "        text_features = model.encode_text(text)\n",
    "\n",
    "        logits_per_image, logits_per_text = model(image, text)\n",
    "        probs = logits_per_image.softmax(dim=-1).cpu().numpy()\n",
    "        class_num = probs.argmax()\n",
    "        descr = descriptions[class_num]\n",
    "        show(img, descr, i)"
   ]
  },
  {
   "cell_type": "markdown",
   "metadata": {},
   "source": [
    "[[colab] 🥨 Обучение без использования разметки BYOL](https://colab.research.google.com/drive/13bolgaT23R_l8OcCyhUpeWPdwJEIKqLR?usp=sharing)"
   ]
  },
  {
   "cell_type": "markdown",
   "metadata": {},
   "source": [
    "# Автоэнкодеры (AE)"
   ]
  },
  {
   "cell_type": "markdown",
   "metadata": {},
   "source": [
    "Другим подходом к обучению представлений являются **автоэнкодеры** — специальный класс нейросетевых архитектур, способный **обучаться на данных без разметки (unsupervised learning)**.\n",
    "\n",
    "С помощью автоэнкодеров становится возможным обучать представления для данных, не имея разметку. Эти представления могут затем использоваться для решения других задач:\n",
    "* понижение размерности,\n",
    "* очистка данных от шумов,\n",
    "* предобучение для дальнейшего дообучения на размеченных данных,\n",
    "* обнаружение аномалий,\n",
    "* и даже генерация новых данных!\n"
   ]
  },
  {
   "cell_type": "markdown",
   "metadata": {},
   "source": [
    "## Архитектура автоэнкодера"
   ]
  },
  {
   "cell_type": "markdown",
   "metadata": {},
   "source": [
    "Автоэнкодер — архитектура нейросети, которая сначала с помощью нейросети-энкодера сжимает признаковое описание объекта в вектор небольшой размерности (он называется скрытым (латентным) представлением), а затем восстанавливает этот вектор в исходное признаковое пространство с помощью нейросети-декодера."
   ]
  },
  {
   "cell_type": "markdown",
   "metadata": {},
   "source": [
    "<img src=\"https://edunet.kea.su/repo/EduNet-content/dev-2.1/L12/out/autoencoder_architecture.png\" alt=\"alttext\" width=\"400\">\n"
   ]
  },
  {
   "cell_type": "markdown",
   "metadata": {},
   "source": [
    "## Очищение изображения от шумов"
   ]
  },
  {
   "cell_type": "markdown",
   "metadata": {},
   "source": [
    "Одно из применений автоэнкодеров — очищение данных от шумов. Такое принципиально возможно из-за того, что размерность латентного пространства очень мала по сравнению с размерностью входного пространства — в нём попросту \"нет места\" случайному шуму, но зато есть место для общих закономерностей из входного пространства."
   ]
  },
  {
   "cell_type": "markdown",
   "metadata": {},
   "source": [
    "То есть мы подаём на обучении автоэнкодера такой зашумлённый датасет, что в нём на самом деле есть некое пространство свойств, которое его описывает. На выходе энкодера в изображении останутся именно эти свойства. Шум является внешним свойством и не сможет закодироваться.\n",
    "\n",
    "Иными словами, за счет кодировщика и декодировщика автоэнкодер выучивается «проецировать» объекты на латентное пространство и восстанавливать их из него. Если шум небольшой, то автоэнкодер спроецирует объект в нужное место в латентном пространстве и обратно восстановит его уже без шума."
   ]
  },
  {
   "cell_type": "markdown",
   "metadata": {},
   "source": [
    "<img src=\"https://edunet.kea.su/repo/EduNet-content/dev-2.1/L12/out/autoencoder_clean_noise.png\" alt=\"alttext\" width=\"700\">\n"
   ]
  },
  {
   "cell_type": "markdown",
   "metadata": {},
   "source": [
    "При этом важно понимать, что если шум поместит наш объект так, что автоэнкодеру придется выбирать между разными вариантами проекции, могут возникнуть артефакты.\n",
    "\n",
    "В случае, приведенном на рисунке, зашумленному $x$ соответствуют две группы объектов из реального датасета. Если мы, к примеру, оптимизируем MSE, то автоэнкодеру «экономнее» всего будет восстанавливать нечто между двумя группами. При этом этого «нечто» в природе не существует или оно очень маловероятно."
   ]
  },
  {
   "cell_type": "markdown",
   "metadata": {},
   "source": [
    "### Добавление шума к исходной выборке"
   ]
  },
  {
   "cell_type": "markdown",
   "metadata": {},
   "source": [
    "Также в случае отсутствия шума в изначальной выборке, ее малом размере и т. д. можно добавлять шум к самим исходным данным, получая из объекта $x$ объект $\\tilde{x}$ и требуя от энкодера восстановить на основе зашумленного объекта исходный."
   ]
  },
  {
   "cell_type": "markdown",
   "metadata": {},
   "source": [
    "<img src=\"https://edunet.kea.su/repo/EduNet-content/dev-2.1/L12/out/denoising_autoencoder.png\" alt=\"alttext\" width=\"500\">\n"
   ]
  },
  {
   "cell_type": "markdown",
   "metadata": {},
   "source": [
    "Этот подход может работать и является примером *аугментации данных*. Он может дополнительно заставить автоэнкодер выучить полезные признаки, т. е. его можно использовать, даже если целью не является получение автоэнкодера, избавляющего данные от шума.\n",
    "\n",
    "С шумом надо быть аккуратным:\n",
    "\n",
    "1. Шум, который вы добавляете, не должен сильно менять исходный объект. Если это происходит, то либо автоэнкодер легко будет находить места, где был добавлен шум, и при этом делать ему это будет легче, чем учить сжатое представление данных. Либо автоэнкодер выучит о ваших данных что-то такое, чего там на самом деле быть не может. К примеру, если добавить к признакам, которые всегда целые, нормальный шум, ничего хорошего не выйдет.\n",
    "\n",
    "2. Шум должен соответствовать «естественному шуму». Если реальный шум в данных отличается от того, на котором учился автоэнкодер, есть вероятность, что он не будет очищать данные от исходного шума."
   ]
  },
  {
   "cell_type": "markdown",
   "metadata": {},
   "source": [
    "## Реализация автоэнкодера"
   ]
  },
  {
   "cell_type": "markdown",
   "metadata": {},
   "source": [
    "Итак, вспомним, что в автоэнкодере одна сеть переводит пространство свойств в пространство меньшей размерности, а другая сеть обучается восстанавливать исходные объекты. Для обучения нужно определить функцию потерь. Обычно используют среднеквадратичное расстояние (MSE). То есть мы требуем, чтобы значения пикселей исходного и восстановленного изображений отличались несильно. В нашем примере будем использовать Binary Cross-Entropy, она обеспечивает лучшую сходимость."
   ]
  },
  {
   "cell_type": "markdown",
   "metadata": {},
   "source": [
    "<img src=\"https://edunet.kea.su/repo/EduNet-content/dev-2.1/L12/out/nn_encoder_nn_decoder.png\" alt=\"alttext\" width=\"700\">"
   ]
  },
  {
   "cell_type": "markdown",
   "metadata": {},
   "source": [
    "Мы можем использовать любую сеть для энкодера и декодера: на полносвязных слоях или на свёрточных."
   ]
  },
  {
   "cell_type": "markdown",
   "metadata": {},
   "source": [
    "### Архитектура"
   ]
  },
  {
   "cell_type": "markdown",
   "metadata": {},
   "source": [
    "Теперь нужно задать архитектуру модели. Мы будем использовать последовательную модель (Sequential) и свёрточную  архитектуру. В конце кодировщика должен быть вектор с размером `latent_dim`. И декодировщик должен принимать этот вектор и восстанавливать до целого изображения."
   ]
  },
  {
   "cell_type": "code",
   "execution_count": null,
   "metadata": {},
   "outputs": [],
   "source": [
    "import torch.nn as nn\n",
    "\n",
    "\n",
    "class Encoder(nn.Module):\n",
    "    def __init__(self, latent_dim):\n",
    "        super().__init__()\n",
    "\n",
    "        hidden_dims = [32, 64, 128, 256]  # num of filters in layers\n",
    "        modules = []\n",
    "        in_channels = 1  # initial value of channels\n",
    "        for h_dim in hidden_dims:  # conv layers\n",
    "            modules.append(\n",
    "                nn.Sequential(\n",
    "                    nn.Conv2d(\n",
    "                        in_channels=in_channels,  # num of input channels\n",
    "                        out_channels=h_dim,  # num of output channels\n",
    "                        kernel_size=3,\n",
    "                        stride=2,  # convolution kernel step\n",
    "                        padding=1,  # save shape\n",
    "                    ),\n",
    "                    nn.BatchNorm2d(h_dim),\n",
    "                    nn.LeakyReLU(),\n",
    "                )\n",
    "            )\n",
    "            in_channels = h_dim  # changing number of input channels for next iteration\n",
    "\n",
    "        modules.append(nn.Flatten())  # to vector, size 256 * 2 * 2 = 1024\n",
    "        modules.append(nn.Linear(256 * 2 * 2, latent_dim))\n",
    "\n",
    "        self.encoder = nn.Sequential(*modules)\n",
    "\n",
    "    def forward(self, x):\n",
    "        x = self.encoder(x)\n",
    "        return x\n",
    "\n",
    "\n",
    "class Decoder(nn.Module):\n",
    "    def __init__(self, latent_dim):\n",
    "        super().__init__()\n",
    "\n",
    "        hidden_dims = [256, 128, 64, 32]  # num of filters in layers\n",
    "        self.linear = nn.Linear(in_features=latent_dim, out_features=1024)\n",
    "\n",
    "        modules = []\n",
    "        for i in range(len(hidden_dims) - 1):  # define upsample layers\n",
    "            modules.append(\n",
    "                nn.Sequential(\n",
    "                    nn.Upsample(scale_factor=2),\n",
    "                    nn.Conv2d(\n",
    "                        in_channels=hidden_dims[i],\n",
    "                        out_channels=hidden_dims[i + 1],\n",
    "                        kernel_size=3,\n",
    "                        padding=1,\n",
    "                    ),\n",
    "                    nn.BatchNorm2d(hidden_dims[i + 1]),\n",
    "                    nn.LeakyReLU(),\n",
    "                )\n",
    "            )\n",
    "\n",
    "        modules.append(\n",
    "            nn.Sequential(\n",
    "                nn.Upsample(scale_factor=2),\n",
    "                nn.Conv2d(in_channels=hidden_dims[-1], out_channels=1, kernel_size=5),\n",
    "            )\n",
    "        )\n",
    "\n",
    "        self.decoder = nn.Sequential(*modules)\n",
    "\n",
    "    def forward(self, x):\n",
    "        x = self.linear(x)  # from latents space to Linear\n",
    "        x = x.view(-1, 256, 2, 2)  # reshape\n",
    "        x = self.decoder(x)  # reconstruction\n",
    "        return x"
   ]
  },
  {
   "cell_type": "markdown",
   "metadata": {},
   "source": [
    "Посмотрим на архитектуру при размере входных данных `(1, 28, 28)` и размере скрытого представления `latent_dim = 2`:"
   ]
  },
  {
   "cell_type": "code",
   "execution_count": null,
   "metadata": {},
   "outputs": [],
   "source": [
    "from torchsummary import summary\n",
    "\n",
    "latent_dim = 2\n",
    "\n",
    "encoder = Encoder(latent_dim=latent_dim)\n",
    "print(\">>> Encoder\")\n",
    "print(summary(encoder, (1, 28, 28), device=\"cpu\"))\n",
    "\n",
    "decoder = Decoder(latent_dim=latent_dim)\n",
    "print(\">>> Decoder\")\n",
    "print(summary(decoder, (1, latent_dim), device=\"cpu\"))"
   ]
  },
  {
   "cell_type": "markdown",
   "metadata": {},
   "source": [
    "### Код обучения"
   ]
  },
  {
   "cell_type": "markdown",
   "metadata": {},
   "source": [
    "Для обучения автоэнкодеров воспользуемся фреймворком Lightning.\n",
    "\n",
    "Основные методы, на которые следует обратить внимание — это `forward_handler` и `loss_handler`. Внутри них будет определяться логика того, как данные проходят через автоэнкодер и как будет рассчитываться функция потерь.\n",
    "\n",
    "В случае простого автоэнкодера (более сложные модификации мы рассмотрим далее в лекции) все устроено следующим образом:\n",
    "* в `forward_handler` во время прохода данных через автоэнкодер, сначала энкодер переводит данные в латентное представление:\n",
    "  \n",
    "  `latent = self.encoder(data)`\n",
    "  \n",
    "  a затем декодер восстанавливает данные из латентного представления:\n",
    "\n",
    "  `recon = self.decoder(latent)`\n",
    "\n",
    "* в `loss_handler` в качестве функции потерь рассчитывается бинарная кросс-энтропия между входными данными и восстановленными на выходе декодера данными:\n",
    "\n",
    "  `loss = F.binary_cross_entropy_with_logits(recon, data)`.\n",
    "\n",
    "\n",
    "Во время тестирования модели будет создаваться словарь `self.test_result`. Этот словарь будет содержать 4 ключа: `real`, `recon`, `latent` и `labels`, значениями для которых будут NumPy-массивы, содержащие входные тестовые данные, результаты их восстановления, их латентные представления и метки классов соответственно. Методы `reset_test_result` и `update_test_result` обслуживают логику создания такого словаря с результатами."
   ]
  },
  {
   "cell_type": "code",
   "execution_count": null,
   "metadata": {},
   "outputs": [],
   "source": [
    "!pip install -q lightning tbparse"
   ]
  },
  {
   "cell_type": "code",
   "execution_count": null,
   "metadata": {},
   "outputs": [],
   "source": [
    "import lightning as L\n",
    "import torch.nn.functional as F\n",
    "from collections import defaultdict\n",
    "\n",
    "\n",
    "class LitAE(L.LightningModule):\n",
    "    def __init__(self, encoder, decoder):\n",
    "        super().__init__()\n",
    "        self.encoder = encoder\n",
    "        self.decoder = decoder\n",
    "\n",
    "    def configure_optimizers(self):\n",
    "        return torch.optim.Adam(self.parameters(), lr=1e-4)\n",
    "\n",
    "    def forward_handler(self, data, *args, **kwargs):\n",
    "        # here is the logic how data is moved through AE\n",
    "        latent = self.encoder(data)\n",
    "        recon = self.decoder(latent)\n",
    "        return latent, recon\n",
    "\n",
    "    def loss_handler(self, recon, data, *args, **kwargs):\n",
    "        # here is the loss function computing\n",
    "        loss = F.binary_cross_entropy_with_logits(recon, data)\n",
    "        return loss\n",
    "\n",
    "    def training_step(self, batch, batch_idx):\n",
    "        data, labels = batch\n",
    "\n",
    "        latent, recon = self.forward_handler(data, labels)\n",
    "        loss = self.loss_handler(recon, data, latent)\n",
    "\n",
    "        self.log(\"train_loss\", loss, on_step=False, on_epoch=True)\n",
    "        return loss\n",
    "\n",
    "    def validation_step(self, batch, batch_idx):\n",
    "        data, labels = batch\n",
    "\n",
    "        latent, recon = self.forward_handler(data, labels)\n",
    "        loss = self.loss_handler(recon, data, latent)\n",
    "\n",
    "        self.log(\"val_loss\", loss, on_step=False, on_epoch=True)\n",
    "        return loss\n",
    "\n",
    "    def on_test_epoch_start(self):\n",
    "        # create dict with empty tensors for further accumulating over batches\n",
    "        self.test_result = defaultdict(torch.Tensor)\n",
    "\n",
    "    def test_step(self, batch, batch_idx):\n",
    "        data, labels = batch\n",
    "\n",
    "        latent, recon = self.forward_handler(data, labels)\n",
    "        recon = F.sigmoid(recon)\n",
    "        self.update_test_result(data, recon, latent, labels)\n",
    "\n",
    "    def update_test_result(self, data, recon, latent, labels):\n",
    "        # accumulating results every batch\n",
    "        self.test_result[\"real\"] = torch.cat([self.test_result[\"real\"], data.cpu()])\n",
    "        self.test_result[\"recon\"] = torch.cat([self.test_result[\"recon\"], recon.cpu()])\n",
    "        self.test_result[\"latent\"] = torch.cat(\n",
    "            [self.test_result[\"latent\"], latent.cpu()]\n",
    "        )\n",
    "        self.test_result[\"labels\"] = torch.cat(\n",
    "            [self.test_result[\"labels\"], labels.cpu()]\n",
    "        )\n",
    "\n",
    "    def on_test_epoch_end(self):\n",
    "        # simply change type from torch tensor to numpy array\n",
    "        # for every item in test_result dictionary\n",
    "        for key in self.test_result:\n",
    "            self.test_result[key] = self.test_result[key].numpy()"
   ]
  },
  {
   "cell_type": "markdown",
   "metadata": {},
   "source": [
    "Загрузим и подготовим датасет MNIST:"
   ]
  },
  {
   "cell_type": "code",
   "execution_count": null,
   "metadata": {},
   "outputs": [],
   "source": [
    "import torchvision\n",
    "from torchvision.datasets import MNIST\n",
    "from IPython.display import clear_output\n",
    "\n",
    "root = \"./data\"\n",
    "\n",
    "train_set = MNIST(\n",
    "    root=root, train=True, transform=torchvision.transforms.ToTensor(), download=True\n",
    ")\n",
    "test_set = MNIST(\n",
    "    root=root, train=False, transform=torchvision.transforms.ToTensor(), download=True\n",
    ")\n",
    "clear_output()"
   ]
  },
  {
   "cell_type": "code",
   "execution_count": null,
   "metadata": {},
   "outputs": [],
   "source": [
    "import torch\n",
    "from torch.utils.data import random_split\n",
    "\n",
    "torch.manual_seed(42)\n",
    "train_set, val_set = random_split(train_set, lengths=[50000, 10000])\n",
    "\n",
    "batch_size = 64\n",
    "train_loader = torch.utils.data.DataLoader(\n",
    "    train_set, batch_size=batch_size, shuffle=True, num_workers=2\n",
    ")\n",
    "\n",
    "val_loader = torch.utils.data.DataLoader(\n",
    "    val_set, batch_size=batch_size, shuffle=False, num_workers=2\n",
    ")\n",
    "\n",
    "test_loader = torch.utils.data.DataLoader(\n",
    "    test_set, batch_size=batch_size, shuffle=False, num_workers=2\n",
    ")"
   ]
  },
  {
   "cell_type": "markdown",
   "metadata": {},
   "source": [
    "Создадим автоэнкодер с размером латентного представления 2 (для возможности отображения латентных представлений на плоскости) и обучим его в течение 5 эпох:"
   ]
  },
  {
   "cell_type": "code",
   "execution_count": null,
   "metadata": {},
   "outputs": [],
   "source": [
    "!mkdir lightning_logs\n",
    "!mkdir lightning_logs/AE_latent_dim=2"
   ]
  },
  {
   "cell_type": "code",
   "execution_count": null,
   "metadata": {},
   "outputs": [],
   "source": [
    "from lightning.pytorch.loggers import TensorBoardLogger\n",
    "from warnings import simplefilter\n",
    "\n",
    "simplefilter(\"ignore\", category=RuntimeWarning)\n",
    "\n",
    "L.seed_everything(42)\n",
    "\n",
    "latent_dim = 2\n",
    "encoder = Encoder(latent_dim=latent_dim)\n",
    "decoder = Decoder(latent_dim=latent_dim)\n",
    "\n",
    "autoencoder = LitAE(encoder, decoder)\n",
    "\n",
    "exp_name = f\"AE_latent_dim={latent_dim}\"\n",
    "logger = TensorBoardLogger(save_dir=\"lightning_logs\", name=exp_name)\n",
    "trainer = L.Trainer(max_epochs=5, logger=logger)\n",
    "\n",
    "trainer.fit(autoencoder, train_loader, val_loader)"
   ]
  },
  {
   "cell_type": "markdown",
   "metadata": {},
   "source": [
    "Выведем графики функции потерь с помощью tbparse."
   ]
  },
  {
   "cell_type": "code",
   "execution_count": null,
   "metadata": {},
   "outputs": [],
   "source": [
    "from tbparse import SummaryReader\n",
    "import matplotlib.pyplot as plt\n",
    "\n",
    "\n",
    "def tbparse_visual(log_path):\n",
    "    reader = SummaryReader(log_path)\n",
    "    df = reader.scalars\n",
    "\n",
    "    plt.figure(figsize=(12, 4))\n",
    "    for tag in df.tag.unique():\n",
    "        if \"loss\" in tag:\n",
    "            tag_data = df.query(\"`tag` == @tag\").sort_values(by=\"step\")\n",
    "            plt.plot(tag_data.step, tag_data.value, label=tag)\n",
    "    plt.xlabel(\"step\")\n",
    "    plt.ylabel(\"loss\")\n",
    "    plt.legend()\n",
    "    plt.grid()\n",
    "    plt.show()\n"
   ]
  },
  {
   "cell_type": "code",
   "execution_count": null,
   "metadata": {},
   "outputs": [],
   "source": [
    "import os\n",
    "\n",
    "base_path = f\"/content/lightning_logs/{exp_name}\"\n",
    "last_version = sorted(os.listdir(base_path))[-1]\n",
    "log_path = f\"{base_path}/{last_version}\"\n",
    "\n",
    "tbparse_visual(log_path)\n",
    "\n",
    "# or simply uncomment these two lines\n",
    "# %load_ext tensorboard\n",
    "# %tensorboard --logdir lightning_logs/AE_latent_dim=2 --port 6006"
   ]
  },
  {
   "cell_type": "markdown",
   "metadata": {},
   "source": [
    "### Инференс модели"
   ]
  },
  {
   "cell_type": "markdown",
   "metadata": {},
   "source": [
    "Запустим тестирование модели на тестовых данных. В результате у модели `autoencoder` появится словарь `test_result`, устройство которого было рассмотрено выше."
   ]
  },
  {
   "cell_type": "code",
   "execution_count": null,
   "metadata": {},
   "outputs": [],
   "source": [
    "trainer.test(autoencoder, test_loader)\n",
    "run_res = autoencoder.test_result"
   ]
  },
  {
   "cell_type": "markdown",
   "metadata": {},
   "source": [
    "Сначала оценим то, как автоэнкодер восстанавливает данные."
   ]
  },
  {
   "cell_type": "code",
   "execution_count": null,
   "metadata": {},
   "outputs": [],
   "source": [
    "import numpy as np\n",
    "import matplotlib.pyplot as plt\n",
    "\n",
    "\n",
    "def plot_samples(*args, digit_size=28, name=None, single_size=2):\n",
    "    args = [x.squeeze() for x in args]\n",
    "    n = min([x.shape[0] for x in args])\n",
    "    figure = np.zeros((digit_size * len(args), digit_size * n))\n",
    "\n",
    "    for i in range(n):\n",
    "        for j in range(len(args)):\n",
    "            figure[\n",
    "                j * digit_size : (j + 1) * digit_size,\n",
    "                i * digit_size : (i + 1) * digit_size,\n",
    "            ] = args[j][i].squeeze()\n",
    "\n",
    "    plt.figure(figsize=(single_size * n, single_size * len(args)))\n",
    "\n",
    "    plt.imshow(figure, cmap=\"gray_r\", clim=(0, 1))\n",
    "\n",
    "    plt.grid(False)\n",
    "    ax = plt.gca()\n",
    "    ax.get_xaxis().set_visible(False)\n",
    "    ax.get_yaxis().set_visible(False)\n",
    "    if name is not None:\n",
    "        plt.savefig(name)\n",
    "    plt.show()"
   ]
  },
  {
   "cell_type": "code",
   "execution_count": null,
   "metadata": {},
   "outputs": [],
   "source": [
    "plot_samples(run_res[\"real\"][0:9], run_res[\"recon\"][0:9])"
   ]
  },
  {
   "cell_type": "markdown",
   "metadata": {},
   "source": [
    "И посмотрим, какие латентные представления он выучил."
   ]
  },
  {
   "cell_type": "code",
   "execution_count": null,
   "metadata": {},
   "outputs": [],
   "source": [
    "def plot_manifold(latent_r, labels=None, alpha=0.9, title=None):\n",
    "    plt.figure(figsize=(8, 8))\n",
    "    if labels is None:\n",
    "        plt.scatter(latent_r[:, 0], latent_r[:, 1], alpha=alpha)\n",
    "    else:\n",
    "        plt.scatter(latent_r[:, 0], latent_r[:, 1], c=labels, cmap=\"tab10\", alpha=alpha)\n",
    "        plt.colorbar()\n",
    "\n",
    "    if title:\n",
    "        plt.title(title)\n",
    "    plt.show()"
   ]
  },
  {
   "cell_type": "code",
   "execution_count": null,
   "metadata": {},
   "outputs": [],
   "source": [
    "plot_manifold(run_res[\"latent\"], run_res[\"labels\"], title=\"AE manifold (latent_dim=2)\")"
   ]
  },
  {
   "cell_type": "markdown",
   "metadata": {},
   "source": [
    "А теперь обучим автоэнкодер с размерностью латентного пространства, равной 24, и посмотрим, как он будет бороться с шумом."
   ]
  },
  {
   "cell_type": "code",
   "execution_count": null,
   "metadata": {},
   "outputs": [],
   "source": [
    "!mkdir lightning_logs/AE_latent_dim=24"
   ]
  },
  {
   "cell_type": "code",
   "execution_count": null,
   "metadata": {},
   "outputs": [],
   "source": [
    "L.seed_everything(42)\n",
    "\n",
    "latent_dim = 24\n",
    "encoder = Encoder(latent_dim=latent_dim)\n",
    "decoder = Decoder(latent_dim=latent_dim)\n",
    "\n",
    "autoencoder = LitAE(encoder, decoder)\n",
    "\n",
    "exp_name = f\"AE_latent_dim={latent_dim}\"\n",
    "logger = TensorBoardLogger(save_dir=\"lightning_logs\", name=exp_name)\n",
    "trainer = L.Trainer(max_epochs=5, logger=logger)\n",
    "\n",
    "trainer.fit(autoencoder, train_loader, val_loader)"
   ]
  },
  {
   "cell_type": "markdown",
   "metadata": {},
   "source": [
    "Оценим, как автоэнкодер с размерностью латентного пространства 24 восстанавливает данные."
   ]
  },
  {
   "cell_type": "code",
   "execution_count": null,
   "metadata": {},
   "outputs": [],
   "source": [
    "trainer.test(autoencoder, test_loader)\n",
    "run_res = autoencoder.test_result\n",
    "plot_samples(run_res[\"real\"][0:9], run_res[\"recon\"][0:9])"
   ]
  },
  {
   "cell_type": "markdown",
   "metadata": {},
   "source": [
    "Размерность латентного пространства `latent_dim` равна 24, что значительно меньше исходного количества признаков (784), поэтому мы получили неплохое сжатие изображения."
   ]
  },
  {
   "cell_type": "markdown",
   "metadata": {},
   "source": [
    "А теперь оценим, справится ли он с очисткой изображений от шумов. Отметим, что мы не добавляли шум на входные изображения при обучении. Сделаем `DataLoader`, который добавляет в наш датасет шум автоматически с помощью трансформации."
   ]
  },
  {
   "cell_type": "code",
   "execution_count": null,
   "metadata": {},
   "outputs": [],
   "source": [
    "class AddGaussianNoise:\n",
    "    def __init__(self, mean=0.0, std=1.0):\n",
    "        self.std = std\n",
    "        self.mean = mean\n",
    "\n",
    "    def __call__(self, tensor):\n",
    "        return tensor + torch.randn(tensor.size()) * self.std + self.mean\n",
    "\n",
    "    def __repr__(self):\n",
    "        return self.__class__.__name__ + f\"(mean={self.mean}, std={self.std})\""
   ]
  },
  {
   "cell_type": "markdown",
   "metadata": {},
   "source": [
    "Загрузим MNIST с добавленным шумом"
   ]
  },
  {
   "cell_type": "code",
   "execution_count": null,
   "metadata": {},
   "outputs": [],
   "source": [
    "torch.manual_seed(42)\n",
    "\n",
    "test_noise_set = MNIST(\n",
    "    root=root,\n",
    "    train=False,\n",
    "    transform=torchvision.transforms.Compose(\n",
    "        [torchvision.transforms.ToTensor(), AddGaussianNoise(0.0, 0.10)]\n",
    "    ),\n",
    "    download=True,\n",
    ")\n",
    "\n",
    "test_noised_loader = torch.utils.data.DataLoader(\n",
    "    torch.utils.data.Subset(test_noise_set, list(range(64))),\n",
    "    batch_size=batch_size,\n",
    "    shuffle=False,\n",
    "    num_workers=2,\n",
    ")"
   ]
  },
  {
   "cell_type": "markdown",
   "metadata": {},
   "source": [
    "Запустим тестирование обученной модели на зашумленных данных."
   ]
  },
  {
   "cell_type": "code",
   "execution_count": null,
   "metadata": {},
   "outputs": [],
   "source": [
    "trainer.test(autoencoder, test_noised_loader)\n",
    "run_res = autoencoder.test_result"
   ]
  },
  {
   "cell_type": "markdown",
   "metadata": {},
   "source": [
    "Результат очистки данных от шума после обработки автоэнкодером. Можно увидеть, что шум достаточно хорошо устраняется."
   ]
  },
  {
   "cell_type": "code",
   "execution_count": null,
   "metadata": {},
   "outputs": [],
   "source": [
    "plot_samples(run_res[\"real\"][0:9], run_res[\"recon\"][0:9])"
   ]
  },
  {
   "cell_type": "markdown",
   "metadata": {},
   "source": [
    "Помимо понижения размерности и очистки данных от шума, автоэнкодеры имеют еще несколько полезных способов применения, такие как **обнаружение аномалий** и **предобучение на неразмеченных данных**."
   ]
  },
  {
   "cell_type": "markdown",
   "metadata": {},
   "source": [
    "## Обнаружение аномалий"
   ]
  },
  {
   "cell_type": "markdown",
   "metadata": {},
   "source": [
    "Допустим у нас есть много данных, которые можно считать типичными, или \"нормальными\", и небольшое количество данных, являющихся нетипичными, или \"аномальными\". На практике в нашем распоряжении может вообще не быть аномальных примеров, но мы можем ожидать, что они появятся в будущем, и мы бы хотели, чтобы модель могла отличить аномальные примеры от нормальных.\n",
    "\n",
    "В такой постановке можно **обучить автоэнкодер только на данных, которые мы считаем нормальными**. В тестовую выборку мы включим аномальные примеры, если они имеются, а также некоторое количество нормальных примеров."
   ]
  },
  {
   "cell_type": "markdown",
   "metadata": {},
   "source": [
    "<img src=\"https://edunet.kea.su/repo/EduNet-content/dev-2.1/L12/out/ae_anomaly_detection_data.png\" width=\"800\">"
   ]
  },
  {
   "cell_type": "markdown",
   "metadata": {},
   "source": [
    "Мы будем обучать автоэнкодер только на нормальных данных (иллюстрация ниже, слева). При обучении автоэнкодер будет минимизировать ошибку между входом и выходом (*ошибка реконструкции*).\n",
    "\n",
    "Завершив обучение, мы вычисляем значения ошибки реконструкции на обучающих примерах и строим распределение этих ошибок, по которому мы выбираем порог ошибки реконструкции (threshold). Порог выбирается, исходя из задачи и требований к детекции. Он зависит от того, что для нас важнее: чаще находить аномалии или не допускать ложных срабатываний на \"нормальных\" объектах.\n",
    "\n",
    "На этапе применения модели (inference, иллюстрация ниже, справа) мы подаем на обученный автоэнкодер как нормальные, так и аномальные примеры. **Нормальные примеры будут восстанавливаться автоэнкодером с малой ошибкой**, так как подобные примеры встречались во время обучения. Аномальные же примеры не встречались автоэнкодеру во время обучения, и он не сможет их качественно восстанавливать. **Ошибка реконструкции аномальных объектов будет большой.**\n",
    "\n",
    "Сравнивая ошибку реконструкции с вычисленным ранее порогом, мы сможем обнаруживать и отделять аномальные примеры."
   ]
  },
  {
   "cell_type": "markdown",
   "metadata": {},
   "source": [
    "<img src=\"https://edunet.kea.su/repo/EduNet-content/dev-2.1/L12/out/ae_anomaly_detection_method.png\" width=\"1000\">"
   ]
  },
  {
   "cell_type": "markdown",
   "metadata": {},
   "source": [
    "## Предобучение на неразмеченных данных"
   ]
  },
  {
   "cell_type": "markdown",
   "metadata": {},
   "source": [
    "Еще одним практическим примером использования автоэнкодеров является предобучение на неразмеченных данных. Пусть мы имеем **большое количество неразмеченных данных и немного размеченных** (semi-supervised подход).\n",
    "\n",
    "Мы можем обучить автоэнкодер на неразмеченных данных, ожидая, что он обучится эффективно представлять данные в латентном пространстве.\n",
    "\n",
    "Затем мы используем **энкодер как предобученный экстрактор признаков**, добавляя к нему дополнительный классификатор, и обучаем такую модель на размеченных данных.\n",
    "\n",
    "Такой подход похож на transfer learning, где мы тоже используем предобученный экстрактор признаков для решения задачи на небольшом количестве размеченных данных. Отличие в том, что **при transfer learning экстрактор признаков обучается на другой задаче с другими данными**, часто даже на данных из другого домена.\n",
    "\n",
    "В случае использования автоэнкодера, предобучение происходит на данных той же природы, и мы можем ожидать, что полученный таким образом экстрактор признаков будет более эффективно представлять данные в латентном пространстве."
   ]
  },
  {
   "cell_type": "markdown",
   "metadata": {},
   "source": [
    "<img src=\"https://edunet.kea.su/repo/EduNet-content/dev-2.1/L12/out/ae_pretrain_encoder.png\" width=\"800\">"
   ]
  },
  {
   "cell_type": "markdown",
   "metadata": {},
   "source": [
    "## Автоэнкодер как генератор и его ограничения"
   ]
  },
  {
   "cell_type": "markdown",
   "metadata": {},
   "source": [
    "Автоэнкодер переводит объекты из исходного признакового пространства в латентное пространство меньшей размерности. Мы можем попытаться использовать **обученный декодер как генератор новых данных**: он будет получать на вход некий вектор из латентного пространства и на выходе восстанавливать изображение. При этом мы можем ожидать, что это изображение окажется в некотором смысле похожим на те, на которых учился автоэнкодер."
   ]
  },
  {
   "cell_type": "markdown",
   "metadata": {},
   "source": [
    "<img src=\"https://edunet.kea.su/repo/EduNet-content/dev-2.1/L12/out/autoencoder_as_generator.png\" alt=\"alttext\" width=\"700\">"
   ]
  },
  {
   "cell_type": "markdown",
   "metadata": {},
   "source": [
    "### Плавная интерполяция"
   ]
  },
  {
   "cell_type": "markdown",
   "metadata": {},
   "source": [
    "Какое значение вектора выбрать? Мы же никак не управляли латентным пространством. Непонятно, какие числа подставлять. Поэтому мы можем выбрать промежуточные значения между представлениями двух исходных изображений в латентном пространстве и получить плавную интерполяцию между изображениями. Постепенно свойства одного изображения будут исчезать, а свойства другого — появляться.\n"
   ]
  },
  {
   "cell_type": "markdown",
   "metadata": {},
   "source": [
    "У нас уже есть обученный автоэнкодер с латентным пространством размерности 24.\n",
    "\n",
    "Возьмем изображение семерки и шестерки, получим их латентные представления и попробуем сгенерировать изображения из латентных представлений, лежащих на линии линейной интерполяции между семеркой и шестеркой."
   ]
  },
  {
   "cell_type": "code",
   "execution_count": null,
   "metadata": {},
   "outputs": [],
   "source": [
    "seven = (test_set.data[test_set.targets == 7][2:3] / 255).unsqueeze(0)\n",
    "six = (test_set.data[test_set.targets == 6][1:2] / 255).unsqueeze(0)\n",
    "\n",
    "latent_space1 = autoencoder.encoder(seven)\n",
    "latent_space2 = autoencoder.encoder(six)"
   ]
  },
  {
   "cell_type": "code",
   "execution_count": null,
   "metadata": {},
   "outputs": [],
   "source": [
    "interp_steps = 10\n",
    "weight = torch.linspace(0, 1, steps=interp_steps)\n",
    "interp = torch.lerp(\n",
    "    latent_space1.repeat(interp_steps, 1),\n",
    "    latent_space2.repeat(interp_steps, 1),\n",
    "    weight=weight.view(-1, 1),\n",
    ")\n",
    "iterp_imgs = F.sigmoid(autoencoder.decoder(interp))"
   ]
  },
  {
   "cell_type": "code",
   "execution_count": null,
   "metadata": {},
   "outputs": [],
   "source": [
    "_, axs = plt.subplots(nrows=1, ncols=interp_steps, figsize=(16, 4))\n",
    "for step in range(0, interp_steps):\n",
    "    figure = iterp_imgs[step].cpu().detach().numpy()\n",
    "    figure = figure.reshape(28, 28)\n",
    "    ax = axs[step]\n",
    "    ax.imshow(figure, cmap=\"gray_r\", clim=(0, 1))\n",
    "    ax.grid(False)\n",
    "    ax.get_xaxis().set_visible(False)\n",
    "    ax.get_yaxis().set_visible(False);"
   ]
  },
  {
   "cell_type": "markdown",
   "metadata": {},
   "source": [
    "Чтобы увидеть более плавные изменения, можем сделать видео с большим количеством кадров (промежуточных представлений на линии интерполяции). Для этого можно использовать библиотеку OpenCV."
   ]
  },
  {
   "cell_type": "code",
   "execution_count": null,
   "metadata": {},
   "outputs": [],
   "source": [
    "from PIL import Image\n",
    "\n",
    "interp_steps = 200\n",
    "weight = torch.linspace(0, 1, steps=interp_steps)\n",
    "interp = torch.lerp(\n",
    "    latent_space1.repeat(interp_steps, 1),\n",
    "    latent_space2.repeat(interp_steps, 1),\n",
    "    weight=weight.view(-1, 1),\n",
    ")\n",
    "iterp_imgs = F.sigmoid(autoencoder.decoder(interp))\n",
    "\n",
    "resize_coeff = 10\n",
    "imgs = np.squeeze(iterp_imgs.cpu().detach().numpy())\n",
    "size = (imgs.shape[1] * resize_coeff, imgs.shape[2] * resize_coeff)\n",
    "\n",
    "\n",
    "imgs = [\n",
    "    Image.fromarray(np.uint8(255 - img * 255)).resize(size).convert(\"RGB\")\n",
    "    for img in imgs\n",
    "]\n",
    "imgs[0].save(\n",
    "    \"ae_img.gif\",\n",
    "    save_all=True,\n",
    "    append_images=imgs[1:],\n",
    "    optimize=False,\n",
    "    duration=40,\n",
    "    loop=0,\n",
    ")"
   ]
  },
  {
   "cell_type": "code",
   "execution_count": null,
   "metadata": {},
   "outputs": [],
   "source": [
    "from IPython.display import Image as iImage\n",
    "\n",
    "iImage(open(\"ae_img.gif\", \"rb\").read())"
   ]
  },
  {
   "cell_type": "markdown",
   "metadata": {},
   "source": [
    "Так себе интерполяция вышла. Старое изображение затухает, а новое изображение появляется. Хочется, чтобы в промежуточных кадрах не было каких-то непонятных очертаний, а изображение было чем-то промежуточным по смыслу между стартовым и конечным изображением."
   ]
  },
  {
   "cell_type": "markdown",
   "metadata": {},
   "source": [
    "### Ограничения декодера как генератора"
   ]
  },
  {
   "cell_type": "markdown",
   "metadata": {},
   "source": [
    "Причина получения не похожих на реальные цифры промежуточных изображений заключается в том, что в результате обучения в латентном пространстве возникли \"пустые\" зоны, из которых декодер не обучался ничего восстанавливать."
   ]
  },
  {
   "cell_type": "markdown",
   "metadata": {},
   "source": [
    "<img src=\"https://edunet.kea.su/repo/EduNet-content/dev-2.1/L12/out/autoencoder_as_generator_problem.png\" alt=\"alttext\" width=\"500\">"
   ]
  },
  {
   "cell_type": "markdown",
   "metadata": {},
   "source": [
    "Представим это графически. Пусть наш очень умный, содержащий очень много коэффициентов автоэнкодер смог разложить все входные объекты на одной оси (размерность латентного пространства — 1). По сути он каждому входному изображению присвоил номер, и по номеру может это изображение вспомнить. То есть автоэнкодер очень переобученный. Тогда если мы возьмём промежуточный номер (пытаемся интерполировать), то какое изображение мы собираемся получить?"
   ]
  },
  {
   "cell_type": "markdown",
   "metadata": {},
   "source": [
    "<img src=\"https://edunet.kea.su/repo/EduNet-content/dev-2.1/L12/out/autoencoder_as_generator_problem_explanation.png\" alt=\"alttext\" width=\"1000\">"
   ]
  },
  {
   "cell_type": "markdown",
   "metadata": {},
   "source": [
    "Если мы хотим, чтобы декодированные промежуточные латентные состояния имели черты близких к ним объектов, то надо притянуть латентные координаты похожих объектов.\n"
   ]
  },
  {
   "cell_type": "markdown",
   "metadata": {},
   "source": [
    "# Вариационные автоэнкодеры (VAE)"
   ]
  },
  {
   "cell_type": "markdown",
   "metadata": {},
   "source": [
    "Мотивация:\n",
    "\n",
    "Хотим вместо представления слева получить представление справа:"
   ]
  },
  {
   "cell_type": "markdown",
   "metadata": {},
   "source": [
    "<img src=\"https://edunet.kea.su/repo/EduNet-content/dev-2.1/L12/out/latent_space_with_and_witout_regularization.png\" alt=\"alttext\" width=\"850\">\n"
   ]
  },
  {
   "cell_type": "markdown",
   "metadata": {},
   "source": [
    "\n",
    "При этом зоны пересечения должны действительно содержать переходные картины:\n",
    "\n"
   ]
  },
  {
   "cell_type": "markdown",
   "metadata": {},
   "source": [
    "<img src=\"https://edunet.kea.su/repo/EduNet-content/dev-2.1/L12/out/vae_latent_space.png\" alt=\"alttext\" width=\"400\">\n"
   ]
  },
  {
   "cell_type": "markdown",
   "metadata": {},
   "source": [
    "Постановка задачи с автоэнкодером говорит нам, что существует некое пространство меньшей размерности $Z$, которое и обуславливает процесс генерации объектов из $X$. Все остальные различия — следствия случайности: один и тот же человек может по-разному написать цифру $5$.\n",
    "\n",
    "Будем искать латентное пространство $Z$, которое удовлетворяет следующему условию:\n",
    "\n",
    "$$\\large p(x) = \\int p(x, z)dz $$"
   ]
  },
  {
   "cell_type": "markdown",
   "metadata": {},
   "source": [
    "Кроме того, пусть объекты из $Z$ легко генерировать.\n",
    "\n",
    "По формуле совместной вероятности:\n",
    "\n",
    "$$\\large p(x, z) = p(x|z)p(z) $$\n",
    "\n",
    "Осталось только подобрать такие параметры, чтобы все работало."
   ]
  },
  {
   "cell_type": "markdown",
   "metadata": {},
   "source": [
    "К сожалению, сделать это в таком виде не получится. Пространство $X$ может быть высокоразмерным.\n",
    "\n",
    "Но мы можем существенно сузить область поиска, ведь каждому $x$ из пространства $X$ соответствует лишь небольшая возможная область в $Z$.\n",
    "\n",
    "Для этого будем также учить отображение из пространства $X$ в пространство $Z$, т. е. пытаться выучить $p(z|x)$. Назовем функцию, которой будем его приближать, $q(z|x)$.\n",
    "\n",
    "Что же в случае автоэнкодера выполняет роль $p(x|z)$ и $q(z|x)$?\n",
    "Очевидно, кодировщик и декодировщик соответственно.\n"
   ]
  },
  {
   "cell_type": "markdown",
   "metadata": {},
   "source": [
    "<img src=\"https://edunet.kea.su/repo/EduNet-content/dev-2.1/L12/out/vae_as_two_functions.png\" alt=\"alttext\" width=\"500\">"
   ]
  },
  {
   "cell_type": "markdown",
   "metadata": {},
   "source": [
    "\n",
    "Чтобы все получилось, нужно сделать с кодировщиком две вещи. Заметьте, что декодировщик мы оставим без изменений."
   ]
  },
  {
   "cell_type": "markdown",
   "metadata": {},
   "source": [
    "## Сэмплирование в латентном пространстве"
   ]
  },
  {
   "cell_type": "markdown",
   "metadata": {},
   "source": [
    "Пусть наш кодировщик генерирует на основе объекта $X$ вектор средних и вектор стандартных отклонений.\n",
    "\n",
    "Этих двух векторов хватает нам для того, чтобы задать многомерное нормальное распределение с независимыми компонентами (чтобы матрица ковариаций была диагональной), соответствующее данному объекту.\n",
    "\n",
    "Чтобы получить латентное представление объекта, отличающегося от $X$ только в силу случайности, нам достаточно сэмплировать вектор из нормального распределения с такими параметрами."
   ]
  },
  {
   "cell_type": "markdown",
   "metadata": {},
   "source": [
    "<img src=\"https://edunet.kea.su/repo/EduNet-content/dev-2.1/L12/out/vae_architecture_first_modification.png\" alt=\"alttext\" width=\"850\">"
   ]
  },
  {
   "cell_type": "markdown",
   "metadata": {},
   "source": [
    "Далее мы можем требовать, чтобы из полученного латентного представления декодировщик восстанавливал объект, похожий на исходный."
   ]
  },
  {
   "cell_type": "markdown",
   "metadata": {},
   "source": [
    "<font size=\"4\">Репараметризация</font>"
   ]
  },
  {
   "cell_type": "markdown",
   "metadata": {},
   "source": [
    "Здесь, однако, сразу возникает проблема с тем, что граф вычислений, соответствующий предыдущей структуре, не может пропускать градиент — как пропустить градиент через генератор случайного нормального числа? Если считать из определения, то даже малейшему изменению параметра могут соответствовать бесконечные изменения генерируемого числа (нормальное распределение определено на бесконечности).\n",
    "\n",
    "Но мы можем вспомнить замечательное свойство нормального распределения:\n",
    "\n",
    "$$\\large N(\\mu,\\sigma^2) = N(0,1) * \\sigma + \\mu$$"
   ]
  },
  {
   "cell_type": "markdown",
   "metadata": {},
   "source": [
    "Выполняется это и для многомерного случая. Потому сделаем следующее: будем генерировать значение из нормального распределения со средними 0 и дисперсиями 1, а затем домножать это на вектор стандартных отклонений и прибавлять вектор средних. Получится вот такое преобразование, которое называется **reparameterization trick**."
   ]
  },
  {
   "cell_type": "markdown",
   "metadata": {},
   "source": [
    "<img src=\"https://edunet.kea.su/repo/EduNet-content/dev-2.1/L12/out/reparametrization_trick.png\" alt=\"alttext\" width=\"850\">\n",
    "\n"
   ]
  },
  {
   "cell_type": "markdown",
   "metadata": {},
   "source": [
    "В отличие от левого случая, в правом мы спокойно можем пропустить градиент через детерминистичные ноды.\n"
   ]
  },
  {
   "cell_type": "markdown",
   "metadata": {},
   "source": [
    "Но такой принцип также имеет проблему предыдущего детерминистического подхода, так как вероятностное распределение сможет свернуться в дельта-функцию — зачем нейросети мучиться с объектами, немного отличающимися от тех, что есть в обучающей выборке, и пытаться нормально их восстанавливать, если можно просто начать генерировать стандартные отклонения, близкие к нулю, и тем самым получить $\\delta$-функцию, которая будет нашему объекту всегда сопоставлять одну точку в латентном представлении.\n"
   ]
  },
  {
   "cell_type": "markdown",
   "metadata": {},
   "source": [
    "<img src=\"https://edunet.kea.su/repo/EduNet-content/dev-2.1/L12/out/Dirac_function_approximation.gif\" alt=\"alttext\" width=\"240\">\n"
   ]
  },
  {
   "cell_type": "markdown",
   "metadata": {},
   "source": [
    "## Регуляризация латентного пространства"
   ]
  },
  {
   "cell_type": "markdown",
   "metadata": {},
   "source": [
    "Поэтому нам надо ввести регуляризацию, требующую от каждого распределения быть близким к нормальному распределению вокруг нуля координат латентного пространства с дисперсией $1$ (наше $P(z)$).\n",
    "\n",
    "Для этого нам нужна некая мера расстояния между двумя вероятностными распределениями. В базовом случае в качестве такой меры расстояния используется **дивергенция Кульбака-Лейблера**, или KL-дивергенция."
   ]
  },
  {
   "cell_type": "markdown",
   "metadata": {},
   "source": [
    "[Дивергенция Кульбака-Лейблера 📚[wiki]](https://ru.wikipedia.org/wiki/Расстояние_Кульбака_—_Лейблера) между двумя вероятностными распределениями $P$ и $Q$ определяется следующим образом:\n",
    "\n",
    "$$\\large KL(P||Q) = \\int_X p(x)\\log \\dfrac {p(x)} {q(x)} dx$$\n",
    "\n",
    "В теории информации $p$ считается целевым (истинным) распределением, а $q$ — тем, с которым мы его сравниваем (проверяемым)."
   ]
  },
  {
   "cell_type": "markdown",
   "metadata": {},
   "source": [
    "Чтобы распределение $Q(z|x)$ в латентном пространстве $Z$ походило на нормальное, в качестве регуляризации мы будем использовать KL-дивергенцию между $Q(z|x)$ и стандартным нормальным распределением $N(0,1)$.\n"
   ]
  },
  {
   "cell_type": "markdown",
   "metadata": {},
   "source": [
    "$$\\large \\text{Regularization} = KL(Q(z|x)||N(0,1)) $$\n",
    "\n",
    "Данное выражение может быть [записано аналитически ✏️[blog]](https://stats.stackexchange.com/questions/318748/deriving-the-kl-divergence-loss-for-vaes):\n",
    "\n",
    "\n",
    "$$\\large KL(N(\\mu, \\sigma) || N(0, 1)) = -\\frac {1} {2}(\\log {\\sigma^2} - \\sigma^2 - \\mu^2 + 1)$$\n"
   ]
  },
  {
   "cell_type": "markdown",
   "metadata": {},
   "source": [
    "<center><img src=\"https://edunet.kea.su/repo/EduNet-web_dependencies/dev-2.1/L12/pure_kl_loss.png\" alt=\"alttext\" width=\"350\"></center>\n",
    "\n",
    "<center><em>Source: <a href=\"https://www.jeremyjordan.me/variational-autoencoders/\">Variational Autoencoders</a></em></center>"
   ]
  },
  {
   "cell_type": "markdown",
   "metadata": {},
   "source": [
    "Однако нужно не забыть, что на выходе мы все еще ожидаем получить изображение, похожее на входное. Поэтому итоговая функция потерь будет состоять из двух компонент:\n",
    "\n",
    "1. слагаемое, связанное с качеством восстановления,\n",
    "2. регуляризационный член."
   ]
  },
  {
   "cell_type": "markdown",
   "metadata": {},
   "source": [
    "Формально это записывается следующим образом:\n",
    "\n",
    "$$\\large \\text{VAE Loss} = E_{z \\sim Q(z|x)}[\\log P(x|z)] + KL[Q(z|x)||N(0,1)]$$\n",
    "\n",
    "А в итоге:\n",
    "\n",
    "$$\\large \\text{VAE Loss} = \\text{BCE}(x , \\tilde{x}) -\\frac {1} {2}(\\log {\\sigma^2} - \\sigma^2 - \\mu^2 + 1)$$\n",
    "\n"
   ]
  },
  {
   "cell_type": "markdown",
   "metadata": {},
   "source": [
    "Учет обеих компонент позволяет нам получить то, что мы хотели — регулярное латентное пространство, где нет «дыр» в представлении, и при этом близкие по смыслу объекты расположены рядом, а далекие — далеко."
   ]
  },
  {
   "cell_type": "markdown",
   "metadata": {},
   "source": [
    "## Реализация VAE"
   ]
  },
  {
   "cell_type": "markdown",
   "metadata": {},
   "source": [
    "Для реализации вариационного автоэнкодера нам потребуется переопределить логику того, как данные проходят через модель. Выход энкодера будет интерпретироваться не как латентное представление входного образа, а как параметры распределения, из которого мы будем сэмплировать латентные представления для подачи в декодер.\n",
    "\n",
    "Вариационный энкодер фактически ничем не будет отличаться от базового, лишь за исключением того, что размерность выхода должна быть четной — для разделения на $μ$ и $\\sigma$."
   ]
  },
  {
   "cell_type": "code",
   "execution_count": null,
   "metadata": {},
   "outputs": [],
   "source": [
    "class VAEEncoder(Encoder):\n",
    "    def __init__(self, latent_dim):\n",
    "        if latent_dim % 2 != 0:  # check for the parity of the latent space\n",
    "            raise Exception(\"Latent size for VAEEncoder must be even\")\n",
    "\n",
    "        super().__init__(latent_dim)"
   ]
  },
  {
   "cell_type": "markdown",
   "metadata": {},
   "source": [
    "Для реализации VAE также воспользуемся фреймворком Lightning. Класс `LitVAE` унаследуем от базового `LitAE`, изменив логику прохождения данных через модель (переопределяется `forward_handler`) и расчет функции потерь (переопределяется `loss_handler`):\n",
    "* во время прохода данных через автоэнкодер они сначала кодируются в латентное представление с помощью энкодера:\n",
    "  \n",
    "  `latent = self.encoder(data)`\n",
    "\n",
    "  затем латентное представление разделяется на две части $\\mu$ и $\\sigma$:\n",
    "\n",
    "  `mu, log_var = self.vae_split(latent)`\n",
    "\n",
    "  производится репараметризация — сэмплирование из нормального распределения с параметрами, предсказанными энкодером:\n",
    "\n",
    "  `sample = self.vae_reparametrize(mu, log_var)`\n",
    "  \n",
    "  и наконец декодер восстанавливает данные из результата сэмплирования:\n",
    "\n",
    "  `recon = self.decoder(sample)`\n",
    "\n",
    "* функция потерь теперь содержит две компоненты:\n",
    "    \n",
    "    штраф за некачественное восстановление в виде бинарной кросс-энтропии между входными данными и восстановленными на выходе декодера данными:\n",
    "\n",
    "    `F.binary_cross_entropy_with_logits(recon, data)`\n",
    "\n",
    "    и штраф за отличие латентного представления после репараметризации от стандартного нормального распределения в виде KL-дивергенции:\n",
    "\n",
    "    `kld_loss(mu, log_var)`.\n",
    "\n",
    "    Эти компоненты суммируются в функции потерь с весами `recon_weight` и `kld_weight`.\n",
    "\n",
    "Методы `vae_split`, `vae_reparametrize` и `kld_loss` обслуживают описанную логику работы VAE."
   ]
  },
  {
   "cell_type": "code",
   "execution_count": null,
   "metadata": {},
   "outputs": [],
   "source": [
    "import lightning as L\n",
    "import torch.nn.functional as F\n",
    "\n",
    "\n",
    "class LitVAE(LitAE):\n",
    "    def __init__(self, encoder, decoder, kld_weight=0.005, recon_weight=1.0):\n",
    "        super().__init__(encoder, decoder)\n",
    "        self.kld_weight = kld_weight\n",
    "        self.recon_weight = recon_weight\n",
    "\n",
    "    def vae_split(self, latent):\n",
    "        size = (\n",
    "            latent.shape[1] // 2\n",
    "        )  # divide the latent representation into mu and log_var\n",
    "        mu = latent[:, :size]\n",
    "        log_var = latent[:, size:]\n",
    "        return mu, log_var\n",
    "\n",
    "    def vae_reparametrize(self, mu, log_var):\n",
    "        sigma = torch.exp(0.5 * log_var)\n",
    "        eps = torch.randn(mu.shape[0], mu.shape[1]).to(self.device)\n",
    "        return eps * sigma + mu\n",
    "\n",
    "    def kld_loss(self, mu, log_var):\n",
    "        var = log_var.exp()\n",
    "        kl_loss = torch.mean(-0.5 * torch.sum(log_var - var - mu**2 + 1, dim=1), dim=0)\n",
    "        return kl_loss\n",
    "\n",
    "    def forward_handler(self, data, *args, **kwargs):\n",
    "        # here is the logic how data is moved through AE\n",
    "        latent = self.encoder(data)\n",
    "\n",
    "        mu, log_var = self.vae_split(latent)\n",
    "        sample = self.vae_reparametrize(mu, log_var)\n",
    "\n",
    "        recon = self.decoder(sample)\n",
    "        return latent, recon\n",
    "\n",
    "    def loss_handler(self, recon, data, latent, *args, **kwargs):\n",
    "        mu, log_var = self.vae_split(latent)\n",
    "        # here is the loss function computing\n",
    "        loss = self.recon_weight * F.binary_cross_entropy_with_logits(\n",
    "            recon, data\n",
    "        ) + self.kld_weight * self.kld_loss(mu, log_var)\n",
    "        return loss"
   ]
  },
  {
   "cell_type": "markdown",
   "metadata": {},
   "source": [
    "### Демонстрация эффекта регуляризации"
   ]
  },
  {
   "cell_type": "markdown",
   "metadata": {},
   "source": [
    "Для демонстрации того, как работает регуляризация в виде KL-дивергенции, обучим VAE, полностью отключив штраф за качество восстановления (`recon_weight=0`)."
   ]
  },
  {
   "cell_type": "markdown",
   "metadata": {},
   "source": [
    "Видим, что мы забываем про декодировщик — он может выдавать все, что угодно. Потому логично ожидать, что обучится только кодировщик, и обучится он отражать наши точки в нормальное распределение со средним 0 и дисперсией 1. Можем проверить это."
   ]
  },
  {
   "cell_type": "code",
   "execution_count": null,
   "metadata": {},
   "outputs": [],
   "source": [
    "!mkdir lightning_logs/VAE_latent_dim=2_KL_only"
   ]
  },
  {
   "cell_type": "code",
   "execution_count": null,
   "metadata": {},
   "outputs": [],
   "source": [
    "L.seed_everything(42)\n",
    "\n",
    "latent_dim = 2\n",
    "encoder = VAEEncoder(latent_dim=latent_dim * 2)\n",
    "decoder = Decoder(latent_dim=latent_dim)\n",
    "\n",
    "autoencoder = LitVAE(encoder, decoder, kld_weight=0.1, recon_weight=0.0)  # bad practice\n",
    "\n",
    "exp_name = f\"VAE_latent_dim={latent_dim}_KL_only\"\n",
    "logger = TensorBoardLogger(save_dir=\"lightning_logs\", name=exp_name)\n",
    "trainer = L.Trainer(max_epochs=5, logger=logger)\n",
    "\n",
    "trainer.fit(autoencoder, train_loader, val_loader)"
   ]
  },
  {
   "cell_type": "markdown",
   "metadata": {},
   "source": [
    "Протестируем обученный VAE и рассмотрим генерируемые им параметры распределения $\\mu$ и $\\sigma$."
   ]
  },
  {
   "cell_type": "code",
   "execution_count": null,
   "metadata": {},
   "outputs": [],
   "source": [
    "trainer.test(autoencoder, test_loader)\n",
    "run_res = autoencoder.test_result\n",
    "\n",
    "mu, log_var = autoencoder.vae_split(run_res[\"latent\"])\n",
    "var = np.exp(log_var)"
   ]
  },
  {
   "cell_type": "markdown",
   "metadata": {},
   "source": [
    "Все генерируемые средние почти неотличимы от нуля, а дисперсии — от единицы:"
   ]
  },
  {
   "cell_type": "code",
   "execution_count": null,
   "metadata": {},
   "outputs": [],
   "source": [
    "plt.figure(figsize=(15, 5))\n",
    "\n",
    "plt.subplot(1, 2, 1)\n",
    "plt.hist(mu.ravel())\n",
    "plt.xlabel(\"$\\mu$\", fontsize=20)\n",
    "\n",
    "plt.subplot(1, 2, 2)\n",
    "plt.hist(var.ravel())\n",
    "plt.xlabel(\"$\\sigma^2$\", fontsize=20)\n",
    "\n",
    "plt.show()"
   ]
  },
  {
   "cell_type": "markdown",
   "metadata": {},
   "source": [
    "В результате получаем практически неразделимые объекты:"
   ]
  },
  {
   "cell_type": "code",
   "execution_count": null,
   "metadata": {},
   "outputs": [],
   "source": [
    "import seaborn as sns\n",
    "\n",
    "sns.set_style(\"whitegrid\")\n",
    "\n",
    "mu, log_var = torch.tensor(mu), torch.tensor(log_var)\n",
    "sample = autoencoder.vae_reparametrize(mu, log_var).numpy()\n",
    "\n",
    "pal = sns.color_palette(\"Paired\", n_colors=10)\n",
    "plot_manifold(sample, run_res[\"labels\"], title=\"Manifold mu\")"
   ]
  },
  {
   "cell_type": "markdown",
   "metadata": {},
   "source": [
    "### Совмещение ошибки восстановления и KL-дивергенции"
   ]
  },
  {
   "cell_type": "markdown",
   "metadata": {},
   "source": [
    "<center><img src=\"https://edunet.kea.su/repo/EduNet-web_dependencies/dev-2.1/L12/kl_repr_loss.png\" alt=\"alttext\" width=\"350\"></center>\n",
    "\n",
    "<center><em>Source: <a href=\"https://www.jeremyjordan.me/variational-autoencoders/\">Variational Autoencoders</a></em></center>"
   ]
  },
  {
   "cell_type": "markdown",
   "metadata": {},
   "source": [
    "Обучим VAE, штрафуя его и за качество восстановления (` recon_weight=1.0`), и за отличие распределения латентных представлений от стандартого нормального (`kld_weight=0.005`):"
   ]
  },
  {
   "cell_type": "code",
   "execution_count": null,
   "metadata": {},
   "outputs": [],
   "source": [
    "!mkdir lightning_logs/VAE_latent_dim=2"
   ]
  },
  {
   "cell_type": "code",
   "execution_count": null,
   "metadata": {},
   "outputs": [],
   "source": [
    "L.seed_everything(42)\n",
    "\n",
    "latent_dim = 2\n",
    "encoder = VAEEncoder(latent_dim=latent_dim * 2)\n",
    "decoder = Decoder(latent_dim=latent_dim)\n",
    "\n",
    "autoencoder = LitVAE(encoder, decoder, kld_weight=0.005, recon_weight=1.0)\n",
    "\n",
    "exp_name = f\"VAE_latent_dim={latent_dim}\"\n",
    "logger = TensorBoardLogger(save_dir=\"lightning_logs\", name=exp_name)\n",
    "trainer = L.Trainer(max_epochs=5, logger=logger)\n",
    "\n",
    "trainer.fit(autoencoder, train_loader, val_loader)"
   ]
  },
  {
   "cell_type": "code",
   "execution_count": null,
   "metadata": {},
   "outputs": [],
   "source": [
    "trainer.test(autoencoder, test_loader)\n",
    "run_res = autoencoder.test_result\n",
    "\n",
    "mu, log_var = autoencoder.vae_split(run_res[\"latent\"])\n",
    "\n",
    "mu, log_var = torch.tensor(mu), torch.tensor(log_var)\n",
    "sample = autoencoder.vae_reparametrize(mu, log_var).numpy()"
   ]
  },
  {
   "cell_type": "code",
   "execution_count": null,
   "metadata": {},
   "outputs": [],
   "source": [
    "pal = sns.color_palette(\"Paired\", n_colors=10)\n",
    "plot_manifold(sample, run_res[\"labels\"])"
   ]
  },
  {
   "cell_type": "markdown",
   "metadata": {},
   "source": [
    "Картина в латентном пространстве мало чем отличается от той, что мы получали в обычном автоэнкодере. Это от того, что мы пропустили каждый образец тестовой выборки через автоэнкодер всего один раз и каждое изображение отобразилось в одну конкретную точку. Эффект от вариативности VAE можно заметить на множестве запусков, тогда при каждом запуске каждое изображение будет отображаться в близкие, но различные точки в латентном пространстве.\n",
    "\n",
    "Посмотрим на этот эффект на 10 запусках VAE на тестовой выборке:"
   ]
  },
  {
   "cell_type": "code",
   "execution_count": null,
   "metadata": {},
   "outputs": [],
   "source": [
    "total_samples, total_labels = [], []\n",
    "\n",
    "for _ in range(10):\n",
    "    # process test data with VAE\n",
    "    trainer.test(autoencoder, test_loader)\n",
    "    run_res = autoencoder.test_result\n",
    "\n",
    "    # do vae_split and vae_reparametrize\n",
    "    mu, log_var = autoencoder.vae_split(run_res[\"latent\"])\n",
    "    mu, log_var = torch.tensor(mu), torch.tensor(log_var)\n",
    "    sample = autoencoder.vae_reparametrize(mu, log_var).numpy()\n",
    "\n",
    "    # accumulate results over several runs\n",
    "    total_samples.append(sample)\n",
    "    total_labels.append(run_res[\"labels\"])\n",
    "\n",
    "total_samples = np.vstack(total_samples)\n",
    "total_labels = np.vstack(total_labels)\n",
    "clear_output()"
   ]
  },
  {
   "cell_type": "code",
   "execution_count": null,
   "metadata": {},
   "outputs": [],
   "source": [
    "plot_manifold(\n",
    "    total_samples,\n",
    "    total_labels.flatten(),\n",
    "    alpha=0.5,\n",
    "    title=\"VAE latent space after reparametrization\",\n",
    ")"
   ]
  },
  {
   "cell_type": "markdown",
   "metadata": {},
   "source": [
    "Видим, что цифры разделились в пространстве, но при этом жмутся друг к другу. При этом, что интересно, 4 и 9 почти неотличимы. Это можно объяснить тем, что двух компонент недостаточно, чтобы разделить настолько похожие цифры (по сути, все отличие в заполненности области между двумя рожками 4)."
   ]
  },
  {
   "cell_type": "markdown",
   "metadata": {},
   "source": [
    "## Плавная интерполяция"
   ]
  },
  {
   "cell_type": "markdown",
   "metadata": {},
   "source": [
    "Можем \"погулять\" по латентному пространству и посмотреть на генерируемые из него изображения. Если мы используем размерность латентного пространства 2, мы можем взять точки в узлах равномерной сетки по двум латентным координатам и подать их в декодер.\n"
   ]
  },
  {
   "cell_type": "code",
   "execution_count": null,
   "metadata": {},
   "outputs": [],
   "source": [
    "steps = 20  # number of images in a row\n",
    "space1 = torch.linspace(2, -2, steps)\n",
    "space2 = torch.linspace(-2, 2, steps)\n",
    "grid = torch.cartesian_prod(space1, space2)\n",
    "grid[:, [0, 1]] = grid[:, [1, 0]]\n",
    "\n",
    "plt.figure(figsize=(8, 8))\n",
    "plt.scatter(total_samples[:, 0], total_samples[:, 1], c=total_labels.flatten(), cmap=\"tab10\", alpha=0.5)\n",
    "plt.colorbar()\n",
    "plt.scatter(grid.numpy()[:, 0], grid.numpy()[:, 1], c='k', s=0.7)\n",
    "plt.show()"
   ]
  },
  {
   "cell_type": "markdown",
   "metadata": {},
   "source": [
    "В итоге получим плавные переходы между цифрами:"
   ]
  },
  {
   "cell_type": "code",
   "execution_count": null,
   "metadata": {},
   "outputs": [],
   "source": [
    "with torch.no_grad():\n",
    "    imgs = F.sigmoid(autoencoder.decoder(grid))\n",
    "    imgs = imgs.to(\"cpu\").numpy().squeeze()\n",
    "\n",
    "plot_samples(\n",
    "    *[imgs[x : x + steps] for x in range(0, steps * steps, steps)], single_size=0.35\n",
    ")"
   ]
  },
  {
   "cell_type": "markdown",
   "metadata": {},
   "source": [
    "Посмотрим, как теперь получится интерполировать между теми же цифрами 7 и 6. Для сравнения с результатом, полученным обычным автоэнкодером, возьмем размерность латентного пространства такую же, как у него (24)."
   ]
  },
  {
   "cell_type": "code",
   "execution_count": null,
   "metadata": {},
   "outputs": [],
   "source": [
    "!mkdir lightning_logs/VAE_latent_dim=24"
   ]
  },
  {
   "cell_type": "code",
   "execution_count": null,
   "metadata": {},
   "outputs": [],
   "source": [
    "L.seed_everything(42)\n",
    "\n",
    "latent_dim = 24\n",
    "encoder = VAEEncoder(latent_dim=latent_dim * 2)\n",
    "decoder = Decoder(latent_dim=latent_dim)\n",
    "\n",
    "autoencoder = LitVAE(encoder, decoder)\n",
    "\n",
    "exp_name = f\"VAE_latent_dim={latent_dim}\"\n",
    "logger = TensorBoardLogger(save_dir=\"lightning_logs\", name=exp_name)\n",
    "trainer = L.Trainer(max_epochs=5, logger=logger)\n",
    "\n",
    "trainer.fit(autoencoder, train_loader, val_loader)"
   ]
  },
  {
   "cell_type": "code",
   "execution_count": null,
   "metadata": {},
   "outputs": [],
   "source": [
    "seven = (test_set.data[test_set.targets == 7][2:3] / 255).unsqueeze(0)\n",
    "six = (test_set.data[test_set.targets == 6][1:2] / 255).unsqueeze(0)\n",
    "\n",
    "latent_space1_mu, _ = autoencoder.vae_split(autoencoder.encoder(seven))\n",
    "latent_space2_mu, _ = autoencoder.vae_split(autoencoder.encoder(six))"
   ]
  },
  {
   "cell_type": "code",
   "execution_count": null,
   "metadata": {},
   "outputs": [],
   "source": [
    "interp_steps = 10\n",
    "weight = torch.linspace(0, 1, steps=interp_steps)\n",
    "interp = torch.lerp(\n",
    "    latent_space1_mu.repeat(interp_steps, 1),\n",
    "    latent_space2_mu.repeat(interp_steps, 1),\n",
    "    weight=weight.view(-1, 1),\n",
    ")\n",
    "iterp_imgs = F.sigmoid(autoencoder.decoder(interp))\n",
    "_, axs = plt.subplots(nrows=1, ncols=interp_steps, figsize=(16, 4))\n",
    "for step in range(0, interp_steps):\n",
    "    figure = iterp_imgs[step].cpu().detach().numpy()\n",
    "    figure = figure.reshape(28, 28)\n",
    "    ax = axs[step]\n",
    "    ax.imshow(figure, cmap=\"gray_r\", clim=(0, 1))\n",
    "    ax.grid(False)\n",
    "    ax.get_xaxis().set_visible(False)\n",
    "    ax.get_yaxis().set_visible(False);"
   ]
  },
  {
   "cell_type": "markdown",
   "metadata": {},
   "source": [
    "Видим плавную интерполяцию. Посмотрим на примере с видео."
   ]
  },
  {
   "cell_type": "code",
   "execution_count": null,
   "metadata": {},
   "outputs": [],
   "source": [
    "from PIL import Image\n",
    "\n",
    "interp_steps = 200\n",
    "weight = torch.linspace(0, 1, steps=interp_steps)\n",
    "interp = torch.lerp(\n",
    "    latent_space1_mu.repeat(interp_steps, 1),\n",
    "    latent_space2_mu.repeat(interp_steps, 1),\n",
    "    weight=weight.view(-1, 1),\n",
    ")\n",
    "iterp_imgs = F.sigmoid(autoencoder.decoder(interp))\n",
    "\n",
    "\n",
    "resize_coeff = 10\n",
    "imgs = np.squeeze(iterp_imgs.cpu().detach().numpy())\n",
    "size = (imgs.shape[1] * resize_coeff, imgs.shape[2] * resize_coeff)\n",
    "\n",
    "\n",
    "imgs = [\n",
    "    Image.fromarray(np.uint8(255 - img * 255)).resize(size).convert(\"RGB\")\n",
    "    for img in imgs\n",
    "]\n",
    "imgs[0].save(\n",
    "    \"vae_img.gif\",\n",
    "    save_all=True,\n",
    "    append_images=imgs[1:],\n",
    "    optimize=False,\n",
    "    duration=40,\n",
    "    loop=0,\n",
    ")"
   ]
  },
  {
   "cell_type": "code",
   "execution_count": null,
   "metadata": {},
   "outputs": [],
   "source": [
    "from IPython.display import Image as iImage\n",
    "\n",
    "iImage(open(\"vae_img.gif\", \"rb\").read())"
   ]
  },
  {
   "cell_type": "markdown",
   "metadata": {},
   "source": [
    "Семерка стремится сперва перевестись в девятку, которая затем переходит в шестерку, попутно представляя что-то похожее на восьмерку. Похоже, линия интерполяции теперь в меньшей степени проходит через \"пустоты\", из которых декодер не умеет восстанавливать что-то похожее на реальные цифры."
   ]
  },
  {
   "cell_type": "markdown",
   "metadata": {},
   "source": [
    "Проверим наконец, что вариационный автоэнкодер работает как автоэнкодер и может, к примеру, убирать шум."
   ]
  },
  {
   "cell_type": "code",
   "execution_count": null,
   "metadata": {},
   "outputs": [],
   "source": [
    "trainer.test(autoencoder, test_noised_loader)\n",
    "run_res = autoencoder.test_result\n",
    "\n",
    "plot_samples(run_res[\"real\"][0:9], run_res[\"recon\"][0:9])"
   ]
  },
  {
   "cell_type": "markdown",
   "metadata": {},
   "source": [
    "Аналогично посмотрим, как он восстанавливает изображения"
   ]
  },
  {
   "cell_type": "code",
   "execution_count": null,
   "metadata": {},
   "outputs": [],
   "source": [
    "trainer.test(autoencoder, test_loader)\n",
    "run_res = autoencoder.test_result\n",
    "\n",
    "plot_samples(run_res[\"real\"][0:9], run_res[\"recon\"][0:9])"
   ]
  },
  {
   "cell_type": "markdown",
   "metadata": {},
   "source": [
    "Работает, но изображения получаются \"размытыми\". Это следствие сэмплирования из нормального распределения."
   ]
  },
  {
   "cell_type": "markdown",
   "metadata": {},
   "source": [
    "## Векторная арифметика"
   ]
  },
  {
   "cell_type": "markdown",
   "metadata": {},
   "source": [
    "В принципе, можно даже в латентном пространстве брать разницу черт написания двух одинаковых цифр, прибавлять к другой цифре, получая в результате цифру, написанную немного по-другому."
   ]
  },
  {
   "cell_type": "markdown",
   "metadata": {},
   "source": [
    "Такое можно делать и для других областей. Например, при генерации фотографий лиц в латентном пространстве можно найти координату, отвечающую за \"бородатость\" лица. Прибавляя к латентному вектору лица без бороды вектор той или иной меры \"бородатости\", можно генерировать в той или иной степени бородатые лица."
   ]
  },
  {
   "cell_type": "markdown",
   "metadata": {},
   "source": [
    "<img src=\"https://edunet.kea.su/repo/EduNet-content/dev-2.1/L12/out/vector_arithmetic_add_new_property.png\" alt=\"alttext\" width=\"500\">"
   ]
  },
  {
   "cell_type": "markdown",
   "metadata": {},
   "source": [
    "Подробнее:\n",
    "\n",
    "У нас есть 1, написанная без наклона, и 1, написанная с наклоном.\n",
    "И у нас есть 9 без наклона.\n",
    "\n",
    "Вычитаем из девятки единицу без наклона и прибавляем единицу с наклоном. Если все пройдет хорошо, получим девятку с наклоном.\n",
    "\n",
    "\n",
    "\n"
   ]
  },
  {
   "cell_type": "markdown",
   "metadata": {},
   "source": [
    "<img src=\"https://edunet.kea.su/repo/EduNet-web_dependencies/dev-2.1/L12/vector_arithmetic_example.png\" alt=\"alttext\" width=\"550\">\n",
    "\n",
    "<em>Source: <a href=\"https://blog.otoro.net/2016/04/01/generating-large-images-from-latent-vectors/#:~:text=First%2C%20let%E2%80%99s%20get,the%20autoencoded%20version\">Generating Large Images from Latent Vectors</a></em>\n",
    "\n",
    "\n"
   ]
  },
  {
   "cell_type": "markdown",
   "metadata": {},
   "source": [
    "Попробуем это сделать сами"
   ]
  },
  {
   "cell_type": "code",
   "execution_count": null,
   "metadata": {},
   "outputs": [],
   "source": [
    "imgs, labels = next(iter(test_loader))\n",
    "real_9_straight = imgs[labels == 9][6:7]  # find some straight \"nine\"\n",
    "real_1_straight = imgs[labels == 1][3:4]  # find some straight \"one\"\n",
    "real_1_tilted = imgs[labels == 1][0:1]  # find some tilted \"one\""
   ]
  },
  {
   "cell_type": "code",
   "execution_count": null,
   "metadata": {},
   "outputs": [],
   "source": [
    "size = (256, 256)\n",
    "Image.fromarray(np.uint8(255 - np.squeeze(real_9_straight.numpy()) * 255)).resize(size)"
   ]
  },
  {
   "cell_type": "code",
   "execution_count": null,
   "metadata": {},
   "outputs": [],
   "source": [
    "Image.fromarray(np.uint8(255 - np.squeeze(real_1_straight.numpy()) * 255)).resize(size)"
   ]
  },
  {
   "cell_type": "code",
   "execution_count": null,
   "metadata": {},
   "outputs": [],
   "source": [
    "Image.fromarray(np.uint8(255 - np.squeeze(real_1_tilted.numpy()) * 255)).resize(size)"
   ]
  },
  {
   "cell_type": "code",
   "execution_count": null,
   "metadata": {},
   "outputs": [],
   "source": [
    "latent_9_straight, _ = autoencoder.vae_split(autoencoder.encoder(real_9_straight))\n",
    "latent_1_straight, _ = autoencoder.vae_split(autoencoder.encoder(real_1_straight))\n",
    "latent_1_tilted, _ = autoencoder.vae_split(autoencoder.encoder(real_1_tilted))"
   ]
  },
  {
   "cell_type": "code",
   "execution_count": null,
   "metadata": {},
   "outputs": [],
   "source": [
    "latent_9_tilted = latent_9_straight - latent_1_straight + latent_1_tilted\n",
    "gen_9_tilted = F.sigmoid(autoencoder.decoder(latent_9_tilted))"
   ]
  },
  {
   "cell_type": "code",
   "execution_count": null,
   "metadata": {},
   "outputs": [],
   "source": [
    "Image.fromarray(\n",
    "    np.uint8(255 - np.squeeze(gen_9_tilted.cpu().detach().numpy()) * 255)\n",
    ").resize(size)"
   ]
  },
  {
   "cell_type": "markdown",
   "metadata": {},
   "source": [
    "Удалось перенести наклон единицы на девятку. Получилось неплохо, однако простой VAE не гарантирует того, что \"фокус удастся\". Для получения возможности использовать векторную арифметику могут применяться специальные функции потерь и архитектуры."
   ]
  },
  {
   "cell_type": "markdown",
   "metadata": {},
   "source": [
    "## Ограничения VAE"
   ]
  },
  {
   "cell_type": "markdown",
   "metadata": {},
   "source": [
    "Одна из проблем VAE, с которой можно столкнуться, состоит в том, что две компоненты функции потерь конфликтуют друг с другом. Если будет доминировать KL-loss, то мы получим представление, из которого наши объекты очень плохо восстанавливаются — они раскиданы по представлению, как угодно.\n",
    "\n",
    "Если же, наоборот, будет доминировать reconstruction loss, то мы получим ситуацию, в которой объекты восстанавливаются нормально, однако в латентном пространстве есть пустоты.\n",
    "\n",
    "Проблема возникает и с самой KL-дивергенцией, у которой есть ряд существенных недостатков. Есть другие способы оценки близости двух распределений, которые порой дают лучшие результаты. К ним относятся дивергенция Йенсена — Шеннона и метрика Вассерштейна (используется в Wasserstein autoencoders), изучение которых выходит за рамки курса.\n",
    "\n",
    "Кроме того, в случае, когда декодировщик содержит значительно больше параметров, нежели кодировщик, может возникать ситуация, при которой сгенерированное латентное представление игнорируется."
   ]
  },
  {
   "cell_type": "markdown",
   "metadata": {},
   "source": [
    "# Условные вариационные автоэнкодеры (CVAE)"
   ]
  },
  {
   "cell_type": "markdown",
   "metadata": {},
   "source": [
    "## Реализация CVAE"
   ]
  },
  {
   "cell_type": "markdown",
   "metadata": {},
   "source": [
    "Как, используя обычный VAE, сгенерировать картинку с заданной меткой?\n",
    "\n",
    "На самом деле, задача нетривиальна. Как вариант, мы можем понять, в какие области латентного пространства VAE отображает разные цифры, и затем сэмплировать уже из этих областей.\n",
    "\n",
    "Хорошо, а если мы хотим нарисовать единицу тем же почерком, которым нарисована данная нам тройка? В этом случае классический VAE вообще не получится использовать.\n",
    "\n",
    "В случае, если мы имеем априорную информацию, например, разметку изображений по классам, мы можем подавать ее в модель при обучении. Тем самым мы можем *обуславливать* декодировщик на генерацию объекта конкретного класса. Таким образом мы можем получить Conditional VAE (CVAE)."
   ]
  },
  {
   "cell_type": "markdown",
   "metadata": {},
   "source": [
    "<img src=\"https://edunet.kea.su/repo/EduNet-content/dev-2.1/L12/out/cvae_scheme.png\" alt=\"alttext\" width=\"850\">\n"
   ]
  },
  {
   "cell_type": "markdown",
   "metadata": {},
   "source": [
    "Как подмешивать метку к изображению, чтобы передать это полностью свёрточной нейронной сети, не очевидно и обычно не нужно. Часто достаточно передавать метку только декодеру. Энкодер имеет в распоряжении изначальный объект и при желании может предсказать его метку сам.\n",
    "\n",
    "Напишем код для CVAE. По сути надо поменять только декодер."
   ]
  },
  {
   "cell_type": "markdown",
   "metadata": {},
   "source": [
    "Для кодирования метки класса добавим в декодер слой `label_embedding`, содержащий модуль `nn.Embedding`. Этот модуль будет обучать векторные представления меток классов и переводить их в вектора с размерностью `class_dim`. Размерность этих эмбеддингов, в общем случае, должна быть сопоставима с размерностью скрытого представления самого автоэнкодера.\n",
    "\n",
    "Во время работы мы будем конкатенировать латентное представление, полученное после репараметризации выхода энкодера, с векторным представлением метки класса. Для этого требуется изменить количество входов линейного слоя декодера."
   ]
  },
  {
   "cell_type": "code",
   "execution_count": null,
   "metadata": {},
   "outputs": [],
   "source": [
    "class CDecoder(Decoder):\n",
    "    def __init__(self, latent_dim, class_dim):\n",
    "        super().__init__(latent_dim)\n",
    "\n",
    "        self.label_embedding = nn.Embedding(num_embeddings=10, embedding_dim=class_dim)\n",
    "\n",
    "        linear_out_features = self.linear.out_features\n",
    "\n",
    "        # linear will take latent vector concatenated with label embedding\n",
    "        self.linear = nn.Linear(\n",
    "            in_features=latent_dim + class_dim,\n",
    "            out_features=linear_out_features,\n",
    "        )\n",
    "\n",
    "    def forward(self, x, label):\n",
    "        label = self.label_embedding(label)\n",
    "        x = torch.cat(\n",
    "            [x, label], dim=1\n",
    "        )  # concatenate latent vector and label embedding\n",
    "        x = self.linear(x)\n",
    "        x = x.view(-1, 256, 2, 2)\n",
    "        x = self.decoder(x)\n",
    "        return x"
   ]
  },
  {
   "cell_type": "markdown",
   "metadata": {},
   "source": [
    "Для описания CVAE потребуется лишь внести изменение в логику прохождения данных через модель (метод `forward_handler`): декодер принимает не только сэмпл после репараметризации выхода энкодера, но еще и метку класса. Вся остальная логика полностью наследуется от VAE."
   ]
  },
  {
   "cell_type": "code",
   "execution_count": null,
   "metadata": {},
   "outputs": [],
   "source": [
    "import lightning as L\n",
    "import torch.nn.functional as F\n",
    "\n",
    "\n",
    "class LitCVAE(LitVAE):\n",
    "    def forward_handler(self, data, labels, *args, **kwargs):\n",
    "        # here is the logic how data is moved through AE\n",
    "        latent = self.encoder(data)\n",
    "\n",
    "        mu, log_var = self.vae_split(latent)\n",
    "        sample = self.vae_reparametrize(mu, log_var)\n",
    "\n",
    "        # decoder takes latent vector and class label\n",
    "        recon = self.decoder(sample, labels)\n",
    "        return latent, recon"
   ]
  },
  {
   "cell_type": "code",
   "execution_count": null,
   "metadata": {},
   "outputs": [],
   "source": [
    "!mkdir lightning_logs/CVAE_latent_dim=2"
   ]
  },
  {
   "cell_type": "code",
   "execution_count": null,
   "metadata": {},
   "outputs": [],
   "source": [
    "L.seed_everything(42)\n",
    "\n",
    "latent_dim = 2\n",
    "class_dim = 4\n",
    "encoder = VAEEncoder(latent_dim=latent_dim * 2)\n",
    "decoder = CDecoder(latent_dim=latent_dim, class_dim=class_dim)\n",
    "\n",
    "autoencoder = LitCVAE(encoder, decoder)\n",
    "\n",
    "exp_name = f\"CVAE_latent_dim={latent_dim}\"\n",
    "logger = TensorBoardLogger(save_dir=\"lightning_logs\", name=exp_name)\n",
    "trainer = L.Trainer(max_epochs=5, logger=logger)\n",
    "\n",
    "trainer.fit(autoencoder, train_loader, val_loader)"
   ]
  },
  {
   "cell_type": "code",
   "execution_count": null,
   "metadata": {},
   "outputs": [],
   "source": [
    "trainer.test(autoencoder, test_loader)\n",
    "run_res = autoencoder.test_result\n",
    "\n",
    "plot_samples(run_res[\"real\"][0:9], run_res[\"recon\"][0:9])"
   ]
  },
  {
   "cell_type": "markdown",
   "metadata": {},
   "source": [
    "Добавив передачу метки в декодер, мы позволили автоэнкодеру отображать все цифры в \"одно место\". За счет этого ему легче стало учиться.\n",
    "\n",
    "При этом, если нарисовать латентное представление для всех наших цифр разом, получится комок, сосредоточенный в области нормального распределения. Это не значит, что оно плохое. Просто наша картина не учитывает, что нейросеть различает цифры теперь по меткам, а не по латентному представлению."
   ]
  },
  {
   "cell_type": "code",
   "execution_count": null,
   "metadata": {},
   "outputs": [],
   "source": [
    "plot_manifold(run_res[\"latent\"], run_res[\"labels\"])"
   ]
  },
  {
   "cell_type": "markdown",
   "metadata": {},
   "source": [
    "Теперь у каждой цифры \"свое\" нормальное распределение."
   ]
  },
  {
   "cell_type": "code",
   "execution_count": null,
   "metadata": {},
   "outputs": [],
   "source": [
    "plot_manifold(run_res[\"latent\"][run_res[\"labels\"] == 4])"
   ]
  },
  {
   "cell_type": "code",
   "execution_count": null,
   "metadata": {},
   "outputs": [],
   "source": [
    "plot_manifold(run_res[\"latent\"][run_res[\"labels\"] == 9])"
   ]
  },
  {
   "cell_type": "markdown",
   "metadata": {},
   "source": [
    "### Генерация заданных цифр из латентного распределения"
   ]
  },
  {
   "cell_type": "markdown",
   "metadata": {},
   "source": [
    "Посмотрим, как выглядит наше латентное представление, скажем, для четверок, которых мы до этого почти не видели (сливались с 9)."
   ]
  },
  {
   "cell_type": "code",
   "execution_count": null,
   "metadata": {},
   "outputs": [],
   "source": [
    "steps = 20  # number of images in a row\n",
    "space1 = torch.linspace(2, -2, steps)\n",
    "space2 = torch.linspace(-2, 2, steps)\n",
    "grid = torch.cartesian_prod(space1, space2)\n",
    "grid[:, [0, 1]] = grid[:, [1, 0]]\n",
    "\n",
    "label = torch.full((grid.shape[0],), 4)\n",
    "with torch.no_grad():\n",
    "    imgs = F.sigmoid(autoencoder.decoder(grid, label))\n",
    "    imgs = imgs.cpu().numpy().squeeze()\n",
    "\n",
    "plot_samples(\n",
    "    *[imgs[x : x + steps] for x in range(0, steps * steps, steps)], single_size=0.35\n",
    ")"
   ]
  },
  {
   "cell_type": "markdown",
   "metadata": {},
   "source": [
    "Видим, как у нас четверки плавно расположены по стилю."
   ]
  },
  {
   "cell_type": "code",
   "execution_count": null,
   "metadata": {},
   "outputs": [],
   "source": [
    "label = torch.full((grid.shape[0],), 9)\n",
    "with torch.no_grad():\n",
    "    imgs = F.sigmoid(autoencoder.decoder(grid, label))\n",
    "    imgs = imgs.cpu().numpy().squeeze()\n",
    "\n",
    "plot_samples(\n",
    "    *[imgs[x : x + steps] for x in range(0, steps * steps, steps)], single_size=0.35\n",
    ")"
   ]
  },
  {
   "cell_type": "markdown",
   "metadata": {},
   "source": [
    "При желании можно посмотреть на процесс того, как нейросеть учит такие латентные представления.\n",
    "\n",
    "Ниже показано, как нейросеть выполняет задачу генерации заданной цифры по мере обучения и как выглядит латентное представление объектов, относящихся к данной цифре (для примера взята семерка)."
   ]
  },
  {
   "cell_type": "markdown",
   "metadata": {},
   "source": [
    "<table><tr>\n",
    "<td> <img src=\"https://edunet.kea.su/repo/EduNet-web_dependencies/dev-2.1/L12/gen_cvae_7.gif\" alt=\"alttext\" style=\"width: 400px;\"/> </td>\n",
    "<td> <img src=\"https://edunet.kea.su/repo/EduNet-web_dependencies/dev-2.1/L12/lat_cvae_7.gif\" alt=\"alttext\" style=\"width: 400px;\"/> </td>\n",
    "</tr></table>\n",
    "\n",
    "<em>Source: <a href=\"https://habr.com/ru/articles/331664/\">Автоэнкодеры в Keras, Часть 4: Conditional VAE</a></em>"
   ]
  },
  {
   "cell_type": "markdown",
   "metadata": {},
   "source": [
    "### Генерация заданных цифр с переносом стиля"
   ]
  },
  {
   "cell_type": "markdown",
   "metadata": {},
   "source": [
    "Также успешно такая нейросеть справится в задаче, где мы используем латентное представление одной цифры  для того, чтобы сгенерировать цифру с таким же стилем написания.\n",
    "\n",
    "Чтобы сделать это, достаточно просто получить латентное представление для 7, а затем передать его в декодер с меткой 3."
   ]
  },
  {
   "cell_type": "markdown",
   "metadata": {},
   "source": [
    "<img src=\"https://edunet.kea.su/repo/EduNet-content/dev-2.1/L12/out/generation_indicated_digits_from_latent_space.png\" >\n"
   ]
  },
  {
   "cell_type": "markdown",
   "metadata": {},
   "source": [
    "Результаты переноса стилей для нескольких разных 7 представлены ниже.\n",
    "\n"
   ]
  },
  {
   "cell_type": "markdown",
   "metadata": {},
   "source": [
    "<img src=\"https://edunet.kea.su/repo/EduNet-web_dependencies/dev-2.1/L12/style_transfer_7.png\" alt=\"alttext\" width=\"500\">\n",
    "\n",
    "<em>Source: <a href=\"https://habr.com/ru/articles/331664/\">Автоэнкодеры в Keras, Часть 4: Conditional VAE</a></em>"
   ]
  },
  {
   "cell_type": "markdown",
   "metadata": {},
   "source": [
    "Сделаем то же самое. Выберем двойку и сгенерируем другие цифры в её стиле."
   ]
  },
  {
   "cell_type": "code",
   "execution_count": null,
   "metadata": {},
   "outputs": [],
   "source": [
    "imgs, labels = next(iter(test_loader))\n",
    "real = imgs[labels == 2][4:5]"
   ]
  },
  {
   "cell_type": "code",
   "execution_count": null,
   "metadata": {},
   "outputs": [],
   "source": [
    "size = (256, 256)\n",
    "Image.fromarray(np.uint8(255 - np.squeeze(real.numpy()) * 255)).resize(size)"
   ]
  },
  {
   "cell_type": "code",
   "execution_count": null,
   "metadata": {},
   "outputs": [],
   "source": [
    "torch.manual_seed(42)\n",
    "\n",
    "sample_size = 10\n",
    "\n",
    "mu, log_var = autoencoder.vae_split(autoencoder.encoder(real))\n",
    "sigma = torch.exp(0.5 * log_var)\n",
    "z = torch.randn(sample_size, mu.shape[1])\n",
    "latent = z * sigma + mu\n",
    "\n",
    "label = torch.arange(10)"
   ]
  },
  {
   "cell_type": "code",
   "execution_count": null,
   "metadata": {},
   "outputs": [],
   "source": [
    "with torch.no_grad():\n",
    "    imgs = F.sigmoid(autoencoder.decoder(latent, label))\n",
    "    imgs = np.squeeze(imgs.cpu().numpy())"
   ]
  },
  {
   "cell_type": "code",
   "execution_count": null,
   "metadata": {},
   "outputs": [],
   "source": [
    "plot_samples(imgs)"
   ]
  },
  {
   "cell_type": "markdown",
   "metadata": {},
   "source": [
    "## Разделение стиля и метки"
   ]
  },
  {
   "cell_type": "markdown",
   "metadata": {},
   "source": [
    "В CVAE мы полагаемся на то, что если декодер получает метку класса извне, то информация о метке не кодируется в латентном пространстве.\n",
    "\n",
    "Можно явно внести в CVAE дополнительное требование, чтобы информация о метке класса \"не утекала\" в латентное пространство. Для этого можно добавить дополнительный классификатор, который будет получать на вход вектор из латентного пространства и пытаться по нему предсказать класс объекта.\n",
    "\n",
    "Если **классификатор будет хорошо справляться с этой задачей**, то это значит, что информация о классе утекла в латентное пространство, и **за это мы должны штрафовать энкодер**.\n",
    "\n",
    "Таким образом, энкодер будет вынужден кодировать в латентное пространство другие абстрактные признаки вроде стиля, но не метку класса, и тогда перенос стиля будет работать еще точнее.\n",
    "\n",
    "Такой подход называется разделением (или \"распутыванием\", англ.\"disentangling\") стиля и метки класса в латентном пространстве."
   ]
  },
  {
   "cell_type": "markdown",
   "metadata": {},
   "source": [
    "<img src=\"https://edunet.kea.su/repo/EduNet-content/dev-2.1/L12/out/disentangling_style_and_label.png\" alt=\"alttext\" width=\"850\">"
   ]
  },
  {
   "cell_type": "markdown",
   "metadata": {},
   "source": [
    "<font size=\"6\">Литература</font>\n",
    "\n",
    "<font size = \"5\">Representation learning:</font>\n",
    "\n",
    "* [[arxiv] 🎓 Representation Learning: A Review and New Perspectives (Yoshua Bengio et al., 2012)](https://arxiv.org/abs/1206.5538)\n",
    "* [[blog] ✏️ A Few Words on Representation Learning (Silva, 2021)](https://sthalles.github.io/a-few-words-on-representation-learning/)\n",
    "* [[arxiv] 🎓 Language Models are Few-Shot Learners (Brown et al., 2020)](https://arxiv.org/abs/2005.14165)\n",
    "* [[video] 📺 Unsupervised Deep Learning — Google DeepMind & Facebook Artificial Intelligence NeurIPS 2018](https://www.youtube.com/watch?v=rjZCjosEFpI)\n",
    "\n",
    "<font size = \"5\">Metric learning:</font>\n",
    "\n",
    "* [[arxiv] 🎓 FaceNet: A Unified Embedding for Face Recognition and Clustering (Schroff et al., 2015)](https://arxiv.org/abs/1503.03832)\n",
    "* [[blog] ✏️ One-Shot Learning for Face Recognition](https://machinelearningmastery.com/one-shot-learning-with-siamese-networks-contrastive-and-triplet-loss-for-face-recognition/)\n",
    "* [[blog] ✏️ Ищем знакомые лица](https://habr.com/ru/post/317798/)\n",
    "* [[article] 🎓 Siamese Neural Networks for One-shot Image Recognition (Koch et al., 2015)](https://www.cs.cmu.edu/~rsalakhu/papers/oneshot1.pdf)\n",
    "* [[article] 🎓 Dimensionality Reduction by Learning an Invariant Mapping (Hadsell et al., 2005)](https://www.researchgate.net/publication/4246277_Dimensionality_Reduction_by_Learning_an_Invariant_Mapping)\n",
    "* [[blog] ✏️ The Curse of Dimensionality in classification](https://www.visiondummy.com/2014/04/curse-dimensionality-affect-classification/)\n",
    "\n",
    "<font size=\"5\">Автоэнкодеры (AE):</font>\n",
    "\n",
    "* [[blog] ✏️ Using PCA on MNIST](https://ryanwingate.com/intro-to-machine-learning/unsupervised/pca-on-mnist/)\n",
    "* [[video] 📺 Нейронные сети для снижения размерности, лекция Техносферы](https://www.youtube.com/watch?v=W5JLSKcuaQo)\n",
    "* [[article] 🎓 Face recognition using eigenfaces](https://ieeexplore.ieee.org/document/139758)\n",
    "* Удаление шума из:\n",
    " * [[blog] ✏️ изображений](https://debuggercafe.com/autoencoder-neural-network-application-to-image-denoising/)\n",
    " * [[blog] ✏️ текста](https://debuggercafe.com/denoising-text-image-documents-using-autoencoders/)\n",
    "* [[blog] ✏️ How Autoencoders Work: Intro and UseCases](https://www.kaggle.com/shivamb/how-autoencoders-work-intro-and-usecases)\n",
    "* [[blog] ✏️ Jeremy Jordan, Introduction to autoencoders](https://www.jeremyjordan.me/autoencoders/)\n",
    "\n",
    "<font size=\"5\">Вариационные автоэнкодеры (VAE): </font>\n",
    "\n",
    "* [[arxiv] 🎓 Auto-Encoding Variational Bayes (Kingma, Welling, 2013)](https://arxiv.org/abs/1312.6114) — оригинальная статья по VAE\n",
    "* [[arxiv] 🎓 Tutorial on Variational Autoencoders (Doersch, 2021)](https://arxiv.org/pdf/1606.05908.pdf)\n",
    "* [[video] 📺 Ali Ghodsi, Variational Autoencoders (VAEs)](https://www.youtube.com/watch?v=gOIXGhW0VIs)\n",
    "* [[blog] ✏️ Jeremy Jordan, Variational autoencoders](https://www.jeremyjordan.me/variational-autoencoders/)\n",
    "* [[blog] ✏️ Getting Started with Variational Autoencoders using PyTorch](https://debuggercafe.com/getting-started-with-variational-autoencoder-using-pytorch/)\n",
    "* [[blog] ✏️ Generating Large Images from Latent Vectors](https://blog.otoro.net/2016/04/01/generating-large-images-from-latent-vectors/) — про векторную арифметику в VAE при генерации изображений\n",
    "* [[blog] ✏️ Pixel Art generation using VAE](https://mlexplained.wordpress.com/category/generative-models/vae/) — генерация анимированных персонажей\n",
    "* [[blog] ✏️ Введение в Conditional Variational Autoencoders (CVAE)](https://ijdykeman.github.io/ml/2016/12/21/cvae.html)\n",
    "* [[git] 🐾 Репозиторий с различными модификациями вариационных автоэнкодеров](https://github.com/AntixK/PyTorch-VAE)\n",
    "\n",
    "<font size=\"5\">KL-дивергенция: </font>\n",
    "\n",
    "* [[wiki] 📚 Дивергенция Кульбака-Лейблера](https://ru.wikipedia.org/wiki/Расстояние_Кульбака_—_Лейблера)\n",
    "* [[blog] ✏️ Мотивация KL-дивергенции](https://math.stackexchange.com/questions/90537/what-is-the-motivation-of-the-kullback-leibler-divergence)\n",
    "* Объяснение проблем и разницы между KL-дивергенцией, дивергенцией Йенсена-Шеннона и расстоянием Вассерштейна:\n",
    " * [[video] 📺 Часть 1, проблемы KL-дивергенции. Дивергенция Йенсена-Шеннона](https://www.youtube.com/watch?v=_z9bdayg8ZI) и\n",
    " * [[video] 📺 Часть 2, проблемы KL-дивергенции и дивергенции Йенсена-Шеннона. Расстояние Вассерштейна](https://www.youtube.com/watch?v=y8LGAhzCOxQ)\n",
    "\n",
    "\n",
    "<font size=\"5\">Модификации автоэнкодеров:</font>\n",
    "\n",
    "* [[git] 🐾 Adversarial Autoencoder, примеры на MXNet](https://github.com/nicklhy/AdversarialAutoEncoder)\n",
    "* [[git] 🐾 Deep Learning for Biology course materials](https://github.com/che-shr-cat/deep-learning-for-biology-hse-2019-course) — примеры AAE в 6 и 8 лекциях\n",
    "* [Contractive Autoencoders](http://www.icml-2011.org/papers/455_icmlpaper.pdf) — автоэнкодеры, родственные шумоподавляющим автокодировщикам\n",
    "* [[arxiv] 🎓 Variational lossy autoencoder](https://arxiv.org/pdf/1611.02731.pdf) — один из типов VAE, который пытается решить проблему того, что сильный декодер может игнорировать латентное представление\n",
    "* [[arxiv] 🎓 $\\beta$- VAE](https://arxiv.org/pdf/1804.03599.pdf) — еще одно возможное улучшение VAE\n",
    "* [[arxiv] 🎓 Wassershtein autoencoders](https://arxiv.org/pdf/1711.01558.pdf)\n",
    "* [[arxiv] 🎓 Concrete autoencoders](https://arxiv.org/abs/1901.09346) — позволяет выделять наиболее важные признаки"
   ]
  },
  {
   "cell_type": "markdown",
   "metadata": {},
   "source": [
    "<font size=\"5\">Полные обзоры по генеративным моделям:</font>\n",
    "\n",
    "* [[video] 📺 Generative Models Lecture](https://www.youtube.com/watch?v=5WoItGTWV54)\n",
    "* [[book] 📚 Deep Learning](https://www.deeplearningbook.org/)\n",
    " * [[book] 📚 Deep Learning Part 3, Chapter 14: Autoencoders](https://www.deeplearningbook.org/contents/autoencoders.html)\n",
    " * [[book] 📚 Deep Learning Part 3, Chapter 15: Representation Learning](https://www.deeplearningbook.org/contents/representation.html)\n",
    "  * [[book] 📚 Part 3, Chapter 20: Deep Generative Models](https://www.deeplearningbook.org/contents/generative_models.html)\n",
    "* Введение в автоэнкодеры на Хабре:\n",
    " * [[blog] ✏️ Введение](https://habr.com/ru/post/331382/)\n",
    " * [[blog] ✏️ Manifold learning и скрытые (latent) переменные](https://habr.com/ru/post/331500/)\n",
    " * [[blog] ✏️ Вариационные автоэнкодеры (VAE)](https://habr.com/ru/post/331552/)\n",
    " * [[blog] ✏️ Conditional VAE](https://habr.com/ru/post/331664/)\n",
    " * [[blog] ✏️GAN (Generative Adversarial Networks)](https://habr.com/ru/post/332000/)\n",
    " * [[blog] ✏️ GAN + VAE](https://habr.com/ru/post/332074/)\n",
    "* [[book] 📚 Deep Learning with python. Chapter 8: Generative deep learning](https://livebook.manning.com/book/deep-learning-with-python/chapter-8/)\n",
    "\n",
    "<font size=\"5\"> Примеры практического применения:</font>\n",
    "\n",
    "* [[arxiv] 🎓 Age Progression/Regression](https://arxiv.org/abs/1702.08423) — предсказание того, как будет выглядеть человек в другом возрасте\n",
    "* [[article] 🎓 druGAN, генерация новых химических веществ](https://pubs.acs.org/doi/10.1021/acs.molpharmaceut.7b00346)\n",
    "* [[article] 🎓 Генерация лекарств, специфически меняющих активность генов человека](https://www.frontiersin.org/articles/10.3389/fphar.2020.00269/full)\n",
    "* [[article] 🎓 Генерация ингибиторов определенного белка](https://www.nature.com/articles/s41587-019-0224-x)\n",
    "* [[article] 🎓 Получение латентных представлений транскриптомов](https://academic.oup.com/nar/article/48/10/e56/5814052)\n",
    "* [[article] 🎓 MethylNet](https://bmcbioinformatics.biomedcentral.com/articles/10.1186/s12859-020-3443-8) — использование метилирования генома для обучения латентного представления, помогающего в предсказании возраста и т.д.\n",
    "* [[article] 🎓 scVAE](https://academic.oup.com/bioinformatics/article-abstract/36/16/4415/5838187?redirectedFrom=fulltext) — получение данных об экспрессии генов из single cell данных\n",
    "* [[arxiv] 🎓 U-Net](https://arxiv.org/abs/1505.04597) — сегментация медицинских изображений\n",
    "* [[arxiv] 🎓 W-Net](https://arxiv.org/abs/1711.08506) — unsupervised сегментация медицинских изображений"
   ]
  }
 ],
 "metadata": {},
 "nbformat": 4,
 "nbformat_minor": 0
}
