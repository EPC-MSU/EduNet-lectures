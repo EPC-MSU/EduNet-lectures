{
 "cells": [
  {
   "cell_type": "markdown",
   "metadata": {},
   "source": [
    "<font size=\"6\">Рекуррентные нейронные сети (RNN)</font>"
   ]
  },
  {
   "cell_type": "markdown",
   "metadata": {},
   "source": [
    "#  Временные ряды"
   ]
  },
  {
   "cell_type": "markdown",
   "metadata": {},
   "source": [
    "В предыдущих лекциях мы работали с данными **фиксированной длины**, у которых не было **временной связности**.\n",
    "\n",
    "Если это **табличные данные**, то мы заранее знаем длину вектор-описания объекта, а также размер выхода модели: одно это число или вектор.\n",
    "\n",
    "Верно это и про **изображения** — обычно нейронная сеть учится на изображениях определенного разрешения. Да, мы можем сделать нейросеть, которая способна работать с изображением почти любого разрешения, но добиваемся этого за счет вставки слоев **global pooling**, которые  приводят признаковое описание, полученное сверточной частью нейросети, к фиксированному размеру."
   ]
  },
  {
   "cell_type": "markdown",
   "metadata": {},
   "source": [
    "Однако далеко **не все данные обладают фиксированным размером**. Типичным представителем таких данных являются **временные ряды**.\n",
    "\n",
    "Кроме того, мы рассчитываем, что значения ряда в прошлом содержат важную информацию о поведении ряда в будущем с сохранением тенденции на определённом интервале (что отличается от классических ML-задач, предполагающих независимость наблюдений)."
   ]
  },
  {
   "cell_type": "markdown",
   "metadata": {},
   "source": [
    "<center><img src =\"https://edunet.kea.su/repo/EduNet-content/dev-2.1/L09/out/ts_intro.png\" width=\"800\"></center>"
   ]
  },
  {
   "cell_type": "markdown",
   "metadata": {},
   "source": [
    "Давайте научимся с ними работать, но для начала разберём основные понятия.\n",
    "\n"
   ]
  },
  {
   "cell_type": "markdown",
   "metadata": {},
   "source": [
    "## Компоненты временных рядов\n"
   ]
  },
  {
   "cell_type": "markdown",
   "metadata": {},
   "source": [
    "Временной ряд представляет собой последовательность вещественных значений $t \\in R^{N+1}$, измеренных через одинаковые промежутки времени $\\Delta t$ до момента времени $T$:\n",
    "\n",
    "$$\\large y_i = y(t_i).$$"
   ]
  },
  {
   "cell_type": "markdown",
   "metadata": {},
   "source": [
    "**Составляющие временных рядов.**\n",
    "\n",
    "$$\\large y(t_i) = f(T,S,C,E, t_i)$$"
   ]
  },
  {
   "cell_type": "markdown",
   "metadata": {},
   "source": [
    "**Тренд** $T(t)$ — компонента, описывающая долгосрочное изменение уровня ряда.\n",
    "\n",
    "**Сезонность** $S(t)$ — компонента, описывающая периодические изменения уровня ряда.\n",
    "\n",
    "**Цикличность** $C(t)$ — компонента, описывающая изменения уровня ряда с переменным периодом.\n",
    "\n",
    "**Шум (irregular fluctuations)** $I(t)$ — непрогнозируемая случайная компонента, описывающая нерегулярные изменения в данных, необъяснимые другими компонентами.\n",
    "\n",
    "$$\\large y_i = T_i + S_i + C_i + I_i$$\n",
    "\n",
    "Разница между циклической и сезонной компонентой состоит в том, что последняя имеет регулярную (сезонную) периодичность, тогда как циклические факторы обычно имеют более длительный эффект, который к тому же меняется от цикла к циклу."
   ]
  },
  {
   "cell_type": "markdown",
   "metadata": {},
   "source": [
    "Здесь нет единого мнения: другие исследователи могут выделить и иные компоненты, также компоненты могут быть не только аддитивными, но и мультипликативными.\n",
    "\n",
    "$$\\large y_i = T_i * S_i * C_i * I_i$$\n",
    "\n",
    "От которых, логарифмируя, мы вновь можем прийти к аддитивной модели.\n",
    "\n",
    "$$\\large \\ln {y_i} = \\ln T_i + \\ln S_i + \\ln C_i + \\ln I_i$$\n",
    "\n",
    "$$\\large \\hat {y_i} = \\hat T_i + \\hat S_i + \\hat C_i + \\hat I_i$$\n",
    "\n",
    "В данной лекции мы будем опираться для простоты на аддитивную модель, однако учитывайте, что бывают и более сложные, смешанные варианты."
   ]
  },
  {
   "cell_type": "markdown",
   "metadata": {},
   "source": [
    "<center><img src =\"https://edunet.kea.su/repo/EduNet-content/dev-2.1/L09/out/ts_components.png\" width=\"800\"></center>"
   ]
  },
  {
   "cell_type": "markdown",
   "metadata": {},
   "source": [
    "⛔ Если ваш **ряд не равномерый**, т.е. интервалы между наблюдениями не равны, необходимо сделать ряд равномерным. Например, заполнить пропуски интерполяцией.\n",
    "\n",
    "Если это сделать нельзя, добро пожаловать в увлекательный мир [анализа случайных процессов 📚[book]](https://www.ssau.ru/files/resources/sotrudniki/prohorov/9_pasp.pdf)!\n"
   ]
  },
  {
   "cell_type": "markdown",
   "metadata": {},
   "source": [
    "## Задачи анализа временных рядов"
   ]
  },
  {
   "cell_type": "markdown",
   "metadata": {},
   "source": [
    "В анализе временных рядов можно выделить следующие задачи:\n",
    "\n",
    "* Идентификация (установление свойств)\n",
    "* Прогнозирование\n",
    "* Поиск аномалий\n",
    "* Классификация\n",
    "* Кластеризация\n",
    "\n",
    "\n",
    "Сегодня мы подробнее рассмотрим задачу прогнозирования.\n",
    "\n",
    "**Задача прогнозирования**: найти функцию $\\large f_T$:\n",
    "\n",
    "$$\\large y_{T+h} ≈ f_T(y_T, \\dots ,y_1, h),$$\n",
    "\n",
    "где $h \\in \\{1,2,\\dots, H\\}$, $H$ — горизонт прогнозирования.\n",
    "\n",
    "Помимо самих значений, важно также оценивать **предсказательный интервал**, в котором предсказываемая величина окажется с вероятностью, не менее заданной."
   ]
  },
  {
   "cell_type": "markdown",
   "metadata": {},
   "source": [
    "**Стационарность временных рядов**"
   ]
  },
  {
   "cell_type": "markdown",
   "metadata": {},
   "source": [
    "Для построения стабильной модели предсказания будет **полезно иметь ширину распределения целевого значения не зависящей от времени**. Для этого необходимо добиться стационарности ряда."
   ]
  },
  {
   "cell_type": "markdown",
   "metadata": {},
   "source": [
    "Ряд $y_1, \\dots, y_T$ стационарен, если для $\\forall k$ распределение $y_t, \\dots, y_{t+k}$ не зависит от $t$, то есть свойства ряда не зависят от времени.\n",
    "\n",
    "Наличие тренда, сезонности, цикличности приводит к нестационарности.\n",
    "\n",
    "Давайте посмотрим на примерах."
   ]
  },
  {
   "cell_type": "markdown",
   "metadata": {},
   "source": [
    "<center><img src =\"https://edunet.kea.su/repo/EduNet-content/dev-2.1/L09/out/ts_stationarity.png\" width=\"1000\"></center>\n"
   ]
  },
  {
   "cell_type": "markdown",
   "metadata": {},
   "source": [
    "Помимо того, что ряд может считаться стационарным или нестационарным, встречаются и комбинированные ряды (на определенных периодах стационарные, на других — нет). Общий совет — [сегментируйте 🛠️[doc]](https://centre-borelli.github.io/ruptures-docs/)."
   ]
  },
  {
   "cell_type": "markdown",
   "metadata": {},
   "source": [
    "Чтобы не анализировать стационарность визуально, существуют различные тесты:\n",
    "1. Расширенный тест Дикки-Фуллера (ADF)\n",
    "2. Тест Филлипса-Перрона\n",
    "3. Тест **Квятковского-Филлипса-Шмидта-Шина (KPSS)**\n",
    "\n",
    "И множество других."
   ]
  },
  {
   "cell_type": "markdown",
   "metadata": {},
   "source": [
    "Как правило, применяют несколько тестов разом, чтобы удостовериться в результате. Одним из самых популярных является KPSS.\n",
    "\n",
    "Тест проверяет гипотезу о том, что ряд стационарен, против альтернативы, что ряд не стационарен. Обычно критерии устроены наоборот."
   ]
  },
  {
   "cell_type": "markdown",
   "metadata": {},
   "source": [
    "<div align=\"center\">\n",
    "<html>\n",
    "<head>\n",
    "<style>\n",
    "table, th, td {\n",
    "  border: 1px solid black;\n",
    "  border-collapse: collapse;\n",
    "}\n",
    "<font size=\"2\" face=\"Times New Romans\" >\n",
    "\n",
    "\n",
    "</style>\n",
    "</head>\n",
    "<body>\n",
    "\n",
    "<table >\n",
    "<tr>\n",
    "\n",
    "<td>\n",
    "\n",
    "\n",
    "\n",
    "</td>\n",
    "<td>\n",
    "\n",
    "$\\large \\text{KPSS}$\n",
    "\n",
    "</td>\n",
    "<td>\n",
    "\n",
    "$\\large \\text{ADF}$\n",
    "\n",
    "</td>\n",
    "<tr>\n",
    "\n",
    "<td>\n",
    "\n",
    "ряд:\n",
    "    \n",
    "</td>\n",
    "<td>\n",
    "\n",
    "$\\large y = y_1, \\dots, y_T$\n",
    "\n",
    "</td>  \n",
    "<td>\n",
    "\n",
    "$\\large y = y_1, \\dots, y_T$\n",
    "\n",
    "</td>\n",
    "\n",
    "\n",
    "</tr>\n",
    "<td>\n",
    "\n",
    "нулевая гипотеза:\n",
    "\n",
    "</td>\n",
    "<td>\n",
    "\n",
    "$\\large H_0$: ряд $\\large y$ **стационарен**\n",
    "\n",
    "</td>  \n",
    "\n",
    "<td>\n",
    "\n",
    "$\\large H_0$: ряд $\\large y$ **нестационарен**\n",
    "\n",
    "</td>\n",
    "\n",
    "  </tr>\n",
    "  <tr>\n",
    "    <td>\n",
    "\n",
    "альтернатива:\n",
    "\n",
    "</td>\n",
    "<td>\n",
    "\n",
    "$\\large H_1$: ряд $\\large y$ описывается моделью вида $\\large y_t = αy_{t-1}$\n",
    "    \n",
    "</td>  \n",
    "\n",
    "<td>\n",
    "\n",
    "$\\large H_1$: ряд стационарен\n",
    "    \n",
    "</td>\n",
    "\n",
    "  </tr>\n",
    "\n",
    "\n",
    "  <tr>\n",
    "    <td>\n",
    "    \n",
    "p-value < 0.05:\n",
    "    \n",
    "</td>\n",
    "\n",
    "<td>\n",
    "    \n",
    "$\\large H_0$ отвергается, ряд нестационарен.\n",
    "    \n",
    "</td>  \n",
    "\n",
    "<td>\n",
    "    \n",
    "$\\large H_0$ отвергается, ряд стационарен.\n",
    "    \n",
    "</td>\n",
    "\n",
    "</tr>\n",
    "\n",
    "\n",
    "\n",
    "\n",
    "\n"
   ]
  },
  {
   "cell_type": "markdown",
   "metadata": {},
   "source": [
    "**Пример**\n",
    "\n",
    "Возьмем датасет [Air Passengers 🛠️[doc]](https://www.kaggle.com/rakannimer/air-passengers), который содержит данные о количестве пассажиров за каждый месяц.\n"
   ]
  },
  {
   "cell_type": "code",
   "execution_count": null,
   "metadata": {},
   "outputs": [],
   "source": [
    "import pandas as pd\n",
    "\n",
    "dataset = pd.read_csv(\n",
    "    \"https://edunet.kea.su/repo/EduNet-web_dependencies/datasets/airline-passengers.csv\"\n",
    ")\n",
    "dataset.head()"
   ]
  },
  {
   "cell_type": "code",
   "execution_count": null,
   "metadata": {},
   "outputs": [],
   "source": [
    "import matplotlib.pyplot as plt\n",
    "\n",
    "training_data = dataset[\"Passengers\"].values  # transform dataframe to numpy.array\n",
    "# plotting\n",
    "plt.figure(figsize=(12, 4))\n",
    "plt.plot(training_data, label=\"Airline Passangers Data\")\n",
    "plt.title(\"Number of passengers per month\")\n",
    "plt.ylabel(\"#passengers\")\n",
    "plt.xlabel(\"Month\")\n",
    "labels_to_display = [i for i in range(training_data.shape[0]) if i % 12 == 0]\n",
    "plt.xticks(labels_to_display, dataset[\"Month\"][labels_to_display])\n",
    "plt.grid()\n",
    "plt.show()"
   ]
  },
  {
   "cell_type": "markdown",
   "metadata": {},
   "source": [
    "**Сделаем стационарнее**\n",
    "\n",
    "В сезонной компоненте размах явно растёт со временем. Причина в мультипликативной природе ряда. Чтобы от такого избавиться, можно применить уже известное вам преобразование Бокса-Кокса или же обыкновенное логарифмирование."
   ]
  },
  {
   "cell_type": "code",
   "execution_count": null,
   "metadata": {},
   "outputs": [],
   "source": [
    "import numpy as np\n",
    "\n",
    "training_data = np.log(dataset[\"Passengers\"].values)\n",
    "\n",
    "plt.figure(figsize=(12, 4))\n",
    "plt.plot(training_data, label=\"Airline Passangers Data\")\n",
    "plt.title(\"Number of passengers per month\")\n",
    "plt.ylabel(\"Passengers\")\n",
    "plt.xlabel(\"Month\")\n",
    "labels_to_display = [i for i in range(training_data.shape[0]) if i % 12 == 0]\n",
    "plt.xticks(labels_to_display, dataset[\"Month\"][labels_to_display])\n",
    "plt.grid()\n",
    "plt.show()"
   ]
  },
  {
   "cell_type": "markdown",
   "metadata": {},
   "source": [
    "Мы можем видеть четкую сезонность и тенденцию к увеличению значений. Зная природу данных, мы сразу можем сказать, что сезонность имеет период 12. Объединим все наши операции с помощью функции `seasonal_decompose`."
   ]
  },
  {
   "cell_type": "code",
   "execution_count": null,
   "metadata": {},
   "outputs": [],
   "source": [
    "from statsmodels.tsa.seasonal import seasonal_decompose\n",
    "\n",
    "result = seasonal_decompose(training_data, model=\"multiplicative\", period=12)\n",
    "\n",
    "fig = result.plot()\n",
    "fig.set_size_inches((12, 4))\n",
    "plt.xlabel(\"Month\")\n",
    "labels_to_display = [i for i in range(training_data.shape[0]) if i % 12 == 0]\n",
    "plt.xticks(labels_to_display, dataset[\"Month\"][labels_to_display])\n",
    "plt.grid()\n",
    "fig.tight_layout()\n",
    "plt.show()"
   ]
  },
  {
   "cell_type": "markdown",
   "metadata": {},
   "source": [
    "В тесте KPSS есть параметр `regression`, который позволяет менять формулировку нулевой гипотезы:\n",
    "* `regression='c'` — нулевая гипотеза формулируется как \"ряд стационарен относительно константы\"\n",
    "* `regression='ct'` — нулевая гипотеза формулируется как \"ряд стационарен относительно линейного тренда\".\n",
    "\n",
    "Заметим, что во втором случае, если по результатам теста у нас будут основания не отвергать нулевую гипотезу, то это значит, что в ряде есть явный линейный тренд и он не является стационарным в широком смысле."
   ]
  },
  {
   "cell_type": "code",
   "execution_count": null,
   "metadata": {},
   "outputs": [],
   "source": [
    "import warnings\n",
    "from statsmodels.tsa.stattools import kpss\n",
    "from statsmodels.tools.sm_exceptions import InterpolationWarning\n",
    "\n",
    "warnings.simplefilter(\"ignore\", InterpolationWarning)\n",
    "\n",
    "test = kpss(result.seasonal, regression=\"c\")\n",
    "\n",
    "print(\"kpss:\", test[0])\n",
    "print(\"p-value:\", test[1])\n",
    "\n",
    "if test[1] > 0.05:\n",
    "    print(\"The time series is stationary around a constant\")\n",
    "else:\n",
    "    print(\"The time series is not stationary around a constant\")"
   ]
  },
  {
   "cell_type": "markdown",
   "metadata": {},
   "source": [
    "Значние p-value подтверждает гипотезу о том, что ряд стационарен."
   ]
  },
  {
   "cell_type": "markdown",
   "metadata": {},
   "source": [
    "Проведем расширенный тест Дики-Фуллера на сезонной компоненте."
   ]
  },
  {
   "cell_type": "code",
   "execution_count": null,
   "metadata": {},
   "outputs": [],
   "source": [
    "from statsmodels.tsa.stattools import adfuller\n",
    "\n",
    "test = adfuller(result.seasonal)\n",
    "\n",
    "print(\"adf: \", test[0])\n",
    "print(\"p-value: \", test[1])\n",
    "# print(\"Critical values: \", test[4])\n",
    "\n",
    "if test[0] > test[4][\"5%\"]:\n",
    "    print(\"The time series is not stationary\")\n",
    "else:\n",
    "    print(\"The time series is stationary\")"
   ]
  },
  {
   "cell_type": "markdown",
   "metadata": {},
   "source": [
    "Оба теста говорят о стационарности сезонной компоненты ряда."
   ]
  },
  {
   "cell_type": "markdown",
   "metadata": {},
   "source": [
    "Также мы можем отметить, что трендовая компонента не вполне является прямой линией. Дело в том, что на самом деле в неё входит циклическая составляющая. Попробуем их разделить через аппроксимацию прямой."
   ]
  },
  {
   "cell_type": "code",
   "execution_count": null,
   "metadata": {},
   "outputs": [],
   "source": [
    "trend = result.trend[~np.isnan(result.trend)]"
   ]
  },
  {
   "cell_type": "code",
   "execution_count": null,
   "metadata": {},
   "outputs": [],
   "source": [
    "x = np.arange(len(trend))\n",
    "y = trend\n",
    "k, b = np.polyfit(x, y, 1)  # y = k*x+b"
   ]
  },
  {
   "cell_type": "code",
   "execution_count": null,
   "metadata": {},
   "outputs": [],
   "source": [
    "real_trend = np.arange(len(trend)) * k + [b] * len(trend)\n",
    "cycle = trend - real_trend"
   ]
  },
  {
   "cell_type": "code",
   "execution_count": null,
   "metadata": {},
   "outputs": [],
   "source": [
    "fig, ax = plt.subplots(3, 1)\n",
    "\n",
    "fig.set_size_inches((12, 4))\n",
    "plt.xlabel(\"Month\")\n",
    "labels_to_display = [i for i in range(training_data.shape[0]) if i % 12 == 0]\n",
    "plt.xticks(labels_to_display, dataset[\"Month\"][labels_to_display])\n",
    "plt.grid()\n",
    "fig.tight_layout()\n",
    "\n",
    "ax[0].plot(trend)\n",
    "ax[0].set_title(\"Trend+Cycle\")\n",
    "ax[1].plot(real_trend)\n",
    "ax[1].set_title(\"Trend\")\n",
    "ax[2].plot(cycle)\n",
    "ax[2].set_title(\"Cycle\")\n",
    "fig.tight_layout()\n",
    "plt.show()"
   ]
  },
  {
   "cell_type": "markdown",
   "metadata": {},
   "source": [
    "Выделение циклов — дело неблагодарное, в редких работах вы это встретите. Для автоматического поиска цикла может быть полезен [фильтр Годрика-Прескотта 🛠️[doc]](https://www.statsmodels.org/stable/generated/statsmodels.tsa.filters.hp_filter.hpfilter.html)."
   ]
  },
  {
   "cell_type": "markdown",
   "metadata": {},
   "source": [
    "## Особенности валидации при анализе временных рядов\n",
    "\n"
   ]
  },
  {
   "cell_type": "markdown",
   "metadata": {},
   "source": [
    "При обучении моделей следует обращать внимание на разбиение временного ряда на **train-val-test**.\n",
    "\n",
    "Как и в иных областях, при работе с временными рядами полезно оценить качество модели с помощью кросс-валидации. Наличие строгой временной зависимости не позволяет нам случайно разделять ряд на подвыборки.\n",
    "\n",
    "Отличным вариантом будет обучать модель, сдвигаясь вправо по временной оси, каждый раз добавляя отрезок новых данных в качестве валидации и обучаясь на всех данных слева.\n"
   ]
  },
  {
   "cell_type": "markdown",
   "metadata": {},
   "source": [
    "<center><img src =\"https://edunet.kea.su/repo/EduNet-content/dev-2.1/L09/out/ts_crossval.png\" width=\"700\"></center>\n",
    "\n",
    "<center><em>Source: <a href=\"https://forecastegy.com/posts/time-series-cross-validation-python/\">CHow To Do Time Series Cross-Validation In Python</a></em></center>"
   ]
  },
  {
   "cell_type": "markdown",
   "metadata": {},
   "source": [
    "Это не единственный способ разделения ряда. Так, на самом деле, пытливый слушатель может отметить, что качество модели на первом шаге вероятно будет ниже, чем на последующих, просто потому, что модель на последующих шагах обучена на большем количестве данных. Поэтому можно идти вдоль ряда окном постоянного размера.\n",
    "\n",
    "Другие варианты разбиения временного ряда:\n",
    "\n",
    "[[blog] ✏️ How To Do Time Series Cross-Validation In Python](https://forecastegy.com/posts/time-series-cross-validation-python/)."
   ]
  },
  {
   "cell_type": "markdown",
   "metadata": {},
   "source": [
    "Для этих целей воспользуемся функцией `TimeSeriesSplit` [🛠️[doc]](https://scikit-learn.org/stable/modules/generated/sklearn.model_selection.TimeSeriesSplit.html) библиотеки Sklearn.\n",
    "\n",
    "Стоит отметить, что можно задать `gap` — отступ с правого края,  максимальный размер обучающей выборки на каждом разбиении `max_train_size`, размер данных для теста `test_size`."
   ]
  },
  {
   "cell_type": "code",
   "execution_count": null,
   "metadata": {},
   "outputs": [],
   "source": [
    "from sklearn.model_selection import TimeSeriesSplit\n",
    "\n",
    "x = np.random.randn(17, 2)\n",
    "\n",
    "tscv = TimeSeriesSplit(gap=3, n_splits=3, test_size=2)\n",
    "print(tscv)\n",
    "\n",
    "for i, (train_index, test_index) in enumerate(tscv.split(x)):\n",
    "    print(f\"Fold {i}:\")\n",
    "    print(f\"  Train: index={train_index}\")\n",
    "    print(f\"  Test:  index={test_index}\")"
   ]
  },
  {
   "cell_type": "markdown",
   "metadata": {},
   "source": [
    "**Rolling forecasting**"
   ]
  },
  {
   "cell_type": "markdown",
   "metadata": {},
   "source": [
    "Мы можем выделить два режима предсказания модели. Рассмотрим пример предсказания погоды:\n",
    "* на завтра\n",
    "* вперёд на две следующих недели\n",
    "\n",
    "В первом случае имеется самая близкая информация на горизонт прогнозирования и ошибка будет минимальна.\n",
    "\n",
    "Во втором случае предсказание с каждым днём будет менее точным. Скажем, предсказание модели на второй день будет основываться не только на истинных данных, но и на предсказанных.\n",
    "\n",
    "Грубо говоря, во втором случае мы опускаем модель в \"свободное плавание\"."
   ]
  },
  {
   "cell_type": "markdown",
   "metadata": {},
   "source": [
    "<center><img src =\"https://edunet.kea.su/repo/EduNet-content/dev-2.1/L09/out/ts_forecasting.png\" width=\"700\"></center>"
   ]
  },
  {
   "cell_type": "code",
   "execution_count": null,
   "metadata": {},
   "outputs": [],
   "source": [
    "tscv = TimeSeriesSplit(gap=3, n_splits=5, max_train_size=5, test_size=2)\n",
    "print(tscv)\n",
    "\n",
    "for i, (train_index, test_index) in enumerate(tscv.split(x)):\n",
    "    print(f\"Fold {i}:\")\n",
    "    print(f\"  Train: index={train_index}\")\n",
    "    print(f\"  Test:  index={test_index}\")"
   ]
  },
  {
   "cell_type": "markdown",
   "metadata": {},
   "source": [
    "💥 Если вы идеально научились смотреть в завтрашний день, то проблем в том, чтобы сделать это несколько раз подряд, нет.\n",
    "\n",
    "🤔 Но чтобы проверить, насколько хорошо, нужно это проверить, скажем, на тесте.\n",
    "\n",
    "❗Может дать заметный эффект дообучение модели на всех данных перед предсказанием в неизвестность."
   ]
  },
  {
   "cell_type": "markdown",
   "metadata": {},
   "source": [
    "Впрочем, обучение на всех исторических данных не всегда разумно. Если ряд очевидно не будет повторять самые старые участки ряда, стоит их вовсе удалить.\n",
    "\n",
    "И использовать метод скользящего окна."
   ]
  },
  {
   "cell_type": "markdown",
   "metadata": {},
   "source": [
    "# Линейные модели временных рядов"
   ]
  },
  {
   "cell_type": "markdown",
   "metadata": {},
   "source": [
    "**Авторегрессионная модель** (Autoregression method (AR))\n",
    "\n",
    "Линейная модель, в которой прогнозируемая величина представляет линейную комбинацию **$\\large p$** предыдущих значений.\n",
    "\n",
    "$$\\large y_t = α + ϕ_{1}y_{t-1}+ϕ_{2}y_{t-2}+...+ϕ_{p}y_{t-p}+ ϵ_t,$$\n",
    "\n",
    "где $y_t$ — **стационарный ряд**, $ϵ_t$ — гауссов шум со средним $0$ и дисперсией $\\sigma^2_ϵ$."
   ]
  },
  {
   "cell_type": "markdown",
   "metadata": {},
   "source": [
    "**Метод скользящего среднего** (Moving average method (MA))\n",
    "\n",
    "Линейная модель, в которой прогнозируемая величина представляет линейную комбинацию  $\\large q$  предыдущих значений остатков от AR модели ряда:\n",
    "\n",
    "$$\\large y_t = α + ϵ_t + \\theta_{1}ϵ_{t-1}+\\theta_{2}ϵ_{t-2}+...+\\theta_{q}ϵ_{t-q},$$\n",
    "\n",
    "где $y_t$ — **стационарный ряд**, $ϵ_t$ — остатки от AR-модели ряда."
   ]
  },
  {
   "cell_type": "markdown",
   "metadata": {},
   "source": [
    "**ARMA**\n",
    "\n",
    "Теорема Вольда: любой **стационарный** ряд может быть описан моделью **ARMA(p,q)** с любой заданной точностью.\n",
    "\n",
    "$$\\large y_t = α + ϵ_t + \\sum_{i=1}^p ϕ_{i}y_{t-i} + \\sum_{j=1}^q\\theta_{j}ϵ_{t-j} $$\n",
    "\n",
    "Модель предполагает, что временной ряд содержит две составляющие: авторегресионную и скользящее среднее, которые в модели обозначены $p$ и $q$:\n",
    "\n",
    "* $p$ — порядок авторегрессии. Позволяет ответить на вопрос, будет ли очередной элемент ряда близок к значению $y$, если к нему были близки $p$ предыдущих значений.\n",
    "* $q$ — порядок скользящего среднего. Позволяет установить погрешность модели как линейную комбинацию наблюдавшихся ранее значений ошибок."
   ]
  },
  {
   "cell_type": "markdown",
   "metadata": {},
   "source": [
    "**ARIMA**\n",
    "\n",
    "Если ряд **после взятия $d$ последовательных разностей** сводится к стационарному, то для для прогнозирования можно применить комбинированную модель авторегрессии и скользящего среднего, обозначаемую как **ARIMA(p,d,q)**:\n",
    "\n",
    "$$ \\large (Δ^dy_t) = \\sum ^p _{i=1} ϕ_t(Δ^dy_{t-i}) + ϵ_t + \\sum ^q _{j=1} \\theta_j(Δ^d ϵ_{t-j}) $$\n",
    "\n",
    "Модель предполагает, что временной ряд содержит три составляющие: авторегресионную, скользящее среднее и **интегрированную**, которые в модели обозначены $p, d$ и $q$. Т.е. добавилось:\n",
    "\n",
    "* $d$ — порядок интегрирования. Показывает, насколько элемент ряда близок по значению к $d$  предыдущим значениям, если разность между ними минимальна."
   ]
  },
  {
   "cell_type": "markdown",
   "metadata": {},
   "source": [
    "**SARMA** (Seasonable ARMA)\n",
    "\n",
    "Если взять модель $\\text{ARMA(p,q)}$ и добавить к ней $P$ авторегрессионных компонент:\n",
    "\n",
    "$$\\large + \\sum_{k=1}^{PS}ϕ_{k}y_{t-k} $$\n",
    "\n",
    "и $Q$ компонет скользящего среднего:\n",
    "\n",
    "$$\\large +  \\sum_{l=1}^{QS}\\theta_{l}ϵ_{t-l},$$\n",
    "\n",
    "то получим $\\text{SARMA}(p,q) × (P,Q)$.\n",
    "\n",
    "\n",
    "\n",
    "\n",
    "\n"
   ]
  },
  {
   "cell_type": "markdown",
   "metadata": {},
   "source": [
    "**SARIMA** (Seasonable ARIMA)\n",
    "\n",
    "Модель $\\text{SARIMA}(p,d,q) \\times (P,D,Q)$ — модель $\\text{SARMA}(p,q) \\times (P,Q)$ для ряда, к которому $d$ раз применили обычное дифференцирование и $D$ раз — сезонное.\n",
    "\n",
    "На самом деле именно эту модель обычно называют $\\text{ARIMA}$."
   ]
  },
  {
   "cell_type": "markdown",
   "metadata": {},
   "source": [
    "**Разберемся с тем, откуда брать параметры для $\\text{ARIMA}$.**"
   ]
  },
  {
   "cell_type": "markdown",
   "metadata": {},
   "source": [
    "Существует отдельная теория о том, как выбирать оптимальные параметры модели, однако"
   ]
  },
  {
   "cell_type": "code",
   "execution_count": null,
   "metadata": {},
   "outputs": [],
   "source": [
    "!pip install -q pmdarima"
   ]
  },
  {
   "cell_type": "code",
   "execution_count": null,
   "metadata": {},
   "outputs": [],
   "source": [
    "import pandas as pd\n",
    "\n",
    "dataset = pd.read_csv(\n",
    "    \"https://edunet.kea.su/repo/EduNet-web_dependencies/datasets/airline-passengers.csv\"\n",
    ")\n",
    "\n",
    "dataset[\"Month\"] = pd.to_datetime(dataset[\"Month\"])\n",
    "dataset = dataset.set_index([\"Month\"])\n",
    "dataset.index = pd.DatetimeIndex(dataset.index.values, freq=dataset.index.inferred_freq)"
   ]
  },
  {
   "cell_type": "code",
   "execution_count": null,
   "metadata": {},
   "outputs": [],
   "source": [
    "train_data, test_data = (\n",
    "    dataset[0 : int(len(dataset) * 0.9)],\n",
    "    dataset[int(len(dataset) * 0.9) :],\n",
    ")"
   ]
  },
  {
   "cell_type": "code",
   "execution_count": null,
   "metadata": {},
   "outputs": [],
   "source": [
    "from pmdarima.arima import auto_arima\n",
    "\n",
    "stepwise_model = auto_arima(\n",
    "    train_data,\n",
    "    start_p=1,\n",
    "    start_q=1,\n",
    "    max_p=3,\n",
    "    max_q=3,\n",
    "    m=12,\n",
    "    start_P=0,\n",
    "    seasonal=True,\n",
    "    d=1,\n",
    "    D=1,\n",
    "    trace=True,\n",
    "    error_action=\"ignore\",\n",
    "    suppress_warnings=True,\n",
    "    stepwise=True,\n",
    ")\n",
    "print(stepwise_model.aic())"
   ]
  },
  {
   "cell_type": "code",
   "execution_count": null,
   "metadata": {},
   "outputs": [],
   "source": [
    "start_data = train_data.index[-1] + pd.DateOffset(months=1)\n",
    "\n",
    "future_forecast = stepwise_model.predict(start=start_data, n_periods=30)"
   ]
  },
  {
   "cell_type": "code",
   "execution_count": null,
   "metadata": {},
   "outputs": [],
   "source": [
    "import matplotlib.pyplot as plt\n",
    "\n",
    "plt.figure(figsize=(10, 4))\n",
    "plt.plot(train_data[\"Passengers\"], color=\"green\", label=\"Train\")\n",
    "plt.plot(test_data[\"Passengers\"], color=\"red\", label=\"Real\")\n",
    "plt.plot(future_forecast, color=\"blue\", label=\"Predicted\")\n",
    "\n",
    "plt.title(\"ARIMA with optimal parameters\")\n",
    "plt.xlabel(\"Time\")\n",
    "plt.ylabel(\"Passengers\")\n",
    "plt.legend()\n",
    "plt.grid(True)\n",
    "plt.show()"
   ]
  },
  {
   "cell_type": "code",
   "execution_count": null,
   "metadata": {},
   "outputs": [],
   "source": [
    "import numpy as np\n",
    "from sklearn.metrics import mean_squared_error, mean_absolute_error\n",
    "\n",
    "mse = mean_squared_error(test_data[\"Passengers\"], future_forecast[: len(test_data)])\n",
    "print(f\"MSE:  {mse:.2f}\")\n",
    "mae = mean_absolute_error(test_data[\"Passengers\"], future_forecast[: len(test_data)])\n",
    "print(f\"MAE:  {mae:.2f}\")\n",
    "rmse = np.sqrt(\n",
    "    mean_squared_error(test_data[\"Passengers\"], future_forecast[: len(test_data)])\n",
    ")\n",
    "print(f\"RMSE: {rmse:.2f}\")"
   ]
  },
  {
   "cell_type": "markdown",
   "metadata": {},
   "source": [
    "Если бы мы подбирали параметры вручную, получилось бы примерно также, но при этом гораздо быстрее."
   ]
  },
  {
   "cell_type": "markdown",
   "metadata": {},
   "source": [
    "📌 ARIMA-модели широко применяют не просто для решения задачи предсказания временных рядов, но скорее как экстракторы признаков. Обученная на отрезок временного ряда не фиксированной длины ARIMA позволяет получить конечного размера вектор признаков, состоящий из весов при компонентах, при помощи которого можно решать задачи известными из предыдущих лекций методами."
   ]
  },
  {
   "cell_type": "markdown",
   "metadata": {},
   "source": [
    "[[blog] ✏️ Обсуждение на Machinelearning Mastery](https://machinelearningmastery.com/arima-for-time-series-forecasting-with-python/)\n",
    "\n",
    "[[blog] ✏️ Forecasting Time Series with Auto-Arima](https://www.alldatascience.com/time-series/forecasting-time-series-with-auto-arima/)"
   ]
  },
  {
   "cell_type": "markdown",
   "metadata": {},
   "source": [
    "# Нелинейные модели временных рядов"
   ]
  },
  {
   "cell_type": "markdown",
   "metadata": {},
   "source": [
    "Для обработки остатков (полученных после удаления тренда и прочих компонет), имеющих сложную нелинейную структуру, имеет смысл использовать более мощные, нелинейные модели.\n",
    "\n"
   ]
  },
  {
   "cell_type": "markdown",
   "metadata": {},
   "source": [
    "<center><img src =\"https://edunet.kea.su/repo/EduNet-web_dependencies/dev-2.1/L09/decomposition_series_data.png\" width=\"600\"></center>\n",
    "\n",
    "<center><em>Source: <a href=\"https://www.researchgate.net/publication/377532793_Improving_long-term_multivariate_time_series_forecasting_with_a_seasonal-trend_decomposition-based_2-dimensional_temporal_convolution_dense_network\">Research Gate</a></em></center>\n",
    "\n"
   ]
  },
  {
   "cell_type": "markdown",
   "metadata": {},
   "source": [
    "В качестве таких нелинейных моделей могут использоваться **рекуррентные нейронные сети сети (recurrent neural networks, RNN)**. Они применяются в широком перечне задач: от **распознавания речи** до **генерации подписей** к изображениям.\n",
    "\n",
    "Эти задачи объединяет необходимость работы с контекстом и извлечения информации, сформированной при обработке одной части данных, для обработки других частей.\n",
    "\n",
    "С моделями рекуррентных нейронных сетей конкурируют модели, основанные на архитектуре трансформера (подробнее в соответствующей лекции).\n",
    "\n",
    "Хотя сейчас трансформеры держат первенство во многих областях, **рекуррентные сети лучше** подходят для **обработки временных рядов**.\n",
    "\n",
    "Кроме того, для обучения трансформеров в силу их размера требуется несоизмеримо большее количество данных, нежели для RNN (ровно как и вычислительных ресурсов как для обучения, так и для инференса).\n",
    "\n"
   ]
  },
  {
   "cell_type": "markdown",
   "metadata": {},
   "source": [
    "## Рекуррентный слой в нейронных сетях"
   ]
  },
  {
   "cell_type": "markdown",
   "metadata": {},
   "source": [
    "<center><img src =\"https://edunet.kea.su/repo/EduNet-content/dev-2.1/L09/out/rnn_linear.png\" width=\"600\"></center>"
   ]
  },
  {
   "cell_type": "markdown",
   "metadata": {},
   "source": [
    "<div align=\"center\">\n",
    "<html>\n",
    "<head>\n",
    "<style>\n",
    "table, th, td {\n",
    "  border: 1px solid black;\n",
    "  border-collapse: collapse;\n",
    "}\n",
    "<font size=\"2\" face=\"Times New Romans\" >\n",
    "\n",
    "\n",
    "</style>\n",
    "</head>\n",
    "<body>\n",
    "\n",
    "<table >\n",
    "<tr>\n",
    "\n",
    "\n",
    "<td>\n",
    "\n",
    "$$\\text{nn.Linear(in_features=3, out_features=2)}$$\n",
    "\n",
    "</td>\n",
    "<td>\n",
    "\n",
    "$$\\text{nn.RNN(input_size=3, hidden_size=2)}$$\n",
    "\n",
    "</td>\n",
    "<tr>\n",
    "\n",
    "\n",
    "<td>\n",
    "\n",
    "$$\\large h = f_{\\text{act}}(W_{xh}x)$$\n",
    "\n",
    "</td>  \n",
    "<td>\n",
    "\n",
    "$$\\large h_t = f_{\\text{act}}(W_{hh}h_{t-1} + W_{xh}x_t)$$\n",
    "\n",
    "</td>\n",
    "\n",
    "\n",
    "</tr>\n",
    "\n",
    "<td>\n",
    "\n",
    "$$\\large y = f_{\\text{act}}(W_{hy}h)$$\n",
    "\n",
    "</td>  \n",
    "\n",
    "<td>\n",
    "\n",
    "$$\\large y_t = f_{\\text{act}}(W_{hy}h_t)$$\n",
    "\n",
    "</td>\n",
    "\n",
    "</tr>\n"
   ]
  },
  {
   "cell_type": "markdown",
   "metadata": {},
   "source": [
    "**Основная идея RNN-слоя**: подавать на вход слоя не только входные значения, но также и выход этого же слоя в предыдущий такт времени.\n",
    "\n",
    "1) Вход слоя в текущий такт времени $\\large x_t$ пропускается через свою матрицу линейного преобразования $\\large W_{xh}$.\n",
    "\n",
    "2) Выходы слоя с предыдущего такта времени $\\large h_{t-1}$ пропускаются через свою матрицу линейного преобразования $\\large W_{hh}$.\n",
    "\n",
    "3) Значения складываются и пропускаются через функцию активации, формируя текущее скрытое состояние $\\large h_t$. **В качестве функции активации рекуррентого слоя чаще всего используется гиперболический тангенс.**\n",
    "\n",
    "Дополнительно скрытое состояние рекуррентного слоя может пропускаться **через обычный линейный слой** для формирования выходного значения $\\large y_t$.\n",
    "\n",
    "Обычно $\\large h_0$ инициализируется нулями.\n"
   ]
  },
  {
   "cell_type": "markdown",
   "metadata": {},
   "source": [
    "Вычисления в рекуррентной нейронной сети можно \"развернуть во времени\":"
   ]
  },
  {
   "cell_type": "markdown",
   "metadata": {},
   "source": [
    "<center><img src =\"https://edunet.kea.su/repo/EduNet-content/dev-2.1/L09/out/linear_to_rnn.png\" width=\"1000\"></center>"
   ]
  },
  {
   "cell_type": "markdown",
   "metadata": {},
   "source": [
    "**Вектор $\\large h_t$ содержит накопленный при просмотре предыдущих $\\large t$ элементов последовательности контекст.**\n",
    "\n",
    "Схему выше для компактности можно представить следующим образом, скомпоновав вектора $\\large x_t$, $\\large h_t$ и $\\large y_t$."
   ]
  },
  {
   "cell_type": "markdown",
   "metadata": {},
   "source": [
    "<center><img src =\"https://edunet.kea.su/repo/EduNet-content/dev-2.1/L09/out/rnn_basic_block.png\" width=\"1000\"></center>\n"
   ]
  },
  {
   "cell_type": "markdown",
   "metadata": {},
   "source": [
    "Рассмотрим работу рекуррентной нейронной сети при обработке последовательности:\n",
    "1. На вход поступает некоторая последовательность $\\large x = \\{x_1,...x_t,...,x_T\\}$, где $\\large x_t$ — вектор фиксированной размерности. В ряде случаев этот вектор имеет размерность $1$.\n",
    "\n",
    "2. Для каждого поступившего $\\large x_t$ формируем скрытое состояние $\\large h_t$, которое фактически является линейным преобразованием от предыдущего состояния $\\large h_{t-1}$ и текущего элемента последовательности $\\large x_t$, к которому применяется нелинейная функция активации:\n",
    "$$\\large h_t = f_{\\text{act}}(W_{hh}h_{t-1} + W_{xh}x_t),$$\n",
    "где $\\large W_{hh}$ и $\\large W_{xh}$  — это матрицы обучаемых параметров (веса). Также может добавляться вектор смещений (bias).\n",
    "\n",
    "3. На основании рассчитанного скрытого состояния, учитывающего предыдущие значения  $\\large x_t$, формируется выходная последовательность $\\large y = \\{y_1,...y_t,...,y_T\\}$. Для формирования предсказания $\\large y_t$ в текущий момент времени в модель добавляется обычный линейный слой, принимающий на вход текущее скрытое состояние $\\large h_t$."
   ]
  },
  {
   "cell_type": "markdown",
   "metadata": {},
   "source": [
    "Обратим внимание, что рекуррентная формула для расчета скрытого состояния\n",
    "\n",
    "$$\\large h_t = f_{\\text{act}}(W_{hh}h_{t-1} + W_{xh}x_t)$$\n",
    "\n",
    "может быть представлена в виде $$\\large h_t = f_{\\text{act}}(W\\ [h_{t-1},x_t]),$$\n",
    "\n",
    "где $\\large [h_{t-1},x_t]$ — конкатенация векторов $\\large h_{t-1}$ и $\\large x_t$, а $\\large W$ — соответственно конкатенация матриц $\\large W_{hh}$ и $\\large W_{xh}$."
   ]
  },
  {
   "cell_type": "markdown",
   "metadata": {},
   "source": [
    "## RNN слой в PyTorch"
   ]
  },
  {
   "cell_type": "markdown",
   "metadata": {},
   "source": [
    "В PyTorch есть слой — `torch.nn.RNN` [🛠️[doc]](https://pytorch.org/docs/stable/generated/torch.nn.RNN.html), который реализует логику, описанную выше.\n",
    "\n",
    "Также есть сущность `torch.nn.RNNCell` [🛠️[doc]](https://pytorch.org/docs/stable/generated/torch.nn.RNNCell.html), которая реализует вычисления на одном такте времени.\n",
    "\n",
    "Слой `nn.RNN` фактически является оберткой, которая вызывает `nn.RNNCell` в цикле по длине входной последовательности.\n",
    "\n",
    "Параметры слоя `nn.RNN`:\n",
    "\n",
    "* **`input_size`** — размерность $\\large x_t$, целое число.\n",
    "\n",
    "* **`hidden_size`** — размерность $\\large h_t$, целое число. Фактически это количество нейронов в рекуррентном слое.\n"
   ]
  },
  {
   "cell_type": "markdown",
   "metadata": {},
   "source": [
    "Техническая особенность рекуррентных слоев в PyTorch: по умолчанию ожидаемые размерности входа такие:\n",
    "\n",
    "**`[длина последовательности, размер батча, размерность входа]`**\n",
    "\n",
    "Однако если при создании слоя указать `batch_first=True`, то можно подавать входные значения в более привычном формате, когда размер батча стоит на первом месте:\n",
    "\n",
    "**`[размер батча, длина последовательности, размерность входа]`**\n",
    "\n"
   ]
  },
  {
   "cell_type": "code",
   "execution_count": null,
   "metadata": {},
   "outputs": [],
   "source": [
    "import torch\n",
    "\n",
    "torch.manual_seed(42)\n",
    "\n",
    "rnn = torch.nn.RNN(input_size=3, hidden_size=2, batch_first=True)\n",
    "\n",
    "dummy_batched_seq = torch.randn((16, 57, 3))  # batch_size, seq_len, input_size\n",
    "out, h = rnn(dummy_batched_seq)\n",
    "\n",
    "print(\"Input shape:\".ljust(20), f\"{dummy_batched_seq.shape}\")\n",
    "print(\"Out shape:\".ljust(20), f\"{out.shape}\")\n",
    "print(\"Last hidden state shape:\".ljust(20), f\"{h.shape}\")"
   ]
  },
  {
   "cell_type": "markdown",
   "metadata": {},
   "source": [
    "При вызове слой возвращает два объекта:\n",
    "* `out` — последовательность скрытых состояний,\n",
    "* `h` — скрытое состояние на последнем такте.\n",
    "\n",
    "Мы указали `batch_first=True`, при этом `out` сохранил последовательность размерностей, как у входа, а вот у `h` размерность батча встала на второе место."
   ]
  },
  {
   "cell_type": "code",
   "execution_count": null,
   "metadata": {},
   "outputs": [],
   "source": [
    "h_batch_first = h.permute(1, 0, 2)\n",
    "\n",
    "print(f\"h is last out: {(h_batch_first == out[:, -1:, :]).all().item()}\")"
   ]
  },
  {
   "cell_type": "markdown",
   "metadata": {},
   "source": [
    "### Многослойные RNN"
   ]
  },
  {
   "cell_type": "markdown",
   "metadata": {},
   "source": [
    "RNN-блоки можно объединять в слои, накладывая их друг на друга. Для этой операции в `torch.nn.RNN` есть аргумент `num_layers`, с помощью которого можно указать количество слоёв."
   ]
  },
  {
   "cell_type": "markdown",
   "metadata": {},
   "source": [
    "<center><img src =\"https://edunet.kea.su/repo/EduNet-content/dev-2.1/L09/out/rnn_multiple_layers.png\" width=\"500\"></center>"
   ]
  },
  {
   "cell_type": "code",
   "execution_count": null,
   "metadata": {},
   "outputs": [],
   "source": [
    "dummy_input = torch.randn((16, 6, 3))  # batch_size, seq_len, input_size\n",
    "rnn = torch.nn.RNN(input_size=3, hidden_size=2, num_layers=2, batch_first=True)\n",
    "\n",
    "out, h = rnn(dummy_input)\n",
    "\n",
    "print()\n",
    "print(\"Out:\\n\", out.shape)  # Hidden states for all elements from top layer\n",
    "print(\"h:\\n\", h.shape)  # Hidden states for last element for all layers"
   ]
  },
  {
   "cell_type": "markdown",
   "metadata": {},
   "source": [
    "## Пример прогнозирования временного ряда с помощью RNN"
   ]
  },
  {
   "cell_type": "markdown",
   "metadata": {},
   "source": [
    "Рекуррентная сеть может выдавать некий ответ на каждом шаге, однако мы можем построить работу вот в такой логике:\n",
    "\n",
    "🟢 Использовать только последний `hidden` для предсказания одного значения. Этот режим работы, который нам потребуется для обучения рекуррентной нейронной сети для прогнозирования временного ряда, называется **many-to-one**."
   ]
  },
  {
   "cell_type": "markdown",
   "metadata": {},
   "source": [
    "<center><img src =\"https://edunet.kea.su/repo/EduNet-content/dev-2.1/L09/out/many_to_one.png\" width=\"300\"></center>"
   ]
  },
  {
   "cell_type": "markdown",
   "metadata": {},
   "source": [
    "Загрузим датасет с информацией об объеме ежемесячных авиаперевозок с 1949 по 1960 год. Столбец с датами сразу приведем к формату `datetime` [🛠️[doc]](https://pandas.pydata.org/docs/user_guide/timeseries.html) для удобства.\n"
   ]
  },
  {
   "cell_type": "code",
   "execution_count": null,
   "metadata": {},
   "outputs": [],
   "source": [
    "import pandas as pd\n",
    "\n",
    "dataset = pd.read_csv(\n",
    "    \"https://edunet.kea.su/repo/EduNet-web_dependencies/datasets/airline-passengers.csv\"\n",
    ")\n",
    "dataset.Month = pd.to_datetime(dataset.Month)\n",
    "dataset.head()"
   ]
  },
  {
   "cell_type": "markdown",
   "metadata": {},
   "source": [
    "Выведем временной ряд:"
   ]
  },
  {
   "cell_type": "code",
   "execution_count": null,
   "metadata": {},
   "outputs": [],
   "source": [
    "import matplotlib.pyplot as plt\n",
    "\n",
    "\n",
    "def simple_display(data, xticks, label=None):\n",
    "    plt.figure(figsize=(12, 4))\n",
    "    plt.plot(xticks, data, label=label)\n",
    "    plt.legend()\n",
    "    plt.grid()\n",
    "    plt.show()"
   ]
  },
  {
   "cell_type": "code",
   "execution_count": null,
   "metadata": {},
   "outputs": [],
   "source": [
    "data = dataset[\"Passengers\"]\n",
    "simple_display(data=data, xticks=dataset[\"Month\"], label=\"Initial data\")"
   ]
  },
  {
   "cell_type": "markdown",
   "metadata": {},
   "source": [
    "Наблюдаем, что в данных явно присутствуют тренд, сезонность, а также гетероскедастичность (нестационарность по дисперсии). Сделать ряд гомоскедастичным можно, применив к нему логарифмирование."
   ]
  },
  {
   "cell_type": "code",
   "execution_count": null,
   "metadata": {},
   "outputs": [],
   "source": [
    "import numpy as np\n",
    "\n",
    "data_log = np.log(data)\n",
    "simple_display(data=data_log, xticks=dataset[\"Month\"], label=\"log(Initial data)\")"
   ]
  },
  {
   "cell_type": "markdown",
   "metadata": {},
   "source": [
    "### Разбиение на train-val-test"
   ]
  },
  {
   "cell_type": "markdown",
   "metadata": {},
   "source": [
    "Разделим данные на:\n",
    "* обучающие (январь 1949 &ndash; декабрь 1955),\n",
    "* валидационные (январь 1956 &ndash; декабрь 1958),\n",
    "* тестовые (январь 1959 &ndash; декабрь 1960).\n"
   ]
  },
  {
   "cell_type": "code",
   "execution_count": null,
   "metadata": {},
   "outputs": [],
   "source": [
    "import datetime\n",
    "\n",
    "train_start = datetime.datetime(1949, 1, 1)\n",
    "train_end = datetime.datetime(1955, 12, 1)\n",
    "\n",
    "val_start = datetime.datetime(1956, 1, 1)\n",
    "val_end = datetime.datetime(1958, 12, 1)\n",
    "\n",
    "test_start = datetime.datetime(1959, 1, 1)\n",
    "test_end = datetime.datetime(1960, 12, 1)\n",
    "\n",
    "train_data = dataset.query(\"(`Month` >= @train_start) & (`Month` <= @train_end)\")\n",
    "val_data = dataset.query(\"(`Month` >= @val_start) & (`Month` <= @val_end)\")\n",
    "test_data = dataset.query(\"(`Month` >= @test_start) & (`Month` <= @test_end)\")\n",
    "\n",
    "print(\"Train head and tail:\")\n",
    "display(train_data.iloc[np.r_[0:2, -2:0]])\n",
    "print(\"\\nVal head and tail:\")\n",
    "display(val_data.iloc[np.r_[0:2, -2:0]])\n",
    "print(\"\\nTest head and tail:\")\n",
    "display(test_data.iloc[np.r_[0:2, -2:0]])"
   ]
  },
  {
   "cell_type": "markdown",
   "metadata": {},
   "source": [
    "Для удобства последующей обработки начнем собирать данные в структуру. Для каждой части данных (`train`, `val`, и `test`) запишем в словарь временные метки и исходные данные."
   ]
  },
  {
   "cell_type": "code",
   "execution_count": null,
   "metadata": {},
   "outputs": [],
   "source": [
    "split = {\"train\": {}, \"val\": {}, \"test\": {}}\n",
    "\n",
    "for part, data_part in zip(split, [train_data, val_data, test_data]):\n",
    "    split[part][\"timestamps\"] = data_part[\"Month\"]\n",
    "    split[part][\"data\"] = data_part[\"Passengers\"].values"
   ]
  },
  {
   "cell_type": "markdown",
   "metadata": {},
   "source": [
    "Отобразим разделенные данные:"
   ]
  },
  {
   "cell_type": "code",
   "execution_count": null,
   "metadata": {},
   "outputs": [],
   "source": [
    "def initial_data_display(split):\n",
    "    plt.figure(figsize=(12, 4))\n",
    "    for part in split:\n",
    "        plt.plot(split[part][\"timestamps\"], split[part][\"data\"], label=part)\n",
    "    plt.title(\"Initial data\")\n",
    "    plt.legend()\n",
    "    plt.grid()\n",
    "    plt.show()\n",
    "\n",
    "\n",
    "initial_data_display(split)"
   ]
  },
  {
   "cell_type": "markdown",
   "metadata": {},
   "source": [
    "### Устранение тренда"
   ]
  },
  {
   "cell_type": "markdown",
   "metadata": {},
   "source": [
    "Для обработки данных нейронной сетью требуется, чтобы распределение входных и целевых переменных в обучающей, валидационной и тестовой выборках было одинаковым.\n",
    "\n",
    "Для устранения гетероскедастичности и линейного тренда реализуем класс, с помощью которого мы сможем:\n",
    "\n",
    "* при необходимости применять к данным логарифмирование для устранения гетероскедастичности (флаг `apply_log`),\n",
    "* проводить оценку и вычитание линейного тренда с помощью методов `fit` и `transform`,\n",
    "* проводить обратное преобразование: прибавление тренда и экспоненциирование (если изначально проводилось логарифмирование) с помощью метода `inverse_transform`."
   ]
  },
  {
   "cell_type": "code",
   "execution_count": null,
   "metadata": {},
   "outputs": [],
   "source": [
    "from sklearn.linear_model import LinearRegression\n",
    "\n",
    "\n",
    "class TimeSeriesTransform:\n",
    "    def __init__(self, apply_log=False):\n",
    "        self.slope = None\n",
    "        self.apply_log = apply_log\n",
    "\n",
    "    def fit(self, train_data: np.ndarray):\n",
    "        data = train_data\n",
    "        if self.apply_log:\n",
    "            data = np.log(data + 1)  # to avoid log(0)\n",
    "\n",
    "        x = np.arange(len(data))\n",
    "        x_centered = x - x.mean()\n",
    "\n",
    "        data_centered = data - data.mean()\n",
    "\n",
    "        reg = LinearRegression(fit_intercept=False).fit(\n",
    "            x_centered.reshape(-1, 1), data_centered.reshape(-1, 1)\n",
    "        )\n",
    "\n",
    "        self.slope = reg.coef_[0]\n",
    "\n",
    "        return self\n",
    "\n",
    "    def transform(self, data: np.ndarray, window_size: int):\n",
    "        if self.slope is None:\n",
    "            raise ValueError(\"call fit before transform\")\n",
    "\n",
    "        if self.apply_log:\n",
    "            data = np.log(data + 1)  # to avoid log(0)\n",
    "\n",
    "        x = np.arange(len(data))\n",
    "        x_centered = x - x.mean()\n",
    "        trend = self.slope * x_centered\n",
    "\n",
    "        anchor_value = data[window_size]\n",
    "        data_centered = data - data.mean()\n",
    "        data_detrended = data_centered - trend\n",
    "        return anchor_value, data_detrended\n",
    "\n",
    "    def inverse_transform(self, anchor_value: float, data_detrended: np.ndarray):\n",
    "        if self.slope is None:\n",
    "            raise ValueError(\"call fit before inverse_transform\")\n",
    "\n",
    "        x = np.arange(len(data_detrended))\n",
    "        x_centered = x - x.mean()\n",
    "        trend = self.slope * x_centered\n",
    "\n",
    "        data = data_detrended + trend\n",
    "        data = data - data[0] + anchor_value\n",
    "        if self.apply_log:\n",
    "            data = np.exp(data) - 1\n",
    "        return data"
   ]
  },
  {
   "cell_type": "markdown",
   "metadata": {},
   "source": [
    "Применим логарифмирование, оценим линейный тренд на обучающих данных и проведем его вычитание на обучающих, валидационных и тестовых данных.\n",
    "\n",
    "Неочевидный момент: наличие линейного тренда приводит нас к необходимости уметь экстраполировать линейный тренд в область за пределами обучающих данных, на которых мы его оцениваем. Потому при вызове `transform` мы храним опорную точку (`anchor_value`) для каждой из подвыборок, чтобы знать, в каком масштабе нужно добавлять тренд в дальнейшем при вызове `inverse_transform`.\n",
    "\n"
   ]
  },
  {
   "cell_type": "code",
   "execution_count": null,
   "metadata": {},
   "outputs": [],
   "source": [
    "window_size = 12\n",
    "\n",
    "split[\"train\"][\"transform\"] = TimeSeriesTransform(apply_log=True)\n",
    "\n",
    "split[\"train\"][\"transform\"].fit(split[\"train\"][\"data\"])\n",
    "\n",
    "for part in split:\n",
    "    split[part][\"anchor_value\"], split[part][\"data_transformed\"] = split[\"train\"][\n",
    "        \"transform\"\n",
    "    ].transform(split[part][\"data\"], window_size=window_size)"
   ]
  },
  {
   "cell_type": "markdown",
   "metadata": {},
   "source": [
    "Отобразим преобразованные данные, на которых теперь можно обучать, валидировать и тестировать нейронную сеть:"
   ]
  },
  {
   "cell_type": "code",
   "execution_count": null,
   "metadata": {},
   "outputs": [],
   "source": [
    "def transformed_data_display(split):\n",
    "    plt.figure(figsize=(12, 4))\n",
    "    for part in split:\n",
    "        plt.plot(split[part][\"timestamps\"], split[part][\"data_transformed\"], label=part)\n",
    "    plt.title(\"Transformed data\")\n",
    "    plt.legend()\n",
    "    plt.grid()\n",
    "    plt.show()\n",
    "\n",
    "\n",
    "transformed_data_display(split)"
   ]
  },
  {
   "cell_type": "markdown",
   "metadata": {},
   "source": [
    "### Создание датасета"
   ]
  },
  {
   "cell_type": "markdown",
   "metadata": {},
   "source": [
    "Создадим датасет: будем обучать нейронную сеть по последовательности из `seq_len` элементов предсказывать `seq_len + 1`-й"
   ]
  },
  {
   "cell_type": "code",
   "execution_count": null,
   "metadata": {},
   "outputs": [],
   "source": [
    "import torch\n",
    "from torch.utils.data import Dataset\n",
    "\n",
    "\n",
    "class TimeSeriesDataset(Dataset):\n",
    "    def __init__(self, data, seq_length):\n",
    "        super().__init__()\n",
    "        self.seq_length = seq_length\n",
    "        self.data = torch.from_numpy(data).float()\n",
    "\n",
    "    def __getitem__(self, idx):\n",
    "        # seq_len elements input\n",
    "        x = self.data[idx : (idx + self.seq_length)].view(-1, 1)\n",
    "        # one element output\n",
    "        y = self.data[idx + self.seq_length]\n",
    "        return x, y\n",
    "\n",
    "    def __len__(self):\n",
    "        return len(self.data) - self.seq_length"
   ]
  },
  {
   "cell_type": "markdown",
   "metadata": {},
   "source": [
    "Для каждой части данных создадим `Dataset` и `DataLoader`:"
   ]
  },
  {
   "cell_type": "code",
   "execution_count": null,
   "metadata": {},
   "outputs": [],
   "source": [
    "from torch.utils.data import DataLoader\n",
    "\n",
    "for part in split:\n",
    "    split[part][\"dataset\"] = TimeSeriesDataset(\n",
    "        data=split[part][\"data_transformed\"], seq_length=window_size\n",
    "    )\n",
    "\n",
    "    shuffle = True if part == \"train\" else False\n",
    "\n",
    "    split[part][\"dataloader\"] = DataLoader(\n",
    "        dataset=split[part][\"dataset\"], batch_size=16, shuffle=shuffle\n",
    "    )"
   ]
  },
  {
   "cell_type": "markdown",
   "metadata": {},
   "source": [
    "Посмотрим на один батч обучающих данных, а также выведем количество обучающих батчей:"
   ]
  },
  {
   "cell_type": "code",
   "execution_count": null,
   "metadata": {},
   "outputs": [],
   "source": [
    "x, y = next(iter(split[\"train\"][\"dataloader\"]))\n",
    "\n",
    "print(f\"one batch input shape:   {x.shape}\")\n",
    "print(f\"one batch output shape:  {y.shape}\")\n",
    "print(f\"number of train batches: {len(split['train']['dataloader'])}\")"
   ]
  },
  {
   "cell_type": "markdown",
   "metadata": {},
   "source": [
    "### Создание модели"
   ]
  },
  {
   "cell_type": "markdown",
   "metadata": {},
   "source": [
    "Модель рекуррентной нейронной сети будет содержать два слоя:\n",
    "\n",
    "* рекуррентный скрытый слой из `hidden_size` рекуррентных нейронов, который будет получать последовательность из `seq_len` отсчетов временного ряда (так как мы имеем дело со скалярным рядом, то размерность `input_size` в данном примере равна $1$) и производить `seq_len` скрытых состояний,\n",
    "* полносвязный слой, который будет по последнему скрытому состоянию последовательности предсказывать одно число &mdash; следующий отсчет временного ряда."
   ]
  },
  {
   "cell_type": "code",
   "execution_count": null,
   "metadata": {},
   "outputs": [],
   "source": [
    "import torch.nn as nn\n",
    "\n",
    "\n",
    "class TimeSeriesPredictor(nn.Module):\n",
    "    def __init__(self, input_size=1, hidden_size=16):\n",
    "        # hidden_size it is number of hidden neurons\n",
    "        super().__init__()\n",
    "        self.rnn = nn.RNN(\n",
    "            input_size=input_size, hidden_size=hidden_size, batch_first=True\n",
    "        )\n",
    "        # Predict only one value\n",
    "        self.fc = nn.Linear(hidden_size, 1)\n",
    "\n",
    "    def forward(self, x):\n",
    "        # x shape: [b_s, seq_len, input_size]  b_s <= batch_size\n",
    "        out, h = self.rnn(x)  # [b_s, seq_len, hidden_size], [1, b_s, hidden_size]\n",
    "        y = self.fc(h)  # [1, b_s, 1]\n",
    "        y = y.flatten()  # [b_s]\n",
    "        return y"
   ]
  },
  {
   "cell_type": "markdown",
   "metadata": {},
   "source": [
    "Проверим, что входные данные одного батча проходят через модель."
   ]
  },
  {
   "cell_type": "code",
   "execution_count": null,
   "metadata": {},
   "outputs": [],
   "source": [
    "model = TimeSeriesPredictor()\n",
    "out = model(x)\n",
    "\n",
    "print(f\"Model output size: {out.shape} (bach_size x out_dim)\")"
   ]
  },
  {
   "cell_type": "markdown",
   "metadata": {},
   "source": [
    "### Получение предсказаний"
   ]
  },
  {
   "cell_type": "markdown",
   "metadata": {},
   "source": [
    "Предсказывать следующие значения временного ряда с помощью модели можно в двух режимах:\n",
    "\n",
    "* \"forced prediction\" — для предсказания на вход всегда подаются актуальные значения ряда,\n",
    "* \"rolling prediction\" — для предсказания в будущее, когда актуальных значений ряда нет на руках, можно подавать модели на вход ее собственные предсказания. Таким образом технически возможно предсказывать на произвольное количество отсчетов в будущее.\n",
    "\n",
    "Для честной оценки модели на тестовых данных нужно пользоваться именно \"rolling prediction\": подаем модели первые `seq_len` отсчетов актуальных данных для получения первого предсказания, а для получения следующих предсказаний подаем модели на вход ее же выход.\n",
    "\n",
    "Обратим внимание, что модель работает с предобработанными данными, поэтому после получения предсказаний требуется вызвать `inverse_transform` для возврата к исходным значениям."
   ]
  },
  {
   "cell_type": "code",
   "execution_count": null,
   "metadata": {},
   "outputs": [],
   "source": [
    "def forced_predict(model, split, part):\n",
    "    y_true = []\n",
    "    y_pred = []\n",
    "    model.eval()\n",
    "    dataset = split[part][\"dataset\"]\n",
    "    with torch.no_grad():\n",
    "        for x, y in dataset:\n",
    "            out = model(x)\n",
    "            y_true.append(y.item())\n",
    "            y_pred.append(out.item())\n",
    "    y_true = np.array(y_true)\n",
    "    y_pred = np.array(y_pred)\n",
    "\n",
    "    transform = split[\"train\"][\"transform\"]\n",
    "    y_true = transform.inverse_transform(split[part][\"anchor_value\"], y_true)\n",
    "    y_pred = transform.inverse_transform(split[part][\"anchor_value\"], y_pred)\n",
    "\n",
    "    return y_true, y_pred"
   ]
  },
  {
   "cell_type": "code",
   "execution_count": null,
   "metadata": {},
   "outputs": [],
   "source": [
    "def rolling_predict(model, split, part, forecast_horizon):\n",
    "    y_pred = []\n",
    "    model.eval()\n",
    "    dataset = split[part][\"dataset\"]\n",
    "    x, _ = dataset[0]\n",
    "\n",
    "    with torch.no_grad():\n",
    "        for _ in range(forecast_horizon):\n",
    "            out = model(x).view(-1, 1)  # for concatenation shape compatibility\n",
    "            y_pred.append(out.item())\n",
    "\n",
    "            # drop first element and add new prediction\n",
    "            x = torch.cat([x[1:], out])\n",
    "    y_pred = np.array(y_pred)\n",
    "\n",
    "    transform = split[\"train\"][\"transform\"]\n",
    "    y_pred = transform.inverse_transform(split[part][\"anchor_value\"], y_pred)\n",
    "\n",
    "    return y_pred"
   ]
  },
  {
   "cell_type": "markdown",
   "metadata": {},
   "source": [
    "Для проверки получим предсказания необученной модели: в режиме \"forced prediction\" для обучающих и валидационных данных и в режиме \"rolling prediction\" для тестовых."
   ]
  },
  {
   "cell_type": "code",
   "execution_count": null,
   "metadata": {},
   "outputs": [],
   "source": [
    "for part in split:\n",
    "    if part in (\"train\", \"val\"):\n",
    "        y_true, y_pred = forced_predict(model, split, part)\n",
    "\n",
    "    if part == \"test\":\n",
    "        y_true, _ = forced_predict(model, split, part)\n",
    "        y_pred = rolling_predict(model, split, part, forecast_horizon=len(y_true))\n",
    "\n",
    "    split[part][\"y_true\"] = y_true\n",
    "    split[part][\"y_pred\"] = y_pred"
   ]
  },
  {
   "cell_type": "markdown",
   "metadata": {},
   "source": [
    "Отобразим актуальные и предсказанные данные. Так как для тестовых данных мы можем получать предсказания длиннее, чем актуальные данные, для отображения дат по оси `x` создается `pd.date_range` [🛠️[doc]](https://pandas.pydata.org/pandas-docs/stable/reference/api/pandas.date_range.html) с началом, совпадающим с началом актуальных тестовых данных, и длиной с предсказанные тестовые данные."
   ]
  },
  {
   "cell_type": "code",
   "execution_count": null,
   "metadata": {},
   "outputs": [],
   "source": [
    "def display_pred_with_rolling_test(split):\n",
    "    plt.figure(figsize=(12, 4))\n",
    "    for part in split:\n",
    "        timestamps = split[part][\"timestamps\"][window_size:]\n",
    "        real_data = split[part][\"y_true\"]\n",
    "        pred_data = split[part][\"y_pred\"]\n",
    "\n",
    "        if part in (\"train\", \"val\"):\n",
    "\n",
    "            plt.plot(timestamps, real_data, label=f\"{part}/real\")\n",
    "            plt.plot(timestamps, pred_data, label=f\"{part}/predicted\")\n",
    "\n",
    "        if part == \"test\":\n",
    "            plt.plot(timestamps, real_data, label=f\"{part}/real\")\n",
    "\n",
    "            future_timestamps = pd.date_range(\n",
    "                timestamps.iloc[0], periods=len(pred_data), freq=\"MS\"\n",
    "            )\n",
    "            plt.plot(future_timestamps, pred_data, label=f\"{part}/predicted\")\n",
    "\n",
    "    plt.title(\"Real vs Predicted\")\n",
    "    plt.legend()\n",
    "    plt.grid()\n",
    "    plt.show()\n",
    "\n",
    "\n",
    "display_pred_with_rolling_test(split)"
   ]
  },
  {
   "cell_type": "markdown",
   "metadata": {},
   "source": [
    "Оценим ошибку RMSE для предсказаний необученной модели:"
   ]
  },
  {
   "cell_type": "code",
   "execution_count": null,
   "metadata": {},
   "outputs": [],
   "source": [
    "from sklearn.metrics import mean_squared_error\n",
    "\n",
    "for part in split:\n",
    "    part_rmse = np.sqrt(\n",
    "        mean_squared_error(\n",
    "            y_true=split[part][\"y_true\"], y_pred=split[part][\"y_pred\"], squared=False\n",
    "        )\n",
    "    )\n",
    "    print(f\"{part:<5} RMSE: {part_rmse:.2f}\")"
   ]
  },
  {
   "cell_type": "markdown",
   "metadata": {},
   "source": [
    "### Обучение"
   ]
  },
  {
   "cell_type": "markdown",
   "metadata": {},
   "source": [
    "Реализуем пайплайн обучения и валидации на Lightning. В качестве функции потерь и метрики будем использовать MSE."
   ]
  },
  {
   "cell_type": "code",
   "execution_count": null,
   "metadata": {},
   "outputs": [],
   "source": [
    "!pip install -q lightning tbparse"
   ]
  },
  {
   "cell_type": "code",
   "execution_count": null,
   "metadata": {},
   "outputs": [],
   "source": [
    "import lightning as L\n",
    "from torchmetrics import MetricCollection\n",
    "from torchmetrics.regression import MeanSquaredError\n",
    "\n",
    "\n",
    "class TimeSeriesPipeline(L.LightningModule):\n",
    "    def __init__(\n",
    "        self,\n",
    "        model,\n",
    "        exp_name=\"baseline\",\n",
    "        criterion=nn.MSELoss(),\n",
    "        optimizer_class=torch.optim.Adam,\n",
    "    ):\n",
    "        super().__init__()\n",
    "        self.model = model\n",
    "        self.criterion = criterion\n",
    "        self.optimizer_class = optimizer_class\n",
    "        metrics = MetricCollection([MeanSquaredError()])\n",
    "        self.train_metrics = metrics.clone(postfix=\"/train\")\n",
    "        self.valid_metrics = metrics.clone(postfix=\"/val\")\n",
    "\n",
    "    def configure_optimizers(self):\n",
    "        optimizer = self.optimizer_class(self.model.parameters())\n",
    "        return optimizer\n",
    "\n",
    "    def training_step(self, batch, batch_idx):\n",
    "        x, y = batch\n",
    "        out = self.model(x)\n",
    "        loss = self.criterion(out, y)\n",
    "\n",
    "        self.log(\"Loss/train\", loss, prog_bar=True)\n",
    "        self.train_metrics.update(out, y)\n",
    "\n",
    "        return loss\n",
    "\n",
    "    def validation_step(self, batch, batch_idx):\n",
    "        x, y = batch\n",
    "        out = self.model(x)\n",
    "        loss = self.criterion(out, y)\n",
    "        self.log(\"Loss/val\", loss, prog_bar=True)\n",
    "        self.valid_metrics.update(out, y)\n",
    "\n",
    "    def on_training_epoch_end(self):\n",
    "        train_metrics = self.train_metrics.compute()\n",
    "        self.log_dict(train_metrics)\n",
    "        self.train_metrics.reset()\n",
    "\n",
    "    def on_validation_epoch_end(self):\n",
    "        valid_metrics = self.valid_metrics.compute()\n",
    "        self.log_dict(valid_metrics)\n",
    "        self.valid_metrics.reset()"
   ]
  },
  {
   "cell_type": "markdown",
   "metadata": {},
   "source": [
    "Создадим пайплайн и запустим обучение с сохранением лучшей модели по минимальному MSE на валидационной выборке."
   ]
  },
  {
   "cell_type": "code",
   "execution_count": null,
   "metadata": {},
   "outputs": [],
   "source": [
    "from lightning.pytorch import Trainer\n",
    "from lightning.pytorch.callbacks import ModelCheckpoint\n",
    "from lightning.pytorch.loggers import TensorBoardLogger\n",
    "\n",
    "\n",
    "L.seed_everything(42)\n",
    "\n",
    "checkpoint_callback = ModelCheckpoint(\n",
    "    monitor=\"MeanSquaredError/val\", mode=\"min\", filename=\"best\"\n",
    ")\n",
    "\n",
    "exp_name = f\"baseline\"\n",
    "trainer = Trainer(\n",
    "    max_epochs=3000,\n",
    "    logger=TensorBoardLogger(save_dir=f\"logs/time_series_prediction\", name=exp_name),\n",
    "    num_sanity_val_steps=1,\n",
    "    callbacks=[checkpoint_callback],\n",
    "    log_every_n_steps=5,\n",
    "    enable_progress_bar=False,\n",
    ")\n",
    "\n",
    "model = TimeSeriesPredictor()\n",
    "\n",
    "pipeline = TimeSeriesPipeline(\n",
    "    model=model,\n",
    "    optimizer_class=torch.optim.Adam,\n",
    ")\n",
    "\n",
    "trainer.fit(\n",
    "    model=pipeline,\n",
    "    train_dataloaders=split[\"train\"][\"dataloader\"],\n",
    "    val_dataloaders=split[\"val\"][\"dataloader\"],\n",
    ")"
   ]
  },
  {
   "cell_type": "code",
   "execution_count": null,
   "metadata": {},
   "outputs": [],
   "source": [
    "from tbparse import SummaryReader\n",
    "\n",
    "\n",
    "def tbparse_visual(log_path):\n",
    "    reader = SummaryReader(log_path)\n",
    "    df = reader.scalars\n",
    "\n",
    "    plt.figure(figsize=(12, 4))\n",
    "    for tag in df.tag.unique():\n",
    "        if \"Loss\" in tag:\n",
    "            tag_data = df.query(\"`tag` == @tag\").sort_values(by=\"step\")\n",
    "            tag_data = tag_data.value.values\n",
    "            plt.plot(tag_data, label=tag)\n",
    "    plt.xlabel(\"epoch\")\n",
    "    plt.ylabel(\"loss\")\n",
    "    plt.legend()\n",
    "    plt.grid()\n",
    "    plt.show()"
   ]
  },
  {
   "cell_type": "code",
   "execution_count": null,
   "metadata": {},
   "outputs": [],
   "source": [
    "import os\n",
    "\n",
    "base_path = f\"/content/logs/time_series_prediction/{exp_name}\"\n",
    "last_version = sorted(os.listdir(base_path))[-1]\n",
    "log_path = f\"{base_path}/{last_version}\"\n",
    "\n",
    "tbparse_visual(log_path)\n",
    "\n",
    "# or simply uncomment these two lines\n",
    "# %load_ext tensorboard\n",
    "# %tensorboard --logdir logs/time_series_prediction --port 6006"
   ]
  },
  {
   "cell_type": "markdown",
   "metadata": {},
   "source": [
    "#### Восстановление модели из контрольной точки"
   ]
  },
  {
   "cell_type": "markdown",
   "metadata": {},
   "source": [
    "Так как модель могла переобучиться, восстановим модель с лучшим значением MSE на валидационной выборке."
   ]
  },
  {
   "cell_type": "code",
   "execution_count": null,
   "metadata": {},
   "outputs": [],
   "source": [
    "ckpt_path = f\"{log_path}/checkpoints/best.ckpt\"\n",
    "checkpoint = torch.load(ckpt_path)\n",
    "\n",
    "print(f\"Checkpoint has been loaded from {ckpt_path}\")\n",
    "print(f\"Best model has been saved on the {checkpoint['epoch']} epoch\")\n",
    "\n",
    "state_dict = {}\n",
    "for key in checkpoint[\"state_dict\"].keys():\n",
    "    key_new = key.lstrip(\"model.\")\n",
    "    state_dict[key_new] = checkpoint[\"state_dict\"][key]\n",
    "\n",
    "model = TimeSeriesPredictor()\n",
    "\n",
    "model.load_state_dict(state_dict)"
   ]
  },
  {
   "cell_type": "markdown",
   "metadata": {},
   "source": [
    "### Предсказания обученной модели"
   ]
  },
  {
   "cell_type": "markdown",
   "metadata": {},
   "source": [
    "Получим и отобразим предсказания обученной модели: в режиме \"forced prediction\" для обучающих и валидационных данных и в режиме \"rolling prediction\" для тестовых."
   ]
  },
  {
   "cell_type": "code",
   "execution_count": null,
   "metadata": {},
   "outputs": [],
   "source": [
    "for part in split:\n",
    "    if part in (\"train\", \"val\"):\n",
    "        y_true, y_pred = forced_predict(model, split, part)\n",
    "\n",
    "    if part == \"test\":\n",
    "        y_true, _ = forced_predict(model, split, part)\n",
    "        y_pred = rolling_predict(model, split, part, forecast_horizon=len(y_true))\n",
    "\n",
    "    split[part][\"y_true\"] = y_true\n",
    "    split[part][\"y_pred\"] = y_pred\n",
    "\n",
    "display_pred_with_rolling_test(split)"
   ]
  },
  {
   "cell_type": "markdown",
   "metadata": {},
   "source": [
    "Оценим ошибку RMSE для предсказаний обученной модели"
   ]
  },
  {
   "cell_type": "code",
   "execution_count": null,
   "metadata": {},
   "outputs": [],
   "source": [
    "for part in split:\n",
    "    part_rmse = mean_squared_error(\n",
    "        y_true=split[part][\"y_true\"], y_pred=split[part][\"y_pred\"], squared=False\n",
    "    )\n",
    "    print(f\"{part:<5} RMSE: {part_rmse:.2f}\")"
   ]
  },
  {
   "cell_type": "markdown",
   "metadata": {},
   "source": [
    "Мы можем получить предсказания в режиме \"rolling prediction\" и для обучающих и валидационных данных. Для примера также получим предсказания на тестовых данных еще на 4 года вперед."
   ]
  },
  {
   "cell_type": "code",
   "execution_count": null,
   "metadata": {},
   "outputs": [],
   "source": [
    "for part in split:\n",
    "    if part in (\"train\", \"val\"):\n",
    "        y_true, _ = forced_predict(model, split, part)\n",
    "        y_pred = rolling_predict(model, split, part, forecast_horizon=len(y_true))\n",
    "\n",
    "    if part == \"test\":\n",
    "        y_true, _ = forced_predict(model, split, part)\n",
    "        y_pred = rolling_predict(model, split, part, forecast_horizon=64)\n",
    "\n",
    "    split[part][\"y_true\"] = y_true\n",
    "    split[part][\"y_pred\"] = y_pred\n",
    "\n",
    "display_pred_with_rolling_test(split)"
   ]
  },
  {
   "cell_type": "markdown",
   "metadata": {},
   "source": [
    "На \"честном\" предсказании на обучающих данных видно, что чем дальше модель предсказывает по своим собственным предсказаниям, тем менее точным становится прогноз. Также мы наблюдаем, что модель смогла выучить сезонность в данных: годичные колебания сохраняются."
   ]
  },
  {
   "cell_type": "markdown",
   "metadata": {},
   "source": [
    "**Замечания:**\n",
    "\n",
    "1. Сложность нейронной сети должна соответствовать сложности подаваемых в нее данных. С ростом размерности скрытого состояния (числа рекуррентных нейронов) увеличивается количество параметров, растет возможность модели заучивать тренировочную выборку и теряется способность к обобщению.\n",
    "2. Предварительный анализ цикличности в данных (если она есть) помогает понять оптимальный размер ансамбля (тут видно, что цикл в среднем составляет 12 отсчетов).\n",
    "3. Как можно заметить, основная сложность работы с временным рядом лежит в пред- и постобработке сигналов. Сама нейронная сеть и ее обучение являются техническим моментом."
   ]
  },
  {
   "cell_type": "markdown",
   "metadata": {},
   "source": [
    "## Проблемы RNN"
   ]
  },
  {
   "cell_type": "markdown",
   "metadata": {},
   "source": [
    "Теоретически, можно было бы сразу пропустить все данные через сеть и затем вычислить градиент, однако возникнут следующие проблемы:\n",
    "\n",
    " - большие последовательности не поместятся в памяти,\n",
    " - так как цепочка будет очень длинной, возникнет затухание/взрыв градиента,\n",
    " - по мере прохождения сигнала по цепи контекст затирается.\n"
   ]
  },
  {
   "cell_type": "markdown",
   "metadata": {},
   "source": [
    "Допустим, у нас есть длинная последовательность. Если мы сразу предсказываем, то в каждый момент времени нужно распространить Loss. И все ячейки нужно обновить во время backpropogation. Все градиенты нужно посчитать. Возникают проблемы, связанные с нехваткой памяти.\n",
    "\n",
    "Есть специальные тесты для проверки, контекст какой длины использует RNN при предсказании. Если мы делаем предсказание только в последней ячейке, может оказаться, что используется, скажем, информация только о последних 10 словах предложения.\n",
    "\n",
    "Функция активации Tanh постепенно затирает контекст."
   ]
  },
  {
   "cell_type": "markdown",
   "metadata": {},
   "source": [
    "<center><img src =\"https://edunet.kea.su/repo/EduNet-web_dependencies/dev-2.1/L09/backprop_through_time.png\"><center>\n",
    "\n",
    "<center><em>Source: <a href=\"http://cs231n.stanford.edu/slides/2021/lecture_10.pdf\">CS231n: Recurrent Neural Network</a></em></center>"
   ]
  },
  {
   "cell_type": "markdown",
   "metadata": {},
   "source": [
    "Затухающий/взрывающийся градиент (Vanishing/exploding gradient) — явления затухающего и взрывающегося градиента часто встречаются в контексте RNN. И при большой длине последовательности это становится критичным. Причина в том, что зависимость величины градиента от числа слоёв экспоненциальная, поскольку веса умножаются многократно.\n",
    "\n",
    "$dL ∝ (W)^N:$\n",
    "\n",
    "$W > 1 \\rightarrow$ взрыв, $W < 1 \\rightarrow$ затухание."
   ]
  },
  {
   "cell_type": "markdown",
   "metadata": {},
   "source": [
    "<img src =\"https://edunet.kea.su/repo/EduNet-content/dev-2.1/L09/out/simple_rnn_backprop.png\" width=\"1000\">"
   ]
  },
  {
   "cell_type": "markdown",
   "metadata": {},
   "source": [
    "Один из путей решения проблемы — **градиентное отсечение** (Gradient truncating) — метод, который ограничивает максимально допустимое значение градиента, позволяя избежать градиентного взрыва.\n",
    "\n",
    "А от затухания градиента может помочь **пропускание** **градиента по частям**, на сколько-то шагов по времени назад или вперёд, а не через всю нейросеть. Да, градиент будет не совсем точно считаться, и мы будем терять в качестве. Но это экономит память."
   ]
  },
  {
   "cell_type": "markdown",
   "metadata": {},
   "source": [
    "<center><img src =\"https://edunet.kea.su/repo/EduNet-web_dependencies/dev-2.1/L09/truncated_backprop.png\"></center>\n",
    "\n",
    "<center><em>Source: <a href=\"http://cs231n.stanford.edu/slides/2021/lecture_10.pdf\">CS231n: Recurrent Neural Network</a></em></center>"
   ]
  },
  {
   "cell_type": "markdown",
   "metadata": {},
   "source": [
    "## LSTM (Long Short-Term Memory)"
   ]
  },
  {
   "cell_type": "markdown",
   "metadata": {},
   "source": [
    "Обычная RNN имела множество проблем, в том числе в ней очень быстро затухала информация о предыдущих элементах последовательности. Помимо этого были проблемы с затуханием/взрывом градиента.\n",
    "\n",
    "Эти проблемы были частично решены в LSTM, предложенной в [Long Short-Term Memory (Hochreiter & Schmidhuber, 1997) 🎓[article]](http://www.bioinf.jku.at/publications/older/2604.pdf).\n",
    "\n",
    "В обычной RNN-ячейке был только один путь передачи информации. На каждом шаге мы конкатенировали предыдущее скрытое состояние с текущим входом и пропускали их через линейный слой и активацией:"
   ]
  },
  {
   "cell_type": "markdown",
   "metadata": {},
   "source": [
    "<div align=\"center\">\n",
    "<html>\n",
    "<head>\n",
    "<style>\n",
    "table, th, td {\n",
    "  border: 1px solid black;\n",
    "  border-collapse: collapse;\n",
    "}\n",
    "<font size=\"2\" face=\"Times New Romans\" >\n",
    "\n",
    "\n",
    "</style>\n",
    "</head>\n",
    "<body>\n",
    "\n",
    "<table >\n",
    "\n",
    "<tr>\n",
    "<td>\n",
    "\n",
    "<center><img src = \"https://edunet.kea.su/repo/EduNet-content/dev-2.1/L09/out/simple_rnn_h_state.png\" width=\"500\"></center>\n",
    "\n",
    "</td>\n",
    "<td>\n",
    "\n",
    "<table >\n",
    "<tr>\n",
    "<td>\n",
    "\n",
    "$\\large h_t = \\tanh(W \\cdot [h_{t-1}, x_t])$\n",
    "\n",
    "</td>\n",
    "\n",
    "</tr>\n",
    "\n",
    "\n",
    "</table>\n",
    "\n",
    "</td>\n",
    "</tr>\n",
    "\n",
    "</table>\n",
    "\n",
    "\n",
    "\n",
    "\n",
    "\n",
    "\n"
   ]
  },
  {
   "cell_type": "markdown",
   "metadata": {},
   "source": [
    "При этом информация о предыдущих элементах последовательности очень быстро затухает и теряется общая информация о предложении.\n",
    "\n",
    "Структура ячейки LSTM намного сложнее. Здесь есть целых 4 линейных слоя, каждый из которых выполняет разные задачи."
   ]
  },
  {
   "cell_type": "markdown",
   "metadata": {},
   "source": [
    "<div align=\"center\">\n",
    "<html>\n",
    "<head>\n",
    "<style>\n",
    "table, th, td {\n",
    "  border: 1px solid black;\n",
    "  border-collapse: collapse;\n",
    "}\n",
    "<font size=\"2\" face=\"Times New Romans\" >\n",
    "\n",
    "\n",
    "</style>\n",
    "</head>\n",
    "<body>\n",
    "\n",
    "<table >\n",
    "<tr>\n",
    "<td>\n",
    "\n",
    "<center><img src=\"https://edunet.kea.su/repo/EduNet-content/dev-2.1/L09/out/lstm_chain.png\" width=\"500\"></center>\n",
    "<center><img src=\"https://edunet.kea.su/repo/EduNet-content/dev-2.1/L09/out/lstm_chain_notation.png\" width=\"700\"></center>\n",
    "\n",
    "</td>\n",
    "<td>\n",
    "\n",
    "<table >\n",
    "<tr>\n",
    "<td>\n",
    "\n",
    "$\\large f_t = σ(W_f \\cdot [h_{t-1}, x_t])\\ \\ \\ \\ $\n",
    "\n",
    "</td>\n",
    "<td>\n",
    "\n",
    "$$\\large \\text{forget  gate}$$\n",
    "\n",
    "</td>\n",
    "</tr>\n",
    "\n",
    "<tr>\n",
    "<td>\n",
    "\n",
    "$\\large i_t = σ(W_i \\cdot [h_{t-1}, x_t])$\n",
    "\n",
    "</td>\n",
    "<td>\n",
    "\n",
    "$$\\large \\text{input gate}$$\n",
    "\n",
    "</td>\n",
    "</tr>\n",
    "\n",
    "<tr>\n",
    "<td>\n",
    "\n",
    "$\\large o_t = σ(W_o \\cdot [h_{t-1}, x_t])$\n",
    "\n",
    "</td>\n",
    "<td>\n",
    "\n",
    "$$\\large \\text{output gate}$$\n",
    "\n",
    "</td>\n",
    "</tr>\n",
    "\n",
    "<tr>\n",
    "<td>\n",
    "\n",
    "$\\large c^\\prime_t = \\tanh(W_c \\cdot [h_{t-1}, x_t])$\n",
    "\n",
    "</td>\n",
    "<td>\n",
    "\n",
    "$$\\large \\text{candidate cell state}$$\n",
    "\n",
    "</td>\n",
    "</tr>\n",
    "\n",
    "<tr>\n",
    "<td>\n",
    "\n",
    "$\\large c_t = f_t\\otimes c_{t-1} + i_t \\otimes c^\\prime_t$\n",
    "\n",
    "</td>\n",
    "<td>\n",
    "\n",
    "$$\\large \\text{cell state}$$\n",
    "\n",
    "</td>\n",
    "</tr>\n",
    "\n",
    "<tr>\n",
    "<td>\n",
    "\n",
    "$\\large h_t = o_t\\otimes \\tanh(c_t)$\n",
    "\n",
    "</td>\n",
    "<td>\n",
    "\n",
    "$$\\large  \\text{hidden state}$$\n",
    "\n",
    "</td>\n",
    "</tr>\n",
    "</table>\n",
    "\n",
    "</td>\n",
    "</tr>\n",
    "\n",
    "</table>\n",
    "\n",
    "\n",
    "\n",
    "\n",
    "\n",
    "\n"
   ]
  },
  {
   "cell_type": "markdown",
   "metadata": {},
   "source": [
    "Главное нововведение: в LSTM добавлен путь $c$, который по задумке должен этот общий контекст сохранять."
   ]
  },
  {
   "cell_type": "markdown",
   "metadata": {},
   "source": [
    "<center><img src=\"https://edunet.kea.su/repo/EduNet-content/dev-2.1/L09/out/lstm_c_state_highway.png\" width=\"500\"></center>"
   ]
  },
  {
   "cell_type": "markdown",
   "metadata": {},
   "source": [
    "Другими словами, путь $c$ (cell state, иногда называется highway, магистраль)  помогает нейросети сохранять важную информацию, встретившуюся в какой-то момент в последовательности в прошлом, все время, пока эта информация требуется.\n",
    "\n",
    "По формулам также видно, как возросла сложность."
   ]
  },
  {
   "cell_type": "markdown",
   "metadata": {},
   "source": [
    "Отличие от RNN состоит в том, что кроме $h$ возвращается еще и $c$."
   ]
  },
  {
   "cell_type": "code",
   "execution_count": null,
   "metadata": {},
   "outputs": [],
   "source": [
    "import torch.nn as nn\n",
    "\n",
    "\n",
    "lstm = nn.LSTM(input_size=3, hidden_size=2, batch_first=True)\n",
    "input = torch.randn(16, 57, 3)  # batch_size, seq_len, input_size\n",
    "out, (h, c) = lstm(input)  # h and c returned in tuple\n",
    "\n",
    "print(\"Input shape:\".ljust(15), input.shape)\n",
    "print(\"Shape of h\".ljust(15), h.shape)  # 1, batch_size, hidden_size\n",
    "print(\"Shape of c\".ljust(15), c.shape)  # 1, batch_size, hidden_size\n",
    "print(\"Output shape:\".ljust(15), out.shape)  # batch_size, seq_len, hidden_size"
   ]
  },
  {
   "cell_type": "markdown",
   "metadata": {},
   "source": [
    "## GRU (Gated Recurrent Unit)"
   ]
  },
  {
   "cell_type": "markdown",
   "metadata": {},
   "source": [
    "Самая известная модификация LSTM — GRU. Она более компактна за счет сильных упрощений в сравнении со стандартной LSTM.\n",
    "\n",
    "Главные изменения: объединены forget и input gates, слиты $h_t$ и $c_t$, которые в обычной LSTM только участвовали в формировании друг друга."
   ]
  },
  {
   "cell_type": "markdown",
   "metadata": {},
   "source": [
    "<div align=\"center\">\n",
    "<html>\n",
    "<head>\n",
    "<style>\n",
    "table, th, td {\n",
    "  border: 1px solid black;\n",
    "  border-collapse: collapse;\n",
    "}\n",
    "<font size=\"2\" face=\"Times New Romans\" >\n",
    "\n",
    "\n",
    "</style>\n",
    "</head>\n",
    "<body>\n",
    "\n",
    "<table >\n",
    "<tr>\n",
    "<td>\n",
    "\n",
    "<center><img src =\"https://edunet.kea.su/repo/EduNet-content/dev-2.1/L09/out/gru_basic_block.png\" width=\"500\"></center>\n",
    "\n",
    "</td>\n",
    "<td>\n",
    "\n",
    "<table >\n",
    "<tr>\n",
    "<td>\n",
    "\n",
    "$\\large z_t = \\sigma(W_z \\cdot [h_{t-1}, x_t])$\n",
    "\n",
    "</td>\n",
    "\n",
    "</tr>\n",
    "\n",
    "<tr>\n",
    "<td>\n",
    "\n",
    "$\\large r_t = \\sigma(W_r \\cdot [h_{t-1}, x_t])$\n",
    "\n",
    "</td>\n",
    "\n",
    "</tr>\n",
    "\n",
    "<tr>\n",
    "<td>\n",
    "\n",
    "$\\large \\tilde h_t = \\tanh(W \\cdot [r_t \\otimes h_{t-1}, x_t])$\n",
    "\n",
    "</td>\n",
    "\n",
    "</tr>\n",
    "\n",
    "<tr>\n",
    "<td>\n",
    "\n",
    "$\\large h_t = (1-z_t) \\otimes h_{t-1} + z_t \\otimes \\tilde h_t$\n",
    "\n",
    "</td>\n",
    "\n",
    "\n",
    "</table>\n",
    "\n",
    "\n",
    "\n",
    "\n",
    "\n",
    "\n",
    "\n",
    "\n",
    "</td>\n",
    "</tr>\n",
    "\n",
    "</table>\n",
    "\n",
    "\n",
    "\n",
    "\n",
    "\n",
    "\n"
   ]
  },
  {
   "cell_type": "code",
   "execution_count": null,
   "metadata": {},
   "outputs": [],
   "source": [
    "gru = nn.GRU(input_size=3, hidden_size=2, batch_first=True)\n",
    "input = torch.randn(16, 57, 3)  # batch_size, seq_len, input_size\n",
    "out, h = gru(input)\n",
    "\n",
    "print(\"Input shape:\".ljust(15), input.shape)\n",
    "print(\"Shape of h:\".ljust(15), h.shape)  # 1, batch_size, hidden_size\n",
    "print(\"Output shape:\".ljust(15), out.shape)  # batch_size, seq_len, hidden_size"
   ]
  },
  {
   "cell_type": "markdown",
   "metadata": {},
   "source": [
    "Практический опыт исследователей: иногда лучше работает GRU, иногда — LSTM. Точный рецепт успеха сказать нельзя."
   ]
  },
  {
   "cell_type": "markdown",
   "metadata": {},
   "source": [
    "# Обработка естественного языка (NLP)"
   ]
  },
  {
   "cell_type": "markdown",
   "metadata": {},
   "source": [
    "Другим типом данных, которые по своей природе являются последовательностями, являются **текстовые данные**. Тексты являются последовательностями слов, которые находятся между собой в сложных взаимосвязях: семантических, синтаксических, орфорграфических и так далее.\n",
    "\n",
    "С использованием текстовых данных можно решать множество различных задач: анализ эмоциональной окрашенности текста, машинный перевод, составление аннотаций (суммаризация), создание диалоговых систем (чат-ботов), и многое-многое другое.\n",
    "\n",
    "Для большинства этих задач можно применять технологии машинного обучения. Область, связанная с обработкой текстов на естественном языке, называется NLP — Natural language processing. C частью подходов NLP мы познакомимся на лекциях и семинарах."
   ]
  },
  {
   "cell_type": "markdown",
   "metadata": {},
   "source": [
    "<center><img src =\"https://edunet.kea.su/repo/EduNet-content/dev-2.1/L09/out/nlp_tasks.png\" width=\"700\"></center>"
   ]
  },
  {
   "cell_type": "markdown",
   "metadata": {},
   "source": [
    "## Bidirectional RNN"
   ]
  },
  {
   "cell_type": "markdown",
   "metadata": {},
   "source": [
    "Во временном ряде зависимость была только слева направо. Но в текстах начало или окончание предложения могут полностью изменить его смысл. Так, в задачах оценки эмоциональной окраски, можно легко ошибиться, если обрабатывать предложение только в одном направлении, постепенно забывая начало.\n",
    "\n",
    "Двунаправленная зависимость является важнейшей особенностью, которую мы будем учитывать."
   ]
  },
  {
   "cell_type": "markdown",
   "metadata": {},
   "source": [
    "<center><img src =\"https://edunet.kea.su/repo/EduNet-content/dev-2.1/L09/out/movie_sentiment.png\" width=\"650\"></center>"
   ]
  },
  {
   "cell_type": "markdown",
   "metadata": {},
   "source": [
    "Последовательность можно пропустить через рекуррентную сеть два раза: при просмотре слов в прямом и в обратном направлении. Для этого создаётся еще один рекуррентный слой, который обрабатывает последовательность в обратном направлении, а скрытые состояния двух слоёв конкатенируется.\n",
    "\n",
    "[[blog] ✏️ Recurrent Neural Networks with PyTorch](https://www.kaggle.com/code/kanncaa1/recurrent-neural-network-with-pytorch)"
   ]
  },
  {
   "cell_type": "markdown",
   "metadata": {},
   "source": [
    "<center><img src =\"https://edunet.kea.su/repo/EduNet-content/dev-2.1/L09/out/bidirectional.png\" width=\"650\"></center>"
   ]
  },
  {
   "cell_type": "markdown",
   "metadata": {},
   "source": [
    "За реализацию такой двунаправленности в рекуррентных слоях отвечает флаг `bidirectional=True`."
   ]
  },
  {
   "cell_type": "code",
   "execution_count": null,
   "metadata": {},
   "outputs": [],
   "source": [
    "import torch\n",
    "\n",
    "dummy_input = torch.randn((16, 57, 3))  # batch_size, seq_len, input_size\n",
    "rnn = torch.nn.RNN(3, 2, bidirectional=True, batch_first=True)\n",
    "\n",
    "out, h = rnn(dummy_input)\n",
    "\n",
    "# Concatenated Hidden states from both layers\n",
    "print(\"Out:\\n\", out.shape)\n",
    "# Hidden states last element from  both : 2*num_layers*hidden_state\n",
    "print(\"h:\\n\", h.shape)"
   ]
  },
  {
   "cell_type": "markdown",
   "metadata": {},
   "source": [
    "## Представления текстовых данных"
   ]
  },
  {
   "cell_type": "markdown",
   "metadata": {},
   "source": [
    "Как и в других задачах, первым этапом идёт предобработка и очистка данных. В зависимости от источника ввода полученный текст будет обладать своими уникальными проблемами. Так, автоматическое распознавание приводит к ошибкам распознавания и разметки страниц; текст из социальных сетей — большое количество сокращений, смайлов, хэштегов, упоминаний и пр."
   ]
  },
  {
   "cell_type": "markdown",
   "metadata": {},
   "source": [
    "Какую бы мы задачу ни решали, в нейронную сеть нужно подавать числа. Давайте посмотрим, как мы можем представить текстовую информацию."
   ]
  },
  {
   "cell_type": "markdown",
   "metadata": {},
   "source": [
    "### TF-IDF"
   ]
  },
  {
   "cell_type": "markdown",
   "metadata": {},
   "source": [
    "<center><img src =\"https://edunet.kea.su/repo/EduNet-content/dev-2.1/L09/out/bag_of_words_representation.png\" width=\"800\"></center>"
   ]
  },
  {
   "cell_type": "markdown",
   "metadata": {},
   "source": [
    "**TF-IDF** — способ численного представления документа, оценивает  **важность слова в контексте документа**. Состоит из двух множителей: **TF** и **IDF**."
   ]
  },
  {
   "cell_type": "markdown",
   "metadata": {},
   "source": [
    "<center><img src =\"https://edunet.kea.su/repo/EduNet-content/dev-2.1/L09/out/tf_idf.png\" width=\"500\"></center>\n",
    "\n",
    "\n"
   ]
  },
  {
   "cell_type": "markdown",
   "metadata": {},
   "source": [
    "Первая идея **TF-IDF** — **если слово часто встречается в документе, оно важное**. За это отвечает TF.\n",
    "\n",
    "**TF (term frequency)** — частота вхождения слова в документ, для которого рассчитывается значение:\n",
    "\n",
    "$$\\large \\text{TF}(t, d) = \\frac{n_t}{\\sum_{k}n_k},$$\n",
    "\n",
    "где $n_t$ — количество повторов слова $t$ в документе $d$,\n",
    "\n",
    "$\\sum_{k}n_k$ — общее количество слов  $t$ в документе $d$ с повторами."
   ]
  },
  {
   "cell_type": "markdown",
   "metadata": {},
   "source": [
    "Вторая идея **TF-IDF** — **если слово встречается во многих документах, его ценность снижается**.\n",
    "\n",
    "Пример: местоимения встречаются в большинстве текстов, но не несут смысловой нагрузки. За это отвечает IDF.\n",
    "\n",
    "**IDF (inverse document frequency)** — логарифм обратной частоты вхождения слова в документы:\n",
    "\n",
    "$$\\large \\text{IDF}(t, D) = \\log{\\frac{|D|}{|\\{d_i \\in D| t \\in d_i \\}|}},$$\n",
    "\n",
    "где $|D|$ — число документов в коллекции,\n",
    "$|\\{d_i \\in D| t \\in d_i \\}|$ — число документов в коллекции со словом $t$.\n"
   ]
  },
  {
   "cell_type": "markdown",
   "metadata": {},
   "source": [
    "Итоговая формула:\n",
    "$$\\large \\text{TF-IDF}(t, d, D) = \\text{TF}(t,d)⋅\\text{IDF}(t, D)$$"
   ]
  },
  {
   "cell_type": "markdown",
   "metadata": {},
   "source": [
    "Пример работы `TfidfVectorizer` [🛠️[doc]](https://scikit-learn.org/stable/modules/generated/sklearn.feature_extraction.text.TfidfVectorizer.html) из Sklearn.\n",
    "Каждому документу сопоставляется вектор, равный длине словаря. Ненулевые значения вектора хранятся в виде разреженных матриц `scipy.sparse.csr_matrix` [🛠️[doc]](https://docs.scipy.org/doc/scipy/reference/generated/scipy.sparse.csr_matrix.html)."
   ]
  },
  {
   "cell_type": "code",
   "execution_count": null,
   "metadata": {},
   "outputs": [],
   "source": [
    "from sklearn.feature_extraction.text import TfidfVectorizer\n",
    "\n",
    "corpus = [\n",
    "    \"This is the first document.\",\n",
    "    \"This document is the second document.\",\n",
    "    \"And this is the third one.\",\n",
    "    \"Is this the first document?\",\n",
    "]\n",
    "\n",
    "vectorizer = TfidfVectorizer()\n",
    "x = vectorizer.fit_transform(corpus)\n",
    "\n",
    "print(\"Tf-idf dictionary:\", vectorizer.get_feature_names_out())\n",
    "print(\"Tf-idf dictionary len:\", len(vectorizer.get_feature_names_out()))\n",
    "print(\"Tf-idf shape:\", x.shape)"
   ]
  },
  {
   "cell_type": "markdown",
   "metadata": {},
   "source": [
    "**На практике:**\n",
    "\n",
    "1. Тексты токенизируются и нормализуются. Если мы решаем работать с N-граммами, то вместо токенизации или после неё выделяем N-граммы.\n",
    "\n",
    "2. Проходимся по всей коллекции документов и для каждого слова подсчитываем, в каком количестве документов оно встретилось. Если у нас большая коллекция, то словарь может получиться просто гигантским, особенно если мы работаем с N-граммами, поэтому периодически, во время построения или после этой процедуры, мы должны выбросить из словаря всё, что считаем неинформативным — слишком редкие и слишком частые слова.\n",
    "\n",
    "3. Затем начинаем строить матрицу признаков. Каждая строчка этой матрицы соответствует документу, а каждый столбец — статистике встречаемости этого слова в документе. Таким образом, для каждого документа мы считаем частоты слов в нём и записываем в соответствующие ячейки таблицы веса слов по указанной формуле.\n",
    "\n",
    "4. Переходим к следующему документу."
   ]
  },
  {
   "cell_type": "markdown",
   "metadata": {},
   "source": [
    "Таким образом, TF-IDF — это способ взвешивания и отбора категориальных признаков в задачах машинного обучения, не только в классификации и не только для текстов. Надо заметить, что TF-IDF никак не использует информацию о метке объекта — это одновременно и преимущество, и недостаток. Преимущество заключается в том, что мы можем использовать TF-IDF, не имея меток, то есть в задачах обучения без учителя. Недостаток — в том, что мы теряем информацию или недостаточно эффективно её используем."
   ]
  },
  {
   "cell_type": "markdown",
   "metadata": {},
   "source": [
    "**Когда TF-IDF может быть неэффективен:**\n",
    "\n",
    "1. **Отсутствие семантической информации**: TF-IDF не учитывает семантические связи между словами, что может привести к ограниченной способности понимания смысла текста.\n",
    "\n",
    "2. **Чувствительность к длине** документа: длинные документы могут иметь более высокие значения TF, даже если ключевые слова встречаются реже. В таких случаях TF-IDF может недооценить важность конкретных слов."
   ]
  },
  {
   "cell_type": "markdown",
   "metadata": {},
   "source": [
    "### Word2Vec"
   ]
  },
  {
   "cell_type": "markdown",
   "metadata": {},
   "source": [
    "<center><img src =\"https://edunet.kea.su/repo/EduNet-content/dev-2.1/L09/out/w2v_example.png\" width=\"350\"></center>\n",
    "\n",
    "<center><em>Source: <a href=\"https://habr.com/ru/articles/585838/\">Семантика и технология Word2Vec</a></em></center>\n",
    "\n"
   ]
  },
  {
   "cell_type": "markdown",
   "metadata": {},
   "source": [
    "Word2Vec (w2v) — способ представления слов в многомерном векторном пространстве.\n",
    "\n",
    "**Векторные представления слов назваются эмбеддингами.**\n",
    "\n",
    "Word2Vec реализуется при помощи полносвязной нейронной сети из двух слоев, которая обрабатывает текст, преобразуя его в числовые “векторизованные” слова. Основной особенностью w2v стало добавление контекста: нейросеть использует информацию о том, какие слова находятся рядом в заданном окне.\n",
    "\n",
    "Входные данные w2v — это громадный текстовый корпус, из которого на выходе мы получаем пространство векторов, размерность которого обычно достигает сотен, где каждое уникальное слово в корпусе представлено вектором из сгенерированного пространства."
   ]
  },
  {
   "cell_type": "markdown",
   "metadata": {},
   "source": [
    "Есть два основных способа реализации Word2Vec: **Skip-Gram** и **CBOW**.\n",
    "\n",
    "* **Слева** расположен метод **Skip-Gram**, в котором мы передаем какое-то слово нашей нейронной сети и просим ее предположить возможный контекст. $w[i]$ — слово, которое передается на вход и которое находится на позиции $i$ в предложении. На выходе имеем два предшествующих слова и два последующих слова с учетом позиции $i$.\n",
    "\n",
    "* **Справа — CBOW** (Continuous Bag of Words). Здесь, вместо того, чтобы предугадывать контекстные слова, добавляем их в модель и просим модель предсказать текущее слово.\n",
    "\n",
    "Фокус состоит в том, что на самом деле никакой обученной нейросети у нас нет. Здесь другая цель — изучить веса скрытого слоя по мере того, как корректируются спрогнозированные веса окружающих слов. Эти веса и есть эмбеддинги."
   ]
  },
  {
   "cell_type": "markdown",
   "metadata": {},
   "source": [
    "<div align=\"center\">\n",
    "<table>\n",
    "<tr>\n",
    "<td>\n",
    "\n",
    "<center><img src =\"https://edunet.kea.su/repo/EduNet-web_dependencies/dev-2.1/L09/skip_gram.jpeg\" width=\"400\"></center>\n",
    "    \n",
    "</td>\n",
    "<td>\n",
    "\n",
    "<center><img src =\"https://edunet.kea.su/repo/EduNet-web_dependencies/dev-2.1/L09/cbow.jpeg\" width=\"400\"></center>\n",
    "\n",
    "</td>  \n",
    "\n",
    "<tr>\n",
    "<td>\n",
    "\n",
    "\n",
    "\n",
    "<center><em>Source: <a href=\"https://habr.com/ru/articles/778048/\">Skip-Gram</a></em></center>\n",
    "    \n",
    "</td>\n",
    "<td>\n",
    "\n",
    "<center><em>Source: <a href=\"https://habr.com/ru/articles/778048/\">CBOW</a></em></center>\n",
    "\n",
    "\n",
    "</td>  \n",
    "\n",
    "</table>\n",
    "</div>"
   ]
  },
  {
   "cell_type": "markdown",
   "metadata": {},
   "source": [
    "**Данные**\n",
    "\n",
    "Исходные, \"сырые\" данные представляют собой предложение\n",
    "\n",
    "**The quick brown fox jumps over the lazy dog**.\n",
    "\n",
    "Оставляя за скобками приведение к каноничным формам, создаем датасет так:\n",
    "1. Проходим по тексту окном заданного размера (в данном случае размер окна 2 означает 2 слова слева и два слова справа от текущего).\n",
    "2. Относительно текущей позиции формируем пары \"текущее слово-соседнее слово\" (биграммы).\n",
    "3. Смещаем окно вправо."
   ]
  },
  {
   "cell_type": "markdown",
   "metadata": {},
   "source": [
    "<center><img src =\"https://edunet.kea.su/repo/EduNet-web_dependencies/dev-2.1/L09/vectorization_example.jpeg\" width=\"700\"></center>\n",
    "\n",
    "<center><em>Source: <a href=\"https://habr.com/ru/articles/778048/\">Краткий обзор техник векторизации в NLP</a></em></center>"
   ]
  },
  {
   "cell_type": "markdown",
   "metadata": {},
   "source": [
    "Рассмотрим, как учится сеть для варианта Skip-Gram. На вход сети приходит One-Hot вектор первого слова из биграммы, преобразовывается в пространство эмбеддингов в скрытом слое и поступает на слой SoftMax (размером с весь словарь, т.е. размер входа равен размеру выхода).\n",
    "\n",
    "По факту нейросеть должна выучить вероятность существования слова *quick* при приходе на вход слова *fox*. При этом можно отметить, что слову *fox* также соответствуют слова *brown, jumps, over*. Обучаясь по кросс-энтропии, последний слой должен выдавать примерно одинаковые вероятности всех этих слов.\n"
   ]
  },
  {
   "cell_type": "markdown",
   "metadata": {},
   "source": [
    "<center><img src =\"https://edunet.kea.su/repo/EduNet-web_dependencies/dev-2.1/L09/skip_gram_example.jpeg\" width=\"700\"></center>\n",
    "\n",
    "<center><em>Source: <a href=\"https://habr.com/ru/articles/778048/\">Краткий обзор техник векторизации в NLP</a></em></center>"
   ]
  },
  {
   "cell_type": "markdown",
   "metadata": {},
   "source": [
    "В результате обучения на разнообразных данных сеть выучивает такие распределения, что вектора, соответствующие похожим словам, располагаются близко в новом пространстве, и над ними работают векторные операции."
   ]
  },
  {
   "cell_type": "markdown",
   "metadata": {},
   "source": [
    "<center><img src =\"https://edunet.kea.su/repo/EduNet-web_dependencies/dev-2.1/L09/w2v_example_2.png\" width=\"500\"></center>\n",
    "\n",
    "<center><em>Source: <a href=\"https://habr.com/ru/articles/446530/\">Word2vec в картинках</a></em></center>\n"
   ]
  },
  {
   "cell_type": "markdown",
   "metadata": {},
   "source": [
    "Разумеется, эти операции не приводят к точному соответствию, однако получаемые вектора оказываются самыми похожими."
   ]
  },
  {
   "cell_type": "markdown",
   "metadata": {},
   "source": [
    "Обучение CBOW несколько отличается. На вход сети подаётся $C$ контекстных слов в виде One-Hot, после перемножения с линейным слоем результат усредняется. На выходе слой SoftMax такого же размера."
   ]
  },
  {
   "cell_type": "markdown",
   "metadata": {},
   "source": [
    "[[colab] 🥨 Подробное руководство по использованию Word2Vec](https://colab.research.google.com/drive/1OJF0k-E60sp9Vyoj1yWuoedGTrwRiTyj?usp=sharing)"
   ]
  },
  {
   "cell_type": "markdown",
   "metadata": {},
   "source": [
    "### Слой эмбеддингов"
   ]
  },
  {
   "cell_type": "markdown",
   "metadata": {},
   "source": [
    "Ранее мы применяли OneHotEncoding для представления наших слов. Проблемы возникают, когда пространство объектов начинает расти и у нас возникают огромные разреженные матрицы.\n",
    "\n",
    "Кроме того, некоторые объекты у нас сразу могут быть ближе: семантически \"король\" и \"королева\" отличаются только полом, различие между словами \"король\" и \"стул\" заметно выше."
   ]
  },
  {
   "cell_type": "markdown",
   "metadata": {},
   "source": [
    "Поэтому мы можем переводить наши слова в вектора меньшей размерности, которые при этом будут сравнимы между собой с помощью модуля `nn.Embedding` [🛠️[doc]](https://pytorch.org/docs/stable/generated/torch.nn.Embedding.html).\n",
    "\n",
    "[[doc] 🛠️ Туториал PyTorch по применению эмбедингов в NLP](https://pytorch.org/tutorials/beginner/nlp/word_embeddings_tutorial.html)\n",
    "\n",
    "[[blog] ✏️ Lena Voita NLP Course](https://lena-voita.github.io/nlp_course.html)\n",
    "\n",
    "[[git] 🐾 Курс по NLP от ШАД](https://github.com/yandexdataschool/nlp_course)"
   ]
  },
  {
   "cell_type": "markdown",
   "metadata": {},
   "source": [
    "<center><img src =\"https://edunet.kea.su/repo/EduNet-web_dependencies/dev-2.1/L09/word_representation_intro_min.png\" width=\"600\"></center>"
   ]
  },
  {
   "cell_type": "markdown",
   "metadata": {},
   "source": [
    "____\n",
    "\n",
    "<center><img src =\"https://edunet.kea.su/repo/EduNet-web_dependencies/dev-2.1/L09/lookup_table.gif\" width=\"600\"></center>\n",
    "\n",
    "<center><em>Source: <a href=\"https://lena-voita.github.io/nlp_course/word_embeddings.html\">Lena Voita NLP Course</a></em></center>"
   ]
  },
  {
   "cell_type": "code",
   "execution_count": null,
   "metadata": {},
   "outputs": [],
   "source": [
    "# Let's say you have 2 sentences (lowercased, punctuations removed):\n",
    "sentences = \"i am new to pytorch i am having fun\"\n",
    "\n",
    "words = sentences.split(\" \")\n",
    "\n",
    "print(f\"All words: {words} \\n\")\n",
    "\n",
    "vocab = set(words)  # create a vocabulary\n",
    "vocab_size = len(vocab)\n",
    "\n",
    "print(f\"Vocabulary (unique words): {vocab} \\n\")\n",
    "print(f\"Vocabulary size: {vocab_size} \\n\")\n",
    "\n",
    "# map words to unique indices\n",
    "word2idx = {word: ind for ind, word in enumerate(vocab)}\n",
    "\n",
    "print(f\"Word-to-id dictionary: {word2idx} \\n\")\n",
    "\n",
    "encoded_sentences = [word2idx[word] for word in words]\n",
    "\n",
    "print(f\"Encoded sentences: {encoded_sentences}\")"
   ]
  },
  {
   "cell_type": "markdown",
   "metadata": {},
   "source": [
    "Теперь нейросетевой слой эмбеддингов может быть определён так:"
   ]
  },
  {
   "cell_type": "code",
   "execution_count": null,
   "metadata": {},
   "outputs": [],
   "source": [
    "import torch.nn as nn\n",
    "\n",
    "# let's say you want embedding dimension to be 3\n",
    "emb_dim = 3\n",
    "\n",
    "emb_layer = nn.Embedding(vocab_size, emb_dim)\n",
    "word_vectors = emb_layer(torch.LongTensor(encoded_sentences))\n",
    "\n",
    "print(f\"Shape of encoded sentences: {word_vectors.shape} \\n\")\n",
    "print(f\"Shape of weigths: {emb_layer.weight.shape}\")"
   ]
  },
  {
   "cell_type": "markdown",
   "metadata": {},
   "source": [
    "Этот код инициализирует эмбеддинги согласно нормальному распределению (со средним значением 0 и дисперсией 1). Таким образом, пока что никакого различия или сходства между векторами нет.\n",
    "\n",
    "`word_vectors` — тензор размером (9, 3). 9 слов в датасете, размер 3 задан нами.\n",
    "\n",
    "`emb_layer` имеет 1 обучаемый параметр `weight`, который по умолчанию True. Можем проверить так:"
   ]
  },
  {
   "cell_type": "code",
   "execution_count": null,
   "metadata": {},
   "outputs": [],
   "source": [
    "emb_layer.weight.requires_grad"
   ]
  },
  {
   "cell_type": "markdown",
   "metadata": {},
   "source": [
    "Если мы не хотим обучать этой слой (например, используем заранее обученные эмбеддинги), мы можем заморозить его веса:"
   ]
  },
  {
   "cell_type": "code",
   "execution_count": null,
   "metadata": {},
   "outputs": [],
   "source": [
    "emb_layer.weight.requires_grad = False"
   ]
  },
  {
   "cell_type": "markdown",
   "metadata": {},
   "source": [
    "Если мы хотим использовать заранее определённые веса, мы можем воспользоваться библиотекой [Gensim 🛠️[doc]](https://radimrehurek.com/gensim/auto_examples/index.html#documentation). Возьмём векторные представления с длиной 25.\n",
    "\n",
    "Если обратиться к документации, мы увидим, что это лишь один из [вариантов весов 🐾[git]](https://github.com/piskvorky/gensim-data)."
   ]
  },
  {
   "cell_type": "code",
   "execution_count": null,
   "metadata": {},
   "outputs": [],
   "source": [
    "import gensim.downloader as api\n",
    "\n",
    "# Download the model and return as object ready for use\n",
    "glove = api.load(\"glove-twitter-25\")"
   ]
  },
  {
   "cell_type": "markdown",
   "metadata": {},
   "source": [
    "У модуля `nn.Embedding` есть метод `from_pretrained`, в который можно передать предобученную матрицу эмбеддингов. При этом по умолчанию они не будут обучаться — за это отвечает флаг `freeze`."
   ]
  },
  {
   "cell_type": "code",
   "execution_count": null,
   "metadata": {},
   "outputs": [],
   "source": [
    "print(f\"glove.vectors.shape is {glove.vectors.shape}\")\n",
    "\n",
    "weights = torch.FloatTensor(glove.vectors)\n",
    "glove_emb = nn.Embedding.from_pretrained(weights, freeze=True)"
   ]
  },
  {
   "cell_type": "code",
   "execution_count": null,
   "metadata": {},
   "outputs": [],
   "source": [
    "input = torch.LongTensor(encoded_sentences)\n",
    "glove_emb(input).shape"
   ]
  },
  {
   "cell_type": "markdown",
   "metadata": {},
   "source": [
    "Код нейросети со слоем `nn.Embedding` выглядит следующим образом:"
   ]
  },
  {
   "cell_type": "code",
   "execution_count": null,
   "metadata": {},
   "outputs": [],
   "source": [
    "class RNN_with_Embedding_Layer(nn.Module):\n",
    "    def __init__(self, input_size, hidden_size, num_classes):\n",
    "        super().__init__()\n",
    "        self.emb = nn.Embedding.from_pretrained(weights)\n",
    "        self.rnn = nn.RNN(input_size, hidden_size, batch_first=True)\n",
    "        self.fc = nn.Linear(hidden_size, num_classes)\n",
    "\n",
    "    def forward(self, x):\n",
    "        # Look up the embedding\n",
    "        x = self.emb(x)\n",
    "        # Forward propagate the RNN\n",
    "        out, _ = self.rnn(x)\n",
    "        # Pass the output of the last time step to the classifier\n",
    "        out = self.fc(out[:, -1, :])\n",
    "        return out\n",
    "\n",
    "\n",
    "model = RNN_with_Embedding_Layer(input_size=25, hidden_size=128, num_classes=3)\n",
    "\n",
    "input = input.unsqueeze(0)\n",
    "print(model(input))"
   ]
  },
  {
   "cell_type": "markdown",
   "metadata": {},
   "source": [
    "### Токенизация"
   ]
  },
  {
   "cell_type": "markdown",
   "metadata": {},
   "source": [
    "Один из ключевых этапов в обработке текста — **токенизация**. На этом этапе происходит разделение текста на отдельные единицы — предложения и слова. Затем создается словарь, в который заносятся уникальные лексемы, встретившиеся в корпусе или тексте. На этих этапах можно столкнуться с несколькими проблемами."
   ]
  },
  {
   "cell_type": "markdown",
   "metadata": {},
   "source": [
    "**Проблема 1. Размер словаря**\n",
    "\n",
    "Самый простой способ токенизации — назначить каждому уникальному слову своё число. Но есть проблема: слов и их форм миллионы, и поэтому словарь таких слов получится чересчур большим, а это будет затруднять обучение модели.\n",
    "\n",
    "Можно разбивать текст не на слова, а на отдельные буквы (char-level tokenization), тогда в словаре будет всего несколько десятков токенов, НО в таком случае уже сам текст после токенизации будет слишком длинным, а это тоже затрудняет обучение."
   ]
  },
  {
   "cell_type": "markdown",
   "metadata": {},
   "source": [
    "**Проблема 2. Богатая морфология**\n",
    "\n",
    "\"Нейросеть\", \"сетка\", \"сеть\" являются разными словами, но имеют схожий смысл. Эту проблему классически всегда решал этап **стемминга** (удаление суффикса, приставки, окончания) или **лемматизации** (приведение слова к канонической форме)."
   ]
  },
  {
   "cell_type": "markdown",
   "metadata": {},
   "source": [
    "**Проблема 3. Сложные слова**\n",
    "\n",
    "Но все проблемы эти этапы не решают. В германских языках (в английском, немецком, шведском и т.д.) очень продуктивно образовываются новые сложные слова. Значения таких слов выводятся из значения их элементов. Их можно создавать бесконечно долго, и большинство из них не зафиксировано в «бумажном» словаре."
   ]
  },
  {
   "cell_type": "markdown",
   "metadata": {},
   "source": [
    "<center><img src =\"https://edunet.kea.su/repo/EduNet-web_dependencies/dev-2.1/L09/swedish_word_example.png\" width=\"600\"></center>\n",
    "\n",
    "<center><em>Пример шведского названия гаечного ключа для колеса мотоцикла</a></em></center>\n",
    "\n",
    "<center><em>Source: <a href=\"https://sysblok.ru/nlp/7250/\">Как работает алгоритм токенизации текстов для нейросетей</a></em></center>"
   ]
  },
  {
   "cell_type": "markdown",
   "metadata": {},
   "source": [
    "При работе с этими языками сложность также возникает на этапе составления словаря. При составлении словаря модели ориентируются на частотность (например, сохраняем слово, если оно встретилось чаще пяти раз), поэтому не будут запоминать такое длинное и сложное слово."
   ]
  },
  {
   "cell_type": "markdown",
   "metadata": {},
   "source": [
    "**Проблема 4: Границы слова**\n",
    "\n",
    "Для нас, привыкших к языкам европейского типа, слово — это набор букв между пробелами и знаками препинания. Но в английском языке многие сложные слова пишутся раздельно, а в японском, наоборот, между словами вообще нет пробелов. Поэтому универсальный токенизатор создать было нелегко."
   ]
  },
  {
   "cell_type": "markdown",
   "metadata": {},
   "source": [
    "### Byte Pair Encoding"
   ]
  },
  {
   "cell_type": "markdown",
   "metadata": {},
   "source": [
    "Изначально алгоритм компрессии BPE позволяет моделям узнавать как можно больше слов при ограниченном объеме словаря.\n",
    "\n",
    "1.   Слово = последовательность токенов\n",
    "2.   Словарь = все токены\n",
    "3.   Повторять, пока не достигли ограничения на размер словаря:\n",
    "\n",
    "     Назначаем новым токеном объединение двух существующих токенов, которое\n",
    "встречается чаще других пар в корпусе (встречаются вместе)."
   ]
  },
  {
   "cell_type": "markdown",
   "metadata": {},
   "source": [
    "В применении BPE возможны разные варианты. Один из естественных – идём по всем токенам по убыванию частоты, находим соответствующую последовательность символов в корпусе, заменяем на токен."
   ]
  },
  {
   "cell_type": "markdown",
   "metadata": {},
   "source": [
    "<center><img src =\"https://edunet.kea.su/repo/EduNet-web_dependencies/dev-2.1/L09/subword_tokenization.png\" width = \"500\"></center>\n",
    "\n",
    "<center><em>Source: <a href=\"https://alexanderdyakonov.wordpress.com/2019/11/29/токенизация-на-подслова-subword-tokenization/\">Токенизация на подслова (Subword Tokenization)</a></em></center>"
   ]
  },
  {
   "cell_type": "markdown",
   "metadata": {},
   "source": [
    "Этот же способ помогает решить **проблему** **OOV (out of vocabulary)**. В обучающей выборке может не быть слова *Unfriendly*, но поскольку **Unfriendly** = **Un** + **friend** + **ly**, мы можем рассчитывать, что сеть будет правильно обрабатывать / генерировать и слово целиком."
   ]
  },
  {
   "cell_type": "markdown",
   "metadata": {},
   "source": [
    "<center><img src =\"https://edunet.kea.su/repo/EduNet-web_dependencies/dev-2.1/L09/token_unfriendly.png\" width=\"600\"></center>\n",
    "\n",
    "<center><em>Source: <a href=\"https://www.thoughtvector.io/blog/subword-tokenization/\">Subword Tokenization — Handling Misspellings and Multilingual Data</a></em></center>"
   ]
  },
  {
   "cell_type": "markdown",
   "metadata": {},
   "source": [
    "# Пример посимвольной генерации текста"
   ]
  },
  {
   "cell_type": "markdown",
   "metadata": {},
   "source": [
    "Давайте попробуем научить модель заканчивать предложение, то есть изучить свойства конкретного языка, фактически — распределение вероятностей следущего токена на основе истории предыдущих токенов."
   ]
  },
  {
   "cell_type": "markdown",
   "metadata": {},
   "source": [
    "[[git] 🐾 RNN-walkthrough](https://github.com/gabrielloye/RNN-walkthrough/blob/master/main.ipynb)\n",
    "\n",
    "Эта задача сводится к посимвольной генерации текста. Как правило, конвейер обработки текста содержит в себе следующие 5 блоков. К ним, в зависимости от задачи, добавляются дополнительные пункты."
   ]
  },
  {
   "cell_type": "markdown",
   "metadata": {},
   "source": [
    "<center><img src =\"https://edunet.kea.su/repo/EduNet-content/dev-2.1/L09/out/base_nlp_pipeline.png\" width=\"700\"></center>"
   ]
  },
  {
   "cell_type": "markdown",
   "metadata": {},
   "source": [
    "**Постановка задачи:** для каждого символа в последовательности предсказать следующий символ:\n",
    "\n",
    "- исходный текст: `hey how are you`,\n",
    "- входная последовательность: `hey how are yo`,\n",
    "- целевая последовательность: `ey how are you`.\n",
    "\n",
    "Очень похоже на то, что мы делали ранее с временными рядами. Однако теперь нам нужно предсказывать букву каждый раз, на каждый `hidden`. Таким образом мы приходим к схеме **many-to-many**."
   ]
  },
  {
   "cell_type": "markdown",
   "metadata": {},
   "source": [
    "<center><img src =\"https://edunet.kea.su/repo/EduNet-content/dev-2.1/L09/out/one_to_many_same.png\" width=\"300\"></center>"
   ]
  },
  {
   "cell_type": "markdown",
   "metadata": {},
   "source": [
    "Инференс модели будет выглядеть так:"
   ]
  },
  {
   "cell_type": "markdown",
   "metadata": {},
   "source": [
    "<center><img src =\"https://edunet.kea.su/repo/EduNet-web_dependencies/dev-2.1/L09/character_by_character_generation_example.gif\" width=\"400\"></center>\n",
    "\n",
    "<center><em>Source: <a href=\"http://karpathy.github.io/2015/05/21/rnn-effectiveness/\">The Unreasonable Effectiveness of Recurrent Neural Networks</a></em></center>"
   ]
  },
  {
   "cell_type": "markdown",
   "metadata": {},
   "source": [
    "## Подготовка данных"
   ]
  },
  {
   "cell_type": "markdown",
   "metadata": {},
   "source": [
    "В нашей учебной задаче мы сократим до минимума выполняемые операции по подготовке данных для модели."
   ]
  },
  {
   "cell_type": "markdown",
   "metadata": {},
   "source": [
    "<center><img src =\"https://edunet.kea.su/repo/EduNet-content/dev-2.1/L09/out/simple_pipeline.png\" width=\"700\"></center>"
   ]
  },
  {
   "cell_type": "code",
   "execution_count": null,
   "metadata": {},
   "outputs": [],
   "source": [
    "# Source: https://tatoeba.org/ru/downloads\n",
    "!wget -q https://edunet.kea.su/repo/EduNet-web_dependencies/datasets/eng_sentences.txt"
   ]
  },
  {
   "cell_type": "code",
   "execution_count": null,
   "metadata": {},
   "outputs": [],
   "source": [
    "import pprint\n",
    "\n",
    "with open(\"eng_sentences.txt\", \"r\") as input_file:\n",
    "    text = [line.strip().lower() for line in input_file.readlines()]\n",
    "\n",
    "pprint.pprint(text[:10])"
   ]
  },
  {
   "cell_type": "code",
   "execution_count": null,
   "metadata": {},
   "outputs": [],
   "source": [
    "# Join all the sentences together and extract the unique characters\n",
    "# from the combined sentences\n",
    "chars = set(\"\".join(text))\n",
    "# Creating a dictionary that maps integers to the characters\n",
    "int2char = dict(enumerate(chars))\n",
    "# Creating another dictionary that maps characters to integers\n",
    "char2int = {char: ind for ind, char in int2char.items()}\n",
    "\n",
    "print(\"Dictionary for mapping character to the integer:\")\n",
    "pprint.pprint(char2int)"
   ]
  },
  {
   "cell_type": "markdown",
   "metadata": {},
   "source": [
    "Вместо ASCII символа, каждой букве мы сопоставили номер."
   ]
  },
  {
   "cell_type": "markdown",
   "metadata": {},
   "source": [
    "### Выравнивание данных (Padding)"
   ]
  },
  {
   "cell_type": "markdown",
   "metadata": {},
   "source": [
    "RNN допускают работу с данными переменной длины. Но чтобы поместить предложения в batch, надо их выровнять.\n",
    "\n",
    "Обычно размер батча делают равным самому длинному предложению, а остальные просто дополняют пробелами (или спецсимволами) до этого размера.  Также хорошей идеей будет отметить специальным символом начало предложения."
   ]
  },
  {
   "cell_type": "code",
   "execution_count": null,
   "metadata": {},
   "outputs": [],
   "source": [
    "lengths = [len(sent) for sent in text]\n",
    "maxlen = max(lengths)\n",
    "print(f\"The longest string has {maxlen} characters.\\n\")\n",
    "\n",
    "print(f\"Initial texts:\\n{text}\")\n",
    "# A simple loop that loops through the list of sentences and adds\n",
    "# a ' ' whitespace until the length of the sentence matches\n",
    "# the length of the longest sentence\n",
    "for i in range(len(text)):\n",
    "    while len(text[i]) < maxlen:\n",
    "        text[i] += \" \"\n",
    "\n",
    "print(f\"Resulting texts:\\n{text}\")"
   ]
  },
  {
   "cell_type": "markdown",
   "metadata": {},
   "source": [
    "#### Адаптивное выравнивание: Sequence bucketing\n"
   ]
  },
  {
   "cell_type": "markdown",
   "metadata": {},
   "source": [
    "Для выравнивания данных мы поступили самым простым образом: определили максимальную длину последовательности во всем корпусе данных и дополнили все предложения пробелами до этой длины.\n",
    "\n",
    "Однако стоит отметить, что этот подход неоптимален. При обучении неизбежно будут возникать такие батчи, длина всех объектов в которых будет меньше, чем максимальная длина по датасету. Поэтому нейронная сеть в рамках одного батча будет впустую обрабатывать лишние символы пробелов.\n",
    "\n",
    "Технически для обучения нейронной сети необходимо обеспечить одинаковую длину последовательности только в рамках одного батча.\n",
    "\n",
    "Поэтому существует подход, который называется **Sequence bucketing**. Он заключается в том, чтобы дополнять последовательности спецсимволами до единой длины не глобально на уровне датасета, а динамически в рамках одного батча. Это позволяет ускорить процесс обучения. Реализация этого подхода останется вне рамок нашего примера.\n",
    "\n",
    "[[blog] ✏️ Guide: Pytorch data Samplers & Sequence bucketing](https://www.kaggle.com/code/shahules/guide-pytorch-data-samplers-sequence-bucketing)\n",
    "\n",
    "[[blog] ✏️ Speed up your RNN with Sequence Bucketing](https://www.kaggle.com/code/bminixhofer/speed-up-your-rnn-with-sequence-bucketing)\n"
   ]
  },
  {
   "cell_type": "markdown",
   "metadata": {},
   "source": [
    "<center><img src =\"https://edunet.kea.su/repo/EduNet-content/dev-2.1/L09/out/rnn_batch.png\" width=\"700\"></center>"
   ]
  },
  {
   "cell_type": "markdown",
   "metadata": {},
   "source": [
    "### Разбиение данных"
   ]
  },
  {
   "cell_type": "markdown",
   "metadata": {},
   "source": [
    "В качестве входа будем использовать предложение без последнего символа:\n",
    "\n",
    "**`hey how are yo`**\n",
    "\n",
    "В качестве результата — предложение, в котором он сгенерирован:\n",
    "\n",
    "**`ey how are you`**"
   ]
  },
  {
   "cell_type": "code",
   "execution_count": null,
   "metadata": {},
   "outputs": [],
   "source": [
    "# Creating lists that will hold our input and target sequences\n",
    "input_seq = []\n",
    "target_seq = []\n",
    "\n",
    "for i in range(len(text)):\n",
    "    # Remove last character for input sequence\n",
    "    input_seq.append(text[i][:-1])\n",
    "\n",
    "    # Remove first character for target sequence\n",
    "    target_seq.append(text[i][1:])\n",
    "\n",
    "    if i < 5:\n",
    "        print(\"Input sequence:\".ljust(18), f\"'{input_seq[i]}'\")\n",
    "        print(\"Target sequence:\".ljust(18), f\"'{target_seq[i]}'\")\n",
    "        print()"
   ]
  },
  {
   "cell_type": "markdown",
   "metadata": {},
   "source": [
    "### Кодирование"
   ]
  },
  {
   "cell_type": "markdown",
   "metadata": {},
   "source": [
    "Теперь символы надо перевести в числа. Для этого мы уже построили словарь.\n",
    "\n",
    "P.S. Запускать блок только один раз."
   ]
  },
  {
   "cell_type": "code",
   "execution_count": null,
   "metadata": {},
   "outputs": [],
   "source": [
    "for i in range(len(text)):\n",
    "    input_seq[i] = [char2int[character] for character in input_seq[i]]\n",
    "    target_seq[i] = [char2int[character] for character in target_seq[i]]\n",
    "\n",
    "    if i < 5:\n",
    "        print(\"Encoded input sequence:\".ljust(25), input_seq[i])\n",
    "        print(\"Encoded target sequence:\".ljust(25), target_seq[i])\n",
    "        print()"
   ]
  },
  {
   "cell_type": "markdown",
   "metadata": {},
   "source": [
    "**Embedding**"
   ]
  },
  {
   "cell_type": "markdown",
   "metadata": {},
   "source": [
    "Теперь из чисел надо сделать вектора.\n",
    "\n",
    "Причина — подача чисел даст модели ложное знание об отношениях между объектами по типу \"*буква а в два раза больше буквы б*\". Нам же нужно равномерно распределить наши представления в некотором пространстве c помощью `nn.Embedding()`."
   ]
  },
  {
   "cell_type": "markdown",
   "metadata": {},
   "source": [
    "Каждый символ закодировали вектором.\n",
    "Не слишком экономно, зато удобно умножать на матрицу весов."
   ]
  },
  {
   "cell_type": "markdown",
   "metadata": {},
   "source": [
    "<center><img src =\"https://edunet.kea.su/repo/EduNet-content/dev-2.1/L09/out/language_modeling.png\" width=\"550\"></center>"
   ]
  },
  {
   "cell_type": "code",
   "execution_count": null,
   "metadata": {},
   "outputs": [],
   "source": [
    "import torch\n",
    "\n",
    "\n",
    "dict_size = len(char2int)\n",
    "seq_len = maxlen - 1\n",
    "batch_size = 2048\n",
    "\n",
    "# Convert data to tensor\n",
    "input_seq = torch.Tensor(input_seq).int()\n",
    "target_seq = torch.Tensor(target_seq)\n",
    "\n",
    "train_data = torch.utils.data.TensorDataset(input_seq, target_seq)\n",
    "train_loader = torch.utils.data.DataLoader(\n",
    "    train_data, batch_size=batch_size, shuffle=True\n",
    ")\n",
    "\n",
    "print(f\"number of train batches: {len(train_loader)}\")"
   ]
  },
  {
   "cell_type": "markdown",
   "metadata": {},
   "source": [
    "## Создание и обучение модели"
   ]
  },
  {
   "cell_type": "code",
   "execution_count": null,
   "metadata": {},
   "outputs": [],
   "source": [
    "import torch.nn as nn\n",
    "\n",
    "\n",
    "class NextCharacterGenerator(nn.Module):\n",
    "    def __init__(self, num_chars, embedding_dim, hidden_dim, num_layers):\n",
    "        super().__init__()\n",
    "        # symbols coding\n",
    "        self.emb = nn.Embedding(num_embeddings=num_chars, embedding_dim=embedding_dim)\n",
    "        # RNN Layer\n",
    "        self.rnn = nn.GRU(\n",
    "            embedding_dim,\n",
    "            hidden_size=hidden_dim,\n",
    "            num_layers=num_layers,\n",
    "            batch_first=True,\n",
    "        )\n",
    "        # Fully connected layer\n",
    "        self.fc = nn.Linear(hidden_dim, num_chars)\n",
    "\n",
    "    def forward(self, x):\n",
    "\n",
    "        x = self.emb(x)\n",
    "        out, _ = self.rnn(x)  #\n",
    "\n",
    "        # Reshaping the outputs such that it can be fit into the fully connected layer\n",
    "        # Need Only if num_layers > 1\n",
    "        out = out.contiguous().view(-1, self.rnn.hidden_size)\n",
    "        out = self.fc(out)\n",
    "\n",
    "        return out"
   ]
  },
  {
   "cell_type": "markdown",
   "metadata": {},
   "source": [
    "### Обучение"
   ]
  },
  {
   "cell_type": "code",
   "execution_count": null,
   "metadata": {},
   "outputs": [],
   "source": [
    "device = \"cuda\" if torch.cuda.is_available() else \"cpu\"\n",
    "\n",
    "# Instantiate the model with hyperparameters\n",
    "model = NextCharacterGenerator(\n",
    "    num_chars=dict_size, embedding_dim=32, hidden_dim=128, num_layers=1\n",
    ").to(device)\n",
    "\n",
    "# Define hyperparameters\n",
    "num_epochs = 800\n",
    "\n",
    "# Define Loss, Optimizer\n",
    "criterion = nn.CrossEntropyLoss()\n",
    "optimizer = torch.optim.Adam(model.parameters(), lr=0.01)\n",
    "\n",
    "# Training Run\n",
    "for epoch in range(1, num_epochs + 1):\n",
    "    for input, target in train_loader:\n",
    "        input, target = input.to(device), target.to(device)\n",
    "        optimizer.zero_grad()  # Clears existing gradients from previous epoch\n",
    "        output = model(input)\n",
    "        loss = criterion(output, target.view(-1).long())\n",
    "        loss.backward()  # Does backpropagation and calculates gradients\n",
    "        optimizer.step()  # Updates the weights accordingly\n",
    "\n",
    "    if epoch % 100 == 0:\n",
    "        print(f\"Epoch: {epoch}/{num_epochs}\".ljust(20), end=\" \")\n",
    "        print(\"Loss: {:.4f}\".format(loss.item()))"
   ]
  },
  {
   "cell_type": "markdown",
   "metadata": {},
   "source": [
    "### Тестирование"
   ]
  },
  {
   "cell_type": "code",
   "execution_count": null,
   "metadata": {},
   "outputs": [],
   "source": [
    "import numpy as np\n",
    "\n",
    "\n",
    "def predict(model, character, explore=False):\n",
    "    # Еncoding our input to feed into the model\n",
    "    character = np.array([[char2int[c] for c in character]])\n",
    "    character = torch.Tensor(character).int()\n",
    "\n",
    "    out = model(character)\n",
    "    prob = nn.functional.softmax(out[-1], dim=0).data\n",
    "    if explore:\n",
    "        # Taking k chars with the highest probability score\n",
    "        k = 3\n",
    "    else:\n",
    "        # Taking 1 char with the highest probability score\n",
    "        k = 1\n",
    "    top_prob_chars = torch.topk(prob, k).indices.numpy()\n",
    "    char_ind = np.random.choice(top_prob_chars)\n",
    "\n",
    "    return int2char[char_ind]\n",
    "\n",
    "\n",
    "def sample(model, out_len, start=\"hey\", explore=False):\n",
    "    model.eval()  # eval mode\n",
    "    start = start.lower()\n",
    "    # First off, run through the starting characters\n",
    "    chars = [ch for ch in start]\n",
    "    size = out_len - len(chars)\n",
    "    # Now pass in the previous characters and get a new one\n",
    "    for _ in range(size):\n",
    "        char = predict(model, chars, explore=explore)\n",
    "        chars.append(char)\n",
    "\n",
    "    return \"\".join(chars)\n",
    "\n",
    "\n",
    "model = model.cpu()\n",
    "sample(model=model, out_len=maxlen, start=\"hey, how are\")"
   ]
  },
  {
   "cell_type": "markdown",
   "metadata": {},
   "source": [
    "Попробуем сгенерировать несколько вариантов предложения."
   ]
  },
  {
   "cell_type": "code",
   "execution_count": null,
   "metadata": {},
   "outputs": [],
   "source": [
    "for _ in range(3):\n",
    "    print(sample(model=model, out_len=maxlen, start=\"hey, how are\"))"
   ]
  },
  {
   "cell_type": "markdown",
   "metadata": {},
   "source": [
    "Так получается, потому что сеть выбирает наиболее вероятный токен на выходе. Однако можно немного подвигать вероятности токенов и получить иные ответы.\n",
    "\n"
   ]
  },
  {
   "cell_type": "code",
   "execution_count": null,
   "metadata": {},
   "outputs": [],
   "source": [
    "for _ in range(3):\n",
    "    print(sample(model=model, out_len=maxlen, start=\"hey, how are\", explore=True))"
   ]
  },
  {
   "cell_type": "markdown",
   "metadata": {},
   "source": [
    "Чтобы результат случайной генерации был более разумным, можно во время генерации следующего символа поступать таким образом: выбирать не случайный из топ-3 вероятных символов, а использовать предсказанное после softmax распределение вероятностей как распределение для сэмплирования на множестве символов (см. параметр `p` в `numpy.random.choice` [🛠️[doc]](https://numpy.org/doc/stable/reference/random/generated/numpy.random.choice.html))."
   ]
  },
  {
   "cell_type": "markdown",
   "metadata": {},
   "source": [
    "# Задача Sequence-to-Sequence"
   ]
  },
  {
   "cell_type": "markdown",
   "metadata": {},
   "source": [
    "Разобравшись, как работать с одним языком, перейдём к взаимодействию двух языков. Как мы уже проверили, есть возможность выучить распределение токенов для каждого из двух языков.\n",
    "\n",
    "Развивая подход word2vec, давайте так будем учить сеть, чтобы оба распределения находились в одном и том же пространстве, причём токены одних и тех же слов располагались близко. Так как языки различные, введём две нейросети, одну для кодирования русского языка, другую — для декодирования на английский.\n",
    "\n",
    "Здесь, так как предложения в общем случае имеют разную длину на разных языках, мы приходим к схеме **many-to-many** c различными размерами входа и выхода."
   ]
  },
  {
   "cell_type": "markdown",
   "metadata": {},
   "source": [
    "<center><img src =\"https://edunet.kea.su/repo/EduNet-content/dev-2.1/L09/out/one_to_many_var.png\" width=\"350\"></center>"
   ]
  },
  {
   "cell_type": "markdown",
   "metadata": {},
   "source": [
    "##  Задача машинного перевода"
   ]
  },
  {
   "cell_type": "markdown",
   "metadata": {},
   "source": [
    "Разберем задачу **sequence-to-sequence**: преобразование последовательности $X$ длины $N$ в последовательность $Y$ длины $T$.\n",
    "<br>$T$ **может быть не равно** $N$.\n",
    "\n",
    "Для решения таких задач будем использовать две **RNN**: **кодировщик** и **декодировщик**.\n",
    "* Задача **кодировщика**: обобщить информацию о **входной последовательности** $X = (x_1,..., x_N)$, сформировав **вектор контекста** $C$ фиксированного размера.\n",
    "* Задача **декодировщика**: используя информацию из $C$, сформировать **выходную последовательность** $Y = (y_1, ..., y_T)$.\n",
    "\n",
    "В качестве вектора $C$ можно использовать последнее **скрытое состояние** кодировщика $h_N$."
   ]
  },
  {
   "cell_type": "markdown",
   "metadata": {},
   "source": [
    "Таким образом:\n",
    "\n",
    "* **вход** — последовательность  $\\large x_1, \\dots, x_N$;\n",
    "* **выход** — последовательность  $\\large y_1, \\dots, y_T$.\n",
    "\n",
    "Кодировщик на основании входной последовательности предсказывает **нулевое скрытое состояние декодировщика и вектор контекста** $\\large c$, который часто равен финальному скрытому состоянию кодировщика.\n",
    "\n",
    "**Кодировщик:** $\\large h_i = f_w(x_i, h_{i_1})$\n",
    "\n",
    "**Декодировщик:** $\\large s_t = g_u(y_{t-1}, s_{t-1}, c)$"
   ]
  },
  {
   "cell_type": "markdown",
   "metadata": {},
   "source": [
    "<center><img src =\"https://edunet.kea.su/repo/EduNet-content/dev-2.1/L09/out/seq_to_seq_with_rnn.png\" width=\"900\"></center>"
   ]
  },
  {
   "cell_type": "markdown",
   "metadata": {},
   "source": [
    "При этом возникает следующая **проблема:** мы пропускаем информацию из входной последовательности через бутылочное горлышко — вектор фиксированного размера $h_N$. Что будет, если размер последовательности 1000?\n",
    "\n",
    "**Идея:** использовать новый вектор контекста на каждом шаге."
   ]
  },
  {
   "cell_type": "markdown",
   "metadata": {},
   "source": [
    "В данном подходе мы используем один **вектор контекста** фиксированной длины $c$, в который собираем информацию со всей **входной последовательности** $(x_1,...,x_N)$.\n",
    "\n",
    "**Входная последовательность** может содержать как единицы, так и тысячи элементов. В задаче машинного перевода **входной последовательностью** может быть:\n",
    "* короткая фраза,\n",
    "* абзац “Войны и мира”.\n",
    "\n",
    "Контекст важен. Для генерации глагола в правильной форме нужно понимать, к какому существительному он относится, а для качественного перевода конца абзаца необходимо понимать, о чем шла речь в его начале."
   ]
  },
  {
   "cell_type": "markdown",
   "metadata": {},
   "source": [
    "**Проблемы Sequence-to-Sequence**"
   ]
  },
  {
   "cell_type": "markdown",
   "metadata": {},
   "source": [
    "- **Вектор контекста** $c$ фиксированной длины не может вместить любое количество информации, поэтому для длинных последовательностей качество будет ухудшаться.\n",
    "- На каждой итерации декодировщика **скрытое состояние** $s_t$ должно сохранять информацию о том, какие элементы **выходной последовательности** уже были сгенерированы. Если $s_t$ не способно вместить эту информацию, модель может зациклиться или потерять часть **выходной последовательности**.\n",
    "\n",
    "**Вектор контекста** $c$ и **скрытые состояния** декодировщика $s_t$ являются “бутылочными горлышками” модели."
   ]
  },
  {
   "cell_type": "markdown",
   "metadata": {},
   "source": [
    "## Пример реализации машинного перевода"
   ]
  },
  {
   "cell_type": "markdown",
   "metadata": {},
   "source": [
    "[[doc] 🛠️ Официальный туториал от PyTorch](https://pytorch.org/tutorials/intermediate/seq2seq_translation_tutorial.html)\n",
    "\n",
    "[[doc] 🛠️ Language translation with TorchText](\n",
    "https://pytorch.org/tutorials/beginner/torchtext_translation.html)"
   ]
  },
  {
   "cell_type": "markdown",
   "metadata": {},
   "source": [
    "### Загрузка и предобработка данных"
   ]
  },
  {
   "cell_type": "code",
   "execution_count": null,
   "metadata": {},
   "outputs": [],
   "source": [
    "SOS_token = 0\n",
    "EOS_token = 1\n",
    "\n",
    "\n",
    "class Lang:\n",
    "    def __init__(self, name):\n",
    "        self.name = name\n",
    "        self.word2index = {}\n",
    "        self.word2count = {}\n",
    "        self.index2word = {0: \"SOS\", 1: \"EOS\"}\n",
    "        self.n_words = 2  # Count SOS and EOS\n",
    "\n",
    "    def addSentence(self, sentence):\n",
    "        for word in sentence.split(\" \"):\n",
    "            self.addWord(word)\n",
    "\n",
    "    def addWord(self, word):\n",
    "        if word not in self.word2index:\n",
    "            self.word2index[word] = self.n_words\n",
    "            self.word2count[word] = 1\n",
    "            self.index2word[self.n_words] = word\n",
    "            self.n_words += 1\n",
    "        else:\n",
    "            self.word2count[word] += 1"
   ]
  },
  {
   "cell_type": "markdown",
   "metadata": {},
   "source": [
    "Все файлы представлены в формате Unicode, поэтому для упрощения мы преобразуем символы Unicode в ASCII, сделаем все строчными и уберём большую часть знаков препинания."
   ]
  },
  {
   "cell_type": "code",
   "execution_count": null,
   "metadata": {},
   "outputs": [],
   "source": [
    "import re\n",
    "import unicodedata\n",
    "\n",
    "\n",
    "def unicodeToAscii(s):\n",
    "    return \"\".join(\n",
    "        c for c in unicodedata.normalize(\"NFD\", s) if unicodedata.category(c) != \"Mn\"\n",
    "    )\n",
    "\n",
    "\n",
    "def normalizeString(s):\n",
    "    s = unicodeToAscii(s.lower().strip())\n",
    "    s = re.sub(r\"([.!?])\", r\" \\1\", s)\n",
    "    s = re.sub(r\"[^a-zA-Z!?]+\", r\" \", s)\n",
    "    return s.strip()\n",
    "\n",
    "\n",
    "def normalizeStringRu(s):\n",
    "    s = unicodeToAscii(s.lower().strip())\n",
    "    s = re.sub(r\"([.!?])\", r\" \\1\", s)\n",
    "    s = re.sub(r\"[^a-яА-Я!?]+\", r\" \", s)\n",
    "    return s.strip()"
   ]
  },
  {
   "cell_type": "markdown",
   "metadata": {},
   "source": [
    "Зафиксируем seeds для воспроизводимости результата:"
   ]
  },
  {
   "cell_type": "code",
   "execution_count": null,
   "metadata": {},
   "outputs": [],
   "source": [
    "import torch\n",
    "import random\n",
    "import numpy as np\n",
    "\n",
    "\n",
    "def set_random_seed(seed):\n",
    "    torch.manual_seed(seed)\n",
    "    torch.cuda.manual_seed(seed)\n",
    "    np.random.seed(seed)\n",
    "    random.seed(seed)\n",
    "\n",
    "\n",
    "set_random_seed(42)"
   ]
  },
  {
   "cell_type": "markdown",
   "metadata": {},
   "source": [
    "Делим файл на строки, а строки — на пары."
   ]
  },
  {
   "cell_type": "code",
   "execution_count": null,
   "metadata": {},
   "outputs": [],
   "source": [
    "# Source: https://www.manythings.org/anki/\n",
    "!wget -q https://edunet.kea.su/repo/EduNet-web_dependencies/datasets/eng_rus_vocab.txt"
   ]
  },
  {
   "cell_type": "code",
   "execution_count": null,
   "metadata": {},
   "outputs": [],
   "source": [
    "from io import open\n",
    "\n",
    "\n",
    "def readLangs(lang1, lang2, reverse=False):\n",
    "    print(\"Reading lines...\")\n",
    "\n",
    "    # Read the file and split into lines\n",
    "    lines = (\n",
    "        open(\"%s_%s_vocab.txt\" % (lang1, lang2), encoding=\"utf-8\")\n",
    "        .read()\n",
    "        .strip()\n",
    "        .split(\"\\n\")\n",
    "    )\n",
    "\n",
    "    # Split every line into pairs and normalize\n",
    "    pairs = [l.split(\"\\t\")[:2] for l in lines]\n",
    "    eng = [normalizeString(s[0]) for s in pairs]\n",
    "    rus = [normalizeStringRu(s[1]) for s in pairs]\n",
    "    pairs = list(zip(rus, eng))\n",
    "\n",
    "    # Reverse pairs, make Lang instances\n",
    "    if reverse:\n",
    "        pairs = [list(reversed(p)) for p in pairs]\n",
    "        input_lang = Lang(lang2)\n",
    "        output_lang = Lang(lang1)\n",
    "    else:\n",
    "        input_lang = Lang(lang1)\n",
    "        output_lang = Lang(lang2)\n",
    "\n",
    "    return input_lang, output_lang, pairs"
   ]
  },
  {
   "cell_type": "markdown",
   "metadata": {},
   "source": [
    "Для скорости сократим датасет до предложений не длинее 10 слов и отфильтруем апострофы."
   ]
  },
  {
   "cell_type": "code",
   "execution_count": null,
   "metadata": {},
   "outputs": [],
   "source": [
    "max_length = 10\n",
    "\n",
    "eng_prefixes = (\n",
    "    \"i am \",\n",
    "    \"i m \",\n",
    "    \"he is\",\n",
    "    \"he s \",\n",
    "    \"she is\",\n",
    "    \"she s \",\n",
    "    \"you are\",\n",
    "    \"you re \",\n",
    "    \"we are\",\n",
    "    \"we re \",\n",
    "    \"they are\",\n",
    "    \"they re \",\n",
    ")\n",
    "\n",
    "\n",
    "def filterPair(p):\n",
    "    return (\n",
    "        len(p[0].split(\" \")) < max_length\n",
    "        and len(p[1].split(\" \")) < max_length\n",
    "        and p[1].startswith(eng_prefixes)\n",
    "    )\n",
    "\n",
    "\n",
    "def filterPairs(pairs):\n",
    "    return [pair for pair in pairs if filterPair(pair)]"
   ]
  },
  {
   "cell_type": "code",
   "execution_count": null,
   "metadata": {},
   "outputs": [],
   "source": [
    "import random\n",
    "\n",
    "\n",
    "def prepareData(lang1, lang2, reverse=False):\n",
    "    input_lang, output_lang, pairs = readLangs(lang1, lang2, reverse)\n",
    "    print(\"Read %s sentence pairs\" % len(pairs))\n",
    "    pairs = filterPairs(pairs)\n",
    "    print(\"Trimmed to %s sentence pairs\" % len(pairs))\n",
    "    print(\"Counting words...\")\n",
    "    for pair in pairs:\n",
    "        input_lang.addSentence(pair[0])\n",
    "        output_lang.addSentence(pair[1])\n",
    "    print(\"Counted words:\")\n",
    "    print(input_lang.name, input_lang.n_words)\n",
    "    print(output_lang.name, output_lang.n_words)\n",
    "    return input_lang, output_lang, pairs\n",
    "\n",
    "\n",
    "input_lang, output_lang, pairs = prepareData(\"eng\", \"rus\", False)\n",
    "print(random.choice(pairs))"
   ]
  },
  {
   "cell_type": "markdown",
   "metadata": {},
   "source": [
    "Теперь в нашем распоряжении есть два словаря и набор пар строк.\n",
    "Определим структуру модели."
   ]
  },
  {
   "cell_type": "markdown",
   "metadata": {},
   "source": [
    "### Кодировщик-декодировщик"
   ]
  },
  {
   "cell_type": "code",
   "execution_count": null,
   "metadata": {},
   "outputs": [],
   "source": [
    "from torch import nn\n",
    "\n",
    "\n",
    "class EncoderRNN(nn.Module):\n",
    "    def __init__(self, input_size, hidden_size, dropout_p=0.1):\n",
    "        super().__init__()\n",
    "        self.hidden_size = hidden_size\n",
    "\n",
    "        self.embedding = nn.Embedding(input_size, hidden_size)\n",
    "        self.gru = nn.GRU(hidden_size, hidden_size, batch_first=True)\n",
    "        self.dropout = nn.Dropout(dropout_p)\n",
    "\n",
    "    def forward(self, input):\n",
    "        embedded = self.dropout(self.embedding(input))\n",
    "        output, hidden = self.gru(embedded)\n",
    "        return output, hidden"
   ]
  },
  {
   "cell_type": "markdown",
   "metadata": {},
   "source": [
    "Вместо one_hot-векторов, используются [эмбеддинги 🛠️[doc]](https://pytorch.org/tutorials/beginner/nlp/word_embeddings_tutorial.html) размером 1×256 (hidden size)\n",
    "\n"
   ]
  },
  {
   "cell_type": "code",
   "execution_count": null,
   "metadata": {},
   "outputs": [],
   "source": [
    "import torch.nn.functional as F\n",
    "\n",
    "\n",
    "class DecoderRNN(nn.Module):\n",
    "    def __init__(self, hidden_size, output_size):\n",
    "        super().__init__()\n",
    "        self.embedding = nn.Embedding(output_size, hidden_size)\n",
    "        self.gru = nn.GRU(hidden_size, hidden_size, batch_first=True)\n",
    "        self.out = nn.Linear(hidden_size, output_size)\n",
    "\n",
    "    def forward(self, encoder_outputs, encoder_hidden, target_tensor=None):\n",
    "        batch_size = encoder_outputs.size(0)\n",
    "        decoder_input = torch.empty(\n",
    "            batch_size, 1, dtype=torch.long, device=device\n",
    "        ).fill_(SOS_token)\n",
    "        decoder_hidden = encoder_hidden\n",
    "        decoder_outputs = []\n",
    "\n",
    "        for i in range(max_length):\n",
    "            decoder_output, decoder_hidden = self.forward_step(\n",
    "                decoder_input, decoder_hidden\n",
    "            )\n",
    "            decoder_outputs.append(decoder_output)\n",
    "\n",
    "            if target_tensor is not None:\n",
    "                # Teacher forcing: Feed the target as the next input\n",
    "                decoder_input = target_tensor[:, i].unsqueeze(1)  # Teacher forcing\n",
    "            else:\n",
    "                # Without teacher forcing: use its own predictions as the next input\n",
    "                _, topi = decoder_output.topk(1)\n",
    "                # detach from history as input\n",
    "                decoder_input = topi.squeeze(-1).detach()\n",
    "\n",
    "        decoder_outputs = torch.cat(decoder_outputs, dim=1)\n",
    "        decoder_outputs = F.log_softmax(decoder_outputs, dim=-1)\n",
    "        return (\n",
    "            decoder_outputs,\n",
    "            decoder_hidden,\n",
    "            None,\n",
    "        )  # We return `None` for consistency in the training loop\n",
    "\n",
    "    def forward_step(self, input, hidden):\n",
    "        output = self.embedding(input)\n",
    "        output = F.relu(output)\n",
    "        output, hidden = self.gru(output, hidden)\n",
    "        output = self.out(output)\n",
    "        return output, hidden"
   ]
  },
  {
   "cell_type": "markdown",
   "metadata": {},
   "source": [
    "### Обучение"
   ]
  },
  {
   "cell_type": "markdown",
   "metadata": {},
   "source": [
    "На вход модели будем подавать индексы слов для первой части пары из одного словаря, а на выходе ожидать индексы для соответствующей пары из другого."
   ]
  },
  {
   "cell_type": "code",
   "execution_count": null,
   "metadata": {},
   "outputs": [],
   "source": [
    "import torch\n",
    "import numpy as np\n",
    "from torch.utils.data import TensorDataset, DataLoader, RandomSampler\n",
    "\n",
    "\n",
    "device = torch.device(\"cuda\" if torch.cuda.is_available() else \"cpu\")\n",
    "\n",
    "\n",
    "def indexesFromSentence(lang, sentence):\n",
    "    return [lang.word2index[word] for word in sentence.split(\" \")]\n",
    "\n",
    "\n",
    "def tensorFromSentence(lang, sentence):\n",
    "    indexes = indexesFromSentence(lang, sentence)\n",
    "    indexes.append(EOS_token)\n",
    "    return torch.tensor(indexes, dtype=torch.long, device=device).view(1, -1)\n",
    "\n",
    "\n",
    "def tensorsFromPair(pair):\n",
    "    input_tensor = tensorFromSentence(input_lang, pair[0])\n",
    "    target_tensor = tensorFromSentence(output_lang, pair[1])\n",
    "    return (input_tensor, target_tensor)\n",
    "\n",
    "\n",
    "def get_dataloader(batch_size):\n",
    "    input_lang, output_lang, pairs = prepareData(\"eng\", \"rus\", False)\n",
    "\n",
    "    n = len(pairs)\n",
    "    input_ids = np.zeros((n, max_length), dtype=np.int32)\n",
    "    target_ids = np.zeros((n, max_length), dtype=np.int32)\n",
    "\n",
    "    for idx, (inp, tgt) in enumerate(pairs):\n",
    "        inp_ids = indexesFromSentence(input_lang, inp)\n",
    "        tgt_ids = indexesFromSentence(output_lang, tgt)\n",
    "        inp_ids.append(EOS_token)\n",
    "        tgt_ids.append(EOS_token)\n",
    "        input_ids[idx, : len(inp_ids)] = inp_ids\n",
    "        target_ids[idx, : len(tgt_ids)] = tgt_ids\n",
    "\n",
    "    train_data = TensorDataset(\n",
    "        torch.LongTensor(input_ids).to(device), torch.LongTensor(target_ids).to(device)\n",
    "    )\n",
    "\n",
    "    train_sampler = RandomSampler(train_data)\n",
    "    train_dataloader = DataLoader(\n",
    "        train_data, sampler=train_sampler, batch_size=batch_size\n",
    "    )\n",
    "    return input_lang, output_lang, train_dataloader"
   ]
  },
  {
   "cell_type": "code",
   "execution_count": null,
   "metadata": {},
   "outputs": [],
   "source": [
    "def train_epoch(\n",
    "    dataloader, encoder, decoder, encoder_optimizer, decoder_optimizer, criterion\n",
    "):\n",
    "\n",
    "    total_loss = 0\n",
    "    for data in dataloader:\n",
    "        input_tensor, target_tensor = data\n",
    "\n",
    "        encoder_optimizer.zero_grad()\n",
    "        decoder_optimizer.zero_grad()\n",
    "\n",
    "        encoder_outputs, encoder_hidden = encoder(input_tensor)\n",
    "        decoder_outputs, _, _ = decoder(encoder_outputs, encoder_hidden, target_tensor)\n",
    "\n",
    "        loss = criterion(\n",
    "            decoder_outputs.view(-1, decoder_outputs.size(-1)), target_tensor.view(-1)\n",
    "        )\n",
    "        loss.backward()\n",
    "\n",
    "        encoder_optimizer.step()\n",
    "        decoder_optimizer.step()\n",
    "\n",
    "        total_loss += loss.item()\n",
    "\n",
    "    return total_loss / len(dataloader)"
   ]
  },
  {
   "cell_type": "code",
   "execution_count": null,
   "metadata": {},
   "outputs": [],
   "source": [
    "import time\n",
    "import math\n",
    "\n",
    "\n",
    "def asMinutes(s):\n",
    "    m = math.floor(s / 60)\n",
    "    s -= m * 60\n",
    "    return \"%dm %ds\" % (m, s)\n",
    "\n",
    "\n",
    "def timeSince(since, percent):\n",
    "    now = time.time()\n",
    "    s = now - since\n",
    "    es = s / (percent)\n",
    "    rs = es - s\n",
    "    return \"%s (- %s)\" % (asMinutes(s), asMinutes(rs))"
   ]
  },
  {
   "cell_type": "code",
   "execution_count": null,
   "metadata": {},
   "outputs": [],
   "source": [
    "from torch import optim\n",
    "\n",
    "\n",
    "def train(\n",
    "    train_dataloader,\n",
    "    encoder,\n",
    "    decoder,\n",
    "    num_epochs,\n",
    "    learning_rate=0.001,\n",
    "    print_every=100,\n",
    "    plot_every=100,\n",
    "):\n",
    "\n",
    "    start = time.time()\n",
    "    plot_losses = []\n",
    "    print_loss_total = 0  # Reset every print_every\n",
    "    plot_loss_total = 0  # Reset every plot_every\n",
    "\n",
    "    encoder_optimizer = optim.Adam(encoder.parameters(), lr=learning_rate)\n",
    "    decoder_optimizer = optim.Adam(decoder.parameters(), lr=learning_rate)\n",
    "    criterion = nn.NLLLoss()\n",
    "\n",
    "    for epoch in range(1, num_epochs + 1):\n",
    "        loss = train_epoch(\n",
    "            train_dataloader,\n",
    "            encoder,\n",
    "            decoder,\n",
    "            encoder_optimizer,\n",
    "            decoder_optimizer,\n",
    "            criterion,\n",
    "        )\n",
    "        print_loss_total += loss\n",
    "        plot_loss_total += loss\n",
    "\n",
    "        if epoch % print_every == 0:\n",
    "            print_loss_avg = print_loss_total / print_every\n",
    "            print_loss_total = 0\n",
    "            print(\n",
    "                \"%s (%d %d%%) %.4f\"\n",
    "                % (\n",
    "                    timeSince(start, epoch / num_epochs),\n",
    "                    epoch,\n",
    "                    epoch / num_epochs * 100,\n",
    "                    print_loss_avg,\n",
    "                )\n",
    "            )\n",
    "\n",
    "        if epoch % plot_every == 0:\n",
    "            plot_loss_avg = plot_loss_total / plot_every\n",
    "            plot_losses.append(plot_loss_avg)\n",
    "            plot_loss_total = 0\n",
    "\n",
    "    showPlot(plot_losses)"
   ]
  },
  {
   "cell_type": "code",
   "execution_count": null,
   "metadata": {},
   "outputs": [],
   "source": [
    "import matplotlib.pyplot as plt\n",
    "import matplotlib.ticker as ticker\n",
    "\n",
    "%matplotlib inline\n",
    "plt.switch_backend(\"agg\")\n",
    "\n",
    "\n",
    "def showPlot(points):\n",
    "    plt.figure()\n",
    "    fig, ax = plt.subplots()\n",
    "    # this locator puts ticks at regular intervals\n",
    "    loc = ticker.MultipleLocator(base=0.2)\n",
    "    ax.yaxis.set_major_locator(loc)\n",
    "    plt.plot(points)\n",
    "    plt.show()"
   ]
  },
  {
   "cell_type": "markdown",
   "metadata": {},
   "source": [
    "Процесс обучения занимает примерно 15 минут. Для запуска обучения необходимо раскомментировать соответствующую строчку в коде."
   ]
  },
  {
   "cell_type": "code",
   "execution_count": null,
   "metadata": {},
   "outputs": [],
   "source": [
    "hidden_size = 128\n",
    "batch_size = 32\n",
    "\n",
    "input_lang, output_lang, train_dataloader = get_dataloader(batch_size)\n",
    "\n",
    "encoder = EncoderRNN(input_lang.n_words, hidden_size).to(device)\n",
    "decoder = DecoderRNN(hidden_size, output_lang.n_words).to(device)\n",
    "\n",
    "# train(train_dataloader, encoder, decoder, num_epochs=80, print_every=5, plot_every=5)"
   ]
  },
  {
   "cell_type": "markdown",
   "metadata": {},
   "source": [
    "Загрузим заранее обученные веса энкодера и декодера:"
   ]
  },
  {
   "cell_type": "code",
   "execution_count": null,
   "metadata": {},
   "outputs": [],
   "source": [
    "!wget -q https://edunet.kea.su/repo/EduNet-content/dev-2.1/L09/weights/encoder_weights.pth\n",
    "!wget -q https://edunet.kea.su/repo/EduNet-content/dev-2.1/L09/weights/decoder_weights.pth"
   ]
  },
  {
   "cell_type": "code",
   "execution_count": null,
   "metadata": {},
   "outputs": [],
   "source": [
    "encoder.load_state_dict(torch.load(\"/content/encoder_weights.pth\", map_location=device))\n",
    "decoder.load_state_dict(torch.load(\"/content/decoder_weights.pth\", map_location=device))"
   ]
  },
  {
   "cell_type": "markdown",
   "metadata": {},
   "source": [
    "**Тестирование**"
   ]
  },
  {
   "cell_type": "code",
   "execution_count": null,
   "metadata": {},
   "outputs": [],
   "source": [
    "def evaluate(encoder, decoder, sentence, input_lang, output_lang):\n",
    "    with torch.no_grad():\n",
    "        input_tensor = tensorFromSentence(input_lang, sentence)\n",
    "\n",
    "        encoder_outputs, encoder_hidden = encoder(input_tensor)\n",
    "        decoder_outputs, decoder_hidden, _ = decoder(encoder_outputs, encoder_hidden)\n",
    "\n",
    "        _, topi = decoder_outputs.topk(1)\n",
    "        decoded_ids = topi.squeeze()\n",
    "        decoded_words = []\n",
    "        for idx in decoded_ids:\n",
    "            if idx.item() == EOS_token:\n",
    "                decoded_words.append(\"<EOS>\")\n",
    "                break\n",
    "            decoded_words.append(output_lang.index2word[idx.item()])\n",
    "    return decoded_words"
   ]
  },
  {
   "cell_type": "markdown",
   "metadata": {},
   "source": [
    "Мы можем оценить случайные предложения из обучающего набора:"
   ]
  },
  {
   "cell_type": "code",
   "execution_count": null,
   "metadata": {},
   "outputs": [],
   "source": [
    "def evaluateRandomly(encoder, decoder, n=10):\n",
    "    eng = []\n",
    "    dnn = []\n",
    "    for i in range(n):\n",
    "        pair = random.choice(pairs)\n",
    "        print(\"RUS\", pair[0])\n",
    "        print(\"ENG\", pair[1])\n",
    "        output_words = evaluate(encoder, decoder, pair[0], input_lang, output_lang)\n",
    "        eng.append(pair[1])\n",
    "        dnn.append(output_words[:-1])  # remove <eos> token\n",
    "        output_sentence = \" \".join(output_words)\n",
    "        print(\"DNN\", output_sentence)\n",
    "        print(\"\")\n",
    "\n",
    "    return eng, dnn"
   ]
  },
  {
   "cell_type": "code",
   "execution_count": null,
   "metadata": {},
   "outputs": [],
   "source": [
    "encoder.eval()\n",
    "decoder.eval()\n",
    "with torch.no_grad():\n",
    "    eng, dnn = evaluateRandomly(encoder, decoder)"
   ]
  },
  {
   "cell_type": "markdown",
   "metadata": {},
   "source": [
    "## NLP метрики"
   ]
  },
  {
   "cell_type": "markdown",
   "metadata": {},
   "source": [
    "[[blog] ✏️ Цикл постов об NLP-метриках](https://habr.com/ru/articles/745642/)"
   ]
  },
  {
   "cell_type": "markdown",
   "metadata": {},
   "source": [
    "Глобально метрики качества машинного перевода можно разделить на **традиционные** и **нейросетевые**.\n",
    "\n",
    "1. Традиционные метрики сравнительно просты в расчете и прозрачны, наиболее известные из них разработаны до бума нейросетей. Чаще всего такие метрики основаны на подсчете числа совпадений символов / слов / cловосочетаний — их называют «lexic overlap metrics».\n",
    "\n",
    "2. Большинство метрик, предложенных после 2016 года, — нейросетевые. Первым шагом в применении нейросетей в расчете метрик стало использование векторных представлений слов (embeddings)."
   ]
  },
  {
   "cell_type": "markdown",
   "metadata": {},
   "source": [
    "<center><img src =\"https://edunet.kea.su/repo/EduNet-web_dependencies/dev-2.1/L09/nlp_metrics.png\" width=\"1000\"></center>\n",
    "\n",
    "<center><em>Source: <a href=\"https://habr.com/ru/articles/745642/\">Эволюция метрик качества машинного перевода</a></em></center>"
   ]
  },
  {
   "cell_type": "markdown",
   "metadata": {},
   "source": [
    "Сегодня наиболее часто используются метрики, предложенные до 2010 года, причем из них чаще всего используется BLEU."
   ]
  },
  {
   "cell_type": "markdown",
   "metadata": {},
   "source": [
    "Наиболее известны и употребимы такие традиционные метрики, как BLEU, NIST, ROUGE, METEOR, TER, chrF, chrF++, RIBES.\n",
    "\n",
    "**BLEU**\n",
    "\n",
    "BLEU (BiLingual Evaluation Understudy) — метрика, разработанная в IBM (Papineni et al.) в 2001. Основана на подсчете слов (unigrams) и словосочетаний (n‑grams) из машинного перевода, также встречающихся в эталоне. Далее это число делится на общее число слов и словосочетаний в машинном переводе — получается precision. К итоговому precision применяется корректировка — штраф за краткость (brevity penalty), чтобы избежать слишком высоких оценок BLEU для кратких и неполных переводов."
   ]
  },
  {
   "cell_type": "code",
   "execution_count": null,
   "metadata": {},
   "outputs": [],
   "source": [
    "dnn"
   ]
  },
  {
   "cell_type": "code",
   "execution_count": null,
   "metadata": {},
   "outputs": [],
   "source": [
    "eng"
   ]
  },
  {
   "cell_type": "markdown",
   "metadata": {},
   "source": [
    "Обратите внимание на формат подачи данных в метрику. Первым подается результат переводчика, вторым — эталон. Они должны иметь формат списка строк, поэтому преобразуем `dnn`:"
   ]
  },
  {
   "cell_type": "code",
   "execution_count": null,
   "metadata": {},
   "outputs": [],
   "source": [
    "dnn_for_bleu = [[\" \".join(x)] for x in dnn]  # Make a string from separated words\n",
    "dnn_for_bleu = [\n",
    "    item for sublist in dnn_for_bleu for item in sublist\n",
    "]  # Make a list from list of lists\n",
    "\n",
    "dnn_for_bleu"
   ]
  },
  {
   "cell_type": "code",
   "execution_count": null,
   "metadata": {},
   "outputs": [],
   "source": [
    "!pip install -q torcheval"
   ]
  },
  {
   "cell_type": "code",
   "execution_count": null,
   "metadata": {},
   "outputs": [],
   "source": [
    "import torcheval\n",
    "from torcheval.metrics.functional import bleu_score\n",
    "\n",
    "print(bleu_score(dnn_for_bleu, eng))"
   ]
  },
  {
   "cell_type": "markdown",
   "metadata": {},
   "source": [
    "<font size = 6> Заключение </font>"
   ]
  },
  {
   "cell_type": "markdown",
   "metadata": {},
   "source": [
    "<center><img src =\"https://edunet.kea.su/repo/EduNet-content/dev-2.1/L09/out/time_series_data.png\" width=\"700\"></center>"
   ]
  },
  {
   "cell_type": "markdown",
   "metadata": {},
   "source": [
    "Не только у временных рядов и текстов есть временная зависимость. Это может быть и изменение графа во времени, и кадры видеопотока, и многое другое."
   ]
  },
  {
   "cell_type": "markdown",
   "metadata": {},
   "source": [
    "Характерным примером может служить работа нашего выпускника, в которой с помощью RNN обрабатывалась последовательность латентных пространств, соответствующих отдельным кадрам видео."
   ]
  },
  {
   "cell_type": "markdown",
   "metadata": {},
   "source": [
    "<font size = 5> Пример работы с применением RNN в работе выпускника курса </font>"
   ]
  },
  {
   "cell_type": "markdown",
   "metadata": {},
   "source": [
    "В работе **Поиск артефактов на изображениях обзора ZTF при помощи нейронных сетей** решалась проблема траты огромного количества времени на ручное изучение изображений с кандидатами на значимые астрономические события.\n",
    "\n",
    "Загвоздка заключалась в том, что:\n",
    "\n",
    "* после алгоритмической предобработки оставалось слишком много артефактов по типу пролетевшего над телескопом самолёта;\n",
    "* каждый кандидат — серия кадров во времени, количество кадров на одно наблюдение различно.\n"
   ]
  },
  {
   "cell_type": "markdown",
   "metadata": {},
   "source": [
    "<center><img src =\"https://edunet.kea.su/repo/EduNet-web_dependencies/dev-2.1/L09/astro_encoder.png\"></center>\n",
    "\n",
    "\n",
    "<center><em>Примеры артефактов и архитектура кодировщика</em></center>\n",
    "\n",
    "<center><em>Source: <a href=\"https://github.com/EduNetArchive/Semenikhin_RB_ZTF\">Семенихин Т. А., et al</a></em></center>"
   ]
  },
  {
   "cell_type": "markdown",
   "metadata": {},
   "source": [
    "<center><img src =\"https://edunet.kea.su/repo/EduNet-web_dependencies/dev-2.1/L09/astro_rnn.png\" width=\"800\"></center>\n",
    "\n",
    "<center><em>Схема алгоритма</em></center>\n",
    "\n",
    "<center><em>Source: <a href=\"https://github.com/EduNetArchive/Semenikhin_RB_ZTF\">Семенихин Т. А., et al</a></em></center>"
   ]
  },
  {
   "cell_type": "markdown",
   "metadata": {},
   "source": [
    "Подробнее:\n",
    "\n",
    "[[video] 📺 Видеозапись выступления](https://www.youtube.com/watch?v=g_WeSLmyVO8)\n",
    "\n",
    "[[slides] 📊 Презентация](https://docs.google.com/presentation/d/1BRhcv8GweaEFZVNrecarHlX6OyGxurDc/edit#slide=id.p2)\n",
    "\n",
    "[[git] 🐾 Код](https://github.com/EduNetArchive/Semenikhin_RB_ZTF)"
   ]
  },
  {
   "cell_type": "markdown",
   "metadata": {},
   "source": [
    "<font size=6>Литература</font>\n",
    "\n",
    "<font size=5>Особенности данных:</font>\n",
    "* [[blog] ✏️ Анализ временных рядов, применение нейросетей (1 часть)](https://habr.com/ru/articles/693562/)\n",
    "* [[blog] ✏️ Forecasting Time Series with Auto-Arima](https://www.alldatascience.com/time-series/forecasting-time-series-with-auto-arima/)\n",
    "\n",
    "<font size=5>Рекуррентные нейронные сети:</font>\n",
    "* [[article] 🎓 Session-based Recommendations with Recurrent Neural Networks](https://www.researchgate.net/publication/284579100_Session-based_Recommendations_with_Recurrent_Neural_Networks)\n",
    "* [[blog] ✏️ How to Remove Non-Stationarity From Time Series](https://www.kaggle.com/code/bextuychiev/how-to-remove-non-stationarity-from-time-series)\n",
    "* [[blog] ✏️ A Guide to Time Series Forecasting in Python](https://builtin.com/data-science/time-series-forecasting-python)\n",
    "* [[blog] ✏️ How to Check if Time Series Data is Stationary with Python?](https://www.geeksforgeeks.org/how-to-check-if-time-series-data-is-stationary-with-python/)\n",
    "* [[blog] ✏️ Complete Guide on Time Series Analysis in Python](https://www.kaggle.com/code/prashant111/complete-guide-on-time-series-analysis-in-python)\n",
    "* [[doc] 🛠️ Data transformations and forecasting models: what to use and when](https://people.duke.edu/~rnau/whatuse.htm)\n",
    "* [[colab] 🥨 Time Series Prediction with LSTM Using PyTorch](https://colab.research.google.com/github/dlmacedo/starter-academic/blob/master/content/courses/deeplearning/notebooks/pytorch/Time_Series_Prediction_with_LSTM_Using_PyTorch.ipynb#scrollTo=NabsV8O5BBd5)\n",
    "\n",
    "<font size=5>LSTM:</font>\n",
    "* [[article] 📚 Long Short-Term Memory (Hochreiter & Schmidhuber, 1997)](http://www.bioinf.jku.at/publications/older/2604.pdf)\n",
    "* [[blog] ✏️ Feature Scaling Data with Scikit-Learn for Machine Learning in Python](https://stackabuse.com/feature-scaling-data-with-scikit-learn-for-machine-learning-in-python/)\n",
    "* [[blog] ✏️ Hands-On Machine Learning with Scikit-Learn and TensorFlow, ч.4](https://www.oreilly.com/library/view/hands-on-machine-learning/9781491962282/ch04.html)\n",
    "* [[arxiv] 🎓 How to avoid machine learning pitfalls:\n",
    "a guide for academic researchers (Lones, 2023)](https://arxiv.org/pdf/2108.02497.pdf)\n",
    "* [[blog] ✏️ Recurrent Neural Networks with PyTorch](https://www.kaggle.com/code/kanncaa1/recurrent-neural-network-with-pytorch)\n",
    "\n",
    "<font size=5>Пример посимвольной генерации текста:</font>\n",
    "* [[git] 🐾 RNN-walkthrough](https://github.com/gabrielloye/RNN-walkthrough/blob/master/main.ipynb)\n",
    "* [[blog] ✏️ The Unreasonable Effectiveness of Recurrent Neural Networks](https://karpathy.github.io/2015/05/21/rnn-effectiveness/)\n",
    "\n",
    "\n",
    "<font size=5>Работа с временными рядами:</font>\n",
    "- [[blog] ✏️ How to Remove Non-Stationarity From Time Series](https://www.kaggle.com/code/bextuychiev/how-to-remove-non-stationarity-from-time-series)\n",
    "- [[blog] ✏️ A Guide to Time Series Forecasting in Python](https://builtin.com/data-science/time-series-forecasting-python)\n",
    "- [[blog] ✏️ How to Check if Time Series Data is Stationary with Python?](https://www.geeksforgeeks.org/how-to-check-if-time-series-data-is-stationary-with-python/)\n",
    "- [[blog] ✏️ Complete Guide on Time Series Analysis in Python](https://www.kaggle.com/code/prashant111/complete-guide-on-time-series-analysis-in-python)\n",
    "- [[doc] 🛠️ Data transformations and forecasting models: what to use and when](https://people.duke.edu/~rnau/whatuse.htm)\n",
    "\n",
    "<font size=5>Представление данных:</font>\n",
    "* [[wiki] 📚 TF-IDF](https://ru.wikipedia.org/wiki/TF-IDF)\n",
    "* [[doc] 🛠️ sklearn.feature_extraction.text.TfidfVectorizer](https://scikit-learn.org/stable/modules/generated/sklearn.feature_extraction.text.TfidfVectorizer.html)\n",
    "* [[doc] 🛠️ Ещё несколько способов взвешивания и отбора признаков](https://scikit-learn.org/stable/modules/feature_selection.html)\n",
    "* [[doc] 🛠️ TF-IDF Vectorizer scikit-learn](https://scikit-learn.org/stable/modules/feature_extraction.html#tfidf-term-weighting)\n",
    "* [[colab] 🥨 Подробное руководство по использованию Word2Vec](https://colab.research.google.com/drive/1OJF0k-E60sp9Vyoj1yWuoedGTrwRiTyj?usp=sharing)\n",
    "* [[doc] 🛠️ Туториал PyTorch по применению эмбедингов в NLP](https://pytorch.org/tutorials/beginner/nlp/word_embeddings_tutorial.html)\n",
    "* [[blog] ✏️ NLP Course for you](https://lena-voita.github.io/nlp_course.html)\n",
    "* [[git] 🐾 Курс по NLP от ШАД](https://github.com/yandexdataschool/nlp_course)\n",
    "\n",
    "<font size=5>Аугментация:</font>\n",
    "* [[git] 🐾 audiomentations](https://github.com/iver56/audiomentations)\n",
    "* [[doc] 🛠️ torchaudio](https://pytorch.org/tutorials/beginner/audio_preprocessing_tutorial.html)\n",
    "* [[git] 🐾 torch-audiomentations](https://github.com/asteroid-team/torch-audiomentations)\n",
    "* [[git] 🐾 AugLy](https://github.com/facebookresearch/AugLy)\n",
    "* [[git] 🐾 nlpaug](https://github.com/makcedward/nlpaug)\n",
    "* [[git] 🐾 TextAugment](https://github.com/dsfsi/textaugment)\n",
    "* [[blog] ✏️ Обзор методов аугментации текста с примерами](https://amitness.com/2020/05/data-augmentation-for-nlp/)\n",
    "\n",
    "<font size=5>NLP метрики:</font>\n",
    "* [[blog] ✏️ Цикл постов об NLP-метриках](https://habr.com/ru/articles/745642/)\n",
    "\n",
    "<font size=5>TF-IDF:</font>\n",
    "* [[wiki] 📚 TF-IDF](https://ru.wikipedia.org/wiki/TF-IDF)\n",
    "\n",
    "* [[doc] 🛠️ sklearn.feature_extraction.text.TfidfVectorizer](https://scikit-learn.org/stable/modules/generated/sklearn.feature_extraction.text.TfidfVectorizer.html)\n",
    "\n",
    "* [[doc] 🛠️ Ещё несколько способов взвешивания и отбора признаков](https://scikit-learn.org/stable/modules/feature_selection.html)\n",
    "\n",
    "* [[doc] 🛠️ TF-IDF Vectorizer scikit-learn](https://scikit-learn.org/stable/modules/feature_extraction.html#tfidf-term-weighting)"
   ]
  }
 ],
 "metadata": {},
 "nbformat": 4,
 "nbformat_minor": 0
}
