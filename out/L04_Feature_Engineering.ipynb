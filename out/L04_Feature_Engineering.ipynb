{
 "cells": [
  {
   "cell_type": "markdown",
   "metadata": {},
   "source": [
    " <font size=\"6\">Генерация и отбор признаков</font>\n"
   ]
  },
  {
   "cell_type": "markdown",
   "metadata": {},
   "source": [
    "# Проблемы при работе с реальными данными"
   ]
  },
  {
   "cell_type": "markdown",
   "metadata": {},
   "source": [
    "В реальных задачах вы столкнетесь с широким спектром трудностей, и одним из первых этапов будет подготовка данных. Уже на этом этапе есть ряд возможных проблем, например:"
   ]
  },
  {
   "cell_type": "markdown",
   "metadata": {},
   "source": [
    "- **Нехватка данных** — у вас может быть мало данных. Более того, понять, какой объем данных необходим — тоже отдельная задача. Другая вариация похожей проблемы — это большой объем данных, но без разметки.\n",
    "\n",
    "- **Некачественная разметка** —  даже в широко известных MNIST, CIFAR-10 и ImageNet есть [ошибки в разметке 🎮[demo]](https://labelerrors.com/). В вашем датасете они тоже будут. Важно понимать, что разметка может не являться бесспорным эталоном.\n",
    "\n",
    "- **Шум в данных** — полезно подумать о потенциальной зашумленности данных. Например, когда люди заполняют таблицы, они могут допускать ошибки. Хорошо понимать, какого рода ошибки могут содержаться в ваших данных.\n",
    "\n",
    "- **Несбалансированность датасета** — какие-то классы могут быть плохо представлены (**минорные классы**). Например, если в вашем датасете будет всего 10 фотографий одного класса и 10 000 другого, то модели будет очень заманчиво вообще не пытаться определять минорный класс (всего 0.1% ошибок).\n",
    "\n",
    "- **Ковариантный сдвиг** — явление, когда признаки тренировочной и тестовой выборок **распределены по-разному**. Из-за этого мы можем получать плохие предсказания на тестовой выборке, когда модель просто не знает, что признаки могут находиться в другом распределении."
   ]
  },
  {
   "cell_type": "markdown",
   "metadata": {},
   "source": [
    "<img src =\"https://edunet.kea.su/repo/EduNet-content/dev-2.0/L04/out/covariate_shift.png\" width=\"600\">"
   ]
  },
  {
   "cell_type": "markdown",
   "metadata": {},
   "source": [
    "*Практический совет: для быстрого обнаружения ковариантного сдвига можно **обучить модель**, которая будет предсказывать, относится ли объект к **train** или **test** выборке. Если модель легко делит данные по такому принципу, то имеет смысл визуализировать значения признаков, по которым она это делает.*"
   ]
  },
  {
   "cell_type": "markdown",
   "metadata": {},
   "source": [
    "- **Малое число источников данных** — проблема, родственная предыдущей. В вашем датасете могут быть данные только от одного прибора или одной модели прибора. Могут быть данные, снятые только одним специалистом, или в одной больнице, или только у взрослых. Это также может влиять на способность вашего алгоритма обобщать полученное решение и требует пристального внимания.\n",
    "\n",
    "- **Грязные данные** — в данных могут быть полные/неполные дубликаты, пропуски, ошибки форматов, перемешанные столбцы и многое другое. Такие проблемы могут быть как естественной характеристикой (нет данных о каких-то объектах, отсюда пропуски), так и ошибкой при агрегации данных из разных источников. Важно подумать о проверках и тестах, чтобы быть уверенным в качестве.\n",
    "\n",
    "Все это приводит к целому спектру сложностей, из которых самой типичной будет переобучение модели — какую бы простую модель вы не взяли, она все равно будет выучивать искажения вашего датасета."
   ]
  },
  {
   "cell_type": "markdown",
   "metadata": {},
   "source": [
    "## Дисбаланс классов"
   ]
  },
  {
   "cell_type": "markdown",
   "metadata": {},
   "source": [
    "Прежде всего надо убедиться, что датасет сбалансирован:"
   ]
  },
  {
   "cell_type": "code",
   "execution_count": null,
   "metadata": {},
   "outputs": [],
   "source": [
    "import torch\n",
    "import matplotlib.pyplot as plt\n",
    "from sklearn.datasets import load_wine\n",
    "\n",
    "\n",
    "def show_class_balance(y, classes):\n",
    "    _, counts = torch.unique(torch.tensor(y), return_counts=True)\n",
    "    plt.bar(classes, counts)\n",
    "    plt.ylabel(\"n_samples\")\n",
    "    plt.ylim([0, 75])\n",
    "    plt.show()\n",
    "\n",
    "\n",
    "wine = load_wine()\n",
    "classes = wine.target_names\n",
    "\n",
    "show_class_balance(wine.target, classes)"
   ]
  },
  {
   "cell_type": "markdown",
   "metadata": {},
   "source": [
    "Разница в 10–20% будет незначительна, поэтому для наглядности мы искусственно разбалансируем наш датасет при помощи метода `make_imbalance` [🛠️[doc]](https://imbalanced-learn.org/stable/references/generated/imblearn.datasets.make_imbalance.html) из библиотеки [imbalanced-learn 🛠️[doc]](https://imbalanced-learn.org/stable/)."
   ]
  },
  {
   "cell_type": "code",
   "execution_count": null,
   "metadata": {},
   "outputs": [],
   "source": [
    "from imblearn.datasets import make_imbalance\n",
    "\n",
    "x, y = make_imbalance(\n",
    "    wine.data, wine.target, sampling_strategy={0: 10, 1: 70, 2: 40}, random_state=42\n",
    ")\n",
    "show_class_balance(y, classes)"
   ]
  },
  {
   "cell_type": "markdown",
   "metadata": {},
   "source": [
    "### Изменение баланса класса сэмплированием"
   ]
  },
  {
   "cell_type": "markdown",
   "metadata": {},
   "source": [
    "Если в данных нехватка именно конкретного класса, то можно бороться с этим при помощи разных способов сэмплирования.\n",
    "\n",
    "Важно понимать, что в большинстве случаев данные, полученные таким способом, должны использоваться в качестве **обучающего набора**, но ни в коем случае не в качестве **валидации** или **теста**.\n"
   ]
  },
  {
   "cell_type": "markdown",
   "metadata": {},
   "source": [
    "#### Дублирование примеров меньшего класса (oversampling)"
   ]
  },
  {
   "cell_type": "markdown",
   "metadata": {},
   "source": [
    "Мы можем увеличить число объектов меньшего класса за счет дублирования."
   ]
  },
  {
   "cell_type": "markdown",
   "metadata": {},
   "source": [
    "<center><img src =\"https://edunet.kea.su/repo/EduNet-content/dev-2.0/L04/out/oversampling_scheme.png\" width=\"600\"></center>\n",
    "\n",
    "<center><em>Дублирование примеров меньшего класса</em></center>\n",
    "\n"
   ]
  },
  {
   "cell_type": "markdown",
   "metadata": {},
   "source": [
    "Такой oversampling может быть выполнен с помощью класса `RandomOverSampler` [🛠️[doc]](https://imbalanced-learn.org/stable/references/generated/imblearn.over_sampling.RandomOverSampler.html) из imbalanced-learn, как показано ниже:"
   ]
  },
  {
   "cell_type": "code",
   "execution_count": null,
   "metadata": {},
   "outputs": [],
   "source": [
    "from imblearn.over_sampling import RandomOverSampler\n",
    "\n",
    "ros = RandomOverSampler(random_state=0)\n",
    "x_ros, y_ros = ros.fit_resample(x, y)\n",
    "\n",
    "show_class_balance(y_ros, classes)"
   ]
  },
  {
   "cell_type": "markdown",
   "metadata": {},
   "source": [
    "#### Уменьшение числа примеров большего класса (undersampling)"
   ]
  },
  {
   "cell_type": "markdown",
   "metadata": {},
   "source": [
    "Аналогично, можно взять для обучения не всех представителей большего класса."
   ]
  },
  {
   "cell_type": "markdown",
   "metadata": {},
   "source": [
    "<center><img src =\"https://edunet.kea.su/repo/EduNet-content/dev-2.0/L04/out/undersampling_scheme.png\" width=\"600\"></center>\n",
    "\n",
    "<center><em>Удаление примеров преобладающего класса</em></center>"
   ]
  },
  {
   "cell_type": "code",
   "execution_count": null,
   "metadata": {},
   "outputs": [],
   "source": [
    "from imblearn.under_sampling import RandomUnderSampler\n",
    "\n",
    "rus = RandomUnderSampler(random_state=42)\n",
    "x_res, y_res = rus.fit_resample(x, y)\n",
    "\n",
    "show_class_balance(y_res, classes)"
   ]
  },
  {
   "cell_type": "markdown",
   "metadata": {},
   "source": [
    "Минус подхода: мы можем выбросить важных представителей большего класса, ответственных за существенное улучшение генерализации, и из-за этого качество модели существенно ухудшится.\n",
    "\n",
    "Выбрасывать объекты большего класса  можно разными способами. Например, кластеризовать объекты большего класса и брать по заданному количеству объектов из каждого класса."
   ]
  },
  {
   "cell_type": "markdown",
   "metadata": {},
   "source": [
    "#### Ансамбли + undersampling"
   ]
  },
  {
   "cell_type": "markdown",
   "metadata": {},
   "source": [
    "Можно использовать ансамбли вместе с undersampling. В этом случае мы можем, к примеру, делать сэмплирование только большего класса, а объекты минорного класса оставлять как есть."
   ]
  },
  {
   "cell_type": "markdown",
   "metadata": {},
   "source": [
    "<img src=\"https://edunet.kea.su/repo/EduNet-content/dev-2.0/L04/out/ensembles_and_undersampling.png\" width=\"700px\">"
   ]
  },
  {
   "cell_type": "markdown",
   "metadata": {},
   "source": [
    "Или просто сэмплировать объекты и того, и другого класса в равном количестве."
   ]
  },
  {
   "cell_type": "markdown",
   "metadata": {},
   "source": [
    "### Генерация синтетических данных\n",
    "\n",
    "Другой подход к решению этой проблемы — создание синтетических данных.\n",
    "\n"
   ]
  },
  {
   "cell_type": "markdown",
   "metadata": {},
   "source": [
    "#### SMOTE\n",
    "\n",
    "**Synthetic Minority Over-sampling Technique (SMOTE)** позволяет генерировать синтетические данные за счет реальных объектов из минорного класса.\n",
    "\n",
    "Алгоритм работает следующим образом:\n",
    "\n",
    "1. Для случайной точки из минорного класса выбираем $k$ ближайших соседей из того же класса.\n",
    "2. Для первого соседа проводим отрезок, соединяющий его и выбранную точку. На этом отрезке случайно выбираем точку.\n",
    "3. Эта точка — новый **синтетический** объект минорного класса.\n",
    "4. Повторяем процедуру для оставшихся соседей.\n"
   ]
  },
  {
   "cell_type": "markdown",
   "metadata": {},
   "source": [
    "<img src =\"https://edunet.kea.su/repo/EduNet-content/dev-2.0/L04/out/generate_synthetic_data.png\" width=\"700\">"
   ]
  },
  {
   "cell_type": "markdown",
   "metadata": {},
   "source": [
    "Число соседей, как и число раз, которое мы запускаем описанную выше процедуру, можно регулировать."
   ]
  },
  {
   "cell_type": "code",
   "execution_count": null,
   "metadata": {},
   "outputs": [],
   "source": [
    "from imblearn.over_sampling import SMOTE\n",
    "\n",
    "oversample = SMOTE()\n",
    "x_smote, y_smote = oversample.fit_resample(x, y)\n",
    "\n",
    "show_class_balance(y_smote, classes)"
   ]
  },
  {
   "cell_type": "markdown",
   "metadata": {},
   "source": [
    "Количество объектов каждого класса, которое должно получиться после генерации, можно задать явно:"
   ]
  },
  {
   "cell_type": "code",
   "execution_count": null,
   "metadata": {},
   "outputs": [],
   "source": [
    "over = SMOTE(sampling_strategy={0: 20, 1: 70, 2: 70})\n",
    "x_smote, y_smote = over.fit_resample(x, y)\n",
    "\n",
    "show_class_balance(y_smote, classes)"
   ]
  },
  {
   "cell_type": "markdown",
   "metadata": {},
   "source": [
    "[[blog] ✏️ SMOTE for Imbalanced Classification with Python](https://machinelearningmastery.com/smote-oversampling-for-imbalanced-classification/) — подробнее про использование пакета."
   ]
  },
  {
   "cell_type": "markdown",
   "metadata": {},
   "source": [
    "### Метрики качества на несбалансированных данных"
   ]
  },
  {
   "cell_type": "markdown",
   "metadata": {},
   "source": [
    "Обращайте внимание на то, какие метрики вы используете. При решении задачи классификации часто используется accuracy (точность), равная доле правильно классифицированных объектов. Эта метрика позволяет адекватно оценить результат классификации в случае сбалансированных классов. В случае дисбаланса классов данная метрика может выдать обманчиво хороший результат.\n",
    "\n",
    "Пример: датасет, в котором 95% объектов относятся к классу 0 и 5% к классу 1."
   ]
  },
  {
   "cell_type": "code",
   "execution_count": null,
   "metadata": {},
   "outputs": [],
   "source": [
    "from sklearn.datasets import make_classification\n",
    "from collections import Counter\n",
    "import numpy as np\n",
    "import matplotlib.pyplot as plt\n",
    "\n",
    "\n",
    "x, y = make_classification(\n",
    "    n_samples=1000,\n",
    "    n_features=2,\n",
    "    n_redundant=0,\n",
    "    n_clusters_per_class=1,\n",
    "    weights=[0.95],\n",
    "    flip_y=0,\n",
    "    random_state=42,\n",
    ")\n",
    "\n",
    "counter = Counter(y)\n",
    "print(\"Class distribution \", Counter(y))\n",
    "\n",
    "for label, _ in counter.items():\n",
    "    row_ix = np.where(y == label)[0]\n",
    "    plt.scatter(x[row_ix, 0], x[row_ix, 1], label=str(label))\n",
    "plt.legend()\n",
    "plt.show()"
   ]
  },
  {
   "cell_type": "markdown",
   "metadata": {},
   "source": [
    "И модель, которая для всех данных выдает класс 0:"
   ]
  },
  {
   "cell_type": "code",
   "execution_count": null,
   "metadata": {},
   "outputs": [],
   "source": [
    "class DummyModel:\n",
    "    def predict(self, x):\n",
    "        return np.zeros(x.shape[0])  # always predict class 0"
   ]
  },
  {
   "cell_type": "markdown",
   "metadata": {},
   "source": [
    "Такая модель будет иметь $accuracy = 0.95$, хотя не выдает никакой полезной информации:\n",
    "\n"
   ]
  },
  {
   "cell_type": "code",
   "execution_count": null,
   "metadata": {},
   "outputs": [],
   "source": [
    "from sklearn.metrics import accuracy_score\n",
    "\n",
    "dummy_model = DummyModel()\n",
    "y_pred = dummy_model.predict(x)\n",
    "\n",
    "accuracy = accuracy_score(y, y_pred)\n",
    "print(\"Accuracy\", accuracy)"
   ]
  },
  {
   "cell_type": "markdown",
   "metadata": {},
   "source": [
    "Для несбалансированных данных лучше выбирать [F1 Score 🛠️[doc]](https://scikit-learn.org/stable/modules/generated/sklearn.metrics.f1_score.html?highlight=f1_score#sklearn.metrics.f1_score),  [MCC 🛠️[doc]](https://scikit-learn.org/stable/modules/generated/sklearn.metrics.matthews_corrcoef.html?highlight=matthews%20correlation%20coefficient#sklearn.metrics.matthews_corrcoef) (Matthews correlation coefficient, коэффициент корреляции Мэтьюса) или [balanced accuracy 🛠️[doc]](https://scikit-learn.org/stable/modules/generated/sklearn.metrics.balanced_accuracy_score.html#sklearn.metrics.balanced_accuracy_score) (среднее между recall разных классов)."
   ]
  },
  {
   "cell_type": "code",
   "execution_count": null,
   "metadata": {},
   "outputs": [],
   "source": [
    "from sklearn.metrics import f1_score, matthews_corrcoef, balanced_accuracy_score\n",
    "\n",
    "print(\"F1\", f1_score(y, y_pred))\n",
    "print(\"MCC\", matthews_corrcoef(y, y_pred))\n",
    "print(\"Balanced accuracy\", balanced_accuracy_score(y, y_pred))"
   ]
  },
  {
   "cell_type": "markdown",
   "metadata": {},
   "source": [
    "Эти метрики более адекватно оценивают качество модели при наличии дисбаланса классов, и в данном случае отражают отсутствие связи предсказаний с данными на входе модели."
   ]
  },
  {
   "cell_type": "markdown",
   "metadata": {},
   "source": [
    "## Обнаружение аномалий"
   ]
  },
  {
   "cell_type": "markdown",
   "metadata": {},
   "source": [
    "В случае сильно несбалансированных наборов данных стоит задуматься, могут ли такие примеры рассматриваться как аномалия (выброс) или нет. Если такое событие и впрямь может считаться аномальным, мы можем использовать такие модели, как `OneClassSVM`, методы кластеризации или методы обнаружения гауссовских аномалий.\n",
    "\n",
    "Эти методы требуют изменения взгляда на задачу: мы будем рассматривать аномалии как отдельный класс выбросов. Это может помочь нам найти новые способы разделения и классификации.\n",
    "\n",
    "Пусть мы хотим отличать фрукты по каким-то признакам, скажем, по форме и цвету, и мы имеем выборку, где много яблок и груш. Задача обнаружения аномалий возникает, если мы предполагаем, что среди яблок и груш может вдруг возникнуть клубника и нам нужно отнести ее не к одному из известных классов, а выделить в отдельный, отличающийся класс."
   ]
  },
  {
   "cell_type": "markdown",
   "metadata": {},
   "source": [
    "<img src=\"https://edunet.kea.su/repo/EduNet-content/dev-2.0/L04/out/anomaly_fruits.png\" width=\"800\"></img>"
   ]
  },
  {
   "cell_type": "markdown",
   "metadata": {},
   "source": [
    "Проблемой при работе с аномалиями является то, что аномальных значений может быть очень мало или вообще не быть. В таком случае алгоритм учит паттерны нормального поведения и реагирует на отличия от паттернов.\n",
    "\n",
    "Разберем примеры обнаружения аномалий с помощью трех алгоритмов из библиотеки Scikit-Learn (там можно найти еще много различных алгоритмов).\n",
    "\n",
    "Создадим датасет из двух кластеров и случайных значений."
   ]
  },
  {
   "cell_type": "code",
   "execution_count": null,
   "metadata": {},
   "outputs": [],
   "source": [
    "import numpy as np\n",
    "\n",
    "rng = np.random.RandomState(42)\n",
    "\n",
    "# Train\n",
    "x = 0.3 * rng.randn(100, 2)  # 100 2D points\n",
    "x_train = np.r_[x + 2, x - 2]  # split into two clusters\n",
    "\n",
    "# Test norlmal\n",
    "x = 0.3 * rng.randn(20, 2)  # 20 2D points\n",
    "x_test_normal = np.r_[x + 2, x - 2]  # split into two clusters\n",
    "\n",
    "# Test outliers\n",
    "x_test_outliers = rng.uniform(low=-4, high=4, size=(20, 2))"
   ]
  },
  {
   "cell_type": "markdown",
   "metadata": {},
   "source": [
    "Напишем функцию визуализации, которая будет изображать созданный датасет на рисунке слева, а результат поиска аномалий — на рисунке справа."
   ]
  },
  {
   "cell_type": "code",
   "execution_count": null,
   "metadata": {},
   "outputs": [],
   "source": [
    "def plot_outliers(x_train, x_test_normal, x_test_outliers, model=None):\n",
    "    fig, (plt_data, plt_model) = plt.subplots(1, 2, figsize=(12, 6))\n",
    "\n",
    "    plt_data.set_title(\"Created Dataset (real labels)\")\n",
    "    plot_train = plt_data.scatter(\n",
    "        x_train[:, 0], x_train[:, 1], c=\"white\", s=40, edgecolor=\"k\"\n",
    "    )\n",
    "    plot_test_normal = plt_data.scatter(\n",
    "        x_test_normal[:, 0], x_test_normal[:, 1], c=\"green\", s=40, edgecolor=\"k\"\n",
    "    )\n",
    "    plot_test_outliers = plt_data.scatter(\n",
    "        x_test_outliers[:, 0], x_test_outliers[:, 1], c=\"red\", s=40, edgecolor=\"k\"\n",
    "    )\n",
    "\n",
    "    plt_data.set_xlim((-5, 5))\n",
    "    plt_data.set_ylim((-5, 5))\n",
    "\n",
    "    plt_data.legend(\n",
    "        [plot_train, plot_test_normal, plot_test_outliers],\n",
    "        [\"train\", \"test normal\", \"test outliers\"],\n",
    "        loc=\"lower right\",\n",
    "    )\n",
    "\n",
    "    if model:\n",
    "        plt_model.set_title(\"Model Results\")\n",
    "        # plot decision function\n",
    "        xx, yy = np.meshgrid(np.linspace(-5, 5, 50), np.linspace(-5, 5, 50))\n",
    "        Z = model.decision_function(np.c_[xx.ravel(), yy.ravel()])\n",
    "        Z = Z.reshape(xx.shape)\n",
    "\n",
    "        plt_model.contourf(xx, yy, Z, cmap=plt.cm.Blues_r)\n",
    "\n",
    "        # plot prediction\n",
    "        full_data = np.concatenate((x_train, x_test_normal, x_test_outliers), axis=0)\n",
    "        predicted = model.predict(full_data)\n",
    "\n",
    "        anom_index = np.where(predicted == -1)\n",
    "        anom_values = full_data[anom_index]\n",
    "\n",
    "        plot_all_data = plt_model.scatter(\n",
    "            full_data[:, 0], full_data[:, 1], c=\"white\", s=40, edgecolor=\"k\"\n",
    "        )\n",
    "\n",
    "        plot_anom_data = plt_model.scatter(\n",
    "            anom_values[:, 0], anom_values[:, 1], c=\"red\", s=40, marker=\"x\"\n",
    "        )\n",
    "        plt_model.legend(\n",
    "            [plot_all_data, plot_anom_data],\n",
    "            [\"normal\", \"outliers\"],\n",
    "            loc=\"lower right\",\n",
    "        )\n",
    "    plt.show()"
   ]
  },
  {
   "cell_type": "markdown",
   "metadata": {},
   "source": [
    "Посмотрим, как работает на этих данных алгоритм [OneClassSVM 🛠️[doc]](https://scikit-learn.org/stable/modules/generated/sklearn.svm.OneClassSVM.html).\n",
    "\n",
    "Идея алгоритма состоит в поиске функции, которая положительна для областей с высокой плотностью и отрицательна для областей с малой плотностью.\n",
    "\n",
    "Подробнее об алгоритме:\n",
    "\n",
    "[[article] 🎓 Support Vector Method for Novelty Detection](https://proceedings.neurips.cc/paper/1999/file/8725fb777f25776ffa9076e44fcfd776-Paper.pdf)\n",
    "\n"
   ]
  },
  {
   "cell_type": "code",
   "execution_count": null,
   "metadata": {},
   "outputs": [],
   "source": [
    "from sklearn.svm import OneClassSVM\n",
    "\n",
    "gamma = 2.0  # Kernel coefficient\n",
    "contamination = 0.05  # threshold\n",
    "\n",
    "model = OneClassSVM(gamma=gamma, kernel=\"rbf\", nu=contamination)\n",
    "model.fit(x_train)\n",
    "\n",
    "plot_outliers(x_train, x_test_normal, x_test_outliers, model)"
   ]
  },
  {
   "cell_type": "markdown",
   "metadata": {},
   "source": [
    "Посмотрим, как на этих же данных работает алгоритм [Isolation Forest 🛠️[doc]](https://scikit-learn.org/stable/modules/generated/sklearn.ensemble.IsolationForest.html).\n",
    "\n",
    "Isolation Forest состоит из деревьев, которые «изолируют» (пытаются отделить от остальной выборки) наблюдения, случайным образом выбирая признак и случайное значение порога для этого признака (между max и min значениями признака). Такой алгоритм чаще и проще отделяет значения аномалий. Если построить по такому принципу множество деревьев, то значения, которые чаще других отделяются раньше, будут аномалиями.\n",
    "\n",
    "На практике часто используют более продвинутую версию [Extended Isolation Forest\n",
    "🐾[git]](https://github.com/sahandha/eif).\n"
   ]
  },
  {
   "cell_type": "code",
   "execution_count": null,
   "metadata": {},
   "outputs": [],
   "source": [
    "from sklearn.ensemble import IsolationForest\n",
    "\n",
    "n_estimators = 200\n",
    "contamination = 0.05  # threshold\n",
    "\n",
    "model = IsolationForest(\n",
    "    n_estimators=n_estimators, contamination=contamination, random_state=rng\n",
    ")\n",
    "model.fit(x_train)\n",
    "\n",
    "plot_outliers(x_train, x_test_normal, x_test_outliers, model)"
   ]
  },
  {
   "cell_type": "markdown",
   "metadata": {},
   "source": [
    "Последним алгоритмом, на который мы посмотрим, будет [Local Outlier Factor 🛠️[doc]](https://scikit-learn.org/stable/modules/generated/sklearn.neighbors.LocalOutlierFactor.html).\n",
    "\n",
    "В нем используется метод k-NN. Расстояние до ближайших соседей используется для оценки расположения точек. Если соседи далеко, то точка с большой вероятностью является аномалией."
   ]
  },
  {
   "cell_type": "code",
   "execution_count": null,
   "metadata": {},
   "outputs": [],
   "source": [
    "from sklearn.neighbors import LocalOutlierFactor\n",
    "\n",
    "n_neighbors = 10\n",
    "contamination = 0.05  # threshold\n",
    "\n",
    "model = LocalOutlierFactor(\n",
    "    n_neighbors=n_neighbors, novelty=True, contamination=contamination\n",
    ")\n",
    "model.fit(x_train)\n",
    "\n",
    "plot_outliers(x_train, x_test_normal, x_test_outliers, model)"
   ]
  },
  {
   "cell_type": "markdown",
   "metadata": {},
   "source": [
    "### Оценка качества в задаче обнаружения аномалий"
   ]
  },
  {
   "cell_type": "markdown",
   "metadata": {},
   "source": [
    "Отдельное время стоит посвятить подбору порога для алгоритма.\n",
    "\n",
    "Порог является граничным значением, выше которого данные считаются аномальными. Выбор порога — это компромиссное решение: слишком низкий порог может привести к ложным срабатываниям, тогда как слишком высокий порог может пропустить аномалии. Поэтому выбор порога напрямую связан с задачей и требованиям к детекции.\n",
    "\n",
    "Построим матрицы ошибок (Confusion matrix) для разных порогов:\n"
   ]
  },
  {
   "cell_type": "code",
   "execution_count": null,
   "metadata": {},
   "outputs": [],
   "source": [
    "full_data = np.concatenate((x_train, x_test_normal, x_test_outliers), axis=0)\n",
    "predicted = model.predict(full_data)\n",
    "\n",
    "# change threshold to 0.005\n",
    "model_2 = LocalOutlierFactor(n_neighbors=10, novelty=True, contamination=0.005)\n",
    "model_2.fit(x_train)\n",
    "predicted_2 = model_2.predict(full_data)\n",
    "\n",
    "y_true = np.ones(full_data.shape[0])  # create true labels\n",
    "y_true[-x_test_outliers.shape[0] :] = -1  # last 20 is anomaly"
   ]
  },
  {
   "cell_type": "code",
   "execution_count": null,
   "metadata": {},
   "outputs": [],
   "source": [
    "from sklearn.metrics import ConfusionMatrixDisplay\n",
    "\n",
    "fig = plt.figure(figsize=(10, 6))\n",
    "ax1 = fig.add_subplot(121)\n",
    "ax2 = fig.add_subplot(122)\n",
    "ConfusionMatrixDisplay.from_predictions(y_true, predicted, ax=ax1, colorbar=False)\n",
    "ConfusionMatrixDisplay.from_predictions(y_true, predicted_2, ax=ax2, colorbar=False)\n",
    "ax1.set_title(\"threshold = 0.05\")\n",
    "ax2.set_title(\"threshold = 0.005\")\n",
    "plt.subplots_adjust(wspace=0.3)\n",
    "plt.show()"
   ]
  },
  {
   "cell_type": "markdown",
   "metadata": {},
   "source": [
    "Еще одна идея улучшения качества детекции аномалий — это агрегация результатов разных алгоритмов, т. е. создание ансамбля."
   ]
  },
  {
   "cell_type": "markdown",
   "metadata": {},
   "source": [
    "# Кластеризация"
   ]
  },
  {
   "cell_type": "markdown",
   "metadata": {},
   "source": [
    "Когда говорят про задачу кластеризации, подразумевают примерно следующее:\n",
    "\n",
    "У нас есть неразмеченные данные, и мы хотим поделить эти данные по каким-то группам, где в каждой группе будут объекты, похожие друг на друга. Под похожестью как правило понимается выбранная метрика расстояния."
   ]
  },
  {
   "cell_type": "markdown",
   "metadata": {},
   "source": [
    "<img src =\"https://edunet.kea.su/repo/EduNet-content/dev-2.0/L04/out/clustering_task.png\" width=\"700\">"
   ]
  },
  {
   "cell_type": "markdown",
   "metadata": {},
   "source": [
    "Основные цели кластеризации:\n",
    "\n",
    "* Исследование данных. Мы хотим понять, какие кластеры являются ярко выраженными, и сделать дополнительные выводы о наших данных.\n",
    "\n",
    "* Нахождение аномалий/выбросов. Мы можем искать объекты, которые сильно отличаются от всех остальных и не принадлежат никакому кластеру.\n",
    "\n",
    "* Создание дополнительных признаков. Кластер для объекта уже является дополнительным категориальным признаком.\n",
    "\n",
    "* Непосредственно классификация. Например, можем считать получившиеся кластеры классами и классифицировать объекты таким образом."
   ]
  },
  {
   "cell_type": "markdown",
   "metadata": {},
   "source": [
    "Алгоритмов кластеризации существует большое количество, и все работают по-разному, имеют разные параметры для настройки. Мы рассмотрим два наиболее популярных: [K-Means 🛠️[doc]](https://scikit-learn.org/stable/modules/generated/sklearn.cluster.KMeans.html) и [DBSCAN 🛠️[doc]](https://scikit-learn.org/stable/modules/generated/sklearn.cluster.DBSCAN.html)."
   ]
  },
  {
   "cell_type": "markdown",
   "metadata": {},
   "source": [
    "<center><img src =\"https://edunet.kea.su/repo/EduNet-web_dependencies/dev-2.0/L04/sphx_glr_plot_cluster_comparison.png\" width=\"800\"></center>\n",
    "\n",
    "<center><em>Source: <a href=\"https://scikit-learn.org/stable/modules/clustering.html#overview-of-clustering-methods\"> Overview of clustering methods</a></em></center>"
   ]
  },
  {
   "cell_type": "markdown",
   "metadata": {},
   "source": [
    "## Алгоритм K-Means"
   ]
  },
  {
   "cell_type": "markdown",
   "metadata": {},
   "source": [
    "<img src =\"https://edunet.kea.su/repo/EduNet-content/dev-2.0/L04/out/kmeans.png\" width=\"750\">"
   ]
  },
  {
   "cell_type": "markdown",
   "metadata": {},
   "source": [
    "1. Выбираем количество кластеров $k$, которое нам кажется оптимальным для наших данных.\n",
    "2. Определяем начальное положение центроидов кластеров, случайным образом или по какому-либо правилу.\n",
    "3. Для каждой точки нашего набора данных считаем расстояние до центроидов. Относим точки к ближайшим центроидам.\n",
    "4. Перемещаем каждый центроид в центр получившихся кластеров.\n",
    "5. Повторяем шаги 3–4 до тех пор, пока центроиды не перестанут значительно сдвигаться.\n"
   ]
  },
  {
   "cell_type": "markdown",
   "metadata": {},
   "source": [
    "[[demo] 🎮 Интерактивная визуализация алгоритма K-Means](https://www.naftaliharris.com/blog/visualizing-k-means-clustering/)"
   ]
  },
  {
   "cell_type": "markdown",
   "metadata": {},
   "source": [
    "Особенности K-Means:\n",
    "\n",
    "* Сильно зависит от параметра $k$ и начального положения центроидов.\n",
    "* Кластеры получаются гиперсферическими, с более сложными формами алгоритм не справляется.\n",
    "* Все точки относятся к какому-то кластеру, явных выбросов нет.\n",
    "\n"
   ]
  },
  {
   "cell_type": "code",
   "execution_count": null,
   "metadata": {},
   "outputs": [],
   "source": [
    "import matplotlib.pyplot as plt\n",
    "import seaborn as sns\n",
    "from sklearn.cluster import KMeans\n",
    "from sklearn.datasets import make_blobs, make_moons\n",
    "\n",
    "x_blobs, _ = make_blobs(n_samples=600, n_features=2, centers=3, random_state=42)\n",
    "x_moons, _ = make_moons(n_samples=600, noise=0.05, random_state=42)\n",
    "\n",
    "\n",
    "def plot_kmeans_clustering(ax, data, n_clusters, title):\n",
    "    kmeans = KMeans(n_clusters=n_clusters, n_init=10)\n",
    "    kmeans.fit(data)\n",
    "    kmeans_labels = kmeans.predict(data)\n",
    "\n",
    "    sns.scatterplot(\n",
    "        x=data[:, 0], y=data[:, 1], hue=kmeans_labels, palette=\"Set2\", ax=ax\n",
    "    )\n",
    "    ax.scatter(\n",
    "        kmeans.cluster_centers_[:, 0],\n",
    "        kmeans.cluster_centers_[:, 1],\n",
    "        s=100,\n",
    "        c=\"red\",\n",
    "        marker=\"o\",\n",
    "    )\n",
    "    ax.set_title(title)\n",
    "    ax.set_xlabel(\"Feature 1\")\n",
    "    ax.set_ylabel(\"Feature 2\")\n",
    "\n",
    "\n",
    "fig, axes = plt.subplots(1, 2, figsize=(12, 6))\n",
    "plot_kmeans_clustering(\n",
    "    axes[0], x_blobs, n_clusters=3, title=\"KMeans Clustering - Blobs\"\n",
    ")\n",
    "plot_kmeans_clustering(\n",
    "    axes[1], x_moons, n_clusters=2, title=\"KMeans Clustering - Moons\"\n",
    ")\n",
    "\n",
    "plt.tight_layout()\n",
    "plt.show()"
   ]
  },
  {
   "cell_type": "markdown",
   "metadata": {},
   "source": [
    "## Алгоритм DBSCAN"
   ]
  },
  {
   "cell_type": "markdown",
   "metadata": {},
   "source": [
    "<img src =\"https://edunet.kea.su/repo/EduNet-content/dev-2.0/L04/out/dbscan.png\" width=\"750\">"
   ]
  },
  {
   "cell_type": "markdown",
   "metadata": {},
   "source": [
    "DBSCAN (Density-based spatial clustering of applications with noise, плотностный алгоритм пространственной кластеризации с присутствием шума), как следует из названия, оперирует плотностью данных. На вход требуется матрица близости и два параметра:\n",
    "1. `eps` — радиус $\\varepsilon$-окрестности, в которой мы ищем похожие объекты (радиус кружков на картинке).\n",
    "2. `min_samples` — количество соседей, которое должен иметь объект, чтобы не быть одиночкой. У нас `min_samples=3`.\n"
   ]
  },
  {
   "cell_type": "markdown",
   "metadata": {},
   "source": [
    "Алгоритм выглядит следующим образом:\n",
    "1. Берем случайную точку из данных.\n",
    "2. Если рядом с ней меньше трёх точек (количество соседей), переносим ее в список возможных одиночек и выбираем другую точку.\n",
    "\n",
    "Иначе:\n",
    "3. Исключаем ее из списка точек, которые надо посмотреть.\n",
    "4. Ставим ей зеленую метку и создаем новый кластер, к которому относится пока только одна точка.\n",
    "5. Просматриваем всех ее соседей. Если ее сосед уже в списке потенциальных одиночек и рядом с ним мало других точек, то перед нами край кластера. Для простоты можно сразу пометить его жёлтым флагом, присоединить к группе и продолжить обход. Если сосед тоже оказывается «зелёным», то он не стартует новую группу, а присоединяется к уже созданной. Кроме этого мы добавляем в список обхода соседей соседа. Повторяем этот пункт, пока список обхода не окажется пуст.\n",
    "6. Повторяем шаги 1–5, пока так или иначе не посмотрим все точки.\n",
    "7. Разбираемся со списком одиночек. Если мы уже раскидали всех краевых, то в нём остались только выбросы-одиночки — можно сразу закончить. Если нет, то нужно как-нибудь распределить точки, оставшиеся в списке."
   ]
  },
  {
   "cell_type": "markdown",
   "metadata": {},
   "source": [
    "[[blog] ✏️ Подробнее про DBSCAN](https://habr.com/ru/post/322034/)\n",
    "\n",
    "[[demo] 🎮 Интерактивная визуализация алгоритма DBSCAN](https://www.naftaliharris.com/blog/visualizing-dbscan-clustering/)"
   ]
  },
  {
   "cell_type": "code",
   "execution_count": null,
   "metadata": {},
   "outputs": [],
   "source": [
    "from sklearn.cluster import DBSCAN\n",
    "\n",
    "\n",
    "def plot_dbscan_clustering(ax, data, eps, min_samples, title):\n",
    "    dbscan = DBSCAN(eps=eps, min_samples=min_samples)\n",
    "    dbscan_labels = dbscan.fit_predict(data)\n",
    "\n",
    "    sns.scatterplot(\n",
    "        x=data[:, 0], y=data[:, 1], hue=dbscan_labels, palette=\"Set2\", ax=ax\n",
    "    )\n",
    "    ax.set_title(title)\n",
    "    ax.set_xlabel(\"Feature 1\")\n",
    "    ax.set_ylabel(\"Feature 2\")\n",
    "\n",
    "\n",
    "fig, axes = plt.subplots(1, 2, figsize=(12, 6))\n",
    "plot_dbscan_clustering(\n",
    "    axes[0], x_blobs, eps=0.5, min_samples=5, title=\"DBSCAN Clustering - Blobs\"\n",
    ")\n",
    "plot_dbscan_clustering(\n",
    "    axes[1], x_moons, eps=0.15, min_samples=5, title=\"DBSCAN Clustering - Moons\"\n",
    ")\n",
    "\n",
    "plt.tight_layout()\n",
    "plt.show()"
   ]
  },
  {
   "cell_type": "markdown",
   "metadata": {},
   "source": [
    "# Кодирование признаков\n"
   ]
  },
  {
   "cell_type": "markdown",
   "metadata": {},
   "source": [
    "\n",
    "\n",
    "**Кодирование признаков** &mdash; процесс описания данных в численном представлении.\n",
    "\n",
    "\n",
    "\n",
    "\n",
    "\n"
   ]
  },
  {
   "cell_type": "markdown",
   "metadata": {},
   "source": [
    "Изначально объекты в нашем датасете могут быть представлены в виде описаний, которые не являются численными или требуют некоторой предобработки. Например:\n",
    "*   веб-страницы;\n",
    "*   тексты;\n",
    "*   формулы химических веществ;\n",
    "*   строки со значениями и единицами измерений (сантиметры, метры, и т.д.) и др.\n",
    "\n",
    "Большая часть моделей не способна работать с такими представлениями в сыром виде и просто не запустится или будет выдавать неадекватные результаты."
   ]
  },
  {
   "cell_type": "markdown",
   "metadata": {},
   "source": [
    "<img src =\"https://edunet.kea.su/repo/EduNet-content/dev-2.0/L04/out/process_of_generation_features.png\" width=\"700\">"
   ]
  },
  {
   "cell_type": "markdown",
   "metadata": {},
   "source": [
    "**Пример на Titanic**\n",
    "\n",
    "Для иллюстрации будут использованы примеры из книги \"[Real-World Machine Learning 📚[book]](https://www.manning.com/books/real-world-machine-learning)\" из открытого [репозитория 🐾[git]](https://github.com/brinkar/real-world-machine-learning) и датасет [Titanic 🛠️[doc]](https://www.kaggle.com/datasets/brendan45774/test-file).\n",
    "\n",
    "Данный датасет представляет собой список пассажиров судна.\n",
    "В отличие от датасетов, с которыми мы работали раньше, данные в нем не предобработаны и в сыром виде не могут быть использованы для обучения модели."
   ]
  },
  {
   "cell_type": "code",
   "execution_count": null,
   "metadata": {},
   "outputs": [],
   "source": [
    "import pandas as pd\n",
    "\n",
    "# Download the data and save it in a variable called data\n",
    "dataset = pd.read_csv(\n",
    "    \"https://edunet.kea.su/repo/EduNet-web_dependencies/datasets/titanic.csv\"\n",
    ")  # Load the data using pandas\n",
    "dataset[:5]  # Show the first 5 lines"
   ]
  },
  {
   "cell_type": "markdown",
   "metadata": {},
   "source": [
    "*  SibSp  == Number of Siblings/Spouses Aboard — количество братьев/сестер/супругов на борту Титаника.\n",
    "*  Parch == Number of Parents/Children Aboard — количество родителей/детей на борту.\n",
    "*  Embarked == Port of Embarkation (C = Cherbourg; Q = Queenstown; S = Southampton) — порт посадки."
   ]
  },
  {
   "cell_type": "markdown",
   "metadata": {},
   "source": [
    "Если мы попытаемся обучить модель на таких данных, то у нас ничего не выйдет."
   ]
  },
  {
   "cell_type": "code",
   "execution_count": null,
   "metadata": {},
   "outputs": [],
   "source": [
    "from sklearn.ensemble import RandomForestClassifier\n",
    "\n",
    "x = dataset.drop(\"Survived\", axis=1)  # drop target\n",
    "y = dataset[\"Survived\"]  # target\n",
    "\n",
    "rf = RandomForestClassifier(random_state=42)\n",
    "\n",
    "try:\n",
    "    rf.fit(x, y)\n",
    "except ValueError as e:\n",
    "    print(e)"
   ]
  },
  {
   "cell_type": "markdown",
   "metadata": {},
   "source": [
    "Посмотрим на информацию о признаках:"
   ]
  },
  {
   "cell_type": "code",
   "execution_count": null,
   "metadata": {},
   "outputs": [],
   "source": [
    "dataset.info()"
   ]
  },
  {
   "cell_type": "markdown",
   "metadata": {},
   "source": [
    "## Типы признаков"
   ]
  },
  {
   "cell_type": "markdown",
   "metadata": {},
   "source": [
    "Традиционно признаки делятся на вещественные и категориальные."
   ]
  },
  {
   "cell_type": "markdown",
   "metadata": {},
   "source": [
    "### Вещественные"
   ]
  },
  {
   "cell_type": "markdown",
   "metadata": {},
   "source": [
    "Вещественные признаки бывают:\n",
    "\n",
    " * дискретные. Например, число лайков от пользователей\n"
   ]
  },
  {
   "cell_type": "markdown",
   "metadata": {},
   "source": [
    "<img src =\"https://edunet.kea.su/repo/EduNet-content/dev-2.0/L04/out/discrete_features_social_media_likes.jpg\" width=\"1000\">"
   ]
  },
  {
   "cell_type": "markdown",
   "metadata": {},
   "source": [
    "В датасете Титаник таким параметром будет SibSp — количество братьев/сестер/супругов на борту."
   ]
  },
  {
   "cell_type": "code",
   "execution_count": null,
   "metadata": {},
   "outputs": [],
   "source": [
    "print(dataset[\"SibSp\"].unique())"
   ]
  },
  {
   "cell_type": "markdown",
   "metadata": {},
   "source": [
    "Или Parch — количество родителей/детей на борту."
   ]
  },
  {
   "cell_type": "code",
   "execution_count": null,
   "metadata": {},
   "outputs": [],
   "source": [
    "print(dataset[\"Parch\"].unique())"
   ]
  },
  {
   "cell_type": "markdown",
   "metadata": {},
   "source": [
    " * непрерывные. Например, температура"
   ]
  },
  {
   "cell_type": "markdown",
   "metadata": {},
   "source": [
    "<img src =\"https://edunet.kea.su/repo/EduNet-content/dev-2.0/L04/out/continuous_features_thermometer.png\" width=\"600\">"
   ]
  },
  {
   "cell_type": "markdown",
   "metadata": {},
   "source": [
    "Разделение условное. Тот же возраст можно посчитать и дискретной переменной (пользователь всегда нам сообщает свои полные года), и непрерывной (возраст можно считать с любой точностью)\n",
    "\n",
    "Иногда вещественные признаки делят на относительные (считаются относительно чего-то, уже нормированные и т.д.) и интервальные."
   ]
  },
  {
   "cell_type": "code",
   "execution_count": null,
   "metadata": {},
   "outputs": [],
   "source": [
    "dataset[[\"Age\", \"Fare\"]].head()"
   ]
  },
  {
   "cell_type": "markdown",
   "metadata": {},
   "source": [
    "Попробуем обучить модель на вещественных признаках. PassengerId удалим, т.к. этот признак может приводить к утечке в данных."
   ]
  },
  {
   "cell_type": "code",
   "execution_count": null,
   "metadata": {},
   "outputs": [],
   "source": [
    "from sklearn.model_selection import train_test_split\n",
    "\n",
    "x = dataset.drop(columns=[\"Survived\", \"PassengerId\"])  # drop target and id\n",
    "y = dataset[\"Survived\"]  # target\n",
    "\n",
    "x_train, x_test, y_train, y_test = train_test_split(\n",
    "    x, y, test_size=0.2, random_state=42\n",
    ")\n",
    "# drop categorical\n",
    "x_train_working = x_train.drop(\n",
    "    columns=[\"Pclass\", \"Name\", \"Sex\", \"Ticket\", \"Cabin\", \"Embarked\"]\n",
    ")\n",
    "x_test_working = x_test.drop(\n",
    "    columns=[\"Pclass\", \"Name\", \"Sex\", \"Ticket\", \"Cabin\", \"Embarked\"]\n",
    ")\n",
    "\n",
    "rf = RandomForestClassifier(random_state=42)\n",
    "\n",
    "try:\n",
    "    rf.fit(x_train_working, y_train)\n",
    "except ValueError as e:\n",
    "    print(e)\n",
    "\n",
    "x_train_working.head()"
   ]
  },
  {
   "cell_type": "markdown",
   "metadata": {},
   "source": [
    "Проблема в том, что Age указан только для 714 пассажиров из 891. Его мы пока тоже удалим."
   ]
  },
  {
   "cell_type": "code",
   "execution_count": null,
   "metadata": {},
   "outputs": [],
   "source": [
    "from sklearn.metrics import accuracy_score\n",
    "\n",
    "x_train_working = x_train_working.drop(columns=[\"Age\"])\n",
    "x_test_working = x_test_working.drop(columns=[\"Age\"])\n",
    "\n",
    "rf = RandomForestClassifier(random_state=42)\n",
    "\n",
    "rf.fit(x_train_working, y_train)\n",
    "y_pred = rf.predict(x_test_working)\n",
    "\n",
    "print(accuracy_score(y_test, y_pred))"
   ]
  },
  {
   "cell_type": "markdown",
   "metadata": {},
   "source": [
    "Точность предсказания 67.6%. Для улучшения качества попробуем добавить другие признаки."
   ]
  },
  {
   "cell_type": "markdown",
   "metadata": {},
   "source": [
    "### Категориальные"
   ]
  },
  {
   "cell_type": "markdown",
   "metadata": {},
   "source": [
    "Значение —  принадлежность к какой-то из категорий. Традиционно делятся на сильно отличающиеся по свойствам:\n",
    " * упорядоченные (ординальные) — имееют порядок (иерархию), для каждой пары категорий можем сказать, какая больше, а какая меньше. Например, класс места или размер одежды."
   ]
  },
  {
   "cell_type": "markdown",
   "metadata": {},
   "source": [
    "<img src =\"https://edunet.kea.su/repo/EduNet-content/dev-2.0/L04/out/categorical_ordered_features.png\" width=\"600\">"
   ]
  },
  {
   "cell_type": "markdown",
   "metadata": {},
   "source": [
    "В датасете Титаник таким признаком будет класс. Мы можем сказать, что первый класс лучше третьего, но не можем  сказать, что сумма первого и второго даст третий."
   ]
  },
  {
   "cell_type": "code",
   "execution_count": null,
   "metadata": {},
   "outputs": [],
   "source": [
    "print(dataset[\"Pclass\"].unique())"
   ]
  },
  {
   "cell_type": "markdown",
   "metadata": {},
   "source": [
    " * неупорядоченные (номинальные) &mdash; категории между собой несравнимы. Обычно нельзя сказать, что желтая футболка больше синей или зеленая лучше, чем фиолетовая."
   ]
  },
  {
   "cell_type": "markdown",
   "metadata": {},
   "source": [
    "<img src =\"https://edunet.kea.su/repo/EduNet-content/dev-2.0/L04/out/categorical_unordered_features.png\" width=\"600\">"
   ]
  },
  {
   "cell_type": "markdown",
   "metadata": {},
   "source": [
    "Важно понимать, что могут быть ситуации, когда один и тот же признак может быть упорядоченным или неупорядоченным, в зависимости от задачи и наших знаний о ней. Например, цвет в спектре определяется длиной волны, и в физической задаче цвета можно упорядочить.\n",
    "\n",
    "В датасете Титаник таким признаком является Embarked (порт посадки)."
   ]
  },
  {
   "cell_type": "code",
   "execution_count": null,
   "metadata": {},
   "outputs": [],
   "source": [
    "print(dataset[\"Embarked\"].unique())\n",
    "# C = Cherbourg; Q = Queenstown; S = Southampton"
   ]
  },
  {
   "cell_type": "markdown",
   "metadata": {},
   "source": [
    "Часто мы сталкиваемся с бинарными категориальными признаками, для которых известны только две возможные категории (например, биологический пол человека)."
   ]
  },
  {
   "cell_type": "code",
   "execution_count": null,
   "metadata": {},
   "outputs": [],
   "source": [
    "print(dataset[\"Sex\"].unique())"
   ]
  },
  {
   "cell_type": "markdown",
   "metadata": {},
   "source": [
    "## Преобразования признаков\n",
    "\n"
   ]
  },
  {
   "cell_type": "markdown",
   "metadata": {},
   "source": [
    "Существует много подходов к кодированию признакового пространства. Каждый подход имеет свои особенности. Способ кодирования зависит от используемой модели."
   ]
  },
  {
   "cell_type": "markdown",
   "metadata": {},
   "source": [
    "### Категориальные признаки"
   ]
  },
  {
   "cell_type": "markdown",
   "metadata": {},
   "source": [
    "#### Label encoding"
   ]
  },
  {
   "cell_type": "markdown",
   "metadata": {},
   "source": [
    "В Label encoding каждой категории признака однозначно сопоставляется число. Данный подход хорошо работает для упорядоченных (ординальных) признаков.\n",
    "\n",
    "Если признак неупорядоченный (номинальный), то могут возникнуть проблемы.\n",
    "Например, если мы обозначим:\n",
    "$$Уж = 1$$\n",
    "$$Ёж = 2$$\n",
    "$$Белка = 3$$\n",
    "То в некоторых моделях (линейных), может возникнуть ложная зависимость:\n",
    "\n",
    "$$Уж+Ёж = Белка$$\n",
    "что не является свойством данных.\n",
    "\n",
    "\n",
    "Кроме того, мы не можем сказать, что уж “больше” ежа и сравнить его с белкой, но обучаемая модель про это не знает и будет пытаться их сравнить. Это может привести к низкому качеству модели и выучиванию неправильной информации.\n",
    "\n",
    "Например, дерево решений для выделения одной категории должно будет проделать несколько сравнений."
   ]
  },
  {
   "cell_type": "markdown",
   "metadata": {},
   "source": [
    "Некоторые модели (например, [LightGBM 🛠️[doc]](https://lightgbm.readthedocs.io/en/latest/)) могут автоматически подбирать кодировку для категориальных признаков, если предоставить им информацию о том, что признак категориальный, для других моделей это нужно делать вручную.\n",
    "\n",
    "У нас есть упорядоченный категориальный признак — класс, которым ехал пассажир. Добавим его к данным."
   ]
  },
  {
   "cell_type": "code",
   "execution_count": null,
   "metadata": {},
   "outputs": [],
   "source": [
    "x_train_working[\"Pclass\"] = x_train[\"Pclass\"]\n",
    "x_test_working[\"Pclass\"] = x_test[\"Pclass\"]\n",
    "\n",
    "x_train_working[:5]"
   ]
  },
  {
   "cell_type": "markdown",
   "metadata": {},
   "source": [
    "#### One-hot encoding"
   ]
  },
  {
   "cell_type": "markdown",
   "metadata": {},
   "source": [
    "На практике часто используется one-hot encoding. Вместо одного категориального признака $X$ создается набор бинарных категориальных признаков, которые отвечают на вопрос $X == C$, где $C$ перебирает все возможные значения категориального признака.\n",
    "\n",
    "Теперь, чтобы выбрать конкретное значение категориального признака, дереву решений достаточно задать один вопрос."
   ]
  },
  {
   "cell_type": "markdown",
   "metadata": {},
   "source": [
    "<img src =\"https://edunet.kea.su/repo/EduNet-content/dev-2.0/L04/out/one_hot_encoding.png\" width=\"450\">"
   ]
  },
  {
   "cell_type": "markdown",
   "metadata": {},
   "source": [
    "У такой схемы есть ряд недостатков:\n",
    "\n",
    "1. Мы получаем линейно зависимые признаки. Это может плохо влиять на некоторые модели. Например, в линейных моделях линейная зависимость признаков приводит к тому, что решение оптимизационной задачи (результат подбора весов) может быть не уникальным и сколь угодно большим по модулю, что негативно сказывается на работе модели.\n",
    "\n",
    "Подробнее:\n",
    "\n",
    "[[blog] ✏️ Think twice before dropping that first one-hot encoded column](https://inmachineswetrust.com/posts/drop-first-columns/)."
   ]
  },
  {
   "cell_type": "markdown",
   "metadata": {},
   "source": [
    "<img src =\"https://edunet.kea.su/repo/EduNet-content/dev-2.0/L04/out/problem_of_ohe.png\" width=\"850\">"
   ]
  },
  {
   "cell_type": "markdown",
   "metadata": {},
   "source": [
    "Поэтому одну из категорий могут исключить при кодировании. Например, в примере выше можно исключить **Рыбу**, ведь если все три других признака-категории равны 0, то точно верно, что категория — **Рыба**.\n",
    "\n",
    "2. При использовании one-hot encoding один категориальный признак может преобразовываться в десятки бинарных признаков. При использовании случайного леса выбирается случайное подмножество признаков. Преобразованные во множество бинарных, категориальные признаки будут встречаться чаще, чем вещественные, что может привести к тому, что значимость категориальных признаков будет завышена."
   ]
  },
  {
   "cell_type": "markdown",
   "metadata": {},
   "source": [
    "У нас есть два признака с ограниченным количеством значений: Sex и Embarked.\n",
    "\n",
    "Пол закодируем male = 1 female = 0."
   ]
  },
  {
   "cell_type": "code",
   "execution_count": null,
   "metadata": {},
   "outputs": [],
   "source": [
    "x_train_working[\"Sex\"] = x_train[\"Sex\"].map({\"male\": 1, \"female\": 0})\n",
    "x_test_working[\"Sex\"] = x_test[\"Sex\"].map({\"male\": 1, \"female\": 0})\n",
    "\n",
    "x_train_working[:5]"
   ]
  },
  {
   "cell_type": "markdown",
   "metadata": {},
   "source": [
    "#### Count encoding"
   ]
  },
  {
   "cell_type": "markdown",
   "metadata": {},
   "source": [
    "Еще один способ, который показал свою эффективность — это кодирование категориальной переменной по количеству встречаемости в данных.\n",
    "\n",
    "|  category | new_feature |\n",
    "|:---------:|:-----------:|\n",
    "|    food   |      3      |\n",
    "| equipment |      2      |\n",
    "|    food   |      3      |\n",
    "|  food     |      3      |\n",
    "| equipment |      2      |\n",
    "|  clothes  |      1      |"
   ]
  },
  {
   "cell_type": "markdown",
   "metadata": {},
   "source": [
    "Его просто и быстро реализовать. Здесь также присутствует логика порядка, который возникает естественным образом. Чем больше число, тем чаще встречается категория. Также здесь отсутствует ложная линейная зависимость: в нашем случае `equipment + clothes = food`, и для нас это действительно так, потому что наше кодирование отражает связь между категориями через их частоту."
   ]
  },
  {
   "cell_type": "markdown",
   "metadata": {},
   "source": [
    "Дополнительно стоит добавить шум к данным, чтобы избежать ситуации, когда разные категории кодируются одинаковым числом.\n",
    "\n",
    "|  category | new_feature |\n",
    "|:---------:|:-----------:|\n",
    "|    food   |      2.3    |\n",
    "| equipment |      2.04   |\n",
    "|    food   |      2.3    |\n",
    "|  clothes  |      2.6    |\n",
    "| equipment |      2.04   |\n",
    "|  clothes  |      2.6    |"
   ]
  },
  {
   "cell_type": "markdown",
   "metadata": {},
   "source": [
    "#### Кодирование по вещественному признаку"
   ]
  },
  {
   "cell_type": "markdown",
   "metadata": {},
   "source": [
    "Можем кодировать категориальный признак по какой-то статистике вещественного.\n",
    "Например, при прогнозировании покупок в интернет магазине может оказаться разумным кодировать категории товаров их средней ценой.\n",
    "\n",
    "|  category |  product | price | new_feature |\n",
    "|:---------:|:--------:|:-----:|:-----------:|\n",
    "|    food   |   pizza  |   30  |      17     |\n",
    "| equipment |  hammer  |  140  |     170     |\n",
    "|    food   | cucumber |   4   |      17     |\n",
    "|  clothes  |   boots  |  100  |      60     |\n",
    "| equipment |  helmet  |  200  |     170     |\n",
    "|  clothes  |  gloves  |   20  |      60     |"
   ]
  },
  {
   "cell_type": "markdown",
   "metadata": {},
   "source": [
    "#### Target encoding"
   ]
  },
  {
   "cell_type": "markdown",
   "metadata": {},
   "source": [
    "В Target encoding каждая категория кодируется численным параметром, характеризующим то, что мы предсказываем. Например, можно каждую категорию категориального признака заменять на среднее целевого значения (mean target).\n",
    "\n",
    "При этом может возникнуть проблема переобучения: для редких классов модель может научиться копировать значение mean target категориального признака в ответ, игнорируя другие признаки.\n",
    "\n",
    "Как с этим бороться:\n",
    "\n",
    "[[git] 🐾 Курс \"Прикладные задачи анализа данных\", Генерация признаков](https://github.com/Dyakonov/PZAD/blob/master/2020/PZAD2020_042featureengineering_07.pdf)."
   ]
  },
  {
   "cell_type": "markdown",
   "metadata": {},
   "source": [
    "Так как у нас в качестве модели используется случайный лес, для Embarked будем использовать Label encoding. Мы не будем считать среднее. Используем Target, чтобы упорядочить метки. Посмотрим, какой процент выживших для каждого порта. Смотреть будем только на train выборке. Информация из test выборки не должна попасть в модель!"
   ]
  },
  {
   "cell_type": "code",
   "execution_count": null,
   "metadata": {},
   "outputs": [],
   "source": [
    "import seaborn as sns\n",
    "from matplotlib import pyplot as plt\n",
    "\n",
    "plt.figure(figsize=(8, 4))\n",
    "\n",
    "train_df = x_train.copy()\n",
    "train_df[\"Survived\"] = y_train\n",
    "sns.barplot(x=\"Embarked\", y=\"Survived\", data=train_df)\n",
    "plt.show()"
   ]
  },
  {
   "cell_type": "markdown",
   "metadata": {},
   "source": [
    "Получили количество выживших $S<Q<C$. Упорядочим метки соответственно."
   ]
  },
  {
   "cell_type": "code",
   "execution_count": null,
   "metadata": {},
   "outputs": [],
   "source": [
    "import numpy as np\n",
    "\n",
    "emb = {np.nan: 0, \"S\": 0, \"Q\": 1, \"C\": 2}\n",
    "\n",
    "x_train_working[\"Embarked\"] = x_train[\"Embarked\"].map(emb)\n",
    "x_test_working[\"Embarked\"] = x_test[\"Embarked\"].map(emb)\n",
    "\n",
    "x_train_working[5:10]"
   ]
  },
  {
   "cell_type": "markdown",
   "metadata": {},
   "source": [
    "У нас осталось еще 4 признака, с которыми непонятно, что делать: Name, Ticket, Cabin, Age."
   ]
  },
  {
   "cell_type": "markdown",
   "metadata": {},
   "source": [
    "Рассмотрим поле Name. Это поле может нести информацию о поле, социальном статусе, происхождении, национальности, возрасте и т.д. Можно построить модели, которые будут это оценивать и отражать. Мы будем работать с числовыми представлениями текста в нашем курсе. Но пока мы можем использовать метод \"пристального вглядывания\" в данные."
   ]
  },
  {
   "cell_type": "code",
   "execution_count": null,
   "metadata": {},
   "outputs": [],
   "source": [
    "x_train.Name[:5]"
   ]
  },
  {
   "cell_type": "markdown",
   "metadata": {},
   "source": [
    "В именах есть информация о социальном статусе:\n",
    "- Miss — незамужняя женщина,\n",
    "- Mrs — замужняя женщина,\n",
    "- Master — несовершеннолетний мужчина,\n",
    "- Mr — совершеннолетний мужчина,\n",
    "- Dr — доктор,\n",
    "- Rev — преподобный,\n",
    "- Capt — капитан,\n",
    "\n",
    "и т.д.\n",
    "\n",
    "Первые 4 встречаются чаще."
   ]
  },
  {
   "cell_type": "markdown",
   "metadata": {},
   "source": [
    "Извлечем все возможные титулы, они начинаются с пробела и заканчиваются точкой."
   ]
  },
  {
   "cell_type": "code",
   "execution_count": null,
   "metadata": {},
   "outputs": [],
   "source": [
    "titles = dataset.Name.str.extract(\" ([A-Za-z]+)\\.\", expand=False).unique()\n",
    "print(titles)"
   ]
  },
  {
   "cell_type": "markdown",
   "metadata": {},
   "source": [
    "Сгруппируем некоторые с похожими значениями. Редкие запишем в нулевой класс."
   ]
  },
  {
   "cell_type": "code",
   "execution_count": null,
   "metadata": {},
   "outputs": [],
   "source": [
    "title_mapping = {\"Mr\": 4, \"Miss\": 3, \"Mrs\": 2, \"Master\": 1}\n",
    "\n",
    "# get title from name and encode by title_mapping, another titles fill zero\n",
    "x_train_working[\"Title\"] = (\n",
    "    x_train.Name.str.extract(\" ([A-Za-z]+)\\.\", expand=False)\n",
    "    .map(title_mapping)\n",
    "    .fillna(0)\n",
    ")\n",
    "x_test_working[\"Title\"] = (\n",
    "    x_test.Name.str.extract(\" ([A-Za-z]+)\\.\", expand=False).map(title_mapping).fillna(0)\n",
    ")\n",
    "\n",
    "x_train_working[:5]"
   ]
  },
  {
   "cell_type": "markdown",
   "metadata": {},
   "source": [
    "#### Кодирование циклических категориальных признаков"
   ]
  },
  {
   "cell_type": "markdown",
   "metadata": {},
   "source": [
    "При работе с датой и временем мы можем представить дату и время в виде числа. Один из способов такого представления [Unix Timestamp 🛠️[doc]](https://www.unixtimestamp.com/) (количество секунд, прошедших с 1 января 1970-го года).\n",
    "Для ряда задач важна цикличность времени. Например, загруженность линии метро будет зависеть от времени дня (цикл 24 часа), дня недели (цикл 7 дней) и нерабочих праздничных дней (цикл год). Для прогнозирования количества электроэнергии, выработанной солнечной батареей, важно будет время дня (цикл 24 часа) и время года (цикл год).\n",
    "\n",
    "В случае с такими признаками, как день недели или время суток, мы сталкиваемся с проблемой того, что нам нужно предложить кодирование, которое будет учитывать, что понедельник близок к воскресенью так же, как и ко вторнику, и т.д."
   ]
  },
  {
   "cell_type": "markdown",
   "metadata": {},
   "source": [
    "\n",
    "Давайте нанесем наши категории, например, дни недели, на окружность. Как это сделать?\n",
    "Пусть понедельнику соответствует 1, а воскресенью — 7. Далее посчитаем два таких вспомогательных признака по следующим формулам"
   ]
  },
  {
   "cell_type": "code",
   "execution_count": null,
   "metadata": {},
   "outputs": [],
   "source": [
    "weekdays = np.arange(1, 8)  # create an array of weekdays\n",
    "print(weekdays)\n",
    "sina = np.sin(weekdays * np.pi * 2 / np.max(weekdays))  # feature 1\n",
    "cosa = np.cos(weekdays * np.pi * 2 / np.max(weekdays))  # feature 2"
   ]
  },
  {
   "cell_type": "code",
   "execution_count": null,
   "metadata": {},
   "outputs": [],
   "source": [
    "plt.figure(figsize=(6, 6))  # Decide figure size\n",
    "plt.scatter(sina, cosa)  # Plot scatter of feature 1 vs feature 2\n",
    "for i, z in enumerate(\n",
    "    (\"Mon\", \"Tue\", \"Wed\", \"Thu\", \"Fri\", \"Sat\", \"Sun\")\n",
    "):  # for each day in a week\n",
    "    plt.text(sina[i], cosa[i], s=z)  # add text labels to plot"
   ]
  },
  {
   "cell_type": "markdown",
   "metadata": {},
   "source": [
    "Теперь расстояния между понедельником и вторником и воскресеньем и понедельником одинаковые:"
   ]
  },
  {
   "cell_type": "code",
   "execution_count": null,
   "metadata": {},
   "outputs": [],
   "source": [
    "dist_mon_tue = (sina[1] - sina[0]) ** 2 + (\n",
    "    cosa[1] - cosa[0]\n",
    ") ** 2  # distance between Monday and Tuesday\n",
    "dist_sun_mon = (sina[6] - sina[0]) ** 2 + (\n",
    "    cosa[6] - cosa[0]\n",
    ") ** 2  # distance between Sunday and Monday\n",
    "print(\"Distance between Mon-Tue = %.2f\" % dist_mon_tue)\n",
    "print(\"Distance between Sun-Mon = %.2f\" % dist_sun_mon)"
   ]
  },
  {
   "cell_type": "markdown",
   "metadata": {},
   "source": [
    "То же самое верно и для любых отстоящих друг от друга на одинаковое число дней\n",
    "\n"
   ]
  },
  {
   "cell_type": "code",
   "execution_count": null,
   "metadata": {},
   "outputs": [],
   "source": [
    "dist_mon_wed = (sina[2] - sina[0]) ** 2 + (\n",
    "    cosa[2] - cosa[0]\n",
    ") ** 2  # distance between Monday and Wednesday\n",
    "dist_fri_sun = (sina[4] - sina[6]) ** 2 + (\n",
    "    cosa[4] - cosa[6]\n",
    ") ** 2  # distance between Friday and Sunday\n",
    "print(\"Distance between Mon-Wed = %.2f\" % dist_mon_wed)\n",
    "print(\"Distance between Fri-Sun = %.2f\" % dist_fri_sun)"
   ]
  },
  {
   "cell_type": "markdown",
   "metadata": {},
   "source": [
    "Таким образом, циклические признаки можно кодировать парой признаков (sin и cos), полученных по схеме, описанной выше.\n",
    "\n"
   ]
  },
  {
   "cell_type": "markdown",
   "metadata": {},
   "source": [
    "Проблемы подхода:\n",
    "\n",
    "1. Такое кодирование может создать сложности для деревьев решений, т.к. они работают с одним признаком за раз.\n",
    "\n",
    "2. Надо понимать, что важность исходной категориальной фичи неочевидным образом делится между двумя полученными из нее таким образом фичами.\n",
    "\n",
    "3. В некоторых задачах one-hot работает лучше."
   ]
  },
  {
   "cell_type": "markdown",
   "metadata": {},
   "source": [
    "### Вещественные признаки\n",
    "\n"
   ]
  },
  {
   "cell_type": "markdown",
   "metadata": {},
   "source": [
    "#### Бинаризация"
   ]
  },
  {
   "cell_type": "markdown",
   "metadata": {},
   "source": [
    "Для ряда задач может быть неважно конкретное значение признака. Важнее может оказаться факт превышения порога или наличия значения.\n",
    "\n",
    "Например, уровень сахара крови выше $11.1$ ммоль/л может говорить о наличии у пациента сахарного диабета, что повлияет на результат лечения. А наличие высшего образования больше влияет на платежеспособность, чем средний балл диплома.\n",
    "\n",
    "Для таких признаков можно попробовать использовать бинаризацию: превращение вещественного признака в бинарный по принципу “есть ли значение” или “больше ли значение определенного порога”."
   ]
  },
  {
   "cell_type": "markdown",
   "metadata": {},
   "source": [
    "Бинаризируем уровень сахара в крови."
   ]
  },
  {
   "cell_type": "code",
   "execution_count": null,
   "metadata": {},
   "outputs": [],
   "source": [
    "from sklearn.preprocessing import Binarizer\n",
    "\n",
    "# fmt: off\n",
    "x = np.array([[1, 12],\n",
    "              [2, 7.6],\n",
    "              [3, 8.4],\n",
    "              [4, 13.5],\n",
    "              [5, 6.3]])\n",
    "# fmt: on\n",
    "\n",
    "transformer = Binarizer(threshold=11.1)\n",
    "binarized = transformer.transform(np.expand_dims(x[:, 1], axis=1))\n",
    "\n",
    "x_binarized = np.concatenate((x, binarized), axis=1)\n",
    "\n",
    "print(x_binarized)"
   ]
  },
  {
   "cell_type": "markdown",
   "metadata": {},
   "source": [
    "#### Binning (Бинирование)"
   ]
  },
  {
   "cell_type": "markdown",
   "metadata": {},
   "source": [
    "Нам могут быть не интересны точные значения (например, что видео набрало 1000 лайков, а не 1001).\n",
    "\n",
    "К тому же, число просмотров/лайков некоторых видео может быть очень большим в сравнении с остальными.\n",
    "В итоге часть значений у нас встречается часто, а часть — очень редко, что\n",
    "негативно скажется на результате работы модели.\n",
    "\n",
    "Бинирование — это метод группировки вещественных признаков в несколько категорий, определяемых диапазонами значений. При этом категория может кодироваться средним или медианным значением признака в диапазоне данной категории."
   ]
  },
  {
   "cell_type": "markdown",
   "metadata": {},
   "source": [
    "Способы деления данных:\n",
    "\n",
    "* **Фиксированными диапазонами.** Делим наши значения по диапазонам фиксированной длины. Так часто поступают с возрастом.\n",
    "\n",
    "* **Используя понимание данных.**\n",
    "Длина диапазона не всегда обязана быть кратна определенному ровному значению. В социальных исследованиях может быть полезным разделение на возрастные группы, которые определяются занятостью: школьники, студенты, выпускники, пенсионеры и т.д.\n",
    "\n",
    "* **Адаптивными диапазонами.**\n",
    "Бинирование с фиксированной длиной бина не поможет справиться с редкими значениями. В этой ситуации помогает бинирование, например, по квартилям — когда границы бина расставляются таким образом, чтобы между ними помещалась $1/4$ выборки."
   ]
  },
  {
   "cell_type": "markdown",
   "metadata": {},
   "source": [
    "<img src =\"https://edunet.kea.su/repo/EduNet-content/dev-2.0/L04/out/binning.png\" width=\"1000\">"
   ]
  },
  {
   "cell_type": "markdown",
   "metadata": {},
   "source": [
    "#### Преобразования"
   ]
  },
  {
   "cell_type": "markdown",
   "metadata": {},
   "source": [
    "<img src =\"https://edunet.kea.su/repo/EduNet-content/dev-2.0/L04/out/log_transform.png\" width=\"900\">"
   ]
  },
  {
   "cell_type": "markdown",
   "metadata": {},
   "source": [
    "\n",
    "* Логарифмическое преобразование — это применение логарифма к значениям признака. Это может быть полезным, если данные имеют сильно смещенное распределение, например, экспоненциальное. Логарифмическое преобразование может сделать распределение более близким к нормальному.\n",
    "\n",
    "* Квадратный корень. Взятие квадратного корня из значений признаков может помочь справиться с сильно смещенными данными. Он уменьшает влияние больших значений и увеличивает влияние меньших значений.\n",
    "\n",
    "* Преобразование Бокса-Кокса ([Box-Cox Transform ✏️[blog]](https://www.statisticshowto.com/box-cox-transformation/#:~:text=A%20Box%20Cox%20transformation%20is,a%20broader%20number%20of%20tests.)) — это семейство степенных преобразований, которое может адаптироваться к различным распределениям данных, общей целью которых является придать данным вид, более похожий на нормальное распределение, с которым работает бoльшее число моделей и сходимость которого лучше."
   ]
  },
  {
   "cell_type": "code",
   "execution_count": null,
   "metadata": {},
   "outputs": [],
   "source": [
    "from scipy import stats\n",
    "\n",
    "np.random.seed(42)\n",
    "data = np.random.exponential(scale=2, size=1000)\n",
    "\n",
    "plt.figure(figsize=(12, 4))\n",
    "gs = plt.GridSpec(2, 3, height_ratios=[2, 1])\n",
    "\n",
    "plt.subplot(gs[0, 0])\n",
    "sns.scatterplot(x=np.arange(len(data)), y=data, s=10)\n",
    "plt.title(\"Original Data\")\n",
    "plt.subplot(gs[1, 0])\n",
    "sns.histplot(data, bins=30)\n",
    "\n",
    "data_log = np.log(data)\n",
    "plt.subplot(gs[0, 1])\n",
    "sns.scatterplot(x=np.arange(len(data_log)), y=data_log, s=10)\n",
    "plt.title(\"Log Transformation\")\n",
    "plt.subplot(gs[1, 1])\n",
    "sns.histplot(data_log, bins=30)\n",
    "\n",
    "data_boxcox, _ = stats.boxcox(data)\n",
    "plt.subplot(gs[0, 2])\n",
    "sns.scatterplot(x=np.arange(len(data_boxcox)), y=data_boxcox, s=10)\n",
    "plt.title(\"Box-Cox Transformation\")\n",
    "plt.subplot(gs[1, 2])\n",
    "sns.histplot(data_boxcox, bins=30)\n",
    "\n",
    "plt.tight_layout()\n",
    "plt.show()"
   ]
  },
  {
   "cell_type": "markdown",
   "metadata": {},
   "source": [
    "### Работа с пропущенными значениями"
   ]
  },
  {
   "cell_type": "markdown",
   "metadata": {},
   "source": [
    "<img src =\"https://edunet.kea.su/repo/EduNet-content/dev-2.0/L04/out/decision_tree_and_nan_values_in_data.png\" width=\"1000\">"
   ]
  },
  {
   "cell_type": "markdown",
   "metadata": {},
   "source": [
    "Со всеми признаками производятся математические операции, поэтому для большинства моделей (деревья решений могут работать с пропущенными значениями, [Meaning of Surrogate Split ✏️[blog]](https://stats.stackexchange.com/questions/171574/meaning-of-surrogate-split)) отсутствие значений просто не дает производить эти операции.\n",
    "\n",
    "Есть два основных подхода для работы с пропущенными значениями:\n",
    "\n",
    " 1. Удалить все объекты с пропущенными значениями.\n",
    "\n",
    " 2. На место пропущенных значений записать какие-то числа (заполнить пропущенные значения)\n",
    "\n",
    "Иногда мы можем просто удалить объекты с пропущенными значениями, но если у нас мало данных и получение большего количества данных дорого/долго/невозможно, то нам нужно заполнить пропуски какими-то значениями."
   ]
  },
  {
   "cell_type": "markdown",
   "metadata": {},
   "source": [
    "Существует много способов заполнения пропусков значениями.\n",
    "\n",
    "Рассмотрим наиболее популярные:\n",
    "\n",
    "* **Заполнить константой.** Можно предположить, что данные несложные, а признаки не зависят друг от друга, и заполнить пропущенные значения средними значениями соответствующего признака.\n",
    "Например, если средний возраст людей 30 лет, то для людей, чей возраст неизвестен, будем писать это же значение. Но в некоторых ситуациях такое заполнение может только навредить.\n",
    "\n",
    "* **Предсказывать признаки моделью.** Используем признак с пропущенными значениями как целевую переменную и на основе других заполненных признаков предсказываем пропущенные значения. Можем использовать алгоритм, который умеет справляться с пропусками. Один из таких алгоритмов — k-NN. Можно брать ближайших соседей по известным признакам и на место неизвестного признака подставлять среднее значение соседей.\n",
    "\n",
    "* **Самостоятельно придумывать логику заполнения.** Если мы имеем экспертное знание о природе пропусков, можем сами написать логику заполнения какими-то значениями."
   ]
  },
  {
   "cell_type": "markdown",
   "metadata": {},
   "source": [
    "В датасете Titanic отстался важный признак Age, который имеет пропуски. Посмотрим, как он связан с выживаемостью."
   ]
  },
  {
   "cell_type": "code",
   "execution_count": null,
   "metadata": {},
   "outputs": [],
   "source": [
    "train_df = x_train.copy()\n",
    "train_df[\"Survived\"] = y_train\n",
    "\n",
    "plt.figure(figsize=(10, 6))\n",
    "age_survival_plot = sns.scatterplot(\n",
    "    data=train_df.groupby([\"Age\"], as_index=False)[\"Survived\"].agg(\"sum\"),\n",
    "    x=\"Age\",\n",
    "    y=\"Survived\",\n",
    "    hue=\"Survived\",\n",
    "    s=70,\n",
    "    palette={\n",
    "        0: \"#27a9e1\",\n",
    "        1: \"#ffab40\",\n",
    "        2: \"#ffab40\",\n",
    "        3: \"#ffab40\",\n",
    "        4: \"#ffab40\",\n",
    "        5: \"#ffab40\",\n",
    "        6: \"#49AD4D\",\n",
    "        7: \"#49AD4D\",\n",
    "        8: \"#49AD4D\",\n",
    "        9: \"#49AD4D\",\n",
    "        11: \"#49AD4D\",\n",
    "        15: \"#49AD4D\",\n",
    "    },\n",
    ")\n",
    "\n",
    "age_survival_plot.set_title(\"Survived by Age\")\n",
    "age_survival_plot.set_xlabel(\"Age\")\n",
    "age_survival_plot.set_ylabel(\"Num of passengers\")\n",
    "custom_legend = [\n",
    "    plt.Line2D([0], [0], marker=\"o\", color=\"w\", markerfacecolor=color, markersize=10)\n",
    "    for color in [\"#27a9e1\", \"#ffab40\", \"#49AD4D\"]\n",
    "]\n",
    "age_survival_plot.legend(\n",
    "    custom_legend, [\"0\", \"1-5\", \"6+\"], title=\"Survived\", loc=\"upper right\"\n",
    ")\n",
    "\n",
    "plt.show()"
   ]
  },
  {
   "cell_type": "markdown",
   "metadata": {},
   "source": [
    "Видим, что связь есть. Обучим модель без этого признака и посмотрим на результат:"
   ]
  },
  {
   "cell_type": "code",
   "execution_count": null,
   "metadata": {},
   "outputs": [],
   "source": [
    "x_train_working.head(3)"
   ]
  },
  {
   "cell_type": "code",
   "execution_count": null,
   "metadata": {},
   "outputs": [],
   "source": [
    "results = dict()\n",
    "rf = RandomForestClassifier(random_state=42)\n",
    "\n",
    "rf.fit(x_train_working, y_train)\n",
    "y_pred = rf.predict(x_test_working)\n",
    "\n",
    "results[\"no feature\"] = accuracy_score(y_test, y_pred).round(3)\n",
    "\n",
    "print(f\"Accuracy without feature 'Age': {results['no feature']}\")"
   ]
  },
  {
   "cell_type": "markdown",
   "metadata": {},
   "source": [
    "Заполним пропуски своей эвристикой. Вспомним, что в поле Title зашита общая информация о возрасте, посчитаем матожидание и дисперсию возраста для Title и сгенерируем недостающие значения."
   ]
  },
  {
   "cell_type": "code",
   "execution_count": null,
   "metadata": {},
   "outputs": [],
   "source": [
    "np.random.seed(42)\n",
    "\n",
    "train_df = x_train.copy()\n",
    "train_df[\"Title\"] = x_train_working[\"Title\"]\n",
    "\n",
    "mean = {}\n",
    "std = {}\n",
    "for title in range(5):\n",
    "    data = train_df.loc[train_df[\"Title\"] == title]\n",
    "    mean[title] = data[\"Age\"].mean()\n",
    "    std[title] = data[\"Age\"].std()\n",
    "\n",
    "\n",
    "def add_age_val(data, mean, std):\n",
    "    for i, row in data.iterrows():\n",
    "        if np.isnan(row[\"Age\"]):\n",
    "            title = int(row[\"Title\"])\n",
    "            data.loc[i, \"Age\"] = round(\n",
    "                np.random.uniform(\n",
    "                    low=int(mean[title] - std[title]),\n",
    "                    high=int(mean[title] + std[title]),\n",
    "                ),\n",
    "                1,\n",
    "            )\n",
    "    return data"
   ]
  },
  {
   "cell_type": "code",
   "execution_count": null,
   "metadata": {},
   "outputs": [],
   "source": [
    "x_train_working[\"Age\"] = x_train[\"Age\"]\n",
    "x_test_working[\"Age\"] = x_test[\"Age\"]\n",
    "\n",
    "x_train_working = add_age_val(x_train_working, mean, std)\n",
    "x_test_working = add_age_val(x_test_working, mean, std)\n",
    "\n",
    "x_train_working[:5]"
   ]
  },
  {
   "cell_type": "markdown",
   "metadata": {},
   "source": [
    "Посмотрим, что получилось на обработанных данных."
   ]
  },
  {
   "cell_type": "code",
   "execution_count": null,
   "metadata": {},
   "outputs": [],
   "source": [
    "rf = RandomForestClassifier(random_state=42)\n",
    "\n",
    "rf.fit(x_train_working, y_train)\n",
    "y_pred = rf.predict(x_test_working)\n",
    "\n",
    "results[\"by title\"] = accuracy_score(y_test, y_pred).round(3)\n",
    "\n",
    "print(f\"Accuracy with hand-filled feature 'Age': {results['by title']}\")"
   ]
  },
  {
   "cell_type": "markdown",
   "metadata": {},
   "source": [
    "Стало лучше. Теперь заполним пропуски с помощью модели. Воспользуемся `IterativeImputer` [🛠️[doc]](https://scikit-learn.org/stable/modules/generated/sklearn.impute.IterativeImputer.html#sklearn.impute.IterativeImputer) из `sklearn.impute` [🛠️[doc]](https://scikit-learn.org/stable/modules/classes.html#module-sklearn.impute).\n",
    "\n",
    "`IterativeImputer` автоматически заполняет пропущенные значения признаков, оценивая их при помощи модели. По умолчанию используется модель `BayesianRidge` [🛠️[doc]](https://scikit-learn.org/stable/modules/generated/sklearn.linear_model.BayesianRidge.html#sklearn.linear_model.BayesianRidge)."
   ]
  },
  {
   "cell_type": "code",
   "execution_count": null,
   "metadata": {},
   "outputs": [],
   "source": [
    "x_train_working[\"Age\"] = x_train[\"Age\"]\n",
    "x_test_working[\"Age\"] = x_test[\"Age\"]"
   ]
  },
  {
   "cell_type": "code",
   "execution_count": null,
   "metadata": {},
   "outputs": [],
   "source": [
    "from sklearn.experimental import enable_iterative_imputer\n",
    "from sklearn.impute import IterativeImputer\n",
    "\n",
    "imputer = IterativeImputer()\n",
    "imputer.fit(x_train_working)\n",
    "\n",
    "x_train_working = imputer.transform(x_train_working)\n",
    "x_test_working = imputer.transform(x_test_working)"
   ]
  },
  {
   "cell_type": "code",
   "execution_count": null,
   "metadata": {},
   "outputs": [],
   "source": [
    "rf = RandomForestClassifier(random_state=42)\n",
    "\n",
    "rf.fit(x_train_working, y_train)\n",
    "y_pred = rf.predict(x_test_working)\n",
    "\n",
    "results[\"imputer\"] = accuracy_score(y_test, y_pred).round(3)\n",
    "\n",
    "print(f\"Accuracy with feature 'Age' filled with IterativeImputer: {results['imputer']}\")"
   ]
  },
  {
   "cell_type": "markdown",
   "metadata": {},
   "source": [
    "Сравним результаты при разном заполнении пропусков"
   ]
  },
  {
   "cell_type": "code",
   "execution_count": null,
   "metadata": {},
   "outputs": [],
   "source": [
    "pd.DataFrame([results], index=[\"accuracy\"])"
   ]
  },
  {
   "cell_type": "markdown",
   "metadata": {},
   "source": [
    "В нашем случае `IterativeImputer` [🛠️[doc]](https://scikit-learn.org/stable/modules/generated/sklearn.impute.IterativeImputer.html#sklearn.impute.IterativeImputer) дал наилучший результат. Хорошая практика — использовать данный метод как быстрый бейзлайн по заполнению пропусков.\n",
    "\n",
    "Важно помнить, что пропуски в данных не всегда являются отсутствием значений, иногда пропуски могут быть обозначены совершенно разными способами: `0`, `-`, `(пусто)`, `'отсутствует'`, `None`, `nan`, и другие. Поэтому нужно приводить пропуски к единому формату, с которым удобно работать в дальнейшем, например `np.nan`."
   ]
  },
  {
   "cell_type": "markdown",
   "metadata": {},
   "source": [
    "# Разведочный анализ данных"
   ]
  },
  {
   "cell_type": "markdown",
   "metadata": {},
   "source": [
    "Разведочный анализ данных (exploratory data analysis, EDA) — это процесс изучения данных с целью понимания их свойств. Его используют для поиска закономерностей, нахождения аномалий, создания новых признаков.\n",
    "\n",
    "Это творческий процесс, и не существует единого рецепта, как это делать. Более того, разбору одной задачи можно посвятить лекцию. Наша задача в этом блоке — познакомиться с основными инструментами для анализа."
   ]
  },
  {
   "cell_type": "markdown",
   "metadata": {},
   "source": [
    "Будем работать с датасетом по определению цвета вина в зависимости от его характеристик.\n",
    "\n",
    "Загрузим датасет и сразу посмотрим, как он выглядит:"
   ]
  },
  {
   "cell_type": "code",
   "execution_count": null,
   "metadata": {},
   "outputs": [],
   "source": [
    "import pandas as pd\n",
    "\n",
    "dataset = pd.read_csv(\n",
    "    \"https://edunet.kea.su/repo/EduNet-web_dependencies/datasets/wine_quality_data.csv\"\n",
    ")\n",
    "dataset"
   ]
  },
  {
   "cell_type": "markdown",
   "metadata": {},
   "source": [
    "Можем сделать первые выводы об объеме датасета и количестве признаков."
   ]
  },
  {
   "cell_type": "markdown",
   "metadata": {},
   "source": [
    "## Описательные статистики"
   ]
  },
  {
   "cell_type": "markdown",
   "metadata": {},
   "source": [
    "Теперь посмотрим более детально, используя встроенные методы `pandas`:"
   ]
  },
  {
   "cell_type": "code",
   "execution_count": null,
   "metadata": {},
   "outputs": [],
   "source": [
    "dataset.info()"
   ]
  },
  {
   "cell_type": "markdown",
   "metadata": {},
   "source": [
    "Видим, что нет пропусков. Смотрим, все ли признаки соответствуют своему `Dtype`, также можем оценить размер используемой памяти.\n",
    "\n",
    "Посмотрим описательные статистики по признакам:"
   ]
  },
  {
   "cell_type": "code",
   "execution_count": null,
   "metadata": {},
   "outputs": [],
   "source": [
    "dataset.describe()"
   ]
  },
  {
   "cell_type": "markdown",
   "metadata": {},
   "source": [
    "Чтобы стало нагляднее, можем использовать `DataFrame.hist` [🛠️[doc]](https://pandas.pydata.org/docs/reference/api/pandas.DataFrame.hist.html) прямо из `pandas`:"
   ]
  },
  {
   "cell_type": "code",
   "execution_count": null,
   "metadata": {},
   "outputs": [],
   "source": [
    "import matplotlib.pyplot as plt\n",
    "\n",
    "dataset.hist(figsize=(20, 10), layout=(-1, 5))\n",
    "plt.show()"
   ]
  },
  {
   "cell_type": "markdown",
   "metadata": {},
   "source": [
    "Видим, что у нас присутствует дисбаланс классов (распределение целевого признака `is_red`). Почти все распределения признаков одномодальные. Можем оценить диапазон значений признаков."
   ]
  },
  {
   "cell_type": "markdown",
   "metadata": {},
   "source": [
    "## Взаимодействие признаков"
   ]
  },
  {
   "cell_type": "markdown",
   "metadata": {},
   "source": [
    "Полезно знать, как признаки взаимодействуют друг с другом и с целевой переменной. Часто для первичной оценки используют корреляцию. Дополнительно это поможет нам найти в датасете скоррелированные признаки. Для этого воспользуемся `DataFrame.corr` [🛠️[doc]](https://pandas.pydata.org/docs/reference/api/pandas.DataFrame.corr.html) и `seaborn.heatmap` [🛠️[doc]](https://seaborn.pydata.org/generated/seaborn.heatmap.html)."
   ]
  },
  {
   "cell_type": "code",
   "execution_count": null,
   "metadata": {},
   "outputs": [],
   "source": [
    "import seaborn as sns\n",
    "\n",
    "plt.figure(figsize=(8, 8))\n",
    "\n",
    "heatmap = sns.heatmap(\n",
    "    dataset.corr(method=\"pearson\", numeric_only=True).round(2),\n",
    "    annot=True,\n",
    "    square=True,\n",
    "    cmap=\"RdBu_r\",\n",
    "    vmax=1,\n",
    "    vmin=-1,\n",
    "    cbar_kws={\"fraction\": 0.01},  # shrink colour bar\n",
    "    linewidth=2,\n",
    ")\n",
    "\n",
    "heatmap.set_xticklabels(\n",
    "    heatmap.get_xticklabels(), rotation=45, horizontalalignment=\"right\"\n",
    ")\n",
    "heatmap.set_title(\"Correalation heatmap\", fontdict={\"fontsize\": 18}, pad=16)\n",
    "plt.show()"
   ]
  },
  {
   "cell_type": "markdown",
   "metadata": {},
   "source": [
    "Видим, что два признака имеют высокую корреляцию между собой (`free_sulfur_dioxide` и `total_sulfur_dioxide`). [Почему это плохо и что с этим делать ✏️[blog]](https://habr.com/ru/companies/akbarsdigital/articles/592493/).\n",
    "\n",
    "Также важно отметить, что корреляция Пирсона, посчитанная для категориальных признаков, может давать некорректные и бессмысленные результаты.\n",
    "\n",
    "Поэтому на практике хорошо себя показывает [Phi_K 🛠️[doc]](https://phik.readthedocs.io/en/latest/) ($\\phi_k$) корреляция. Она, в отличие от корреляции Пирсона, учитывает нелинейные зависимости и работает с категориальными признаками."
   ]
  },
  {
   "cell_type": "code",
   "execution_count": null,
   "metadata": {},
   "outputs": [],
   "source": [
    "!pip install -q phik"
   ]
  },
  {
   "cell_type": "markdown",
   "metadata": {},
   "source": [
    "В этот раз отсортируем коэффициенты корреляции по целевой переменной:"
   ]
  },
  {
   "cell_type": "code",
   "execution_count": null,
   "metadata": {},
   "outputs": [],
   "source": [
    "import phik\n",
    "\n",
    "plt.figure(figsize=(8, 8))\n",
    "\n",
    "sotred_columns = (\n",
    "    dataset.phik_matrix(interval_cols=dataset.columns)\n",
    "    .round(2)\n",
    "    .sort_values(\"is_red\", ascending=False, axis=1)\n",
    "    .columns\n",
    ")\n",
    "\n",
    "heatmap = sns.heatmap(\n",
    "    dataset.phik_matrix(interval_cols=dataset.columns)\n",
    "    .round(2)\n",
    "    .sort_values(\"is_red\", ascending=False, axis=1)\n",
    "    .reindex(sotred_columns),\n",
    "    annot=True,\n",
    "    square=True,\n",
    "    cmap=\"Blues\",\n",
    "    vmax=1,\n",
    "    vmin=0,\n",
    "    cbar_kws={\"fraction\": 0.01},  # shrink colour bar\n",
    "    linewidth=2,\n",
    ")\n",
    "\n",
    "heatmap.set_xticklabels(\n",
    "    heatmap.get_xticklabels(), rotation=45, horizontalalignment=\"right\"\n",
    ")\n",
    "heatmap.set_title(\"Phik heatmap sorted by target\", fontdict={\"fontsize\": 18}, pad=16)\n",
    "plt.show()"
   ]
  },
  {
   "cell_type": "markdown",
   "metadata": {},
   "source": [
    "Можем выделить признаки, которые имеют наибольший коэффициент. Посмотрим как они взаимодействуют друг с другом.\n",
    "\n",
    "При большом количестве объектов бывает сложно понять, какие есть зависимости (объекты накладываются друг на друга), поэтому мы возьмем случайные 1000 объектов из нашего датасета, чтобы было нагляднее. Воспользуемся `seaborn.pairplot` [🛠️[doc]](https://seaborn.pydata.org/generated/seaborn.pairplot.html)."
   ]
  },
  {
   "cell_type": "code",
   "execution_count": null,
   "metadata": {},
   "outputs": [],
   "source": [
    "sns.set_style(\"whitegrid\")\n",
    "\n",
    "sns.pairplot(\n",
    "    dataset.sample(1000),\n",
    "    vars=[\"total_sulfur_dioxide\", \"volatile_acidity\", \"chlorides\"],\n",
    "    hue=\"is_red\",\n",
    ")\n",
    "plt.show()"
   ]
  },
  {
   "cell_type": "markdown",
   "metadata": {},
   "source": [
    "Можем отметить, что признак `total_sulfur_dioxide` действительно хорошо разделяется по целевому признаку. Также хорошее разделение видим в паре признаков `total_sulfur_dioxide` и `volatile_acidity`."
   ]
  },
  {
   "cell_type": "markdown",
   "metadata": {},
   "source": [
    "## Анализ категориальных признаков"
   ]
  },
  {
   "cell_type": "markdown",
   "metadata": {},
   "source": [
    "В датасете есть категориальный признак `quality`. Посмотрим, как распределен `total_sulfur_dioxide` в разрезе по целевому признаку и по каждому значению `quality`:"
   ]
  },
  {
   "cell_type": "code",
   "execution_count": null,
   "metadata": {},
   "outputs": [],
   "source": [
    "sns.catplot(\n",
    "    data=dataset,\n",
    "    x=\"quality\",\n",
    "    y=\"total_sulfur_dioxide\",\n",
    "    hue=\"is_red\",\n",
    "    aspect=2,\n",
    "    alpha=0.5,\n",
    "    kind=\"violin\",  # strip, swarm, box, violin, boxen, point, bar, or count\n",
    "    split=True,\n",
    ")\n",
    "plt.show()"
   ]
  },
  {
   "cell_type": "markdown",
   "metadata": {},
   "source": [
    "Видим, что в 9 категории нет объектов другого класса, но такой график не отражает количество объектов в категориях. Можем это посмотреть, воспользовавшись `pandas.crosstab` [🛠️[doc]](https://pandas.pydata.org/docs/reference/api/pandas.crosstab.html):"
   ]
  },
  {
   "cell_type": "code",
   "execution_count": null,
   "metadata": {},
   "outputs": [],
   "source": [
    "cross_tab = sns.heatmap(\n",
    "    pd.crosstab(dataset[\"is_red\"], dataset[\"quality\"], normalize=True).round(4),\n",
    "    annot=True,\n",
    "    square=True,\n",
    "    cmap=\"Blues\",\n",
    "    cbar_kws={\"fraction\": 0.01},\n",
    "    linewidth=1,\n",
    ")\n",
    "\n",
    "cross_tab.set_title(\"Crosstab heatmap\", fontdict={\"fontsize\": 18}, pad=16)\n",
    "plt.show()"
   ]
  },
  {
   "cell_type": "markdown",
   "metadata": {},
   "source": [
    "Теперь видно, что объектов 9 категории довольно мало. Также можем оценить, в каких категориях сконцетрированы объекты."
   ]
  },
  {
   "cell_type": "markdown",
   "metadata": {},
   "source": [
    "Еще один полезный тип графика — это `seaborn.relplot` [🛠️[doc]](https://seaborn.pydata.org/generated/seaborn.relplot.html). Eго удобно использовать, если у нас есть временной признак, тогда мы можем построить зависимость признака относительно времени.\n",
    "\n",
    "У нас такого признака нет, построим два признака с раскраской по категориальной переменной `quality`:"
   ]
  },
  {
   "cell_type": "code",
   "execution_count": null,
   "metadata": {},
   "outputs": [],
   "source": [
    "relplot = sns.relplot(\n",
    "    data=dataset,\n",
    "    x=\"residual_sugar\",\n",
    "    y=\"alcohol\",\n",
    "    hue=\"quality\",\n",
    "    kind=\"scatter\",  # or line\n",
    "    aspect=2,\n",
    "    alpha=0.6,\n",
    "    palette=\"Set2\",\n",
    ")\n",
    "\n",
    "relplot.set_xticklabels(horizontalalignment=\"right\", step=2)\n",
    "plt.show()"
   ]
  },
  {
   "cell_type": "markdown",
   "metadata": {},
   "source": [
    "Видно, что объекты 5 категории в среднем находятся ниже 7 категории, построим тот же `seaborn.relplot`, но уже для двух категорий. В этот раз для примера будем использовать параметр `kind=\"line\"`, который отвечает за вид графика:"
   ]
  },
  {
   "cell_type": "code",
   "execution_count": null,
   "metadata": {},
   "outputs": [],
   "source": [
    "relplot = sns.relplot(\n",
    "    data=dataset.query(\"quality == (5,7)\"),\n",
    "    x=\"residual_sugar\",\n",
    "    y=\"alcohol\",\n",
    "    hue=\"quality\",\n",
    "    kind=\"line\",\n",
    "    aspect=2,\n",
    "    alpha=0.3,\n",
    "    palette=\"Set2\",\n",
    ")\n",
    "\n",
    "relplot.set_xticklabels(horizontalalignment=\"right\", step=2)\n",
    "plt.show()"
   ]
  },
  {
   "cell_type": "markdown",
   "metadata": {},
   "source": [
    "Итоги:\n",
    "* Способов визуализации данных довольно много, запомните несколько и научитесь ими пользоваться. Например, те, которые мы рассмотрели в лекции.\n",
    "* Раскрашивайте объекты не только по целевому признаку, но и по категориальным.\n",
    "* Для анализа трендов стройте график по времени, частоте или другому признаку.\n",
    "* Если объектов много, то стройте несколько графиков только на подвыборке объектов.\n"
   ]
  },
  {
   "cell_type": "markdown",
   "metadata": {},
   "source": [
    "[[git] 🐾 Пример EDA](https://github.com/WillKoehrsen/machine-learning-project-walkthrough/blob/master/Machine%20Learning%20Project%20Part%201.ipynb)\n",
    "\n",
    "[[blog] ✏️ Примеры графиков matplotlib](https://habr.com/ru/articles/468295/)\n",
    "\n",
    "[[video] 📺 Курс лекций с разбором практических задач с применением EDA](https://www.youtube.com/watch?v=FNDQYM0hjh0&list=PLaRUeIuewv8CMFox0oEjlyePUhUmo-x0h)"
   ]
  },
  {
   "cell_type": "markdown",
   "metadata": {},
   "source": [
    "# Генерация признаков\n"
   ]
  },
  {
   "cell_type": "markdown",
   "metadata": {},
   "source": [
    "Общая схема классического машинного обучения выглядит так. Даже в случае нейросетей некоторая предобработка исходных данных все равно не бывает лишней."
   ]
  },
  {
   "cell_type": "markdown",
   "metadata": {},
   "source": [
    "<img src =\"https://edunet.kea.su/repo/EduNet-content/dev-2.0/L04/out/data_preparation.png\" width=\"600\">"
   ]
  },
  {
   "cell_type": "markdown",
   "metadata": {},
   "source": [
    "\n",
    "\n",
    "**Генерация признаков** &mdash; процесс создания числовых представлений данных.\n",
    "\n",
    "\n",
    "\n",
    "\n",
    "\n"
   ]
  },
  {
   "cell_type": "markdown",
   "metadata": {},
   "source": [
    "Процесс создания признаков зависит от модели, которую мы собираемся использовать.\n",
    "\n",
    "Для одних моделей (**линейные, древесные модели**) может быть полезно добавить признаки, полученные **делением/перемножением** исходных. Другие модели (например, **SVM**) могут провести эти операции сами, причем, экономнее/менее переобучаясь.\n",
    "\n",
    "Добавление признаков, явно зависящих друг от друга, мешает некоторым моделям. Например, плохая идея — дублировать в линейной модели признаки X1 и X2, или добавлять их сумму."
   ]
  },
  {
   "cell_type": "markdown",
   "metadata": {},
   "source": [
    "<img src =\"https://edunet.kea.su/repo/EduNet-content/dev-2.0/L04/out/process_of_generation_features.png\" width=\"700\">"
   ]
  },
  {
   "cell_type": "markdown",
   "metadata": {},
   "source": [
    "**Feature engineering** является критическим местом (**bottleneck**), в машинном обучении. На этом этапе определяется, **что модель будет знать о данных**. Можно упростить задачу для модели, подав подходящий набор признаков, или ввести модель в заблуждения, допустив критические ошибки.\n",
    "\n",
    "ML модели “ленивы”: если дать модели **подсказку** об ответе, она **не будет искать сложные закономерности в данных**. Такой подсказкой может быть **id покупателя**. Для покупателя, который каждую неделю покупает одно и то же, модель выучит, что надо предсказывать все по признаку id. Если покупатель изменит свое поведение или придет новый покупатель, то модель может выдавать неадекватные предсказания. Такую же роль может сыграть информация о **номере эксперимента**, **лаборатории**, в которой его проводили, **аспиранте**, который его проводил, и т.д. Эта ситуация будет называться **Data Leakage**.\n",
    "Перечисленная выше информация может быть важна для **анализа исходных данных**, например, можно выяснить, что у прибора в лаборатории А проблемы с калибровкой.\n",
    "\n"
   ]
  },
  {
   "cell_type": "markdown",
   "metadata": {},
   "source": [
    "## Baseline"
   ]
  },
  {
   "cell_type": "markdown",
   "metadata": {},
   "source": [
    "При решении задачи машинного обучения важно оценивать результат. Один из способов оценить результат — это сделать базовое решение задачи. Как правило, это решение, которое требует мало времени для реализации и явно лучше случайного ответа. Далее, улучшая решение, мы можем понимать, насколько оно лучше базового и что на это повлияло (подбор гиперпараметров, кодирование признаков, генерация признаков и многое другое)."
   ]
  },
  {
   "cell_type": "markdown",
   "metadata": {},
   "source": [
    "Постановка задачи следующая:\n",
    "\n",
    "Автомобильная компания выходит на новый рынок. После интенсивного исследования рынка они пришли к выводу, что поведение нового рынка похоже на их существующий рынок. На существующем рынке отдел продаж, изучив поведение клиентов, разделил их на сегменты (классы) A, B, C, D. Для нового рынка данных о поведении нет, но есть данные о потенциальных клиентах (пол, возраст, образование, уровень дохода, состав семьи и т.д.). Нужно классифицировать потенциальных клиентов.\n",
    "\n"
   ]
  },
  {
   "cell_type": "markdown",
   "metadata": {},
   "source": [
    "Загрузим [датасет 🛠️[doc]]((https://www.kaggle.com/code/iamhungundji/customer-segmentation/input)) и посмотрим, какие есть признаки:"
   ]
  },
  {
   "cell_type": "code",
   "execution_count": null,
   "metadata": {},
   "outputs": [],
   "source": [
    "import pandas as pd\n",
    "\n",
    "data = pd.read_csv(\n",
    "    \"https://edunet.kea.su/repo/EduNet-web_dependencies/datasets/customer_segmentation.csv\"\n",
    ")\n",
    "data"
   ]
  },
  {
   "cell_type": "code",
   "execution_count": null,
   "metadata": {},
   "outputs": [],
   "source": [
    "data.info()"
   ]
  },
  {
   "cell_type": "markdown",
   "metadata": {},
   "source": [
    "Посмотрим признак `Family_Size`. По смыслу он не подразумевает вещественных значений, хотя хранится в формате `float64`:"
   ]
  },
  {
   "cell_type": "code",
   "execution_count": null,
   "metadata": {},
   "outputs": [],
   "source": [
    "data[\"Family_Size\"].unique()"
   ]
  },
  {
   "cell_type": "markdown",
   "metadata": {},
   "source": [
    "Действительно, все значения целые. В нашем случае не критично, но если датасет большой, то имеет смысл привести формат данных к более компактному представлению."
   ]
  },
  {
   "cell_type": "markdown",
   "metadata": {},
   "source": [
    "Видно, что есть пропуски. Для базового решения можно удалить или заполнить нулями. Мы заполним нулями и переведем все категориальные признаки в формат one-hot encoding"
   ]
  },
  {
   "cell_type": "code",
   "execution_count": null,
   "metadata": {},
   "outputs": [],
   "source": [
    "from sklearn.model_selection import train_test_split\n",
    "\n",
    "data[\"Segmentation\"] = data[\"Segmentation\"].map({\"D\": 1, \"A\": 2, \"C\": 3, \"B\": 4})\n",
    "data.fillna(0, inplace=True)\n",
    "data.drop(columns=[\"ID\"], inplace=True)\n",
    "data = pd.get_dummies(data)  # to ohe\n",
    "\n",
    "x = data.drop(columns=[\"Segmentation\"], axis=1)\n",
    "y = data[\"Segmentation\"]\n",
    "x_train, x_test, y_train, y_test = train_test_split(\n",
    "    x, y, test_size=0.3, random_state=42\n",
    ")\n",
    "\n",
    "print(\"Shape of x_train :\", x_train.shape)\n",
    "print(\"Shape of y_train :\", y_train.shape)\n",
    "print(\"Shape of x_test :\", x_test.shape)\n",
    "print(\"Shape of y_test :\", y_test.shape)"
   ]
  },
  {
   "cell_type": "markdown",
   "metadata": {},
   "source": [
    "Запустим модель случайного леса и посмотрим, какой результат получится:"
   ]
  },
  {
   "cell_type": "code",
   "execution_count": null,
   "metadata": {},
   "outputs": [],
   "source": [
    "import seaborn as sns\n",
    "import matplotlib.pyplot as plt\n",
    "from sklearn.ensemble import RandomForestClassifier\n",
    "from sklearn.metrics import confusion_matrix\n",
    "from sklearn.metrics import classification_report\n",
    "\n",
    "\n",
    "def train_and_plot(x_train, y_train, x_test, y_test):\n",
    "    model = RandomForestClassifier(random_state=42)\n",
    "    model.fit(x_train, y_train)\n",
    "\n",
    "    y_pred = model.predict(x_test)\n",
    "\n",
    "    # evaluating the model\n",
    "    print(\"Training Accuracy: \", model.score(x_train, y_train).round(3))\n",
    "    print(\"Testing Accuracy: \", model.score(x_test, y_test).round(3))\n",
    "\n",
    "    # confusion matrix\n",
    "    cm = confusion_matrix(y_test, y_pred, normalize=\"all\")\n",
    "    plt.figure(figsize=(6, 6))\n",
    "    sns.heatmap(cm, annot=True)\n",
    "\n",
    "    # classification report\n",
    "    cr = classification_report(y_test, y_pred)\n",
    "    print(cr)\n",
    "\n",
    "\n",
    "train_and_plot(x_train, y_train, x_test, y_test)"
   ]
  },
  {
   "cell_type": "markdown",
   "metadata": {},
   "source": [
    "## Генерация признаков, полученных при помощи другой модели"
   ]
  },
  {
   "cell_type": "markdown",
   "metadata": {},
   "source": [
    "Мы можем использовать другие модели, чтобы получить новые признаки для наших данных. Например, используя разные модели, можем использовать их предсказания, как новые признаки. В каком-то смысле мы это уже делали на прошлой лекции, разбирая блендинг."
   ]
  },
  {
   "cell_type": "markdown",
   "metadata": {},
   "source": [
    "**Генерация бинарного признакового пространства с помощью RandomForest:**\n",
    "\n",
    "<img src =\"https://edunet.kea.su/repo/EduNet-content/dev-2.0/L04/out/generating_features_using_model.png\" width=\"700\">"
   ]
  },
  {
   "cell_type": "markdown",
   "metadata": {},
   "source": [
    "[[colab] 🥨 Генерация признаков с использованием RandomForest и GradientBoosting ](https://colab.research.google.com/drive/1pVRkaTksyXqbdpfYvTSFuq9rlH2KVSmB)"
   ]
  },
  {
   "cell_type": "markdown",
   "metadata": {},
   "source": [
    "### IsolationForest"
   ]
  },
  {
   "cell_type": "markdown",
   "metadata": {},
   "source": [
    "Добавим новый бинарный признак, используя `IsolationForest`:"
   ]
  },
  {
   "cell_type": "code",
   "execution_count": null,
   "metadata": {},
   "outputs": [],
   "source": [
    "from sklearn.ensemble import IsolationForest\n",
    "\n",
    "n_estimators = 300\n",
    "contamination = 0.1  # threshold\n",
    "\n",
    "model = IsolationForest(\n",
    "    n_estimators=n_estimators, contamination=\"auto\", random_state=42\n",
    ")\n",
    "model.fit(x_train)\n",
    "x_train[\"new_feature_1\"] = model.predict(x_train)\n",
    "x_test[\"new_feature_1\"] = model.predict(x_test)"
   ]
  },
  {
   "cell_type": "markdown",
   "metadata": {},
   "source": [
    "Обратите внимание, что при генерации новых признаков важно не переобучиться и не допустить утечку данных, поэтому мы обучаем `IsolationForest` на трейне, а не на всей выборке."
   ]
  },
  {
   "cell_type": "code",
   "execution_count": null,
   "metadata": {},
   "outputs": [],
   "source": [
    "train_and_plot(x_train, y_train, x_test, y_test)"
   ]
  },
  {
   "cell_type": "markdown",
   "metadata": {},
   "source": [
    "Качество немного улучшилось."
   ]
  },
  {
   "cell_type": "markdown",
   "metadata": {},
   "source": [
    "### KMeans"
   ]
  },
  {
   "cell_type": "markdown",
   "metadata": {},
   "source": [
    "Можем использовать алгоритмы кластеризации, чтобы получить новые признаки. Количество кластеров можно подбирать, оно не всегда должно быть равно количеству классов. Для примера возьмем `n_clusters=12`."
   ]
  },
  {
   "cell_type": "code",
   "execution_count": null,
   "metadata": {},
   "outputs": [],
   "source": [
    "import sklearn.cluster as cluster\n",
    "\n",
    "clusters = cluster.KMeans(n_clusters=12, n_init=\"auto\", random_state=42).fit(x_train)\n",
    "\n",
    "x_train[\"new_feature_2\"] = clusters.predict(x_train)\n",
    "x_test[\"new_feature_2\"] = clusters.predict(x_test)\n",
    "x_train.head(3)"
   ]
  },
  {
   "cell_type": "code",
   "execution_count": null,
   "metadata": {},
   "outputs": [],
   "source": [
    "train_and_plot(x_train, y_train, x_test, y_test)"
   ]
  },
  {
   "cell_type": "markdown",
   "metadata": {},
   "source": [
    "## Ручная генерация признаков"
   ]
  },
  {
   "cell_type": "markdown",
   "metadata": {},
   "source": [
    "Можем генерировать признаки самостоятельно, придумывая различные гипотезы и эвристики. Это творческий процесс, и нет точного рецепта, какие признаки стоит сгенерировать. Также генерация признаков зависит от модели, для которой эти признаки генерируем. Например, признаки, описывающие нелинейное взаимодействие, могут кардинально изменить качество линейной модели.\n",
    "\n",
    "Наша задача — рассмотреть инструменты для генерации признаков."
   ]
  },
  {
   "cell_type": "code",
   "execution_count": null,
   "metadata": {},
   "outputs": [],
   "source": [
    "data = pd.read_csv(\n",
    "    \"https://edunet.kea.su/repo/EduNet-web_dependencies/datasets/customer_segmentation.csv\"\n",
    ")\n",
    "data.dropna(inplace=True)"
   ]
  },
  {
   "cell_type": "code",
   "execution_count": null,
   "metadata": {},
   "outputs": [],
   "source": [
    "data.head(3)"
   ]
  },
  {
   "cell_type": "markdown",
   "metadata": {},
   "source": [
    "В этот раз закодируем признаки по их присутствию в данных:"
   ]
  },
  {
   "cell_type": "code",
   "execution_count": null,
   "metadata": {},
   "outputs": [],
   "source": [
    "data[\"Profession\"].value_counts()"
   ]
  },
  {
   "cell_type": "code",
   "execution_count": null,
   "metadata": {},
   "outputs": [],
   "source": [
    "data[\"Gender\"] = data[\"Gender\"].map({\"Male\": 1, \"Female\": 0})\n",
    "\n",
    "data[\"Graduated\"] = data[\"Graduated\"].map({\"Yes\": 1, \"No\": 0})\n",
    "\n",
    "data[\"Ever_Married\"] = data[\"Ever_Married\"].map({\"Yes\": 1, \"No\": 0})\n",
    "\n",
    "data[\"Spending_Score\"] = data[\"Spending_Score\"].map({\"High\": 1, \"Average\": 2, \"Low\": 3})\n",
    "\n",
    "data[\"Var_1\"] = data[\"Var_1\"].map(\n",
    "    {\"Cat_6\": 1, \"Cat_4\": 2, \"Cat_3\": 3, \"Cat_2\": 4, \"Cat_7\": 5, \"Cat_1\": 6, \"Cat_5\": 7}\n",
    ")\n",
    "\n",
    "data[\"Segmentation\"] = data[\"Segmentation\"].map({\"D\": 1, \"A\": 2, \"C\": 3, \"B\": 4})\n",
    "\n",
    "data[\"Profession\"] = data[\"Profession\"].map(\n",
    "    {\n",
    "        \"Artist\": 1,\n",
    "        \"Healthcare\": 2,\n",
    "        \"Entertainment\": 3,\n",
    "        \"Doctor\": 4,\n",
    "        \"Engineer\": 5,\n",
    "        \"Executive\": 5,\n",
    "        \"Lawyer\": 6,\n",
    "        \"Marketing\": 7,\n",
    "        \"Homemaker\": 8,\n",
    "    }\n",
    ")\n",
    "data.head(5)"
   ]
  },
  {
   "cell_type": "markdown",
   "metadata": {},
   "source": [
    "Можем производить различные математические операции с признаками: перемножать, делить, складывать и т.д. Для временных рядов полезно брать производные, считать стандартное отклонение и т.д\n",
    "\n",
    "Для примера перемножим признак `Age` и `Work_Experience`"
   ]
  },
  {
   "cell_type": "code",
   "execution_count": null,
   "metadata": {},
   "outputs": [],
   "source": [
    "data[\"new_feature_1\"] = data[\"Age\"] * data[\"Work_Experience\"]\n",
    "data.head(3)"
   ]
  },
  {
   "cell_type": "markdown",
   "metadata": {},
   "source": [
    "Полезный метод для генерации признаков — это `pd.groupby` [🛠️[doc]](https://pandas.pydata.org/docs/reference/api/pandas.DataFrame.groupby.html).\n",
    "\n",
    "Посчитаем средний возраст для каждой профессии и опыта работы:"
   ]
  },
  {
   "cell_type": "code",
   "execution_count": null,
   "metadata": {},
   "outputs": [],
   "source": [
    "data[\"new_feature_2\"] = data.groupby([\"Profession\", \"Work_Experience\"], as_index=False)[\n",
    "    \"Age\"\n",
    "].transform(\"mean\")\n",
    "data.head(3)"
   ]
  },
  {
   "cell_type": "markdown",
   "metadata": {},
   "source": [
    "Можно использовать разные функции. Например, медиану:"
   ]
  },
  {
   "cell_type": "code",
   "execution_count": null,
   "metadata": {},
   "outputs": [],
   "source": [
    "data[\"new_feature_3\"] = data.groupby([\"Spending_Score\", \"Family_Size\"], as_index=False)[\n",
    "    \"Var_1\"\n",
    "].transform(\"median\")\n",
    "data.head(3)"
   ]
  },
  {
   "cell_type": "markdown",
   "metadata": {},
   "source": [
    "Также можем написать свою функции и использовать ее:"
   ]
  },
  {
   "cell_type": "code",
   "execution_count": null,
   "metadata": {},
   "outputs": [],
   "source": [
    "import numpy as np\n",
    "\n",
    "custom_func = lambda x: np.percentile(x, 75)\n",
    "data[\"new_feature_4\"] = data.groupby([\"Spending_Score\", \"Family_Size\"], as_index=False)[\n",
    "    \"Age\"\n",
    "].transform(custom_func)\n",
    "data.head(3)"
   ]
  },
  {
   "cell_type": "markdown",
   "metadata": {},
   "source": [
    "Можем сгенерировать новую таблицу признаков, используя `pivot_table` [🛠️[doc]](https://pandas.pydata.org/docs/reference/api/pandas.pivot_table.html):\n"
   ]
  },
  {
   "cell_type": "markdown",
   "metadata": {},
   "source": [
    "```\n",
    "data.pivot_table(\n",
    "    index=\"index\",\n",
    "    columns=[\"columns\"],  \n",
    "    values=[\"values\"],  \n",
    "    aggfunc=[\"mean\"],  \n",
    ")\n",
    "```"
   ]
  },
  {
   "cell_type": "markdown",
   "metadata": {},
   "source": [
    "\n",
    "<img src =\"https://edunet.kea.su/repo/EduNet-content/dev-2.0/L04/out/pivot_table.png\" width=\"700\">"
   ]
  },
  {
   "cell_type": "code",
   "execution_count": null,
   "metadata": {},
   "outputs": [],
   "source": [
    "data_pivot = data.pivot_table(\n",
    "    index=\"Family_Size\",  # indexes\n",
    "    columns=[\"Var_1\"],  # new columns\n",
    "    values=[\"Age\"],  # values are used fo aggfunc\n",
    "    aggfunc=[\"mean\", \"count\"],  # mean/count/sum\n",
    ").fillna(0)\n",
    "\n",
    "data_pivot.columns = [f\"Cat{int(i[2])}_{i[0]}\" for i in data_pivot.columns]\n",
    "data_pivot.reset_index(inplace=True)\n",
    "\n",
    "data_pivot.head(3)"
   ]
  },
  {
   "cell_type": "markdown",
   "metadata": {},
   "source": [
    "А потом соединить ее с исходной:"
   ]
  },
  {
   "cell_type": "code",
   "execution_count": null,
   "metadata": {},
   "outputs": [],
   "source": [
    "data = data.merge(data_pivot, how=\"inner\", on=\"Family_Size\")\n",
    "data.head(3)"
   ]
  },
  {
   "cell_type": "markdown",
   "metadata": {},
   "source": [
    "Мы довольно быстро увеличили количество признаков в нашем датасете. Проверим, как это повлияло на качество:"
   ]
  },
  {
   "cell_type": "code",
   "execution_count": null,
   "metadata": {},
   "outputs": [],
   "source": [
    "data.drop(columns=[\"ID\"], inplace=True)\n",
    "\n",
    "x = data.drop(columns=[\"Segmentation\"], axis=1)\n",
    "y = data[\"Segmentation\"]\n",
    "\n",
    "x_train, x_test, y_train, y_test = train_test_split(\n",
    "    x, y, test_size=0.3, random_state=42\n",
    ")\n",
    "\n",
    "print(\"Shape of x_train :\", x_train.shape)\n",
    "print(\"Shape of y_train :\", y_train.shape)\n",
    "print(\"Shape of x_test :\", x_test.shape)\n",
    "print(\"Shape of y_test :\", y_test.shape)"
   ]
  },
  {
   "cell_type": "code",
   "execution_count": null,
   "metadata": {},
   "outputs": [],
   "source": [
    "train_and_plot(x_train, y_train, x_test, y_test)"
   ]
  },
  {
   "cell_type": "markdown",
   "metadata": {},
   "source": [
    "Стало хуже. Возможно, какие-то признаки и улучшали качество, но другие его испортили сильнее. После того, как мы нагенерировали много признаков, стоит задуматься о том, какие признаки улучшают качество, а какие его ухудшают."
   ]
  },
  {
   "cell_type": "markdown",
   "metadata": {},
   "source": [
    "# Отбор признаков"
   ]
  },
  {
   "cell_type": "markdown",
   "metadata": {},
   "source": [
    "Рассмотрим способы и подходы, чтобы отделять полезные признаки от бесполезных."
   ]
  },
  {
   "cell_type": "markdown",
   "metadata": {},
   "source": [
    "## Зачем отбирать признаки"
   ]
  },
  {
   "cell_type": "markdown",
   "metadata": {},
   "source": [
    "* **Количество необходимых признаков может оказаться избытычным для решения задачи**\n",
    "\n",
    "Не всегда нужно использовать все признаки, которые у нас есть и которые мы можем нагенерировать. Нам нужны только те признаки, которые позволяют решить задачу.\n"
   ]
  },
  {
   "cell_type": "markdown",
   "metadata": {},
   "source": [
    "* **Некоторые признаки могут оказаться шумом**\n",
    "\n",
    "Признаки могут коррелировать с целевой переменной случайно. Если провести эксперимент и сгенерировать большое количество случайных признаков для нашего датасета, мы можем заметить эффект, что некоторые из них действительно улучшают качество предсказания, но это никак не связано с реальной закономерностью. На новых (тестовых) данных мы обнаружим неадекватность предсказаний.\n",
    "\n",
    "В более общем случае можно говорить, что в многомерном пространстве почти всегда можно найти корреляции:"
   ]
  },
  {
   "cell_type": "markdown",
   "metadata": {},
   "source": [
    "<center><img src=\"https://edunet.kea.su/repo/EduNet-content/dev-2.0/L04/out/fake_correlations.png\" alt=\"alttext\" width=\"700\"/></center>\n",
    "\n",
    "<center><em>В многоразмерном пространстве почти всегда можно найти корреляции. Из корреляции не следует причинно-следственная связь.</em></center>\n",
    "\n",
    "<center><em>Source: <a href=\"https://tylervigen.com/spurious-correlations\">Spurious correlations</a></em></center>"
   ]
  },
  {
   "cell_type": "markdown",
   "metadata": {},
   "source": [
    "[[blog] ✏️ Больше подобных примеров](https://www.wnycstudios.org/podcasts/otm/articles/spurious-correlations)"
   ]
  },
  {
   "cell_type": "markdown",
   "metadata": {},
   "source": [
    "**Скорость работы модели часто имеет значение**\n",
    "\n",
    "В практических задачах часто приходится искать компромисс между точностью предсказания модели и временем его получения.\n",
    "\n",
    "Спектр таких задач достаточно широк: от проблем построения быстрых систем ранжирования рекламных объявлений в интернет-маркетинге до построения быстрых систем распознавания сложных событий на ускорителях заряженных частиц.\n",
    "\n",
    "Вычислительная сложность модели растёт с увеличением числа входных признаков, поэтому работающие с меньшим числом признаков модели являются предпочтительными."
   ]
  },
  {
   "cell_type": "markdown",
   "metadata": {},
   "source": [
    "## Полный перебор"
   ]
  },
  {
   "cell_type": "markdown",
   "metadata": {},
   "source": [
    "Можно попытаться перебрать все возможные комбинации признаков. Однако даже для 100 признаков такой подход будет считаться до конца Вселенной.\n",
    "\n",
    "Потому прибегают к эвристикам, которые могут пропускать оптимальное решение."
   ]
  },
  {
   "cell_type": "markdown",
   "metadata": {},
   "source": [
    "## Одномерный отбор признаков"
   ]
  },
  {
   "cell_type": "markdown",
   "metadata": {},
   "source": [
    "Самый простой подход к отбору признаков — это одномерный подход. В нём оценивается связь каждого признака с целевой переменной, например, измеряется корреляция.\n",
    "\n",
    "Такой подход не учитывает сложные закономерности: в нём все признаки считаются независимыми, тогда как в машинном обучении модели учитывают взаимное влияние признаков, их пар или даже более сложные взаимодействия."
   ]
  },
  {
   "cell_type": "markdown",
   "metadata": {},
   "source": [
    "Будем использовать датасет Титаник, загрузим данные:"
   ]
  },
  {
   "cell_type": "code",
   "execution_count": null,
   "metadata": {},
   "outputs": [],
   "source": [
    "import pandas as pd\n",
    "\n",
    "dataset = pd.read_csv(\n",
    "    \"https://edunet.kea.su/repo/EduNet-web_dependencies/datasets/titanic.csv\"\n",
    ")\n",
    "dataset.head(5)"
   ]
  },
  {
   "cell_type": "markdown",
   "metadata": {},
   "source": [
    "Сделаем предобработку и кодирование признаков:"
   ]
  },
  {
   "cell_type": "code",
   "execution_count": null,
   "metadata": {},
   "outputs": [],
   "source": [
    "from sklearn.experimental import enable_iterative_imputer\n",
    "from sklearn.impute import IterativeImputer\n",
    "import numpy as np\n",
    "\n",
    "title_mapping = {\"Mr\": 4, \"Miss\": 3, \"Mrs\": 2, \"Master\": 1}\n",
    "# get title from name and encode by title_mapping, another titles fill zero\n",
    "dataset[\"Title\"] = (\n",
    "    dataset.Name.str.extract(\" ([A-Za-z]+)\\.\", expand=False)\n",
    "    .map(title_mapping)\n",
    "    .fillna(0)\n",
    ")\n",
    "# encode to binary column\n",
    "dataset[\"Sex\"] = dataset[\"Sex\"].map({\"male\": 1, \"female\": 0})\n",
    "# ordinary encode by values_count\n",
    "dataset[\"Embarked\"] = dataset[\"Embarked\"].map({np.nan: 0, \"S\": 0, \"Q\": 1, \"C\": 2})\n",
    "# parse cabin to get deck A, B, C etc\n",
    "dataset[\"Deck\"] = dataset[\"Cabin\"].str.extract(\"([A-Za-z])\")\n",
    "# parse cabin to get cabin number\n",
    "dataset[\"Cabin_Number\"] = dataset[\"Cabin\"].str.extract(\"(\\d+)\").astype(float).fillna(0)\n",
    "# get sqrt fare\n",
    "dataset[\"sqrt_Fare\"] = np.sqrt(dataset[\"Fare\"])\n",
    "# deck encode to ohe format\n",
    "deck_to_ohe = pd.get_dummies(dataset[\"Deck\"], prefix=\"Cab\", dummy_na=True)\n",
    "# add ohe features to dataset\n",
    "dataset = pd.concat([dataset, deck_to_ohe], axis=1)\n",
    "# drop unnecessary columns\n",
    "dataset.drop(\n",
    "    columns=[\"Name\", \"Ticket\", \"Cabin\", \"PassengerId\", \"Deck\", \"Fare\"], inplace=True\n",
    ")\n",
    "# train imputer to fiil nans for age\n",
    "imputer = IterativeImputer()\n",
    "imputer.fit(dataset[[\"Age\", \"Title\", \"sqrt_Fare\"]])\n",
    "# fill age nans by imputer\n",
    "dataset[\"Age\"] = imputer.transform(dataset[[\"Age\", \"Title\", \"sqrt_Fare\"]])\n",
    "\n",
    "dataset.head(5)"
   ]
  },
  {
   "cell_type": "markdown",
   "metadata": {},
   "source": [
    "Дополнительно добавим в наш датасет случайные признаки, чтобы оценить, как методы отбора будут учитывать их:"
   ]
  },
  {
   "cell_type": "code",
   "execution_count": null,
   "metadata": {},
   "outputs": [],
   "source": [
    "random_features = pd.read_csv(\n",
    "    \"https://edunet.kea.su/repo/EduNet-web_dependencies/datasets/random_features.csv\"\n",
    ")\n",
    "dataset = pd.concat([dataset, random_features], axis=1)\n",
    "dataset.head(5)"
   ]
  },
  {
   "cell_type": "markdown",
   "metadata": {},
   "source": [
    "Оценим, как признаки коррелируют с целевой переменной. Будем использовать корреляцию Пирсона, но можно использовать и другую:"
   ]
  },
  {
   "cell_type": "code",
   "execution_count": null,
   "metadata": {},
   "outputs": [],
   "source": [
    "from scipy import stats\n",
    "from sklearn.model_selection import train_test_split\n",
    "import matplotlib.pyplot as plt\n",
    "\n",
    "x = dataset.drop(columns=[\"Survived\"])\n",
    "y = dataset[\"Survived\"]\n",
    "\n",
    "x_train, x_test, y_train, y_test = train_test_split(\n",
    "    x, y, test_size=0.2, random_state=42\n",
    ")\n",
    "\n",
    "correlations = []  # create a storage for correlations\n",
    "for column in x:\n",
    "    r, p_value = stats.pearsonr(x_train[column], y_train)  # compute Pearson and R\n",
    "    correlations.append((column, abs(r).round(3)))  # add to storage\n",
    "\n",
    "df_corr = (\n",
    "    pd.DataFrame(correlations, columns=[\"Corr_feature\", \"Correlation\"])\n",
    "    .sort_values(\"Correlation\", ascending=False)\n",
    "    .reset_index(drop=True)\n",
    ")\n",
    "\n",
    "sorted_idx = np.argsort(df_corr[\"Correlation\"])\n",
    "fig = plt.figure(figsize=(10, 5))\n",
    "plt.barh(\n",
    "    range(df_corr.shape[0]), df_corr[\"Correlation\"].iloc[sorted_idx], align=\"center\"\n",
    ")\n",
    "plt.yticks(range(df_corr.shape[0]), df_corr[\"Corr_feature\"].iloc[sorted_idx])\n",
    "plt.title(\"Feature Correlation\")\n",
    "plt.show()"
   ]
  },
  {
   "cell_type": "markdown",
   "metadata": {},
   "source": [
    "Следующая идея — посчитать ROC-AUC по признаку, учитывая его как предсказание модели. Если ROC-AUC высокий (нас интересуют только абсолютные значения), то признак важный."
   ]
  },
  {
   "cell_type": "code",
   "execution_count": null,
   "metadata": {},
   "outputs": [],
   "source": [
    "from sklearn.metrics import roc_auc_score\n",
    "\n",
    "rocs = []  # create a storage for ROCs\n",
    "for column in x:\n",
    "    # use feature as score directly\n",
    "    r1 = roc_auc_score(y_score=x_train[column], y_true=y_train)\n",
    "    # use feature as score in reversed manner\n",
    "    r2 = roc_auc_score(y_score=-x_train[column], y_true=y_train)\n",
    "    r = max(r1, r2)\n",
    "    rocs.append((column, r.round(3)))\n",
    "\n",
    "df_rocs = (\n",
    "    pd.DataFrame(rocs, columns=[\"Rocs_feature\", \"Rocs\"])\n",
    "    .sort_values(\"Rocs\", ascending=False)\n",
    "    .reset_index(drop=True)\n",
    ")  # sort from highest to lowest\n",
    "\n",
    "sorted_idx = np.argsort(df_rocs[\"Rocs\"])\n",
    "fig = plt.figure(figsize=(10, 5))\n",
    "plt.barh(range(df_rocs.shape[0]), df_rocs[\"Rocs\"].iloc[sorted_idx], align=\"center\")\n",
    "plt.yticks(range(df_rocs.shape[0]), df_rocs[\"Rocs_feature\"].iloc[sorted_idx])\n",
    "plt.title(\"Feature Rocs\")\n",
    "plt.show()"
   ]
  },
  {
   "cell_type": "markdown",
   "metadata": {},
   "source": [
    "Или использовать уже нам знакомую phik корреляцию:"
   ]
  },
  {
   "cell_type": "code",
   "execution_count": null,
   "metadata": {},
   "outputs": [],
   "source": [
    "!pip install -q phik"
   ]
  },
  {
   "cell_type": "code",
   "execution_count": null,
   "metadata": {},
   "outputs": [],
   "source": [
    "import phik\n",
    "\n",
    "df_phik = (\n",
    "    dataset.phik_matrix(interval_cols=dataset.columns)\n",
    "    .round(3)\n",
    "    .sort_values(\"Survived\", ascending=False)\n",
    "    .reset_index()[[\"index\", \"Survived\"]][1:]\n",
    "    .rename(columns={\"index\": \"Phik_feature\", \"Survived\": \"Phik\"})\n",
    "    .reset_index(drop=True)\n",
    ")\n",
    "\n",
    "sorted_idx = np.argsort(df_phik[\"Phik\"])\n",
    "fig = plt.figure(figsize=(10, 5))\n",
    "plt.barh(range(df_phik.shape[0]), df_phik[\"Phik\"].iloc[sorted_idx], align=\"center\")\n",
    "plt.yticks(range(df_phik.shape[0]), df_phik[\"Phik_feature\"].iloc[sorted_idx])\n",
    "plt.title(\"Feature Phik\")\n",
    "plt.show()"
   ]
  },
  {
   "cell_type": "markdown",
   "metadata": {},
   "source": [
    "Посмотрим все методы в общей таблице, чтобы сравнить порядок признаков:"
   ]
  },
  {
   "cell_type": "code",
   "execution_count": null,
   "metadata": {},
   "outputs": [],
   "source": [
    "pd.concat([df_corr, df_rocs, df_phik], axis=1)"
   ]
  },
  {
   "cell_type": "markdown",
   "metadata": {},
   "source": [
    "Как мы видим, не все случайные признаки находятся в самом низу. Некоторые из них имеют более высокую оценку, чем наши исходные.\n",
    "\n",
    "**Важно!** Это не означает, что признаки, которые находятся ниже случайных, плохие."
   ]
  },
  {
   "cell_type": "markdown",
   "metadata": {},
   "source": [
    "### Проблемы одномерного отбора признаков"
   ]
  },
  {
   "cell_type": "markdown",
   "metadata": {},
   "source": [
    "<img src=\"https://edunet.kea.su/repo/EduNet-content/dev-2.0/L04/out/problems_of_one_dimensional_feature_selection.png\" alt=\"alttext\" width=\"600\"/>"
   ]
  },
  {
   "cell_type": "markdown",
   "metadata": {},
   "source": [
    "У подхода, при котором важности всех признаков оцениваются по отдельности, есть свои недостатки. На левом рисунке изображена двумерная выборка, для которой необходимо решить задачу классификации. Если спроецировать данную выборку на ось абсцисс, то она будет разделима, хотя и будут присутствовать ошибки. Если же спроецировать данную выборку на ось ординат, то все объекты разных классов перемешаются, и выборка будет неразделима. В этом случае при использовании любого метода одномерного оценивания информативности первый признак будет информативен, а второй — совершенно неинформативен."
   ]
  },
  {
   "cell_type": "markdown",
   "metadata": {},
   "source": [
    "Тем не менее, видно, что если использовать эти признаки одновременно, то классы будут разделимы идеально. Второй признак важен, но он важен только в совокупности с первым, и методы одномерного оценивания информативности не способны это определить.\n",
    "\n",
    "На рисунке справа показана выборка, на которой одномерные методы оценки информативности работают ещё хуже. В этом случае, если спроецировать выборку на ось абсцисс или ординат, то объекты классов перемешаются, и в обоих случаях данные будут совершенно неразделимы. И, согласно любому из описанных методов, оба признака неинформативны. Тем не менее, если использовать их одновременно, то, например, решающее дерево может идеально решить данную задачу классификации."
   ]
  },
  {
   "cell_type": "markdown",
   "metadata": {},
   "source": [
    "Пример: влияние роста и веса при предсказании вероятности сердечного заболевания. Избыточный вес может являться важным фактором, но оценить, является ли он избыточным или нормальным, можно только зная рост пациента."
   ]
  },
  {
   "cell_type": "markdown",
   "metadata": {},
   "source": [
    "## Отбор признаков на основе моделей"
   ]
  },
  {
   "cell_type": "markdown",
   "metadata": {},
   "source": [
    "### Линейная модель"
   ]
  },
  {
   "cell_type": "markdown",
   "metadata": {},
   "source": [
    "Использование весов признаков.\n",
    "\n",
    "В линейных моделях перед признаками стоят веса. Веса при признаках можно интерпретировать как информативности: чем больше по модулю вес при признаке, тем больший вклад этот признак вносит в ответ модели.\n",
    "\n",
    "**Важно! Признаки должны быть отмасштабированы!**\n",
    "\n",
    "Дополнительно можно использовать регулиризацию для отбора признаков.\n",
    "\n",
    "Чем больше коэффициент при L1-регуляризаторе, тем меньше признаков будет использовать линейная модель (она занулит неинформативные признаки)."
   ]
  },
  {
   "cell_type": "markdown",
   "metadata": {},
   "source": [
    "<img src =\"https://edunet.kea.su/repo/EduNet-content/dev-2.0/L04/out/weight_importances.png\" width=\"600\">"
   ]
  },
  {
   "cell_type": "markdown",
   "metadata": {},
   "source": [
    "[[doc] 🛠️ Logistic Regression](https://scikit-learn.org/stable/modules/generated/sklearn.linear_model.LogisticRegression.html)"
   ]
  },
  {
   "cell_type": "markdown",
   "metadata": {},
   "source": [
    "Обучим линейную модель и посмотрим на веса для признаков:"
   ]
  },
  {
   "cell_type": "code",
   "execution_count": null,
   "metadata": {},
   "outputs": [],
   "source": [
    "from sklearn.linear_model import LogisticRegression\n",
    "from sklearn.preprocessing import StandardScaler\n",
    "import seaborn as sns\n",
    "\n",
    "scaler = StandardScaler()\n",
    "\n",
    "x_train_scaled = scaler.fit_transform(x_train)\n",
    "x_test_scaled = scaler.transform(x_test)\n",
    "\n",
    "lr = LogisticRegression(max_iter=1000)\n",
    "lr.fit(x_train_scaled, y_train)\n",
    "\n",
    "df = pd.DataFrame({\"name\": x_train.columns, \"coef\": lr.coef_[0]}).sort_values(\n",
    "    \"coef\", key=abs, ascending=False\n",
    ")\n",
    "\n",
    "df[\"colors\"] = [\n",
    "    sns.xkcd_rgb[\"orange\"] if x < 0 else sns.xkcd_rgb[\"azure\"] for x in df[\"coef\"]\n",
    "]\n",
    "\n",
    "\n",
    "plt.figure(figsize=(8, 8))\n",
    "sns.barplot(data=df, y=\"name\", x=\"coef\", palette=df.colors, orient=\"h\")\n",
    "plt.show()"
   ]
  },
  {
   "cell_type": "markdown",
   "metadata": {},
   "source": [
    "Можно использовать `SelectFromModel` [🛠️[doc]](https://scikit-learn.org/stable/modules/generated/sklearn.feature_selection.SelectFromModel.html) из библиотеки Sklearn для отбора наиболее значимых признаков:"
   ]
  },
  {
   "cell_type": "code",
   "execution_count": null,
   "metadata": {},
   "outputs": [],
   "source": [
    "from sklearn.feature_selection import SelectFromModel\n",
    "\n",
    "# selecting features based on importance weights\n",
    "lr_selector = SelectFromModel(LogisticRegression(max_iter=1000))\n",
    "lr_selector.fit(x_train_scaled, y_train)\n",
    "x_train.columns[lr_selector.get_support()]  # Get a mask of the features selected"
   ]
  },
  {
   "cell_type": "markdown",
   "metadata": {},
   "source": [
    "### Случайный лес"
   ]
  },
  {
   "cell_type": "markdown",
   "metadata": {},
   "source": [
    "У случайного леса тоже есть свои важности признаков, только в этом случае важность признака определяется так: чем больше признак уменьшает impurity при разбиении, тем он более важный:"
   ]
  },
  {
   "cell_type": "code",
   "execution_count": null,
   "metadata": {},
   "outputs": [],
   "source": [
    "from sklearn.ensemble import RandomForestClassifier\n",
    "\n",
    "rf = RandomForestClassifier(n_estimators=500, random_state=42)\n",
    "rf.fit(x_train, y_train)\n",
    "\n",
    "df = pd.DataFrame(\n",
    "    {\"name\": x_train.columns, \"imp\": rf.feature_importances_}\n",
    ").sort_values(\"imp\", key=abs, ascending=False)\n",
    "\n",
    "df[\"colors\"] = [\n",
    "    sns.xkcd_rgb[\"orange\"] if x < 0 else sns.xkcd_rgb[\"azure\"] for x in df[\"imp\"]\n",
    "]\n",
    "\n",
    "\n",
    "plt.figure(figsize=(8, 8))\n",
    "sns.barplot(data=df, y=\"name\", x=\"imp\", palette=df.colors, orient=\"h\")\n",
    "plt.show()"
   ]
  },
  {
   "cell_type": "code",
   "execution_count": null,
   "metadata": {},
   "outputs": [],
   "source": [
    "# select features with RFC\n",
    "rf = RandomForestClassifier(n_estimators=500, random_state=42)\n",
    "\n",
    "rf_selector = SelectFromModel(rf)\n",
    "rf_selector.fit(x_train, y_train)  # Fit it on the training data\n",
    "\n",
    "x_train.columns[rf_selector.get_support()]"
   ]
  },
  {
   "cell_type": "markdown",
   "metadata": {},
   "source": [
    "### Градиентный бустинг"
   ]
  },
  {
   "cell_type": "markdown",
   "metadata": {},
   "source": [
    "Такие же важности можно вытащить из градиентного бустинга. Рассмотрим на примере CatBoost:"
   ]
  },
  {
   "cell_type": "code",
   "execution_count": null,
   "metadata": {},
   "outputs": [],
   "source": [
    "!pip install -q catboost"
   ]
  },
  {
   "cell_type": "code",
   "execution_count": null,
   "metadata": {},
   "outputs": [],
   "source": [
    "from catboost import CatBoostClassifier\n",
    "\n",
    "model = CatBoostClassifier(random_state=42, thread_count=-1)\n",
    "model.fit(\n",
    "    x_train,\n",
    "    y_train,\n",
    "    eval_set=(x_test, y_test),\n",
    "    verbose=100,\n",
    "    plot=False,\n",
    "    early_stopping_rounds=100,\n",
    ")"
   ]
  },
  {
   "cell_type": "code",
   "execution_count": null,
   "metadata": {},
   "outputs": [],
   "source": [
    "feature_importance = model.feature_importances_\n",
    "sorted_idx = np.argsort(feature_importance)\n",
    "\n",
    "fig = plt.figure(figsize=(10, 5))\n",
    "plt.barh(range(len(sorted_idx)), feature_importance[sorted_idx], align=\"center\")\n",
    "plt.yticks(range(len(sorted_idx)), np.array(x.columns)[sorted_idx])\n",
    "plt.title(\"Feature Importance catboost\")\n",
    "plt.show()"
   ]
  },
  {
   "cell_type": "markdown",
   "metadata": {},
   "source": [
    "В CatBoost также есть свой метод отбора признаков `select_features` [🛠️[doc]](https://catboost.ai/en/docs/concepts/python-reference_catboost_select_features). Можно указать, какие признаки рассматривать для отбора (мы рассмотрим все признаки, параметр `features_for_select`) и количество признаков, которые нужно отобрать — `num_features_to_select`. Для примера отберем 5 признаков:"
   ]
  },
  {
   "cell_type": "code",
   "execution_count": null,
   "metadata": {},
   "outputs": [],
   "source": [
    "summary = model.select_features(\n",
    "    x_train,\n",
    "    y_train,\n",
    "    eval_set=(x_test, y_test),\n",
    "    features_for_select=\"0-22\",\n",
    "    num_features_to_select=5,\n",
    "    steps=1,\n",
    "    train_final_model=False,\n",
    "    logging_level=\"Silent\",\n",
    ")"
   ]
  },
  {
   "cell_type": "code",
   "execution_count": null,
   "metadata": {},
   "outputs": [],
   "source": [
    "print(summary[\"selected_features_names\"])"
   ]
  },
  {
   "cell_type": "markdown",
   "metadata": {},
   "source": [
    "## Randomization/Permutation\n",
    "\n"
   ]
  },
  {
   "cell_type": "markdown",
   "metadata": {},
   "source": [
    "Для определения важности признака можно перемешать его значения. Это не изменит форму распределения признака, но сделает его бессмысленным. По качеству модели мы можем оценить, каков был вклад признака до изменения: если качество упало сильно, то он был значимым.\n",
    "\n",
    "В Sklearn это реализовано как отдельный класс `permutation_importance` [🛠️[doc]](https://scikit-learn.org/stable/modules/permutation_importance.html)."
   ]
  },
  {
   "cell_type": "markdown",
   "metadata": {},
   "source": [
    "<img src=\"https://edunet.kea.su/repo/EduNet-content/dev-2.0/L04/out/permutation_importance_example.png\" alt=\"alttext\" width=\"1000\"/>"
   ]
  },
  {
   "cell_type": "markdown",
   "metadata": {},
   "source": [
    "Изменение качества модели рассчитывается на объектах, которые не вошли в обучающую выборку, а остались для валидации (не путать с тестовой выборкой, которую мы не трогаем).\n",
    "\n",
    "У данного метода есть три особенности:\n",
    "1. Значение **важности признака** будет зависеть от **результата перемешивания**, которое носит случайный характер. Поэтому функция `permutation_importance` имеет параметр `n_repeats`, который определяет, сколько раз признак будет перемешиваться случайным образом.\n",
    "2. Значение **важности признака** будет зависеть от **модели** и того, насколько “удачно” она обучена. “Плохая” и “хорошая” модель могут считать важным разный набор признаков. Поэтому полезно сравнить важность признаков модели, обучив модель на различных выборках (например, используя кросс-валидацию).\n",
    "3. Данный метод неадекватно оценивает **важность коррелированных признаков**."
   ]
  },
  {
   "cell_type": "markdown",
   "metadata": {},
   "source": [
    "Для борьбы с неадекватной оценкой **коррелированных признаков** можно собрать коррелированные признаки в кластеры и оставить  только один признак для каждого [кластера 🛠️[doc]](https://scikit-learn.org/stable/auto_examples/inspection/plot_permutation_importance_multicollinear.html#sphx-glr-auto-examples-inspection-plot-permutation-importance-multicollinear-py).\n",
    "\n",
    "Одна из вариаций `permutation importance` подразумевает **обучение модели заново** после каждого **перемешивания признаков**. Это дает чуть более адекватную оценку важности, но очень долго."
   ]
  },
  {
   "cell_type": "markdown",
   "metadata": {},
   "source": [
    "### Пример отбора признаков с помощью permutation importance"
   ]
  },
  {
   "cell_type": "markdown",
   "metadata": {},
   "source": [
    "Сделаем `permutation importance`:\n",
    "\n",
    "1. Обучаем модель.\n",
    "2. Перемешиваем значения в одном столбце (одного признака), делаем предсказание на валидационном наборе данных и считаем ошибку. Ухудшение ошибки показывает важность признака, который перемешали.\n",
    "3. Возвращаем значения признака и повторяем шаг 2 со всеми остальными признаками."
   ]
  },
  {
   "cell_type": "markdown",
   "metadata": {},
   "source": [
    "Ниже выполняются эти же операции, но уже с линейной моделью:"
   ]
  },
  {
   "cell_type": "code",
   "execution_count": null,
   "metadata": {},
   "outputs": [],
   "source": [
    "from sklearn.inspection import permutation_importance\n",
    "\n",
    "model = LogisticRegression()\n",
    "model.fit(x_train_scaled, y_train)\n",
    "\n",
    "r = permutation_importance(model, x_test_scaled, y_test, n_repeats=100, random_state=42)\n",
    "\n",
    "df = pd.DataFrame({\"name\": x_train.columns, \"imp\": r.importances_mean}).sort_values(\n",
    "    \"imp\", ascending=False\n",
    ")\n",
    "df[\"colors\"] = [\n",
    "    sns.xkcd_rgb[\"orange\"] if x < 0 else sns.xkcd_rgb[\"azure\"] for x in df[\"imp\"]\n",
    "]\n",
    "\n",
    "\n",
    "plt.figure(figsize=(8, 8))\n",
    "sns.barplot(data=df, y=\"name\", x=\"imp\", palette=df.colors, orient=\"h\")\n",
    "plt.show()"
   ]
  },
  {
   "cell_type": "markdown",
   "metadata": {},
   "source": [
    "И со случайным лесом:"
   ]
  },
  {
   "cell_type": "code",
   "execution_count": null,
   "metadata": {},
   "outputs": [],
   "source": [
    "model = RandomForestClassifier(n_estimators=500, random_state=42)\n",
    "model.fit(x_train, y_train)\n",
    "\n",
    "r = permutation_importance(model, x_test, y_test, n_repeats=100, random_state=42)\n",
    "\n",
    "df = pd.DataFrame({\"name\": x_train.columns, \"imp\": r.importances_mean}).sort_values(\n",
    "    \"imp\", ascending=False\n",
    ")\n",
    "\n",
    "df[\"colors\"] = [\n",
    "    sns.xkcd_rgb[\"orange\"] if x < 0 else sns.xkcd_rgb[\"azure\"] for x in df[\"imp\"]\n",
    "]\n",
    "\n",
    "\n",
    "plt.figure(figsize=(8, 8))\n",
    "sns.barplot(data=df, y=\"name\", x=\"imp\", palette=df.colors, orient=\"h\")\n",
    "plt.show()"
   ]
  },
  {
   "cell_type": "markdown",
   "metadata": {},
   "source": [
    "Как видно, у некоторых признаков при переходе от древесных моделей к линейным важность признаков изменилась"
   ]
  },
  {
   "cell_type": "markdown",
   "metadata": {},
   "source": [
    "## Boruta"
   ]
  },
  {
   "cell_type": "markdown",
   "metadata": {},
   "source": [
    "Boruta развивает идею Permutation.\n",
    "\n",
    "Увеличим наш датасет, добавив в него \"теневые признаки\" $-$ перемешанные реальные. Таким образом, наш датасет точно будет содержать хорошие признаки (мы ничего не удаляем)."
   ]
  },
  {
   "cell_type": "markdown",
   "metadata": {},
   "source": [
    "<img src=\"https://edunet.kea.su/repo/EduNet-content/dev-2.0/L04/out/boruta_idea.png\" alt=\"alttext\" width=\"600\"/>"
   ]
  },
  {
   "cell_type": "markdown",
   "metadata": {},
   "source": [
    "После этого обучаем модель и отбираем те признаки, чей `feature_importance` больше, чем у лучшего из теневых. Повторяем процедуру несколько раз для того,  чтобы удалить случайные скачки качества.\n",
    "\n",
    "Таким образом, для каждого признака мы будем знать, сколько раз мы его отобрали. Получаем распределение. Самая большая неопределенность будет в середине (вероятность отобрать = 0.5):"
   ]
  },
  {
   "cell_type": "markdown",
   "metadata": {},
   "source": [
    "<img src=\"https://edunet.kea.su/repo/EduNet-content/dev-2.0/L04/out/boruta_diagram.png\" alt=\"alttext\" width=\"600\"/>"
   ]
  },
  {
   "cell_type": "markdown",
   "metadata": {},
   "source": [
    "[[blog] ✏️ Automated feature selection with boruta](https://www.kaggle.com/code/residentmario/automated-feature-selection-with-boruta)"
   ]
  },
  {
   "cell_type": "markdown",
   "metadata": {},
   "source": [
    "Набор (в нашем случае из 20) испытаний Бернулли — это биномиальное распределение. Со значимостью, допустим, 0.05 берем все из «хорошего хвоста» и отбрасываем из «плохого хвоста». С признаками из середины колокола ничего особо не сделаешь: увеличение числа итераций приведет к ужатию колокола, но глобально не поможет.\n",
    "\n",
    "Если нам нужна хорошо интерпретируемая модель, то надо брать только точно хорошие признаки."
   ]
  },
  {
   "cell_type": "markdown",
   "metadata": {},
   "source": [
    "### Пример отбора признаков с помощью Boruta"
   ]
  },
  {
   "cell_type": "markdown",
   "metadata": {},
   "source": [
    "Будем использовать реализацию [boruta_py 🐾[git]](https://github.com/scikit-learn-contrib/boruta_py). Возьмем Random Forest модель."
   ]
  },
  {
   "cell_type": "code",
   "execution_count": null,
   "metadata": {},
   "outputs": [],
   "source": [
    "model = RandomForestClassifier(n_estimators=500, random_state=42)\n",
    "model.fit(x_train, y_train)"
   ]
  },
  {
   "cell_type": "markdown",
   "metadata": {},
   "source": [
    "Попробуем применить алгоритм Boruta к этому же датасету и сократить количество признаков.\n",
    "Оценим текущее качество модели, используя ROC-AUC:"
   ]
  },
  {
   "cell_type": "code",
   "execution_count": null,
   "metadata": {},
   "outputs": [],
   "source": [
    "pred = model.predict_proba(x_test)[:, 1]\n",
    "r1 = roc_auc_score(y_score=pred, y_true=y_test)\n",
    "\n",
    "print(f\"ROC-AUC: {r1:.4f}\")"
   ]
  },
  {
   "cell_type": "markdown",
   "metadata": {},
   "source": [
    "Загрузим Boruta:"
   ]
  },
  {
   "cell_type": "code",
   "execution_count": null,
   "metadata": {},
   "outputs": [],
   "source": [
    "!pip install -q boruta"
   ]
  },
  {
   "cell_type": "markdown",
   "metadata": {},
   "source": [
    "Питоновская реализация Boruta соответствует  API sklearn и может использоваться как в конвейере, так и самостоятельно."
   ]
  },
  {
   "cell_type": "markdown",
   "metadata": {},
   "source": [
    "Boruta работает с `numpy.array`, поэтому используем `.values()` :"
   ]
  },
  {
   "cell_type": "code",
   "execution_count": null,
   "metadata": {},
   "outputs": [],
   "source": [
    "print(type(x_train))\n",
    "print(type(x_train.values))"
   ]
  },
  {
   "cell_type": "markdown",
   "metadata": {},
   "source": [
    "Проведем оценку признаков при помощи Boruta.\n",
    "\n"
   ]
  },
  {
   "cell_type": "code",
   "execution_count": null,
   "metadata": {},
   "outputs": [],
   "source": [
    "from boruta import BorutaPy\n",
    "\n",
    "# define Boruta feature selection method\n",
    "model = RandomForestClassifier(n_estimators=500, random_state=42)\n",
    "\n",
    "\n",
    "feat_selector = BorutaPy(model, n_estimators=100, verbose=1, random_state=42)\n",
    "\n",
    "# find all relevant features\n",
    "feat_selector.fit(x_train.values, y_train.values)"
   ]
  },
  {
   "cell_type": "markdown",
   "metadata": {},
   "source": [
    "Посмотрим, как оценила признаки Boruta:"
   ]
  },
  {
   "cell_type": "code",
   "execution_count": null,
   "metadata": {},
   "outputs": [],
   "source": [
    "keep = x_train.columns[feat_selector.support_].to_list()\n",
    "normal = x_train.columns[feat_selector.support_weak_].to_list()\n",
    "drop = x_train.columns[\n",
    "    ~(feat_selector.support_ | feat_selector.support_weak_)\n",
    "].to_list()\n",
    "\n",
    "print(\"features keep:\", keep)\n",
    "print(\"features normal:\", normal)\n",
    "print(\"features drop:\", drop)"
   ]
  },
  {
   "cell_type": "markdown",
   "metadata": {},
   "source": [
    "Посмотрим на более подробную информацию о результатах отбора:"
   ]
  },
  {
   "cell_type": "code",
   "execution_count": null,
   "metadata": {},
   "outputs": [],
   "source": [
    "feature_ranks = list(\n",
    "    zip(x_train.columns, feat_selector.ranking_, feat_selector.support_)\n",
    ")\n",
    "\n",
    "df = pd.DataFrame(feature_ranks, columns=[\"feature\", \"rank\", \"boruta_keep\"])\n",
    "df.sort_values(\"rank\")"
   ]
  },
  {
   "cell_type": "markdown",
   "metadata": {},
   "source": [
    "Boruta из 23 признаков предлагает оставить только 4: **Sex, Age, Title, sqrt_Fare**.\n",
    "\n",
    " Зная информацию о ранге признака, мы можем взять больше признаков для обучения. Также обратите внимание, что случайный признак находится довольно высоко.\n",
    "\n"
   ]
  },
  {
   "cell_type": "markdown",
   "metadata": {},
   "source": [
    "Обучим алгоритм на признаках, отобранных Boruta.\n",
    "Давайте проверим, можем ли мы добиться такого же результата, если проанализируем и уберем «лишние» данные?"
   ]
  },
  {
   "cell_type": "code",
   "execution_count": null,
   "metadata": {},
   "outputs": [],
   "source": [
    "# Build the model with the random forest algorithm\n",
    "\n",
    "model = RandomForestClassifier(n_estimators=500, random_state=42)\n",
    "model.fit(x_train[keep], y_train)\n",
    "\n",
    "pred = model.predict_proba(x_test[keep])[:, 1]\n",
    "r1 = roc_auc_score(y_score=pred, y_true=y_test)\n",
    "\n",
    "print(f\"ROC-AUC: {r1:.4f}\")"
   ]
  },
  {
   "cell_type": "markdown",
   "metadata": {},
   "source": [
    "Качество упало, но не так сильно. Можно поэкспериментировать с добавлением признаков более низкого ранга."
   ]
  },
  {
   "cell_type": "markdown",
   "metadata": {},
   "source": [
    "## Жадный отбор признаков"
   ]
  },
  {
   "cell_type": "markdown",
   "metadata": {},
   "source": [
    "Жадные методы отбора признаков по сути являются надстройками над методами обучения моделей. Они перебирают различные подмножества признаков и выбирают то из них, которое дает наилучшее качество определённой модели машинного обучения.\n",
    "\n",
    "Данный процесс устроен следующим образом:\n",
    "\n",
    "Обучение модели считается черным ящиком, который на вход принимает информацию о том, какие из его признаков можно использовать при обучении модели, обучает модель, и дальше каким-то методом оценивается качество такой модели, например, по отложенной выборке или кросс-валидации. Таким образом, задача, которую необходимо решить — это оптимизация функционала качества модели по подмножеству признаков."
   ]
  },
  {
   "cell_type": "markdown",
   "metadata": {},
   "source": [
    "**Полный перебор**\n",
    "\n",
    "<img src=\"https://edunet.kea.su/repo/EduNet-content/dev-2.0/L04/out/full_sorting.png\" alt=\"alttext\" width=\"600\"/>"
   ]
  },
  {
   "cell_type": "markdown",
   "metadata": {},
   "source": [
    "Самый простой способ решения данной задачи — это полный перебор всех подмножеств признаков и оценивание качества на каждом подмножестве. Итоговое подмножество — то, на котором качество модели наилучшее. Этот перебор можно структурировать и перебирать подмножества последовательно: сначала те, которые имеют мощность 1 (наборы из 1 признака), потом наборы мощности 2, и так далее. Это подход очень хороший, он найдет оптимальное подмножество признаков, но при этом очень сложный, поскольку всего таких подмножеств $2^d -1$, где $d$ — число признаков (пустое множество не рассматриваем). Если признаков много — сотни или тысячи, то такой перебор невозможен: он займет слишком много времени, возможно, сотни лет или больше. Поэтому, такой метод подходит либо при небольшом количестве признаков, либо если известно, что информативных признаков очень мало, единицы."
   ]
  },
  {
   "cell_type": "markdown",
   "metadata": {},
   "source": [
    "**Жадное добавление**\n",
    "\n",
    "<img src=\"https://edunet.kea.su/repo/EduNet-content/dev-2.0/L04/out/greedy_addition.png\" alt=\"alttext\" width=\"600\"/>"
   ]
  },
  {
   "cell_type": "markdown",
   "metadata": {},
   "source": [
    " Жадная стратегия используется всегда, когда полный перебор не подходит для решения задачи. Например, может оказаться неплохой стратегия жадного наращивания (жадного добавления). Сначала находится один признак, который дает наилучшее качество модели (наименьшую ошибку $Q$):\n",
    "\n",
    "$i_1 = argmin Q(i)$.\n",
    "\n",
    "Тогда множество, состоящее из этого признака:\n",
    "\n",
    "$J_1 = {i_1}$\n",
    "\n",
    "Дальше к этому множеству добавляется еще один признак так, чтобы как можно сильнее уменьшить ошибку модели:\n",
    "\n",
    "$i_2 =argminQ(i_1,i)$, $J_2 ={i_1,i_2}$.\n",
    "\n",
    "Далее каждый раз добавляется по одному признаку, образуются множества $J_3 , J_4 , . . . .$ Если в какой-то момент невозможно добавить новый признак так, чтобы уменьшить ошибку, процедура останавливается. Жадность процедуры заключается в том, что как только какой-то признак попадает в оптимальное множество, его нельзя оттуда удалить."
   ]
  },
  {
   "cell_type": "markdown",
   "metadata": {},
   "source": [
    "[[doc] 🛠️ Feature selection](https://scikit-learn.org/stable/modules/feature_selection.html)\n",
    "\n",
    "[[doc] 🛠️ Model-based and sequential feature selection](https://scikit-learn.org/stable/auto_examples/feature_selection/plot_select_from_model_diabetes.html#sphx-glr-auto-examples-feature-selection-plot-select-from-model-diabetes-py)\n",
    "\n",
    "[[doc] 🛠️ Sequential Feature Selection for Regression](http://rasbt.github.io/mlxtend/user_guide/feature_selection/SequentialFeatureSelector/#example-5-sequential-feature-selection-for-regression)"
   ]
  },
  {
   "cell_type": "code",
   "execution_count": null,
   "metadata": {},
   "outputs": [],
   "source": [
    "from mlxtend.feature_selection import SequentialFeatureSelector\n",
    "from sklearn.ensemble import RandomForestClassifier\n",
    "from sklearn.model_selection import KFold\n",
    "\n",
    "\n",
    "sfs = SequentialFeatureSelector(\n",
    "    RandomForestClassifier(random_state=42),\n",
    "    k_features=8,  # number of features to select\n",
    "    forward=True,  # True - add, False - del\n",
    "    floating=False,\n",
    "    scoring=\"accuracy\",\n",
    "    cv=KFold(n_splits=5, shuffle=True, random_state=42),\n",
    ")\n",
    "sfs.fit(x_train, y_train)\n",
    "\n",
    "df = pd.DataFrame.from_dict(sfs.get_metric_dict()).T\n",
    "df.head(df.shape[0])"
   ]
  },
  {
   "cell_type": "code",
   "execution_count": null,
   "metadata": {},
   "outputs": [],
   "source": [
    "df[\"feature_names\"].values[-1]"
   ]
  },
  {
   "cell_type": "code",
   "execution_count": null,
   "metadata": {},
   "outputs": [],
   "source": [
    "import matplotlib.pyplot as plt\n",
    "from mlxtend.plotting import plot_sequential_feature_selection as plot_sfs\n",
    "\n",
    "plot_sfs(sfs.get_metric_dict(), kind=\"std_dev\")\n",
    "\n",
    "plt.title(\"Sequential Forward Selection (StdDev)\")\n",
    "plt.grid()\n",
    "plt.show()"
   ]
  },
  {
   "cell_type": "markdown",
   "metadata": {},
   "source": [
    "### ADD-DEL"
   ]
  },
  {
   "cell_type": "markdown",
   "metadata": {},
   "source": [
    "<img src=\"https://edunet.kea.su/repo/EduNet-content/dev-2.0/L04/out/non_greedy.png\" width=\"600\">"
   ]
  },
  {
   "cell_type": "markdown",
   "metadata": {},
   "source": [
    "Описанный выше подход довольно быстрый: в нем столько итераций, сколько признаков в выборке. Но при этом он слишком жадный: перебирается слишком мало вариантов, и мы можем оказаться в плохой локальной точке. Процедуру можно усложнить. Один из подходов к усложнению — это алгоритм **ADD-DEL**, который не только добавляет, но и удаляет признаки из оптимального множества.\n",
    "\n",
    "Алгоритм начинается с процедуры жадного добавления. Множество признаков наращивается до тех пор, пока получается уменьшить ошибку, затем признаки жадно удаляются из подмножества, то есть перебираются все возможные варианты удаления признака, оценивается ошибка и удаляется тот признак, удаление которого приводит к наибольшему уменьшению ошибки на выборке. Эта процедура повторяет добавление и удаление признаков до тех пор, пока уменьшается ошибка. Алгоритм ADD-DEL всё еще жадный, но при этом он менее жадный, чем предыдущий, поскольку *может исправлять ошибки*, сделанные в начале перебора: если вначале был добавлен неинформативный признак, то на этапе удаления от него можно избавиться."
   ]
  },
  {
   "cell_type": "markdown",
   "metadata": {},
   "source": [
    "<img src=\"https://edunet.kea.su/repo/EduNet-content/dev-2.0/L04/out/add_del.png\" width=\"900\">"
   ]
  },
  {
   "cell_type": "code",
   "execution_count": null,
   "metadata": {},
   "outputs": [],
   "source": [
    "sffs = SequentialFeatureSelector(\n",
    "    RandomForestClassifier(random_state=42),  # represents the classifier\n",
    "    k_features=8,  # the number of features you want to select\n",
    "    forward=True,  # add features\n",
    "    floating=True,  # remove features\n",
    "    scoring=\"accuracy\",  # means that the selection will be decided by the accuracy of the classifier.\n",
    "    cv=KFold(n_splits=5, shuffle=True, random_state=42),\n",
    ")\n",
    "\n",
    "sffs.fit(x_train.values, y_train)  # performs the actual SFFS algorithm\n",
    "df = pd.DataFrame.from_dict(sffs.get_metric_dict()).T\n",
    "df.head(df.shape[0])"
   ]
  },
  {
   "cell_type": "code",
   "execution_count": null,
   "metadata": {},
   "outputs": [],
   "source": [
    "x.iloc[:, list(df[\"feature_idx\"].values[-1])].columns"
   ]
  },
  {
   "cell_type": "code",
   "execution_count": null,
   "metadata": {},
   "outputs": [],
   "source": [
    "plot_sfs(sffs.get_metric_dict(), kind=\"std_dev\")\n",
    "\n",
    "plt.title(\"Sequential Forward Selection (StdDev)\")\n",
    "plt.grid()\n",
    "plt.show()"
   ]
  },
  {
   "cell_type": "markdown",
   "metadata": {},
   "source": [
    "## Рекомендации по отбору признаков"
   ]
  },
  {
   "cell_type": "markdown",
   "metadata": {},
   "source": [
    "* Все методы отбора могут давать разные результаты, нужно использовать несколько и агрегировать их оценку.\n",
    "* Начинайте с более простых и быстрых методов для оценки.\n",
    "* Если объектов очень много, то можно использовать часть объектов для оценки, но важно, чтобы эта часть была репрезентативна.\n",
    "* Отбор признаков чаще используется для интерпретации модели, анализа признаков и увеличения скорости работы, чем для улучшения качества предсказания.  "
   ]
  },
  {
   "cell_type": "markdown",
   "metadata": {},
   "source": [
    "\n",
    "**Важно помнить**, что нельзя отбирать признаки на том же наборе данных, на котором тестируетесь.\n",
    "\n",
    "Иначе получите завышенное качество вашей модели.\n",
    "\n",
    "[[colab] 🥨 Эксперимент с неправильным отбором признаков](https://colab.research.google.com/drive/1nn8o--hy2siBqTKRowmW0cdD6Skh7-rY)"
   ]
  },
  {
   "cell_type": "markdown",
   "metadata": {},
   "source": [
    "# Задача понижения размерности\n"
   ]
  },
  {
   "cell_type": "markdown",
   "metadata": {},
   "source": [
    "Часто мы хотим данные из пространства высокой размерности перевести в пространство более низкой размености с сохранением одного или нескольких свойств, например:\n",
    "* объекты реконструируются с минимальной ошибкой,\n",
    "* расстояние между объектами сохраняется.\n",
    "\n",
    "\n",
    "Мотивация понижения размерности:\n",
    "\n",
    "1. Многие алгоритмы показывают себя плохо на пространствах большой размерности ([проклятие размерности 📚[wiki]](https://en.wikipedia.org/wiki/Curse_of_dimensionality)).\n",
    "\n",
    "2. Некоторые просто будут значительно дольше работать, при этом качество их работы не изменится от уменьшения размерности.\n",
    "\n",
    "3. Понижение размерности позволяет использовать память более эффективно и подавать модели на обучение за один раз больше объектов.\n",
    "\n",
    "4. Избавиться от шумовых признаков.\n",
    "\n",
    "5. Задача визуализации: хочется взглянуть на наши объекты, а делать это в 100-мерном или 100000-мерном пространстве невозможно.\n",
    "\n",
    "6. Удаление выбросов — в пространствах меньшей размерности можем их увидеть глазами.\n",
    "\n",
    "7. Можем увидеть закономерности в данных: что они разделяются на явные кластеры и т. д.\n",
    "\n"
   ]
  },
  {
   "cell_type": "markdown",
   "metadata": {},
   "source": [
    "## Manifold assumption"
   ]
  },
  {
   "cell_type": "markdown",
   "metadata": {},
   "source": [
    "В машинном обучении часто используют предположение о многообразии (manifold assumption). Это предположение о том, что между признаками, описывающими реальные объекты, существуют некоторые нетривиальные связи. Вследствие этого данные заполняют не весь объем пространства признаков, а лежат на некоторой поверхности — на **многообразии** (manifold)."
   ]
  },
  {
   "cell_type": "markdown",
   "metadata": {},
   "source": [
    "Если предположение верно, то каждый объект может быть достаточно точно описан новыми признаками в пространстве значительно меньшей размерности, чем исходное пространство признаков.\n",
    "\n",
    "При этом мы будем терять часть информации об объектах. Но при выполнении предположения о многообразии (а оно почти всегда выполняется) и при правильных настройках алгоритма понижения размерности эти потери будут незначительны."
   ]
  },
  {
   "cell_type": "markdown",
   "metadata": {},
   "source": [
    "<img src =\"https://edunet.kea.su/repo/EduNet-content/dev-2.0/L04/out/manifold_assumption.png\" width=\"600\">"
   ]
  },
  {
   "cell_type": "markdown",
   "metadata": {},
   "source": [
    "В большинстве случаев это действительно правда. Например, лица людей даже на фотографиях $300\\times300$ лежат в пространстве меньшей размерности, нежели $90000$. Не каждая матрица размером $300\\times300$, заполненная какими-то значениями от $0$ до $1$, даст нам изображение лица человека."
   ]
  },
  {
   "cell_type": "markdown",
   "metadata": {},
   "source": [
    "<img src =\"https://edunet.kea.su/repo/EduNet-content/dev-2.0/L04/out/faces_in_space_of_smaller_dimension.png\" width=\"600\">"
   ]
  },
  {
   "cell_type": "markdown",
   "metadata": {},
   "source": [
    "## PCA (Метод главных компонент)"
   ]
  },
  {
   "cell_type": "markdown",
   "metadata": {},
   "source": [
    "Метод главных компонент (Principal Component Analysys, PCA) — простейший линейный метод снижения размерности, описан [Пирсоном в 1901 году 📚[book]](http://pca.narod.ru/pearson1901.pdf).\n",
    "\n"
   ]
  },
  {
   "cell_type": "markdown",
   "metadata": {},
   "source": [
    "<img src=\"https://edunet.kea.su/repo/EduNet-content/dev-2.0/L04/out/introduction_pca.png\" width=\"900\"/>"
   ]
  },
  {
   "cell_type": "markdown",
   "metadata": {},
   "source": [
    "#### Максимизация дисперсии выборки после понижения размерности"
   ]
  },
  {
   "cell_type": "markdown",
   "metadata": {},
   "source": [
    "Рассмотрим простой пример для понимания интуиции, которая стоит за методом главных компонент.\n",
    "\n",
    "У нас есть выборка объектов с двумя признаками $x_1$ и $x_2$, отобразим их на плоскости. Мы хотим, чтобы у нас был только один признак, который характеризует наши данные. Тогда наша задача — провести прямую через наши точки так, чтобы она наилучшим образом характеризовала наши данные"
   ]
  },
  {
   "cell_type": "markdown",
   "metadata": {},
   "source": [
    "<img src=\"https://edunet.kea.su/repo/EduNet-content/dev-2.0/L04/out/pca_dataset_example.png\" width=\"400\"/>"
   ]
  },
  {
   "cell_type": "markdown",
   "metadata": {},
   "source": [
    "Проведем прямую вдоль максимального изменения данных и спроецируем точки на нее. Это и будет наша первая главная компонента."
   ]
  },
  {
   "cell_type": "markdown",
   "metadata": {},
   "source": [
    "<img src=\"https://edunet.kea.su/repo/EduNet-content/dev-2.0/L04/out/first_component_example.png\" width=\"900\"/>"
   ]
  },
  {
   "cell_type": "markdown",
   "metadata": {},
   "source": [
    "Теперь мы можем использовать только один признак, который лежит на новой оси, а любые отклонения от нее — это просто шум (в действительности, определить, что является шумом в данных — это нетривиальная задача)."
   ]
  },
  {
   "cell_type": "markdown",
   "metadata": {},
   "source": [
    "<img src=\"https://edunet.kea.su/repo/EduNet-content/dev-2.0/L04/out/proection_component.png\" width=\"400\"/>"
   ]
  },
  {
   "cell_type": "markdown",
   "metadata": {},
   "source": [
    "Это то, как можно понимать интуицию работы PCA.\n",
    "\n",
    "В более многомерном случае (например, при количестве признаков 200) мы бы делали то же самое:\n",
    "\n",
    "1. Выбираем направление максимального изменения данных — это первая главная компонента.\n",
    "2. Если данные описаны не полностью, то выбираем еще одно направление — перпендикулярное к первому, так, чтобы описать оставшееся изменение в данных.\n",
    "3. Повторяем пункт 2, пока компонент не будет достаточно, вплоть до размерности исходного пространства. При этом каждая следующая компонента будет перпендикулярна предыдущим и объяснять меньше дисперсии, чем любая из них."
   ]
  },
  {
   "cell_type": "markdown",
   "metadata": {},
   "source": [
    "<img src=\"https://edunet.kea.su/repo/EduNet-content/dev-2.0/L04/out/3d_to_2d_pca.png\" width=\"1000\"/>"
   ]
  },
  {
   "cell_type": "markdown",
   "metadata": {},
   "source": [
    "### Практический пример использования PCA"
   ]
  },
  {
   "cell_type": "markdown",
   "metadata": {},
   "source": [
    "Чтобы понять, как использовать PCA на практике, найдем главные компоненты для датасета и посмотрим, как распределится между ними дисперсия."
   ]
  },
  {
   "cell_type": "markdown",
   "metadata": {},
   "source": [
    "##### Без стандартизации"
   ]
  },
  {
   "cell_type": "markdown",
   "metadata": {},
   "source": [
    "\n",
    "\n",
    "Скачаем датасет, на котором польза от понижения размерности видна более явно.\n",
    "\n",
    "В данном датасете 977 признаков (нам сейчас не важно, какие), характеризующие клетки крови."
   ]
  },
  {
   "cell_type": "markdown",
   "metadata": {},
   "source": [
    "Загрузим датасет и подготовим данные"
   ]
  },
  {
   "cell_type": "code",
   "execution_count": null,
   "metadata": {},
   "outputs": [],
   "source": [
    "import numpy as np\n",
    "import pandas as pd\n",
    "from sklearn.model_selection import train_test_split\n",
    "\n",
    "scRNAseq = pd.read_csv(\n",
    "    \"https://edunet.kea.su/repo/EduNet-web_dependencies/datasets/scRNAseq_CITEseq.txt\",\n",
    "    sep=\"\\t\",\n",
    ")\n",
    "\n",
    "x = scRNAseq.iloc[:, 0:-1]  # features\n",
    "y = scRNAseq.iloc[:, -1]  # labels\n",
    "\n",
    "# 2. taking the log of the data.\n",
    "x = np.log(x + 1)\n",
    "\n",
    "\n",
    "x_train, x_test, y_train, y_test = train_test_split(\n",
    "    x, y, test_size=0.2, random_state=42\n",
    ")\n",
    "print(f\"dataset shape: {x.shape}\")\n",
    "x"
   ]
  },
  {
   "cell_type": "markdown",
   "metadata": {},
   "source": [
    "Полезной информацией является коэффициент объясненной дисперсии (explained variance ratio) главной компоненты. Этот коэффициент является отношением между дисперсией главной компоненты и суммой дисперсий всех главных компонент. Он указывает долю выборочной дисперсии, которая лежит вдоль оси каждой главной компоненты."
   ]
  },
  {
   "cell_type": "markdown",
   "metadata": {},
   "source": [
    "В модуле PCA после `fit` можно получить explained variance ratio посредством обращения к полю `explained_variance_ratio_`, а explained variance — посредством обращения к полю `explained_variance_`.\n",
    "\n"
   ]
  },
  {
   "cell_type": "markdown",
   "metadata": {},
   "source": [
    "Построим график с `explained_variance_ratio_` для 10 компонент."
   ]
  },
  {
   "cell_type": "code",
   "execution_count": null,
   "metadata": {},
   "outputs": [],
   "source": [
    "import sklearn\n",
    "import matplotlib.pyplot as plt\n",
    "from sklearn.decomposition import PCA\n",
    "\n",
    "# performing PCA with default number of principal components.\n",
    "pca = PCA(n_components=10)\n",
    "pca.fit(x_train)  # fitting our PCA model with the training data.\n",
    "# calculating the explained variance of each of the components.\n",
    "evr = pca.explained_variance_ratio_\n",
    "\n",
    "# We are plotting the explained variance ratios.\n",
    "plt.bar(range(1, evr.shape[0] + 1), evr)\n",
    "plt.title(\"Variance by components\")\n",
    "plt.xlabel(\"Components\")\n",
    "plt.ylabel(\"Variance\")\n",
    "plt.show()"
   ]
  },
  {
   "cell_type": "code",
   "execution_count": null,
   "metadata": {},
   "outputs": [],
   "source": [
    "pca.explained_variance_.shape"
   ]
  },
  {
   "cell_type": "markdown",
   "metadata": {},
   "source": [
    "Из графика не совсем понятно, сколько компонент брать, резко доля объясняемой дисперсии меняется в районе 2-й компоненты. Посмотрим, сколько компонент нужно модели."
   ]
  },
  {
   "cell_type": "code",
   "execution_count": null,
   "metadata": {},
   "outputs": [],
   "source": [
    "from sklearn.linear_model import LogisticRegression\n",
    "\n",
    "pca = PCA(n_components=10)\n",
    "pca.fit(x_train)\n",
    "x_train_reduced = pca.transform(x_train)\n",
    "x_test_reduced = pca.transform(x_test)\n",
    "\n",
    "for i in range(1, 11):\n",
    "    model = LogisticRegression(max_iter=1000)\n",
    "    model.fit(x_train_reduced[:, :i], y_train)\n",
    "\n",
    "    print(\"%i first components %.2f\" % (i, model.score(x_test_reduced[:, :i], y_test)))"
   ]
  },
  {
   "cell_type": "markdown",
   "metadata": {},
   "source": [
    "Видим, что уже первых 8 компонент достаточно для достижения качества, которое далее не меняется.\n"
   ]
  },
  {
   "cell_type": "markdown",
   "metadata": {},
   "source": [
    "Дело в том, что мы забыли сделать **стандартизацию** данных.\n",
    "\n",
    "В датасете переменные имеют совершенно разные масштабы. Из-за этого часть из них \"перетегягивает\" на себя всю дисперсию.\n",
    "\n",
    "В результате по доле дисперсии судить о важности компонент нельзя."
   ]
  },
  {
   "cell_type": "markdown",
   "metadata": {},
   "source": [
    "##### Со стандартизацией"
   ]
  },
  {
   "cell_type": "markdown",
   "metadata": {},
   "source": [
    "Сделаем предварительно стандартизацию"
   ]
  },
  {
   "cell_type": "code",
   "execution_count": null,
   "metadata": {},
   "outputs": [],
   "source": [
    "# First, we import the StandardScaler module.\n",
    "from sklearn.preprocessing import StandardScaler\n",
    "\n",
    "# Next, we create a StandardScaler object called scaler by calling the\n",
    "# StandardScaler() function.\n",
    "scaler = StandardScaler()\n",
    "\n",
    "#  We then fit the scaling model to our training data.\n",
    "x_train = scaler.fit_transform(x_train)\n",
    "\n",
    "# We transform your test set by applying the same scaling model.\n",
    "x_test = scaler.transform(x_test)\n",
    "\n",
    "# performing PCA with default number of principal components.\n",
    "pca = PCA(n_components=10)\n",
    "pca.fit(x_train)  # fitting our PCA model with the training data."
   ]
  },
  {
   "cell_type": "markdown",
   "metadata": {},
   "source": [
    "В `PCA.components_` лежат векторы главных компонент, расположенные построчно (`n_components`, `n_features`)."
   ]
  },
  {
   "cell_type": "code",
   "execution_count": null,
   "metadata": {},
   "outputs": [],
   "source": [
    "pca.components_.shape"
   ]
  },
  {
   "cell_type": "markdown",
   "metadata": {},
   "source": [
    "Обратите внимание, что PCA упорядочивает собственные векторы. Это значит, что собственный вектор, соответствующий главной компоненте и, соответственно, имеющей максимальную дисперсию, будет находиться в первой строке."
   ]
  },
  {
   "cell_type": "code",
   "execution_count": null,
   "metadata": {},
   "outputs": [],
   "source": [
    "# calculating the explained variance of each of the components.\n",
    "evr = pca.explained_variance_ratio_\n",
    "\n",
    "# We are plotting the explained variance ratios.\n",
    "plt.bar(range(evr.shape[0]), evr)\n",
    "plt.title(\"Variance by components\")\n",
    "plt.xlabel(\"Components\")\n",
    "plt.ylabel(\"Variance\")\n",
    "plt.show()"
   ]
  },
  {
   "cell_type": "markdown",
   "metadata": {},
   "source": [
    "Теперь видим, что не только первые две компоненты дают вклад. Это происходит потому, что переменные отмасштабированы.\n",
    "\n",
    "Но и значимого спада в доле объясняемой дисперсии мы не видим, поэтому встает вопрос: как выбрать число компонент так, чтобы взять нужное и отсечь ненужное?"
   ]
  },
  {
   "cell_type": "markdown",
   "metadata": {},
   "source": [
    "### Как выбирать оптимальное число  компонент\n",
    "\n",
    "\n"
   ]
  },
  {
   "cell_type": "markdown",
   "metadata": {},
   "source": [
    "Подбирать число компонент можно по-разному"
   ]
  },
  {
   "cell_type": "markdown",
   "metadata": {},
   "source": [
    "#### По доле объясняемой дисперсии"
   ]
  },
  {
   "cell_type": "markdown",
   "metadata": {},
   "source": [
    "Мы можем выбрать порог по доле объясняемой дисперсии, например 95%. Это быстрый споособ, но не ясно почему именно 95%, а не 90%.\n"
   ]
  },
  {
   "cell_type": "code",
   "execution_count": null,
   "metadata": {},
   "outputs": [],
   "source": [
    "pca = PCA(0.95)\n",
    "pca.fit(x_train)\n",
    "\n",
    "total_explained = np.cumsum(pca.explained_variance_ratio_)\n",
    "\n",
    "plt.figure(figsize=(6, 6))\n",
    "\n",
    "plt.plot(np.arange(1, len(total_explained) + 1), total_explained)\n",
    "plt.axhline(y=0.95, color=\"red\", linestyle=\"--\")\n",
    "chosen_number = np.argmax(total_explained >= 0.95) + 1\n",
    "plt.axvline(x=chosen_number, color=\"red\", linestyle=\"--\")\n",
    "plt.ylabel(\"Total Proportion of Explained Variance\")\n",
    "plt.xlabel(\"Number of Components\")\n",
    "print(f\"{chosen_number} components to 95% explained_variance_ratio\")\n",
    "plt.show()"
   ]
  },
  {
   "cell_type": "markdown",
   "metadata": {},
   "source": [
    "Получилось 724 компоненты. При выборе другого порога получили бы другое количество компонент.\n"
   ]
  },
  {
   "cell_type": "markdown",
   "metadata": {},
   "source": [
    "#### По правилу локтя"
   ]
  },
  {
   "cell_type": "markdown",
   "metadata": {},
   "source": [
    "Можно построить график, отражающий, сколько дисперсии объясняет каждая из компонент, и на основе графика выбрать нужное число компонент.\n",
    "\n",
    "Идея подхода простая: переход от компонент, объясняющих что-то важное в данных, к компонентам, объясняющим шум, должен сопровождаться резким снижением доли объясняемой дисперсии.\n",
    "\n",
    "Или можно сказать иначе: выбранные нами компоненты должны быть устойчивы к добавлению шума в данные. Если мы нашли резкий скачок в доле объясняемой дисперсии, то маловероятно, что добавление шума этот скачок нивелирует — наш способ отбора компонент устойчив к шуму.\n",
    "\n",
    "В идеальном случае график будет выглядеть как-то так. Но на практике таких склонов может не быть, а может быть несколько."
   ]
  },
  {
   "cell_type": "markdown",
   "metadata": {},
   "source": [
    "<img src =\"https://edunet.kea.su/repo/EduNet-content/dev-2.0/L04/out/elbow_rule.png\" width=\"600\">"
   ]
  },
  {
   "cell_type": "code",
   "execution_count": null,
   "metadata": {},
   "outputs": [],
   "source": [
    "n_comp = 20\n",
    "pca = PCA(n_comp)\n",
    "pca.fit(x_train)\n",
    "explained = pca.explained_variance_ratio_\n",
    "\n",
    "plt.figure(figsize=(8, 6))\n",
    "plt.scatter(np.arange(1, n_comp + 1), explained)\n",
    "plt.plot(np.arange(1, n_comp + 1), explained)\n",
    "plt.title(\"Dependence of  variance on the number of components\", size=14)\n",
    "plt.xlabel(\"Num of components\", size=14)\n",
    "plt.ylabel(\"proportion of the explained variance\", size=14)\n",
    "plt.xticks(np.arange(1, n_comp + 1))\n",
    "plt.show()"
   ]
  },
  {
   "cell_type": "markdown",
   "metadata": {},
   "source": [
    "\n",
    "Из такого графика сложно понять, какое число компонент стоит выбрать."
   ]
  },
  {
   "cell_type": "markdown",
   "metadata": {},
   "source": [
    "#### Перестановочный метод"
   ]
  },
  {
   "cell_type": "markdown",
   "metadata": {},
   "source": [
    "Еще одним способом выбрать число главных компонент является перестановочный метод. Он заключается в следующем:\n",
    "\n",
    "1. Для каждого признака перемешиваем его значения.\n",
    "\n",
    "2. Создаём матрицу признаков, которая не содержит информации о первоначальной структуре данных.\n",
    "\n",
    "3. Применяем метод главных компонент (PCA).\n",
    "\n",
    "4. Любая доля объяснённой дисперсии в данном случае возникает из-за особенностей данных, а не реальной структуры.\n",
    "\n",
    "5. Этот процесс повторяется многократно, например, 100–1000 раз.\n",
    "\n",
    "6. Для определённой  $k$ компоненты на реальных данных мы видим, какую часть дисперсии она объясняет.\n",
    "\n",
    "7. Анализируем распределение доли дисперсии, которую $k$-я компонента объясняет в случайных данных (полученных перемешиванием).\n",
    "\n",
    "8. Сравниваем это распределение с реальными данными, чтобы понять, объясняет ли $k$-я компонента что-то существенное или это просто случайный \"шум\"."
   ]
  },
  {
   "cell_type": "code",
   "execution_count": null,
   "metadata": {},
   "outputs": [],
   "source": [
    "from tqdm import tqdm\n",
    "\n",
    "\n",
    "def shuffle_dataset(dataset):\n",
    "    random_data = {\n",
    "        col: np.random.permutation(dataset[col].values) for col in dataset.columns\n",
    "    }\n",
    "    return pd.DataFrame(random_data)\n",
    "\n",
    "\n",
    "def get_variance_by_chance(dataset, n_replics, n_components):\n",
    "    variance_explained_by_chance = np.empty((n_replics, n_components))\n",
    "    for i in tqdm(range(n_replics)):\n",
    "        random_data = shuffle_dataset(dataset)\n",
    "        random_pca = PCA(n_components=n_components)\n",
    "        variance_explained_by_chance[i, :] = random_pca.fit(\n",
    "            random_data\n",
    "        ).explained_variance_ratio_\n",
    "    return variance_explained_by_chance\n",
    "\n",
    "\n",
    "def calc_permutat_pval(real_values, permut_values, eps=None):\n",
    "    eps = eps or (1 / (permut_values.shape[0] * 10))\n",
    "    p_values = np.mean(permut_values >= real_values, axis=0) + eps\n",
    "    return p_values\n",
    "\n",
    "\n",
    "def pca_analysis(dataset, title, n_components=None, n_replics=100):\n",
    "    n_components = n_components or dataset.shape[1]\n",
    "    explained_variance = (\n",
    "        PCA(n_components=n_components).fit(dataset).explained_variance_ratio_\n",
    "    )\n",
    "    variance_by_chance = get_variance_by_chance(dataset, n_replics, n_components)\n",
    "    p_values = calc_permutat_pval(explained_variance, variance_by_chance)\n",
    "\n",
    "    fig, (ax1, ax2) = plt.subplots(1, 2, figsize=(12, 6))\n",
    "\n",
    "    ax1.set_title(f\"PCA {title}\", size=15)\n",
    "    ax1.set_xlabel(\"Component number\", size=15)\n",
    "    ax1.set_ylabel(\"Explained variance ratio\", size=15)\n",
    "\n",
    "    ax1.plot(explained_variance, label=\"real\", lw=3)\n",
    "    ax1.fill_between(\n",
    "        range(explained_variance.shape[0]),\n",
    "        np.mean(variance_by_chance, axis=0) + np.std(variance_by_chance, axis=0),\n",
    "        np.mean(variance_by_chance, axis=0) - np.std(variance_by_chance, axis=0),\n",
    "        color=\"red\",\n",
    "        lw=3,\n",
    "        label=\"Chance\",\n",
    "    )\n",
    "\n",
    "    ax2.set_title(f\"PC significance, {title}\", size=15)\n",
    "    ax2.set_xlabel(\"Component number\", size=15)\n",
    "    ax2.set_ylabel(\"-log(pvalue + eps)\", size=15)\n",
    "\n",
    "    p_values = -np.log10(p_values)\n",
    "    ax2.plot(p_values, lw=3)\n",
    "    ax2.hlines(\n",
    "        y=-np.log10(0.05),\n",
    "        xmin=0,\n",
    "        xmax=p_values.shape[0],\n",
    "        color=\"red\",\n",
    "        linestyles=\"dashed\",\n",
    "        lw=3,\n",
    "    )\n",
    "\n",
    "    fig.tight_layout()\n",
    "\n",
    "    return fig, (ax1, ax2)"
   ]
  },
  {
   "cell_type": "code",
   "execution_count": null,
   "metadata": {},
   "outputs": [],
   "source": [
    "np.random.seed(42)\n",
    "pca_analysis(pd.DataFrame(x_train), \"scRNAseq\", n_replics=10, n_components=40)\n",
    "plt.show()"
   ]
  },
  {
   "cell_type": "markdown",
   "metadata": {},
   "source": [
    "Явно видим, что, согласно этому подходу, надо взять 30 компонент."
   ]
  },
  {
   "cell_type": "markdown",
   "metadata": {},
   "source": [
    "[[arxiv] 🎓 Permutation methods for factor analysis and PCA](https://arxiv.org/abs/1710.00479) — статья с рассуждениями на тему \"Почему это работает?\""
   ]
  },
  {
   "cell_type": "markdown",
   "metadata": {},
   "source": [
    "### Пример с RNA-Seq — нахождение выбросов"
   ]
  },
  {
   "cell_type": "markdown",
   "metadata": {},
   "source": [
    "Загрузим данные биологического анализа пациентов с раком и без него.\n",
    "\n",
    "В данном случае наши данные уже предварительно обработаны, поэтому стандартизацию проводить не будем"
   ]
  },
  {
   "cell_type": "code",
   "execution_count": null,
   "metadata": {},
   "outputs": [],
   "source": [
    "rnadataset = pd.read_table(\n",
    "    \"https://edunet.kea.su/repo/EduNet-web_dependencies/datasets/rnaseq_data.tab.txt\",\n",
    "    index_col=0,\n",
    "    header=None,\n",
    ")\n",
    "print(\"dataset shape: \", rnadataset.shape)"
   ]
  },
  {
   "cell_type": "code",
   "execution_count": null,
   "metadata": {},
   "outputs": [],
   "source": [
    "rnadataset.columns = list(rnadataset.columns[:-2]) + [\"dataset\", \"sample type\"]\n",
    "rnadataset.head()"
   ]
  },
  {
   "cell_type": "code",
   "execution_count": null,
   "metadata": {},
   "outputs": [],
   "source": [
    "# We remove the dataset and sample type columns from the data frame and\n",
    "# store the data frame in X\n",
    "x = rnadataset.drop(labels=[\"dataset\", \"sample type\"], axis=1)\n",
    "\n",
    "# We store the dataset and sample type columns in the labels data frame\n",
    "labels = rnadataset.loc[:, [\"dataset\", \"sample type\"]]"
   ]
  },
  {
   "cell_type": "code",
   "execution_count": null,
   "metadata": {},
   "outputs": [],
   "source": [
    "# Finding the top two principal components of the data\n",
    "pca_decomposer = PCA(n_components=2)\n",
    "pca_decomposer.fit(x)"
   ]
  },
  {
   "cell_type": "code",
   "execution_count": null,
   "metadata": {},
   "outputs": [],
   "source": [
    "import seaborn as sns\n",
    "\n",
    "x_reduced = pca_decomposer.transform(x)\n",
    "\n",
    "# Display a scatterplot of the transformed dataset\n",
    "plt.figure(figsize=(8, 6))\n",
    "plt.title(\"PCA plot\", size=24)\n",
    "plt.xlabel(\"PC1\", size=16)\n",
    "plt.ylabel(\"PC2\", size=16)\n",
    "sns.scatterplot(x=x_reduced[:, 0], y=x_reduced[:, 1], hue=labels[\"sample type\"]);"
   ]
  },
  {
   "cell_type": "markdown",
   "metadata": {},
   "source": [
    "Даже не понимая, что за признаки у нас в колонках, мы видим несколько интересных вещей.\n",
    "\n",
    "Во-первых, синяя точка на оранжевой территории и оранжевая на синей — видимо, выбросы.\n",
    "\n",
    "Кроме этого мы видим, что почему-то у нас есть 4 почти равноудаленных кластера, по два на рак и нормальную ткань"
   ]
  },
  {
   "cell_type": "code",
   "execution_count": null,
   "metadata": {},
   "outputs": [],
   "source": [
    "# Run PCA on the features\n",
    "x_reduced = pca_decomposer.transform(x)\n",
    "\n",
    "# Display a scatterplot of the transformed dataset\n",
    "plt.figure(figsize=(8, 6))\n",
    "plt.title(\"PCA plot\", size=24)\n",
    "plt.xlabel(\"PC1\", size=16)\n",
    "plt.ylabel(\"PC2\", size=16)\n",
    "sns.scatterplot(\n",
    "    x=x_reduced[:, 0],\n",
    "    y=x_reduced[:, 1],\n",
    "    hue=labels[\"sample type\"],\n",
    "    style=labels[\"dataset\"],\n",
    ");"
   ]
  },
  {
   "cell_type": "markdown",
   "metadata": {},
   "source": [
    "Видим, что в пределах данных одного эксперимента рак и опухоль разделяются хорошо. Но при этом данные между разными экспериментами отличаются так же, как и рак от опухоли.\n",
    "\n",
    "Этот эффект называется батч-эффектом и говорит о том, что нужно нормализовывать данные в пределах эксперимента каким-то хитрым образом, чтобы научить модель на новых данных отличать рак от нормальной ткани.\n",
    "\n",
    "Таким образом, с помощью PCA мы нашли выбросы и артефакт в данных."
   ]
  },
  {
   "cell_type": "markdown",
   "metadata": {},
   "source": [
    "### Проблемы  PCA\n",
    "\n",
    "\n"
   ]
  },
  {
   "cell_type": "markdown",
   "metadata": {},
   "source": [
    "**Интересное направление в данных может не совпадать с направлением максимальной дисперсии.**\n",
    "\n",
    "Рассмотрим случай выборки, которая сгенерирована из двух вытянутых нормальных распределений, чьи основные оси неортогональны друг другу:"
   ]
  },
  {
   "cell_type": "markdown",
   "metadata": {},
   "source": [
    "<img src=\"https://edunet.kea.su/repo/EduNet-content/dev-2.0/L04/out/problem_pca_2.png\" width=\"600\"/>"
   ]
  },
  {
   "cell_type": "markdown",
   "metadata": {},
   "source": [
    "**Выбранные оси могут не подходить для нашей задачи**\n",
    "\n",
    "В примере ниже дисперсии не отражают интересующие нас направления в данных:"
   ]
  },
  {
   "cell_type": "markdown",
   "metadata": {},
   "source": [
    "<img src=\"https://edunet.kea.su/repo/EduNet-content/dev-2.0/L04/out/problem_pca_1.png\" width=\"600\"/>"
   ]
  },
  {
   "cell_type": "markdown",
   "metadata": {},
   "source": [
    "В данном случае метод главных компонент будет считать вертикальную компоненту более значимой для описания набора данных, чем горизонтальную.\n",
    "\n",
    "Но, например, в случае, когда данные из левого и правого кластера относятся к разным классам, для их линейной разделимости вертикальная компонента является шумовой. Несмотря на это, метод главных компонент никогда ее шумовой не признает, и есть вероятность, что отбор признаков с его помощью выкинет из ваших данных значимые для решаемой вами задачи компоненты просто потому, что вдоль них значения имеют низкую дисперсию.\n",
    "\n",
    "Справляться с такими ситуациями могут некоторые другие методы уменьшения размерности данных, например, метод независимых компонент (Independent Component Analysis, ICA)."
   ]
  },
  {
   "cell_type": "markdown",
   "metadata": {},
   "source": [
    "#### Недостатки линейного PCA"
   ]
  },
  {
   "cell_type": "markdown",
   "metadata": {},
   "source": [
    "Также бывают ситуации, когда оптимально спроецировать не на некоторую плоскость, а на многообразие (кривая плоскость), как показано на картинке ниже."
   ]
  },
  {
   "cell_type": "markdown",
   "metadata": {},
   "source": [
    "<img src=\"https://edunet.kea.su/repo/EduNet-content/dev-2.0/L04/out/s_manifold.png\" width=\"650\"/>"
   ]
  },
  {
   "cell_type": "markdown",
   "metadata": {},
   "source": [
    "В данном случае оптимально спроецировать на S-образную кривую.\n",
    "\n"
   ]
  },
  {
   "cell_type": "markdown",
   "metadata": {},
   "source": [
    "## Kernel PCA (нелинейный) метод главных компонент"
   ]
  },
  {
   "cell_type": "markdown",
   "metadata": {},
   "source": [
    "Как уже упоминалось, иногда невозможно захватить всю информацию линейной проекцией, хотя кривая поверхность с такой же размерностью это позволяет сделать. Одним из подходов к решению данной проблемы является задача перевода признаков в нелинейное пространство."
   ]
  },
  {
   "cell_type": "markdown",
   "metadata": {},
   "source": [
    "### Kernel trick"
   ]
  },
  {
   "cell_type": "markdown",
   "metadata": {},
   "source": [
    "Kernel Trick избегает явного перевода наших признаков в пространство новых признаков, ведь пространства бывают очень большие, а нам бы хотелось сэкономить память компьютера.\n",
    "Оказывается, для PCA не важны собственно признаки объектов, а важны скалярные произведения между объектами.\n",
    "\n",
    "И это скалярное произведением позволяет подсчитывать напрямую функция $k(\\mathbf {x} ,\\mathbf {x'})$, которую часто называют *ядром или ядерной функцией (kernel, kernel function)*"
   ]
  },
  {
   "cell_type": "markdown",
   "metadata": {},
   "source": [
    "Бывают разные ядра, которые считают скалярное произведение в разных пространствах\n",
    "\n",
    "\n",
    "* $\\large \\displaystyle k(x_i, x_j) = \\frac{1}{z} e^{-\\frac{h(x_i, x_j)^2}{h}}$ — радиальная базисная функция (RBF)\n",
    "* $\\large k(x_i, x_j) = (<x_i, x_j> + c)^d; c, d \\in \\mathbb{R}$ — полиномиальное ядро\n",
    "* $\\large k(x_i, x_j) = \\sigma((<x_i, x_j>)$ — ядро с функцией активации\n"
   ]
  },
  {
   "cell_type": "markdown",
   "metadata": {},
   "source": [
    "Рассмотрим на примере:"
   ]
  },
  {
   "cell_type": "code",
   "execution_count": null,
   "metadata": {},
   "outputs": [],
   "source": [
    "# https://scikit-learn.org/stable/auto_examples/decomposition/plot_kernel_pca.html\n",
    "from sklearn.datasets import make_circles\n",
    "\n",
    "np.random.seed(42)\n",
    "x, y = make_circles(n_samples=400, factor=0.3, noise=0.05, random_state=42)"
   ]
  },
  {
   "cell_type": "markdown",
   "metadata": {},
   "source": [
    "Возьмем две концентрические окружности"
   ]
  },
  {
   "cell_type": "code",
   "execution_count": null,
   "metadata": {},
   "outputs": [],
   "source": [
    "plt.figure(figsize=(5, 5))\n",
    "\n",
    "plt.title(\"Original space\")\n",
    "\n",
    "class_0 = y == 0\n",
    "class_1 = y == 1\n",
    "\n",
    "sns.scatterplot(x=x[class_0, 0], y=x[class_0, 1], color=\"orange\", s=30, label=\"Class 0\")\n",
    "sns.scatterplot(\n",
    "    x=x[class_1, 0], y=x[class_1, 1], color=\"#27a9e1\", s=30, label=\"Class 1\"\n",
    ")\n",
    "\n",
    "plt.xlabel(\"$x_1$\")\n",
    "plt.ylabel(\"$x_2$\")\n",
    "plt.legend()\n",
    "plt.show()"
   ]
  },
  {
   "cell_type": "markdown",
   "metadata": {},
   "source": [
    "Обычный PCA не может их разделить"
   ]
  },
  {
   "cell_type": "code",
   "execution_count": null,
   "metadata": {},
   "outputs": [],
   "source": [
    "pca = PCA()\n",
    "x_pca = pca.fit_transform(x)\n",
    "plt.figure(figsize=(5, 5))\n",
    "sns.scatterplot(\n",
    "    x=x_pca[class_0, 0], y=x_pca[class_0, 1], color=\"orange\", s=30, label=\"Class 0\"\n",
    ")\n",
    "sns.scatterplot(\n",
    "    x=x_pca[class_1, 0], y=x_pca[class_1, 1], color=\"#27a9e1\", s=30, label=\"Class 1\"\n",
    ")\n",
    "plt.title(\"Projection by PCA\")\n",
    "plt.xlabel(\"1st principal component\")\n",
    "plt.ylabel(\"2nd component\")\n",
    "plt.show()"
   ]
  },
  {
   "cell_type": "markdown",
   "metadata": {},
   "source": [
    "А вот KernelPCA  справляется"
   ]
  },
  {
   "cell_type": "code",
   "execution_count": null,
   "metadata": {},
   "outputs": [],
   "source": [
    "from sklearn.decomposition import KernelPCA\n",
    "\n",
    "kpca = KernelPCA(kernel=\"rbf\", fit_inverse_transform=True, gamma=10)\n",
    "x_kpca = kpca.fit_transform(x)\n",
    "\n",
    "plt.figure(figsize=(5, 5))\n",
    "sns.scatterplot(\n",
    "    x=x_kpca[class_0, 0], y=x_kpca[class_0, 1], color=\"orange\", s=30, label=\"Class 0\"\n",
    ")\n",
    "sns.scatterplot(\n",
    "    x=x_kpca[class_1, 0], y=x_kpca[class_1, 1], color=\"#27a9e1\", s=30, label=\"Class 1\"\n",
    ")\n",
    "plt.title(\"Projection by KPCA\")\n",
    "plt.xlabel(r\"1st principal component in space induced by $\\phi$\")\n",
    "plt.ylabel(\"2nd component\")\n",
    "plt.show()"
   ]
  },
  {
   "cell_type": "markdown",
   "metadata": {},
   "source": [
    "Хотя, конечно, и восстанавливать он будет не идеально: работал-то он в пространстве бОльшей размерности и оси строил там."
   ]
  },
  {
   "cell_type": "code",
   "execution_count": null,
   "metadata": {},
   "outputs": [],
   "source": [
    "# 1. The 'kpca' variable is a KernelPCA object that is initialized with 'n_components' set to 2.\n",
    "# 2. Then it applies the kernel function specified in the 'kernel' variable  and then transforms the data based on the kernel, and gets the transformed data.\n",
    "# 3. Then it returns the transformed data.\n",
    "# 4. Then we get the inverse transformation by simply calling \"kpca.inverse_transform(x_kpca)\"\n",
    "# 5. Finally, we plot the transformed data.\n",
    "\n",
    "x_back = kpca.inverse_transform(x_kpca)\n",
    "plt.figure(figsize=(5, 5))\n",
    "sns.scatterplot(\n",
    "    x=x_back[class_0, 0], y=x_back[class_0, 1], color=\"orange\", s=30, label=\"Class 0\"\n",
    ")\n",
    "sns.scatterplot(\n",
    "    x=x_back[class_1, 0], y=x_back[class_1, 1], color=\"#27a9e1\", s=30, label=\"Class 1\"\n",
    ")\n",
    "plt.title(\"Original space after inverse transform\")\n",
    "plt.xlabel(\"$x_1$\")\n",
    "plt.ylabel(\"$x_2$\")\n",
    "\n",
    "plt.tight_layout()\n",
    "plt.show()"
   ]
  },
  {
   "cell_type": "markdown",
   "metadata": {},
   "source": [
    "Kernel PCA довольно чувствителен к выбору ядра.\n",
    "\n",
    "К примеру, для данных, расположенных на трех окружностях:"
   ]
  },
  {
   "cell_type": "markdown",
   "metadata": {},
   "source": [
    "<img src=\"https://edunet.kea.su/repo/EduNet-content/dev-2.0/L04/out/kernel_pca_three_circles.png\" width=\"260\"/>"
   ]
  },
  {
   "cell_type": "markdown",
   "metadata": {},
   "source": [
    "в зависимости от выбора ядра мы будем получать совершенно разные отображение в спрямляющее пространство:"
   ]
  },
  {
   "cell_type": "markdown",
   "metadata": {},
   "source": [
    "<img src=\"https://edunet.kea.su/repo/EduNet-content/dev-2.0/L04/out/kernel_pca_different_kernels.png\" width=\"600\"/>"
   ]
  },
  {
   "cell_type": "markdown",
   "metadata": {},
   "source": [
    "В связи с вышеописанными случаями, ниже мы рассмотрим более сильные методы.\n",
    "\n",
    "Существуют и другие методы понижения размерности в данных. К примеру, t-SNE и UMAP.\n",
    "\n",
    "Они немного иначе решают поставленную задачу: из пространства новой размерности мы не должны легко переходить в прежнее пространство. Взамен этого требуется, чтобы сохранялись расстояния между объектами. Причем, особое внимание уделяется расстояниям между близкими объектами. При этом расстояния между далекими объектами могут не сохраняться."
   ]
  },
  {
   "cell_type": "markdown",
   "metadata": {},
   "source": [
    "## t-SNE (t-distributed Stochastic Neighbor Embedding)"
   ]
  },
  {
   "cell_type": "markdown",
   "metadata": {},
   "source": [
    "Идея состоит в том, чтобы не напрямую максимизировать дисперсию, а найти такое пространство, в котором расстояние между объектами будет сохраняться или по крайне мере не сильно меняться.\n",
    "\n",
    "При этом будем больше беспокоиться о расстоянии между близкими объектами, нежели о расстоянии между далекими."
   ]
  },
  {
   "cell_type": "markdown",
   "metadata": {},
   "source": [
    "Рассмотрим алгоритм пошагово:\n",
    "\n",
    "**Шаг 1:** Вычисляем матрицу попарных сходств объектов в пространстве исходной размерности. Затем преобразуем попарные сходства в условные вероятности.\n",
    "\n",
    "Получаем, что объекты, считающиеся близкими в пространстве высокой размерности, имеют более высокую условную вероятность быть соседями и в пространстве низкой размерности."
   ]
  },
  {
   "cell_type": "markdown",
   "metadata": {},
   "source": [
    "<img src=\"https://edunet.kea.su/repo/EduNet-content/dev-2.0/L04/out/tsne_get_distance_matrix.png\" width=\"650\"/>"
   ]
  },
  {
   "cell_type": "markdown",
   "metadata": {},
   "source": [
    "**Шаг 2:** Иициализируем начальное положение объектов в пространстве низкой размерности. Так как мы сгенирировали его случайно, видим, что они сильно отличаются.\n"
   ]
  },
  {
   "cell_type": "markdown",
   "metadata": {},
   "source": [
    "<img src=\"https://edunet.kea.su/repo/EduNet-content/dev-2.0/L04/out/tsne_two_matrix_distance.png\" width=\"600\"/>"
   ]
  },
  {
   "cell_type": "markdown",
   "metadata": {},
   "source": [
    "**Шаг 3:** Оптимизация. Осталось только привести сгенерированную матрицу к исходной. Делаем это с помощью градиентного спуска, минимизируя функцию потерь [дивергенцию Кульбака — Лейблера 📚[wiki]](https://ru.wikipedia.org/wiki/%D0%A0%D0%B0%D1%81%D1%81%D1%82%D0%BE%D1%8F%D0%BD%D0%B8%D0%B5_%D0%9A%D1%83%D0%BB%D1%8C%D0%B1%D0%B0%D0%BA%D0%B0_%E2%80%94_%D0%9B%D0%B5%D0%B9%D0%B1%D0%BB%D0%B5%D1%80%D0%B0):\n",
    "\n",
    "$$KL(P||Q) = \\sum_{i \\neq j}{p_{ij} log \\frac{p_{ij}}{q_{ij}}},$$\n",
    "\n",
    "где:\n",
    "\n",
    "$p_{ij}$ — условная вероятность близости между объектами $i$ и $j$ в пространстве исходной размерности\n",
    "\n",
    "$q_{ij}$ — условная вероятность близости между объектами $i$ и $j$ в пространстве низкой размерности\n",
    "\n",
    "В итоге мы хотим получить такое представление, чтобы объекты, которые находились близко в исходном пространстве, **наиболее вероятно** находились близко и в новом представлении."
   ]
  },
  {
   "cell_type": "markdown",
   "metadata": {},
   "source": [
    "**Физическая аналогия:**\n",
    "\n",
    "Представьте себе комнату, в которой в воздухе висят шарики (наши объекты), которые соединены недеформированными пружинками, и время заморожено. Мы хотим из 3-мерного пространства (шарики в объеме комнаты), сделать представление в 2-мерном (шарики лежат на полу).\n",
    "\n",
    "Если разморозить время, шарики упадут на пол. Тогда пружинки начнут стягивать шарики, которые были близки, и отталкивать шарики, которые упали близко, но были далеки. После того, как все шарики прекратят движение по полу и система из связанных шариков окажется в состоянии покоя, распределение расстояний между шариками на плоскости будет приближением для исходного распределения расстояний в объеме комнаты. Эта физическая аналогия показывает то, что происходит при минимизации дивергенции Кульбака — Лейблера.\n",
    "\n",
    "Можем увидеть такой эффект на демонстрации:"
   ]
  },
  {
   "cell_type": "code",
   "execution_count": null,
   "metadata": {},
   "outputs": [],
   "source": [
    "# source: https://bost.ocks.org/mike/\n",
    "from IPython.display import HTML\n",
    "\n",
    "!wget -qN https://edunet.kea.su/repo/EduNet-web_dependencies/dev-2.0/L04/tSNE.html\n",
    "\n",
    "HTML(filename=\"./tSNE.html\")"
   ]
  },
  {
   "cell_type": "markdown",
   "metadata": {},
   "source": [
    "### Пример применения"
   ]
  },
  {
   "cell_type": "markdown",
   "metadata": {},
   "source": [
    "Мы будем применять t-SNE не на исходных данных, а на 9-ти первых компонентах PCA. Для того, чтобы t-SNE сходился лучше, в качестве изначальных координат точек в новом пространстве можно использовать не случайный шум, а первые две компоненты PCA.\n",
    "\n",
    "Преследуем две цели: уменьшить время работы t-SNE (который работает очень медленно) и убрать эффект шума на t-SNE — он может на него реагировать, особенно при условии, что схождения к минимуму мы можем не дождаться.\n",
    "\n"
   ]
  },
  {
   "cell_type": "code",
   "execution_count": null,
   "metadata": {},
   "outputs": [],
   "source": [
    "from sklearn import manifold\n",
    "\n",
    "# 1. Firstly we reduce the dimensionality of the data to 6 features using PCA.\n",
    "# 2. Then we take the first two PCA components and use this\n",
    "#    as an initial approximation for the T-SNE algorithm.\n",
    "# 3. Then we fit T-SNE on the data and plot the first two dimensions\n",
    "#    of the T-SNE output, which are represented in green.\n",
    "# 4. The visualization makes clear that there are distinct clusters in our data\n",
    "\n",
    "\n",
    "scRNAseq = pd.read_csv(\n",
    "    \"https://edunet.kea.su/repo/EduNet-web_dependencies/datasets/scRNAseq_CITEseq.txt\",\n",
    "    sep=\"\\t\",\n",
    ")\n",
    "\n",
    "x = scRNAseq.iloc[:, 0:-1]  # features\n",
    "y = scRNAseq.iloc[:, -1]  # labels\n",
    "\n",
    "# taking the log of the data.\n",
    "x = np.log(x + 1)\n",
    "\n",
    "x_reduced = PCA(n_components=9).fit_transform(x)\n",
    "\n",
    "model = manifold.TSNE(\n",
    "    n_components=2,\n",
    "    init=x_reduced[:, 0:2],  # often use as a reasonable approximation\n",
    "    perplexity=40,  # important parameter\n",
    "    verbose=2,\n",
    "    learning_rate=\"auto\",\n",
    ")\n",
    "\n",
    "manifold = model.fit_transform(x_reduced)\n",
    "\n",
    "plt.figure(figsize=(10, 5))\n",
    "plt.scatter(manifold[:, 0], manifold[:, 1], c=y, cmap=\"tab20\", s=20)\n",
    "plt.title(\"TSNE: scRNAseq\", fontsize=25)\n",
    "plt.xlabel(\"TSNE1\", fontsize=22)\n",
    "plt.ylabel(\"TSNE2\", fontsize=22)\n",
    "plt.show()"
   ]
  },
  {
   "cell_type": "markdown",
   "metadata": {},
   "source": [
    "\n",
    "\n",
    "И покрасим по разметке, которая нам известна из эксперимента. Видим, что разделение очень хорошее."
   ]
  },
  {
   "cell_type": "markdown",
   "metadata": {},
   "source": [
    "### Важные параметры t-SNE\n",
    "\n"
   ]
  },
  {
   "cell_type": "markdown",
   "metadata": {},
   "source": [
    "`perplexity` — чем больше **perplexity**, тем более глобально мы смотрим на структуру.\n",
    "\n",
    "`metric` — как считаются расстояния между точками — **metric**. По умолчанию используется евклидово расстояние, но часто помогают и другие (например, косинусное).\n",
    "\n",
    "`learning_rate` — шаг градиентного спуска, тоже влияет на полученное представление."
   ]
  },
  {
   "cell_type": "markdown",
   "metadata": {},
   "source": [
    "### Проблемы t-SNE\n",
    "\n",
    "\n"
   ]
  },
  {
   "cell_type": "markdown",
   "metadata": {},
   "source": [
    "* **Стохастичность**\n",
    "\n",
    "Низкоразмерное представление, которое вы получите, будет отличаться между\n",
    "запусками, если не зафиксировать **random seed**. Может отличаться довольно сильно.\n",
    "\n",
    "* **Добавление новых точек**\n",
    "\n",
    "Если у вас появились новые данные, то добавить их на  представление, полученное при помощи t-SNE ранее — нетривиальная задача.\n",
    "Для разных областей есть свои \"подгоны\", но все это эвристика.\n",
    "\n",
    "* **Расстояния не отражают реальную структуру**\n",
    "\n",
    "Расстояния между кластерами точек могут ничего не значить (плохо сохраняются далекие расстояния):"
   ]
  },
  {
   "cell_type": "markdown",
   "metadata": {},
   "source": [
    "<img src=\"https://edunet.kea.su/repo/EduNet-content/dev-2.0/L04/out/tsne_problems_distances_between_clusters_no_matter.png\" width=\"1000\"/>"
   ]
  },
  {
   "cell_type": "markdown",
   "metadata": {},
   "source": [
    "* **Искажение размера кластеров**\n",
    "\n",
    "Размеры кластеров ничего не значат и могут сильно отличаться от исходных:"
   ]
  },
  {
   "cell_type": "markdown",
   "metadata": {},
   "source": [
    "<img src=\"https://edunet.kea.su/repo/EduNet-content/dev-2.0/L04/out/tsne_problems_cluster_size_no_matter.png\" width=\"1000\"/>"
   ]
  },
  {
   "cell_type": "markdown",
   "metadata": {},
   "source": [
    "* **Искажение структуры**\n",
    "\n",
    "Можно увидеть не ту структуру, которая по идее должна быть:"
   ]
  },
  {
   "cell_type": "markdown",
   "metadata": {},
   "source": [
    "<img src=\"https://edunet.kea.su/repo/EduNet-content/dev-2.0/L04/out/tsne_problems_erroneous_structure.png\" width=\"1000\"/>"
   ]
  },
  {
   "cell_type": "markdown",
   "metadata": {},
   "source": [
    "[[demo] 🎮 How to Use t-SNE Effectively](https://distill.pub/2016/misread-tsne/)"
   ]
  },
  {
   "cell_type": "markdown",
   "metadata": {},
   "source": [
    "\n",
    "\n",
    "\n",
    "\n",
    "Из-за указанных  недостатков результат t-SNE нужно с осторожностью использовать для кластеризации.\n",
    "\n"
   ]
  },
  {
   "cell_type": "markdown",
   "metadata": {},
   "source": [
    "[[video] 📺 StatQuest: t-SNE, Clearly Explained](https://www.youtube.com/watch?v=NEaUSP4YerM)\n",
    "\n",
    "[[article] 🎓 The art of using t-SNE for single-cell transcriptomics](https://www.nature.com/articles/s41467-019-13056-x) — cтатья по применению t-SNE в биологии"
   ]
  },
  {
   "cell_type": "markdown",
   "metadata": {},
   "source": [
    "## UMAP\n",
    "\n"
   ]
  },
  {
   "cell_type": "markdown",
   "metadata": {},
   "source": [
    "UMAP — uniform manifold approximation and projection.\n",
    "\n",
    "[[doc] 🛠️ How UMAP Works](https://umap-learn.readthedocs.io/en/latest/how_umap_works.html)\n",
    "\n",
    "[[video] 📺 scRNA-seq: Dimension reduction (PCA, tSNE, UMAP)](https://www.youtube.com/watch?v=94ZMJ8tq1Wk)\n",
    "\n",
    "[[demo] 🎮 Understanding UMAP](https://pair-code.github.io/understanding-umap/)\n",
    "\n",
    "Использует похожую на t-SNE идею, но иначе, в результате чего получает много выгодных бонусов.\n",
    "\n",
    "Внутри себя метод строит граф, в котором ребрами соединены между собой $k$ ближайших соседей. При этом эти ребра неравноправны: если для данной пары точек расстояние между ними сильно больше, чем расстояния между ними и другими точками, то и ребро будет иметь маленький вес."
   ]
  },
  {
   "cell_type": "markdown",
   "metadata": {},
   "source": [
    "<img src =\"https://edunet.kea.su/repo/EduNet-content/dev-2.0/L04/out/umap.png\" width=\"800\">"
   ]
  },
  {
   "cell_type": "markdown",
   "metadata": {},
   "source": [
    "Далее задача состоит в том, чтобы в пространстве более низкой размерности получился граф, похожий на тот, который был в пространстве высокой размерности.\n",
    "Для этого оптимизируем низкоразмерное представление градиентным спуском."
   ]
  },
  {
   "cell_type": "markdown",
   "metadata": {},
   "source": [
    "### Пример применения"
   ]
  },
  {
   "cell_type": "code",
   "execution_count": null,
   "metadata": {},
   "outputs": [],
   "source": [
    "from IPython.display import clear_output\n",
    "\n",
    "!pip install -q umap-learn\n",
    "!pip install -q --upgrade tbb\n",
    "clear_output()"
   ]
  },
  {
   "cell_type": "code",
   "execution_count": null,
   "metadata": {},
   "outputs": [],
   "source": [
    "from umap import UMAP\n",
    "\n",
    "# Converts the original expression matrix (scRNAseq) into a 9-dimensional PCA space\n",
    "x_reduced = PCA(n_components=9).fit_transform(x)  # x_scRNAseq\n",
    "\n",
    "# Initializes UMAP with the PCA components\n",
    "model = UMAP(\n",
    "    n_components=2,\n",
    "    min_dist=1,\n",
    "    n_neighbors=93,\n",
    "    init=x_reduced[:, 0:2],\n",
    "    # it is recommended to use the first two components of PCA for initialization of UMAP and t-SNE\n",
    "    n_epochs=1000,\n",
    "    verbose=2,\n",
    ")\n",
    "\n",
    "# Runs the UMAP algorithm on the PCA transformed data\n",
    "umap = model.fit_transform(x_reduced)\n",
    "clear_output()\n",
    "# Plots the results of the UMAP transformation\n",
    "plt.figure(figsize=(10, 5))\n",
    "plt.scatter(umap[:, 0], umap[:, 1], c=y, cmap=\"tab20\", s=20)\n",
    "plt.title(\"UMAP: scRNAseq\", fontsize=25)\n",
    "plt.xlabel(\"UMAP1\", fontsize=22)\n",
    "plt.ylabel(\"UMAP2\", fontsize=22)\n",
    "plt.show()"
   ]
  },
  {
   "cell_type": "markdown",
   "metadata": {},
   "source": [
    "### Важные параметры UMAP\n",
    "\n"
   ]
  },
  {
   "cell_type": "markdown",
   "metadata": {},
   "source": [
    "`n_neighbors` — число соседей, которые ищутся для каждой точки. Влияет на то, насколько глобально мы смотрим на структуру данных.\n",
    "\n",
    "\n",
    "`min_dist` — влияет на то, насколько близко могут находиться между собой точки в новом представлении.\n",
    "\n",
    "`metric` — определяет, как считаются расстояния между точками. По умолчанию Евклидово расстояние, но это не всегда дает лучший результат."
   ]
  },
  {
   "cell_type": "markdown",
   "metadata": {},
   "source": [
    "### Преимущества перед t-SNE\n",
    "\n"
   ]
  },
  {
   "cell_type": "markdown",
   "metadata": {},
   "source": [
    "* **Скорость работы**\n",
    "\n",
    "Выдает результаты, похожие на t-SNE, но  работает в разы быстрее"
   ]
  },
  {
   "cell_type": "markdown",
   "metadata": {},
   "source": [
    "<center><img src=\"https://edunet.kea.su/repo/EduNet-web_dependencies/dev-2.0/L04/umap_tsne_performance.png\" width=\"450\"/></center>\n",
    "\n",
    "<center><em>Source: <a href=\"https://umap-learn.readthedocs.io/en/latest/performance.html\">Performance Comparison of Dimension Reduction Implementations</a></em></center>"
   ]
  },
  {
   "cell_type": "markdown",
   "metadata": {},
   "source": [
    "* **Возможность проецировать новые точки**\n",
    "\n",
    "UMAP может проецировать точки из новых датасетов на уже имеющееся представление.\n",
    "\n"
   ]
  },
  {
   "cell_type": "markdown",
   "metadata": {},
   "source": [
    "* **Может объединять представления**\n",
    "\n",
    "Если у вас есть признаки, сильно отличающиеся по своим свойствам, то можно построить для них представления отдельно с разными метриками, а далее объединить их.\n",
    "\n",
    "\n"
   ]
  },
  {
   "cell_type": "markdown",
   "metadata": {},
   "source": [
    "* **Более интуитивные параметры**\n",
    "\n",
    "Параметры `n_neighbours` и `min_dist` намного понятнее их аналога — `perplexity`."
   ]
  },
  {
   "cell_type": "markdown",
   "metadata": {},
   "source": [
    "* **Можно использовать для отображения и в пространства бо́льшей размерности**\n",
    "\n",
    "Кроме того, его можно использовать для понижения размерности не только до 2-3 (в целях визуализации), но и для больших размерностей, с которыми потом работать другими методами (хотя здесь надо быть аккуратным, он тоже склонен деформировать дальние расстояния)"
   ]
  },
  {
   "cell_type": "markdown",
   "metadata": {},
   "source": [
    "* **Расстояния более информативны**\n",
    "\n",
    "Плохая идея — интерпретировать расстояния между кластерами и их размеры для 2D представлений.\n",
    "\n",
    "Но в случае UMAP это менее выражено.\n",
    "\n",
    "\n",
    "\n"
   ]
  },
  {
   "cell_type": "markdown",
   "metadata": {},
   "source": [
    "Если же отображать в пространство размерности большей, чем два, то можно получить и очень хорошие представления. Но это все эвристика, может и не повезти."
   ]
  },
  {
   "cell_type": "markdown",
   "metadata": {},
   "source": [
    "* **Supervised UMAP**\n",
    "\n",
    "UMAP позволяет передать в него метки объектов — вы можете получать представление, которое оптимизировано под имеющуюся у вас информацию о кластерах."
   ]
  },
  {
   "cell_type": "markdown",
   "metadata": {},
   "source": [
    "* **Semi-Supervised UMAP**\n",
    "\n",
    "UMAP позволяет передать в него метки **только для части** объектов — вы можете получать представление, которое оптимизировано под имеющуюся у вас информацию о кластерах, но при этом не оставляет без внимания объекты без меток."
   ]
  },
  {
   "cell_type": "markdown",
   "metadata": {},
   "source": [
    "### Понижение размерности для улучшения качества кластеризации"
   ]
  },
  {
   "cell_type": "markdown",
   "metadata": {},
   "source": [
    "Методы понижения размерности, такие как UMAP и t-SNE, могут быть использованы как эффективный метод предобработки данных для последующей передачи в [алгоритмы кластеризации на основе плотности 📚[wiki]](https://en.wikipedia.org/wiki/DBSCAN). Данные методы понижения размерности не полностью сохраняют информацию о плотности распределения объектов при осуществлении проекции в низкоразмерное пространство, поэтому следует относиться к такой предобработке с некоторой осторожностью (рекомендуем ознакомиться с [Clustering on the output of t-SNE ✏️[blog]](https://stats.stackexchange.com/questions/263539/clustering-on-the-output-of-t-sne) на  stackexchange). Несмотря на эти опасения, все же есть веские причины для использования данных методов понижения размерности в качестве этапа предварительной обработки для кластеризации. Как и при любом подходе к кластеризации, необходимо провести исследование и оценку полученных кластеров, чтобы попытаться валидировать разбиение на них, если это возможно."
   ]
  },
  {
   "cell_type": "markdown",
   "metadata": {},
   "source": [
    "Загрузим датасет с одноканальными $8 \\times 8$ изображениями рукописных цифр:"
   ]
  },
  {
   "cell_type": "code",
   "execution_count": null,
   "metadata": {},
   "outputs": [],
   "source": [
    "from sklearn import datasets\n",
    "\n",
    "digits = datasets.load_digits(n_class=10)\n",
    "x = digits.data\n",
    "y = digits.target\n",
    "n_samples, n_features = x.shape\n",
    "print(x.shape)"
   ]
  },
  {
   "cell_type": "markdown",
   "metadata": {},
   "source": [
    "Понизим размерность данных $64 \\rightarrow 2$ при помощи t-SNE:"
   ]
  },
  {
   "cell_type": "code",
   "execution_count": null,
   "metadata": {},
   "outputs": [],
   "source": [
    "from sklearn import manifold\n",
    "\n",
    "\n",
    "# t-SNE embedding of the digits dataset\n",
    "tsne = manifold.TSNE(n_components=2, init=\"pca\", random_state=42, learning_rate=\"auto\")\n",
    "x_tsne = tsne.fit_transform(x)"
   ]
  },
  {
   "cell_type": "markdown",
   "metadata": {},
   "source": [
    "Понизим размерность данных $64 \\rightarrow 2$ при помощи UMAP:"
   ]
  },
  {
   "cell_type": "code",
   "execution_count": null,
   "metadata": {},
   "outputs": [],
   "source": [
    "umap = UMAP(n_neighbors=5)\n",
    "x_umap = umap.fit_transform(x)"
   ]
  },
  {
   "cell_type": "markdown",
   "metadata": {},
   "source": [
    "Визуализируем результаты:"
   ]
  },
  {
   "cell_type": "code",
   "execution_count": null,
   "metadata": {},
   "outputs": [],
   "source": [
    "from matplotlib import offsetbox\n",
    "\n",
    "\n",
    "def plot_embedding(x, title=None):\n",
    "    x_min, x_max = np.min(x, 0), np.max(x, 0)\n",
    "    x = (x - x_min) / (x_max - x_min)  # normalization of x to (0..1) range\n",
    "\n",
    "    plt.figure()\n",
    "    ax = plt.subplot(111)\n",
    "    for i in range(x.shape[0]):\n",
    "        plt.text(\n",
    "            x[i, 0],\n",
    "            x[i, 1],\n",
    "            str(y[i]),\n",
    "            color=plt.cm.Set1(y[i] / 10.0),\n",
    "            fontdict={\"weight\": \"bold\", \"size\": 9},\n",
    "        )\n",
    "\n",
    "    if hasattr(offsetbox, \"AnnotationBbox\"):\n",
    "        # only print thumbnails with matplotlib > 1.0\n",
    "        shown_imgs = np.array([[1.0, 1.0]])  # just something big\n",
    "        for i in range(x.shape[0]):\n",
    "            dist = np.sum((x[i] - shown_imgs) ** 2, 1)\n",
    "            if np.min(dist) < 4e-3:\n",
    "                # don't show points that are too close\n",
    "                continue\n",
    "            shown_imgs = np.r_[shown_imgs, [x[i]]]\n",
    "            img_box = offsetbox.AnnotationBbox(\n",
    "                offsetbox.OffsetImage(digits.images[i], cmap=plt.cm.gray_r), x[i]\n",
    "            )\n",
    "            ax.add_artist(img_box)\n",
    "    plt.xticks([]), plt.yticks([])\n",
    "    if title is not None:\n",
    "        plt.title(title)\n",
    "\n",
    "    plt.figure()\n",
    "    ax = plt.subplot(111)\n",
    "    for i in range(x.shape[0]):\n",
    "        plt.text(\n",
    "            x[i, 0],\n",
    "            x[i, 1],\n",
    "            str(y[i]),\n",
    "            color=plt.cm.Set1(y[i] / 10.0),\n",
    "            fontdict={\"weight\": \"bold\", \"size\": 9},\n",
    "        )\n",
    "    plt.xticks([]), plt.yticks([])\n",
    "    if title is not None:\n",
    "        plt.title(title)"
   ]
  },
  {
   "cell_type": "code",
   "execution_count": null,
   "metadata": {},
   "outputs": [],
   "source": [
    "# t-SNE embedding of the digits dataset\n",
    "plot_embedding(x_tsne, \"t-SNE embedding of the digits\")"
   ]
  },
  {
   "cell_type": "code",
   "execution_count": null,
   "metadata": {},
   "outputs": [],
   "source": [
    "# UMAP embedding of the digits\n",
    "plot_embedding(x_umap, \"UMAP embedding of the digits\")"
   ]
  },
  {
   "cell_type": "markdown",
   "metadata": {},
   "source": [
    "Как нетрудно заметить, при использовании UMAP точки из датасета при проекции в низкоразмерное пространство оказались расположены более \"кучно\", нежели чем при использовании t-SNE."
   ]
  },
  {
   "cell_type": "markdown",
   "metadata": {},
   "source": [
    "Теперь попробуем кластеризовать наши данные при помощи K-Means. Для оценки качества воспользуемся стандартными метриками `adjusted_rand_score` [🛠️[doc]](https://scikit-learn.org/stable/modules/generated/sklearn.metrics.adjusted_rand_score.html) и `adjusted_mutual_info_score` [🛠️[doc]](https://scikit-learn.org/stable/modules/generated/sklearn.metrics.adjusted_mutual_info_score.html) из `sklearn.metrics`."
   ]
  },
  {
   "cell_type": "code",
   "execution_count": null,
   "metadata": {},
   "outputs": [],
   "source": [
    "import sklearn.cluster as cluster\n",
    "\n",
    "kmeans_labels_on_raw = cluster.KMeans(n_clusters=10, n_init=\"auto\").fit_predict(x)"
   ]
  },
  {
   "cell_type": "code",
   "execution_count": null,
   "metadata": {},
   "outputs": [],
   "source": [
    "from sklearn.metrics import adjusted_rand_score, adjusted_mutual_info_score\n",
    "\n",
    "\n",
    "def plot_clustering_metrics(true_l, pled_l, title):\n",
    "    ari = adjusted_rand_score(true_l, pled_l)\n",
    "    ami = adjusted_mutual_info_score(true_l, pled_l)\n",
    "    fig, ax = plt.subplots(1, 1, figsize=(10, 6))\n",
    "    plt.title(f\"Clustering metrics for {title}\\n\\n 1.0 is best\")\n",
    "    width = 0.75\n",
    "    ind = np.arange(2)\n",
    "    ax.barh(ind, [ari, ami], width)\n",
    "    ax.grid(axis=\"x\")\n",
    "    ax.set_xlim([0, 1.0])\n",
    "    for i, v in enumerate([ari, ami]):\n",
    "        ax.text(v + 0.01, i, f\"{v:1.2f}\", color=\"black\")\n",
    "    ax.set_yticks(ind)\n",
    "    ax.set_yticklabels([\"ARI\", \"AMI\"], minor=False)\n",
    "    plt.show()"
   ]
  },
  {
   "cell_type": "code",
   "execution_count": null,
   "metadata": {},
   "outputs": [],
   "source": [
    "plot_clustering_metrics(y, kmeans_labels_on_raw, \"kNN on raw dataset\")"
   ]
  },
  {
   "cell_type": "markdown",
   "metadata": {},
   "source": [
    "Теперь передадим K-Means данные после понижения размерности:"
   ]
  },
  {
   "cell_type": "code",
   "execution_count": null,
   "metadata": {},
   "outputs": [],
   "source": [
    "kmeans_labels_on_x_tsne = cluster.KMeans(n_clusters=10, n_init=\"auto\").fit_predict(\n",
    "    x_tsne\n",
    ")\n",
    "kmeans_labels_on_x_umap = cluster.KMeans(n_clusters=10, n_init=\"auto\").fit_predict(\n",
    "    x_umap\n",
    ")"
   ]
  },
  {
   "cell_type": "code",
   "execution_count": null,
   "metadata": {},
   "outputs": [],
   "source": [
    "plot_clustering_metrics(y, kmeans_labels_on_x_tsne, \"kNN on t-SNE data\")"
   ]
  },
  {
   "cell_type": "code",
   "execution_count": null,
   "metadata": {},
   "outputs": [],
   "source": [
    "plot_clustering_metrics(y, kmeans_labels_on_x_umap, \"kNN on UMAP data\")"
   ]
  },
  {
   "cell_type": "markdown",
   "metadata": {},
   "source": [
    "Применяя методы понижения размерности на этапе предобработки данных, нам удалось значительно улучшить качество кластеризации. Использование UMAP в разобранном нами примере позволило достичь лучших результатов по сравнению с t-SNE и получить прирост практически в 20% относительно метрик качества кластеризации."
   ]
  },
  {
   "cell_type": "markdown",
   "metadata": {},
   "source": [
    "<font size=6>Литература</font>\n",
    "\n",
    "<font size=5>Проблемы при работе с реальными данными:</font>\n",
    "* [[blog] ✏️ SMOTE for Imbalanced Classification with Python](https://machinelearningmastery.com/smote-oversampling-for-imbalanced-classification/)\n",
    "* [[article] 🎓 Support Vector Method for Novelty Detection ](https://proceedings.neurips.cc/paper/1999/file/8725fb777f25776ffa9076e44fcfd776-Paper.pdf)\n",
    "\n",
    "<font size=5>Кластеризация:</font>\n",
    "\n",
    "* [[demo] 🎮 Visualizing K-Means Clustering](https://www.naftaliharris.com/blog/visualizing-k-means-clustering/)\n",
    "* [[blog] ✏️ Подробнее про DBSCAN](https://habr.com/ru/post/322034/)\n",
    "* [[demo] 🎮 Visualizing DBSCAN Clustering](https://www.naftaliharris.com/blog/visualizing-dbscan-clustering/)\n",
    "\n",
    "<font size=5>Кодирование признаков:</font>\n",
    "\n",
    "* [[book] 📚 Real-World Machine Learning](https://www.manning.com/books/real-world-machine-learning)\n",
    "* [[git] 🐾 Real-World Machine Learning](https://github.com/brinkar/real-world-machine-learning)\n",
    "* [[blog] ✏️ Think twice before dropping that first one-hot encoded column](https://inmachineswetrust.com/posts/drop-first-columns/)\n",
    "\n",
    "<font size=5>Разведочный анализ данных:</font>\n",
    "* [[book] 📚Устраняем мультиколлинеарность признаков в ML при помощи графов](https://habr.com/ru/companies/akbarsdigital/articles/592493/)\n",
    "* [[git] 🐾 Пример EDA](https://github.com/WillKoehrsen/machine-learning-project-walkthrough/blob/master/Machine%20Learning%20Project%20Part%201.ipynb)\n",
    "* [[blog] ✏️ Примеры графиков matplotlib](https://habr.com/ru/articles/468295/)\n",
    "* [[video] 📺 Курс лекций с разбором практических задач с применением EDA](https://www.youtube.com/watch?v=FNDQYM0hjh0&list=PLaRUeIuewv8CMFox0oEjlyePUhUmo-x0h)\n",
    "\n",
    "<font size=5>Генерация признаков:</font>\n",
    "* [[colab] 🥨 Генерация признаков с использованием RandomForest и GradientBoosting ](https://colab.research.google.com/drive/1pVRkaTksyXqbdpfYvTSFuq9rlH2KVSmB#scrollTo=VaJ-_qIqbkPN)\n",
    "\n",
    "<font size=5>Отбор признаков:</font>\n",
    "* [[blog] ✏️ Automated feature selection with boruta](https://www.kaggle.com/code/residentmario/automated-feature-selection-with-boruta)\n",
    "* [[doc] 🛠️ Feature selection](https://scikit-learn.org/stable/modules/feature_selection.html)\n",
    "* [[doc] 🛠️ Model-based and sequential feature selection](https://scikit-learn.org/stable/auto_examples/feature_selection/plot_select_from_model_diabetes.html#sphx-glr-auto-examples-feature-selection-plot-select-from-model-diabetes-py)\n",
    "* [[blog] ✏️ Sequential Feature Selection for Regression](http://rasbt.github.io/mlxtend/user_guide/feature_selection/SequentialFeatureSelector/#example-5-sequential-feature-selection-for-regression)\n",
    "* [[colab] 🥨 Эксперимент с неправильным отбором признаков](https://colab.research.google.com/drive/1nn8o--hy2siBqTKRowmW0cdD6Skh7-rY)\n",
    "\n",
    "<font size=5>Задача понижения размерности:</font>\n",
    "* [[arxiv] 🎓 Permutation methods for factor analysis and PCA](https://arxiv.org/abs/1710.00479)\n",
    "* [[demo] 🎮 How to Use t-SNE Effectively](https://distill.pub/2016/misread-tsne/)\n",
    "[[video] 📺 StatQuest: t-SNE, Clearly Explained](https://www.youtube.com/watch?v=NEaUSP4YerM)\n",
    "* [[article] 🎓 The art of using t-SNE for single-cell transcriptomics](https://www.nature.com/articles/s41467-019-13056-x)\n",
    "\n",
    "* [[video] 📺 scRNA-seq: Dimension reduction (PCA, tSNE, UMAP)](https://www.youtube.com/watch?v=94ZMJ8tq1Wk)\n",
    "* [[demo] 🎮 Understanding UMAP](https://pair-code.github.io/understanding-umap/)\n",
    "\n",
    "<font size=5>Дополнительно:</font>\n",
    "* [[book] 📚 Feature Selection for High-Dimensional Data](https://www.springer.com/gp/book/9783319218571)\n",
    "* [[book] 📚 Feature Engineering for Machine Learning: Principles and Techniques for Data Scientists Paperback](https://books.google.ru/books/about/Feature_Engineering_for_Machine_Learning.html?id=Ho0UvgAACAAJ&redir_esc=y)\n",
    "* [[blog] ✏️ Handling Cyclical Features](http://blog.davidkaleko.com/feature-engineering-cyclical-features.html) — про кодирование циклических признаков Feature Engineering\n",
    "* [[blog] ✏️ How to Win a Data Science Competition: Learn from Top Kagglers](https://blog.coursera.org/learn-top-kagglers-win-data-science-competition/)\n",
    "* [[article] 🎓 A Few Useful Things to Know About Machine Learning](https://homes.cs.washington.edu/~pedrod/papers/cacm12.pdf)\n",
    "* [[blog] ✏️ Сайт](https://dyakonov.org/) и [курс 🐾[git]](https://github.com/Dyakonov/PZAD) Дьяконова\n"
   ]
  }
 ],
 "metadata": {},
 "nbformat": 4,
 "nbformat_minor": 0
}
