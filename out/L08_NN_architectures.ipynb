{
 "cells": [
  {
   "cell_type": "markdown",
   "metadata": {},
   "source": [
    "<font size=\"6\">Архитектуры CNN</font>"
   ]
  },
  {
   "cell_type": "markdown",
   "metadata": {},
   "source": [
    "# Базовые компоненты свёрточных сетей"
   ]
  },
  {
   "cell_type": "markdown",
   "metadata": {},
   "source": [
    "\n",
    "\n",
    "Мы рассмотрели базовые компоненты, из которых состоят современные свёрточные нейронные сети, а также техники их обучения."
   ]
  },
  {
   "cell_type": "markdown",
   "metadata": {},
   "source": [
    "<img src =\"https://edunet.kea.su/repo/EduNet-content/dev-2.0/L08/out/basic_components_cnn.png\" width = \"1000\">\n",
    "\n",
    "<img src =\"https://edunet.kea.su/repo/EduNet-content/dev-2.0/L08/out/basic_components.png\" width=\"760\">"
   ]
  },
  {
   "cell_type": "markdown",
   "metadata": {},
   "source": [
    "На этом занятии рассмотрим, какие модели можно построить на основе этих компонентов."
   ]
  },
  {
   "cell_type": "markdown",
   "metadata": {},
   "source": [
    "# ImageNet\n",
    " Large Scale Visual Recognition Challenge"
   ]
  },
  {
   "cell_type": "markdown",
   "metadata": {},
   "source": [
    "ImageNet — одно из самых известных соревнований в области распознавания изображений и машинного зрения. Содержит более 14 миллионов вручную размеченных изображений, принадлежащих к 1000 классам.\n",
    "\n",
    "Для загрузки с [официального сайта 🛠️[doc]](http://image-net.org/download) необходимо запрашивать доступ, но можно загрузить данные с [Kaggle 🛠️[doc]](https://www.kaggle.com/c/imagenet-object-localization-challenge/data). Однако архив занимает порядка 156Gb и не поместится на диск Colab. Поэтому воспользуемся другим репозиторием, который содержит 1000 изображений из оригинального датасета.\n",
    "\n",
    "P.S. Для загрузки данных, которые стали недоступны на официальных сайтах, можно использовать [Academic Torrents 🛠️[doc]](https://academictorrents.com). В частности для [ImageNet 🛠️[doc]](https://academictorrents.com/browse.php?search=imagenet)."
   ]
  },
  {
   "cell_type": "code",
   "execution_count": null,
   "metadata": {},
   "outputs": [],
   "source": [
    "import torch\n",
    "import random\n",
    "import numpy as np\n",
    "\n",
    "# fix random_seed\n",
    "torch.manual_seed(42)\n",
    "random.seed(42)\n",
    "np.random.seed(42)\n",
    "\n",
    "# compute in cpu or gpu\n",
    "device = torch.device(\"cuda\" if torch.cuda.is_available() else \"cpu\")"
   ]
  },
  {
   "cell_type": "code",
   "execution_count": null,
   "metadata": {},
   "outputs": [],
   "source": [
    "# Full list of labels\n",
    "#'https://s3.amazonaws.com/deep-learning-models/image-models/imagenet_class_index.json'\n",
    "!wget -q https://edunet.kea.su/repo/EduNet-web_dependencies/datasets/imagenet_class_index.json\n",
    "\n",
    "# https://github.com/ajschumacher/imagen.git\n",
    "!wget -q https://edunet.kea.su/repo/EduNet-web_dependencies/datasets/imagen.zip\n",
    "!unzip -q imagen.zip"
   ]
  },
  {
   "cell_type": "markdown",
   "metadata": {},
   "source": [
    "Загрузили категории:"
   ]
  },
  {
   "cell_type": "code",
   "execution_count": null,
   "metadata": {},
   "outputs": [],
   "source": [
    "import json\n",
    "import pprint\n",
    "import numpy as np\n",
    "\n",
    "pp = pprint.PrettyPrinter(width=41, compact=True)\n",
    "\n",
    "with open(\"imagenet_class_index.json\") as f:\n",
    "    imagenet_labels = json.load(f)\n",
    "\n",
    "classes = np.array(list(imagenet_labels.values()))[:, 1]\n",
    "\n",
    "pp.pprint(\n",
    "    dict(list(imagenet_labels.items())[:10])\n",
    ")  # Use Pretty Print to display long dict"
   ]
  },
  {
   "cell_type": "code",
   "execution_count": null,
   "metadata": {},
   "outputs": [],
   "source": [
    "from glob import glob\n",
    "from PIL import Image\n",
    "from torch.utils.data import Dataset\n",
    "\n",
    "\n",
    "class MicroImageNet(Dataset):\n",
    "    def __init__(self):\n",
    "        super().__init__()\n",
    "        # Load labels\n",
    "        self.num2id = {}\n",
    "        with open(\"imagenet_class_index.json\") as f:\n",
    "            imagenet_labels = json.load(f)\n",
    "        w_net = {}\n",
    "        # Because not all world net image codes from imagen exists in imagenet_labels\n",
    "        # we need to filter this image\n",
    "        for key in imagenet_labels.keys():\n",
    "            wn_id = imagenet_labels[key][0]\n",
    "            w_net[wn_id] = {\"num\": int(key), \"name\": imagenet_labels[key][1]}\n",
    "        self.labels = []\n",
    "        self.paths = []\n",
    "\n",
    "        # Load data\n",
    "        images = glob(\"imagen/*.jpg\")\n",
    "        images.sort()\n",
    "        for i, path in enumerate(images):\n",
    "            name = path.split(\"_\")[2]  # Class name\n",
    "            id = path.split(\"_\")[0][7:]  # WorldNet based ID\n",
    "            if w_net.get(id, None):\n",
    "                self.labels.append([w_net[id][\"num\"], w_net[id][\"name\"], id])\n",
    "                self.paths.append(path)\n",
    "\n",
    "    def __getitem__(self, idx):\n",
    "        im = Image.open(self.paths[idx])\n",
    "        class_num = self.labels[idx][0]\n",
    "        return im, class_num\n",
    "\n",
    "    def __len__(self):\n",
    "        return len(self.paths)\n",
    "\n",
    "\n",
    "microImgNet = MicroImageNet()"
   ]
  },
  {
   "cell_type": "markdown",
   "metadata": {},
   "source": [
    "Посмотрим на картинки:"
   ]
  },
  {
   "cell_type": "code",
   "execution_count": null,
   "metadata": {},
   "outputs": [],
   "source": [
    "import matplotlib.pyplot as plt\n",
    "\n",
    "plt.rcParams[\"figure.figsize\"] = (15, 10)\n",
    "\n",
    "\n",
    "def show(img, label_1, num, label_2=\"\"):\n",
    "    ax = plt.subplot(2, 3, num + 1)\n",
    "    plt.imshow(img)\n",
    "    plt.title(label_1)\n",
    "    ax.set_xlabel(label_2)\n",
    "    plt.axis(\"off\")\n",
    "\n",
    "\n",
    "for i in range(6, 12):\n",
    "    img, label = microImgNet[i * 6]\n",
    "    name = microImgNet.labels[i * 6][1]\n",
    "    show(img, name, i - 6)"
   ]
  },
  {
   "cell_type": "markdown",
   "metadata": {},
   "source": [
    "# Baseline (AlexNet 2012)"
   ]
  },
  {
   "cell_type": "markdown",
   "metadata": {},
   "source": [
    "[[article] 🎓 ImageNet Classification with Deep Convolutional Neural Networks (Krizhevsky et al., 2012)](https://papers.nips.cc/paper/2012/file/c399862d3b9d6b76c8436e924a68c45b-Paper.pdf)\n",
    "\n",
    "Создатели: Alex Krizhevsky, Ilya Sutskever, Geoffrey E. Hinton\n",
    "**University of Toronto**\n",
    "\n",
    "Современный бум нейросетевых технологий начался в 2012 году, когда AlexNet с большим отрывом от конкурентов победила в ImageNet.\n",
    "\n",
    "Архитектура AlexNet состоит из пяти свёрточных слоёв, между которыми располагаются pooling-слои и слои нормализации, а завершают нейросеть три полносвязных слоя."
   ]
  },
  {
   "cell_type": "markdown",
   "metadata": {},
   "source": [
    "<center><img src =\"https://edunet.kea.su/repo/EduNet-content/dev-2.0/L08/out/alexnet_architecture.png\"  width=\"800\"></center>\n",
    "\n",
    "<center><em>Архитектура сети AlexNet</em></center>"
   ]
  },
  {
   "cell_type": "markdown",
   "metadata": {},
   "source": [
    "[[blog] ✏️ Подробнее про AlexNet](https://www.kaggle.com/code/blurredmachine/alexnet-architecture-a-complete-guide)\n",
    "\n",
    "Можно заметить, что нейросеть состоит из **двух работающих параллельно нейросетей**, которые обмениваются информацией после 2-го и 5-го сверточного слоя и в полносвязных слоях. Это было необходимо, т.к. для обучения использовались **GPU GTX580** с 3 ГБ видеопамяти. Авторы архитектуры использовали две видеокарты, работающие параллельно. На вход нейронной сети подавалось трёхканальное изображение с пространственными размерами $224 \\times 224$ пикселя, к которому применялось $96$ фильтров с ядром $11 \\times 11 \\times 3$ и сдвигом $4$. Веса, соответствующие первым $48$ фильтрам, хранились на первой видеокарте, а оставшиеся $48$ фильтров были связаны со второй видеокартой.\n",
    "\n",
    "\n",
    "- **Пространственные размеры** карты признаков резко сжимаются: $224\\times224 \\to 55\\times55 \\to 27\\times27 \\to 13\\times13 \\to 13\\times13 \\to 13\\times13$.\n",
    "\n",
    "- При этом увеличивается **количество сверток** (фильтров) в каждом слое: $96 (48\\times2) \\to 256 (128\\times2) \\to 384 (192\\times2) \\to 256 (128\\times2)$.\n",
    "\n",
    "- На выходе нейросети стоят два **полносвязных слоя**, формирующие ответ (в **ImageNet** 1000 классов)."
   ]
  },
  {
   "cell_type": "markdown",
   "metadata": {},
   "source": [
    "**AlexNet** невозможно напрямую использовать для классификации **CIFAR-10**. Если так агрессивно уменьшать изображение размером $32\\times32$ px, то в определенный момент в него просто не поместится следующий фильтр, который нужно применить. Можно сделать **resize** изображения с $32\\times32$ до $224\\times224$, но это не самый рациональный способ использования вычислительных ресурсов.\n",
    "\n",
    "**Структура** некоторых (особенно старых) сетей, обученных под **ImageNet**, напрямую **зависит от размера изображений**. В более современных сетях есть слой [Adaptive Average Pooling 🛠️[doc]](https://pytorch.org/docs/stable/generated/torch.nn.AdaptiveAvgPool2d.html), позволяющий решить эту проблему, но о нем мы расскажем чуть позже.\n",
    "\n",
    "Такая архитектура показала прорывную точность: 2 место имело ошибку **26.2%** против **15.3%** у AlexNet."
   ]
  },
  {
   "cell_type": "markdown",
   "metadata": {},
   "source": [
    "<center><em><img src =\"https://edunet.kea.su/repo/EduNet-content/dev-2.0/L08/out/alexnet_architecture_with_parameters.png\"></em></center>\n",
    "<center><em>Архитектура сети AlexNet c параметрами слоев</em></center>"
   ]
  },
  {
   "cell_type": "markdown",
   "metadata": {},
   "source": [
    "Нестандартные решения, принятые разработчиками **AlexNet**:\n",
    "* Использование **ReLU** в качестве функции активации. Предшественники использовали ограниченные функции, типа сигмоиды или тангенса, которые приводили к затуханию градиента.\n",
    "* Использование **Response Normalization**. Позже было показано, что эта нормализация не давала значительного прироста скорости обучения и качества модели. В современных моделях чаще используется Batch-нормализация.\n",
    "* Использование различных **методов предобработки** входных данных, таких как повороты, увеличение, зашумление и т.д. для увеличения разнообразия входных данных. Это называется аугментация, и о ней вы узнаете в других лекциях.\n",
    "* Использование **Dropout** = $0.5$ (при обучении отключается случайная половина нейронов).\n",
    "* Использование **SGD Momentum** = $0.9$. Для обеспечения сходимости авторы использовали эвристику для **понижения скорости обучения** (learning rate)\n",
    "* **Скорость обучения** стартует со значения $10^{-2}$ и уменьшается в $10$ раз, когда качество перестает расти.\n",
    "* **L2 регуляризация** с весом $5 \\cdot 10^{-4}$.\n",
    "* Использование **ансамбля** из $7$ обученных из различного начального состояния моделей. Результат работы моделей усредняется. Данное решение увеличило точность с $81.8\\%$ до $84.6\\%$.\n"
   ]
  },
  {
   "cell_type": "markdown",
   "metadata": {},
   "source": [
    "Сравним реализацию в PyTorch с оригинальной. В чем отличия?"
   ]
  },
  {
   "cell_type": "code",
   "execution_count": null,
   "metadata": {},
   "outputs": [],
   "source": [
    "from torchvision import models\n",
    "\n",
    "alexnet = models.alexnet(weights=\"AlexNet_Weights.DEFAULT\")"
   ]
  },
  {
   "cell_type": "code",
   "execution_count": null,
   "metadata": {},
   "outputs": [],
   "source": [
    "from torchsummary import summary\n",
    "\n",
    "print(\"AlexNet architecture\")\n",
    "print(summary(alexnet, (3, 224, 224), device=\"cpu\"))\n",
    "print(alexnet)"
   ]
  },
  {
   "cell_type": "markdown",
   "metadata": {},
   "source": [
    "В PyTorch версии:\n",
    "- отсутствуют нормализации,\n",
    "- отсутствует разделение на две видеокарты,\n",
    "- немного изменено количество сверток на некоторых слоях,\n",
    "- добавлен слой Adaptive Average Pooling.\n",
    "\n",
    "Количество слоев и размеры сверток те же."
   ]
  },
  {
   "cell_type": "markdown",
   "metadata": {},
   "source": [
    "Проверим, как работает:"
   ]
  },
  {
   "cell_type": "code",
   "execution_count": null,
   "metadata": {},
   "outputs": [],
   "source": [
    "import torch\n",
    "import torchvision.transforms.functional as F\n",
    "\n",
    "\n",
    "def img2tensor(img):\n",
    "    t = F.to_tensor(img)\n",
    "    t = F.normalize(t, (0.485, 0.456, 0.406), (0.229, 0.224, 0.225))\n",
    "    return t\n",
    "\n",
    "\n",
    "def catId2names(nums):\n",
    "    titles = []\n",
    "    for num in nums:\n",
    "        titles.append(imagenet_labels[str(num.item())][1])\n",
    "        titles.reverse()\n",
    "    return \", \".join(titles)\n",
    "\n",
    "\n",
    "for i in range(6, 12):\n",
    "    img, label = microImgNet[i * 6]\n",
    "    tensor = img2tensor(img)\n",
    "    out = alexnet(tensor.unsqueeze(0))  # Add batch dimension\n",
    "    labels_num = torch.argsort(out[0])  # Ascending order\n",
    "    weights = out[0][-5:]\n",
    "    predicted = catId2names(labels_num[-5:])  # Top 5\n",
    "    titles = []\n",
    "    name = microImgNet.labels[i * 6][1]\n",
    "    show(img, name, i - 6, predicted)"
   ]
  },
  {
   "cell_type": "markdown",
   "metadata": {},
   "source": [
    "## Метрики ImageNet"
   ]
  },
  {
   "cell_type": "markdown",
   "metadata": {},
   "source": [
    "([[doc] 🛠️ ILSVRC](http://image-net.org/challenges/LSVRC/2017/))\n",
    "\n",
    "\n",
    "<center><img src =\"https://edunet.kea.su/repo/EduNet-content/dev-2.0/L08/out/imagenet_large_scale_visual_recognition_challenge.png\"  width=\"900\"></center>\n",
    "\n",
    "\n",
    "<center><em>Лучшие результаты конкурса ILSVRC по годам.</em></center>"
   ]
  },
  {
   "cell_type": "markdown",
   "metadata": {},
   "source": [
    "На каждом изображении может быть один или несколько предметов, относящихся к одному из **1000** классов.\n",
    "Для метрики *Тop5* алгоритм выдает метки 5 классов. Если предмет, относящийся к одному из этих классов, есть на изображении, то ответ засчитывается как верный.\n",
    "Для *Top1*, соответственно, принимается только метка одного класса."
   ]
  },
  {
   "cell_type": "markdown",
   "metadata": {},
   "source": [
    "\n",
    "\n",
    "<img src =\"https://edunet.kea.su/repo/EduNet-web_dependencies/dev-2.0/L08/imagenet1.png\" width=\"700\" >\n",
    "\n",
    "<em>Source: <a href=\"https://image-net.org/\">ImageNet</a></em>"
   ]
  },
  {
   "cell_type": "markdown",
   "metadata": {},
   "source": [
    "## Тюнинг гиперпараметров (ZFnet)"
   ]
  },
  {
   "cell_type": "markdown",
   "metadata": {},
   "source": [
    "[[arxiv] 🎓 Visualizing and Understanding Convolutional Networks (Zeiler et al., 2013)](https://arxiv.org/abs/1311.2901)"
   ]
  },
  {
   "cell_type": "markdown",
   "metadata": {},
   "source": [
    "<center><img src =\"https://edunet.kea.su/repo/EduNet-content/dev-2.0/L08/out/zfnet_architecture.png\"  width=\"1000\"><center>\n",
    "\n",
    "<center><em>Архитектура сети ZFNet </em><center>\n",
    "\n"
   ]
  },
  {
   "cell_type": "markdown",
   "metadata": {},
   "source": [
    "*Тюнингованный AlexNet*\n",
    "\n",
    "Нейросеть **ZFNet**, созданная учеными из Йорского университета, в 2013 году выиграла соревнования, достигнув результата 11.7%. В ней **AlexNet** использовалась в качестве основы, но с изменёнными параметрами и слоями.\n",
    "\n",
    "Отличия от **AlexNet** небольшие:\n",
    "* Немного поменялись пространственные размеры фильтров (было 11, стало 7);\n",
    "* Увеличилось общее количество фильтров.\n",
    "\n",
    "Количество слоев и общая структура сети, когда слои свёртки и пулинга чередуются друг с другом, а затем идут два полносвязных слоя, сохранились."
   ]
  },
  {
   "cell_type": "markdown",
   "metadata": {},
   "source": [
    "# Базовый блок (VGGNet 2014)\n"
   ]
  },
  {
   "cell_type": "markdown",
   "metadata": {},
   "source": [
    "[[arxiv] 🎓 Very Deep Convolutional Networks for Large-Scale Image Recognition (Simonyan et al., 2014)](https://arxiv.org/abs/1409.1556)\n",
    "\n",
    "Karen Simonyan and Andrew Zisserman (Visual Geometry Group — **Oxford**)"
   ]
  },
  {
   "cell_type": "markdown",
   "metadata": {},
   "source": [
    "<center><img src =\"https://edunet.kea.su/repo/EduNet-content/dev-2.0/L08/out/vggnet_architecture.png\"  width=\"400\" rotate=\"180\"></center>\n",
    "<center><em>Сравнение архитектур сетей AlexNet, VGG16 (использует 16 слоев) и VGG19 (использует 19 слоев)</em></center>\n",
    "\n",
    "\n"
   ]
  },
  {
   "cell_type": "markdown",
   "metadata": {},
   "source": [
    "[[doc] 🛠️ Краткое описание VGGNet](https://www.robots.ox.ac.uk/~vgg/research/very_deep/)\n",
    "\n",
    "В 2014-ом году в Оксфорде была разработана модель **VGGNet**.\n",
    "\n",
    "В архитектуре **VGGNet** появляется идея повторения стандартных блоков и увеличения глубины нейросети повторением таких блоков (**stacking**). На момент создания данной архитектуры идея увеличения глубины нейросети для получения лучших результатов не была очевидна. Стандартный блок **VGGNet** состоит из нескольких слоев свертки (от 2 до 4) и max-pooling слоя.\n",
    "\n",
    "Существует несколько вариантов **VGGNet** архитектуры. Самые известные: **VGG11**, **VGG16** и **VGG19**. Цифра ставится по количеству слоев с обучаемыми весами: сверточных и полносвязных слоев."
   ]
  },
  {
   "cell_type": "markdown",
   "metadata": {},
   "source": [
    "На изображении выше показаны сети **AlexNet** и две версии **VGG16** и **VGG19** с 16 и 19 обучаемыми слоями соответственно. И хоть **VGGNet** заняла 2-е место в задаче классификации, а 1-е место в задаче локализации (классификация и обводка объекта ограничивающей рамкой) на **ImageNet**, она получила широкое признание благодаря своей простой архитектуре. В следующие годы в соревновании встречалось много вариаций архитектур, основанных на базе **VGGNet**\n",
    "\n",
    "\n",
    "Особенности архитектуры **VGGNet**:\n",
    "* все свёрточные слои имеют фильтры с рецептивным полем размера **3×3**;\n",
    "* сверточные слои  объединены в блоки, состоящие из некоторого количества свёрток с разным (постепенно увеличивающимся от блока к блоку) количеством фильтров;\n",
    "* между блоками располагаются слои пулинга.\n",
    "\n",
    "Появление \"стандартных\" блоков внутри модели — важное нововведение. Идея базового блока внутри сети будет достаточно широко использоваться дальше."
   ]
  },
  {
   "cell_type": "code",
   "execution_count": null,
   "metadata": {},
   "outputs": [],
   "source": [
    "from torchvision import models\n",
    "\n",
    "vgg = models.vgg16(\n",
    "    weights=None\n",
    ")  # Change on True if you want to use VGG to predict something\n",
    "print(vgg)"
   ]
  },
  {
   "cell_type": "markdown",
   "metadata": {},
   "source": [
    "Чтобы понять смысл использования сверток $3\\times3$, необходимо познакомиться с понятием рецептивного поля и научиться оценивать количество необходимых вычислительных ресурсов."
   ]
  },
  {
   "cell_type": "markdown",
   "metadata": {},
   "source": [
    "## Вычислительные ресурсы\n",
    "\n"
   ]
  },
  {
   "cell_type": "markdown",
   "metadata": {},
   "source": [
    "Какие ресурсы нужны для работы нейронной сети?\n",
    "* Память для хранения карт активаций.\n",
    "* Память для обучаемых параметров (весов).\n",
    "* Вычислительные ресурсы.\n"
   ]
  },
  {
   "cell_type": "markdown",
   "metadata": {},
   "source": [
    "<center><img src =\"https://edunet.kea.su/repo/EduNet-content/dev-2.0/L08/out/weights_memory.png\"  width=\"650\"></center>\n",
    "<center><em>Рассчет числа оперраций (FLOP) для сверточного слоя</em></center>"
   ]
  },
  {
   "cell_type": "markdown",
   "metadata": {},
   "source": [
    "Для случая, когда количество каналов не меняется, фильтры и изображения квадратные, `stride = 1` и `padding = \"same\"`:\n",
    "\n",
    "$$ \\large \\text{weights} = K^2C^2 $$\n",
    "\n",
    "$$ \\large \\text{flops} = K^2C^2H^2 $$\n"
   ]
  },
  {
   "cell_type": "markdown",
   "metadata": {},
   "source": [
    "\n",
    "\n",
    "$\\color{orange}{\\text{Оранжевый тензор}}$ — карта признаков, поступившая на вход сверточного слоя. Параметры $H_{in}$, $W_{in}$, $C_{in}$ — длина, ширина и глубина (число каналов изображения или фильтров в предыдущем сверточном слое) входного тензора. Данный тензор не учитывается в используемых ресурсах, т.к. информация сохранена в предыдущем слое.\n",
    "\n",
    "**Память для хранения промежуточных представлений** определяется **количеством элементов на выходе слоя** ($\\color{blue}{\\text{синий тензор}}$). Они хранятся для вычисления следующих слоев и градиентов. Необходимая память рассчитывается как:\n",
    "\n",
    "$$\\large H_{out}⋅W_{out}⋅C_{out}⋅n_{byte},$$\n",
    "\n",
    "где $H_{out}, W_{out}, C_{out}$ — длина, ширина и глубина (число фильтров в свертке) выходной карты признаков, а $n_{byte}$ — количество байт для хранения одного элемента ($4$ для `float32`).\n",
    "\n",
    "**Память для обучаемых параметров** определяется **весами и смещением** (bias) фильтров свертки ($\\color{green}{\\text{зеленые тензоры}}$). Необходимая память рассчитывается как:\n",
    "\n",
    "$$\\large (K_h⋅K_w⋅C_{in}⋅C_{out} + С_{out})⋅n_{byte},$$\n",
    "\n",
    "где $K_h, K_w, C_{in}$ — длина, ширина и число каналов входного тензора, $C_{out}$ — число фильтров в свертке.\n",
    "\n",
    "Для оценки необходимых **вычислительных ресурсов** посчитаем **количество операций** сложения и умножения при прямом проходе. Каждый элемент выходного тензора это результат применения фильтра свертки к определенному фрагменту входного тензора. Количество операций можно оценить как произведение количества элементов на выходе слоя на размер одного фильтра:\n",
    "\n",
    "$$\\large (H_{out}⋅W_{out}⋅C_{out})⋅(K_h⋅K_w⋅C_{in}).$$\n"
   ]
  },
  {
   "cell_type": "markdown",
   "metadata": {},
   "source": [
    "**Оценка памяти для хранения параметров слоя:**"
   ]
  },
  {
   "cell_type": "code",
   "execution_count": null,
   "metadata": {},
   "outputs": [],
   "source": [
    "import torch.nn as nn\n",
    "\n",
    "conv_sizes = [11, 7, 5, 3]\n",
    "\n",
    "for conv_size in conv_sizes:\n",
    "    conv_layer = nn.Conv2d(3, 64, conv_size, stride=1, padding=1)\n",
    "    print(\"Convolution size: %ix%i\" % (conv_size, conv_size))\n",
    "    for tag, p in conv_layer.named_parameters():\n",
    "        print(\"Memory reqired for %s: %.2f kb\" % (tag, (np.prod(p.shape) * 4) / 1024))"
   ]
  },
  {
   "cell_type": "markdown",
   "metadata": {},
   "source": [
    "**Оценка количества вычислительных операций (для одной свертки):**\n",
    "\n",
    "* $11×11: (224 * 224 * 64) * (3 * 11 * 11) = 9 633 792 * 11 * 11 =  9 633 792 * 121  = 1 165 688 832$\n",
    "\n",
    "* $7×7: (224 * 224 * 64) * (3 * 7 * 7) = 9 633 792 * 7 * 7 = 9 633 792 * 49 = 472 055 808$\n",
    "\n",
    " $121:49 \\approx 2.5 ⟶ $ в $\\approx 2.5$ раза меньше, чем $11×11$\n",
    "\n",
    "* $5×5: (224 * 224 * 64) * (3 * 5 * 5) = 9 633 792 * 5 * 5 = 9 633 792 * 25 = 240 844 800$\n",
    "\n",
    " $49:25 \\approx 2 ⟶ $ в $\\approx 2$ раза меньше, чем $7×7$\n",
    "\n",
    "* $3×3: (224 * 224 * 64) * (3 * 3 * 3) = 9 633 792 * 3 * 3 = 9 633 792 * 9 = 86 704 128$\n",
    "\n",
    " $25:9 \\approx 2.7$ ⟶ в $\\approx 2.7$ раза меньше, чем $5×5$\n"
   ]
  },
  {
   "cell_type": "markdown",
   "metadata": {},
   "source": [
    "Уменьшение размера ядра свертки приводит к существенному уменьшению количества вычислительных операций\n",
    "\n",
    "\n",
    "\n",
    "\n",
    "\n"
   ]
  },
  {
   "cell_type": "markdown",
   "metadata": {},
   "source": [
    "### Фильтры 3×3"
   ]
  },
  {
   "cell_type": "markdown",
   "metadata": {},
   "source": [
    "**Рецептивное поле нейрона** — это область входного изображения данные из которой использовались при формировании признаков, которые подается на вход данному нейрону(фильтру). **Рецептивное поле** можно назвать “полем зрения”.\n",
    "\n",
    "Интуитивно кажется, что чем больше “поле зрение”, тем лучше обобщающая способность свертки. Авторы **VGG** решили отказаться от свертки **5×5** и заменить ее двумя свертками **3×3**."
   ]
  },
  {
   "cell_type": "markdown",
   "metadata": {},
   "source": [
    "<center><img src =\"https://edunet.kea.su/repo/EduNet-content/dev-2.0/L08/out/receptive_field_size.png\"  width=\"850\"></center>\n",
    "<center><em>Две свёртки 3×3 вместо одной 5×5.</em></center>\n"
   ]
  },
  {
   "cell_type": "markdown",
   "metadata": {},
   "source": [
    "Рассмотрим **рецептивное поле** свертки **5×5** ($\\color{green}{\\text{зеленый квадрат}}$ на A1). Применение свертки **5×5** к этому квадрату даст 1 признак на выходе ($\\color{red}{\\text{красный квадрат}}$ на A3). Применение к этому же **рецептивному полю** свертки **3×3** ($\\color{orange}{\\text{оранжевые квадраты}}$ на A1) даст на **3×3** признака ($\\color{red}{\\text{красный квадрат}}$ на A2), применение второй свертки **3×3** позволит получить 1 признак на выходе ($\\color{red}{\\text{красный квадрат}}$ A3).\n",
    "\n",
    "**Итого:** одна свертка **5×5** имеет то же **рецептивное поле**, что две свертки **3×3**.\n",
    "\n",
    "При этом применение двух сверток **3×3** дает ряд преимуществ:\n",
    "\n",
    "* меньшее количество параметров. При применении свертки **5×5** необходимо обучать $5⋅5⋅C_{in}⋅C_{out} = 25⋅C_{in}⋅C_{out}$  весов, где $С_{in}$ — глубина входной карты признаков, $C_{out}$ — количество фильтров сверточного слоя. При применении двух сверток **3×3** обучается $2⋅(3⋅3⋅C_{in}⋅C_{out}) = 18⋅C_{in}⋅C_{out}$  весов.\n",
    "* между свертками **3×3** добавляется дополнительный **слой активации**, который позволяет формировать более сложные признаки.\n",
    "\n",
    "**2 маленьких фильтра работают как один большой или даже лучше!**\n",
    "\n",
    "Аналогично 3 свертки **3×3** могут заменить одну свертку **7×7**."
   ]
  },
  {
   "cell_type": "markdown",
   "metadata": {},
   "source": [
    "<center><img src =\"https://edunet.kea.su/repo/EduNet-content/dev-2.0/L08/out/receptive_field_size_example.png\"  width=\"850\"></center>\n",
    "<center><em>Три свёртки 3×3 вместо одной 7×7.</em></center>\n"
   ]
  },
  {
   "cell_type": "markdown",
   "metadata": {},
   "source": [
    "### Память для хранения параметров (VGG16)"
   ]
  },
  {
   "cell_type": "markdown",
   "metadata": {},
   "source": [
    "<center><img src =\"https://edunet.kea.su/repo/EduNet-content/dev-2.0/L08/out/memory_and_parameters_vgg16.png\"  width=\"800\"></center>\n",
    "<center><em>Архитектура VGG16 с параметрами слоев </em></center>"
   ]
  },
  {
   "cell_type": "markdown",
   "metadata": {},
   "source": [
    "Благодаря такой экономии получилось сделать большую по тем временам сеть (16 слоев).  Тем не менее, несмотря на применённые способы уменьшения вычислительной сложности и снижение числа параметров, сеть все равно получилась огромной (16-слойная версия сети VGG расходует в 25 раз больше дорогой памяти GPU, нежели AlexNet)."
   ]
  },
  {
   "cell_type": "markdown",
   "metadata": {},
   "source": [
    "<center><img src =\"https://edunet.kea.su/repo/EduNet-content/dev-2.0/L08/out/compare_parameters_alexnet_and_vgg16.png\"  width=\"900\"></center>\n",
    "<center><em>Сравнение параметров AlexNet и VGG16.</em></center>\n"
   ]
  },
  {
   "cell_type": "markdown",
   "metadata": {},
   "source": [
    "* Основная часть памяти расходуется на свёртки в начальных слоях, где пространственные размеры (ширина и высота) велики;\n",
    "* Больше всего весов в полносвязных слоях;\n",
    "* Вычислительные ресурсы нужны в первую очередь для сверток.\n",
    "\n",
    "VGG-16 получилась существенно больше по сравнению с и так довольно объемной AlexNet, и тем более по сравнению с современными моделями.\n",
    "\n",
    "В значительной степени с этим связано дальнейшее направление развития моделей. В следующем году ImageNet выиграла сеть под названием **GoogleNet**."
   ]
  },
  {
   "cell_type": "markdown",
   "metadata": {},
   "source": [
    "\n",
    "### Контроль GPU"
   ]
  },
  {
   "cell_type": "code",
   "execution_count": null,
   "metadata": {},
   "outputs": [],
   "source": [
    "!nvidia-smi"
   ]
  },
  {
   "cell_type": "markdown",
   "metadata": {},
   "source": [
    "Чтобы контролировать расход памяти в процессе обучения, установим библиотеку для мониторинга ресурсов GPU:"
   ]
  },
  {
   "cell_type": "code",
   "execution_count": null,
   "metadata": {},
   "outputs": [],
   "source": [
    "!pip install -q GPUtil"
   ]
  },
  {
   "cell_type": "code",
   "execution_count": null,
   "metadata": {},
   "outputs": [],
   "source": [
    "import GPUtil as GPU\n",
    "import psutil\n",
    "import os\n",
    "\n",
    "\n",
    "def gpu_usage():\n",
    "    GPUs = GPU.getGPUs()\n",
    "    # XXX: only one GPU on Colab and isn’t guaranteed\n",
    "    if len(GPUs) == 0:\n",
    "        return False\n",
    "    gpu = GPUs[0]\n",
    "    process = psutil.Process(os.getpid())\n",
    "    print(\n",
    "        f\"GPU RAM Free: {gpu.memoryFree:.0f}MB \\\n",
    "    | Used: {gpu.memoryUsed:.0f}MB \\\n",
    "    | Util {gpu.memoryUtil*100:3.0f}% \\\n",
    "    | Total {gpu.memoryTotal:.0f}MB\"\n",
    "    )"
   ]
  },
  {
   "cell_type": "markdown",
   "metadata": {},
   "source": [
    "Посмотрим, сколько памяти потребуется **VGG19** и какого размера batch можно использовать."
   ]
  },
  {
   "cell_type": "code",
   "execution_count": null,
   "metadata": {},
   "outputs": [],
   "source": [
    "import torchvision\n",
    "import torch\n",
    "\n",
    "device = torch.device(\"cuda\" if torch.cuda.is_available() else \"cpu\")\n",
    "\n",
    "vgg19 = torchvision.models.vgg19(weights=None, progress=True)\n",
    "vgg19.requires_grad = True\n",
    "vgg19.to(device)\n",
    "\n",
    "gpu_usage()  # Common GPU info\n",
    "\n",
    "vgg19.train()\n",
    "\n",
    "for batch_size in [1, 8, 16, 32, 64]:\n",
    "    input_random = torch.rand(batch_size, 3, 224, 224, device=device)\n",
    "    out = vgg19(input_random)\n",
    "    print(\"Batch size\", batch_size)\n",
    "    gpu_usage()"
   ]
  },
  {
   "cell_type": "markdown",
   "metadata": {},
   "source": [
    "Очистка памяти:"
   ]
  },
  {
   "cell_type": "code",
   "execution_count": null,
   "metadata": {},
   "outputs": [],
   "source": [
    "gpu_usage()"
   ]
  },
  {
   "cell_type": "code",
   "execution_count": null,
   "metadata": {},
   "outputs": [],
   "source": [
    "input_random = None  # del input\n",
    "out = None  # del out\n",
    "gpu_usage()"
   ]
  },
  {
   "cell_type": "code",
   "execution_count": null,
   "metadata": {},
   "outputs": [],
   "source": [
    "torch.cuda.empty_cache()\n",
    "gpu_usage()"
   ]
  },
  {
   "cell_type": "code",
   "execution_count": null,
   "metadata": {},
   "outputs": [],
   "source": [
    "vgg19 = None\n",
    "gpu_usage()"
   ]
  },
  {
   "cell_type": "code",
   "execution_count": null,
   "metadata": {},
   "outputs": [],
   "source": [
    "torch.cuda.empty_cache()"
   ]
  },
  {
   "cell_type": "code",
   "execution_count": null,
   "metadata": {},
   "outputs": [],
   "source": [
    "gpu_usage()"
   ]
  },
  {
   "cell_type": "markdown",
   "metadata": {},
   "source": [
    "# Inception module (GoogLeNet 2014)"
   ]
  },
  {
   "cell_type": "markdown",
   "metadata": {},
   "source": [
    "[[arxiv] 🎓 Going Deeper with Convolutions (Szegedy et al., 2014)](https://arxiv.org/abs/1409.4842)\n",
    "\n",
    "**GoogLeNet** (на самом деле архитектура называется **Inception**, а **GoogLeNet** — это имя команды в соревновании  [**ILSVRC14**](https://www.image-net.org/challenges/LSVRC/2014/), названной так в честь нейронной сети Яна Лекуна **LeNet 5**, но до сих пор первую версию сети **Inception** называют **GoogLeNet**) — ещё более глубокая архитектура с 22 слоями."
   ]
  },
  {
   "cell_type": "markdown",
   "metadata": {},
   "source": [
    "<center><img src =\"https://edunet.kea.su/repo/EduNet-content/dev-2.0/L08/out/inception_module_googlenet.png\"  width=\"500\"></center>"
   ]
  },
  {
   "cell_type": "markdown",
   "metadata": {},
   "source": [
    "В отличие от предыдущих нейросетей, **GoogLeNet** разработана в коммерческой компании с целью практического применения, поэтому основной упор был сделан на эффективность.\n",
    "\n",
    " Она содержит менее 7 миллионов параметров — в 9 раз меньше, чем у **AlexNet**, и в 20 раз меньше, чем у **VGG19**. При этом сеть оказалась немного более точной, чем **VGG19**: ошибка снизилась с 7.3% до 6.7%.\n",
    "\n",
    "Рассмотрим, за счёт чего удалось достичь такого огромного выигрыша в ресурсах, так как многие идеи, которые впервые были использованы для **GoogLeNet**, активно применяются до сих пор."
   ]
  },
  {
   "cell_type": "markdown",
   "metadata": {},
   "source": [
    "Составной блок **GoogLeNet** называется **Inception module**. Архитектура **GoogLeNet** состоит из множества таких блоков, следующих друг за другом.\n",
    "\n",
    "Идея **Inception module** состоит в том, чтобы производить параллельные вычисления сверток с различным размером рецептивного поля и Max Pooling, конкатенируя (объединяя, а не складывая) полученные результаты. Это позволяет выделять признаки разного размера и сложности."
   ]
  },
  {
   "cell_type": "markdown",
   "metadata": {},
   "source": [
    "<center><img src =\"https://edunet.kea.su/repo/EduNet-content/dev-2.0/L08/out/naive_inception_module.png\"  width=\"500\"></center>\n",
    "<center><em>Наивная реализация Inception module </em></center>"
   ]
  },
  {
   "cell_type": "markdown",
   "metadata": {},
   "source": [
    "На рисунке выше представлена наивная реализация **Inception module**. Данная реализация имеет очень важный недостаток: **увеличение глубины карты признаков**. За счет конкатенации выходов **сверток** и **Max Pooling** из 256 каналов на входе мы получаем 672 канала на выходе. Количество каналов изображения увеличилось более чем в 2.6 раза. За 9 таких блоков глубина увеличится более чем в 5000 раз!\n",
    "\n",
    "Такое решение плохо совместимо с экономией ресурсов.\n",
    "\n",
    "Стоит также заметить, что слой **Max Pooling** в данной архитектуре имеет шаг 1 и не изменяет пространственные размеры карты признаков."
   ]
  },
  {
   "cell_type": "markdown",
   "metadata": {},
   "source": [
    "<center><img src =\"https://edunet.kea.su/repo/EduNet-content/dev-2.0/L08/out/naive_inception_module_with_dimension_reduction.png\"  width=\"850\"></center>\n",
    "\n",
    "<center><em>Наивные реализации Inception module и Inception module с уменьшением размерности</em></center>\n"
   ]
  },
  {
   "cell_type": "markdown",
   "metadata": {},
   "source": [
    "Как мы уже показали, при использовании наивной реализации **Inception module** количество фильтров возрастает от слоя к слою.\n",
    "\n",
    "Чтобы этого избежать, введены так называемые **«бутылочные горлышки»** — слои с фильтром **1×1**, уменьшающие глубину карт признаков. Благодаря им удалось достичь того, чтобы количество каналов на входе и на выходе либо не менялось, либо менялось только в моменты, когда это необходимо.\n",
    "\n",
    "Интересно, что слой свертки **1×1** ставится после слоя **Max Pooling**. Это позволяет более эффективно преобразовывать признаки, регулируя количество каналов."
   ]
  },
  {
   "cell_type": "code",
   "execution_count": null,
   "metadata": {},
   "outputs": [],
   "source": [
    "import torchvision\n",
    "\n",
    "# https://pytorch.org/vision/stable/_modules/torchvision/models/googlenet.html#googlenet\n",
    "googlenet = torchvision.models.googlenet(init_weights=True)\n",
    "print(googlenet)"
   ]
  },
  {
   "cell_type": "markdown",
   "metadata": {},
   "source": [
    "##### 1×1 Convolution\n",
    "\n",
    "\n",
    "\n"
   ]
  },
  {
   "cell_type": "markdown",
   "metadata": {},
   "source": [
    "<center><img src =\"https://edunet.kea.su/repo/EduNet-content/dev-2.0/L08/out/1x1_convolution.png\"  width=\"550\"></center>\n",
    "<center><em>Уменьшение глубины изображения с помощью 32 фильтров 1×1.</em></center>\n"
   ]
  },
  {
   "cell_type": "markdown",
   "metadata": {},
   "source": [
    "Свёртку **1×1** можно сравнить с линейным слоем полносвязной нейронной сети. Мы берем вектор из карты признаков (столбик 1×1×64 на картинке) и домножаем на матрицу весов (одну для всех векторов, в данном случае матрица будет 64×32, т.к. она составлена из 32 фильтров с размерами 1×1×64), чтобы получить вектор на выходе (столбик 1×1×32 на картинке).\n",
    "\n",
    "В процессе формируются новые признаки агрегирующие информацию из разных каналов и количество каналов сокращается."
   ]
  },
  {
   "cell_type": "markdown",
   "metadata": {},
   "source": [
    "<center><img src =\"https://edunet.kea.su/repo/EduNet-content/dev-2.0/L08/out/naive_inception_module_with_dimension_reduction_parameters.png\"  width=\"700\"></center>\n",
    "<center><em> Реализация Inception module с уменьшением размерности </em></center>\n"
   ]
  },
  {
   "cell_type": "markdown",
   "metadata": {},
   "source": [
    "Количество параметров уменьшается в два с лишним раза по сравнению с наивной реализацией. Сеть получается значительно экономичнее.\n",
    "\n",
    "Использование таких модулей и отсутствие полносвязных слоёв делают **GoogLeNet** очень эффективной и достаточно точной сетью. Но это далеко не все нововведения, которые появились в этой модели."
   ]
  },
  {
   "cell_type": "markdown",
   "metadata": {},
   "source": [
    "## Stem network"
   ]
  },
  {
   "cell_type": "markdown",
   "metadata": {},
   "source": [
    "В составе **GoogLeNet** есть небольшая подсеть — **Stem Network**. Она состоит из трёх свёрточных слоёв (первый с большим фильтом) с двумя pooling-слоями и располагается в самом начале архитектуры. Цель этой подсети — быстро и сильно уменьшить пространственные размеры (сжать изображение перед параллельной обработкой), чтобы минимизировать количество элементов в слоях."
   ]
  },
  {
   "cell_type": "markdown",
   "metadata": {},
   "source": [
    "<center><img src =\"https://edunet.kea.su/repo/EduNet-content/dev-2.0/L08/out/stem_network.png\" width=\"1024\"></center>\n",
    "<center><em>Архитектура GoogLeNet. В первых слоях быстро уменьшаются пространственные размеры. </em></center>"
   ]
  },
  {
   "cell_type": "markdown",
   "metadata": {},
   "source": [
    "## Global Average Pooling"
   ]
  },
  {
   "cell_type": "markdown",
   "metadata": {},
   "source": [
    "Отдельного внимания заслуживает завершающая часть сети. В **AlexNet** и **VGGNet** мы привыкли видеть в конце сети вытягивание карты признаков в вектор и два полносвязных слоя. В **GoogLeNet** один из полносвязных слоев заменен на\n",
    "**Global Average Pooling**.\n",
    "\n",
    "[[arxiv] 🎓 Network In Network, Lin et al., 2013](https://arxiv.org/abs/1312.4400)\n",
    "\n"
   ]
  },
  {
   "cell_type": "markdown",
   "metadata": {},
   "source": [
    "Этот слой просто усредняет все значения в канале. На выходе получаем вектор признаков количество элементов в котором равно количеству каналов."
   ]
  },
  {
   "cell_type": "markdown",
   "metadata": {},
   "source": [
    "<center><img src =\"https://edunet.kea.su/repo/EduNet-content/dev-2.0/L08/out/global_average_pooling.png\" width=\"450\"></center>\n",
    "<center><em>Global Average Pooling</em></center>"
   ]
  },
  {
   "cell_type": "markdown",
   "metadata": {},
   "source": [
    "Плюсы **GAP**:\n",
    "\n",
    "* независимость от размера входа;\n",
    "* регуляризация (препятствует переобучению);\n",
    "* уменьшение числа параметров;\n"
   ]
  },
  {
   "cell_type": "markdown",
   "metadata": {},
   "source": [
    "В PyTorch можно реализовать GAP при помощи класса `nn.AdaptiveAvgPool2d` [🛠️[doc]](https://pytorch.org/docs/stable/generated/torch.nn.AdaptiveAvgPool2d.html). При создании экземпляра класса указываем, какую пространственную размерность мы хотим получить на выходе. При `output_size = 1`получим результат как на иллюстрации."
   ]
  },
  {
   "cell_type": "code",
   "execution_count": null,
   "metadata": {},
   "outputs": [],
   "source": [
    "gap = torch.nn.AdaptiveAvgPool2d(1)\n",
    "dummy_input = torch.randn(1, 3, 6, 6)\n",
    "out = gap(dummy_input)\n",
    "print(\"Raw out shape\", out.shape)\n",
    "out = nn.Flatten()(out)\n",
    "print(\"Flatten out shape\", out.shape)"
   ]
  },
  {
   "cell_type": "markdown",
   "metadata": {},
   "source": [
    "[[blog] ✏️ Max Pooling and Global Average Pooling](https://github.com/christianversloot/machine-learning-articles/blob/main/what-are-max-pooling-average-pooling-global-max-pooling-and-global-average-pooling.md)\n",
    "\n",
    "Ранее считалось, что применение **Global Average Pooling** в составе архитектуры сверточной нейронной сети (CNN), то есть осуществление поканального усреднения пространственных измерений тензора, приведёт к полной потере пространственной информации о переданном сети объекте. Тем не менее, последние [исследования 🎓[arxiv]](https://arxiv.org/abs/2108.07884) показывают, что после такого преобразования часть пространственной информации всё же сохраняется. Несмотря на то, что семантическая информация (например информация о точных границах объекта), полностью утрачивается после Global Average Pooling, информация об абсолютном положении объекта на исходном изображении сохраняется и оказывается закодированной порядком следования компонент в оставшемся векторе усреднённых фильтров.\n",
    "\n",
    "Применяя **GAP**, мы сократили количество признаков в 49 раз! Кроме того, **Global Average Pooling** уменьшает переобучение, т.к. мы избавляемся от влияния менее важных признаков.\n"
   ]
  },
  {
   "cell_type": "code",
   "execution_count": null,
   "metadata": {},
   "outputs": [],
   "source": [
    "import torch.nn as nn\n",
    "from PIL import Image\n",
    "import torch\n",
    "\n",
    "\n",
    "def file2tensor(filename):\n",
    "    img = Image.open(filename)\n",
    "    t = torchvision.transforms.functional.to_tensor(img)\n",
    "    t = torchvision.transforms.functional.normalize(\n",
    "        t, (0.485, 0.456, 0.406), (0.229, 0.224, 0.225)\n",
    "    )\n",
    "    return t\n",
    "\n",
    "\n",
    "class CNNfromHW(nn.Module):\n",
    "    def __init__(self, conv_module=None):\n",
    "        super().__init__()\n",
    "        self.activation = nn.ReLU()\n",
    "        self.conv1 = nn.Conv2d(3, 16, 5, padding=2)  # 16xHxW\n",
    "        self.pool = nn.MaxPool2d(2, 2)  # 16 x H/2 x W/2\n",
    "        self.conv2 = nn.Conv2d(16, 32, 3, padding=1)  # 32 x H/2 x W/2\n",
    "        self.gap = nn.AdaptiveAvgPool2d((1, 1))  # Any spatial size -> 32x1x1\n",
    "        self.fc = nn.Linear(32, 10)\n",
    "\n",
    "    def forward(self, x):\n",
    "        print(\"Input shape\", x.shape)\n",
    "        x = self.conv1(x)  # 16xHxW\n",
    "        x = self.pool(x)  # 16 x H/2 x W/2\n",
    "        x = self.conv2(x)  # 32 x H/2 x W/2\n",
    "        x = self.activation(x)  # Any spatial size -> 32x1x1\n",
    "        x = self.gap(x)\n",
    "        scores = self.fc(x.flatten(1))\n",
    "        print(\"Output shape\", scores.shape)\n",
    "        return scores\n",
    "\n",
    "\n",
    "print(\"CIFAR10 like\")\n",
    "input_random = torch.rand(1, 3, 32, 32)\n",
    "model_with_gap = CNNfromHW()\n",
    "out = model_with_gap(input_random)\n",
    "\n",
    "\n",
    "print(\"Arbitrary size\")\n",
    "# Different sizes work too!\n",
    "aramdillo_t = file2tensor(\"imagen/n02454379_10511_armadillo.jpg\")\n",
    "out = model_with_gap(aramdillo_t.unsqueeze(0))"
   ]
  },
  {
   "cell_type": "markdown",
   "metadata": {},
   "source": [
    "## Затухание градиента"
   ]
  },
  {
   "cell_type": "markdown",
   "metadata": {},
   "source": [
    "**GoogLeNet: дополнительный классификатор**\n",
    "\n",
    "<center><img src =\"https://edunet.kea.su/repo/EduNet-content/dev-2.0/L08/out/googlenet_additional_classificator.png\"  width=\"900\"></center>\n",
    "<center><em>Архитектура GoogLeNet. Отдельно вынесен блок — дополнительный классификатор</em></center>\n"
   ]
  },
  {
   "cell_type": "markdown",
   "metadata": {},
   "source": [
    "Помимо основного классификатора на выходе сети добавлены два дополнительных классификатора, встроенных в промежуточные слои. Они понадобились для того, чтобы улучшить обратное распространение градиента,  без батч-нормализации в таких глубоких сетях градиент очень быстро затухал, и обучить сеть такого размера было серьёзной проблемой.\n",
    "\n",
    "Обучение VGG осуществлялось непростым способом: сначала обучали 7 слоев, затем добавляли туда следующие и обучали это вручную. Без использования батч-нормализации вряд ли получится повторить результат.\n",
    "\n",
    "Google подошел более системно, добавив дополнительные выходы, которые способствовали тому, чтобы градиент меньше затухал. Благодаря этому удалось решить серьёзную на тот момент проблему, которая ограничивала возможность обучения глубоких моделей.\n",
    "Статья про батч-нормализацию появилась как раз в 15-ом году, видимо, уже после выхода этой модели."
   ]
  },
  {
   "cell_type": "markdown",
   "metadata": {},
   "source": [
    "# Batchnorm (революция глубины)"
   ]
  },
  {
   "cell_type": "markdown",
   "metadata": {},
   "source": [
    "<center><img src =\"https://edunet.kea.su/repo/EduNet-content/dev-2.0/L08/out/deep_models.png\"  width=\"750\"></center>\n",
    "<center><em>Победители ImageNet Large Scale Visual Recognition Challenge (ILSVRC)</em></center>\n"
   ]
  },
  {
   "cell_type": "markdown",
   "metadata": {},
   "source": [
    "В 2015 году вышла статья [Batch Normalization: Accelerating Deep Network Training by Reducing Internal Covariate Shift 🎓[arxiv]](https://arxiv.org/abs/1502.03167). Благодаря добавлению слоя BatchNorm стало технически возможно обучать сети состоящие из десятков слоев.\n",
    "\n",
    "Но точность с увеличением глубины не росла:\n",
    "\n",
    "[[arxiv] 🎓 Deep Residual Learning for Image Recognition (He et al., 2015)](https://arxiv.org/abs/1512.03385)"
   ]
  },
  {
   "cell_type": "markdown",
   "metadata": {},
   "source": [
    "<center><img src =\"https://edunet.kea.su/repo/EduNet-content/dev-2.0/L08/out/resnet_20_and_56_layers.png\"  width=\"550\"></center>\n",
    "<center><em>График ошибки на обучающей и тестовой выборках двух модификаций\n",
    "VGGNet с 20 и 56 слоями соответственно в ходе процесса обучения </em></center>"
   ]
  },
  {
   "cell_type": "markdown",
   "metadata": {},
   "source": [
    "На графике выше приведено сравнение графиков обучения 56-слойной и 20-слойной сетей Microsoft, построенных на принципах VGGNet. Как видно из графиков, у 56-слойной сети и на тренировочном, и на тестовом датасете ошибка больше, чем у 20-слойной. Казалось бы, сеть, состоящая из большего количества слоёв, должна работать как минимум не хуже, чем сеть меньшего размера.\n",
    "\n",
    "В 2015 году соревнования выиграла сеть **ResNet**, архитектура которой предлагала новый подход к решению проблемы обучения глубоких сетей. Она состояла из 152 слоёв и снизила процент ошибок до 3,57%. Это сделало её почти в два раза эффективнее **GoogLeNet**."
   ]
  },
  {
   "cell_type": "markdown",
   "metadata": {},
   "source": [
    "# Skip connection (ResNet 2015)"
   ]
  },
  {
   "cell_type": "markdown",
   "metadata": {},
   "source": [
    "<center><img src =\"https://edunet.kea.su/repo/EduNet-content/dev-2.0/L08/out/residual_connection.png\"  width=\"800\"></center>\n",
    "<center><em>Сравнение Residual Block с \"обычными\" слоями</em></center>\n"
   ]
  },
  {
   "cell_type": "markdown",
   "metadata": {},
   "source": [
    "\n",
    "Архитектура **ResNet** состоит из набора так называемых **Residual Block**-ов. В данном блоке тензор входных признаков пропускается через пару последовательно соединённых свёрточных слоёв, после чего полученный результат складывается поканально с этим же неизменённым входным тензором. Свёрточные слои в таком блоке аппроксимируют не саму функциональную зависимость между входным и выходным тензором, а разность (анг. residual) между такой искомой зависимостью и тождественным преобразованием.\n",
    "\n",
    "Идея **Residual Block** состоит в уточнении набора признаков на каждом блоке. Вместо того, чтобы перезаписывать признаки, мы добавляем к выходу предыдущего блока уточнение, сформированное на этом блоке.\n",
    "\n",
    "Бонусы **Residual Block**:\n",
    "- канал суммирования позволяет градиенту легко распространяться без затухания;\n",
    "- не теряется информация о важных признаках, выделенных на предыдущем слое."
   ]
  },
  {
   "cell_type": "markdown",
   "metadata": {},
   "source": [
    "## Архитектура ResNet"
   ]
  },
  {
   "cell_type": "markdown",
   "metadata": {},
   "source": [
    "<center><img src =\"https://edunet.kea.su/repo/EduNet-content/dev-2.0/L08/out/resnet_architecture.png\"  width=\"730\"></center>\n",
    "<center><em>Архитектура ResNet. Используется стаккинг residual blocks, каждый residual block состоит из двух 3×3 conv слоев, переодически количество фильтров в свертках удваивается, а размер выходных слоев уменьшается в 2 раза (за счет stride = 2). Добавился дополнительный conv слой в начале сети. Отсутствуют FC слои (кроме последнего, который предсказывает класс).</em></center>\n"
   ]
  },
  {
   "cell_type": "markdown",
   "metadata": {},
   "source": [
    "Из таких блоков можно построить очень глубокую сеть (были эксперименты из 1000 слоев). Для решения конкретной задачи — победы на **ImageNet** — хватило 150 слоев (добавление большего количества блоков уже не давало прироста точности).\n",
    "\n",
    "В **ResNet** используются многие идеи, которые присутствовали в предыдущих моделях:\n",
    "- вначале изображение резко уменьшается,\n",
    "- дальше используются блоки 3×3, как в **VGGNet**,\n",
    "- применяется **Average Pooling** вместо полносвязного слоя.\n",
    "\n",
    "Блоки состоят из конструкций, изображенных выше:\n",
    "- две свёртки 3×3,\n",
    "- batch normalization после каждой свертки,\n",
    "- функции активации ReLU,\n",
    "- прибавление результата предыдущего слоя."
   ]
  },
  {
   "cell_type": "markdown",
   "metadata": {},
   "source": [
    "## BasicBlock в PyTorch\n",
    "\n",
    "\n"
   ]
  },
  {
   "cell_type": "markdown",
   "metadata": {},
   "source": [
    "Код базового блока"
   ]
  },
  {
   "cell_type": "code",
   "execution_count": null,
   "metadata": {},
   "outputs": [],
   "source": [
    "import inspect\n",
    "import torchvision.models.resnet as resnet\n",
    "\n",
    "# BasicBlock\n",
    "code = inspect.getsource(resnet.BasicBlock.forward)\n",
    "print(code)"
   ]
  },
  {
   "cell_type": "markdown",
   "metadata": {},
   "source": [
    "Так выглядит в коде базовый блок для сетей, в которых меньше 50 слоёв: свёртка, батч-нормализация, активация, свёртка, батч-нормализация.\n",
    "\n",
    "Если свойство `downsample != None`, то вызывается слой **downsample**. Это свёртка 1×1 с шагом 2, уменьшающая пространственные размеры карты признаков.\n",
    "\n",
    "[[doc] 🛠️ Модель ResNet на Torchvision](https://pytorch.org/vision/stable/_modules/torchvision/models/resnet.html#resnet18)\n"
   ]
  },
  {
   "cell_type": "markdown",
   "metadata": {},
   "source": [
    "Вот как инициализируются блоки (в первом сжатие происходит, во втором — нет)."
   ]
  },
  {
   "cell_type": "code",
   "execution_count": null,
   "metadata": {},
   "outputs": [],
   "source": [
    "from torchvision import models\n",
    "\n",
    "resnet = models.resnet18(weights=None)\n",
    "print(resnet.layer2)"
   ]
  },
  {
   "cell_type": "markdown",
   "metadata": {},
   "source": [
    "## Bottleneck layer"
   ]
  },
  {
   "cell_type": "markdown",
   "metadata": {},
   "source": [
    "<center><img src =\"https://edunet.kea.su/repo/EduNet-content/dev-2.0/L08/out/resnet_bottleneck_layer.png\" width=\"500\"></center>\n",
    "<center><em>В более глубоких сетях (ResNet-50+) для повышения эффективности используется слой \"bottleneck\" (похожим образом, что и в GoogLeNet)</em></center>"
   ]
  },
  {
   "cell_type": "markdown",
   "metadata": {},
   "source": [
    "Стоит отметить, что сеть **ResNet-152** имеет существенно меньше обучаемых параметров, чем **VGG-19** (58 миллионов против 144 миллионов).\n",
    "\n",
    "Это достигнуто за счёт того, что в более глубоких сетях, помимо упомянутых Residual Block-ов с двумя свёрточными слоями с ядром 3×3, применялся более эффективный блок — **bottleneck**, состоящий из:\n",
    "- свёртки 1×1 с уменьшением количества фильтров,\n",
    "- свертки 3×3 с маленьким количеством фильтров,\n",
    "- свертки 1×1, восстанавливающие количество фильтров до начальных значений, чтобы к ним можно было прибавить вход."
   ]
  },
  {
   "cell_type": "markdown",
   "metadata": {},
   "source": [
    "## Stage ratio"
   ]
  },
  {
   "cell_type": "markdown",
   "metadata": {},
   "source": [
    "`Stage ratio` — частота, с которой уменьшаются пространственные размеров карты признаков. Обычно записывается как последовательность чисел, например, `[2,2,2,2]`.\n",
    "\n",
    "Эта запись означает, что в модели 8 базовых блоков и downsampling происходит на каждом втором, что соответствует 18-слойной модели из статьи:\n"
   ]
  },
  {
   "cell_type": "markdown",
   "metadata": {},
   "source": [
    "<center><img src =\"https://edunet.kea.su/repo/EduNet-web_dependencies/L09/stage_ratio.png\" width=\"700\"></center>\n",
    "\n",
    "<center><em>Source: <a href=\"https://arxiv.org/pdf/1512.03385.pdf\">Deep Residual Learning for Image Recognition (He et al., 2015)</a></em></center>\n"
   ]
  },
  {
   "cell_type": "markdown",
   "metadata": {},
   "source": [
    "Соответственно для ResNet-34 stage ratio будет $[3,4,6,3]$,\n",
    "для ResNet-50 — $[3,4,6,3]$, а для  ResNet-101 — $[3,4,23,3]$."
   ]
  },
  {
   "cell_type": "markdown",
   "metadata": {},
   "source": [
    "## Обучение ResNet"
   ]
  },
  {
   "cell_type": "markdown",
   "metadata": {},
   "source": [
    "<center><img src =\"https://edunet.kea.su/repo/EduNet-content/dev-2.0/L08/out/resnet_18_and_34_layers.png\"  width=\"700\"></center>\n",
    "<center><em>График изменения ошибки при обучении двух модификаций ResNet с 34 и 18 слоями соответственно</em></center>\n"
   ]
  },
  {
   "cell_type": "markdown",
   "metadata": {},
   "source": [
    "При обучении **ResNet** шаг обучения понижали вручную, когда точность выходила на плато.\n",
    "\n",
    "Помимо того, что **ResNet** c огромным отрывом выиграла ImageNet у моделей прошлого года, она стала первой моделью, превысившей точность человеческой разметки. Решения на базе этой архитектуры также стали победителями на соревнованиях по детектированию и сегментации."
   ]
  },
  {
   "cell_type": "markdown",
   "metadata": {},
   "source": [
    "### Обогащение карт признаков"
   ]
  },
  {
   "cell_type": "markdown",
   "metadata": {},
   "source": [
    "<center><img src =\"https://edunet.kea.su/repo/EduNet-content/dev-2.0/L08/out/resnet_features_flow.png\"  width=\"900\"></center>"
   ]
  },
  {
   "cell_type": "markdown",
   "metadata": {},
   "source": [
    "Можно взглянуть на архитектуру ResNet под таким углом: на первых слоях мы получаем базовую карту признаков, а на последующих улучшаем ее, прибавляя к ней новые уточненные признаки."
   ]
  },
  {
   "cell_type": "markdown",
   "metadata": {},
   "source": [
    "# Grouped Convolution\n",
    "\n"
   ]
  },
  {
   "cell_type": "markdown",
   "metadata": {},
   "source": [
    "В AlexNet выходы первого слоя обрабатывались параллельно: половина каналов отправлялось на одну видеокарту а половина — на другую."
   ]
  },
  {
   "cell_type": "markdown",
   "metadata": {},
   "source": [
    "<center><img src =\"https://edunet.kea.su/repo/EduNet-content/dev-2.0/L08/out/alexnet_architecture.png\"  width=\"600\"></center>\n"
   ]
  },
  {
   "cell_type": "markdown",
   "metadata": {},
   "source": [
    "Только на некоорых слоях полученные признаки объединялись.\n",
    "\n",
    "Можно рассматривать такой подход как ансамблирование, но как минимум, он позволяет выполнять часть операций параллельно и таким образом ускорить вычисления."
   ]
  },
  {
   "cell_type": "markdown",
   "metadata": {},
   "source": [
    "Эта идея реализуется при помощи Grouped convolution.  Можно поканально разделить входной тензор признаков на произвольное количество частей (групп) и сворачивать их независимо."
   ]
  },
  {
   "cell_type": "markdown",
   "metadata": {},
   "source": [
    "<center><img src =\"https://edunet.kea.su/repo/EduNet-content/dev-2.0/L08/out/groupped_convolution.png\"  width=\"750\"></center>\n",
    "<center><em> Groupped Convolution с двумя группами сверток. Групповые свертки позволяют обрабатывать входные данные параллельно. В качестве бонуса — уменьшение числа параметров, и дополнительная регуляризация.</em></center>\n",
    "\n"
   ]
  },
  {
   "cell_type": "markdown",
   "metadata": {},
   "source": [
    "[[blog] ✏️ A Tutorial on Filter Groups (Grouped Convolution)](https://blog.yani.ai/filter-group-tutorial/)\n",
    "\n",
    "На картинке выше входная карта признаков разбивается на две группы по каналам. Над каждой группой свертки вычисляются независимо, а потом конкатенируются. Это позволяет заменить $D_{out}$ фильтров $H_{in} × H_{in} × D_{in}$ на $D_{out}$ фильтров $H_{in} × H_{in} × D_{in}/2$, сократив количество обучаемых весов в 2 раза.\n",
    "\n",
    "\n"
   ]
  },
  {
   "cell_type": "markdown",
   "metadata": {},
   "source": [
    "Так как размер ядер станет меньше, получим выигрыш в производительности:\n",
    "\n",
    "$$ \\large \\text{weights} = \\frac{C}{G} C K^2, $$\n",
    "\n",
    "где $G$ — количество групп."
   ]
  },
  {
   "cell_type": "markdown",
   "metadata": {},
   "source": [
    "## Grouped Convolution in PyTorch\n"
   ]
  },
  {
   "cell_type": "markdown",
   "metadata": {},
   "source": [
    "Возможность вычисления груповой свертки в PyTorch заложена в объект  `nn.Conv2d`. Количество групп задается параметром `groups`, значение которого по умолчанию равно 1."
   ]
  },
  {
   "cell_type": "markdown",
   "metadata": {},
   "source": [
    "Сравним время, которое требуется на обычную свертку с `groups = 1` и `groups = 64` при вычислениях на CPU:"
   ]
  },
  {
   "cell_type": "code",
   "execution_count": null,
   "metadata": {},
   "outputs": [],
   "source": [
    "# CPU test\n",
    "from torch import nn\n",
    "import time\n",
    "import torch\n",
    "\n",
    "\n",
    "def time_synchronized():\n",
    "    torch.cuda.synchronize() if torch.cuda.is_available() else None\n",
    "    return time.time()\n",
    "\n",
    "\n",
    "input_random = torch.rand(8, 512, 112, 112)\n",
    "start = time_synchronized()\n",
    "normal_conv = nn.Conv2d(512, 1024, 3, groups=1)\n",
    "out = normal_conv(input_random)\n",
    "tm = time_synchronized() - start\n",
    "print(f\"Normal convolution take  {tm} sec.\")\n",
    "\n",
    "start = time_synchronized()\n",
    "groupped_conv = nn.Conv2d(512, 1024, 3, groups=64)\n",
    "out = groupped_conv(input_random)\n",
    "tm = time_synchronized() - start\n",
    "print(f\"Groupped convolution take  {tm} sec.\")"
   ]
  },
  {
   "cell_type": "markdown",
   "metadata": {},
   "source": [
    "И на GPU:"
   ]
  },
  {
   "cell_type": "code",
   "execution_count": null,
   "metadata": {},
   "outputs": [],
   "source": [
    "# GPU test\n",
    "device = torch.device(\"cuda\" if torch.cuda.is_available() else \"cpu\")\n",
    "start = time_synchronized()\n",
    "normal_conv = nn.Conv2d(512, 1024, 3, groups=1).to(device)\n",
    "out = normal_conv(input_random.to(device))\n",
    "tm = time_synchronized() - start\n",
    "print(f\"Normal convolution take  {tm} sec.\")\n",
    "\n",
    "start = time_synchronized()\n",
    "groupped_conv = nn.Conv2d(512, 1024, 3, groups=64).to(device)\n",
    "out = groupped_conv(input_random.to(device))\n",
    "tm = time_synchronized() - start\n",
    "print(f\"Groupped convolution take  {tm} sec.\")"
   ]
  },
  {
   "cell_type": "markdown",
   "metadata": {},
   "source": [
    "Применение групповой свертки с `groups=64` дает выигрыш во времени в 21 раз на CPU и в 41 раз на GPU. Это связано с уменьшением количества вычислительных операций."
   ]
  },
  {
   "cell_type": "markdown",
   "metadata": {},
   "source": [
    "## ResNeXt"
   ]
  },
  {
   "cell_type": "markdown",
   "metadata": {},
   "source": [
    "ResNeXt объединяет идеи:\n",
    "* Skip connection\n",
    "* Inception  \n",
    "* Grouped convolution\n",
    "\n",
    "[[arxiv] 🎓 2016 Aggregated Residual Transformations for Deep Neural Networks (Xie et al., 2016)](https://arxiv.org/abs/1611.05431)"
   ]
  },
  {
   "cell_type": "markdown",
   "metadata": {},
   "source": [
    "<center><img src =\"https://edunet.kea.su/repo/EduNet-content/dev-2.0/L08/out/compare_resnet_and_resnext_blocks.png\"  width=\"650\"></center>\n",
    "<center><em>Сравнение блоков ResNet и ResNeXt. ResNeXt создан тем же коллективом авторов, что и ResNet. Увеличение ширины residual block достигается путем использования параллельных веток \"cardinality\"), которые по духу схожи с Inception module. </em></center>"
   ]
  },
  {
   "cell_type": "markdown",
   "metadata": {},
   "source": [
    "Следующая модель — **ResNeXt**. Эта сеть выиграла **ImageNet** в следующем году. Идея немного напоминает блок **Inception** в **GoogLeNet**: обрабатывать не сразу все каналы, а распараллелить обработку на несколько групп.\n",
    "\n"
   ]
  },
  {
   "cell_type": "code",
   "execution_count": null,
   "metadata": {},
   "outputs": [],
   "source": [
    "from torchvision import models\n",
    "from torchsummary import summary\n",
    "\n",
    "resnext = models.resnext50_32x4d(weights=None)\n",
    "\n",
    "print(summary(resnext, (3, 224, 224), device=\"cpu\"))"
   ]
  },
  {
   "cell_type": "markdown",
   "metadata": {},
   "source": [
    "<img src =\"https://edunet.kea.su/repo/EduNet-content/dev-2.0/L08/out/resnext_inception_grouped_convolution.png\"  width=\"1000\">\n"
   ]
  },
  {
   "cell_type": "markdown",
   "metadata": {},
   "source": [
    "[[blog] ✏️ Review of ResNet Family: from ResNet to ResNeSt](https://sheng-fang.github.io/2020-05-20-review-resnet-family/)\n",
    "\n",
    "Альтернативой для блока **ResNeXt** (рисунок слева) является блок **Inception-ResNeXt** (рисунок посередине), объединивший идеи **ResNeXt** блока и **Inception** блока. Применение таких блоков вместо **ResNeXt** позволяет немного улучшить результаты **ResNeXt**."
   ]
  },
  {
   "cell_type": "markdown",
   "metadata": {},
   "source": [
    "##Обзор сети MobileNet (2017 г.)"
   ]
  },
  {
   "cell_type": "markdown",
   "metadata": {},
   "source": [
    "[[arxiv] 🎓 MobileNets: Efficient Convolutional Neural Networks for Mobile Vision Applications (Howard et al., 2017)](https://arxiv.org/abs/1704.04861)\n",
    "\n",
    "**MobileNet** — архитектура нейронной сети, специально созданная для работы на CPU мобильных устройств. Высокая скорость работы первой версии **MobileNet** достигалась благодаря разделимой по глубине свертке (**Depthwise Separable Convolution**).\n",
    "\n",
    "Также для данной архитектуры предусматривается возможность варьировать размер входного изображения и ширину слоев.\n",
    "\n",
    "Функцией активации у **MobileNet** обычно выступает **ReLU6** (ограничение сверху у данной функции активации призвано облегчить дальнейшую 8-битную квантизацию нейронной сети)."
   ]
  },
  {
   "cell_type": "markdown",
   "metadata": {},
   "source": [
    "В 2018 году была предложена архитектура **MobileNetV2**, которая существенно превосходит первую версию благодаря добавлению к архитектуре инвертированных остаточных блоков (**Inverted Residual Block**).\n",
    "\n",
    "А в 2019 году была предложена уже **MobileNetV3**, которая была получена при помощи автоматического поиска архитектуры (**Network Architecture Search**) и дополнительно включала в себя модули **squeeze-and-excitation** и немонотонную функцию активации **swish** (\"жесткая\" версия которой, hard-swish, так же призвана облегчить квантизацию).\n",
    "\n",
    "Давайте разберемся, как все эти улучшения работают."
   ]
  },
  {
   "cell_type": "markdown",
   "metadata": {},
   "source": [
    "### Depthwise separable convolution"
   ]
  },
  {
   "cell_type": "markdown",
   "metadata": {},
   "source": [
    "Обычная свертка в **CNN** одновременно работает с шириной, высотой и глубиной (каналами) карты признаков. Разделимая по глубине свёртка (**Depthwise separable convolution**) разделяет вычисления на два этапа:\n",
    "- для каждого канала изображения используется свой отдельный сверточный фильтр глубины 1.  По сути это **Grouped Convolution** с количеством групп, равным числу каналов.\n",
    "- после вычисляется свертка 1×1 с глубиной, равной глубине входной карты признаков.\n",
    "\n",
    "Применение разделимой по глубине свертки позволяет уменьшить количество обучаемых параметров и вычислительных операций при небольшой потере точности."
   ]
  },
  {
   "cell_type": "markdown",
   "metadata": {},
   "source": [
    "<img src =\"https://edunet.kea.su/repo/EduNet-content/dev-2.0/L08/out/depthwise_and_separable_convolution.png\"  width=\"650\">"
   ]
  },
  {
   "cell_type": "markdown",
   "metadata": {},
   "source": [
    "<img src =\"https://edunet.kea.su/repo/EduNet-content/dev-2.0/L08/out/depthwise_separable_convolution.png\"  width=\"650\">"
   ]
  },
  {
   "cell_type": "markdown",
   "metadata": {},
   "source": [
    "$\\text{DepthwiseSeparableConv} = \\text{GroupedConv}(\\text{group} = C) + \\text{Conv}(1×1)$\n",
    "\n",
    "Количество обучаемых параметров (весов):\n",
    "* для $\\text{Conv2d}: \\qquad \\qquad \\qquad \\qquad \\text{weights} = C^2K^2 $\n",
    "* для $\\text{DepthwiseSeparableConv}: \\ \\text{weights} = C K^2  + C^2\\times1 $\n",
    "\n",
    "Чем больше каналов, тем больше экономия.\n",
    "\n",
    "При размере ядра $3×3$ $(K=3)$ :\n",
    "\n",
    "$\\text{Conv2d}: \\qquad \\qquad \\qquad \\qquad 3^2 C^2 $\n",
    "\n",
    "$\\text{DepthwiseSeparableConv}: \\ 3^2C +C^2$\n"
   ]
  },
  {
   "cell_type": "markdown",
   "metadata": {},
   "source": [
    "### Inverted residual block"
   ]
  },
  {
   "cell_type": "markdown",
   "metadata": {},
   "source": [
    "Инвертированный остаточный блок (**Inverted residual block**) напоминает классический **residual block** из архитектуры **ResNet**, однако имеет ряд существенных отличий. Дело в том, что классический **residual block**, из-за резкого уменьшения размерности пространства в комбинации с функцией активации **ReLU**, которая уничтожает всю информацию от отрицательных значений, приводит к потере большого количества информации. Поэтому вместо уменьшения количества слоев в *середине*, оно, наоборот, увеличивается. Увеличение вычислительной сложности компенсируется использованием разделимой по глубине свертки. А на входе и выходе из блока (где количество слоев уменьшается) отсутствует нелинейность (**ReLU**)."
   ]
  },
  {
   "cell_type": "markdown",
   "metadata": {},
   "source": [
    "<img src =\"https://edunet.kea.su/repo/EduNet-content/dev-2.0/L08/out/The-difference-between-residual-block-and-inverted-residual.png\"  width=\"550\">"
   ]
  },
  {
   "cell_type": "markdown",
   "metadata": {},
   "source": [
    "# Сравнение моделей"
   ]
  },
  {
   "cell_type": "markdown",
   "metadata": {},
   "source": [
    "<center><img src =\"https://edunet.kea.su/repo/EduNet-web_dependencies/dev-2.0/L08/compare_models_accuracy_vs_parameters.png\" width=\"600\"></center>\n",
    "\n",
    "<center><em>Сравнение моделей по параметрам Точность vs Количество операций</em></center>\n",
    "\n",
    "<center><em>Source: <a href=\"https://arxiv.org/pdf/1810.00736.pdf\">Benchmark Analysis of Representative Deep Neural Network Architectures (Bianco et al., 2018)</a></em></center>"
   ]
  },
  {
   "cell_type": "markdown",
   "metadata": {},
   "source": [
    "Картинка из статьи 2018 года (не самая свежая), но она позволяет визуально сравнить модели по трем параметрам:\n",
    "- размер модели (размер кружка),\n",
    "- количество необходимых для обучения вычислительных операций (ось x)\n",
    "- точность на задаче top-1 (ось y).\n",
    "\n",
    "Здесь можно увидеть, что **VGGNet** — огромные по объёму модели, но по нынешним меркам они обладают средней точностью. Они требуют больших вычислительных ресурсов, поэтому сейчас имеет смысл их использовать разве что в учебных целях, а модели на базе **ResNet** (**ResNet-50**, **ResNet-152**) довольно хороши: в плане точности какого-то большого отрыва от них здесь не видно. Но, тем не менее, есть модели, которые работают гораздо лучше. Рассмотрим их кратко, чтобы было понимание того, куда двигалась мысль в этой области."
   ]
  },
  {
   "cell_type": "markdown",
   "metadata": {},
   "source": [
    "## Много skip connection (DenseNet 2016)"
   ]
  },
  {
   "cell_type": "markdown",
   "metadata": {},
   "source": [
    "[[arxiv] 🎓 Densely Connected Convolutional Networks (Huang et al., 2016)](https://arxiv.org/abs/1608.06993)"
   ]
  },
  {
   "cell_type": "markdown",
   "metadata": {},
   "source": [
    "<center><img src =\"https://edunet.kea.su/repo/EduNet-content/dev-2.0/L08/out/densenet_architecture.png\"  width=\"450\"></center>\n",
    "<center><em>Архитектура DenseNet. Используется несколько \"обходов\" и конкатенация вместо суммы. </em></center>\n",
    "\n"
   ]
  },
  {
   "cell_type": "markdown",
   "metadata": {},
   "source": [
    "Еще один вариант, что можно сделать со слоями — добавить дополнительные связи в обход сверточных блоков, чтобы градиент проходил ещё лучше.\n",
    "\n",
    "Можно также заменить сумму на конкатенацию. Чтобы не увеличить при этому глубину карт признаков, можно использовать свёртки **1×1**.\n",
    "\n",
    "На этих двух принципах построен **DenseNet**. С точки зрения ресурсов он чуть более требовательный, чем базовый **ResNet**, и немного более точный."
   ]
  },
  {
   "cell_type": "markdown",
   "metadata": {},
   "source": [
    "## Ширина вместо глубины (WideResNet 2016)"
   ]
  },
  {
   "cell_type": "markdown",
   "metadata": {},
   "source": [
    "[[arxiv] 🎓 Wide Residual Networks (Zagoruyko et al., 2016)](https://arxiv.org/abs/1605.07146)"
   ]
  },
  {
   "cell_type": "markdown",
   "metadata": {},
   "source": [
    "<center><img src =\"https://edunet.kea.su/repo/EduNet-content/dev-2.0/L08/out/compare_basic_and_wide_residual_blocks.png\" width=\"400\"></center>\n",
    "<center><em>Сравнение базового ResBlock и Широкого ResBlock, где используются $F × k$ фильтры вместо $F$ фильтров в каждом слое </em></center>"
   ]
  },
  {
   "cell_type": "markdown",
   "metadata": {},
   "source": [
    "Другой подход состоит в том, чтобы увеличивать не глубину, а ширину модели.\n",
    "Авторы утверждают, что ширина (количество фильтров) **residuals** блока — значительно более важный фактор, чем глубина нейронной сети. 50-слойный **Wide ResNet** показывает лучшие результаты, чем оригинальный 152-х слойный **ResNet**. С точки зрения вычислительных ресурсов, использование ширины вместо глубины позволяет более эффективно параллелить вычисления на GPU (parallelizable)."
   ]
  },
  {
   "cell_type": "markdown",
   "metadata": {},
   "source": [
    "# Squeeze-and-Excitation (SENet 2017)"
   ]
  },
  {
   "cell_type": "markdown",
   "metadata": {},
   "source": [
    "<img src = \"https://edunet.kea.su/repo/EduNet-content/dev-2.0/L08/out/senet_conv.png\" width=\"800\">"
   ]
  },
  {
   "cell_type": "markdown",
   "metadata": {},
   "source": [
    "При обычной свёртке значения всех каналов учитывались одинаково. Идея SE блока состоит в том, чтобы взвесить каналы, умножив каждый на свой коэффициент из интервала $[0 \\dots 1]$.\n",
    "\n",
    "Но эти коэффициенты должны зависеть от входных данных, тогда это поможет учитывать контекст. Например, найти шишку рядом с ёлкой более вероятно, чем рядом с компьютером.\n",
    "\n",
    "[[arxiv] 🎓 Squeeze-and-Excitation Networks (Hu et al., 2017)](https://arxiv.org/abs/1709.01507)\n",
    "\n",
    "[[blog] ✏️ Channel Attention and Squeeze-and-Excitation Networks (SENet)](https://blog.paperspace.com/channel-attention-squeeze-and-excitation-networks/)\n"
   ]
  },
  {
   "cell_type": "markdown",
   "metadata": {},
   "source": [
    "__SENet (Squeeze-and-Excitation Networks)__ &mdash; архитектура нейронной сети, одержавшая победу в **ILSVRS-2017**. Создатели **SENet** предложили новую архитектуру блока, называемую __Squeeze-and-Excitation__ (**SE-блок**), целью которой является поиск лучшего представления изображения за счет моделирования взаимодействия между каналами. Идея состоит в том, что не все каналы одинаково важны, поэтому мы можем выборочно выделять из них более информативные и подавлять менее информативные, создав механизм взвешивания каналов (feature recalibration).  **SE-блок** состоит из следующих процессов:\n",
    "\n",
    "1. \"Сжатие\" (**squeeze**) каждого канала до единственного числового значения с использованием global pooling. Эта процедура позволяет получить некое глобальное представление результата обработки исходного изображения, сделанного каждым из сверточных фильтров, (__global information embedding__).\n",
    "\n",
    "2. \"Возбуждение\" (**excitation**) использует информацию, полученную на этапе \"сжатия\", для определения взаимодействий между каналами. Для этого используются два полносвязных слоя, первый из которых вводит \"узкое место\" (**bottleneck**), уменьшающее размерность в соответствии с параметром сжатия, а второй восстанавливает размерность до исходной. В результате этой операции получается набор активаций, использующийся для взвешивания соответствующих каналов исходного изображения (__adaptive recalibration__)."
   ]
  },
  {
   "cell_type": "markdown",
   "metadata": {},
   "source": [
    "<center><img src =\"https://edunet.kea.su/repo/EduNet-content/dev-2.0/L08/out/senet_architecture.png\"  width=\"1000\"></center>\n",
    "<center><em>Архитектура сети SENet. Добавлен модуль для взвешивания признаков, используется GAP + 2 FC слоя. Победитель ILSVRC`17 с использованием ResNeXt-152 в качестве базовой архитектуры.</em></center>"
   ]
  },
  {
   "cell_type": "markdown",
   "metadata": {},
   "source": [
    "Таким образом, **SE-блок** использует механизм, идейно напоминающий **self-attention**, для каналов.\n",
    "\n",
    "Описанный **SE-блок** может быть интегрирован в современные архитектуры сверточных нейронных сетей, например, входя в состав остаточного блока сети **ResNet** или **Inception** модуля, как изображено на рисунке."
   ]
  },
  {
   "cell_type": "markdown",
   "metadata": {},
   "source": [
    "<center><img src =\"https://edunet.kea.su/repo/EduNet-content/dev-2.0/L08/out/senet_inception_module.png\"  width=\"1000\"></center>\n",
    "<center><em>Интеграция SE блока в современные архитектуры сверточных нейронных сетей </em></center>"
   ]
  },
  {
   "cell_type": "code",
   "execution_count": null,
   "metadata": {},
   "outputs": [],
   "source": [
    "## Custom SE block\n",
    "\n",
    "\n",
    "class SE_Block(nn.Module):\n",
    "    \"credits: https://github.com/moskomule/senet.pytorch/blob/master/senet/se_module.py#L4\"\n",
    "\n",
    "    def __init__(self, c, r=16):\n",
    "        super().__init__()\n",
    "        self.squeeze = nn.AdaptiveAvgPool2d(1)\n",
    "        self.excitation = nn.Sequential(\n",
    "            nn.Linear(c, c // r, bias=False),\n",
    "            nn.ReLU(inplace=True),\n",
    "            nn.Linear(c // r, c, bias=False),\n",
    "            nn.Sigmoid(),\n",
    "        )\n",
    "\n",
    "    def forward(self, x):\n",
    "        bs, c, _, _ = x.shape\n",
    "        y = self.squeeze(x).view(bs, c)\n",
    "        y = self.excitation(y).view(bs, c, 1, 1)\n",
    "        print(\"Coefficients \", y.shape)\n",
    "        return x * y.expand_as(x)\n",
    "\n",
    "\n",
    "dummy = torch.randn(16, 256, 7, 7)\n",
    "\n",
    "se_block = SE_Block(256)  # for 256 channels\n",
    "print(\"Absolute sum\", dummy.abs().sum().item())\n",
    "se_out = se_block(dummy)\n",
    "print(\"Sum after se_block\", se_out.abs().sum().item())"
   ]
  },
  {
   "cell_type": "markdown",
   "metadata": {},
   "source": [
    "Теперь модель отключает каналы, отвечающие за признаки, которые не важны в текущем контексте:\n"
   ]
  },
  {
   "cell_type": "markdown",
   "metadata": {},
   "source": [
    "<center><img src =\"https://edunet.kea.su/repo/EduNet-content/dev-2.0/L08/out/se_features_flow.png\"  width=\"900\"></center>\n",
    "<center>\n",
    "\n"
   ]
  },
  {
   "cell_type": "markdown",
   "metadata": {},
   "source": [
    "# Поиск хорошей архитектуры"
   ]
  },
  {
   "cell_type": "markdown",
   "metadata": {},
   "source": [
    "<center><img src =\"https://edunet.kea.su/repo/EduNet-content/dev-2.0/L08/out/deep_models_modern.png\"  width=\"900\"></center>\n",
    "<center>\n"
   ]
  },
  {
   "cell_type": "markdown",
   "metadata": {},
   "source": [
    "Мы рассмотрели достаточно много блоков, из которых можно построить модель. Но как оптимально их использовать? Надо ли делать сеть максимально глубокой? Или надо стремиться выделить как можно больше признаков?\n",
    "\n",
    "Исследователи сосредоточились на подборе оптимальной архитектуры."
   ]
  },
  {
   "cell_type": "markdown",
   "metadata": {},
   "source": [
    "## Обзор сети EfficientNet (2019 г.)"
   ]
  },
  {
   "cell_type": "markdown",
   "metadata": {},
   "source": [
    "[[arxiv] 🎓 EfficientNet: Rethinking Model Scaling for Convolutional Neural Networks (Tan et al., 2019)](https://arxiv.org/abs/1905.11946)\n",
    "\n",
    "Идея **EfficientNet** состоит в том, чтобы получить возможность подбирать оптимальную глубину (число слоев), ширину (число каналов в слое) и разрешение (длину и ширину карты признаков) для конкретной задачи. Например, если мы берём входное изображение больше, чем обычно (например, 1024×1024 вместо привычных 256×256), то сети потребуется больше слоёв для увеличения рецептивного поля и больше каналов для захвата более тонких деталей на большом изображении.\n",
    "\n",
    "\n",
    "\n"
   ]
  },
  {
   "cell_type": "markdown",
   "metadata": {},
   "source": [
    "<img src =\"https://edunet.kea.su/repo/EduNet-content/dev-2.0/L08/out/en_performance.png\"  width=\"700\">"
   ]
  },
  {
   "cell_type": "markdown",
   "metadata": {},
   "source": [
    "Масштабирование происходит с помощью составного коэффициента (**compound coefficient**).\n",
    "\n",
    "Например, если у нас есть возможность использовать в $2^N$ больше вычислительных ресурсов, то мы можем просто увеличить глубину сети на $\\alpha^N$, ширину — на $\\beta^N$, и размер изображения — на $\\gamma^N$, где $\\alpha$, $\\beta$ и $\\gamma$ — постоянные коэффициенты, определяемые grid search на исходной немасштабированной модели."
   ]
  },
  {
   "cell_type": "markdown",
   "metadata": {},
   "source": [
    "<img src =\"https://edunet.kea.su/repo/EduNet-content/dev-2.0/L08/out/efficientnet.png\"  width=\"900\">"
   ]
  },
  {
   "cell_type": "markdown",
   "metadata": {},
   "source": [
    "Базовая сеть **EfficientNet** основана на инвертированных узких остаточных блоках **MobileNet** в дополнение к блокам сжатия и возбуждения (**squeeze-and-excitation blocks**)."
   ]
  },
  {
   "cell_type": "code",
   "execution_count": null,
   "metadata": {},
   "outputs": [],
   "source": [
    "from torchvision.models import efficientnet_b0\n",
    "from torchsummary import summary\n",
    "\n",
    "en_b0 = efficientnet_b0()\n",
    "print(summary(en_b0, (3, 224, 224), device=\"cpu\"))"
   ]
  },
  {
   "cell_type": "markdown",
   "metadata": {},
   "source": [
    "Если вы не знаете, какую модель выбрать, используйте EfficientNet."
   ]
  },
  {
   "cell_type": "markdown",
   "metadata": {},
   "source": [
    "# Трансформеры"
   ]
  },
  {
   "cell_type": "markdown",
   "metadata": {},
   "source": [
    "Следущее лидерство было у архитектур, которые называются трансформер, с ними мы познакомимся в следующих лекциях. Одна из таких сетей — **Vi**sion **T**ransformer.  \n",
    "\n",
    "Нам важно, что, как следует из текста [статьи 🎓[arxiv]](https://arxiv.org/abs/2010.11929), **ViT**, обученный на **ImageNet**, уступал baseline CNN-модели\n",
    "на базе сверточной сети (**ResNet**). И только при увеличении размера датасета больше, чем **ImageNet**, преимущество стало заметным."
   ]
  },
  {
   "cell_type": "markdown",
   "metadata": {},
   "source": [
    "<center><img src =\"https://edunet.kea.su/repo/EduNet-web_dependencies/dev-2.0/L10/cited_vit_accuracy.png\"  width=\"400\"></center>\n",
    "\n",
    "<center><em>Source: <a href=\"https://arxiv.org/abs/2010.11929\">An Image is Worth 16x16 Words: Transformers for Image Recognition at Scale (Dosovitskiy et al., 2020)</a></em></center>\n"
   ]
  },
  {
   "cell_type": "markdown",
   "metadata": {},
   "source": [
    "Вряд ли в вашем распоряжении окажется датасет, сравнимый с [JFT-300M 🛠️[doc]](https://paperswithcode.com/dataset/jft-300m) (300 миллионов изображений),\n",
    "и GPU/TPU ресурсы, необходимые для обучения с нуля (*it could be trained using a standard cloud TPUv3 with 8 cores in approximately 30 days*).\n",
    "\n",
    "Поэтому для работы с пользовательскими данными используется техника дообучения ранее обученной модели на пользовательских данных (**fine-tuning**)."
   ]
  },
  {
   "cell_type": "markdown",
   "metadata": {},
   "source": [
    "# ConvNext (2022)\n",
    "\n",
    "\n",
    "\n"
   ]
  },
  {
   "cell_type": "markdown",
   "metadata": {},
   "source": [
    "Авторы продемонстрировали, что сверточная сеть может превзойти трансформер и так же хорошо масштабироваться."
   ]
  },
  {
   "cell_type": "markdown",
   "metadata": {},
   "source": [
    "<center><img src =\"https://edunet.kea.su/repo/EduNet-web_dependencies/dev-2.0/L08/convnext_v1_performance.png\"  width=\"500\"></center>\n",
    "\n",
    "<center><em>Source: <a href=\"https://arxiv.org/abs/2201.03545\">A ConvNet for the 2020s</a></em></center>"
   ]
  },
  {
   "cell_type": "markdown",
   "metadata": {},
   "source": [
    "При этом особенных нововведений не потребовалось. Была проведена ревизия процесса обучения. И изменены некоторые параметры модели. За основу был взят обычный ResNet."
   ]
  },
  {
   "cell_type": "markdown",
   "metadata": {},
   "source": [
    "### Ablation study"
   ]
  },
  {
   "cell_type": "markdown",
   "metadata": {},
   "source": [
    "[Ablation study📚[wiki]](https://en.wikipedia.org/wiki/Ablation_(artificial_intelligence)) — это методология исследования, при которой удаляются (или изменяются) различные компоненты или элементы модели с целью оценить их вклад в ее производительность."
   ]
  },
  {
   "cell_type": "markdown",
   "metadata": {},
   "source": [
    "<center><img src =\"https://edunet.kea.su/repo/EduNet-web_dependencies/dev-2.0/L08/convnext_v1_ablation.png\"  width=\"400\"></center>\n",
    "\n",
    "<center><em>Source: <a href=\"https://arxiv.org/abs/2201.03545\">A ConvNet for the 2020s</a></em></center>"
   ]
  },
  {
   "cell_type": "markdown",
   "metadata": {},
   "source": [
    "Macro Design:\n",
    "* свертка 7×7 с шагом 2 в блоке сжатия заменена сверткой 4×4 с шагом 4 как у SWIN Transformer,\n",
    "* stage ratio поменялся с (3, 4, 6, 3) на (3, 3, 9, 3).\n",
    "\n",
    "Micro Design:\n",
    "* pooling-слои заменены свертками 2×2 с шагом 2."
   ]
  },
  {
   "cell_type": "markdown",
   "metadata": {},
   "source": [
    "### Процесс обучения"
   ]
  },
  {
   "cell_type": "markdown",
   "metadata": {},
   "source": [
    "Использовали алгоритм обучения такой же, как у трансформера:\n",
    "\n",
    "*  Оптимизатор Adam заменили на AdamW.\n",
    "*  Увеличили количество эпох с 90 до 300.\n",
    "*  Расширили набор аугментаций (Mixup, Cutmix, RandAugment, Random Erasing).\n",
    "*  Добавили регуляризацию (Stochastic Depth).\n",
    "*  Использовали Label Smoothing (предсказание не одной метки, а вероятностей для разных классов)."
   ]
  },
  {
   "cell_type": "markdown",
   "metadata": {},
   "source": [
    "[[arxiv] 🎓 ConvNeXt V2: Co-designing and Scaling ConvNets with Masked Autoencoders (Woo et al., 2023)](https://arxiv.org/abs/2301.00808)\n",
    "\n"
   ]
  },
  {
   "cell_type": "markdown",
   "metadata": {},
   "source": [
    "# Torch Image Models (timm)"
   ]
  },
  {
   "cell_type": "markdown",
   "metadata": {},
   "source": [
    "Библиотека [timm 🛠️[doc]](https://huggingface.co/docs/timm/index) (полное название \"Py**T**orch **Im**age **M**odels\") — это набор предварительно обученных моделей для задач компьютерного зрения, разработанный для фреймворка PyTorch. TIMM предоставляет широкий спектр моделей, которые можно использовать для задач, таких как классификация изображений, сегментация, обнаружение объектов и другие задачи обработки изображений.\n",
    "\n",
    "Основные особенности библиотеки:\n",
    "\n",
    "* **Разнообразие моделей**. Библиотека содержит различные архитектуры нейронных сетей, включая популярные модели, такие как ResNet, EfficientNet, ViT (Vision Transformer) и многие другие.\n",
    "\n",
    "* **Предварительное обучение**. Модели предварительно обучены на больших датасетах, таких как ImageNet, что позволяет использовать их как основу для различных задач компьютерного зрения с минимальной настройкой.\n",
    "\n",
    "* **Простота использования**. Удобный интерфейс для загрузки и использования моделей в PyTorch.\n",
    "\n",
    "* **Гибкость**. Возможность настраивать и адаптировать модели из библиотеки под свои конкретные задачи, добавлять и изменять слои и т. д."
   ]
  },
  {
   "cell_type": "code",
   "execution_count": null,
   "metadata": {},
   "outputs": [],
   "source": [
    "!pip install -q timm"
   ]
  },
  {
   "cell_type": "code",
   "execution_count": null,
   "metadata": {},
   "outputs": [],
   "source": [
    "import torch\n",
    "import random\n",
    "import numpy as np\n",
    "\n",
    "# fix random_seed\n",
    "torch.manual_seed(42)\n",
    "random.seed(42)\n",
    "np.random.seed(42)\n",
    "\n",
    "# compute in cpu or gpu\n",
    "device = torch.device(\"cuda\" if torch.cuda.is_available() else \"cpu\")"
   ]
  },
  {
   "cell_type": "markdown",
   "metadata": {},
   "source": [
    "Для начала посмотрим, сколько моделей есть в библиотеке:"
   ]
  },
  {
   "cell_type": "code",
   "execution_count": null,
   "metadata": {},
   "outputs": [],
   "source": [
    "import timm\n",
    "\n",
    "len(timm.list_models())"
   ]
  },
  {
   "cell_type": "markdown",
   "metadata": {},
   "source": [
    "Как видим, список довольно большой ([все архитектуры со ссылками на статьи 🛠️[doc]](https://github.com/huggingface/pytorch-image-models#models)). Можем указать параметры, чтобы сузить поиск. Например, посмотрим все предобученные EfficientNet:"
   ]
  },
  {
   "cell_type": "code",
   "execution_count": null,
   "metadata": {},
   "outputs": [],
   "source": [
    "timm.list_models(\"efficientnet*\", pretrained=True)"
   ]
  },
  {
   "cell_type": "markdown",
   "metadata": {},
   "source": [
    "Как видим, моделей довольно много, можно ознакомиться с их качеством в этой [таблице 🛠️[doc]](https://github.com/huggingface/pytorch-image-models/blob/main/results/results-imagenet.csv)."
   ]
  },
  {
   "cell_type": "markdown",
   "metadata": {},
   "source": [
    "Загрузим одну из моделей:"
   ]
  },
  {
   "cell_type": "code",
   "execution_count": null,
   "metadata": {},
   "outputs": [],
   "source": [
    "import torch.nn as nn\n",
    "\n",
    "model_name = \"efficientnet_lite0.ra_in1k\"\n",
    "\n",
    "pretrained_model = timm.create_model(model_name, pretrained=True)\n",
    "\n",
    "print(pretrained_model)"
   ]
  },
  {
   "cell_type": "markdown",
   "metadata": {},
   "source": [
    "Если мы захотим применить модель в своей задаче, то, вероятно, нам потребуется заменить количество нейронов в последнем слое. Например, в случае с CIFAR-10 нам потребуется 10 выходов вместо 1000. Сделать это можно сразу при загрузке модели:"
   ]
  },
  {
   "cell_type": "code",
   "execution_count": null,
   "metadata": {},
   "outputs": [],
   "source": [
    "pretrained_model = timm.create_model(model_name, pretrained=True, num_classes=10)\n",
    "pretrained_model.classifier"
   ]
  },
  {
   "cell_type": "markdown",
   "metadata": {},
   "source": [
    "Раньше мы делали это вручную:"
   ]
  },
  {
   "cell_type": "code",
   "execution_count": null,
   "metadata": {},
   "outputs": [],
   "source": [
    "pretrained_model.classifier = nn.Linear(1280, 10)"
   ]
  },
  {
   "cell_type": "markdown",
   "metadata": {},
   "source": [
    "И эта возможность сохраняется. Мы по-прежнему можем изменить любой слой или блок слоев. Посмотрим, из каких верхнеуровневых компонентов состоит сеть:"
   ]
  },
  {
   "cell_type": "code",
   "execution_count": null,
   "metadata": {},
   "outputs": [],
   "source": [
    "layers = list(pretrained_model.children())\n",
    "print(\"3 layer:\", layers[3])\n",
    "print(\"layers:\", len(layers))"
   ]
  },
  {
   "cell_type": "markdown",
   "metadata": {},
   "source": [
    "Изменим параметры, создав новый слой вместо старого:"
   ]
  },
  {
   "cell_type": "code",
   "execution_count": null,
   "metadata": {},
   "outputs": [],
   "source": [
    "new_layer = nn.Conv2d(in_channels=320, out_channels=512, kernel_size=(1, 1), bias=False)\n",
    "layers[3] = new_layer\n",
    "\n",
    "modified_model = nn.Sequential(*layers)\n",
    "\n",
    "print(\"3 layer:\", layers[3])"
   ]
  },
  {
   "cell_type": "markdown",
   "metadata": {},
   "source": [
    "В timm сеть разделена (условно) на две части: `feature_extractor` и `classifier`. Это позволяет использовать более гибкие методы работы. Получим классификационную часть методом `get_classifier()` (в нашем случае это один слой) и посмотрим, какие параметры на вход ожидает слой:"
   ]
  },
  {
   "cell_type": "code",
   "execution_count": null,
   "metadata": {},
   "outputs": [],
   "source": [
    "num_in_features = pretrained_model.get_classifier().in_features\n",
    "num_in_features"
   ]
  },
  {
   "cell_type": "markdown",
   "metadata": {},
   "source": [
    "Теперь заменим слой на собственный классификационный блок:"
   ]
  },
  {
   "cell_type": "code",
   "execution_count": null,
   "metadata": {},
   "outputs": [],
   "source": [
    "pretrained_model.classifier = nn.Sequential(\n",
    "    nn.Linear(in_features=num_in_features, out_features=512, bias=False),\n",
    "    nn.ReLU(),\n",
    "    nn.BatchNorm1d(512),\n",
    "    nn.Dropout(0.4),\n",
    "    nn.Linear(in_features=512, out_features=10, bias=False),\n",
    ")"
   ]
  },
  {
   "cell_type": "code",
   "execution_count": null,
   "metadata": {},
   "outputs": [],
   "source": [
    "pretrained_model.classifier"
   ]
  },
  {
   "cell_type": "markdown",
   "metadata": {},
   "source": [
    "Мы также можем изменить количество входных каналов (параметр `in_chans`), и timm адаптирует слой для использования тензора с нужной размерностью:"
   ]
  },
  {
   "cell_type": "code",
   "execution_count": null,
   "metadata": {},
   "outputs": [],
   "source": [
    "pretrained_model_2 = timm.create_model(\n",
    "    model_name, pretrained=True, num_classes=10, in_chans=8\n",
    ")\n",
    "x = torch.rand(1, 8, 224, 224)\n",
    "pretrained_model_2(x).shape"
   ]
  },
  {
   "cell_type": "markdown",
   "metadata": {},
   "source": [
    "## Custom feature extractor"
   ]
  },
  {
   "cell_type": "markdown",
   "metadata": {},
   "source": [
    "<img src =\"https://edunet.kea.su/repo/EduNet-content/dev-2.0/L08/out/feature_extraction_backbone.png\"  width=\"650\">"
   ]
  },
  {
   "cell_type": "markdown",
   "metadata": {},
   "source": [
    "Разберемся теперь с `feature_extractor`. Используя методы из `torchvision.models.feature_extraction`, мы можем посмотреть граф модели с названиями элементов и получить `output` любого элемента. Тут есть некоторые особенности, с которыми можно ознакомиться в [документации 🛠️[doc]](https://pytorch.org/blog/FX-feature-extraction-torchvision/), но в общем случае это работает так:\n",
    "\n",
    "* cтроим граф, выбираем, откуда хотим получить `output`;\n",
    "* cоздаем `feature_extractor` с выбранным элементом."
   ]
  },
  {
   "cell_type": "markdown",
   "metadata": {},
   "source": [
    "Построим граф и посмотрим, как он выглядит:"
   ]
  },
  {
   "cell_type": "code",
   "execution_count": null,
   "metadata": {},
   "outputs": [],
   "source": [
    "from torchvision.models.feature_extraction import get_graph_node_names\n",
    "from warnings import simplefilter\n",
    "\n",
    "simplefilter(\"ignore\", UserWarning)\n",
    "\n",
    "get_graph_node_names(pretrained_model)[0]"
   ]
  },
  {
   "cell_type": "markdown",
   "metadata": {},
   "source": [
    "Для демонстрации возьмем `output` с первого слоя в нашем классификационном блоке:"
   ]
  },
  {
   "cell_type": "code",
   "execution_count": null,
   "metadata": {},
   "outputs": [],
   "source": [
    "from torchvision.models.feature_extraction import create_feature_extractor\n",
    "\n",
    "features = {\"classifier.0\": \"out\"}\n",
    "custom_fe = create_feature_extractor(pretrained_model, return_nodes=features)\n",
    "custom_fe"
   ]
  },
  {
   "cell_type": "code",
   "execution_count": null,
   "metadata": {},
   "outputs": [],
   "source": [
    "x = torch.rand(1, 3, 224, 224)\n",
    "custom_fe(x)[\"out\"].shape"
   ]
  },
  {
   "cell_type": "markdown",
   "metadata": {},
   "source": [
    "Другой, более верхнеуровневый способ — это использовать модель в режиме `features_only`. Загрузим модель:\n",
    "\n"
   ]
  },
  {
   "cell_type": "code",
   "execution_count": null,
   "metadata": {},
   "outputs": [],
   "source": [
    "fe_model = timm.create_model(model_name, pretrained=True, features_only=True)"
   ]
  },
  {
   "cell_type": "markdown",
   "metadata": {},
   "source": [
    "Посмотрим параметры блоков:"
   ]
  },
  {
   "cell_type": "code",
   "execution_count": null,
   "metadata": {},
   "outputs": [],
   "source": [
    "list(fe_model.feature_info)"
   ]
  },
  {
   "cell_type": "markdown",
   "metadata": {},
   "source": [
    "Получим все карты признаков из этих блоков:"
   ]
  },
  {
   "cell_type": "code",
   "execution_count": null,
   "metadata": {},
   "outputs": [],
   "source": [
    "out = fe_model(x)\n",
    "for output in out:\n",
    "    print(output.shape)"
   ]
  },
  {
   "cell_type": "markdown",
   "metadata": {},
   "source": [
    "При использовании предобученной модели важно знать, как и на каких данных она обучалась. В частности нас могут интересовать примененные аугментации (`transform`).\n",
    "\n",
    "В timm каждая модель содержит описание своей конфигурации `default_cfg` (без обучения) и `pretrained_cfg` (предобученная). Посмотрим на `pretrained_cfg`:"
   ]
  },
  {
   "cell_type": "code",
   "execution_count": null,
   "metadata": {},
   "outputs": [],
   "source": [
    "pretrained_model.pretrained_cfg"
   ]
  },
  {
   "cell_type": "markdown",
   "metadata": {},
   "source": [
    "Создадим `transform`:"
   ]
  },
  {
   "cell_type": "code",
   "execution_count": null,
   "metadata": {},
   "outputs": [],
   "source": [
    "from timm.data import resolve_data_config\n",
    "from timm.data.transforms_factory import create_transform\n",
    "\n",
    "transform = create_transform(\n",
    "    **resolve_data_config(pretrained_model.pretrained_cfg, model=pretrained_model)\n",
    ")\n",
    "transform"
   ]
  },
  {
   "cell_type": "markdown",
   "metadata": {},
   "source": [
    "Мы кратко познакомились с библиотекой timm. Возможностей у нее гораздо больше, но в рамках лекции мы никак не успеем с ними познакомиться.\n",
    "\n",
    "Рекомендуем для самостоятельного изучения:\n",
    "* [[blog] ✏️ Вводный подробный гайд (VPN)](https://towardsdatascience.com/getting-started-with-pytorch-image-models-timm-a-practitioners-guide-4e77b4bf9055#4cc7)\n",
    "* [[doc] 🛠️ Документация библиотеки](https://github.com/huggingface/pytorch-image-models#introduction)"
   ]
  },
  {
   "cell_type": "markdown",
   "metadata": {},
   "source": [
    "# Обучение без разметки"
   ]
  },
  {
   "cell_type": "markdown",
   "metadata": {},
   "source": [
    "Все перечисленные выше модели учились при помощи классического обучения с учителем: на размеченных данных из ImageNet.\n",
    "\n",
    "Однако данных как в открытом, так и закрытом доступе с каждым годом становится все больше. Логично предположить, что из этих данных можно извлечь дополнительную информацию, которая поможет лучше классифицировать старый добрый ImageNet.\n",
    "\n",
    "Модели и алгоритмы, о которых пойдет речь дальше, тем или иным образом используют эти внешние данные.\n"
   ]
  },
  {
   "cell_type": "markdown",
   "metadata": {},
   "source": [
    "## Дистилляция"
   ]
  },
  {
   "cell_type": "markdown",
   "metadata": {},
   "source": [
    "[Knowledge distillation 📚[wiki]](https://en.wikipedia.org/wiki/Knowledge_distillation) — техника, которая используется для обучения одной модели маленькой (student) при помощи другой большой (teacher).\n",
    "\n",
    "Представим, что у нас нет больше доступа к ImageNet, но на диске осталась модель, которую на нем учили,  например [EfficientNet B7 🛠️[doc]](https://pytorch.org/vision/stable/models/generated/torchvision.models.efficientnet_b7.html#torchvision.models.efficientnet_b7). Модель большая и точная, а нам нужно решить некоторую простую задачу, например, отличать котов от собак. Но делать это на мобильном устройстве и очень быстро.\n"
   ]
  },
  {
   "cell_type": "markdown",
   "metadata": {},
   "source": [
    "<img src =\"https://edunet.kea.su/repo/EduNet-content/dev-2.0/L08/out/distillation_scheme.png\" width=\"800\">"
   ]
  },
  {
   "cell_type": "markdown",
   "metadata": {},
   "source": [
    "### Hard targets"
   ]
  },
  {
   "cell_type": "markdown",
   "metadata": {},
   "source": [
    "Можно воспользоваться большой моделью, и с ее помощью разметить имеющиеся неразмеченные изображения, а затем на этих данных учить маленькую и быструю модель.\n",
    "\n",
    "1.   img $\\to$ BIG_NET $\\to$ logit $\\to$ softmax $\\to$ one_hot $\\to$ label.\n",
    "2.   img $\\to$ small_net $\\to$ loss(logit, label) $\\to$ backprop."
   ]
  },
  {
   "cell_type": "markdown",
   "metadata": {},
   "source": [
    "### Soft targets"
   ]
  },
  {
   "cell_type": "markdown",
   "metadata": {},
   "source": [
    "Подход, описанный выше, будет работать, но можно поступить и хитрее.\n",
    "\n",
    "Предположим большая сеть классифицирует MNIST и для цифры:\n",
    "\n",
    "<img src =\"https://edunet.kea.su/repo/EduNet-web_dependencies/dev-2.0/L08/distilation_mnist_3.png\"  width=\"200\">\n",
    "\n",
    "мы получили вот такой вектор логитов\n"
   ]
  },
  {
   "cell_type": "code",
   "execution_count": null,
   "metadata": {},
   "outputs": [],
   "source": [
    "from matplotlib import pyplot as plt\n",
    "\n",
    "logits = [0.1, 0.1, 0.4, 5, 0.1, 0.2, 0.1, 0.2, 3, 0.7]\n",
    "\n",
    "plt.figure(figsize=(6, 3))\n",
    "plt.bar(range(0, 10), logits)\n",
    "plt.xticks(range(0, 10))\n",
    "plt.show()"
   ]
  },
  {
   "cell_type": "markdown",
   "metadata": {},
   "source": [
    "Самый большой логит у тройки, что верно. Но и у восьмерки он большой, так как эти цифры похожи.\n",
    "\n",
    "\n",
    "<img src =\"https://edunet.kea.su/repo/EduNet-web_dependencies/dev-2.0/L08/distilation_mnist_3.png\"  width=\"200\" height=\"200\">\n",
    "\n",
    "\n",
    "<img src =\"https://edunet.kea.su/repo/EduNet-web_dependencies/dev-2.0/L08/distilation_mnist_8.png\"  width=\"200\" height=\"200\">\n",
    "\n",
    "То есть логиты содержат дополнительную полезную информацию.\n"
   ]
  },
  {
   "cell_type": "markdown",
   "metadata": {},
   "source": [
    "Когда мы превратим их в вероятности, она сохранится."
   ]
  },
  {
   "cell_type": "code",
   "execution_count": null,
   "metadata": {},
   "outputs": [],
   "source": [
    "import torch\n",
    "from torch.nn.functional import softmax\n",
    "\n",
    "probs = softmax(torch.tensor(logits), dim=0)\n",
    "\n",
    "plt.figure(figsize=(6, 3))\n",
    "plt.bar(range(0, 10), probs)\n",
    "plt.xticks(range(0, 10))\n",
    "plt.show()"
   ]
  },
  {
   "cell_type": "markdown",
   "metadata": {},
   "source": [
    "А вот после того, как мы превратим вектор вероятностей в метку (one_hot вектор), эта дополнительная информация пропадет при округлении."
   ]
  },
  {
   "cell_type": "code",
   "execution_count": null,
   "metadata": {},
   "outputs": [],
   "source": [
    "one_hot = (probs >= probs.max()).int()\n",
    "print(\"One hot \", one_hot)"
   ]
  },
  {
   "cell_type": "code",
   "execution_count": null,
   "metadata": {},
   "outputs": [],
   "source": [
    "import numpy as np\n",
    "\n",
    "f, (ax1, ax2, ax3) = plt.subplots(1, 3, figsize=(15, 4), sharey=False)\n",
    "\n",
    "\n",
    "def bar(ax, y, title):\n",
    "    x = range(0, 10)\n",
    "    ax.bar(x, np.array(y))\n",
    "    ax.set_title(title)\n",
    "    ax.set_yticks([])\n",
    "\n",
    "\n",
    "bar(ax1, logits, \"Logits\")\n",
    "bar(ax2, probs, \"Probs\")\n",
    "bar(ax3, one_hot, \"Label\")\n",
    "\n",
    "plt.plot()\n",
    "plt.show()"
   ]
  },
  {
   "cell_type": "markdown",
   "metadata": {},
   "source": [
    "Чтобы не терять информацию, можно предсказывать не метку, а весь вектор вероятностей, который получается на выходе большой модели.\n",
    "\n"
   ]
  },
  {
   "cell_type": "markdown",
   "metadata": {},
   "source": [
    "[[colab] 🥨 Обучение без использования разметки BYOL](https://colab.research.google.com/drive/13bolgaT23R_l8OcCyhUpeWPdwJEIKqLR?usp=sharing)."
   ]
  },
  {
   "cell_type": "markdown",
   "metadata": {},
   "source": [
    "# CLIP\n",
    "\n",
    "Contrastive Language-Image Pre-training"
   ]
  },
  {
   "cell_type": "markdown",
   "metadata": {},
   "source": [
    "<center><img src =\"https://edunet.kea.su/repo/EduNet-web_dependencies/dev-2.0/L08/clip_idea.png\"  width=\"700\"></center>\n",
    "\n",
    "<center><em>Source: <a href=\"https://arxiv.org/abs/2103.00020\">Learning Transferable Visual Models From Natural Language Supervision</a></em></center>"
   ]
  },
  {
   "cell_type": "markdown",
   "metadata": {},
   "source": [
    "Для обучения модели был создан новый датасет, включающий 400M пар изображение–текст."
   ]
  },
  {
   "cell_type": "markdown",
   "metadata": {},
   "source": [
    "<center><img src =\"https://edunet.kea.su/repo/EduNet-web_dependencies/dev-2.0/L08/clip_classifier.png\"  width=\"700\"></center>\n",
    "\n",
    "<center><em>Source: <a href=\"https://arxiv.org/abs/2103.00020\">Learning Transferable Visual Models From Natural Language Supervision</a></em></center>"
   ]
  },
  {
   "cell_type": "markdown",
   "metadata": {},
   "source": [
    "Для использования в качестве классификатора достаточно создать текстовый эмбеддинг для слова, описывающего каждый класс, а затем сравнить его с эмбеддингом изображения."
   ]
  },
  {
   "cell_type": "markdown",
   "metadata": {},
   "source": [
    "<center><img src =\"https://edunet.kea.su/repo/EduNet-web_dependencies/dev-2.0/L08/clip_performance.png\" width=\"700\"></center>\n",
    "\n",
    "<center><em>Source: <a href=\"https://arxiv.org/abs/2103.00020\">Learning Transferable Visual Models From Natural Language Supervision</a></em></center>"
   ]
  },
  {
   "cell_type": "markdown",
   "metadata": {},
   "source": [
    "Точность классификации не дотягивает до SOTA supervised моделей, но зато работает без дообучения на различных датасетах."
   ]
  },
  {
   "cell_type": "markdown",
   "metadata": {},
   "source": [
    "### Как использовать"
   ]
  },
  {
   "cell_type": "markdown",
   "metadata": {},
   "source": [
    "Установка:"
   ]
  },
  {
   "cell_type": "code",
   "execution_count": null,
   "metadata": {},
   "outputs": [],
   "source": [
    "!pip install -q git+https://github.com/openai/CLIP.git"
   ]
  },
  {
   "cell_type": "code",
   "execution_count": null,
   "metadata": {},
   "outputs": [],
   "source": [
    "img, class_num = microImgNet[200]\n",
    "show(img, microImgNet.labels[200][1], 0)"
   ]
  },
  {
   "cell_type": "markdown",
   "metadata": {},
   "source": [
    "На вход CLIP надо подать список текстов, на выходе получим оценку того, какой из них больше всего подходит к изображению."
   ]
  },
  {
   "cell_type": "code",
   "execution_count": null,
   "metadata": {},
   "outputs": [],
   "source": [
    "texts = [\n",
    "    \"A man with a gasoline saw is getting firewood\",\n",
    "    \"Santa Claus sleigh\",\n",
    "    \"chain saw\",\n",
    "    \"cat\",\n",
    "    \"dog\",\n",
    "]"
   ]
  },
  {
   "cell_type": "markdown",
   "metadata": {},
   "source": [
    "Можно использовать разные backbone:"
   ]
  },
  {
   "cell_type": "code",
   "execution_count": null,
   "metadata": {},
   "outputs": [],
   "source": [
    "import clip\n",
    "\n",
    "print(clip.available_models())"
   ]
  },
  {
   "cell_type": "markdown",
   "metadata": {},
   "source": [
    "Создаем экземпляр модели:"
   ]
  },
  {
   "cell_type": "code",
   "execution_count": null,
   "metadata": {},
   "outputs": [],
   "source": [
    "import clip\n",
    "\n",
    "model, preprocess = clip.load(\"ViT-B/32\", device=\"cpu\")"
   ]
  },
  {
   "cell_type": "markdown",
   "metadata": {},
   "source": [
    "Дополнительно получили объект `preprocess` с необходимыми трансформациями. Подготовим с их помощью изображение и токенизируем текст:\n",
    "\n"
   ]
  },
  {
   "cell_type": "code",
   "execution_count": null,
   "metadata": {},
   "outputs": [],
   "source": [
    "image = preprocess(img).unsqueeze(0)\n",
    "text = clip.tokenize(texts)"
   ]
  },
  {
   "cell_type": "markdown",
   "metadata": {},
   "source": [
    "Теперь можно запускать\n",
    "\n",
    "`Given a batch of images and a batch of text tokens, returns two Tensors, containing the logit scores corresponding to each image and text input. The values are cosine similarities between the corresponding image and text features, times 100.`"
   ]
  },
  {
   "cell_type": "code",
   "execution_count": null,
   "metadata": {},
   "outputs": [],
   "source": [
    "with torch.no_grad():\n",
    "    logits_per_image, _ = model(image, text)\n",
    "    probs = logits_per_image.softmax(dim=-1).numpy()\n",
    "\n",
    "print(probs)\n",
    "\n",
    "plt.figure(figsize=(6, 3))\n",
    "plt.bar(range(len(texts)), probs.flatten())\n",
    "plt.show()"
   ]
  },
  {
   "cell_type": "markdown",
   "metadata": {},
   "source": [
    "### Получение embedding"
   ]
  },
  {
   "cell_type": "markdown",
   "metadata": {},
   "source": [
    "Вот так можно извлечь признаки для картинки и для текста:"
   ]
  },
  {
   "cell_type": "code",
   "execution_count": null,
   "metadata": {},
   "outputs": [],
   "source": [
    "image_features = model.encode_image(image).detach().cpu()\n",
    "text_features = model.encode_text(text).detach().cpu()\n",
    "print(\"Image\", image_features.shape)\n",
    "print(\"Text\", text_features.shape)"
   ]
  },
  {
   "cell_type": "markdown",
   "metadata": {},
   "source": [
    "Чтобы сравнить вектора признаков изображений и текстов, нам нужна какая-то метрика расстояния между ними. Удобно использовать [косинусное расстояние 📚[wiki]](https://en.wikipedia.org/wiki/Cosine_similarity):\n",
    "\n",
    "$ \\large \\text{cosine_similarity} = \\cos(\\theta) = \\dfrac{a \\cdot b  }{|a||b|} $\n",
    "\n",
    "Если вектора имеют единичную длину, то косинус угла между ними равен скалярному произведению :\n",
    "\n",
    "$\\large \\text{cosine_similarity} = a \\cdot b $"
   ]
  },
  {
   "cell_type": "markdown",
   "metadata": {},
   "source": [
    "Эмбеддинги на выходе CLIP не нормализованы:"
   ]
  },
  {
   "cell_type": "code",
   "execution_count": null,
   "metadata": {},
   "outputs": [],
   "source": [
    "print(np.linalg.norm(image_features[0]))"
   ]
  },
  {
   "cell_type": "markdown",
   "metadata": {},
   "source": [
    "Нормализуем их:"
   ]
  },
  {
   "cell_type": "code",
   "execution_count": null,
   "metadata": {},
   "outputs": [],
   "source": [
    "from torch.nn.functional import normalize\n",
    "\n",
    "image_features = normalize(image_features)\n",
    "text_features = normalize(text_features)\n",
    "\n",
    "print(np.linalg.norm(image_features[0].cpu()))\n",
    "print(np.linalg.norm(text_features.cpu(), axis=1))"
   ]
  },
  {
   "cell_type": "markdown",
   "metadata": {},
   "source": [
    "Теперь мы можем посчитать скалярное произведение вектора признаков для каждого текста с картинкой и понять, насколько они похожи:"
   ]
  },
  {
   "cell_type": "code",
   "execution_count": null,
   "metadata": {},
   "outputs": [],
   "source": [
    "similarities = []\n",
    "for t in text_features:\n",
    "    sim = torch.dot(image_features[0], t)\n",
    "    similarities.append(sim.item())\n",
    "print(similarities)"
   ]
  },
  {
   "cell_type": "markdown",
   "metadata": {},
   "source": [
    "Аналогичный результат получится при матричном умножении признаков:"
   ]
  },
  {
   "cell_type": "code",
   "execution_count": null,
   "metadata": {},
   "outputs": [],
   "source": [
    "sims = torch.matmul(text_features, image_features.T)\n",
    "print(sims.detach().cpu().tolist())"
   ]
  },
  {
   "cell_type": "markdown",
   "metadata": {},
   "source": [
    "Разрыв уже не такой внушительный, как после softmax:"
   ]
  },
  {
   "cell_type": "code",
   "execution_count": null,
   "metadata": {},
   "outputs": [],
   "source": [
    "plt.figure(figsize=(6, 3))\n",
    "plt.bar(range(len(similarities)), similarities)\n",
    "plt.show()"
   ]
  },
  {
   "cell_type": "markdown",
   "metadata": {},
   "source": [
    "Но можно умножить расстояния на константу перед отправкой в softmax:"
   ]
  },
  {
   "cell_type": "code",
   "execution_count": null,
   "metadata": {},
   "outputs": [],
   "source": [
    "chilled_sims = sims.flatten() * 100"
   ]
  },
  {
   "cell_type": "markdown",
   "metadata": {},
   "source": [
    "И тогда результат совпадет с тем, что выдал CLIP:"
   ]
  },
  {
   "cell_type": "code",
   "execution_count": null,
   "metadata": {},
   "outputs": [],
   "source": [
    "s = chilled_sims.softmax(dim=0).numpy()\n",
    "print(s)\n",
    "plt.figure(figsize=(8, 6))\n",
    "plt.bar(range(len(s)), s)\n",
    "plt.show()"
   ]
  },
  {
   "cell_type": "markdown",
   "metadata": {},
   "source": [
    "### Классификация ImageNet"
   ]
  },
  {
   "cell_type": "markdown",
   "metadata": {},
   "source": [
    "Создадим из названий классов простые текстовые описания и напечатаем 10 штук для примера:"
   ]
  },
  {
   "cell_type": "code",
   "execution_count": null,
   "metadata": {},
   "outputs": [],
   "source": [
    "descriptions = []\n",
    "for val in imagenet_labels.values():\n",
    "    name = val[1].replace(\"_\", \" \")\n",
    "    descriptions.append(f\"a photo of {name}\")\n",
    "print(descriptions[0:10])"
   ]
  },
  {
   "cell_type": "code",
   "execution_count": null,
   "metadata": {},
   "outputs": [],
   "source": [
    "import clip\n",
    "\n",
    "img, label = microImgNet[0]\n",
    "\n",
    "model, preprocess = clip.load(\"ViT-B/32\", device=device)\n",
    "\n",
    "\n",
    "for i in range(6):\n",
    "    img, label = microImgNet[i * 6]\n",
    "    name = microImgNet.labels[i * 6][1]\n",
    "\n",
    "    image = preprocess(img).unsqueeze(0).to(device)\n",
    "    text = clip.tokenize(descriptions).to(device)\n",
    "\n",
    "    with torch.no_grad():\n",
    "        image_features = model.encode_image(image)\n",
    "        text_features = model.encode_text(text)\n",
    "\n",
    "        logits_per_image, logits_per_text = model(image, text)\n",
    "        probs = logits_per_image.softmax(dim=-1).cpu().numpy()\n",
    "        class_num = probs.argmax()\n",
    "        descr = descriptions[class_num]\n",
    "        show(img, descr, i)"
   ]
  },
  {
   "cell_type": "markdown",
   "metadata": {},
   "source": [
    "#Практические рекомендации\n",
    "\n",
    "*  Используйте EfficientNet  качестве baseline\n",
    "*  Для доступа к новым моделям используйте [HuggingFace 🛠️[doc]](https://huggingface.co/)\n",
    "*  Не учите трансформеры с нуля\n"
   ]
  },
  {
   "cell_type": "markdown",
   "metadata": {},
   "source": [
    "<font size=\"6\">Литература</font>\n",
    "\n",
    "<font size=\"5\">AlexNet:</font>\n",
    "\n",
    "* [[article] 🎓 ImageNet Classification with Deep Convolutional Neural Networks (Krizhevsky et al., 2012)](https://papers.nips.cc/paper/2012/file/c399862d3b9d6b76c8436e924a68c45b-Paper.pdf)\n",
    "* [[blog] ✏️ Подробнее про AlexNet](https://www.kaggle.com/code/blurredmachine/alexnet-architecture-a-complete-guide)\n",
    "\n",
    "<font size=\"5\">ZFNet:</font>\n",
    "\n",
    "* [[arxiv] 🎓 Visualizing and Understanding Convolutional Networks (Zeiler et al., 2013)](https://arxiv.org/abs/1311.2901)\n",
    "\n",
    "<font size=\"5\">VGG:</font>\n",
    "\n",
    "* [[arxiv] 🎓 Very Deep Convolutional Networks for Large-Scale Image Recognition (Simonyan et al., 2014)](https://arxiv.org/abs/1409.1556)\n",
    "* [[doc] 🛠️ Краткое описание VGGNet](https://www.robots.ox.ac.uk/~vgg/research/very_deep/)\n",
    "\n",
    "<font size=\"5\">GoogLeNet:</font>\n",
    "\n",
    "* [[arxiv] 🎓 Going Deeper with Convolutions (Szegedy et al., 2014)](https://arxiv.org/abs/1409.4842)\n",
    "\n",
    "<font size=\"5\">Global Average Pooling:</font>\n",
    "\n",
    "* [[arxiv] 🎓 Network In Network, Lin et al., 2013](https://arxiv.org/abs/1312.4400)\n",
    "* [[blog] ✏️ Max Pooling and Global Average Pooling](https://github.com/christianversloot/machine-learning-articles/blob/main/what-are-max-pooling-average-pooling-global-max-pooling-and-global-average-pooling.md)\n",
    "* [[arxiv] 🎓 Global Pooling, More than Meets the Eye: Position Information is Encoded Channel-Wise in CNNs (Islam et al., 2021)](https://arxiv.org/abs/2108.07884)\n",
    "\n",
    "<font size=\"5\">ResNet:</font>\n",
    "\n",
    "* [[arxiv] 🎓 Deep Residual Learning for Image Recognition (He et al., 2015)](https://arxiv.org/abs/1512.03385)\n",
    "\n",
    "<font size=\"5\">Fixup Initialization:</font>\n",
    "\n",
    "* [[arxiv] 🎓 Fixup Initialization: Residual Learning Without Normalization (Zhang et. al, 2019)](https://arxiv.org/abs/1901.09321)\n",
    "\n",
    "<font size=\"5\">ResNeXt:</font>\n",
    "\n",
    "* [[arxiv] 🎓 Aggregated Residual Transformations for Deep Neural Networks (Xie et al., 2016)](https://arxiv.org/abs/1611.05431)\n",
    "* [[blog] ✏️ Review of ResNet Family: from ResNet to ResNeSt](https://sheng-fang.github.io/2020-05-20-review-resnet-family/)\n",
    "\n",
    "<font size=\"5\">DenseNet:</font>\n",
    "\n",
    "* [[arxiv] 🎓 Densely Connected Convolutional Networks (Huang et al., 2016)](https://arxiv.org/abs/1608.06993)\n",
    "\n",
    "<font size=\"5\">WideResNet:</font>\n",
    "\n",
    "* [[arxiv] 🎓 Wide Residual Networks (Zagoruyko et al., 2016)](https://arxiv.org/abs/1605.07146)\n",
    "\n",
    "<font size=\"5\">SENet:</font>\n",
    "\n",
    "* [[arxiv] 🎓 Squeeze-and-Excitation Networks (Hu et al., 2017)](https://arxiv.org/abs/1709.01507)\n",
    "* [[blog] ✏️ Channel Attention and Squeeze-and-Excitation Networks (SENet)](https://blog.paperspace.com/channel-attention-squeeze-and-excitation-networks/)\n",
    "\n",
    "<font size=\"5\">MobileNet:</font>\n",
    "\n",
    "* [[arxiv] 🎓 MobileNets: Efficient Convolutional Neural Networks for Mobile Vision Applications (Howard et al., 2017)](https://arxiv.org/abs/1704.04861)\n",
    "\n",
    "<font size=\"5\">EfficientNet:</font>\n",
    "\n",
    "* [[arxiv] 🎓 EfficientNet: Rethinking Model Scaling for Convolutional Neural Networks (Tan et al., 2019)](https://arxiv.org/abs/1905.11946)\n",
    "\n",
    "<font size=\"5\">Visual Transformer:</font>\n",
    "\n",
    "* [[arxiv] 🎓 Visual Transformers: Token-based Image Representation and Processing for Computer Vision (Wu et al., 2020)](https://arxiv.org/abs/2006.03677)\n",
    "* [[blog] ✏️ Разбор ViT](https://viso.ai/deep-learning/vision-transformer-vit/)\n",
    "* [[arxiv] 🎓 An Image is Worth 16x16 Words: Transformers for Image Recognition at Scale (Dosovitskiy et al., 2020)](https://arxiv.org/abs/2010.11929)\n",
    "\n",
    "<font size=\"5\">Дополнительно:</font>\n",
    "* [[blog] ✏️  A Tutorial on Filter Groups (Grouped Convolution)](https://blog.yani.ai/filter-group-tutorial/)\n",
    "* [[arxiv] 🎓 Benchmark Analysis of Representative Deep Neural Network Architectures (Bianco et al., 2018)](https://arxiv.org/abs/1810.00736)\n",
    "* [[arxiv] 🎓 Neural Architecture Search with Reinforcement Learning (Zoph et al., 2016)](https://arxiv.org/abs/1611.01578)"
   ]
  }
 ],
 "metadata": {},
 "nbformat": 4,
 "nbformat_minor": 0
}
