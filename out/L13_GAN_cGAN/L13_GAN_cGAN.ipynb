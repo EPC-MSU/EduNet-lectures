{
 "cells": [
  {
   "cell_type": "markdown",
   "metadata": {},
   "source": [
    "План лекции (временный блок):\n",
    "* GAN - Генеративно-состязательная сеть (англ. Generative adversarial network, сокращённо GAN)\n",
    " * Контент: изображения архитектуры сети\n",
    " * Контент: Генератор (архитектура)\n",
    " * Контент: Классификатор (архитектура)\n",
    "* cGAN - Условные порождающие состязательные сети CGAN (Conditional Generative Adversarial Nets)\n",
    " * Картинка принципа работы (в сеть подаются так же изображения)\n",
    " * like above: арихитектура cGAN\n",
    "* DCGAN (Deep Convolutional Generative Adversarial Nets)\n",
    " * де-факто это cGAN, только для изображений, картинки похожи\n",
    "* StackGAN - порождающая состязательная сеть для генерации фото-реалистичных изображений исходя из текстового описания\n",
    "* LAPGAN (Laplacian Pyramid of Adversarial Networks)\n",
    "* ControlGAN (Controllable Generative Adversarial Networks)\n",
    "* AC-GAN Auxiliary Classifier Generative Adversarial Networks"
   ]
  },
  {
   "cell_type": "code",
   "execution_count": null,
   "metadata": {},
   "outputs": [],
   "source": []
  }
 ],
 "metadata": {
  "kernelspec": {
   "display_name": "Python 3",
   "language": "python",
   "name": "python3"
  },
  "language_info": {
   "codemirror_mode": {
    "name": "ipython",
    "version": 3
   },
   "file_extension": ".py",
   "mimetype": "text/x-python",
   "name": "python",
   "nbconvert_exporter": "python",
   "pygments_lexer": "ipython3",
   "version": "3.6.8"
  }
 },
 "nbformat": 4,
 "nbformat_minor": 4
}
