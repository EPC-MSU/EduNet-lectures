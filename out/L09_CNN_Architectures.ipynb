{
 "cells": [
  {
   "cell_type": "markdown",
   "metadata": {},
   "source": [
    "<font size=\"6\">Архитектуры CNN</font>"
   ]
  },
  {
   "cell_type": "markdown",
   "metadata": {},
   "source": [
    "# Базовые компоненты сверточных сетей"
   ]
  },
  {
   "cell_type": "markdown",
   "metadata": {},
   "source": [
    "\n",
    "\n",
    "Мы рассмотрели базовые компоненты, из которых состоят современные свёрточные нейронные сети, а также техники их обучения."
   ]
  },
  {
   "cell_type": "markdown",
   "metadata": {},
   "source": [
    "<img src =\"http://edunet.kea.su/repo/src/L09_CNN_Architectures/img/l09.png\" >\n",
    "\n",
    "<img src =\"http://edunet.kea.su/repo/src/L09_CNN_Architectures/img/l09_2.png\" width=\"760\">"
   ]
  },
  {
   "cell_type": "markdown",
   "metadata": {},
   "source": [
    "На этом занятии рассмотрим, какие модели для классификации изображений можно построить на основе этих компонент. "
   ]
  },
  {
   "cell_type": "markdown",
   "metadata": {},
   "source": [
    "# ImageNet Large Scale Visual Recognition Challenge\n",
    "\n",
    " ([ILSVRC](http://image-net.org/challenges/LSVRC/2017/))\n",
    "\n",
    "<center><img src =\"http://edunet.kea.su/repo/src/L09_CNN_Architectures/img_license/l09_2.png\"  width=\"800\"></center>\n",
    "<center><em>Лучшие результаты конкнурса ILSVRC по годам.</em></center>"
   ]
  },
  {
   "cell_type": "markdown",
   "metadata": {},
   "source": [
    "Загрузка с [официального сайта](http://image-net.org/download) недоступна, но можно загрузить данные с [Kaggle](https://www.kaggle.com/c/imagenet-object-localization-challenge/data). Однако архив занимает порядка 156Gb и не поместится на диск Colab. Поэтому воспользуемся другим репозиторием, в котором находится 1000 изображений из оригинального датасета.\n",
    "\n",
    "P.S. Для загрузки данных, которые стали недоступны на официальных сайтах, можно использовать [Academic Torrents](https://academictorrents.com). В частности для [ImageNet](https://academictorrents.com/browse.php?search=imagenet)."
   ]
  },
  {
   "cell_type": "code",
   "metadata": {},
   "source": [
    "import torch\n",
    "import random\n",
    "import numpy as np\n",
    "\n",
    "# fix random_seed\n",
    "torch.manual_seed(42)\n",
    "random.seed(42)\n",
    "np.random.seed(42)\n",
    "\n",
    "# compute in cpu or gpu\n",
    "device = torch.device(\"cuda\" if torch.cuda.is_available() else \"cpu\")"
   ],
   "execution_count": null,
   "outputs": []
  },
  {
   "cell_type": "code",
   "metadata": {},
   "source": [
    "# Full list of labels \n",
    "!wget 'https://s3.amazonaws.com/deep-learning-models/image-models/imagenet_class_index.json'\n",
    "!git clone https://github.com/ajschumacher/imagen.git"
   ],
   "execution_count": null,
   "outputs": []
  },
  {
   "cell_type": "markdown",
   "metadata": {},
   "source": [
    "Загрузили категории:"
   ]
  },
  {
   "cell_type": "code",
   "metadata": {},
   "source": [
    "import json\n",
    "import pprint\n",
    "pp = pprint.PrettyPrinter(width=41, compact=True)\n",
    "\n",
    "with open('imagenet_class_index.json') as f:\n",
    "      imagenet_labels = json.load(f)\n",
    "\n",
    "pp.pprint(dict(list(imagenet_labels.items())[:10])) # Use Pretty Print to display long dict"
   ],
   "execution_count": null,
   "outputs": []
  },
  {
   "cell_type": "code",
   "metadata": {},
   "source": [
    "from glob import glob\n",
    "from PIL import Image\n",
    "from torch.utils.data import Dataset\n",
    "\n",
    "class MicroImageNet(Dataset):\n",
    "  def __init__(self):\n",
    "    super().__init__()\n",
    "    # Load labels\n",
    "    self.num2id = {}\n",
    "    with open('imagenet_class_index.json') as f:\n",
    "      imagenet_labels = json.load(f)\n",
    "    w_net = {}\n",
    "    # Because not world net all image codes from imagen exists in imagenet_labels \n",
    "    # we need to filter this image\n",
    "    for key in imagenet_labels.keys():\n",
    "      wn_id = imagenet_labels[key][0]\n",
    "      w_net[wn_id] = {'num': int(key), 'name': imagenet_labels[key][1] }\n",
    "    self.labels = []\n",
    "    self.paths = []\n",
    "\n",
    "    # Load data\n",
    "    images = glob('imagen/imagen/*.jpg')\n",
    "    images.sort()\n",
    "    for i, path in enumerate(images):\n",
    "      name = path.split(\"_\")[2] # Class name\n",
    "      id = path.split(\"_\")[0][14:] # WorldNet based ID\n",
    "      if w_net.get(id,None): \n",
    "        self.labels.append([w_net[id]['num'], w_net[id]['name'], id])\n",
    "        self.paths.append(path)\n",
    "    \n",
    "  def __getitem__(self,idx):\n",
    "    im = Image.open(self.paths[idx])\n",
    "    class_num = self.labels[idx][0]\n",
    "    return im, class_num\n",
    "\n",
    "  def __len__(self):\n",
    "    return len(self.paths)\n",
    "\n",
    "\n",
    "microImgNet = MicroImageNet()"
   ],
   "execution_count": null,
   "outputs": []
  },
  {
   "cell_type": "markdown",
   "metadata": {},
   "source": [
    "Посмотрим на картинки:"
   ]
  },
  {
   "cell_type": "code",
   "metadata": {},
   "source": [
    "import matplotlib.pyplot as plt\n",
    "plt.rcParams[\"figure.figsize\"] = (15,10)\n",
    "\n",
    "def show(img,label_1,num,label_2=\"\"):\n",
    "    ax = plt.subplot(2, 3,num+1)\n",
    "    plt.imshow(img)\n",
    "    plt.title(label_1)\n",
    "    ax.set_xlabel(label_2)\n",
    "    plt.axis('off')\n",
    "  \n",
    "for i in range(6):\n",
    "  img, label = microImgNet[i*6]\n",
    "  name = microImgNet.labels[i*6][1]\n",
    "  show(img,name,i)"
   ],
   "execution_count": null,
   "outputs": []
  },
  {
   "cell_type": "markdown",
   "metadata": {},
   "source": [
    "# Обзор сети AlexNet(2012 г.)\n",
    "\n",
    "[ImageNet Classification with Deep Convolutional Neural Networks (Krizhevsky et al., 2012)](https://papers.nips.cc/paper/2012/file/c399862d3b9d6b76c8436e924a68c45b-Paper.pdf)\n",
    "\n",
    "создатели: Alex Krizhevsky, Ilya Sutskever, Geoffrey E. Hinton\n",
    "**University of Toronto**\n",
    "\n",
    "Как упомяналось на первой лекции, современный бум нейростевых технологий начался в 2012 году, когда AlexNet с большим отрывом от конкурентов победила в ImageNet.\n",
    "\n",
    "В AlexNet есть все компоненты, которые мы рассматривали ранее. Её архитектура состоит из пяти свёрточных слоёв, между которыми располагаются pooling-слои и слои нормализации, а завершают нейросеть три полносвязных слоя.\n",
    "\n",
    "<center><img src =\"http://edunet.kea.su/repo/src/L09_CNN_Architectures/img_license/l09_4_.png\"  width=\"800\"></center>\n",
    "\n",
    "<center><em>Архитектура сети AlexNet (модифицировано из Krizhevsky et al., 2012).</em></center>"
   ]
  },
  {
   "cell_type": "markdown",
   "metadata": {},
   "source": [
    "[Подробнее про AlexNet](https://neurohive.io/ru/vidy-nejrosetej/alexnet-svjortochnaja-nejronnaja-set-dlja-raspoznavanija-izobrazhenij/)\n",
    "\n",
    "На схеме архитектуры все выходные изображения делятся на два одинаковых участка — это связано с тем, что нейросеть **обучалась на двух старых GPU GTX580**, у которых было всего 3 ГБ видеопамяти. Для обработки использовались две видеокарты, чтобы параллельно выполнять операции над двумя частями изображения.\n",
    "Изначально на вход подаётся фотография размером 224×224×3, и **размер свёрточных фильтров первого слоя — 11×11**. Всего применяется 96 фильтров с шагом 4.\n",
    "\n",
    "**Пространственные размеры** изображения сначала довольно **сильно сжимаются**, затем постепенно увеличивается число фильтров. В результате ширина и высота этого уже не изображения, а набора активаций признаков, сильно уменьшаются, после чего оно поступает на **два полносвязных своя**, где количество весов уже довольно большое.\n",
    "\n",
    "\n",
    "AlexNet не получится использовать для классификации cifar10 (по крайней мере напрямую), потому что если начать так агрессивно уменьшать изображение размером 32×32 px, то в определенный момент в него просто не поместится следующий фильтр, который нужно применить, и изображение просто исчезнет. В принципе ничто не мешает нам сделать resize изображения до более крупного, но сами понимаете, что будет с качеством такого изображения.\n",
    "\n",
    "Структура некоторых (особенно старых) сетей, заточенных под ImageNet, напрямую зависит от размера изображений: если соотношение сторон позволяеет фильтрам поместиться, проблем не возникнет, если же оно меньше и в какой-то момент размер уменьшится до 2×2 или 1×1, то фильтр 3×3 просто не сработает. В современных сетях есть слой, который позволяет решить эту проблему.\n",
    "\n",
    "На тот момент такая архитектура показала прорывную точность (ошибка упала с 20% до 15.4%)."
   ]
  },
  {
   "cell_type": "markdown",
   "metadata": {},
   "source": [
    "\n",
    "\n",
    "<center><em><img src =\"http://edunet.kea.su/repo/src/L09_CNN_Architectures/img_license/l09_4.png\"></em></center>\n",
    "<center><em>Архитектура сети AlexNet c параметрами слоев (модифицировано из Krizhevsky et al., 2012).</em></center>\n",
    "\n",
    "Также стоит упомянуть о нескольких важных параметрах нейросети, необычных на тот момент:\n",
    "\n",
    "\n",
    "* AlexNet — практически первая архитектура, в которой применяется нелинейность ReLU. Ранее использовались сигмоидальные функции, которые работали медленнее и/или хуже;\n",
    "\n",
    "* Используется собственная нормализация (не столь универсальная, как Batch-нормализация) с отдельными слоями. Как выяснилось позднее, они не дают значительного улучшающего эффекта и поэтому не распространены в современных архитектурах;\n",
    "\n",
    "* На этапе предварительной обработки используется очень большое дополнение данных (аугментация, о ней в следующих лекциях);\n",
    "\n",
    "* Dropout = 0.5 (то есть при регуляризации отсеивается 50% нейронов);\n",
    "\n",
    "* SGD Momentum 0.9 (как показывают сегодняшние эксперименты, это не плохой вариант, но чтобы обучение сходилось, им требовалась с помощью некой эвристики (о ней речь пойдет ниже) периодически изменять Learning rate);\n",
    "\n",
    "* Скорость обучения — 1e−2, снижается в 10 раз вручную, если точность в какой-то момент перестаёт расти;\n",
    "\n",
    "* Затухание весов L2 — 5e−4;\n",
    "\n",
    "* В архитектуре используется ансамбль из 7 CNN — это позволило снизить процент ошибок с 18,2% до 15,4%. (Ансамбль моделей — это когда обучается несколько моделей, а результат считается по среднему значению. Здесь используются 7 сетей, результат усредняется. Таким образом достаточно сильно снижается ошибка).\n"
   ]
  },
  {
   "cell_type": "markdown",
   "metadata": {},
   "source": [
    "Сравним Pytorch реализацию с оригинальной. В чем отличия? "
   ]
  },
  {
   "cell_type": "code",
   "metadata": {},
   "source": [
    "from torchvision import models,utils\n",
    "alexnet = models.alexnet(pretrained=True)"
   ],
   "execution_count": null,
   "outputs": []
  },
  {
   "cell_type": "code",
   "metadata": {},
   "source": [
    "from torchsummary import summary\n",
    "print('AlexNet architecture')\n",
    "print(summary(alexnet, (3,224,224),device='cpu'))\n",
    "print(alexnet)"
   ],
   "execution_count": null,
   "outputs": []
  },
  {
   "cell_type": "markdown",
   "metadata": {},
   "source": [
    "В Torch версии отсутствуют нормализации, а в остальном всё так же."
   ]
  },
  {
   "cell_type": "markdown",
   "metadata": {},
   "source": [
    "Проверим как работает: "
   ]
  },
  {
   "cell_type": "code",
   "metadata": {},
   "source": [
    "import torchvision.transforms.functional as F\n",
    "import torch\n",
    "\n",
    "def img2tensor(img):\n",
    "  t = F.to_tensor(img)\n",
    "  t = F.normalize(t, (0.485, 0.456, 0.406), (0.229, 0.224, 0.225))\n",
    "  return t\n",
    "\n",
    "def catId2names(nums):\n",
    "  titles = []\n",
    "  for num in nums:\n",
    "    titles.append(imagenet_labels[str(num.item())][1])\n",
    "    titles.reverse()\n",
    "  return \", \".join(titles)\n",
    "  \n",
    "for i in range(6,12):\n",
    "  img, label = microImgNet[i*6]\n",
    "  tensor = img2tensor(img)\n",
    "  out = alexnet(tensor.unsqueeze(0)) # Add batch dimension\n",
    "  labels_num = torch.argsort(out[0]) # Ascending order\n",
    "  weights = out[0][-5:]\n",
    "  predicted = catId2names(labels_num[-5:]) # Top 5\n",
    "  titles = []\n",
    "  name =  microImgNet.labels[i*6][1] \n",
    "  show(img,name,i-6,predicted)"
   ],
   "execution_count": null,
   "outputs": []
  },
  {
   "cell_type": "markdown",
   "metadata": {},
   "source": [
    "##### $\\color{brown}{\\text{Дополнительная информация}}$ \n",
    "## Архитектура ZFnet(2013 г.)\n",
    "\n",
    "[Visualizing and Understanding Convolutional Networks (Zeiler et al., 2013)](https://arxiv.org/abs/1311.2901)\n",
    "\n",
    "<center><img src =\"http://edunet.kea.su/repo/src/L09_CNN_Architectures/img_license/l09_5.png\"  width=\"1000\"><center>\n",
    "<center><em>Архитектура сети ZFNet (модифицированно из Zeiler et al., 2013).</em><center>\n",
    "\n"
   ]
  },
  {
   "cell_type": "markdown",
   "metadata": {},
   "source": [
    "\n",
    "<center><img src =\"http://edunet.kea.su/repo/src/L09_CNN_Architectures/img_license/l09_5_.png\"  width=\"1000\"></center>\n",
    "<center><em>Архитектура сети ZFNet (модифицированно из Zeiler et al., 2013).</em></center>\n",
    "\n",
    "*Тюнингованный AlexNet*\n",
    "\n",
    "В 2013 году выиграла соревнования созданная учеными из Йорского университета нейросеть ZFnet, достигнув результата 11.7% — в ней AlexNet использовалась в качестве основы, но с изменёнными параметрами и слоями.\n",
    "\n",
    "Отличия от AlexNet небольшие:\n",
    "* Немного поменялись размеры фильтров (было 11, стало 7);\n",
    "* Увеличилось общее количество фильтров;\n",
    "\n",
    "В целом и количество слоев, и общая структура сети, когда слои свёртки и пулинга перемежаются друг с другом, а затем идут два полносвязных слоя, сохранились.\n"
   ]
  },
  {
   "cell_type": "markdown",
   "metadata": {},
   "source": [
    "# Обзор сети VGGNet(2014 г.)\n",
    "[Very Deep Convolutional Networks for Large-Scale Image Recognition (Simonyan et al., 2014)](https://arxiv.org/abs/1409.1556)\n",
    "\n",
    "Karen Simonyan and Andrew Zisserman (Visual Geometry Group — **Oxford**)\n",
    "\n",
    "<center><img src =\"http://edunet.kea.su/repo/src/L09_CNN_Architectures/img_license/l09_6.png\"  width=\"400\" rotate=\"180\"></center>\n",
    "<center><em>Сравнение архитектур сетей AlexNet, VGG16 (использует 16 слоев) и VGG19 (использует 19 слоев). Модифицированно из Simonyan et al., 2014.</em></center>\n",
    "\n",
    "[Краткое описание VGGNet](https://www.robots.ox.ac.uk/~vgg/research/very_deep/)\n",
    "\n",
    "* Появление \"стандартных\" блоков внутри модели;\n",
    "* Свёртки 3x3.\n",
    "\n",
    "\n",
    "\n"
   ]
  },
  {
   "cell_type": "markdown",
   "metadata": {},
   "source": [
    "В 2014-ом году в Оксфорде была разработана модель VGGNet. Сеть получилась более точной и более глубокой.\n",
    "\n",
    "Авторы VGG подумали: А что, если нам взять AlexNet и увеличить его в глубину путем повторения блоков (*stacking*)? В то время идея *стакинга* была еще не очевидна. Для этого они выделили базовый блок `3x3 Conv -> 3x3 Conv -> Pool` и повторили его $N$ раз (есть разные варианты, такие как VGG11 — 11 повторений блока, VGG16 — 16 повторений и так далее)."
   ]
  },
  {
   "cell_type": "markdown",
   "metadata": {},
   "source": [
    "На изображении выше изображены сети AlexNet и две версии VGG-16 и VGG-19 с 16 и 19 слоями соответственно. На соревнованиях победила более глубокая VGG19, достигнув более чем в два раза лучшего результата по сравнению с AlexNet.\n",
    "\n",
    "Несколько фактов об архитектуре VGGNet:\n",
    "\n",
    "* Нейросеть заняла 2 место в задаче классификации и 1 место в локализации на соревновании ImageNet (при локализации необходимо не только классифицировать объект, но и обвести его в ограничивающие рамки);\n",
    "\n",
    "* Процедура обучения такая же, как у AlexNet;\n",
    "\n",
    "* Слои нормализации отсутствуют.\n",
    "\n",
    "В прикладных задачах обычно используются (причём до сих пор) архитектуры VGG16 или VGG19 (VGG19 работает лучше, но расходует больше памяти). \n",
    "\n",
    "Особенности архитектуры VGG: все свёрточные слои имеют фильтры с рецептивным полем размера 3×3, они объединены в блоки, состоящие из некоторого количества свёрток с разным (постепенно увеличивающимся) количеством фильтров. Затем идут слои пулинга. Появление \"стандартных\" блоков внутри модели — одно из важных нововведений. Идея базового блока внутри сети будет достаточно широко использоваться дальше."
   ]
  },
  {
   "cell_type": "markdown",
   "metadata": {},
   "source": [
    "Разберем на коде:"
   ]
  },
  {
   "cell_type": "code",
   "metadata": {},
   "source": [
    "from torchvision import models\n",
    "vgg = models.vgg16(pretrained=False) # Change on True if you want to use VGG to predict something\n",
    "print(vgg)"
   ],
   "execution_count": null,
   "outputs": []
  },
  {
   "cell_type": "markdown",
   "metadata": {},
   "source": [
    "## Оценка памяти занимаемой моделью\n",
    "\n"
   ]
  },
  {
   "cell_type": "markdown",
   "metadata": {},
   "source": [
    "Чтобы понять, в чем смысл этих усовершенствований, нужно оценить количество памяти для хранения весов и количество операций, которые требуется выполнить при прямом прохождении сигнала через сеть."
   ]
  },
  {
   "cell_type": "markdown",
   "metadata": {},
   "source": [
    "<center><img src =\"http://edunet.kea.su/repo/src/L09_CNN_Architectures/img_license/l09_7.png\"  width=\"650\"></center>\n",
    "<center><em>Пример свертки с фильтрами малого размера.</em></center>"
   ]
  },
  {
   "cell_type": "markdown",
   "metadata": {},
   "source": [
    "Чем больше особенностей попадает в рецептивное поле свёртки (\"полем зрения\"), тем к лучшей генерализации она должна быть способна. Несмотря на это, авторы сети решили отказаться от использования свёрток с большим рецептивным полем в пользу скорости потому, что оказалось, что размер можно заменить количеством (2 маленьких фильтра работают как один большой или даже лучше).\n",
    "\n",
    "Основная причина, по которой они начали об этом думать — это увеличение сложности. **Большее количество слоев требует больше памяти, весов и вычислительных мощностей**.\n",
    "\n",
    "На слайде изображен один слой. Тензор $\\color{orange}{\\text{оранжевого}}$ цвета — это вход, его мы не считаем.\n",
    "\n",
    "Первый параметр — **количество элементов на выходе слоя**. $\\color{blue}{\\text{Синий}}$ тензор — это веса, для которых требуется память во время работы модели. Чтобы понять, сколько нужно памяти, чтобы хранить веса, которые мы получаем, нужно умножить количество фильтров на пространственные размеры изображения и на количество байт, которые требуются для хранения одного элемента.\n",
    "\n",
    "**Количество весов (параметров)** — это пространственные размеры одного фильтра, умноженные на количество слоев и на количество фильтров. В то время, как правая часть занимает память только во время работы, обученные веса являются ценностью и должны сохраняться на диск.\n",
    "\n",
    "**Количество операций, которые нам потребуются** — это количество элементов на выходе, которые мы хотим получить, умноженное на количество операций. Для получения каждого элемента нужно свернуть фильтр, который имеет размер К×К с каждым слоем входа.\n",
    "\n",
    "Всё это будет учитываться при построении сетей большего размера.\n"
   ]
  },
  {
   "cell_type": "markdown",
   "metadata": {},
   "source": [
    "Оценка памяти для хранения параметров слоя:"
   ]
  },
  {
   "cell_type": "code",
   "metadata": {},
   "source": [
    "from torch import nn\n",
    "import numpy as np\n",
    "\n",
    "conv_layer = nn.Conv2d(3,64,5,stride = 1, padding = 1)\n",
    "for tag, p in conv_layer.named_parameters():\n",
    "    print('Memory reqired for %s: %.2f kb' % (tag, (np.prod(p.shape) * 4)/1024))"
   ],
   "execution_count": null,
   "outputs": []
  },
  {
   "cell_type": "markdown",
   "metadata": {},
   "source": [
    "(224 \\* 224 \\* 3)*(96 * 11 * 11) = 14450688 * 11 * 11 =  14450688 * 121  =1748533248 - количество операций\n",
    "\n",
    "(224 * 224 * 3) * (96 * 7 * 7) = 14450688 * 7 * 7      121/49  = ~2.5 раза меньше чем 11*11 \n",
    "\n",
    "(224 * 224 * 3) * (96 * 5 * 5) = 14450688 * 5 * 5      49/25 = ~2 раза меньше чем 7*7\n",
    "\n",
    "(224 * 224 * 3) * (96 * 3 * 3) = 14450688 * 3 * 3      25/9 = ~2.7 раза меньше чем 5*5\n"
   ]
  },
  {
   "cell_type": "markdown",
   "metadata": {},
   "source": [
    "### Размер рецептивного поля\n",
    "\n",
    "<center><img src =\"http://edunet.kea.su/repo/src/L09_CNN_Architectures/img_license/l09_8.png\"  width=\"850\"></center>\n",
    "<center><em>Две свёртки 3×3 вместо одной 5×5.</em></center>\n",
    "\n",
    "Авторы стремились уменьшить количество параметров, используя следующую идею:\n",
    "\n",
    "Допустим, мы свернули часть изображения с фильтром 5×5 (на слайде выше — $\\color{green}{\\text{квадрат зеленого цвета}}$), получили одну активацию (одна свёртка — одна активация). Если же начать сворачивать ту же область с фильтром 3×3, то мы получим блок активаций ($\\color{red}{\\text{изображен красным}}$). Но если второй раз применить такой же фильтр (размером 3×3) уже к блоку А2, он его закроет полностью и мы получим единичную активацию.\n",
    "\n",
    "Для того же рецептивного поля свёртка с двумя последовательными фильтрами 3×3 будет эквивалентна свёртке с одним фильтром 5×5. При этом потребуется меньшее количество параметров, потому что в данном случае мы складываем две свёртки. В случае же с одним фильтром 5×5 это зависит от размера фильтра, который возводится в квадрат. Соответственно, $2⋅(3^2⋅𝐶^2)$ меньше, чем $5^2⋅𝐶^2$.\n",
    "\n"
   ]
  },
  {
   "cell_type": "markdown",
   "metadata": {},
   "source": [
    "<center><img src =\"http://edunet.kea.su/repo/src/L09_CNN_Architectures/img_license/l09_9.png\"  width=\"850\"></center>\n",
    "<center><em>Три свёртки 3×3 вместо одной 7×7.</em></center>\n",
    "\n",
    "Если же размер фильтра будет ещё больше, то будет больше и выгода.\n",
    "\n",
    "Получается, что можно заменять фильтры, не теряя при этом их обобщающую способность. К тому же в процессе применения этих нескольких фильтров мы добавляем дополнительные нелинейности, которые нам обеспечивают находящиеся между свёртками функции активации. То есть операция получается достаточно выигрышной.\n"
   ]
  },
  {
   "cell_type": "markdown",
   "metadata": {},
   "source": [
    "##### $\\color{brown}{\\text{Дополнительная информация}}$ \n",
    "\n",
    "Если очень хочется построить картинки с квадратиками самостоятельно"
   ]
  },
  {
   "cell_type": "code",
   "metadata": {},
   "source": [
    "import torch\n",
    "from torch import nn\n",
    "import matplotlib.pyplot as plt\n",
    "import matplotlib.patches as patches\n",
    "import numpy as np\n",
    "\n",
    "input_tensor = torch.randn((1,1,12,12))\n",
    "conv_5x5 = nn.Conv2d(in_channels=1, out_channels=1, kernel_size=(5,5))\n",
    "\n",
    "with torch.no_grad():\n",
    "    out_conv_5x5_1 = conv_5x5(input_tensor)\n",
    "    out_conv_5x5_2 = conv_5x5(out_conv_5x5_1)\n",
    "\n",
    "max_0 = input_tensor.size(-1)\n",
    "max_1 = out_conv_5x5_1.size(-1)\n",
    "max_2 = out_conv_5x5_2.size(-1)\n",
    "\n",
    "fig, ax = plt.subplots(ncols=3, figsize=(15,5))\n",
    "ax[0].imshow(input_tensor.squeeze().numpy(), cmap='Greys', extent = (0,max_0,0,max_0), alpha=0.5)\n",
    "ax[0].set_xticks(np.arange(0,max_0,1))\n",
    "ax[0].set_yticks(np.arange(0,max_0,1))\n",
    "\n",
    "ax[1].imshow(out_conv_5x5_1.squeeze().numpy(), cmap='Greys', extent = (0,max_1,0,max_1), alpha=0.5)\n",
    "ax[1].set_xticks(np.arange(0,max_0,1))\n",
    "ax[1].set_yticks(np.arange(0,max_0,1))\n",
    "\n",
    "ax[2].imshow(out_conv_5x5_2.squeeze().numpy(), cmap='Greys', extent = (0,max_2,0,max_2), alpha=0.5)\n",
    "ax[2].set_xticks(np.arange(0,max_0,1))\n",
    "ax[2].set_yticks(np.arange(0,max_0,1))\n",
    "\n",
    "ax[0].add_patch(\n",
    "     patches.Rectangle(\n",
    "        xy=(6, 6),\n",
    "        width=5,\n",
    "        height=5,\n",
    "        fill=False,\n",
    "        edgecolor='blue',\n",
    "        linewidth=5\n",
    "     )) \n",
    "\n",
    "ax[0].add_patch(\n",
    "     patches.Rectangle(\n",
    "        xy=(6, 6),\n",
    "        width=3,\n",
    "        height=3,\n",
    "        fill=False,\n",
    "        edgecolor='orange',\n",
    "        linewidth=3,\n",
    "     )) \n",
    "\n",
    "ax[0].add_patch(\n",
    "     patches.Rectangle(\n",
    "        xy=(8, 8),\n",
    "        width=3,\n",
    "        height=3,\n",
    "        fill=False,\n",
    "        edgecolor='orange',\n",
    "        linewidth=3,\n",
    "     )) \n",
    "\n",
    "ax[1].add_patch(\n",
    "     patches.Rectangle(\n",
    "        xy=(3, 3),\n",
    "        width=3,\n",
    "        height=3,\n",
    "        fill=False,\n",
    "        edgecolor='red',\n",
    "        linewidth=5\n",
    "     )) \n",
    "\n",
    "ax[1].add_patch(\n",
    "     patches.Rectangle(\n",
    "        xy=(3, 3),\n",
    "        width=1,\n",
    "        height=1,\n",
    "        fill=False,\n",
    "        edgecolor='orange',\n",
    "        linewidth=3\n",
    "     )) \n",
    "\n",
    "ax[1].add_patch(\n",
    "     patches.Rectangle(\n",
    "        xy=(5, 5),\n",
    "        width=1,\n",
    "        height=1,\n",
    "        fill=False,\n",
    "        edgecolor='orange',\n",
    "        linewidth=3\n",
    "     )) \n",
    "\n",
    "ax[2].add_patch(\n",
    "     patches.Rectangle(\n",
    "        xy=(2, 2),\n",
    "        width=1,\n",
    "        height=1,\n",
    "        fill=False,\n",
    "        edgecolor='red',\n",
    "        linewidth=3\n",
    "     )) \n",
    "\n",
    "ax[0].set_title('A0')\n",
    "ax[1].set_title('A1')\n",
    "ax[2].set_title('A2')\n",
    "\n",
    "for a in ax:\n",
    "    a.set_xlim(0,max_0)\n",
    "    a.set_ylim(0,max_0)\n",
    "    a.grid(color='black', linewidth=1, which='major')"
   ],
   "execution_count": null,
   "outputs": []
  },
  {
   "cell_type": "markdown",
   "metadata": {},
   "source": [
    "### Сколько памяти и параметров VGG16"
   ]
  },
  {
   "cell_type": "markdown",
   "metadata": {},
   "source": [
    "<center><img src =\"http://edunet.kea.su/repo/src/L09_CNN_Architectures/img_license/l09_10.png\"  width=\"800\"></center>\n",
    "<center><em>Архитектура VGG16 с параметрами слоев (модифицированно из Simonyan et al., 2014).</em></center>\n",
    "\n",
    "Отчасти благодаря такой экономии получилось сделать большую по тем временам сеть (16 слоев), но, несмотря на способы уменьшить вычислительную сложность и количество параметров, сеть все равно получилась огромной (для 16-тислойной сети одно изображение в памяти занимало 96 МБ).\n",
    "\n",
    "\n"
   ]
  },
  {
   "cell_type": "markdown",
   "metadata": {},
   "source": [
    "<center><img src =\"http://edunet.kea.su/repo/src/L09_CNN_Architectures/img_license/l09_11.png\"  width=\"900\"></center>\n",
    "<center><em>Сравнение параметров AlexNet и VGG16.</em></center>\n",
    "\n",
    "* Основная часть памяти расходуется на большие свёртки в начальных слоях, где пространственные размеры (ширина и высота) велики;\n",
    "\n",
    "* Больше всего весов в полносвязанных слоях;\n",
    "\n",
    "* Вычислительные ресурсы нужны в первую очередь для сверток.\n",
    "\n",
    "\n",
    "VGG-16 получилась существенно больше по сравнению с и так довольно объемной AlexNet, и тем более по сравнению с современными моделями.\n",
    "\n",
    "В значительной степени с этим связано дальнейшее направление развития моделей. В следующем году ImageNet выиграла сеть под названием GoogleNet.\n"
   ]
  },
  {
   "cell_type": "markdown",
   "metadata": {},
   "source": [
    "##### $\\color{brown}{\\text{Дополнительная информация}}$ \n",
    "Оценка ресурсов GPU"
   ]
  },
  {
   "cell_type": "markdown",
   "metadata": {},
   "source": [
    "Что бы убедиться самостоятельно в размерах сетей установим библиотеку для мониторинга ресурсов GPU: "
   ]
  },
  {
   "cell_type": "code",
   "metadata": {},
   "source": [
    "!pip install GPUtil"
   ],
   "execution_count": null,
   "outputs": []
  },
  {
   "cell_type": "code",
   "metadata": {},
   "source": [
    "import humanize\n",
    "import GPUtil as GPU\n",
    "import psutil\n",
    "import os\n",
    "import torch\n",
    "\n",
    "def gpu_usage():\n",
    "    GPUs = GPU.getGPUs()\n",
    "    # XXX: only one GPU on Colab and isn’t guaranteed\n",
    "    if len(GPUs) == 0:\n",
    "        return False\n",
    "    gpu = GPUs[0]\n",
    "    process = psutil.Process(os.getpid())\n",
    "    print(\"GPU RAM Free: {0:.0f}MB | Used: {1:.0f}MB | Util {2:3.0f}% | Total {3:.0f}MB\".format(gpu.memoryFree, gpu.memoryUsed, gpu.memoryUtil*100, gpu.memoryTotal))\n",
    "\n"
   ],
   "execution_count": null,
   "outputs": []
  },
  {
   "cell_type": "markdown",
   "metadata": {},
   "source": [
    "Посмотрим, сколько памяти потребуется VGG19 и какого размера batch можно использовать."
   ]
  },
  {
   "cell_type": "code",
   "metadata": {},
   "source": [
    "import torchvision\n",
    "device = torch.device(\"cuda\" if torch.cuda.is_available() else \"cpu\")\n",
    "\n",
    "vgg19 = torchvision.models.vgg19(pretrained = False, progress = True)\n",
    "vgg19.requires_grad=True\n",
    "vgg19.to(device)\n",
    "\n",
    "!nvidia-smi # Common GPU info\n",
    "\n",
    "vgg19.train()\n",
    "\n",
    "for batch_size in [1,8,16,32,64]:\n",
    "  input = torch.rand(batch_size,3,224,224,device = device)\n",
    "  out = vgg19(input)\n",
    "  print(\"Batch size\", batch_size)\n",
    "  gpu_usage()\n"
   ],
   "execution_count": null,
   "outputs": []
  },
  {
   "cell_type": "markdown",
   "metadata": {},
   "source": [
    "Очистка памяти:"
   ]
  },
  {
   "cell_type": "code",
   "metadata": {},
   "source": [
    "!nvidia-smi "
   ],
   "execution_count": null,
   "outputs": []
  },
  {
   "cell_type": "code",
   "metadata": {},
   "source": [
    " torch.cuda.empty_cache()\n",
    " !nvidia-smi "
   ],
   "execution_count": null,
   "outputs": []
  },
  {
   "cell_type": "code",
   "metadata": {},
   "source": [
    "input = None #del input \n",
    "out = None #del out\n",
    "\n",
    "!nvidia-smi "
   ],
   "execution_count": null,
   "outputs": []
  },
  {
   "cell_type": "markdown",
   "metadata": {},
   "source": [
    "# Обзор сети GoogleNet(2014 г.)\n",
    "\n",
    "[Going Deeper with Convolutions (Szegedy et al., 2014)](https://arxiv.org/abs/1409.4842)\n",
    "\n",
    "В отличие от предшествующих моделей разработана в коммерческой компании с целью реального применения. \n",
    "\n",
    "Поэтому основной упор был сделан на эффективности.\n",
    "\n",
    "\n",
    "<center><img src =\"http://edunet.kea.su/repo/src/L09_CNN_Architectures/img_license/l09_12.png\"  width=\"400\"></center>\n",
    "<center><em>Inception module (модифицированно из Szegedy et al., 2014)</em></center>"
   ]
  },
  {
   "cell_type": "markdown",
   "metadata": {},
   "source": [
    "<center><img src =\"http://edunet.kea.su/repo/src/L09_CNN_Architectures/img_license/l09_12_.png\"  width=\"900\"></center>\n",
    "<center><em>Архитектура GoogleNet (модифицированно из Szegedy et al., 2014)</em></center>\n",
    "\n",
    "GoogleNet (так же часто встречается название Inception) — ещё более глубокая архитектура с 22 слоями. Она содержит всего 5 миллионов параметров — в 12 раз меньше, чем у AlexNet. При этом сеть оказалась немного более точной (ошибка снизилась с 7.3% до 6.7%).\n",
    "\n",
    "Рассмотрим, за счёт чего удалось достичь такого огромного выигрыша в ресурсах, так как многие идеи, которые впервые были использованы для GoogleNet, активно применяются до сих пор.\n"
   ]
  },
  {
   "cell_type": "markdown",
   "metadata": {},
   "source": [
    " ## Inception module\n",
    "\n",
    "<center><img src =\"http://edunet.kea.su/repo/src/L09_CNN_Architectures/img_license/l09_13.png\"  width=\"750\"></center>\n",
    "<center><em>Наивная реализация Inception module (модифицированно из Szegedy et al., 2014)</em></center>\n",
    "\n",
    "\n",
    "* Очень дорогие вычисления;\n",
    "* Слой пулинга также сохраняет глубину признака, что означает, что общая глубина после конкатенации на каждом слое может только расти.\n",
    "\n"
   ]
  },
  {
   "cell_type": "markdown",
   "metadata": {},
   "source": [
    "Для того, чтобы разработать с наибольшей вычислительной эффективностью, был придуман так называемый модуль Inception, основная идея которого заключается в том, что он сам по себе является небольшой локальной сетью. Его архитектура состоит из множества таких модулей, следующих друг за другом.\n",
    "\n",
    "Вместо того, чтобы добавлять новые слои фильтров один над другим, инженеры из Google решили делать свёртки параллельно. Они поместили разные варианты сверток в один блок и объединили их результаты между собой (конкатенация, а не сложенине).\n",
    "\n",
    "То есть фильтры применяются параллельно. Затем результаты объединяются, и создаётся выходной сигнал, который переходит на следующий слой.\n"
   ]
  },
  {
   "cell_type": "markdown",
   "metadata": {},
   "source": [
    "Посмотрим на архитектуру сети в Tensorboard"
   ]
  },
  {
   "cell_type": "code",
   "metadata": {},
   "source": [
    "import os\n",
    "# launching Tensorboard in Colab\n",
    "def reinit_tensorboard(clear_log = True):\n",
    "  # Log files are read from this directory:\n",
    "  logs_base_dir = \"runs\"\n",
    "  if clear_log:\n",
    "    #  clear logs\n",
    "    !rm -rfv {logs_base_dir}/*\n",
    "    os.makedirs(logs_base_dir, exist_ok=True)\n",
    "  # Colab magic\n",
    "  %load_ext tensorboard\n",
    "  %tensorboard --logdir {logs_base_dir}"
   ],
   "execution_count": null,
   "outputs": []
  },
  {
   "cell_type": "code",
   "metadata": {},
   "source": [
    "import torchvision\n",
    "import torch\n",
    "#https://pytorch.org/vision/stable/_modules/torchvision/models/googlenet.html#googlenet\n",
    "#https://hackmd.io/@bouteille/Bk-61Fo8U\n",
    "googlenet = torchvision.models.googlenet()\n",
    "\n",
    "from torch.utils.tensorboard import SummaryWriter\n",
    "\n",
    "reinit_tensorboard(clear_log = True)\n",
    "writer = SummaryWriter(comment = \"googlenet\")\n",
    "input = torch.rand((1,3,224,224))\n",
    "writer.add_graph(googlenet,input)\n",
    "writer.close()\n",
    "\n"
   ],
   "execution_count": null,
   "outputs": []
  },
  {
   "cell_type": "markdown",
   "metadata": {},
   "source": [
    "**Case Study: GoogleNet**\n",
    "\n",
    "<center><img src =\"http://edunet.kea.su/repo/src/L09_CNN_Architectures/img_license/l09_14.png\"  width=\"850\"></center>\n",
    "<center><em>Наивные реализации Inception module и Inception module с уменьшением размерности (модифицированно из Szegedy et al., 2014).</em></center>\n",
    "\n",
    "При таком подходе \"в лоб\" (когда фильтры применяются параллельно) количество фильтров всё равно растет довольно быстро.\n",
    "\n",
    "Чтобы этого избежать, введены так называемые «узкие места» — слои с фильтром 1×1, уменьшающие глубину изображения. Благодаря им удалось достичь того, чтобы количество каналов на входе и на выходе либо не менялось, либо менялось только в моменты, когда это необходимо.\n",
    "\n",
    "Как видно на изображении выше, для свёрток с неединичным фильтром перед ними добавляется свёртка размером 1×1, при этом max pooling ненастоящий, его шаг 1, он не меняет пространственные размеры, а просто выбирает свёртку с максимальным значением из поля 3×3.\n",
    "Такой слой работает более эффективно.\n"
   ]
  },
  {
   "cell_type": "markdown",
   "metadata": {},
   "source": [
    "## 1x1 Convolution\n",
    "\n",
    "\n",
    "\n"
   ]
  },
  {
   "cell_type": "markdown",
   "metadata": {},
   "source": [
    "<center><img src =\"http://edunet.kea.su/repo/src/L09_CNN_Architectures/img_license/l09_15.png\"  width=\"550\"></center>\n",
    "<center><em>Уменьшение глубины изображения с помощью 32 фильтров 1×1.</em></center>\n",
    "\n",
    "Свёртку 1х1 можно сравнить с полносвязанными слоями, когда мы берём столбик из этого тензора и сворачиваем его с некоторым количеством фильтров, получаем на выходе вектор (то есть получаем из одного вектора другой).\n"
   ]
  },
  {
   "cell_type": "markdown",
   "metadata": {},
   "source": [
    "<img src =\"http://edunet.kea.su/repo/src/L09_CNN_Architectures/img_license/l09_16.png\"  width=\"700\">\n",
    "<center><em>Наивная реализация Inception module с уменьшением размерности (модифицированно из Szegedy et al., 2014).</em></center>\n",
    "\n",
    "Количество параметров уменьшается в два с лишним раза по сравнению с лобовой реализацией. Сеть получается значительно экономичнее.\n",
    "\n",
    "Использование таких модулей и отсутствие полносвязных слоёв делают GoogleNet очень эффективной и достаточно точной сетью. Но это далеко не все нововведения, которые появились в этой модели.\n"
   ]
  },
  {
   "cell_type": "markdown",
   "metadata": {},
   "source": [
    "## \"Stem network\"\n",
    "\n",
    "В составе GoogleNet есть небольшая подсеть — Stem Network. Она состоит из трёх свёрточных слоёв с двумя pooling-слоями и располагается в самом начале архитектуры.\n",
    "\n",
    "<center><img src =\"http://edunet.kea.su/repo/src/L09_CNN_Architectures/img_license/l09_17.png\"  width=\"1200\"></center>\n",
    "<center><em>Архитектура GoogleNet (модифицированно из Szegedy et al., 2014). В первых слоях быстро уменьшаются пространственные размеры. </em></center>\n",
    " \n",
    "На входе располагаются свёртки с большим фильтром. Они служат для того, чтобы достаточно быстро и сильно уменьшить пространственные размеры (по сути сжать изображение перед параллельной обработкой), чтобы минимизировать количество элементов в слоях.\n",
    "\n",
    "Отдельно стоит обратить внимание на завершающую часть сети: Global Average Pooling. Несложно заметить, что больше всего параметров появляется в полносвязных слоях, где каждый элемент связан с каждым. Сверточный слой очень экономичный по сравнению с полносвязным. В предыдущих моделях в конце было два полносвязных слоя, в которых находилась большая часть весов.\n"
   ]
  },
  {
   "cell_type": "markdown",
   "metadata": {},
   "source": [
    "## Global Average Pooling\n",
    "\n",
    "[Network In Network, Lin et al., 2013](https://arxiv.org/abs/1312.4400)\n",
    "\n",
    "Полносвязанные слои заменены на GAP.\n",
    "\n",
    "* Меньше весов;\n",
    "* Независимость от размера входа;\n",
    "* Регуляризация;\n",
    "* Уменьшение числа параметров;\n",
    "* Положительно влияет на переобучение.\n",
    "\n",
    "<center><img src =\"http://edunet.kea.su/repo/src/L09_CNN_Architectures/img_license/l09_18.png\"  width=\"570\"></center>\n",
    "<center><em>Global Average Pooling (модифицированно из Lin et al., 2013)</em></center>\n",
    "\n"
   ]
  },
  {
   "cell_type": "markdown",
   "metadata": {},
   "source": [
    "[Блог-пост про Global Average Pooling](https://alexisbcook.github.io/2017/global-average-pooling-layers-for-object-localization/)\n",
    "\n",
    "Идея в том, что все пространственные размеры, какими бы они не были (например, 6х6), сворачиваются в единицу.\n",
    "Мы накладываем фильтр размером 6х6 и берем среднее значение. То есть делаем пулинг с фильтром такого размера. Это происходит независимо по каждому слою.\n",
    "\n",
    "Раньше считалось, что свертывание пространственных измерений трехмерного (пространственно-канального) тензора в сверточной нейронной сети (CNN) в вектор посредством глобального объединения удаляет всю пространственную информацию. Но современные исследования это оспаривают. \n",
    "\n",
    "В частности, в статье [Global Pooling, More than Meets the Eye: Position Information is Encoded Channel-Wise in CNNs (Islam et al., 2021)](https://arxiv.org/abs/2108.07884) авторы демонстрируют, что позиционная информация кодируется на основе упорядочивания размеров каналов, в то время как семантическая информация в основном не кодируется. \n",
    "\n",
    "При этом нам не нужно запоминать кучу параметров, как в полносвязном слое, и таким образом выполняется некоторая регуляризация, которая позволяет, в том числе, бороться с переобучением, ввиду того, что мы избавляемся от части менее важных активаций.\n"
   ]
  },
  {
   "cell_type": "code",
   "metadata": {},
   "source": [
    "# Full list of labels\n",
    "from IPython.display import clear_output \n",
    "!wget 'https://s3.amazonaws.com/deep-learning-models/image-models/imagenet_class_index.json'\n",
    "!git clone https://github.com/ajschumacher/imagen.git\n",
    "clear_output()"
   ],
   "execution_count": null,
   "outputs": []
  },
  {
   "cell_type": "code",
   "metadata": {},
   "source": [
    "import torch.nn as nn\n",
    "import torch\n",
    "from PIL import Image\n",
    "import torchvision \n",
    "\n",
    "def file2tensor(filename):\n",
    "  img = Image.open(filename)\n",
    "  t = torchvision.transforms.functional.to_tensor(img)\n",
    "  t = torchvision.transforms.functional.normalize(t, (0.485, 0.456, 0.406), (0.229, 0.224, 0.225))\n",
    "  return t\n",
    "\n",
    "class CNNfromHW(nn.Module):\n",
    "\n",
    "    def __init__(self,conv_module = None):\n",
    "        super().__init__()\n",
    "        self.activation = nn.ReLU()\n",
    "        self.conv1 = nn.Conv2d(3,16,5,padding=2) # 16xHxW\n",
    "        self.pool = nn.MaxPool2d(2,2) # 16 x H/2 x W/2 \n",
    "        self.conv2 = nn.Conv2d(16,32,3,padding=1) # 32 x H/2 x W/2\n",
    "        self.gap = nn.AdaptiveAvgPool2d((1,1)) # Any spatial size -> 32x1x1\n",
    "        self.fc = nn.Linear(32,10)        \n",
    "\n",
    "    def forward(self, x):\n",
    "        print(\"Input shape\",x.shape)\n",
    "        x = self.conv1(x) # 16xHxW\n",
    "        x = self.pool(x) # 16 x H/2 x W/2 \n",
    "        x = self.conv2(x) # 32 x H/2 x W/2\n",
    "        x = self.activation(x) # Any spatial size -> 32x1x1\n",
    "        x = self.gap(x)\n",
    "        scores = self.fc(x.flatten(1))\n",
    "        print(\"Output shape\",scores.shape)\n",
    "        return scores\n",
    "\n",
    "print(\"CIFAR10 like\")\n",
    "input = torch.rand(1,3,32,32)\n",
    "model_with_gap = CNNfromHW()\n",
    "out = model_with_gap(input)\n",
    "\n",
    "\n",
    "print(\"Arbitrary size\")\n",
    "# Different sizes work too!\n",
    "aramdillo_t = file2tensor('imagen/imagen/n02454379_10511_armadillo.jpg')\n",
    "out = model_with_gap(aramdillo_t.unsqueeze(0))\n",
    "\n"
   ],
   "execution_count": null,
   "outputs": []
  },
  {
   "cell_type": "markdown",
   "metadata": {},
   "source": [
    "## Затухание градиента\n",
    "\n",
    "**GoogleNet: дополнительный классификатор**\n",
    "\n",
    "<center><img src =\"http://edunet.kea.su/repo/src/L09_CNN_Architectures/img_license/l09_19.png\"  width=\"700\"></center>\n",
    "<center><em>Архитектура GoogleNet (модифицированно из Szegedy et al., 2014). Отдельно вынесен блок - дополнительный классификатор.</em></center>\n",
    "\n",
    "Помимо основного классификатора на выходе сети добавлены два дополнительных классификатора, встроенных в промежуточные слои. Они понадобились для того, чтобы улучшить обратное распространение градиента, потому что без батч-нормализации в таких глубоких сетях градиент очень быстро затухал, и обучить сеть такого размера было серьёзной проблемой.\n",
    "\n",
    "Обучение VGG осуществлялось непростым способом: сначала обучали 7 слоев, затем добавляли туда следующие и обучали это вручную. Без использования батч-нормализации вряд ли получится повторить результат.\n",
    "\n",
    "Google подошел более системно, он добавил дополнительные выходы, которые способствовали тому, чтобы градиент меньше затухал. Благодаря этому удалось решить серьёзную на тот момент проблему, которая ограничивала возможность обучения глубоких моделей.\n",
    "Статья про батч-нормализацию появилась как раз в 15ом году, видимо уже после выхода этой модели.\n"
   ]
  },
  {
   "cell_type": "markdown",
   "metadata": {},
   "source": [
    "# Появление \"глубоких\" моделей (deep models)\n",
    "\n",
    "<center><img src =\"http://edunet.kea.su/repo/src/L09_CNN_Architectures/img_license/l09_20.png\"  width=\"750\"></center>\n",
    "<center><em>Победители ImageNet Large Scale Visual Recognition Challenge (ILSVRC).</em></center>\n",
    "\n",
    "В 15ом году появились существенно более глубокие модели. "
   ]
  },
  {
   "cell_type": "markdown",
   "metadata": {},
   "source": [
    "# Обзор сети ResNet(2015 г.)\n",
    "\n",
    "**2015 увеличение количества слоев**\n",
    "\n",
    "[Deep Residual Learning for Image Recognition (He et al., 2015)](https://arxiv.org/abs/1512.03385)\n",
    "\n",
    "<center><img src =\"http://edunet.kea.su/repo/src/L09_CNN_Architectures/img_license/l09_21.png\"  width=\"550\"></center>\n",
    "<center><em>График обучения и теста двух модификаций ResNet с 20 и 56 слоями соответственно (модифицированно из He et al., 2015).</em></center>\n",
    "\n",
    "Но одной батч-нормализации было недостаточно, потому что появилась возможность благодаря ее использованию тренировать сети с большим количеством слоев (на слайде выше — пример 56-слойной сети Microsoft). Но, как видно из графиков, у неё ошибка и на тренировочном, и на тестовом датасете больше, чем у 20-тислойной сети.\n",
    "\n",
    "\n",
    "В 2015 году соревнования выиграла сеть ResNet, произведя настоящую революцию глубины нейросетей. Она состояла из 152 слоёв и снизила процент ошибок до 3,57%. Это сделало её почти в два раза эффективнее GoogleNet.\n",
    "\n",
    "Возникло предположение, что сеть, состоящая из большего количества слоёв должна работать как минимум не хуже, чем сеть меньшего размера, потому что в ней есть те же 20 слоев.\n",
    "\n",
    "Что же происходит с нейросетью, когда мы увеличиваем число слоёв? Можно ли, взяв обычную архитектуру вроде VGG, просто накидывать (*stacking*) всё больше и больше слоёв друг на друга и достигать лучшей точности? Нет, нельзя. Скорее всего, более глубокая нейросеть покажет даже худшие результаты как при обучении, так и при тестировании. И переобучение здесь не при чём, поскольку тогда ошибка на train была бы низкой.\n",
    "\n",
    "Можно провести подобную аналогию: если мы видим изображение какое-то короткое время и нам нужно быстро его описать, мы скорее всего заметим какие-то крупные объекты (сцена: либо это помещение, либо лес, улица, возможно, мы отметим фигуры людей на переднем плане или же автомобили, здания). Если же требуется более подробно описать рассмотреть и описать картинку, мы уже к этому же имеющемуся описанию, добавим детали: во что одеты люди, какого цвета машины, погода и так далее.\n",
    "\n",
    "Возможно, руководствуясь подобными соображениями, был придуман остаточный слой (residual).\n"
   ]
  },
  {
   "cell_type": "markdown",
   "metadata": {},
   "source": [
    "## Resudial connection\n",
    "\n",
    "<center><img src =\"http://edunet.kea.su/repo/src/L09_CNN_Architectures/img_license/l09_22.png\"  width=\"700\"></center>\n",
    "<center><em>Сравнение Residual Block с \"обычными\" слоями (модифицированно из He et al., 2015).</em></center>\n",
    "\n",
    "* сумма, а не конкатенация;\n",
    "* Batch normalization присутствует.\n",
    "\n",
    "\n",
    "Идея Residual Block состоит в том, что мы к имеющемуся уже набору признаков добавляем значения некоторых новых: то есть не перезаписываем то, что было на предыдущем слое, а копируем признаки, сохраняем их и через несколько слоев суммируем (а не конкатенируем) их с результатами свёрток на нескольких слоях, которые здесь присутствуют.\n",
    "\n",
    "Всё это вместе называется остаточным слоем или residual block.\n",
    "\n",
    "Применение этого метода дало потрясающий эффект: с одной стороны, по этому каналу стал хорошо распространяться градиент без дополнительных хаков, с другой стороны, перестали теряться важные свойства, которые удалось выделить на предыдущих блоках.\n",
    "\n",
    "Если сеть из 20ти слоев способна распознавать ImageNet с точностью более 90%, значит что в этих слоях уже содержится большая часть информации, а детали не должны её затирать. Такая архитектура показала очень хороший результат.\n"
   ]
  },
  {
   "cell_type": "markdown",
   "metadata": {},
   "source": [
    "## Архитектура ResNet\n",
    "\n",
    "<center><img src =\"http://edunet.kea.su/repo/src/L09_CNN_Architectures/img_license/l09_23.png\"  width=\"730\"></center>\n",
    "<center><em>Архитектура ResNet (модифицированно из He et al., 2015). Используется стаккинг residual blocks, каждый residual block состоит из двух 3x3 conv слоев, переодически количество фильтров в свертках удваиваеется, а размер выходных слоев уменьшается в 2 раза (за счет stride = 2). Добавился дополнительный conv слой в начале сети. Отсутствуют FC слои (кроме последнего который предсказывает класс).</em></center>\n",
    "\n",
    "Из таких блоков удалось построить очень глубокую сеть (были эксперименты из 1000 слоев). Для решения конкретной задачи победы на ImageNet хватило 150 слоев (добавление большего количества блоков уже не давало прироста точности).\n",
    "\n",
    "В ResNet используются многие идеи, которые присутствовали в предыдущих моделях: вначале изображение резко уменьшается, дальше используются блоки 3х3, как в VGG, далее применяется глобальный пулинг вместо полносвязных слоев. Блоки состоят из конструкций, изображенных выше: две свёртки 3Х3 и прибавление результата предыдущего слоя.\n",
    "\n",
    "Также на каждом слое перед активацией используется батч-нормализация.\n"
   ]
  },
  {
   "cell_type": "markdown",
   "metadata": {},
   "source": [
    "##### $\\color{brown}{\\text{Дополнительная информация}}$ \n",
    "ResNet for ImageNet"
   ]
  },
  {
   "cell_type": "markdown",
   "metadata": {},
   "source": [
    "\n",
    "<img src =\"http://edunet.kea.su/repo/src/L09_CNN_Architectures/img_license/l09_24.png\"  width=\"830\">\n",
    "\n",
    "Если посмотреть на реализацию ImageNet, то вот что происходит с размерами изображения: сначала его уменьшают обычной свёрткой с большим фильтром, а потом, в зависимости от глубины сети, идёт некоторое количество блоков без уменьшения, затем происходит даунсэмплинг. При этом здесь используется не pulling, а просто свёртка с шагом 2.\n",
    "\n",
    "Таким образом, через некоторый набор этих блоков, вес изображений уменьшается в два раза. На выходе average pooling. Даже такая огромная 152-хслойная сеть с точки зрения потребления ресурсов получилось более эффективной, чем VGG-19.\n"
   ]
  },
  {
   "cell_type": "markdown",
   "metadata": {},
   "source": [
    "## ResNet: bottleneck layer\n",
    "\n",
    "<center><img src =\"http://edunet.kea.su/repo/src/L09_CNN_Architectures/img_license/l09_25.png\"  width=\"450\"></center>\n",
    "<center><em>В более глубоких сетях (ResNet-50+) для повышения эффективности используется слой \"bottleneck\" (похожим образом, что и в GoogLeNet). Модифицированно из He et al., 2015.</em></center>\n",
    "\n",
    "Вес изображений уменьшается в два раза. На выходе average pooling. Даже такая огромная 152-х слойная сеть с точки зрения потребления ресурсов получилось более эффективной, чем VGG-19.\n",
    "\n",
    "Это ещё было достигнуто также за счёт того, что в более глубоких сетях вместо двух блоков 3х3 применялся более эффективный блок - *bottleneck*, где сначала происходит свёртка 1х1 и мы уменьшаем количество фильтров. С этим маленьким количеством фильтров делаем свёртку 3х3, а потом восстанавливаем количество фильтров до начальных значений, чтобы можно было прибавить к ним вход, иначе у нас не совпадут размерности."
   ]
  },
  {
   "cell_type": "markdown",
   "metadata": {},
   "source": [
    "## ResNet реализация в Pytorch\n",
    "\n",
    "<center><img src =\"http://edunet.kea.su/repo/src/L09_CNN_Architectures/img_license/l09_26.png\"  width=\"800\"></center>\n",
    "<center><em>Код для базового блока и для bottleneck для сетей со количеством слоев до 50. </em></center>\n",
    "\n",
    "Так выглядит в коде этот базовый блок для сетей со слоями до 50 слоёв. То есть  свёртка, батч-нормализация, активация, свёртка, батч-нормализация. Если некоторый параметр (downsample) задан, то вызывается несколько слоев для downsampling: то есть это свёртка и ReLU с батч-нормализацией. Реализовано путем простого прибавления значения выходов к входам. \n",
    "\n",
    "\n",
    "[Модель ResNet на Torchvision](https://pytorch.org/docs/stable/_modules/torchvision/models/resnet.html)\n"
   ]
  },
  {
   "cell_type": "code",
   "metadata": {},
   "source": [
    "from torchvision import models,utils\n",
    "resnet = models.resnet18(pretrained=False)\n",
    "print(resnet)"
   ],
   "execution_count": null,
   "outputs": []
  },
  {
   "cell_type": "markdown",
   "metadata": {},
   "source": [
    "##### $\\color{brown}{\\text{Дополнительная информация}}$ \n",
    "Инициализация весов для ResNet"
   ]
  },
  {
   "cell_type": "markdown",
   "metadata": {},
   "source": [
    "[2019 Fixup Initialization: Residual Learning Without Normalization (Zhang et. al, 2019)](https://arxiv.org/abs/1901.09321)\n",
    "\n",
    "<center><img src =\"http://edunet.kea.su/repo/src/L09_CNN_Architectures/img_license/l09_27.png\"  width=\"270\"></center>\n",
    "<center><em>Residual Block (модифицированно из He et al., 2015).</em></center>\n",
    "\n",
    "Если инициализировать веса с помощью случайного Гауссова распределения, где mean=0, а variance=2/n (MSRA), то мы получим, что $\\text{Var}(F(x)) = \\text{Var}(x)$, при этом $\\text{Var}(F(x) + x) > \\text{Var}(x)$ -> variance увеличивается с каждым новым слоем!\n",
    "\n",
    "Решение: инициализировать первый conv слой с помощью MSRA, а второй conv слой - нулями. Тогда $\\text{Var}(x + F(x)) = \\text{Var}(x)$.\n",
    "\n",
    "\n",
    "\n",
    "[Блог-пост про Fixup Initialization](https://towardsdatascience.com/understanding-fixup-initialization-6bf08d41b427)\n",
    "\n",
    "В дополнение можно заметить, что не так давно вышла статья, где авторы обратили внимание, что правила, которые мы рассматривали для инициализации (что дисперсия входов должна равняться дисперсии выходов) нарушается при таком подходе, потому что мы здесь к выходам добавляем некоторые значения. Авторы  предлагают решить эту проблему довольно странным на первый взгляд способом — обнулить веса 2-ого слоя в блоке при инициализации. На первый взгляд это звучит как ошибка. Но поскольку значение cо входа будут сложены с выходами блока, то при обратном распространении градиент не будет нулевым.\n",
    "\n"
   ]
  },
  {
   "cell_type": "markdown",
   "metadata": {},
   "source": [
    "\n",
    "## Обучение ResNet\n",
    "\n",
    "<center><img src =\"http://edunet.kea.su/repo/src/L09_CNN_Architectures/img_license/l09_28.png\"  width=\"550\"></center>\n",
    "<center><em>График обучения и теста двух модификаций ResNet с 20 и 56 слоями соответственно (модифицированно из He et al., 2015).</em></center>\n",
    "\n",
    "Когда точность выходила на плато, шаг обучения понижали вручную. Это давало хороший эффект: ошибка падала.\n",
    "\n",
    "Помимо того, что ResNet c огромным отрывом выиграла ImageNet у моделей прошлого года и, как уже видно по некоторым исследованиям, её результаты лучше, чем у человека, решения на базе этой архитектуры также стали победителями на соревнованиях по детектированию и сегментации.\n"
   ]
  },
  {
   "cell_type": "markdown",
   "metadata": {},
   "source": [
    "# Обзор сети ResNeXt(2016 г.)\n",
    "\n",
    "[2016 Aggregated Residual Transformations for Deep Neural Networks (Xie et al., 2016)](https://arxiv.org/abs/1611.05431)\n",
    "\n",
    "<center><img src =\"http://edunet.kea.su/repo/src/L09_CNN_Architectures/img_license/l09_34.png\"  width=\"550\"></center>\n",
    "<center><em>Сравнение блоков ResNet и ResNeXt (Адаптировано из Xie et al., 2016). ResNeXt создан тем же коллективом авторов, что и ResNet. Увеличение ширины residual block достигается путем использования параллельных веток \"cardinality\"), которые по духу, схожи с Inception module. </em></center>\n",
    "\n",
    "Еще одна идея — это ResNeXt. Эта сеть выиграла ImageNet в следующем году. Здесь налицо заимствование идеи от Inception модуля. Можно обрабатывать не сразу все каналы, а распараллелить обработку и обрабатывать по несколько каналов. \n",
    "\n",
    "Эта идея уже была в AlexNet, но она там присутствовала вынужденно, потому что AlexNet обучали на двух видеокартах параллельно, просто в силу того, что модель не помещалась в память одной видеокарты на тот момент (видеокарты были по 3 Гб) и уже в конце на полносвязных слоях объединяли результаты двух карт, то есть там обработка происходила параллельно вынужденным образом. \n"
   ]
  },
  {
   "cell_type": "code",
   "metadata": {},
   "source": [
    "from torchvision import models,utils\n",
    "resnext = models.resnext50_32x4d(pretrained=False)\n",
    "print(resnext)"
   ],
   "execution_count": null,
   "outputs": []
  },
  {
   "cell_type": "markdown",
   "metadata": {},
   "source": [
    "## Groupped Convolution\n",
    "\n",
    "[Блог-пост про различные типы сверток](https://towardsdatascience.com/a-comprehensive-introduction-to-different-types-of-convolutions-in-deep-learning-669281e58215)\n",
    "\n",
    "<center><img src =\"http://edunet.kea.su/repo/src/L09_CNN_Architectures/img_license/l09_35.png\"  width=\"600\"></center>\n",
    "<center><em>Групповые свертки позволяют обрабатывать входных данные параллельно. В качестве бонуса - уменьшение числа параметров, и дополинтельная регуляризация.</em></center>\n",
    "\n",
    "На изображении выше на AlexNet видно, что сеть у них разделена на 2 части. \n",
    "\n",
    "Это демонстрация того, как это работает в обычном слое: можно каким-то образом разделить тензор так, что часть каналов начнет обрабатываться одной свёрткой, а часть другой, а потом их просто конкатенировать. Глубина фильтров, которые потребуются для этой свёртки, будет меньше. \n",
    "\n"
   ]
  },
  {
   "cell_type": "markdown",
   "metadata": {},
   "source": [
    "## Grouped convolution in Pytorch\n"
   ]
  },
  {
   "cell_type": "markdown",
   "metadata": {},
   "source": [
    "Не нужно дожидаться результатов предыдущих операций, можем считать их параллельно. Этот механизм уже заложен в свёртку, которой пользовались в pytorch. Параметр group = 1, по умолчанию. Это означает, что групп нет."
   ]
  },
  {
   "cell_type": "markdown",
   "metadata": {},
   "source": [
    "Сравним время которое требуется на обычную свертку с `groups = 1` и `groups = 64`"
   ]
  },
  {
   "cell_type": "code",
   "metadata": {},
   "source": [
    "# CPU test\n",
    "from torch import nn\n",
    "import time \n",
    "import torch\n",
    "\n",
    "def time_synchronized():\n",
    "    torch.cuda.synchronize() if torch.cuda.is_available() else None\n",
    "    return time.time()\n",
    "\n",
    "input = torch.rand(8,512,112,112)\n",
    "start = time_synchronized() \n",
    "normal_conv = nn.Conv2d(512,1024,3,groups = 1)\n",
    "out = normal_conv(input)\n",
    "tm = time_synchronized() -start\n",
    "print(f\"Normal convolution take  {tm} sec.\")\n",
    "\n",
    "start = time_synchronized() \n",
    "groupped_conv = nn.Conv2d(512,1024,3,groups = 64)\n",
    "out = groupped_conv(input)\n",
    "tm = time_synchronized() -start\n",
    "print(f\"Groupped convolution take  {tm} sec.\")\n",
    "\n",
    "\n"
   ],
   "execution_count": null,
   "outputs": []
  },
  {
   "cell_type": "code",
   "metadata": {},
   "source": [
    "# GPU test\n",
    "start = time_synchronized() \n",
    "normal_conv = nn.Conv2d(512,1024,3,groups = 1).to(device)\n",
    "out = normal_conv(input.to(device))\n",
    "tm = time_synchronized() -start\n",
    "print(f\"Normal convolution take  {tm} sec.\")\n",
    "\n",
    "start = time_synchronized() \n",
    "groupped_conv = nn.Conv2d(512,1024,3,groups = 64).to(device)\n",
    "out = groupped_conv(input.to(device))\n",
    "tm = time_synchronized() -start\n",
    "print(f\"Groupped convolution take  {tm} sec.\")"
   ],
   "execution_count": null,
   "outputs": []
  },
  {
   "cell_type": "markdown",
   "metadata": {},
   "source": [
    "Очистим память:\n",
    "\n"
   ]
  },
  {
   "cell_type": "code",
   "metadata": {},
   "source": [
    "input = None\n",
    "out = None"
   ],
   "execution_count": null,
   "outputs": []
  },
  {
   "cell_type": "markdown",
   "metadata": {},
   "source": [
    "## ResNext, Inception, grouped conv\n",
    "\n",
    "\n",
    "<img src =\"http://edunet.kea.su/repo/src/L09_CNN_Architectures/img_license/l09_37.png\"  width=\"850\">\n",
    "\n",
    "[Блог-пост про ResNeXt](https://towardsdatascience.com/review-resnext-1st-runner-up-of-ilsvrc-2016-image-classification-15d7f17b42ac)\n",
    "\n",
    "ResNeXt повторяет строительный блок, который объединяет набор преобразований с одинаковой топологией. По сравнению с ResNet, он раскрывает новое измерение, кардинальность (размер набора преобразований), как существенный фактор в дополнение к измерениям глубины и ширины.\n",
    "\n",
    "То есть эта операция сгруппированных сверток оказалась достаточно эффективной. \n"
   ]
  },
  {
   "cell_type": "markdown",
   "metadata": {},
   "source": [
    "## Feature extraction\n",
    "\n",
    "<img src =\"http://edunet.kea.su/repo/src/L09_CNN_Architectures/img_license/l09_30.png\"  width=\"650\">\n",
    "\n",
    "Дело в том, что в процессе выполнения задачи классификации картинок у нас появляются веса, которые отвечают за распознавание разных особенностей, разных паттернов на изображениях. Эти веса в свёрточных слоях представляют большую ценность, потому что мы можем их использовать в данном случае для классификации.\n",
    "\n",
    "\n",
    "\n",
    "\n",
    "<img src =\"http://edunet.kea.su/repo/src/L09_CNN_Architectures/img_license/l09_30_.png\"  width=\"650\">"
   ]
  },
  {
   "cell_type": "markdown",
   "metadata": {},
   "source": [
    "Но для решения другой задачи мы можем часть сети просто отрезать и заменить её чем-то еще:\n",
    "\n",
    "<img src =\"http://edunet.kea.su/repo/src/L09_CNN_Architectures/img_license/l09_31.png\"  width=\"650\">\n",
    "\n",
    "\n",
    "Например, мы можем на основании карт активаций, которые мы получили (которые уже намного меньше, чем были начальные изображения) проводить детектирование в этих картах, проводить сегментацию, можем генерировать вектора признаков (embedding) для разных задач: для сравнения изображений, для распознавания лиц, трекинга и многого другого.\n",
    "\n",
    "Часть сети (слева) является достаточно универсальной и получить эти веса можно, обучая сеть распознавать изображения для классификации, а потом использовать ещё  каким-то образом, возможно даже ещё не придуманным в настоящий момент. \n",
    "\n",
    "Эта часть сети называется backbone (скелет, основа), на которые уже строятся какие-то дополнительные алгоритмы.\n"
   ]
  },
  {
   "cell_type": "markdown",
   "metadata": {},
   "source": [
    "# Сравнение моделей\n",
    "\n",
    "[Benchmark Analysis of Representative\n",
    "Deep Neural Network Architectures (Bianco et al., 2018)](https://arxiv.org/abs/1810.00736)\n",
    "\n",
    "<center><img src =\"http://edunet.kea.su/repo/src/L09_CNN_Architectures/img/L09_CNN_Architectures_32.png\"  width=\"800\"></center>\n",
    "<center><em>Сравнение моделей по параметрам Точность vs Количество операций (Bianco et al., 2018)</em></center>\n",
    "\n",
    "Картинка из статьи 18 года, то есть не последняя, но тем не менее, на них довольно наглядно собрано много информации: здесь есть информация и о размере модели, и о скорости, и о точности. Здесь можно увидеть, что VGG — огромные по объёму модели, но по нынешним меркам они обладают средней точностью. Они требуют больших вычислительных ресурсов, поэтому сейчас их имеет смысл использовать разве что в учебных целях, а модели на базе ResNet (ResNet-50, ResNet-152) довольно хороши: в плане точности какого-то большого отрыва от них здесь не видно. Но, тем не менее, есть модели, которые работают несколько лучше. Рассмотрим их кратко, чтобы было понимание того, куда двигалась мысль в этой области.\n"
   ]
  },
  {
   "cell_type": "markdown",
   "metadata": {},
   "source": [
    "# Обзор сети DenseNet(2016 г.)\n",
    "\n",
    "[Densely Connected Convolutional Networks (Huang et al., 2016)](https://arxiv.org/abs/1608.06993)\n",
    "\n",
    "<center><img src =\"http://edunet.kea.su/repo/src/L09_CNN_Architectures/img_license/l09_33.png\"  width=\"350\"></center>\n",
    "<center><em>Архитектура DenseNet (адаптировано из Huang et al., 2016). Используется несколько \"обходов\" и конкатенация вместо суммы. </em></center>\n",
    "\n",
    "Один из вариантов, что можно сделать — это добавить еще дополнительных связей в обход блоков, чтобы градиент проходил ещё лучше.\n",
    "\n",
    "Можно заменить сумму на конкатенацию. Это тоже работает, но надо понимать, что конкатенация увеличивает количество признаков. Видимо, с этим можно бороться засчет свёрток 1Х1. Это так называемый DenseNet. С точки зрения ресурсов он, как правило, чуть более требовательный, чем базовый ResNet и немного более точный. \n",
    "\n"
   ]
  },
  {
   "cell_type": "code",
   "metadata": {},
   "source": [
    "from torchvision import models,utils\n",
    "densenet = models.densenet121(pretrained=False)\n",
    "print(densenet)"
   ],
   "execution_count": null,
   "outputs": []
  },
  {
   "cell_type": "markdown",
   "metadata": {},
   "source": [
    "##### $\\color{brown}{\\text{Дополнительная информация}}$ \n",
    "##### 2016 WideResNet\n",
    "\n",
    "[Wide Residual Networks (Zagoruyko et al., 2016)](https://arxiv.org/abs/1605.07146)\n",
    "\n",
    "<center><img src =\"http://edunet.kea.su/repo/src/L09_CNN_Architectures/img_license/l09_38.png\"  width=\"350\"></center>\n",
    "<center><em>Сравнение базового ResBlock и Широкого ResBlock, где используются $F \\times k$ фильтры вместо $F$ фильтров в каждом слое (адаптировано из Zagoruyko et al., 2016).</em></center>\n",
    "\n",
    "Ещё одна идея, связанная уже не с распараллеливанием, а с увеличением количества фильтров: мы можем увеличивать количество фильтров и уменьшить количество слоёв. В такого рода моделях первая цифра — это количество слоёв, вторая — коэффициент, с которым мы увеличиваем количество наших фильтров.\n",
    "\n",
    "Авторы утверждают что сами по себе residuals значительно более важный фактор, чем глубина. Так же стоит отметить что 50 слойный Wide ResNet показывает лучшие результаты чем оригинальный 152-х слойный ResNet. С точки зрения вычислительных ресурсов использование ширины вместо глубины - более эффективно (parallelizable)."
   ]
  },
  {
   "cell_type": "markdown",
   "metadata": {},
   "source": [
    "# Архитектура SENet(2017 г.)\n",
    "\n",
    "[Squeeze-and-Excitation Networks (Hu et al., 2017)](https://arxiv.org/abs/1709.01507)\n",
    "\n",
    "[Блог-пост про Squeeze-and-Excitation Networks](https://towardsdatascience.com/squeeze-and-excitation-networks-9ef5e71eacd7)\n",
    "\n",
    "<center><img src =\"http://edunet.kea.su/repo/src/L09_CNN_Architectures/img_license/l09_39.png\"  width=\"700\"></center>\n",
    "<center><em>Архитектура сети SENet (адаптировано из Hu et al., 2017). Добавлен модуль для взвешивания признаков, используется GAP + 2 FC слоя. Победитель ILSVRC`17 с использованием ResNeXt-152 в качестве базовой архитектуры.</em></center>"
   ]
  },
  {
   "cell_type": "markdown",
   "metadata": {},
   "source": [
    "# Обзор сети MobileNet(2017 г.)\n",
    "\n",
    "[MobileNets: Efficient Convolutional Neural Networks for Mobile Vision Applications (Howard et al., 2017)](https://arxiv.org/abs/1704.04861)\n",
    "\n",
    "<center><img src =\"http://edunet.kea.su/repo/src/L09_CNN_Architectures/img_license/l09_40.png\"  width=\"380\"></center>\n",
    "<center><em>Сравнение сложности вычисления стандартной сети и MobileNet (адаптировано из Howard et al., 2017). Обычные свертки заменены depthwise свёрткой и свёрткой 1х1. Более вычислительно эффективна при небольшой потери точности;\n",
    "Используются в архитектурах mobileNetV2, ShuffleNet итд ...</em></center>"
   ]
  },
  {
   "cell_type": "markdown",
   "metadata": {},
   "source": [
    "MobileNet — это сверточная нейронная сеть, специально созданная для работы на CPU на мобильных устройствах с помощью комбинации аппаратно-ориентированного поиска архитектуры сети (*Neural Search*) и последующего улучшения за счёт новых достижений в архитектуре, таких как: новые эффективные версии функций активаций, практичные для мобильных устройств и новый эффективный дизайн сети.\n",
    "\n",
    "Дизайн сети включает в себя использование жесткой активации swish и модулей squeeze-and-excitation в блоках MBConv.\n",
    "\n",
    "Давайте разберемся что это такое."
   ]
  },
  {
   "cell_type": "markdown",
   "metadata": {},
   "source": [
    "## Swish"
   ]
  },
  {
   "cell_type": "markdown",
   "metadata": {},
   "source": [
    "Эксперименты исследователей из Google, показали, что функция [Swish](https://arxiv.org/pdf/1710.05941v1.pdf) показывает лучшие результаты точности, в глубоких моделях. Простая замена ReLU на Swish дала прирост 0.9% точности для Mobile NASNet-A(на ImageNet challenge).\n",
    "\n",
    " Посмотрим, что из себя представляет активация Swish:\n",
    " $$f(x) = x*\\sigma(\\beta x)$$\n",
    "\n",
    "\n",
    "\n"
   ]
  },
  {
   "cell_type": "markdown",
   "source": [
    "Мы видим сигмоиду и некий параметр $ \\beta $, который может быть опеределен как константа или как обучаемый параметр. \n",
    "\n",
    "* Если $\\beta = 0$, Swish становится линейной функцией $f(x) = \\frac{x}{2} $\n",
    "\n",
    "* Если $\\beta\\to \\infty$ сигмоидная составляющая приближается к пороговой функции, поэтому Swish становится похожим на функцию ReLU. \n",
    "\n",
    "То есть, нелинейность функции swish может контролироваться моделью, если $\\beta$ задан в качестве обучаемого параметра.\n",
    "\n",
    "Самое главнное отличе Swish от ReLU это ее немонотонность."
   ],
   "metadata": {}
  },
  {
   "cell_type": "markdown",
   "source": [
    "Ниже на графике представлено распределение значений, которые принимает $ \\beta $ (являясь обучемым параметром) при обучении Mobile NASNet-A. Видно, что значения распределены от 0 до 1.5, также виден резкий пик при значении = 1.  "
   ],
   "metadata": {}
  },
  {
   "cell_type": "markdown",
   "source": [
    "\n",
    "<center><img src =\"https://edunet.kea.su/repo/src/L09_CNN_Architectures/img/L09_swish_b_parameter.png\"  width=\"500\"></center"
   ],
   "metadata": {}
  },
  {
   "cell_type": "markdown",
   "source": [
    "Поэтому, на практике(потому, что это менее трудозатратно) используют Swish со значением $\\beta = 1$. В PyTorch такая реализация вызывается `nn.SiLU()` (**Si**gmoid **L**inear **U**nit) "
   ],
   "metadata": {}
  },
  {
   "cell_type": "code",
   "metadata": {},
   "source": [
    "import matplotlib.pyplot as plt\n",
    "from torch import nn\n",
    "silu = nn.SiLU()\n",
    "\n",
    "array = np.arange(-5, 5, 0.01)\n",
    "activated = silu(torch.Tensor(array))\n",
    "\n",
    "plt.figure(figsize=(8, 4), dpi=100)\n",
    "plt.plot(array, activated, label='$f(x)=x*\\sigma(x)$')\n",
    "plt.legend()\n",
    "plt.grid()\n",
    "plt.title('SiLU')\n",
    "plt.show()"
   ],
   "execution_count": null,
   "outputs": []
  },
  {
   "cell_type": "markdown",
   "metadata": {},
   "source": [
    "## Depthwise separable convolution\n",
    "\n",
    "В то время, как стандартная свёртка выполняет поканальные и пространственно-временные вычисления за один шаг, разделимая по глубине свёртка (*Depthwise separable convolution*) разделяет вычисления на два этапа: глубинная свёртка применяет один свёрточный фильтр для каждого входного канала, а точечная свёртка используется для создания линейной комбинации выходных данных глубинной свёртки. \n",
    "\n",
    "<img src =\"http://edunet.kea.su/repo/src/L09_CNN_Architectures/img_license/l09_41.png\"  width=\"650\">"
   ]
  },
  {
   "cell_type": "markdown",
   "metadata": {},
   "source": [
    "<img src =\"http://edunet.kea.su/repo/src/L09_CNN_Architectures/img_license/l09_42.png\"  width=\"650\">"
   ]
  },
  {
   "cell_type": "code",
   "metadata": {},
   "source": [
    "from torchvision import models,utils\n",
    "mobilenet = models.mobilenet_v3_small(pretrained=False)\n",
    "print(mobilenet)"
   ],
   "execution_count": null,
   "outputs": []
  },
  {
   "cell_type": "markdown",
   "metadata": {},
   "source": [
    "## Shuffled Grouped Convolution\n",
    "\n",
    "<img src =\"http://edunet.kea.su/repo/src/L09_CNN_Architectures/img_license/l09_43.png\"  width=\"750\">"
   ]
  },
  {
   "cell_type": "markdown",
   "metadata": {},
   "source": [
    "# Neural Architecture Search\n",
    "\n",
    "[Neural Architecture Search with Reinforcement Learning (Zoph et al., 2016)](https://arxiv.org/abs/1611.01578)\n",
    "\n",
    "<center><img src =\"http://edunet.kea.su/repo/src/L09_CNN_Architectures/img_license/l09_44.png\"  width=\"600\"></center>\n",
    "<center><em>Схема автоматического поиска архитектуры нейронных сетей (адаптировано из Zoph et al., 2016).</em></center>\n",
    "\n",
    "Проектировать архитектуры нейронных сетей сложно - давайте автоматизируем это!\n",
    "\n",
    "- Одна сеть (контроллер) выводит архитектуры сетей\n",
    "- Выбираем дочерние сети из контроллера и обучаем их \n",
    "- После обучения партии дочерних сетей, делаеем градиентный шаг на сети контроллера (используя градиент политики).\n",
    "- Со временем контроллер учится выдавать хорошие архитектуры!\n",
    "- ОЧЕНЬ ДОРОГО!!! Каждый шаг градиента на контроллере требует обучения партии дочерних моделей!\n",
    "- Оригинальная статья обучалась на 800 GPU в течение 28 дней!\n",
    "- Последующие работы были сосредоточены на более эффективном поиске"
   ]
  },
  {
   "cell_type": "markdown",
   "metadata": {},
   "source": [
    "# Обзор сети EfficientNet(2019 г.)"
   ]
  },
  {
   "cell_type": "markdown",
   "metadata": {},
   "source": [
    "[EfficientNet: Rethinking Model Scaling for Convolutional Neural Networks (Tan et al., 2019)](https://arxiv.org/abs/1905.11946)\n",
    "\n",
    "Фишка EfficientNet в равномерном масштабировании всех измерений (глубины/ширины/разрешения) с помощью составного коэффициента (*compound coefficient*). \n",
    "\n",
    "Например, если мы хотим использовать в $2^N$ больше вычислительных ресурсов, то мы можем просто увеличить глубину сети на $\\alpha^N$ ширину на $\\beta^N$ и размер изображения на $\\gamma^N$ где - $\\alpha$, $\\beta$ и $\\gamma$ постоянные коэффициенты, определяемые grid search на исходной немасштабированной модели.\n"
   ]
  },
  {
   "cell_type": "markdown",
   "metadata": {},
   "source": [
    "\n",
    "Метод комбинированного масштабирования обоснован следующей интуицией — если мы берём более большое входное изображение, чем обычно (например, 1024x1024 вместо привычных 256x256), то сети потребуется больше слоёв для увеличения рецептивного поля и больше каналов для захвата более тонких деталей на большом изображении.\n",
    "\n",
    "Базовая сеть EfficientNet основана на инвертированных узких остаточных блоках MobileNet, в дополнение к блокам сжатия и возбуждения (*squeeze-and-excitation blocks*)."
   ]
  },
  {
   "cell_type": "markdown",
   "metadata": {},
   "source": [
    "<img src =\"http://edunet.kea.su/repo/src/L09_CNN_Architectures/img_license/l09_45.png\"  width=\"900\">"
   ]
  },
  {
   "cell_type": "code",
   "metadata": {},
   "source": [
    "!pip install efficientnet_pytorch"
   ],
   "execution_count": null,
   "outputs": []
  },
  {
   "cell_type": "code",
   "metadata": {},
   "source": [
    "from efficientnet_pytorch import EfficientNet\n",
    "model = EfficientNet.from_pretrained('efficientnet-b0')\n",
    "print(model)"
   ],
   "execution_count": null,
   "outputs": []
  },
  {
   "cell_type": "markdown",
   "metadata": {},
   "source": [
    "# Обзор Visual Transformers(2020 г.)\n",
    "\n",
    "[Visual Transformers: Token-based Image Representation and Processing for Computer Vision (Wu et al., 2020)](https://arxiv.org/abs/2006.03677)\n",
    "\n",
    "[Реализация](https://github.com/lucidrains/vit-pytorch)\n",
    "\n",
    "[Блог-пост разбор  ViT](https://towardsdatascience.com/implementing-visualttransformer-in-pytorch-184f9f16f632)\n",
    "\n",
    "\n",
    "Vision Transformer — это модель для классификации изображений, которая использует архитектуру трансформера. Давайте подробно разберем как она работает\n"
   ]
  },
  {
   "cell_type": "markdown",
   "source": [
    "В 2020 г стали появляться работы где в которых  модели на базе архитектур трансформер смогли показать результаты лучшие чем у CNN моделей.\n",
    "\n",
    "<center><img src =\"http://edunet.kea.su/repo/src/L09_CNN_Architectures/img/transformers/vit_accuracy.png\"  width=\"700\"></center>\n",
    "\n",
    "\n",
    "[An Image is Worth 16x16 Words: Transformers for Image Recognition at Scale (Dosovitskiy et al., 2020)](https://arxiv.org/abs/2010.11929) \n",
    "\n",
    "BiT - это baseline модель на базе ResNet, ViT - Visual Transformer\n",
    "\n"
   ],
   "metadata": {}
  },
  {
   "cell_type": "markdown",
   "source": [
    "Авторы польностью отказалить от использования сверток,  Заменив их слоями self-attention.  Давайте попробуем понять почему это работает."
   ],
   "metadata": {}
  },
  {
   "cell_type": "markdown",
   "source": [
    "Добавляя в модель сверточный слой мы руководствовались вполне резонным предположением: чем ближе к друг-другу пиксели на изображении тем больше будет их взаимное влияние.\n",
    "\n",
    "<center><img src =\"http://edunet.kea.su/repo/src/L09_CNN_Architectures/img/transformers/cnn_ok.png\"  width=\"700\"></center>\n",
    "\n",
    " В большинстве случаев это работает:\n",
    "\n",
    " - В слое n активируются нейроны которые реагируют на морду и на хвост.\n",
    "\n",
    " - В карте активаций их выходы оказываются рядом, и на слое n + 1  попадают в свертку которая активируется на объекты типа \"кот\".\n"
   ],
   "metadata": {}
  },
  {
   "cell_type": "markdown",
   "source": [
    "Так случается часто но не всегда:\n",
    "\n",
    "\n",
    "<center><img src =\"http://edunet.kea.su/repo/src/L09_CNN_Architectures/img/transformers/cnn_fail.png\"  width=\"700\"></center>\n",
    "\n",
    "На этой картинке активации нейронов реагирующих на морду и хвост не попадут в одну свертку на следуюем слое. Это может привести к тому что нейрон обучившийся реагировать на кошек не активируется или его выход будет слишком мал.\n",
    "\n",
    "Причиной этого является допущение ([Inductive bias](https://en.wikipedia.org/wiki/Inductive_bias)) о взаимном влиянии соседних пикселей. "
   ],
   "metadata": {}
  },
  {
   "cell_type": "markdown",
   "source": [
    "**Inductive bias**\n",
    "\n",
    "\n"
   ],
   "metadata": {}
  },
  {
   "cell_type": "markdown",
   "source": [
    "### Self-attention"
   ],
   "metadata": {}
  },
  {
   "cell_type": "markdown",
   "source": [
    " Self-attention слой лишен этого недостатка. Он обучается оценивать взаимное влияние входов друг на друга. Но как применить его к изображениям?"
   ],
   "metadata": {}
  },
  {
   "cell_type": "markdown",
   "source": [
    "В статье An Image is Worth 16x16 Words: Transformers for Image Recognition at Scale (Dosovitskiy et al., 2020) предлагается разбивать картинки на кусочки (patches) размером 16x16 пикселей."
   ],
   "metadata": {}
  },
  {
   "cell_type": "code",
   "metadata": {},
   "source": [
    "URL = 'http://edunet.kea.su/repo/src/L09_CNN_Architectures/img/transformers/capybara.jpg'\n",
    "!wget $URL -O image.jpg"
   ],
   "execution_count": null,
   "outputs": []
  },
  {
   "cell_type": "code",
   "metadata": {},
   "source": [
    "from torchvision import models,utils, transforms\n",
    "import matplotlib.pyplot as plt\n",
    "import numpy as np\n",
    "import torch\n",
    "from PIL import Image\n",
    "\n",
    "img = Image.open('image.jpg')\n",
    "\n",
    "transform = transforms.Compose([transforms.Resize((256,256)),\n",
    "                                transforms.ToTensor()])\n",
    "\n",
    "img = transform(img)\n",
    "patches = []\n",
    "sz = 64\n",
    "for r in range(0,img.shape[1] , sz):\n",
    "    for c in range(0,img.shape[2] , sz):\n",
    "        patches.append(img[:,r:r+sz,c:c+sz])\n",
    "\n",
    "patches = torch.stack(patches).type(torch.float)\n",
    "\n",
    "img_grid = utils.make_grid(patches,pad_value=10, normalize=True, nrow=4);\n",
    "plt.imshow(np.transpose(img_grid , (1, 2, 0)));\n",
    "plt.axis('off');\n"
   ],
   "execution_count": null,
   "outputs": []
  },
  {
   "cell_type": "code",
   "source": [
    "plt.figure(figsize=(18,6))\n",
    "img_grid = utils.make_grid(patches,pad_value=10, normalize=True, nrow=256//16);\n",
    "plt.imshow(np.transpose(img_grid , (1, 2, 0)));\n",
    "plt.axis('off');"
   ],
   "metadata": {},
   "execution_count": null,
   "outputs": []
  },
  {
   "cell_type": "markdown",
   "source": [
    "Затем последовательность из фрагментов изображения передается в модель где попадает на вход self-attention слоя"
   ],
   "metadata": {}
  },
  {
   "cell_type": "markdown",
   "source": [
    "\n",
    "<center><img src =\"http://edunet.kea.su/repo/src/L09_CNN_Architectures/img/transformers/self_attention.png\"  width=\"900\"></center>\n"
   ],
   "metadata": {}
  },
  {
   "cell_type": "markdown",
   "source": [
    "Слой учится предсказывать коэффициент отражающий влияние каждого из входов на каждый."
   ],
   "metadata": {}
  },
  {
   "cell_type": "markdown",
   "source": [
    "##### $\\color{brown}{\\text{Как устроен  self-attention}}$ \n",
    "\n"
   ],
   "metadata": {}
  },
  {
   "cell_type": "markdown",
   "source": [
    "TODO ..."
   ],
   "metadata": {}
  },
  {
   "cell_type": "markdown",
   "source": [
    "##### $\\color{brown}{\\text{Self-attention слой в Pytorch}}$ "
   ],
   "metadata": {}
  },
  {
   "cell_type": "code",
   "source": [
    "# TODO\n",
    "#https://pytorch.org/docs/stable/generated/torch.nn.MultiheadAttention.html\n",
    "\n",
    "#multihead_attn = nn.MultiheadAttention(embed_dim, num_heads)\n",
    "#attn_output, attn_output_weights = multihead_attn(query, key, value)"
   ],
   "metadata": {},
   "execution_count": null,
   "outputs": []
  },
  {
   "cell_type": "markdown",
   "source": [
    "### Position embedding"
   ],
   "metadata": {}
  },
  {
   "cell_type": "markdown",
   "source": [
    " Не теряем ли мы важной информации разбивая изображение на фрагменты. Кажется что модель легко сможет разобраться как они связанны. Однако не всегда.\n",
    "\n",
    " <center><img src =\"http://edunet.kea.su/repo/src/L09_CNN_Architectures/img/transformers/positional.png\"  width=\"500\"></center>\n",
    "\n",
    " На рисунке а) наковальня падает на ребенка, на рисунке б) ребенок прыгает на наковальне. Суть принципиально отличается, но если составить из фрагментов любого изображения набор патчей, то восстановить по нему можно будет любой вариант:\n",
    "\n",
    "  <center><img src =\"http://edunet.kea.su/repo/src/L09_CNN_Architectures/img/transformers/positional_vec.png\"  width=\"500\"></center>\n",
    "\n",
    "Так как self-attention блок никак не кодирует позицию элемента на входе, то эта информацию к добавляется к данным."
   ],
   "metadata": {}
  },
  {
   "cell_type": "markdown",
   "source": [
    "##### $\\color{brown}{\\text{Методы для кодирования позиции}}$ "
   ],
   "metadata": {}
  },
  {
   "cell_type": "markdown",
   "source": [
    "https://kazemnejad.com/blog/transformer_architecture_positional_encoding/"
   ],
   "metadata": {}
  },
  {
   "cell_type": "markdown",
   "metadata": {},
   "source": [
    "## Архитектура ViT"
   ]
  },
  {
   "cell_type": "markdown",
   "metadata": {},
   "source": [
    "\n",
    "<center><img src =\"http://edunet.kea.su/repo/src/L09_CNN_Architectures/img_license/l09_48.png\"  width=\"700\"></center>\n",
    "<center><em>Архитектура Visual Transformer (адаптировано из Dosovitskiy et al., 2020).</em></center>"
   ]
  },
  {
   "cell_type": "markdown",
   "source": [
    "##### $\\color{brown}{\\text{Соображения относительно размера patch}}$ "
   ],
   "metadata": {}
  },
  {
   "cell_type": "markdown",
   "metadata": {},
   "source": [
    "Трансформеры работают с последовательностями за счёт механизма внимания (*self-attention*). Но с ним есть одна проблемка — а именно сложность вычислений. \n",
    "\n",
    "Положим что $X$ — это вектор (размера $(n,d)$, где $n$ — число токенов и $d$ — размерность каждого токена), который подаётся на вход в *self-attention layer*. Сложность вычисления одноголового слоя будет $O(n^2 d + n d^2)$ (для любознательных расчеты [тут](https://stackoverflow.com/questions/65703260/computational-complexity-of-self-attention-in-the-transformer-model)).\n",
    "\n",
    "\n",
    "Для тех кто забыл, напомним что $O()$ — это *Big O notation*, которая отражает ресурсы, требуемые для вычисления. Так для $O(1)$ — время вычисления будет постоянным, вне зависимости от количества данных, а для $O(N)$ — расти пропорционально количеству данных.\n"
   ]
  },
  {
   "cell_type": "markdown",
   "metadata": {},
   "source": [
    "Разберём на примере: Допустим, мы используем трансформер для предложения длиной в 4 слова — \"Мама мылом мыла раму\" => у нас есть `4 токена`. Закодируем их в *embeddings* с размерностью `256`. Получим вектор $X$ размером (4,256). Сложность вычисления получится $O(4^2*256+4*256^2) = O(266,240)$.\n",
    "\n",
    "А теперь попробуем провернуть то же самое для картинки размерами 256 на 256. $O(256^2*256+256*256^2) = O(33,554,432)$. Упс... Кажется, нам так никаких ресурсов не хватит — трансформеры с картинками использовать."
   ]
  },
  {
   "cell_type": "markdown",
   "metadata": {},
   "source": [
    "В статье [An Image is Worth 16x16 Words: Transformers for Image Recognition at Scale (Dosovitskiy et al., 2020)](https://arxiv.org/abs/2010.11929) предлагается разбивать картинки на кусочки (patches) размером 16x16 пикселей."
   ]
  },
  {
   "cell_type": "markdown",
   "metadata": {},
   "source": [
    "Посчитаем сложность для картинки размером (256,256), разбитой на кусочки по 16 px. $O(16^2*16+16*16^2) = O(8,192)$. И впрямь! Аж в 409 раз меньше ресурсов требуется."
   ]
  },
  {
   "cell_type": "markdown",
   "metadata": {},
   "source": [
    "Супер, теперь мы можем грузить наши патчи-картинки в **Vi**sual **T**ransformer. Эти патчи подвергаются линейной проекции с помощью MLP и к ним присовокупляются *positional embeddings* (как и обычном трансформере для текста). К полученным векторам добавляют еще один **0***, который называют *class embedding* и обучают трансформер. На выходе берут этот специальный токен **0***, прогоняют его через MLP и предсказывают классы, остальные выходы (а для каждего токена в трансформере есть свой выход) отбрасываются за ненадобностью."
   ]
  },
  {
   "cell_type": "markdown",
   "metadata": {},
   "source": [
    "## Предсказание с помощью ViT"
   ]
  },
  {
   "cell_type": "code",
   "metadata": {},
   "source": [
    "!pip install pytorch_pretrained_vit"
   ],
   "execution_count": null,
   "outputs": []
  },
  {
   "cell_type": "code",
   "metadata": {},
   "source": [
    "from pytorch_pretrained_vit import ViT\n",
    "model = ViT('B_16_imagenet1k', pretrained=True)\n",
    "model.eval()\n",
    "\n",
    "# Load image\n",
    "# NOTE: Assumes an image `image.jpg` exists in the current directory\n",
    "img = transforms.Compose([\n",
    "    transforms.Resize((384, 384)), \n",
    "    transforms.ToTensor(),\n",
    "    transforms.Normalize(0.5, 0.5),\n",
    "])(Image.open('image.jpg')).unsqueeze(0)\n",
    "print(img.shape) # torch.Size([1, 3, 384, 384])\n",
    "\n",
    "# Classify\n",
    "with torch.no_grad():\n",
    "    outputs = model(img)\n",
    "print(outputs.shape)  # (1, 1000)"
   ],
   "execution_count": null,
   "outputs": []
  },
  {
   "cell_type": "markdown",
   "metadata": {},
   "source": [
    "Давайте посмотрим, что нам предсказывает ViT. Для этого подгрузим dict с переводом индексов в человеческие названия:"
   ]
  },
  {
   "cell_type": "code",
   "metadata": {},
   "source": [
    "labels_URL = 'https://gist.github.com/yrevar/942d3a0ac09ec9e5eb3a/raw/238f720ff059c1f82f368259d1ca4ffa5dd8f9f5/imagenet1000_clsidx_to_labels.txt'\n",
    "!wget $labels_URL -O imagenet_labels.txt\n",
    "import ast\n",
    "file = open(\"imagenet_labels.txt\", \"r\")\n",
    "contents = file.read()\n",
    "dictionary = ast.literal_eval(contents)\n"
   ],
   "execution_count": null,
   "outputs": []
  },
  {
   "cell_type": "markdown",
   "metadata": {},
   "source": [
    "И, собственно, переведем индекс в название:"
   ]
  },
  {
   "cell_type": "code",
   "metadata": {},
   "source": [
    "print('Top 3 predictions:', [dictionary[x.item()] for x in torch.argsort(outputs)[0][-3:]][::-1])"
   ],
   "execution_count": null,
   "outputs": []
  },
  {
   "cell_type": "markdown",
   "metadata": {},
   "source": [
    "Ну что ж, почти (капибар в классах Imagenet 1k, как вы могли догадаться, просто нет)."
   ]
  },
  {
   "cell_type": "markdown",
   "metadata": {},
   "source": [
    "##### $\\color{brown}{\\text{Дополнительная информация(удалить)}}$ "
   ]
  },
  {
   "cell_type": "code",
   "metadata": {},
   "source": [
    "import torch\n",
    "import torchvision\n",
    "from torchvision.datasets import CIFAR10\n",
    "\n",
    "transform = torchvision.transforms.Compose([\n",
    "                                            torchvision.transforms.ToTensor(),\n",
    "                                            torchvision.transforms.Normalize([0.4914, 0.4822, 0.4465],[0.2470, 0.2434, 0.2615])\n",
    "                                            ]) \n",
    "\n",
    "train_set = CIFAR10(root='./CIFAR10', train=True, download=True, transform=transform)\n",
    "test_set = CIFAR10(root='./CIFAR10', train=False, download=True, transform=transform)\n",
    "\n",
    "train_set_mini, _ = torch.utils.data.random_split(train_set, [20000, 30000])\n",
    "test_set_mini, _ = torch.utils.data.random_split(test_set, [2000, 8000])\n",
    "\n",
    "from torch.utils.data import DataLoader\n",
    "batch_size = 256\n",
    "\n",
    "train_loader = DataLoader(train_set_mini, batch_size=batch_size, shuffle=True, num_workers=2)\n",
    "test_loader = DataLoader(test_set_mini, batch_size=batch_size, shuffle=False, num_workers=2)"
   ],
   "execution_count": null,
   "outputs": []
  },
  {
   "cell_type": "code",
   "metadata": {},
   "source": [
    "!pip install vit_pytorch"
   ],
   "execution_count": null,
   "outputs": []
  },
  {
   "cell_type": "code",
   "metadata": {},
   "source": [
    "import torch.optim as optim\n",
    "\n",
    "def validate(model,test_loader):\n",
    "    correct = 0\n",
    "    total = 0\n",
    "    with torch.no_grad():\n",
    "        for imgs, labels in test_loader:\n",
    "            outputs = model(imgs)\n",
    "            _, predicted = torch.max(outputs.data, 1)\n",
    "            total += labels.size(0)\n",
    "            correct += (predicted == labels).sum().item()\n",
    "\n",
    "    return correct / total  "
   ],
   "execution_count": null,
   "outputs": []
  },
  {
   "cell_type": "code",
   "metadata": {},
   "source": [
    "import torch\n",
    "from torch import nn\n",
    "from vit_pytorch import ViT\n",
    "from torch.utils.tensorboard import SummaryWriter\n",
    "\n",
    "model  = ViT(\n",
    "    image_size = 32,\n",
    "    patch_size = 4,\n",
    "    num_classes = 10,\n",
    "    dim = 256,\n",
    "    depth = 6,\n",
    "    heads = 16,\n",
    "    mlp_dim = 1024,\n",
    "    dropout = 0.1,\n",
    "    emb_dropout = 0.1\n",
    ")\n",
    "\n",
    "device = torch.device('cuda' if torch.cuda.is_available() else 'cpu')\n",
    "print('Using device:', device)\n",
    "\n",
    "\n",
    "def train(model, criterion, optimizer , num_epochs = 50, tag = \"cifar10\"):\n",
    "  \n",
    "  writer = SummaryWriter(comment = tag)\n",
    "\n",
    "  for epoch in range(num_epochs):\n",
    "    hist_loss = 0\n",
    "    correct = 0\n",
    "    model.to(device)\n",
    "    for imgs, labels in train_loader: # get bacth         \n",
    "        optimizer.zero_grad() # sets the gradients of all optimized tensors to zero.\n",
    "        outputs = model(imgs.to(device)) # call forward inside \n",
    "        loss = criterion(outputs, labels.to(device)) # calculate loss\n",
    "        loss.backward() # calculate gradients\n",
    "        optimizer.step() # performs a single optimization step (parameter update).\n",
    "        # stat collection\n",
    "        _, predicted = torch.max(outputs.data, 1)  \n",
    "        correct += (predicted == labels.to(device)).sum().item()\n",
    "        hist_loss += loss.item()\n",
    "   \n",
    "    accuracy_v  = validate(model.to('cpu'), test_loader)\n",
    "    print(accuracy_v)\n",
    "   \n",
    "    writer.add_scalars(\"Accuracy\", { \n",
    "          'Val': accuracy_v,\n",
    "          'Train' : correct / len(train_loader.dataset)\n",
    "      }, epoch)\n",
    "\n",
    "    writer.add_scalars(\"Loss\", { \n",
    "          \n",
    "          'Train': hist_loss /  len(train_loader),\n",
    "      }, epoch)\n",
    "    writer.close()\n",
    "\n",
    "  return accuracy_v\n",
    "\n",
    "\n",
    "optimizer = torch.optim.Adam(model.parameters(), lr=0.01) \n",
    "train(model, nn.CrossEntropyLoss(), optimizer, num_epochs =10, tag = 'ViT' )"
   ],
   "execution_count": null,
   "outputs": []
  },
  {
   "cell_type": "markdown",
   "metadata": {},
   "source": [
    "# Обзор сети MLP-Mixer(2020 г.)"
   ]
  },
  {
   "cell_type": "markdown",
   "metadata": {},
   "source": [
    "Мы прошли с вами долгий путь: от первых свёрточных сетей типа `AlexNet` до супер новинок типа `Visual Transformer`. Но в 2021 году круг замкнулся и вышла статья [MLP-Mixer: An all-MLP Architecture for Vision (Tolstikhin et al., 2021)](https://arxiv.org/abs/2105.01601), в которой утверждается, что все эти свёртки и трансформеры — это, конечно, хорошо, но результатов, сравнимых с SOTA на распозновании образов, можно достичь и с помощью обычных Multi-Layer Preceptrons (они же `nn.Linear`).\n",
    "\n",
    "Конечно же не обошлось без нюансов и просто настэкать линейные слои не поможет. Давайте разбираться."
   ]
  },
  {
   "cell_type": "markdown",
   "metadata": {},
   "source": [
    "Очень хороший видео-разбор можно посмотреть [во влоге Yannic Kilcher](https://www.youtube.com/watch?v=7K4Z8RqjWIk&feature=youtu.be&ab_channel=YannicKilcher)."
   ]
  },
  {
   "cell_type": "markdown",
   "metadata": {},
   "source": [
    "<center><img src =\"http://edunet.kea.su/repo/src/L09_CNN_Architectures/img_license/l09_MLP-Mixer.png\"  width=\"700\"></center>\n",
    "<center><em>Архитектура сети MLP-Mixer (адптировано из Tolstikhin et al., 2021).</em></center>"
   ]
  },
  {
   "cell_type": "markdown",
   "metadata": {},
   "source": [
    "Так же, как и в ViT, мы будем разбивать исходное изображение на патчи, которые затем будем пропускать через полносвязанный слой (Fully-connected), чтобы получить латентное представление каждого патча. На этом сходство заканчивается."
   ]
  },
  {
   "cell_type": "markdown",
   "metadata": {},
   "source": [
    "Теперь мы будем пропускать наши латентные представления через N Mixer-Layers. Предположим, у нас было 16 патчей, и мы решили, что размерность латентного вектора будет 128. Тогда получается, что на вход в Mixer мы подаём матрицу размером (16,128). Затем, мы нашу матрицу транспонируем и получаем (128,16).\n",
    "\n",
    "С простыми линейными слоями мы бы на этом и закончили. Развернули бы двухмерное представление в одномерное, и получили бы вектор размером (128*16). Но в MLP-Mixer мы поступим хитрее. Каждую (из 128) строку матрицы мы пропустим через один и тот же MLP 1 слой (веса расшарены между MLP слоями). Затем мы снова транспонируем полученые вектора (128,16) -> (16,128), прибавим к ним изначальные латентные представления (вот и пригодилась идея Skip-Connections) и повторим операцию, но уже со слоем MLP 2.\n",
    "\n",
    "В конце агрегируем полученные вектора с помощью Global Average Pooling и навешиваем линейную голову для классификации на столько классов, сколько нам нужно (1000 в случае класического ImageNet)."
   ]
  },
  {
   "cell_type": "markdown",
   "metadata": {},
   "source": [
    "Внимательный читатель может заметить, что всё это подозрительно напоминает 1x1 convolutions, и будет недалёк от истины. Споры о том, называть ли эти операции свёртками или не называть не утихают и [по сей день](https://wandb.ai/wandb_fc/pytorch-image-models/reports/Is-MLP-Mixer-a-CNN-in-disguise---Vmlldzo4NDE1MTU).\n",
    "\n",
    "С точки зрения результатов — качество сравнимо с SOTA моделями, но чуть хуже. Скорость обучения — тоже где-то рядом. Но есть большой бонус — на скорости инференса MLP-Mixer значительно выигрывает. Да и в целом, вывод, который можно сделать из их модели: не обязательно городить сложнейший огород, можно использовать простые инструменты, главное заложить правильный *inductive bias*."
   ]
  },
  {
   "cell_type": "markdown",
   "metadata": {},
   "source": [
    "<font size = \"6\"> Бонус: Практические аспекты работы с размерностью данных"
   ]
  },
  {
   "cell_type": "markdown",
   "metadata": {},
   "source": [
    "Частая проблема при написании архитектур — это посчитать промежуточные размеры свёрток. К счастью, эта проблема решается довольно простой функцией. \n",
    "\n",
    "На вход подаём наш размер (например, картинки), и размер, который мы хотим получить на выходе. Указываем количество слоёв и дополнительные параметры (например, нам нужны kernels меньше 4, страйды меньше, чем ядра, и страйды, равные 1, за исключением двух последних слоев)."
   ]
  },
  {
   "cell_type": "code",
   "metadata": {},
   "source": [
    "def conv_chain(input_size, output_size, depth, cond):\n",
    "    '''Written by Francois Fleuret <francois@fleuret.org>'''\n",
    "    if depth == 0:\n",
    "        if input_size == output_size:\n",
    "            return [ [ ] ]\n",
    "        else:\n",
    "            return [ ]\n",
    "    else:\n",
    "        r = [ ]\n",
    "        for kernel_size in range(1, input_size + 1):\n",
    "            for stride in range(1, input_size):\n",
    "                if cond(depth, kernel_size, stride):\n",
    "                    n = (input_size - kernel_size) // stride + 1\n",
    "                    if n >= output_size and (n - 1) * stride + kernel_size == input_size:\n",
    "                        q = conv_chain(n, output_size, depth - 1, cond)\n",
    "                        r += [ [ (kernel_size, stride) ] + u for u in q ]\n",
    "        return r"
   ],
   "execution_count": null,
   "outputs": []
  },
  {
   "cell_type": "code",
   "metadata": {},
   "source": [
    "import torch\n",
    "from torch import nn\n",
    "\n",
    "c = conv_chain(\n",
    "    input_size = 64, output_size = 8,\n",
    "    depth = 5,\n",
    "    # We want kernels smaller than 4, strides smaller than the\n",
    "    # kernels, and strides of 1 except in the two last layers\n",
    "    cond = lambda d, k, s: k <= 4 and s <= k and (s == 1 or d <= 2)\n",
    ")\n",
    "\n",
    "x = torch.rand(1, 1, 64, 64)\n",
    "\n",
    "# get all possible variants of models\n",
    "for num, m in enumerate(c):\n",
    "    model = nn.Sequential(*[ nn.Conv2d(1, 1, l[0], l[1]) for l in m ])\n",
    "    \n",
    "    print(\"Variant {}\".format(num))\n",
    "    print(model)\n",
    "    print(x.size(), model(x).size())\n",
    "    print(' ')"
   ],
   "execution_count": null,
   "outputs": []
  },
  {
   "cell_type": "markdown",
   "metadata": {},
   "source": [
    "<font size=\"6\">Список использованной литературы\n",
    "\n",
    "<font size=\"5\"> AlexNet\n",
    "\n",
    "[ImageNet Classification with Deep Convolutional Neural Networks (Krizhevsky et al., 2012)](https://papers.nips.cc/paper/2012/file/c399862d3b9d6b76c8436e924a68c45b-Paper.pdf)\n",
    "\n",
    "[Подробнее про AlexNet](https://neurohive.io/ru/vidy-nejrosetej/alexnet-svjortochnaja-nejronnaja-set-dlja-raspoznavanija-izobrazhenij/)\n",
    "\n",
    "<font size=\"5\"> ZFNet\n",
    "\n",
    "[Visualizing and Understanding Convolutional Networks (Zeiler et al., 2013)](https://arxiv.org/abs/1311.2901)\n",
    "\n",
    "<font size=\"5\"> VGG\n",
    "\n",
    "[Very Deep Convolutional Networks for Large-Scale Image Recognition (Simonyan et al., 2014)](https://arxiv.org/abs/1409.1556)\n",
    "\n",
    "[Краткое описание VGGNet](https://www.robots.ox.ac.uk/~vgg/research/very_deep/)\n",
    "\n",
    "<font size=\"5\">GoogLeNet\n",
    "\n",
    "[Going Deeper with Convolutions (Szegedy et al., 2014)](https://arxiv.org/abs/1409.4842)\n",
    "\n",
    "<font size=\"5\"> Global Average Pooling\n",
    "\n",
    "[Network In Network, Lin et al., 2013](https://arxiv.org/abs/1312.4400)\n",
    "\n",
    "[Блог-пост про Global Average Pooling](https://alexisbcook.github.io/2017/global-average-pooling-layers-for-object-localization/)\n",
    "\n",
    "<font size=\"5\"> ResNet\n",
    "\n",
    "[Deep Residual Learning for Image Recognition (He et al., 2015)](https://arxiv.org/abs/1512.03385)\n",
    "\n",
    "<font size=\"5\"> Fixup Initialization\n",
    "\n",
    "[Fixup Initialization: Residual Learning Without Normalization (Zhang et. al, 2019)](https://arxiv.org/abs/1901.09321)\n",
    "\n",
    "[Блог-пост про Fixup Initialization](https://towardsdatascience.com/understanding-fixup-initialization-6bf08d41b427)\n",
    "\n",
    "<font size=\"5\"> ResNeXt\n",
    "\n",
    "[Aggregated Residual Transformations for Deep Neural Networks (Xie et al., 2016)](https://arxiv.org/abs/1611.05431)\n",
    "\n",
    "[Блог-пост про ResNeXt](https://towardsdatascience.com/review-resnext-1st-runner-up-of-ilsvrc-2016-image-classification-15d7f17b42ac)\n",
    "\n",
    "<font size=\"5\"> DensNet\n",
    "\n",
    "[Densely Connected Convolutional Networks (Huang et al., 2016)](https://arxiv.org/abs/1608.06993)\n",
    "\n",
    "<font size=\"5\"> WideResNet\n",
    "\n",
    "[Wide Residual Networks (Zagoruyko et al., 2016)](https://arxiv.org/abs/1605.07146)\n",
    "\n",
    "\n",
    "<font size=\"5\"> SENet\n",
    "\n",
    "[Squeeze-and-Excitation Networks (Hu et al., 2017)](https://arxiv.org/abs/1709.01507)\n",
    "\n",
    "[Блог-пост про Squeeze-and-Excitation Networks](https://towardsdatascience.com/squeeze-and-excitation-networks-9ef5e71eacd7)\n",
    "\n",
    "\n",
    "<font size=\"5\"> MobileNet\n",
    "\n",
    "[MobileNets: Efficient Convolutional Neural Networks for Mobile Vision Applications (Howard et al., 2017)](https://arxiv.org/abs/1704.04861)\n",
    "\n",
    "<font size=\"5\"> EfficientNet\n",
    "\n",
    "[EfficientNet: Rethinking Model Scaling for Convolutional Neural Networks (Tan et al., 2019)](https://arxiv.org/abs/1905.11946)\n",
    "\n",
    "<font size=\"5\"> Visual Transformer\n",
    "\n",
    "[Visual Transformers: Token-based Image Representation and Processing for Computer Vision (Wu et al., 2020)](https://arxiv.org/abs/2006.03677)\n",
    "\n",
    "[Блог-пост разбор  ViT](https://towardsdatascience.com/implementing-visualttransformer-in-pytorch-184f9f16f632)\n",
    "\n",
    "[An Image is Worth 16x16 Words: Transformers for Image Recognition at Scale (Dosovitskiy et al., 2020)](https://arxiv.org/abs/2010.11929)\n",
    "\n",
    "<font size=\"5\"> MLP-Mixer\n",
    "\n",
    "[MLP-Mixer: An all-MLP Architecture for Vision (Tolstikhin et al., 2021)](https://arxiv.org/abs/2105.01601)\n",
    "\n",
    "[Разбор во влоге Yannic Kilcher](https://www.youtube.com/watch?v=7K4Z8RqjWIk&feature=youtu.be&ab_channel=YannicKilcher)\n",
    "\n",
    "[Блог-пост про MLP-Mixer](https://wandb.ai/wandb_fc/pytorch-image-models/reports/Is-MLP-Mixer-a-CNN-in-disguise---Vmlldzo4NDE1MTU)\n",
    "\n",
    "<font size=\"5\"> Разное\n",
    "\n",
    "[Блог-пост про различные типы сверток](https://towardsdatascience.com/a-comprehensive-introduction-to-different-types-of-convolutions-in-deep-learning-669281e58215)\n",
    "\n",
    "[Benchmark Analysis of Representative\n",
    "Deep Neural Network Architectures (Bianco et al., 2018)](https://arxiv.org/abs/1810.00736)\n",
    "\n",
    "[Neural Architecture Search with Reinforcement Learning (Zoph et al., 2016)](https://arxiv.org/abs/1611.01578)\n"
   ]
  }
 ],
 "nbformat": 4,
 "nbformat_minor": 0,
 "metadata": {}
}
