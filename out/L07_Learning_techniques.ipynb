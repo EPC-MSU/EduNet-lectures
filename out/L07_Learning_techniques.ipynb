{
 "cells": [
  {
   "cell_type": "markdown",
   "metadata": {},
   "source": [
    "<font size=\"6\">Улучшение сходимости нейросетей и борьба с переобучением</font>"
   ]
  },
  {
   "cell_type": "markdown",
   "metadata": {},
   "source": [
    "В предыдущих лекциях мы познакомились с теоремой о нейронной сети в качестве [универсального аппроксиматора 🥨[colab]](https://colab.research.google.com/drive/1Rq2rAmb_rTLlm6fZZLOplh7gPnGXI07T#scrollTo=vyBYex3YG-ob) и теми преимуществами, которые может дать использование глубоких нейронных сетей. Кроме того, мы познакомились с алгоритмом [стохастического градиентного спуска 🥨[colab]](https://colab.research.google.com/drive/17CTevptz-Qm4bHqGXw0AHBYkvD74wmnF#scrollTo=UQyZ74Yr94iP), при помощи которого мы можем обучать нейронные сети решать интересующие нас задачи. К сожалению, описанный нами ранее подход в обучении глубоких сетей является не полным и на практике редко приводит к успешному решению.\n",
    "\n",
    "В этой лекции мы продемонстрируем модельный пример такой проблемы с обучением глубокой сети и последовательно рассмотрим ряд идей, которые позволят её исправить."
   ]
  },
  {
   "cell_type": "markdown",
   "metadata": {},
   "source": [
    "# Трудности при обучении глубоких нейронных сетей"
   ]
  },
  {
   "cell_type": "markdown",
   "metadata": {},
   "source": [
    "Код для визуализации результатов обучения моделей:"
   ]
  },
  {
   "cell_type": "code",
   "execution_count": null,
   "metadata": {},
   "outputs": [],
   "source": [
    "def exponential_smoothing(scalars, weight):\n",
    "    last = scalars[0]\n",
    "    smoothed = []\n",
    "    for point in scalars:\n",
    "        smoothed_val = last * weight + (1 - weight) * point\n",
    "        smoothed.append(smoothed_val)\n",
    "        last = smoothed_val\n",
    "\n",
    "    return smoothed"
   ]
  },
  {
   "cell_type": "code",
   "execution_count": null,
   "metadata": {},
   "outputs": [],
   "source": [
    "import numpy as np\n",
    "import matplotlib.pyplot as plt\n",
    "import matplotlib.colors as mcolors\n",
    "\n",
    "\n",
    "class HistoryPlotter:\n",
    "    def __init__(self):\n",
    "        # dict for safe learning history\n",
    "        self._history_dict = {}\n",
    "\n",
    "    def add(self, history):\n",
    "        \"\"\"\n",
    "        Save learning history.\n",
    "        history: dict with keys: model_name, epoсhs, loss_on_train, loss_on_test\n",
    "        \"\"\"\n",
    "        self._history_dict[history[\"model_name\"]] = history\n",
    "        self.color_list = list(mcolors.TABLEAU_COLORS.keys())\n",
    "\n",
    "    def plot(self, models, show_smooth=True, smooth_val=0.90):\n",
    "        \"\"\"\n",
    "        Plot informatiom from self._history_dict.\n",
    "        models: list of model_name (len <= 5, or extend color_list)\n",
    "        \"\"\"\n",
    "        fig, ax = plt.subplots(3, 1, figsize=(10, 10))\n",
    "        for model_num, model_name in enumerate(models):\n",
    "            history = self._history_dict[model_name]\n",
    "            for idx, (key, title) in enumerate(\n",
    "                zip([\"loss_on_train\", \"loss_on_test\"], [\"train loss\", \"test loss\"])\n",
    "            ):\n",
    "                epoch_len = len(history[key]) // history[\"epoсhs\"]\n",
    "                loss_len = len(history[key])\n",
    "                ticks_positions = np.arange(history[\"epoсhs\"] + 1)\n",
    "\n",
    "                if show_smooth:\n",
    "                    x = np.arange(len(history[key])) / epoch_len\n",
    "                    # Plot train loss and test loss:\n",
    "                    # 1. plot smoothing vals\n",
    "                    ax[idx].plot(\n",
    "                        x,\n",
    "                        exponential_smoothing(history[key], smooth_val),\n",
    "                        label=model_name + \" smoothed\",\n",
    "                        color=self.color_list[2 * model_num + idx],\n",
    "                    )\n",
    "                    # 2. plot raw vals\n",
    "                    ax[idx].plot(\n",
    "                        x,\n",
    "                        history[key],\n",
    "                        label=model_name + \" raw\",\n",
    "                        alpha=0.2,\n",
    "                        color=self.color_list[2 * model_num + idx],\n",
    "                    )\n",
    "                    # 3. add descriptions if it is nesessary\n",
    "                    if not ax[idx].title.get_text():\n",
    "                        ax[idx].set_title(title)\n",
    "                        ax[idx].set_xlabel(\"epochs\")\n",
    "                        ax[idx].set_ylabel(\"loss\")\n",
    "                        ax[idx].set_xticks(ticks_positions)\n",
    "                        ax[idx].set_xticklabels(np.arange(history[\"epoсhs\"] + 1))\n",
    "                    ax[idx].legend()\n",
    "\n",
    "                # Plot mean train and test loss combined:\n",
    "                # 1. calculate mean and std\n",
    "                mean_loss_on_epoch = [\n",
    "                    np.mean(history[key][i : i + epoch_len])\n",
    "                    for i in range(0, loss_len, epoch_len)\n",
    "                ]\n",
    "                std_loss_on_epoch = [\n",
    "                    np.std(history[key][i : i + epoch_len])\n",
    "                    for i in range(0, loss_len, epoch_len)\n",
    "                ]\n",
    "                # 2. plot\n",
    "                ax[2].errorbar(\n",
    "                    np.arange(history[\"epoсhs\"]) + idx / 30.0,\n",
    "                    mean_loss_on_epoch,\n",
    "                    yerr=std_loss_on_epoch,\n",
    "                    capsize=5,\n",
    "                    fmt=\"X--\",\n",
    "                    label=model_name + \" \" + title,\n",
    "                )\n",
    "                # 3. add descriptions if it is necessary\n",
    "                if not ax[2].title.get_text():\n",
    "                    ax[2].set_title(\"\\nAverage loss per epoch\", {\"fontsize\": 12})\n",
    "                    ax[2].set_xticks(np.arange(history[\"epoсhs\"]))\n",
    "                    ax[2].set_xticklabels(np.arange(history[\"epoсhs\"]))\n",
    "                    ax[2].set_xlabel(\"epochs\")\n",
    "                    ax[2].set_ylabel(\"loss\")\n",
    "                ax[2].legend()\n",
    "        plt.subplots_adjust(hspace=0.4)\n",
    "        plt.show()"
   ]
  },
  {
   "cell_type": "code",
   "execution_count": null,
   "metadata": {},
   "outputs": [],
   "source": [
    "history_plotter = HistoryPlotter()"
   ]
  },
  {
   "cell_type": "markdown",
   "metadata": {},
   "source": [
    "Загрузим данные, создадим сеть, обучим ее и посмотрим на практике, как проходит обучение.\n",
    "\n",
    "Загрузим **датасет MNIST**:"
   ]
  },
  {
   "cell_type": "code",
   "execution_count": null,
   "metadata": {},
   "outputs": [],
   "source": [
    "import torchvision\n",
    "import torchvision.transforms as transforms\n",
    "from IPython.display import clear_output\n",
    "from torch.utils.data import DataLoader\n",
    "from torchvision.datasets import MNIST\n",
    "\n",
    "# transforms for data\n",
    "transform = torchvision.transforms.Compose(\n",
    "    [torchvision.transforms.ToTensor(), torchvision.transforms.Normalize((0.13), (0.3))]\n",
    ")\n",
    "\n",
    "train_set = MNIST(root=\"./MNIST\", train=True, download=True, transform=transform)\n",
    "test_set = MNIST(root=\"./MNIST\", train=False, download=True, transform=transform)\n",
    "\n",
    "batch_size = 32\n",
    "train_loader = DataLoader(train_set, batch_size=batch_size, shuffle=True, num_workers=2)\n",
    "test_loader = DataLoader(test_set, batch_size=batch_size, shuffle=False, num_workers=2)\n",
    "\n",
    "clear_output()\n",
    "print(\"Already downloaded!\")"
   ]
  },
  {
   "cell_type": "markdown",
   "metadata": {},
   "source": [
    "Создадим сеть с **сигмоидой** в качестве функции активации:"
   ]
  },
  {
   "cell_type": "code",
   "execution_count": null,
   "metadata": {},
   "outputs": [],
   "source": [
    "import torch.nn as nn\n",
    "\n",
    "\n",
    "class SimpleMNIST_NN(nn.Module):\n",
    "    def __init__(self, n_layers, activation=nn.Sigmoid):\n",
    "        super().__init__()\n",
    "        self.n_layers = n_layers  # Num of layers\n",
    "        self.activation = activation()\n",
    "        layers = [nn.Linear(28 * 28, 100), self.activation]  # input layer\n",
    "        for _ in range(n_layers - 1):  # append num of layers\n",
    "            layers.append(nn.Linear(100, 100))\n",
    "            layers.append(self.activation)\n",
    "        layers.append(nn.Linear(100, 10))  # 10 classes\n",
    "        self.layers = nn.Sequential(*layers)\n",
    "\n",
    "    def forward(self, x):\n",
    "        x = x.view(-1, 28 * 28)  # reshape to [-1, 784]\n",
    "        x = self.layers(x)\n",
    "        return x"
   ]
  },
  {
   "cell_type": "markdown",
   "metadata": {},
   "source": [
    "Реализуем пайплан обучения модели на Lightning:\n"
   ]
  },
  {
   "cell_type": "code",
   "execution_count": null,
   "metadata": {},
   "outputs": [],
   "source": [
    "!pip install -q pytorch-lightning tbparse"
   ]
  },
  {
   "cell_type": "code",
   "execution_count": null,
   "metadata": {},
   "outputs": [],
   "source": [
    "import torch\n",
    "import pytorch_lightning as pl\n",
    "\n",
    "\n",
    "class Pipeline(pl.LightningModule):\n",
    "    def __init__(\n",
    "        self,\n",
    "        model,\n",
    "        exp_name=\"baseline\",\n",
    "        criterion=nn.CrossEntropyLoss(),\n",
    "        optimizer_class=torch.optim.SGD,\n",
    "        optimizer_kwargs={\"lr\": 0.001},\n",
    "    ) -> None:\n",
    "        super().__init__()\n",
    "        self.model = model\n",
    "        self.criterion = criterion\n",
    "        self.optimizer_class = optimizer_class\n",
    "        self.optimizer_kwargs = optimizer_kwargs\n",
    "\n",
    "        # Additionally, we will save training logs “manually”\n",
    "        # for visualization within the lecture. Please limit yourself\n",
    "        # to the native training logging tools from PytorchLightning\n",
    "        # when training your own models.\n",
    "        self.history = {\"loss_on_train\": [], \"loss_on_test\": [], \"model_name\": exp_name}\n",
    "\n",
    "    def configure_optimizers(self):\n",
    "        optimizer = self.optimizer_class(\n",
    "            self.model.parameters(), **self.optimizer_kwargs\n",
    "        )\n",
    "        return optimizer\n",
    "\n",
    "    def training_step(self, batch, batch_idx):\n",
    "        x, y = batch\n",
    "        out = self.model(x)\n",
    "        loss = self.criterion(out, y)\n",
    "        self.log(\"loss_on_train\", loss, prog_bar=True)\n",
    "\n",
    "        # aux logging for lecture visualization\n",
    "        self.history[\"loss_on_train\"].append(loss.cpu().detach().item())\n",
    "        return loss\n",
    "\n",
    "    def validation_step(self, batch, batch_idx):\n",
    "        x, y = batch\n",
    "        out = self.model(x)\n",
    "        loss = self.criterion(out, y)\n",
    "        self.log(\"loss_on_test\", loss, prog_bar=True)\n",
    "\n",
    "        # aux logging for lecture visualization\n",
    "        self.history[\"loss_on_test\"].append(loss.cpu().detach().item())"
   ]
  },
  {
   "cell_type": "markdown",
   "metadata": {},
   "source": [
    "Создадим и запустим обучение модели с **2-мя скрытыми слоями** и одним выходным слоем:"
   ]
  },
  {
   "cell_type": "code",
   "execution_count": null,
   "metadata": {},
   "outputs": [],
   "source": [
    "model_name = \"n_layers2_sigmoid\"\n",
    "model = SimpleMNIST_NN(n_layers=2)\n",
    "\n",
    "print(model)"
   ]
  },
  {
   "cell_type": "code",
   "execution_count": null,
   "metadata": {},
   "outputs": [],
   "source": [
    "from pytorch_lightning.loggers import TensorBoardLogger\n",
    "\n",
    "\n",
    "trainer = pl.Trainer(\n",
    "    max_epochs=5,\n",
    "    logger=TensorBoardLogger(save_dir=f\"logs/{model_name}\"),\n",
    "    num_sanity_val_steps=0,\n",
    ")\n",
    "\n",
    "pipeline = Pipeline(model=model, exp_name=model_name)\n",
    "\n",
    "trainer.fit(\n",
    "    model=pipeline,\n",
    "    train_dataloaders=train_loader,\n",
    "    val_dataloaders=test_loader,\n",
    ")\n",
    "\n",
    "history = pipeline.history\n",
    "history[\"epoсhs\"] = trainer.max_epochs\n",
    "history_plotter.add(history)"
   ]
  },
  {
   "cell_type": "code",
   "execution_count": null,
   "metadata": {},
   "outputs": [],
   "source": [
    "history_plotter.plot([model_name])"
   ]
  },
  {
   "cell_type": "markdown",
   "metadata": {},
   "source": [
    "А теперь посмотрим на модель **с 3-мя скрытыми слоями** и одним выходным слоем:"
   ]
  },
  {
   "cell_type": "code",
   "execution_count": null,
   "metadata": {},
   "outputs": [],
   "source": [
    "model_name = \"n_layers3_sigmoid\"\n",
    "model = SimpleMNIST_NN(n_layers=3)\n",
    "print(model)"
   ]
  },
  {
   "cell_type": "code",
   "execution_count": null,
   "metadata": {},
   "outputs": [],
   "source": [
    "trainer = pl.Trainer(\n",
    "    max_epochs=5,\n",
    "    logger=TensorBoardLogger(save_dir=f\"logs/{model_name}\"),\n",
    "    num_sanity_val_steps=0,\n",
    ")\n",
    "\n",
    "pipeline = Pipeline(model=model, exp_name=model_name)\n",
    "\n",
    "trainer.fit(model=pipeline, train_dataloaders=train_loader, val_dataloaders=test_loader)\n",
    "\n",
    "history = pipeline.history\n",
    "history[\"epoсhs\"] = trainer.max_epochs\n",
    "history_plotter.add(history)"
   ]
  },
  {
   "cell_type": "code",
   "execution_count": null,
   "metadata": {},
   "outputs": [],
   "source": [
    "history_plotter.plot([\"n_layers2_sigmoid\", model_name])"
   ]
  },
  {
   "cell_type": "markdown",
   "metadata": {},
   "source": [
    "**Замечание:** На самом деле, если увеличить learning rate, размер батча или число нейронов, то нейросеть начнет учиться. Это учебный пример, чтобы показать, что и такое бывает."
   ]
  },
  {
   "cell_type": "markdown",
   "metadata": {},
   "source": [
    "Нейросеть с тремя слоями вообще **не учится**. Почему? Можем попробовать разобраться.\n",
    "\n",
    "Для этого напишем функции, которые будут следить за **распределением градиентов** и **активаций** на наших слоях.\n",
    "\n",
    "Воспользуемся методами `register_forward_hook` и `register_backward_hook` из библиотеки PyTorch для того, чтобы выполнять эти функции при запуске прямого или обратного распространения через нашу сеть."
   ]
  },
  {
   "cell_type": "code",
   "execution_count": null,
   "metadata": {},
   "outputs": [],
   "source": [
    "from collections import defaultdict\n",
    "\n",
    "\n",
    "def get_forward_hook(history_dict, key):\n",
    "    def forward_hook(self, input_, output):\n",
    "        history_dict[key] = input_[0].cpu().detach().numpy().flatten()\n",
    "\n",
    "    return forward_hook\n",
    "\n",
    "\n",
    "def get_backward_hook(history_dict, key):\n",
    "    def backward_hook(grad):  # for tensors\n",
    "        history_dict[key] = grad.abs().cpu().detach().numpy().flatten()\n",
    "\n",
    "    return backward_hook\n",
    "\n",
    "\n",
    "def register_model_hooks(model):\n",
    "    cur_ind = 0\n",
    "    hooks_data_history = defaultdict(list)\n",
    "    for child in model.layers.children():\n",
    "        if isinstance(child, nn.Linear):\n",
    "            forward_hook = get_forward_hook(\n",
    "                hooks_data_history, f\"sigmoid_out_{cur_ind}\"\n",
    "            )\n",
    "            child.register_forward_hook(forward_hook)\n",
    "\n",
    "            cur_ind += 1\n",
    "            backward_hook = get_backward_hook(\n",
    "                hooks_data_history, f\"gradient_linear_{cur_ind}\"\n",
    "            )\n",
    "            child.weight.register_hook(backward_hook)\n",
    "    return hooks_data_history"
   ]
  },
  {
   "cell_type": "markdown",
   "metadata": {},
   "source": [
    "Запустим обучение **модели с 3 слоями**:"
   ]
  },
  {
   "cell_type": "code",
   "execution_count": null,
   "metadata": {},
   "outputs": [],
   "source": [
    "model_name = \"n_layers3_sigmoid2\"\n",
    "model = SimpleMNIST_NN(n_layers=3)\n",
    "\n",
    "hooks_data_history = register_model_hooks(model)\n",
    "\n",
    "trainer = pl.Trainer(\n",
    "    max_epochs=5,\n",
    "    logger=TensorBoardLogger(save_dir=f\"logs/{model_name}\"),\n",
    "    num_sanity_val_steps=0,\n",
    ")\n",
    "\n",
    "pipeline = Pipeline(model=model, exp_name=model_name)\n",
    "\n",
    "trainer.fit(model=pipeline, train_dataloaders=train_loader, val_dataloaders=test_loader)\n",
    "\n",
    "history = pipeline.history\n",
    "history[\"epoсhs\"] = trainer.max_epochs\n",
    "history_plotter.add(history)"
   ]
  },
  {
   "cell_type": "code",
   "execution_count": null,
   "metadata": {},
   "outputs": [],
   "source": [
    "history_plotter.plot([\"n_layers2_sigmoid\", model_name])"
   ]
  },
  {
   "cell_type": "code",
   "execution_count": null,
   "metadata": {},
   "outputs": [],
   "source": [
    "def plot_hooks_data(hooks_data_history):\n",
    "    keys = hooks_data_history.keys()\n",
    "    n_layers = len(keys) // 2\n",
    "\n",
    "    activation_names = [f\"sigmoid_out_{i}\" for i in range(1, n_layers)]\n",
    "    activations_on_layers = [\n",
    "        hooks_data_history[activation] for activation in activation_names\n",
    "    ]\n",
    "\n",
    "    gradient_names = [f\"gradient_linear_{i + 1}\" for i in range(n_layers)]\n",
    "    gradients_on_layers = [hooks_data_history[gradient] for gradient in gradient_names]\n",
    "\n",
    "    for plot_name, values, labels in zip(\n",
    "        [\"activations\", \"gradients\"],\n",
    "        [activations_on_layers, gradients_on_layers],\n",
    "        [activation_names, gradient_names],\n",
    "    ):\n",
    "        fig, ax = plt.subplots(1, len(labels), figsize=(14, 4), sharey=\"row\")\n",
    "        for label_idx, label in enumerate(labels):\n",
    "            ax[label_idx].boxplot(values[label_idx], labels=[label])\n",
    "        plt.show()"
   ]
  },
  {
   "cell_type": "code",
   "execution_count": null,
   "metadata": {},
   "outputs": [],
   "source": [
    "plot_hooks_data(hooks_data_history)"
   ]
  },
  {
   "cell_type": "markdown",
   "metadata": {},
   "source": [
    "Мы видим, что градиент нашей модели стремительно затухает. Первые слои (до которых градиент доходит последним), получают значения градиента, мало отличимые от нуля.\n",
    "\n",
    "Причем, это будет верно с самых первых шагов обучения нашей модели.\n",
    "\n",
    "\n",
    "\n"
   ]
  },
  {
   "cell_type": "markdown",
   "metadata": {},
   "source": [
    "# Затухание градиента"
   ]
  },
  {
   "cell_type": "markdown",
   "metadata": {},
   "source": [
    "Откуда оно берется?\n",
    "\n",
    "Посмотрим на обычную сигмоиду\n",
    "\n",
    "$$\\sigma(z) = \\dfrac 1 {1 + e^{-z}}$$\n",
    "\n",
    "Ее производная, как мы уже выводили, равна\n",
    "\n",
    "$$\\dfrac {\\partial \\sigma(z)} {\\partial z} = \\sigma(z) (1 - \\sigma(z))$$"
   ]
  },
  {
   "cell_type": "markdown",
   "metadata": {},
   "source": [
    "<img src =\"https://edunet.kea.su/repo/EduNet-content/dev-2.0/L07/out/activation_function_sigmoid.png\" width=\"1000\">"
   ]
  },
  {
   "cell_type": "markdown",
   "metadata": {},
   "source": [
    "Какое максимальное значение у такой функции?\n",
    "\n",
    "Сигмоида находится в пределах от $0$ до $1$. **Максимальное значение производной** по сигмоиде  $=\\dfrac 1 4$.\n",
    "\n",
    "Теперь возьмем простую нейронную сеть:\n"
   ]
  },
  {
   "cell_type": "markdown",
   "metadata": {},
   "source": [
    "<img src =\"https://edunet.kea.su/repo/EduNet-content/dev-2.0/L07/out/simple_nn_with_sigmoid.png\" width=\"750\">"
   ]
  },
  {
   "cell_type": "markdown",
   "metadata": {},
   "source": [
    "Посчитаем у нее градиент\n",
    "\n",
    "$$\\dfrac {\\partial L} {\\partial z_4} = \\dfrac {\\partial L} {\\partial y} \\dfrac {\\partial y} {\\partial z_4} = \\dfrac {\\partial L} {\\partial y} \\dfrac {\\partial \\sigma(w_5z)} {\\partial z} w_5 \\le \\dfrac 1 4 \\dfrac {\\partial L} {\\partial y}  w_5 $$\n",
    "\n",
    "Аналогично можно посчитать градиент для $z_3$\n",
    "\n",
    "$$\\dfrac {\\partial L} {\\partial z_3} = \\dfrac {\\partial L} {\\partial z_4} \\dfrac {\\partial z_4} {\\partial z_3} \\le \\dfrac {\\partial L} {\\partial y} \\dfrac {\\partial \\sigma(w_4z)} {\\partial z} w_5 \\le \\left({\\dfrac 1 4}\\right)^2 \\dfrac {\\partial L} {\\partial y}  w_5 w_4$$\n",
    "\n",
    "И так далее\n",
    "\n",
    "$$\\dfrac {\\partial L} {\\partial x}  \\le \\left({\\dfrac 1 4}\\right)^5 \\dfrac {\\partial L} {\\partial y}  w_5 w_4 w_3 w_2 w_1$$"
   ]
  },
  {
   "cell_type": "markdown",
   "metadata": {},
   "source": [
    "Таким образом:\n",
    "* градиент начинает **экспоненциально затухать**, если **веса маленькие**;\n",
    "\n",
    "* если **веса большие**, то градиент начинает **экспоненциально возрастать** (взрыв градиента).\n",
    "\n",
    "Для некоторых функций активации картина будет не столь катастрофична, но тоже неприятна.\n",
    "При выполнении заданий вы посмотрите, например, как ведет себя функция **ReLU** в этом случае."
   ]
  },
  {
   "cell_type": "markdown",
   "metadata": {},
   "source": [
    "Давайте подумаем, что можно сделать с нейронной сетью, чтобы она начала учиться. В начале рассмотрим методы, **не изменяющие структуру сети** (без добавления дополнительных слоев), также зафиксируем количество нейронов и параметры оптимизатора.\n"
   ]
  },
  {
   "cell_type": "markdown",
   "metadata": {},
   "source": [
    "# Нормализация входов и выходов"
   ]
  },
  {
   "cell_type": "markdown",
   "metadata": {},
   "source": [
    "Начнем с уже знакомого: **нормализация**."
   ]
  },
  {
   "cell_type": "markdown",
   "metadata": {},
   "source": [
    "## Нормализация входных данных"
   ]
  },
  {
   "cell_type": "markdown",
   "metadata": {},
   "source": [
    "Представим себе, что данные, которые мы подаем в нейросеть, распределены следующим образом:"
   ]
  },
  {
   "cell_type": "markdown",
   "metadata": {},
   "source": [
    "<img src =\"https://edunet.kea.su/repo/EduNet-content/dev-2.0/L07/out/data_before_normalization.png\" width=\"400\">"
   ]
  },
  {
   "cell_type": "markdown",
   "metadata": {},
   "source": [
    "Фактически нейросети работают со скалярными произведениями. В этом плане два вектора, изображенные на рисунке, **не сильно отличаются**. Также и точки нашего датасета слабо разделимы. Чтобы с этим работать, нейросеть сначала должна подобрать **удобное преобразование**, а затем сравнивать объекты. Понятно, что это усложняет задачу.\n",
    "\n",
    "Для того, чтобы облегчить нейросети задачу, входные признаки часто **нормируют**:\n",
    "\n",
    "$$x1' = \\dfrac {x1 - \\mu_{x1}} {\\sigma_{x1}}$$\n",
    "\n",
    "$$x2' = \\dfrac {x2 - \\mu_{x2}} {\\sigma_{x2}}$$"
   ]
  },
  {
   "cell_type": "markdown",
   "metadata": {},
   "source": [
    "<img src =\"https://edunet.kea.su/repo/EduNet-content/dev-2.0/L07/out/data_after_normalization.png\" width=\"450\">\n"
   ]
  },
  {
   "cell_type": "markdown",
   "metadata": {},
   "source": [
    " Такое преобразование действительно помогает нейросети:"
   ]
  },
  {
   "cell_type": "markdown",
   "metadata": {},
   "source": [
    "$$ \\large J(w,b) = \\frac1m \\sum L(\\hat{y^i}, y^i)$$"
   ]
  },
  {
   "cell_type": "markdown",
   "metadata": {},
   "source": [
    "<center><img src =\"https://edunet.kea.su/repo/EduNet-content/dev-2.0/L07/out/normalization_helps_find_minimum_of_function.png\" width=\"700\"></center>\n",
    "\n",
    "<center><em>Нормализация позволяет искать минимум целевой функции удобнее и быстрее</em></center>\n"
   ]
  },
  {
   "cell_type": "markdown",
   "metadata": {},
   "source": [
    "## Нормализация целевых значений в задаче регрессии"
   ]
  },
  {
   "cell_type": "markdown",
   "metadata": {},
   "source": [
    "В ряде приложений также нужна **нормализация выходных значений**, например, в задаче **регрессии**. Существует несколько причин, почему это необходимо."
   ]
  },
  {
   "cell_type": "markdown",
   "metadata": {},
   "source": [
    "### Взрыв градиента"
   ]
  },
  {
   "cell_type": "markdown",
   "metadata": {},
   "source": [
    "В большинстве случаев мы **нормализуем входные данные**, чтобы среднее значение было равно $0$."
   ]
  },
  {
   "cell_type": "code",
   "execution_count": null,
   "metadata": {},
   "outputs": [],
   "source": [
    "import torch\n",
    "import matplotlib.pyplot as plt\n",
    "\n",
    "x = torch.randn((512, 100))  # Fake normalized data\n",
    "plt.hist(x.mean(dim=0), bins=20)\n",
    "plt.show()\n",
    "print(f\"X mean: {x.mean().item():.2f} X variance: {x.var().item():.2f}\")"
   ]
  },
  {
   "cell_type": "markdown",
   "metadata": {},
   "source": [
    "Кроме этого мы определенным **случайным** образом инициализируем веса."
   ]
  },
  {
   "cell_type": "code",
   "execution_count": null,
   "metadata": {},
   "outputs": [],
   "source": [
    "from torch import nn\n",
    "\n",
    "net = nn.Sequential(\n",
    "    nn.Linear(100, 50),  # weights randomly sampled from some random distribution\n",
    "    nn.Sigmoid(),\n",
    "    nn.Linear(50, 1),\n",
    ")"
   ]
  },
  {
   "cell_type": "markdown",
   "metadata": {},
   "source": [
    "Веса **нормально распределены вокруг нуля**:\n",
    "\n",
    "\n"
   ]
  },
  {
   "cell_type": "code",
   "execution_count": null,
   "metadata": {},
   "outputs": [],
   "source": [
    "weights = net[0].weight.data.numpy()\n",
    "plt.hist(weights.flatten(), bins=20)\n",
    "plt.show()\n",
    "\n",
    "print(f\"Weights mean: {weights.mean():.2f},  Weights variance: {weights.var():.2f}\")"
   ]
  },
  {
   "cell_type": "markdown",
   "metadata": {},
   "source": [
    "Необученная сеть будет чаще всего предсказывать значения порядка $10^{-1}$."
   ]
  },
  {
   "cell_type": "code",
   "execution_count": null,
   "metadata": {},
   "outputs": [],
   "source": [
    "out = net(x)\n",
    "plt.hist(out.detach().numpy(), bins=20)\n",
    "plt.show()\n",
    "\n",
    "print(f\"Out mean: {out.mean().item():.2f}, Out variance: {out.var().item():.2f}\")"
   ]
  },
  {
   "cell_type": "markdown",
   "metadata": {},
   "source": [
    "Предположим, мы предсказываем какую-то большую величину. Например, [стоимость дома в штате Калифорния в долларах 🛠️[doc]](https://scikit-learn.org/stable/datasets/real_world.html#california-housing-dataset) (в датасете в Sklearn целевое значение нормировано на $100\\ 000\\$$). Стоимость лежит в диапазоне от $15\\ 000\\$$ до $500\\ 000\\$$.\n",
    "\n",
    "Выберем случайные значения в этом диапазоне."
   ]
  },
  {
   "cell_type": "code",
   "execution_count": null,
   "metadata": {},
   "outputs": [],
   "source": [
    "# fake cost\n",
    "targets = torch.randint(15_000, 500_000, (512, 1), dtype=torch.float32)\n",
    "print(f\"Target example: {targets[:10].flatten()}\")"
   ]
  },
  {
   "cell_type": "markdown",
   "metadata": {},
   "source": [
    "Если мы будем пытаться предсказывать эти значения, мы получим **очень большую ошибку**."
   ]
  },
  {
   "cell_type": "code",
   "execution_count": null,
   "metadata": {},
   "outputs": [],
   "source": [
    "criterion = nn.MSELoss()\n",
    "loss = criterion(out, targets)\n",
    "loss.backward()\n",
    "\n",
    "print(f\"Loss: {loss.item():.2f}\")"
   ]
  },
  {
   "cell_type": "markdown",
   "metadata": {},
   "source": [
    "Эта ошибка приведет к **большим значениям градиента** (cмотрим на значения по $x$), **большим значениям весов** и **нестабильному обучению**."
   ]
  },
  {
   "cell_type": "code",
   "execution_count": null,
   "metadata": {},
   "outputs": [],
   "source": [
    "import pandas as pd\n",
    "import seaborn as sns\n",
    "\n",
    "layer_names = (\"Linear 1\", \"Sigmoid\", \"Linear 2\", \"Loss\")\n",
    "gradient_values = {}\n",
    "for layer_name, p in zip(layer_names, net.parameters()):\n",
    "    gradient_values[layer_name] = pd.Series(p.grad.detach().flatten().numpy())\n",
    "    # print(f\"{layer_name} grad: \\n {p.grad}\")\n",
    "\n",
    "gradient_values = pd.DataFrame(gradient_values)\n",
    "data_to_plot = gradient_values.melt(value_name=\"Gradient value\", var_name=\"Layer name\")\n",
    "\n",
    "plt.figure(figsize=(10, 4))\n",
    "sns.boxplot(data=data_to_plot, x=\"Gradient value\", y=\"Layer name\")\n",
    "plt.grid()\n",
    "plt.title(f\"Large gradient values in the case of learning on a nonnormalized target\")\n",
    "plt.show()"
   ]
  },
  {
   "cell_type": "markdown",
   "metadata": {},
   "source": [
    "Если мы **стандартизуем целевые значения**:"
   ]
  },
  {
   "cell_type": "code",
   "execution_count": null,
   "metadata": {},
   "outputs": [],
   "source": [
    "mean = targets.float().mean()\n",
    "std = targets.float().std()\n",
    "\n",
    "transformed_targets = (targets - mean) / std\n",
    "print(transformed_targets.flatten()[:10])"
   ]
  },
  {
   "cell_type": "markdown",
   "metadata": {},
   "source": [
    "То получим ошибку на 10 порядков **меньше**:"
   ]
  },
  {
   "cell_type": "code",
   "execution_count": null,
   "metadata": {},
   "outputs": [],
   "source": [
    "net.zero_grad()\n",
    "out = net(x)\n",
    "loss = criterion(out, transformed_targets)\n",
    "loss.backward()\n",
    "\n",
    "print(f\"Loss: {loss.item():.2f}\")"
   ]
  },
  {
   "cell_type": "markdown",
   "metadata": {},
   "source": [
    "И **небольшие градиенты** (cмотрим на значения по $x$):\n"
   ]
  },
  {
   "cell_type": "code",
   "execution_count": null,
   "metadata": {},
   "outputs": [],
   "source": [
    "layer_names = (\"Linear 1\", \"Sigmoid\", \"Linear 2\", \"Loss\")\n",
    "gradient_values = {}\n",
    "for layer_name, p in zip(layer_names, net.parameters()):\n",
    "    gradient_values[layer_name] = pd.Series(p.grad.detach().flatten().numpy())\n",
    "    # print(f\"{layer_name} grad: \\n {p.grad}\")\n",
    "\n",
    "gradient_values = pd.DataFrame(gradient_values)\n",
    "data_to_plot = gradient_values.melt(value_name=\"Gradient value\", var_name=\"Layer name\")\n",
    "\n",
    "plt.figure(figsize=(10, 4))\n",
    "sns.boxplot(data=data_to_plot, x=\"Gradient value\", y=\"Layer name\")\n",
    "plt.grid()\n",
    "plt.title(f\"Large gradient values in the case of learning on a nonnormalized target\")\n",
    "plt.show()"
   ]
  },
  {
   "cell_type": "markdown",
   "metadata": {},
   "source": [
    "### Multi-Dimensional регрессия"
   ]
  },
  {
   "cell_type": "markdown",
   "metadata": {},
   "source": [
    "В ряде задач, например, при [**использовании нейронных сетей для моделирования физических процессов** 🎓[arxiv]](https://arxiv.org/abs/2007.13875), в задаче регрессии необходимо вычислять **несколько целевых значений**. При этом необходимо помнить, что в качестве функционала ошибки в задачах регрессии часто выбирается **метрика расстояния**, а физические величины могут иметь **различный порядок** и **диапазон значений**. Не самая лучшая идея — считать расстояние, когда по одной оси отложены нанометры, а по другой — килограммы.\n"
   ]
  },
  {
   "cell_type": "markdown",
   "metadata": {},
   "source": [
    "В физических задачах полезно изучить, какие нормировки используют в **численных методах** для получения [безразмерных (**dimensionless**) величин 📚[book]](https://www.physics.umd.edu/perg/MathPhys/content/2/pstruc/dimsDE.htm). Это может подсказать хорошую, физически обоснованную нормировку.\n"
   ]
  },
  {
   "cell_type": "markdown",
   "metadata": {},
   "source": [
    "# Инициализация весов"
   ]
  },
  {
   "cell_type": "markdown",
   "metadata": {},
   "source": [
    "Одним из способов борьбы с затухающим градиентом является правильная **инициализация весов**. Как это сделать?\n",
    "\n",
    "**Идея 1:** инициализировать все веса константой.\n",
    "\n",
    "Проблема: градиент по всем весам будет одинаков, как и обновление весов. Все нейроны в слое будут учить одно и то же, или, в случае $\\text{const} = 0$ и активации $\\text{ReLU}$, [не будут учиться вообще ✏️[blog]](https://habr.com/ru/post/592711/).\n",
    "\n",
    "Вывод: в качестве начальных весов нужно выбирать различные значения."
   ]
  },
  {
   "cell_type": "markdown",
   "metadata": {},
   "source": [
    "**Идея 2:** инициализировать веса нормальным (Гауссовским) шумом с матожиданием $0$ и маленькой дисперсией.\n",
    "\n",
    "Маленькая дисперсия нужна, чтобы не получить огромные градиенты за большие изначальные ошибки в предсказании."
   ]
  },
  {
   "cell_type": "code",
   "execution_count": null,
   "metadata": {},
   "outputs": [],
   "source": [
    "# Normal distribution: mu = 0, sigma = 1\n",
    "\n",
    "x = np.arange(-4, 4.1, 0.1)\n",
    "y = np.exp(-np.square(x) / 2) / np.sqrt(2 * np.pi)\n",
    "\n",
    "plt.style.use(\"seaborn-v0_8-whitegrid\")\n",
    "plt.title(\"Normal distribution: mu = 0, sigma = 1\", size=15)\n",
    "plt.plot(x, y)\n",
    "plt.show()"
   ]
  },
  {
   "cell_type": "markdown",
   "metadata": {},
   "source": [
    "Проблема: инициализация нормальным шумом не гарантирует отсутствие взрыва или затухания градиета."
   ]
  },
  {
   "cell_type": "markdown",
   "metadata": {},
   "source": [
    "**Идея 3:** формализуем условия, при которых взрыв или затухание градиентов не будут происходить.\n",
    "\n",
    "1. Нам бы хотелось, чтобы **дисперсии признаков**, получаемых на каждом слое, были одинаковы (т.е мы хотим задать начальные веса таким образом, чтобы входные признаки каждого линейного слоя были **одинаково нормализованы**).\n",
    "\n",
    "Это важно, т.к. значения признаков используются при расчете градиента. Например, для линейного слоя:\n",
    "$$y = wx+b$$\n",
    "$$\\dfrac{\\partial y} {\\partial w} = x$$\n",
    "\n",
    "Запишем это условие:\n",
    "\n",
    "$$Dz^i = Dz^j. \\tag{1}$$\n",
    "\n",
    "2. Нам бы хотелось, чтобы **дисперсии градиентов** для разных слоев были одинаковы:\n",
    "\n",
    "$$D\\dfrac {\\partial L} {\\partial z^i} = D\\dfrac {\\partial L} {\\partial z^j}. \\tag{2}$$\n",
    "\n",
    "\n",
    "При выполнении этих условий градиент **не затухает** и **не взрывается**.\n",
    "\n",
    "Инициализации Ксавье и Каймин Хе пытаются выполнить эти условия."
   ]
  },
  {
   "cell_type": "markdown",
   "metadata": {},
   "source": [
    "## Инициализация Ксавье (Xavier Glorot)"
   ]
  },
  {
   "cell_type": "markdown",
   "metadata": {},
   "source": [
    "Рассмотрим функцию активации **гиперболический тангенс** (Tanh)."
   ]
  },
  {
   "cell_type": "markdown",
   "metadata": {},
   "source": [
    "<img src =\"https://edunet.kea.su/repo/EduNet-content/dev-2.0/L07/out/simple_nn_with_tanh.png\" width=\"750\">"
   ]
  },
  {
   "cell_type": "markdown",
   "metadata": {},
   "source": [
    "Это — [нечетная функция 📚[wiki]](https://ru.wikipedia.org/wiki/%D0%A7%D1%91%D1%82%D0%BD%D0%BE%D1%81%D1%82%D1%8C_%D1%84%D1%83%D0%BD%D0%BA%D1%86%D0%B8%D0%B8) с единичной производной в нуле. Функция и ее производная изображены ниже."
   ]
  },
  {
   "cell_type": "code",
   "execution_count": null,
   "metadata": {},
   "outputs": [],
   "source": [
    "x = np.arange(-10, 10.1, 0.1)\n",
    "y = np.tanh(x)\n",
    "dy = 1 / np.cosh(x)\n",
    "\n",
    "plt.style.use(\"seaborn-v0_8-whitegrid\")\n",
    "fig, (im1, im2) = plt.subplots(2, 1, figsize=(7, 7))\n",
    "im1.set(title=\"tanh(x)\")\n",
    "\n",
    "# fmt: off\n",
    "im1.plot(x[0:51], y[0:51], \"#F9B041\",\n",
    "         x[150:201], y[150:201], \"#F9B041\",\n",
    "         x[50:96], y[50:96], \"#2DA9E1\",\n",
    "         x[105:151], y[105:151], \"#2DA9E1\",\n",
    "         x[95:106], y[95:106], \"#4AAE4D\",)\n",
    "im1.grid(True)\n",
    "im2.set(title=\"tanh'(x)\")\n",
    "im2.plot(x[0:51], dy[0:51], \"#F9B041\",\n",
    "         x[150:201], dy[150:201], \"#F9B041\",\n",
    "         x[50:96], dy[50:96], \"#2DA9E1\",\n",
    "         x[105:151], dy[105:151], \"#2DA9E1\",\n",
    "         x[95:106], dy[95:106], \"#4AAE4D\",)\n",
    "# fmt: on\n",
    "\n",
    "im2.grid(True)\n",
    "plt.show()"
   ]
  },
  {
   "cell_type": "markdown",
   "metadata": {},
   "source": [
    "Третья интуиция, которая нам понадобится: нам важно не попасть в <font color='#F9B041'>**оранжевые**</font>  зоны с почти нулевой производной, т.к. в этих областях градиент затухает. Мы хотим инициализировать веса таким образом, чтобы признаки, поступающие на слой активации, находились в <font color='#4AAE4D'>**зеленой**</font> области в окрестности нуля. Матожидание признаков, поступающих на слой активации, будет равно нулю:\n",
    "$$E(z^i_t w_{kt})=0.$$\n",
    "\n"
   ]
  },
  {
   "cell_type": "markdown",
   "metadata": {},
   "source": [
    "В <font color='#4AAE4D'>**зеленой**</font> области условия $(1)$ и $(2)$ можно переписать как:\n",
    "\n",
    "$$n_iDW^i = 1,$$\n",
    "$$n_{i+1}DW^i = 1,$$\n",
    "\n",
    "где $n_i$ — размерность выхода слоя i-го слоя.\n"
   ]
  },
  {
   "cell_type": "markdown",
   "metadata": {},
   "source": [
    "Если размерность слоев отличается, то условия невыполнимы одновременно:\n",
    "\n",
    " $$n_i \\ne n_{i+1}. $$\n",
    "\n",
    "На практике хорошо работает компромисс — среднее гармоническое решений первого $\\dfrac 1 {n_i}$ и второго $\\dfrac 1 {n_{i+1}}$ уравнения:\n",
    "\n",
    "$$DW^i = \\dfrac 2 {n_i + n_{i+1}}.$$"
   ]
  },
  {
   "cell_type": "markdown",
   "metadata": {},
   "source": [
    "**Итого:** нам нужно инициализировать веса нейронов случайными величинами со следующими матожиданием и дисперсией:\n",
    "\n",
    "$$ EW^i = 0,$$\n",
    "\n",
    "$$DW^i = \\dfrac 2 {n_i + n_{i+1}}.$$\n",
    "\n",
    "Мы можем взять [равномерное распределение 📚[wiki]](https://ru.wikipedia.org/wiki/%D0%9D%D0%B5%D0%BF%D1%80%D0%B5%D1%80%D1%8B%D0%B2%D0%BD%D0%BE%D0%B5_%D1%80%D0%B0%D0%B2%D0%BD%D0%BE%D0%BC%D0%B5%D1%80%D0%BD%D0%BE%D0%B5_%D1%80%D0%B0%D1%81%D0%BF%D1%80%D0%B5%D0%B4%D0%B5%D0%BB%D0%B5%D0%BD%D0%B8%D0%B5). Именно такое распределение было предложено в [Understanding the difficulty of training deep feedforward neural networks 🎓[article]](http://proceedings.mlr.press/v9/glorot10a/glorot10a.pdf):\n",
    "\n",
    "$$W_i \\sim U[a, b ],$$\n",
    "\n",
    "где $a=-b$, так как матожидание равно $0$.\n",
    "\n",
    "Дисперсия которого выражается формулой:\n",
    "$$D(U[a, b]) = \\dfrac 1 {12} (b -a)^2 = \\dfrac 4 {12} b^2 = \\dfrac 1 {3} b^2.$$\n",
    "\n",
    "Получим:\n",
    "\n",
    "$$ b = \\sqrt{\\dfrac {6} {n_i + n_{i + 1}}}$$\n",
    "\n",
    "**Итого:**\n",
    "\n",
    "$$W_i \\sim U[-\\sqrt{\\dfrac {6} {n_i + n_{i + 1}}}, \\sqrt{\\dfrac {6} {n_i + n_{i + 1}}}],$$\n",
    "\n",
    "где $n_i$ — размерность выхода слоя n-го слоя.\n",
    "\n",
    "\n"
   ]
  },
  {
   "cell_type": "markdown",
   "metadata": {},
   "source": [
    "Можно использовать и другие распределения, например [нормальное 📚[wiki]](https://ru.wikipedia.org/wiki/%D0%9D%D0%BE%D1%80%D0%BC%D0%B0%D0%BB%D1%8C%D0%BD%D0%BE%D0%B5_%D1%80%D0%B0%D1%81%D0%BF%D1%80%D0%B5%D0%B4%D0%B5%D0%BB%D0%B5%D0%BD%D0%B8%D0%B5). Для него получится:\n",
    "$$W_i \\sim N (0,  std=\\sqrt{\\dfrac{2}{n_i + n_{i + 1}}})$$\n",
    "Результат получится аналогичный.\n"
   ]
  },
  {
   "cell_type": "markdown",
   "metadata": {},
   "source": [
    "Чтобы понять, что происходит с выходами слоя активации при использовании инициализации Xavier, рассмотрим картинку из оригинальной статьи [Understanding the difficulty of training deep feedforward neural networks (Xavier, Yoshua, 2010) 🎓[article]](http://proceedings.mlr.press/v9/glorot10a/glorot10a.pdf):"
   ]
  },
  {
   "cell_type": "markdown",
   "metadata": {},
   "source": [
    "<center><img src =\"https://edunet.kea.su/repo/EduNet-web_dependencies/dev-2.0/L07/xavier_procentile_and_deviation_with_and_without_init.png\" width=\"600\"></center>\n",
    "\n",
    "<center><em>Source: <a href=\"http://proceedings.mlr.press/v9/glorot10a/glorot10a.pdf\">Understanding the difficulty of training deep feedforward neural networks</a></em></center>"
   ]
  },
  {
   "cell_type": "markdown",
   "metadata": {},
   "source": [
    "На картинке изображена зависимость 98-[процентиля 📚[wiki]](https://en.wikipedia.org/wiki/Percentile) (отдельные маркеры) и стандартного отклонения (соединенные маркеры) значений на выходе слоя активации $\\text{tanh}$ от эпохи обучения для различных слоев нейросети.\n",
    "\n",
    "Верхнее изображение — инициализация весов с помощью нормального распределения $W_i \\sim U[-\\dfrac {1} {\\sqrt{n_i}}, \\dfrac {1} {\\sqrt{n_i}} ]$. Нижнее — с использованием инициализации Xavier.\n",
    "\n",
    "На верхнем изображении видно, как значения $98$-процентиля уходят в значения $+1$ и $-1$ (сначала на выходе первого слоя, потом на выходе второго и т.д.). Это значит, что для части нейронов происходит затухание градиентов (они переходят в область, отмеченную на графиках $\\text{tanh}(x)$, $\\text{tanh}’(x)$ <font color='#F9B041'>**оранжевым**</font>  и перестают учиться). На нижней картинке такого не происходит.\n",
    "\n",
    "Xavier используется для симметричных функций активаций, таких как **tanh** и **sigmoid**.\n"
   ]
  },
  {
   "cell_type": "markdown",
   "metadata": {},
   "source": [
    "Вообще говоря, коэффициенты в инициализациях (числитель в формуле для дисперсии) зависят от конкретной **выбранной функции активации**.\n",
    "В PyTorch есть [функции 🛠️[doc]](https://pytorch.org/docs/stable/nn.init.html) для вычисления этих коэффициентов.\n"
   ]
  },
  {
   "cell_type": "markdown",
   "metadata": {},
   "source": [
    "## Инициализация Каймин Хе (Kaiming He)"
   ]
  },
  {
   "cell_type": "markdown",
   "metadata": {},
   "source": [
    "Для функции активации **ReLU** и ее модификаций (**PReLU**, **Leaky ReLU** и т.д.) аналогично инициализации Xavier можно расписать условия $(1)$, $(2)$. Так вводится He-инициализация."
   ]
  },
  {
   "cell_type": "markdown",
   "metadata": {},
   "source": [
    "Условия $(1)$, $(2)$ эквивалентны условиям:\n",
    "\n",
    "$$  \\dfrac {n_iDW^i} {2}  = 1, $$\n",
    "\n",
    "$$\\dfrac {n_{i+1}DW^i} {2} = 1.$$\n",
    "\n",
    "Можно опять взять среднее гармоническое. Но на практике берут либо $\\displaystyle \\frac 2 {n_i}$, либо $\\displaystyle \\frac 2 {n_i + 1}$."
   ]
  },
  {
   "cell_type": "markdown",
   "metadata": {},
   "source": [
    "Итого получим для нормального распределения:\n",
    "\n",
    "$$W^i \\sim N(0, std=\\sqrt{\\frac 2 {n_i}})$$\n",
    "\n",
    "Для равномерного распределения:\n",
    "$$W^i \\sim U(-\\sqrt{\\frac 3 {n_i}}, \\sqrt{\\frac 3 {n_i}})$$\n",
    "\n",
    "Более подробно о выводе инициализации Каймин Хе:\n",
    "\n",
    "[[arxiv] 🎓 Delving Deep into Rectifiers: Surpassing Human-Level Performance on ImageNet Classification (He et al., 2015)](https://arxiv.org/pdf/1502.01852v1.pdf)"
   ]
  },
  {
   "cell_type": "markdown",
   "metadata": {},
   "source": [
    "## Важность инициализации весов"
   ]
  },
  {
   "cell_type": "markdown",
   "metadata": {},
   "source": [
    "1. Нейросеть может **сойтись значительно быстрее**. Графики для активации **ReLU**:\n"
   ]
  },
  {
   "cell_type": "markdown",
   "metadata": {},
   "source": [
    "<img src =\"https://edunet.kea.su/repo/EduNet-web_dependencies/dev-2.0/L07/weight_initialization_influence_convergence_neural_networks.png\" width=\"550\">\n",
    "\n",
    "<em>Обучение нейронной сети с 22 слоями при использовании инициализации He и Xavier<br>Source: <a href=\"https://arxiv.org/pdf/1502.01852v1.pdf\">Delving Deep into Rectifiers: Surpassing Human-Level Performance on ImageNet Classification</a></em>\n",
    "\n"
   ]
  },
  {
   "cell_type": "markdown",
   "metadata": {},
   "source": [
    "2. В зависимости от выбранной активации сеть вообще может **сойтись или не сойтись**. Графики для активации **ReLU**:"
   ]
  },
  {
   "cell_type": "markdown",
   "metadata": {},
   "source": [
    "<img src =\"https://edunet.kea.su/repo/EduNet-web_dependencies/dev-2.0/L07/activation_function_influence_convergence_neural_networks.png\" width=\"550\">\n",
    "\n",
    "<em>Обучение нейронной сети с 22 слоями при использовании инициализации He и Xavier<br>Source: <a href=\"https://arxiv.org/pdf/1502.01852v1.pdf\">Delving Deep into Rectifiers: Surpassing Human-Level Performance on ImageNet Classification</a></em>"
   ]
  },
  {
   "cell_type": "markdown",
   "metadata": {},
   "source": [
    "## Ортогональная инициализация"
   ]
  },
  {
   "cell_type": "markdown",
   "metadata": {},
   "source": [
    "Другой идеей является **ортогональная инициализация**.\n",
    "[Преобразование 📚[wiki]](https://ru.wikipedia.org/wiki/%D0%9B%D0%B8%D0%BD%D0%B5%D0%B9%D0%BD%D0%BE%D0%B5_%D0%BE%D1%82%D0%BE%D0%B1%D1%80%D0%B0%D0%B6%D0%B5%D0%BD%D0%B8%D0%B5), заданное [ортогональной матрицей 📚[wiki]](https://ru.wikipedia.org/wiki/%D0%9E%D1%80%D1%82%D0%BE%D0%B3%D0%BE%D0%BD%D0%B0%D0%BB%D1%8C%D0%BD%D0%B0%D1%8F_%D0%BC%D0%B0%D1%82%D1%80%D0%B8%D1%86%D0%B0), **не изменяет расстояние между точками**. Можно представить **ортогональную матрицу** как [матрицу поворота 📚[wiki]](https://ru.wikipedia.org/wiki/%D0%9C%D0%B0%D1%82%D1%80%D0%B8%D1%86%D0%B0_%D0%BF%D0%BE%D0%B2%D0%BE%D1%80%D0%BE%D1%82%D0%B0) (это не совсем верно, т.к. матрицы перестановки тоже ортогональны), т.е. линейный слой будет **разворачивать** карту признаков, чтобы собирать их линейные комбинации, **не изменяя масштаб признаков**.\n"
   ]
  },
  {
   "cell_type": "markdown",
   "metadata": {},
   "source": [
    "Для каждого слоя мы убеждаемся, что изначальная матрица весов является ортогональной.\n",
    "\n",
    "Выберем ортогональную матрицу весов:\n",
    "$$W: WW^T = 1$$\n",
    "\n",
    "Тогда:\n",
    "1. Норма активации сохраняется (активации между слоями остаются в одном масштабе):\n",
    "$$||s_{i+1}|| = ||W_{i}s_i|| = ||s_i||$$\n",
    "\n",
    "2. Все нейроны делают «разные» преобразования:\n",
    "$$ ⟨W_i, W_j⟩ = 0~i \\ne j$$\n",
    "$$ ⟨W_i, W_j⟩ = 1~i = j$$\n",
    "\n",
    "\n",
    "Замечание: т.к. ортогональные матрицы бывают только квадратные, то этот метод подходит только для слоев с одинаковым количеством входных и выходных значений.\n"
   ]
  },
  {
   "cell_type": "markdown",
   "metadata": {},
   "source": [
    "Иногда такая инициализация обеспечивает значительно лучшую сходимость. Подробнее:\n",
    "\n",
    "[[arxiv] 🎓 Exact solutions to the nonlinear dynamics of learning in\n",
    "deep linear neural networks (Saxe et al., 2014)](https://arxiv.org/pdf/1312.6120.pdf)"
   ]
  },
  {
   "cell_type": "markdown",
   "metadata": {},
   "source": [
    "## Инициализация весов в PyTorch"
   ]
  },
  {
   "cell_type": "markdown",
   "metadata": {},
   "source": [
    "Для инициализации весов в PyTorch используется модуль `torch.nn.init`, в котором для этого определены разные функции.\n",
    "\n",
    "Нюанс состоит в том, что обычно для слоев разного типа может требоваться разная инициализация. Поэтому в функции, которая инициализирует слои вашей нейронной сети, желательно прописывать разное поведение для разных слоев.\n",
    "\n",
    "Попробуем, например, добавить в нашу нейросеть инициализацию. Нам нужна инициализация Xavier, так как у нас `nn.Sigmoid`."
   ]
  },
  {
   "cell_type": "markdown",
   "metadata": {},
   "source": [
    "Метод `torch.nn.init.calculate_gain` возвращает рекомендуемое значение коэффициента масштабирования для стандартного отклонения заданной функции активации."
   ]
  },
  {
   "cell_type": "code",
   "execution_count": null,
   "metadata": {},
   "outputs": [],
   "source": [
    "class SimpleMNIST_NN(nn.Module):\n",
    "    def __init__(self, n_layers, activation=nn.Sigmoid, init_form=\"normal\"):\n",
    "        super().__init__()\n",
    "        self.n_layers = n_layers\n",
    "        self.activation = activation()\n",
    "        layers = [nn.Linear(28 * 28, 100), self.activation]\n",
    "        for _ in range(0, n_layers - 1):\n",
    "            layers.append(nn.Linear(100, 100))\n",
    "            layers.append(self.activation)\n",
    "        layers.append(nn.Linear(100, 10))\n",
    "        self.layers = nn.Sequential(*layers)\n",
    "        self.init_form = init_form\n",
    "        if self.init_form is not None:\n",
    "            self.init()\n",
    "\n",
    "    def forward(self, x):\n",
    "        x = x.view(-1, 28 * 28)\n",
    "        x = self.layers(x)\n",
    "        return x\n",
    "\n",
    "    # xavier weight initialization\n",
    "    def init(self):\n",
    "        sigmoid_gain = torch.nn.init.calculate_gain(\"sigmoid\")\n",
    "        for child in self.layers.children():\n",
    "            if isinstance(child, nn.Linear):\n",
    "                if self.init_form == \"normal\":\n",
    "                    torch.nn.init.xavier_normal_(child.weight, gain=sigmoid_gain)\n",
    "                    if child.bias is not None:\n",
    "                        torch.nn.init.zeros_(child.bias)\n",
    "                elif self.init_form == \"uniform\":\n",
    "                    torch.nn.init.xavier_uniform_(child.weight, gain=sigmoid_gain)\n",
    "                    if child.bias is not None:\n",
    "                        torch.nn.init.zeros_(child.bias)\n",
    "                else:\n",
    "                    raise NotImplementedError()"
   ]
  },
  {
   "cell_type": "markdown",
   "metadata": {},
   "source": [
    "Запустим обучение модели с инициализацией весов Xavier:"
   ]
  },
  {
   "cell_type": "code",
   "execution_count": null,
   "metadata": {},
   "outputs": [],
   "source": [
    "model_name = \"n3_layers_sigmoid_havier\"\n",
    "odel = SimpleMNIST_NN(n_layers=3, init_form=\"normal\")\n",
    "\n",
    "# plotting weights values of first(input layer)\n",
    "plt.figure(figsize=(12, 4))\n",
    "plt.hist(\n",
    "    list(model.layers.children())[0].weight.cpu().detach().numpy().reshape(-1), bins=100\n",
    ")\n",
    "plt.title(\"weights histogram\")\n",
    "plt.xlabel(\"values\")\n",
    "plt.ylabel(\"counts\")\n",
    "plt.show()"
   ]
  },
  {
   "cell_type": "code",
   "execution_count": null,
   "metadata": {},
   "outputs": [],
   "source": [
    "trainer = pl.Trainer(\n",
    "    max_epochs=5,\n",
    "    logger=TensorBoardLogger(save_dir=f\"logs/{model_name}\"),\n",
    "    num_sanity_val_steps=0,\n",
    ")\n",
    "\n",
    "pipeline = Pipeline(model=model, exp_name=model_name)\n",
    "\n",
    "trainer.fit(model=pipeline, train_dataloaders=train_loader, val_dataloaders=test_loader)\n",
    "\n",
    "history = pipeline.history\n",
    "history[\"epoсhs\"] = trainer.max_epochs\n",
    "history_plotter.add(history)"
   ]
  },
  {
   "cell_type": "code",
   "execution_count": null,
   "metadata": {},
   "outputs": [],
   "source": [
    "history_plotter.plot([\"n_layers3_sigmoid\", model_name])"
   ]
  },
  {
   "cell_type": "markdown",
   "metadata": {},
   "source": [
    "Видим, что нейросеть стала хоть как-то учиться."
   ]
  },
  {
   "cell_type": "markdown",
   "metadata": {},
   "source": [
    "# Слои нормализации"
   ]
  },
  {
   "cell_type": "markdown",
   "metadata": {},
   "source": [
    "## Internal covariate shift"
   ]
  },
  {
   "cell_type": "markdown",
   "metadata": {},
   "source": [
    "В [статье про Batch Normalization 🎓[arxiv]](https://arxiv.org/pdf/1502.03167.pdf) авторы предположили, что похожее явление имеет место внутри нейросети, назвав его **internal covariate shift**.\n",
    "\n",
    "**Internal covariate shift** — это изменение распределения выхода слоя активации из-за изменения обучаемых параметров во время обучения.\n",
    "\n",
    "Пусть у нас $k$-ый нейрон $i$-го слоя переводит выход $i$−1 слоя с распределениями <font color='#F9B041'>$f^{(j)}_{i-1}(x)$</font> в новое пространство с распределением <font color='#5D5DA6'>$f^{(k)}_{i}(x)$</font>."
   ]
  },
  {
   "cell_type": "markdown",
   "metadata": {},
   "source": [
    "<img src =\"https://edunet.kea.su/repo/EduNet-content/dev-2.0/L07/out/internal_covariate_shift_example.png\" width=\"1000\">"
   ]
  },
  {
   "cell_type": "markdown",
   "metadata": {},
   "source": [
    "При обучении:\n",
    "- нейросеть делает предсказание,\n",
    "- считается значение функции потерь,\n",
    "- делается обратное распространение ошибки,\n",
    "- обновляются веса.\n",
    "\n",
    "\n",
    "После обновления весов $k$-ый нейрон $i$-го слоя будет переводить выходы $i$−1 слоя <font color='#F9B041'>$f^{(j)}_{i-1}(x)$</font> в пространство с другим распределением <font color='#5D5DA6'>$f^{*(k)}_{i}(x)$</font>.\n",
    "\n",
    "При этом $i$+1 слой учился работать со старым распределением  <font color='#5D5DA6'>$f^{(k)}_{i}(x)$</font>, и будет хуже обрабатывать <font color='#5D5DA6'>$f^{*(k)}_{i}(x)$</font>."
   ]
  },
  {
   "cell_type": "markdown",
   "metadata": {},
   "source": [
    "### Плохой вариант борьбы с этим"
   ]
  },
  {
   "cell_type": "markdown",
   "metadata": {},
   "source": [
    "Давайте на каждом слое просто нормировать **каждый признак** (выход каждого нейрона), используя среднее и дисперсию по батчу:\n",
    "\n",
    "$$ \\hat{x}_{i} = \\frac{x_{i} - \\mu_{B}}{\\sigma_{B} + \\epsilon}$$\n",
    "\n",
    "\n"
   ]
  },
  {
   "cell_type": "markdown",
   "metadata": {},
   "source": [
    "Проблема в том, что таким образом мы можем попасть в область линейной составляющей нашей функции. Например, в случае сигмоиды:"
   ]
  },
  {
   "cell_type": "markdown",
   "metadata": {},
   "source": [
    "<img src =\"https://edunet.kea.su/repo/EduNet-content/dev-2.0/L07/out/domain_of_linear_of_sigmoid_function.png\" width=\"500\">"
   ]
  },
  {
   "cell_type": "markdown",
   "metadata": {},
   "source": [
    "Получаем набор линейных слоев фактически без функций активации, следовательно, все вырождается в однослойную сеть. Не то, что нам надо."
   ]
  },
  {
   "cell_type": "markdown",
   "metadata": {},
   "source": [
    "## Batch Normalization"
   ]
  },
  {
   "cell_type": "markdown",
   "metadata": {},
   "source": [
    "Нам надо дать нейронной сети **возможность перемещать распределение выходов** слоя из области $0$ и самой **подбирать дисперсию**. Для этой цели используется **батч-нормализация** (*batch normalization*), которая вводит в нейронную сеть дополнительную операцию между соседними скрытыми слоями. Она состоит из **нормализации** входящих (в слой батч-нормализации) значений, полученных от скрытого слоя, **масштабирования** и **сдвига** с применением двух новых параметров и передачи полученных значений на вход следующему скрытому слою."
   ]
  },
  {
   "cell_type": "markdown",
   "metadata": {},
   "source": [
    "<img src =\"https://edunet.kea.su/repo/EduNet-content/dev-2.0/L07/out/batchnormalization.png\" width=\"400\">"
   ]
  },
  {
   "cell_type": "markdown",
   "metadata": {},
   "source": [
    "Параметры, используемые в батч-нормализации ($\\gamma$ — отвечающий за **сжатие** и $\\beta$ — отвечающий за **сдвиг**), являются **обучаемыми параметрами** (наподобие весов и смещений скрытых слоев).\n",
    "\n",
    "Помимо обучаемых параметров $\\gamma$ и $\\beta$ в слое батч-нормализации существуют также необучаемые параметры: **скользящее среднее матожидания** (_Mean Moving Average_) и **скользящее среднее дисперсий** (_Variance Moving Average_), служащие для сохранения состояния слоя батч-нормализации."
   ]
  },
  {
   "cell_type": "markdown",
   "metadata": {},
   "source": [
    "<img src =\"https://edunet.kea.su/repo/EduNet-content/dev-2.0/L07/out/batchnorm_layer_parameters.png\" width=\"900\">"
   ]
  },
  {
   "cell_type": "markdown",
   "metadata": {},
   "source": [
    "Параметры $\\gamma$, $\\beta$, а также оба скользящих средних вычисляются для каждого слоя батч-нормализации отдельно и являются векторами с **длиной, равной количеству входящих признаков.**\n",
    "\n",
    "В процессе обучения мы подаем в нейронную сеть **по одному мини-батчу за раз**. Процедуру обработки значений одного признака $x^{(k)}$ (фиолетовая колонка на изображении ниже), который для краткости мы будем обозначать $x$,  из одного мини-батча $ B = \\{x_{1},\\ldots, x_{m}\\} $ можно представить следующим образом:\n",
    "\n"
   ]
  },
  {
   "cell_type": "markdown",
   "metadata": {},
   "source": [
    "<img src =\"https://edunet.kea.su/repo/EduNet-content/dev-2.0/L07/out/batch_normalization_compute_moving_average.png\" width=\"1000\">"
   ]
  },
  {
   "cell_type": "markdown",
   "metadata": {},
   "source": [
    "Шаг **масштабирования** Gamma ($γ$) и шаг **сдвига** Beta ($β$) являются главным новшеством батч-нормализации, поскольку, в отличие от предыдущего рассмотренного примера, нормированные значения больше не обязаны иметь среднее, равное $0$, и единичную дисперсию. Батч-нормализация позволяет сдвигать среднее нормированных значений и масштабировать дисперсию. Фактически, теперь **нейросеть даже может отменить нормализацию входных данных, если считает ее ненужной.**\n",
    "\n",
    "Для наглядности проиллюстрируем размерности промежуточных переменных на следующем изображении:"
   ]
  },
  {
   "cell_type": "markdown",
   "metadata": {},
   "source": [
    "<img src =\"https://edunet.kea.su/repo/EduNet-content/dev-2.0/L07/out/batch_normalization_compute_moving_average_scheme.png\" width=\"1000\">"
   ]
  },
  {
   "cell_type": "markdown",
   "metadata": {},
   "source": [
    "После прямого прохода параметры $\\gamma$ и $\\beta$ **обновляются через обратное распространение ошибки** так же, как и веса скрытых слоев."
   ]
  },
  {
   "cell_type": "markdown",
   "metadata": {},
   "source": [
    "### Скользящее среднее"
   ]
  },
  {
   "cell_type": "markdown",
   "metadata": {},
   "source": [
    "Выше мы обсуждали то, что в процессе обучения слой **батч-нормализации** рассчитывает значение **среднего и дисперсии** каждого признака в соответствующем **мини-батче**. Предположим, нам нужно сделать предсказание на **одном объекте**. Во время предсказания батч у нас уже отсутствует. Откуда брать среднее и дисперсию?\n",
    "\n",
    "Во время предсказания используется **скользящее среднее**, которое было **рассчитано и сохранено в процессе обучения**.\n",
    "\n",
    "$$\\large \\mu_{mov_{B}} = (1-\\alpha)\\mu_{mov_{B-1}}+\\alpha\\mu_{B} $$\n",
    "\n",
    "$$\\large \\sigma_{mov_{B}} = (1-\\alpha)\\sigma_{mov_{B-1}}+\\alpha\\sigma_{B} $$\n",
    "\n",
    "Обычно используется параметр $\\alpha = 0.1$"
   ]
  },
  {
   "cell_type": "markdown",
   "metadata": {},
   "source": [
    "Для перевода модели из режима обучения в режим тестирования и обратно в PyTorch используются `model.train()` и `model.eval()`.\n",
    "\n",
    "$$\n",
    "\\begin{array}{c|c}\n",
    "\\large{\\text{model.train()}}&\\ \\large{\\text{model.eval()}}\\\\  \\hline\n",
    "\\large{\\text{Батч-нормализация использует статистику по батчу}}&\\large{\\text{Батч-нормализация использует скользящие средние}}\\\\\n",
    "\\large{\\text{Cкользящие средние копятся}}\n",
    "\\end{array}\n",
    "$$\n",
    "\n"
   ]
  },
  {
   "cell_type": "markdown",
   "metadata": {},
   "source": [
    "Почему используется именно **скользящее среднее**, а **не статистика всей обучающей выборки**?\n",
    "\n",
    "При таком подходе нам бы пришлось хранить **средние всех признаков** для **всех батчей**, пропущенных через нейросеть в ходе обучения. Это ужасно невыгодно по памяти. Вместо этого **скользящее среднее** выступает в качестве приближенной оценки **среднего и дисперсии** обучающего набора. В этом случае эффективность использования ресурсов увеличивается: нам нужно **хранить в памяти только одно число** — значение скользящего среднего, полученное на последнем шаге."
   ]
  },
  {
   "cell_type": "markdown",
   "metadata": {},
   "source": [
    "Проиллюстрировать преимущество использования скользящего среднего можно на следующем примере:\n",
    "\n",
    "Предположим, что у нас есть массив объектов, обладающих некоторым признаком $x$ (обучающая выборка), и некоторый черный ящик, извлекающий по $k$ объектов из этого массива (Dataloader). Наша задача — дать оценку ожидаемому среднему этих $k$ объектов. В данном примере для простоты будем извлекать $k$ объектов из некоего распределения случайным образом:"
   ]
  },
  {
   "cell_type": "code",
   "execution_count": null,
   "metadata": {},
   "outputs": [],
   "source": [
    "import numpy as np\n",
    "import seaborn as sns\n",
    "import matplotlib.pyplot as plt\n",
    "\n",
    "k = 500  # sample size\n",
    "n = 2\n",
    "p = 0.5\n",
    "\n",
    "sample = np.random.negative_binomial(n, p, k)\n",
    "sns.histplot(data=sample, discrete=True)\n",
    "plt.show()"
   ]
  },
  {
   "cell_type": "markdown",
   "metadata": {},
   "source": [
    "Оценить ожидаемое среднее теоретически, не зная, как распределен признак $x$ наших объектов, трудно. Мы можем собрать **большое количество средних** и произвести оценку с их помощью, но для этого нам потребуется хранить в памяти все эти значения, что приведет к неэффективному расходу ресурсов. Более эффективным решением будет воспользоваться **скользящим средним**. Давайте сравним эти два метода:"
   ]
  },
  {
   "cell_type": "code",
   "execution_count": null,
   "metadata": {},
   "outputs": [],
   "source": [
    "ema = 0\n",
    "alpha = 0.01\n",
    "means = np.array([])\n",
    "\n",
    "for i in range(10000):\n",
    "    sample = np.random.negative_binomial(n, p, 50)\n",
    "    ema = (1 - alpha) * ema + alpha * sample.mean()\n",
    "    means = np.append(means, sample.mean())"
   ]
  },
  {
   "cell_type": "markdown",
   "metadata": {},
   "source": [
    "Посчитаем количество памяти, затрачиваемое на хранение списка средних значений признака $x$ по выборкам из $k$ объектов, и **количество памяти**, затрачиваемое на хранение **скользящего среднего**:"
   ]
  },
  {
   "cell_type": "code",
   "execution_count": null,
   "metadata": {},
   "outputs": [],
   "source": [
    "import sys\n",
    "\n",
    "print(f\"{sys.getsizeof(ema)} bytes\")"
   ]
  },
  {
   "cell_type": "markdown",
   "metadata": {},
   "source": [
    "Количество памяти для хранения **списка средних**:"
   ]
  },
  {
   "cell_type": "code",
   "execution_count": null,
   "metadata": {},
   "outputs": [],
   "source": [
    "print(f\"{sys.getsizeof(means)} bytes\")"
   ]
  },
  {
   "cell_type": "markdown",
   "metadata": {},
   "source": [
    "Видно, что на хранение массива средних значений расходуется на порядки больше памяти, чем на хранение одного скользящего среднего. Теперь давайте воспользуемся тем, что мы сэмплировали случайные выборки из известного распределения, и можем теоретически рассчитать их среднее. В нашем примере мы извлекали выборки из негативного биномиального распределения с параметрами $n=2$ и $p=0.5$, для которого среднее рассчитывается по формуле: $$\\text{mean}=\\dfrac{np}{1-p}=2.$$\n",
    "\n",
    "Мы знаем, что при достаточно большом количестве сэмплированных выборок среднее распределения выборочных средних будет стремиться к среднему генеральной совокупности. Сравним результаты, полученные с использованием сохраненных выборочных средних и скользящего среднего с теоретическим расчетом:"
   ]
  },
  {
   "cell_type": "markdown",
   "metadata": {},
   "source": [
    "Среднее признака $x$ по $k$ объектам, оцененное с помощью **скользящего среднего**:"
   ]
  },
  {
   "cell_type": "code",
   "execution_count": null,
   "metadata": {},
   "outputs": [],
   "source": [
    "print(f\"{ema:.8f}\")"
   ]
  },
  {
   "cell_type": "markdown",
   "metadata": {},
   "source": [
    "Среднее признака $x$ по $k$ объектам, **оцененное по всем сэмплированным выборкам**:"
   ]
  },
  {
   "cell_type": "code",
   "execution_count": null,
   "metadata": {},
   "outputs": [],
   "source": [
    "print(f\"{means.mean():.8f}\")"
   ]
  },
  {
   "cell_type": "markdown",
   "metadata": {},
   "source": [
    "Видно, что мы получили довольно точную оценку, использовав скользящее среднее."
   ]
  },
  {
   "cell_type": "markdown",
   "metadata": {},
   "source": [
    "### Защита от нулей в знаменателе"
   ]
  },
  {
   "cell_type": "markdown",
   "metadata": {},
   "source": [
    "Чтобы у нас не мог возникнуть $0$ в знаменателе, добавляем маленькое число — $\\epsilon$. Например, $\\epsilon = 10^{-5}$.\n",
    "\n",
    "\n",
    "$$ \\hat{x}_{i} = \\frac{x_{i} - \\mu_{B}}{\\sigma_{B} + \\epsilon}$$\n",
    "\n",
    "$$ \\text{BN}_{\\gamma, \\beta}(x_{i}) = \\gamma \\hat{x}_{i} + \\beta $$"
   ]
  },
  {
   "cell_type": "markdown",
   "metadata": {},
   "source": [
    "### Сверточные слои"
   ]
  },
  {
   "cell_type": "markdown",
   "metadata": {},
   "source": [
    "Сверточный слой можно свести к линейному слою. BatchNorm можно применять и для линейных слоев, и для сверточных.\n",
    "\n",
    "Признаки внутри одного канала (одной карты признаков) получаются путем применения к исходному изображению одних и тех же преобразований. По сути **1 канал** — это **карта одного признака**. Поэтому логично, что нормализация будет происходить по каналам, а одним признаком считается одна **feature map**.\n",
    "Нормализация идет по всей такой feature map (по всему каналу) для всех объектов батча."
   ]
  },
  {
   "cell_type": "markdown",
   "metadata": {},
   "source": [
    "<img src =\"https://edunet.kea.su/repo/EduNet-content/dev-2.0/L07/out/feature_map.png\" width=\"500\">"
   ]
  },
  {
   "cell_type": "markdown",
   "metadata": {},
   "source": [
    "В PyTorch для полносвязных слоев используют `nn.BatchNorm1d` [🛠️[doc]](https://pytorch.org/docs/stable/generated/torch.nn.BatchNorm1d.html), а для сверточных — `nn.BatchNorm2d` [🛠️[doc]](https://pytorch.org/docs/stable/generated/torch.nn.BatchNorm2d.html)."
   ]
  },
  {
   "cell_type": "markdown",
   "metadata": {},
   "source": [
    "Графически нормализации часто объясняют при помощи следующей схемы:"
   ]
  },
  {
   "cell_type": "markdown",
   "metadata": {},
   "source": [
    "<img src =\"https://edunet.kea.su/repo/EduNet-content/dev-2.0/L07/out/dimensions_channels_batch_samples.png\" width=\"450\">"
   ]
  },
  {
   "cell_type": "markdown",
   "metadata": {},
   "source": [
    "*По оси абсцисс* расположены **объекты из батча**,\n",
    "*по оси ординат* &mdash; **feature map**, преобразованный в вектор,\n",
    "*по оси аппликат* &mdash; **каналы** (feature maps).\n",
    "\n",
    "В этом представлении **BatchNorm** для свертки выглядит следующим образом:"
   ]
  },
  {
   "cell_type": "markdown",
   "metadata": {},
   "source": [
    "<img src =\"https://edunet.kea.su/repo/EduNet-content/dev-2.0/L07/out/visualization_of_batch_normalization.png\" width=\"450\">\n",
    "\n",
    "<em>Source: <a href=\"https://paperswithcode.com/method/batch-normalization\">Batch Normalization</a></em>"
   ]
  },
  {
   "cell_type": "markdown",
   "metadata": {},
   "source": [
    "### Пример работы"
   ]
  },
  {
   "cell_type": "markdown",
   "metadata": {},
   "source": [
    "<img src =\"https://edunet.kea.su/repo/EduNet-content/dev-2.0/L07/out/batchnorm_efficiency.png\" width=\"550\">\n",
    "\n",
    "<em>Обучение нейронной сети с BN позвляет увеличить lr в 30 раз, сохранив стабильность обучения</em>\n",
    "\n",
    "<em>Source: <a href=\"https://arxiv.org/pdf/1502.03167.pdf\">Batch Normalization: Accelerating Deep Network Training by Reducing Internal Covariate Shiftn</a></em>\n",
    "\n"
   ]
  },
  {
   "cell_type": "markdown",
   "metadata": {},
   "source": [
    "Этот метод действительно работает.\n",
    "Видим, что нейросети с батч-нормализацией:\n",
    "\n",
    "1. **Сходятся быстрее**, чем нейросети без неё.\n",
    "2. Могут работать с **более высоким начальным значением learning rate**, причем это позволяет достигать лучших результатов.\n",
    "3. Работают даже с функцией активации в виде **сигмоиды**. Без **BatchNorm** такая сеть не обучилась бы вовсе."
   ]
  },
  {
   "cell_type": "markdown",
   "metadata": {},
   "source": [
    "### Градиент"
   ]
  },
  {
   "cell_type": "markdown",
   "metadata": {},
   "source": [
    "Вычисление **градиента BatchNorm** — интересное упражнение на понимание того, как работает **backpropagation**. В лекции мы это опускаем, можете ознакомиться самостоятельно:\n",
    "\n",
    "[[blog] ✏️ Deriving the Gradient for the Backward Pass of Batch Normalization](https://kevinzakka.github.io/2016/09/14/batch_normalization/)\n",
    "\n"
   ]
  },
  {
   "cell_type": "markdown",
   "metadata": {},
   "source": [
    "### Batch Normalization как регуляризация"
   ]
  },
  {
   "cell_type": "markdown",
   "metadata": {},
   "source": [
    "Почему для нейросети с батчнормализацией можно использовать более высокие learning rate?\n",
    "\n",
    "Оказывается, **батч-нормализация** делает **неявную регуляризацию на веса**.\n",
    "\n",
    "Допустим, мы решили **увеличить веса** в $a$ раз."
   ]
  },
  {
   "cell_type": "markdown",
   "metadata": {},
   "source": [
    "Так как мы шкалируем, то домножение весов $W$ на константу выходных значений слоя не меняет\n",
    "\n",
    "$$BN((aW)u) = BN(Wu)$$"
   ]
  },
  {
   "cell_type": "markdown",
   "metadata": {},
   "source": [
    "Градиент слоя по входу не меняется\n",
    "\n",
    "$$\\dfrac {\\partial BN((aW)u)} {\\partial u} = \\dfrac {\\partial BN(Wu)} {\\partial u}$$"
   ]
  },
  {
   "cell_type": "markdown",
   "metadata": {},
   "source": [
    "А **градиент по весам уменьшается** в $a$ раз\n",
    "\n",
    "$$\\dfrac {\\partial BN((aW)u)} {\\partial aW} = \\dfrac 1 a \\dfrac {\\partial BN(Wu)} {\\partial W} $$"
   ]
  },
  {
   "cell_type": "markdown",
   "metadata": {},
   "source": [
    "Таким образом нейросеть автоматически не дает большим весам расти"
   ]
  },
  {
   "cell_type": "markdown",
   "metadata": {},
   "source": [
    "### Сглаживающий эффект Batch Normalization"
   ]
  },
  {
   "cell_type": "markdown",
   "metadata": {},
   "source": [
    "**Batch Normalization** была разработана на идее необходимости коррекции **Internal covariate shift**. В 2019 году вышла [статья 🎓[arxiv]](https://arxiv.org/pdf/1805.11604.pdf), которая показала, что влияние коррекции **Internal covariate shift** на качество обучения не так велико, как считали авторы **Batch Normalization**.\n",
    "\n",
    "Другим интересным эффектом Batch Normalization оказалось **сглаживание ландшафта** функции потерь. Batch Normalization улучшает гладкость пространства решений и облегчает поиск в нем минимума. Именно благодаря сглаживанию ландшафта Batch Normalization справляется с затуханием и взрывом градиента.\n"
   ]
  },
  {
   "cell_type": "markdown",
   "metadata": {},
   "source": [
    "<img src =\"https://edunet.kea.su/repo/EduNet-content/dev-2.0/L07/out/batchnorm_helps_find_minimum_of_function.jpg\" width=\"900\">"
   ]
  },
  {
   "cell_type": "markdown",
   "metadata": {},
   "source": [
    "### Советы по использованию Batch Normalization"
   ]
  },
  {
   "cell_type": "markdown",
   "metadata": {},
   "source": [
    "Стоит помнить, что с батч-нормализацией:\n",
    "\n",
    "* **Крайне важно** перемешивать объекты (составлять новые батчи) между эпохами. Единицей обучения параметров $\\beta$ и $\\gamma$ являются батчи. Если их не перемешивать, то из 6400 объектов в тренировочном датасете получим лишь 100 объектов (при условии, что в батче 64 объекта) для обучения $\\beta$ и $\\gamma$. Данное требование учитывается автоматически при использовании стохастического градиентного спуска в качестве алгоритма оптимизации параметров сети.\n",
    "\n",
    "* В слое, после которого поставили Batch Normalization, можно **убрать bias** (параметр $\\beta$ в BatchNormalization берет эту роль на себя).\n",
    "\n",
    "\n",
    "* Другое расписание **learning rate: большее значение** в начале обучения и быстрое уменьшение в процессе обучения.\n",
    "\n",
    "\n",
    "* Чем **меньше размер батча в обучении**, тем **хуже** будет работать BatchNormalization."
   ]
  },
  {
   "cell_type": "markdown",
   "metadata": {},
   "source": [
    "<img src =\"https://edunet.kea.su/repo/EduNet-content/dev-2.0/L07/out/batchnorm_batch_size.png\" width=\"500\">\n",
    "\n",
    "<em>Source: <a href=\"https://arxiv.org/pdf/1803.08494.pdf\">Group Normalization</a></em>"
   ]
  },
  {
   "cell_type": "markdown",
   "metadata": {},
   "source": [
    "### Используем Batch Normalization в PyTorch"
   ]
  },
  {
   "cell_type": "markdown",
   "metadata": {},
   "source": [
    "Так как наша модель из-за **Batch Normalization** ведет себя по-разному во время **обучения** и во время **тестирования**, то мы должны прямо ей сообщать, обучается она сейчас или нет. Делается это при помощи функций `model.train` и `model.eval`"
   ]
  },
  {
   "cell_type": "markdown",
   "metadata": {},
   "source": [
    "```\n",
    "# pseudocode for training a model in pure pytorch\n",
    "def train(model, optimizer, criterion, train_loader, test_loader):\n",
    "    for epoch in range(epochs):\n",
    "        model.train()\n",
    "        for train_batch in train_loader:\n",
    "            do_train_step(model, train_batch, optimizer, criterion)\n",
    "        \n",
    "        model.eval()\n",
    "        for test_batch in test_loader:\n",
    "            do_test_step(model, test_batch, optimizer, criterion)\n",
    "        \n",
    "```"
   ]
  },
  {
   "cell_type": "markdown",
   "metadata": {},
   "source": [
    "При использовании для обучения `pytorch lightning` **гарантируется**, что связанный с обучением `training_step()` будет выполнен для модели в состоянии `model.train()` и что связанный с запуском модели на тестовой выборке `validation_step()` будет выполнен для модели в состоянии `model.eval()`. **Это позволяет нам проще не допустить ошибку**."
   ]
  },
  {
   "cell_type": "code",
   "execution_count": null,
   "metadata": {},
   "outputs": [],
   "source": [
    "class SimpleMNIST_NN_Init_Batchnorm(nn.Module):\n",
    "    def __init__(self, n_layers):\n",
    "        super().__init__()\n",
    "        self.n_layers = n_layers\n",
    "        layers = [\n",
    "            nn.Linear(28 * 28, 100, bias=False),\n",
    "            nn.BatchNorm1d(100),\n",
    "            nn.Sigmoid(),\n",
    "        ]\n",
    "        for _ in range(0, n_layers - 1):\n",
    "            layers.append(nn.Linear(100, 100, bias=False))\n",
    "            layers.append(nn.BatchNorm1d(100))\n",
    "            layers.append(nn.Sigmoid())\n",
    "        layers.append(nn.Linear(100, 10))\n",
    "        self.layers = nn.Sequential(*layers)\n",
    "        self.init()\n",
    "\n",
    "    def forward(self, x):\n",
    "        x = x.view(-1, 28 * 28)\n",
    "        x = self.layers(x)\n",
    "        return x\n",
    "\n",
    "    def init(self):\n",
    "        sigmoid_gain = torch.nn.init.calculate_gain(\"sigmoid\")\n",
    "        for child in self.layers.children():\n",
    "            if isinstance(child, nn.Linear):\n",
    "                torch.nn.init.xavier_normal_(child.weight, gain=sigmoid_gain)\n",
    "                if child.bias is not None:\n",
    "                    torch.nn.init.zeros_(child.bias)"
   ]
  },
  {
   "cell_type": "code",
   "execution_count": null,
   "metadata": {},
   "outputs": [],
   "source": [
    "model_name = \"batchnorm2\"\n",
    "model = SimpleMNIST_NN_Init_Batchnorm(n_layers=3)"
   ]
  },
  {
   "cell_type": "code",
   "execution_count": null,
   "metadata": {},
   "outputs": [],
   "source": [
    "trainer = pl.Trainer(\n",
    "    max_epochs=5,\n",
    "    logger=TensorBoardLogger(save_dir=f\"logs/{model_name}\"),\n",
    "    num_sanity_val_steps=0,\n",
    ")\n",
    "\n",
    "pipeline = Pipeline(model=model, exp_name=model_name)\n",
    "\n",
    "trainer.fit(model=pipeline, train_dataloaders=train_loader, val_dataloaders=test_loader)\n",
    "\n",
    "history = pipeline.history\n",
    "history[\"epoсhs\"] = trainer.max_epochs\n",
    "history_plotter.add(history)"
   ]
  },
  {
   "cell_type": "code",
   "execution_count": null,
   "metadata": {},
   "outputs": [],
   "source": [
    "history_plotter.add(history)\n",
    "history_plotter.plot([\"n_layers3_sigmoid\", \"n3_layers_sigmoid_havier\", model_name])"
   ]
  },
  {
   "cell_type": "markdown",
   "metadata": {},
   "source": [
    "Попробуем, согласно советам, увеличить learning rate:"
   ]
  },
  {
   "cell_type": "code",
   "execution_count": null,
   "metadata": {},
   "outputs": [],
   "source": [
    "model_name = \"batchnorm_increased_lr\"\n",
    "model = SimpleMNIST_NN_Init_Batchnorm(n_layers=3)\n",
    "\n",
    "trainer = pl.Trainer(\n",
    "    max_epochs=5,\n",
    "    logger=TensorBoardLogger(save_dir=f\"logs/{model_name}\"),\n",
    "    num_sanity_val_steps=0,\n",
    ")\n",
    "\n",
    "pipeline = Pipeline(model=model, exp_name=model_name, optimizer_kwargs={\"lr\": 1e-2})\n",
    "\n",
    "trainer.fit(model=pipeline, train_dataloaders=train_loader, val_dataloaders=test_loader)\n",
    "\n",
    "history = pipeline.history\n",
    "history[\"epoсhs\"] = trainer.max_epochs\n",
    "history_plotter.add(history)"
   ]
  },
  {
   "cell_type": "code",
   "execution_count": null,
   "metadata": {},
   "outputs": [],
   "source": [
    "history_plotter.plot([\"n3_layers_sigmoid_havier\", \"batchnorm2\", model_name])"
   ]
  },
  {
   "cell_type": "markdown",
   "metadata": {},
   "source": [
    "### Ставить Batch Normalization до или после активации?\n",
    "\n"
   ]
  },
  {
   "cell_type": "markdown",
   "metadata": {},
   "source": [
    "#### До"
   ]
  },
  {
   "cell_type": "markdown",
   "metadata": {},
   "source": [
    "<img src =\"https://edunet.kea.su/repo/EduNet-content/dev-2.0/L07/out/batchnormalization_before_activation.png\" width=\"350\">"
   ]
  },
  {
   "cell_type": "markdown",
   "metadata": {},
   "source": [
    "* **Рекомендуется авторами статьи, где предложили Batch Normalization**.\n",
    "* Для **сигмоиды** BN, поставленная после активации, **не решает проблем** сигмоиды.\n",
    "* Во многих сверточных архитектурах, например, [**ResNet** 🎓[arxiv]](https://arxiv.org/pdf/1512.03385.pdf) и [**MobileNetV2** 🎓[arxiv]](https://arxiv.org/pdf/1801.04381.pdf) (изучите на следующих лекциях), Batch Normalization ставится именно так."
   ]
  },
  {
   "cell_type": "markdown",
   "metadata": {},
   "source": [
    "#### После"
   ]
  },
  {
   "cell_type": "markdown",
   "metadata": {},
   "source": [
    "<img src =\"https://edunet.kea.su/repo/EduNet-content/dev-2.0/L07/out/batchnormalization_after_activation.png\" width=\"350\">"
   ]
  },
  {
   "cell_type": "markdown",
   "metadata": {},
   "source": [
    "* **Аргументация авторов статьи не до конца обоснована**.\n",
    "* Обычно, **сигмоиду не используют** в современных нейронных сетях.\n",
    "* Для популярной **ReLU BN**, поставленная до активации, может приводить в определённых случаях к “умирающей **ReLU**”, когда большая часть ее входов меньше $0$, и поэтому через них градиент не проходит."
   ]
  },
  {
   "cell_type": "markdown",
   "metadata": {},
   "source": [
    "**BN — before or after ReLU?**\n",
    "\n",
    "<img src =\"https://edunet.kea.su/repo/EduNet-web_dependencies/dev-2.0/L07/batchnormalization_before_or_after_relu.png\" width=\"500\">\n",
    "\n",
    "<em>Source: <a href=\"https://github.com/ducha-aiki/caffenet-benchmark/blob/master/batchnorm.md\">BN experiments</a></em>"
   ]
  },
  {
   "cell_type": "markdown",
   "metadata": {},
   "source": [
    "**Вывод:** В общем случае стоит располагать слой BN перед активацией, но с этим можно экспериментировать."
   ]
  },
  {
   "cell_type": "markdown",
   "metadata": {},
   "source": [
    "## Другие Normalization"
   ]
  },
  {
   "cell_type": "markdown",
   "metadata": {},
   "source": [
    "Существует большое количество иных нормализаций, их неполный список можно найти [здесь 🎓[article]](https://paperswithcode.com/methods/category/normalization). В данной секции мы рассмотрим самые популярные виды нормализации помимо **BatchNorm**."
   ]
  },
  {
   "cell_type": "markdown",
   "metadata": {},
   "source": [
    "<img src =\"https://edunet.kea.su/repo/EduNet-web_dependencies/dev-2.0/L07/normalization_methods.png\" width=\"900\">\n",
    "\n",
    "<center><em>Source: <a href=\"https://paperswithcode.com/method/layer-normalization\">Layer Normalization</a></em></center>"
   ]
  },
  {
   "cell_type": "markdown",
   "metadata": {},
   "source": [
    "### Layer Norm"
   ]
  },
  {
   "cell_type": "markdown",
   "metadata": {},
   "source": [
    "Помимо свёрточных нейронных сетей, существует специальный тип нейронных сетей, используемых для обработки последовательностей. Называется он \"**рекуррентные нейронные сети**\", ему будет посвящена одна из следующих лекций.\n",
    "\n",
    "Когда оказалось, что **BatchNorm** положительно сказывается на обучении нейронных сетей, его попытались применить для различных архитектур. BatchNorm нельзя было использовать \"из коробки\" для рекуррентных нейронных сетей (работающих с последовательными данными), пришлось придумывать различные адаптации, среди которых наиболее удачной оказалась **Layer Normalization**.\n",
    "\n",
    "По сути, теперь нормализация происходит внутри **одного объекта из батча**, а не поканально в рамках батча. С математической точки зрения данная \"адаптация\" отличается от **BatchNorm**, однако экспериментально она превзошла своих конкурентов в задаче нормализации при обработке последовательных данных."
   ]
  },
  {
   "cell_type": "markdown",
   "metadata": {},
   "source": [
    "Впоследствии данный метод нормализации хорошо проявил себя в **трансформерах** — наследниках рекуррентных нейронных сетей в вопросах обработки последовательных данных (об этом типе нейросетей мы также поговорим на одной из следующих лекций). После успешного применения трансформеров в задачах компьютерного зрения, **LayerNorm** стал использоваться и в компьютерном зрении (хотя и уступал BatchNorm при использовании в свёрточных нейронных сетях)."
   ]
  },
  {
   "cell_type": "markdown",
   "metadata": {},
   "source": [
    "<img src =\"https://edunet.kea.su/repo/EduNet-content/dev-2.0/L07/out/visualization_of_layer_normalization.png\" width=\"450\">\n",
    "\n",
    "<em>Source: <a href=\"https://paperswithcode.com/method/layer-normalization\">Layer Normalization</a></em>\n"
   ]
  },
  {
   "cell_type": "markdown",
   "metadata": {},
   "source": [
    "### Instance Norm"
   ]
  },
  {
   "cell_type": "markdown",
   "metadata": {},
   "source": [
    "Следующий вид нормализации был предложен отечественными исследователями (из Сколтеха), занимавшимися разработкой быстрого и эффективного способа **переноса стиля** с одного изображения на другое.\n",
    "\n",
    "При использовании BatchNorm теряется информация о контрастах на конкретном изображении, поскольку нормализация производится по нескольким объектам. Для сохранения *контрастов* в экземпляре (*instance*) изображения была предложена специальная нормализация, рассматривающая конкретный канал одного конкретного объекта. Было предложено два названия нормализации: связанное с мотивацией (contrast normalization) и связанное с принципом работы (**instance normalization**)."
   ]
  },
  {
   "cell_type": "markdown",
   "metadata": {},
   "source": [
    "<img src =\"https://edunet.kea.su/repo/EduNet-content/dev-2.0/L07/out/visualization_of_instance_normalization.png\" width=\"450\">\n",
    "\n",
    "<em>Source: <a href=\"https://paperswithcode.com/method/instance-normalization\">Instance Normalization</a></em>"
   ]
  },
  {
   "cell_type": "markdown",
   "metadata": {},
   "source": [
    "### Group Norm"
   ]
  },
  {
   "cell_type": "markdown",
   "metadata": {},
   "source": [
    "В течение долгого времени BatchNorm оставался однозначным фаворитом для использования в задачах компьютерного зрения, однако:\n",
    "1. В связи с необходимостью точно считать статистики внутри batch при обучении приходилось использовать большой batch size.\n",
    "\n",
    "2. Ограниченность размера памяти видеокарты вынуждает разработчиков идти на компромисс между сложностью модели и размером батча."
   ]
  },
  {
   "cell_type": "markdown",
   "metadata": {},
   "source": [
    "Таким образом, использование BatchNorm приводило к невозможности использовать сложные модели**\\***, поскольку им просто не хватало места на видеокарте.\n",
    "\n",
    "Необходимость использовать большой batch size могут решать различные нормализации, не использующие batch-размерность. К примеру, уже известные нам **Layer Norm** и **Instance Norm**. Эмпирически оказалось, что данные нормализации уступают BatchNorm по качеству работы: в то время как LayerNorm предполагает одинаковую важность и суть различных каналов (*рассматривая данные излишне глобально*), InstanceNorm упускает межканальные взаимодействия (*рассматривая данные слишком локально*)."
   ]
  },
  {
   "cell_type": "markdown",
   "metadata": {},
   "source": [
    "Успешным обобщением данных методов является **Group Normalization**: данный метод разбивает каналы на $G \\in [1; C]$ групп, присваивая каждой из них примерно равное количество каналов. Отметим, что при $G = 1$ GroupNorm идентичен LayerNorm, а при $G = C$ GroupNorm идентичен InstanceNorm.\n",
    "\n",
    "Эмпирически оказалось, что при замене BatchNorm на GroupNorm качество модели падает в разы менее значительно, чем при использовании LayerNorm либо InstanceNorm. Более того, при изменении batch size качество работы GroupNorm не изменялось, что открыло перспективы для создания более сложных моделей компьютерного зрения.\n",
    "\n",
    "**\\*** — подразумевается, что уменьшение batch size позволило бы создать более сложные модели."
   ]
  },
  {
   "cell_type": "markdown",
   "metadata": {},
   "source": [
    "<img src =\"https://edunet.kea.su/repo/EduNet-content/dev-2.0/L07/out/visualization_of_group_normalization.png\" width=\"450\">\n",
    "\n",
    "<em>Source: <a href=\"https://paperswithcode.com/method/group-normalization\">Group Normalization</a></em>"
   ]
  },
  {
   "cell_type": "markdown",
   "metadata": {},
   "source": [
    "# Регуляризация"
   ]
  },
  {
   "cell_type": "markdown",
   "metadata": {},
   "source": [
    "Второй способ улучшения сходимости нейросетей и борьбы с переобучением — введение регуляризации. Ее можно вводить несколькими способами."
   ]
  },
  {
   "cell_type": "markdown",
   "metadata": {},
   "source": [
    "## L1, L2 регуляризации"
   ]
  },
  {
   "cell_type": "markdown",
   "metadata": {},
   "source": [
    "Мы уже разбирали самый простой способ — добавление штрафа к весам в функцию потерь. На сходимость нейросети это, правда, влияет слабо."
   ]
  },
  {
   "cell_type": "markdown",
   "metadata": {},
   "source": [
    "$$ \\text{Loss_reg} = \\text{loss} + \\lambda \\cdot \\text{reg}$$\n",
    "\n",
    "$$ \\text{reg}_{L1} = \\lambda \\sum |w_i| $$\n",
    "\n",
    "$$ \\text{reg}_{L2} = \\lambda \\sum w_i^2 $$"
   ]
  },
  {
   "cell_type": "markdown",
   "metadata": {},
   "source": [
    "<img src=\"https://edunet.kea.su/repo/EduNet-content/dev-2.0/L07/out/l1_l2_regularization_to_weight.gif\" alt=\"alttext\" width=\"500\"/>"
   ]
  },
  {
   "cell_type": "markdown",
   "metadata": {},
   "source": [
    "Иногда уже его хватает, чтобы решить все проблемы. Напомним, что **L2** Loss приводит к большому числу маленьких ненулевых весов в сети. А **L1** Loss — к маленькому числу ненулевых весов (разреженной нейросети)."
   ]
  },
  {
   "cell_type": "markdown",
   "metadata": {},
   "source": [
    "В PyTorch L2 регуляризация (или её аналоги) часто \"встроена\" в оптимизаторы и связана с параметром `weight_decay`. Подробнее различия между weight_decay и L2 мы обсудим ниже."
   ]
  },
  {
   "cell_type": "code",
   "execution_count": null,
   "metadata": {},
   "outputs": [],
   "source": [
    "sgd = torch.optim.SGD(model.parameters(), lr=0.001, weight_decay=0.001)"
   ]
  },
  {
   "cell_type": "markdown",
   "metadata": {},
   "source": [
    "## Dropout"
   ]
  },
  {
   "cell_type": "markdown",
   "metadata": {},
   "source": [
    "Одним из распространенных именно в нейросетях методом регуляризации является **Dropout**."
   ]
  },
  {
   "cell_type": "markdown",
   "metadata": {},
   "source": [
    "<img src =\"https://edunet.kea.su/repo/EduNet-content/dev-2.0/L07/out/dropout.png\" width=\"700\">"
   ]
  },
  {
   "cell_type": "markdown",
   "metadata": {},
   "source": [
    "Состоит этот метод в следующем:\n",
    "\n",
    "1. Во время обучения мы с вероятностью $p$ **зануляем выход нейронов** слоя (например, $p = 0.5$)\n",
    "2. Зануленные нейроны не участвуют в данном `forward`, и поэтому градиент к ним при `backward` не идет.\n",
    "3. Сила регуляризации определяется вероятностью $p$: чем она больше, тем сильнее регуляризация."
   ]
  },
  {
   "cell_type": "markdown",
   "metadata": {},
   "source": [
    "###Сверточные слои"
   ]
  },
  {
   "cell_type": "markdown",
   "metadata": {},
   "source": [
    "Аналогично **Batch Normalization**, при применении к **сверточному слою**  **Dropout** должен **убирать каналы целиком**. Dropout для полносвязного слоя реализован в PyTorch в `nn.Dropout` [🛠️[doc]](https://pytorch.org/docs/stable/generated/torch.nn.Dropout.html), для сверточного — в `nn.Dropout2d` [🛠️[doc]](https://pytorch.org/docs/stable/generated/torch.nn.Dropout2d.html)."
   ]
  },
  {
   "cell_type": "markdown",
   "metadata": {},
   "source": [
    "<img src =\"https://edunet.kea.su/repo/EduNet-content/dev-2.0/L07/out/dropout_2d.png\" width=\"700\">"
   ]
  },
  {
   "cell_type": "markdown",
   "metadata": {},
   "source": [
    "### Мотивация Dropout"
   ]
  },
  {
   "cell_type": "markdown",
   "metadata": {},
   "source": [
    "#### Борьба с коадаптацией"
   ]
  },
  {
   "cell_type": "markdown",
   "metadata": {},
   "source": [
    "Одной из  проблем при работе с глубокими сетями является **совместная адаптация нейронов**. Если все весовые коэффициенты обучаются вместе, некоторые соединения будут иметь больше возможностей прогнозирования, чем другие.\n",
    "\n",
    "**Часть нейронов** делает основную работу — **предсказывает**, а остальные могут вообще не вносить никакого вклада в итоговое предсказание. Или же другая картина: один нейрон делает **неверное предсказание**, другие его **исправляют**, и в итоге первый нейрон свои ошибки не исправляет.\n",
    "\n",
    "Это явление называется **коадаптацией**. Его нельзя было предотвратить с помощью традиционной регуляризации, такой как **L1** и **L2**. А вот **Dropout** с этим хорошо борется."
   ]
  },
  {
   "cell_type": "markdown",
   "metadata": {},
   "source": [
    "Отключая хорошо обученные нейроны, мы заставляем плохо обученные нейроны учиться. Отключая нейроны, которые исправляют ошибки других нейронов, мы заставляем ошибающиеся нейроны исправлять ошибки."
   ]
  },
  {
   "cell_type": "markdown",
   "metadata": {},
   "source": [
    "**Dropout** гарантирует, что выучиваемые индивидуальными нейронами функции хорошо работают со **случайно выбранными подмножествами функций**, выученных другими нейронами, улучшая **обобщающую способность** нейронов."
   ]
  },
  {
   "cell_type": "markdown",
   "metadata": {},
   "source": [
    "На следующем рисунке, извлеченном из [статьи про Dropout 🎓[article]](https://jmlr.org/papers/v15/srivastava14a.html), мы находим сравнение признаков, изученных в наборе данных **MNIST** нейросетью с **одним скрытым слоем** в автоэнкодере, имеющем $256$ признаков после ReLU **без Dropout** (слева), и признаков, изученных той же структурой с использованием **Dropout** в ее скрытом слое с $p = 0.5$ (справа).\n",
    "\n",
    "Первый показывает неструктурированные, беспорядочные паттерны, которые невозможно интерпретировать. Второй явно демонстрирует целенаправленное распределение весов, которое обнаруживает штрихи, края и пятна самостоятельно, нарушая их взаимозависимость с другими нейронами для выполнения этой работы."
   ]
  },
  {
   "cell_type": "markdown",
   "metadata": {},
   "source": [
    "<img src =\"https://edunet.kea.su/repo/EduNet-web_dependencies/dev-2.0/L07/compare_weights_with_dropout_and_without_dropout.png\" width=\"600\">\n",
    "\n",
    "<em>Source: <a href=\"https://jmlr.org/papers/volume15/srivastava14a/srivastava14a.pdf\">Dropout: A Simple Way to Prevent Neural Networks from\n",
    "Overfitting</a></em>"
   ]
  },
  {
   "cell_type": "markdown",
   "metadata": {},
   "source": [
    "#### Dropout как регуляризация"
   ]
  },
  {
   "cell_type": "markdown",
   "metadata": {},
   "source": [
    "Фактически, **Dropout** штрафует слишком сложные, неустойчивые решения. Добавляя в нейросеть **Dropout**, мы сообщаем ей о том, что решение, которое мы ожидаем, должно быть устойчиво к шуму."
   ]
  },
  {
   "cell_type": "markdown",
   "metadata": {},
   "source": [
    "#### Dropout как ансамбль"
   ]
  },
  {
   "cell_type": "markdown",
   "metadata": {},
   "source": [
    "Можно рассматривать **Dropout** как **ансамбль нейросетей** со схожими параметрами, которые мы учим одновременно, вместо того, чтобы учить каждую в отдельности, а затем результат их предсказания усредняем, [выключая Dropout в режиме eval ✏️[blog]](https://habr.com/ru/companies/wunderfund/articles/330814/).\n",
    "\n",
    "Таким образом, возникает аналогия со случайным лесом: каждая из наших нейросетей легко выучивает выборку и переобучается — имеет низкий bias, но высокий variance. При этом, за счет временного отключения активаций, каждая нейросеть видит не все объекты, а только часть. Усредняя все эти предсказания, мы уменьшаем variance.\n",
    "\n"
   ]
  },
  {
   "cell_type": "markdown",
   "metadata": {},
   "source": [
    "#### Dropout помогает бороться с переобучением"
   ]
  },
  {
   "cell_type": "markdown",
   "metadata": {},
   "source": [
    "Dropout, в силу указанного выше, может хорошо помогать бороться с переобучением.\n",
    "\n",
    "И в случае линейных слоев:"
   ]
  },
  {
   "cell_type": "markdown",
   "metadata": {},
   "source": [
    "<img src =\"https://edunet.kea.su/repo/EduNet-web_dependencies/dev-2.0/L07/dropout_solve_overfitting_problem_in_mlp_networks.png\" width=\"500\">\n",
    "\n",
    "<em>Source: <a href=\"https://xuwd11.github.io/Dropout_Tutorial_in_PyTorch/\">Tutorial: Dropout as Regularization and Bayesian Approximation</a></em>"
   ]
  },
  {
   "cell_type": "markdown",
   "metadata": {},
   "source": [
    "И в случае свёрточных слоёв:"
   ]
  },
  {
   "cell_type": "markdown",
   "metadata": {},
   "source": [
    "<img src =\"https://edunet.kea.su/repo/EduNet-web_dependencies/dev-2.0/L07/dropout_solve_overfitting_problem_in_convolution_networks.png\" width=\"500\">\n",
    "\n",
    "<em>Source: <a href=\"https://xuwd11.github.io/Dropout_Tutorial_in_PyTorch/\">Tutorial: Dropout as Regularization and Bayesian Approximation</a></em>"
   ]
  },
  {
   "cell_type": "markdown",
   "metadata": {},
   "source": [
    "#### Простая реализация Dropout"
   ]
  },
  {
   "cell_type": "markdown",
   "metadata": {},
   "source": [
    "Напишем \"наивную\" реализацию модуля Dropout.\n",
    "\n",
    "**Замечание:** Этот блок кода дан для объяснения работы Dropout. При построении нейронной сети используйте `nn.Dropout` [🛠️[doc]](https://pytorch.org/docs/stable/generated/torch.nn.Dropout.html) или `nn.Dropout2d` [🛠️[doc]](https://pytorch.org/docs/stable/generated/torch.nn.Dropout2d.html)."
   ]
  },
  {
   "cell_type": "code",
   "execution_count": null,
   "metadata": {},
   "outputs": [],
   "source": [
    "class BadDropout(nn.Module):\n",
    "    def __init__(self, p: float = 0.5):\n",
    "        super().__init__()\n",
    "        if p < 0 or p > 1:\n",
    "            raise ValueError(\n",
    "                f\"Dropout probability has to be between 0 and 1, but got {p}\"\n",
    "            )\n",
    "        self.p = p\n",
    "\n",
    "    def forward(self, x):\n",
    "        if self.training:\n",
    "            keep = torch.rand(x.size()) > self.p\n",
    "            if x.is_cuda:\n",
    "                keep = keep.to(device)\n",
    "            return x * keep\n",
    "        # in test time, expectation is calculated\n",
    "        return x * (1 - self.p)"
   ]
  },
  {
   "cell_type": "markdown",
   "metadata": {},
   "source": [
    "Приведенная реализация неоптимальна, так как в режиме инференса (когда ```training = False```) функция ```forward``` совершает дополнительное умножение. Одним из приоритетов при создании модели является скорость работы в режиме инференса. Поэтому по возможности все \"лишние\" операции выполняют только в режиме обучения. В данном случае можно целиком убрать коэффициент нормировки из режима инференса, перенеся его в режим обучения в знаменатель.\n",
    "\n",
    "Дополнительным плюсом такого подхода является то, что при удалении модуля из архитектуры сети функция прогнозирования не изменится."
   ]
  },
  {
   "cell_type": "code",
   "execution_count": null,
   "metadata": {},
   "outputs": [],
   "source": [
    "class Dropout(nn.Module):\n",
    "    def __init__(self, p: float = 0.2):\n",
    "        super().__init__()\n",
    "        if p < 0 or p > 1:\n",
    "            raise ValueError(\n",
    "                f\"Dropout probability has to be between 0 and 1, but got {p}\"\n",
    "            )\n",
    "        self.p = p\n",
    "\n",
    "    def forward(self, x):\n",
    "        if self.training:\n",
    "            keep = torch.rand(x.size()) > self.p\n",
    "            if x.is_cuda:\n",
    "                keep = keep.to(x)\n",
    "            return x * keep / (1 - self.p)\n",
    "        return x  # in test time, expectation is calculated intrinsically - we just not divide weights"
   ]
  },
  {
   "cell_type": "markdown",
   "metadata": {},
   "source": [
    "Попробуем применить Dropout в нашей нейросети:"
   ]
  },
  {
   "cell_type": "code",
   "execution_count": null,
   "metadata": {},
   "outputs": [],
   "source": [
    "class SimpleMNIST_NN_Dropout(nn.Module):\n",
    "    def __init__(self, n_layers, activation=nn.Sigmoid, init_form=\"normal\"):\n",
    "        super().__init__()\n",
    "        self.n_layers = n_layers\n",
    "        self.activation = activation()\n",
    "        layers = [nn.Linear(28 * 28, 100), self.activation]\n",
    "        for _ in range(0, n_layers - 1):\n",
    "            layers.append(nn.Linear(100, 100))\n",
    "            layers.append(Dropout())  # add Dropout\n",
    "            layers.append(self.activation)\n",
    "        layers.append(nn.Linear(100, 10))\n",
    "        self.layers = nn.Sequential(*layers)\n",
    "        self.init_form = init_form\n",
    "        if self.init_form is not None:\n",
    "            self.init()\n",
    "\n",
    "    def forward(self, x):\n",
    "        x = x.view(-1, 28 * 28)\n",
    "        x = self.layers(x)\n",
    "        return x\n",
    "\n",
    "    def init(self):\n",
    "        sigmoid_gain = torch.nn.init.calculate_gain(\"sigmoid\")\n",
    "        for child in self.layers.children():\n",
    "            if isinstance(child, nn.Linear):\n",
    "                if self.init_form == \"normal\":\n",
    "                    torch.nn.init.xavier_normal_(child.weight, gain=sigmoid_gain)\n",
    "                    if child.bias is not None:\n",
    "                        torch.nn.init.zeros_(child.bias)\n",
    "                elif self.init_form == \"uniform\":\n",
    "                    torch.nn.init.xavier_uniform_(child.weight, gain=sigmoid_gain)\n",
    "                    if child.bias is not None:\n",
    "                        torch.nn.init.zeros_(child.bias)\n",
    "                else:\n",
    "                    raise NotImplementedError()"
   ]
  },
  {
   "cell_type": "markdown",
   "metadata": {},
   "source": [
    "Так как наша модель из-за Dropout ведет себя по-разному во время обучения и во время тестирования, мы должны прямо ей сообщать, обучается она сейчас или нет.\n",
    "\n",
    "$$\n",
    "\\begin{array}{c|c}\n",
    "\\large{\\text{model.train()}}&\\ \\large{\\text{model.eval()}}\\\\  \\hline\n",
    "\\large{\\text{Активируются Dropout слои}}&\\large{\\text{Слои Dropout отключены}}\\\\\n",
    "\\large{\\text{Выход части нейронов обнуляется, выходы нормируются}}&\\large{\\text{Все нейроны работают}}\n",
    "\\end{array}\n",
    "$$\n",
    "\n"
   ]
  },
  {
   "cell_type": "markdown",
   "metadata": {},
   "source": [
    "Обучим модель с **Dropout**:"
   ]
  },
  {
   "cell_type": "code",
   "execution_count": null,
   "metadata": {},
   "outputs": [],
   "source": [
    "model_name = \"nn3_dropout\"\n",
    "model = SimpleMNIST_NN_Dropout(n_layers=3)\n",
    "\n",
    "trainer = pl.Trainer(\n",
    "    max_epochs=5,\n",
    "    logger=TensorBoardLogger(save_dir=f\"logs/{model_name}\"),\n",
    "    num_sanity_val_steps=0,\n",
    ")\n",
    "\n",
    "pipeline = Pipeline(model=model, exp_name=model_name, optimizer_kwargs={\"lr\": 1e-2})\n",
    "\n",
    "trainer.fit(model=pipeline, train_dataloaders=train_loader, val_dataloaders=test_loader)\n",
    "\n",
    "history = pipeline.history\n",
    "history[\"epoсhs\"] = trainer.max_epochs\n",
    "history_plotter.add(history)"
   ]
  },
  {
   "cell_type": "code",
   "execution_count": null,
   "metadata": {},
   "outputs": [],
   "source": [
    "history_plotter.plot([\"n_layers3_sigmoid\", \"n3_layers_sigmoid_havier\", model_name])"
   ]
  },
  {
   "cell_type": "markdown",
   "metadata": {},
   "source": [
    "В данном случае выигрыша мы не получили. Возможно, если учить нейросеть больше эпох, эффект бы заметили"
   ]
  },
  {
   "cell_type": "markdown",
   "metadata": {},
   "source": [
    "#### Пример борьбы с переобучением при помощи Dropout\n"
   ]
  },
  {
   "cell_type": "markdown",
   "metadata": {},
   "source": [
    "Чтобы увидеть эффект и при этом не учить нейросеть 100+ эпох, сделаем искусственный пример.\n",
    "\n",
    "Просто **добавим к линейной зависимости шум** и попробуем выучить ее нейронной сетью.\n",
    "\n",
    "[[blog] ✏️ Batch Normalization and Dropout in Neural Networks with PyTorch (перевод)](https://machinelearningmastery.ru/batch-normalization-and-dropout-in-neural-networks-explained-with-pytorch-47d7a8459bcd/#)"
   ]
  },
  {
   "cell_type": "code",
   "execution_count": null,
   "metadata": {},
   "outputs": [],
   "source": [
    "N = 50  # number of data points\n",
    "noise = 0.3\n",
    "\n",
    "# generate the train data\n",
    "x_train = torch.unsqueeze(torch.linspace(-1, 1, N), 1)\n",
    "y_train = x_train + noise * torch.normal(torch.zeros(N, 1), torch.ones(N, 1))\n",
    "\n",
    "# generate the test data\n",
    "x_test = torch.unsqueeze(torch.linspace(-1, 1, N), 1)\n",
    "y_test = x_test + noise * torch.normal(torch.zeros(N, 1), torch.ones(N, 1))\n",
    "\n",
    "print(f\"x_train shape: {x_train.shape}\\nx_test shape: {x_test.shape}\")"
   ]
  },
  {
   "cell_type": "code",
   "execution_count": null,
   "metadata": {},
   "outputs": [],
   "source": [
    "plt.scatter(\n",
    "    x_train.data.numpy(), y_train.data.numpy(), c=\"purple\", alpha=0.5, label=\"train\"\n",
    ")\n",
    "plt.scatter(\n",
    "    x_test.data.numpy(), y_test.data.numpy(), c=\"yellow\", alpha=0.5, label=\"test\"\n",
    ")\n",
    "\n",
    "x_real = np.arange(-1, 1, 0.01)\n",
    "y_real = x_real\n",
    "plt.plot(x_real, y_real, c=\"green\", label=\"true\")\n",
    "plt.legend()\n",
    "plt.show()"
   ]
  },
  {
   "cell_type": "markdown",
   "metadata": {},
   "source": [
    "Модель **без Dropout**:"
   ]
  },
  {
   "cell_type": "code",
   "execution_count": null,
   "metadata": {},
   "outputs": [],
   "source": [
    "N_h = 100  # num of neurons\n",
    "model = torch.nn.Sequential(\n",
    "    torch.nn.Linear(1, N_h),\n",
    "    torch.nn.ReLU(),\n",
    "    torch.nn.Linear(N_h, N_h),\n",
    "    torch.nn.ReLU(),\n",
    "    torch.nn.Linear(N_h, 1),\n",
    ")\n",
    "optimizer = torch.optim.Adam(model.parameters(), lr=0.01)"
   ]
  },
  {
   "cell_type": "markdown",
   "metadata": {},
   "source": [
    "Модель **с Dropout**:"
   ]
  },
  {
   "cell_type": "code",
   "execution_count": null,
   "metadata": {},
   "outputs": [],
   "source": [
    "N_h = 100  # num of neurons\n",
    "\n",
    "model_dropout = nn.Sequential(\n",
    "    nn.Linear(1, N_h),\n",
    "    nn.Dropout(0.5),  # 50 % probability\n",
    "    nn.ReLU(),\n",
    "    torch.nn.Linear(N_h, N_h),\n",
    "    nn.Dropout(0.2),  # 20% probability\n",
    "    nn.ReLU(),\n",
    "    torch.nn.Linear(N_h, 1),\n",
    ")\n",
    "optimizer_dropout = torch.optim.Adam(model_dropout.parameters(), lr=0.01)"
   ]
  },
  {
   "cell_type": "code",
   "execution_count": null,
   "metadata": {},
   "outputs": [],
   "source": [
    "num_epochs = 1500\n",
    "criterion = torch.nn.MSELoss()\n",
    "\n",
    "for epoch in range(num_epochs):\n",
    "    # train without dropout\n",
    "    y_pred = model(x_train)  # look at the entire data in a single shot\n",
    "    loss = criterion(y_pred, y_train)\n",
    "    optimizer.zero_grad()\n",
    "    loss.backward()\n",
    "    optimizer.step()\n",
    "\n",
    "    # train with dropout\n",
    "    y_pred_dropout = model_dropout(x_train)\n",
    "    loss_dropout = criterion(y_pred_dropout, y_train)\n",
    "    optimizer_dropout.zero_grad()\n",
    "    loss_dropout.backward()\n",
    "    optimizer_dropout.step()\n",
    "\n",
    "    if epoch % 300 == 0:\n",
    "        model.eval()  # not train mode\n",
    "        model_dropout.eval()  #  not train mode\n",
    "\n",
    "        # get predictions\n",
    "        y_test_pred = model(x_test)\n",
    "        test_loss = criterion(y_test_pred, y_test)\n",
    "\n",
    "        y_test_pred_dropout = model_dropout(x_test)\n",
    "        test_loss_dropout = criterion(y_test_pred_dropout, y_test)\n",
    "        # plotting data and predictions\n",
    "        plt.scatter(\n",
    "            x_train.data.numpy(),\n",
    "            y_train.data.numpy(),\n",
    "            c=\"purple\",\n",
    "            alpha=0.5,\n",
    "            label=\"train\",\n",
    "        )\n",
    "        plt.scatter(\n",
    "            x_test.data.numpy(),\n",
    "            y_test.data.numpy(),\n",
    "            c=\"yellow\",\n",
    "            alpha=0.5,\n",
    "            label=\"test\",\n",
    "        )\n",
    "        plt.plot(\n",
    "            x_test.data.numpy(), y_test_pred.data.numpy(), \"r-\", lw=3, label=\"normal\"\n",
    "        )\n",
    "        plt.plot(\n",
    "            x_test.data.numpy(),\n",
    "            y_test_pred_dropout.data.numpy(),\n",
    "            \"b--\",\n",
    "            lw=3,\n",
    "            label=\"dropout\",\n",
    "        )\n",
    "\n",
    "        plt.title(\n",
    "            \"Epoch %d, Loss = %0.4f, Loss with dropout = %0.4f\"\n",
    "            % (epoch, test_loss, test_loss_dropout)\n",
    "        )\n",
    "\n",
    "        plt.legend()\n",
    "\n",
    "        model.train()  # train mode\n",
    "        model_dropout.train()  # train mode\n",
    "\n",
    "        plt.pause(0.05)"
   ]
  },
  {
   "cell_type": "markdown",
   "metadata": {},
   "source": [
    "Видим, что **нейросеть без Dropout сильно переобучилась**."
   ]
  },
  {
   "cell_type": "markdown",
   "metadata": {},
   "source": [
    "#### Доверительный интервал от Dropout"
   ]
  },
  {
   "cell_type": "markdown",
   "metadata": {},
   "source": [
    "Можно, используя нейросеть с Dropout, получить **доверительный интервал** для нашего предсказания (как делали в лекции по ML). Просто **не \"замораживаем\" dropout-слои** во время предсказания, а делаем предсказания с активными dropout.\n",
    "\n",
    "Делаем предсказание для каждого объекта 1000 раз, после чего получаем распределение предсказаний, на основе которого можно делать **доверительные интервалы** и ловить **аномалии** — те объекты, на которых нейросеть вообще не понимает, что ей делать, и потому предсказывает метку или еще что-то с сильной дисперсией.\n"
   ]
  },
  {
   "cell_type": "markdown",
   "metadata": {},
   "source": [
    "<center><img src =\"https://edunet.kea.su/repo/EduNet-web_dependencies/dev-2.0/L07/confidence_interval_dropout.png\" width=\"600\"></center>\n",
    "\n",
    "<center><em>Source: <a href=\"https://atcold.github.io/NYU-DLSP20/en/week14/14-3/\">Overfitting and regularization</a></em></center>\n",
    "\n"
   ]
  },
  {
   "cell_type": "markdown",
   "metadata": {},
   "source": [
    "## DropConnect"
   ]
  },
  {
   "cell_type": "markdown",
   "metadata": {},
   "source": [
    "Если занулять не нейроны (активации), а случайные веса с вероятностью $p$, получится DropConnect."
   ]
  },
  {
   "cell_type": "markdown",
   "metadata": {},
   "source": [
    "<img src =\"https://edunet.kea.su/repo/EduNet-content/dev-2.0/L07/out/dropconnect.png\" width=\"650\">"
   ]
  },
  {
   "cell_type": "markdown",
   "metadata": {},
   "source": [
    "DropConnect похож на Dropout, поскольку он вводит динамическую разреженность в модель, но отличается тем, что разреженность зависит от весов *W*, а не от выходных векторов слоя. Другими словами, полностью связанный слой с DropConnect становится разреженно связанным слоем, в котором соединения выбираются случайным образом на этапе обучения."
   ]
  },
  {
   "cell_type": "markdown",
   "metadata": {},
   "source": [
    "В принципе, вариантов зануления чего-то в нейронной сети можно предложить великое множество, в разных ситуациях будут работать разные способы ([в этом списке 🎓[article]](https://paperswithcode.com/methods/category/regularization) много Drop...)."
   ]
  },
  {
   "cell_type": "markdown",
   "metadata": {},
   "source": [
    "## DropBlock"
   ]
  },
  {
   "cell_type": "markdown",
   "metadata": {},
   "source": [
    "Например, можно убирать для каждого батча из нейросети случайные блоки из слоев. И это будет работать!"
   ]
  },
  {
   "cell_type": "markdown",
   "metadata": {},
   "source": [
    "<img src =\"https://edunet.kea.su/repo/EduNet-content/dev-2.0/L07/out/dropblock.png\" width=\"750\">"
   ]
  },
  {
   "cell_type": "markdown",
   "metadata": {},
   "source": [
    "[[arxiv] 🎓 Deep Networks with Stochastic Depth (Huang et al., 2016)](https://arxiv.org/pdf/1603.09382.pdf)"
   ]
  },
  {
   "cell_type": "markdown",
   "metadata": {},
   "source": [
    "## Batch Normalization до или после Dropout\n",
    "\n"
   ]
  },
  {
   "cell_type": "markdown",
   "metadata": {},
   "source": [
    "### После"
   ]
  },
  {
   "cell_type": "markdown",
   "metadata": {},
   "source": [
    "<img src =\"https://edunet.kea.su/repo/EduNet-content/dev-2.0/L07/out/batchnormalization_after_dropout.png\" width=\"400\">"
   ]
  },
  {
   "cell_type": "markdown",
   "metadata": {},
   "source": [
    "* **Плохо**: В режиме обучения **Dropout** будет отключать (занулять) выходы слоя активации, из-за этого накопленные в режиме обучения **значения скользящего среднего матожидания и дисперсии** для вычисления **Batch Normalization** в режиме тестирования будут иметь **сдвиг** (не компенсируемый приведением слоя Dropout в режим train()), который приведет к нестабильной работе нейросети.\n",
    "\n",
    "\n",
    "Подробно:\n",
    "* [[arxiv] 🎓 Understanding the Disharmony between Dropout and Batch Normalization by\n",
    "Variance Shift (Li et al., 2018)](https://arxiv.org/pdf/1801.05134.pdf)\n",
    "* [[git] 🐾 Understanding the Disharmony between Dropout and Batch Normalization](https://github.com/adelizer/kaggle-sandbox/blob/master/drafts/dropout_bn.ipynb)"
   ]
  },
  {
   "cell_type": "markdown",
   "metadata": {},
   "source": [
    "### До"
   ]
  },
  {
   "cell_type": "markdown",
   "metadata": {},
   "source": [
    "<img src =\"https://edunet.kea.su/repo/EduNet-content/dev-2.0/L07/out/batchnormalization_before_dropout.png\" width=\"400\">"
   ]
  },
  {
   "cell_type": "markdown",
   "metadata": {},
   "source": [
    "* **Лучше**: Меньше влияние сдвига от **Dropout** на **BatchNorm**. Но если на предыдущих слоях есть **Dropout**, то значения все равно могут быть смещены."
   ]
  },
  {
   "cell_type": "markdown",
   "metadata": {},
   "source": [
    "### Ставить только что-то одно"
   ]
  },
  {
   "cell_type": "markdown",
   "metadata": {},
   "source": [
    "* **Dropout** может отрицательно влиять на качество нейросети с **BatchNorm** за счет разного поведения на train и test. Лучше не ставить **Dropout** раньше **BatchNorm**."
   ]
  },
  {
   "cell_type": "markdown",
   "metadata": {},
   "source": [
    "# Оптимизация параметров нейросетей"
   ]
  },
  {
   "cell_type": "markdown",
   "metadata": {},
   "source": [
    "В процессе обучения мы пытаемся подобрать параметры модели, при которых она будет работать лучше всего. Это — **оптимизационная задача** (задача подбора оптимальных параметров). Мы уже ознакомились с одним алгоритмом оптимизации параметров — **градиентным спуском**.\n",
    "\n",
    "Существует множество **алгоритмов оптимизации**, которые можно применять для поиска минимума функционала ошибки ([неполный список 🎓[article]](https://paperswithcode.com/methods/category/stochastic-optimization)). Эти алгоритмы реализованы в модуле `torch.optim` [🛠️[doc]](https://pytorch.org/docs/stable/optim.html).\n",
    "\n",
    "Важно отметить, что **выбор оптимизатора не влияет на расчет градиента**. Градиент в PyTorch вычисляется автоматически на основе графа вычислений.\n"
   ]
  },
  {
   "cell_type": "markdown",
   "metadata": {},
   "source": [
    "## Обзор популярных оптимизаторов"
   ]
  },
  {
   "cell_type": "markdown",
   "metadata": {},
   "source": [
    "### SGD (stochastic gradient descent)"
   ]
  },
  {
   "cell_type": "markdown",
   "metadata": {},
   "source": [
    "При градиентном спуске мы:\n",
    "- делаем **прямой проход**, вычисляем функционал ошибки $\\large L(x, y, w_t)$;\n",
    "- делаем **обратный проход**, вычисляем градиент $\\large \\nabla_wL(x, y, w_t)$;\n",
    "- делаем **шаг оптимизации**: изменяем параметры модели по формуле:\n",
    "\n",
    "$$\\large w_{t+1} = w_t - \\text{lr} \\cdot \\nabla_wL(x, y, w_t),$$\n",
    "\n",
    "домножая антиградиент на постоянный коэффициент $\\text{lr}$ (гиперпараметр обучения — learning rate)."
   ]
  },
  {
   "cell_type": "markdown",
   "metadata": {},
   "source": [
    "<img src =\"https://edunet.kea.su/repo/EduNet-content/dev-2.0/L07/out/stochastic_gradient_descent.gif\" width=\"950\">"
   ]
  },
  {
   "cell_type": "markdown",
   "metadata": {},
   "source": [
    "У данного алгоритма есть проблема: он может застревать в **локальных минимумах** или даже **седловых точках**.\n",
    "\n",
    "**Cедловые точки** — точки, в которых все производные равны $0$, но они не являются экстремумами. В них градиент равен $0$, веса не обновляются — оптимизация останавливается.\n",
    "\n",
    "Пример таких точек:\n",
    "\n",
    "- точка $(0, 0)$ у функции $y = x^3$, не имеющей минимума или максимума вовсе;\n",
    "- точка $(0, 0, 0)$ у функции $z = x^2 - y^2$."
   ]
  },
  {
   "cell_type": "markdown",
   "metadata": {},
   "source": [
    "<center><img src =\"https://edunet.kea.su/repo/EduNet-content/dev-2.0/L07/out/getting_stuck_in_local_minimum_example.png\" width=\"350\"> <img src =\"https://edunet.kea.su/repo/EduNet-content/dev-2.0/L07/out/saddle_point_example.png\" width=\"400\"></center>\n",
    "\n",
    "<center><em>Source: <a href=\"https://ru.wikipedia.org/wiki/%D0%A1%D0%B5%D0%B4%D0%BB%D0%BE%D0%B2%D0%B0%D1%8F_%D1%82%D0%BE%D1%87%D0%BA%D0%B0\">Седловая точка</a></em></center>"
   ]
  },
  {
   "cell_type": "markdown",
   "metadata": {},
   "source": [
    "Частично эту проблему решает **стохастический градиентный спуск** (stochastic gradient descent, **SGD**). В нем для градиентного спуска используются не все данные, а некоторая подвыборка (mini-batch) или даже один элемент.\n"
   ]
  },
  {
   "cell_type": "markdown",
   "metadata": {},
   "source": [
    "**SGD** обладает важной особенностью: на каждом объекте или подвыборке (mini-batch) ландшафт функции потерь выглядит по-разному. Некоторые минимумы функции потерь и седловые точки могут быть характерны лишь для части объектов.\n",
    "\n",
    "Ниже **упрощенно** показаны ландшафты функции потерь на полном датасете и на отдельных батчах. При оптимизации на полном датасете модель могла бы **остановиться в левом локальном минимуме**, но стохастическая природа спуска позволяет избежать этого за счет того, что **для некоторых батчей этот минимум отсутствует**.\n",
    "\n",
    "В результате модель сможет остановиться только в каком-то относительно широком и глубоком минимуме, характерном для большинства батчей обучающих данных. С большой вероятностью этот минимум будет присутствовать и на реальных данных, то есть модель сможет адекватно работать с ними."
   ]
  },
  {
   "cell_type": "markdown",
   "metadata": {},
   "source": [
    "<img src =\"https://edunet.kea.su/repo/EduNet-content/dev-2.0/L07/out/sgd_loss_batch_landscape.png\" width=\"700\">"
   ]
  },
  {
   "cell_type": "markdown",
   "metadata": {},
   "source": [
    "**SGD** до сих пор является достаточно популярным методом обучения нейросетей, потому что он простой, не требует подбора дополнительных гиперпараметров, кроме **скорости обучения** `lr`, и сам по себе обычно дает неплохие результаты.\n",
    "\n",
    "Если же модель учится слишком долго и/или важна каждая сотая в качестве, то нужно либо использовать его в совокупности с другими техниками (их рассмотрим далее), либо использовать другие способы."
   ]
  },
  {
   "cell_type": "markdown",
   "metadata": {},
   "source": [
    "Фрагмент кода для понимания работы SGD:\n",
    "```\n",
    "class SGD:\n",
    "  def __init__(self, parameters, lr):\n",
    "    self.parameters = parameters\n",
    "    self.lr = lr\n",
    "\n",
    "  def step(self):\n",
    "    d_parameters = self.parameters.grad\n",
    "    self.parameters -= self.lr*d_parameters\n",
    "```"
   ]
  },
  {
   "cell_type": "markdown",
   "metadata": {},
   "source": [
    "Алгоритм SGD реализован в `torch.optim.SGD` [🛠️[doc]](https://pytorch.org/docs/stable/generated/torch.optim.SGD.html)"
   ]
  },
  {
   "cell_type": "code",
   "execution_count": null,
   "metadata": {},
   "outputs": [],
   "source": [
    "import torch.optim as optim\n",
    "\n",
    "parameters = torch.randn(10, requires_grad=True)\n",
    "optimizer = optim.SGD(model.parameters(), lr=0.001)"
   ]
  },
  {
   "cell_type": "markdown",
   "metadata": {},
   "source": [
    "**Минусы SGD**:\n",
    "\n",
    " 1. Если функция ошибки быстро меняется в одном направлении, а в другом &mdash; медленно, то это приводит к резким изменениям направления градиентов и замедляет процесс обучения.\n"
   ]
  },
  {
   "cell_type": "markdown",
   "metadata": {},
   "source": [
    "<img src =\"https://edunet.kea.su/repo/EduNet-content/dev-2.0/L07/out/stohastic_gradient_descent_no_momentum.gif\" width=\"500\">\n"
   ]
  },
  {
   "cell_type": "markdown",
   "metadata": {},
   "source": [
    " 2. Может застревать в локальных минимумах или седловых точках.\n",
    "\n",
    " 3. Мы оцениваем градиент по малым частям выборки, которые могут плохо отображать градиент по всей выборке и являться шумными. В результате часть шагов градиентного спуска делается впустую или во вред.\n",
    "\n",
    " 4. Мы применяем один и тот же `learning rate` ко всем параметрам, что не всегда разумно. Параметр, отвечающий редкому классу, будет обучаться медленнее остальных.\n",
    "\n",
    " 5. Просто медленнее сходится."
   ]
  },
  {
   "cell_type": "markdown",
   "metadata": {},
   "source": [
    "**SGD** является основой всех описанных ниже алгоритмов."
   ]
  },
  {
   "cell_type": "markdown",
   "metadata": {},
   "source": [
    "### Momentum"
   ]
  },
  {
   "cell_type": "markdown",
   "metadata": {},
   "source": [
    "Чтобы избежать проблем 1–3, можно добавить движению по ландшафту функции ошибок инерцию (**momentum**). По аналогии с реальной жизнью: если мяч катится с горки, то он благодаря инерции может проскочить пологое место или даже небольшую яму."
   ]
  },
  {
   "cell_type": "markdown",
   "metadata": {},
   "source": [
    "Корректируем направление движения шарика с учетом текущего градиента:\n",
    "\n",
    "$$v_{t} = m \\cdot v_{t-1} + \\nabla_wL(x, y, w_{t})$$\n",
    "\n",
    "где $m \\in [0, 1)$ — momentum (гиперпараметр).\n",
    "\n",
    "Вычисляем, куда он покатится:\n",
    "\n",
    "$$w_{t+1} = w_t - lr \\cdot v_{t}$$"
   ]
  },
  {
   "cell_type": "markdown",
   "metadata": {},
   "source": [
    "<img src =\"https://edunet.kea.su/repo/EduNet-content/dev-2.0/L07/out/advantages_wtih_momentum.png\" width=\"480\">"
   ]
  },
  {
   "cell_type": "markdown",
   "metadata": {},
   "source": [
    "[[video] 📺 Градиентный спуск, как учатся нейронные сети](https://youtu.be/IHZwWFHWa-w)"
   ]
  },
  {
   "cell_type": "markdown",
   "metadata": {},
   "source": [
    "Теперь мы быстрее достигаем локального минимума и можем выкатываться из совсем неглубоких. Градиент стал менее подвержен шуму, меньше осциллирует"
   ]
  },
  {
   "cell_type": "markdown",
   "metadata": {},
   "source": [
    "<img src =\"https://edunet.kea.su/repo/EduNet-content/dev-2.0/L07/out/stohastic_gradient_descent_no_momentum.gif\" width=\"500\"> <img src =\"https://edunet.kea.su/repo/EduNet-content/dev-2.0/L07/out/stohastic_gradient_descent_with_momentum.gif\" width=\"500\">"
   ]
  },
  {
   "cell_type": "markdown",
   "metadata": {},
   "source": [
    "Фрагмент кода для понимания работы Momentum:\n",
    "\n",
    "```\n",
    "class SGD_with_momentum:\n",
    "  def __init__(self, parameters, momentum, lr):\n",
    "    self.parameters = parameters\n",
    "    self.momentum = momentum\n",
    "    self.lr = lr\n",
    "    self.velocity = torch.zeros_like(parameters)\n",
    "\n",
    "  def step(self):\n",
    "    d_parameters = self.parameters.grad\n",
    "    self.velocity =  self.momentum*self.velocity + d_parameters\n",
    "    self.weights -= self.lr*self.velocity\n",
    "```\n"
   ]
  },
  {
   "cell_type": "markdown",
   "metadata": {},
   "source": [
    "**Momentum удваивает количество хранимых параметров.**"
   ]
  },
  {
   "cell_type": "markdown",
   "metadata": {},
   "source": [
    "Алгоритм Momentum реализован в `torch.optim.SGD` [🛠️[doc]](https://pytorch.org/docs/stable/generated/torch.optim.SGD.html):"
   ]
  },
  {
   "cell_type": "code",
   "execution_count": null,
   "metadata": {},
   "outputs": [],
   "source": [
    "parameters = torch.randn(10, requires_grad=True)\n",
    "optimizer = optim.SGD(model.parameters(), momentum=0.9, lr=0.001)"
   ]
  },
  {
   "cell_type": "markdown",
   "metadata": {},
   "source": [
    "У этого подхода есть одна опасность — мы можем выкатиться за пределы минимума, к которому стремимся, а потом какое-то время к нему возвращаться."
   ]
  },
  {
   "cell_type": "markdown",
   "metadata": {},
   "source": [
    "<img src =\"https://edunet.kea.su/repo/EduNet-web_dependencies/dev-2.0/L07/problem_of_big_momentum_value.gif\" width=\"700\">\n",
    "\n",
    "<em>Source: <a href=\"https://distill.pub/2017/momentum/\">Why Momentum Really Works</a></em>"
   ]
  },
  {
   "cell_type": "markdown",
   "metadata": {},
   "source": [
    "[[demo] 🎮 Optimizer Visualization](https://github.com/Jaewan-Yun/optimizer-visualization)"
   ]
  },
  {
   "cell_type": "markdown",
   "metadata": {},
   "source": [
    "Чтобы с этим бороться, предложен другой способ подсчета инерции"
   ]
  },
  {
   "cell_type": "markdown",
   "metadata": {},
   "source": [
    "### NAG (Nesterov momentum)"
   ]
  },
  {
   "cell_type": "markdown",
   "metadata": {},
   "source": [
    "Будем сначала смещаться в сторону, куда привел бы нас наш накопленный градиент, там считать новый градиент и смещаться по нему.\n",
    "В результате перескоки через минимум будут менее значительными, и алгоритм будет быстрее сходиться:\n",
    "\n",
    "$$\\large v_{t} = m \\cdot v_{t-1} +  \\nabla_w L(w_t - lr \\cdot m \\cdot  v_{t-1} )$$\n",
    "\n",
    "$$\\large w_{t+1} = w_{t} - lr \\cdot v_{t} $$"
   ]
  },
  {
   "cell_type": "markdown",
   "metadata": {},
   "source": [
    "<img src =\"https://edunet.kea.su/repo/EduNet-content/dev-2.0/L07/out/nesterov_momentum.png\" width=\"800\">"
   ]
  },
  {
   "cell_type": "markdown",
   "metadata": {},
   "source": [
    "Кажется, что для реализации такого алгоритма необходимо пересчитывать прямой и обратный проход с новыми параметрами, для вычисления градиента. На практике эту формулу можно [переписать 🎓[article]](http://www.cs.toronto.edu/~hinton/absps/momentum.pdf) так, чтобы не пересчитывать градиент.\n",
    "\n",
    "С псевдокодом, описывающим последовательность действий NAG, можно познакомиться в [PyTorch 🛠️[doc]](https://pytorch.org/docs/stable/generated/torch.optim.SGD.html)."
   ]
  },
  {
   "cell_type": "markdown",
   "metadata": {},
   "source": [
    "**Так же, как momentum, Nesterov momentum удваивает количество хранимых параметров.**"
   ]
  },
  {
   "cell_type": "markdown",
   "metadata": {},
   "source": [
    "Алгоритм Nesterov momentum реализован в `torch.optim.SGD` [🛠️[doc]](https://pytorch.org/docs/stable/generated/torch.optim.SGD.html):"
   ]
  },
  {
   "cell_type": "code",
   "execution_count": null,
   "metadata": {},
   "outputs": [],
   "source": [
    "parameters = torch.randn(10, requires_grad=True)\n",
    "optimizer = optim.SGD(model.parameters(), momentum=0.9, nesterov=True, lr=0.001)"
   ]
  },
  {
   "cell_type": "markdown",
   "metadata": {},
   "source": [
    "### Adaptive Learning Rate"
   ]
  },
  {
   "cell_type": "markdown",
   "metadata": {},
   "source": [
    "Описанные алгоритмы не борются с 4-ой проблемой SGD: \"мы применяем **один и тот же learning rate ко всем параметрам**, что не всегда разумно. Параметр, отвечающий редкому классу, будет обучаться медленнее остальных\".\n",
    "\n",
    "**Пример:** мы решаем задачу классификации картинок из Интернета, и у нас есть параметры, ответственные за признаки, которые характеризуют кошек породы сфинкс. Кошки породы сфинкс встречаются в нашем датасете редко, и эти параметры реже получают информацию для обновления. Поэтому наша модель может хуже классифицировать кошек этой породы.\n",
    "\n",
    "Для решения этой проблемы мы можем завести для каждого параметра **индивидуальный learning rate**, зависящий от того, как часто и как сильно изменяется этот параметр в процессе обучения."
   ]
  },
  {
   "cell_type": "markdown",
   "metadata": {},
   "source": [
    "### Adagrad"
   ]
  },
  {
   "cell_type": "markdown",
   "metadata": {},
   "source": [
    "Будем хранить для каждого параметра **сумму квадратов его градиентов** (запоминаем, как часто и как сильно он изменялся).\n",
    "\n",
    "И будем вычитать из значений параметров градиент с коэффициентом, обратно пропорциональным корню из этой суммы $G_t$."
   ]
  },
  {
   "cell_type": "markdown",
   "metadata": {},
   "source": [
    "$$ G_ t = \\sum_{i=1}^t \\nabla_w L(x,y,w_i)\\odot\\nabla_w L(x,y,w_i) $$\n",
    "\n",
    "$$ w_{t+1} = w_{t} -  \\frac{\\text{lr}}{\\sqrt{G_t} + e} \\odot \\nabla_w L(x,y,w_{t}) $$\n",
    "\n",
    "$e$ — малая константа, чтобы не допускать деления на ноль, $\\odot$ — поэлементное умножение."
   ]
  },
  {
   "cell_type": "markdown",
   "metadata": {},
   "source": [
    "В результате, если градиент у нашего веса часто большой, коэффициент будет уменьшаться.\n",
    "\n",
    "Проблема заключается в том, что при такой формуле learning rate неминуемо в конце концов затухает (так как сумма квадратов не убывает).\n"
   ]
  },
  {
   "cell_type": "markdown",
   "metadata": {},
   "source": [
    "Фрагмент кода для понимания работы Adagrad:\n",
    "```\n",
    "class AdaGrad:\n",
    "  def __init__(self, parameters, lr=0.01):\n",
    "     self.parameters = parameters\n",
    "     self.lr = lr\n",
    "     self.grad_squared = torch.zeros_like(parameters)\n",
    "\n",
    "  def step(self):\n",
    "    d_parameters = self.parameters.grad\n",
    "    self.grad_squared += d_parameters*d_parameters\n",
    "    self.parameters -= self.lr*d_parameters / (torch.sqrt(self.grad_squared) + 1e-7)\n",
    "```\n",
    "\n"
   ]
  },
  {
   "cell_type": "markdown",
   "metadata": {},
   "source": [
    "**Adagrad удваивает количество хранимых параметров**"
   ]
  },
  {
   "cell_type": "markdown",
   "metadata": {},
   "source": [
    "Алгоритм Adagrad реализован в `torch.optim.Adagrad` [🛠️[doc]](https://pytorch.org/docs/stable/generated/torch.optim.Adagrad.html):"
   ]
  },
  {
   "cell_type": "code",
   "execution_count": null,
   "metadata": {},
   "outputs": [],
   "source": [
    "parameters = torch.randn(10, requires_grad=True)\n",
    "optimizer = optim.Adagrad(model.parameters(), lr=0.01)"
   ]
  },
  {
   "cell_type": "markdown",
   "metadata": {},
   "source": [
    "### RMSprop"
   ]
  },
  {
   "cell_type": "markdown",
   "metadata": {},
   "source": [
    "Добавим \"забывание\" предыдущих квадратов градиентов. Теперь мы считаем не сумму квадратов, а [экспоненциальное скользящее среднее 📚[wiki]](https://ru.wikipedia.org/wiki/%D0%A1%D0%BA%D0%BE%D0%BB%D1%8C%D0%B7%D1%8F%D1%89%D0%B0%D1%8F_%D1%81%D1%80%D0%B5%D0%B4%D0%BD%D1%8F%D1%8F) с коэффициентом $\\alpha$.\n",
    "\n",
    "\n",
    "$$G_t = \\alpha \\cdot G_{t-1} + (1-\\alpha) \\cdot \\nabla_w L(x,y,w_t) \\odot \\nabla_w L(x,y,w_t)$$\n",
    "\n",
    "$$w_{t+1} = w_{t} - \\frac{lr}{\\sqrt{G_t }+ e} \\odot \\nabla_w L(x,y,w_t)$$"
   ]
  },
  {
   "cell_type": "markdown",
   "metadata": {},
   "source": [
    "Фрагмент кода для понимания работы RMSprop:\n",
    "\n",
    "```\n",
    "class RMSprop():\n",
    "  def __init__(self, parameters, lr=0.01, alpha=0.99):\n",
    "    self.parameters = parameters\n",
    "    self.lr = lr\n",
    "    self.alpha = alpha\n",
    "    self.grad_squared = torch.zeros_like(parameters)\n",
    "\n",
    "  def step(self):\n",
    "    d_parameters = self.parameters.grad\n",
    "    self.grad_squared = self.alpha*self.grad_squared + \\\n",
    "        (1 - self.alpha)*d_parameters*d_parameters\n",
    "\n",
    "    self.parameters -= self.lr*d_parameters / (torch.sqrt(self.grad_squared) + 1e-7)\n",
    "```\n",
    "\n"
   ]
  },
  {
   "cell_type": "markdown",
   "metadata": {},
   "source": [
    "**Так же, как Adagrad, RMSprop удваивает количество хранимых параметров**"
   ]
  },
  {
   "cell_type": "markdown",
   "metadata": {},
   "source": [
    "Алгоритм RMSprop реализован в `torch.optim.RMSprop` [🛠️[doc]](https://pytorch.org/docs/stable/generated/torch.optim.RMSprop.html):"
   ]
  },
  {
   "cell_type": "code",
   "execution_count": null,
   "metadata": {},
   "outputs": [],
   "source": [
    "parameters = torch.randn(10, requires_grad=True)\n",
    "optimizer = optim.RMSprop(model.parameters(), lr=0.01, alpha=0.99)"
   ]
  },
  {
   "cell_type": "markdown",
   "metadata": {},
   "source": [
    "### Adam"
   ]
  },
  {
   "cell_type": "markdown",
   "metadata": {},
   "source": [
    "Одним из самых популярных адаптивных оптимизаторов является Adam, объединяющий идеи momentum и adaptive learning rate:\n",
    "\n",
    "$$ v_t = \\beta_1 \\cdot v_{t-1} + (1-\\beta_1) \\cdot \\nabla_w L(x,y,w_t) $$\n",
    "\n",
    "$$ G_t = \\beta_2 \\cdot G_{t-1} + (1-\\beta_2) \\cdot \\nabla_w L(x,y,w_t) \\odot \\nabla_w L(x,y,w_t) $$\n",
    "\n",
    "$$ w_{t+1} = w_t - \\frac{lr}{\\sqrt{G_t} + e} \\odot v_t$$\n",
    "\n",
    "где $\\beta_1$ — аналог $m$ из Momentum, а $\\beta_2$ — аналог $\\alpha$ из RMSprop."
   ]
  },
  {
   "cell_type": "markdown",
   "metadata": {},
   "source": [
    "Фрагмент кода для понимания работы Adam:\n",
    "\n",
    "```\n",
    "class Adam:\n",
    "  def __init__(self, parameters, lr=0.01, betas=(0.9, 0.999)):\n",
    "    self.parameters = parameters\n",
    "    self.lr = lr\n",
    "    self.betas = betas\n",
    "    self.velocity = torch.zeros_like(parameters)\n",
    "    self.grad_squared = torch.zeros_like(parameters)\n",
    "    self.beta_1 = betas[0] # momentum\n",
    "    self.beta_2 = betas[1] # alpha\n",
    "\n",
    "  def step(self):\n",
    "    d_parameters = self.parameters.grad\n",
    "    # momentum\n",
    "    self.velocity = self.beta_1*self.velocity + (1 - self.beta_1)*d_parameters\n",
    "    # adaptive learning rate\n",
    "    self.grad_squared = self.beta_2*self.grad_squared + \\\n",
    "        (1 - self.beta_2)*d_parameters*d_parameters\n",
    "    self.parameters -= self.lr*self.velocity / (torch.sqrt(self.grad_squared) + 1e-7)\n",
    "```\n",
    "\n"
   ]
  },
  {
   "cell_type": "markdown",
   "metadata": {},
   "source": [
    "**Adam утраивает количество хранимых параметров**"
   ]
  },
  {
   "cell_type": "markdown",
   "metadata": {},
   "source": [
    "Чтобы в начале у нас получались очень большие шаги, будем дополнительно модицифировать инерцию и сумму квадратов:"
   ]
  },
  {
   "cell_type": "markdown",
   "metadata": {},
   "source": [
    "$$ v_t = \\frac{v_t}{1-\\beta_1^t} $$\n",
    "\n",
    "$$ G_t = \\frac{G_t}{1-\\beta_2^t} $$"
   ]
  },
  {
   "cell_type": "markdown",
   "metadata": {},
   "source": [
    "Алгоритм Adam реализован в `torch.optim.Adam` [🛠️[doc]](https://pytorch.org/docs/stable/generated/torch.optim.Adam.html):"
   ]
  },
  {
   "cell_type": "code",
   "execution_count": null,
   "metadata": {},
   "outputs": [],
   "source": [
    "parameters = torch.randn(10, requires_grad=True)\n",
    "optimizer = optim.Adam([parameters], betas=(0.9, 0.999))"
   ]
  },
  {
   "cell_type": "markdown",
   "metadata": {},
   "source": [
    "Пример применения:"
   ]
  },
  {
   "cell_type": "code",
   "execution_count": null,
   "metadata": {},
   "outputs": [],
   "source": [
    "model_name = \"adam\"\n",
    "model = SimpleMNIST_NN_Init_Batchnorm(n_layers=3)\n",
    "\n",
    "trainer = pl.Trainer(\n",
    "    max_epochs=5,\n",
    "    logger=TensorBoardLogger(save_dir=f\"logs/{model_name}\"),\n",
    "    num_sanity_val_steps=0,\n",
    ")\n",
    "\n",
    "pipeline = Pipeline(\n",
    "    model=model,\n",
    "    exp_name=model_name,\n",
    "    optimizer_class=torch.optim.Adam,\n",
    "    optimizer_kwargs={\"lr\": 1e-2},\n",
    ")\n",
    "\n",
    "trainer.fit(model=pipeline, train_dataloaders=train_loader, val_dataloaders=test_loader)\n",
    "\n",
    "history = pipeline.history\n",
    "history[\"epoсhs\"] = trainer.max_epochs\n",
    "history_plotter.add(history)"
   ]
  },
  {
   "cell_type": "code",
   "execution_count": null,
   "metadata": {},
   "outputs": [],
   "source": [
    "history_plotter.plot([\"batchnorm2\", \"batchnorm_increased_lr\", model_name])"
   ]
  },
  {
   "cell_type": "markdown",
   "metadata": {},
   "source": [
    "### L2 vs Weight decay"
   ]
  },
  {
   "cell_type": "markdown",
   "metadata": {},
   "source": [
    "Для использования L2 c оптимизатором необходимо указать значение `weight_decay`,  где `weight_decay` — коэффициент перед L2."
   ]
  },
  {
   "cell_type": "code",
   "execution_count": null,
   "metadata": {},
   "outputs": [],
   "source": [
    "parameters = torch.randn(10, requires_grad=True)\n",
    "optimizer = optim.RMSprop([parameters], alpha=0.99, weight_decay=0.001)"
   ]
  },
  {
   "cell_type": "markdown",
   "metadata": {},
   "source": [
    "Вообще говоря, **Weight decay** и **L2** — это немного разные вещи.\n",
    "\n",
    "**L2** добавляет член регуляризации к Loss функции:\n",
    "\n",
    "$$\\text{Loss}_{L2} = \\text{Loss} + \\frac{λ}{2n}w^2$$\n",
    "\n",
    "**Weight decay** уменьшает веса:\n",
    "\n",
    "$$w_{wd} = w - \\frac{λ}{n}w$$\n",
    "\n",
    "где $λ$ — константа, а $n$ — количество элементов в батче.\n"
   ]
  },
  {
   "cell_type": "markdown",
   "metadata": {},
   "source": [
    "Для **SGD** оптимизатора **Weight decay** и **L2** **эквивалентны**, но не для всех оптимизаторов это так.\n",
    "\n",
    "Например, это не так для **Adam**. **L2** регуляризация прибавляется к Loss функции и изменяет **значение градиента**, квадраты которого будут храниться. **Weight decay** изменяет только веса. Подробно об этом можно почитать в:\n",
    "\n",
    "[[arxiv] 🎓 Decoupled Weight Decay Regularization (Loshchilov, Hutter, 2019)](https://arxiv.org/pdf/1711.05101.pdf)\n",
    "\n",
    "**Обратите внимание**, что `weight_decay` в `torch.optim.Adam` — это **коэффициент перед L2**. **Weight decay** для **Adam** реализовано в\n",
    "`torch.optim.AdamW`.\n"
   ]
  },
  {
   "cell_type": "markdown",
   "metadata": {},
   "source": [
    "### Другие оптимизаторы (Lion)"
   ]
  },
  {
   "cell_type": "markdown",
   "metadata": {},
   "source": [
    "Не Adam-ом единым живут нейронные сети. Есть альтернативные методы оптимизации, например, проект [Google Brain ✏️[blog]](https://research.google/teams/brain/) в 2023 году опубликовал [статью 🎓[arxiv]](https://arxiv.org/pdf/2302.06675.pdf), в которой описывает найденный в процессе [AutoML 🎓[arxiv]](https://arxiv.org/pdf/2101.08809.pdf) (автоматического подбора архитектур и алгоритмов) оптимизатор, названный **Lion**  (Evo**L**ved S**i**gn M**o**me**n**tum) 🦁."
   ]
  },
  {
   "cell_type": "markdown",
   "metadata": {},
   "source": [
    "Интересно, что AutoML алгоритм пришел к интуитивно понятной эвристике: градиенты — вещь не очень надежная. Они могут взрываться и затухать. Может, тогда мы зафиксируем размер шага, а градиенты будем использовать только для определения направления?\n",
    "\n",
    "Для определения направления используют функцию $\\text{sign}$ (знак):\n",
    "\n",
    "\\begin{align}\n",
    "\\text{sign}(x) = \\left\\{\n",
    "\\begin{array}{cl}\n",
    "1 & x > 0 \\\\\n",
    "0 & x = 0\\\\\n",
    "-1 & x < 0.\n",
    "\\end{array}\n",
    "\\right.\n",
    "\\end{align}\n"
   ]
  },
  {
   "cell_type": "markdown",
   "metadata": {},
   "source": [
    "К этому добавляется уже изученный нами momentum, чтобы знак “прыгал” реже. Интересно, что AutoML подобрал алгоритм, в котором используются две константы для momentum. $\\beta_1$ — для определения текущего знака градиента, $\\beta_2$ — для хранения значения $v_t$. Значения по умолчанию $\\beta_1 = 0.9$, $\\beta_2 = 0.99$. Это значит, что текущее значение градиента сильнее влияет на значение для выбора направления текущего шага $c_{t}$, чем на хранимое значение момента $v_t$.\n"
   ]
  },
  {
   "cell_type": "markdown",
   "metadata": {},
   "source": [
    "Значение для вычисления направления текущего шага:\n",
    "\n",
    "$$c_{t} = \\beta_1 \\cdot v_{t-1} + (1-\\beta_1) \\nabla_wL(x, y, w_{t})$$\n",
    "\n",
    "Шаг оптимизатора. $λ$ — константа weight decay:\n",
    "\n",
    "$$w_{t+1} = w_t - lr \\cdot (sign(c_t) +λ w_t)$$\n",
    "\n",
    "Обновление хранимого значения момента:\n",
    "\n",
    "$$v_t = \\beta_2 \\cdot v_{t-1} + (1-\\beta_2) \\nabla_wL(x, y, w_{t})$$"
   ]
  },
  {
   "cell_type": "markdown",
   "metadata": {},
   "source": [
    "Фрагмент кода для понимания работы **Lion**:\n",
    "\n",
    "```\n",
    "class Lion:\n",
    "  def __init__(self, parameters, lr=0.0001, betas=(0.9, 0.99), weight_decay=0.01):\n",
    "    self.parameters = parameters\n",
    "    self.lr = lr\n",
    "    self.betas = betas\n",
    "    self.velocity = torch.zeros_like(parameters)\n",
    "    self.beta_1 = betas[0] # momentum 1\n",
    "    self.beta_2 = betas[1] # momentum 2\n",
    "    self.weight_decay = weight_decay\n",
    "\n",
    "  def step(self):\n",
    "    d_parameters = self.parameters.grad\n",
    "    # current momentum\n",
    "    current = self.beta_1*self.velocity + (1 - self.beta_1)*d_parameters\n",
    "    # step\n",
    "    self.parameters -= self.lr*(torch.sign(carent)+self.weight_decay*self.parameters)\n",
    "    # history momentum\n",
    "    self.velocity = self.beta_2*self.velocity + (1 - self.beta_2)*d_parameters\n",
    "```"
   ]
  },
  {
   "cell_type": "markdown",
   "metadata": {},
   "source": [
    "**Lion удваивает количество хранимых параметров**\n",
    "\n",
    "Обратите внимание, что значение lr по умолчанию у **Lion** выбрано меньше, чем у **Adam**. Это связано с тем, что только lr и регуляризация определяют размер шага. Авторы статьи советуют брать для **Lion** в 10 раз меньший lr, чем для **Adam**."
   ]
  },
  {
   "cell_type": "markdown",
   "metadata": {},
   "source": [
    "У **Lion** есть преимущества по сравнению с **Adam** и **AdamW**: в нем нет необходимости хранить квадраты градиентов. Он позволяет **снизить количество хранимых параметров** в 1.5–2 раза по сравнению с **AdamW**, а также сокращает количество операций, что позволяет [ускорить расчеты на 2–15% 🎓[arxiv]](https://arxiv.org/pdf/2302.06675.pdf) (в Colab это не заметно из-за специфики, связанной с виртуальными машинами).\n",
    "\n",
    "Кроме того, **Lion** [позволяет добиться лучших результатов 🐾[git]](https://github.com/google/automl/tree/master/lion), чем AdamW, при обучении больших сложных моделей, таких как Visual Transformer-ы и диффузионные модели."
   ]
  },
  {
   "cell_type": "markdown",
   "metadata": {},
   "source": [
    "Но до сложных моделей мы пока не добрались, попробуем простую. Воспользуемся реализацией [Lion-Pytorch 🐾[git]](https://github.com/lucidrains/lion-pytorch):"
   ]
  },
  {
   "cell_type": "code",
   "execution_count": null,
   "metadata": {},
   "outputs": [],
   "source": [
    "!pip install -q lion-pytorch"
   ]
  },
  {
   "cell_type": "code",
   "execution_count": null,
   "metadata": {},
   "outputs": [],
   "source": [
    "from lion_pytorch import Lion\n",
    "\n",
    "model_name = \"lion\"\n",
    "model = SimpleMNIST_NN_Init_Batchnorm(n_layers=3)\n",
    "\n",
    "trainer = pl.Trainer(\n",
    "    max_epochs=5,\n",
    "    logger=TensorBoardLogger(save_dir=f\"logs/{model_name}\"),\n",
    "    num_sanity_val_steps=0,\n",
    ")\n",
    "\n",
    "pipeline = Pipeline(\n",
    "    model=model,\n",
    "    exp_name=model_name,\n",
    "    optimizer_class=Lion,\n",
    "    optimizer_kwargs={\"lr\": 1e-4, \"weight_decay\": 1e-3},\n",
    ")\n",
    "\n",
    "trainer.fit(model=pipeline, train_dataloaders=train_loader, val_dataloaders=test_loader)\n",
    "\n",
    "history = pipeline.history\n",
    "history[\"epoсhs\"] = trainer.max_epochs\n",
    "history_plotter.add(history)"
   ]
  },
  {
   "cell_type": "code",
   "execution_count": null,
   "metadata": {},
   "outputs": [],
   "source": [
    "history_plotter.plot([\"adam\", model_name])"
   ]
  },
  {
   "cell_type": "markdown",
   "metadata": {},
   "source": [
    "Результат получился почти как у **Adam**, число хранимых параметров меньше.\n",
    "\n"
   ]
  },
  {
   "cell_type": "markdown",
   "metadata": {},
   "source": [
    "## Ландшафт функции потерь\n"
   ]
  },
  {
   "cell_type": "markdown",
   "metadata": {},
   "source": [
    "Существует [исследование 🎓[article]](https://proceedings.neurips.cc/paper/2018/file/be3087e74e9100d4bc4c6268cdbe8456-Paper.pdf), которое показывает, что ландшафт функции потерь представляет собой не изолированные локальные минимумы (рисунок слева), а связанные области с почти постоянным значением (рисунок справа). Поэтому умение “выбираться” из седловых точек важно."
   ]
  },
  {
   "cell_type": "markdown",
   "metadata": {},
   "source": [
    "<center><img src =\"https://edunet.kea.su/repo/EduNet-web_dependencies/dev-2.0/L07/loss_surfaces.png\" width=\"900\"></center>\n",
    "\n",
    "<center><em>Source: <a href=\"https://proceedings.neurips.cc/paper/2018/file/be3087e74e9100d4bc4c6268cdbe8456-Paper.pdf\">Loss Surfaces, Mode Connectivity, and Fast Ensembling of DNNs</a></em></center>"
   ]
  },
  {
   "cell_type": "markdown",
   "metadata": {},
   "source": [
    "## Сравнение оптимизаторов"
   ]
  },
  {
   "cell_type": "markdown",
   "metadata": {},
   "source": [
    "У каждого из предложенных оптимизаторов есть минусы и плюсы\n",
    "\n",
    "- Методы с инерцией сходятся к решению более плавно, но могут \"перелетать\""
   ]
  },
  {
   "cell_type": "markdown",
   "metadata": {},
   "source": [
    "<img src =\"https://edunet.kea.su/repo/EduNet-web_dependencies/dev-2.0/L07/convergence_optimizers.gif\" width=\"250\">\n",
    "\n",
    "<em>Source: <a href=\"https://imgur.com/a/Hqolp\">Visualizing Optimization Algos</a></em>\n",
    "\n"
   ]
  },
  {
   "cell_type": "markdown",
   "metadata": {},
   "source": [
    "* Методы с адаптивным learning rate быстрее сходятся, более стабильны и меньше случайно блуждают"
   ]
  },
  {
   "cell_type": "markdown",
   "metadata": {},
   "source": [
    "<img src =\"https://edunet.kea.su/repo/EduNet-web_dependencies/dev-2.0/L07/methods_with_adaptive_learning_rate.gif\" width=\"250\">\n",
    "\n",
    "<em>Source: <a href=\"https://imgur.com/a/Hqolp\">Visualizing Optimization Algos</a></em>\n"
   ]
  },
  {
   "cell_type": "markdown",
   "metadata": {},
   "source": [
    "* Алгоритмы без адаптивного learning rate сложнее выбираются из локальных минимумов"
   ]
  },
  {
   "cell_type": "markdown",
   "metadata": {},
   "source": [
    "<img src =\"https://edunet.kea.su/repo/EduNet-web_dependencies/dev-2.0/L07/methods_without_adaptive_learning_rate.gif\" width=\"450\">\n",
    "\n",
    "<em>Source: <a href=\"https://imgur.com/a/Hqolp\">Visualizing Optimization Algos</a></em>"
   ]
  },
  {
   "cell_type": "markdown",
   "metadata": {},
   "source": [
    "* Алгоритмы с инерцией осцилируют в седловых точках прежде, чем находят верный путь"
   ]
  },
  {
   "cell_type": "markdown",
   "metadata": {},
   "source": [
    "<img src =\"https://edunet.kea.su/repo/EduNet-web_dependencies/dev-2.0/L07/methods_with_momentum_in_saddle_point.gif\" width=\"450\">\n",
    "\n",
    "<em>Source: <a href=\"https://imgur.com/a/Hqolp\">Visualizing Optimization Algos</a></em>\n"
   ]
  },
  {
   "cell_type": "markdown",
   "metadata": {},
   "source": [
    "# Режимы обучения"
   ]
  },
  {
   "cell_type": "markdown",
   "metadata": {},
   "source": [
    "Нам не обязательно поддерживать один и тот же `learning rate` в течение всего обучения. Более того, для того же SGD есть гарантии, что если правильно подобрать схему уменьшения `learning rate`, он сойдется к глобальному оптимуму.\n",
    "\n",
    "Мы можем менять `learning rate` по некоторым правилам."
   ]
  },
  {
   "cell_type": "markdown",
   "metadata": {},
   "source": [
    "## Ранняя остановка"
   ]
  },
  {
   "cell_type": "markdown",
   "metadata": {},
   "source": [
    "Можем использовать критерий ранней остановки: когда значение функции потерь на валидационной выборке не улучшается какое-то количество эпох(`patience`), умножаем `learning rate` на некое значение `factor`)."
   ]
  },
  {
   "cell_type": "markdown",
   "metadata": {},
   "source": [
    "<img src =\"https://edunet.kea.su/repo/EduNet-content/dev-2.0/L07/out/early_stopping.png\" width=\"500\">"
   ]
  },
  {
   "cell_type": "code",
   "execution_count": null,
   "metadata": {},
   "outputs": [],
   "source": [
    "optimizer = optim.SGD(model.parameters(), lr=0.1)\n",
    "scheduler = optim.lr_scheduler.ReduceLROnPlateau(\n",
    "    optimizer, \"min\", factor=0.1, patience=5\n",
    ")"
   ]
  },
  {
   "cell_type": "markdown",
   "metadata": {},
   "source": [
    "Применим к нашей модели\n",
    "\n",
    "(выполнение занимает ~ 5 минут)"
   ]
  },
  {
   "cell_type": "markdown",
   "metadata": {},
   "source": [
    "Реализуем ниже код для обучения модели на чистом PyTorch, чтобы разобраться с тем, как именно планировщик обучения встроен в алгоритм обучения.\n",
    "Отказавшись временно от Lightning, мы должны будем явно перемещать объекты между CPU и GPU, а также следить за тем, что мы верно выбрали режим работы `model.train()` или `model.eval()`."
   ]
  },
  {
   "cell_type": "code",
   "execution_count": null,
   "metadata": {},
   "outputs": [],
   "source": [
    "# compute on cpu or gpu\n",
    "device = torch.device(\"cuda\" if torch.cuda.is_available() else \"cpu\")\n",
    "\n",
    "\n",
    "def validate(model, criterion, val_loader):\n",
    "    cumloss = 0\n",
    "    loss_history = []\n",
    "    with torch.no_grad():\n",
    "        for batch in val_loader:\n",
    "            x_train, y_train = batch  # parse data\n",
    "            x_train, y_train = x_train.to(device), y_train.to(device)  # compute on gpu\n",
    "            y_pred = model(x_train)  # get predictions\n",
    "            loss = criterion(y_pred, y_train)  # compute loss\n",
    "            loss_history.append(loss.cpu().detach().item())  # write loss to log\n",
    "            cumloss += loss\n",
    "    return cumloss / len(val_loader), loss_history  # mean loss and history\n",
    "\n",
    "\n",
    "def train_epoch(model, optimizer, criterion, train_loader):\n",
    "    loss_history = []\n",
    "    for batch in train_loader:\n",
    "        optimizer.zero_grad()\n",
    "        x_train, y_train = batch  # parse data\n",
    "        x_train, y_train = x_train.to(device), y_train.to(device)  # compute on gpu\n",
    "        y_pred = model(x_train)  # get predictions\n",
    "        loss = criterion(y_pred, y_train)  # compute loss\n",
    "        loss_history.append(loss.cpu().detach().item())  # write loss to log\n",
    "        loss.backward()\n",
    "        optimizer.step()\n",
    "    return loss_history"
   ]
  },
  {
   "cell_type": "code",
   "execution_count": null,
   "metadata": {},
   "outputs": [],
   "source": [
    "from tqdm.notebook import tqdm\n",
    "\n",
    "\n",
    "def train_model_sep_scheduler(\n",
    "    model, optimizer, scheduler, model_name=None, num_epochs=5\n",
    "):\n",
    "    criterion = nn.CrossEntropyLoss().to(device)\n",
    "\n",
    "    train_history = {}\n",
    "    train_history[\"model_name\"] = model_name\n",
    "    train_history[\"epoсhs\"] = num_epochs\n",
    "    train_history[\"loss_on_train\"] = []\n",
    "    train_history[\"loss_on_test\"] = []\n",
    "\n",
    "    for epoch in tqdm(range(num_epochs)):\n",
    "        model.train()\n",
    "        loss_on_train = train_epoch(model, optimizer, criterion, train_loader)\n",
    "        model.eval()\n",
    "        val_loss, loss_on_test = validate(model, criterion, test_loader)\n",
    "        train_history[\"loss_on_train\"].extend(loss_on_train)\n",
    "        train_history[\"loss_on_test\"].extend(loss_on_test)\n",
    "        scheduler.step(val_loss)\n",
    "    return train_history"
   ]
  },
  {
   "cell_type": "code",
   "execution_count": null,
   "metadata": {},
   "outputs": [],
   "source": [
    "model = SimpleMNIST_NN_Init_Batchnorm(n_layers=3).to(device)\n",
    "optimizer = optim.Adam(model.parameters(), lr=1e-2)\n",
    "scheduler = optim.lr_scheduler.ReduceLROnPlateau(\n",
    "    optimizer, \"min\", factor=0.1, patience=1\n",
    ")\n",
    "\n",
    "model_name = \"reduce_lr_on_plateu\"\n",
    "\n",
    "history = train_model_sep_scheduler(\n",
    "    model, optimizer, scheduler, model_name=model_name, num_epochs=5\n",
    ")"
   ]
  },
  {
   "cell_type": "code",
   "execution_count": null,
   "metadata": {},
   "outputs": [],
   "source": [
    "history_plotter.add(history)\n",
    "history_plotter.plot([model_name])"
   ]
  },
  {
   "cell_type": "markdown",
   "metadata": {},
   "source": [
    "Для реализации работы планировщика обучения `ReduceLROnPlateau` в рамках PyTorch Lightning нам достаточно переопределить метод `configure_optimizers` и указать, за значением какой логируемой переменной необходимо \"следить\" во время обучения. Вся остальная логика будет выполнена Lightning автоматически."
   ]
  },
  {
   "cell_type": "code",
   "execution_count": null,
   "metadata": {},
   "outputs": [],
   "source": [
    "class PipelineWithScheduler(Pipeline):\n",
    "    def configure_optimizers(self):\n",
    "        optimizer = self.optimizer_class(\n",
    "            self.model.parameters(), **self.optimizer_kwargs\n",
    "        )\n",
    "        scheduler = torch.optim.lr_scheduler.ReduceLROnPlateau(\n",
    "            optimizer=optimizer,\n",
    "            min_lr=1e-9,\n",
    "            factor=0.1,\n",
    "            mode=\"min\",\n",
    "            verbose=True,\n",
    "        )\n",
    "\n",
    "        lr_scheduler = {\n",
    "            \"scheduler\": scheduler,\n",
    "            \"interval\": \"epoch\",\n",
    "            \"monitor\": \"loss_on_test\",\n",
    "        }\n",
    "        return [optimizer], [lr_scheduler]\n",
    "\n",
    "    def validation_step(self, batch, batch_idx):\n",
    "        x, y = batch\n",
    "        out = self.model(x)\n",
    "        loss = self.criterion(out, y)\n",
    "        self.log(\"loss_on_test\", loss, prog_bar=True)\n",
    "\n",
    "        # aux logging for lecture visualization\n",
    "        self.history[\"loss_on_test\"].append(loss.cpu().detach().item())\n",
    "        return {\"loss_on_test\", loss}"
   ]
  },
  {
   "cell_type": "code",
   "execution_count": null,
   "metadata": {},
   "outputs": [],
   "source": [
    "model_name = \"reduce_lr_on_plateu_lightning\"\n",
    "model = SimpleMNIST_NN_Init_Batchnorm(n_layers=3)\n",
    "\n",
    "trainer = pl.Trainer(\n",
    "    max_epochs=5,\n",
    "    logger=TensorBoardLogger(save_dir=f\"logs/{model_name}\"),\n",
    "    num_sanity_val_steps=0,\n",
    ")\n",
    "\n",
    "pipeline = PipelineWithScheduler(\n",
    "    model=model,\n",
    "    exp_name=model_name,\n",
    "    optimizer_class=torch.optim.Adam,\n",
    "    optimizer_kwargs={\n",
    "        \"lr\": 1e-2,\n",
    "    },\n",
    ")\n",
    "\n",
    "trainer.fit(model=pipeline, train_dataloaders=train_loader, val_dataloaders=test_loader)\n",
    "\n",
    "history = pipeline.history\n",
    "history[\"epoсhs\"] = trainer.max_epochs\n",
    "history_plotter.add(history)"
   ]
  },
  {
   "cell_type": "code",
   "execution_count": null,
   "metadata": {},
   "outputs": [],
   "source": [
    "history_plotter.plot([model_name])"
   ]
  },
  {
   "cell_type": "markdown",
   "metadata": {},
   "source": [
    "## Понижение шага обучения на каждой эпохе"
   ]
  },
  {
   "cell_type": "markdown",
   "metadata": {},
   "source": [
    "Домножать `learning rate` на `gamma` каждую эпоху"
   ]
  },
  {
   "cell_type": "code",
   "execution_count": null,
   "metadata": {},
   "outputs": [],
   "source": [
    "scheduler = torch.optim.lr_scheduler.StepLR(optimizer, step_size=2, gamma=0.1)"
   ]
  },
  {
   "cell_type": "markdown",
   "metadata": {},
   "source": [
    "## Neural Network WarmUp"
   ]
  },
  {
   "cell_type": "markdown",
   "metadata": {},
   "source": [
    "Для достаточно больших нейронных сетей практикуют следующую схему ([**gradual warmup** 🎓[arxiv]](https://arxiv.org/pdf/1706.02677.pdf)):\n",
    "\n",
    "1. Поставить изначальный `learning rate` значительно ниже того, с которого мы обычно начинаем обучение.\n",
    "2. За несколько эпох, например, 5, довести `learning rate` от этого значения до требуемого. Так мы не совершаем больших шагов, когда сеть еще ничего не знает о данных. За счет этого нейросеть лучше \"адаптируется\" к нашим данным.\n",
    "\n",
    "Также такой `learning schedule` позволяет адаптивным оптимизаторам лучше оценить значения `learning rate` для разных параметров"
   ]
  },
  {
   "cell_type": "markdown",
   "metadata": {},
   "source": [
    "<center><img src =\"https://edunet.kea.su/repo/EduNet-web_dependencies/dev-2.0/L07/neural_network_warmup.png\" width=\"1000\"></center>\n",
    "\n",
    "<center><em>Source: <a href=\"https://arxiv.org/pdf/1706.02677.pdf\">Accurate, Large Minibatch SGD: Training ImageNet in 1 Hour</a></em></center>\n"
   ]
  },
  {
   "cell_type": "markdown",
   "metadata": {},
   "source": [
    "$kn$ на картинке — это размер одного батча."
   ]
  },
  {
   "cell_type": "markdown",
   "metadata": {},
   "source": [
    "## Cyclical learning schedule\n"
   ]
  },
  {
   "cell_type": "markdown",
   "metadata": {},
   "source": [
    "[[arxiv] 🎓 Cyclical Learning Rates for Training Neural Networks (Smith, 2017)](https://arxiv.org/pdf/1506.01186.pdf)\n",
    "\n",
    "**Идея:**\n",
    "Функция потерь может иметь сложный ландшафт. Нам бы хотелось:\n",
    "* Изучить побольше локальных минимумов.\n",
    "* Оценить качество в каждом локальном минимуме.\n"
   ]
  },
  {
   "cell_type": "markdown",
   "metadata": {},
   "source": [
    "<center><img src =\"https://edunet.kea.su/repo/EduNet-web_dependencies/dev-2.0/L07/Cyclic_LR_Schedule.png\" width=\"750\"></center>\n",
    "\n",
    "<center><em>Source: <a href=\"https://openreview.net/pdf?id=BJYwwY9ll\">Snapshot Ensembles: train 1, get M for free</a></em></center>"
   ]
  },
  {
   "cell_type": "markdown",
   "metadata": {},
   "source": [
    "Для этого мы можем не все время понижать learning rate, а делать это **циклически**: то понижать, то повышать.\n",
    "\n",
    "При **увеличении** learning rate модель может **выбраться** из одного локального минимума. При **уменьшении** — **сойтись** к следующему.\n"
   ]
  },
  {
   "cell_type": "markdown",
   "metadata": {},
   "source": [
    "Есть две основные мотивации использования **циклического learning rate**:\n",
    "\n",
    "* **Ускорение сходимости**: мы уже посмотрели на адаптивные оптимизаторы. Их недостатком является необходимость хранения в памяти квадратов градиентов. Для циклического learning rate это необязательно, его можно использовать с SGD, изменяя скорости в 3–4 раза. Аналогично с Adam — это позволит редким признакам быстрее обучаться (частые признаки будут немного “ломаться”, а затем восстанавливаться). Для таких целей важно подбирать learning rate вблизи оптимального. Идея этого представлена в [статье 🎓[arxiv]](https://arxiv.org/pdf/1506.01186.pdf).\n",
    "\n",
    "* **Создание ансамблей моделей:** разные локальные минимумы будут давать ошибки на разных объектах. Можно сохранять модели в локальных минимумах и не только искать лучшую, но и устраивать между моделями голосования. Для этого learning rate изменяют в сотни раз. Идея этого представлена в [статье 🎓[article]](https://openreview.net/pdf?id=BJYwwY9ll). Обычно для создания ансамблей используют [циклический отжиг 🎓[arxiv]](https://arxiv.org/pdf/1608.03983.pdf).\n"
   ]
  },
  {
   "cell_type": "markdown",
   "metadata": {},
   "source": [
    " ### Ускорение сходимости"
   ]
  },
  {
   "cell_type": "markdown",
   "metadata": {},
   "source": [
    "Добавление “дрожания” в learning rate [придумано 🎓[arxiv]](https://arxiv.org/pdf/1506.01186.pdf) как альтернатива Adam, позволяющая не хранить значения Momentum и сумм квадратов градиентов при дефиците вычислительных мощностей. По сходимости этот метод почти всегда уступает Adam и AdamW, поэтому редко используется.\n",
    "\n",
    "Реализация данной идеи:\n",
    "\n",
    "[[colab] 🥨 Циклическое изменение learning rate для ускорения сходимости](https://colab.research.google.com/drive/1DYfhoazJ9AGT0IFcBIybpM7wn3DEIoFm)"
   ]
  },
  {
   "cell_type": "markdown",
   "metadata": {},
   "source": [
    "### Создание ансамблей моделей"
   ]
  },
  {
   "cell_type": "markdown",
   "metadata": {},
   "source": [
    "Для создания ансамблей моделей learning rate циклически изменяют в сотни раз (а можно и до 0, как ниже), поэтому подбор оптимального значения learning rate не критичен. В качестве правила изменения используют циклический отжиг (cosine annealing cycles):\n",
    "\n",
    "$$\\text{lr}(t) = \\frac {\\text{lr}_0}{2}(\\cos(\\frac{\\pi\\cdot \\mod(t-1, [T/M])}{[T/M]})+1)$$\n",
    "\n",
    "где $\\text{lr}_0$ — начальная скорость обучения, $T$ — общее количество итераций, $M$ — общее количество моделей, $t$ — текущая итерация.\n",
    "\n",
    "В формулу можно добавить минимальное значение, но мы это делать не будем, т.к. это не обязательный параметр.\n"
   ]
  },
  {
   "cell_type": "code",
   "execution_count": null,
   "metadata": {},
   "outputs": [],
   "source": [
    "import numpy as np\n",
    "import matplotlib.pyplot as plt\n",
    "\n",
    "# number of models (M in formula)\n",
    "n_models = 6\n",
    "# epoch per model\n",
    "epoch = 50\n",
    "# number of bats in dataset\n",
    "len_dataset = 8\n",
    "\n",
    "# total iteration number (T in formula)\n",
    "total_iter = n_models * epoch * len_dataset\n",
    "\n",
    "learning_rate_0 = 0.1\n",
    "\n",
    "t = np.array(range(total_iter))\n",
    "lr_t = (learning_rate_0 / 2) * (\n",
    "    np.cos(np.pi * np.mod(t, total_iter / n_models) / (total_iter / n_models)) + 1\n",
    ")\n",
    "\n",
    "fig, ax = plt.subplots(figsize=(12, 4))\n",
    "fig.suptitle(\"Cosine annealing cycles\", size=15)\n",
    "ax.plot(t / len_dataset, lr_t)\n",
    "ax.set(xlabel=\"Epoch\", ylabel=\"Learning rate\")\n",
    "plt.show()"
   ]
  },
  {
   "cell_type": "markdown",
   "metadata": {},
   "source": [
    "В PyTorch циклический отжиг реализован в модуле `torch.optim.lr_scheduler.CosineAnnealingWarmRestarts`.\n",
    "\n",
    "Общее правило подбора скорости обучения $\\text{lr}_0$: она должна быть достаточно большой, чтобы “ломать” обученную модель, при этом количество эпох для обучения каждой модели должно быть достаточным для получения приличного качества. В [статье 🎓[article]](https://openreview.net/pdf?id=BJYwwY9ll), например, используют 50 эпох, но это значение зависит от модели."
   ]
  },
  {
   "cell_type": "code",
   "execution_count": null,
   "metadata": {},
   "outputs": [],
   "source": [
    "scheduler = torch.optim.lr_scheduler.CosineAnnealingWarmRestarts(\n",
    "    optimizer, T_0=total_iter // n_models\n",
    ")"
   ]
  },
  {
   "cell_type": "markdown",
   "metadata": {},
   "source": [
    "Loss при обучении будет выглядеть примерно так (красная линия):"
   ]
  },
  {
   "cell_type": "markdown",
   "metadata": {},
   "source": [
    "<center><img src =\"https://edunet.kea.su/repo/EduNet-web_dependencies/dev-2.0/L07/cosine_annealing_cycles.png\" width=\"350\"></center>\n",
    "\n",
    "<center><em>Source: <a href=\"https://openreview.net/pdf?id=BJYwwY9ll\">Snapshot Ensembles: train 1, get M for free</a></em></center>"
   ]
  },
  {
   "cell_type": "markdown",
   "metadata": {},
   "source": [
    "Модели в конце цикла отжига сохраняются. Можно выбрать лучшую или построить ансамбль.\n"
   ]
  },
  {
   "cell_type": "markdown",
   "metadata": {},
   "source": [
    "## Model soup"
   ]
  },
  {
   "cell_type": "markdown",
   "metadata": {},
   "source": [
    "[[arxiv] 🎓 Model soups: averaging weights of multiple fine-tuned models improves accuracy without increasing inference time (2022)](https://arxiv.org/pdf/2203.05482.pdf)\n",
    "\n",
    "В статье была предложена идея “супа моделей”, которая очень проста: **обучить несколько моделей** (для этого мы будем использовать **циклический отжиг**) и **агрегировать веса моделей** в одну модель."
   ]
  },
  {
   "cell_type": "markdown",
   "metadata": {},
   "source": [
    "Для “приготовления супа” возьмем датасет немного сложнее, чем рассматриваемый в лекции MNIST, а именно CIFAR-10."
   ]
  },
  {
   "cell_type": "code",
   "execution_count": null,
   "metadata": {},
   "outputs": [],
   "source": [
    "import torch\n",
    "import random\n",
    "import numpy as np\n",
    "\n",
    "def set_random_seed(seed):\n",
    "    torch.manual_seed(seed)\n",
    "    torch.cuda.manual_seed(seed)\n",
    "    np.random.seed(seed)\n",
    "    random.seed(seed)"
   ]
  },
  {
   "cell_type": "code",
   "execution_count": null,
   "metadata": {},
   "outputs": [],
   "source": [
    "from torchvision import transforms, datasets\n",
    "from torch.utils.data import DataLoader, random_split\n",
    "\n",
    "set_random_seed(42)\n",
    "\n",
    "transform = transforms.Compose(\n",
    "    [\n",
    "        transforms.ToTensor(),\n",
    "        transforms.Normalize((0.4914, 0.4822, 0.4465), (0.247, 0.243, 0.261)),\n",
    "    ]\n",
    ")\n",
    "\n",
    "cifar = datasets.CIFAR10(\"CIFAR10\", train=True, download=True, transform=transform)\n",
    "cifar_test = datasets.CIFAR10(\n",
    "    \"CIFAR10\", train=False, download=True, transform=transform\n",
    ")\n",
    "\n",
    "train_set, val_set = random_split(cifar, [40_000, 10_000])\n",
    "\n",
    "train_loader = DataLoader(train_set, batch_size=128, shuffle=True, num_workers=2)\n",
    "val_loader = DataLoader(val_set, batch_size=256, shuffle=False, num_workers=2)\n",
    "test_loader = DataLoader(cifar_test, batch_size=256, shuffle=False, num_workers=2)"
   ]
  },
  {
   "cell_type": "markdown",
   "metadata": {},
   "source": [
    "Соберем простую модель:"
   ]
  },
  {
   "cell_type": "code",
   "execution_count": null,
   "metadata": {},
   "outputs": [],
   "source": [
    "import torch.nn as nn\n",
    "\n",
    "\n",
    "class SimpleNet_CIFAR(nn.Module):\n",
    "    def __init__(self):\n",
    "        super().__init__()\n",
    "        self.activation = nn.ReLU()\n",
    "        self.conv1 = nn.Conv2d(3, 6, 3)\n",
    "        self.pool = nn.MaxPool2d(2)\n",
    "        self.conv2 = nn.Conv2d(6, 16, 3)\n",
    "        self.conv3 = nn.Conv2d(16, 32, 3)\n",
    "        self.fc1 = nn.Linear(32 * 2 * 2, 128)\n",
    "        self.fc2 = nn.Linear(128, 64)\n",
    "        self.fc3 = nn.Linear(64, 10)\n",
    "\n",
    "    def forward(self, x):  # input [batch, 3, 32, 32]\n",
    "        x = self.activation(self.pool(self.conv1(x)))\n",
    "        x = self.activation(self.pool(self.conv2(x)))\n",
    "        x = self.activation(self.pool(self.conv3(x)))\n",
    "        x = self.activation(self.fc1(x.flatten(start_dim=1)))\n",
    "        x = self.activation(self.fc2(x))\n",
    "        x = self.fc3(x)\n",
    "        return x"
   ]
  },
  {
   "cell_type": "markdown",
   "metadata": {},
   "source": [
    "Для обучения будем использовать `lightning`, для расчета метрик — `torchmetrics`. Это сделает код более универсальным (его можно использовать для ваших моделей с минимумом модификаций)."
   ]
  },
  {
   "cell_type": "markdown",
   "metadata": {},
   "source": [
    "Для чтения логов будем использовать `tbparse`:"
   ]
  },
  {
   "cell_type": "code",
   "execution_count": null,
   "metadata": {},
   "outputs": [],
   "source": [
    "import matplotlib.pyplot as plt\n",
    "from tbparse import SummaryReader\n",
    "from IPython.display import clear_output\n",
    "\n",
    "\n",
    "def visualization(log_dir):\n",
    "    # visualization without TensorBoard for TensorBoard logs\n",
    "    clear_output()\n",
    "    reader = SummaryReader(log_dir)\n",
    "    df = reader.scalars.drop_duplicates()\n",
    "\n",
    "    uniq = set(df.tag.unique())\n",
    "    uniq.remove(\"epoch\")\n",
    "    uniq = list(uniq)\n",
    "    uniq.sort()\n",
    "\n",
    "    i = 0\n",
    "    ax_dict = {}\n",
    "    for item in uniq:\n",
    "        metric = item.split(\"_\")[0]\n",
    "        if metric not in ax_dict:\n",
    "            ax_dict[metric] = i\n",
    "            i += 1\n",
    "\n",
    "    fig, axs = plt.subplots(len(ax_dict), 1, figsize=(12, 3.5 * len(ax_dict)))\n",
    "    for item in uniq:\n",
    "        metric = item.split(\"_\")[0]\n",
    "        ax = axs[ax_dict[metric]]\n",
    "        sub_df = df[df[\"tag\"] == item]\n",
    "        ax.plot(sub_df.step, sub_df.value, label=item)\n",
    "        ax.set_ylabel(metric)\n",
    "        ax.legend()\n",
    "        ax.set_xlabel(\"iter\")\n",
    "    axs[-1].grid()\n",
    "    plt.grid()\n",
    "    plt.show()"
   ]
  },
  {
   "cell_type": "markdown",
   "metadata": {},
   "source": [
    "Есть [несколько подходов 🎓[arxiv]](https://arxiv.org/pdf/2203.05482.pdf) к “приготовлению супа”. Мы рассмотрим два:\n",
    "\n",
    "**Uniform soup** (равномерный суп) — веса всех моделей суммируются с одинаковым весом:\n",
    "$$\\text{Model} = f(x, \\frac{1}{k}\\sum_{i=1}^{k}ϴ_i)$$\n",
    "\n",
    "**Greedy soup** (жадный суп):\n",
    "1. Модели сортируются по убыванию по качеству на валидационной (не на тестовой!!!) выборке.\n",
    "2. Лучшая модель становиться первым “ингредиентом” супа. Текущее качество “супа” определяется по значению метрики лучшей модели на валидационной (не на тестовой!!!) выборке.\n",
    "3. Остальные отсортированные модели по очереди добавляются в суп. Качество новой модели определяется по значению метрики на валидационной (не на тестовой!!!) выборке. Если значение метрики новой модели лучше текущего качества супа, то модель добавляется в “суп”, а текущая метрика обновляется.\n",
    "\n",
    "Качество “супа” определяется по тестовой выборке.\n",
    "\n",
    "Код для методов реализован ниже. Для обучения отдельных моделей используется циклический отжиг."
   ]
  },
  {
   "cell_type": "code",
   "execution_count": null,
   "metadata": {},
   "outputs": [],
   "source": [
    "from torchmetrics.aggregation import MeanMetric\n",
    "from torchmetrics.classification import Accuracy\n",
    "\n",
    "\n",
    "device = torch.device(\"cuda\" if torch.cuda.is_available() else \"cpu\")\n",
    "\n",
    "class MakeSoup(pl.LightningModule):\n",
    "    def __init__(\n",
    "        self,\n",
    "        model,\n",
    "        num_class,\n",
    "        n_cycle_iter,\n",
    "        cycle_epochs,\n",
    "        show=True,\n",
    "        path=\"/content/log/model_weight/\",\n",
    "    ):\n",
    "        super().__init__()\n",
    "        self.cycle_epochs = cycle_epochs\n",
    "        self.num_class = num_class\n",
    "        self.n_cycle_iter = n_cycle_iter\n",
    "        self.model = model\n",
    "        self.show = show\n",
    "        self.path = path\n",
    "\n",
    "        self.criterion = torch.nn.CrossEntropyLoss()\n",
    "\n",
    "        self.loss_train = MeanMetric()\n",
    "        self.loss = MeanMetric()\n",
    "\n",
    "        # set metrics\n",
    "        self.metric_train = Accuracy(num_classes=num_class, task=\"multiclass\")\n",
    "        self.metric = Accuracy(num_classes=num_class, task=\"multiclass\")\n",
    "\n",
    "        self.models_dir = []\n",
    "\n",
    "    def configure_optimizers(self):\n",
    "        # set optimizer\n",
    "        optimizer = torch.optim.AdamW(\n",
    "            self.model.parameters(),\n",
    "            lr=0.01,\n",
    "        )\n",
    "        scheduler = torch.optim.lr_scheduler.CosineAnnealingWarmRestarts(\n",
    "            optimizer,\n",
    "            T_0=self.n_cycle_iter,\n",
    "            eta_min=0,\n",
    "        )\n",
    "        return {\n",
    "            \"optimizer\": optimizer,\n",
    "            \"lr_scheduler\": {\n",
    "                \"scheduler\": scheduler,\n",
    "                \"interval\": \"step\",  # or 'epoch'\n",
    "                \"frequency\": 1,\n",
    "            },\n",
    "        }\n",
    "\n",
    "    def training_step(self, batch, batch_idx):\n",
    "        x, y = batch\n",
    "        y_hat = self.model(x)\n",
    "        loss = self.criterion(y_hat, y)\n",
    "\n",
    "        self.loss_train.update(loss)\n",
    "        self.metric_train.update(y_hat, y)\n",
    "\n",
    "        # log lr\n",
    "        opt = self.optimizers()\n",
    "        lr = opt.param_groups[0][\"lr\"]\n",
    "        self.log(\n",
    "            \"lr_train\",\n",
    "            lr,\n",
    "            sync_dist=False,\n",
    "            rank_zero_only=True,\n",
    "            on_step=True,\n",
    "            on_epoch=False,\n",
    "        )\n",
    "\n",
    "        return loss\n",
    "\n",
    "    def on_train_epoch_end(self):\n",
    "        loss = self.loss_train.compute().item()\n",
    "        self.log(\"loss_train\", loss, sync_dist=False, rank_zero_only=True)\n",
    "        self.loss_train.reset()\n",
    "\n",
    "        metric = self.metric_train.compute().item()\n",
    "        self.log(\"metric_train\", metric, sync_dist=False, rank_zero_only=True)\n",
    "        self.metric_train.reset()\n",
    "\n",
    "    def validation_step(self, batch, batch_idx):\n",
    "        x, y = batch\n",
    "        y_hat = self.model(x)\n",
    "        loss = self.criterion(y_hat, y)\n",
    "\n",
    "        self.loss.update(loss)\n",
    "        self.metric.update(y_hat, y)\n",
    "\n",
    "    def on_validation_epoch_end(self):\n",
    "        loss = self.loss.compute().item()\n",
    "        self.log(\"loss_val\", loss, sync_dist=False, rank_zero_only=True)\n",
    "        self.loss.reset()\n",
    "\n",
    "        metric = self.metric.compute().item()\n",
    "        self.log(\"metric_val\", metric, sync_dist=False, rank_zero_only=True)\n",
    "        self.metric.reset()\n",
    "\n",
    "        if (self.current_epoch + 1) % self.cycle_epochs == 0:\n",
    "            curren_model = (self.current_epoch + 1) // self.cycle_epochs\n",
    "            path = self.path + f\"model_{curren_model}.pt\"\n",
    "            print(f\"Epoch: {self.current_epoch} Validation metric: {metric}\")\n",
    "            print(f\"Save {path}\")\n",
    "            torch.save(\n",
    "                self.model.state_dict(),\n",
    "                path,\n",
    "            )\n",
    "            self.models_dir.append(\n",
    "                {\n",
    "                    \"path\": path,\n",
    "                    \"metric\": metric,\n",
    "                }\n",
    "            )\n",
    "        if self.show and self.current_epoch != 0:\n",
    "            visualization(self.logger.log_dir)\n",
    "\n",
    "    def test_step(self, batch, batch_idx):\n",
    "        x, y = batch\n",
    "        y_hat = self.model(x)\n",
    "        loss = self.criterion(y_hat, y)\n",
    "\n",
    "        self.loss.update(loss)\n",
    "        self.metric.update(y_hat, y)\n",
    "\n",
    "    def on_test_epoch_end(self):\n",
    "        loss = self.loss.compute().item()\n",
    "        self.log(\"loss_test\", loss, sync_dist=False, rank_zero_only=True)\n",
    "        self.loss.reset()\n",
    "\n",
    "        metric = self.metric.compute().item()\n",
    "        self.log(\"metric_test\", metric, sync_dist=False, rank_zero_only=True)\n",
    "        self.metric.reset()\n",
    "\n",
    "    def load_model_weight(self, path, return_state=False):\n",
    "        state_dict = torch.load(path, map_location=device)\n",
    "        self.model.load_state_dict(state_dict)\n",
    "        if return_state:\n",
    "            return state_dict\n",
    "\n",
    "    def uniform_soup(self, skip_first=False):\n",
    "        self.models_dir.sort(key=lambda x: x[\"path\"])\n",
    "        if skip_first:\n",
    "            models_dir = self.models_dir[1:].copy()\n",
    "        else:\n",
    "            models_dir = self.models_dir.copy()\n",
    "        n_model = len(models_dir)\n",
    "        for i, item in enumerate(models_dir):\n",
    "            state_dict = self.load_model_weight(item[\"path\"], return_state=True)\n",
    "            if i == 0:\n",
    "                uniform_soup_params = {\n",
    "                    key: val * (1.0 / n_model) for key, val in state_dict.items()\n",
    "                }\n",
    "            else:\n",
    "                uniform_soup_params = {\n",
    "                    key: val * (1.0 / n_model) + uniform_soup_params[key]\n",
    "                    for key, val in state_dict.items()\n",
    "                }\n",
    "            print(f'Adding {item[\"path\"]} to soup.')\n",
    "        self.model.load_state_dict(uniform_soup_params)\n",
    "        path = self.path + \"model_uniform_soup.pt\"\n",
    "        torch.save(\n",
    "            self.model.state_dict(),\n",
    "            path,\n",
    "        )\n",
    "        return self.model\n",
    "\n",
    "    def greedy_soup(self, val_loader):\n",
    "        # sort\n",
    "        self.models_dir.sort(key=lambda x: x[\"metric\"], reverse=True)\n",
    "\n",
    "        best_model_path = self.models_dir[0][\"path\"]\n",
    "        best_score = self.models_dir[0][\"metric\"]\n",
    "\n",
    "        greedy_soup_ingredients = [best_model_path]\n",
    "        greedy_soup_params = self.load_model_weight(best_model_path, return_state=True)\n",
    "\n",
    "        for i in range(1, len(self.models_dir)):\n",
    "            n = len(greedy_soup_ingredients)\n",
    "            path = self.models_dir[i][\"path\"]\n",
    "            ingredient_params = self.load_model_weight(path, return_state=True)\n",
    "            # mix ingredient\n",
    "            potential_greedy_soup_params = {\n",
    "                k: greedy_soup_params[k].clone() * (n / (n + 1.0))\n",
    "                + ingredient_params[k].clone() * (1.0 / (n + 1.0))\n",
    "                for k in ingredient_params\n",
    "            }\n",
    "\n",
    "            self.loss.reset()\n",
    "            self.metric.reset()\n",
    "            self.model.load_state_dict(potential_greedy_soup_params)\n",
    "            # validate\n",
    "            for batch_idx, batch in enumerate(val_loader):\n",
    "                self.test_step(batch, batch_idx)\n",
    "\n",
    "            score = self.metric.compute().item()\n",
    "            self.metric.reset()\n",
    "\n",
    "            if score > best_score:\n",
    "                greedy_soup_ingredients.append(path)\n",
    "                best_score = score\n",
    "                greedy_soup_params = potential_greedy_soup_params\n",
    "                print(\n",
    "                    f\"Adding to soup. New soup is {greedy_soup_ingredients}. \",\n",
    "                    f\"With score = {best_score}\",\n",
    "                )\n",
    "\n",
    "        self.model.load_state_dict(greedy_soup_params)\n",
    "        path = self.path + \"model_greedy_soup.pt\"\n",
    "        torch.save(\n",
    "            self.model.state_dict(),\n",
    "            path,\n",
    "        )\n",
    "        return self.model"
   ]
  },
  {
   "cell_type": "markdown",
   "metadata": {},
   "source": [
    "Параметры обучения представлены ниже. Запуск обучения закомментирован. Обучение модели занимает примерно 30 минут на GPU."
   ]
  },
  {
   "cell_type": "code",
   "execution_count": null,
   "metadata": {},
   "outputs": [],
   "source": [
    "!mkdir -p /content/log/model_weight/"
   ]
  },
  {
   "cell_type": "code",
   "execution_count": null,
   "metadata": {},
   "outputs": [],
   "source": [
    "n_model = 5\n",
    "cycle_epochs = 20\n",
    "num_class = 10\n",
    "\n",
    "set_random_seed(42)\n",
    "model = SimpleNet_CIFAR()\n",
    "\n",
    "n_cycle_iter = cycle_epochs * len(train_loader)\n",
    "\n",
    "pl_model = MakeSoup(model, num_class, n_cycle_iter, cycle_epochs)\n",
    "\n",
    "trainer = pl.Trainer(\n",
    "    max_epochs=cycle_epochs * n_model,\n",
    "    logger=pl.loggers.TensorBoardLogger(save_dir=\"./log/\"),\n",
    ")\n",
    "\n",
    "# trainer.fit(pl_model, train_loader, val_loader)"
   ]
  },
  {
   "cell_type": "markdown",
   "metadata": {},
   "source": [
    "Для ускорения работы мы загрузим заранее обученные модели и логи обучения:"
   ]
  },
  {
   "cell_type": "code",
   "execution_count": null,
   "metadata": {},
   "outputs": [],
   "source": [
    "!rm -r /content/log/\n",
    "!wget -q https://edunet.kea.su/repo/EduNet-content/dev-2.0/L07/weights/model_soup_log.zip\n",
    "!unzip -qq model_soup_log.zip"
   ]
  },
  {
   "cell_type": "markdown",
   "metadata": {},
   "source": [
    "Загрузим модели, посчитаем статистику по предсказаниям и точность на выборке для валидации и загрузим последнее в нужное поле модели. Посмотрим на логи обучения."
   ]
  },
  {
   "cell_type": "code",
   "execution_count": null,
   "metadata": {},
   "outputs": [],
   "source": [
    "import os\n",
    "\n",
    "visualization(\"/content/log/lightning_logs/version_0\")\n",
    "weight_path = \"/content/log/model_weight/\"\n",
    "file_list = os.listdir(weight_path)\n",
    "file_list.sort()\n",
    "file_list = file_list[:n_model]  # only number model\n",
    "models_dir = []\n",
    "metric = Accuracy(num_classes=num_class, task=\"multiclass\")\n",
    "\n",
    "for i, f in enumerate(file_list):\n",
    "    path = weight_path + f\n",
    "    pl_model.load_model_weight(path)\n",
    "\n",
    "    # validate\n",
    "    for batch_idx, batch in enumerate(val_loader):\n",
    "        x, y = batch\n",
    "        y_hat = pl_model.model(x)\n",
    "        metric(y_hat, y)\n",
    "\n",
    "    score = metric.compute().item()\n",
    "    metric.reset()\n",
    "    models_dir.append(\n",
    "        {\n",
    "            \"path\": path,\n",
    "            \"metric\": score,\n",
    "        }\n",
    "    )\n",
    "\n",
    "pl_model.models_dir = models_dir"
   ]
  },
  {
   "cell_type": "markdown",
   "metadata": {},
   "source": [
    "Посчитаем точность для наших моделей на тестовой выборке:"
   ]
  },
  {
   "cell_type": "code",
   "execution_count": null,
   "metadata": {},
   "outputs": [],
   "source": [
    "for item in pl_model.models_dir:\n",
    "    print(f\"{item['path']}, val_acc {item['metric']}\")\n",
    "    pl_model.load_model_weight(item[\"path\"])\n",
    "    trainer.test(pl_model, test_loader)"
   ]
  },
  {
   "cell_type": "markdown",
   "metadata": {},
   "source": [
    "Лучшая модель имеет точность $64.6\\%$."
   ]
  },
  {
   "cell_type": "markdown",
   "metadata": {},
   "source": [
    "Посчитаем точность на тестовой выборке в случае голосования моделей (выбирается класс, за который проголосовало большинство)."
   ]
  },
  {
   "cell_type": "code",
   "execution_count": null,
   "metadata": {},
   "outputs": [],
   "source": [
    "ans_statistic = np.zeros((n_model, len(test_set)))\n",
    "true_lable = np.zeros((len(test_set)))\n",
    "\n",
    "for i, f in enumerate(file_list):\n",
    "    path = weight_path + f\n",
    "    pl_model.load_model_weight(path)\n",
    "\n",
    "    # validate\n",
    "    for batch_idx, batch in enumerate(test_loader):\n",
    "        x, y = batch\n",
    "        y_hat = pl_model.model(x)\n",
    "        pred = y_hat.argmax(dim=1).detach().numpy()\n",
    "        ans_statistic[i, len(pred) * batch_idx : len(pred) * (batch_idx + 1)] = pred\n",
    "        true_lable[len(pred) * batch_idx : len(pred) * (batch_idx + 1)] = y.numpy()"
   ]
  },
  {
   "cell_type": "markdown",
   "metadata": {},
   "source": [
    "Визуализируем предсказание наших $5$ моделей для первых $100$ объектов выборки для тестирования. Убедимся, что модели дают разные ответы, а значит их можно использовать для ансамбля."
   ]
  },
  {
   "cell_type": "code",
   "execution_count": null,
   "metadata": {},
   "outputs": [],
   "source": [
    "plt.figure(figsize=(15, 4))\n",
    "plt.imshow(ans_statistic[:, :100], cmap=\"Paired\")\n",
    "plt.colorbar(orientation=\"horizontal\")\n",
    "plt.title(\"Models predict\")\n",
    "plt.ylabel(\"Models\")\n",
    "plt.yticks(range(5))\n",
    "plt.grid()\n",
    "plt.show()"
   ]
  },
  {
   "cell_type": "code",
   "execution_count": null,
   "metadata": {},
   "outputs": [],
   "source": [
    "predict_lable = np.zeros((len(test_set)))\n",
    "for i in range(len(test_set)):\n",
    "    values, counts = np.unique(ans_statistic[:, i], return_counts=True)\n",
    "    predict_lable[i] = values[counts.argmax()]\n",
    "predict_lable"
   ]
  },
  {
   "cell_type": "code",
   "execution_count": null,
   "metadata": {},
   "outputs": [],
   "source": [
    "from sklearn.metrics import accuracy_score\n",
    "\n",
    "print(f\"Ensemble accuracy {accuracy_score(true_lable, predict_lable)}\")"
   ]
  },
  {
   "cell_type": "markdown",
   "metadata": {},
   "source": [
    "Голосование моделей дает точность $66.06\\%$, на $1.46\\%$ лучше лучшей модели, но при этом на $1$ предсказание уходит в $5$ раз больше вычислительных ресурсов."
   ]
  },
  {
   "cell_type": "markdown",
   "metadata": {},
   "source": [
    "Попробуем применить `uniform_soup`:"
   ]
  },
  {
   "cell_type": "code",
   "execution_count": null,
   "metadata": {},
   "outputs": [],
   "source": [
    "model = pl_model.uniform_soup()\n",
    "trainer.test(pl_model, test_loader)"
   ]
  },
  {
   "cell_type": "markdown",
   "metadata": {},
   "source": [
    "Точность хуже. Посмотрим на наши модели: первая модель имеет точность ниже, чем остальные. Это связано с тем, что она стартовала с худшей позиции.\n",
    "\n",
    "Уберем эту модель из супа:"
   ]
  },
  {
   "cell_type": "code",
   "execution_count": null,
   "metadata": {},
   "outputs": [],
   "source": [
    "model = pl_model.uniform_soup(skip_first=True)\n",
    "trainer.test(pl_model, test_loader)"
   ]
  },
  {
   "cell_type": "markdown",
   "metadata": {},
   "source": [
    "Получили точность $64.86\\%$. На $0.26\\%$ лучше, чем у лучшей модели и на $1.2\\%$ меньше, чем у голосования. При этом модель прогоняется только $1$ раз.\n",
    "\n",
    "Попробуем `greedy_soup`:"
   ]
  },
  {
   "cell_type": "code",
   "execution_count": null,
   "metadata": {},
   "outputs": [],
   "source": [
    "model = pl_model.greedy_soup(val_loader)\n",
    "trainer.test(pl_model, test_loader)"
   ]
  },
  {
   "cell_type": "markdown",
   "metadata": {},
   "source": [
    "Получили точность $65.18\\%$ это на $0.59\\%$ лучше лучшей модели, на $0.33\\%$ лучше равномерного супа, на $0.88\\%$ хуже голосования. При этом модель прогоняется только $1$ раз."
   ]
  },
  {
   "cell_type": "markdown",
   "metadata": {},
   "source": [
    "## Взаимодействие learning schedule и адаптивного изменения learning rate"
   ]
  },
  {
   "cell_type": "markdown",
   "metadata": {},
   "source": [
    "И то, и другое меняет `learning rate`:\n",
    "\n",
    "* `learning scheduler` — глобально,\n",
    "\n",
    "* адаптивные оптимизаторы — для каждого веса отдельно.\n",
    "\n",
    "Часто их применяют вместе, особенно в случае критерия ранней остановки и WarmUp."
   ]
  },
  {
   "cell_type": "markdown",
   "metadata": {},
   "source": [
    "Однако в случае циклического режима обучения так делают не всегда. Дело в том, что одна из его задач — как раз избежать использования адаптивных оптимизаторов, требующих больше памяти и дополнительных вычислений.\n",
    "\n",
    "При этом никаких препятствий к использованию того же Adam в компании вместе с циклическим режимом обучения нет. Так делают, например, в [статье 🎓[arxiv]](https://arxiv.org/pdf/2004.02401.pdf).\n",
    "\n",
    "Кроме того, есть сложные оптимизаторы, составленные из нескольких простых оптимизаторов и шедулеров. Например, есть проект [Ranger21 🐾[git]](https://github.com/lessw2020/Ranger21), не получивший оформления в виде библиотеки на [PyPi 🛠️[doc]](https://pypi.org/), авторы которого пытаются “померить” разные идеи из статей.\n",
    "\n",
    "[[arxiv] 🎓 Ranger21: A Synergistic Deep Learning Optimizer (Wright, Demeure, 2021)](https://arxiv.org/pdf/2106.13731.pdf)"
   ]
  },
  {
   "cell_type": "markdown",
   "metadata": {},
   "source": [
    "<center><img src =\"https://edunet.kea.su/repo/EduNet-web_dependencies/dev-2.0/L07/ranger21.png\" width=\"700\"></center>\n",
    "\n",
    "<center><em>Loss и accuracy при использовании Adam и Ranger21 при обучении ResNet50 на наборе данных ImageNet</em></center>\n",
    "\n",
    "<center><em>Source: <a href=\"https://arxiv.org/pdf/2106.13731.pdf\">Ranger21: A Synergistic Deep Learning Optimizer</a></em></center>"
   ]
  },
  {
   "cell_type": "markdown",
   "metadata": {},
   "source": [
    "Результаты выглядят неплохо. Недостатком этого оптимизатора является большое количество хранимых параметров и гиперпараметров, а также тестирование на ограниченном числе моделей."
   ]
  },
  {
   "cell_type": "markdown",
   "metadata": {},
   "source": [
    "<font size=6>Литература</font>\n",
    "\n",
    "<font size=5>Нормализация входов и выходов:</font>\n",
    "* [[arxiv] 🎓 Multi-Task Learning for Multi-Dimensional Regression: Application to Luminescence Sensing (Umberto et al., 2020)](http://playground.tensorflow.org/#activation=linear&batchSize=10&dataset=xor&regDataset=reg-plane&learningRate=0.1&regularizationRate=0&noise=0&networkShape=&seed=0.62952&showTestData=false&discretize=false&percTrainData=50&x=true&y=true&xTimesY=false&xSquared=false&ySquared=false&cosX=false&sinX=false&cosY=false&sinY=false&collectStats=false&problem=classification&initZero=false&hideText=false)\n",
    "* [[book] 📚 Dimensionless Equations](https://www.physics.umd.edu/perg/MathPhys/content/2/pstruc/dimsDE.htm)\n",
    "\n",
    "<font size=5>Инициализация весов:</font>\n",
    "* [[blog] ✏️ Почему инициализировать веса нейронной сети одинаковыми значениями (например, нулями) – это плохая идея](https://habr.com/ru/articles/592711/)\n",
    "* [[article] 🎓 Understanding the difficulty of training deep feedforward neural networks (Xavier, Yoshua, 2010)](http://proceedings.mlr.press/v9/glorot10a/glorot10a.pdf)\n",
    "* [[arxiv] 🎓 Delving Deep into Rectifiers: Surpassing Human-Level Performance on ImageNet Classification (He et al., 2015)](https://arxiv.org/pdf/1502.01852v1.pdf)\n",
    "* [[arxiv] 🎓 Exact solutions to the nonlinear dynamics of learning in\n",
    "deep linear neural networks (Saxe et al., 2014)](https://arxiv.org/pdf/1312.6120.pdf)\n",
    "\n",
    "<font size=5>Слои нормализации:</font>\n",
    "* [[arxiv] 🎓 Batch Normalization: Accelerating Deep Network Training by Reducing Internal Covariate Shift (Ioffe, Szegedy, 2015)](https://arxiv.org/pdf/1502.03167.pdf)\n",
    "* [[blog] ✏️ Deriving the Gradient for the Backward Pass of Batch Normalization](https://kevinzakka.github.io/2016/09/14/batch_normalization/)\n",
    "* [[arxiv] 🎓How Does Batch Normalization Help Optimization? (Santurkar et al., 2019)](https://arxiv.org/pdf/1805.11604.pdf)\n",
    "* [[article] 🎓 Список статей про различные виды нормализаций](https://paperswithcode.com/methods/category/normalization)\n",
    "* [[article] 🎓 Dropout: A Simple Way to Prevent Neural Networks from Overfitting (Srivastava et al., 2014)](https://jmlr.org/papers/v15/srivastava14a.html)\n",
    "* [[blog] ✏️ Dropout — метод решения проблемы переобучения в нейронных сетях](https://habr.com/ru/companies/wunderfund/articles/330814/)\n",
    "* [[blog] ✏️ Tutorial: Dropout as Regularization and Bayesian Approximation](https://xuwd11.github.io/Dropout_Tutorial_in_PyTorch/)\n",
    "* [[blog] ✏️ Batch Normalization and Dropout in Neural Networks with PyTorch (перевод)](https://machinelearningmastery.ru/batch-normalization-and-dropout-in-neural-networks-explained-with-pytorch-47d7a8459bcd/#)\n",
    "* [[arxiv] 🎓 Deep Networks with Stochastic Depth (Huang et al., 2016)](https://arxiv.org/pdf/1603.09382.pdf)\n",
    "* [[arxiv] 🎓 Understanding the Disharmony between Dropout and Batch Normalization by Variance Shift (Li et al., 2018)](https://arxiv.org/pdf/1801.05134.pdf)\n",
    "* [[git] 🐾 Understanding the Disharmony between Dropout and Batch Normalization](https://github.com/adelizer/kaggle-sandbox/blob/master/drafts/dropout_bn.ipynb)\n",
    "* [[arxiv] 🎓 High-Performance Large-Scale Image Recognition Without Normalization (Brock et al., 2021)](https://arxiv.org/pdf/2102.06171.pdf)\n",
    "\n",
    "<font size=5>Оптимизация параметров нейросетей:</font>\n",
    "* [[article] 🎓 Список статей про различные алгоритмы оптимизации](https://paperswithcode.com/methods/category/stochastic-optimization)\n",
    "* [[video] 📺 Градиентный спуск, как учатся нейронные сети](https://youtu.be/IHZwWFHWa-w)\n",
    "* [[demo] 🎮 Optimizer Visualization](https://github.com/Jaewan-Yun/optimizer-visualization)\n",
    "* [[article] 🎓 On the importance of initialization and momentum in deep learning](https://paperswithcode.com/methods/category/stochastic-optimization)\n",
    "* [[arxiv] 🎓 Decoupled Weight Decay Regularization (Loshchilov, Hutter, 2019)](https://arxiv.org/pdf/1711.05101.pdf)\n",
    "* [[arxiv] 🎓 Symbolic Discovery of Optimization Algorithms (Chen et al., 2023)](https://arxiv.org/pdf/2302.06675.pdf)\n",
    "* [[arxiv] 🎓 PyGlove: Symbolic Programming for Automated Machine Learning (Peng et al., 2021)](https://arxiv.org/pdf/2101.08809.pdf)\n",
    "* [[article] 🎓 Loss Surfaces, Mode Connectivity, and Fast Ensembling of DNNs](https://proceedings.neurips.cc/paper/2018/file/be3087e74e9100d4bc4c6268cdbe8456-Paper.pdf)\n",
    "* [[blog] ✏️ Оптимизатор LBFGS](https://habr.com/ru/articles/333356/)\n",
    "\n",
    "<font size=5>Режимы обучения:</font>\n",
    "* [[arxiv] 🎓 Accurate, Large Minibatch SGD: Training ImageNet in 1 Hour (Goyal et al., 2018)](https://arxiv.org/pdf/2101.08809.pdf)\n",
    "* [[arxiv] 🎓 Cyclical Learning Rates for Training Neural Networks (Smith, 2017)](https://arxiv.org/pdf/1506.01186.pdf)\n",
    "* [[arxiv] 🎓 SGDR: Stochastic Gradient Descent with Warm Restarts (Loshchilov, Hutter, 2017)](https://arxiv.org/pdf/1608.03983.pdf)\n",
    "* [[article] Snapshot Ensembles: Train 1, get M for free (Huang et al., 2017)](https://openreview.net/pdf?id=BJYwwY9ll)\n",
    "* [[colab] 🥨 Циклическое изменение learning rate для ускорения сходимости](https://colab.research.google.com/drive/1DYfhoazJ9AGT0IFcBIybpM7wn3DEIoFm)\n",
    "* [[arxiv] 🎓 Model soups: averaging weights of multiple fine-tuned models improves accuracy without increasing inference time (Wortsman et el., 2022)](https://arxiv.org/pdf/2203.05482.pdf)\n",
    "* [[arxiv] 🎓 Applying Cyclical Learning Rate to Neural Machine Translation (Lee et al., 2020)](https://arxiv.org/pdf/2203.05482.pdf)\n",
    "* [[git] 🐾 Ranger21 — integrating the latest deep learning components into a single optimizer](https://github.com/lessw2020/Ranger21)\n",
    "* [[arxiv] 🎓 Ranger21: A Synergistic Deep Learning Optimizer (Wright, Demeure, 2021)](https://arxiv.org/pdf/2106.13731.pdf)\n",
    "\n",
    "<font size=5>Дополнительно:</font>\n",
    "* [[blog] ✏️ A journey into Optimization algorithms for Deep Neural Networks](https://theaisummer.com/optimization/)\n",
    "* [[blog] ✏️ In-layer normalization techniques for training very deep neural networks](https://theaisummer.com/normalization/)\n",
    "* [[blog] ✏️ How Activation Functions Work in Deep Learning](https://www.kdnuggets.com/2022/06/activation-functions-work-deep-learning.html)\n",
    "* [[demo] 🎮 Визуализация разных оптимизаторов в ipynb, но на tensorflow](https://nbviewer.jupyter.org/github/ilguyi/optimizers.numpy/blob/master/optimizer.tf.all.opt.plot.ipynb)"
   ]
  }
 ],
 "metadata": {},
 "nbformat": 4,
 "nbformat_minor": 0
}
