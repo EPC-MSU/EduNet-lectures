{
 "cells": [
  {
   "cell_type": "markdown",
   "id": "serious-seafood",
   "metadata": {},
   "source": [
    "## Reinforcement Learning"
   ]
  },
  {
   "cell_type": "markdown",
   "id": "through-compiler",
   "metadata": {},
   "source": [
    "## Intro\n",
    "\n",
    "### MDP\n",
    "\n",
    "### Crossentropy method\n",
    "\n",
    "### Reward hypothesis\n",
    "\n",
    "## Bellman\n",
    "\n",
    "### State-value function\n",
    "\n",
    "### Action Value function Q(s,a)\n",
    "\n",
    "### Generalized Policy Iteration\n",
    "\n",
    "#### Policy iteration\n",
    "\n",
    "#### Value iteration"
   ]
  },
  {
   "cell_type": "markdown",
   "id": "exceptional-vampire",
   "metadata": {},
   "source": [
    "## Q-learning\n",
    "## C51\n",
    "## Monte-Carlo Tree Search"
   ]
  },
  {
   "cell_type": "code",
   "execution_count": null,
   "id": "sunset-bennett",
   "metadata": {},
   "outputs": [],
   "source": []
  }
 ],
 "metadata": {
  "kernelspec": {
   "display_name": "Python 3",
   "language": "python",
   "name": "python3"
  },
  "language_info": {
   "codemirror_mode": {
    "name": "ipython",
    "version": 3
   },
   "file_extension": ".py",
   "mimetype": "text/x-python",
   "name": "python",
   "nbconvert_exporter": "python",
   "pygments_lexer": "ipython3",
   "version": "3.6.13"
  }
 },
 "nbformat": 4,
 "nbformat_minor": 5
}
