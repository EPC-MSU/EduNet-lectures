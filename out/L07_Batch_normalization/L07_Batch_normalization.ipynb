{
 "cells": [
  {
   "cell_type": "markdown",
   "metadata": {},
   "source": [
    "<font size=\"6\">Улучшение сходимости нейросетей и борьба с переобучением</font>"
   ]
  },
  {
   "cell_type": "markdown",
   "metadata": {},
   "source": [
    "# Нормализация входных данных"
   ]
  },
  {
   "cell_type": "markdown",
   "metadata": {},
   "source": [
    "\n",
    "В 5й лекции мы убедились что нормализация данных оказывает заметное влияние на сходимость модели. Давайте разберемся почему так происходит.\n",
    "\n",
    "\n",
    "1. Масштаб. Для табличных данных это было очевидно. И хотя пикселы изображения ближе по абсолютной величине друг к другу для них масштабирование тоже может быть актуально.\n",
    "\n",
    "2. Стабильность. Малые изменения весов меньше влияют на результат. \n",
    "\n",
    "<img src =\"http://edunet.kea.su/repo/src/L07_Batch_normalization/img/gan/norm_stab.png\" width=\"700\">\n",
    "\n",
    "3. Скорость обучения\n",
    "\n",
    "<img src =\"http://edunet.kea.su/repo/src/L07_Batch_normalization/img/gan/norm_speed.png\" width=\"500\">\n",
    "\n",
    "4. Активации\n",
    "\n",
    "<img src =\"http://edunet.kea.su/repo/src/L07_Batch_normalization/img/gan/norm_activations.png\" width=\"500\">\n",
    "\n"
   ]
  },
  {
   "cell_type": "markdown",
   "metadata": {},
   "source": [
    "Представим себе, что данные, которые мы подаем в нейросеть, распределены следующщим образом\n",
    "\n",
    "<img src =\"http://edunet.kea.su/repo/src/L07_Batch_normalization/img/no_normalization.png\" width=\"300\">\n"
   ]
  },
  {
   "cell_type": "markdown",
   "metadata": {},
   "source": [
    "Фактически нейросети работают со скалярными произведениями. В этом плане две вектора, изображенных на рисунке, не сильно отличаются. Так же и точки нашего датасета слабо разделимы. Чтобы с этим работать, нейросеть сначала должна подобрать удобное преобразование, а затем только сравнивать наши объекты. Понятно, это усложняют задачу. \n",
    "\n",
    "Для того, чтобы облегчить нейросети задачу, входные признаки часто нормируют:\n",
    "\n",
    "$$x1' = \\dfrac {x1 - \\mu_{x1}} {\\sigma_{x1}}$$\n",
    "$$x2' = \\dfrac {x2 - \\mu_{x2}} {\\sigma_{x2}}$$"
   ]
  },
  {
   "cell_type": "markdown",
   "metadata": {},
   "source": [
    "<img src =\"http://edunet.kea.su/repo/src/L07_Batch_normalization/img/normalization.png\" width=\"300\">\n"
   ]
  },
  {
   "cell_type": "markdown",
   "metadata": {},
   "source": [
    " Такое преобразование действительно помогает нейросети \n",
    " \n",
    "\n",
    "\n"
   ]
  },
  {
   "cell_type": "markdown",
   "metadata": {},
   "source": [
    "###В чем состоит нормализация:\n",
    "\n",
    "Вычитаем среднее, делеим на стандартное отклонение.\n",
    "\n",
    "Для табличных данных иногда применяют PCA а затем снова нормализуют. Но для изображений такая техника не применяется (Почему?)\n",
    "\n",
    " <img src =\"http://edunet.kea.su/repo/src/L07_Batch_normalization/img/gan/norm_pca.png\" width=\"700\">\n",
    "\n",
    "Нормализация изображений в Pytorch "
   ]
  },
  {
   "cell_type": "code",
   "execution_count": null,
   "metadata": {},
   "outputs": [],
   "source": [
    "torchvision.transforms.ToTensor() # x /= 255 -> [0 .. 1]\n",
    "# per channel mean, std\n",
    "torchvision.transforms.Normalize([0.4914, 0.4822, 0.4465],[0.2470, 0.2434, 0.2615]) \n",
    "                                            "
   ]
  },
  {
   "cell_type": "markdown",
   "metadata": {},
   "source": [
    "# Инициализация весов"
   ]
  },
  {
   "cell_type": "markdown",
   "metadata": {},
   "source": [
    "\n",
    "\n",
    "То что нормализация входных данных полезна мы  убедились при работе на неглубоких моделях.\n",
    "\n",
    "Но что будет если в модели несколько слоев?\n",
    "\n",
    "Входом каждого следующего слоя буде выход предшествующего.\n",
    "\n",
    "А его значения зависят как от входа так и от весов.\n",
    "\n",
    " <img src =\"http://edunet.kea.su/repo/src/L07_Batch_normalization/img/gan/weights_nn.png\" width=\"700\">\n",
    "\n",
    " Давайте посмотрим на распределение выходов внутренних словев."
   ]
  },
  {
   "cell_type": "code",
   "execution_count": null,
   "metadata": {},
   "outputs": [],
   "source": [
    "import matplotlib.pyplot as plt\n",
    "import numpy as np\n",
    "\n",
    "plt.rcParams[\"figure.figsize\"] = (20,12)\n",
    "\n",
    "def show_act(ax,x):\n",
    "  ax.hist(x, bins=500,  range=(-3,3))\n",
    "  std = x.std()\n",
    "  ax.title.set_text(f\"std {std:.9f}\")\n",
    "\n",
    "# Model from forth lecture with added third layer\n",
    "class NeuralNet:\n",
    "  def __init__(self):\n",
    "    self.W1 = np.random.randn(3072, 500) * 0.01 \n",
    "    self.W2 = np.random.randn(500, 100) * 0.01  # 0.1 10\n",
    "    self.W3 = np.random.randn(100, 10) * 0.01 # 0.5 100\n",
    "   \n",
    "\n",
    "  def predict(self,x):\n",
    "\n",
    "    fig, axs = plt.subplots(4, 1)\n",
    "    fig.tight_layout()\n",
    "    show_act(axs[0],x)\n",
    "\n",
    "    # Layer 1\n",
    "    scores1 = x.dot(self.W1) # Linear / Fully connected layer1\n",
    "    activations1 = np.tanh(scores1) # ReLU activation\n",
    "    show_act(axs[1],activations1)\n",
    "    \n",
    "    # Layer 2\n",
    "    scores2 = activations1.dot(self.W2)\n",
    "    activations2 = np.tanh(scores2) # ReLU activation\n",
    "    show_act(axs[2],activations2)\n",
    "    \n",
    "    # Layer 3\n",
    "    scores3 = activations2.dot(self.W3)\n",
    "    show_act(axs[3],scores3)\n",
    "\n",
    "    return scores3\n",
    "\n",
    "x = np.random.randn(3072) # input image\n",
    "simple_net = NeuralNet()\n",
    "scores = simple_net.predict(x)\n"
   ]
  },
  {
   "cell_type": "markdown",
   "metadata": {},
   "source": [
    "Выходы схлопаваются.\n",
    "\n",
    "\n",
    "И это связанно с весами. Кстати почему мы вообще так их инициализируем.\n",
    "\n",
    "Почему бы не использовать ноль ..\n",
    "\n",
    "или 1- цу\n",
    "...\n",
    "\n",
    "или сделать их побольше, мы же все время на них умножаем, а выходы и так маленькие.\n",
    "\n",
    ".. \n",
    "\n",
    "похоже что это работает если на каждом слое масштабировать веса, то коллапса можно избежать...\n"
   ]
  },
  {
   "cell_type": "markdown",
   "metadata": {},
   "source": [
    "Хотим задать изначальные веса в нейросети. \n",
    "Как это можно сделать? \n",
    "\n",
    "Делать инициализацию 0 - плохая идея. В этом случае нейросеть получим, что градиент по всем таким весам будет одинаков - и их обновление, следовательно, тоже. Ничего не выучим. \n",
    "\n",
    "Можно инициализировать веса нормальным шумом с матожиданием 0 и маленькой дисперсией. Маленькая дисперсия нужна затем, чтобы не получить огромные градиенты за большие изначальные ошибки в предсказании. \n",
    "\n",
    "Но почему бы не взять другое распределение? Может, веса, инициализированные экспоненциальным распределениям дают какие-нибудь классные гарантии? Или какой-нибудь другой, не приходящий сразу в голову способ инициализации. Давайте это обсудим. \n"
   ]
  },
  {
   "cell_type": "markdown",
   "metadata": {},
   "source": [
    "\n",
    "\n",
    "Оказывается, иногда чтобы побороть такое поведение нейросети достаточно лишь правильно инициализировать веса "
   ]
  },
  {
   "cell_type": "markdown",
   "metadata": {},
   "source": [
    "Хотим задать изначальные веса в нейросети. \n",
    "Как это можно сделать? \n",
    "\n",
    "Делать инициализацию 0 - плохая идея. В этом случае получим, что градиент по всем таким весам будет одинаков - и их обновление, следовательно, тоже. Ничего не выучим. \n",
    "\n",
    "Можно инициализировать веса нормальным шумом с матожиданием 0 и маленькой дисперсией. Маленькая дисперсия нужна затем, чтобы не получить огромные градиенты за большие изначальные ошибки в предсказании. \n",
    "\n",
    "Но почему бы не взять другое распределение? Может, веса, инициализированные экспоненциальным распределениям, дают какие-нибудь классные гарантии? Или какой-нибудь другой, не приходящий сразу в голову способ инициализации. Давайте это обсудим. \n"
   ]
  },
  {
   "cell_type": "markdown",
   "metadata": {},
   "source": [
    "### Инициализация Xavier\n",
    "\n",
    "Задача: сохранить распределение активаций\n",
    "\n",
    "$$D(in) = D(out)$$\n",
    "\n",
    "  $in = z_i$ - вход i-того слоя\n",
    "\n",
    "  $ w_i $- веса i-того  слоя\n",
    "\n",
    "  $ out = z_iw_i $ - выход i-того слоя (активации)\n",
    "\n",
    "\n",
    "$$D(z_i) = D(z_iW_i)$$"
   ]
  },
  {
   "cell_type": "markdown",
   "metadata": {},
   "source": [
    "##### $\\color{brown}{\\text{Вывод Xavier }}$\n",
    "\n",
    "\n",
    "\n"
   ]
  },
  {
   "cell_type": "markdown",
   "metadata": {},
   "source": [
    "Рассмотрим в качестве активации нечетную функцию с единичной производной в нуле.\n",
    "\n",
    "Например, нам подойдет гиперболический тангенс (tanh)"
   ]
  },
  {
   "cell_type": "code",
   "execution_count": null,
   "metadata": {},
   "outputs": [],
   "source": [
    "plt.rcParams[\"figure.figsize\"] = (8,6)\n",
    "\n",
    "x = np.arange(-10, 10.1, 0.1)\n",
    "plt.plot(x, np.tanh(x))\n",
    "plt.show()"
   ]
  },
  {
   "cell_type": "markdown",
   "metadata": {},
   "source": [
    "Мы хотим начать из линейного региона этой функции, чтобы избежать\n",
    "затухающих градиентов"
   ]
  },
  {
   "cell_type": "markdown",
   "metadata": {},
   "source": [
    "Как у нас зависят активации на текущем слое от активаций на предыдущем?\n",
    "\n",
    "$$z^{i+1} = f(z^iW^i)$$\n",
    "\n",
    "Тогда, так как мы вначале хотим находиться в районе линейности нашей функции, то\n",
    "\n",
    "$$z^{i+1} \\approx z^i W^i$$"
   ]
  },
  {
   "cell_type": "markdown",
   "metadata": {},
   "source": [
    "Ответить на вопрос, а как будут связаны дисперсии этих активаций, сложнее \n",
    "\n",
    "Сначала распишем:\n",
    "1. чему равна дисперсия суммы двух независимых величин\n",
    "\n",
    "$$D(\\eta + \\gamma) = D\\eta + D\\gamma$$\n",
    "\n",
    "2. чему равна дисперсия произведений двух независимых величин\n",
    "\n",
    "\n",
    "$$D\\eta\\gamma = E(\\eta\\gamma)^2 - (E\\eta\\gamma)^2 = E\\eta^2E\\gamma^2 - (E\\eta)^2(E\\gamma)^2$$ \n",
    "\n",
    "Далее распишем для одного веса текущего слоя \n",
    "\n",
    "$$z^{i+1}_{k} = \\sum_t z^i_t w_{kt}$$\n",
    "\n",
    "$$D(z^{i+1}_{k}) = D(\\sum_t z^i_t w_{kt}) = \\sum_t D(z^i_t w_{kt})$$\n",
    "\n",
    "Предполагая, что дисперсии весов и активаций одинаковые (а нам бы так хотелось)\n",
    "\n",
    "$$D(z^{i+1}_{k}) = n D(z^i_0 w_{k0})$$\n",
    "\n",
    "Далее применяем нашу формулу и получаем:\n",
    "\n",
    "$$D(z^{i+1}_{k}) = n [E(z^i_0)^2E(w_{k0})^2 - (Ez^i_0)^2(Ew_{k0})^2]$$\n",
    "\n",
    "Хотим, чтобы матожидание наших активаций оставалось равным нулю, и мы можем этого добиться, делая  матожидание весов равным 0. \n",
    "\n",
    "$$D(z^{i+1}_{k}) =   n E(z^i_0)^2E(w_{k0})^2 $$\n",
    "\n",
    "Заметим, что, так как матожидание активаций и весов равны 0, то матожидания их квадратов равны дисперсии активаций и весов соответственно:\n",
    "\n",
    "$$D(z^{i}_{0}) = E(z^{i}_{0})^2 - (Ez^{i}_{0})^2 = E(z^{i}_{0})^2$$\n",
    "$$D(w_{k0}) = E(w_{k0})^2 - (Ew_{k0})^2 = E(w_{k0})^2$$\n",
    "\n",
    "Подставив их в выражение для $D(z^{i+1}_{k})$ получим:\n",
    "\n",
    "$$D(z^{i+1}_{k}) = n D(z^i_0)D(w_{k0})$$\n"
   ]
  },
  {
   "cell_type": "markdown",
   "metadata": {},
   "source": [
    "Отсюда можно вывести формулу для зависимости активаций любого слоя от весов предыдущих слоев и дисперсии исходных данных\n",
    "\n",
    "$$Dz^i = Dx \\prod_{p=0}^{i-1}n_pDW^p $$\n",
    "\n",
    "Где $n_p$ - размерность выхода слоя p-го слоя\n",
    "\n",
    "Аналогично можно вывести формулу для градиентов по активациям\n",
    "\n",
    "\n",
    "$$D(\\dfrac {\\delta L} {\\delta z^i}) = D(\\dfrac {\\delta L} {\\delta z^d} ) \\prod_{p=i}^{d}n_{p+1}DW^p $$\n",
    "\n"
   ]
  },
  {
   "cell_type": "markdown",
   "metadata": {},
   "source": [
    "Для хорошей инициализации нам бы хотелось, чтобы дисперсии активаций на всех слоях были одинаковые. \n",
    "А еще хотелось бы, чтобы дисперсии градиентов тоже были одинаковые. \n",
    "\n",
    "Тогда у нас не происходит резких скачков в распределении активаций, а градиент не затухает и не взрывается \n",
    "\n",
    "\n",
    "$$Dz^i = Dz^j$$\n",
    "$$D\\dfrac {\\delta L} {\\delta z^i} = D\\dfrac {\\delta L} {\\delta z^j}$$\n"
   ]
  },
  {
   "cell_type": "markdown",
   "metadata": {},
   "source": [
    "Учитывая предыдущее, это эквивалентно тому, что мы требуем\n",
    "\n",
    "$$n_iDW^i = 1$$\n",
    "$$n_{i+1}DW^i = 1$$"
   ]
  },
  {
   "cell_type": "markdown",
   "metadata": {},
   "source": [
    "Одновременно так сделать не получится $$n_i \\ne n_{i+1}$$\n",
    "\n",
    "Потому делаем компромисс - среднее гармонческое решений первого и второго уравнения\n",
    "\n",
    "$$DW^i = \\dfrac 2 {n_i + n_{i+1}}$$"
   ]
  },
  {
   "cell_type": "markdown",
   "metadata": {},
   "source": [
    "Надо выбрать распределение.\n",
    "\n",
    "$$ EW^i = 0 $$\n",
    "\n",
    "$$DW^i = \\dfrac 2 {n_i + n_{i+1}}$$\n",
    "\n",
    "Можно было бы взять нормальное распределение с такими параметрами.\n",
    "\n",
    "$$W_i \\sim N(0, sd=\\sqrt{\\dfrac 2 {n_i + n_{i+1}}}) $$\n",
    "\n",
    "А можно равномерное:\n",
    "\n",
    "$$D(U[a, b]) = \\dfrac 1 {12} (b -a)^2$$"
   ]
  },
  {
   "cell_type": "markdown",
   "metadata": {},
   "source": [
    "Итого получим:\n",
    "$$W_i \\sim U[-\\dfrac {\\sqrt{6}} {n_i + n_{i + 1}}, \\dfrac {\\sqrt{6}} {n_i + n_{i + 1}} ]$$\n"
   ]
  },
  {
   "cell_type": "markdown",
   "metadata": {},
   "source": [
    "#### Формула\n",
    "\n",
    "$n_i$ - количество входов слоя*\n",
    "\n",
    "$$ D(W_i) = 1/n_i $$\n",
    "\n",
    "Аналогично можно рассуждать по поводу градиентов тогда: \n",
    "\n",
    "$$ D(W_i) = \\dfrac {2} {n_i + n_{i +1}} $$\n",
    "\n",
    "Дисперсия весов зависит только от количества входов слоя\n",
    "\n",
    "* *Для линейного слоя количество входов == количеству весов*"
   ]
  },
  {
   "cell_type": "markdown",
   "metadata": {},
   "source": [
    "Проверим:\n",
    "\n",
    "$std = \\sqrt {Variance}$"
   ]
  },
  {
   "cell_type": "code",
   "execution_count": null,
   "metadata": {},
   "outputs": [],
   "source": [
    "from math import sqrt\n",
    "\n",
    "plt.rcParams[\"figure.figsize\"] = (20,12)\n",
    "\n",
    "class NeuralNetXavier(NeuralNet):\n",
    "  def __init__(self):\n",
    "    # std = sqrt(variance)\n",
    "    self.W1 = np.random.randn(3072, 500) * sqrt(1 / 3072)\n",
    "    self.W2 = np.random.randn(500, 100) * sqrt(1 / 500)  \n",
    "    self.W3 = np.random.randn(100, 10) * sqrt(1 / 100) \n",
    "\n",
    "xavier_net = NeuralNetXavier()\n",
    "scores = xavier_net.predict(x)"
   ]
  },
  {
   "cell_type": "markdown",
   "metadata": {},
   "source": [
    "## He-инициализация (Kaiming)\n",
    "\n",
    "Но многие люди используют ReLU. Она зануляет половину весов\n",
    "\n",
    "$$ D(W_i) = 2*(1/n_i) = 2/n_i $$"
   ]
  },
  {
   "cell_type": "markdown",
   "metadata": {},
   "source": [
    "##### $\\color{brown}{\\text{Вывод Kaiming }}$\n"
   ]
  },
  {
   "cell_type": "markdown",
   "metadata": {},
   "source": [
    "\n",
    "Тогда получатся похожие условия \n",
    "\n",
    "$$Dz^i = Dx \\prod_{p=0}^{i-1}\\dfrac 1 2 n_pDW^p $$\n",
    "\n",
    "$$D(\\dfrac {\\delta L} {\\delta z^i}) = D(\\dfrac {\\delta L} {\\delta z^d} ) \\prod_{p=i}^{d}\\dfrac 1 2 n_{p+1}DW^p $$\n"
   ]
  },
  {
   "cell_type": "markdown",
   "metadata": {},
   "source": [
    "И для них решения будут тоже похожими:\n",
    "\n",
    "$$\\frac 2 {n_k}$$\n",
    "\n",
    "и\n",
    "\n",
    "$$\\frac 2 {n_{k+1}}$$\n",
    "\n",
    "Можно опять взять среднее гармоническое. Но на практике, особенно в случае сверточных нейронных сетей, просто берут либо $ \\frac 2 {n_i}$ либо $\\frac 2 {n_i + 1}$\n"
   ]
  },
  {
   "cell_type": "markdown",
   "metadata": {},
   "source": [
    "Итого получим:\n",
    "\n",
    "$$W^i \\sim N(0, sd=\\sqrt{\\frac 2 n_i})$$\n",
    "\n",
    "$$W^i \\sim N(0, sd=\\sqrt{\\frac 2 {n_i + 1}})$$\n",
    "\n",
    "Опять же, можно использовать и равномерное распределение"
   ]
  },
  {
   "cell_type": "markdown",
   "metadata": {},
   "source": [
    "### Сверточный слой\n",
    "\n",
    "Для сверточных слоев\n",
    "\n",
    "$n = Channels_num * Kernel_{Height} * Kernel_{Width}$"
   ]
  },
  {
   "cell_type": "markdown",
   "metadata": {},
   "source": [
    "## Важность инициализации весов\n",
    "\n",
    "1. Нейросеть может сойтись значительно быстрее\n"
   ]
  },
  {
   "cell_type": "markdown",
   "metadata": {},
   "source": [
    "<img src =\"https://edunet.kea.su/repo/EduNet-web_dependencies/L07/weight_initialization_influence_convergence_neural_networks.png\" width=\"550\">"
   ]
  },
  {
   "cell_type": "markdown",
   "metadata": {},
   "source": [
    "2. В зависимости от выбранной активации сеть вообще может сойтись или не сойтись"
   ]
  },
  {
   "cell_type": "markdown",
   "metadata": {},
   "source": [
    "<img src =\"https://edunet.kea.su/repo/EduNet-web_dependencies/L07/activation_function_influence_convergence_neural_networks.png\" width=\"550\">"
   ]
  },
  {
   "cell_type": "markdown",
   "metadata": {},
   "source": [
    "## Обобщение инициализаций Ксавьера и He-инициализации"
   ]
  },
  {
   "cell_type": "markdown",
   "metadata": {},
   "source": [
    "Вообще говоря, коэффициенты в инициализациях (числитель в формуле для дисперсии), зависят от конкретной выбранной функции активации.\n",
    "[В pytorch есть функции для вычисления этих коэффициентов](https://pytorch.org/docs/stable/nn.init.html)\n"
   ]
  },
  {
   "cell_type": "markdown",
   "metadata": {},
   "source": [
    "## Ортогональная инициализация"
   ]
  },
  {
   "cell_type": "markdown",
   "metadata": {},
   "source": [
    "Также иногда используется так называемая ортогональная инициализация весов. \n",
    "Для каждого слоя мы убеждаемся, что изначальная матрица весов является ортогональной. "
   ]
  },
  {
   "cell_type": "markdown",
   "metadata": {},
   "source": [
    "Выберем ортогональную матрицу весов \n",
    "$$W: WW^T = 1$$\n",
    "\n",
    "Тогда:\n",
    "1.  норма активации сохраняется (опять же, активации между слоями остаются в одном масштабе)\n",
    "$$||s_{i+1}|| = ||W_{i}s_i|| = ||s_i||$$\n",
    "\n",
    "2.  все нейроны делают «разные» преобразования\n",
    "$$ ⟨W_i, W_j⟩ = 0~i \\ne j$$\n",
    "$$ ⟨W_i, W_j⟩ = 1~i = j$$\n"
   ]
  },
  {
   "cell_type": "markdown",
   "metadata": {},
   "source": [
    "Иногда такая инициализация обеспечивает значительно лучшую сходимость, [тут можно почитать об этом подробнее](https://datascience.stackexchange.com/questions/64899/why-is-orthogonal-weights-initialization-so-important-for-ppo) "
   ]
  },
  {
   "cell_type": "markdown",
   "metadata": {},
   "source": [
    "## Инициализация весов в Pytorch\n",
    "\n",
    "Для инициализации весов Pytorch используется модуль torch.nn.init\n",
    "\n",
    "В нем определены разные функции для инициализации весов.\n",
    "\n",
    "Нюанс состоит в том, что обычно для слоев разного типа может требоваться разная регуляриация. Потому в функции, которая инициализирует слов вашей нейронное сети желательно прописывать разное поведение для разных слоев.\n",
    "\n",
    "Попробуем, например, добавить в нашу нейросеть инициализацию. Нам нужна регуляризация Xavier, так как у нас Sigmoid"
   ]
  },
  {
   "cell_type": "code",
   "execution_count": null,
   "metadata": {},
   "outputs": [],
   "source": [
    "import torch\n",
    "import torch.nn as nn\n",
    "\n",
    "class LeNet(nn.Module):\n",
    "    def __init__(self, ):\n",
    "        super().__init__()\n",
    "        self.activation = nn.ReLU()\n",
    "        self.pipeline = nn.Sequential(\n",
    "          nn.Conv2d(1, 6, 5),\n",
    "          self.activation,\n",
    "          nn.Conv2d(6, 16, 5),\n",
    "          self.activation,\n",
    "          nn.Linear(16 * 4 * 4, 120),  # 5*5 from image dimension\n",
    "          self.activation,\n",
    "          nn.Linear(120, 84),\n",
    "          self.activation,\n",
    "          nn.Linear(84, 10),\n",
    "        )\n",
    "\n",
    "    def forward(self, x):\n",
    "        return self.pipeline(x)\n"
   ]
  },
  {
   "cell_type": "code",
   "execution_count": null,
   "metadata": {},
   "outputs": [],
   "source": [
    "model = LeNet()\n",
    "\n",
    "with torch.no_grad():\n",
    "  for name, module in model.named_modules():\n",
    "    if type(module) in  (nn.Linear,nn.Conv2d):\n",
    "      print(f\"Set weighs in module {name}\")\n",
    "      torch.nn.init.kaiming_normal_(module.weight,  nonlinearity='relu')\n"
   ]
  },
  {
   "cell_type": "markdown",
   "metadata": {},
   "source": [
    "Альтернативный способ"
   ]
  },
  {
   "cell_type": "code",
   "execution_count": null,
   "metadata": {},
   "outputs": [],
   "source": [
    "##https://stackoverflow.com/questions/49433936/how-to-initialize-weights-in-pytorch\n",
    "def init_weights(module):\n",
    "  with torch.no_grad():\n",
    "    if type(module) in  (nn.Linear,nn.Conv2d):\n",
    "      print(\"set\")\n",
    "      torch.nn.init.kaiming_normal_(module.weight,  nonlinearity='relu')\n",
    "\n",
    "model.apply(init_weights)"
   ]
  },
  {
   "cell_type": "markdown",
   "metadata": {},
   "source": [
    "# Затухание градиента\n",
    "\n",
    "Откуда оно берется? \n",
    "\n",
    "Посмотрим на обычную сигмоиду\n",
    "\n",
    "$$\\sigma(z) = \\dfrac 1 {1 + e^{-z}}$$\n",
    "\n",
    "Ее производная, как вы уже выводили, равна\n",
    "\n",
    "$$\\dfrac {\\delta \\sigma(z)} {\\delta z} = \\sigma(z) (1 - \\sigma(z))$$\n",
    "\n",
    "Какое максимальное значение у такой функции?\n",
    "\n",
    "Учтем, что область значений  сигмоида от 0 до 1"
   ]
  },
  {
   "cell_type": "code",
   "execution_count": null,
   "metadata": {},
   "outputs": [],
   "source": [
    "import matplotlib.pyplot as plt\n",
    "\n",
    "plt.style.use('seaborn-whitegrid')\n",
    "\n",
    "x = np.arange(0, 1.001, 0.001)\n",
    "plt.plot(x, x - x**2)\n",
    "plt.title('Derivative of the sigmoidal function', size = 15)\n",
    "plt.show()"
   ]
  },
  {
   "cell_type": "markdown",
   "metadata": {},
   "source": [
    "Получается, что максимальное значение производной по сигмоиде - 1/4"
   ]
  },
  {
   "cell_type": "markdown",
   "metadata": {},
   "source": [
    "Теперь возьмем простую нейронную сеть "
   ]
  },
  {
   "cell_type": "markdown",
   "metadata": {},
   "source": [
    "<img src =\"https://edunet.kea.su/repo/EduNet-content/L07/img_license/simple_nn_with_sigmoid.png\" width=\"750\">"
   ]
  },
  {
   "cell_type": "markdown",
   "metadata": {},
   "source": [
    "Посчитаем у нее градиент\n",
    "\n",
    "$$\\dfrac {\\delta L} {\\delta z_4} = \\dfrac {\\delta L} {\\delta y} \\dfrac {\\delta y} {\\delta z_4} = \\dfrac {\\delta L} {\\delta y} \\dfrac {\\delta \\sigma(w_5z)} {\\delta z} w_5 \\le \\dfrac 1 4 \\dfrac {\\delta L} {\\delta y}  w_5 $$\n",
    "\n",
    "Аналогично можно посчитать градиент для $z_3$\n",
    "\n",
    "$$\\dfrac {\\delta L} {\\delta z_3} = \\dfrac {\\delta L} {\\delta z_4} \\dfrac {\\delta z_4} {\\delta z_3} \\le \\dfrac {\\delta L} {\\delta y} \\dfrac {\\delta \\sigma(w_4z)} {\\delta z} w_5 \\le {\\dfrac 1 4}^2 \\dfrac {\\delta L} {\\delta y}  w_5 w_4$$\n",
    "\n",
    "И так далее\n",
    "\n",
    "$$\\dfrac {\\delta L} {\\delta x}  \\le {\\dfrac 1 4}^5 \\dfrac {\\delta L} {\\delta y}  w_5 w_4 w_3 w_2 w_1$$"
   ]
  },
  {
   "cell_type": "markdown",
   "metadata": {},
   "source": [
    "Таким образом, градиент начинает экспоненциально затухать, если веса маленькие.\n",
    "\n",
    "Если веса большие - то градиент наоборот начнет экспоненциально возрастать - все взорвется\n",
    "\n",
    "Для некоторых функций активации картина будет не столь катастрофична, но тоже неприятна.\n",
    "\n",
    "В семинарском задании вы посмотрите, например, как ведет себя функция ReLU в этом случае."
   ]
  },
  {
   "cell_type": "markdown",
   "metadata": {},
   "source": [
    "### Плохой вариант борьбы с этим"
   ]
  },
  {
   "cell_type": "markdown",
   "metadata": {},
   "source": [
    "Давайте на каждом слое просто нормировать каждый признак, используя среднее и дисперсию по батчу\n",
    "\n",
    "$$ \\hat{x}_{i} = \\frac{x_{i} - \\mu_{B}}{\\sigma_{B} + \\epsilon}$$\n",
    "\n",
    "\n"
   ]
  },
  {
   "cell_type": "markdown",
   "metadata": {},
   "source": [
    "Проблема в том, что таким образом мы можем попасть в область линейной составляющей нашей функции. Например, в случае сигмоиды "
   ]
  },
  {
   "cell_type": "markdown",
   "metadata": {},
   "source": [
    "<img src =\"https://edunet.kea.su/repo/EduNet-content/L07/img_license/domain_of_linear_of_sigmoid_function.png\" width=\"500\">"
   ]
  },
  {
   "cell_type": "markdown",
   "metadata": {},
   "source": [
    "Получаем набор линейных слоев фактически без функций активации -> все вырождается в однослойную сеть. Не то, что нам надо"
   ]
  },
  {
   "cell_type": "markdown",
   "metadata": {},
   "source": [
    "<img src =\"http://edunet.kea.su/repo/src/L07_Batch_normalization/img/gan/bn_relu.png\" width=\"400\">\n",
    "\n",
    "В случае с ReLU подобной функцией активации, проблемы не исчезат. Если нормировать активации в интервал [0,1] то на каждом слое мы будем всегда обнулять половину активаций. \n",
    "\n",
    "Хотя опыт принудительной нормализации выходов слоя известен: в AlexNet было два слоя нормализации.\n",
    "\n",
    "<img src =\"http://edunet.kea.su/repo/src/L07_Batch_normalization/img/gan/bn_loss.png\" width=\"600\">\n",
    "\n",
    "В начале обучения Loss сильно меняется. В связи с этим происходят большие обновления весов в результате чего значтельная часть активаций может занулиться или уйти в область где Relu линейна.\n",
    "\n",
    "На этом этапе нормализация могла бы помочь. Но по мере обучения сети изменения весов становятся более осмысленными. И веса каждого слоя подстраиваются под свое распределение данных.\n",
    "\n",
    "\n"
   ]
  },
  {
   "cell_type": "markdown",
   "metadata": {},
   "source": [
    "## BatchNormalization"
   ]
  },
  {
   "cell_type": "markdown",
   "metadata": {},
   "source": [
    "Нам надо дать нейронной сети возможность перемещать распределение выходов слоя из области 0 и самой подбирать дисперсию. Для этой цели используется __батч-нормировка__ (_batch normalization_), которая вводит в нейронную сеть дополнительную операцию между соседними скрытыми слоями. Она состоит из нормализации входящих (в слой батч-нормировки) значений, полученных от одного скрытого слоя, масштабирования и сдвига с применением двух новых параметров и передачи полученных значений на вход следующему скрытому слою.\n",
    "\n",
    "<img src =\"http://edunet.kea.su/repo/src/L07_Batch_normalization/img_license/nn_example.png\" width=\"800\">\n",
    "\n",
    "Параметры, используемые в батч-нормировке $\\gamma$ &mdash; отвечающий за сжатие и $\\beta$ &mdash; отвечающий за сдвиг являются обучаемыми параметрами (наподобие весов и смещений скрытых слоев). \n",
    "\n",
    "Помимо обучаемых параметров $\\gamma$ и $\\beta$ в слое батч-нормировки существуют также необучаемые параметры: __скользящее среднее__ средних (_Mean Moving Average_) и скользящее среднее дисперсий (_Variance Moving Average_), служащие для сохранения состояния слоя батч-нормировки. \n",
    "\n",
    "<img src =\"https://edunet.kea.su/repo/EduNet-content/L07/img_license/batchnorm_layer_parameters.png\" >  \n",
    "\n",
    "Параметры $\\gamma$, $\\beta$, а также оба скользящих средних вычисляются для каждого слоя батч-нормировки отдельно и являются векторами с длиной, равной количеству входящих признаков.\n",
    "\n",
    "В процессе обучения, мы подаем в нейронную сеть по одному мини-батчу за раз. Процедуру обработки значений $x$ из одного мини-батча $ B = \\{x_{1},\\ldots, x_{m}\\} $ можно представить следующим образом:\n",
    "\n",
    "<img src =\"https://edunet.kea.su/repo/EduNet-content/L07/img_license/batch_normalization_compute_moving_average.png\" width=\"1000\">\n",
    "\n",
    "Шаг масштабирования и сдвига является главным новшеством батч-нормировки, поскольку в отличие от предыдущего рассмотренного примера, нормированные значения больше не обязаны иметь среднее равное 0 и единичную дисперсию. Батч-нормировка позволяет сдвигать среднее нормированных значений и масштабировать дисперсию. Фактически, теперь нейросеть даже может отменить нормализацию, если считает ее ненужной.\n",
    "\n",
    "Для наглядности проиллюстрируем размерности промежуточных переменных на следующем изображении:\n",
    "\n",
    "<img src =\"https://edunet.kea.su/repo/EduNet-content/L07/img_license/batch_normalization_compute_moving_average_scheme.png\" width=\"1000\">\n",
    "\n",
    "После прямого прохода, параметры $\\gamma$ и $\\beta$ обновляются через обратное распространение ошибки также как и веса скрытых слоев."
   ]
  },
  {
   "cell_type": "markdown",
   "metadata": {},
   "source": [
    "### Скользящее среднее"
   ]
  },
  {
   "cell_type": "markdown",
   "metadata": {},
   "source": [
    "Выше мы обсуждали то, что в процессе обучения слой  Батч-нормировки рассчитывает значение среднего и дисперсии каждого признака в соответствующем мини-батче. Однако во время предсказания, батч у нас уже отсутствует &mdash; откуда брать среднее и дисперсию? \n",
    "\n",
    "Во время предсказания используется скользящее среднее, которое было рассчитано и сохранено в процессе обучения. \n",
    "\n",
    "$$ \\mu_{mov_{B}} = (1-\\alpha)\\mu_{mov_{B-1}}+\\alpha\\mu_{B} $$\n",
    "\n",
    "$$ \\sigma_{mov_{B}} = (1-\\alpha)\\sigma_{mov_{B-1}}+\\alpha\\sigma_{B} $$\n",
    "\n",
    "Обычно используется параметр $\\alpha = 0.1$\n",
    "\n",
    "Почему используется именно скользящее среднее, а не, например, статистика всей обучающей выборки? Дело в том, что при таком подходе нам бы пришлось хранить средние всех признаков для всех батчей, пропущенных через нейросеть в ходе обучения. Это ужасно невыгодно по памяти. Вместо этого скользящее среднее выступает в качестве приближенной оценки среднего и дисперсии обучающего набора, в этом случае эффективность использования ресурсов увеличивается, поскольку вычисления производятся постепенно &mdash; нам нужно хранить в памяти только одно число &mdash; значение скользящего среднего, полученное на последнем шаге.\n",
    "\n",
    "Проиллюстрировать преимущество использования скользящего среднего можно на следующем примере:\n",
    "\n",
    "Предположим, что у нас есть некоторая генеральная совокупность объектов, обладающих некоторым признаком $x$, (соответствующая абстрактной обучающей выборке) и некоторый черный ящик, извлекающий по $k$ объектов из этой генеральной совокупности (соответствующий абстрактному даталоадеру). Наша задача &mdash; дать оценку ожидаемому среднему этих $k$ объектов. При этом ожидаемое среднее для $k$ объектов может отличаться от среднего генеральной совокупности, поскольку могут накладываться дополнительные условия на извлекаемую выборку. В данном примере для простоты будем извлекать $k$ объектов из некого распределения случайным образом:"
   ]
  },
  {
   "cell_type": "code",
   "execution_count": null,
   "metadata": {},
   "outputs": [],
   "source": [
    "import sys\n",
    "import numpy as np\n",
    "import seaborn as sns\n",
    "import matplotlib.pyplot as plt\n",
    "\n",
    "k = 500 # sample size\n",
    "n = 2\n",
    "p = 0.5\n",
    "\n",
    "sample = np.random.negative_binomial(n, p, k)\n",
    "sns.histplot(data=sample, discrete=True)\n",
    "plt.show()"
   ]
  },
  {
   "cell_type": "markdown",
   "metadata": {},
   "source": [
    "Оценить ожидаемое среднее теоретически, не зная как распределен признак $x$ наших объектов, трудно. Мы можем собрать большое количество средних и произвести оценку с их помощью, но для этого нам потребуется хранить в памяти все эти значения, что опять-таки приведет к неэффективному расходу ресурсов. Более эффективным решением будет воспользоваться скользящим средним. Давайте сравним эти два метода:"
   ]
  },
  {
   "cell_type": "code",
   "execution_count": null,
   "metadata": {},
   "outputs": [],
   "source": [
    "ema = 0\n",
    "alpha = 0.01\n",
    "means = np.array([])\n",
    "\n",
    "for i in range(10000):\n",
    "    sample = np.random.negative_binomial(n, p, 50)\n",
    "    ema = (1 - alpha) * ema + alpha * sample.mean()\n",
    "    means = np.append(means, sample.mean())"
   ]
  },
  {
   "cell_type": "markdown",
   "metadata": {},
   "source": [
    "Посчитаем количество памяти, затрачиваемое на хранение списка средних значений признака $x$ по выборкам из $k$ объектов, и количество памяти, затрачиваемое на хранение скользящего среднего:"
   ]
  },
  {
   "cell_type": "code",
   "execution_count": null,
   "metadata": {},
   "outputs": [],
   "source": [
    "print(f'Количество памяти для хранения скользящего среднего:\\t{sys.getsizeof(ema)} байт')\n",
    "print(f'Количество памяти для хранения списка средних:\\t{sys.getsizeof(means)} байт')"
   ]
  },
  {
   "cell_type": "markdown",
   "metadata": {},
   "source": [
    "Видно, что на хранение массива средних значений расходуется на порядки больше памяти, чем на хранение одного скользящего среднего. Теперь давайте воспользуемся тем, что мы сэмплировали случайные выборки из известного распределения, и можем теоретически рассчитать их среднее. В нашем примере мы извлекали выборки из негативного биномиального распределения с параметрами $n=2$ и $p=0.5$, для которого среднее рассчитывается по формуле $mean=\\frac{np}{1-p}=2$. Мы знаем, что при достаточно большом количестве сэмплированных выборок, среднее распределения выборочных средних будет стремиться к среднему генеральной совокупности. Сравним результаты, полученные с использованием сохраненных выборочных средних и скользящего среднего с теоретическим расчетом:"
   ]
  },
  {
   "cell_type": "code",
   "execution_count": null,
   "metadata": {},
   "outputs": [],
   "source": [
    "print(f'Среднее признака x по k объектам, оцененное с помощью скользящего среднего:\\t{ema:.8f}')\n",
    "print(f'Среднее признака x по k объектам, оцененное по всем сэмплированным выборкам:\\t{means.mean():.8f}')"
   ]
  },
  {
   "cell_type": "markdown",
   "metadata": {},
   "source": [
    "Видно, что мы получили довольно точную оценку, использовав скользящее среднее."
   ]
  },
  {
   "cell_type": "markdown",
   "metadata": {},
   "source": [
    "### Защита от нулей в знаменателе\n",
    "\n",
    "Чтобы у нас не мог возникнуть 0 в знаменателе, добавляем маленькое число - $\\epsilon$. Например, равное 1e-5\n",
    "\n",
    "\n",
    "$$ \\hat{x}_{i} = \\frac{x_{i} - \\mu_{B}}{\\sigma_{B} + \\epsilon}$$\n",
    "\n",
    "$$ BN_{\\gamma, \\beta}(x_{i}) = \\gamma \\hat{x}_{i} + \\beta $$"
   ]
  },
  {
   "cell_type": "markdown",
   "metadata": {},
   "source": [
    "Pytorch"
   ]
  },
  {
   "cell_type": "code",
   "execution_count": null,
   "metadata": {},
   "outputs": [],
   "source": [
    "import torch \n",
    "from torch import nn\n",
    "\n",
    "\n",
    "dummy = torch.randn((64,784)) #batch_size , n_features\n",
    "bn_layer = torch.nn.BatchNorm1d(784) # n_features\n",
    "bn_layer(dummy)\n",
    "\n",
    "print(\"Input\",dummy.shape)\n",
    "print(\"Gamma\", bn_layer.weight.shape)\n",
    "print(\"Betta\", bn_layer.bias.shape)\n",
    "\n",
    "\n"
   ]
  },
  {
   "cell_type": "markdown",
   "metadata": {},
   "source": [
    "### BN для Сверточного слоя\n",
    "\n",
    "Слой конволюции можно свести к линейному слою с очень жесткими ограничениями на веса. Поэтому неудивительно, что BatchNorm можно применять и для линейных слоев и для конволюций. \n",
    "\n",
    "С конволюциями есть единственный нюанс - у нас \"одним признаком\" считается вся получаемая **feature map**. "
   ]
  },
  {
   "cell_type": "markdown",
   "metadata": {},
   "source": [
    "<img src =\"https://edunet.kea.su/repo/EduNet-content/L07/img_license/feature_map.png\" width=\"500\">"
   ]
  },
  {
   "cell_type": "markdown",
   "metadata": {},
   "source": [
    "И нормализация идет по всей такой feature map (по всему каналу) для всех объектов. "
   ]
  },
  {
   "cell_type": "code",
   "execution_count": null,
   "metadata": {},
   "outputs": [],
   "source": [
    "import torch \n",
    "from torch import nn\n",
    "\n",
    "\n",
    "dummy = torch.randn((64,3,32,32)) # batch_size , channels, W, H\n",
    "bn_layer = torch.nn.BatchNorm2d(3) # channels\n",
    "bn_layer(dummy)\n",
    "\n",
    "print(\"Input\",dummy.shape)\n",
    "print(\"Gamma\", bn_layer.weight.shape)\n",
    "print(\"Betta\", bn_layer.bias.shape)"
   ]
  },
  {
   "cell_type": "markdown",
   "metadata": {},
   "source": [
    "### Пример работы"
   ]
  },
  {
   "cell_type": "markdown",
   "metadata": {},
   "source": [
    "Этот метод действительно работает. \n",
    "Видим, что нейросети с батчнормализацией:\n",
    "\n",
    "1. Сходятся быстрее, чем нейросети без \n",
    "2. Могут работать с более высоким начальным learning rate, причем это позволяет достигать лучших результатов\n",
    "3. BatchNorm позволяет глубокой нейросетке работать даже с функцией активации в виде сигмоиды. Без батчнорма такая сеть не обучилась бы вовсе. "
   ]
  },
  {
   "cell_type": "markdown",
   "metadata": {},
   "source": [
    "<img src =\"https://edunet.kea.su/repo/EduNet-web_dependencies/L07/batchnorm_efficiency.png\" width=\"550\">\n"
   ]
  },
  {
   "cell_type": "markdown",
   "metadata": {},
   "source": [
    "##### $\\color{brown}{\\text{ Градиент }}$"
   ]
  },
  {
   "cell_type": "markdown",
   "metadata": {},
   "source": [
    "Вычисление градиента batchnorm - интересное упражнение на понимание того, как работает backpropagation. В лекции мы это опускаем, можете ознакомиться самостоятельно\n",
    "\n",
    "[Deriving the Gradient for the Backward Pass of Batch Normalization](https://kevinzakka.github.io/2016/09/14/batch_normalization/)\n",
    "\n"
   ]
  },
  {
   "cell_type": "markdown",
   "metadata": {},
   "source": [
    "<img src =\"https://edunet.kea.su/repo/EduNet-web_dependencies/L07/batchnorm_gradient.png\" width=\"700\">"
   ]
  },
  {
   "cell_type": "markdown",
   "metadata": {},
   "source": [
    "### Советы по использованию BatchNormalization"
   ]
  },
  {
   "cell_type": "markdown",
   "metadata": {},
   "source": [
    "Стоит помнить, что с батч-нормализацией:\n",
    "\n",
    "* **Крайне важно** перемешивать объекты (составлять новые батчи) между эпохами. Единицей обучения параметров $\\beta$ и $\\gamma$ являются батчи. Если их не перемешивать, то из 6400 объектов в тренировочном датасете получим лишь 100 объектов (при условии, что в батче 64 объекта) для обучения $\\beta$ и $\\gamma$\n",
    "\n",
    "* В слое, после которого поставили BatchNormalization, надо убрать смещения (параметр $\\beta$ в BatchNormalization берет эту роль сам по себе)\n",
    "\n",
    "\n",
    "* Другое расписание learning rate: бОльшее значение в начале обучения и быстрое уменьшение в процессе обучения\n",
    "\n",
    "* Если используем BatchNormalization, то надо уменьшить силу Dropout и L2-регуляризации\n",
    "\n",
    "* Чем меньше размер батча в обучении, тем хуже будет работать BatchNormalization"
   ]
  },
  {
   "cell_type": "markdown",
   "metadata": {},
   "source": [
    "<img src =\"https://edunet.kea.su/repo/EduNet-web_dependencies/L07/batchnorm_batch_size.png\" width=\"550\">\n",
    "\n"
   ]
  },
  {
   "cell_type": "markdown",
   "metadata": {},
   "source": [
    "### Используем BatchNormalization в Pytorch"
   ]
  },
  {
   "cell_type": "code",
   "execution_count": null,
   "metadata": {},
   "outputs": [],
   "source": [
    "class SimpleMNIST_NN_Init_Batchnorm(nn.Module):\n",
    "    def __init__(self, n_layers):\n",
    "        super().__init__()\n",
    "        self.n_layers = n_layers\n",
    "        layers = [nn.Linear(28 * 28, 100, bias=False),\n",
    "                  nn.BatchNorm1d(100),\n",
    "                  nn.Sigmoid()]\n",
    "        for _ in range(0, n_layers - 1):\n",
    "            layers.append(nn.Linear(100, 100, bias=False))\n",
    "            layers.append(nn.BatchNorm1d(100))\n",
    "            layers.append(nn.Sigmoid())\n",
    "        layers.append(nn.Linear(100, 10))\n",
    "        self.layers = nn.Sequential(*layers)\n",
    "        self.init()\n",
    "\n",
    "    def forward(self, x):\n",
    "        x = x.view(-1, 28 * 28)\n",
    "        x = self.layers(x)\n",
    "        return x\n",
    "\n",
    "    def init(self):\n",
    "        sigmoid_gain = torch.nn.init.calculate_gain(\"sigmoid\")\n",
    "        for child in self.layers.children():\n",
    "            if isinstance(child, nn.Linear):\n",
    "                torch.nn.init.xavier_normal_(child.weight,\n",
    "                                             gain=sigmoid_gain)\n",
    "                if child.bias is not None:\n",
    "                    torch.nn.init.zeros_(child.bias)"
   ]
  },
  {
   "cell_type": "code",
   "execution_count": null,
   "metadata": {},
   "outputs": [],
   "source": [
    "model = SimpleMNIST_NN_Init_Batchnorm(n_layers=3).to(device)\n",
    "optimizer = optim.SGD(model.parameters(), lr=1e-4)\n",
    "writer = get_summary_writer(\"batchnorm2\")\n",
    "register_model_hooks(model, writer)\n",
    "train_model_sep(model, writer, optimizer)"
   ]
  },
  {
   "cell_type": "markdown",
   "metadata": {},
   "source": [
    "И попробуем, согласно советам, увеличить learning rate"
   ]
  },
  {
   "cell_type": "code",
   "execution_count": null,
   "metadata": {},
   "outputs": [],
   "source": [
    "model = SimpleMNIST_NN_Init_Batchnorm(n_layers=3).to(device)\n",
    "optimizer = optim.SGD(model.parameters(), lr=1e-2)\n",
    "writer = get_summary_writer(\"batchnorm_increased_lr\")\n",
    "register_model_hooks(model, writer)\n",
    "train_model_sep(model, writer, optimizer)"
   ]
  },
  {
   "cell_type": "markdown",
   "metadata": {},
   "source": [
    "### Ставить BatchNormalization до или после активации?\n",
    "\n"
   ]
  },
  {
   "cell_type": "markdown",
   "metadata": {},
   "source": [
    "#### До"
   ]
  },
  {
   "cell_type": "markdown",
   "metadata": {},
   "source": [
    "\n",
    "<img src =\"https://edunet.kea.su/repo/EduNet-content/L07/img_license/batchnormalization_before_activation.png\" width=\"400\">"
   ]
  },
  {
   "cell_type": "markdown",
   "metadata": {},
   "source": [
    "* Рекомендуется авторами статьи, где предложили Batch Normalization\n",
    "* Для сигмоиды, BN, поставленная после активации, не решает проблем сигмоиды"
   ]
  },
  {
   "cell_type": "markdown",
   "metadata": {},
   "source": [
    "#### После"
   ]
  },
  {
   "cell_type": "markdown",
   "metadata": {},
   "source": [
    "<img src =\"https://edunet.kea.su/repo/EduNet-content/L07/img_license/batchnormalization_after_activation.png\" width=\"400\">"
   ]
  },
  {
   "cell_type": "markdown",
   "metadata": {},
   "source": [
    "* Аргументация авторов статьи не до конца обоснована\n",
    "* Обычно, сигмоиду не используют в современных нейронных сетях\n",
    "* Для популярной ReLU, BN, поставленная до активации может приводить к “умирающей ReLU”, когда большая часть ее входов меньше 0 и потому для них градиент не проходит\n",
    "* На многих задачах BN после функции активации работает лучше или не хуже поставленной до"
   ]
  },
  {
   "cell_type": "markdown",
   "metadata": {},
   "source": [
    "<img src =\"https://edunet.kea.su/repo/EduNet-web_dependencies/L07/batchnormalization_before_or_after_relu.png\" width=\"500\">"
   ]
  },
  {
   "cell_type": "markdown",
   "metadata": {},
   "source": [
    "[BN experiments](https://github.com/ducha-aiki/caffenet-benchmark/blob/master/batchnorm.md)"
   ]
  },
  {
   "cell_type": "markdown",
   "metadata": {},
   "source": [
    "### Ставить BatchNormalization до или после Dropout?\n",
    "\n"
   ]
  },
  {
   "cell_type": "markdown",
   "metadata": {},
   "source": [
    "#### До"
   ]
  },
  {
   "cell_type": "markdown",
   "metadata": {},
   "source": [
    "<img src =\"https://edunet.kea.su/repo/EduNet-content/L07/img_license/batchnormalization_before_dropout.png\" width=\"600\">"
   ]
  },
  {
   "cell_type": "markdown",
   "metadata": {},
   "source": [
    "* Меньше влияние (covariate shift) Dropout на Batchnorm\n",
    "\n",
    "#### После"
   ]
  },
  {
   "cell_type": "markdown",
   "metadata": {},
   "source": [
    "<img src =\"https://edunet.kea.su/repo/EduNet-content/L07/img_license/batchnormalization_after_dropout.png\" width=\"600\">"
   ]
  },
  {
   "cell_type": "markdown",
   "metadata": {},
   "source": [
    "* Информация о зануленных активациях не просачивается через среднее и дисперсию батча"
   ]
  },
  {
   "cell_type": "markdown",
   "metadata": {},
   "source": [
    "### Ставить только что-то одно \n",
    "\n",
    "* Dropout может отрицательно влиять на качество нейросети с BatchNorm за счет разного поведения на train и test\n",
    "\n"
   ]
  },
  {
   "cell_type": "markdown",
   "metadata": {},
   "source": [
    "\n",
    "### Строго говоря\n",
    "\n",
    "* Оптимальный порядок следования слоев зависит от задачи и архитектуры сети\n",
    "* Возможно, стоит применять модифицированные версии BatchNorm"
   ]
  },
  {
   "cell_type": "markdown",
   "metadata": {},
   "source": [
    "## Другие Normalization\n",
    "\n",
    "Существует большое количество иных нормализаций, их неполный список можно найти [здесь](https://paperswithcode.com/methods/category/normalization). В данной секции мы рассмотрим самые популярные виды нормализации помимо BatchNorm."
   ]
  },
  {
   "cell_type": "markdown",
   "metadata": {},
   "source": [
    "<img src =\"https://edunet.kea.su/repo/EduNet-web_dependencies/L07/normalization_methods.png\" width=\"900\">"
   ]
  },
  {
   "cell_type": "markdown",
   "metadata": {},
   "source": [
    "Чаще всего нормализации тестируют на изображениях, в том числе или только на изображениях. Потому их графически объясняют при помощи следующей схемы:"
   ]
  },
  {
   "cell_type": "markdown",
   "metadata": {},
   "source": [
    "<img src =\"https://edunet.kea.su/repo/EduNet-content/L07/img_license/dimensions_channels_batch_samples.png\" width=\"450\">"
   ]
  },
  {
   "cell_type": "markdown",
   "metadata": {},
   "source": [
    "*По оси абсцисс* расположены объекты из батча,  \n",
    "*по оси ординат* - feature map, преобразованный в вектор,  \n",
    "*по оси аппликат* - каналы (feature maps).\n",
    "\n",
    "В этом представлении BatchNorm выглядит следующим образом:"
   ]
  },
  {
   "cell_type": "markdown",
   "metadata": {},
   "source": [
    "<img src =\"http://edunet.kea.su/repo/src/L07_Batch_normalization/img_license/batch_norm_3d.png\" width=\"450\">\n",
    "\n",
    "[Batch Normalization](https://paperswithcode.com/method/batch-normalization)"
   ]
  },
  {
   "cell_type": "markdown",
   "metadata": {},
   "source": [
    "### Layer Norm\n",
    "\n",
    "Помимо свёрточных нейронных сетей, существует специальный тип нейронных сетей, используемых для обработки последовательностей. Называется он \"рекуррентные нейронные сети\", ему же будет посвящена наша следующая лекция. \n",
    "\n",
    "Когда оказалось, что BatchNorm положительно сказывается на обучении нейронных сетей, его попытались применить для различных архитектур. BatchNorm нельзя было использовать \"из коробки\" для рекуррентных нейронных сетей (работающих с последовательными данными), пришлось придумывать различные адаптации, среди которых наиболее удачной оказалась **Layer Normalization**.  \n",
    "По сути, теперь нормализация происходит внутри одного объекта из батча, а не поканально в рамках батча. С математической точки зрения, данная \"адаптация\" отличается от BatchNorm, однако экспериментально она превзошла своих конкурентов в задаче нормализации при обработке последовательных данных.\n",
    "\n",
    "Впоследствии, данный метод нормализации хорошо проявил себя в трансформерах - наследниках рекуррентных нейронных сетей в вопросах обработки последовательных данных (об этом типе нейросетей мы также поговорим на следующей лекции). После успешного применения трансформеров в задачах компьютерного зрения, LayerNorm стал использоваться и в компьютерном зрении (хотя и уступал BatchNorm при использовании в свёрточных нейронных сетях)."
   ]
  },
  {
   "cell_type": "markdown",
   "metadata": {},
   "source": [
    "<img src =\"http://edunet.kea.su/repo/src/L07_Batch_normalization/img_license/layer_norm_3d.png\" width=\"450\">\n",
    "\n",
    "[Layer Normalization](https://paperswithcode.com/method/layer-normalization)\n"
   ]
  },
  {
   "cell_type": "markdown",
   "metadata": {},
   "source": [
    "### Instance Norm\n",
    "\n",
    "Следующий вид нормализации был предложен отечественными исследователями (из СколТеха), занимавшимся разработкой быстрого и эффективного способа переноса стиля с одного изображения на другое. \n",
    "\n",
    "При использовании BatchNorm терялась информация о контрастах на конкретном изображении, поскольку нормализация производится по нескольким объектам. Для сохранения *контрастов* в экземпляре (*instance*) изображения была предложена специальная нормализация, рассматривающая конкретный канал одного конкретного объекта. Было предложено два названия нормализации: связанное с мотивацией (contrast normalization) и связанное с принципом работы (**instance normalization**). "
   ]
  },
  {
   "cell_type": "markdown",
   "metadata": {},
   "source": [
    "<img src =\"http://edunet.kea.su/repo/src/L07_Batch_normalization/img_license/instance_norm_3d.png\" width=\"450\">\n",
    "\n",
    "[Instance Normalization](https://paperswithcode.com/method/instance-normalization)"
   ]
  },
  {
   "cell_type": "markdown",
   "metadata": {},
   "source": [
    "### Group Norm\n",
    "\n",
    "В течение долгого времени, BatchNorm оставался однозначным фаворитом для использования в задачах компьютерного зрения, однако:\n",
    "1. В связи с необходимостью точно считать статистики внутри batch, при обучении приходилось использовать большой batch size.  \n",
    "\n",
    "2. Ограниченность размера видеопамяти вынуждает разработчиков идти на компромисс между сложностью модели и batch size.\n",
    "\n",
    "Итого, использование BatchNorm приводило к невозможности использовать сложные модели**\\***, поскольку им просто не хватало места на видеокарте. \n",
    "\n",
    "Необходимость использовать большой batch size могут решать различные нормализации, не использующие batch-размерность. К примеру, уже известные нам **Layer Norm** и **Instance Norm**. Эмпирически оказалось, что данные нормализации уступают BatchNorm по качеству работы: в то время как LayerNorm предполагает одинаковую важность и суть различных каналов (*рассматривая данные излишне глобально*), InstNorm упускает межканальные взаимодействия (*рассматривая данные слишком локально*). \n",
    "\n",
    "Успешным обобщением данных методов является **Group Normalization**: данный метод разбивает каналы на $G \\in [1; C]$ групп, присваивая каждой из них (примерно) равное количество каналов. Отметим, что при $G = 1$, GroupNorm идентичен LayerNorm, а при $G = C$, GroupNorm идентичен InstNorm. \n",
    "\n",
    "Эмпирически оказалось, что при замене BatchNorm на GroupNorm качество модели падает в разы менее значительно, чем при использовании LayerNorm либо GroupNorm. Более того, при изменении batch size качество работы LayerNorm не изменялось, что открыло перспективы для создания более сложных моделей компьютерного зрения. \n",
    "\n",
    "\n",
    "**\\*** - подразумевается, что уменьшение batch size позволило бы создать более сложные модели."
   ]
  },
  {
   "cell_type": "markdown",
   "metadata": {},
   "source": [
    "<img src =\"http://edunet.kea.su/repo/src/L07_Batch_normalization/img_license/group_normalization_3d.png\" width=\"450\">\n",
    "\n",
    "[Group Normalization](https://paperswithcode.com/method/group-normalization)"
   ]
  },
  {
   "cell_type": "markdown",
   "metadata": {},
   "source": [
    "### Weight Normalization\n",
    "\n",
    "Существует семейство методов, принципиально отличающихся от рассмотренных ранее нормализаций: в отличие от BatchNorm, LayerNorm и прочих известных вам нормализаций, ориентированных на **изменение представлений данных** внутри нейронной сети (и по сути представляемых как обычные слои), некоторые методы повышения качества обучения нейронных сетей ориентированы на **изменение параметров** самой нейронной сети.\n",
    "\n",
    "[Weight Normalization](https://paperswithcode.com/method/weight-normalization) - один из таких методов, во многом вдохновлённый BatchNorm. В отличие от ранее упомянутых нормализаций, он появился в результате анализа влияния BatchNorm на обучение с сугубо математической точки зрения (было рассмотрено влияние BatchNorm на [информационную матрицу Фишера](https://en.wikipedia.org/wiki/Fisher_information)).  \n",
    "\n"
   ]
  },
  {
   "cell_type": "markdown",
   "metadata": {},
   "source": [
    "В данном методе производится репараметризация слоя нейронной сети следующим образом:\n",
    "\n",
    "$$\\mathbb{w} = \\frac{g}{\\left\\Vert \\mathbb{v}\\right\\Vert}\\mathbb{v},$$\n",
    "\n",
    "где $\\mathbb{w}$ - вектор весов слоя, $g$ и $\\mathbb{v}$ - обучаемые параметры. Важный момент, который стоит сразу отметить: данный вид параметризации не зависит от данных, потому одинаково хорошо будет работать при любом batch size. "
   ]
  },
  {
   "cell_type": "markdown",
   "metadata": {},
   "source": [
    "**Weight normalization** в некоторых случаях позволяет с лёгкостью выполнять ранее обсуждаемую \"умную инициализацию\" параметров нейронной сети. Выполняется она следующим образом: некоторым образом инициализируем $\\mathbb{v}$; выполним запуск сети на случайном batch, пусть на вход слою приходит $\\mathbb{x}$. Выполним следующую операцию:\n",
    "\n",
    "$$t = \\frac{\\mathbb{v}\\cdot\\mathbb{x}}{\\left\\Vert\\mathbb{x}\\right\\Vert}, \\qquad y = \\phi\\left(\\frac{t - \\mu[t]}{\\sigma[t]}\\right)$$\n",
    "\n",
    "Чтобы перед активацией получить значения с нулевым средним и единичным стандартным отклонением, стоит установить параметрам $g$ и $b$ следующие значения:\n",
    "\n",
    "$$g \\leftarrow \\frac{1}{\\sigma[t]}, \\qquad b \\leftarrow \\frac{-\\mu[t]}{\\sigma[t]}.$$"
   ]
  },
  {
   "cell_type": "markdown",
   "metadata": {},
   "source": [
    "Другой важной особенностью **weight normalization** является *разделение* вектора весов на \"направление вектора\" и \"норму вектора\". По сути, отделение нормы векторов весов позволяет реализовывать гибкую настройку скорости обучения - различные параметры начинают обновляться с различной скоростью ($\\sim\\lambda \\cdot g_i$), что позволяет модели более гибко обучаться. \n",
    "\n",
    "Weight normalization - далеко не единственный метод, позволяющий улучшать обучение модели, влияя на обновление её параметров: существует целое семейство \"оптимизаторов\" - методов, отвечающих за изменение параметров обучаемой модели."
   ]
  },
  {
   "cell_type": "markdown",
   "metadata": {},
   "source": [
    "# Регуляризация"
   ]
  },
  {
   "cell_type": "markdown",
   "metadata": {},
   "source": [
    "Второй способ улучшения сходимости нейросетей и борьбы с переобучением - введение регуляризации. Ее можно вводить несколькими способами. "
   ]
  },
  {
   "cell_type": "markdown",
   "metadata": {},
   "source": [
    "## L1, L2 регуляризации"
   ]
  },
  {
   "cell_type": "markdown",
   "metadata": {},
   "source": [
    "Самый простой способ мы уже разобрали - давайте просто добавим в лосс штраф к весам. На сходимость нейросети, это, правда, повлияет слабо"
   ]
  },
  {
   "cell_type": "markdown",
   "metadata": {},
   "source": [
    "$$Loss\\_reg = loss + \\lambda \\cdot reg$$\n",
    "\n",
    "$$ reg_{L1} = \\lambda \\sum |w_i| $$\n",
    "\n",
    "$$ reg_{L2} = \\lambda \\sum w_i^2 $$"
   ]
  },
  {
   "cell_type": "markdown",
   "metadata": {},
   "source": [
    "<img src=\"https://edunet.kea.su/repo/EduNet-content/L07/img_license/l1_l2_regularization_to_weight.gif\" alt=\"alttext\" width=\"500px\"/>"
   ]
  },
  {
   "cell_type": "markdown",
   "metadata": {},
   "source": [
    "[Visualizing regularization and the L1 and L2 norms](https://towardsdatascience.com/visualizing-regularization-and-the-l1-and-l2-norms-d962aa769932)"
   ]
  },
  {
   "cell_type": "markdown",
   "metadata": {},
   "source": [
    "Иногда уже его хватает, чтобы решить все проблемы. Напомним, что L2 лосс приводит к большому числу маленьких ненулевых весов в сети. А L1 лосс - к маленькому числу ненулевых весов (разреженной нейросети)\n",
    "\n"
   ]
  },
  {
   "cell_type": "markdown",
   "metadata": {},
   "source": [
    "Классы из пакета torch.optim поддерживают L2 регуляризацию "
   ]
  },
  {
   "cell_type": "code",
   "execution_count": null,
   "metadata": {},
   "outputs": [],
   "source": [
    "from torch.optim import SGD\n",
    "\n",
    "optimizer = SGD(model.parameters(), lr =0.01, weight_decay = 2.5e-4) #weight_decay == lambda\n"
   ]
  },
  {
   "cell_type": "markdown",
   "metadata": {},
   "source": [
    "## Batchnorm как регуляризация"
   ]
  },
  {
   "cell_type": "markdown",
   "metadata": {},
   "source": [
    "Почему для нейросети с батчнормализацией можно использовать более высокие learning rate? \n",
    "\n",
    " "
   ]
  },
  {
   "cell_type": "markdown",
   "metadata": {},
   "source": [
    "Оказывается, батчнормализация делает неявную регуляризацию на веса."
   ]
  },
  {
   "cell_type": "markdown",
   "metadata": {},
   "source": [
    "Допустим, мы решили увеличить веса в $a$ раз"
   ]
  },
  {
   "cell_type": "markdown",
   "metadata": {},
   "source": [
    "Так как мы шкалируем, то домножение весов $W$ на константу выходных значений слоя не меняет\n",
    "\n",
    "$$BN((aW)u) = BN(Wu)$$"
   ]
  },
  {
   "cell_type": "markdown",
   "metadata": {},
   "source": [
    "Градиент слоя по входу не меняется\n",
    "\n",
    "$$\\dfrac {\\delta BN((aW)u)} {\\delta u} = \\dfrac {\\delta BN(Wu)} {\\delta u}$$"
   ]
  },
  {
   "cell_type": "markdown",
   "metadata": {},
   "source": [
    "А градиент по весам уменьшается в $a$ раз\n",
    "\n",
    "$$\\dfrac {\\delta BN((aW)u)} {\\delta aW} = \\dfrac 1 a \\dfrac {\\delta BN(Wu)} {\\delta W} $$"
   ]
  },
  {
   "cell_type": "markdown",
   "metadata": {},
   "source": [
    "Таким образом, нейросеть автоматически не дает большим весам расти"
   ]
  },
  {
   "cell_type": "markdown",
   "metadata": {},
   "source": [
    "## Dropout"
   ]
  },
  {
   "cell_type": "markdown",
   "metadata": {},
   "source": [
    "Одним из распространненных именно в нейросетях методом регуляризации является Dropout."
   ]
  },
  {
   "cell_type": "markdown",
   "metadata": {},
   "source": [
    "<img src =\"https://edunet.kea.su/repo/EduNet-content/L07/img_license/dropout.png\" width=\"700\">"
   ]
  },
  {
   "cell_type": "markdown",
   "metadata": {},
   "source": [
    "Состоит этот метод в следующем:\n",
    "\n",
    "1. Во время обучения мы с вероятностью *p* зануляем выход нейронов слоя (например, *p* = 0.5)\n",
    "2. Зануленные нейроны не участвуют в данном forward, и градиент потому к ним при backward не идет. \n",
    "\n",
    "3. Сила регуляризации определяется вероятностью p, чем она больше - тем сильнее регуляризация. \n"
   ]
  },
  {
   "cell_type": "markdown",
   "metadata": {},
   "source": [
    "### Мотивация Dropout"
   ]
  },
  {
   "cell_type": "markdown",
   "metadata": {},
   "source": [
    "### Борьба с коадаптацией \n",
    "\n",
    "Одной из  проблем при работе с глубокими сетями является совместная адаптация нейронов. В такой сети, если все весовые коэффициенты изучаются вместе, обычно некоторые соединения будут иметь больше возможностей прогнозирования, чем другие.\n",
    "\n",
    "Часть нейронов делает основную работу - предсказывает, а остальные могут вообще не вносить никакого вклада в итоговое предсказание. Или же другая картина - один нейрон делает кривоватое предсказание, другие его правят и в итоге первый нейрон своей ошибки не исправляет. \n",
    "\n",
    "Это явление называется коадаптацией. Этого нельзя было предотвратить с помощью традиционной регуляризации, такой как L1 и L2. А вот Dropout с этим хорошо борется"
   ]
  },
  {
   "cell_type": "markdown",
   "metadata": {},
   "source": [
    "Отмена способности некоторых нейронов учиться во время тренировки на самом деле, оказывается, направлена на то, чтобы получить более обученные нейроны и сократить переобучение. И гарантирует, что выучиваемые индивидуальными нейронами функции хорошо работают со случайно выбранными подмножествами функций, выученных другими нейронами. \n",
    "Таким образом, Dropout приводит к появлению более требовательных нейронов, которые пытаются обойти сложные, индивидуальные особенности, которые склонны плохо обобщать, и сохраняют больше полезной информации самостоятельно. "
   ]
  },
  {
   "cell_type": "markdown",
   "metadata": {},
   "source": [
    "На следующем рисунке (извлеченном из статьи Dropout: A Simple Way to Prevent Neural Networks from Overfitting) мы находим сравнение признаков, изученных в наборе данных MNIST с одним автоэнкодером скрытого слоя, имеющим 256 выпрямленных линейных единиц без dropout (слева), и признаков, изученных той же структурой с использованием dropout в ее скрытом слое с p=0,5 (справа).\n",
    "\n",
    "В то время как первый показывает неструктурированные, беспорядочные паттерны, которые невозможно интерпретировать, второй явно демонстрирует целенаправленное распределение веса, которое обнаруживает штрихи, края и пятна самостоятельно, нарушая их взаимозависимость с другими нейронами для выполнения этой работы."
   ]
  },
  {
   "cell_type": "markdown",
   "metadata": {},
   "source": [
    "<img src =\"https://edunet.kea.su/repo/EduNet-web_dependencies/L07/compare_weights_with_dropout_and_without_dropout.png\" width=\"600\">\n",
    "\n",
    "[Dropout: A Simple Way to Prevent Neural Networks from\n",
    "Overfitting](https://jmlr.org/papers/v15/srivastava14a.html)"
   ]
  },
  {
   "cell_type": "markdown",
   "metadata": {},
   "source": [
    "### Dropout как регуляризация \n",
    "\n",
    "Фактически, Dropout штрафует слишком сложные, неустойчивые решения. Добавляя в нейросеть Dropout, мы сообщаем ей о том, что решение, которое мы ожидаем, должно быть устойчиво к шуму"
   ]
  },
  {
   "cell_type": "markdown",
   "metadata": {},
   "source": [
    "### Dropout как ансамбль \n",
    "\n",
    "Можно рассматривать Dropout как ансамбль нейросетей со схожими параметрами, которые мы учим одновременно, вместо того, чтобы учить каждую в отдельности, а затем результат их предсказания усредняем, [замораживая Dropout](http://mlg.eng.cam.ac.uk/yarin/blog_3d801aa532c1ce.html)\n",
    "\n",
    "Фактически, возникает аналогия со случайным лесом - каждая из наших нейросетей легко выучивает выборку и переобучается - имеет низкий bias, но высокий variance. При этом за счет временного отключения активаций, каждая нейросеть видит не все объекты, а только часть. Усредняя все эти предсказания, мы уменьшаем variance. \n",
    "\n"
   ]
  },
  {
   "cell_type": "markdown",
   "metadata": {},
   "source": [
    "### Dropout помогает бороться с переобучением\n",
    "\n",
    "Dropout, в силу указанного выше, может хорошо помогать бороться с переобучением\n",
    "\n",
    "И в случае линейных слоев "
   ]
  },
  {
   "cell_type": "markdown",
   "metadata": {},
   "source": [
    "<img src =\"https://edunet.kea.su/repo/EduNet-web_dependencies/L07/dropout_solve_overfitting_problem_in_mlp_networks.png\" width=\"500\">"
   ]
  },
  {
   "cell_type": "markdown",
   "metadata": {},
   "source": [
    "[Tutorial: Dropout as Regularization and Bayesian Approximation](https://xuwd11.github.io/Dropout_Tutorial_in_PyTorch/)"
   ]
  },
  {
   "cell_type": "markdown",
   "metadata": {},
   "source": [
    "И в случае конволюций "
   ]
  },
  {
   "cell_type": "markdown",
   "metadata": {},
   "source": [
    "<img src =\"https://edunet.kea.su/repo/EduNet-web_dependencies/L07/dropout_solve_overfitting_problem_in_convolution_networks.png\" width=\"500\">"
   ]
  },
  {
   "cell_type": "markdown",
   "metadata": {},
   "source": [
    "### Confidence interval от Dropout\n",
    "Можно используя нейросеть с дропаутом, получить доверительный интервал для вашего предсказания. Просто не \"замораживаем\" dropout-слои во время предсказания, а делаем предсказания с активными dropout. \n",
    "\n",
    "И делаем forward через такую нейросеть для одного объекта 1000 раз. \n",
    "Сделав это 1000 раз, вы получаете распределение предсказаний, на основе которого можно делать confidence интервалы и как раз ловить те объекты, на которых нейросеть вообще не понимает, что ей делать и потому предсказывает метку или еще что-то с сильной дисперсией. \n"
   ]
  },
  {
   "cell_type": "markdown",
   "metadata": {},
   "source": [
    "<img src =\"https://edunet.kea.su/repo/EduNet-web_dependencies/L07/confidence_interval_dropout.png\" width=\"600\">\n",
    "\n",
    "[Источник](http://mlg.eng.cam.ac.uk/yarin/blog_3d801aa532c1ce.html)"
   ]
  },
  {
   "cell_type": "markdown",
   "metadata": {},
   "source": [
    "### Простая реализация Dropout"
   ]
  },
  {
   "cell_type": "markdown",
   "metadata": {},
   "source": [
    "Pytorch"
   ]
  },
  {
   "cell_type": "code",
   "execution_count": null,
   "metadata": {},
   "outputs": [],
   "source": [
    "import torch\n",
    "from torch import nn\n",
    "\n",
    "net = nn.Sequential(\n",
    "    nn.Linear(3072,500),\n",
    "    nn.Dropout(p=0.2),\n",
    "    nn.Linear(500,1),\n",
    "    )\n",
    "\n",
    "net.train()\n",
    "dummy = torch.randn((1,3072)) # batch, features\n",
    "print(\"Train\")\n",
    "for i in range(5):\n",
    "  print(net(dummy).item())\n",
    "\n",
    "print(\"Inference\")\n",
    "net.eval()\n",
    "for i in range(5):\n",
    "  print(net(dummy).item())\n"
   ]
  },
  {
   "cell_type": "code",
   "execution_count": null,
   "metadata": {},
   "outputs": [],
   "source": [
    "class BadDropout(nn.Module):\n",
    "    def __init__(self, p: float = 0.5):\n",
    "        super().__init__()\n",
    "        if p < 0 or p > 1:\n",
    "            raise ValueError(\n",
    "                f\"Dropout probability has to be between 0 and 1, but got {p}\")\n",
    "        self.p = p\n",
    "\n",
    "    def forward(self, X):\n",
    "        if self.training:\n",
    "            keep = torch.rand(X.size()) > self.p               \n",
    "            return X * keep\n",
    "        # in test time, expectation is calculated\n",
    "        return X * (1 - self.p)"
   ]
  },
  {
   "cell_type": "markdown",
   "metadata": {},
   "source": [
    "Нежелательное свойство представленной выше схемы состоит в том, что мы должны масштабировать активации во время прогнозирования. Поскольку производительность тестирования критически важна, лучше всего использовать инвертированный dropout, который выполняет масштабирование во время обучения. Кроме того, если мы захотим убрать dropout из кода, функция прогнозирования останется без изменений."
   ]
  },
  {
   "cell_type": "code",
   "execution_count": null,
   "metadata": {},
   "outputs": [],
   "source": [
    "class Dropout(nn.Module):\n",
    "    def __init__(self, p: float = 0.5):\n",
    "        super().__init__()\n",
    "        if p < 0 or p > 1:\n",
    "            raise ValueError(\n",
    "                f\"Dropout probability has to be between 0 and 1, but got {p}\")\n",
    "        self.p = p\n",
    "\n",
    "    def forward(self, X):\n",
    "        if self.training:\n",
    "            keep = torch.rand(X.size()) > self.p\n",
    "            return X * keep / (1 - self.p)\n",
    "        return X  # in test time, expectation is calculated intrinsically - we just not divide weights"
   ]
  },
  {
   "cell_type": "markdown",
   "metadata": {},
   "source": [
    "Так как наша модель из-за Dropout ведет себя по-разному во время обучения и во время тестирования, то мы должны прямо ей сообщать, обучается она сейчас или нет. Делается это при помощи функций model.train и model.eval"
   ]
  },
  {
   "cell_type": "markdown",
   "metadata": {},
   "source": [
    "### Пример борьбы с переобучением при помощи Dropout\n",
    " "
   ]
  },
  {
   "cell_type": "markdown",
   "metadata": {},
   "source": [
    "Чтобы увидеть эффект, и при этом не учить нейросеть 100+ эпох, сделаем искусственный пример.\n",
    "\n",
    "Просто добавим к линейной зависимости шум и попробуем выучить ее нейронной сетью.\n",
    "\n",
    "[Dropout in Neural Networks with Pytorch](https://towardsdatascience.com/batch-normalization-and-dropout-in-neural-networks-explained-with-pytorch-47d7a8459bcd)"
   ]
  },
  {
   "cell_type": "code",
   "execution_count": null,
   "metadata": {},
   "outputs": [],
   "source": [
    "import torch\n",
    "N = 50  # number of data points\n",
    "noise = 0.3\n",
    "\n",
    "# generate the train data\n",
    "X_train = torch.unsqueeze(torch.linspace(-1, 1, N), 1)\n",
    "Y_train = X_train + noise * torch.normal(\n",
    "    torch.zeros(N, 1), # mean\n",
    "    torch.ones(N, 1))  # std\n",
    "\n",
    "# generate the test data\n",
    "X_test = torch.unsqueeze(torch.linspace(-1, 1, N), 1)\n",
    "Y_test = X_test + noise * torch.normal(torch.zeros(N, 1), torch.ones(N, 1))\n",
    "\n",
    "print(f'X_train shape: {X_train.shape}\\nX_test shape: {X_test.shape}')"
   ]
  },
  {
   "cell_type": "code",
   "execution_count": null,
   "metadata": {},
   "outputs": [],
   "source": [
    "import numpy as np\n",
    "import matplotlib.pyplot as plt\n",
    "\n",
    "plt.scatter(X_train.data.numpy(), Y_train.data.numpy(),\n",
    "            c='purple', alpha=0.5, label='train')\n",
    "plt.scatter(X_test.data.numpy(), Y_test.data.numpy(),\n",
    "            c='yellow', alpha=0.5, label='test')\n",
    "\n",
    "X_real = np.arange(-1, 1, 0.01)\n",
    "Y_real = X_real\n",
    "plt.plot(X_real, Y_real, c=\"green\", label='true')\n",
    "plt.legend()\n",
    "plt.show()"
   ]
  },
  {
   "cell_type": "markdown",
   "metadata": {},
   "source": [
    "Модель без дропаут"
   ]
  },
  {
   "cell_type": "code",
   "execution_count": null,
   "metadata": {},
   "outputs": [],
   "source": [
    "N_h = 100 # num of neurons\n",
    "model = torch.nn.Sequential(\n",
    "    torch.nn.Linear(1, N_h),\n",
    "    torch.nn.ReLU(),\n",
    "    torch.nn.Linear(N_h, N_h),\n",
    "    torch.nn.ReLU(),\n",
    "    torch.nn.Linear(N_h, 1),\n",
    ")\n",
    "optimizer = torch.optim.Adam(model.parameters(), lr=0.01)"
   ]
  },
  {
   "cell_type": "markdown",
   "metadata": {},
   "source": [
    "Модель с дропаут"
   ]
  },
  {
   "cell_type": "code",
   "execution_count": null,
   "metadata": {},
   "outputs": [],
   "source": [
    "from torch import nn\n",
    "N_h = 100 # num of neurons\n",
    "\n",
    "model_dropout = nn.Sequential(\n",
    "    nn.Linear(1, N_h),\n",
    "    nn.Dropout(0.5),  # 50 % probability\n",
    "    nn.ReLU(),\n",
    "    torch.nn.Linear(N_h, N_h),\n",
    "    nn.Dropout(0.2),  # 20% probability\n",
    "    nn.ReLU(),\n",
    "    torch.nn.Linear(N_h, 1),\n",
    ")\n",
    "optimizer_dropout = torch.optim.Adam(model_dropout.parameters(), lr=0.01)"
   ]
  },
  {
   "cell_type": "code",
   "execution_count": null,
   "metadata": {},
   "outputs": [],
   "source": [
    "num_epochs = 1500\n",
    "criterion = torch.nn.MSELoss()\n",
    "\n",
    "for epoch in range(num_epochs):\n",
    "\n",
    "    # train without dropout\n",
    "    Y_pred = model(X_train)  # look at the entire data in a single shot\n",
    "    loss = criterion(Y_pred, Y_train)\n",
    "    optimizer.zero_grad()\n",
    "    loss.backward()\n",
    "    optimizer.step()\n",
    "\n",
    "    # train with dropout\n",
    "    Y_pred_dropout = model_dropout(X_train)\n",
    "    loss_dropout = criterion(Y_pred_dropout, Y_train)\n",
    "    optimizer_dropout.zero_grad()\n",
    "    loss_dropout.backward()\n",
    "    optimizer_dropout.step()\n",
    "\n",
    "    if epoch % 100 == 0:\n",
    "\n",
    "        model.eval() # not train mode\n",
    "        model_dropout.eval() #  not train mode\n",
    "\n",
    "        # get predictions\n",
    "        Y_test_pred = model(X_test)\n",
    "        test_loss = criterion(Y_test_pred, Y_test)\n",
    "\n",
    "        Y_test_pred_dropout = model_dropout(X_test)\n",
    "        test_loss_dropout = criterion(Y_test_pred_dropout, Y_test)\n",
    "        # plotting data and predictions\n",
    "        plt.scatter(X_train.data.numpy(), Y_train.data.numpy(),\n",
    "                    c='purple', alpha=0.5, label='train')\n",
    "        plt.scatter(X_test.data.numpy(), Y_test.data.numpy(),\n",
    "                    c='yellow', alpha=0.5, label='test')\n",
    "        plt.plot(X_test.data.numpy(), Y_test_pred.data.numpy(),\n",
    "                 'r-', lw=3, label='normal')\n",
    "        plt.plot(X_test.data.numpy(), Y_test_pred_dropout.data.numpy(),\n",
    "                 'b--', lw=3,  label='dropout')\n",
    "\n",
    "        plt.title('Epoch %d, Loss = %0.4f, Loss with dropout = %0.4f' %\n",
    "                  (epoch, test_loss, test_loss_dropout))\n",
    "\n",
    "        plt.legend()\n",
    "\n",
    "        model.train() # train mode\n",
    "        model_dropout.train() # train mode\n",
    " \n",
    "        plt.pause(0.05)"
   ]
  },
  {
   "cell_type": "markdown",
   "metadata": {},
   "source": [
    "Видим, что нейросеть без dropout сильно переобучилась."
   ]
  },
  {
   "cell_type": "markdown",
   "metadata": {},
   "source": [
    "## Dropconnect"
   ]
  },
  {
   "cell_type": "markdown",
   "metadata": {},
   "source": [
    "Будем занулять не нейроны, а веса. Фактически - для каждого батча обрубаем часть связей между нейронами."
   ]
  },
  {
   "cell_type": "markdown",
   "metadata": {},
   "source": [
    "<img src =\"https://edunet.kea.su/repo/EduNet-content/L07/img_license/dropconnect.png\" width=\"650\">"
   ]
  },
  {
   "cell_type": "markdown",
   "metadata": {},
   "source": [
    "Drop Connect случайным образом отбрасывая веса, а не активации с вероятностью *p*.\n",
    "\n",
    "DropConnect похож на Dropout, поскольку он вводит динамическую разреженность в модель, но отличается тем, что разреженность зависит от весов *W*, а не от выходных векторов слоя. Другими словами, полностью связанный слой с DropConnect становится разреженно связанным слоем, в котором соединения выбираются случайным образом на этапе обучения. "
   ]
  },
  {
   "cell_type": "markdown",
   "metadata": {},
   "source": [
    "В принципе, вариантов зануления чего-то в нейросетке можно предложить великое множество, в разных ситуациях будут работать разные ([в этом списке](https://paperswithcode.com/methods/category/regularization)  много Drop...)"
   ]
  },
  {
   "cell_type": "markdown",
   "metadata": {},
   "source": [
    "# Оптимизация весов нейросетей\n",
    "\n",
    "Методов тоже много, расскажем о популярных ([неполный список](https://paperswithcode.com/methods/category/stochastic-optimization))\n",
    "\n",
    "Эти методы реализованы в модуле torch.optim\n",
    "При этом, что важно, подсчет градиентов лосс функции по весам никак не зависит от оптимизаторов из пакета. На прошлых занятиях мы с вами видели, что pytorch вычисляет градиенты автоматически, на основе оптимизаций.\n"
   ]
  },
  {
   "cell_type": "markdown",
   "metadata": {},
   "source": [
    "## Обзор популярных оптимизаторов"
   ]
  },
  {
   "cell_type": "markdown",
   "metadata": {},
   "source": [
    "### SGD\n",
    "Обычный стохастичный градиентный спуск. Вы его уже реализовывали. \n",
    "Просто обновляем веса в соответствии с текущем градиентом по ним, домножая градиент на постоянный коэффициент $\\eta$"
   ]
  },
  {
   "cell_type": "markdown",
   "metadata": {},
   "source": [
    "<img src =\"https://edunet.kea.su/repo/EduNet-content/L07/img_license/stochastic_gradient_descent.gif\" width=\"950\">"
   ]
  },
  {
   "cell_type": "markdown",
   "metadata": {},
   "source": [
    "```\n",
    "grad = evaluate_gradient(loss_fun,x,weights)\n",
    "weights = weights - learning_rate * grad\n",
    "```"
   ]
  },
  {
   "cell_type": "markdown",
   "metadata": {},
   "source": [
    "До сих пор является достаточно популярным методом обучения нейросетей, ибо простой, не требует дополнительных параметров кроме $\\eta$, и сам по себе обычно дает не плохие результаты. \n",
    "\n",
    "Если же важна каждая сотая в качестве, то нужно либо использовать его вкупе с другими технологиями (о них - ниже), либо использовать другие способы. "
   ]
  },
  {
   "cell_type": "code",
   "execution_count": null,
   "metadata": {},
   "outputs": [],
   "source": [
    "from torch import optim\n",
    "\n",
    "parameters = torch.randn(10, requires_grad=True)\n",
    "optimizer = optim.SGD([parameters], lr=0.001)"
   ]
  },
  {
   "cell_type": "markdown",
   "metadata": {},
   "source": [
    "Минусы SGD:\n",
    "\n",
    " 1. Если функция ошибки быстро меняется в одном направлении и медленно - в другом, то это приводит к резким изменениям направления  градиентов и замедляет процесс обучения\n"
   ]
  },
  {
   "cell_type": "markdown",
   "metadata": {},
   "source": [
    "<img src =\"https://edunet.kea.su/repo/EduNet-content/L07/img_license/stohastic_gradient_descent_no_momentum.gif\" width=\"500\">\n"
   ]
  },
  {
   "cell_type": "markdown",
   "metadata": {},
   "source": [
    "[Machine Learning Optimization Methods “Mechanics, Pros and Cons”](https://salmenzouari.medium.com/machine-learning-optimization-methods-mechanics-pros-and-cons-81b720194292)"
   ]
  },
  {
   "cell_type": "markdown",
   "metadata": {},
   "source": [
    " 2. Может застревать в локальных минимумах или седловых точках (точках, где все производные равны 0, но не являющихся минимума/ максимумами). В них градиент равен 0, веса не обновляются - конец оптимизации. \n",
    "\n",
    "Пример таких точек:\n",
    "\n",
    "\n",
    "Точка 0 у функции $x^3$, не имеющей минимума или максимума вовсе"
   ]
  },
  {
   "cell_type": "markdown",
   "metadata": {},
   "source": [
    "<img src =\"https://edunet.kea.su/repo/EduNet-content/L07/img_license/getting_stuck_in_local_minimum_example.png\" width=\"400\">\n"
   ]
  },
  {
   "cell_type": "markdown",
   "metadata": {},
   "source": [
    "Или точка 0, 0 у функции z = $x^2 - y^2$\n"
   ]
  },
  {
   "cell_type": "markdown",
   "metadata": {},
   "source": [
    "<img src =\"https://edunet.kea.su/repo/EduNet-content/L07/img_license/saddle_point_example.png\" width=\"400\">\n"
   ]
  },
  {
   "cell_type": "markdown",
   "metadata": {},
   "source": [
    "[Седловая точка\n",
    "](https://ru.wikipedia.org/wiki/%D0%A1%D0%B5%D0%B4%D0%BB%D0%BE%D0%B2%D0%B0%D1%8F_%D1%82%D0%BE%D1%87%D0%BA%D0%B0)"
   ]
  },
  {
   "cell_type": "markdown",
   "metadata": {},
   "source": [
    " 3. Так как мы оцениваем градиенты по малой части выборки, они могут плохо отображать градиент по всей выборке и являться шумными. В результате часть шагов градиентного спуска делаются впустую или во вред. \n",
    " \n",
    " 4. Мы применяем один и тот же learning rate ко всем параметрам, что не всегда разумно. Параметр, отвечающий редкому классу, будет обучаться медленнее остальных. \n",
    " \n",
    " 5. Просто медленнее сходится"
   ]
  },
  {
   "cell_type": "markdown",
   "metadata": {},
   "source": [
    "### Momentum\n",
    "\n",
    "Чтобы избежать проблем 1-3, можно использовать momentum - фактически, мы добавляем нашему движению инерции. Если представить наши текущие веса как координаты шарика, и мы этот шарик пытаемся загнать в наиболее глубокую дырку, то у шарика теперь появился вес."
   ]
  },
  {
   "cell_type": "markdown",
   "metadata": {},
   "source": [
    "[Градиентный спуск, как учатся нейронные сети(Видео)](https://youtu.be/IHZwWFHWa-w)"
   ]
  },
  {
   "cell_type": "markdown",
   "metadata": {},
   "source": [
    "Сначала пытаемся поменять направление движения шарика с прежнего направления с учетом текущего градиента\n",
    "$$v_{t+1} = \\rho v_t + \\nabla_wL(x, y, W)$$\n",
    "\n",
    "Вычисляем, куда он покатится\n",
    "$$w_{t+1} = w_t - \\eta v_{t+1}$$"
   ]
  },
  {
   "cell_type": "markdown",
   "metadata": {},
   "source": [
    "```\n",
    "vx = 0 # velocity\n",
    "while True:\n",
    "  dx = evaluate_gradient(loss_fun,x,weights)\n",
    "  vx = vx*rho + dx # rho 0.9 .. 0.99 'friction'\n",
    "  x -= lr *dx\n",
    "```"
   ]
  },
  {
   "cell_type": "code",
   "execution_count": null,
   "metadata": {},
   "outputs": [],
   "source": [
    "class SGD_with_momentum:  \n",
    "  def __init__(self,weights,lr = 0.001):\n",
    "    self.vx = torch.zeros_like(weights) # vx = 0\n",
    "    self.weights = weights\n",
    "    self.lr = lr\n",
    "  \n",
    "  def step(self):\n",
    "    dx = self.weights.grad\n",
    "    self.vx = self.vx * 0.9 + dx # 0.9 .. 0.99 'friction'\n",
    "    self.weights -= self.lr * self.vx \n"
   ]
  },
  {
   "cell_type": "markdown",
   "metadata": {},
   "source": [
    "<img src =\"https://edunet.kea.su/repo/EduNet-content/L07/img_license/advantages_wtih_momentum.png\" width=\"480\">"
   ]
  },
  {
   "cell_type": "code",
   "execution_count": null,
   "metadata": {},
   "outputs": [],
   "source": [
    "parameters = torch.randn(10, requires_grad=True)\n",
    "optimizer = optim.SGD([parameters], momentum=0.9, lr=0.001)"
   ]
  },
  {
   "cell_type": "markdown",
   "metadata": {},
   "source": [
    "Теперь мы быстрее достигаем локального минимума и можем выкатываться из совсем неглубоких. Градиентн стал менее подвержен шуму, меньше асциллирует"
   ]
  },
  {
   "cell_type": "markdown",
   "metadata": {},
   "source": [
    "<img src =\"https://edunet.kea.su/repo/EduNet-content/L07/img_license/stohastic_gradient_descent_no_momentum.gif\" width=\"400\">"
   ]
  },
  {
   "cell_type": "markdown",
   "metadata": {},
   "source": [
    "<img src =\"https://edunet.kea.su/repo/EduNet-content/L07/img_license/stohastic_gradient_descent_with_momentum.gif\" width=\"400\">"
   ]
  },
  {
   "cell_type": "markdown",
   "metadata": {},
   "source": [
    "У этого подхода есть одна опасность - мы можем выкатиться за пределы минимума, к которому стремимся, а потом какое-то время к нему возвращаться. "
   ]
  },
  {
   "cell_type": "markdown",
   "metadata": {},
   "source": [
    "<img src =\"https://edunet.kea.su/repo/EduNet-web_dependencies/L07/problem_of_big_momentum_value.gif\" width=\"700\">"
   ]
  },
  {
   "cell_type": "markdown",
   "metadata": {},
   "source": [
    "[optimizer-visualization](https://github.com/Jaewan-Yun/optimizer-visualization)"
   ]
  },
  {
   "cell_type": "markdown",
   "metadata": {},
   "source": [
    "Чтобы с этим бороться, предложен другой способ подсчета момента инерции"
   ]
  },
  {
   "cell_type": "markdown",
   "metadata": {},
   "source": [
    "### NAG (Nesterov momentum)\n",
    "\n",
    "Будем сначала смещаться в сторону, куда привел бы нас наш накопленный градиент, там считать новый градиент и смещаться по нему. \n",
    "В результате перескоки через минимум будут менее значительными, и мы будем быстрее сходиться\n",
    "\n",
    "$$v_{t+1} = \\rho v_t +  \\nabla_w L(w + \\rho v_t )$$\n",
    "\n",
    "$$w_{t} = w_{t-1} - \\eta v_{t} $$\n"
   ]
  },
  {
   "cell_type": "markdown",
   "metadata": {},
   "source": [
    "<img src =\"https://edunet.kea.su/repo/EduNet-content/L07/img_license/nesterov_momentum.png\" width=\"800\">"
   ]
  },
  {
   "cell_type": "markdown",
   "metadata": {},
   "source": [
    "На практике эту формулу все равно можно записать так, чтобы задача вычисления градиента ложилась на сам оптимизатор\n",
    "(к примеру, [реализация в PyTorch](https://github.com/pytorch/pytorch/blob/master/torch/optim/_functional.py))"
   ]
  },
  {
   "cell_type": "code",
   "execution_count": null,
   "metadata": {},
   "outputs": [],
   "source": [
    "parameters = torch.randn(10, requires_grad=True)\n",
    "optimizer = optim.SGD([parameters], momentum=0.9, nesterov=True, lr=0.001)"
   ]
  },
  {
   "cell_type": "markdown",
   "metadata": {},
   "source": [
    "### Adaptive Learning Rate\n",
    "\n",
    "Оба озвученных улучшения никак не борются с тем, что некоторые параметры нашей нейросети могут получать информацию для обновления реже, чем остальные. Например, фильтр, отличающий сиамских кошек от остальных, будет работать только тогда, когда в выборке попадутся конкретно сиамские кошки. А их может быть и не очень много, по батчам мы их не размажем (либо батчей получится очень много, если нарочно балансировать)\n",
    "\n",
    "Другая ситуация - учим нейросеть на словах из русского языка. Есть веса, отвечающие за редкие слова, например \"молвить\". Вы часто в языке встречаете слово молвить? Молвят устами, а они тоже встречаются не часто. В результате, если learning rate постоянен, то мы выучим параметры для слова молвить плохо. \n",
    "\n",
    "Единственный путь - завести для каждого параметра индивидуальный learning rate."
   ]
  },
  {
   "cell_type": "markdown",
   "metadata": {},
   "source": [
    "<img src =\"https://edunet.kea.su/repo/EduNet-content/L07/img_license/stohastic_gradient_descent_no_momentum.gif\" width=\"500\">"
   ]
  },
  {
   "cell_type": "markdown",
   "metadata": {},
   "source": [
    "### Adagrad\n",
    "\n",
    "Будем хранить для каждого параметра сумму квадратов его градиентов. \n",
    "\n",
    "И будем добавлять наш градиент с коэффициентом, обратно пропорциональным корню из этой суммы (фактически - некая аппроксимация средней амплитуды градиента нашего параметра). "
   ]
  },
  {
   "cell_type": "markdown",
   "metadata": {},
   "source": [
    "$$ w = w - \\eta \\frac{l}{\\sqrt{G} + e} \\odot (\\nabla_w L(x,y,W)) $$\n",
    "\n",
    "$$ G = \\sum_{t=1}^T \\nabla_w L(x,y,w_t)^2 $$\n",
    "\n"
   ]
  },
  {
   "cell_type": "code",
   "execution_count": null,
   "metadata": {},
   "outputs": [],
   "source": [
    "class AdaGrad:  \n",
    "  def __init__(self,weights, lr = 0.001):\n",
    "    self.grad_squared = torch.zeros_like(weights) # tensor\n",
    "    self.weights = weights\n",
    "  \n",
    "  def step(self):\n",
    "    dx = self.weights.grad\n",
    "    self.grad_squared += dx*dx\n",
    "    self.weights -= self.lr * dx / (torch.sqrt(self.grad_squared) ++ 1e-7)"
   ]
  },
  {
   "cell_type": "markdown",
   "metadata": {},
   "source": [
    "В результате, если градиент у нашего веса часто большой - коэффициент будет уменьшаться. \n",
    "\n",
    "Единственная проблема - при такой формуле наш learning rate неминуемо в конце концов затухает (так как сумма квадратов не убывает)\n"
   ]
  },
  {
   "cell_type": "code",
   "execution_count": null,
   "metadata": {},
   "outputs": [],
   "source": [
    "parameters = torch.randn(10, requires_grad=True)\n",
    "optimizer = optim.Adagrad([parameters])"
   ]
  },
  {
   "cell_type": "markdown",
   "metadata": {},
   "source": [
    "### RMSprop"
   ]
  },
  {
   "cell_type": "markdown",
   "metadata": {},
   "source": [
    "Давайте устроим \"забывание\" предыдущих квадратов градиентов. Просто будем домножать их на некий коэффициент меньше 1\n",
    "\n",
    "\n",
    "$$v_t = \\alpha v_{t-1} + (1-\\alpha) (\\nabla_w L(x,y,w_t))^2$$\n",
    "\n",
    "$$w = w - \\frac{\\eta}{\\sqrt{v_t }+ e} \\odot \\nabla_w L(x,y,W)$$"
   ]
  },
  {
   "cell_type": "code",
   "execution_count": null,
   "metadata": {},
   "outputs": [],
   "source": [
    "class RMSprop():  \n",
    "  def __init__(self,weights, lr = 0.001):\n",
    "    self.grad_squared = torch.zeros_like(weights) # tensor\n",
    "    self.weights = weights\n",
    "    self.decay_rate = 0.99 \n",
    "  \n",
    "  def step(self):\n",
    "    dx = self.weights.grad\n",
    "    self.grad_squared = dx*dx(1-self.decay_rate) + self.decay_rate*self.grad_squared\n",
    "    self.weights -= self.lr * dx / (torch.sqrt(self.grad_squared) + 1e-7)"
   ]
  },
  {
   "cell_type": "code",
   "execution_count": null,
   "metadata": {},
   "outputs": [],
   "source": [
    "parameters = torch.randn(10, requires_grad=True)\n",
    "optimizer = optim.RMSprop([parameters], alpha=0.99)"
   ]
  },
  {
   "cell_type": "markdown",
   "metadata": {},
   "source": [
    "### Adam\n",
    "\n",
    "Одним из самых популярных адаптивных оптимизаторов является Adam. \n",
    "Получается он за счет объединения идеи с инерцией и идеи с суммой квадратов. \n",
    "\n",
    "$$ m_t = \\beta_1 m_{t-1} + (1-\\beta_1) (\\nabla_w L(x,y,w_t)) $$\n",
    "$$ v_t = \\beta_2 v_{t-1} + (1-\\beta_2) (\\nabla_w L(x,y,w_t)^2) $$\n",
    "$$ w = w - \\eta \\cdot \\frac{m_t}{\\sqrt{v_t} + e} $$"
   ]
  },
  {
   "cell_type": "code",
   "execution_count": null,
   "metadata": {},
   "outputs": [],
   "source": [
    "class ADAM:  \n",
    "  def __init__(self,weights, lr = 0.001):\n",
    "    self.weights = weights\n",
    "    self.velocity = torch.zeros_like(weights) # ~ vx = 0\n",
    "    self.grad_squared = torch.zeros_like(weights) # tensor    \n",
    "    self.decay_rate = 0.99 \n",
    "    self.friction = 0.9\n",
    "  \n",
    "  def step(self):\n",
    "    dx = self.weights.grad\n",
    "    self.vx = self.velocity * self.friction +  (1-self.friction)*dx # first momentum\n",
    "    self.grad_squared = self.grad_squared  + (1-self.decay_rate)*dx*dx # second momentum\n",
    "    self.weights -= self.lr * velocity / (torch.sqrt(self.grad_squared) + 1e-7)"
   ]
  },
  {
   "cell_type": "markdown",
   "metadata": {},
   "source": [
    "Чтобы в начале у нас получались очень большие шаги, будем дополнительно модицифировать инерцию и сумму квадратов"
   ]
  },
  {
   "cell_type": "markdown",
   "metadata": {},
   "source": [
    "$$ m_t = \\frac{m_t}{1-\\beta_1^t} $$\n",
    "\n",
    "$$ v_t = \\frac{v_t}{1-\\beta_2^t} $$"
   ]
  },
  {
   "cell_type": "code",
   "execution_count": null,
   "metadata": {},
   "outputs": [],
   "source": [
    "parameters = torch.randn(10, requires_grad=True)\n",
    "optimizer = optim.Adam([parameters], betas=(0.9, 0.999))"
   ]
  },
  {
   "cell_type": "markdown",
   "metadata": {},
   "source": [
    "#### L2-loss\n",
    "\n",
    "Все оптимизаторы так же поддерживают возможность добавления к ним напрямую L2-loss, коэффициент перед этим лоссом -  $\\textrm{weight_decay}$"
   ]
  },
  {
   "cell_type": "code",
   "execution_count": null,
   "metadata": {},
   "outputs": [],
   "source": [
    "parameters = torch.randn(10, requires_grad=True)\n",
    "optimizer = optim.RMSprop([parameters], alpha=0.99, weight_decay=0.001)"
   ]
  },
  {
   "cell_type": "markdown",
   "metadata": {},
   "source": [
    "Нюанс в том, что в Adam L2-loss учитывается не совсем верно. Потому есть поправленная версия Adam - AdamW. Но не факт, что она всегда лучше работает"
   ]
  },
  {
   "cell_type": "markdown",
   "metadata": {},
   "source": [
    "## Сравнение оптимизаторов \n",
    "\n",
    "У каждого из предложенных оптимизаторов есть минусы и плюсы \n",
    "\n"
   ]
  },
  {
   "cell_type": "markdown",
   "metadata": {},
   "source": [
    "### Методы с инерцией сходятся к решению более плавно, но могут \"перелетать\""
   ]
  },
  {
   "cell_type": "markdown",
   "metadata": {},
   "source": [
    "<img src =\"https://edunet.kea.su/repo/EduNet-web_dependencies/L07/convergence_optimizers.gif\" width=\"500\">\n",
    "\n"
   ]
  },
  {
   "cell_type": "markdown",
   "metadata": {},
   "source": [
    "### Методы с адаптивным learning rate быстрее сходятся, более стабильны и меньше случайно блуждают"
   ]
  },
  {
   "cell_type": "markdown",
   "metadata": {},
   "source": [
    "<img src =\"https://edunet.kea.su/repo/EduNet-web_dependencies/L07/methods_with_adaptive_learning_rate.gif\" width=\"500\">\n"
   ]
  },
  {
   "cell_type": "markdown",
   "metadata": {},
   "source": [
    "###  Алгоритмы без адаптивного learning rate сложнее выбираются из локальных минимумом"
   ]
  },
  {
   "cell_type": "markdown",
   "metadata": {},
   "source": [
    "<img src =\"https://edunet.kea.su/repo/EduNet-web_dependencies/L07/methods_without_adaptive_learning_rate.gif\" width=\"450\">"
   ]
  },
  {
   "cell_type": "markdown",
   "metadata": {},
   "source": [
    "### Алгоритмы с инерцией осцилируют в седловых точках прежде чем найти верный путь"
   ]
  },
  {
   "cell_type": "markdown",
   "metadata": {},
   "source": [
    "<img src =\"https://edunet.kea.su/repo/EduNet-web_dependencies/L07/methods_with_momentum_in_saddle_point.gif\" width=\"450\">\n",
    "\n",
    "<p><em>Иллюстрации <a href=\"https://imgur.com/a/Hqolp\">Alec Radford</a></p> </em>\n"
   ]
  },
  {
   "cell_type": "markdown",
   "metadata": {},
   "source": [
    "# Режимы обучения\n",
    "\n",
    "Нам не обязательно поддерживать один и тот же learning rate в течение всего обучения. Более того, для того же SGD есть гарантии, что если правильно подобрать схему уменьшения learning rate, он сойдется к глобальному оптимуму.\n",
    "\n",
    "\n",
    "Мы можем менять learning rate по некоторым правилам.  \n",
    "\n"
   ]
  },
  {
   "cell_type": "markdown",
   "metadata": {},
   "source": [
    "## Ранняя остановка"
   ]
  },
  {
   "cell_type": "markdown",
   "metadata": {},
   "source": [
    "Можем использовать критерий ранней остановки - когда лосс на валидационной выборке не улучшается какое-то количество эпох(patience), умножаем learning rate на некое значение(factor)"
   ]
  },
  {
   "cell_type": "markdown",
   "metadata": {},
   "source": [
    "<img src =\"https://edunet.kea.su/repo/EduNet-content/L07/img_license/early_stopping.png\" width=\"500\">"
   ]
  },
  {
   "cell_type": "code",
   "execution_count": null,
   "metadata": {},
   "outputs": [],
   "source": [
    "optimizer = optim.SGD(model.parameters(), lr=0.1)\n",
    "scheduler = optim.lr_scheduler.ReduceLROnPlateau(optimizer,\n",
    "                                                 'min',\n",
    "                                                 factor=0.1,\n",
    "                                                 patience=5)"
   ]
  },
  {
   "cell_type": "markdown",
   "metadata": {},
   "source": [
    "Применим к нашей модели\n",
    "\n",
    "(выполнение занимает ~ 5 минут)"
   ]
  },
  {
   "cell_type": "markdown",
   "metadata": {},
   "source": [
    "## Понижение шага обучения на каждой эпохе \n",
    "\n",
    "Домножать learning rate на gamma каждую эпоху"
   ]
  },
  {
   "cell_type": "code",
   "execution_count": null,
   "metadata": {},
   "outputs": [],
   "source": [
    "scheduler = torch.optim.lr_scheduler.StepLR(optimizer,\n",
    "                                            step_size=2,\n",
    "                                            gamma=0.1)"
   ]
  },
  {
   "cell_type": "markdown",
   "metadata": {},
   "source": [
    "## Neural Network WarmUp"
   ]
  },
  {
   "cell_type": "markdown",
   "metadata": {},
   "source": [
    "Также, для достаточно больших нейронных сетей практикуют следующую схему (**gradual warmup**, [изначальная статья](https://arxiv.org/pdf/1706.02677.pdf)):\n",
    "\n",
    "Поставить изначальный learning rate значительно ниже того, с которого мы обычно начинаем обучение. За несколько эпох, например, 5, довести learning rate от этого значения до требуемого. За счет этого нейросеть лучше \"адаптируется\" к нашим данным. \n",
    "\n",
    "Также такой learning schedule позволяет адаптивным оптимизаторам лучше оценить значения learning rate для разных параметров"
   ]
  },
  {
   "cell_type": "markdown",
   "metadata": {},
   "source": [
    "<img src =\"https://edunet.kea.su/repo/EduNet-web_dependencies/L07/neural_network_warmup.png\" width=\"1000\">\n"
   ]
  },
  {
   "cell_type": "markdown",
   "metadata": {},
   "source": [
    "kn на картинке - это размер одного батча"
   ]
  },
  {
   "cell_type": "markdown",
   "metadata": {},
   "source": [
    "### Взаимодействие learning schedule и адаптивного изменения learning rate"
   ]
  },
  {
   "cell_type": "markdown",
   "metadata": {},
   "source": [
    "И то, и другое меняет learning rate: learning scheduler - глобально, а адаптивные оптимизаторы - для каждого веса отдельно \n",
    "\n",
    "Часто их применяют вместе, особенно в случае критерия ранней остановки и WarmUp"
   ]
  },
  {
   "cell_type": "markdown",
   "metadata": {},
   "source": [
    "<font size = \"6\"/> Ссылки:</font>"
   ]
  },
  {
   "cell_type": "markdown",
   "metadata": {},
   "source": [
    "[A journey into Optimization algorithms for Deep Neural Networks](https://theaisummer.com/optimization/)\n",
    "\n",
    "[Optimizers Explained - Adam, Momentum and Stochastic Gradient Descent](https://mlfromscratch.com/optimizers-explained/#adam)\n",
    "\n",
    "[Батч-нормализация. In-layer normalization techniques for training very deep neural networks](https://theaisummer.com/normalization/)\n",
    "\n",
    "[Циклический learning rate](https://towardsdatascience.com/adaptive-and-cyclical-learning-rates-using-pytorch-2bf904d18dee)\n",
    "\n",
    "[Разные функции активации, затухающие и взрывающщиеся градиенты и т.д](https://mlfromscratch.com/activation-functions-explained/#/)\n",
    "\n",
    "[Визуализация разных оптимизаторов в ipynb, но на tensorflow](https://nbviewer.jupyter.org/github/ilguyi/optimizers.numpy/blob/master/optimizer.tf.all.opt.plot.ipynb)"
   ]
  }
 ],
 "metadata": {},
 "nbformat": 4,
 "nbformat_minor": 0
}
