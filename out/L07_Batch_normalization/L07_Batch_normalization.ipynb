{
 "cells": [
  {
   "cell_type": "markdown",
   "metadata": {},
   "source": [
    "<font size=\"6\">Улучшение сходимости нейросетей и борьба с переобучением</font>"
   ]
  },
  {
   "cell_type": "code",
   "execution_count": null,
   "metadata": {},
   "outputs": [],
   "source": [
    "import os\n",
    "import math\n",
    "import shutil\n",
    "import tarfile\n",
    "import requests\n",
    "import numpy as np\n",
    "import matplotlib.pyplot as plt\n",
    "\n",
    "import torch\n",
    "import torch.nn as nn\n",
    "import torch.optim as optim\n",
    "import torch.nn.functional as F\n",
    "import torchvision.transforms as transforms\n",
    "import torchvision.datasets as datasets\n",
    "from torch.utils.tensorboard import SummaryWriter\n",
    "from torch.utils.data import DataLoader\n",
    "from tqdm import tqdm\n",
    "\n",
    "# TensorBoard будет читать лог-файлы из этой директории:\n",
    "LOGS_DIR = \"runs\"\n",
    "\n",
    "# Pytorch будет выполнять вычисления на данном устройстве\n",
    "DEVICE = torch.device('cuda')"
   ]
  },
  {
   "cell_type": "markdown",
   "metadata": {},
   "source": [
    "# Сигмоида затухает и теоретически и практически"
   ]
  },
  {
   "cell_type": "code",
   "execution_count": null,
   "metadata": {},
   "outputs": [],
   "source": [
    "# Вспомогательный метод для запуска Tensorboard в Colab\n",
    "def reinit_tensorboard(clear_log=True):\n",
    "    if clear_log:\n",
    "        shutil.rmtree(LOGS_DIR, ignore_errors=True)\n",
    "        os.makedirs(LOGS_DIR, exist_ok=True)\n",
    "    # Магия Colab\n",
    "    %load_ext tensorboard\n",
    "    %tensorboard --logdir {LOGS_DIR}"
   ]
  },
  {
   "cell_type": "code",
   "execution_count": null,
   "metadata": {},
   "outputs": [],
   "source": [
    "reinit_tensorboard(clear_log=True)"
   ]
  },
  {
   "cell_type": "code",
   "execution_count": null,
   "metadata": {},
   "outputs": [],
   "source": [
    "if not os.path.exists(\"./datasets\"):\n",
    "    os.mkdir(\"./datasets\")\n",
    "if os.path.exists(\"./datasets/MNIST.tar.gz\"):\n",
    "    print(\"Already downloaded\")\n",
    "else:\n",
    "    r = requests.get('http://www.di.ens.fr/~lelarge/MNIST.tar.gz',\n",
    "                     allow_redirects=True,)\n",
    "    f_name = './datasets/MNIST.tar.gz'\n",
    "    with open(f_name, 'wb') as f:\n",
    "        f.write(r.content)\n",
    "    with tarfile.open(f_name, \"r:gz\") as f:\n",
    "        f.extractall(\"./datasets\")"
   ]
  },
  {
   "cell_type": "code",
   "execution_count": null,
   "metadata": {},
   "outputs": [],
   "source": [
    "transform = transforms.Compose([transforms.ToTensor(),\n",
    "                                transforms.Normalize((0.1307,), (0.3081,))\n",
    "                                ])\n",
    "\n",
    "train = datasets.MNIST(root='./datasets', train=True,\n",
    "                       download=True, transform=transform)\n",
    "\n",
    "test = datasets.MNIST(root='./datasets', train=False,\n",
    "                      download=True, transform=transform)"
   ]
  },
  {
   "cell_type": "code",
   "execution_count": null,
   "metadata": {},
   "outputs": [],
   "source": [
    "class SimpleMNIST_NN(nn.Module):\n",
    "    def __init__(self, n_layers, activation=nn.Sigmoid):\n",
    "        super().__init__()\n",
    "        self.n_layers = n_layers\n",
    "        self.activation = activation()\n",
    "        layers = [nn.Linear(28 * 28, 100), self.activation]\n",
    "        for _ in range(0, n_layers - 1):\n",
    "            layers.append(nn.Linear(100, 100))\n",
    "            layers.append(self.activation)\n",
    "        layers.append(nn.Linear(100, 10))\n",
    "        self.layers = nn.Sequential(*layers)\n",
    "\n",
    "    def forward(self, x, predict_proba=False):\n",
    "        x = x.view(-1, 28 * 28)\n",
    "        x = self.layers(x)\n",
    "        if predict_proba:\n",
    "            x = F.softmax(x)\n",
    "        return x"
   ]
  },
  {
   "cell_type": "code",
   "execution_count": null,
   "metadata": {},
   "outputs": [],
   "source": [
    "train_loader = DataLoader(train,\n",
    "                          batch_size=32,\n",
    "                          shuffle=True,\n",
    "                          num_workers=2)\n",
    "test_loader = DataLoader(test,\n",
    "                         batch_size=32,\n",
    "                         shuffle=False,\n",
    "                         num_workers=2)"
   ]
  },
  {
   "cell_type": "code",
   "execution_count": null,
   "metadata": {},
   "outputs": [],
   "source": [
    "class Steper:\n",
    "    def __init__(self):\n",
    "        self._global_step = 1\n",
    "\n",
    "    @property\n",
    "    def global_step(self):\n",
    "        return self._global_step\n",
    "\n",
    "    def step(self):\n",
    "        self._global_step += 1\n",
    "\n",
    "\n",
    "def get_summary_writer(name, runs_dir=LOGS_DIR):\n",
    "    path = os.path.join(runs_dir, name)\n",
    "    return SummaryWriter(path)"
   ]
  },
  {
   "cell_type": "code",
   "execution_count": null,
   "metadata": {},
   "outputs": [],
   "source": [
    "def train_epoch(model,\n",
    "                optimizer,\n",
    "                criterion,\n",
    "                train_loader,\n",
    "                model_name,\n",
    "                steper,\n",
    "                writer):\n",
    "    for batch in train_loader:\n",
    "        optimizer.zero_grad()\n",
    "        X, y = batch\n",
    "        X, y = X.to(DEVICE), y.to(DEVICE)\n",
    "        pred = model(X)\n",
    "        loss = criterion(pred, y)\n",
    "        writer.add_scalar(f\"{model_name}_train_loss\",\n",
    "                          loss.cpu().detach().numpy(),\n",
    "                          global_step=steper.global_step)\n",
    "        loss.backward()\n",
    "        optimizer.step()\n",
    "        steper.step()"
   ]
  },
  {
   "cell_type": "code",
   "execution_count": null,
   "metadata": {},
   "outputs": [],
   "source": [
    "def validate(model,\n",
    "             criterion,\n",
    "             validation_loader,\n",
    "             model_name,\n",
    "             steper,\n",
    "             writer):\n",
    "    cumloss = 0\n",
    "    with torch.no_grad():\n",
    "        for batch in validation_loader:\n",
    "            X, y = batch\n",
    "            X, y = X.to(DEVICE), y.to(DEVICE)\n",
    "            pred = model(X)\n",
    "            loss = criterion(pred, y)\n",
    "            writer.add_scalar(f\"{model_name}_test_loss\",\n",
    "                              loss.cpu().detach().numpy(),\n",
    "                              global_step=steper.global_step)\n",
    "            steper.step()\n",
    "            cumloss += loss\n",
    "    return cumloss / len(validation_loader)"
   ]
  },
  {
   "cell_type": "code",
   "execution_count": null,
   "metadata": {},
   "outputs": [],
   "source": [
    "def train_model(model, writer, optimizer):\n",
    "    criterion = nn.CrossEntropyLoss().to(DEVICE)\n",
    "\n",
    "    train_steper = Steper()\n",
    "    test_steper = Steper()\n",
    "\n",
    "    for epoch in tqdm(range(5)):\n",
    "        train_epoch(model,\n",
    "                    optimizer,\n",
    "                    criterion,\n",
    "                    train_loader,\n",
    "                    \"cross_entropy\",\n",
    "                    train_steper,\n",
    "                    writer)\n",
    "        validate(model,\n",
    "                 criterion,\n",
    "                 test_loader,\n",
    "                 \"cross_entropy\",\n",
    "                 test_steper,\n",
    "                 writer)"
   ]
  },
  {
   "cell_type": "code",
   "execution_count": null,
   "metadata": {},
   "outputs": [],
   "source": [
    "def train_two_layer():\n",
    "    model = SimpleMNIST_NN(n_layers=2).to(DEVICE)\n",
    "    optimizer = optim.SGD(model.parameters(), lr=0.001)\n",
    "    writer = get_summary_writer(\"n_layers2_sigmoid\")\n",
    "    \n",
    "    train_model(model, writer, optimizer)"
   ]
  },
  {
   "cell_type": "code",
   "execution_count": null,
   "metadata": {},
   "outputs": [],
   "source": [
    "train_two_layer()"
   ]
  },
  {
   "cell_type": "code",
   "execution_count": null,
   "metadata": {},
   "outputs": [],
   "source": [
    "def train_three_layer():\n",
    "    model = SimpleMNIST_NN(n_layers=3).to(DEVICE)\n",
    "    optimizer = optim.SGD(model.parameters(), lr=0.001)\n",
    "    writer = get_summary_writer(\"n_layers3_sigmoid\")\n",
    "    \n",
    "    train_model(model, writer, optimizer)"
   ]
  },
  {
   "cell_type": "code",
   "execution_count": null,
   "metadata": {},
   "outputs": [],
   "source": [
    "train_three_layer()"
   ]
  },
  {
   "cell_type": "markdown",
   "metadata": {},
   "source": [
    "Нейросеть с тремя слоями вообще не учится. Почему? Можем попробовать разобраться.\n",
    "\n",
    "Для этого напишем функции, которые будут следить за распределением градиентов и активаций на наших слоях.\n",
    "\n",
    "И скажем при помощи метода register_backward_hook пайторчу исполнять эти функции при каждом пропускании градиента."
   ]
  },
  {
   "cell_type": "code",
   "execution_count": null,
   "metadata": {},
   "outputs": [],
   "source": [
    "def get_forward_hook(writer, tag):\n",
    "    ind = 0\n",
    "\n",
    "    def forward_hook(self, input_, output):\n",
    "        nonlocal ind\n",
    "        ind += 1\n",
    "        writer.add_scalar(tag, input_[0].abs().mean(), ind)\n",
    "    return forward_hook\n",
    "\n",
    "\n",
    "def get_backward_hook(writer, tag):\n",
    "    ind = 0\n",
    "\n",
    "    def backward_hook(grad):  # for tensors\n",
    "        nonlocal ind\n",
    "        ind += 1\n",
    "        writer.add_scalar(tag, grad.abs().mean(), ind)\n",
    "    return backward_hook"
   ]
  },
  {
   "cell_type": "code",
   "execution_count": null,
   "metadata": {},
   "outputs": [],
   "source": [
    "def register_model_hooks(model, writer, max_ind=4):\n",
    "    cur_ind = 0\n",
    "    for child in model.layers.children():\n",
    "        if isinstance(child, nn.Linear):\n",
    "            cur_ind += 1\n",
    "            forward_hook = get_forward_hook(writer,\n",
    "                                            f\"activation_{cur_ind}\")\n",
    "            child.register_forward_hook(forward_hook)\n",
    "\n",
    "            backward_hook = get_backward_hook(writer,\n",
    "                                              f\"gradient_{max_ind - cur_ind + 1}\")\n",
    "            child.weight.register_hook(backward_hook)"
   ]
  },
  {
   "cell_type": "code",
   "execution_count": null,
   "metadata": {},
   "outputs": [],
   "source": [
    "def train_three_layer_hooks():\n",
    "    model = SimpleMNIST_NN(n_layers=3).to(DEVICE)\n",
    "    optimizer = optim.SGD(model.parameters(), lr=0.001)\n",
    "    writer = get_summary_writer(\"n_layers3_sigmoid2\")\n",
    "    \n",
    "    register_model_hooks(model, writer)\n",
    "    \n",
    "    train_model(model, writer, optimizer)"
   ]
  },
  {
   "cell_type": "code",
   "execution_count": null,
   "metadata": {},
   "outputs": [],
   "source": [
    "train_three_layer_hooks()"
   ]
  },
  {
   "cell_type": "markdown",
   "metadata": {},
   "source": [
    "Мы видим, что градиент нашей модели стремительно затухает. Первые слои (до которых градиент доходит последним), получают значения градиента, мало отличимые от нуля.\n",
    "\n",
    "Причем, это будет верно с самых первых шагов обучения нашей модели\n",
    "\n"
   ]
  },
  {
   "cell_type": "markdown",
   "metadata": {},
   "source": [
    "Это явление получило название **паралич сети**"
   ]
  },
  {
   "cell_type": "markdown",
   "metadata": {},
   "source": [
    "# Затухание градиента\n",
    "\n",
    "Откуда оно берется? \n",
    "\n",
    "Посмотрим на обычную сигмоиду\n",
    "\n",
    "$$\\sigma(z) = \\dfrac 1 {1 + e^{-z}}$$\n",
    "\n",
    "Ее производная, как вы уже выводили, равна\n",
    "\n",
    "$$\\dfrac {\\delta \\sigma(z)} {\\delta z} = \\sigma(z) (1 - \\sigma(z))$$\n",
    "\n",
    "Какое максимальное значение у такой функции?\n",
    "\n",
    "Учтем, что сигмоида находится в пределах от 0 до 1"
   ]
  },
  {
   "cell_type": "code",
   "execution_count": null,
   "metadata": {},
   "outputs": [],
   "source": [
    "plt.style.use('seaborn-whitegrid')\n",
    "\n",
    "x = np.arange(0, 1.001, 0.001)\n",
    "plt.plot(x, x - x**2)\n",
    "plt.show()"
   ]
  },
  {
   "cell_type": "markdown",
   "metadata": {},
   "source": [
    "Получается, что максимальное значение производной по сигмоиде - 1/4"
   ]
  },
  {
   "cell_type": "markdown",
   "metadata": {},
   "source": [
    "Теперь возьмем простую нейронную сеть "
   ]
  },
  {
   "cell_type": "markdown",
   "metadata": {},
   "source": [
    "<img src =\"http://edunet.kea.su/repo/src/L07_Batch_normalization/img_license/simple_nn.png\" width=\"750\">"
   ]
  },
  {
   "cell_type": "markdown",
   "metadata": {},
   "source": [
    "Посчитаем у нее градиент\n",
    "\n",
    "$$\\dfrac {\\delta L} {\\delta z_4} = \\dfrac {\\delta L} {\\delta y} \\dfrac {\\delta y} {\\delta z_4} = \\dfrac {\\delta L} {\\delta y} \\dfrac {\\delta \\sigma(w_5z)} {\\delta z} w_5 \\le \\dfrac 1 4 \\dfrac {\\delta L} {\\delta y}  w_5 $$\n",
    "\n",
    "Аналогично можно посчитать градиент для $z_3$\n",
    "\n",
    "$$\\dfrac {\\delta L} {\\delta z_3} = \\dfrac {\\delta L} {\\delta z_4} \\dfrac {\\delta z_4} {\\delta z_3} \\le \\dfrac {\\delta L} {\\delta y} \\dfrac {\\delta \\sigma(w_5z)} {\\delta z} w_5 \\le {\\dfrac 1 4}^2 \\dfrac {\\delta L} {\\delta y}  w_5 w_4$$\n",
    "\n",
    "И так далее\n",
    "\n",
    "$$\\dfrac {\\delta L} {\\delta x}  \\le {\\dfrac 1 4}^5 \\dfrac {\\delta L} {\\delta y}  w_5 w_4 w_3 w_2 w_1$$"
   ]
  },
  {
   "cell_type": "markdown",
   "metadata": {},
   "source": [
    "Таким образом, градиент начинает экспоненциально затухать, если веса маленькие.\n",
    "\n",
    "Если веса большие - то градиент наоборот начнет экспоненциально возрастать - все взорвется\n",
    "\n",
    "Для некоторых функций активации картина будет не столь катастрофична, но тоже неприятна.\n",
    "\n",
    "В семинарском задании вы посмотрите, например, как ведет себя функция ReLU в этом случае."
   ]
  },
  {
   "cell_type": "markdown",
   "metadata": {},
   "source": [
    "# Инициализация весов\n",
    "\n",
    "Оказывается, иногда чтобы побороть такое поведение нейросети достаточно лишь правильно инициализировать веса "
   ]
  },
  {
   "cell_type": "markdown",
   "metadata": {},
   "source": [
    "Хотим задать изначальные веса в нейросети. \n",
    "Как это можно сделать? \n",
    "\n",
    "Делать инициализацию 0 - плохая идея. В этом случае получим, что градиент по всем таким весам будет одинаков - и их обновление, следовательно, тоже. Ничего не выучим. \n",
    "\n",
    "Можно инициализировать веса нормальным шумом с матожиданием 0 и маленькой дисперсией. Маленькая дисперсия нужна затем, чтобы не получить огромные градиенты за большие изначальные ошибки в предсказании. \n",
    "\n",
    "Но почему бы не взять другое распределение? Может, веса, инициализированные экспоненциальным распределениям, дают какие-нибудь классные гарантии? Или какой-нибудь другой, не приходящий сразу в голову способ инициализации. Давайте это обсудим. \n"
   ]
  },
  {
   "cell_type": "markdown",
   "metadata": {},
   "source": [
    "## Инициализация Ксавьера (Xavier, Glorot)"
   ]
  },
  {
   "cell_type": "markdown",
   "metadata": {},
   "source": [
    "#### $\\color{brown}{\\text{Вывод Xavier}}$\n",
    "\n",
    "\n"
   ]
  },
  {
   "cell_type": "markdown",
   "metadata": {},
   "source": [
    "Рассмотрим в качестве активации нечетную функцию с единичной производной в нуле .\n",
    "\n",
    "Например, нам подойдет гиперболический тангенс (tanh)"
   ]
  },
  {
   "cell_type": "code",
   "execution_count": null,
   "metadata": {},
   "outputs": [],
   "source": [
    "x = np.arange(-10, 10.1, 0.1)\n",
    "plt.plot(x, np.tanh(x))\n",
    "plt.show()"
   ]
  },
  {
   "cell_type": "markdown",
   "metadata": {},
   "source": [
    "Мы хотим начать из линейного региона этой функции, чтобы избежать\n",
    "затухающих градиентов"
   ]
  },
  {
   "cell_type": "markdown",
   "metadata": {},
   "source": [
    "Как у нас зависят активации на текущем слое от активаций на предыдущем?\n",
    "\n",
    "$$z^{i+1} = f(z^iW^i)$$\n",
    "\n",
    "Тогда, так как мы вначале хотим находиться в районе линейности нашей функции, то\n",
    "\n",
    "$$z^{i+1} \\approx z^i W^i$$"
   ]
  },
  {
   "cell_type": "markdown",
   "metadata": {},
   "source": [
    "Ответить на вопрос, а как будут связаны дисперсии этих активаций, сложнее \n",
    "\n",
    "Сначала распишем:\n",
    "1. чему равна дисперсия суммы двух независимых величин\n",
    "\n",
    "$$D(\\eta + \\gamma) = D\\eta + D\\gamma$$\n",
    "\n",
    "2. чему равна дисперсия произведений двух независимых величин\n",
    "\n",
    "\n",
    "$$D\\eta\\gamma = E(\\eta\\gamma)^2 - (E\\eta\\gamma)^2 = E\\eta^2E\\gamma^2 - (E\\eta)^2(E\\gamma)^2$$ \n",
    "\n",
    "Далее распишем для одного веса текущего слоя \n",
    "\n",
    "$$z^{i+1}_{k} = \\sum_t z^i_t w_{kt}$$\n",
    "\n",
    "$$D(z^{i+1}_{k}) = D(\\sum_t z^i_t w_{kt}) = \\sum_t D(z^i_t w_{kt})$$\n",
    "\n",
    "Предполагая, что дисперсии весов и активаций одинаковые (а нам бы так хотелось)\n",
    "\n",
    "$$D(z^{i+1}_{k}) = n D(z^i_0 w_{k0})$$\n",
    "\n",
    "Далее применяем нашу формулу и получаем:\n",
    "\n",
    "$$D(z^{i+1}_{k}) = n [E(z^i_0)^2E(w_{k0})^2 - (Ez^i_0)^2(Ew_{k0})^2]$$\n",
    "\n",
    "Хотим, чтобы что матожидание наших активаций 0, и мы можем этого добиться, делая  матожидание весов равным 0. \n",
    "\n",
    "$$D(z^{i+1}_{k}) =   n E(z^i_0)^2E(w_{k0})^2 $$\n",
    "\n",
    "Заметим, что, так как матожидание активация и весов равны 0, то матожидания их квадратов равны дисперсии активаций и весов соответственно\n",
    "\n",
    "$$Dz = E(z^{i+1}_{k})^2 - (Ez^{i+1}_{k})^2 = E(z^{i+1}_{k})^2$$\n",
    "\n",
    "$$D(z^{i+1}_{k}) = n Dz^i_0Dw_{k0}$$\n"
   ]
  },
  {
   "cell_type": "markdown",
   "metadata": {},
   "source": [
    "Отсюда можно вывести формулу для зависимости активаций любого слоя от весов предуыдущих слоев и дисперсии исходных данных\n",
    "\n",
    "$$Dz^i = Dx \\prod_{p=0}^{i-1}n_pDW^p $$\n",
    "\n",
    "Где $n_p$ - размерность выхода слоя p-го слоя\n",
    "\n",
    "Аналогично можно вывести формулу для градиентов по активациям\n",
    "\n",
    "\n",
    "$$D(\\dfrac {\\delta L} {\\delta z^i}) = D(\\dfrac {\\delta L} {\\delta z^d} ) \\prod_{p=i}^{d}n_{p+1}DW^p $$\n",
    "\n"
   ]
  },
  {
   "cell_type": "markdown",
   "metadata": {},
   "source": [
    "Для хорошей инициализации нам бы хотелось, чтобы дисперсии активаций на всех слоях были одинаковые. \n",
    "А еще хотелось бы, чтобы дисперсии градиентов тоже были одинаковые. \n",
    "\n",
    "Тогда у нас не происходит резких скачков в распределении активаций, а градиент не затухает и не взрывается \n",
    "\n",
    "\n",
    "$$Dz^i = Dz^j$$\n",
    "$$D\\dfrac {\\delta L} {\\delta z^i} = D\\dfrac {\\delta L} {\\delta z^j}$$\n"
   ]
  },
  {
   "cell_type": "markdown",
   "metadata": {},
   "source": [
    "Учитывая предыдущее, это эквивалентно тому, что мы требуем\n",
    "\n",
    "$$n_iDW^i = 1$$\n",
    "$$n_{i+1}DW^i = 1$$"
   ]
  },
  {
   "cell_type": "markdown",
   "metadata": {},
   "source": [
    "Одновременно так сделать не получится $$n_i \\ne n_{i+1}$$\n",
    "\n",
    "Потому делаем компромисс - среднее гармонческое решений первого и второго уравнения\n",
    "\n",
    "$$DW^i = \\dfrac 2 {n_i + n_{i+1}}$$"
   ]
  },
  {
   "cell_type": "markdown",
   "metadata": {},
   "source": [
    "Надо выбрать распределение.\n",
    "\n",
    "$$ EW^i = 0 $$\n",
    "\n",
    "$$DW^i = \\dfrac 2 {n_i + n_{i+1}}$$\n",
    "\n",
    "Можно было бы взять нормальное распределение с такими параметрами.\n",
    "\n",
    "$$W_i \\sim N(0, sd=\\sqrt{\\dfrac 2 {n_i + n_{i+1}}}) $$\n",
    "\n",
    "А можно равномерное:\n",
    "\n",
    "$$D(U[a, b]) = \\dfrac 1 {12} (b -a)^2$$"
   ]
  },
  {
   "cell_type": "markdown",
   "metadata": {},
   "source": [
    "## Итого получим:\n",
    "$$W_i \\sim U[-\\dfrac {\\sqrt{6}} {n_i + n_{i + 1}}, \\dfrac {\\sqrt{6}} {n_i + n_{i + 1}} ]$$\n"
   ]
  },
  {
   "cell_type": "markdown",
   "metadata": {},
   "source": [
    "## He-инициализация (Kaiming)\n",
    "\n",
    "Но многие люди используют ReLU. Она в 0 не имеет производной, потому применять инициализацию, указанную выше, проблематично. "
   ]
  },
  {
   "cell_type": "markdown",
   "metadata": {},
   "source": [
    "##### $\\color{brown}{\\text{Вывод Kaiming}}$"
   ]
  },
  {
   "cell_type": "markdown",
   "metadata": {},
   "source": [
    "\n",
    "Тогда получатся похожие условия \n",
    "\n",
    "$$Dz^i = Dx \\prod_{p=0}^{i-1}\\dfrac 1 2 n_pDW^p $$\n",
    "\n",
    "$$D(\\dfrac {\\delta L} {\\delta z^i}) = D(\\dfrac {\\delta L} {\\delta z^d} ) \\prod_{p=i}^{d}\\dfrac 1 2 n_{p+1}DW^p $$\n"
   ]
  },
  {
   "cell_type": "markdown",
   "metadata": {},
   "source": [
    "И для них решения будут тоже похожими:\n",
    "\n",
    "$$\\frac 2 {n_k}$$\n",
    "\n",
    "и\n",
    "\n",
    "$$\\frac 2 {n_{k+1}}$$\n",
    "\n",
    "Можно опять взять среднее гармоническое. Но на практике, особенно в случае сверточных нейронных сетей, просто берут либо $ \\frac 2 {n_i}$ либо $\\frac 2 {n_i + 1}$\n"
   ]
  },
  {
   "cell_type": "markdown",
   "metadata": {},
   "source": [
    "## Итого получим:\n",
    "\n",
    "$$W^i \\sim N(0, sd=\\sqrt{\\frac 2 n_i})$$\n",
    "\n",
    "$$W^i \\sim N(0, sd=\\sqrt{\\frac 2 {n_i + 1}})$$\n",
    "\n",
    "Опять же, можно использовать и равномерное распределение"
   ]
  },
  {
   "cell_type": "markdown",
   "metadata": {},
   "source": [
    "## Важность\n",
    "\n",
    "1. Нейросеть может сойтись значительно быстрее\n"
   ]
  },
  {
   "cell_type": "markdown",
   "metadata": {},
   "source": [
    "<img src =\"http://edunet.kea.su/repo/src/L07_Batch_normalization/img_license/lecture-07.png\" width=\"550\">"
   ]
  },
  {
   "cell_type": "markdown",
   "metadata": {},
   "source": [
    "2. В зависимости от выбранной активации сеть вообще может сойтись или не сойтись"
   ]
  },
  {
   "cell_type": "markdown",
   "metadata": {},
   "source": [
    "<img src =\"http://edunet.kea.su/repo/src/L07_Batch_normalization/img_license/lecture-08.png\" width=\"550\">"
   ]
  },
  {
   "cell_type": "markdown",
   "metadata": {},
   "source": [
    "## Обобщение инициализаций Ксавьера и He-инициализации"
   ]
  },
  {
   "cell_type": "markdown",
   "metadata": {},
   "source": [
    "Вообще говоря, коэффициенты в инициализациях (числитель в формуле для дисперсии), зависят от конкретной выбранной функции активации.\n",
    "[В pytorch есть функции для вычисления этих коэффициентов](https://pytorch.org/docs/stable/nn.init.html)\n"
   ]
  },
  {
   "cell_type": "markdown",
   "metadata": {},
   "source": [
    "## Ортогональная инициализация"
   ]
  },
  {
   "cell_type": "markdown",
   "metadata": {},
   "source": [
    "Также иногда используется так называемая ортогональная инициализация весов. \n",
    "Для каждого слоя мы убеждаемся, что изначальная матрица весов является ортогональной. "
   ]
  },
  {
   "cell_type": "markdown",
   "metadata": {},
   "source": [
    "Выберем ортогональную матрицу весов \n",
    "$$W: WW^T = 1$$\n",
    "\n",
    "Тогда:\n",
    "1.  норма активации сохраняется (опять же, активации между слоями остаются в одном масштабе)\n",
    "$$||s_{i+1}|| = ||W_{i}s_i|| = ||s_i||$$\n",
    "\n",
    "2.  все нейроны делают «разные» преобразования\n",
    "$$ ⟨W_i, W_j⟩ = 0~i \\ne j$$\n",
    "$$ ⟨W_i, W_j⟩ = 1~i = j$$\n"
   ]
  },
  {
   "cell_type": "markdown",
   "metadata": {},
   "source": [
    "Иногда такая инициализация обеспечивает значительно лучшую сходимость,[тут можно почитать об этом подробнее](https://datascience.stackexchange.com/questions/64899/why-is-orthogonal-weights-initialization-so-important-for-ppo) "
   ]
  },
  {
   "cell_type": "markdown",
   "metadata": {},
   "source": [
    "## Инициализация весов в Pytorch\n",
    "\n",
    "Для инициализации весов Pytorch используется модуль torch.nn.init\n",
    "\n",
    "В нем определены разные функции для инициализации весов.\n",
    "\n",
    "Нюанс состоит в том, что обычно для слоев разного типа может требоваться разная регуляриация. Потому в функции, которая инициализирует слов вашей нейронное сети желательно прописывать разное поведение для разных слоев.\n",
    "\n",
    "Попробуем, например, добавить в нашу нейросеть инициализацию. Нам нужна регуляризация Xavier, так как у нас Sigmoid"
   ]
  },
  {
   "cell_type": "code",
   "execution_count": null,
   "metadata": {},
   "outputs": [],
   "source": [
    "class SimpleMNIST_NN(nn.Module):\n",
    "    def __init__(self,\n",
    "                 n_layers,\n",
    "                 activation=nn.Sigmoid,\n",
    "                 init_form=\"normal\"):\n",
    "        super().__init__()\n",
    "        self.n_layers = n_layers\n",
    "        self.activation = activation()\n",
    "        layers = [nn.Linear(28 * 28, 100), self.activation]\n",
    "        for _ in range(0, n_layers - 1):\n",
    "            layers.append(nn.Linear(100, 100))\n",
    "            layers.append(self.activation)\n",
    "        layers.append(nn.Linear(100, 10))\n",
    "        self.layers = nn.Sequential(*layers)\n",
    "        self.init_form = init_form\n",
    "        if self.init_form is not None:\n",
    "            self.init()\n",
    "        if not isinstance(self.activation, nn.Sigmoid):\n",
    "            raise NotImplementedError()\n",
    "\n",
    "    def forward(self, x, predict_proba=False):\n",
    "        x = x.view(-1, 28 * 28)\n",
    "        x = self.layers(x)\n",
    "        if predict_proba:\n",
    "            x = F.softmax(x)\n",
    "        return x\n",
    "\n",
    "    def init(self):\n",
    "        sigmoid_gain = torch.nn.init.calculate_gain(\"sigmoid\")\n",
    "        for child in self.layers.children():\n",
    "            if isinstance(child, nn.Linear):\n",
    "                if self.init_form == \"normal\":\n",
    "                    torch.nn.init.xavier_normal_(child.weight,\n",
    "                                                 gain=sigmoid_gain)\n",
    "                    if child.bias is not None:\n",
    "                        torch.nn.init.zeros_(child.bias)\n",
    "                elif self.init_form == \"uniform\":\n",
    "                    torch.nn.init.xavier_uniform_(child.weight,\n",
    "                                                  gain=sigmoid_gain)\n",
    "                    if child.bias is not None:\n",
    "                        torch.nn.init.zeros_(child.bias)\n",
    "                else:\n",
    "                    raise NotImplementedError()"
   ]
  },
  {
   "cell_type": "code",
   "execution_count": null,
   "metadata": {},
   "outputs": [],
   "source": [
    "def train_havier():\n",
    "    model = SimpleMNIST_NN(n_layers=3).to(DEVICE)\n",
    "    optimizer = optim.SGD(model.parameters(), lr=0.001)\n",
    "    writer = get_summary_writer(\"n3_layers_sigmoid_havier\")\n",
    "    \n",
    "    plt.hist(list(model.layers.children())[0].weight.cpu().detach().numpy().reshape(-1))\n",
    "    plt.show()\n",
    "    \n",
    "    train_model(model, writer, optimizer)"
   ]
  },
  {
   "cell_type": "code",
   "execution_count": null,
   "metadata": {},
   "outputs": [],
   "source": [
    "train_havier()"
   ]
  },
  {
   "cell_type": "markdown",
   "metadata": {},
   "source": [
    "Видим, что нейросеть стала хоть как-то учиться"
   ]
  },
  {
   "cell_type": "markdown",
   "metadata": {},
   "source": [
    "# Регуляризация"
   ]
  },
  {
   "cell_type": "markdown",
   "metadata": {},
   "source": [
    "Второй способ улучшения сходимости нейросетей и борьбы с переобучением - введение регуляризации. Ее можно вводить несколькими способами. "
   ]
  },
  {
   "cell_type": "markdown",
   "metadata": {},
   "source": [
    "## L1, L2 регуляризации"
   ]
  },
  {
   "cell_type": "markdown",
   "metadata": {},
   "source": [
    "Самый простой способ мы уже разобрали - давайте просто добавим в лосс штраф к весам. На сходимость нейросети, это, правда, повлияет слабо"
   ]
  },
  {
   "cell_type": "markdown",
   "metadata": {},
   "source": [
    "$$Loss\\_reg = loss + \\lambda \\cdot reg$$\n",
    "\n",
    "$$ reg_{L1} = \\lambda \\sum |w_i| $$\n",
    "\n",
    "$$ reg_{L2} = \\lambda \\sum w_i^2 $$"
   ]
  },
  {
   "cell_type": "markdown",
   "metadata": {},
   "source": [
    "<img src=\"https://edunet.kea.su/repo/src/L07_Batch_normalization/img_license/losses.gif\" alt=\"alttext\" width=\"500px\"/>"
   ]
  },
  {
   "cell_type": "markdown",
   "metadata": {},
   "source": [
    "[ссылка](https://towardsdatascience.com/visualizing-regularization-and-the-l1-and-l2-norms-d962aa769932)"
   ]
  },
  {
   "cell_type": "markdown",
   "metadata": {},
   "source": [
    "Иногда уже его хватает, чтобы решить все проблемы. Напомним, что L2 лосс приводит к большому числу маленьких ненулевых весов в сети. А L1 лосс - к маленькому числу ненулевых весов (разреженной нейросети)"
   ]
  },
  {
   "cell_type": "markdown",
   "metadata": {},
   "source": [
    "## Dropout"
   ]
  },
  {
   "cell_type": "markdown",
   "metadata": {},
   "source": [
    "Одним из распространненных именно в нейросетях методом регуляризации является Dropout."
   ]
  },
  {
   "cell_type": "markdown",
   "metadata": {},
   "source": [
    "<img src =\"http://edunet.kea.su/repo/src/L07_Batch_normalization/img_license/lecture-12.png\" width=\"700\">"
   ]
  },
  {
   "cell_type": "markdown",
   "metadata": {},
   "source": [
    "Состоит этот метод в следующем:\n",
    "\n",
    "1. Во время обучения мы с вероятностью *p* зануляем выход нейронов слоя (например, *p* = 0.5)\n",
    "2. Зануленные нейроны не участвуют в данном forward, и градиент потому к ним при backward не идет. \n",
    "\n",
    "3. Сила регуляризации определяется вероятностью p, чем она больше - тем сильнее регуляризация. \n"
   ]
  },
  {
   "cell_type": "markdown",
   "metadata": {},
   "source": [
    "## Мотивация Dropout"
   ]
  },
  {
   "cell_type": "markdown",
   "metadata": {},
   "source": [
    "### Борьба с коадаптацией \n",
    "\n",
    "Одной из  проблем при работе с глубокими сетями является совместная адаптация нейронов. В такой сети, если все весовые коэффициенты изучаются вместе, обычно некоторые соединения будут иметь больше возможностей прогнозирования, чем другие.\n",
    "\n",
    "Часть нейронов делает основную работу - предсказывает, а остальные могут вообще не вносить никакого вклада в итоговое предсказание. Или же другая картина - один нейрон делает кривоватое предсказание, другие его правят и в итоге первый нейрон своей ошибки не исправляет. \n",
    "\n",
    "Это явление называется со-адаптацией. Этого нельзя было предотвратить с помощью традиционной регуляризации, такой как L1 и L2. А вот Dropout с этим хорошо борется"
   ]
  },
  {
   "cell_type": "markdown",
   "metadata": {},
   "source": [
    "Отмена способности некоторых нейронов учиться во время тренировки на самом деле оказывается направлена на то, чтобы получить более обученные нейроны и сократить переобучение. И гарантирует, что выучиваемые индивидуальными нейронами функции хорошо работают со случайно выбранными подмножествами функций, выученных другими нейронами. \n",
    "Таким образом, Dropout приводит к появлению более требовательных нейронов, которые пытаются обойти сложные, индивидуальные особенности, которые склонны плохо обобщать, и сохраняют больше полезной информации самостоятельно. "
   ]
  },
  {
   "cell_type": "markdown",
   "metadata": {},
   "source": [
    "На следующем рисунке (извлеченном из статьи Dropout: A Simple Way to Prevent Neural Networks from Overfitting) мы находим сравнение признаков, изученных в наборе данных MNIST с одним автоэнкодером скрытого слоя, имеющим 256 выпрямленных линейных единиц без отсева (слева), и признаков, изученных той же структурой с использованием отсева в ее скрытом слое с p=0,5 (справа).\n",
    "\n",
    "В то время как первый показывает неструктурированные, беспорядочные паттерны, которые невозможно интерпретировать, второй явно демонстрирует целенаправленное распределение веса, которое обнаруживает штрихи, края и пятна самостоятельно, нарушая их взаимозависимость с другими нейронами для выполнения этой работы."
   ]
  },
  {
   "cell_type": "markdown",
   "metadata": {},
   "source": [
    "<img src =\"http://edunet.kea.su/repo/src/L07_Batch_normalization/img/lecture-13.png\" width=\"600\">"
   ]
  },
  {
   "cell_type": "markdown",
   "metadata": {},
   "source": [
    "### Dropout как регуляризация \n",
    "\n",
    "Фактически, Dropout штрафует слишком сложные, неустойчивые решения. Добавляя в нейросеть Dropout мы сообщаем ей о том, что решение, которое мы ожидаем, должно устойчиво к шуму"
   ]
  },
  {
   "cell_type": "markdown",
   "metadata": {},
   "source": [
    "### Dropout как ансамбль \n",
    "\n",
    "Можно рассматривать Dropout как ансамбль нейросетей со схожими параметрами, которые мы учим одновременно, вместо того, чтобы учить каждую в отдельности, а затем результат их предсказания усредняем, замораживая Dropout (http://mlg.eng.cam.ac.uk/yarin/blog_3d801aa532c1ce.html)\n",
    "\n",
    "Фактически, возникает аналогия со случайным лесом - каждая из наших нейросетей легко выучивает выборку и переобучается - имеет низкий bias, но высокий variance. При этом за счет временного отключения активаций, каждая нейросеть видит не все объекты, а только часть. Усредняя все эти предсказания, мы уменьшаем variance. \n",
    "\n"
   ]
  },
  {
   "cell_type": "markdown",
   "metadata": {},
   "source": [
    "### Dropout помогает бороться с переобучением\n",
    "\n",
    "Dropout, в силу указанного выше, может хорошо помогать бороться с переобучением\n",
    "\n",
    "И в случае линейных слоев "
   ]
  },
  {
   "cell_type": "markdown",
   "metadata": {},
   "source": [
    "<img src =\"http://edunet.kea.su/repo/src/L07_Batch_normalization/img/index_22_0.png\" width=\"500\">"
   ]
  },
  {
   "cell_type": "markdown",
   "metadata": {},
   "source": [
    "[ссылка](https://xuwd11.github.io/Dropout_Tutorial_in_PyTorch/)"
   ]
  },
  {
   "cell_type": "markdown",
   "metadata": {},
   "source": [
    "И в случае конволюций "
   ]
  },
  {
   "cell_type": "markdown",
   "metadata": {},
   "source": [
    "<img src =\"http://edunet.kea.su/repo/src/L07_Batch_normalization/img/index_36_0.png\" width=\"500\">"
   ]
  },
  {
   "cell_type": "markdown",
   "metadata": {},
   "source": [
    "[ссылка](https://xuwd11.github.io/Dropout_Tutorial_in_PyTorch/)"
   ]
  },
  {
   "cell_type": "markdown",
   "metadata": {},
   "source": [
    "### Confidence interval от Dropout\n",
    "Можно используя нейросеть с дропаутом, получить доверительный интервал для вашего предсказания. Просто не \"замораживаем\" dropout-слои во время предсказания, а делаем предсказания с активными dropout. \n",
    "\n",
    "И делаем forward через такую нейросеть для одного объекта 1000 раз. \n",
    "Сделав это 1000 раз вы получаете распределение предсказаний, на основе которого можно делать confidence интервалы и как раз ловить те объекты, на которых нейросетей вообще не понимает, что ей делать и потому предсказывает метку или еще что-то с сильной дисперсией. \n"
   ]
  },
  {
   "cell_type": "markdown",
   "metadata": {},
   "source": [
    "<img src =\"http://edunet.kea.su/repo/src/L07_Batch_normalization/img_license/confidence_nn.png\" width=\"600\">"
   ]
  },
  {
   "cell_type": "markdown",
   "metadata": {},
   "source": [
    "## Простая реализация Dropout"
   ]
  },
  {
   "cell_type": "code",
   "execution_count": null,
   "metadata": {},
   "outputs": [],
   "source": [
    "class BadDropout(nn.Module):\n",
    "    def __init__(self, p: float = 0.5):\n",
    "        super().__init__()\n",
    "        if p < 0 or p > 1:\n",
    "            raise ValueError(\n",
    "                f\"Dropout probability has to be between 0 and 1, but got {p}\")\n",
    "        self.p = p\n",
    "\n",
    "    def forward(self, X):\n",
    "        if self.training:\n",
    "            keep = torch.rand(X.size()) > self.p\n",
    "            if X.is_cuda:\n",
    "                keep = keep.to(DEVICE)\n",
    "            return X * keep\n",
    "        # in test time, expectation is calculated\n",
    "        return X * (1 - self.p)"
   ]
  },
  {
   "cell_type": "markdown",
   "metadata": {},
   "source": [
    "Нежелательное свойство представленной выше схемы состоит в том, что мы должны масштабировать активации во время прогнозирования. Поскольку производительность тестирования критически важна, лучше всего использовать инвертированный dropout, который выполняет масштабирование во время обучения. Кроме того, если мы захотим убрать dropout из кода, функция прогнозирования останется без изменений."
   ]
  },
  {
   "cell_type": "code",
   "execution_count": null,
   "metadata": {},
   "outputs": [],
   "source": [
    "class Dropout(nn.Module):\n",
    "    def __init__(self, p: float = 0.5):\n",
    "        super().__init__()\n",
    "        if p < 0 or p > 1:\n",
    "            raise ValueError(\n",
    "                f\"Dropout probability has to be between 0 and 1, but got {p}\")\n",
    "        self.p = p\n",
    "\n",
    "    def forward(self, X):\n",
    "        if self.training:\n",
    "            keep = torch.rand(X.size()) > self.p\n",
    "            if X.is_cuda:\n",
    "                keep = keep.to(DEVICE)\n",
    "            return X * keep / (1 - self.p)\n",
    "        return X  # in test time, expectation is calculated intrinsically - we just not divide weights"
   ]
  },
  {
   "cell_type": "markdown",
   "metadata": {},
   "source": [
    "Попробуем засунуть Dropout в нашу нейросеть"
   ]
  },
  {
   "cell_type": "code",
   "execution_count": null,
   "metadata": {},
   "outputs": [],
   "source": [
    "class SimpleMNIST_NN_Dropout(nn.Module):\n",
    "    def __init__(self,\n",
    "                 n_layers,\n",
    "                 activation=nn.Sigmoid,\n",
    "                 init_form=\"normal\"):\n",
    "        super().__init__()\n",
    "        self.n_layers = n_layers\n",
    "        self.activation = activation()\n",
    "        layers = [nn.Linear(28 * 28, 100), self.activation]\n",
    "        for _ in range(0, n_layers - 1):\n",
    "            layers.append(nn.Linear(100, 100))\n",
    "            layers.append(Dropout())\n",
    "            layers.append(self.activation)\n",
    "        layers.append(nn.Linear(100, 10))\n",
    "        self.layers = nn.Sequential(*layers)\n",
    "        self.init_form = init_form\n",
    "        if self.init_form is not None:\n",
    "            self.init()\n",
    "        if not isinstance(self.activation, nn.Sigmoid):\n",
    "            raise NotImplementedError()\n",
    "\n",
    "    def forward(self, x, predict_proba=False):\n",
    "        x = x.view(-1, 28 * 28)\n",
    "        x = self.layers(x)\n",
    "        if predict_proba:\n",
    "            x = F.softmax(x)\n",
    "        return x\n",
    "\n",
    "    def init(self):\n",
    "        sigmoid_gain = torch.nn.init.calculate_gain(\"sigmoid\")\n",
    "        for child in self.layers.children():\n",
    "            if isinstance(child, nn.Linear):\n",
    "                if self.init_form == \"normal\":\n",
    "                    torch.nn.init.xavier_normal_(child.weight,\n",
    "                                                 gain=sigmoid_gain)\n",
    "                    if child.bias is not None:\n",
    "                        torch.nn.init.zeros_(child.bias)\n",
    "                elif self.init_form == \"uniform\":\n",
    "                    torch.nn.init.xavier_uniform_(child.weight,\n",
    "                                                  gain=sigmoid_gain)\n",
    "                    if child.bias is not None:\n",
    "                        torch.nn.init.zeros_(child.bias)\n",
    "                else:\n",
    "                    raise NotImplementedError()"
   ]
  },
  {
   "cell_type": "markdown",
   "metadata": {},
   "source": [
    "Так как наша модель из-за Dropout ведет себя по-разному во время обучения и во время тестирования, то мы должны прямо ей сообщать, обучается она сейчас или нет. Делается это при помощи функций model.train и model.eval"
   ]
  },
  {
   "cell_type": "code",
   "execution_count": null,
   "metadata": {},
   "outputs": [],
   "source": [
    "def train_model_sep(model, writer, optimizer):\n",
    "    criterion = nn.CrossEntropyLoss().to(DEVICE)\n",
    "\n",
    "    train_steper = Steper()\n",
    "    test_steper = Steper()\n",
    "\n",
    "    for epoch in tqdm(range(5)):\n",
    "        model.train()\n",
    "        train_epoch(model,\n",
    "                    optimizer,\n",
    "                    criterion,\n",
    "                    train_loader,\n",
    "                    \"cross_entropy\",\n",
    "                    train_steper,\n",
    "                    writer)\n",
    "        model.eval()\n",
    "        validate(model,\n",
    "                 criterion,\n",
    "                 test_loader,\n",
    "                 \"cross_entropy\",\n",
    "                 test_steper,\n",
    "                 writer)"
   ]
  },
  {
   "cell_type": "code",
   "execution_count": null,
   "metadata": {},
   "outputs": [],
   "source": [
    "def train_dropout():\n",
    "    model = SimpleMNIST_NN_Dropout(n_layers=3).to(DEVICE)\n",
    "    optimizer = optim.SGD(model.parameters(), lr=0.001)\n",
    "    writer = get_summary_writer(\"nn3_dropout\")\n",
    "    \n",
    "    train_model_sep(model, writer, optimizer)"
   ]
  },
  {
   "cell_type": "code",
   "execution_count": null,
   "metadata": {},
   "outputs": [],
   "source": [
    "train_dropout()"
   ]
  },
  {
   "cell_type": "markdown",
   "metadata": {},
   "source": [
    "В данном случае выигрыша мы не получили. Возможно, если учить нейросеть больше эпох, эффект бы заметили"
   ]
  },
  {
   "cell_type": "markdown",
   "metadata": {},
   "source": [
    "## Пример борьбы с переобучением при помощи Dropout\n",
    " "
   ]
  },
  {
   "cell_type": "markdown",
   "metadata": {},
   "source": [
    "Чтобы увидеть эффект, и при этом не учить нейросеть 100+ эпох, сделаем искуственный пример.\n",
    "\n",
    "Просто добавим к линейной зависимости шум и попробуем выучить ее нейронной сетью."
   ]
  },
  {
   "cell_type": "code",
   "execution_count": null,
   "metadata": {},
   "outputs": [],
   "source": [
    "# https://towardsdatascience.com/batch-normalization-and-dropout-in-neural-networks-explained-with-pytorch-47d7a8459bcd\n",
    "N = 50  # number of data points\n",
    "noise = 0.3\n",
    "\n",
    "# generate the train data\n",
    "X_train = torch.unsqueeze(torch.linspace(-1, 1, N), 1)\n",
    "Y_train = X_train + noise * torch.normal(torch.zeros(N, 1), torch.ones(N, 1))\n",
    "\n",
    "# generate the test data\n",
    "X_test = torch.unsqueeze(torch.linspace(-1, 1, N), 1)\n",
    "Y_test = X_test + noise * torch.normal(torch.zeros(N, 1), torch.ones(N, 1))"
   ]
  },
  {
   "cell_type": "code",
   "execution_count": null,
   "metadata": {},
   "outputs": [],
   "source": [
    "plt.scatter(X_train.data.numpy(), Y_train.data.numpy(),\n",
    "            c='purple', alpha=0.5, label='train')\n",
    "plt.scatter(X_test.data.numpy(), Y_test.data.numpy(),\n",
    "            c='yellow', alpha=0.5, label='test')\n",
    "\n",
    "x_real = np.arange(-1, 1, 0.01)\n",
    "y_real = x_real\n",
    "plt.plot(x_real, y_real, c=\"green\", label='true')\n",
    "plt.legend()\n",
    "plt.show()"
   ]
  },
  {
   "cell_type": "markdown",
   "metadata": {},
   "source": [
    "Модель без дропаут"
   ]
  },
  {
   "cell_type": "code",
   "execution_count": null,
   "metadata": {},
   "outputs": [],
   "source": [
    "N_h = 100\n",
    "model = torch.nn.Sequential(\n",
    "    torch.nn.Linear(1, N_h),\n",
    "    torch.nn.ReLU(),\n",
    "    torch.nn.Linear(N_h, N_h),\n",
    "    torch.nn.ReLU(),\n",
    "    torch.nn.Linear(N_h, 1),\n",
    ")\n",
    "opt = torch.optim.Adam(model.parameters(), lr=0.01)"
   ]
  },
  {
   "cell_type": "markdown",
   "metadata": {},
   "source": [
    "Модель с дропаут"
   ]
  },
  {
   "cell_type": "code",
   "execution_count": null,
   "metadata": {},
   "outputs": [],
   "source": [
    "N_h = 100\n",
    "\n",
    "model_dropout = nn.Sequential(\n",
    "    nn.Linear(1, N_h),\n",
    "    nn.Dropout(0.5),  # 50 % probability\n",
    "    nn.ReLU(),\n",
    "    torch.nn.Linear(N_h, N_h),\n",
    "    nn.Dropout(0.2),  # 20% probability\n",
    "    nn.ReLU(),\n",
    "    torch.nn.Linear(N_h, 1),\n",
    ")\n",
    "opt_dropout = torch.optim.Adam(model_dropout.parameters(), lr=0.01)\n",
    "loss_fn = torch.nn.MSELoss()"
   ]
  },
  {
   "cell_type": "code",
   "execution_count": null,
   "metadata": {},
   "outputs": [],
   "source": [
    "max_epochs = 1500\n",
    "\n",
    "for epoch in range(max_epochs):\n",
    "\n",
    "    pred = model(X_train)  # look at the entire data in a single shot\n",
    "    loss = loss_fn(pred, Y_train)\n",
    "    opt.zero_grad()\n",
    "    loss.backward()\n",
    "    opt.step()\n",
    "\n",
    "    pred_dropout = model_dropout(X_train)\n",
    "    loss_dropout = loss_fn(pred_dropout, Y_train)\n",
    "    opt_dropout.zero_grad()\n",
    "    loss_dropout.backward()\n",
    "    opt_dropout.step()\n",
    "\n",
    "    if epoch % 100 == 0:\n",
    "\n",
    "        model.eval()\n",
    "        model_dropout.eval()\n",
    "\n",
    "        test_pred = model(X_test)\n",
    "        test_loss = loss_fn(test_pred, Y_test)\n",
    "\n",
    "        test_pred_dropout = model_dropout(X_test)\n",
    "        test_loss_dropout = loss_fn(test_pred_dropout, Y_test)\n",
    "\n",
    "        plt.scatter(X_train.data.numpy(), Y_train.data.numpy(),\n",
    "                    c='purple', alpha=0.5, label='train')\n",
    "        plt.scatter(X_test.data.numpy(), Y_test.data.numpy(),\n",
    "                    c='yellow', alpha=0.5, label='test')\n",
    "        plt.plot(X_test.data.numpy(), test_pred.data.numpy(),\n",
    "                 'r-', lw=3, label='normal')\n",
    "        plt.plot(X_test.data.numpy(), test_pred_dropout.data.numpy(),\n",
    "                 'b--', lw=3,  label='dropout')\n",
    "\n",
    "        plt.title('Epoch %d, Loss = %0.4f, Loss with dropout = %0.4f' %\n",
    "                  (epoch, test_loss, test_loss_dropout))\n",
    "\n",
    "        plt.legend()\n",
    "\n",
    "        model.train()\n",
    "        model_dropout.train()\n",
    "\n",
    "        plt.pause(0.05)"
   ]
  },
  {
   "cell_type": "markdown",
   "metadata": {},
   "source": [
    "Видим, что нейросеть без dropout сильно переобучилась."
   ]
  },
  {
   "cell_type": "markdown",
   "metadata": {},
   "source": [
    "## Dropconnect"
   ]
  },
  {
   "cell_type": "markdown",
   "metadata": {},
   "source": [
    "Будем занулять не нейроны, а веса. Фактически - для каждого батча обрубаем часть связей между нейронами."
   ]
  },
  {
   "cell_type": "markdown",
   "metadata": {},
   "source": [
    "<img src =\"http://edunet.kea.su/repo/src/L07_Batch_normalization/img_license/dropconnect.png\" width=\"650\">"
   ]
  },
  {
   "cell_type": "markdown",
   "metadata": {},
   "source": [
    "Drop Connect случайным образом отбрасывая веса, а не активации с вероятностью *p*.\n",
    "\n",
    "DropConnect похож на Dropout, поскольку он вводит динамическую разреженность в модель, но отличается тем, что разреженность зависит от весов *W*, а не от выходных векторов слоя. Другими словами, полностью связанный слой с DropConnect становится разреженно связанным слоем, в котором соединения выбираются случайным образом на этапе обучения. "
   ]
  },
  {
   "cell_type": "markdown",
   "metadata": {},
   "source": [
    "В принципе, вариантов зануления чего-то в нейросетке можно предложить великое множество, в разных ситуациях будут работать разные ([в этом списке](https://paperswithcode.com/methods/category/regularization)  много Drop...)"
   ]
  },
  {
   "cell_type": "markdown",
   "metadata": {},
   "source": [
    "## DropBlock\n",
    "\n",
    "Например, можно убирать для каждого батча из нейросети случайные блоки из слоев. И это будет работать!"
   ]
  },
  {
   "cell_type": "markdown",
   "metadata": {},
   "source": [
    "<img src =\"http://edunet.kea.su/repo/src/L07_Batch_normalization/img/dropblock.png\" width=\"700\">"
   ]
  },
  {
   "cell_type": "markdown",
   "metadata": {},
   "source": [
    "[ссылка](https://medium.datadriveninvestor.com/the-next-big-thing-in-image-classification-self-training-with-noisy-student-for-improving-22d52dc74dda)"
   ]
  },
  {
   "cell_type": "markdown",
   "metadata": {},
   "source": [
    "# Нормализация"
   ]
  },
  {
   "cell_type": "markdown",
   "metadata": {},
   "source": [
    "## Нормализация входных данных"
   ]
  },
  {
   "cell_type": "markdown",
   "metadata": {},
   "source": [
    "Представим себе, что данные, которые мы подаем в нейросеть, распределены следующщим образом"
   ]
  },
  {
   "cell_type": "markdown",
   "metadata": {},
   "source": [
    "<img src =\"http://edunet.kea.su/repo/src/L07_Batch_normalization/img/no_normalization.png\" width=\"400\">"
   ]
  },
  {
   "cell_type": "markdown",
   "metadata": {},
   "source": [
    "Фактически нейросети работают со скалярными произведениями. В этом плане две вектора, изображенных на рисунке, не сильно отличаются. Так же и точки нашего датасета слабо разделимы. Чтобы с этим работать, нейросеть сначала должна подобрать удобное преобразование, а затем только сравнивать наши объекты. Понятно, это усложняют задачу. \n",
    "\n",
    "Для того, чтобы облегчить нейросети задачу, входные признаки часто нормируют:\n",
    "\n",
    "$$x1' = \\dfrac {x1 - \\mu_{x1}} {\\sigma_{x1}}$$\n",
    "$$x2' = \\dfrac {x2 - \\mu_{x2}} {\\sigma_{x2}}$$"
   ]
  },
  {
   "cell_type": "markdown",
   "metadata": {},
   "source": [
    "<img src =\"http://edunet.kea.su/repo/src/L07_Batch_normalization/img/normalization.png\" width=\"450\">\n"
   ]
  },
  {
   "cell_type": "markdown",
   "metadata": {},
   "source": [
    " Такое преобразование действительно помогает нейросети "
   ]
  },
  {
   "cell_type": "markdown",
   "metadata": {},
   "source": [
    "<img src =\"http://edunet.kea.su/repo/src/L07_Batch_normalization/img/search_space.png\" width=\"700\">\n"
   ]
  },
  {
   "cell_type": "markdown",
   "metadata": {},
   "source": [
    "[ссылка](https://www.deeplearning.ai)"
   ]
  },
  {
   "cell_type": "markdown",
   "metadata": {},
   "source": [
    "## Covariate shift"
   ]
  },
  {
   "cell_type": "markdown",
   "metadata": {},
   "source": [
    "Covariate shift - явление, когда признаки тренировочной выборки и тестовой по-разному распределены."
   ]
  },
  {
   "cell_type": "markdown",
   "metadata": {},
   "source": [
    "<img src =\"http://edunet.kea.su/repo/src/L07_Batch_normalization/img/covariate_shift.png\" width=\"300\">"
   ]
  },
  {
   "cell_type": "markdown",
   "metadata": {},
   "source": [
    "В такой ситуации модель не в состоянии делать адекватные предсказания на тесте, так как не видела области пространства, в которой расположены тестовые объекты"
   ]
  },
  {
   "cell_type": "markdown",
   "metadata": {},
   "source": [
    "<img src =\"http://edunet.kea.su/repo/src/L07_Batch_normalization/img/covariate_shift2.png\" width=\"300\">"
   ]
  },
  {
   "cell_type": "markdown",
   "metadata": {},
   "source": [
    "## Internal covariate shift\n",
    "\n",
    "Похожее явление может иметь место уже внутри нейросети\n",
    "\n",
    "Пусть у нас iй слой переводит выдачу i-1 в новое пространство. "
   ]
  },
  {
   "cell_type": "markdown",
   "metadata": {},
   "source": [
    "<img src =\"http://edunet.kea.su/repo/src/L07_Batch_normalization/img/internal_covariate_shift.png\" width=\"500\">"
   ]
  },
  {
   "cell_type": "markdown",
   "metadata": {},
   "source": [
    "В конце нейросеть делает предсказание, считается лосс, делается обратное распространение ошибки и обновляются веса. "
   ]
  },
  {
   "cell_type": "markdown",
   "metadata": {},
   "source": [
    "<img src =\"http://edunet.kea.su/repo/src/L07_Batch_normalization/img/internal_covariate_shift2.png\" width=\"500\">"
   ]
  },
  {
   "cell_type": "markdown",
   "metadata": {},
   "source": [
    "После этого возникает нехорошая ситуация - распределение выходов i-1 слоя поменялось, а i-й слой изменял веса, думая, что распределение выходов не изменилось"
   ]
  },
  {
   "cell_type": "markdown",
   "metadata": {},
   "source": [
    "<img src =\"http://edunet.kea.su/repo/src/L07_Batch_normalization/img/internal_covariate_shift3.png\" width=\"500\">"
   ]
  },
  {
   "cell_type": "markdown",
   "metadata": {},
   "source": [
    "## Плохой вариант борьбы с этим"
   ]
  },
  {
   "cell_type": "markdown",
   "metadata": {},
   "source": [
    "Давайте на каждом слое просто нормировать каждый признак, используя среднее и дисперсию по батчу\n",
    "\n",
    "$$\\tilde{x}_i^j = \\dfrac {x_i^j - Ex^j} {\\sqrt{Dx^j}}$$\n",
    "\n",
    "\n"
   ]
  },
  {
   "cell_type": "markdown",
   "metadata": {},
   "source": [
    "Проблема в том, что таким образом мы можем попасть в область линейной составляющей нашей функции. Например, в случае сигмоиды "
   ]
  },
  {
   "cell_type": "markdown",
   "metadata": {},
   "source": [
    "<img src =\"http://edunet.kea.su/repo/src/L07_Batch_normalization/img_license/lin_sigmoid.png\" width=\"500\">"
   ]
  },
  {
   "cell_type": "markdown",
   "metadata": {},
   "source": [
    "Получаем набор линейных слоев фактически без функций активации -> все вырождается в однослойную сеть. Не то что нам надо"
   ]
  },
  {
   "cell_type": "markdown",
   "metadata": {},
   "source": [
    "## BatchNormalization"
   ]
  },
  {
   "cell_type": "markdown",
   "metadata": {},
   "source": [
    "Нам надо дать нейросетке возможность перемещать распределение слоя из области 0 и самой подбирать дисперсию "
   ]
  },
  {
   "cell_type": "markdown",
   "metadata": {},
   "source": [
    "<img src =\"http://edunet.kea.su/repo/src/L07_Batch_normalization/img_license/nn_example.png\" width=\"800\">\n"
   ]
  },
  {
   "cell_type": "markdown",
   "metadata": {},
   "source": [
    "$$\\tilde{x}_i^j = \\dfrac {x_i^j - Ex^j} {\\sqrt{Dx^j}}$$\n",
    "\n"
   ]
  },
  {
   "cell_type": "markdown",
   "metadata": {},
   "source": [
    "$$\\hat{x_i^j} = \\gamma^j\\tilde{x}_i^j + \\beta^j$$"
   ]
  },
  {
   "cell_type": "markdown",
   "metadata": {},
   "source": [
    "Фактически, теперь нейросеть даже может отменить нормализацию, если считает ее ненужной."
   ]
  },
  {
   "cell_type": "markdown",
   "metadata": {},
   "source": [
    "### Скользящее среднее"
   ]
  },
  {
   "cell_type": "markdown",
   "metadata": {},
   "source": [
    "Во время предсказания батч у нас уже отсутствует - откуда брать матожидание и дисперсию? \n",
    "\n",
    "1. Можно посчитать по всей обучающей выборке - не всегда удобно, долго\n",
    "2. Считать скользящее среднее во время обучения\n",
    "\n",
    "$$E^j_{k+1} = (1 - \\alpha)E^j_k + \\alpha E^j_{batch}$$\n",
    "\n",
    "Используем обычно $\\alpha = 0.1$\n",
    "\n",
    "Аналогично считаем дисперсию "
   ]
  },
  {
   "cell_type": "markdown",
   "metadata": {},
   "source": [
    "### Защита от нулей в знаменателе\n",
    "\n",
    "Чтобы у нас не мог возникнуть 0 в знаменателе, добавляем маленькое чиссло - $\\epsilon$. Например, равное 1e-5\n",
    "\n",
    "\n",
    "$$\\tilde{x}_i^j = \\dfrac {x_i^j - Ex^j} {\\sqrt{Dx^j + \\epsilon}}$$\n",
    "\n",
    "$$\\hat{x_i^j} = \\gamma^j\\tilde{x}_i^j + \\beta^j$$"
   ]
  },
  {
   "cell_type": "markdown",
   "metadata": {},
   "source": [
    "### Линейный слои и конволюции\n",
    "\n",
    "Слой конволюции можно свести к линейному слою с очень жесткими ограничениями на веса. Поэтому неудивительно, что BatchNorm можно применять и для линейных слоев и для конволюций. \n",
    "\n",
    "С конволюциями есть единственный нюанс - у нас \"одним признаком\" считается вся получаемая **feature map**. "
   ]
  },
  {
   "cell_type": "markdown",
   "metadata": {},
   "source": [
    "<img src =\"http://edunet.kea.su/repo/src/L07_Batch_normalization/img_license/feature_map.png\" width=\"500\">"
   ]
  },
  {
   "cell_type": "markdown",
   "metadata": {},
   "source": [
    "И нормализация идет по всей такой feature map (по всему каналу) для всех объектов. "
   ]
  },
  {
   "cell_type": "markdown",
   "metadata": {},
   "source": [
    "### Пример работы"
   ]
  },
  {
   "cell_type": "markdown",
   "metadata": {},
   "source": [
    "Этот метод действительно работает. \n",
    "Видим, что нейросети с батчнормализацией:\n",
    "\n",
    "1. Сходятся быстрее, чем нейросети без \n",
    "2. Могут работать с более высоким начальным learning rate, причем это позволяет достигать лучших результатов\n",
    "3. BatchNorm позволяет глубокой нейросетке работать даже с функцией активации в виде сигмоиды. Без батчнорма такая сеть не обучилась бы вовсе. "
   ]
  },
  {
   "cell_type": "markdown",
   "metadata": {},
   "source": [
    "<img src =\"http://edunet.kea.su/repo/src/L07_Batch_normalization/img_license/batchnorm_work.png\" width=\"550\">\n"
   ]
  },
  {
   "cell_type": "markdown",
   "metadata": {},
   "source": [
    "### Градиент"
   ]
  },
  {
   "cell_type": "markdown",
   "metadata": {},
   "source": [
    "Вычисление градиента batchnorm - интересное упражнение на понимание того, как работает backpropagation. В лекции мы это опускаем, можете ознакомиться самостоятельно\n",
    "\n",
    "[Вывод градиентов для весов слоя BatchNorm](https://kevinzakka.github.io/2016/09/14/batch_normalization/)\n",
    "\n"
   ]
  },
  {
   "cell_type": "markdown",
   "metadata": {},
   "source": [
    "<img src =\"http://edunet.kea.su/repo/src/L07_Batch_normalization/img/lecture-20.png\" width=\"700\">"
   ]
  },
  {
   "cell_type": "markdown",
   "metadata": {},
   "source": [
    "[ссылка](http://cs231n.stanford.edu/2020/syllabus.html)"
   ]
  },
  {
   "cell_type": "markdown",
   "metadata": {},
   "source": [
    "## Batchnorm как регуляризация"
   ]
  },
  {
   "cell_type": "markdown",
   "metadata": {},
   "source": [
    "Почему для нейросети с батчнормализацией можно использовать более высокие learning rate? \n",
    "\n",
    " "
   ]
  },
  {
   "cell_type": "markdown",
   "metadata": {},
   "source": [
    "Оказывается, батчнормализация делает неявную регуляризацию на веса."
   ]
  },
  {
   "cell_type": "markdown",
   "metadata": {},
   "source": [
    "Допустим, мы решили увеличить веса в $a$ раз"
   ]
  },
  {
   "cell_type": "markdown",
   "metadata": {},
   "source": [
    "Так как мы шкалируем, то домножение весов W на константу выходных значений слоя не меняет\n",
    "\n",
    "$$BN((aW)u) = BN(Wu)$$"
   ]
  },
  {
   "cell_type": "markdown",
   "metadata": {},
   "source": [
    "Градиент слоя по входу не меняется\n",
    "\n",
    "$$\\dfrac {\\delta BN((aW)u)} {\\delta u} = \\dfrac {\\delta BN(Wu)} {\\delta u}$$"
   ]
  },
  {
   "cell_type": "markdown",
   "metadata": {},
   "source": [
    "А градиент по весам уменьшается в a раз\n",
    "\n",
    "$$\\dfrac {\\delta BN((aW)u)} {\\delta aW} = \\dfrac 1 a \\dfrac {\\delta BN(Wu)} {\\delta W} $$"
   ]
  },
  {
   "cell_type": "markdown",
   "metadata": {},
   "source": [
    "Таким образом нейросеть автоматически не дает большим весам расти"
   ]
  },
  {
   "cell_type": "markdown",
   "metadata": {},
   "source": [
    "## Internal covariate shift?\n",
    "\n",
    "Согласно некоторым исследованиям ([например](https://arxiv.org/abs/1805.11604)), успех BatchNormalization не заключается в исправлении covariate shift. \n",
    "\n",
    "BatchNormalization работает как-то иначе, улучшая гладкость пространства решений и облегчает поиск в нем минимума."
   ]
  },
  {
   "cell_type": "markdown",
   "metadata": {},
   "source": [
    "<img src =\"http://edunet.kea.su/repo/src/L07_Batch_normalization/img/batchnorm_smooth.png\" width=\"700\">"
   ]
  },
  {
   "cell_type": "markdown",
   "metadata": {},
   "source": [
    "## Tips"
   ]
  },
  {
   "cell_type": "markdown",
   "metadata": {},
   "source": [
    "Стоит помнить, что с батч-нормализацией:\n",
    "\n",
    "* **Крайне важно** перемешивать объекты (составлять новые батчи) между эпохами. Единицей обучения параметров $\\beta$ и $\\gamma$ являются батчи. Если их не перемешивать, то из 6400 объектов в тренировочном датасете получим лишь 100 объектов для обучения $\\beta$ и $\\gamma$\n",
    "\n",
    "* В слое, после которого поставили BatchNormalization, надо убрать смещения (параметр $\\beta$ в BatchNormalization берет эту роль сам по себе)\n",
    "\n",
    "\n",
    "* Другое расписание learning rate: бОльшее значение в начале обучения и быстрое уменьшение в процессе обучения\n",
    "\n",
    "* Если используем BatchNormalization, то надо уменьшить силу Dropout и L2-регуляризации\n",
    "\n",
    "* Чем меньше размер батча в обучении, тем хуже будет работать BatchNormalization"
   ]
  },
  {
   "cell_type": "markdown",
   "metadata": {},
   "source": [
    "<img src =\"http://edunet.kea.su/repo/src/L07_Batch_normalization/img_license/batchnorm_batch.png\" width=\"550\">"
   ]
  },
  {
   "cell_type": "markdown",
   "metadata": {},
   "source": [
    "## Используем BatchNormalization"
   ]
  },
  {
   "cell_type": "code",
   "execution_count": null,
   "metadata": {},
   "outputs": [],
   "source": [
    "class SimpleMNIST_NN_Init_Batchnorm(nn.Module):\n",
    "    def __init__(self, n_layers):\n",
    "        super().__init__()\n",
    "        self.n_layers = n_layers\n",
    "        layers = [nn.Linear(28 * 28, 100, bias=False),\n",
    "                  nn.BatchNorm1d(100),\n",
    "                  nn.Sigmoid()]\n",
    "        for _ in range(0, n_layers - 1):\n",
    "            layers.append(nn.Linear(100, 100, bias=False))\n",
    "            layers.append(nn.BatchNorm1d(100))\n",
    "            layers.append(nn.Sigmoid())\n",
    "        layers.append(nn.Linear(100, 10))\n",
    "        self.layers = nn.Sequential(*layers)\n",
    "        self.init()\n",
    "\n",
    "    def forward(self, x, predict_proba=False):\n",
    "        x = x.view(-1, 28 * 28)\n",
    "        x = self.layers(x)\n",
    "        if predict_proba:\n",
    "            x = F.softmax(x)\n",
    "        return x\n",
    "\n",
    "    def init(self):\n",
    "        sigmoid_gain = torch.nn.init.calculate_gain(\"sigmoid\")\n",
    "        for child in self.layers.children():\n",
    "            if isinstance(child, nn.Linear):\n",
    "                torch.nn.init.xavier_normal_(child.weight,\n",
    "                                             gain=sigmoid_gain)\n",
    "                if child.bias is not None:\n",
    "                    torch.nn.init.zeros_(child.bias)"
   ]
  },
  {
   "cell_type": "code",
   "execution_count": null,
   "metadata": {},
   "outputs": [],
   "source": [
    "def train_init_bachnorm():\n",
    "    model = SimpleMNIST_NN_Init_Batchnorm(n_layers=3).to(DEVICE)\n",
    "    optimizer = optim.SGD(model.parameters(), lr=1e-4)\n",
    "    writer = get_summary_writer(\"batchnorm2\")\n",
    "    register_model_hooks(model, writer)\n",
    "    train_model_sep(model, writer, optimizer)"
   ]
  },
  {
   "cell_type": "code",
   "execution_count": null,
   "metadata": {},
   "outputs": [],
   "source": [
    "train_init_bachnorm()"
   ]
  },
  {
   "cell_type": "markdown",
   "metadata": {},
   "source": [
    "И попробуем, согласно советам, увеличить learning rate"
   ]
  },
  {
   "cell_type": "code",
   "execution_count": null,
   "metadata": {},
   "outputs": [],
   "source": [
    "def train_increased_lr():\n",
    "    model = SimpleMNIST_NN_Init_Batchnorm(n_layers=3).to(DEVICE)\n",
    "    optimizer = optim.SGD(model.parameters(), lr=1e-2)\n",
    "    writer = get_summary_writer(\"batchnorm_increased_lr\")\n",
    "    register_model_hooks(model, writer)\n",
    "    train_model_sep(model, writer, optimizer)"
   ]
  },
  {
   "cell_type": "code",
   "execution_count": null,
   "metadata": {},
   "outputs": [],
   "source": [
    "train_increased_lr()"
   ]
  },
  {
   "cell_type": "markdown",
   "metadata": {},
   "source": [
    "## Другие Normalization\n",
    "\n",
    "[Множество их](https://paperswithcode.com/methods/category/normalization)"
   ]
  },
  {
   "cell_type": "markdown",
   "metadata": {},
   "source": [
    "<img src =\"http://edunet.kea.su/repo/src/L07_Batch_normalization/img/normalization_methods.png\" width=\"900\">"
   ]
  },
  {
   "cell_type": "markdown",
   "metadata": {},
   "source": [
    "[ссылка](https://paperswithcode.com/method/layer-normalization)"
   ]
  },
  {
   "cell_type": "markdown",
   "metadata": {},
   "source": [
    "Чаще всего нормализации тестируют на изображениях в том числе или только на изображениях. Потому их графически объясняют при помощи следующей схемы:"
   ]
  },
  {
   "cell_type": "markdown",
   "metadata": {},
   "source": [
    "<img src =\"http://edunet.kea.su/repo/src/L07_Batch_normalization/img/notation_3d_tensor_viz.png\" width=\"350\">"
   ]
  },
  {
   "cell_type": "markdown",
   "metadata": {},
   "source": [
    "По одной оси - каналы (feature maps), по второй - объекты из батча, а по третье feature map, reshapeнутого в одномерный вектор "
   ]
  },
  {
   "cell_type": "markdown",
   "metadata": {},
   "source": [
    "В этой терминологии BatchNorm выглядит следующим образом"
   ]
  },
  {
   "cell_type": "markdown",
   "metadata": {},
   "source": [
    "<img src =\"http://edunet.kea.su/repo/src/L07_Batch_normalization/img/batch_norm_3d.png\" width=\"350\">"
   ]
  },
  {
   "cell_type": "markdown",
   "metadata": {},
   "source": [
    "### Layer Norm\n",
    "\n",
    "Нормализуем активации не вдоль объектов, а вдоль признаков, для каждого объекта индивидуально. Хорошо работает для рекуррентных нейронных сетей"
   ]
  },
  {
   "cell_type": "markdown",
   "metadata": {},
   "source": [
    "<img src =\"http://edunet.kea.su/repo/src/L07_Batch_normalization/img/layer_norm_3d.png\" width=\"350\">\n"
   ]
  },
  {
   "cell_type": "markdown",
   "metadata": {},
   "source": [
    "### Instance Norm\n",
    "\n",
    "При пакетной нормализации происходит усреднение параметров по всему пакету. Например, в случае задачи переноса стилей картин, это вносит много шума. При усреднении теряются индивидуальные характеристики объектов. Поэтому используется более тонкая нормализация — индивидуальная нормализация (англ. instance normalization) (по каналу, но только для данного объекта)"
   ]
  },
  {
   "cell_type": "markdown",
   "metadata": {},
   "source": [
    "<img src =\"http://edunet.kea.su/repo/src/L07_Batch_normalization/img/instance_norm_3d.png\" width=\"350\">"
   ]
  },
  {
   "cell_type": "markdown",
   "metadata": {},
   "source": [
    "### GroupNorm\n",
    "\n",
    "Нормализуем активации по группам каналов (**feature_map**), как и в BatchNorm, но только для данного объекта.\n",
    "\n",
    "Эффективен в случае, когда у нас батчи маленького размера (именно его мы сравнивали с обычной батч-нормализацией выше)"
   ]
  },
  {
   "cell_type": "markdown",
   "metadata": {},
   "source": [
    "<img src =\"http://edunet.kea.su/repo/src/L07_Batch_normalization/img/group_normalization_3d.png\" width=\"350\">"
   ]
  },
  {
   "cell_type": "markdown",
   "metadata": {},
   "source": [
    "## Weights standartization 3d\n",
    "\n",
    "Будем нормализовать **веса** каждого выходного слоя отдельно. \n",
    "Это в теории улучшает ландшафт, в котором мы ищем минимум функции потерь.\n",
    "Обратите внимание, что здесь оси другие"
   ]
  },
  {
   "cell_type": "markdown",
   "metadata": {},
   "source": [
    "<img src =\"http://edunet.kea.su/repo/src/L07_Batch_normalization/img/weight_standartization3d.png\" width=\"350\">"
   ]
  },
  {
   "cell_type": "markdown",
   "metadata": {},
   "source": [
    "За счет замены BatchNorm в популярной архитектуре ResNet на GroupNorm и Weights standartization была получена нейросеть, которую легко можно было адаптировать к разным задачам "
   ]
  },
  {
   "cell_type": "markdown",
   "metadata": {},
   "source": [
    "<img src =\"http://edunet.kea.su/repo/src/L07_Batch_normalization/img/resnet_modified.gif\" width=\"350\">"
   ]
  },
  {
   "cell_type": "markdown",
   "metadata": {},
   "source": [
    "## Ставить BatchNormalization до или после активации?\n",
    "\n"
   ]
  },
  {
   "cell_type": "markdown",
   "metadata": {},
   "source": [
    "### До"
   ]
  },
  {
   "cell_type": "markdown",
   "metadata": {},
   "source": [
    "\n",
    "<img src =\"http://edunet.kea.su/repo/src/L07_Batch_normalization/img_license/bn_act.png\" width=\"350\">"
   ]
  },
  {
   "cell_type": "markdown",
   "metadata": {},
   "source": [
    "* Рекомендуется авторами статьи, где предложили Batch Normalization\n",
    "* Для сигмоиды, BN, поставленная после активации, не решает проблем сигмоиды"
   ]
  },
  {
   "cell_type": "markdown",
   "metadata": {},
   "source": [
    "### После"
   ]
  },
  {
   "cell_type": "markdown",
   "metadata": {},
   "source": [
    "<img src =\"http://edunet.kea.su/repo/src/L07_Batch_normalization/img_license/act_bn.png\" width=\"400\">"
   ]
  },
  {
   "cell_type": "markdown",
   "metadata": {},
   "source": [
    "* Аргументация авторов статьи не до конца обоснованна\n",
    "* Обычно, сигмоиду не используют в современных нейронных сетях\n",
    "* Для популярной ReLU, BN, поставленная до активации может приводить к “умирающей ReLU”, когда большая часть ее входов меньше 0 и потому для них градиент не проходит\n",
    "* На многих задачах BN после функции активации работает лучше или не хуже поставленной до"
   ]
  },
  {
   "cell_type": "markdown",
   "metadata": {},
   "source": [
    "<img src =\"http://edunet.kea.su/repo/src/L07_Batch_normalization/img/bn_relu.png\" width=\"500\">"
   ]
  },
  {
   "cell_type": "markdown",
   "metadata": {},
   "source": [
    "[ссылка](https://github.com/ducha-aiki/caffenet-benchmark/blob/master/batchnorm.md)"
   ]
  },
  {
   "cell_type": "markdown",
   "metadata": {},
   "source": [
    "## Ставить BatchNormalization до или после Dropout?...\n",
    "\n"
   ]
  },
  {
   "cell_type": "markdown",
   "metadata": {},
   "source": [
    "### До"
   ]
  },
  {
   "cell_type": "markdown",
   "metadata": {},
   "source": [
    "<img src =\"http://edunet.kea.su/repo/src/L07_Batch_normalization/img_license/bn_before.png\" width=\"500\">"
   ]
  },
  {
   "cell_type": "markdown",
   "metadata": {},
   "source": [
    "* Меньше влияние (covariate shift) Dropout на Batchnorm\n",
    "\n",
    "### После"
   ]
  },
  {
   "cell_type": "markdown",
   "metadata": {},
   "source": [
    "<img src =\"http://edunet.kea.su/repo/src/L07_Batch_normalization/img_license/bn_after.png\" width=\"500\">"
   ]
  },
  {
   "cell_type": "markdown",
   "metadata": {},
   "source": [
    "* Информация о зануленных активациях не просачивается через среднее и дисперсию батча"
   ]
  },
  {
   "cell_type": "markdown",
   "metadata": {},
   "source": [
    "### Ставить только что-то одно \n",
    "\n",
    "* Dropout может отрицательно влиять на качество нейросети с BatchNorm за счет разного поведения на train и test\n",
    "\n"
   ]
  },
  {
   "cell_type": "markdown",
   "metadata": {},
   "source": [
    "\n",
    "### Строго говоря\n",
    "\n",
    "* Оптимальный порядок следования слоев зависит от задачи и архитектуры сети\n",
    "* Возможно, стоит применять модифицированные версии BatchNorm"
   ]
  },
  {
   "cell_type": "markdown",
   "metadata": {},
   "source": [
    "# Оптимизация весов нейросетей\n",
    "\n",
    "Методов тоже много, расскажем о популярных ([неполный список](https://paperswithcode.com/methods/category/stochastic-optimization))\n",
    "\n",
    "Эти методы реализованы в модуле torch.optim\n",
    "При этом, что важно, подсчет градиентов лосс функции по весам никак не зависит от оптимизаторов из пакета. На прошлых занятиях мы с вами видели, что pytorch вычисляет градиенты автоматически, на основе оптимизаций.\n",
    "\n",
    "### SGD\n",
    "\n",
    "Обычный стохастичный градиентный спуск. Вы его уже реализовывали. \n",
    "Просто обновляем веса в соответствии с текущем градиентом по ним, домножая градиент на постоянный коэффициент $\\eta$"
   ]
  },
  {
   "cell_type": "markdown",
   "metadata": {},
   "source": [
    "<img src =\"http://edunet.kea.su/repo/src/L07_Batch_normalization/img/gradient_descent.gif\" width=\"500\">"
   ]
  },
  {
   "cell_type": "markdown",
   "metadata": {},
   "source": [
    "[ссылка](https://mlfromscratch.com/content/images/2019/12/gradient-descent-optimized.gif)"
   ]
  },
  {
   "cell_type": "markdown",
   "metadata": {},
   "source": [
    "До сих пор является достаточно популярным методом обучения нейросетей, ибо простой, не требует дополнительных параметров кроме $\\eta$, и сам по себе обычно дает не плохие результаты. \n",
    "\n",
    "Если же важна каждая сотая в качестве, то нужно либо использовать его вкупе с другими технологиями (о них - ниже), либо использовать другие способы. "
   ]
  },
  {
   "cell_type": "code",
   "execution_count": null,
   "metadata": {},
   "outputs": [],
   "source": [
    "parameters = torch.randn(10, requires_grad=True)\n",
    "optimizer = optim.SGD([parameters], lr=0.001)"
   ]
  },
  {
   "cell_type": "markdown",
   "metadata": {},
   "source": [
    "Минусы SGD:\n",
    "\n",
    " 1. Если функция ошибки быстро меняется в одном направлении и медленно - в другом, то это приводит к резким изменениям направления  градиентов и замедляет процесс обучения\n"
   ]
  },
  {
   "cell_type": "markdown",
   "metadata": {},
   "source": [
    "<img src =\"http://edunet.kea.su/repo/src/L07_Batch_normalization/img/no-momentum.gif\" width=\"500\">\n"
   ]
  },
  {
   "cell_type": "markdown",
   "metadata": {},
   "source": [
    "[ссылка](https://salmenzouari.medium.com/machine-learning-optimization-methods-mechanics-pros-and-cons-81b720194292)"
   ]
  },
  {
   "cell_type": "markdown",
   "metadata": {},
   "source": [
    " 2. Может застревать в локальных минимумах или седловых точках (точках, где все производные равны 0, но не являющихся минимума/ максимумами). В них градиент равен 0, веса не ообновляются - конец оптимизации. \n",
    "\n",
    "Пример таких точек:\n",
    "\n",
    "\n",
    "Точка 0 у функции $x^3$, не имеющей минимума или максимума вовсе"
   ]
  },
  {
   "cell_type": "markdown",
   "metadata": {},
   "source": [
    "<img src =\"http://edunet.kea.su/repo/src/L07_Batch_normalization/img_license/l7_8.png\" width=\"400\">\n"
   ]
  },
  {
   "cell_type": "markdown",
   "metadata": {},
   "source": [
    "Или точка 0, 0 у функции z = $x^2 - y^2$\n"
   ]
  },
  {
   "cell_type": "markdown",
   "metadata": {},
   "source": [
    "<img src =\"http://edunet.kea.su/repo/src/L07_Batch_normalization/img/saddle_point_x2y2.png\" width=\"400\">\n"
   ]
  },
  {
   "cell_type": "markdown",
   "metadata": {},
   "source": [
    "[ссылка](https://ru.wikipedia.org/wiki/%D0%A1%D0%B5%D0%B4%D0%BB%D0%BE%D0%B2%D0%B0%D1%8F_%D1%82%D0%BE%D1%87%D0%BA%D0%B0#/media/%D0%A4%D0%B0%D0%B9%D0%BB:Saddle_point.png)"
   ]
  },
  {
   "cell_type": "markdown",
   "metadata": {},
   "source": [
    " 3. Так как мы оцениваем градиенты по малой части выборки, они могут плохо отображать градиент по всей выборке и являться шумными. В результате часть шагов градиентного спуска делаются впустую или во вред. \n",
    " \n",
    " 4. Мы применяем один и тот же learning rate ко всем параметрам, что не всегда разумно. Параметр, отвечающий редкому классу, будет обучаться медленнее остальных. \n",
    " \n",
    " 5. Просто медленнее сходится"
   ]
  },
  {
   "cell_type": "markdown",
   "metadata": {},
   "source": [
    "## Momentum\n",
    "\n",
    "Чтобы избежать проблем 1-3, можно использовать momentum - фактически, мы добавляем нашему движению инерции. Если представить наши текущие веса как координаты шарика, и мы этот шарик пытаемся загнать в наиболее глубокую дырку, то у шарика теперь появился вес."
   ]
  },
  {
   "cell_type": "markdown",
   "metadata": {},
   "source": [
    "<img src =\"http://edunet.kea.su/repo/src/L07_Batch_normalization/img/ball_1.gif\" width=\"600\">"
   ]
  },
  {
   "cell_type": "markdown",
   "metadata": {},
   "source": [
    "[ссылка](https://youtu.be/IHZwWFHWa-w)"
   ]
  },
  {
   "cell_type": "markdown",
   "metadata": {},
   "source": [
    "Сначала пытаемся поменять направление движения шарика с прежнего направления с учетом текущего градиента\n",
    "$$v_{t+1} = \\rho v_t + \\nabla_wL(x, y, W)$$\n",
    "\n",
    "Вычисляем, куда он покатится\n",
    "$$w_{t+1} = w_t - \\eta v_{t+1}$$"
   ]
  },
  {
   "cell_type": "markdown",
   "metadata": {},
   "source": [
    "<img src =\"http://edunet.kea.su/repo/src/L07_Batch_normalization/img_license/momentum.png\" width=\"480\">"
   ]
  },
  {
   "cell_type": "code",
   "execution_count": null,
   "metadata": {},
   "outputs": [],
   "source": [
    "parameters = torch.randn(10, requires_grad=True)\n",
    "optimizer = optim.SGD([parameters], momentum=0.9, lr=0.001)"
   ]
  },
  {
   "cell_type": "markdown",
   "metadata": {},
   "source": [
    "Теперь мы быстрее достигаем локального минимума и можем выкатываться из совсем неглубоких. Градиентн стал менее подвержен шуму, меньше асциллирует"
   ]
  },
  {
   "cell_type": "markdown",
   "metadata": {},
   "source": [
    "<img src =\"http://edunet.kea.su/repo/src/L07_Batch_normalization/img/no-momentum.gif\" width=\"400\">"
   ]
  },
  {
   "cell_type": "markdown",
   "metadata": {},
   "source": [
    "[ссылка](https://salmenzouari.medium.com/machine-learning-optimization-methods-mechanics-pros-and-cons-81b720194292)"
   ]
  },
  {
   "cell_type": "markdown",
   "metadata": {},
   "source": [
    "<img src =\"http://edunet.kea.su/repo/src/L07_Batch_normalization/img/momentum.gif\" width=\"400\">"
   ]
  },
  {
   "cell_type": "markdown",
   "metadata": {},
   "source": [
    "[ссылка](https://salmenzouari.medium.com/machine-learning-optimization-methods-mechanics-pros-and-cons-81b720194292)"
   ]
  },
  {
   "cell_type": "markdown",
   "metadata": {},
   "source": [
    "У этого подхода есть одна опасность - мы можем выкатиться за пределы минимума, к которому стремимся, а потом какое-то время к нему возвращаться. "
   ]
  },
  {
   "cell_type": "markdown",
   "metadata": {},
   "source": [
    "<img src =\"http://edunet.kea.su/repo/src/L07_Batch_normalization/img/increasing_momentum.gif\" width=\"700\">"
   ]
  },
  {
   "cell_type": "markdown",
   "metadata": {},
   "source": [
    "[ссылка](https://github.com/Jaewan-Yun/optimizer-visualization)"
   ]
  },
  {
   "cell_type": "markdown",
   "metadata": {},
   "source": [
    "Чтобы с этим бороться, предложен другой способ подсчета момента инерции"
   ]
  },
  {
   "cell_type": "markdown",
   "metadata": {},
   "source": [
    "## NAG (Nesterov momentum)\n",
    "\n",
    "Будем сначала смещаться в сторону, куда привел бы нас наш накопленный градиент, там считать новый градиент и смещаться по нему. \n",
    "В результате перескоки через минимум будут менее значительными и мы будем быстрее сходиться\n",
    "\n",
    "$$v_{t+1} = \\rho v_t +  \\nabla_w L(w + \\rho v_t )$$\n",
    "\n",
    "$$w_{t} = w_{t-1} - \\eta v_{t} $$\n"
   ]
  },
  {
   "cell_type": "markdown",
   "metadata": {},
   "source": [
    "<img src =\"http://edunet.kea.su/repo/src/L07_Batch_normalization/img_license/nesterov_momentum.png\" width=\"800\">"
   ]
  },
  {
   "cell_type": "markdown",
   "metadata": {},
   "source": [
    "На практике эту формулу все равно можно записать так, чтобы задача вычисления градиента ложилась не на сам оптимизатор.\n",
    "([реализация в pytorch](https://github.com/pytorch/pytorch/blob/master/torch/optim/_functional.py))"
   ]
  },
  {
   "cell_type": "code",
   "execution_count": null,
   "metadata": {},
   "outputs": [],
   "source": [
    "parameters = torch.randn(10, requires_grad=True)\n",
    "optimizer = optim.SGD([parameters], momentum=0.9, nesterov=True, lr=0.001)"
   ]
  },
  {
   "cell_type": "markdown",
   "metadata": {},
   "source": [
    "## Adaptive Learning Rate\n",
    "\n",
    "Оба озвученных улучшения никак не борются с тем, что некоторые параметры нашей нейросети могут получать информацию для обновления реже, чем остальные. Например, фильтр, отличающий сиамских кошек от остальных, будет работать только тогда, когда в выборке попадутся конкретно сиамские кошки. А их может быть и не очень много, по батчам мы их не размажем (либо батчей поолучится очень много, если нарошно балансировать)\n",
    "\n",
    "Другая ситуация - учим нейросеть на словах из русского языка. Есть веса, отвечающие за редкие слова, например \"молвить\". Вы часто в языке встречаете слово молвить? Молвят устами, а они тоже встречаются не часто. В результате, если learning rate постояннен, то мы выучим параметры для слова молвить плохо. \n",
    "\n",
    "Единственный путь - завести для каждого параметра индивидуальный learning rate."
   ]
  },
  {
   "cell_type": "markdown",
   "metadata": {},
   "source": [
    "## Adagrad\n",
    "\n",
    "Будем хранить для каждого параметра сумму квадратов его градиентов. \n",
    "\n",
    "И будем добавлять наш градиент с коэффициентом, обратно пропорциональным корню из это суммы (фактически - некая аппроксимация средней амплитуды градиента нашего параметра). "
   ]
  },
  {
   "cell_type": "markdown",
   "metadata": {},
   "source": [
    "$$ w = w - \\eta \\frac{l}{\\sqrt{G} + e} \\odot (\\nabla_w L(x,y,W)) $$\n",
    "\n",
    "$$ G = \\sum_{t=1}^T \\nabla_w L(x,y,w_t)^2 $$"
   ]
  },
  {
   "cell_type": "markdown",
   "metadata": {},
   "source": [
    "В результате, если градиент у нашего веса часто большой - коэффициент будет уменьшаться. \n",
    "\n",
    "Единственная проблема - при такой формуле наш learning rate неминуемо в конце концов затухает (так как сумма квадратов не убывает)\n"
   ]
  },
  {
   "cell_type": "code",
   "execution_count": null,
   "metadata": {},
   "outputs": [],
   "source": [
    "parameters = torch.randn(10, requires_grad=True)\n",
    "optimizer = optim.Adagrad([parameters])"
   ]
  },
  {
   "cell_type": "markdown",
   "metadata": {},
   "source": [
    "## RMSprop"
   ]
  },
  {
   "cell_type": "markdown",
   "metadata": {},
   "source": [
    "Давайте устроим \"забывание\" предыдущих квадратов градиентов. Просто будем домножать их на некий коэффициент меньше 1\n",
    "\n",
    "\n",
    "$$v_t = \\alpha v_{t-1} + (1-\\alpha) (\\nabla_w L(x,y,w_t))^2$$\n",
    "\n",
    "$$w = w - \\frac{\\eta}{\\sqrt{v_t }+ e} \\odot \\nabla_w L(x,y,W)$$"
   ]
  },
  {
   "cell_type": "code",
   "execution_count": null,
   "metadata": {},
   "outputs": [],
   "source": [
    "parameters = torch.randn(10, requires_grad=True)\n",
    "optimizer = optim.RMSprop([parameters], alpha=0.99)"
   ]
  },
  {
   "cell_type": "markdown",
   "metadata": {},
   "source": [
    "## Adam\n",
    "\n",
    "Одним из самых популярных адаптивных оптимизаторов является Adam. \n",
    "Получается он за счет объединения идеи с инерцией и идеи с суммой квадратов. \n",
    "\n",
    "$$ m_t = \\beta_1 m_{t-1} + (1-\\beta_1) (\\nabla_w L(x,y,w_t)) $$\n",
    "$$ v_t = \\beta_2 v_{t-1} + (1-\\beta_2) (\\nabla_w L(x,y,w_t)^2) $$\n",
    "$$ w = w - \\eta \\cdot \\frac{m_t}{\\sqrt{v_t} + e} $$"
   ]
  },
  {
   "cell_type": "markdown",
   "metadata": {},
   "source": [
    "Чтобы в начале у нас получались очень большие шаги, будем дополнительно модицифировать инерцию и сумму квадратов"
   ]
  },
  {
   "cell_type": "markdown",
   "metadata": {},
   "source": [
    "$$ m_t = \\frac{m_t}{1-\\beta_1^t} $$\n",
    "\n",
    "$$ v_t = \\frac{v_t}{1-\\beta_2^t} $$"
   ]
  },
  {
   "cell_type": "code",
   "execution_count": null,
   "metadata": {},
   "outputs": [],
   "source": [
    "parameters = torch.randn(10, requires_grad=True)\n",
    "optimizer = optim.Adam([parameters], betas=(0.9, 0.999))"
   ]
  },
  {
   "cell_type": "code",
   "execution_count": null,
   "metadata": {},
   "outputs": [],
   "source": [
    "def train_adam():\n",
    "    model = SimpleMNIST_NN_Init_Batchnorm(n_layers=3).to(DEVICE)\n",
    "    optimizer = optim.Adam(model.parameters(), lr=1e-2)\n",
    "    writer = get_summary_writer(\"adam\")\n",
    "    register_model_hooks(model, writer)\n",
    "    train_model_sep(model, writer, optimizer)"
   ]
  },
  {
   "cell_type": "code",
   "execution_count": null,
   "metadata": {},
   "outputs": [],
   "source": [
    "train_adam()"
   ]
  },
  {
   "cell_type": "markdown",
   "metadata": {},
   "source": [
    "## L2-loss\n",
    "\n",
    "Все оптимизаторы так же поддерживают возможность добавления к ним напрямую L2-loss, коэффициент перед этим лоссом -  $\\textrm{weight_decay}$"
   ]
  },
  {
   "cell_type": "code",
   "execution_count": null,
   "metadata": {},
   "outputs": [],
   "source": [
    "parameters = torch.randn(10, requires_grad=True)\n",
    "optimizer = optim.RMSprop([parameters], alpha=0.99, weight_decay=0.001)"
   ]
  },
  {
   "cell_type": "markdown",
   "metadata": {},
   "source": [
    "Нюанс в том, что в Adam L2-loss учитывается не совсем верно. Потому есть поправленная версия Adam - AdamW. Но не факт, что она всегда лучше работает"
   ]
  },
  {
   "cell_type": "markdown",
   "metadata": {},
   "source": [
    "## Сравнение оптимизаторов \n",
    "\n",
    "У каждого из предложенных оптимизаторов есть минусы и плюсы \n",
    "\n"
   ]
  },
  {
   "cell_type": "markdown",
   "metadata": {},
   "source": [
    "### Методы с инерцией сходятся к решению более плавно, но могут \"перелетать\""
   ]
  },
  {
   "cell_type": "markdown",
   "metadata": {},
   "source": [
    "<img src =\"http://edunet.kea.su/repo/src/L07_Batch_normalization/img/opt_smooth.gif\" width=\"250\">\n"
   ]
  },
  {
   "cell_type": "markdown",
   "metadata": {},
   "source": [
    "[ссылка](https://i.gifer.com/9fB1.gif)"
   ]
  },
  {
   "cell_type": "markdown",
   "metadata": {},
   "source": [
    "### Методы с адаптивным learning rate быстрее сходятся, более стабильны и меньше случайно блуждают"
   ]
  },
  {
   "cell_type": "markdown",
   "metadata": {},
   "source": [
    "<img src =\"http://edunet.kea.su/repo/src/L07_Batch_normalization/img/adaptive_stability.gif\" width=\"250\">\n"
   ]
  },
  {
   "cell_type": "markdown",
   "metadata": {},
   "source": [
    "[ссылка](https://ru-keras.com/optimizer/)"
   ]
  },
  {
   "cell_type": "markdown",
   "metadata": {},
   "source": [
    "###  Алгоритмы без адаптивного learning rate сложнее выбираются из локальных минимумом"
   ]
  },
  {
   "cell_type": "markdown",
   "metadata": {},
   "source": [
    "<img src =\"http://edunet.kea.su/repo/src/L07_Batch_normalization/img/local_minima.gif\" width=\"450\">"
   ]
  },
  {
   "cell_type": "markdown",
   "metadata": {},
   "source": [
    "[ссылка](https://twitter.com/alecrad)"
   ]
  },
  {
   "cell_type": "markdown",
   "metadata": {},
   "source": [
    "### Алгоритмы с инерцией осцилируют в седловых точках прежде чем найти верный путь"
   ]
  },
  {
   "cell_type": "markdown",
   "metadata": {},
   "source": [
    "<img src =\"http://edunet.kea.su/repo/src/L07_Batch_normalization/img/saddle_point.gif\" width=\"450\">"
   ]
  },
  {
   "cell_type": "markdown",
   "metadata": {},
   "source": [
    "[ссылка](https://twitter.com/alecrad)"
   ]
  },
  {
   "cell_type": "markdown",
   "metadata": {},
   "source": [
    "# Режимы обучения\n",
    "\n",
    "Нам не обязательно поддерживать один и тот же learning rate в течении всего обучения. Более того, для того же SGD есть гарантии, что если правильно подобрать схему уменьшения learning rate, он сойдется к глобальному оптимуму.\n",
    "\n",
    "\n",
    "Мы можем менять learning rate по некоторым правилам.  \n",
    "\n"
   ]
  },
  {
   "cell_type": "markdown",
   "metadata": {},
   "source": [
    "## Ранняя остановка"
   ]
  },
  {
   "cell_type": "markdown",
   "metadata": {},
   "source": [
    "Можем использовать критерий ранней остановки - когда лосс на валидационной выборке не улучшается patience эпох, умножаем learning rate на некий factor"
   ]
  },
  {
   "cell_type": "markdown",
   "metadata": {},
   "source": [
    "<img src =\"http://edunet.kea.su/repo/src/L07_Batch_normalization/img_license/early_stopping.png\" width=\"500\">"
   ]
  },
  {
   "cell_type": "code",
   "execution_count": null,
   "metadata": {},
   "outputs": [],
   "source": [
    "optimizer = optim.SGD(model.parameters(), lr=0.1)\n",
    "scheduler = optim.lr_scheduler.ReduceLROnPlateau(optimizer,\n",
    "                                                 'min',\n",
    "                                                 factor=0.1,\n",
    "                                                 patience=5)"
   ]
  },
  {
   "cell_type": "markdown",
   "metadata": {},
   "source": [
    "Применим к нашей модели"
   ]
  },
  {
   "cell_type": "code",
   "execution_count": null,
   "metadata": {},
   "outputs": [],
   "source": [
    "model = SimpleMNIST_NN_Init_Batchnorm(n_layers=3).to(DEVICE)\n",
    "optimizer = optim.Adam(model.parameters(), lr=1e-2)\n",
    "criterion = nn.CrossEntropyLoss().to(DEVICE)\n",
    "writer = get_summary_writer(\"reduce_lr_on_plateu\")\n",
    "train_steper = Steper()\n",
    "test_steper = Steper()\n",
    "scheduler = optim.lr_scheduler.ReduceLROnPlateau(optimizer,\n",
    "                                                 'min',\n",
    "                                                 factor=0.1,\n",
    "                                                 patience=1)\n",
    "for epoch in tqdm(range(20)):\n",
    "    model.train()\n",
    "    train_epoch(model,\n",
    "                optimizer,\n",
    "                criterion,\n",
    "                train_loader,\n",
    "                \"cross_entropy\",\n",
    "                train_steper,\n",
    "                writer)\n",
    "    model.eval()\n",
    "    val_loss = validate(model,\n",
    "                        criterion,\n",
    "                        test_loader,\n",
    "                        \"cross_entropy\",\n",
    "                        test_steper,\n",
    "                        writer)\n",
    "    scheduler.step(val_loss)"
   ]
  },
  {
   "cell_type": "markdown",
   "metadata": {},
   "source": [
    "## Домножать learning rate на alpha каждую эпоху"
   ]
  },
  {
   "cell_type": "code",
   "execution_count": null,
   "metadata": {},
   "outputs": [],
   "source": [
    "scheduler = torch.optim.lr_scheduler.StepLR(optimizer,\n",
    "                                            step_size=2,\n",
    "                                            gamma=0.1)"
   ]
  },
  {
   "cell_type": "markdown",
   "metadata": {},
   "source": [
    "## Cyclical learning schedule\n"
   ]
  },
  {
   "cell_type": "markdown",
   "metadata": {},
   "source": [
    "Мы можем все время понижать learning rate, а делать это циклически - то понижать, то повышать. Делать это можно по-разному:\n",
    "\n",
    "\n",
    "1. Постоянно оставлять одни и те же границы"
   ]
  },
  {
   "cell_type": "markdown",
   "metadata": {},
   "source": [
    "<img src =\"http://edunet.kea.su/repo/src/L07_Batch_normalization/img_license/cycle_lr1.png\" width=\"500\">\n"
   ]
  },
  {
   "cell_type": "markdown",
   "metadata": {},
   "source": [
    "2. Уменьшать верхнюю границу во сколько-то раз"
   ]
  },
  {
   "cell_type": "markdown",
   "metadata": {},
   "source": [
    "<img src =\"http://edunet.kea.su/repo/src/L07_Batch_normalization/img_license/cycle_lr2.png\" width=\"500\">"
   ]
  },
  {
   "cell_type": "markdown",
   "metadata": {},
   "source": [
    "<img src =\"http://edunet.kea.su/repo/src/L07_Batch_normalization/img_license/cycle_lr13.png\" width=\"500\">"
   ]
  },
  {
   "cell_type": "markdown",
   "metadata": {},
   "source": [
    "Нюанс - здесь мы ОБЯЗАТЕЛЬНО должны хранить модель с лучшим качеством. Такая оптимизация не гарантирует, что в конце модель будет лучше, чем на каком-то промежуточном шаге"
   ]
  },
  {
   "cell_type": "markdown",
   "metadata": {},
   "source": [
    "### Подбираем границы learning rate\n",
    "\n"
   ]
  },
  {
   "cell_type": "markdown",
   "metadata": {},
   "source": [
    "1. просто берем и либо делаем для каждого learning rate минимизацию одну эпоху (чтобы всю выборку увидеть), нейросетку для каждого значения learning rate инициализируем заново\n",
    "\n",
    "Это долго\n",
    "\n",
    "Потому  делаем \"магию\":\n",
    "\n",
    "2. На каждое значение learning rate у нас будет лишь один батч, нейросетку для каждого learning rate не меняем. И это часто работает, так как нам нужна просто грубая прикидка"
   ]
  },
  {
   "cell_type": "markdown",
   "metadata": {},
   "source": [
    "<img src =\"http://edunet.kea.su/repo/src/L07_Batch_normalization/img/lr_selection.png\" width=\"650\">"
   ]
  },
  {
   "cell_type": "markdown",
   "metadata": {},
   "source": [
    "[ссылка](https://medium.com/modern-nlp/transfer-learning-in-nlp-f5035cc3f62f)"
   ]
  },
  {
   "cell_type": "markdown",
   "metadata": {},
   "source": [
    "Полученные значения (оптимальные границы) и используем в качестве высокого и низкого порога на learning rate."
   ]
  },
  {
   "cell_type": "code",
   "execution_count": null,
   "metadata": {},
   "outputs": [],
   "source": [
    "start_lr = 1e-8\n",
    "end_lr = 10\n",
    "lr_find_epochs = 2\n",
    "steps = lr_find_epochs * len(train_loader)\n",
    "smoothing = 0.05"
   ]
  },
  {
   "cell_type": "code",
   "execution_count": null,
   "metadata": {},
   "outputs": [],
   "source": [
    "model = SimpleMNIST_NN_Init_Batchnorm(n_layers=3).to(DEVICE)\n",
    "criterion = nn.CrossEntropyLoss().to(DEVICE)\n",
    "train_steper = Steper()\n",
    "test_steper = Steper()"
   ]
  },
  {
   "cell_type": "code",
   "execution_count": null,
   "metadata": {},
   "outputs": [],
   "source": [
    "lrs = []\n",
    "losses = []\n",
    "optimizer = optim.SGD(model.parameters(), lr=1e-8)\n",
    "lr_lambda = lambda x: math.exp(x * math.log(end_lr / start_lr) / (steps))\n",
    "\n",
    "\n",
    "scheduler = torch.optim.lr_scheduler.LambdaLR(optimizer, lr_lambda)\n",
    "\n",
    "for epoch in tqdm(range(lr_find_epochs)):\n",
    "    for batch in train_loader:\n",
    "        optimizer.zero_grad()\n",
    "        X, y = batch\n",
    "        X, y = X.to(DEVICE), y.to(DEVICE)\n",
    "        pred = model(X)\n",
    "        loss = criterion(pred, y)\n",
    "\n",
    "        loss.backward()\n",
    "        optimizer.step()\n",
    "        scheduler.step()\n",
    "\n",
    "        loss = loss.detach().cpu().numpy()\n",
    "        if len(losses) > 1:\n",
    "            loss = smoothing * loss + (1 - smoothing) * losses[-1]\n",
    "        losses.append(loss)\n",
    "        lr_step = optimizer.state_dict()[\"param_groups\"][0][\"lr\"]\n",
    "        lrs.append(lr_step)"
   ]
  },
  {
   "cell_type": "code",
   "execution_count": null,
   "metadata": {},
   "outputs": [],
   "source": [
    "plt.figure(figsize=(20, 10))\n",
    "plt.title(\"LR range selection\")\n",
    "plt.plot(np.log10(lrs), losses)\n",
    "plt.xlabel(\"Learning rate (log10)\")\n",
    "plt.ylabel(\"Loss\")"
   ]
  },
  {
   "cell_type": "markdown",
   "metadata": {},
   "source": [
    "На этом графике нам нужен минимум. Это в районе 1e-1. Делим это число на 10. \n",
    "Нижняя граница, стало быть - 1e-2.\n",
    "\n",
    "Снижение лосса начинается с learning rate в районе 1e-4. Его делим на 6"
   ]
  },
  {
   "cell_type": "code",
   "execution_count": null,
   "metadata": {},
   "outputs": [],
   "source": [
    "min_lr = 1e-4 / 6\n",
    "max_lr = 1e-2"
   ]
  },
  {
   "cell_type": "markdown",
   "metadata": {},
   "source": [
    "Этот scheduler надо применять после каждого батча. Потому перепишем train_epoch_sh"
   ]
  },
  {
   "cell_type": "code",
   "execution_count": null,
   "metadata": {},
   "outputs": [],
   "source": [
    "def train_epoch_sh(model,\n",
    "                   optimizer,\n",
    "                   scheduler,\n",
    "                   criterion,\n",
    "                   train_loader,\n",
    "                   model_name,\n",
    "                   steper,\n",
    "                   writer):\n",
    "    for batch in train_loader:\n",
    "        optimizer.zero_grad()\n",
    "        X, y = batch\n",
    "        X, y = X.to(DEVICE), y.to(DEVICE)\n",
    "        pred = model(X)\n",
    "        loss = criterion(pred, y)\n",
    "        writer.add_scalar(f\"{model_name}_train_loss\",\n",
    "                          loss.cpu().detach().numpy(),\n",
    "                          global_step=steper.global_step)\n",
    "        loss.backward()\n",
    "        optimizer.step()\n",
    "        steper.step()\n",
    "        scheduler.step()"
   ]
  },
  {
   "cell_type": "markdown",
   "metadata": {},
   "source": [
    "### Запускаем"
   ]
  },
  {
   "cell_type": "code",
   "execution_count": null,
   "metadata": {},
   "outputs": [],
   "source": [
    "model = SimpleMNIST_NN_Init_Batchnorm(n_layers=3).to(DEVICE)\n",
    "criterion = nn.CrossEntropyLoss().to(DEVICE)\n",
    "train_steper = Steper()\n",
    "test_steper = Steper()\n",
    "writer = get_summary_writer(\"sgd_cycle_lr\")\n",
    "optimizer = optim.SGD(model.parameters(),\n",
    "                      lr=min_lr)\n",
    "\n",
    "scheduler = optim.lr_scheduler.CyclicLR(optimizer,\n",
    "                                        base_lr=min_lr,\n",
    "                                        max_lr=max_lr,\n",
    "                                        mode=\"triangular\")  # first case"
   ]
  },
  {
   "cell_type": "markdown",
   "metadata": {},
   "source": [
    "По хорошему, в коде ниже мы на каждой эпохе сохраняем лучшую модель. "
   ]
  },
  {
   "cell_type": "code",
   "execution_count": null,
   "metadata": {},
   "outputs": [],
   "source": [
    "for epoch in tqdm(range(20)):\n",
    "    model.train()\n",
    "    train_epoch_sh(model,\n",
    "                   optimizer,\n",
    "                   scheduler,\n",
    "                   criterion,\n",
    "                   train_loader,\n",
    "                   \"cross_entropy\",\n",
    "                   train_steper,\n",
    "                   writer)\n",
    "    model.eval()\n",
    "    val_loss = validate(model,\n",
    "                        criterion,\n",
    "                        test_loader,\n",
    "                        \"cross_entropy\",\n",
    "                        test_steper,\n",
    "                        writer)"
   ]
  },
  {
   "cell_type": "markdown",
   "metadata": {},
   "source": [
    "# Neural Network WarmUp"
   ]
  },
  {
   "cell_type": "markdown",
   "metadata": {},
   "source": [
    "Также, для достаточно больших нейронных сетей практикуют следующую схему (**gradual warmup**, [изначальная статья](https://arxiv.org/pdf/1706.02677.pdf)):\n",
    "\n",
    "Поставить изначальный learning rate значительно ниже того, с которого мы обычно начинаем обучение. За несколько эпох, например, 5, довести learning rate от этого значения до требуемого. За счет этого нейросеть лучше \"адаптируется\" к нашим данным. \n",
    "\n",
    "Также такой learning schedule позволяет адаптивным оптимизаторам лучше оценить значения learning rate для разных параметров"
   ]
  },
  {
   "cell_type": "markdown",
   "metadata": {},
   "source": [
    "<img src =\"http://edunet.kea.su/repo/src/L07_Batch_normalization/img_license/l7_10.png\" width=\"1000\">\n"
   ]
  },
  {
   "cell_type": "markdown",
   "metadata": {},
   "source": [
    "kn на картинке - это размер одного батча"
   ]
  },
  {
   "cell_type": "markdown",
   "metadata": {},
   "source": [
    "## Взаимодействие learning schedule и адаптивного изменения learning rate"
   ]
  },
  {
   "cell_type": "markdown",
   "metadata": {},
   "source": [
    "И то, и другое меняет learning rate: learning scheduler - глобально, а адаптивные оптимизаторы - для каждого веса отдельно \n",
    "\n",
    "Часто их применяют вместе, особенно в случае критерия ранней остановки и WarmUp"
   ]
  },
  {
   "cell_type": "markdown",
   "metadata": {},
   "source": [
    "Однако в случае циклического режима обучения так делают не всегда. Дело в том, что одна из его задач - как раз избежать использования адаптивных оптимизаторов, требующих бОльше памяти и дополнительных вычислений. \n",
    "\n",
    "Однако никаких препятствий к использованию того же Adam в компании вместе с циклическим режимом обучения нет. В [исходной статье](https://arxiv.org/pdf/2004.02401.pdf) так делают. "
   ]
  },
  {
   "cell_type": "markdown",
   "metadata": {},
   "source": [
    "# Ссылки"
   ]
  },
  {
   "cell_type": "markdown",
   "metadata": {},
   "source": [
    "[A journey into Optimization algorithms for Deep Neural Networks](https://theaisummer.com/optimization/)\n",
    "\n",
    "[Optimizers Explained - Adam, Momentum and Stochastic Gradient Descent](https://mlfromscratch.com/optimizers-explained/#adam)\n",
    "\n",
    "[Батч-нормализация. In-layer normalization techniques for training very deep neural networks](https://theaisummer.com/normalization/)\n",
    "\n",
    "[Циклический learning rate](https://towardsdatascience.com/adaptive-and-cyclical-learning-rates-using-pytorch-2bf904d18dee)\n",
    "\n",
    "[Разные функции активации, затухающие и взрывающщиеся градиенты и т.д](https://mlfromscratch.com/activation-functions-explained/#/)\n",
    "\n",
    "[Визуализация разных оптимизаторов в ipynb, но на tensorflow](https://nbviewer.jupyter.org/github/ilguyi/optimizers.numpy/blob/master/optimizer.tf.all.opt.plot.ipynb)"
   ]
  }
 ],
 "metadata": {},
 "nbformat": 4,
 "nbformat_minor": 1
}
