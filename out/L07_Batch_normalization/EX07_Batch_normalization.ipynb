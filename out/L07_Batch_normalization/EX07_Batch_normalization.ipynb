{
  "nbformat": 4,
  "nbformat_minor": 0,
  "metadata": {
    "colab": {
      "name": "EX07_Batch_normalization.ipynb",
      "provenance": [],
      "collapsed_sections": []
    },
    "kernelspec": {
      "name": "python3",
      "display_name": "Python 3"
    },
    "accelerator": "GPU"
  },
  "cells": [
    {
      "cell_type": "code",
      "metadata": {
        "id": "isFgZyETgBuA"
      },
      "source": [
        "# Вспомогательный метод для запуска Tensorboard в Colab\n",
        "\n",
        "# Fix: https://stackoverflow.com/questions/60730544/tensorboard-colab-tensorflow-api-v1-io-gfile-has-no-attribute-get-filesystem\n",
        "import tensorflow as tf\n",
        "import tensorboard as tb\n",
        "tf.io.gfile = tb.compat.tensorflow_stub.io.gfile\n",
        "\n",
        "import os\n",
        "import shutil\n",
        "\n",
        "# Запуск Tensorboard в Colab\n",
        "def reinit_tensorboard(clear_log = True):\n",
        "  # Лог-файлы читаются из этого каталога: \n",
        "  logs_base_dir = \"runs\"\n",
        "  if clear_log:\n",
        "    # Очистка логов\n",
        "    #!rm -rfv {logs_base_dir}/*\n",
        "    shutil.rmtree(logs_base_dir, ignore_errors = True)\n",
        "    os.makedirs(logs_base_dir, exist_ok=True)\n",
        "  # Магия Colab\n",
        "  %load_ext tensorboard\n",
        "  %tensorboard --logdir {logs_base_dir}"
      ],
      "execution_count": null,
      "outputs": []
    },
    {
      "cell_type": "code",
      "metadata": {
        "id": "Ks5w4JCngEMd"
      },
      "source": [
        "reinit_tensorboard()"
      ],
      "execution_count": null,
      "outputs": []
    },
    {
      "cell_type": "code",
      "metadata": {
        "id": "JUDHONx2gXjx"
      },
      "source": [
        "import torch\n",
        "import torchvision\n",
        "import torch.nn as nn\n",
        "import torch.optim as optim\n",
        "import torch.nn.functional as F\n",
        "import torchvision.transforms as transforms\n",
        "from torch.utils.tensorboard import SummaryWriter"
      ],
      "execution_count": null,
      "outputs": []
    },
    {
      "cell_type": "markdown",
      "metadata": {
        "id": "2jj21kbOeWBy"
      },
      "source": [
        "# Задание 1.1 \n",
        "\n",
        "Используя код из лекции, посмотрите, как будут вести функции активации nn.Tanh и nn.ReLU в случае инициализации весов по-умолчанию использууемой PyTorch.\n",
        "Конкретно обратите внимание на распределение градиентов слоев и активаций\n",
        "\n",
        "\n",
        "Будет ли обучаться нейросеть из лекции с 5 слоями, если в ней заменить активации на nn.ReLU или nn.Tanh?\n",
        " "
      ]
    },
    {
      "cell_type": "markdown",
      "metadata": {
        "id": "KeRUgYQseXfP"
      },
      "source": [
        "# Задание 1.2\n",
        "\n",
        "Используя код из лекции, посмотрите, как будут вести функции активации nn.Tanh и nn.ReLU в случае инициализации весов при помощи He и Glorot.\n",
        "\n",
        "Конкретно обратите внимание на распределение градиентов слоев и активаций.\n",
        "\n",
        "Какие выводы можно сделать? Согласуются ли они с результатами из лекции?\n",
        "\n",
        "\n"
      ]
    },
    {
      "cell_type": "markdown",
      "metadata": {
        "id": "e3nHsek-3wG-"
      },
      "source": [
        "## Задание 2\n",
        "Реализуйте линейный слой с DropConnect. \n",
        "\n",
        "Проверьте, как он влияет на работу вашей нейросети. \n",
        "\n",
        "Сравните с работой nn.Dropout"
      ]
    },
    {
      "cell_type": "code",
      "metadata": {
        "id": "JCsmU5zI3yJc"
      },
      "source": [
        "class DropConnect(nn.Module):\n",
        "    def __init__(self, input_dim, output_dim, p=0.5):\n",
        "        super(DropConnect, self).__init__()\n",
        "        self.linear = nn.Linear(input_dim, output_dim) # we have to keep linear level INSIDE Dropconnect\n",
        "        self.p = p\n",
        "\n",
        "    def forward(self, x):    \n",
        "        size = self.linear.weight.size()\n",
        "        if self.training:          \n",
        "            keep = ... # some weight must be multiplied by 0\n",
        "        else:\n",
        "            keep = ... # all weight must be multiplied by p\n",
        "            # no need in optimizations like w disccussed in the lecture\n",
        "            # Yout layer just must work\n",
        "\n",
        "        if self.cuda:\n",
        "            keep = ... \n",
        "        \n",
        "        output = F.linear(x, self.linear.weight * keep, self.linear.bias)\n",
        "        return output"
      ],
      "execution_count": null,
      "outputs": []
    },
    {
      "cell_type": "markdown",
      "metadata": {
        "id": "hxyD3ZBP6ls2"
      },
      "source": [
        "# Задание 3.1\n",
        "\n",
        "Реализуйте Layer Normalization. Опять же, реализуем только для случая линейного слоя.\n",
        "\n",
        "Вставьте слой в вашу нейросеть. Как он работает? \n",
        "\n"
      ]
    },
    {
      "cell_type": "code",
      "metadata": {
        "id": "3O6KSP286zLz"
      },
      "source": [
        "# полезные функции: .std(dim), .mean(dim)\n",
        "class LayerNormalization(nn.Module):\n",
        "    def __init__(self, in_d):\n",
        "        super().__init__()\n",
        "        self.gamma = nn.Parameter(torch.Tensor(in_d))\n",
        "        self.beta = nn.Parameter(torch.Tensor(in_d))\n",
        "        self.eps = 0.0000001\n",
        "        self.reset_parameters()\n",
        "\n",
        "    def reset_parameters(self):\n",
        "        if self.gamma is not None:\n",
        "            self.gamma.data.fill_(1)\n",
        "        if self.beta is not None:\n",
        "            self.beta.data.zero_()\n",
        "  \n",
        "    def forward(self, x):\n",
        "        central_x =...\n",
        "        # remove mean from each object batch-wise\n",
        "        # use keepdim here\n",
        "\n",
        "        var = ... + self.eps # to avoid overflow issues, calculate std through var\n",
        "        std = ...\n",
        "        normalized_x = ...\n",
        "\n",
        "        out = ... * self.gamma\n",
        "        out = ... + self.beta\n",
        "        return out"
      ],
      "execution_count": null,
      "outputs": []
    },
    {
      "cell_type": "markdown",
      "metadata": {
        "id": "XsnGO66FD8BN"
      },
      "source": [
        "# Задание 3.2 \n",
        "\n",
        "Сравните с библиотечной реализацией nn.LayerNorm. Результаты должны быть похожи. Если у вас возникли затруднения со своей реализацией, это задание можно сдать без предыдущего\n"
      ]
    },
    {
      "cell_type": "markdown",
      "metadata": {
        "id": "BMkuNp_gIsX0"
      },
      "source": [
        "# Задание 4.1 \n",
        "\n",
        "Выберите два адаптивных оптимизатора на выбор. Возьмите архитектуру, полученную в прошлом задании. \n",
        "\n",
        "Сравните качество обучения"
      ]
    },
    {
      "cell_type": "markdown",
      "metadata": {
        "id": "g3K6eGFZKFt4"
      },
      "source": [
        "## Задание 5.1 \n",
        "\n",
        "Возьмите сверточную архитектуру из предыдущего занятия. Добавьте в нее BatchNorm/Dropout. Сравните качество с полученным на прошлом занятии и на этом при помощи обычной многослойной линейной сети"
      ]
    },
    {
      "cell_type": "code",
      "metadata": {
        "id": "GmGpSg-mKBYC"
      },
      "source": [
        ""
      ],
      "execution_count": null,
      "outputs": []
    },
    {
      "cell_type": "markdown",
      "metadata": {
        "id": "wdSaSLkhLdNz"
      },
      "source": [
        "# Задание 5.2 \n",
        "\n",
        "На лучшей из рассмотренных архитектур попробуйте добиться лучшего качества, применяя разные оптимизаторы и их настройки"
      ]
    },
    {
      "cell_type": "code",
      "metadata": {
        "id": "HFMppXm8L5Ni"
      },
      "source": [
        ""
      ],
      "execution_count": null,
      "outputs": []
    },
    {
      "cell_type": "markdown",
      "metadata": {
        "id": "NYNhPUP76z8P"
      },
      "source": [
        "# Задание 6 (необязательное)\n",
        "\n",
        "Добавьте в вашу нейросеть Dropout. BatchNorm добавлять не надо, если он уже есть - уберите\n",
        "\n",
        "Обучите ее. После этого, сделайте предсказание на тестовом датасете НЕ ДЕЛАЯ model.eval. Повторите процедуру 100 раз. \n",
        "Выведите 10 изображений, в классификации которых нейросеть больше всего неуверенна (на 100 запусков предсказывала им самые различные классы) "
      ]
    },
    {
      "cell_type": "code",
      "metadata": {
        "id": "qUeTChnJKCLH"
      },
      "source": [
        ""
      ],
      "execution_count": null,
      "outputs": []
    }
  ]
}