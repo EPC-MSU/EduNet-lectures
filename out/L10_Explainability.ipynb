{
 "cells": [
  {
   "cell_type": "markdown",
   "metadata": {},
   "source": [
    " <font size=\"6\">Explainability</font>"
   ]
  },
  {
   "cell_type": "markdown",
   "metadata": {},
   "source": [
    "# Причины использования Explainability\n",
    "Модели машинного обучения представляют собой черный ящик."
   ]
  },
  {
   "cell_type": "markdown",
   "metadata": {},
   "source": [
    "<img src=\"https://edunet.kea.su/repo/EduNet-content/L10/out/input_blackbox_output.png\" alt=\"alttext\" width=400/>"
   ]
  },
  {
   "cell_type": "markdown",
   "metadata": {},
   "source": [
    "Иногда это  становится препятствием для внедрения моделей.\n",
    "\n",
    "Есть как минимум три причины, по которым нас может интересовать объяснение предсказаний модели."
   ]
  },
  {
   "cell_type": "markdown",
   "metadata": {},
   "source": [
    "## Обнаружение некорректных зависимостей \n",
    "\n",
    "Модель может использовать совсем не те признаки, которые соответствуют реальным объектам.\n",
    "\n",
    "Например, ориентироваться на фон или водяной знак, а не на реальные свойства объекта.\n",
    "\n",
    "Пример из статьи [\"Why Should I Trust You?\"](https://arxiv.org/abs/1602.04938) \n",
    "Авторы обучили классификатор волков и эскимосских собак (хаски). Исследователи на изображениях, отобранных так, чтобы на всех фотографиях волков на фоне был снег, а на фотографиях хаски — нет."
   ]
  },
  {
   "cell_type": "markdown",
   "metadata": {},
   "source": [
    "<img src=\"https://edunet.kea.su/repo/EduNet-web_dependencies/L10/2_bad_models_prediction.png\" alt=\"alttext\" width=400/>"
   ]
  },
  {
   "cell_type": "markdown",
   "metadata": {},
   "source": [
    "## Доверие к предсказаниям "
   ]
  },
  {
   "cell_type": "markdown",
   "metadata": {},
   "source": [
    "<img src=\"https://edunet.kea.su/repo/EduNet-web_dependencies/L10/nuclear.jpg\" alt=\"alttext\" width=650/>"
   ]
  },
  {
   "cell_type": "markdown",
   "metadata": {},
   "source": [
    "Нельзя остановить ядерную электростанцию или назначить пациенту опасное лечение на основании предсказания «черного ящика». \n",
    "Даже маловероятная ошибка в таких случаях будет иметь тяжелые последствия. Поэтому человек, принимающий решение, должен понимать на основе каких признаков или симптомов сделано предсказание."
   ]
  },
  {
   "cell_type": "markdown",
   "metadata": {},
   "source": [
    "## Публикации в научных журналах\n",
    "\n",
    "\n",
    "Вероятность публикации статьи значительно повышается, если автор смог объяснить происхождение результатов своего исследования."
   ]
  },
  {
   "cell_type": "markdown",
   "metadata": {},
   "source": [
    "<img src=\"https://edunet.kea.su/repo/EduNet-content/L10/out/scientific_publication.png\" alt=\"alttext\" width=650/>"
   ]
  },
  {
   "cell_type": "markdown",
   "metadata": {},
   "source": [
    "## Explainability & Interpretability\n",
    "В англоязычной литературе можно встретить два термина связанных с темой доверия: Explainability и Interpretability\n",
    "\n",
    "**Explainability** &mdash; методики позволяющие объяснить механизм функционирования модели. \n",
    "\n",
    "Например, для линейной регрессии это анализ коэффициентов при параметрах.\n",
    "\n",
    "\n",
    "**Interpretability** &mdash; Анализ того, как изменение входов модели влияли на ее выходы.\n",
    "\n",
    "Например, закрашивая часть пикселей изображения, можно выяснить какие из них повлияют на предсказания (пример с хаски и волками).\n",
    "\n",
    "\n",
    "В данном блокноте будем преимущественно рассматривать методы второго типа.\n",
    "\n",
    "[Machine Learning Explainability vs Interpretability: Two concepts that could help restore trust in AI](https://www.kdnuggets.com/2018/12/machine-learning-explainability-interpretability-ai.html)\n",
    "\n"
   ]
  },
  {
   "cell_type": "markdown",
   "metadata": {},
   "source": [
    "<img src=\"https://edunet.kea.su/repo/EduNet-content/L10/out/data_pipeline.png\" alt=\"alttext\" width=850/>\n"
   ]
  },
  {
   "cell_type": "markdown",
   "metadata": {},
   "source": [
    "# Оценка важности признаков в простых случаях"
   ]
  },
  {
   "cell_type": "markdown",
   "metadata": {},
   "source": [
    "## Оценка важности признака для регрессии\n",
    "\n"
   ]
  },
  {
   "cell_type": "markdown",
   "metadata": {},
   "source": [
    "В случае с линейными моделями нам было сравнительно легко определить, какие признаки модель считает важными. Если модель присваивает какому-то признаку большой вес, то, скорее всего, этот признак достаточно \"хороший\".\n"
   ]
  },
  {
   "cell_type": "markdown",
   "metadata": {},
   "source": [
    "Для примера скачаем датасет жилья Бостона (boston_dataset), в котором проанализируем зависимость цены на жилье от параметров жилья и района, в котором оно находится."
   ]
  },
  {
   "cell_type": "code",
   "execution_count": null,
   "metadata": {},
   "outputs": [],
   "source": [
    "import pandas as pd\n",
    "\n",
    "# load dataset\n",
    "boston_dataset = pd.read_csv('https://edunet.kea.su/repo/EduNet-web_dependencies/L10/boston_dataset.csv', index_col=0)\n",
    "x_data = boston_dataset.iloc[:, :-1]\n",
    "y_data = boston_dataset['target'].values\n",
    "\n",
    "boston_dataset.head()"
   ]
  },
  {
   "cell_type": "markdown",
   "metadata": {},
   "source": [
    "Обучим модель"
   ]
  },
  {
   "cell_type": "code",
   "execution_count": null,
   "metadata": {},
   "outputs": [],
   "source": [
    "from sklearn.linear_model import LinearRegression\n",
    "\n",
    "model = LinearRegression()\n",
    "model.fit(x_data, y_data)"
   ]
  },
  {
   "cell_type": "markdown",
   "metadata": {},
   "source": [
    "Выведем коэффициенты признаков"
   ]
  },
  {
   "cell_type": "code",
   "execution_count": null,
   "metadata": {},
   "outputs": [],
   "source": [
    "model.coef_"
   ]
  },
  {
   "cell_type": "code",
   "execution_count": null,
   "metadata": {},
   "outputs": [],
   "source": [
    "import matplotlib.pyplot as plt\n",
    "import seaborn as sns\n",
    "\n",
    "df = pd.DataFrame({\"name\": x_data.columns, \"coef\": model.coef_})\n",
    "\n",
    "plt.figure(figsize=(8, 8))\n",
    "sns.barplot(data=df, y=\"name\", x=\"coef\", color=\"blue\", orient='h')\n",
    "plt.show()"
   ]
  },
  {
   "cell_type": "code",
   "execution_count": null,
   "metadata": {},
   "outputs": [],
   "source": [
    "from sklearn.metrics import mean_squared_error\n",
    "\n",
    "mean_squared_error(y_data, model.predict(x_data))"
   ]
  },
  {
   "cell_type": "markdown",
   "metadata": {},
   "source": [
    "Посмотрим на коэффициенты после стандартизации данных."
   ]
  },
  {
   "cell_type": "code",
   "execution_count": null,
   "metadata": {},
   "outputs": [],
   "source": [
    "# load dataset\n",
    "boston_dataset = pd.read_csv('https://edunet.kea.su/repo/EduNet-web_dependencies/L10/boston_dataset.csv', index_col=0)\n",
    "x_data = boston_dataset.iloc[:, :-1]\n",
    "y_data = boston_dataset['target'].values"
   ]
  },
  {
   "cell_type": "code",
   "execution_count": null,
   "metadata": {},
   "outputs": [],
   "source": [
    "from sklearn.preprocessing import StandardScaler\n",
    "\n",
    "ss = StandardScaler()\n",
    "x_data = ss.fit_transform(x_data)"
   ]
  },
  {
   "cell_type": "code",
   "execution_count": null,
   "metadata": {},
   "outputs": [],
   "source": [
    "model = LinearRegression()\n",
    "model.fit(x_data, y_data)"
   ]
  },
  {
   "cell_type": "code",
   "execution_count": null,
   "metadata": {},
   "outputs": [],
   "source": [
    "model.coef_"
   ]
  },
  {
   "cell_type": "code",
   "execution_count": null,
   "metadata": {},
   "outputs": [],
   "source": [
    "df = pd.DataFrame({\"name\": boston_dataset.columns[:-1], \"coef\": model.coef_})\n",
    "\n",
    "plt.figure(figsize=(8, 8))\n",
    "sns.barplot(data=df, y=\"name\", x=\"coef\", color=\"blue\", orient='h')\n",
    "plt.show()"
   ]
  },
  {
   "cell_type": "code",
   "execution_count": null,
   "metadata": {},
   "outputs": [],
   "source": [
    "mean_squared_error(y_data, model.predict(x_data))"
   ]
  },
  {
   "cell_type": "markdown",
   "metadata": {},
   "source": [
    "Как мы видим, качество модели не изменилось, зато новая оценка важности параметров даёт нам более однородные результаты, без значительных выбросов."
   ]
  },
  {
   "cell_type": "markdown",
   "metadata": {},
   "source": [
    "## Оценка важности признака для дерева\n",
    "\n",
    "В случае же с деревьями всё далеко не так очевидно: дерево не знает такой концепции как \"вес признака\".\n",
    "\n",
    "Универсального критерия значимости для деревьев у нас нет, и в зависимости от задачи и от того, как эти признаки устроены, ответы могут быть разными.\n",
    "\n",
    "Первый из способов посчитать, насколько тот или иной признак значим для дерева это Gini Impurity measure. Он показывает, насколько хорошо переменная помогает нам разбивать данные. По сути перекликается с Impurity decrease, который мы использовали при построении  самого дерева."
   ]
  },
  {
   "cell_type": "markdown",
   "metadata": {},
   "source": [
    "<img src=\"https://edunet.kea.su/repo/EduNet-content/L10/out/gini_impurity.png\" >"
   ]
  },
  {
   "cell_type": "markdown",
   "metadata": {},
   "source": [
    "Логика такая: если часто признак у нас присутствует на верхних уровнях дерева, то есть он помогает на маленьких глубинах разбивать выборку, то он более значим, чем признаки, которые используются на более поздних этапах.\n",
    "\n",
    "Но при этом не учитывается, насколько помогло такое начальное разбиение (вспомним пример с XOR). Хорошо было бы учитывать еще и насколько улучшается качество при таком разбиении. Тут нам поможет дополнительно учитывать как раз impurity decrease."
   ]
  },
  {
   "cell_type": "markdown",
   "metadata": {},
   "source": [
    "Такая метрика встроена в любое дерево решений. Для случайного леса (и других ансамблей) просто выдается среднее по деревьям.\n",
    "\n",
    "Однако, у нее есть один существенный **недостаток**: чем больше переменная может принимать значений, тем больше у нас возможных порогов разбиений, следовательно, тем больше вероятность получить \"хорошее\" разбиение. \n",
    "Таким образом, из двух одинаково неинформативных признаков преимущество будет получать тот, у которого возможных разбиений больше.\n",
    "\n",
    "Бинарные признаки и маломерные вещественные, в любом, случае будут получать заниженное качество по сравнению с вещественными, даже если те дают худшее разбиение."
   ]
  },
  {
   "cell_type": "markdown",
   "metadata": {},
   "source": [
    "<img src=\"https://edunet.kea.su/repo/EduNet-content/L10/out/gini_impurity_disadvantage.png\" >"
   ]
  },
  {
   "cell_type": "code",
   "execution_count": null,
   "metadata": {},
   "outputs": [],
   "source": [
    "import numpy as np\n",
    "from sklearn.ensemble import RandomForestRegressor\n",
    "\n",
    "rng = np.random.RandomState(42)\n",
    "model = RandomForestRegressor(random_state=rng)\n",
    "model.fit(x_data, y_data)"
   ]
  },
  {
   "cell_type": "code",
   "execution_count": null,
   "metadata": {},
   "outputs": [],
   "source": [
    "model.feature_importances_"
   ]
  },
  {
   "cell_type": "code",
   "execution_count": null,
   "metadata": {},
   "outputs": [],
   "source": [
    "df = pd.DataFrame({\"name\": boston_dataset.columns[:-1], \"imp\": model.feature_importances_})\n",
    "\n",
    "plt.figure(figsize=(8, 8))\n",
    "sns.barplot(data=df, y=\"name\", x=\"imp\", color=\"blue\", orient='h')\n",
    "plt.show()\n"
   ]
  },
  {
   "cell_type": "markdown",
   "metadata": {},
   "source": [
    "## Randomization/Permutation\n",
    "\n"
   ]
  },
  {
   "cell_type": "markdown",
   "metadata": {},
   "source": [
    "Мы можем перемешать значения нашей переменной. За счет этого она станет бессмысленной. По падению качества мы можем оценить, каков был вклад переменной до изменения: если качество упало сильно, то признак был значимым.\n",
    "\n",
    "В sklearn это реализовано как [отдельный класс](https://scikit-learn.org/stable/modules/permutation_importance.html)"
   ]
  },
  {
   "cell_type": "markdown",
   "metadata": {},
   "source": [
    "Можно считать качество на OOB $-$ **Out-of-bag samples**: объектах, которые были выброшены при бутстрепе и которые модель еще не видела. Таким образом, нам не надо делать отдельную валидацию. По очереди перемешиваем значения каждой переменной в OOB и смотрим, как падает качество.\n",
    "\n",
    "\n",
    "Однако, такой подход в чистом виде может привести к завышению важности для коррелирующих признаков.\n",
    "\n",
    "[[Paper] Please Stop Permuting Features](https://blog.ceshine.net/post/please-stop-permuting-features/)\n"
   ]
  },
  {
   "cell_type": "markdown",
   "metadata": {},
   "source": [
    "Для дерева решений это объясняется следующим образом: линейная регрессия от двух сильно скоррелированных признаков (один линейно выражается через другой) по сути, представляет собой регрессию от одного признака. \n",
    "\n",
    "Дерево решений пытается разбить пространство плоскостями, и в областях, где объектов нет, оно, можно сказать, занимается угадыванием. Если $x_1$ и $x_2$ на картинке ниже линейно зависимы, то не может возникнуть ситуация, при которой $x_1 = 0$, а $x_2 = 1$. А как раз при перемешивании такая ситуация возникнет, и точки начнут попадать в \"проблемные\" области, в которых дерево решений плохо предсказывает.\n",
    "\n",
    "В результате получаем завышенную важность."
   ]
  },
  {
   "cell_type": "markdown",
   "metadata": {},
   "source": [
    "<img src=\"https://edunet.kea.su/repo/EduNet-web_dependencies/L10/quality_out_of_bag_samples.png\" alt=\"alttext\" width=800/>"
   ]
  },
  {
   "cell_type": "markdown",
   "metadata": {},
   "source": [
    "[[arxiv] Please Stop Permuting Features: An Explanation and Alternatives](https://arxiv.org/abs/1905.03151)"
   ]
  },
  {
   "cell_type": "markdown",
   "metadata": {},
   "source": [
    "Второй вариант $-$ тоже считать качество на OOB, но при этом при каждом перемешивании тренировать модель **заново**. Это работает адекватно, но очень долго."
   ]
  },
  {
   "cell_type": "markdown",
   "metadata": {},
   "source": [
    "Сделаем `permutation importance`:\n",
    "\n",
    "1. Обучим модель\n",
    "2. Перемешаем значения в одном столбце (одного признака), сделаем предсказание и посчитаем ошибку. Ухудшение ошибки покажет важность признака, который перемешали. \n",
    "3. Возвращаем значения признака и повторяем шаг 2 со всеми остальными признаками"
   ]
  },
  {
   "cell_type": "code",
   "execution_count": null,
   "metadata": {},
   "outputs": [],
   "source": [
    "from sklearn.model_selection import train_test_split\n",
    "from sklearn.inspection import permutation_importance\n",
    "\n",
    "x_train, x_val, y_train, y_val = train_test_split(x_data, y_data, random_state=rng)\n",
    "model = RandomForestRegressor(random_state=rng)\n",
    "model.fit(x_train, y_train)\n",
    "\n",
    "r = permutation_importance(model, x_val, y_val, n_repeats=100, random_state=rng)\n",
    "r.importances_mean"
   ]
  },
  {
   "cell_type": "code",
   "execution_count": null,
   "metadata": {},
   "outputs": [],
   "source": [
    "df = pd.DataFrame({\"name\": boston_dataset.columns[:-1], \"imp\": r.importances_mean})\n",
    "\n",
    "plt.figure(figsize=(8, 8))\n",
    "sns.barplot(data=df, y=\"name\", x=\"imp\", color=\"blue\", orient='h')\n",
    "plt.show()"
   ]
  },
  {
   "cell_type": "markdown",
   "metadata": {},
   "source": [
    "Ниже выполняются те же операции, но уже с линейной регрессией."
   ]
  },
  {
   "cell_type": "code",
   "execution_count": null,
   "metadata": {},
   "outputs": [],
   "source": [
    "x_train, x_val, y_train, y_val = train_test_split(x_data, y_data, random_state=rng)\n",
    "model = LinearRegression()\n",
    "model.fit(x_train, y_train)\n",
    "\n",
    "r = permutation_importance(model, x_val, y_val, n_repeats=100, random_state=rng)\n",
    "r.importances_mean"
   ]
  },
  {
   "cell_type": "code",
   "execution_count": null,
   "metadata": {},
   "outputs": [],
   "source": [
    "df = pd.DataFrame({\"name\": boston_dataset.columns[:-1], \"imp\": r.importances_mean})\n",
    "\n",
    "plt.figure(figsize=(8, 8))\n",
    "sns.barplot(data=df, y=\"name\", x=\"imp\", color=\"blue\", orient='h')\n",
    "plt.show()"
   ]
  },
  {
   "cell_type": "markdown",
   "metadata": {},
   "source": [
    "Как видно, у некоторых признаков значительно повысилась важность, что говорит об их скоррелированности."
   ]
  },
  {
   "cell_type": "markdown",
   "metadata": {},
   "source": [
    "## Dropped variable importance\n",
    "\n",
    "Редко используемый метод, заключающийся в том, что мы просто выбрасываем переменную и смотрим, как упало качество по сравнению с \"полной\" моделью.\n",
    "\n",
    "Это не очень хорошо как минимум потому, что многие гиперпараметры зависят от числа признаков $-$ модель будет работать хуже еще и поэтому. Опять же между признаками могут быть сложные взаимодействия."
   ]
  },
  {
   "cell_type": "markdown",
   "metadata": {},
   "source": [
    "# Библиотеки для реализации explanation"
   ]
  },
  {
   "cell_type": "markdown",
   "metadata": {},
   "source": [
    "Мы рассмотрим две библиотеки: SHAP и LIME.\n",
    "\n",
    "**SHAP (SHapley Additive exPlanations)** &mdash; подход к объяснению моделей машинного обучения, основанный на теории игр. Интерпретация результатов модели SHAP основана на оценке локальной точности признаков (local importance) для каждого объекта, которая определяется [значением Шепли](https://en.wikipedia.org/wiki/Shapley_value). Значения Шепли можно интерпретировать как важность признака для качества предсказания модели, включающей данный признак, по сравнению с моделью, не включающей его, для каждой комбинации признаков.\n",
    "\n",
    "SHAP учитывает все возможные комбинации признаков, таким образом, SHAP представляет собой единый подход, обеспечивающий глобальную и локальную согласованность и интерпретируемость.\n",
    "\n",
    "Однако его цена — время, так как алгоритму нужно вычислить все комбинации, чтобы получить результаты.\n",
    "\n",
    "Напротив, **LIME (Local Interpretable Model-agnostic Explanations)** строит дискретные линейные модели вокруг индивидуального прогноза в его локальной окрестности. LIME на самом деле является подмножеством SHAP, но не имеет тех же свойств.\n",
    "\n",
    "**Преимущество LIME — скорость**.\n",
    "Алгоритм LIME изменяет данные вокруг отдельного прогноза для построения модели, в то время как SHAP должен вычислять все перестановки глобально, чтобы получить локальную точность. Кроме того, модуль SHAP Python пока еще не имеет специально оптимизированных алгоритмов для всех типов алгоритмов (таких как KNN)."
   ]
  },
  {
   "cell_type": "markdown",
   "metadata": {},
   "source": [
    "## SHAP (SHapley Additive exPlanations)\n",
    "[SHAP](https://christophm.github.io/interpretable-ml-book/shap.html)"
   ]
  },
  {
   "cell_type": "markdown",
   "metadata": {},
   "source": [
    "<img src=\"https://edunet.kea.su/repo/EduNet-content/L10/out/shap_scheme.png\" alt=\"alttext\" width=600/>\n"
   ]
  },
  {
   "cell_type": "markdown",
   "metadata": {},
   "source": [
    "Цель SHAP — объяснить предсказание объекта $x$ путем вычисления вклада каждого признака в предсказание. Для этого вычисляются SHAP значения, основанные на значениях Шепли из теории игр. \n",
    "\n",
    "SHAP рассматривает объясняемую модель как игру, а признаки, используемые в обучении, как коалицию игроков. SHAP значения говорят нам, как справедливо распределить \"выигрыш\" между игроками &mdash; это вклад, который каждый игрок вносит в предсказание модели. SHAP основывается на анализе локальной точности признаков, соответственно \"выигрыш\" &mdash; это предсказание, сделанное моделью для одного образца. \n",
    "\n",
    "При этом игрок не обязательно должен быть индивидуальным признаком, он может состоять из группы признаков. Например, для моделей, работающих с изображениями, пиксели могут быть сгруппированы в суперпиксели, а \"выигрыш\" распределяется между ними. \n",
    "\n",
    "\n"
   ]
  },
  {
   "cell_type": "markdown",
   "metadata": {},
   "source": [
    "Итак, каким образом можно определить вклад признака в предсказание, сделанное моделью? Предположим у нас есть модель, которая предсказывает доход человека на основании его возраста, пола и профессии. Для определения вклада каждого признака рассмотрим все возможные комбинации $f$ признаков в модели ($f$ от $0$ до $3$) и представим их в виде графа:"
   ]
  },
  {
   "cell_type": "markdown",
   "metadata": {},
   "source": [
    "<img src=\"https://edunet.kea.su/repo/EduNet-content/L10/out/shap_features_graph.png\" alt=\"alttext\" width=600/>"
   ]
  },
  {
   "cell_type": "markdown",
   "metadata": {},
   "source": [
    "[SHAP Values Explained Exactly How You Wished Someone Explained to You](https://towardsdatascience.com/shap-explained-the-way-i-wish-someone-explained-it-to-me-ab81cc69ef30)\n",
    "\n",
    "Здесь каждая вершина изображает набор признаков, а каждое ребро &mdash; добавление нового признака в набор"
   ]
  },
  {
   "cell_type": "markdown",
   "metadata": {},
   "source": [
    "Далее SHAP обучает модель на каждом наборе признаков в графе (сохраняя гиперпараметры модели и набор тренировочных объектов)\n",
    "\n",
    "Предположим, что мы обучили модель на всех имеющихся наборах признаков и сделали предсказание зарплаты для объекта $x_0$.\n",
    "\n",
    "Нулевая модель делает самое простое \"предсказание\" &mdash; усредняет зарплату, не учитывая никакие признаки (точность соответствующая).\n",
    "Дальше мы можем использовать по одному признаку, более сложные модели базируются на нескольких признаках.\n",
    "\n",
    "<img src=\"https://edunet.kea.su/repo/EduNet-content/L10/out/shap_predictions_graph.png\" alt=\"alttext\" width=550/>"
   ]
  },
  {
   "cell_type": "markdown",
   "metadata": {},
   "source": [
    "Теперь в вершинах графа находятся предсказания, сделанные соответствующей моделью для объекта $x_0$. \n",
    "\n",
    "Зная предсказания всех возможных моделей для одного объекта, мы можем посчитать вклад каждого признака в предсказание. Вклад признака в предсказание высчитывается на основании его *маргинальных вкладов (marginal contribution)*. Маргинальный вклад признака &mdash; это разница между предсказанием модели, обученной на наборе, включающей данный признак, и модели, обученной на том же наборе, за исключением данного признака. В данном случае можно рассчитать маргинальный вклад для признака как разницу предсказаний, моделей, соединенных ребром в графе, а вес ребра и будет являться маргинальным вкладом.\n",
    "\n",
    "Например, маргинальный вклад для признака Age в предсказание нулевой модели для объекта $x_0$ рассчитывается следующим образом:\n",
    "\n",
    "$$MC_{Age,\\{Age\\}}(x_0)=Predict_{\\{Age\\}}(x_0)-Predict_{\\emptyset}(x_0)=40k\\,\\$-50k\\,\\$=-10k\\,\\$$$\n",
    "\n",
    "Для того, чтобы оценить вклад признака в предсказание модели, нужно учесть его маргинальные вклады, во все модели, где этот признак присутствует (в графе выделены соответствующие ребра):"
   ]
  },
  {
   "cell_type": "markdown",
   "metadata": {},
   "source": [
    "<img src=\"https://edunet.kea.su/repo/EduNet-content/L10/out/shap_estimation_important_features.png\" alt=\"alttext\" width=600/>"
   ]
  },
  {
   "cell_type": "markdown",
   "metadata": {},
   "source": [
    "SHAP значение является общим вкладом признака в предсказание и вычисляется как взвешенная сумма маргинальных вкладов:\n",
    "$$\n",
    "\\begin{multline*} \n",
    "SHAP_{Age}(x_0)=w_1\\cdot MC_{Age,\\{Age\\}}(x_0)+w_2\\cdot MC_{Age,\\{Age, Gender\\}}(x_0)\\\\+w_3\\cdot MC_{Age,\\{Age, Job\\}}(x_0)+w_4\\cdot MC_{Age,\\{Age, Gender, Job\\}}(x_0)\n",
    "\\end{multline*}\n",
    "$$\n",
    "\n",
    "Веса определяются согласно правилу: сумма весов маргинальных вкладов для каждого уровня графа (числа признаков в наборе $f$) должна быть равной 1\n",
    "\n",
    "Таким образом, нетрудно рассчитать веса маргинальных вкладов признака Age: \n",
    "* Первый уровень содержит 3 ребра, каждое из которых будет иметь вес $\\frac{1}{3}$\n",
    "* Второй уровень содержит 6 ребер, каждое из которых будет иметь вес $\\frac{1}{6}$\n",
    "* Третий уровень содержит 3 ребра, каждое из которых будет иметь вес $\\frac{1}{3}$\n",
    "\n",
    "Таким образом: $\\displaystyle w_1=w_4=\\frac{1}{3}, \\; w_2=w_3=\\frac{1}{6}$."
   ]
  },
  {
   "cell_type": "markdown",
   "metadata": {},
   "source": [
    "В общем случае вес маргинального вклада в модель, обученную на наборе из $f$ признаков, обратно пропорционален числу маргинальных вкладов во все модели, обученные на наборе из $f$ признаков.\n",
    "\n",
    "Число маргинальных вкладов во все модели, обученные на наборе из $f$ признаков, может быть рассчитано как: $f\\cdot C_{F}^{f}$, где $F$ &mdash; количество признаков. Например, рассчитаем вес $w_2$ маргинального вклада $MC_{Age,\\{Age, Gender\\}}(x_0)$, согласно правилу: $\\displaystyle w_2=\\left[f\\cdot C_{F}^{f}\\right]^{-1}=\\left[2\\cdot C_{3}^{2}\\right]^{-1}=\\frac{1}{6}$"
   ]
  },
  {
   "cell_type": "markdown",
   "metadata": {},
   "source": [
    "<img src=\"https://edunet.kea.su/repo/EduNet-content/L10/out/shap_compute_marginal_weights.png\" alt=\"alttext\" width=700/>"
   ]
  },
  {
   "cell_type": "markdown",
   "metadata": {},
   "source": [
    "Такие SHAP значения можно легко посчитать для каждого признака для каждого объекта и, например, усреднить по объектам какой-то группы. \n",
    "\n",
    "Например, можно взять все объекты, которые модель оценивает высоко, и посмотреть значимые дли них признаки. Либо, если у нас есть какая-то особенная группа объектов, можем контролировать, что для них модель выучивает именно важные признаки, а не какой-то мусор."
   ]
  },
  {
   "cell_type": "markdown",
   "metadata": {},
   "source": [
    "Посмотрим, как реализуется этот подход в NLP"
   ]
  },
  {
   "cell_type": "markdown",
   "metadata": {},
   "source": [
    "Установим пакет SHAP "
   ]
  },
  {
   "cell_type": "code",
   "execution_count": null,
   "metadata": {},
   "outputs": [],
   "source": [
    "from IPython.display import clear_output\n",
    "!pip install shap\n",
    "clear_output()"
   ]
  },
  {
   "cell_type": "markdown",
   "metadata": {},
   "source": [
    "#### Пример объяснения перевода с английского на русский\n",
    "Рассмотрим пример интерпретации модели для предварительно обученной модели машинного перевода\n",
    "[Machine Translation Example](https://github.com/slundberg/shap/blob/master/notebooks/text_examples/translation/Machine%20Translation%20Explanations.ipynb). И, раз уж мы будем для перевода использовать предобученную модель-трансформер, то переведем начало статьи [How Transformers Work](https://towardsdatascience.com/transformers-141e32e69591)"
   ]
  },
  {
   "cell_type": "markdown",
   "metadata": {},
   "source": [
    "### NLP модель"
   ]
  },
  {
   "cell_type": "markdown",
   "metadata": {},
   "source": [
    "Используем одну из моделей [huggingface ](https://github.com/huggingface/transformers)\n",
    "\n",
    "\n",
    "Модель: [Language Technology in Helsinki](https://blogs.helsinki.fi/language-technology/)\n",
    "\n",
    "\n",
    "[Language Technology Research Group at the University of Helsinki](https://huggingface.co/Helsinki-NLP)\n",
    "\n",
    "\n",
    "[Helsinki-NLP/opus-mt-en-ru](https://huggingface.co/Helsinki-NLP/opus-mt-en-ru)"
   ]
  },
  {
   "cell_type": "code",
   "execution_count": null,
   "metadata": {},
   "outputs": [],
   "source": [
    "!pip install sentencepiece\n",
    "!pip install transformers\n",
    "clear_output()"
   ]
  },
  {
   "cell_type": "markdown",
   "metadata": {},
   "source": [
    "Загружаем модель.\n",
    "\n",
    "Для этого используется класс-фабрика, на вход которому передается имя модели, а возвращается он объект соответствующего класса."
   ]
  },
  {
   "cell_type": "code",
   "execution_count": null,
   "metadata": {},
   "outputs": [],
   "source": [
    "import torch\n",
    "from transformers import  AutoModelForSeq2SeqLM\n",
    "\n",
    "device = torch.device('cuda' if torch.cuda.is_available() else 'cpu')\n",
    "\n",
    "lang = \"en\"\n",
    "target_lang = \"ru\"\n",
    "model_name = f'Helsinki-NLP/opus-mt-{lang}-{target_lang}'\n",
    "\n",
    "# Download the model and the tokenizer\n",
    "# can also try translation with different pre-trained models\n",
    "\n",
    "\n",
    "# It's a Factory pattern\n",
    "model = AutoModelForSeq2SeqLM.from_pretrained(model_name)\n",
    "model.to(device)\n",
    "clear_output()\n",
    "print(type(model))"
   ]
  },
  {
   "cell_type": "markdown",
   "metadata": {},
   "source": [
    "В данном случае нам вернулся объект типа [MarianMT](https://huggingface.co/transformers/model_doc/marian.html)\n",
    "\n"
   ]
  },
  {
   "cell_type": "markdown",
   "metadata": {},
   "source": [
    "Теперь создадим [токенайзер](https://huggingface.co/transformers/main_classes/tokenizer.html).\n",
    "\n",
    "Как мы уже обсуждали, токенайзер преобразует слова и знаки препинания из исходного текста в токены, которые можно подать на вход модели. В данном случае возвращаются id. При этом не всегда одно слово преобразуется в один токен, иногда слово разбивается по слогам на несколько токенов.\n",
    "\n",
    "\n",
    "Создается токенайзер так же фабрикой, по имени модели.\n"
   ]
  },
  {
   "cell_type": "code",
   "execution_count": null,
   "metadata": {},
   "outputs": [],
   "source": [
    "!pip -q install sacremoses"
   ]
  },
  {
   "cell_type": "code",
   "execution_count": null,
   "metadata": {},
   "outputs": [],
   "source": [
    "from transformers import AutoTokenizer\n",
    "\n",
    "tokenizer = AutoTokenizer.from_pretrained(model_name)\n",
    "print(type(tokenizer))\n",
    "\n",
    "input = tokenizer(\"Hello world!\", return_tensors=\"pt\")\n",
    "print(input)\n",
    "\n",
    "translated = model.generate(**tokenizer(\"Hello world!\", return_tensors=\"pt\").to(device))\n",
    " # ** -  is dictionary unpack operator\n",
    " # https://towardsdatascience.com/unpacking-operators-in-python-306ae44cd480"
   ]
  },
  {
   "cell_type": "markdown",
   "metadata": {},
   "source": [
    "Теперь переведем целую фразу. \n",
    "\n",
    "И проанализируем как выход модели связан со входом.\n",
    "\n",
    "Для этого создадим объект [shap.Explainer](https://shap.readthedocs.io/en/latest/generated/shap.Explainer.html)\n",
    "\n",
    "Который, в данном случае, инициализируется экземпляром модели и экземпляром токенайзера*.\n",
    "\n",
    "\n",
    "Вместо того что бы запускать саму модель, мы запускаем `Explainer` (неявно вызывая его метод `__call__`). \n"
   ]
  },
  {
   "cell_type": "markdown",
   "metadata": {},
   "source": [
    "\\* В действительности вторым параметром конструктора `shap.Explainer` не обязательно должен быть токенайзер. `shap.Explainer` принимает объект поддерживающий интерфейс `masker`:\n",
    "\n",
    "```masked_args = masker(*model_args, mask=mask)```\n",
    "\n",
    "Он используется для исключения части аргументов и токенайзеры поддерживают этот интерфейс (`shap.TokenMasker`). Благодаря такому подходу shap может работать с k.,с различными моделями как с \"черным ящиком\", \n"
   ]
  },
  {
   "cell_type": "code",
   "execution_count": null,
   "metadata": {},
   "outputs": [],
   "source": [
    "import shap\n",
    "# define the input sentences we want to translate\n",
    "data = [\n",
    "    \"Transformers are a type of neural network architecture that have been gaining popularity. Transformers were developed to solve the problem of sequence transduction, or neural machine translation. That means any task that transforms an input sequence to an output sequence. This includes speech recognition, text-to-speech transformation, etc..\"\n",
    "]\n",
    "\n",
    "# we build an explainer by passing the model we want to explain and\n",
    "# the tokenizer we want to use to break up the input strings\n",
    "explainer = shap.Explainer(model, tokenizer)\n",
    "\n",
    "# explainers are callable, just like models\n",
    "explanation = explainer(data)"
   ]
  },
  {
   "cell_type": "markdown",
   "metadata": {},
   "source": [
    "На выходе получаем объект класса [shap.Explanation](https://shap.readthedocs.io/en/latest/generated/shap.Explanation.html#shap-explanation)\n",
    "\n",
    "\n",
    "Который содержит значения Шепли для каждого токена."
   ]
  },
  {
   "cell_type": "code",
   "execution_count": null,
   "metadata": {},
   "outputs": [],
   "source": [
    "print(\"Data\", explanation.data)\n",
    "print(\"Shap values\", explanation.values)\n",
    "print(\"Shape\", explanation.shape) # 1, in, out"
   ]
  },
  {
   "cell_type": "markdown",
   "metadata": {},
   "source": [
    "\n",
    "\n",
    "Теперь используя магию shap, можно визуализировать результат."
   ]
  },
  {
   "cell_type": "code",
   "execution_count": null,
   "metadata": {},
   "outputs": [],
   "source": [
    "shap.initjs()\n",
    "shap.plots.text(explanation)"
   ]
  },
  {
   "cell_type": "markdown",
   "metadata": {},
   "source": [
    "## LIME\n",
    "\n",
    "Значения Шэпли, используемые SHAP, показанные в предыдущем примере хорошо подходят для объяснения вклада в предсказание небольшого количества признаков. Однако SHAP работает не совсем корректно в моделях, использующих множество признаков, поскольку он обычно приписывает ненулевые вклады для всех доступных переменных. В таких сферах как, например, биоинформатика или распознавание изображений часто модели используют тысячи и миллионы признаков. В таких случаях была бы полезна процедура прореживания входных признаков до некого небольшого числа. Наиболее популярный подход, позволяющий это делать &mdash; [__LIME__](https://arxiv.org/abs/1602.04938) (Local Interpretable Model-agnostic Explanations).\n",
    "\n",
    "Ключевая идея LIME &mdash; локальная аппроксимация сложно-интерпретируемой (black-box) модели при помощи легко-интерпретируемой (glass-box) модели (например, линейной моделью с несколькими ненулевыми коэффициентами), получающаяся при внесении изменений в данные. \n",
    "\n",
    "Это оказывается преимуществом с точки зрения интерпретируемости, потому что мы можем вносить изменения в признаки на входе, которые имеют смысл для людей (например, слова или части изображения), даже если модель использует гораздо более сложные компоненты в качестве функций (например, word embeddings)."
   ]
  },
  {
   "cell_type": "markdown",
   "metadata": {},
   "source": [
    "### Принцип работы:\n",
    "\n",
    "Принцип работы LIME можно проиллюстрировать следующим изображением:\n",
    "\n",
    "<img src =\"https://edunet.kea.su/repo/EduNet-content/L10/out/lime_example.png\" width=\"600\">\n",
    "\n",
    "Допустим, мы хотим понять признаки, влияющие на предсказание некоторой black-box модели для некоторого образца (фиолетовый крест). По осям отложены значения двух непрерывных признаков. Граница между цветными зонами &mdash; разделяющая поверхность бинарного классификатора, использующего комбинацию этих 2-х признаков (фиолетовый цвет &mdash; кресты, голубой &mdash; круги). Для понимания того, как ведет себя сложная black-box модель в окрестности точки интереса, мы генерируем искусственный набор данных (представленный объектами меньшего размера вокруг фиолетового креста, размер зависит от близости к объекту интереса), на котором обучаем glass-box модель, которая будет локально аппроксимировать (пунктирная линия) предсказание black-box модели. В качестве glass-box моделей могут быть использованы, например, LASSO регрессия или решающие деревья."
   ]
  },
  {
   "cell_type": "markdown",
   "metadata": {},
   "source": [
    "### Описание алгоритма\n",
    "\n",
    "Итак, мы хотим найти glass-box модель $g(x)$, которая будет локально аппроксимировать black-box модель $f(x)$ в окрестности объекта интереса $x^*$. $G$ &mdash; семейство интерпретируемых моделей (линейные модели, деревья, ..). Искомая аппроксимация будет выглядеть следующим образом:\n",
    "\n",
    "$$\\hat{g}=\\underset{g\\in G}{\\mathrm{argmin}}L(f,g,\\pi_x)+\\Omega (g),$$\n",
    "\n",
    "где $\\pi_x$ &mdash; расстояние, определяющееся по некоторой метрике от сгенерированных объектов до объекта интереса, функция $L()$ измеряет несоответствие между предсказаниями моделей $f()$ и $g()$, а $\\Omega (g)$ &mdash; штраф за сложность модели  $g()$. На практике зачастую, чтобы не заниматься оптимизацией этого штрафа, просто вводят некоторое ограничение на сложность моделей $g()$. Для деревьев это может быть глубина дерева, для линейных моделей &mdash; число ненулевых коэффициентов.\n",
    "\n",
    "В начале мы упоминали, что LIME оперирует неким разреженным набором признаков, соответственно, стоит обратить внимание на то, что модели $f()$ и $g()$ оперируют разными пространствами признаков, $f()$ &mdash; пространством размерности $p$ ($R^p$), соответствующей количеству признаков в исходных данных, $g()$ &mdash; пространством размерности $q$ ($R^q$), при этом $q<<p$. Пространство $R^q$ называется _интерпретируемым представлением_ признаков. Пусть некая функция $h(x)$ переводит пространство признаков $R^p$ в $R^q$.\n",
    "\n",
    "Саму функцию, оценивающую расхождение между предсказаниями моделей $f()$ и $g()$, можно представить следующим образом:\n",
    "\n",
    "$$L(f,g,\\pi_x)=\\sum_{z,z'}\\pi_x(z)(f(z)-g(z'))^2,$$\n",
    "\n",
    "где $z$ и $z'$ &mdash; наборы искусственно сгенерированных объектов в окрестности $x^*$ в пространствах $R^p$ и $R^q$ соответственно.\n",
    "\n",
    "Теперь мы можем собрать целиком алгоритм получения объяснения вклада переменных. Представим его в виде псевдокода:\n",
    "\n",
    "1. Дано: $x^*$ &mdash; объект для интерпретации вкладов признаков в модель, $N$ &mdash; размер искусственного датасета в окрестности целевого объекта, $similarity$ &mdash; метрика расстояния\n",
    "2. $x' = h(x^*)$ переведем целевой объект в пространство меньшей размерности\n",
    "\n",
    "```z' = []\n",
    "for i in rnage(N):\n",
    "    z'[i] = sample_around(x')\n",
    "    y'[i] = f(z[i])\n",
    "    pi_x'[i] = similarity(x', z'[i])\n",
    "\n",
    "return K-Lasso(y', x', pi_x')\n",
    "```\n",
    "\n",
    "Выдачей алгоритма служит линейная модель, отобравшая К признаков на основе $y'$, $x'$, $\\pi_x'$."
   ]
  },
  {
   "cell_type": "markdown",
   "metadata": {},
   "source": [
    "### Как получить набор объектов вблизи искомого?\n",
    "\n",
    "В зависимости от типа данных, изменения вносятся по-разному:\n",
    "*  В текстах можно просто удалить слово;\n",
    "*  Для изображений можно делить картинку на области (суперпиксели) и поочередно закрашивать их одним и тем же цветом (средним).\n",
    "\n",
    "Проще всего разобраться с тем, как себя вести с табличными данными:\n",
    "\n",
    "Для бинарных переменных в низкоразмерном пространстве достаточно просто менять значение переменной на противоположное(0 на 1 и 1 на 0). Для вещественных переменных были предложены разные варианты. Например, к ним можно прибавлять Гауссов шум или дискретизировать (например, по квантилям), и затем изменять получившиеся признаки."
   ]
  },
  {
   "cell_type": "markdown",
   "metadata": {},
   "source": [
    "### Ограничения\n",
    "\n",
    "Описанный подход позволяет интерпретировать поведение модели только в некоторой области вблизи интересующего нас экземпляра.\n",
    "На практике этого может быть достаточно. И, в отличие от SHAP, этот подход работает быстрее, так как не требует перебора всех комбинаций признаков."
   ]
  },
  {
   "cell_type": "markdown",
   "metadata": {},
   "source": [
    "### Пример объяснения классификации статей по религиозному принципу"
   ]
  },
  {
   "cell_type": "markdown",
   "metadata": {},
   "source": [
    "<img src=\"https://edunet.kea.su/repo/EduNet-web_dependencies/L10/christian_or_atheist.png\" alt=\"alttext\" width=900/>"
   ]
  },
  {
   "cell_type": "markdown",
   "metadata": {},
   "source": [
    "Используем датасет [fetch_20newsgroups](https://scikit-learn.org/stable/modules/generated/sklearn.datasets.fetch_20newsgroups.html): \n",
    "\n",
    "Данные [«The 20 Newsgroups»](http://qwone.com/~jason/20Newsgroups/) — это коллекция примерно из 20000 новостных документов, разделенная (приблизительно) равномерно между 20 различными категориями. Изначально она собиралась Кеном Ленгом (Ken Lang), возможно, для его работы «Newsweeder: Learning to filter netnews» («Новостной обозреватель: учимся фильтровать новости из сети»).\n",
    "\n",
    "Коллекция «The 20 newsgroups» стала популярным набором данных для экспериментов с техниками машинного обучения для текстовых приложений, таких как классификация текста или его кластеризация.\n",
    "\n",
    "[[code] Fetching data, training a classifier](https://marcotcr.github.io/lime/tutorials/Lime%20-%20multiclass.html)\n",
    "\n",
    "В данном примере мы будем использовать [Multinomial Naive Bayes](https://scikit-learn.org/stable/modules/generated/sklearn.naive_bayes.MultinomialNB.html?highlight=multinomial%20naive%20bayes#sklearn.naive_bayes.MultinomialNB) для классификации."
   ]
  },
  {
   "cell_type": "code",
   "execution_count": null,
   "metadata": {},
   "outputs": [],
   "source": [
    "import sklearn\n",
    "from sklearn.datasets import fetch_20newsgroups\n",
    "\n",
    "newsgroups_train = fetch_20newsgroups(subset='train')\n",
    "newsgroups_test = fetch_20newsgroups(subset='test')\n",
    "# making class names shorter\n",
    "class_names = [x.split('.')[-1] if 'misc' not in x else '.'.join(x.split('.')[-2:]) for x in newsgroups_train.target_names]\n",
    "class_names[3] = 'pc.hardware'\n",
    "class_names[4] = 'mac.hardware'\n",
    "\n",
    "print(class_names)"
   ]
  },
  {
   "cell_type": "markdown",
   "metadata": {},
   "source": [
    "LIME используется для объяснения множества классификаторов (таких как RandomForest или SVM и нейронные сети) при анализе моделей NLP и CV.\n",
    "\n",
    "Знаменитый набор данных из 20 групп новостей является эталоном и использовался для сравнения различных моделей в нескольких статьях.\n",
    "\n",
    "Мы берем два класса, которые трудно различить, потому что в них много схожих слов: христианство и атеизм.\n",
    "\n",
    "Обучая модель, мы получаем точность тестового набора 83,5%, что является удивительно высоким показателем. Если бы точность была нашим единственным мерилом доверия, мы бы точно доверились этому классификатору.\n",
    "\n",
    "Однако давайте посмотрим на объяснение на рисунке для произвольного экземпляра в тестовом наборе:"
   ]
  },
  {
   "cell_type": "code",
   "execution_count": null,
   "metadata": {},
   "outputs": [],
   "source": [
    "from sklearn.feature_extraction.text import TfidfVectorizer\n",
    "import sklearn.metrics\n",
    "from sklearn.naive_bayes import MultinomialNB\n",
    "\n",
    "# Again, let's use the tfidf vectorizer, commonly used for text.\n",
    "vectorizer = sklearn.feature_extraction.text.TfidfVectorizer(lowercase=False)\n",
    "train_vectors = vectorizer.fit_transform(newsgroups_train.data)\n",
    "test_vectors = vectorizer.transform(newsgroups_test.data)\n",
    "\n",
    "# Train the model\n",
    "model_nb = MultinomialNB(alpha=.01)\n",
    "model_nb.fit(train_vectors, newsgroups_train.target)\n",
    "\n",
    "# Calculate F1_score\n",
    "pred = model_nb.predict(test_vectors)\n",
    "sklearn.metrics.f1_score(newsgroups_test.target, pred, average='weighted')"
   ]
  },
  {
   "cell_type": "code",
   "execution_count": null,
   "metadata": {},
   "outputs": [],
   "source": [
    "print(train_vectors.shape)\n",
    "print(type(train_vectors[0]), train_vectors[0].shape)\n",
    "print(vectorizer.get_feature_names_out())"
   ]
  },
  {
   "cell_type": "markdown",
   "metadata": {},
   "source": [
    "Как видно из кода, текст подается на вход модели не в сыром виде, а после предобработки объектом vectorizer. \n",
    "\n",
    "[LimeTextExplainer](https://lime-ml.readthedocs.io/en/latest/lime.html#lime.lime_text.LimeTextExplainer)  ждет на вход данные и класс модели:\n",
    "\n",
    "\n",
    "```\n",
    "explain_instance(text_instance, classifier_fn, labels=(1, ), top_labels=None, num_features=10, num_samples=5000, distance_metric='cosine', model_regressor=None)\n",
    "```\n",
    "\n",
    "**classifier_fn** *– classifier prediction probability function, which takes a list of d strings and outputs a (d, k) numpy array with prediction probabilities, where k is the number of classes. For ScikitClassifiers , this is classifier.predict_proba.*\n",
    "\n",
    "\n",
    "\n",
    " Что поэтому в примере используется обертка над классом преобразовывающем данные и моделью:\n",
    "\n",
    " [sklearn.pipeline.make_pipeline](https://scikit-learn.org/stable/modules/generated/sklearn.pipeline.make_pipeline.html)"
   ]
  },
  {
   "cell_type": "code",
   "execution_count": null,
   "metadata": {},
   "outputs": [],
   "source": [
    "from sklearn.pipeline import make_pipeline\n",
    "\n",
    "#https://scikit-learn.org/stable/modules/generated/sklearn.pipeline.make_pipeline.html\n",
    "model_with_preprocessing = make_pipeline(vectorizer, model_nb)"
   ]
  },
  {
   "cell_type": "markdown",
   "metadata": {},
   "source": [
    "Мы видим, что этот классификатор имеет очень высокий F1_score. Руководство sklearn для 20 newsgroups указывает, что Multinomial Naive Bayes переучивается на этом наборе данных, изучая нерелевантные взаимосвязи, такие как заголовки.\n",
    "\n",
    "Теперь мы используем LIME для объяснения индивидуальных прогнозов...\n"
   ]
  },
  {
   "cell_type": "markdown",
   "metadata": {},
   "source": [
    "В случае мультикласса, мы должны определить, для каких меток хотим получить объяснения с помощью параметра «labels». Сгенерируем пояснения для меток 0 и 17:\n"
   ]
  },
  {
   "cell_type": "code",
   "execution_count": null,
   "metadata": {},
   "outputs": [],
   "source": [
    "!pip -q install lime"
   ]
  },
  {
   "cell_type": "code",
   "execution_count": null,
   "metadata": {},
   "outputs": [],
   "source": [
    "import lime\n",
    "from lime.lime_text import LimeTextExplainer\n",
    "import numpy as np\n",
    "\n",
    "rng = np.random.RandomState(42)\n",
    "explainer = LimeTextExplainer(class_names=class_names, random_state=rng)\n",
    "idx = 1340\n",
    "exp = explainer.explain_instance(newsgroups_test.data[idx],\n",
    "                                 model_with_preprocessing.predict_proba,\n",
    "                                 num_features=6,\n",
    "                                 labels=[0,17]\n",
    "                                 )\n",
    "print('Document id: %d' % idx)\n",
    "print('Predicted class =', class_names[model_nb.predict(test_vectors[idx]).reshape(1,-1)[0,0]])\n",
    "print('True class: %s' % class_names[newsgroups_test.target[idx]])"
   ]
  },
  {
   "cell_type": "markdown",
   "metadata": {},
   "source": [
    "Возвращается, как и в случае с SHAP, специальный объект класса [Explanation](https://lime-ml.readthedocs.io/en/latest/lime.html?highlight=Explanation#lime.explanation.Explanation)\n"
   ]
  },
  {
   "cell_type": "markdown",
   "metadata": {},
   "source": [
    "Попросим LIME сгенерировать метки для K=2 классов. Чтобы увидеть, какие ярлыки имеют объяснения, используйте функцию available_labels"
   ]
  },
  {
   "cell_type": "code",
   "execution_count": null,
   "metadata": {},
   "outputs": [],
   "source": [
    "idx = 1340\n",
    "exp = explainer.explain_instance(newsgroups_test.data[idx],\n",
    "                                 model_with_preprocessing.predict_proba,\n",
    "                                 num_features=6,\n",
    "                                 top_labels=2)\n",
    "print(exp.available_labels())"
   ]
  },
  {
   "cell_type": "code",
   "execution_count": null,
   "metadata": {},
   "outputs": [],
   "source": [
    "print(exp.as_list(label=0))\n",
    "print(exp.as_list(label=15))"
   ]
  },
  {
   "cell_type": "markdown",
   "metadata": {},
   "source": [
    "Обратите внимание, что положительный и отрицательный знаки относятся к конкретной метке — так что слова, отрицательные по отношению к классу 0, могут быть положительными по отношению к классу 15, и наоборот."
   ]
  },
  {
   "cell_type": "code",
   "execution_count": null,
   "metadata": {},
   "outputs": [],
   "source": [
    "exp.show_in_notebook(text=newsgroups_test.data[idx], labels=(0,))"
   ]
  },
  {
   "cell_type": "markdown",
   "metadata": {},
   "source": [
    "Теперь давайте посмотрим на визуализацию объяснений.\n",
    "Обратите внимание, что для каждого класса слова в правой части строки являются «положительными», а слова в левой части — «отрицательными» для объясняемого класса.\n",
    "\n",
    "Также видно, что в классификаторе используются как разумные слова (такие как «геноцид», «Лютер», «семитский» и т. д.), так и неразумные («рис», «сова»).\n",
    "\n",
    "Давайте увеличим масштаб и просто посмотрим на объяснения класса «атеизм»."
   ]
  },
  {
   "cell_type": "code",
   "execution_count": null,
   "metadata": {},
   "outputs": [],
   "source": [
    "exp.show_in_notebook(text=newsgroups_test.data[idx], labels=(15,))"
   ]
  },
  {
   "cell_type": "markdown",
   "metadata": {},
   "source": [
    "Глядя на этот пример, можно увидеть, что в заголовке или кавычках может быть и полезный сигнал, который будет помогать обобщению (например,  в строке «Тема»).\n",
    "\n",
    "А есть и слова, которые нельзя обобщать (например, адреса электронной почты и названия учреждений)."
   ]
  },
  {
   "cell_type": "markdown",
   "metadata": {},
   "source": [
    "TF-IDF (TF — term frequency, IDF — inverse document frequency):\n",
    "\n",
    "\n",
    "[[wiki] TF-IDF](https://ru.wikipedia.org/wiki/TF-IDF)\n",
    "\n",
    "[[code] sklearn.feature_extraction.text.TfidfVectorizer](https://scikit-learn.org/stable/modules/generated/sklearn.feature_extraction.text.TfidfVectorizer.html)\n",
    "\n",
    "[[medium] TF-IDF Vectorizer scikit-learn](https://medium.com/@cmukesh8688/tf-idf-vectorizer-scikit-learn-dbc0244a911a)"
   ]
  },
  {
   "cell_type": "markdown",
   "metadata": {},
   "source": [
    "## Boruta \n",
    "\n",
    "Автоматический отбор признаков на github [boruta_py](https://github.com/scikit-learn-contrib/boruta_py)"
   ]
  },
  {
   "cell_type": "markdown",
   "metadata": {},
   "source": [
    "### Идея"
   ]
  },
  {
   "cell_type": "markdown",
   "metadata": {},
   "source": [
    "Попробуем \"раздуть\" наш датасет, добавив в него \"теневые признаки\" $-$ перемешанные реальные. Таким образом, наш датасет точно будет содержать хорошие признаки (мы ничего не удаляем). "
   ]
  },
  {
   "cell_type": "markdown",
   "metadata": {},
   "source": [
    "<img src=\"https://edunet.kea.su/repo/EduNet-content/L10/out/boruta_idea.png\" alt=\"alttext\" width=600/>"
   ]
  },
  {
   "cell_type": "markdown",
   "metadata": {},
   "source": [
    "После этого обучаем модель и отбираем те признаки, которые по качеству лучше теневых. Успех? Не совсем, ведь перемешивание это случайный процесс. Надо повторить процедуру несколько раз для того чтобы удалить случайные скачки качества.\n",
    "\n",
    "Таким образом, для каждого признака мы будем знать, сколько раз мы его отобрали. Получаем распределение. Самая большая неопределенность будет в середине (вероятность отобрать = 0.5):"
   ]
  },
  {
   "cell_type": "markdown",
   "metadata": {},
   "source": [
    "<img src=\"https://edunet.kea.su/repo/EduNet-content/L10/out/boruta_diagram.png\" alt=\"alttext\" width=600/>"
   ]
  },
  {
   "cell_type": "markdown",
   "metadata": {},
   "source": [
    "[Boruta Explained Exactly How You Wished Someone Explained to You](https://towardsdatascience.com/boruta-explained-the-way-i-wish-someone-explained-it-to-me-4489d70e154a)"
   ]
  },
  {
   "cell_type": "markdown",
   "metadata": {},
   "source": [
    "Набор (в нашем случае из 20) испытаний Бернулли это биномиальное распределение. Поступаем просто. Со значимостью, допустим 0.05, берем все из хорошего хвоста и отбрасываем из плохого хвоста. С признаками из середины колокола ничего особо не сделаешь, увеличение числа итераций приведет к ужатию колокола, но глобально не поможет.\n",
    "\n",
    "Если нам нужна хорошо интерпретируемая модель, то надо брать только \"точно хорошие\" признаки. А если мы готовы поднабрать мусорных признаков, то можем отбросить только плохой хвост.\n",
    "\n",
    "Классическая Борута работает с Gini Impurity, но есть и реализации с SHAP. В этом плане она универсальна. В принципе ее можно применять и для градиентного бустинга тоже."
   ]
  },
  {
   "cell_type": "markdown",
   "metadata": {},
   "source": [
    "## Другие библиотеки"
   ]
  },
  {
   "cell_type": "markdown",
   "metadata": {},
   "source": [
    "[[git] DEN](https://github.com/isaacrob/DEN) : основан на новом режиме обучения сиамской нейронной сети без учителя и функции потерь, который называется Differentiating EmbeddingNetworks (DEN).\n",
    "\n",
    "Сиамская нейронная сеть находит отличительные или похожие черты между конкретными парами образцов в наборе данных и использует эти функции, чтобы встроить набор данных в пространство более низкой размерности, где он может быть визуализирован.\n",
    "\n",
    "В отличие от существующих алгоритмов визуализации, таких как UMAP ort-SNE, DEN является параметрическим, то есть его можно интерпретировать такими методами, как SHAP.\n",
    "\n",
    "[[towardsdatascience] XAI](https://towardsdatascience.com/xai-build-your-own-deep-learning-interpretation-algorithm-6e471b59af7) \n",
    "\n",
    "[[git] Boruta](https://github.com/scikit-learn-contrib/boruta_py) — это метод выбора всех релевантных функций, изобретенный Витольдом Р. Рудницки и разработанный Мироном Б. Курса из ICM UW.\n",
    "\n",
    "Boruta выбирает все необходимые признаки, в то время как другие являются не оптимальными. Метод пытается найти все признаки, несущие информацию, используемую для прогнозирования, вместо того, чтобы находить компактное подмножество признаков, по которым некоторый классификатор имеет минимальную ошибку.\n",
    "\n",
    "Зачем беспокоиться о выборе всех необходимых признаков?\n",
    "\n",
    "Когда вы пытаетесь понять феномен, создавший ваши данные, вы должны заботиться о тех факторах, которые способствуют этому, а не только о самых грубых признаках этого в контексте вашей методологии. Но помните, что минимальный оптимальный набор признаков по определению зависит от вашего выбора классификатора. В примере ниже можно увеличить число слоев и, отвергнутые ранее признаки окажутся востребованными моделью.\n",
    "\n",
    "[[towardsdatascience] Boruta Feature Selection](https://towardsdatascience.com/simple-example-using-boruta-feature-selection-in-python-8b96925d5d7a) "
   ]
  },
  {
   "cell_type": "markdown",
   "metadata": {},
   "source": [
    "# Примеры explanations для разных видов данных"
   ]
  },
  {
   "cell_type": "markdown",
   "metadata": {},
   "source": [
    "## Табличные данные"
   ]
  },
  {
   "cell_type": "markdown",
   "metadata": {},
   "source": [
    "Для примера скачаем датасет жилья Бостона (boston_dataset), в котором проанализируем зависимость цены на жилье от параметров жилья и района, в котором оно находится."
   ]
  },
  {
   "cell_type": "markdown",
   "metadata": {},
   "source": [
    "Разобьем данные на train и test и обучим Random Forest модель."
   ]
  },
  {
   "cell_type": "code",
   "execution_count": null,
   "metadata": {},
   "outputs": [],
   "source": [
    "from sklearn.model_selection import train_test_split\n",
    "from sklearn.ensemble import RandomForestRegressor\n",
    "import pandas as pd\n",
    "import numpy as np\n",
    "\n",
    "\n",
    "# load dataset\n",
    "boston_dataset = pd.read_csv('https://edunet.kea.su/repo/EduNet-web_dependencies/L10/boston_dataset.csv', index_col=0)\n",
    "x_data = boston_dataset.iloc[:, :-1]\n",
    "y_data = boston_dataset['target']\n",
    "\n",
    "# Split the data into train and test data\n",
    "x_train, x_test, y_train, y_test = train_test_split(x_data, y_data, test_size=0.2,\n",
    "                                                    random_state=42)\n",
    "\n",
    "# Build the model with the random forest regression algorithm\n",
    "rng = np.random.RandomState(42)\n",
    "model = RandomForestRegressor(n_jobs=-1, max_depth=4, random_state=rng)\n",
    "model.fit(x_train, y_train)"
   ]
  },
  {
   "cell_type": "markdown",
   "metadata": {},
   "source": [
    "### Shap"
   ]
  },
  {
   "cell_type": "markdown",
   "metadata": {},
   "source": [
    "Применим Shap."
   ]
  },
  {
   "cell_type": "code",
   "execution_count": null,
   "metadata": {},
   "outputs": [],
   "source": [
    "!pip -q install shap"
   ]
  },
  {
   "cell_type": "code",
   "execution_count": null,
   "metadata": {},
   "outputs": [],
   "source": [
    "import shap\n",
    "\n",
    "# explain the model's predictions using SHAP\n",
    "# (same syntax works for LightGBM, CatBoost, scikit-learn and spark models)\n",
    "explainer = shap.TreeExplainer(model)\n",
    "shap_values = explainer.shap_values(x_train)"
   ]
  },
  {
   "cell_type": "code",
   "execution_count": null,
   "metadata": {},
   "outputs": [],
   "source": [
    "print(type(shap_values)) # numpy.ndarray"
   ]
  },
  {
   "cell_type": "markdown",
   "metadata": {},
   "source": [
    "**Force plots** \n",
    "\n",
    "Хороший способ визуализировать вклад каждого фактора в конкретный прогноз — использовать график сил.\n",
    "\n",
    "В приведенном ниже примере показан график силы для 2-го случая в тестовом наборе данных."
   ]
  },
  {
   "cell_type": "code",
   "execution_count": null,
   "metadata": {},
   "outputs": [],
   "source": [
    "# load JS visualization code to notebook\n",
    "shap.initjs()\n",
    "# visualize the first prediction’s explanation\n",
    "shap.force_plot(explainer.expected_value, shap_values[1, :], x_data.iloc[1, :])"
   ]
  },
  {
   "cell_type": "markdown",
   "metadata": {},
   "source": [
    "* $f(x)$ &mdash; это прогноз модели по анализируемому объекту недвижимости. А base_value - это средний прогноз по всему набору тестовых данных. Или, другими словами, это значение, которое можно было бы спрогнозировать, если бы мы не знали никаких характеристик текущего примера.\n",
    "\n",
    "* Элементы, которые способствуют увеличению цены, показаны красным, а те, которые уменьшают — синим."
   ]
  },
  {
   "cell_type": "markdown",
   "metadata": {},
   "source": [
    "**Waterfall_plot**\n",
    "\n",
    "Другой способ понимания влияния факторов для конкретного примера:"
   ]
  },
  {
   "cell_type": "code",
   "execution_count": null,
   "metadata": {},
   "outputs": [],
   "source": [
    "# visualize the first prediction's explanation using waterfall\n",
    "\n",
    "shap.plots._waterfall.waterfall_legacy(explainer.expected_value[0], shap_values[1, :], x_data.iloc[1, :])"
   ]
  },
  {
   "cell_type": "markdown",
   "metadata": {},
   "source": [
    "Этот график объясняет движущие силы конкретного прогноза:\n",
    "\n",
    "Влияние каждой отдельной функции (менее значимые функции объединяются в одну группу) представлено стрелками, которые перемещают логарифмическое отношение шансов влево и вправо, начиная с базового значения.\n",
    "\n",
    "---"
   ]
  },
  {
   "cell_type": "markdown",
   "metadata": {},
   "source": [
    "Приведенный выше пример приведен только для одного случая.\n",
    "\n",
    "Если мы возьмем много пояснений Force plots, повернем их на 90 градусов, а затем сложим их по горизонтали, мы сможем увидеть объяснения для всего набора данных (в notebook этот график является интерактивным):"
   ]
  },
  {
   "cell_type": "code",
   "execution_count": null,
   "metadata": {},
   "outputs": [],
   "source": [
    "# load JS visualization code to notebook\n",
    "shap.initjs()\n",
    "# visualize the training set predictions\n",
    "shap.force_plot(explainer.expected_value, shap_values, x_data)"
   ]
  },
  {
   "cell_type": "code",
   "execution_count": null,
   "metadata": {},
   "outputs": [],
   "source": [
    "import matplotlib.pyplot as plt\n",
    "import seaborn as sns\n",
    "\n",
    "df = pd.DataFrame(shap_values, columns=x_data.columns)\n",
    "sns.clustermap(df)\n",
    "plt.show()"
   ]
  },
  {
   "cell_type": "markdown",
   "metadata": {},
   "source": [
    "**Summary plot**\n",
    "\n",
    "Сводный график с plot_type = 'bar' даст нам график важности переменной.\n",
    "\n",
    "Функции с высокой предсказательной способностью показаны вверху, а с низкой предсказательной силой — внизу."
   ]
  },
  {
   "cell_type": "code",
   "execution_count": null,
   "metadata": {},
   "outputs": [],
   "source": [
    "shap.summary_plot(shap_values, x_train, plot_type='bar')"
   ]
  },
  {
   "cell_type": "markdown",
   "metadata": {},
   "source": [
    "Обратите внимание, что согласно Shap наименьшей предсказательной способностью обладают признаки **CHAS, ZN, RAD** и **INDUS**.\n",
    "\n",
    "Здесь мы только что рассмотрели алгоритм TreeExplainer для интерпретации модели.\n",
    "\n",
    "Вы можете изучить остальные алгоритмы — DeepExplainer, kernelExplainer, LinearExplainer и GradientExplainer."
   ]
  },
  {
   "cell_type": "markdown",
   "metadata": {},
   "source": [
    "### Boruta"
   ]
  },
  {
   "cell_type": "markdown",
   "metadata": {},
   "source": [
    "Попробуем применить алгоритм Boruta к этому же датасету, и сократить количество признаков.  \n",
    "Оценим текущее качество модели, используя [R2 метрику](https://ru.wikipedia.org/wiki/%D0%9A%D0%BE%D1%8D%D1%84%D1%84%D0%B8%D1%86%D0%B8%D0%B5%D0%BD%D1%82_%D0%B4%D0%B5%D1%82%D0%B5%D1%80%D0%BC%D0%B8%D0%BD%D0%B0%D1%86%D0%B8%D0%B8)."
   ]
  },
  {
   "cell_type": "code",
   "execution_count": null,
   "metadata": {},
   "outputs": [],
   "source": [
    "r2 = model.score(x_test, y_test)\n",
    "# R2 is coefficient of determination \n",
    "# https://scikit-learn.org/stable/modules/generated/sklearn.metrics.r2_score.html\n",
    "print(f'R2 score {r2:.4f}')"
   ]
  },
  {
   "cell_type": "markdown",
   "metadata": {},
   "source": [
    "Загрузим Boruta:"
   ]
  },
  {
   "cell_type": "code",
   "execution_count": null,
   "metadata": {},
   "outputs": [],
   "source": [
    "from IPython.display import clear_output\n",
    "!pip install boruta\n",
    "clear_output()"
   ]
  },
  {
   "cell_type": "markdown",
   "metadata": {},
   "source": [
    "Питоновская реализация Boruta соответствует  API sklearn и может использоваться как в конвейере, так и самостоятельно.\n",
    "\n",
    "[[towardsdatascience] Boruta Feature Selection (an Example in Python)](https://towardsdatascience.com/simple-example-using-boruta-feature-selection-in-python-8b96925d5d7a)"
   ]
  },
  {
   "cell_type": "markdown",
   "metadata": {},
   "source": [
    "Boruta работает с numpy.array:"
   ]
  },
  {
   "cell_type": "code",
   "execution_count": null,
   "metadata": {},
   "outputs": [],
   "source": [
    "print(type(x_train))\n",
    "\n",
    "x_train = x_train.to_numpy()\n",
    "x_test = x_test.to_numpy()\n",
    "y_train = y_train.to_numpy()\n",
    "y_test = y_test.to_numpy()\n",
    "\n",
    "print(type(x_train))"
   ]
  },
  {
   "cell_type": "markdown",
   "metadata": {},
   "source": [
    "Проведем оценку признаков при помощи Boruta.\n",
    "P.S. Потребуется около 30 сек."
   ]
  },
  {
   "cell_type": "code",
   "execution_count": null,
   "metadata": {},
   "outputs": [],
   "source": [
    "from boruta import BorutaPy\n",
    "\n",
    "# define Boruta feature selection method\n",
    "forest = RandomForestRegressor(n_jobs=-1,  max_depth=4, random_state=42)\n",
    "feat_selector = BorutaPy(forest, n_estimators='auto', verbose=2, random_state=42)\n",
    "\n",
    "# find all relevant features\n",
    "feat_selector.fit(x_train, y_train)"
   ]
  },
  {
   "cell_type": "markdown",
   "metadata": {},
   "source": [
    "Выведем признаки с оценкой их важности и очистим датасет от маловажных признаков"
   ]
  },
  {
   "cell_type": "code",
   "execution_count": null,
   "metadata": {},
   "outputs": [],
   "source": [
    "# zip my names, ranks, and decisions in a single iterable\n",
    "feature_ranks = list(zip(X_data.columns, \n",
    "                         feat_selector.ranking_, \n",
    "                         feat_selector.support_))\n",
    "\n",
    "# iterate through print out the results and remove features with low rank\n",
    "for feat in feature_ranks:\n",
    "    print('Feature: {:<25} Rank: {},  Keep: {}'.format(feat[0], feat[1], feat[2]))\n",
    "    if feat[2] == False: del X_data[feat[0]]"
   ]
  },
  {
   "cell_type": "markdown",
   "metadata": {},
   "source": [
    "\"Лишними\" по мнению Boruta являются признаки **ZN, INDUS, CHAS, RAD**. Shap также посчитал, что они обладают наименьшей предсказательной способностью. Датасет без \"лишних\" признаков."
   ]
  },
  {
   "cell_type": "code",
   "execution_count": null,
   "metadata": {},
   "outputs": [],
   "source": [
    "x_data[:2]"
   ]
  },
  {
   "cell_type": "markdown",
   "metadata": {},
   "source": [
    "Обучение на признаках, отобранных Boruta.\n",
    "Давайте проверим, можем ли мы добиться такого же результата, если проанализируем и уберем «лишние» данные?"
   ]
  },
  {
   "cell_type": "code",
   "execution_count": null,
   "metadata": {},
   "outputs": [],
   "source": [
    "# Split the data into train and test data\n",
    "x_train, x_test, y_train, y_test = train_test_split(x_data, y_data, test_size=0.2,\n",
    "                                                    random_state=42)\n",
    "\n",
    "# Build the model with the random forest regression algorithm\n",
    "rng = np.random.RandomState(42)\n",
    "model = RandomForestRegressor(n_jobs=-1, max_depth=4, random_state=rng)\n",
    "model.fit(x_train, y_train)\n",
    "\n",
    "# R2 is coefficient of determination \n",
    "r2 = model.score(x_test, y_test)\n",
    "print(f'R2 score {r2:.4f}')"
   ]
  },
  {
   "cell_type": "markdown",
   "metadata": {},
   "source": [
    "Удалив 4 признака, мы не потеряли в точности."
   ]
  },
  {
   "cell_type": "markdown",
   "metadata": {},
   "source": [
    "## NLP: Пример абстрактного обобщения текста \n",
    "\n",
    "потребуется время"
   ]
  },
  {
   "cell_type": "markdown",
   "metadata": {},
   "source": [
    "[[text] plot](https://shap.readthedocs.io/en/latest/example_notebooks/api_examples/plots/text.html)"
   ]
  },
  {
   "cell_type": "markdown",
   "metadata": {},
   "source": [
    "В этом примере интерпретируется модель генерации объяснений для предварительно обученной модели для составления краткого резюме статьи.\n",
    "\n",
    "Используется датасет Extreme Summarization [XSum](https://huggingface.co/sshleifer/distilbart-xsum-12-6)"
   ]
  },
  {
   "cell_type": "code",
   "execution_count": null,
   "metadata": {},
   "outputs": [],
   "source": [
    "from IPython.display import clear_output\n",
    "!pip install datasets\n",
    "!pip install transformers\n",
    "clear_output()"
   ]
  },
  {
   "cell_type": "code",
   "execution_count": null,
   "metadata": {},
   "outputs": [],
   "source": [
    "import shap\n",
    "from datasets import load_dataset\n",
    "from transformers import AutoTokenizer, AutoModelForSeq2SeqLM\n",
    "import torch\n",
    "device = torch.device('cuda' if torch.cuda.is_available() else 'cpu')\n",
    "\n",
    "tokenizer = AutoTokenizer.from_pretrained(\"sshleifer/distilbart-xsum-12-6\")\n",
    "model =  AutoModelForSeq2SeqLM.from_pretrained(\"sshleifer/distilbart-xsum-12-6\").to(device) \n",
    "\n",
    " \n",
    "dataset = load_dataset('xsum', split='train') # load dataset\n",
    "s = dataset['document'][0:1]                 # slice inputs from dataset to run model inference on\n",
    "explainer = shap.Explainer(model, tokenizer)  # create an explainer object\n",
    "explanation = explainer(s)                   # Compute shap values\n",
    "clear_output()"
   ]
  },
  {
   "cell_type": "code",
   "execution_count": null,
   "metadata": {},
   "outputs": [],
   "source": [
    "shap.initjs()\n",
    "shap.plots.text(explanation)                 # Visualize shap explanations"
   ]
  },
  {
   "cell_type": "markdown",
   "metadata": {},
   "source": [
    "## Изображения"
   ]
  },
  {
   "cell_type": "markdown",
   "metadata": {},
   "source": [
    "### LIME\n",
    "[Local Interpretable Model-Agnostic Explanations (LIME): An Introduction](https://www.oreilly.com/content/introduction-to-local-interpretable-model-agnostic-explanations-lime/)\n",
    "\n",
    "[[git] Using Lime with Pytorch](https://github.com/marcotcr/lime/blob/master/doc/notebooks/Tutorial%20-%20images%20-%20Pytorch.ipynb)"
   ]
  },
  {
   "cell_type": "markdown",
   "metadata": {},
   "source": [
    "#### Идея\n",
    "<img src=\"https://edunet.kea.su/repo/EduNet-web_dependencies/L10/lime_explain_example.png\" alt=\"alttext\" width=820/>"
   ]
  },
  {
   "cell_type": "markdown",
   "metadata": {},
   "source": [
    "Давайте разберемся, как работает такое эффектное представление областей, по которым нейронная сеть осуществляет предсказание класса.\n",
    "\n",
    "На рисунке ниже показан пример того, как LIME работает для классификации изображений.\n",
    "\n",
    "Представьте, что мы хотим объяснить классификатор, который предсказывает, насколько вероятно, что изображение содержит древесную лягушку.\n",
    "\n",
    "Мы берем изображение слева и делим его на интерпретируемые компоненты (смежные [суперпиксели](https://darshita1405.medium.com/superpixels-and-slic-6b2d8a6e4f08))."
   ]
  },
  {
   "cell_type": "markdown",
   "metadata": {},
   "source": [
    "<img src=\"https://edunet.kea.su/repo/EduNet-web_dependencies/L10/lime_interpretable_components.jpg\" alt=\"alttext\" width=550/>"
   ]
  },
  {
   "cell_type": "markdown",
   "metadata": {},
   "source": [
    "Далее мы отключаем некоторые из суперпикселей (закрашиваем серым).\n",
    "\n",
    "Для каждой такой картинки мы получаем вероятность того, что на изображении есть древесная лягушка и формируем датасет из частично закрашенных картинок и предсказаний.\n",
    "\n",
    "Затем мы обучаем линейную модель на этом наборе данных, веса соответствующие суперпикселю будут объяснять его вклад в предсказание."
   ]
  },
  {
   "cell_type": "markdown",
   "metadata": {},
   "source": [
    "<img src=\"https://edunet.kea.su/repo/EduNet-web_dependencies/L10/lime_explanation_pipeline.jpg\" alt=\"alttext\" width=750/>"
   ]
  },
  {
   "cell_type": "markdown",
   "metadata": {},
   "source": [
    "Проанализируем предсказание сверточной сети Google Inception. Посмотрим, почему ее классификатор предсказывает «древесную лягушку» как наиболее вероятный класс, за которым следуют «бильярдный стол» и «воздушный шар» с более низкими вероятностями.\n",
    "\n",
    "Мы видим, что классификатор в первую очередь фокусируется на морде лягушки как на объяснении предсказанного класса.\n",
    "\n",
    "Это также проливает свет на то, почему «бильярдный стол» имеет ненулевую вероятность: руки и глаза лягушки напоминают бильярдные шары, особенно на зеленом фоне. Точно так же сердце похоже на красный воздушный шар.\n"
   ]
  },
  {
   "cell_type": "markdown",
   "metadata": {},
   "source": [
    "<img src=\"https://edunet.kea.su/repo/EduNet-web_dependencies/L10/lime_explaination_google_inception.jpg\" alt=\"alttext\" width=750/>"
   ]
  },
  {
   "cell_type": "markdown",
   "metadata": {},
   "source": [
    "[[medium] LIME - Local Interpretable Model-Agnostic Explanation](https://medium.com/intel-student-ambassadors/local-interpretable-model-agnostic-explanations-lime-the-eli5-way-b4fd61363a5e)"
   ]
  },
  {
   "cell_type": "markdown",
   "metadata": {},
   "source": [
    "#### Анализ ResNet18"
   ]
  },
  {
   "cell_type": "code",
   "execution_count": null,
   "metadata": {},
   "outputs": [],
   "source": [
    "!wget -q 'https://edunet.kea.su/repo/EduNet-web_dependencies/L10/cat_and_dog1.jpg' -O cat_and_dog1.jpg\n",
    "!wget -q 'https://edunet.kea.su/repo/EduNet-web_dependencies/L10/cat_and_dog2.png' -O cat_and_dog2.png\n",
    "!wget -q 'https://edunet.kea.su/repo/EduNet-web_dependencies/L10/imagenet_class_index.json' -O imagenet_class_index.json"
   ]
  },
  {
   "cell_type": "code",
   "execution_count": null,
   "metadata": {},
   "outputs": [],
   "source": [
    "import os\n",
    "from PIL import Image\n",
    "\n",
    "def get_image(path):\n",
    "    with open(os.path.abspath(path), 'rb') as f:\n",
    "        with Image.open(f) as img:\n",
    "            return img.convert('RGB') \n",
    "        \n",
    "img = get_image('cat_and_dog1.jpg')\n",
    "plt.imshow(img)\n",
    "plt.show()"
   ]
  },
  {
   "cell_type": "markdown",
   "metadata": {},
   "source": [
    "Теперь нам нужно преобразовать это изображение в тензор Pytorch, а также его нормализовать для использования в нашей предварительно обученной модели."
   ]
  },
  {
   "cell_type": "code",
   "execution_count": null,
   "metadata": {},
   "outputs": [],
   "source": [
    "from torchvision import transforms\n",
    "\n",
    "# resize & normalize\n",
    "def get_input_transform():\n",
    "    normalize = transforms.Normalize(mean=[0.485, 0.456, 0.406],\n",
    "                                    std=[0.229, 0.224, 0.225])       \n",
    "    transform = transforms.Compose([\n",
    "        transforms.Resize((256, 256)),\n",
    "        transforms.CenterCrop((224, 224)),\n",
    "        transforms.ToTensor(),\n",
    "        normalize])    \n",
    "    return transform\n",
    "\n",
    "def get_input_tensors(img):\n",
    "    transform = get_input_transform()\n",
    "    # unsqeeze converts single image to batch of 1\n",
    "    return transform(img).unsqueeze(0)"
   ]
  },
  {
   "cell_type": "markdown",
   "metadata": {},
   "source": [
    "\n",
    "Загрузим предобученную модель Resnet18, доступную в Pytorch и классы изображений из ImageNet."
   ]
  },
  {
   "cell_type": "code",
   "execution_count": null,
   "metadata": {},
   "outputs": [],
   "source": [
    "from torchvision import models\n",
    "import json\n",
    "\n",
    "model = models.resnet18(weights='ResNet18_Weights.DEFAULT')\n",
    "\n",
    "idx2label, cls2label, cls2idx = [], {}, {}\n",
    "with open(os.path.abspath('/content/imagenet_class_index.json'), 'r') as read_file:\n",
    "    class_idx = json.load(read_file)\n",
    "    idx2label = [class_idx[str(k)][1] for k in range(len(class_idx))]\n",
    "    cls2label = {class_idx[str(k)][0]: class_idx[str(k)][1] for k in range(len(class_idx))}\n",
    "    cls2idx = {class_idx[str(k)][0]: k for k in range(len(class_idx))}"
   ]
  },
  {
   "cell_type": "markdown",
   "metadata": {},
   "source": [
    "Получим предсказание. А после этого полученные нами прогнозы (логиты), пропустим это через softmax, чтобы получить вероятности и метки классов для 5 лучших прогнозов."
   ]
  },
  {
   "cell_type": "code",
   "execution_count": null,
   "metadata": {},
   "outputs": [],
   "source": [
    "import torch.nn.functional as F\n",
    "\n",
    "img_t = get_input_tensors(img)\n",
    "model.eval()\n",
    "logits = model(img_t)\n",
    "\n",
    "probs = F.softmax(logits, dim=1)\n",
    "probs5 = probs.topk(5)\n",
    "plt.imshow(img)\n",
    "tuple((p,c, idx2label[c]) for p, c in zip(probs5[0][0].detach().numpy(), probs5[1][0].detach().numpy()))"
   ]
  },
  {
   "cell_type": "markdown",
   "metadata": {},
   "source": [
    "(tabby - это тоже кошка.)"
   ]
  },
  {
   "cell_type": "markdown",
   "metadata": {},
   "source": [
    "Применим LIME"
   ]
  },
  {
   "cell_type": "code",
   "execution_count": null,
   "metadata": {},
   "outputs": [],
   "source": [
    "!pip -q install lime"
   ]
  },
  {
   "cell_type": "markdown",
   "metadata": {},
   "source": [
    "Lime генерирует массив изображений из исходного входного изображения \n",
    "\n",
    "Таким образом, нам нужно предоставить конструктору:\n",
    "1. Исходное изображение в виде массива numpy\n",
    "2. Функцию классификации, которая будет принимать массив искаженных изображений в качестве входных данных и генерировать вероятности для каждого класса для каждого изображения в качестве выходных.\n",
    "\n"
   ]
  },
  {
   "cell_type": "markdown",
   "metadata": {},
   "source": [
    "Поэтому потребуется вспомогательная функция для обработки пакета изображений, в соответствии с API LIME."
   ]
  },
  {
   "cell_type": "code",
   "execution_count": null,
   "metadata": {},
   "outputs": [],
   "source": [
    "device = torch.device('cuda' if torch.cuda.is_available() else 'cpu')\n",
    "\n",
    "def batch_predict(images): # images are numpy arrays\n",
    "    model.eval()\n",
    "    transform = get_input_transform()\n",
    "    batch = torch.stack(tuple(transform(Image.fromarray(i)) for i in images), dim=0)\n",
    "\n",
    "    model.to(device)\n",
    "    batch = batch.to(device)\n",
    "    \n",
    "    logits = model(batch)\n",
    "    probs = F.softmax(logits, dim=1)\n",
    "    return probs.detach().cpu().numpy()"
   ]
  },
  {
   "cell_type": "markdown",
   "metadata": {},
   "source": [
    "Создадим экзепляр ImageExplainer и сгенерируем объект explanation"
   ]
  },
  {
   "cell_type": "code",
   "execution_count": null,
   "metadata": {},
   "outputs": [],
   "source": [
    "import lime\n",
    "from lime import lime_image\n",
    "\n",
    "explainer = lime_image.LimeImageExplainer(random_state= 42)\n",
    "explanation = explainer.explain_instance(np.array(img.resize((224, 224))), # Lime assume that input is a numpy array :(\n",
    "                                         batch_predict, # classification function\n",
    "                                         top_labels=5, \n",
    "                                         hide_color=0, \n",
    "                                         num_samples=1000,  # number of images that will be sent to classification function\n",
    "                                         random_seed = 42)"
   ]
  },
  {
   "cell_type": "markdown",
   "metadata": {},
   "source": [
    "Выведем top5 предсказаний сделанных через LIME.\n",
    "\n",
    "P.S. Они не обязаны совпадать с предсказаниями для картинки без изменений."
   ]
  },
  {
   "cell_type": "code",
   "execution_count": null,
   "metadata": {},
   "outputs": [],
   "source": [
    "for i, id in enumerate(explanation.top_labels):\n",
    "  print(i,idx2label[id])"
   ]
  },
  {
   "cell_type": "markdown",
   "metadata": {},
   "source": [
    "Воспользуемся маской на изображении и посмотрим области, которые дают лучший прогноз."
   ]
  },
  {
   "cell_type": "code",
   "execution_count": null,
   "metadata": {},
   "outputs": [],
   "source": [
    "from skimage.segmentation import mark_boundaries\n",
    "\n",
    "fig, ax = plt.subplots(nrows=1, ncols=2, figsize=(10, 10))\n",
    "\n",
    "for i, id in enumerate(explanation.top_labels[:2]):\n",
    "  temp, mask = explanation.get_image_and_mask(id, positive_only=False, num_features=5, hide_rest=False)\n",
    "  img_boundry = mark_boundaries(temp, mask)\n",
    "  ax[i].imshow(img_boundry)\n",
    "  ax[i].set_title(idx2label[id])\n",
    "  # number of clusters to be shown in the image: num_features=5\n",
    "  # show or not negatively impacting clusters: positive_only=False \n",
    "  # first 5 may be only positive"
   ]
  },
  {
   "cell_type": "markdown",
   "metadata": {},
   "source": [
    "Зеленым цветом обозначена область наивысшего прогноза и оранжевым — области, которые меньше всего соответствуют нашему прогнозу. При `positive_only=False` будут показаны только границы."
   ]
  },
  {
   "cell_type": "markdown",
   "metadata": {},
   "source": [
    "И другое изображение:"
   ]
  },
  {
   "cell_type": "code",
   "execution_count": null,
   "metadata": {},
   "outputs": [],
   "source": [
    "img_2 = get_image('cat_and_dog2.png')\n",
    "plt.imshow(img_2)\n",
    "plt.show()"
   ]
  },
  {
   "cell_type": "markdown",
   "metadata": {},
   "source": [
    "Запуск Lime"
   ]
  },
  {
   "cell_type": "code",
   "execution_count": null,
   "metadata": {},
   "outputs": [],
   "source": [
    "explainer = lime_image.LimeImageExplainer()\n",
    "explanation = explainer.explain_instance(np.array(img_2.resize((224, 224))), \n",
    "                                         batch_predict, # classification function\n",
    "                                         top_labels=5, \n",
    "                                         hide_color=0, \n",
    "                                         num_samples=1000) # number of images that will be sent to classification function\n",
    "# Display top labels\n",
    "for i, id in enumerate(explanation.top_labels):\n",
    "  print(i,idx2label[id])"
   ]
  },
  {
   "cell_type": "markdown",
   "metadata": {},
   "source": [
    "Выведем сегменты наиболее повлиявшие на каждое предсказание"
   ]
  },
  {
   "cell_type": "code",
   "execution_count": null,
   "metadata": {},
   "outputs": [],
   "source": [
    "fig, ax = plt.subplots(nrows=1, ncols=5, figsize=(50, 10))\n",
    "\n",
    "for i, id in enumerate(explanation.top_labels):\n",
    "  temp, mask = explanation.get_image_and_mask(id, positive_only=False, num_features=5, hide_rest=False)\n",
    "  img_boundry = mark_boundaries(temp, mask)\n",
    "  ax[i].imshow(img_boundry)\n",
    "  ax[i].set_title(idx2label[id])"
   ]
  },
  {
   "cell_type": "markdown",
   "metadata": {},
   "source": [
    "В то время как большинство методов, описанных в первом сообщении блога, являются глобальными методами, LIME — это метод, имеющий локальную область применения.\n",
    "\n",
    "Таким образом, LIME позволяет нам объяснить конкретные прогнозы любого классификатора.\n",
    "\n",
    "Структура LIME является гибкой в ​​том смысле, что любую интерпретируемую модель можно использовать для объяснения прогнозов.\n",
    "\n",
    "Кроме того, концепция интерпретируемых компонентов позволяет применять LIME для объяснения данных большой размерности, таких как классификация изображений или текста."
   ]
  },
  {
   "cell_type": "markdown",
   "metadata": {},
   "source": [
    "### Gradient Ascent\n",
    "\n",
    "Имея информацию о структуре модели, можно использовать градиент, чтобы понять, как входы связаны с выходом.\n",
    "\n",
    "\n",
    "Вместо того чтобы случайным образом закрашивать части изображения и много раз запускать модель, мы можем один раз посчитать градиент по входному изображению, и понять какие пикселы оказали наибольшее влияние на предсказание модели."
   ]
  },
  {
   "cell_type": "markdown",
   "metadata": {},
   "source": [
    "<img src =\"https://edunet.kea.su/repo/EduNet-web_dependencies/L10/saliency_via_backprop.png\" width=\"800\">"
   ]
  },
  {
   "cell_type": "markdown",
   "metadata": {},
   "source": [
    "Воспользуемся изображением из предыдущего примера"
   ]
  },
  {
   "cell_type": "code",
   "execution_count": null,
   "metadata": {},
   "outputs": [],
   "source": [
    "img_t.requires_grad = True # Tell pytorch to compute grads w.r.t. inputs too\n",
    "logits = model(img_t.to(device)) # [1,1000] batch of one element, 1000 class scores\n",
    "top_score, top_idx = logits[0].topk(1) # Get id of class with best score\n",
    "id = top_idx[0].item()\n",
    "print(id, idx2label[id]) # Print the label this class \n",
    "score = logits[0][id] # Model output for paticular class"
   ]
  },
  {
   "cell_type": "markdown",
   "metadata": {},
   "source": [
    "Для выхода модели соответствующему нашему классу рассчитываем градиент."
   ]
  },
  {
   "cell_type": "code",
   "execution_count": null,
   "metadata": {},
   "outputs": [],
   "source": [
    "# Compute gradients\n",
    "\n",
    "score.backward(retain_graph=True) \n",
    "\n",
    "# retain_grad = True is not nessesary\n",
    "# But if we run this code second time, we got a torch error without it\n",
    "# because pytorch want to accumulate gradients explicitly \n",
    "\n",
    "print(img_t.grad.shape)\n",
    "print(img_t.grad[0, :3, :3]) # Show some parts d_Image/d_score"
   ]
  },
  {
   "cell_type": "markdown",
   "metadata": {},
   "source": [
    "У входного тензора (изображения) появился градиент, который указывает на то, как каждый элемент повлиял на выход модели. Отобразим этот градиент."
   ]
  },
  {
   "cell_type": "code",
   "execution_count": null,
   "metadata": {},
   "outputs": [],
   "source": [
    "plt.rcParams[\"figure.figsize\"] = (20, 10)\n",
    "\n",
    "# Helper method to display grad\n",
    "def grad_to_image(raw_grads):\n",
    "    grad_of_first_batch_element = raw_grads[0]\n",
    "    # Summ grads of RGB channes\n",
    "    smap = torch.sum(grad_of_first_batch_element, dim=0) \n",
    "    # Translate raw grad values to byte [0 .. 255] for displaying\n",
    "    max_val = smap.max()\n",
    "    img = (smap / max_val) * 255\n",
    "    # Filter using threshold to make image sharp\n",
    "    img[img < 0] = 0 \n",
    "    img[img > 50] = 255\n",
    "    return img.numpy().astype(int)\n",
    "\n",
    "sailency_map = grad_to_image(img_t.grad)\n",
    "\n",
    "plt.subplot(1, 2, 1)\n",
    "plt.imshow(np.array(img.resize((224, 224))))\n",
    "plt.subplot(1, 2, 2)\n",
    "plt.imshow(sailency_map)\n",
    "plt.show()"
   ]
  },
  {
   "cell_type": "markdown",
   "metadata": {},
   "source": [
    "#### Adversarial attacks\n",
    "\n",
    "Принцип взятия градиента по входу используется при состязательных атаках (adversarial attacks).\n",
    "\n",
    "Если не просто визуализировать градиент, а с его помощью менять изображение, то можно обмануть сеть и заставить ее неверно классифицировать картинку незначительно поменяв ее."
   ]
  },
  {
   "cell_type": "markdown",
   "metadata": {},
   "source": [
    "<img src =\"https://edunet.kea.su/repo/EduNet-web_dependencies/L10/adversarial_attack.jpg\" width=\"700\">\n",
    "\n"
   ]
  },
  {
   "cell_type": "markdown",
   "metadata": {},
   "source": [
    "\n",
    "Подробнее:\n",
    "[[wiki] Adversarial machine learning](https://en.wikipedia.org/wiki/Adversarial_machine_learning)\n",
    "\n",
    "[The Intuition behind Adversarial Attacks on Neural Networks](https://blog.mlreview.com/the-intuition-behind-adversarial-attacks-on-neural-networks-71fdd427a33b)\n"
   ]
  },
  {
   "cell_type": "markdown",
   "metadata": {},
   "source": [
    "Пиксели, получившие большой градиент, находится именно в том месте, где изображена собака - это хорошо. \n",
    "\n",
    "При этом есть группы пикселей вверху изображения, которые тоже подсвечены, но относятся к фону - это плохо. Значит, модель может ошибаться из-за такого рода фона.\n",
    "\n",
    "\n",
    "На этом принципе построен модуль [shap.DeepExplainer](https://shap-lrjball.readthedocs.io/en/latest/generated/shap.DeepExplainer.html).\n",
    "\n",
    "Он уже не зависим от модели(not Model agnostic) так как использует градиенты, зато позволяет оценить связи более точно.\n"
   ]
  },
  {
   "cell_type": "markdown",
   "metadata": {},
   "source": [
    "### SHAP Deep Explainer\n",
    "\n"
   ]
  },
  {
   "cell_type": "markdown",
   "metadata": {},
   "source": [
    "В предыдущих частях лекции мы рассмотрели несколько подходов к интерпретации результатов предсказания моделей: подходы, основанные на изменении данных (LIME) и градиентные методы (gradient ascend). Однако, использование этих методов может приводить к некорректным результатам при некоторых обстоятельствах.\n",
    "\n",
    "Рассмотрим в качестве примера проблему насыщения (saturation):\n",
    "\n",
    "<img src =\"https://edunet.kea.su/repo/EduNet-web_dependencies/L10/saturation_problem.png\" width=\"800\">\n",
    "\n",
    "Пусть $h$ &mdash; аналог активации некоторого нейрона, вычисляющийся как $h=max(0,1-i_1-i_2)$. Если мы возьмем значения признаков $i_1=1$ и $i_2=1$, то на выходе получим значение $h=0$. Далее по очереди будем занулять значения каждого из признаков, внося таким образом претурбации: $i_1=0$ и $i_2=1$,  $i_1=1$ и $i_2=0$. В обоих случаях выход по прежнему будет $h=0$. Может сложиться обманчивое впечатление, что ни один из признаков не влияет на результат вычисления. Таким образом, мы столкнулись с проблемой, что подход, основанный на изменении признаков, будет занижать значимость признаков, чей вклад в результат достиг насыщения. Аналогично градиентные методы также будут недооценивать важность признаков при насыщении, поскольку градиент в данном случае будет равным 0.\n",
    "\n",
    "Проблема насыщения не является редкой, в частности, с ней можно столкнуться в биологии, при построении [моделей](https://www.nature.com/articles/nmeth.3547), объясняющих вклад единичных мутаций на то или иное свойство организма, что связано с вырожденностью генетического кода.\n",
    "\n",
    "Альтернативный способ объяснения предсказаний моделей использует алгоритм [DeepLIFT](https://arxiv.org/abs/1704.02685) который базируется на идее GradientAscending но не ограничивается ей. Основная идея DeepLIFT заключается в том, что он оценивает важность признака с точки зрения отличий от некого «референса», где референс выбирается в соответствии с решаемой проблемой. Референс для входных данных представляет некий нейтральный объект, у которого отсутствует специфическое свойство, например, таким свойством может быть присутствие/отсутствие того или иного объекта на изображении. Помимо референса для входных данных, определяется референс для каждого нейрона (это будет активация соответствующего нейрона рассчитанная для референсного объекта), аналогично референсом выхода сети будет вычисленный выход для референсного объекта.\n",
    "\n",
    "DeepLIFT объясняет разницу между выходом сети для целевого объекта и выходом сети для референсного объекта на основании разницы между этими объектами. Пусть $t$ представляет выход некоторого нейрона/сети, а $x_1,x_2,...,x_n$ &mdash; нейроны одного из предшествующих слоев или множество слоев, необходимые для расчета $t$. Пусть $t_0$ &mdash; референсная активация для $t$. Тогда мы можем определить разницу выход нейрона/сети для целевого объекта с выходом для референсного объекта как $\\Delta t=t-t_0$. Тогда мы можем разложить ее на вклады $C_{\\Delta x_i \\Delta t}$  разниц между активаций нейронов в предыдущих слоях для целевого объекта и референса ($\\Delta x_i$):\n",
    "\n",
    "$$\\sum_{i=1}^nC_{\\Delta x_i \\Delta t}=\\Delta t$$\n",
    "\n",
    "Как именно DeepLIFT вычисляет эти вклады останется за рамками рассмотрения этой лекции. \n",
    "\n",
    "Использование такого подхода позволяет DeepLIFT решать проблему насыщения, приведенную на предыдущем рисунке, а также другую проблему, при которой градиент может совершать спонтанные скачки. Для иллюстрации этого примера рассмотрим функцию ReLU со сдвигом на $-10$ $y=max(0,x-10)$. Для этой функции градиент и вход, умноженный на градиент (этот подход также может быть использован для объяснения предсказаний нейронных сетей) имеют разрыв в точке $x=10$. И в отличие от этого подход, основанный на разнице с референсом дает непрерывную величину оценки вклада признака.\n",
    "\n",
    "<img src =\"https://edunet.kea.su/repo/EduNet-web_dependencies/L10/deeplift_relu.png\" width=\"800\">\n",
    "\n",
    "В качестве референса конкретно в SHAP DeepExlainer, построенном на основе DeepLIFT, используется не один объект, а усреднение набора произвольных изображений из датасета ImageNet (`shap.datasets.imagenet50`).\n",
    "\n",
    "Попробуем воспользоваться этим на практике:"
   ]
  },
  {
   "cell_type": "code",
   "execution_count": null,
   "metadata": {},
   "outputs": [],
   "source": [
    "img_t = get_input_tensors(img)\n",
    "model.eval()\n",
    "model.cpu()\n",
    "logits = model(img_t)\n",
    "\n",
    "probs = F.softmax(logits, dim=1)\n",
    "probs5 = probs.topk(5)\n",
    "plt.imshow(img)\n",
    "tuple((p,c, idx2label[c]) for p, c in zip(probs5[0][0].detach().numpy(), probs5[1][0].detach().numpy()))"
   ]
  },
  {
   "cell_type": "code",
   "execution_count": null,
   "metadata": {},
   "outputs": [],
   "source": [
    "!pip -q install shap"
   ]
  },
  {
   "cell_type": "markdown",
   "metadata": {},
   "source": [
    "Посмотрим на изображения, выбранные в качестве референса"
   ]
  },
  {
   "cell_type": "code",
   "execution_count": null,
   "metadata": {},
   "outputs": [],
   "source": [
    "imagenet_50, broken_targets = shap.datasets.imagenet50()\n",
    "\n",
    "print(\"Data shape\", imagenet_50.shape,type(imagenet_50))\n",
    "# Show first image\n",
    "plt.imshow(imagenet_50[0].astype('int')) \n",
    "plt.show()"
   ]
  },
  {
   "cell_type": "markdown",
   "metadata": {},
   "source": [
    "Можно взглянуть и на остальные картинки"
   ]
  },
  {
   "cell_type": "code",
   "execution_count": null,
   "metadata": {},
   "outputs": [],
   "source": [
    "fig, ax = plt.subplots(nrows=5, ncols=10, figsize=(25, 10))\n",
    "for i,imgs in enumerate(imagenet_50):\n",
    "  row = i // 5\n",
    "  col = i % 5\n",
    "  ax[col,row].imshow(imgs.astype('int'))"
   ]
  },
  {
   "cell_type": "code",
   "execution_count": null,
   "metadata": {},
   "outputs": [],
   "source": [
    "import torch\n",
    "# for performance reason use as background only 10 images in PyTorch format\n",
    "background = torch.tensor(imagenet_50[0:10]).permute(0, 3, 1, 2).to(device) / 255 \n",
    "\n",
    "# https://shap-lrjball.readthedocs.io/en/latest/generated/shap.DeepExplainer.html\n",
    "explainer = shap.DeepExplainer(model.to(device), background)\n",
    "shap_values = explainer.shap_values(img_t) # List"
   ]
  },
  {
   "cell_type": "markdown",
   "metadata": {},
   "source": [
    "По умолчанию возвращаются shap индексы для каждого класса, для каждого пикселя "
   ]
  },
  {
   "cell_type": "code",
   "execution_count": null,
   "metadata": {},
   "outputs": [],
   "source": [
    "print(\"Classes\", len(shap_values)) \n",
    "print(\"Values\",shap_values[0].shape)"
   ]
  },
  {
   "cell_type": "markdown",
   "metadata": {},
   "source": [
    "Для отображения результатов используем метод [shap.image_plot](https://shap-lrjball.readthedocs.io/en/latest/generated/shap.image_plot.html?highlight=image_plot)\n",
    "\n",
    "его API ждет данные в виде списков numpy - массивов, поэтому нам потребуется преобразовать данные.\n"
   ]
  },
  {
   "cell_type": "code",
   "execution_count": null,
   "metadata": {},
   "outputs": [],
   "source": [
    "# Get indexes of top5 classes predicted by model\n",
    "top5_indexes = probs5.indices.squeeze(0).numpy().astype('int')\n",
    "\n",
    "# Get shap values for this classes\n",
    "shap_values_for_top_results = np.array(shap_values)[top5_indexes]\n",
    "\n",
    "# Move color channels back for numpy compability (...,3,224,224 ) - > (...,224,224,3)\n",
    "shap_values_for_top_results = np.swapaxes(shap_values_for_top_results, 4, 2)  # swapaxes is do the same thing as torch.permute\n",
    "\n",
    "# Convert first dim of numpy.array back to pythol list as required shap.image_plot api\n",
    "shap_values_for_top_results = list(shap_values_for_top_results[:])\n",
    "\n",
    "# Prepare test image\n",
    "test_image = np.array(img.resize((224, 224))).reshape((1, 224, 224, 3)) / 255 # resize to size of shap values\n",
    "#test_image = test_image/255 # [np.newaxis, ...]\n",
    "\n",
    "\n",
    "# Get lagels for top5 classes\n",
    "\n",
    "shap_labels = np.array(idx2label)[top5_indexes]\n",
    "shap_labels = [list(shap_labels)] # One list for sample\n",
    "\n",
    "print(\"Len of shap_values list\", len(shap_values_for_top_results)) # number of classes to explain\n",
    "print(\"Shape of one value\", shap_values_for_top_results[0].shape) # n_samples, H,W,C\n",
    "print(shap_labels) # n_samples, number of classes"
   ]
  },
  {
   "cell_type": "markdown",
   "metadata": {},
   "source": [
    "Теперь визуализируем результаты:"
   ]
  },
  {
   "cell_type": "code",
   "execution_count": null,
   "metadata": {},
   "outputs": [],
   "source": [
    "shap.image_plot(shap_values_for_top_results, test_image, labels=shap_labels)"
   ]
  },
  {
   "cell_type": "markdown",
   "metadata": {},
   "source": [
    "На практике чаще всего интересны объяснения только для нескольких классов с максимальной уверенностью.\n",
    "\n",
    "И в документации описан параметр, который позволяет возвращать объяснения только для этих классов.\n",
    "\n",
    "[[doc] shap.DeepExplainer](https://shap-lrjball.readthedocs.io/en/latest/generated/shap.DeepExplainer.html)\n",
    "\n",
    "`ranked_outputs = 5, output_rank_order ='max'`\n",
    "\n",
    "При этом возвращается кортеж:\n",
    "shap_values и индексы классов, для которых получено объяснение.\n",
    "\n"
   ]
  },
  {
   "cell_type": "code",
   "execution_count": null,
   "metadata": {},
   "outputs": [],
   "source": [
    "shape_values_for_best_pred, indexes = explainer.shap_values(img_t,ranked_outputs=5, output_rank_order ='max') # List"
   ]
  },
  {
   "cell_type": "markdown",
   "metadata": {},
   "source": [
    "Результаты снова надо преобразовать их Pytorch формата"
   ]
  },
  {
   "cell_type": "code",
   "execution_count": null,
   "metadata": {},
   "outputs": [],
   "source": [
    "# Convert shap val frop PyTorch format\n",
    "shape_values_for_best_pred = np.swapaxes(np.array(shape_values_for_best_pred), 4, 2)\n",
    "shape_values_for_best_pred = list(shape_values_for_best_pred[:])\n",
    "\n",
    "# Get names for returned indexes\n",
    "shap_labels = np.array(idx2label)[indexes.cpu()[0]]\n",
    "shap_labels = [list(shap_labels)] # One list for sample"
   ]
  },
  {
   "cell_type": "markdown",
   "metadata": {},
   "source": [
    "Визуализируем результат"
   ]
  },
  {
   "cell_type": "code",
   "execution_count": null,
   "metadata": {},
   "outputs": [],
   "source": [
    "shap.image_plot(shape_values_for_best_pred, test_image, labels=shap_labels)"
   ]
  },
  {
   "cell_type": "markdown",
   "metadata": {},
   "source": [
    "# Заключение\n",
    "\n",
    "* В ходе урока мы убедились в важности интерпретации работы моделей Искусственного Интеллекта.\n",
    "* Рассмотрели основные библиотеки, которые используются для интерпретирования: SHAP и LIME. \n",
    "* Рассмотрели применение библиотек на примерах:\n",
    "    - Табличные данные\n",
    "    - NLP (машинный перевод текста, создание резюме статьи и классификации текстов)\n",
    "    - CV\n",
    "* Рассмотрели библиотеку BORUTA, которая позволяет проводить анализ влияния признаков датасета на качество обучения и дает рекомендации по исключению тех, которые влияют на результат отрицательно.\n",
    "\n",
    "Пренебрежение объяснением того, почему модель дала тот или иной результат, ведет к недоверию не только к самой модели, но и к конкретным прогнозам. А, следовательно, является существенным препятствием для дальнейшего введения Вашей идеи в production.\n",
    "\n"
   ]
  },
  {
   "cell_type": "markdown",
   "metadata": {},
   "source": [
    "<font size =\"5\">Список литературы"
   ]
  },
  {
   "cell_type": "markdown",
   "metadata": {},
   "source": [
    "Статьи:\n",
    "\n",
    "[How to Interpret Machine Learning Models with SHAP](https://www.youtube.com/watch?v=m60swo-th4E)\n",
    "\n",
    "[Бесплатный курс от Kaggle: Machine Learning Explainability](https://www.kaggle.com/learn/machine-learning-explainability)\n",
    "\n",
    "[EXPLAINABLE AI IN CREDIT RISK MANAGEMENT](https://arxiv.org/pdf/2103.00949v1.pdf)\n",
    "\n",
    "[Predicting Driver Fatigue in Automated Driving with Explainability](https://arxiv.org/pdf/2103.02162v1.pdf)\n",
    "\n",
    "[Fooling LIME and SHAP: Adversarial Attacks on Post hoc Explanation Methods](https://arxiv.org/pdf/1911.02508v2.pdf)\n",
    "\n",
    "[Interpretable Machine Learning](https://christophm.github.io/interpretable-ml-book/intro.html)\n",
    "\n",
    "SHAP\n",
    "\n",
    "[Welcome to the SHAP documentation](https://shap.readthedocs.io/en/stable/index.html)\n",
    "\n",
    "[Git](https://github.com/slundberg/shap)\n",
    "\n",
    "[A Unified Approach to Interpreting Model Predictions](https://arxiv.org/pdf/1705.07874v2.pdf)\n",
    "\n",
    "[SHAP (SHapley Additive exPlanations)](https://christophm.github.io/interpretable-ml-book/shap.html)\n",
    "\n",
    "LIME\n",
    "\n",
    "[“Why Should I Trust You?” Explaining the Predictions of Any Classifier](https://arxiv.org/pdf/1602.04938.pdf)\n",
    "\n",
    "[What does LIME really see in images?](https://arxiv.org/pdf/2102.06307v1.pdf)\n",
    "\n",
    "[Git](https://github.com/marcotcr/lime)\n",
    "\n",
    "BORUTA\n",
    "\n",
    "[Feature Selection with the Boruta Package](https://www.jstatsoft.org/index.php/jss/article/view/v036i11/v36i11.pdf)\n",
    "\n",
    "[Boruta Explained Exactly How You Wished Someone Explained to You](https://towardsdatascience.com/boruta-explained-the-way-i-wish-someone-explained-it-to-me-4489d70e154a)"
   ]
  }
 ],
 "metadata": {},
 "nbformat": 4,
 "nbformat_minor": 0
}
