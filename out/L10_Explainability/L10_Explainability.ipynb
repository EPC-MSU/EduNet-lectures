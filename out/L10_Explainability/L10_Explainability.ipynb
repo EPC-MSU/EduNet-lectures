{
 "cells": [
  {
   "cell_type": "code",
   "metadata": {},
   "source": [
    "from IPython.display import clear_output\n",
    "import torch\n",
    "device = torch.device('cuda' if torch.cuda.is_available() else 'cpu')\n",
    "print(device)"
   ],
   "execution_count": null,
   "outputs": []
  },
  {
   "cell_type": "code",
   "metadata": {},
   "source": [
    "import pandas as pd\n",
    "import numpy as np"
   ],
   "execution_count": null,
   "outputs": []
  },
  {
   "cell_type": "markdown",
   "metadata": {},
   "source": [
    "# Общая идея"
   ]
  },
  {
   "cell_type": "markdown",
   "metadata": {},
   "source": [
    "## Why Should I Trust You?"
   ]
  },
  {
   "cell_type": "markdown",
   "metadata": {},
   "source": [
    "Машинное обучение лежит в основе многих последних достижений в области науки и технологии.\n",
    "\n",
    "Когда компьютеры победили профессионалов в таких играх, как Go, многие люди начали спрашивать: могут ли машины стать лучшими водителями или даже лучшими врачами?\n",
    "\n",
    "Во многих приложениях машинного обучения пользователей просят доверять модели, которая поможет им принимать решения. Врач определенно не станет оперировать пациента просто потому, что «так сказала модель».\n",
    "\n",
    "Даже в ситуациях с более низкими рисками принять неправильное решение на основании предсказания модели — например, при выборе фильма для просмотра в Netflix, требуется определенная степень доверия.\n",
    "\n",
    "Несмотря на то, что многие модели машинного обучения представляют собой черный ящик, понимание причин, лежащих в основе прогнозов модели, безусловно, поможет пользователям решить, когда им доверять, а когда нет.\n",
    "\n",
    "К сожалению, компьютеры обычно не объясняют своих прогнозов. \n",
    "И это становится препятствием для внедрения моделей машинного обучения.\n",
    "А если пользователи не доверяют модели или прогнозу, то они будут с опаской использовать их на практике.\n",
    "\n",
    "Поэтому вопрос в том, как помочь пользователям доверять результатам, полученным с помощью моделей машинного или глубокого обучения.\n",
    "\n",
    "Важно различать два разных (но связанных) определения доверия: \n",
    "1. Доверие к предсказанию, то есть доверяет ли пользователь отдельному предсказанию настолько, чтобы предпринять какие-то действия на его основе?\n",
    "2. Доверие к модели, то есть доверяет ли пользователь модели так, чтобы применять ее на практике?\n",
    "\n",
    "Оба напрямую подвержены влиянию того, насколько человек понимает поведение модели, чтобы не рассматривать ее как черный ящик. \n",
    "\n",
    "Определение доверия к индивидуальным прогнозам является важной задачей, когда модель используется для принятия решений. Ведь, например, при медицинской диагностике или обнаружении террористов предсказания не могут быть выполнены бездумно, так как последствия могут быть катастрофическими.\n",
    "\n",
    "Помимо доверия индивидуальным предсказаниям, необходимо доверять модели \"в целом\". Чтобы принять это решение, пользователи должны быть уверены, что модель будет хорошо работать на реальных данных согласно интересующим метрикам. Реальные данные часто значительно отличаются, и, кроме того, метрика оценки может не указывать на цель продукта. Изучение индивидуальных прогнозов и их объяснение — важная задача, которая может помочь пользователям, особенно для больших наборов данных."
   ]
  },
  {
   "cell_type": "markdown",
   "metadata": {},
   "source": [
    "<img src=\"http://edunet.kea.su/repo/src/L10_Explainability/img/impact_assessment.png\" alt=\"alttext\" width=450/> "
   ]
  },
  {
   "cell_type": "markdown",
   "metadata": {},
   "source": [
    "Практики часто **переоценивают точность своих моделей**. Примером тому может послужить известный случай с моделью, обученной отличать хаски от волка.\n",
    "\n",
    "Часто **артефакты сбора данных могут вызвать нежелательные корреляции**, которые классификаторы улавливают во время обучения. Эти проблемы может быть очень трудно определить, просто взглянув на необработанные данные и прогнозы.\n",
    "\n",
    "Пример идеально решенной задачи, не применимой на практике — задача различить на фотографиях волков и эскимосских собак (хаски). Исследователи обучили классификатор логистической регрессии из 20 изображений, отобранных вручную так, чтобы на всех фотографиях волков на фоне был снег, а на фотографиях хаски — нет.\n",
    "\n",
    "Этот эксперимент демонстрирует полезность объяснения отдельных визуальных признаков для понимания работы классификаторов перед тем, как принять решения о доверии к ним.\n",
    "\n",
    "\n",
    "<img src=\"http://edunet.kea.su/repo/src/L10_Explainability/img/2_bad_models_prediction.png\" alt=\"alttext\" width=400/>\n"
   ]
  },
  {
   "cell_type": "markdown",
   "metadata": {},
   "source": [
    "#### Критерии, которым должны отвечать Интерпретаторы\n",
    "\n",
    "1. **Результат должен быть интерпретируемым**, т. е. обеспечивать качественное понимание взаимосвязи между входными переменными и ответом. Отметим, что интерпретируемость должна учитывать ограничения пользователя. Объяснения должны быть легкими для понимания, не обязательно соответствовать функциям, используемым моделью. Ну и конечно, понятие интерпретируемости зависит от целевой аудитории.\n",
    "\n",
    "Например, возможное интерпретируемое представление для классификации текста — это двоичный вектор, обозначающий наличие или отсутствие слова, даже если классификатор может использовать более сложные (и непонятные) функции, такие как вложения слов. Аналогичным образом для классификации изображений, интерпретируемое представление может быть двоичным вектором, указывающим «наличие» или «отсутствие» смежного участка аналогичных пикселей (суперпиксель), тогда как классификатор может представлять изображение в виде тензора с тремя цветовыми каналами на пиксель.\n",
    "\n",
    "2. Еще один важный критерий — **локальная точность**. Чтобы иметь смысл, обьяснение должно соответствовать тому, как модель ведет себя конкретно для предсказываемого случая.\n",
    "\n",
    "Отметим, что локальная точность не подразумевает глобальной точности: факторы, которые важны в глобальном масштабе, могут не иметь значения на местном контексте, и наоборот. \n",
    "В то время как глобальная точность не всегда будет означать локальную, выделяя глобально достоверные объяснения сложных моделей, которые сложно интерпретировать для конкретного примера.\n",
    "\n",
    "\n",
    "Некоторые метрики, такие как accuracy, **часто может быть неподходящей метрикой для оценки модели**. Например, когда речь идет о несбалансированных датасетах.\n",
    "\n",
    "Другой пример: модель прогнозирования оттока клиентов: модель может сказать вам, что конкретный клиент с вероятностью 90% откажется от услуг, но без четкого понимания причины не ясно, что можно сделать, чтобы предотвратить отток.\n",
    "\n",
    "Самая точная модель в мире бесполезна, если она не используется для принятия решений и действий.\n",
    "\n",
    "Поэтому крайне важно сделать модель максимально прозрачной и понятной для заинтересованных сторон, чтобы ее можно было использовать и действовать соответствующим образом.\n"
   ]
  },
  {
   "cell_type": "markdown",
   "metadata": {},
   "source": [
    "Таким образом в процесс обучения обучения добавляется пункт **Оценка результата**\n",
    "\n",
    "\n",
    "<img src=\"http://edunet.kea.su/repo/src/L10_Explainability/img/3_1_structure.png\" alt=\"alttext\" width=750/>\n",
    "\n",
    "Для этой задачи существуют специальные библиотеки (LIME, SHAP).\n",
    "\n",
    "\n",
    "\n"
   ]
  },
  {
   "cell_type": "markdown",
   "metadata": {},
   "source": [
    "# Оценка важности признаков в простых случаях"
   ]
  },
  {
   "cell_type": "code",
   "metadata": {},
   "source": [
    "from IPython.display import clear_output\n",
    "import pandas as pd\n",
    "import numpy as np"
   ],
   "execution_count": null,
   "outputs": []
  },
  {
   "cell_type": "markdown",
   "metadata": {},
   "source": [
    "В случае с линейными моделями нам было сравнительно легко определить, какие признаки модель считает важными $-$ если модель присваивает какому-то признаку большой вес, то скорее всего это признак достаточно \"хороший\".\n"
   ]
  },
  {
   "cell_type": "markdown",
   "metadata": {},
   "source": [
    "Для примера скачаем датасет жилья Бостона (boston_dataset), в котором проанализируем зависимость цены на жилье от параметров жилья и района, в котором оно находится."
   ]
  },
  {
   "cell_type": "code",
   "metadata": {},
   "source": [
    "from sklearn.datasets import load_boston\n",
    "from sklearn.model_selection import train_test_split\n",
    "from sklearn.linear_model import LinearRegression\n",
    "import pandas as pd\n",
    "import seaborn as sns\n",
    "import matplotlib.pyplot as plt\n",
    "\n",
    "# load dataset\n",
    "boston_dataset = load_boston()\n",
    "X = pd.DataFrame(data=boston_dataset['data'], columns=boston_dataset['feature_names'])\n",
    "y = boston_dataset['target']\n",
    "\n",
    "# Можно посмотреть детальное описание датасета\n",
    "print(boston_dataset.DESCR)"
   ],
   "execution_count": null,
   "outputs": []
  },
  {
   "cell_type": "code",
   "metadata": {},
   "source": [
    "model = LinearRegression()\n",
    "model.fit(X, y)\n"
   ],
   "execution_count": null,
   "outputs": []
  },
  {
   "cell_type": "code",
   "metadata": {},
   "source": [
    "model.coef_"
   ],
   "execution_count": null,
   "outputs": []
  },
  {
   "cell_type": "code",
   "metadata": {},
   "source": [
    "df = pd.DataFrame({\"name\": X.columns, \"coef\": model.coef_})\n",
    "\n",
    "plt.figure(figsize=(8,8))\n",
    "sns.barplot(data=df, y=\"name\", x=\"coef\", color=\"blue\", orient = 'h')\n"
   ],
   "execution_count": null,
   "outputs": []
  },
  {
   "cell_type": "markdown",
   "metadata": {},
   "source": [
    "## Оценка важности признака для дерева\n",
    "\n",
    "В случае же с деревьями всё далеко не так очевидно: дерево не знает такой концепции как \"вес признака\".\n",
    "\n",
    "Универсального критерия значимости для деревьев у нас нет, и в зависимости от задачи и от того, как эти признаки устроены, ответы могут быть разными.\n",
    "\n",
    "Первый из способов посчитать, насколько тот или иной признак значим для дерева это Gini Impurity measure $-$ показывает, насколько хорошо переменная помогает нам разбивать данные. По сути перекликается с Impurity decrease, который мы использовали при построении  самого дерева."
   ]
  },
  {
   "cell_type": "markdown",
   "metadata": {},
   "source": [
    "<img src=\"http://edunet.kea.su/repo/src/L10_Explainability/img/pdd/Giny_impurity1.png\" alt=\"alttext\" width=600/>"
   ]
  },
  {
   "cell_type": "markdown",
   "metadata": {},
   "source": [
    "Логика такая: если часто признак у нас присутствует на верхних уровнях дерева, то есть он помогает на маленьких глубинах разбивать выборку, то он более значим, чем признаки, которые используются на более поздних этапах.\n",
    "\n",
    "Но при этом не учитывается, насколько помогло такое начальное разбиение (вспомним пример с XOR). Хорошо было бы учитывать еще и насколько улучшается качество при таком разбиении. Тут нам поможет дополнительно учитывать как раз impurity decrease."
   ]
  },
  {
   "cell_type": "markdown",
   "metadata": {},
   "source": [
    "Такая метрика встроена в любое дерево решений. Для случайного леса (и других ансамблей) просто выдается среднее по деревьям.\n",
    "\n",
    "Однако, у нее есть один существенный **недостаток**: чем больше переменная может принимать значений, тем больше у нас возможных порогов разбиений, следовательно, тем больше вероятность получить \"хорошее\" разбиение. \n",
    "Таким образом из двух одинаково неинформативных признаков преимущество будет получать тот, у которого возможных разбиений больше.\n",
    "\n",
    "Бинарные признаки и маломерные вещественные в любом случае будут получать заниженное качество по сравнению с вещественными, даже если те дают худшее разбиение."
   ]
  },
  {
   "cell_type": "markdown",
   "metadata": {},
   "source": [
    "<img src=\"http://edunet.kea.su/repo/src/L10_Explainability/img/pdd/Giny_impurity2.png\" alt=\"alttext\" width=600/>"
   ]
  },
  {
   "cell_type": "code",
   "metadata": {},
   "source": [
    "from sklearn.ensemble import RandomForestRegressor\n",
    "model = RandomForestRegressor(random_state= 49)\n",
    "model.fit(X, y)\n"
   ],
   "execution_count": null,
   "outputs": []
  },
  {
   "cell_type": "code",
   "metadata": {},
   "source": [
    "model.feature_importances_"
   ],
   "execution_count": null,
   "outputs": []
  },
  {
   "cell_type": "code",
   "metadata": {},
   "source": [
    ""
   ],
   "execution_count": null,
   "outputs": []
  },
  {
   "cell_type": "code",
   "metadata": {},
   "source": [
    "df = pd.DataFrame({\"name\": X.columns, \"imp\": model.feature_importances_})\n",
    "\n",
    "plt.figure(figsize=(8,8))\n",
    "sns.barplot(data=df, y=\"name\", x=\"imp\", color=\"blue\", orient = 'h')\n"
   ],
   "execution_count": null,
   "outputs": []
  },
  {
   "cell_type": "markdown",
   "metadata": {},
   "source": [
    "## Randomization/Permutation\n",
    "\n"
   ]
  },
  {
   "cell_type": "markdown",
   "metadata": {},
   "source": [
    "Мы можем перемешать значения нашей переменной. За счет этого она станет бессмысенной. По падению качества мы можем оценить, каков был вклад переменной до изменения: если качество упало сильно, то признак был значимым."
   ]
  },
  {
   "cell_type": "markdown",
   "metadata": {},
   "source": [
    "Можно считать качество на OOB $-$ **Out-of-bag samples**: объектах, которые были выброшены при бутстрепе и которые модель таким образом еще не видела: таким образом, нам не надо делать отдельную валидацию. По очереди пермешиваем значения каждой переменной в OOB и смотрим, как падает качество.\n",
    "В sklearn это реализовано как <a href=\"https://scikit-learn.org/stable/modules/permutation_importance.html\">отдельный класс</a>. \n",
    "\n",
    "Однако, такой подход в чистом виде приведет к завышению важности для коррелирующих признаков.\n",
    "\n",
    "https://blog.ceshine.net/post/please-stop-permuting-features/\n",
    "\n",
    "\n"
   ]
  },
  {
   "cell_type": "markdown",
   "metadata": {},
   "source": [
    "Для дерева решений это объясняется следующим образом: линейная регрессия от двух сильно скоррелированных признаков (один линейно выражается через другой) по сути представляет собой регрессию от одного признака. \n",
    "\n",
    "Дерево решений пытается разбить пространство плоскостями, и в областях, где объектов нет, оно по сути занимается угадыванием. Если x1 и x2 на картинке ниже линейно зависимы, то не может возникнуть ситуация, при которой x1 = 0, а x2 = 1. А как раз при перемешивании такая ситуация возникнет, и точки начнут попадать в \"проблемные\" области, в которых дерево решений плохо предсказывает.\n",
    "\n",
    "В результате получаем завышенную важность."
   ]
  },
  {
   "cell_type": "markdown",
   "metadata": {},
   "source": [
    "<img src=\"http://edunet.kea.su/repo/src/L10_Explainability/img/pdd/figure-4.png\" alt=\"alttext\" width=800/>\n",
    "\n",
    "https://arxiv.org/abs/1905.03151"
   ]
  },
  {
   "cell_type": "markdown",
   "metadata": {},
   "source": [
    "Второй вариант $-$ тоже считать качество на OOB, но при этом при каждом перемешивании тренировать модель **заново**. Это работает адекватно, но очень долго."
   ]
  },
  {
   "cell_type": "markdown",
   "metadata": {},
   "source": [
    "А еще можно пытаться перемешивать так, чтобы не разрушать связи между скоррелированными признаками. В этом случае мы не будем часто попадать в регионы, на которых у нас заведомо не может быть объектов. Также можно добавить сюда переучивание модели каждый раз.  "
   ]
  },
  {
   "cell_type": "code",
   "metadata": {},
   "source": [
    "from sklearn.inspection import permutation_importance\n",
    "X_train, X_val, y_train, y_val = train_test_split(X, y, random_state=0)\n",
    "model = RandomForestRegressor(random_state= 49)\n",
    "model.fit(X_train, y_train)\n",
    "\n",
    "r = permutation_importance(model, X_val, y_val,n_repeats=100, random_state=0)\n",
    "r.importances_mean"
   ],
   "execution_count": null,
   "outputs": []
  },
  {
   "cell_type": "code",
   "metadata": {},
   "source": [
    "df = pd.DataFrame({\"name\": X.columns, \"imp\": r.importances_mean})\n",
    "\n",
    "plt.figure(figsize=(8,8))\n",
    "sns.barplot(data=df, y=\"name\", x=\"imp\", color=\"blue\", orient = 'h')\n"
   ],
   "execution_count": null,
   "outputs": []
  },
  {
   "cell_type": "markdown",
   "metadata": {},
   "source": [
    "## Dropped variable importance\n",
    "\n",
    "Редко используемый метод, заключающийся в том, что мы просто выбрасываем переменную и смотрим как упало качество по сравнению с \"полной\" моделью.\n",
    "\n",
    "Это не очень хорошо как миниму потому, что многие гиперпараметры зависят от числа признаков $-$ модель будет работать хуже еще и поэтому. Опять же между признаками могут быть сложные взаимодействия."
   ]
  },
  {
   "cell_type": "markdown",
   "metadata": {},
   "source": [
    "# Библиотеки для реализации explanation"
   ]
  },
  {
   "cell_type": "markdown",
   "metadata": {},
   "source": [
    "Мы рассмотрим две библиотеки: SHAP и LIME.\n",
    "\n",
    "Логика работы **SHAP (SHapley Additive exPlanations)** основана на значении Шепли.\n",
    "[Значение Шепли](https://en.wikipedia.org/wiki/Shapley_value) — это среднее значение предельных вкладов по всем перестановкам.\n",
    "\n",
    "SHAP учитыват все возможные перестановки, таким образом, SHAP представляет собой единый подход, обеспечивающий глобальную и локальную согласованность и интерпретируемость.\n",
    "\n",
    "Однако его цена — время, так как алгоритму нужно вычислить все перестановки, чтобы получить результаты.\n",
    "\n",
    "Напротив, **LIME (Local Interpretable Model-agnostic Explanations)** строит дискретные линейные модели вокруг индивидуального прогноза в его локальной окрестности. LIME на самом деле является подмножеством SHAP, но не имеет тех же свойств.\n",
    "\n",
    "**Преимущество LIME — скорость**.\n",
    "Алгоритм LIME изменяет данные вокруг отдельного прогноза для построения модели, в то время как SHAP должен вычислять все перестановки глобально, чтобы получить локальную точность. Кроме того, модуль SHAP Python пока еще не имеет специально оптимизированных алгоритмов для всех типов алгоритмов (таких как KNN)."
   ]
  },
  {
   "cell_type": "markdown",
   "metadata": {},
   "source": [
    "## [SHAP (SHapley Additive exPlanations)](https://christophm.github.io/interpretable-ml-book/shap.html)\n",
    "\n",
    "\n",
    "\n",
    "<img src=\"http://edunet.kea.su/repo/src/L10_Explainability/img/4_shap_diagram.png\" alt=\"alttext\" width=400/>\n",
    "\n",
    "\n",
    "Цель SHAP — объяснить предсказание экземпляра x путем вычисления вклада каждой функции в предсказание. Для этого вычисляются значения Шепли из теории игр. А значения признаков экземпляра данных действуют как игроки в коалиции.\n",
    "\n",
    "Значения Шепли говорят нам, как справедливо распределить «выплату» (= прогноз) между функциями. \n",
    "* Игрок может иметь индивидуальное значение функции, например для табличных данных. \n",
    "* Или может быть группой значений характеристик. Например, для объяснения изображения пиксели могут быть сгруппированы в суперпиксели, а прогноз распределяется между ними.\n",
    "\n",
    "\n"
   ]
  },
  {
   "cell_type": "markdown",
   "metadata": {},
   "source": [
    "$g(z^{'})=\\phi_{0} + \\sum_{j=1}^{M}\\phi_{j}z^{'}_{j}$\n",
    "\n",
    "где g — модель объяснения\n",
    "<math xmlns=\"http://www.w3.org/1998/Math/MathML\">\n",
    "  <msup>\n",
    "    <mi>z</mi>\n",
    "    <mo>&#x2032;</mo>\n",
    "  </msup>\n",
    "  <mo>&#x2208;<!-- ∈ --></mo>\n",
    "  <mo fence=\"false\" stretchy=\"false\">{</mo>\n",
    "  <mn>0</mn>\n",
    "  <mo>,</mo>\n",
    "  <mn>1</mn>\n",
    "  <msup>\n",
    "    <mo fence=\"false\" stretchy=\"false\">}</mo>\n",
    "    <mi>M</mi>\n",
    "  </msup>\n",
    "</math> — вектор коалиции, M — максимальный размер коалиции и\n",
    "<math xmlns=\"http://www.w3.org/1998/Math/MathML\">\n",
    "  <msub>\n",
    "    <mi>&#x03D5;<!-- ϕ --></mi>\n",
    "    <mi>j</mi>\n",
    "  </msub>\n",
    "  <mo>&#x2208;<!-- ∈ --></mo>\n",
    "  <mrow class=\"MJX-TeXAtom-ORD\">\n",
    "    <mi mathvariant=\"double-struck\">R</mi>\n",
    "  </mrow>\n",
    "</math> — атрибуция признака j, значения Шепли.\n",
    "\n",
    "Таким образом, например, изображения не представлены на уровне пикселей, а агрегируются в суперпиксели."
   ]
  },
  {
   "cell_type": "markdown",
   "metadata": {},
   "source": [
    "<img src=\"http://edunet.kea.su/repo/src/L10_Explainability/img/pdd/shap1.png\" alt=\"alttext\" width=500/>\n",
    "\n",
    "\n",
    "https://towardsdatascience.com/shap-explained-the-way-i-wish-someone-explained-it-to-me-ab81cc69ef30"
   ]
  },
  {
   "cell_type": "markdown",
   "metadata": {},
   "source": [
    "Пусть у нас есть некая модель, которая предсказывает з/п на основании пола, возраста и работы. \n",
    "\n",
    "Самое простое \"предсказание\" это средняя зарплата $-$ не учитывает никакие признаки (точность соотвествующая).\n",
    "\n",
    "Дальше мы можем использовать по однуму признаку, более сложные модели базируются на многих признаках.\n",
    "\n",
    "Зная предсказания всех возможных моделей, мы можем посчитать *вклад* каждого признака в общее предсказание."
   ]
  },
  {
   "cell_type": "markdown",
   "metadata": {},
   "source": [
    "<img src=\"http://edunet.kea.su/repo/src/L10_Explainability/img/pdd/shap2.png\" alt=\"alttext\" width=480/>"
   ]
  },
  {
   "cell_type": "markdown",
   "metadata": {},
   "source": [
    "На графе вложенности моделей каждое ребро сооветствует добавлению какого-то признака. Например, на картинке выше все покрашенные ребра добавляют признак \"возраст\" к моделям.\n",
    "\n",
    "Дальше мы можем взвесить все ребра так, чтобы на каждом уровне сумма весов по \"строке\" была постоянной (см ниже). Инициализируем веса одинаковыми числами (например, долями единицы)."
   ]
  },
  {
   "cell_type": "markdown",
   "metadata": {},
   "source": [
    "<img src=\"http://edunet.kea.su/repo/src/L10_Explainability/img/pdd/shap3.png\" alt=\"alttext\" width=600/>"
   ]
  },
  {
   "cell_type": "markdown",
   "metadata": {},
   "source": [
    "Дальше проходим по графу и при переходе по ребрам домножаем вес ребра на разницу предсказания по данному ребру и суммируем все такие ребра для данного признака (в данном случае возраст):"
   ]
  },
  {
   "cell_type": "markdown",
   "metadata": {},
   "source": [
    "<img src=\"http://edunet.kea.su/repo/src/L10_Explainability/img/pdd/shap4.png\" alt=\"alttext\" width=600/>\n"
   ]
  },
  {
   "cell_type": "markdown",
   "metadata": {},
   "source": [
    "Такие Shap Values можно легко посчитать для каждого признака для каждого объекта и, например, усреднить по объектам какой-то группы. \n",
    "\n",
    "Например, можно взять все объекты, которые модель скорит высоко, и посмотреть значимые дли них признаки. Либо, если у нас есть какая-то особенная группа объектов, можем контролировать, что для них модель выучивает именно важные признаки, а не какой-то мусор."
   ]
  },
  {
   "cell_type": "markdown",
   "metadata": {},
   "source": [
    "Посмотрим, как реализуется этот подход в NLP"
   ]
  },
  {
   "cell_type": "code",
   "metadata": {},
   "source": [
    "!pip install shap\n",
    "clear_output()\n",
    "\n",
    "import shap"
   ],
   "execution_count": null,
   "outputs": []
  },
  {
   "cell_type": "markdown",
   "metadata": {},
   "source": [
    "#### Пример обьяснения перевода с английского на русский\n",
    "Рассмотрим пример интерпретации модели для предварительно обученной модели машинного перевода\n",
    "[Machine Translation Example](https://shap.readthedocs.io/en/stable/example_notebooks/text_examples/translation/Machine%20Translation%20Explanation%20Demo.html). И, раз уж мы будем для перевода использовать предобученную модель-транформер, то переведем начало статьи [How Transformers Work](https://towardsdatascience.com/transformers-141e32e69591)"
   ]
  },
  {
   "cell_type": "markdown",
   "metadata": {},
   "source": [
    "##### $\\color{brown}{\\text{Допольнительная информация}}$\n",
    "\n",
    "О трансформерах"
   ]
  },
  {
   "cell_type": "markdown",
   "metadata": {},
   "source": [
    "Attention\n",
    "\n",
    "<img src =\"http://edunet.kea.su/repo/src/L08_RNN/img/498_FA2019_lecture13-020.png\" width=\"700\">\n",
    "\n",
    "\n",
    "Self - attention\n",
    "<img src =\"http://edunet.kea.su/repo/src/L08_RNN/img/498_FA2019_lecture13-070.png\" width=\"700\">\n",
    "\n",
    "- Реккурентность не нужна, можем обрабатывать данные параллельно.\n",
    "\n",
    "Transformer\n",
    "\n",
    "<img src =\"http://edunet.kea.su/repo/src/L08_RNN/img/498_FA2019_lecture13-092.png\" width=\"700\">\n",
    "\n"
   ]
  },
  {
   "cell_type": "markdown",
   "metadata": {},
   "source": [
    "### NLP модель"
   ]
  },
  {
   "cell_type": "markdown",
   "metadata": {},
   "source": [
    "Используем одну из моделей [huggingface ](https://github.com/huggingface/transformers)\n",
    "\n",
    "\n",
    "Модель: https://blogs.helsinki.fi/language-technology/ \n",
    "\n",
    "\n",
    "https://huggingface.co/Helsinki-NLP https://huggingface.co/Helsinki-NLP/opus-mt-en-ru"
   ]
  },
  {
   "cell_type": "code",
   "metadata": {},
   "source": [
    "!pip install sentencepiece\n",
    "!pip install transformers\n",
    "clear_output()"
   ],
   "execution_count": null,
   "outputs": []
  },
  {
   "cell_type": "markdown",
   "metadata": {},
   "source": [
    "Загружаем модель.\n",
    "\n",
    "Для этого используется класс-фабрика, на вход которому передается имя модели, а возвращается он объект соответствующего класса."
   ]
  },
  {
   "cell_type": "code",
   "metadata": {},
   "source": [
    "from transformers import  AutoModelForSeq2SeqLM\n",
    "import sentencepiece\n",
    "lang = \"en\"\n",
    "target_lang = \"ru\"\n",
    "model_name = f'Helsinki-NLP/opus-mt-{lang}-{target_lang}'\n",
    "\n",
    "# load the model and tokenizer\n",
    "# Можно попробовать перевод и разными предобученными моделями\n",
    "# Download the model and the tokenizer\n",
    "\n",
    "# In't a Factory pattern\n",
    "model = AutoModelForSeq2SeqLM.from_pretrained(model_name)\n",
    "model.to(device)\n",
    "clear_output()\n",
    "print(type(model))"
   ],
   "execution_count": null,
   "outputs": []
  },
  {
   "cell_type": "markdown",
   "metadata": {},
   "source": [
    "В данном случае нам вернулся объект типа [MarianMT](https://huggingface.co/transformers/model_doc/marian.html)\n",
    "\n"
   ]
  },
  {
   "cell_type": "markdown",
   "metadata": {},
   "source": [
    "Теперь создадим [токенайзер](https://huggingface.co/transformers/main_classes/tokenizer.html).\n",
    "\n",
    "Как мы уже обсуждали, токенайзер преобразует слова и знаки препинания в исходного текста в токены которые можно подать на вход модели. В данном случае возвращаются id. При этом не всегда одно слово преобразуется в один токен, иногода слово разбивается по слогам на несколько токенов.\n",
    "\n",
    "\n",
    "Создается токенайзер так же фабрикой, по имени модели.\n"
   ]
  },
  {
   "cell_type": "code",
   "metadata": {},
   "source": [
    "from transformers import AutoTokenizer\n",
    "\n",
    "\n",
    "tokenizer = AutoTokenizer.from_pretrained(model_name)\n",
    "\n",
    "print(type(tokenizer))\n",
    "\n",
    "inputs = tokenizer(\"Hello world!\", return_tensors=\"pt\")\n",
    "\n",
    "print(inputs)\n",
    "\n",
    "translated = model.generate(**tokenizer(\"Hello world!\", return_tensors=\"pt\").to(device))\n",
    " # ** -  is dictionary unpack operator\n",
    " # https://towardsdatascience.com/unpacking-operators-in-python-306ae44cd480\n",
    "\n"
   ],
   "execution_count": null,
   "outputs": []
  },
  {
   "cell_type": "markdown",
   "metadata": {},
   "source": [
    "Теперь переведем целую фразу. \n",
    "\n",
    "И проанализируем как выход модели связан со входом.\n",
    "\n",
    "Для этого создадим объект [shap.Explaner](https://shap.readthedocs.io/en/latest/generated/shap.Explainer.html)\n",
    "\n",
    "Который в данном случае инициализируется экземпляром модели и экземпляром токенайзера*.\n",
    "\n",
    "\n",
    "Вместо того что бы запускать саму модель, мы запускаем Explainer (неявно вызывая его метод __call__). \n",
    "\n",
    "* В действительности вторым параметром конструктора shap.Explainer не обязательно должен быть токенайзер. shap.Explainer принимает объект поддерживающий интерфейс masker:\n",
    "\n",
    "masked_args = masker(*model_args, mask=mask)\n",
    "\n",
    "Он используется для исключения части аргументов и токенайзеры поддерживают этот интерфейс (shap.TokenMasker). Благодаря такому подходу shap может работать с k.,с различными моделями как с \"черным ящиком\", \n",
    "\n",
    "\n",
    "\n"
   ]
  },
  {
   "cell_type": "code",
   "metadata": {},
   "source": [
    "import shap\n",
    "# define the input sentences we want to translate\n",
    "data = [\n",
    "    \"Transformers are a type of neural network architecture that have been gaining popularity. Transformers were developed to solve the problem of sequence transduction, or neural machine translation. That means any task that transforms an input sequence to an output sequence. This includes speech recognition, text-to-speech transformation, etc..\"\n",
    "]\n",
    "\n",
    "# we build an explainer by passing the model we want to explain and\n",
    "# the tokenizer we want to use to break up the input strings\n",
    "explainer = shap.Explainer(model, tokenizer)\n",
    "\n",
    "# explainers are callable, just like models\n",
    "explanation = explainer(data, fixed_context=1)"
   ],
   "execution_count": null,
   "outputs": []
  },
  {
   "cell_type": "markdown",
   "metadata": {},
   "source": [
    "Вместо того что бы запускать саму модель, мы запускаем экземпляр Explainer (неявно вызывая его метод call). \n",
    "\n",
    "На выходе получаем объект класса [shap.Explanation](https://shap.readthedocs.io/en/latest/generated/shap.Explanation.html#shap-explanation)\n",
    "\n",
    "\n",
    "Который содержит значения Шепли для каждого токена."
   ]
  },
  {
   "cell_type": "code",
   "metadata": {},
   "source": [
    "print(\"Data\",explanation.data)\n",
    "print(\"Shap values\",explanation.values)\n",
    "print(\"Shape\",explanation.shape) # 1, in, out"
   ],
   "execution_count": null,
   "outputs": []
  },
  {
   "cell_type": "markdown",
   "metadata": {},
   "source": [
    "\n",
    "\n",
    "Теперь используя магию shap можно визуализировать результат."
   ]
  },
  {
   "cell_type": "code",
   "metadata": {},
   "source": [
    "shap.plots.text(explanation)"
   ],
   "execution_count": null,
   "outputs": []
  },
  {
   "cell_type": "markdown",
   "metadata": {},
   "source": [
    "## LIME\n",
    "\n",
    "Local Interpretable Model-agnostic Explanations\n",
    "\n",
    "Поскольку мы хотим быть независимыми от модели, то следующее, что мы можем сделать, чтобы изучить поведение базовой модели — это изменить входные данные и посмотреть, как меняются прогнозы.\n",
    "\n",
    "Это оказывается преимуществом с точки зрения интерпретируемости, потому что мы можем изменять компоненты на входе, которые имеют смысл для людей (например, слова или части изображения), даже если модель использует гораздо более сложные компоненты в качестве функций (например, word embeddings).\n",
    "\n",
    "LIME генерирует объяснение, аппроксимируя базовую модель интерпретируемой (например, линейной моделью с несколькими ненулевыми коэффициентами), изученной при возмущениях исходной модели (например, удалении слов или скрытии частей изображения).\n",
    "\n",
    "Ключевая идея, лежащая в основе LIME, заключается в том, что гораздо проще аппроксимировать модель черного ящика простой моделью локально, чем пытаться обьяснить модель целиком (глобально).\n",
    "\n"
   ]
  },
  {
   "cell_type": "markdown",
   "metadata": {},
   "source": [
    "### Принцип работы:\n",
    "\n",
    "\n",
    "1.   Делаем предсказание для целевого объекта\n",
    "2.   Убираем часть признаков* у объекта и делаем новое предсказание\n",
    "3.   Шаг 2 повторяем несколько раз, все предсказания сохраняем\n",
    "4.   Из полученных данных формируем датасет, на котором обучаем линейную модель.\n",
    "5. Коэффициенты линейной модели используем для оценки важности признаков.\n",
    "\n",
    "\n",
    "* Для разных типов данные признаки можно маскировать по разному. Для табличных данных можно заменить значения на None. Для текстов удалить часть слов. Для изображений разделить картинку на области (суперпиксели) и поочередно закрашивать их серым ...\n",
    "\n",
    "\n",
    "https://arxiv.org/pdf/1602.04938.pdf\n",
    "\n"
   ]
  },
  {
   "cell_type": "markdown",
   "metadata": {},
   "source": [
    "### *Как маскировать признаки?\n",
    "\n",
    "Зависит от типа данных:\n",
    "*  Для табличных данных достаточно заменить значения признака на None.\n",
    "*  В текстах можно просто удалить слово. \n",
    "*  Для изображений делят картинку на области (суперпиксели) и поочередно закрашивают их одним и тем же цветом (средним)"
   ]
  },
  {
   "cell_type": "markdown",
   "metadata": {},
   "source": [
    "### Ограничения\n",
    "\n",
    "Описанный подход не позволит интерпретировать поведение модели только в некоторой области вблизи интересующего нас экземпляра.\n",
    "На практике этого может быть достаточно. И в отличие от SHAP этот подход работает быстрее так как не требует перебора всех комбинаций признаков.\n",
    "\n",
    "<img src =\"http://edunet.kea.su/repo/src/L10_Explainability/img/lime.png\" width=\"700\">\n",
    "\n",
    "\n",
    "\n",
    "*  Модель == f == нелинейная функция, формирующая границу изображенную розовым .на голубом фоне.\n",
    "* Реальный объект обозначен жирным красным крестом\n",
    "* Сгенерированные объекты обозначены кругами и крестами в зависимости от класса\n",
    "* Масштаб объектов отражает их близость к исходному (по некоторой метрике расстояния)\n",
    "* Пунктир - граница которую выучила линейная модель\n",
    "\n",
    "\n",
    "\n",
    "Первоисточник: [Why Should I Trust You?](https://arxiv.org/pdf/1602.04938.pdf) \n",
    "\n",
    "\n",
    "\n",
    "\n",
    "\n",
    "\n",
    "\n",
    "\n",
    "\n"
   ]
  },
  {
   "cell_type": "markdown",
   "metadata": {},
   "source": [
    "#### Пример обьяснения классфикации статей по религиозному принципу\n",
    "\n",
    "\n",
    "<img src=\"http://edunet.kea.su/repo/src/L10_Explainability/img/5_christian_or_atheist_2.png\" alt=\"alttext\" width=900/>\n",
    "\n",
    "Используем датасет [fetch_20newsgroups](https://scikit-learn.org/stable/modules/generated/sklearn.datasets.fetch_20newsgroups.html): \n",
    "\n",
    "Данные [«The 20 Newsgroups»](http://qwone.com/~jason/20Newsgroups/) — это коллекция примерно из 20000 новостных документов, разделенная (приблизительно) равномерно между 20 различными категориями. Изначально она собиралась Кеном Ленгом (Ken Lang), возможно, для его работы «Newsweeder: Learning to filter netnews» («Новостной обозреватель: учимся фильтровать новости из сети»).\n",
    "\n",
    "Коллекция «The 20 newsgroups» стала популярным набором данных для экспериментов с техниками машинного обучения для текстовых приложений, таких как классификация текста или его кластеризация.\n",
    "\n",
    "https://marcotcr.github.io/lime/tutorials/Lime%20-%20multiclass.html\n",
    "\n",
    "Тут мы будем использовать Multinomial Naive Bayes для классификации [(справка)](https://scikit-learn.org/stable/modules/generated/sklearn.naive_bayes.MultinomialNB.html?highlight=multinomial%20naive%20bayes#sklearn.naive_bayes.MultinomialNB)."
   ]
  },
  {
   "cell_type": "code",
   "metadata": {},
   "source": [
    "import sklearn\n",
    "from sklearn.datasets import fetch_20newsgroups\n",
    "\n",
    "newsgroups_train = fetch_20newsgroups(subset='train')\n",
    "newsgroups_test = fetch_20newsgroups(subset='test')\n",
    "# making class names shorter\n",
    "class_names = [x.split('.')[-1] if 'misc' not in x else '.'.join(x.split('.')[-2:]) for x in newsgroups_train.target_names]\n",
    "class_names[3] = 'pc.hardware'\n",
    "class_names[4] = 'mac.hardware'\n",
    "\n",
    "print(class_names)"
   ],
   "execution_count": null,
   "outputs": []
  },
  {
   "cell_type": "markdown",
   "metadata": {},
   "source": [
    "LIME используется для объяснения множества классификаторов (таких как RandomForest или SVM и нейронные сети) при анализе моделей NLP и CV.\n",
    "\n",
    "Знаменитый набор данных из 20 групп новостей является эталоном и использовался для сравнения различных моделей в нескольких статьях.\n",
    "\n",
    "Мы берем два класса, которые трудно различить, потому что в них много схожих слов: христианство и атеизм.\n",
    "\n",
    "Обучая модель, мы получаем точность тестового набора 83,5%, что является удивительно высоким показателем. Если бы точность была нашим единственным мерилом доверия, мы бы точно доверились этому классификатору.\n",
    "\n",
    "Однако давайте посмотрим на объяснение на рисунке для произвольного экземпляра в тестовом наборе:"
   ]
  },
  {
   "cell_type": "markdown",
   "metadata": {},
   "source": [
    "##### $\\color{brown}{\\text{Допольнительная информация}}$"
   ]
  },
  {
   "cell_type": "markdown",
   "metadata": {},
   "source": [
    "###### TF-IDF:\n",
    "\n",
    "\n",
    "https://ru.wikipedia.org/wiki/TF-IDF\n",
    "\n",
    "https://scikit-learn.org/stable/modules/generated/sklearn.feature_extraction.text.TfidfVectorizer.html\n",
    "\n",
    "https://medium.com/@cmukesh8688/tf-idf-vectorizer-scikit-learn-dbc0244a911a"
   ]
  },
  {
   "cell_type": "markdown",
   "metadata": {},
   "source": [
    " ###### Multinomial Naive Bayes\n",
    "\n",
    "https://scikit-learn.org/stable/modules/generated/sklearn.naive_bayes.MultinomialNB.html?highlight=multinomial%20naive%20bayes#sklearn.naive_bayes.MultinomialNB"
   ]
  },
  {
   "cell_type": "code",
   "metadata": {},
   "source": [
    "from sklearn.feature_extraction.text import TfidfVectorizer\n",
    "import sklearn.metrics\n",
    "from sklearn.naive_bayes import MultinomialNB\n",
    "\n",
    "# Again, let's use the tfidf vectorizer, commonly used for text.\n",
    "vectorizer = sklearn.feature_extraction.text.TfidfVectorizer(lowercase=False)\n",
    "train_vectors = vectorizer.fit_transform(newsgroups_train.data)\n",
    "test_vectors = vectorizer.transform(newsgroups_test.data)\n",
    "\n",
    "# Train the model\n",
    "nb = MultinomialNB(alpha=.01)\n",
    "nb.fit(train_vectors, newsgroups_train.target)\n",
    "\n",
    "# Calculate F1_score\n",
    "pred = nb.predict(test_vectors)\n",
    "sklearn.metrics.f1_score(newsgroups_test.target, pred, average='weighted')"
   ],
   "execution_count": null,
   "outputs": []
  },
  {
   "cell_type": "code",
   "metadata": {},
   "source": [
    "print(train_vectors.shape)\n",
    "print(type(train_vectors[0]), train_vectors[0].shape)\n",
    "print(vectorizer.get_feature_names())"
   ],
   "execution_count": null,
   "outputs": []
  },
  {
   "cell_type": "markdown",
   "metadata": {},
   "source": [
    "Как видно из кода, текст подается на вход модели не в сыром виде, а после предобработки объектом vectorizer. \n",
    "\n",
    "[LimeTextExplainer](https://lime-ml.readthedocs.io/en/latest/lime.html#lime.lime_text.LimeTextExplainer)  ждет на вход данные и класс модели:\n",
    "\n",
    "\n",
    "```\n",
    "explain_instance(text_instance, classifier_fn, labels=(1, ), top_labels=None, num_features=10, num_samples=5000, distance_metric='cosine', model_regressor=None)\n",
    "```\n",
    "\n",
    "**classifier_fn** *– classifier prediction probability function, which takes a list of d strings and outputs a (d, k) numpy array with prediction probabilities, where k is the number of classes. For ScikitClassifiers , this is classifier.predict_proba.*\n",
    "\n",
    "\n",
    "\n",
    " Что поэтому в примере используется обертка над классом преобразовывающем данные и моделью:\n",
    "\n",
    " [sklearn.pipeline.make_pipeline](#https://scikit-learn.org/stable/modules/generated/sklearn.pipeline.make_pipeline.html)"
   ]
  },
  {
   "cell_type": "code",
   "metadata": {},
   "source": [
    "from sklearn.pipeline import make_pipeline\n",
    "\n",
    "#https://scikit-learn.org/stable/modules/generated/sklearn.pipeline.make_pipeline.html\n",
    "model_with_preprocessing = make_pipeline(vectorizer, nb)"
   ],
   "execution_count": null,
   "outputs": []
  },
  {
   "cell_type": "markdown",
   "metadata": {},
   "source": [
    "Мы видим, что этот классификатор имеет очень высокий F1_score. Руководство sklearn для 20 newsgroups указывает, что Multinomial Naive Bayes переучивается на этом наборе данных, изучая нерелевантные взаимосвязи, такие как заголовки.\n",
    "\n",
    "Теперь мы используем LIME для объяснения индивидуальных прогнозов...\n"
   ]
  },
  {
   "cell_type": "markdown",
   "metadata": {},
   "source": [
    "В случае мультикласса мы должны определить, для каких меток хотим получим объяснения с помощью параметра «labels». Сгенерируем пояснения для меток 0 и 17:\n"
   ]
  },
  {
   "cell_type": "code",
   "metadata": {},
   "source": [
    "!pip install lime\n"
   ],
   "execution_count": null,
   "outputs": []
  },
  {
   "cell_type": "code",
   "metadata": {},
   "source": [
    "import lime\n",
    "from lime.lime_text import LimeTextExplainer\n",
    "explainer = LimeTextExplainer(class_names=class_names,random_state = 46)\n",
    "idx = 1340\n",
    "exp = explainer.explain_instance(newsgroups_test.data[idx],\n",
    "                                 model_with_preprocessing.predict_proba,\n",
    "                                 num_features=6,\n",
    "                                 labels=[0,\n",
    "                                         17\n",
    "                                         ])\n",
    "print('Document id: %d' % idx)\n",
    "print('Predicted class =', class_names[nb.predict(test_vectors[idx]).reshape(1,-1)[0,0]])\n",
    "print('True class: %s' % class_names[newsgroups_test.target[idx]])"
   ],
   "execution_count": null,
   "outputs": []
  },
  {
   "cell_type": "markdown",
   "metadata": {},
   "source": [
    "Возвращается как и в случае с SHAP специальный объект класса [Explanation](https://lime-ml.readthedocs.io/en/latest/lime.html?highlight=Explanation#lime.explanation.Explanation)\n"
   ]
  },
  {
   "cell_type": "markdown",
   "metadata": {},
   "source": [
    "Обратите внимание, что положительный и отрицательный знаки относятся к конкретной метке — так что слова, отрицательные по отношению к классу 0, могут быть положительными по отношению к классу 15, и наоборот. Другая альтернатива — \n"
   ]
  },
  {
   "cell_type": "markdown",
   "metadata": {},
   "source": [
    "Попросим LIME сгенерировать метки для K=2 классов чтобы увидеть, какие ярлыки имеют объяснения, используйте функцию available_labels"
   ]
  },
  {
   "cell_type": "code",
   "metadata": {},
   "source": [
    "idx = 1340\n",
    "#idx = 1349\n",
    "exp = explainer.explain_instance(newsgroups_test.data[idx],\n",
    "                                 model_with_preprocessing.predict_proba,\n",
    "                                 num_features=6,\n",
    "                                 top_labels=2)\n",
    "print(exp.available_labels())"
   ],
   "execution_count": null,
   "outputs": []
  },
  {
   "cell_type": "markdown",
   "metadata": {},
   "source": [
    "Теперь давайте посмотрим на визуализацию объяснений.\n",
    "Обратите внимание, что для каждого класса слова в правой части строки являются «положительными», а слова в левой части — «отрицательными» для обьясняемого класса.\n",
    "\n",
    "Также видно, что в классификаторе используются как разумные слова (такие как «геноцид», «Лютер», «семитский» и т. д.), так и неразумные («рис», «сова»).\n",
    "\n",
    "Давайте увеличим масштаб и просто посмотрим на объяснения класса «атеизм»."
   ]
  },
  {
   "cell_type": "code",
   "metadata": {},
   "source": [
    "#exp.show_in_notebook(text=False)\n",
    "exp.show_in_notebook(text=newsgroups_test.data[idx], labels=(0,))"
   ],
   "execution_count": null,
   "outputs": []
  },
  {
   "cell_type": "code",
   "metadata": {},
   "source": [
    "exp.show_in_notebook(text=newsgroups_test.data[idx], labels=(15,))"
   ],
   "execution_count": null,
   "outputs": []
  },
  {
   "cell_type": "markdown",
   "metadata": {},
   "source": [
    "Глядя на этот пример, можно увидеть, что в заголовке или кавычках может быть и полезный сигнал, который будет помогать обобщению (например,  в строке «Тема»).\n",
    "\n",
    "А есть и слова, которые нельзя обобщать (например, адреса электронной почты и названия учреждений)."
   ]
  },
  {
   "cell_type": "markdown",
   "metadata": {},
   "source": [
    "## Другие библиотеки"
   ]
  },
  {
   "cell_type": "markdown",
   "metadata": {},
   "source": [
    "[DEN](https://github.com/isaacrob/DEN) : основан на новом режиме обучения сиамской нейронной сети без учителя и функции потерь, который называется Differentiating EmbeddingNetworks (DEN).\n",
    "\n",
    "Сиамская нейронная сеть находит отличительные или похожие черты между конкретными парами образцов в наборе данных и использует эти функции, чтобы встроить набор данных в пространство более низкой размерности, где он может быть визуализирован.\n",
    "\n",
    "В отличие от существующих алгоритмов визуализации, таких как UMAP ort-SNE, DEN является параметрическим, то есть его можно интерпретировать такими методами, как SHAP.\n",
    "\n",
    "[XAI](https://towardsdatascience.com/xai-build-your-own-deep-learning-interpretation-algorithm-6e471b59af7) \n",
    "\n",
    "[Boruta](https://github.com/scikit-learn-contrib/boruta_py) — это метод выбора всех релевантных функций, изобретенный Витольдом Р. Рудницки и разработанный Мироном Б. Курса из ICM UW.\n",
    "\n",
    "Boruta — выбирает все необходимые признаки, в то время как другие являются не оптимальными. Он пытается найти все признаки, несущие информацию, используемую для прогнозирования, вместо того, чтобы находить возможно компактное подмножество признаков, по которым некоторый классификатор имеет минимальную ошибку.\n",
    "\n",
    "Зачем беспокоиться о выборе всех необходимых признаков?\n",
    "\n",
    "Когда вы пытаетесь понять феномен, создавший ваши данные, вы должны заботиться о тех факторах, которые способствуют этому, а не только о самых грубых признаках этого в контексте вашей методологии. Но помните, что минимальный оптимальный набор признаков по определению зависит от вашего выбора классификатора. В примере ниже можно увеличить число слоев и, отвергнутые ранее признаки окажутся востребованными моделью.\n",
    "\n",
    "[Boruta Feature Selection](https://towardsdatascience.com/simple-example-using-boruta-feature-selection-in-python-8b96925d5d7a) "
   ]
  },
  {
   "cell_type": "markdown",
   "metadata": {},
   "source": [
    "## Boruta \n",
    "\n",
    "Простота применения: [boruta_py](https://github.com/scikit-learn-contrib/boruta_py)"
   ]
  },
  {
   "cell_type": "markdown",
   "metadata": {},
   "source": [
    "Попробуем \"раздуть\" наш датасет, добавив в него \"теневые признаки\" $-$ перемешанные реальные. Таким образом наш датасет точно будет содержать хорошие признаки (мы ничего не удаляем). "
   ]
  },
  {
   "cell_type": "markdown",
   "metadata": {},
   "source": [
    "<img src=\"http://edunet.kea.su/repo/src/L10_Explainability/img/pdd/boruta1.png\" alt=\"alttext\" width=600/>"
   ]
  },
  {
   "cell_type": "markdown",
   "metadata": {},
   "source": [
    "После этого обучаем модель и отбираем те признаки, которые по качеству лучше теневых. Успех? Не совсем, ведь перемешивание это случаный процесс. Надо повторить процедуру несколько раз для того чтобы удалить случайные скачки качества.\n",
    "\n",
    "Таким образом для каждого признака мы будем знать сколько раз мы его отобрали. Получаем распределение. Самая большая неопределенность будет в середине (вероятность отобрать = 0.5):"
   ]
  },
  {
   "cell_type": "markdown",
   "metadata": {},
   "source": [
    "<img src=\"http://edunet.kea.su/repo/src/L10_Explainability/img/pdd/boruta_bell.png\" alt=\"alttext\" width=700/>\n",
    "\n",
    "\n",
    "https://towardsdatascience.com/boruta-explained-the-way-i-wish-someone-explained-it-to-me-4489d70e154a"
   ]
  },
  {
   "cell_type": "markdown",
   "metadata": {},
   "source": [
    "Набор (в нашем случае из 20) испытаний Бернулли это биномиальное распределение. поступаем просто. Со значимостью допустим 0.05 берем все из хорошего хвоста и отбрасываем из плохого хвоста. С признаками из середины колокола ничего особо не сделаешь, увеличение числа итераций приведет к ужатию колокола но глобально не поможет.\n",
    "\n",
    "Если нам нужна хорошо интерпретируемая модель то надо брать только \"точно хорошие\" признаки. А если мы готовы поднабрать мусорных признаков то можем отбросить только плохой хвост.\n",
    "\n",
    "Классическая Борута работает с Gini Impurity, но есть и реализации с SHAP. В этом плане она универсальна. В принципе ее можно применять и для градиентного бустинга тоже."
   ]
  },
  {
   "cell_type": "code",
   "metadata": {},
   "source": [
    "!pip install boruta\n",
    "clear_output()"
   ],
   "execution_count": null,
   "outputs": []
  },
  {
   "cell_type": "markdown",
   "metadata": {},
   "source": [
    "Питоновская реализация Boruta соответствует  API sklearn и может использоваться как в конвейере, так и самостоятельно.\n",
    "\n",
    "[Boruta Feature Selection (an Example in Python)](https://towardsdatascience.com/simple-example-using-boruta-feature-selection-in-python-8b96925d5d7a)"
   ]
  },
  {
   "cell_type": "code",
   "metadata": {},
   "source": [
    "from sklearn.datasets import load_breast_cancer\n",
    "from sklearn import preprocessing\n",
    "import pandas as pd\n",
    "\n",
    "# load the data trainging set\n",
    "datasets = load_breast_cancer()\n",
    "X = pd.DataFrame(datasets['data'], columns = datasets['feature_names'])\n",
    "y = pd.Series(datasets['target'], name = 'target_values')\n",
    "X[:2]"
   ],
   "execution_count": null,
   "outputs": []
  },
  {
   "cell_type": "code",
   "metadata": {},
   "source": [
    "X.shape, type(X), y.shape, type(y)"
   ],
   "execution_count": null,
   "outputs": []
  },
  {
   "cell_type": "code",
   "metadata": {},
   "source": [
    "from sklearn.model_selection import train_test_split\n",
    "X_train, X_test, y_train, y_test = train_test_split(X, y, test_size=0.2, random_state=1)\n",
    "\n",
    "X_train = X_train.values\n",
    "X_test = X_test.values\n",
    "y_train = y_train.values\n",
    "y_test = y_test.values\n",
    "\n",
    "X_train.shape, X_test.shape, y_train.shape, y_test.shape, type(y_test)"
   ],
   "execution_count": null,
   "outputs": []
  },
  {
   "cell_type": "code",
   "metadata": {},
   "source": [
    "from sklearn.ensemble import RandomForestClassifier\n",
    "# define random forest classifier\n",
    "forest = RandomForestClassifier(n_jobs=-1, class_weight='balanced', max_depth=2,random_state = 49)\n",
    "forest.fit(X_train, y_train)\n",
    "\n",
    "from sklearn.metrics import classification_report, accuracy_score\n",
    "print(classification_report(y_test, forest.predict(X_test)))\n",
    "print(accuracy_score(y_test, forest.predict(X_test)))"
   ],
   "execution_count": null,
   "outputs": []
  },
  {
   "cell_type": "code",
   "metadata": {},
   "source": [
    "from boruta import BorutaPy\n",
    "\n",
    "# define Boruta feature selection method\n",
    "feat_selector = BorutaPy(forest, n_estimators='auto', verbose=2, random_state=49)\n",
    "\n",
    "# find all relevant features\n",
    "feat_selector.fit(X_train, y_train)\n",
    "\n",
    "# check selected features\n",
    "feat_selector.support_\n",
    "\n",
    "# check ranking of features\n",
    "feat_selector.ranking_\n",
    "\n",
    "# call transform() on X to filter it down to selected features\n",
    "X_filtered = feat_selector.transform(X_train)\n",
    "clear_output()"
   ],
   "execution_count": null,
   "outputs": []
  },
  {
   "cell_type": "code",
   "metadata": {},
   "source": [
    "# zip my names, ranks, and decisions in a single iterable\n",
    "feature_ranks = list(zip(datasets.feature_names, \n",
    "                         feat_selector.ranking_, \n",
    "                         feat_selector.support_))\n",
    "\n",
    "# iterate through and print out the results\n",
    "for feat in feature_ranks:\n",
    "    print('Feature: {:<25} Rank: {},  Keep: {}'.format(feat[0], feat[1], feat[2]))\n",
    "    if feat[2] == False: del X[feat[0]]\n",
    "\n",
    "X[:2]"
   ],
   "execution_count": null,
   "outputs": []
  },
  {
   "cell_type": "markdown",
   "metadata": {},
   "source": [
    "#### Обучение на признаках, отобранных Boruta\n",
    "Давайте проверим, можем ли мы добиться такого же результата, если проанализируем и уберем «лишние» данные?"
   ]
  },
  {
   "cell_type": "code",
   "metadata": {},
   "source": [
    "X_train, X_test, y_train, y_test = train_test_split(X, y, test_size=0.2, random_state=49)\n",
    "\n",
    "X_train = X_train.values\n",
    "X_test = X_test.values\n",
    "y_train = y_train.values\n",
    "y_test = y_test.values\n",
    "\n",
    "X_train.shape, X_test.shape, y_train.shape, y_test.shape, type(y_test)"
   ],
   "execution_count": null,
   "outputs": []
  },
  {
   "cell_type": "code",
   "metadata": {},
   "source": [
    "# define random forest classifier\n",
    "forest = RandomForestClassifier(n_jobs=-1, class_weight='balanced', max_depth=2,random_state = 49)\n",
    "forest.fit(X_train, y_train)\n",
    "\n",
    "print(classification_report(y_test, forest.predict(X_test)))\n",
    "print(accuracy_score(y_test, forest.predict(X_test)))"
   ],
   "execution_count": null,
   "outputs": []
  },
  {
   "cell_type": "markdown",
   "metadata": {},
   "source": [
    "Теперь, когда мы определили признаки, которые можно и нужно удалить, мы можем с уверенностью отказаться от них и продолжить обучение модели.\n",
    "\n",
    "Обратите внимание на скорость и эффективность работы алгоритма Boruta! Удалив всего 2 признака, мы повысили качество с 0.947 до 0.964 - более чем на 2%!"
   ]
  },
  {
   "cell_type": "markdown",
   "metadata": {},
   "source": [
    "# Примеры explanations для разных видов данных"
   ]
  },
  {
   "cell_type": "markdown",
   "metadata": {},
   "source": [
    "## Tabular examples"
   ]
  },
  {
   "cell_type": "markdown",
   "metadata": {},
   "source": [
    "Для примера скачаем датасет жилья Бостона (boston_dataset), в котором проанализируем зависимость цены на жилье от параметров жилья и района, в котором оно находится."
   ]
  },
  {
   "cell_type": "code",
   "metadata": {},
   "source": [
    "from sklearn.datasets import load_boston\n",
    "from sklearn.model_selection import train_test_split\n",
    "from sklearn.ensemble import RandomForestRegressor\n",
    "\n",
    "# load dataset\n",
    "boston_dataset = load_boston()\n",
    "X = pd.DataFrame(data=boston_dataset['data'], columns=boston_dataset['feature_names'])\n",
    "y = boston_dataset['target']\n",
    "\n",
    "# Split the data into train and test data\n",
    "X_train, X_test, y_train, y_test = train_test_split(X, y, test_size = 0.2)\n",
    "\n",
    "# Build the model with the random forest regression algorithm\n",
    "model = RandomForestRegressor(max_depth=6, random_state=49, n_estimators=10)\n",
    "model.fit(X_train, y_train)\n",
    "\n",
    "# explain the model's predictions using SHAP\n",
    "# (same syntax works for LightGBM, CatBoost, scikit-learn and spark models)\n",
    "explainer = shap.TreeExplainer(model)\n",
    "shap_values = explainer.shap_values(X_train)"
   ],
   "execution_count": null,
   "outputs": []
  },
  {
   "cell_type": "code",
   "metadata": {},
   "source": [
    "# Можно посмотреть детальное описание датасета\n",
    "print(boston_dataset.DESCR)\n",
    "print(shap_values)"
   ],
   "execution_count": null,
   "outputs": []
  },
  {
   "cell_type": "markdown",
   "metadata": {},
   "source": [
    "**Force plots** \n",
    "\n",
    "Хороший способ визуализировать вклад каждого фактора в конкретный прогноз — использовать график сил.\n",
    "\n",
    "В приведенном ниже примере показан график силы для 2-го случая в тестовом наборе данных."
   ]
  },
  {
   "cell_type": "code",
   "metadata": {},
   "source": [
    "# load JS visualization code to notebook\n",
    "shap.initjs()\n",
    "# visualize the first prediction’s explanation\n",
    "shap.force_plot(explainer.expected_value, shap_values[1,:], X.iloc[1,:])"
   ],
   "execution_count": null,
   "outputs": []
  },
  {
   "cell_type": "markdown",
   "metadata": {},
   "source": [
    "* f (x) или прогноз модели равен 20.51 по анализируемому обьекту недвижимости. А base_value - это средний прогноз по всему набору тестовых данных. Или, другими словами, это значение, которое можно было бы спрогнозировать, если бы мы не знали каких-либо характеристик текущего примера.\n",
    "\n",
    "* Элементы, которые способствуют увеличению цены, показаны красным, а те, которые уменьшают — синим.\n",
    "\n",
    "ПРИМЕР, может оказаться, что:\n",
    "* LSTAT (% lower status of the population) оказывает сильное положительное влияние на цену дома и подталкивает прогноз вправо.\n",
    "* Другими важными характеристиками, повышающими стоимость дома, являются НАЛОГИ и NOX (nitric oxides concentration (parts per 10 million)).\n",
    "* А вот RM (average number of rooms per dwelling) оказывает сильное негативное влияние на цену жилья, за ней следует DIS (weighted distances to five Boston employment centres)."
   ]
  },
  {
   "cell_type": "markdown",
   "metadata": {},
   "source": [
    "**Waterfall_plot**\n",
    "\n",
    "Другой способ понимания влияния факторов для конкретного примера:"
   ]
  },
  {
   "cell_type": "code",
   "metadata": {},
   "source": [
    "# visualize the first prediction's explanation using waterfall\n",
    "i = 1 # смотрим влияние факторов для 2го примера\n",
    "features = list(X.columns) # формируем список признаков\n",
    "class ShapObject:\n",
    "    def __init__(self, base_values, data, values, feature_names):\n",
    "        self.base_values = base_values # Single value\n",
    "        self.data = data # Raw feature values for 1 row of data\n",
    "        self.values = values # SHAP values for the same row of data\n",
    "        self.feature_names = feature_names # Column names\n",
    "        \n",
    "shap_object = ShapObject(base_values = explainer.expected_value[0],\n",
    "                         values = shap_values[i,:],\n",
    "                         feature_names = features,\n",
    "                         data = X[features].iloc[i,:])\n",
    "\n",
    "shap.waterfall_plot(shap_object)"
   ],
   "execution_count": null,
   "outputs": []
  },
  {
   "cell_type": "markdown",
   "metadata": {},
   "source": [
    "Этот график обьясняет движущие силы конкретного прогноза:\n",
    "\n",
    "Влияние каждой отдельной функции (менее значимые функции объединяются в одну группу) представлено стрелками, которые перемещают логарифмическое отношение шансов влево и вправо, начиная с базового значения.\n",
    "\n",
    "---"
   ]
  },
  {
   "cell_type": "markdown",
   "metadata": {},
   "source": [
    "Приведенный выше пример приведен только для одного случая.\n",
    "\n",
    "Если мы возьмем много пояснений Force plots, повернем их на 90 градусов, а затем сложим их по горизонтали, мы сможем увидеть объяснения для всего набора данных (в notebook этот график является интерактивным):"
   ]
  },
  {
   "cell_type": "code",
   "metadata": {},
   "source": [
    "# load JS visualization code to notebook\n",
    "shap.initjs()\n",
    "# visualize the training set predictions\n",
    "shap.force_plot(explainer.expected_value, shap_values, X)"
   ],
   "execution_count": null,
   "outputs": []
  },
  {
   "cell_type": "code",
   "metadata": {},
   "source": [
    "import seaborn as sns\n",
    "import pandas as pd\n",
    "\n",
    "df = pd.DataFrame(shap_values, columns=X.columns)\n",
    "sns.clustermap(df)"
   ],
   "execution_count": null,
   "outputs": []
  },
  {
   "cell_type": "markdown",
   "metadata": {},
   "source": [
    "**Summary plot**\n",
    "\n",
    "Сводный график с plot_type = 'bar' даст нам график важности переменной.\n",
    "\n",
    "Функции с высокой предсказательной способностью показаны вверху, а с низкой предсказательной силой — внизу."
   ]
  },
  {
   "cell_type": "code",
   "metadata": {},
   "source": [
    "shap.summary_plot(shap_values, X_train, plot_type='bar')"
   ],
   "execution_count": null,
   "outputs": []
  },
  {
   "cell_type": "markdown",
   "metadata": {},
   "source": [
    "Здесь мы только что рассмотрели алгоритм TreeExplainer для интерпретации модели.\n",
    "\n",
    "Вы можете изучить остальные алгоритмы — DeepExplainer, kernelExplainer, LinearExplainer и GradientExplainer."
   ]
  },
  {
   "cell_type": "markdown",
   "metadata": {},
   "source": [
    "## NLP: Пример абстрактного обобщения текста \n",
    "\n",
    "потребуется время"
   ]
  },
  {
   "cell_type": "markdown",
   "metadata": {},
   "source": [
    "https://shap.readthedocs.io/en/latest/example_notebooks/api_examples/plots/text.html"
   ]
  },
  {
   "cell_type": "markdown",
   "metadata": {},
   "source": [
    "В этом примере интерпретируется модель генерации объяснений для предварительно обученной модели для составления краткого резюме статьи.\n",
    "\n",
    "Используется датасет Extreme Summarization [XSum](https://huggingface.co/sshleifer/distilbart-xsum-12-6)"
   ]
  },
  {
   "cell_type": "code",
   "metadata": {},
   "source": [
    "!pip install datasets\n",
    "clear_output()"
   ],
   "execution_count": null,
   "outputs": []
  },
  {
   "cell_type": "code",
   "metadata": {},
   "source": [
    "import shap\n",
    "from datasets import load_dataset\n",
    "from transformers import AutoTokenizer, AutoModelForSeq2SeqLM\n",
    "tokenizer = AutoTokenizer.from_pretrained(\"sshleifer/distilbart-xsum-12-6\")\n",
    "model =  AutoModelForSeq2SeqLM.from_pretrained(\"sshleifer/distilbart-xsum-12-6\").to(device) \n",
    "\n",
    " \n",
    "dataset = load_dataset('xsum', split='train') # загружаем датасет\n",
    "s = dataset['document'][0:1]                 # slice inputs from dataset to run model inference on\n",
    "explainer = shap.Explainer(model, tokenizer)  # create an explainer object\n",
    "explanation = explainer(s)                   # Compute shap values\n",
    "clear_output()"
   ],
   "execution_count": null,
   "outputs": []
  },
  {
   "cell_type": "code",
   "metadata": {},
   "source": [
    "shap.initjs()"
   ],
   "execution_count": null,
   "outputs": []
  },
  {
   "cell_type": "code",
   "metadata": {},
   "source": [
    "shap.plots.text(explanation)                 # Visualize shap explanations"
   ],
   "execution_count": null,
   "outputs": []
  },
  {
   "cell_type": "markdown",
   "metadata": {},
   "source": [
    "## Изображения"
   ]
  },
  {
   "cell_type": "markdown",
   "metadata": {},
   "source": [
    "### LIME\n",
    "[Local Interpretable Model-Agnostic Explanations (LIME): An Introduction](https://www.oreilly.com/content/introduction-to-local-interpretable-model-agnostic-explanations-lime/)\n",
    "\n",
    "[Using Lime with Pytorch](https://github.com/marcotcr/lime/blob/master/doc/notebooks/Tutorial%20-%20images%20-%20Pytorch.ipynb)"
   ]
  },
  {
   "cell_type": "markdown",
   "metadata": {},
   "source": [
    "\n",
    "<img src=\"http://edunet.kea.su/repo/src/L10_Explainability/img/7_Google_Inception_neural_network.png\" alt=\"alttext\" width=750/>"
   ]
  },
  {
   "cell_type": "markdown",
   "metadata": {},
   "source": [
    "Давайте разберемся, как работает такое эффектное представление областей, по которым нейронная сеть осуществляет предсказание класса.\n",
    "\n",
    "На рисунке ниже показан пример того, как LIME работает для классификации изображений.\n",
    "\n",
    "Представьте, что мы хотим объяснить классификатор, который предсказывает, насколько вероятно, что изображение содержит древесную лягушку.\n",
    "\n",
    "Мы берем изображение слева и делим его на интерпретируемые компоненты (смежные суперпиксели)."
   ]
  },
  {
   "cell_type": "markdown",
   "metadata": {},
   "source": [
    "<img src=\"http://edunet.kea.su/repo/src/L10_Explainability/img/l10_figure3.jpg\" alt=\"alttext\" width=350/>"
   ]
  },
  {
   "cell_type": "markdown",
   "metadata": {},
   "source": [
    "Далее мы отключаем некоторые из интерпретируемых компонентов.\n",
    "\n",
    "Для каждой такой картинки мы получаем вероятность того, что на изображении есть древесная лягушка, согласно модели.\n",
    "\n",
    "Затем мы изучаем простую (линейную) модель на этом наборе данных, которая имеет локальный вес и анализируем ошибки в измененных экземплярах, которые больше похожи на исходное изображение.\n",
    "\n",
    "В конце концов, мы представляем суперпиксели с наивысшими положительными весами в качестве объяснения, убирая все остальное.\n",
    "\n",
    "<img src=\"http://edunet.kea.su/repo/src/L10_Explainability/img/l10_figure4.jpg\" alt=\"alttext\" width=650/>"
   ]
  },
  {
   "cell_type": "markdown",
   "metadata": {},
   "source": [
    "Давайте объясним нейронную сеть Google Inception. Посмотрим, почему ее классификатор предсказывает «древесную лягушку» как наиболее вероятный класс, за которым следуют «бильярдный стол» и «воздушный шар» с более низкими вероятностями.\n",
    "\n",
    "Мы видим, что классификатор в первую очередь фокусируется на морде лягушки как на объяснении предсказанного класса.\n",
    "\n",
    "Это также проливает свет на то, почему «бильярдный стол» имеет ненулевую вероятность: руки и глаза лягушки напоминают бильярдные шары, особенно на зеленом фоне. Точно так же сердце похоже на красный воздушный шар.\n",
    "\n",
    "\n",
    "<img src=\"http://edunet.kea.su/repo/src/L10_Explainability/img/l10_figure6.jpg\" alt=\"alttext\" width=650/>"
   ]
  },
  {
   "cell_type": "code",
   "metadata": {},
   "source": [
    "import matplotlib.pyplot as plt\n",
    "from PIL import Image\n",
    "import torch.nn as nn\n",
    "#import numpy as np\n",
    "import os, json\n",
    "\n",
    "#import torch\n",
    "from torchvision import models, transforms\n",
    "from torch.autograd import Variable\n",
    "import torch.nn.functional as F"
   ],
   "execution_count": null,
   "outputs": []
  },
  {
   "cell_type": "code",
   "metadata": {},
   "source": [
    "!wget --no-check-certificate 'http://edunet.kea.su/repo/src/L10_Explainability/data/dogs.png' -O dogs.png\n",
    "!wget --no-check-certificate 'http://edunet.kea.su/repo/src/L10_Explainability/data/cat_dog_5.jpg' -O cat_dog_5.jpg\n",
    "!wget --no-check-certificate 'http://edunet.kea.su/repo/src/L10_Explainability/data/imagenet_class_index.json' -O imagenet_class_index.json\n",
    "clear_output()"
   ],
   "execution_count": null,
   "outputs": []
  },
  {
   "cell_type": "code",
   "metadata": {},
   "source": [
    "def get_image(path):\n",
    "    with open(os.path.abspath(path), 'rb') as f:\n",
    "        with Image.open(f) as img:\n",
    "            return img.convert('RGB') \n",
    "        \n",
    "img = get_image('cat_dog_5.jpg')\n",
    "plt.imshow(img)"
   ],
   "execution_count": null,
   "outputs": []
  },
  {
   "cell_type": "code",
   "metadata": {},
   "source": [
    "img2 = get_image('dogs.png')\n",
    "plt.imshow(img2)"
   ],
   "execution_count": null,
   "outputs": []
  },
  {
   "cell_type": "markdown",
   "metadata": {},
   "source": [
    "Теперь нам нужно преобразовать это изображение в тензор Pytorch, а также его нормализовать для использорвания в нашей предварительно обученной модели."
   ]
  },
  {
   "cell_type": "code",
   "metadata": {},
   "source": [
    "# resize and take the center part of image to what our model expects\n",
    "def get_input_transform():\n",
    "    normalize = transforms.Normalize(mean=[0.485, 0.456, 0.406],\n",
    "                                    std=[0.229, 0.224, 0.225])       \n",
    "    transf = transforms.Compose([\n",
    "        transforms.Resize((224, 224)),\n",
    "        transforms.ToTensor(),\n",
    "        normalize])    \n",
    "    return transf\n",
    "\n",
    "def get_input_tensors(img):\n",
    "    transf = get_input_transform()\n",
    "    # unsqeeze converts single image to batch of 1\n",
    "    return transf(img).unsqueeze(0)"
   ],
   "execution_count": null,
   "outputs": []
  },
  {
   "cell_type": "markdown",
   "metadata": {},
   "source": [
    "\n",
    "Загрузим предобученную модель Resnet50, доступную в Pytorch и классы изобрражений из ImageNet."
   ]
  },
  {
   "cell_type": "code",
   "metadata": {},
   "source": [
    "model = models.resnet50(pretrained=True)\n",
    "\n",
    "idx2label, cls2label, cls2idx = [], {}, {}\n",
    "with open(os.path.abspath('/content/imagenet_class_index.json'), 'r') as read_file:\n",
    "    class_idx = json.load(read_file)\n",
    "    idx2label = [class_idx[str(k)][1] for k in range(len(class_idx))]\n",
    "    cls2label = {class_idx[str(k)][0]: class_idx[str(k)][1] for k in range(len(class_idx))}\n",
    "    cls2idx = {class_idx[str(k)][0]: k for k in range(len(class_idx))}"
   ],
   "execution_count": null,
   "outputs": []
  },
  {
   "cell_type": "markdown",
   "metadata": {},
   "source": [
    "Получим предикт. А после этого полученные нами прогнозы — логиты, пропустим это через softmax, чтобы получить вероятности и метки классов для 5 лучших прогнозов."
   ]
  },
  {
   "cell_type": "code",
   "metadata": {},
   "source": [
    "img_t = get_input_tensors(img)\n",
    "model.eval()\n",
    "logits = model(img_t)\n",
    "\n",
    "probs = F.softmax(logits, dim=1)\n",
    "probs5 = probs.topk(5)\n",
    "tuple((p,c, idx2label[c]) for p, c in zip(probs5[0][0].detach().numpy(), probs5[1][0].detach().numpy()))"
   ],
   "execution_count": null,
   "outputs": []
  },
  {
   "cell_type": "markdown",
   "metadata": {},
   "source": [
    "Lime производит массив изображений из исходного входного изображения с помощью алгоритма пертубации.\n",
    "\n",
    "Таким образом, нам нужно предоставить две вещи:\n",
    "1. Исходное изображение в виде массива numpy\n",
    "2. Функцию классификации, которая будет принимать массив искаженных изображений в качестве входных данных и генерировать вероятности для каждого класса для каждого изображения в качестве выходных.\n",
    "\n",
    "Для Pytorch сначала нам нужно определить два отдельных преобразования:\n",
    "1. Взять изображение PIL, изменить его размер и обрезать\n",
    "2. Взять обрезанное изображение с измененным размером и применить нормализацию."
   ]
  },
  {
   "cell_type": "code",
   "metadata": {},
   "source": [
    "def get_pil_transform(): \n",
    "    transf = transforms.Compose([\n",
    "        transforms.Resize((256, 256)),\n",
    "        transforms.CenterCrop(224)])    \n",
    "    return transf\n",
    "\n",
    "def get_preprocess_transform():\n",
    "    normalize = transforms.Normalize(mean=[0.485, 0.456, 0.406],\n",
    "                                    std=[0.229, 0.224, 0.225])     \n",
    "    transf = transforms.Compose([\n",
    "        transforms.ToTensor(),\n",
    "        normalize])    \n",
    "    return transf    \n",
    "\n",
    "pill_transf = get_pil_transform()\n",
    "preprocess_transform = get_preprocess_transform()\n",
    "\n",
    "def batch_predict(images):\n",
    "    model.eval()\n",
    "    batch = torch.stack(tuple(preprocess_transform(i) for i in images), dim=0)\n",
    "\n",
    "    device = torch.device(\"cuda\" if torch.cuda.is_available() else \"cpu\")\n",
    "    model.to(device)\n",
    "    batch = batch.to(device)\n",
    "    \n",
    "    logits = model(batch)\n",
    "    probs = F.softmax(logits, dim=1)\n",
    "    return probs.detach().cpu().numpy()"
   ],
   "execution_count": null,
   "outputs": []
  },
  {
   "cell_type": "markdown",
   "metadata": {},
   "source": [
    "Применим LIME"
   ]
  },
  {
   "cell_type": "code",
   "metadata": {},
   "source": [
    "from lime import lime_image\n",
    "explainer = lime_image.LimeImageExplainer(random_state= 49)\n",
    "explanation = explainer.explain_instance(np.array(pill_transf(img)), \n",
    "                                         batch_predict, # classification function\n",
    "                                         top_labels=5, \n",
    "                                         hide_color=0, \n",
    "                                         num_samples=1000,  # number of images that will be sent to classification function\n",
    "                                         random_seed = 49)"
   ],
   "execution_count": null,
   "outputs": []
  },
  {
   "cell_type": "markdown",
   "metadata": {},
   "source": [
    "Воспользуемся маской на изображении и посмотрим области, которые дают лучший прогноз."
   ]
  },
  {
   "cell_type": "markdown",
   "metadata": {},
   "source": [
    "Обозначим зеленым цветом область наивысшего прогноза и оранжевым — области, которые меньше всего соответствуют нашему прогнозу."
   ]
  },
  {
   "cell_type": "markdown",
   "metadata": {},
   "source": [
    "Интересно, что именно нос влияет на отнесение к классу собаки в данном примере."
   ]
  },
  {
   "cell_type": "code",
   "metadata": {},
   "source": [
    "from skimage.segmentation import mark_boundaries\n",
    "temp, mask = explanation.get_image_and_mask(explanation.top_labels[1], positive_only=False, num_features=5, hide_rest=False)\n",
    "img_boundry2 = mark_boundaries(temp/255.0, mask)\n",
    "plt.imshow(img_boundry2)\n",
    "# Обратите внимание на:\n",
    "# кошка: top_labels[1], собака: top_labels[0]\n",
    "# количество кластеров, которые нужно показать на рисунке: num_features=3\n",
    "# показать или нет отрицательно влияющие кластеры: positive_only=False"
   ],
   "execution_count": null,
   "outputs": []
  },
  {
   "cell_type": "markdown",
   "metadata": {},
   "source": [
    "И другое изображение:"
   ]
  },
  {
   "cell_type": "code",
   "metadata": {},
   "source": [
    "img = get_image('dogs.png')\n",
    "#plt.imshow(img)\n",
    "\n",
    "model = models.resnet50(pretrained=True)\n",
    "\n",
    "idx2label, cls2label, cls2idx = [], {}, {}\n",
    "with open(os.path.abspath('/content/imagenet_class_index.json'), 'r') as read_file:\n",
    "    class_idx = json.load(read_file)\n",
    "    idx2label = [class_idx[str(k)][1] for k in range(len(class_idx))]\n",
    "    cls2label = {class_idx[str(k)][0]: class_idx[str(k)][1] for k in range(len(class_idx))}\n",
    "    cls2idx = {class_idx[str(k)][0]: k for k in range(len(class_idx))}\n",
    "\n",
    "img_t = get_input_tensors(img)\n",
    "model.eval()\n",
    "logits = model(img_t)\n",
    "\n",
    "probs = F.softmax(logits, dim=1)\n",
    "probs5 = probs.topk(5)\n",
    "tuple((p,c, idx2label[c]) for p, c in zip(probs5[0][0].detach().numpy(), probs5[1][0].detach().numpy()))"
   ],
   "execution_count": null,
   "outputs": []
  },
  {
   "cell_type": "code",
   "metadata": {},
   "source": [
    "pill_transf = get_pil_transform()\n",
    "preprocess_transform = get_preprocess_transform()\n",
    "\n",
    "explainer = lime_image.LimeImageExplainer()\n",
    "explanation = explainer.explain_instance(np.array(pill_transf(img)), \n",
    "                                         batch_predict, # classification function\n",
    "                                         top_labels=5, \n",
    "                                         hide_color=0, \n",
    "                                         num_samples=1000) # number of images that will be sent to classification function"
   ],
   "execution_count": null,
   "outputs": []
  },
  {
   "cell_type": "code",
   "metadata": {},
   "source": [
    "temp, mask = explanation.get_image_and_mask(explanation.top_labels[1], positive_only=False, num_features=2, hide_rest=False)\n",
    "img_boundry2 = mark_boundaries(temp/255.0, mask)\n",
    "plt.imshow(img_boundry2)"
   ],
   "execution_count": null,
   "outputs": []
  },
  {
   "cell_type": "markdown",
   "metadata": {},
   "source": [
    "В то время как большинство методов, описанных в первом сообщении блога, являются глобальными методами, LIME — это метод, имеющий локальную область применения.\n",
    "\n",
    "Таким образом, LIME позволяет нам объяснить конкретные прогнозы любого классификатора.\n",
    "\n",
    "Структура LIME является гибкой в ​​том смысле, что любую интерпретируемую модель можно использовать для объяснения прогнозов.\n",
    "\n",
    "Кроме того, концепция интерпретируемых компонентов позволяет применять LIME для обьяснения данных большой размерности, таких как классификация изображений или текста."
   ]
  },
  {
   "cell_type": "markdown",
   "metadata": {},
   "source": [
    "### SHAP Partition Explainer\n",
    "\n",
    "[Explain ResNet50 on ImageNet multi-class output using SHAP Partition Explainer](https://github.com/slundberg/shap/blob/master/notebooks/image_examples/image_classification/Image%20Multi%20Class.ipynb)"
   ]
  },
  {
   "cell_type": "code",
   "metadata": {},
   "source": [
    "#!pip install opencv-python\n",
    "#!conda install opencv\n",
    "#clear_output()"
   ],
   "execution_count": null,
   "outputs": []
  },
  {
   "cell_type": "code",
   "metadata": {},
   "source": [
    "#import json\n",
    "import tensorflow as tf\n",
    "from tensorflow.keras.applications.resnet50 import ResNet50, preprocess_input"
   ],
   "execution_count": null,
   "outputs": []
  },
  {
   "cell_type": "code",
   "metadata": {},
   "source": [
    "# load pre-trained model and data\n",
    "model = ResNet50(weights='imagenet')\n",
    "X, y = shap.datasets.imagenet50()"
   ],
   "execution_count": null,
   "outputs": []
  },
  {
   "cell_type": "code",
   "metadata": {},
   "source": [
    "import shap\n",
    "import json\n",
    "\n",
    "# getting ImageNet 1000 class names\n",
    "url = \"http://edunet.kea.su/repo/src/L10_Explainability/data/imagenet_class_index.json\"\n",
    "with open(shap.datasets.cache(url)) as file:\n",
    "    class_names = [v[1] for v in json.load(file).values()]\n",
    "#print(\"Number of ImageNet classes:\", len(class_names))\n",
    "#print(\"Class names:\", class_names)"
   ],
   "execution_count": null,
   "outputs": []
  },
  {
   "cell_type": "code",
   "metadata": {},
   "source": [
    "# python function to get model output; replace this function with your own model function. \n",
    "def f(x):\n",
    "    tmp = x.copy()\n",
    "    preprocess_input(tmp)\n",
    "    return model(tmp)\n",
    "\n",
    "# define a masker that is used to mask out partitions of the input image. \n",
    "masker = shap.maskers.Image(\"inpaint_telea\", X[0].shape)\n",
    "\n",
    "# create an explainer with model and image masker \n",
    "explainer = shap.Explainer(f, masker, output_names=class_names)\n",
    "\n",
    "# here we explain two images using 500 evaluations of the underlying model to estimate the SHAP values\n",
    "explanation = explainer(X[1:3], max_evals=300, batch_size=50, outputs=shap.Explanation.argsort.flip[:4])"
   ],
   "execution_count": null,
   "outputs": []
  },
  {
   "cell_type": "code",
   "metadata": {},
   "source": [
    "explainer"
   ],
   "execution_count": null,
   "outputs": []
  },
  {
   "cell_type": "code",
   "metadata": {},
   "source": [
    "# output with shap values\n",
    "shap.image_plot(explanation )"
   ],
   "execution_count": null,
   "outputs": []
  },
  {
   "cell_type": "markdown",
   "metadata": {},
   "source": [
    "Интерпретация объяснения вывода SHAP:\n",
    "\n",
    "В первом примере данное изображение птицы классифицируется как американская цапля, а следующие вероятные классы — это журавль, цапля и фламинго. «Шишка» на шее птицы, по которой она классифицируется, как американская цапля против журавля, цапли или фламинго. Вы можете увидеть область шеи птицы, выделенную красным суперпикселем.\n",
    "\n",
    "Во втором примере именно форма лодки позволяет классифицировать ее как быстроходный катер, а не как фонтан, спасательную шлюпку или снегоочиститель (выделено красным суперпикселями).\n",
    "\n",
    "В наборе ImageNet есть множество изображений и вы сможете самостоятельно поэкспериментировать, меняя номера изображений в коде: shap_values = explainer(X[1:10]... и управляя качеством обучения с помощью ..max_evals=1000, batch_size=50.."
   ]
  },
  {
   "cell_type": "markdown",
   "metadata": {},
   "source": [
    "**Здесь мы работали почти как в LIME (делили и затеняли маленькие кусочки изображения), но SHAP может работать и с градиентами сети, используя все возможности нейронной сети. На эту тему у Вас будет одно из домашних заданий.**"
   ]
  },
  {
   "cell_type": "markdown",
   "metadata": {},
   "source": [
    "# 3. Список литературы"
   ]
  },
  {
   "cell_type": "markdown",
   "metadata": {},
   "source": [
    "### Статьи\n",
    "\n",
    "[How to Interpret Machine Learning Models with SHAP](https://www.youtube.com/watch?v=ylytZegK--I)\n",
    "\n",
    "[Бесплатный курс от Kaggle: Machine Learning Explainability](https://www.kaggle.com/learn/machine-learning-explainability)\n",
    "\n",
    "[EXPLAINABLE AI IN CREDIT RISK MANAGEMENT](https://arxiv.org/pdf/2103.00949v1.pdf)\n",
    "\n",
    "[Predicting Driver Fatigue in Automated Driving with Explainability](https://arxiv.org/pdf/2103.02162v1.pdf)\n",
    "\n",
    "[Fooling LIME and SHAP: Adversarial Attacks on Post hoc Explanation Methods](https://arxiv.org/pdf/1911.02508v2.pdf)\n",
    "\n",
    "### SHAP\n",
    "[Welcome to the SHAP documentation](https://shap.readthedocs.io/en/stable/index.html)\n",
    "\n",
    "[Git](https://github.com/slundberg/shap)\n",
    "\n",
    "[A Unified Approach to Interpreting Model Predictions](https://arxiv.org/pdf/1705.07874v2.pdf)\n",
    "\n",
    "[SHAP (SHapley Additive exPlanations)](https://christophm.github.io/interpretable-ml-book/shap.html)\n",
    "\n",
    "### LIME\n",
    "\n",
    "[“Why Should I Trust You?” Explaining the Predictions of Any Classifier](https://arxiv.org/pdf/1602.04938.pdf)\n",
    "\n",
    "[What does LIME really see in images?](https://arxiv.org/pdf/2102.06307v1.pdf)\n",
    "\n",
    "[Git](https://github.com/marcotcr/lime)\n",
    "\n",
    "### BORUTA\n",
    "[Feature Selection with the Boruta Package](https://www.jstatsoft.org/index.php/jss/article/view/v036i11/v36i11.pdf)\n",
    "\n",
    "[Boruta Explained Exactly How You Wished Someone Explained to You](https://towardsdatascience.com/boruta-explained-the-way-i-wish-someone-explained-it-to-me-4489d70e154a)"
   ]
  },
  {
   "cell_type": "markdown",
   "metadata": {},
   "source": [
    "# 4. Заключение:\n",
    "---\n",
    "* В ходе урока мы убедились в важнности интерпретации работы моделей Искусственного Интеллекта.\n",
    "* Рассмотрели основные библиотеки, которые используются для интерпретирования: SHAP и LIME. А также библиотеку BORUTA, которая позволяет проводить анализ влияния признаков датасета на качество обучения. И дает рекомендации по исключению тех, которые влияют на результата отрицательно.\n",
    "* Рассмотрели применение бибилиотек на примерах:\n",
    "    - Табличные данные\n",
    "    - NLP (машинный перевод текста, создание резюме статьи и классификации текстов)\n",
    "    - CV\n",
    "\n",
    "Пренебрежение обьяснением того, почему модель дала тот или иной результат, ведет к недоверию не только к самой модели, но и к конкретным прогнозам. А, следовательно, является существенным препятствием для дальнейшего введения Вашей идеи в production.\n",
    "\n",
    "**Помните об этом!**\n",
    "----\n",
    "Давайте быстро обсудим, как можно применить идеи этого урока к Вашим работам?"
   ]
  }
 ],
 "nbformat": 4,
 "nbformat_minor": 0,
 "metadata": {}
}
